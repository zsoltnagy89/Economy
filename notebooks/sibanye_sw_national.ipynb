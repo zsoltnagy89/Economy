{
 "cells": [
  {
   "cell_type": "code",
   "execution_count": null,
   "id": "99868504",
   "metadata": {
    "execution": {
     "iopub.execute_input": "2024-08-03T15:48:44.155719Z",
     "iopub.status.busy": "2024-08-03T15:48:44.155150Z",
     "iopub.status.idle": "2024-08-03T15:48:44.889111Z",
     "shell.execute_reply": "2024-08-03T15:48:44.888830Z"
    },
    "papermill": {
     "duration": 0.759083,
     "end_time": "2024-08-03T15:48:44.890159",
     "exception": false,
     "start_time": "2024-08-03T15:48:44.131076",
     "status": "completed"
    },
    "tags": []
   },
   "outputs": [],
   "source": [
    "import pandas as pd\n",
    "import matplotlib.pyplot as plt\n",
    "import numpy as np\n",
    "\n",
    "import yfinance as yf\n",
    "import datetime\n",
    "\n",
    "from valueinvesting import utils as utils"
   ]
  },
  {
   "cell_type": "markdown",
   "id": "a2ef3acb",
   "metadata": {
    "papermill": {
     "duration": 0.008456,
     "end_time": "2024-08-03T15:48:44.909089",
     "exception": false,
     "start_time": "2024-08-03T15:48:44.900633",
     "status": "completed"
    },
    "tags": []
   },
   "source": [
    "# 1. Load raw input\n",
    "## Hardcoded block"
   ]
  },
  {
   "cell_type": "code",
   "execution_count": null,
   "id": "46250fe1",
   "metadata": {
    "execution": {
     "iopub.execute_input": "2024-08-03T15:48:44.927199Z",
     "iopub.status.busy": "2024-08-03T15:48:44.927004Z",
     "iopub.status.idle": "2024-08-03T15:48:44.929029Z",
     "shell.execute_reply": "2024-08-03T15:48:44.928750Z"
    },
    "papermill": {
     "duration": 0.012412,
     "end_time": "2024-08-03T15:48:44.930020",
     "exception": false,
     "start_time": "2024-08-03T15:48:44.917608",
     "status": "completed"
    },
    "tags": []
   },
   "outputs": [],
   "source": [
    "evaluate_last_X_years = True\n",
    "X=10\n",
    "currency_pair = 'USD=X'\n",
    "numbers_in_currency = 'USD'\n",
    "share_name = 'SBSW'"
   ]
  },
  {
   "cell_type": "markdown",
   "id": "dcc12f8e",
   "metadata": {
    "papermill": {
     "duration": 0.008413,
     "end_time": "2024-08-03T15:48:44.947210",
     "exception": false,
     "start_time": "2024-08-03T15:48:44.938797",
     "status": "completed"
    },
    "tags": []
   },
   "source": [
    "# 1.1 Calculate Share numbers from total distributed dividend (CFS) and dividend amount"
   ]
  },
  {
   "cell_type": "markdown",
   "id": "6afccc41",
   "metadata": {
    "papermill": {
     "duration": 0.00524,
     "end_time": "2024-08-03T15:48:44.957862",
     "exception": false,
     "start_time": "2024-08-03T15:48:44.952622",
     "status": "completed"
    },
    "tags": []
   },
   "source": [
    "# 1.2. Raw input statement data"
   ]
  },
  {
   "cell_type": "code",
   "execution_count": null,
   "id": "45550beb",
   "metadata": {
    "execution": {
     "iopub.execute_input": "2024-08-03T15:48:44.972343Z",
     "iopub.status.busy": "2024-08-03T15:48:44.972193Z",
     "iopub.status.idle": "2024-08-03T15:48:44.978755Z",
     "shell.execute_reply": "2024-08-03T15:48:44.978491Z"
    },
    "papermill": {
     "duration": 0.013706,
     "end_time": "2024-08-03T15:48:44.979636",
     "exception": false,
     "start_time": "2024-08-03T15:48:44.965930",
     "status": "completed"
    },
    "tags": []
   },
   "outputs": [],
   "source": [
    "route = f\"../data/input/{share_name}_data.csv\"\n",
    "data = pd.read_csv(route, sep=';', parse_dates=['date', 'real_date'])\n",
    "# replace -, extend missing 0-s, fix datatype\n",
    "data = utils.replace_format_input(data)"
   ]
  },
  {
   "cell_type": "code",
   "execution_count": null,
   "id": "dc43596b",
   "metadata": {
    "execution": {
     "iopub.execute_input": "2024-08-03T15:48:44.998386Z",
     "iopub.status.busy": "2024-08-03T15:48:44.998233Z",
     "iopub.status.idle": "2024-08-03T15:48:45.002883Z",
     "shell.execute_reply": "2024-08-03T15:48:45.002510Z"
    },
    "papermill": {
     "duration": 0.014559,
     "end_time": "2024-08-03T15:48:45.003985",
     "exception": false,
     "start_time": "2024-08-03T15:48:44.989426",
     "status": "completed"
    },
    "tags": []
   },
   "outputs": [],
   "source": [
    "owned_shares = pd.read_csv('../data/extras/owned_stocks.csv', sep=';', parse_dates=['date'])\n",
    "owned_shares = owned_shares.loc[(owned_shares['stock'] == share_name) & (owned_shares['active'] == 'yes')]"
   ]
  },
  {
   "cell_type": "markdown",
   "id": "60bf1c0f",
   "metadata": {
    "papermill": {
     "duration": 0.006132,
     "end_time": "2024-08-03T15:48:45.019688",
     "exception": false,
     "start_time": "2024-08-03T15:48:45.013556",
     "status": "completed"
    },
    "tags": []
   },
   "source": [
    "## (OPTIONAL) Time Filtering - Last 7 years daat"
   ]
  },
  {
   "cell_type": "code",
   "execution_count": null,
   "id": "92197c1b",
   "metadata": {
    "execution": {
     "iopub.execute_input": "2024-08-03T15:48:45.034180Z",
     "iopub.status.busy": "2024-08-03T15:48:45.033948Z",
     "iopub.status.idle": "2024-08-03T15:48:45.043045Z",
     "shell.execute_reply": "2024-08-03T15:48:45.042807Z"
    },
    "papermill": {
     "duration": 0.018887,
     "end_time": "2024-08-03T15:48:45.043846",
     "exception": false,
     "start_time": "2024-08-03T15:48:45.024959",
     "status": "completed"
    },
    "tags": []
   },
   "outputs": [],
   "source": [
    "if evaluate_last_X_years:\n",
    "    data = data[data['date'] > datetime.datetime.today() - datetime.timedelta(days=X*366+93)]\n",
    "    data = data.reset_index(drop=True)\n",
    "\n",
    "data.head()"
   ]
  },
  {
   "cell_type": "markdown",
   "id": "a2489838",
   "metadata": {
    "papermill": {
     "duration": 0.008407,
     "end_time": "2024-08-03T15:48:45.062810",
     "exception": false,
     "start_time": "2024-08-03T15:48:45.054403",
     "status": "completed"
    },
    "tags": []
   },
   "source": [
    "## Calculate date when quaterly reports could be available"
   ]
  },
  {
   "cell_type": "code",
   "execution_count": null,
   "id": "3b901cd1",
   "metadata": {
    "execution": {
     "iopub.execute_input": "2024-08-03T15:48:45.079124Z",
     "iopub.status.busy": "2024-08-03T15:48:45.078975Z",
     "iopub.status.idle": "2024-08-03T15:48:45.080918Z",
     "shell.execute_reply": "2024-08-03T15:48:45.080623Z"
    },
    "papermill": {
     "duration": 0.009398,
     "end_time": "2024-08-03T15:48:45.081856",
     "exception": false,
     "start_time": "2024-08-03T15:48:45.072458",
     "status": "completed"
    },
    "tags": []
   },
   "outputs": [],
   "source": [
    "data = utils.calculate_real_date(data)"
   ]
  },
  {
   "cell_type": "markdown",
   "id": "c7a588e7",
   "metadata": {
    "papermill": {
     "duration": 0.005423,
     "end_time": "2024-08-03T15:48:45.092841",
     "exception": false,
     "start_time": "2024-08-03T15:48:45.087418",
     "status": "completed"
    },
    "tags": []
   },
   "source": [
    "# 2. Filter out unnecesary columns"
   ]
  },
  {
   "cell_type": "code",
   "execution_count": null,
   "id": "571d6d7c",
   "metadata": {
    "execution": {
     "iopub.execute_input": "2024-08-03T15:48:45.104274Z",
     "iopub.status.busy": "2024-08-03T15:48:45.104130Z",
     "iopub.status.idle": "2024-08-03T15:48:45.110236Z",
     "shell.execute_reply": "2024-08-03T15:48:45.109966Z"
    },
    "papermill": {
     "duration": 0.013194,
     "end_time": "2024-08-03T15:48:45.111163",
     "exception": false,
     "start_time": "2024-08-03T15:48:45.097969",
     "status": "completed"
    },
    "tags": []
   },
   "outputs": [],
   "source": [
    "data = utils.filter_raw_data(data)\n",
    "data.tail()"
   ]
  },
  {
   "cell_type": "markdown",
   "id": "e13a19c5",
   "metadata": {
    "papermill": {
     "duration": 0.00554,
     "end_time": "2024-08-03T15:48:45.122757",
     "exception": false,
     "start_time": "2024-08-03T15:48:45.117217",
     "status": "completed"
    },
    "tags": []
   },
   "source": [
    "## Pull historical average USD national currency rates and add to the dataframe"
   ]
  },
  {
   "cell_type": "code",
   "execution_count": null,
   "id": "e2a40309",
   "metadata": {
    "execution": {
     "iopub.execute_input": "2024-08-03T15:48:45.134241Z",
     "iopub.status.busy": "2024-08-03T15:48:45.134096Z",
     "iopub.status.idle": "2024-08-03T15:48:45.140797Z",
     "shell.execute_reply": "2024-08-03T15:48:45.140540Z"
    },
    "papermill": {
     "duration": 0.013531,
     "end_time": "2024-08-03T15:48:45.141629",
     "exception": false,
     "start_time": "2024-08-03T15:48:45.128098",
     "status": "completed"
    },
    "tags": []
   },
   "outputs": [],
   "source": [
    "if currency_pair != 'USD=X':\n",
    "    data['usd_nat_currency'] = utils.daily_price(\n",
    "        ticker=currency_pair,\n",
    "        end=data['date'],\n",
    "        days_earlier=90\n",
    "        )\n",
    "else:\n",
    "    data['usd_nat_currency'] = [1 for x in range(len(data))]\n",
    "\n",
    "# drop rows, when USD rates wasn't available\n",
    "data = data[data['usd_nat_currency'].notna()]\n",
    "\n",
    "data.tail()"
   ]
  },
  {
   "cell_type": "markdown",
   "id": "e2966eba",
   "metadata": {
    "papermill": {
     "duration": 0.005404,
     "end_time": "2024-08-03T15:48:45.152557",
     "exception": false,
     "start_time": "2024-08-03T15:48:45.147153",
     "status": "completed"
    },
    "tags": []
   },
   "source": [
    "## Convert USD values related to IS, BS, CFS to national currency"
   ]
  },
  {
   "cell_type": "code",
   "execution_count": null,
   "id": "8cb017d3",
   "metadata": {
    "execution": {
     "iopub.execute_input": "2024-08-03T15:48:45.163896Z",
     "iopub.status.busy": "2024-08-03T15:48:45.163771Z",
     "iopub.status.idle": "2024-08-03T15:48:45.175403Z",
     "shell.execute_reply": "2024-08-03T15:48:45.175157Z"
    },
    "papermill": {
     "duration": 0.018494,
     "end_time": "2024-08-03T15:48:45.176235",
     "exception": false,
     "start_time": "2024-08-03T15:48:45.157741",
     "status": "completed"
    },
    "tags": []
   },
   "outputs": [],
   "source": [
    "# convert columns into national currency if necessary\n",
    "if numbers_in_currency == 'USD':\n",
    "    data_nat_curr = utils.convert_national_currency(input_data=data, currency=data)\n",
    "else:\n",
    "    data_nat_curr = data.copy()\n",
    "data_nat_curr.tail()"
   ]
  },
  {
   "cell_type": "markdown",
   "id": "92e7ed8b",
   "metadata": {
    "papermill": {
     "duration": 0.00975,
     "end_time": "2024-08-03T15:48:45.197314",
     "exception": false,
     "start_time": "2024-08-03T15:48:45.187564",
     "status": "completed"
    },
    "tags": []
   },
   "source": [
    "# 3. Calculate input to Value Raios (eps, bv per share, fcf)\n",
    "## filter out unwanted columns"
   ]
  },
  {
   "cell_type": "code",
   "execution_count": null,
   "id": "ef14427b",
   "metadata": {
    "execution": {
     "iopub.execute_input": "2024-08-03T15:48:45.218454Z",
     "iopub.status.busy": "2024-08-03T15:48:45.218328Z",
     "iopub.status.idle": "2024-08-03T15:48:45.221836Z",
     "shell.execute_reply": "2024-08-03T15:48:45.221564Z"
    },
    "papermill": {
     "duration": 0.015314,
     "end_time": "2024-08-03T15:48:45.222694",
     "exception": false,
     "start_time": "2024-08-03T15:48:45.207380",
     "status": "completed"
    },
    "tags": []
   },
   "outputs": [],
   "source": [
    "filtered_nat_curr = utils.calculate_input_value_ratios(data_nat_curr, report='half-year')"
   ]
  },
  {
   "cell_type": "markdown",
   "id": "822d7ef6",
   "metadata": {
    "papermill": {
     "duration": 0.010001,
     "end_time": "2024-08-03T15:48:45.246221",
     "exception": false,
     "start_time": "2024-08-03T15:48:45.236220",
     "status": "completed"
    },
    "tags": []
   },
   "source": [
    "## Calculate input values to value ratios"
   ]
  },
  {
   "cell_type": "code",
   "execution_count": null,
   "id": "c0688ac2",
   "metadata": {
    "execution": {
     "iopub.execute_input": "2024-08-03T15:48:45.266790Z",
     "iopub.status.busy": "2024-08-03T15:48:45.266652Z",
     "iopub.status.idle": "2024-08-03T15:48:45.269164Z",
     "shell.execute_reply": "2024-08-03T15:48:45.268900Z"
    },
    "papermill": {
     "duration": 0.013781,
     "end_time": "2024-08-03T15:48:45.270072",
     "exception": false,
     "start_time": "2024-08-03T15:48:45.256291",
     "status": "completed"
    },
    "tags": []
   },
   "outputs": [],
   "source": [
    "ratios_nat_curr = utils.ratios_input_filter(filtered_nat_curr)"
   ]
  },
  {
   "cell_type": "markdown",
   "id": "73e45a54",
   "metadata": {
    "papermill": {
     "duration": 0.013011,
     "end_time": "2024-08-03T15:48:45.305355",
     "exception": false,
     "start_time": "2024-08-03T15:48:45.292344",
     "status": "completed"
    },
    "tags": []
   },
   "source": [
    "## Calculate performance parameters (current ratio, ROA, ROE, margins, D/E)"
   ]
  },
  {
   "cell_type": "code",
   "execution_count": null,
   "id": "7c330882",
   "metadata": {
    "execution": {
     "iopub.execute_input": "2024-08-03T15:48:45.324133Z",
     "iopub.status.busy": "2024-08-03T15:48:45.323984Z",
     "iopub.status.idle": "2024-08-03T15:48:45.330975Z",
     "shell.execute_reply": "2024-08-03T15:48:45.330688Z"
    },
    "papermill": {
     "duration": 0.015733,
     "end_time": "2024-08-03T15:48:45.331935",
     "exception": false,
     "start_time": "2024-08-03T15:48:45.316202",
     "status": "completed"
    },
    "tags": []
   },
   "outputs": [],
   "source": [
    "ratios_nat_curr = utils.evaluate_performance(input=filtered_nat_curr, output=ratios_nat_curr, report='half-year')"
   ]
  },
  {
   "cell_type": "markdown",
   "id": "daf4fac5",
   "metadata": {
    "papermill": {
     "duration": 0.005816,
     "end_time": "2024-08-03T15:48:45.344231",
     "exception": false,
     "start_time": "2024-08-03T15:48:45.338415",
     "status": "completed"
    },
    "tags": []
   },
   "source": [
    "# 4. Pull historical share prices and merge with sattement data"
   ]
  },
  {
   "cell_type": "code",
   "execution_count": null,
   "id": "6621b7e4",
   "metadata": {
    "execution": {
     "iopub.execute_input": "2024-08-03T15:48:45.357148Z",
     "iopub.status.busy": "2024-08-03T15:48:45.356928Z",
     "iopub.status.idle": "2024-08-03T15:48:45.797689Z",
     "shell.execute_reply": "2024-08-03T15:48:45.797303Z"
    },
    "papermill": {
     "duration": 0.448762,
     "end_time": "2024-08-03T15:48:45.798949",
     "exception": false,
     "start_time": "2024-08-03T15:48:45.350187",
     "status": "completed"
    },
    "tags": []
   },
   "outputs": [],
   "source": [
    "# pull weekly share prices and merge with the value ratios\n",
    "merged_nat_curr = utils.add_share_prices_to_value_ratios(share_name, data, ratios_nat_curr)\n",
    "merged_nat_curr.head()"
   ]
  },
  {
   "cell_type": "markdown",
   "id": "fc2132bd",
   "metadata": {
    "papermill": {
     "duration": 0.013458,
     "end_time": "2024-08-03T15:48:45.823740",
     "exception": false,
     "start_time": "2024-08-03T15:48:45.810282",
     "status": "completed"
    },
    "tags": []
   },
   "source": [
    "# Calculate price ratios (P/E, P/B, P/S, P/FCF)"
   ]
  },
  {
   "cell_type": "code",
   "execution_count": null,
   "id": "e87ebe06",
   "metadata": {
    "execution": {
     "iopub.execute_input": "2024-08-03T15:48:45.848442Z",
     "iopub.status.busy": "2024-08-03T15:48:45.848294Z",
     "iopub.status.idle": "2024-08-03T15:48:45.857675Z",
     "shell.execute_reply": "2024-08-03T15:48:45.857432Z"
    },
    "papermill": {
     "duration": 0.023125,
     "end_time": "2024-08-03T15:48:45.858491",
     "exception": false,
     "start_time": "2024-08-03T15:48:45.835366",
     "status": "completed"
    },
    "tags": []
   },
   "outputs": [],
   "source": [
    "merged_nat_curr = utils.price_ratios(merged_nat_curr, report='half-year')\n",
    "merged_nat_curr.head()"
   ]
  },
  {
   "cell_type": "markdown",
   "id": "c1990ee6",
   "metadata": {
    "papermill": {
     "duration": 0.012561,
     "end_time": "2024-08-03T15:48:45.884186",
     "exception": false,
     "start_time": "2024-08-03T15:48:45.871625",
     "status": "completed"
    },
    "tags": []
   },
   "source": [
    "# Calculate Dividend yield and currency-share price correlation"
   ]
  },
  {
   "cell_type": "code",
   "execution_count": null,
   "id": "624bbad1",
   "metadata": {
    "execution": {
     "iopub.execute_input": "2024-08-03T15:48:45.907164Z",
     "iopub.status.busy": "2024-08-03T15:48:45.907019Z",
     "iopub.status.idle": "2024-08-03T15:48:46.096860Z",
     "shell.execute_reply": "2024-08-03T15:48:46.096442Z"
    },
    "papermill": {
     "duration": 0.202394,
     "end_time": "2024-08-03T15:48:46.098314",
     "exception": false,
     "start_time": "2024-08-03T15:48:45.895920",
     "status": "completed"
    },
    "tags": []
   },
   "outputs": [],
   "source": [
    "# get daily historical USD-national currency rates\n",
    "usd_nat_curr = utils.get_historical_currency_rate(currency_pair, merged_nat_curr)"
   ]
  },
  {
   "cell_type": "code",
   "execution_count": null,
   "id": "786c01cc",
   "metadata": {
    "execution": {
     "iopub.execute_input": "2024-08-03T15:48:46.128234Z",
     "iopub.status.busy": "2024-08-03T15:48:46.128035Z",
     "iopub.status.idle": "2024-08-03T15:48:46.607762Z",
     "shell.execute_reply": "2024-08-03T15:48:46.607481Z"
    },
    "papermill": {
     "duration": 0.494187,
     "end_time": "2024-08-03T15:48:46.608700",
     "exception": false,
     "start_time": "2024-08-03T15:48:46.114513",
     "status": "completed"
    },
    "tags": []
   },
   "outputs": [],
   "source": [
    "# get share prices and dividend yield data\n",
    "ticker_all_price = utils.get_historical_share_dividend(share_name, merged_nat_curr)"
   ]
  },
  {
   "cell_type": "code",
   "execution_count": null,
   "id": "228e0efc",
   "metadata": {
    "execution": {
     "iopub.execute_input": "2024-08-03T15:48:46.625108Z",
     "iopub.status.busy": "2024-08-03T15:48:46.624995Z",
     "iopub.status.idle": "2024-08-03T15:48:46.779621Z",
     "shell.execute_reply": "2024-08-03T15:48:46.779307Z"
    },
    "papermill": {
     "duration": 0.165692,
     "end_time": "2024-08-03T15:48:46.780568",
     "exception": false,
     "start_time": "2024-08-03T15:48:46.614876",
     "status": "completed"
    },
    "tags": []
   },
   "outputs": [],
   "source": [
    "# Pearson's correlation coefficient between share price and USD - national currency rate\n",
    "utils.get_currency_share_price_correlation(share_name, usd_nat_curr, ticker_all_price)"
   ]
  },
  {
   "cell_type": "markdown",
   "id": "07079792",
   "metadata": {
    "papermill": {
     "duration": 0.005751,
     "end_time": "2024-08-03T15:48:46.792606",
     "exception": false,
     "start_time": "2024-08-03T15:48:46.786855",
     "status": "completed"
    },
    "tags": []
   },
   "source": [
    "# Share price and value ratios"
   ]
  },
  {
   "cell_type": "code",
   "execution_count": null,
   "id": "ade716d9",
   "metadata": {
    "execution": {
     "iopub.execute_input": "2024-08-03T15:48:46.804902Z",
     "iopub.status.busy": "2024-08-03T15:48:46.804784Z",
     "iopub.status.idle": "2024-08-03T15:48:51.179179Z",
     "shell.execute_reply": "2024-08-03T15:48:51.178538Z"
    },
    "papermill": {
     "duration": 4.382199,
     "end_time": "2024-08-03T15:48:51.180675",
     "exception": false,
     "start_time": "2024-08-03T15:48:46.798476",
     "status": "completed"
    },
    "tags": []
   },
   "outputs": [],
   "source": [
    "for column in merged_nat_curr.columns[3:]:\n",
    "    fig, ax1 = plt.subplots(figsize=(15, 6))\n",
    "\n",
    "    ax2 = ax1.twinx()\n",
    "    ax1.plot(merged_nat_curr['real_date'], merged_nat_curr[column], color='k', label=merged_nat_curr)\n",
    "    ax2.plot(ticker_all_price.index, ticker_all_price['Close'], color='b', label=share_name)\n",
    "\n",
    "    ax1.set_xlabel('Date')\n",
    "    ax1.set_ylabel(column, color='k')\n",
    "    ax2.set_ylabel('Share price (national currency)', color='b')\n",
    "\n",
    "    plt.legend()\n",
    "    plt.show()"
   ]
  },
  {
   "cell_type": "code",
   "execution_count": null,
   "id": "f0e00320",
   "metadata": {
    "execution": {
     "iopub.execute_input": "2024-08-03T15:48:51.219298Z",
     "iopub.status.busy": "2024-08-03T15:48:51.219139Z",
     "iopub.status.idle": "2024-08-03T15:48:52.373757Z",
     "shell.execute_reply": "2024-08-03T15:48:52.373285Z"
    },
    "papermill": {
     "duration": 1.175525,
     "end_time": "2024-08-03T15:48:52.375008",
     "exception": false,
     "start_time": "2024-08-03T15:48:51.199483",
     "status": "completed"
    },
    "tags": []
   },
   "outputs": [],
   "source": [
    "# plot histograms of value parameters\n",
    "utils.plot_histogram_value_parameters(input_df=merged_nat_curr, extra_parameters=[], owned_shares=owned_shares)"
   ]
  },
  {
   "cell_type": "markdown",
   "id": "7df21ba9",
   "metadata": {
    "papermill": {
     "duration": 0.021344,
     "end_time": "2024-08-03T15:48:52.418194",
     "exception": false,
     "start_time": "2024-08-03T15:48:52.396850",
     "status": "completed"
    },
    "tags": []
   },
   "source": [
    "## Calculate correlation between value parameters"
   ]
  },
  {
   "cell_type": "code",
   "execution_count": null,
   "id": "cb788d81",
   "metadata": {
    "execution": {
     "iopub.execute_input": "2024-08-03T15:48:52.465895Z",
     "iopub.status.busy": "2024-08-03T15:48:52.465743Z",
     "iopub.status.idle": "2024-08-03T15:48:52.472368Z",
     "shell.execute_reply": "2024-08-03T15:48:52.472102Z"
    },
    "papermill": {
     "duration": 0.033715,
     "end_time": "2024-08-03T15:48:52.473446",
     "exception": false,
     "start_time": "2024-08-03T15:48:52.439731",
     "status": "completed"
    },
    "tags": []
   },
   "outputs": [],
   "source": [
    "# calulate value parameters Pearson's correlation coefficient\n",
    "pd.DataFrame(merged_nat_curr, columns=['roa', 'roe', 'pe_ratio', 'pb_ratio', 'ps_ratio', 'ev_revenue', 'debt_to_equity', 'current_ratio']).corr()"
   ]
  },
  {
   "cell_type": "code",
   "execution_count": null,
   "id": "68e749d6",
   "metadata": {},
   "outputs": [],
   "source": [
    "final_df = utils.get_value_stock_target_prices(\n",
    "    input_df=merged_nat_curr,\n",
    "    min_pct=0.2,\n",
    "    max_pct=0.5,\n",
    "    owned_shares=owned_shares\n",
    ")"
   ]
  }
 ],
 "metadata": {
  "kernelspec": {
   "display_name": ".venv",
   "language": "python",
   "name": "python3"
  },
  "language_info": {
   "codemirror_mode": {
    "name": "ipython",
    "version": 3
   },
   "file_extension": ".py",
   "mimetype": "text/x-python",
   "name": "python",
   "nbconvert_exporter": "python",
   "pygments_lexer": "ipython3",
   "version": "3.11.3"
  },
  "papermill": {
   "default_parameters": {},
   "duration": 10.063252,
   "end_time": "2024-08-03T15:48:53.050754",
   "environment_variables": {},
   "exception": null,
   "input_path": "../notebooks/sibanye_sw_national.ipynb",
   "output_path": "../notebooks/sibanye_sw_national.ipynb",
   "parameters": {},
   "start_time": "2024-08-03T15:48:42.987502",
   "version": "2.5.0"
  }
 },
 "nbformat": 4,
 "nbformat_minor": 5
}
