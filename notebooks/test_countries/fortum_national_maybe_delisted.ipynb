{
 "cells": [
  {
   "cell_type": "markdown",
   "id": "12a092e6",
   "metadata": {
    "tags": [
     "papermill-error-cell-tag"
    ]
   },
   "source": [
    "<span style=\"color:red; font-family:Helvetica Neue, Helvetica, Arial, sans-serif; font-size:2em;\">An Exception was encountered at '<a href=\"#papermill-error-cell\">In [13]</a>'.</span>"
   ]
  },
  {
   "cell_type": "code",
   "execution_count": 1,
   "id": "66aeb329",
   "metadata": {
    "execution": {
     "iopub.execute_input": "2025-03-22T22:36:21.440467Z",
     "iopub.status.busy": "2025-03-22T22:36:21.440332Z",
     "iopub.status.idle": "2025-03-22T22:36:22.445316Z",
     "shell.execute_reply": "2025-03-22T22:36:22.444193Z"
    },
    "papermill": {
     "duration": 1.016991,
     "end_time": "2025-03-22T22:36:22.447726",
     "exception": false,
     "start_time": "2025-03-22T22:36:21.430735",
     "status": "completed"
    },
    "tags": []
   },
   "outputs": [],
   "source": [
    "import pandas as pd\n",
    "import matplotlib.pyplot as plt\n",
    "import numpy as np\n",
    "\n",
    "import yfinance as yf\n",
    "import datetime\n",
    "\n",
    "from valueinvesting import utils as utils"
   ]
  },
  {
   "cell_type": "markdown",
   "id": "8b250e18",
   "metadata": {
    "papermill": {
     "duration": 0.008208,
     "end_time": "2025-03-22T22:36:22.465688",
     "exception": false,
     "start_time": "2025-03-22T22:36:22.457480",
     "status": "completed"
    },
    "tags": []
   },
   "source": [
    "# 1. Load raw input\n",
    "## Hardcoded block"
   ]
  },
  {
   "cell_type": "code",
   "execution_count": 2,
   "id": "3e54f867",
   "metadata": {
    "execution": {
     "iopub.execute_input": "2025-03-22T22:36:22.482175Z",
     "iopub.status.busy": "2025-03-22T22:36:22.481957Z",
     "iopub.status.idle": "2025-03-22T22:36:22.483867Z",
     "shell.execute_reply": "2025-03-22T22:36:22.483632Z"
    },
    "papermill": {
     "duration": 0.01166,
     "end_time": "2025-03-22T22:36:22.485219",
     "exception": false,
     "start_time": "2025-03-22T22:36:22.473559",
     "status": "completed"
    },
    "tags": []
   },
   "outputs": [],
   "source": [
    "evaluate_last_X_years = True\n",
    "X=10\n",
    "currency_pair = 'EUR=X'\n",
    "numbers_in_currency = 'EUR'\n",
    "share_name = 'FORTUM.HE'"
   ]
  },
  {
   "cell_type": "markdown",
   "id": "e21e004c",
   "metadata": {
    "papermill": {
     "duration": 0.007685,
     "end_time": "2025-03-22T22:36:22.500973",
     "exception": false,
     "start_time": "2025-03-22T22:36:22.493288",
     "status": "completed"
    },
    "tags": []
   },
   "source": [
    "# 1.1 Calculate Share numbers from total distributed dividend (CFS) and dividend amount"
   ]
  },
  {
   "cell_type": "markdown",
   "id": "a66ab7c5",
   "metadata": {
    "papermill": {
     "duration": 0.007729,
     "end_time": "2025-03-22T22:36:22.516484",
     "exception": false,
     "start_time": "2025-03-22T22:36:22.508755",
     "status": "completed"
    },
    "tags": []
   },
   "source": [
    "# 1.2. Raw input statement data"
   ]
  },
  {
   "cell_type": "code",
   "execution_count": 3,
   "id": "421ac1ec",
   "metadata": {
    "execution": {
     "iopub.execute_input": "2025-03-22T22:36:22.533163Z",
     "iopub.status.busy": "2025-03-22T22:36:22.532954Z",
     "iopub.status.idle": "2025-03-22T22:36:22.548942Z",
     "shell.execute_reply": "2025-03-22T22:36:22.548650Z"
    },
    "papermill": {
     "duration": 0.026071,
     "end_time": "2025-03-22T22:36:22.549961",
     "exception": false,
     "start_time": "2025-03-22T22:36:22.523890",
     "status": "completed"
    },
    "tags": []
   },
   "outputs": [],
   "source": [
    "route = f\"../data/input/{share_name}_data.csv\"\n",
    "data = pd.read_csv(route, sep=';', parse_dates=['date', 'real_date'])\n",
    "# replace -, extend missing 0-s, fix datatype\n",
    "data = utils.replace_format_input(data)"
   ]
  },
  {
   "cell_type": "code",
   "execution_count": 4,
   "id": "f22bc945",
   "metadata": {
    "execution": {
     "iopub.execute_input": "2025-03-22T22:36:22.567441Z",
     "iopub.status.busy": "2025-03-22T22:36:22.567148Z",
     "iopub.status.idle": "2025-03-22T22:36:22.571977Z",
     "shell.execute_reply": "2025-03-22T22:36:22.571736Z"
    },
    "papermill": {
     "duration": 0.014969,
     "end_time": "2025-03-22T22:36:22.572913",
     "exception": false,
     "start_time": "2025-03-22T22:36:22.557944",
     "status": "completed"
    },
    "tags": []
   },
   "outputs": [],
   "source": [
    "owned_shares = pd.read_csv('../data/extras/owned_stocks.csv', sep=';', parse_dates=['date'])\n",
    "owned_shares = owned_shares.loc[(owned_shares['stock'] == share_name) & (owned_shares['active'] == 'yes')]"
   ]
  },
  {
   "cell_type": "markdown",
   "id": "63d11efd",
   "metadata": {
    "papermill": {
     "duration": 0.007978,
     "end_time": "2025-03-22T22:36:22.589127",
     "exception": false,
     "start_time": "2025-03-22T22:36:22.581149",
     "status": "completed"
    },
    "tags": []
   },
   "source": [
    "## (OPTIONAL) Time Filtering - Last 7 years daat"
   ]
  },
  {
   "cell_type": "code",
   "execution_count": 5,
   "id": "7446f199",
   "metadata": {
    "execution": {
     "iopub.execute_input": "2025-03-22T22:36:22.608105Z",
     "iopub.status.busy": "2025-03-22T22:36:22.607972Z",
     "iopub.status.idle": "2025-03-22T22:36:22.620895Z",
     "shell.execute_reply": "2025-03-22T22:36:22.619737Z"
    },
    "papermill": {
     "duration": 0.023348,
     "end_time": "2025-03-22T22:36:22.622191",
     "exception": false,
     "start_time": "2025-03-22T22:36:22.598843",
     "status": "completed"
    },
    "tags": []
   },
   "outputs": [
    {
     "data": {
      "text/html": [
       "<div>\n",
       "<style scoped>\n",
       "    .dataframe tbody tr th:only-of-type {\n",
       "        vertical-align: middle;\n",
       "    }\n",
       "\n",
       "    .dataframe tbody tr th {\n",
       "        vertical-align: top;\n",
       "    }\n",
       "\n",
       "    .dataframe thead th {\n",
       "        text-align: right;\n",
       "    }\n",
       "</style>\n",
       "<table border=\"1\" class=\"dataframe\">\n",
       "  <thead>\n",
       "    <tr style=\"text-align: right;\">\n",
       "      <th></th>\n",
       "      <th>date</th>\n",
       "      <th>revenue</th>\n",
       "      <th>cogs</th>\n",
       "      <th>gross_profit</th>\n",
       "      <th>net_profit</th>\n",
       "      <th>cash</th>\n",
       "      <th>acc_rec</th>\n",
       "      <th>inventory</th>\n",
       "      <th>curr_assets</th>\n",
       "      <th>goodwill</th>\n",
       "      <th>...</th>\n",
       "      <th>acc_pay</th>\n",
       "      <th>short_term_debt</th>\n",
       "      <th>current_debt</th>\n",
       "      <th>curr_liab</th>\n",
       "      <th>long_term_debt</th>\n",
       "      <th>total_liab</th>\n",
       "      <th>cash_from_operating_activities</th>\n",
       "      <th>capex</th>\n",
       "      <th>shares</th>\n",
       "      <th>real_date</th>\n",
       "    </tr>\n",
       "  </thead>\n",
       "  <tbody>\n",
       "    <tr>\n",
       "      <th>0</th>\n",
       "      <td>2014-12-31</td>\n",
       "      <td>1133</td>\n",
       "      <td>-473</td>\n",
       "      <td>660</td>\n",
       "      <td>523</td>\n",
       "      <td>2009</td>\n",
       "      <td>830</td>\n",
       "      <td>256</td>\n",
       "      <td>4301</td>\n",
       "      <td>170</td>\n",
       "      <td>...</td>\n",
       "      <td>0</td>\n",
       "      <td>287</td>\n",
       "      <td>816</td>\n",
       "      <td>2067</td>\n",
       "      <td>5881</td>\n",
       "      <td>10511</td>\n",
       "      <td>452</td>\n",
       "      <td>-200</td>\n",
       "      <td>888.3</td>\n",
       "      <td>2015-03-01</td>\n",
       "    </tr>\n",
       "    <tr>\n",
       "      <th>1</th>\n",
       "      <td>2015-03-31</td>\n",
       "      <td>1040</td>\n",
       "      <td>-433</td>\n",
       "      <td>607</td>\n",
       "      <td>295</td>\n",
       "      <td>1773</td>\n",
       "      <td>637</td>\n",
       "      <td>247</td>\n",
       "      <td>7212</td>\n",
       "      <td>197</td>\n",
       "      <td>...</td>\n",
       "      <td>0</td>\n",
       "      <td>214</td>\n",
       "      <td>824</td>\n",
       "      <td>3698</td>\n",
       "      <td>5944</td>\n",
       "      <td>11761</td>\n",
       "      <td>603</td>\n",
       "      <td>-101</td>\n",
       "      <td>888.3</td>\n",
       "      <td>2015-05-10</td>\n",
       "    </tr>\n",
       "    <tr>\n",
       "      <th>2</th>\n",
       "      <td>2015-06-30</td>\n",
       "      <td>794</td>\n",
       "      <td>-363</td>\n",
       "      <td>431</td>\n",
       "      <td>118</td>\n",
       "      <td>2774</td>\n",
       "      <td>612</td>\n",
       "      <td>270</td>\n",
       "      <td>9857</td>\n",
       "      <td>197</td>\n",
       "      <td>...</td>\n",
       "      <td>0</td>\n",
       "      <td>176</td>\n",
       "      <td>1560</td>\n",
       "      <td>2543</td>\n",
       "      <td>5029</td>\n",
       "      <td>9659</td>\n",
       "      <td>296</td>\n",
       "      <td>-108</td>\n",
       "      <td>888.3</td>\n",
       "      <td>2015-08-09</td>\n",
       "    </tr>\n",
       "    <tr>\n",
       "      <th>3</th>\n",
       "      <td>2015-09-30</td>\n",
       "      <td>661</td>\n",
       "      <td>-312</td>\n",
       "      <td>349</td>\n",
       "      <td>-658</td>\n",
       "      <td>2390</td>\n",
       "      <td>574</td>\n",
       "      <td>258</td>\n",
       "      <td>9238</td>\n",
       "      <td>168</td>\n",
       "      <td>...</td>\n",
       "      <td>0</td>\n",
       "      <td>250</td>\n",
       "      <td>836</td>\n",
       "      <td>1836</td>\n",
       "      <td>5010</td>\n",
       "      <td>8793</td>\n",
       "      <td>151</td>\n",
       "      <td>-138</td>\n",
       "      <td>888.3</td>\n",
       "      <td>2015-11-09</td>\n",
       "    </tr>\n",
       "    <tr>\n",
       "      <th>4</th>\n",
       "      <td>2015-12-31</td>\n",
       "      <td>964</td>\n",
       "      <td>-407</td>\n",
       "      <td>557</td>\n",
       "      <td>18</td>\n",
       "      <td>3289</td>\n",
       "      <td>822</td>\n",
       "      <td>231</td>\n",
       "      <td>9610</td>\n",
       "      <td>0</td>\n",
       "      <td>...</td>\n",
       "      <td>0</td>\n",
       "      <td>204</td>\n",
       "      <td>838</td>\n",
       "      <td>2042</td>\n",
       "      <td>4965</td>\n",
       "      <td>8973</td>\n",
       "      <td>331</td>\n",
       "      <td>-180</td>\n",
       "      <td>888.3</td>\n",
       "      <td>2016-02-29</td>\n",
       "    </tr>\n",
       "  </tbody>\n",
       "</table>\n",
       "<p>5 rows × 22 columns</p>\n",
       "</div>"
      ],
      "text/plain": [
       "        date  revenue  cogs  gross_profit  net_profit  cash  acc_rec  \\\n",
       "0 2014-12-31     1133  -473           660         523  2009      830   \n",
       "1 2015-03-31     1040  -433           607         295  1773      637   \n",
       "2 2015-06-30      794  -363           431         118  2774      612   \n",
       "3 2015-09-30      661  -312           349        -658  2390      574   \n",
       "4 2015-12-31      964  -407           557          18  3289      822   \n",
       "\n",
       "   inventory  curr_assets  goodwill  ...  acc_pay  short_term_debt  \\\n",
       "0        256         4301       170  ...        0              287   \n",
       "1        247         7212       197  ...        0              214   \n",
       "2        270         9857       197  ...        0              176   \n",
       "3        258         9238       168  ...        0              250   \n",
       "4        231         9610         0  ...        0              204   \n",
       "\n",
       "   current_debt  curr_liab  long_term_debt  total_liab  \\\n",
       "0           816       2067            5881       10511   \n",
       "1           824       3698            5944       11761   \n",
       "2          1560       2543            5029        9659   \n",
       "3           836       1836            5010        8793   \n",
       "4           838       2042            4965        8973   \n",
       "\n",
       "   cash_from_operating_activities  capex  shares  real_date  \n",
       "0                             452   -200   888.3 2015-03-01  \n",
       "1                             603   -101   888.3 2015-05-10  \n",
       "2                             296   -108   888.3 2015-08-09  \n",
       "3                             151   -138   888.3 2015-11-09  \n",
       "4                             331   -180   888.3 2016-02-29  \n",
       "\n",
       "[5 rows x 22 columns]"
      ]
     },
     "execution_count": 5,
     "metadata": {},
     "output_type": "execute_result"
    }
   ],
   "source": [
    "if evaluate_last_X_years:\n",
    "    data = data[data['date'] > datetime.datetime.today() - datetime.timedelta(days=X*366+93)]\n",
    "    data = data.reset_index(drop=True)\n",
    "\n",
    "data.head()"
   ]
  },
  {
   "cell_type": "markdown",
   "id": "4f64bc22",
   "metadata": {
    "papermill": {
     "duration": 0.011051,
     "end_time": "2025-03-22T22:36:22.641530",
     "exception": false,
     "start_time": "2025-03-22T22:36:22.630479",
     "status": "completed"
    },
    "tags": []
   },
   "source": [
    "## Calculate date when quaterly reports could be available"
   ]
  },
  {
   "cell_type": "code",
   "execution_count": 6,
   "id": "4e9c7696",
   "metadata": {
    "execution": {
     "iopub.execute_input": "2025-03-22T22:36:22.664982Z",
     "iopub.status.busy": "2025-03-22T22:36:22.664713Z",
     "iopub.status.idle": "2025-03-22T22:36:22.667725Z",
     "shell.execute_reply": "2025-03-22T22:36:22.667431Z"
    },
    "papermill": {
     "duration": 0.018127,
     "end_time": "2025-03-22T22:36:22.668558",
     "exception": false,
     "start_time": "2025-03-22T22:36:22.650431",
     "status": "completed"
    },
    "tags": []
   },
   "outputs": [],
   "source": [
    "data = utils.calculate_real_date(data)"
   ]
  },
  {
   "cell_type": "markdown",
   "id": "3d448569",
   "metadata": {
    "papermill": {
     "duration": 0.00636,
     "end_time": "2025-03-22T22:36:22.683498",
     "exception": false,
     "start_time": "2025-03-22T22:36:22.677138",
     "status": "completed"
    },
    "tags": []
   },
   "source": [
    "# 2. Filter out unnecesary columns"
   ]
  },
  {
   "cell_type": "code",
   "execution_count": 7,
   "id": "4b351f02",
   "metadata": {
    "execution": {
     "iopub.execute_input": "2025-03-22T22:36:22.696129Z",
     "iopub.status.busy": "2025-03-22T22:36:22.695885Z",
     "iopub.status.idle": "2025-03-22T22:36:22.702181Z",
     "shell.execute_reply": "2025-03-22T22:36:22.701940Z"
    },
    "papermill": {
     "duration": 0.013914,
     "end_time": "2025-03-22T22:36:22.703227",
     "exception": false,
     "start_time": "2025-03-22T22:36:22.689313",
     "status": "completed"
    },
    "tags": []
   },
   "outputs": [
    {
     "data": {
      "text/html": [
       "<div>\n",
       "<style scoped>\n",
       "    .dataframe tbody tr th:only-of-type {\n",
       "        vertical-align: middle;\n",
       "    }\n",
       "\n",
       "    .dataframe tbody tr th {\n",
       "        vertical-align: top;\n",
       "    }\n",
       "\n",
       "    .dataframe thead th {\n",
       "        text-align: right;\n",
       "    }\n",
       "</style>\n",
       "<table border=\"1\" class=\"dataframe\">\n",
       "  <thead>\n",
       "    <tr style=\"text-align: right;\">\n",
       "      <th></th>\n",
       "      <th>date</th>\n",
       "      <th>real_date</th>\n",
       "      <th>shares</th>\n",
       "      <th>revenue</th>\n",
       "      <th>cogs</th>\n",
       "      <th>gross_profit</th>\n",
       "      <th>net_profit</th>\n",
       "      <th>cash</th>\n",
       "      <th>acc_rec</th>\n",
       "      <th>inventory</th>\n",
       "      <th>...</th>\n",
       "      <th>intangible_assets</th>\n",
       "      <th>total_assets</th>\n",
       "      <th>acc_pay</th>\n",
       "      <th>short_term_debt</th>\n",
       "      <th>current_debt</th>\n",
       "      <th>curr_liab</th>\n",
       "      <th>long_term_debt</th>\n",
       "      <th>total_liab</th>\n",
       "      <th>cash_from_operating_activities</th>\n",
       "      <th>capex</th>\n",
       "    </tr>\n",
       "  </thead>\n",
       "  <tbody>\n",
       "    <tr>\n",
       "      <th>36</th>\n",
       "      <td>2023-12-31</td>\n",
       "      <td>2024-02-29</td>\n",
       "      <td>897.2</td>\n",
       "      <td>1858</td>\n",
       "      <td>-1106</td>\n",
       "      <td>752</td>\n",
       "      <td>412</td>\n",
       "      <td>4183</td>\n",
       "      <td>1286</td>\n",
       "      <td>452</td>\n",
       "      <td>...</td>\n",
       "      <td>643</td>\n",
       "      <td>18739</td>\n",
       "      <td>1181</td>\n",
       "      <td>507</td>\n",
       "      <td>961</td>\n",
       "      <td>3708</td>\n",
       "      <td>4476</td>\n",
       "      <td>10300</td>\n",
       "      <td>149</td>\n",
       "      <td>-130</td>\n",
       "    </tr>\n",
       "    <tr>\n",
       "      <th>37</th>\n",
       "      <td>2024-03-31</td>\n",
       "      <td>2024-05-10</td>\n",
       "      <td>897.2</td>\n",
       "      <td>2015</td>\n",
       "      <td>-1167</td>\n",
       "      <td>848</td>\n",
       "      <td>473</td>\n",
       "      <td>4875</td>\n",
       "      <td>1030</td>\n",
       "      <td>405</td>\n",
       "      <td>...</td>\n",
       "      <td>619</td>\n",
       "      <td>18956</td>\n",
       "      <td>0</td>\n",
       "      <td>580</td>\n",
       "      <td>1815</td>\n",
       "      <td>4484</td>\n",
       "      <td>4039</td>\n",
       "      <td>10566</td>\n",
       "      <td>538</td>\n",
       "      <td>-110</td>\n",
       "    </tr>\n",
       "    <tr>\n",
       "      <th>38</th>\n",
       "      <td>2024-06-30</td>\n",
       "      <td>2024-08-12</td>\n",
       "      <td>897.2</td>\n",
       "      <td>1255</td>\n",
       "      <td>-696</td>\n",
       "      <td>559</td>\n",
       "      <td>215</td>\n",
       "      <td>4058</td>\n",
       "      <td>796</td>\n",
       "      <td>411</td>\n",
       "      <td>...</td>\n",
       "      <td>619</td>\n",
       "      <td>17796</td>\n",
       "      <td>0</td>\n",
       "      <td>456</td>\n",
       "      <td>556</td>\n",
       "      <td>2361</td>\n",
       "      <td>4829</td>\n",
       "      <td>9240</td>\n",
       "      <td>338</td>\n",
       "      <td>-108</td>\n",
       "    </tr>\n",
       "    <tr>\n",
       "      <th>39</th>\n",
       "      <td>2024-09-30</td>\n",
       "      <td>2024-10-28</td>\n",
       "      <td>897.2</td>\n",
       "      <td>1094</td>\n",
       "      <td>-611</td>\n",
       "      <td>483</td>\n",
       "      <td>133</td>\n",
       "      <td>4255</td>\n",
       "      <td>692</td>\n",
       "      <td>348</td>\n",
       "      <td>...</td>\n",
       "      <td>560</td>\n",
       "      <td>17729</td>\n",
       "      <td>0</td>\n",
       "      <td>420</td>\n",
       "      <td>509</td>\n",
       "      <td>2149</td>\n",
       "      <td>4843</td>\n",
       "      <td>8923</td>\n",
       "      <td>349</td>\n",
       "      <td>-133</td>\n",
       "    </tr>\n",
       "    <tr>\n",
       "      <th>40</th>\n",
       "      <td>2024-12-31</td>\n",
       "      <td>2025-02-10</td>\n",
       "      <td>897.2</td>\n",
       "      <td>1435</td>\n",
       "      <td>-821</td>\n",
       "      <td>614</td>\n",
       "      <td>338</td>\n",
       "      <td>4136</td>\n",
       "      <td>1007</td>\n",
       "      <td>420</td>\n",
       "      <td>...</td>\n",
       "      <td>549</td>\n",
       "      <td>17307</td>\n",
       "      <td>956</td>\n",
       "      <td>333</td>\n",
       "      <td>492</td>\n",
       "      <td>1877</td>\n",
       "      <td>4336</td>\n",
       "      <td>8153</td>\n",
       "      <td>167</td>\n",
       "      <td>-121</td>\n",
       "    </tr>\n",
       "  </tbody>\n",
       "</table>\n",
       "<p>5 rows × 22 columns</p>\n",
       "</div>"
      ],
      "text/plain": [
       "         date  real_date  shares  revenue  cogs  gross_profit  net_profit  \\\n",
       "36 2023-12-31 2024-02-29   897.2     1858 -1106           752         412   \n",
       "37 2024-03-31 2024-05-10   897.2     2015 -1167           848         473   \n",
       "38 2024-06-30 2024-08-12   897.2     1255  -696           559         215   \n",
       "39 2024-09-30 2024-10-28   897.2     1094  -611           483         133   \n",
       "40 2024-12-31 2025-02-10   897.2     1435  -821           614         338   \n",
       "\n",
       "    cash  acc_rec  inventory  ...  intangible_assets  total_assets  acc_pay  \\\n",
       "36  4183     1286        452  ...                643         18739     1181   \n",
       "37  4875     1030        405  ...                619         18956        0   \n",
       "38  4058      796        411  ...                619         17796        0   \n",
       "39  4255      692        348  ...                560         17729        0   \n",
       "40  4136     1007        420  ...                549         17307      956   \n",
       "\n",
       "    short_term_debt  current_debt  curr_liab  long_term_debt  total_liab  \\\n",
       "36              507           961       3708            4476       10300   \n",
       "37              580          1815       4484            4039       10566   \n",
       "38              456           556       2361            4829        9240   \n",
       "39              420           509       2149            4843        8923   \n",
       "40              333           492       1877            4336        8153   \n",
       "\n",
       "    cash_from_operating_activities  capex  \n",
       "36                             149   -130  \n",
       "37                             538   -110  \n",
       "38                             338   -108  \n",
       "39                             349   -133  \n",
       "40                             167   -121  \n",
       "\n",
       "[5 rows x 22 columns]"
      ]
     },
     "execution_count": 7,
     "metadata": {},
     "output_type": "execute_result"
    }
   ],
   "source": [
    "data = utils.filter_raw_data(data)\n",
    "data.tail()"
   ]
  },
  {
   "cell_type": "markdown",
   "id": "0be76409",
   "metadata": {
    "papermill": {
     "duration": 0.007596,
     "end_time": "2025-03-22T22:36:22.718607",
     "exception": false,
     "start_time": "2025-03-22T22:36:22.711011",
     "status": "completed"
    },
    "tags": []
   },
   "source": [
    "## Pull historical average USD national currency rates and add to the dataframe"
   ]
  },
  {
   "cell_type": "code",
   "execution_count": 8,
   "id": "7611f199",
   "metadata": {
    "execution": {
     "iopub.execute_input": "2025-03-22T22:36:22.734613Z",
     "iopub.status.busy": "2025-03-22T22:36:22.734048Z",
     "iopub.status.idle": "2025-03-22T22:36:30.291056Z",
     "shell.execute_reply": "2025-03-22T22:36:30.290636Z"
    },
    "papermill": {
     "duration": 7.566558,
     "end_time": "2025-03-22T22:36:30.292910",
     "exception": false,
     "start_time": "2025-03-22T22:36:22.726352",
     "status": "completed"
    },
    "tags": []
   },
   "outputs": [
    {
     "data": {
      "text/html": [
       "<div>\n",
       "<style scoped>\n",
       "    .dataframe tbody tr th:only-of-type {\n",
       "        vertical-align: middle;\n",
       "    }\n",
       "\n",
       "    .dataframe tbody tr th {\n",
       "        vertical-align: top;\n",
       "    }\n",
       "\n",
       "    .dataframe thead th {\n",
       "        text-align: right;\n",
       "    }\n",
       "</style>\n",
       "<table border=\"1\" class=\"dataframe\">\n",
       "  <thead>\n",
       "    <tr style=\"text-align: right;\">\n",
       "      <th></th>\n",
       "      <th>date</th>\n",
       "      <th>real_date</th>\n",
       "      <th>shares</th>\n",
       "      <th>revenue</th>\n",
       "      <th>cogs</th>\n",
       "      <th>gross_profit</th>\n",
       "      <th>net_profit</th>\n",
       "      <th>cash</th>\n",
       "      <th>acc_rec</th>\n",
       "      <th>inventory</th>\n",
       "      <th>...</th>\n",
       "      <th>total_assets</th>\n",
       "      <th>acc_pay</th>\n",
       "      <th>short_term_debt</th>\n",
       "      <th>current_debt</th>\n",
       "      <th>curr_liab</th>\n",
       "      <th>long_term_debt</th>\n",
       "      <th>total_liab</th>\n",
       "      <th>cash_from_operating_activities</th>\n",
       "      <th>capex</th>\n",
       "      <th>usd_nat_currency</th>\n",
       "    </tr>\n",
       "  </thead>\n",
       "  <tbody>\n",
       "    <tr>\n",
       "      <th>36</th>\n",
       "      <td>2023-12-31</td>\n",
       "      <td>2024-02-29</td>\n",
       "      <td>897.2</td>\n",
       "      <td>1858</td>\n",
       "      <td>-1106</td>\n",
       "      <td>752</td>\n",
       "      <td>412</td>\n",
       "      <td>4183</td>\n",
       "      <td>1286</td>\n",
       "      <td>452</td>\n",
       "      <td>...</td>\n",
       "      <td>18739</td>\n",
       "      <td>1181</td>\n",
       "      <td>507</td>\n",
       "      <td>961</td>\n",
       "      <td>3708</td>\n",
       "      <td>4476</td>\n",
       "      <td>10300</td>\n",
       "      <td>149</td>\n",
       "      <td>-130</td>\n",
       "      <td>0.929674</td>\n",
       "    </tr>\n",
       "    <tr>\n",
       "      <th>37</th>\n",
       "      <td>2024-03-31</td>\n",
       "      <td>2024-05-10</td>\n",
       "      <td>897.2</td>\n",
       "      <td>2015</td>\n",
       "      <td>-1167</td>\n",
       "      <td>848</td>\n",
       "      <td>473</td>\n",
       "      <td>4875</td>\n",
       "      <td>1030</td>\n",
       "      <td>405</td>\n",
       "      <td>...</td>\n",
       "      <td>18956</td>\n",
       "      <td>0</td>\n",
       "      <td>580</td>\n",
       "      <td>1815</td>\n",
       "      <td>4484</td>\n",
       "      <td>4039</td>\n",
       "      <td>10566</td>\n",
       "      <td>538</td>\n",
       "      <td>-110</td>\n",
       "      <td>0.920544</td>\n",
       "    </tr>\n",
       "    <tr>\n",
       "      <th>38</th>\n",
       "      <td>2024-06-30</td>\n",
       "      <td>2024-08-12</td>\n",
       "      <td>897.2</td>\n",
       "      <td>1255</td>\n",
       "      <td>-696</td>\n",
       "      <td>559</td>\n",
       "      <td>215</td>\n",
       "      <td>4058</td>\n",
       "      <td>796</td>\n",
       "      <td>411</td>\n",
       "      <td>...</td>\n",
       "      <td>17796</td>\n",
       "      <td>0</td>\n",
       "      <td>456</td>\n",
       "      <td>556</td>\n",
       "      <td>2361</td>\n",
       "      <td>4829</td>\n",
       "      <td>9240</td>\n",
       "      <td>338</td>\n",
       "      <td>-108</td>\n",
       "      <td>0.928647</td>\n",
       "    </tr>\n",
       "    <tr>\n",
       "      <th>39</th>\n",
       "      <td>2024-09-30</td>\n",
       "      <td>2024-10-28</td>\n",
       "      <td>897.2</td>\n",
       "      <td>1094</td>\n",
       "      <td>-611</td>\n",
       "      <td>483</td>\n",
       "      <td>133</td>\n",
       "      <td>4255</td>\n",
       "      <td>692</td>\n",
       "      <td>348</td>\n",
       "      <td>...</td>\n",
       "      <td>17729</td>\n",
       "      <td>0</td>\n",
       "      <td>420</td>\n",
       "      <td>509</td>\n",
       "      <td>2149</td>\n",
       "      <td>4843</td>\n",
       "      <td>8923</td>\n",
       "      <td>349</td>\n",
       "      <td>-133</td>\n",
       "      <td>0.910617</td>\n",
       "    </tr>\n",
       "    <tr>\n",
       "      <th>40</th>\n",
       "      <td>2024-12-31</td>\n",
       "      <td>2025-02-10</td>\n",
       "      <td>897.2</td>\n",
       "      <td>1435</td>\n",
       "      <td>-821</td>\n",
       "      <td>614</td>\n",
       "      <td>338</td>\n",
       "      <td>4136</td>\n",
       "      <td>1007</td>\n",
       "      <td>420</td>\n",
       "      <td>...</td>\n",
       "      <td>17307</td>\n",
       "      <td>956</td>\n",
       "      <td>333</td>\n",
       "      <td>492</td>\n",
       "      <td>1877</td>\n",
       "      <td>4336</td>\n",
       "      <td>8153</td>\n",
       "      <td>167</td>\n",
       "      <td>-121</td>\n",
       "      <td>0.937043</td>\n",
       "    </tr>\n",
       "  </tbody>\n",
       "</table>\n",
       "<p>5 rows × 23 columns</p>\n",
       "</div>"
      ],
      "text/plain": [
       "         date  real_date  shares  revenue  cogs  gross_profit  net_profit  \\\n",
       "36 2023-12-31 2024-02-29   897.2     1858 -1106           752         412   \n",
       "37 2024-03-31 2024-05-10   897.2     2015 -1167           848         473   \n",
       "38 2024-06-30 2024-08-12   897.2     1255  -696           559         215   \n",
       "39 2024-09-30 2024-10-28   897.2     1094  -611           483         133   \n",
       "40 2024-12-31 2025-02-10   897.2     1435  -821           614         338   \n",
       "\n",
       "    cash  acc_rec  inventory  ...  total_assets  acc_pay  short_term_debt  \\\n",
       "36  4183     1286        452  ...         18739     1181              507   \n",
       "37  4875     1030        405  ...         18956        0              580   \n",
       "38  4058      796        411  ...         17796        0              456   \n",
       "39  4255      692        348  ...         17729        0              420   \n",
       "40  4136     1007        420  ...         17307      956              333   \n",
       "\n",
       "    current_debt  curr_liab  long_term_debt  total_liab  \\\n",
       "36           961       3708            4476       10300   \n",
       "37          1815       4484            4039       10566   \n",
       "38           556       2361            4829        9240   \n",
       "39           509       2149            4843        8923   \n",
       "40           492       1877            4336        8153   \n",
       "\n",
       "    cash_from_operating_activities  capex  usd_nat_currency  \n",
       "36                             149   -130          0.929674  \n",
       "37                             538   -110          0.920544  \n",
       "38                             338   -108          0.928647  \n",
       "39                             349   -133          0.910617  \n",
       "40                             167   -121          0.937043  \n",
       "\n",
       "[5 rows x 23 columns]"
      ]
     },
     "execution_count": 8,
     "metadata": {},
     "output_type": "execute_result"
    }
   ],
   "source": [
    "data['usd_nat_currency'] = utils.daily_price(\n",
    "    ticker=currency_pair,\n",
    "    end=data['date'],\n",
    "    days_earlier=90\n",
    "    )\n",
    "\n",
    "# drop rows, when USD rates wasn't available\n",
    "data = data[data['usd_nat_currency'].notna()]\n",
    "\n",
    "data.tail()"
   ]
  },
  {
   "cell_type": "markdown",
   "id": "1555778a",
   "metadata": {
    "papermill": {
     "duration": 0.009206,
     "end_time": "2025-03-22T22:36:30.312469",
     "exception": false,
     "start_time": "2025-03-22T22:36:30.303263",
     "status": "completed"
    },
    "tags": []
   },
   "source": [
    "## Convert USD values related to IS, BS, CFS to national currency"
   ]
  },
  {
   "cell_type": "code",
   "execution_count": 9,
   "id": "11a339bd",
   "metadata": {
    "execution": {
     "iopub.execute_input": "2025-03-22T22:36:30.331137Z",
     "iopub.status.busy": "2025-03-22T22:36:30.330994Z",
     "iopub.status.idle": "2025-03-22T22:36:30.337881Z",
     "shell.execute_reply": "2025-03-22T22:36:30.337636Z"
    },
    "papermill": {
     "duration": 0.017275,
     "end_time": "2025-03-22T22:36:30.338744",
     "exception": false,
     "start_time": "2025-03-22T22:36:30.321469",
     "status": "completed"
    },
    "tags": []
   },
   "outputs": [
    {
     "data": {
      "text/html": [
       "<div>\n",
       "<style scoped>\n",
       "    .dataframe tbody tr th:only-of-type {\n",
       "        vertical-align: middle;\n",
       "    }\n",
       "\n",
       "    .dataframe tbody tr th {\n",
       "        vertical-align: top;\n",
       "    }\n",
       "\n",
       "    .dataframe thead th {\n",
       "        text-align: right;\n",
       "    }\n",
       "</style>\n",
       "<table border=\"1\" class=\"dataframe\">\n",
       "  <thead>\n",
       "    <tr style=\"text-align: right;\">\n",
       "      <th></th>\n",
       "      <th>date</th>\n",
       "      <th>real_date</th>\n",
       "      <th>shares</th>\n",
       "      <th>revenue</th>\n",
       "      <th>cogs</th>\n",
       "      <th>gross_profit</th>\n",
       "      <th>net_profit</th>\n",
       "      <th>cash</th>\n",
       "      <th>acc_rec</th>\n",
       "      <th>inventory</th>\n",
       "      <th>...</th>\n",
       "      <th>total_assets</th>\n",
       "      <th>acc_pay</th>\n",
       "      <th>short_term_debt</th>\n",
       "      <th>current_debt</th>\n",
       "      <th>curr_liab</th>\n",
       "      <th>long_term_debt</th>\n",
       "      <th>total_liab</th>\n",
       "      <th>cash_from_operating_activities</th>\n",
       "      <th>capex</th>\n",
       "      <th>usd_nat_currency</th>\n",
       "    </tr>\n",
       "  </thead>\n",
       "  <tbody>\n",
       "    <tr>\n",
       "      <th>36</th>\n",
       "      <td>2023-12-31</td>\n",
       "      <td>2024-02-29</td>\n",
       "      <td>897.2</td>\n",
       "      <td>1858</td>\n",
       "      <td>-1106</td>\n",
       "      <td>752</td>\n",
       "      <td>412</td>\n",
       "      <td>4183</td>\n",
       "      <td>1286</td>\n",
       "      <td>452</td>\n",
       "      <td>...</td>\n",
       "      <td>18739</td>\n",
       "      <td>1181</td>\n",
       "      <td>507</td>\n",
       "      <td>961</td>\n",
       "      <td>3708</td>\n",
       "      <td>4476</td>\n",
       "      <td>10300</td>\n",
       "      <td>149</td>\n",
       "      <td>-130</td>\n",
       "      <td>0.929674</td>\n",
       "    </tr>\n",
       "    <tr>\n",
       "      <th>37</th>\n",
       "      <td>2024-03-31</td>\n",
       "      <td>2024-05-10</td>\n",
       "      <td>897.2</td>\n",
       "      <td>2015</td>\n",
       "      <td>-1167</td>\n",
       "      <td>848</td>\n",
       "      <td>473</td>\n",
       "      <td>4875</td>\n",
       "      <td>1030</td>\n",
       "      <td>405</td>\n",
       "      <td>...</td>\n",
       "      <td>18956</td>\n",
       "      <td>0</td>\n",
       "      <td>580</td>\n",
       "      <td>1815</td>\n",
       "      <td>4484</td>\n",
       "      <td>4039</td>\n",
       "      <td>10566</td>\n",
       "      <td>538</td>\n",
       "      <td>-110</td>\n",
       "      <td>0.920544</td>\n",
       "    </tr>\n",
       "    <tr>\n",
       "      <th>38</th>\n",
       "      <td>2024-06-30</td>\n",
       "      <td>2024-08-12</td>\n",
       "      <td>897.2</td>\n",
       "      <td>1255</td>\n",
       "      <td>-696</td>\n",
       "      <td>559</td>\n",
       "      <td>215</td>\n",
       "      <td>4058</td>\n",
       "      <td>796</td>\n",
       "      <td>411</td>\n",
       "      <td>...</td>\n",
       "      <td>17796</td>\n",
       "      <td>0</td>\n",
       "      <td>456</td>\n",
       "      <td>556</td>\n",
       "      <td>2361</td>\n",
       "      <td>4829</td>\n",
       "      <td>9240</td>\n",
       "      <td>338</td>\n",
       "      <td>-108</td>\n",
       "      <td>0.928647</td>\n",
       "    </tr>\n",
       "    <tr>\n",
       "      <th>39</th>\n",
       "      <td>2024-09-30</td>\n",
       "      <td>2024-10-28</td>\n",
       "      <td>897.2</td>\n",
       "      <td>1094</td>\n",
       "      <td>-611</td>\n",
       "      <td>483</td>\n",
       "      <td>133</td>\n",
       "      <td>4255</td>\n",
       "      <td>692</td>\n",
       "      <td>348</td>\n",
       "      <td>...</td>\n",
       "      <td>17729</td>\n",
       "      <td>0</td>\n",
       "      <td>420</td>\n",
       "      <td>509</td>\n",
       "      <td>2149</td>\n",
       "      <td>4843</td>\n",
       "      <td>8923</td>\n",
       "      <td>349</td>\n",
       "      <td>-133</td>\n",
       "      <td>0.910617</td>\n",
       "    </tr>\n",
       "    <tr>\n",
       "      <th>40</th>\n",
       "      <td>2024-12-31</td>\n",
       "      <td>2025-02-10</td>\n",
       "      <td>897.2</td>\n",
       "      <td>1435</td>\n",
       "      <td>-821</td>\n",
       "      <td>614</td>\n",
       "      <td>338</td>\n",
       "      <td>4136</td>\n",
       "      <td>1007</td>\n",
       "      <td>420</td>\n",
       "      <td>...</td>\n",
       "      <td>17307</td>\n",
       "      <td>956</td>\n",
       "      <td>333</td>\n",
       "      <td>492</td>\n",
       "      <td>1877</td>\n",
       "      <td>4336</td>\n",
       "      <td>8153</td>\n",
       "      <td>167</td>\n",
       "      <td>-121</td>\n",
       "      <td>0.937043</td>\n",
       "    </tr>\n",
       "  </tbody>\n",
       "</table>\n",
       "<p>5 rows × 23 columns</p>\n",
       "</div>"
      ],
      "text/plain": [
       "         date  real_date  shares  revenue  cogs  gross_profit  net_profit  \\\n",
       "36 2023-12-31 2024-02-29   897.2     1858 -1106           752         412   \n",
       "37 2024-03-31 2024-05-10   897.2     2015 -1167           848         473   \n",
       "38 2024-06-30 2024-08-12   897.2     1255  -696           559         215   \n",
       "39 2024-09-30 2024-10-28   897.2     1094  -611           483         133   \n",
       "40 2024-12-31 2025-02-10   897.2     1435  -821           614         338   \n",
       "\n",
       "    cash  acc_rec  inventory  ...  total_assets  acc_pay  short_term_debt  \\\n",
       "36  4183     1286        452  ...         18739     1181              507   \n",
       "37  4875     1030        405  ...         18956        0              580   \n",
       "38  4058      796        411  ...         17796        0              456   \n",
       "39  4255      692        348  ...         17729        0              420   \n",
       "40  4136     1007        420  ...         17307      956              333   \n",
       "\n",
       "    current_debt  curr_liab  long_term_debt  total_liab  \\\n",
       "36           961       3708            4476       10300   \n",
       "37          1815       4484            4039       10566   \n",
       "38           556       2361            4829        9240   \n",
       "39           509       2149            4843        8923   \n",
       "40           492       1877            4336        8153   \n",
       "\n",
       "    cash_from_operating_activities  capex  usd_nat_currency  \n",
       "36                             149   -130          0.929674  \n",
       "37                             538   -110          0.920544  \n",
       "38                             338   -108          0.928647  \n",
       "39                             349   -133          0.910617  \n",
       "40                             167   -121          0.937043  \n",
       "\n",
       "[5 rows x 23 columns]"
      ]
     },
     "execution_count": 9,
     "metadata": {},
     "output_type": "execute_result"
    }
   ],
   "source": [
    "# convert columns into national currency if necessary\n",
    "if numbers_in_currency == 'USD':\n",
    "    data_nat_curr = utils.convert_national_currency(input_data=data, currency=data)\n",
    "else:\n",
    "    data_nat_curr = data.copy()\n",
    "data_nat_curr.tail()"
   ]
  },
  {
   "cell_type": "markdown",
   "id": "c9464963",
   "metadata": {
    "papermill": {
     "duration": 0.008414,
     "end_time": "2025-03-22T22:36:30.355561",
     "exception": false,
     "start_time": "2025-03-22T22:36:30.347147",
     "status": "completed"
    },
    "tags": []
   },
   "source": [
    "# 3. Calculate input to Value Raios (eps, bv per share, fcf)\n",
    "## filter out unwanted columns"
   ]
  },
  {
   "cell_type": "code",
   "execution_count": 10,
   "id": "5465e734",
   "metadata": {
    "execution": {
     "iopub.execute_input": "2025-03-22T22:36:30.372740Z",
     "iopub.status.busy": "2025-03-22T22:36:30.372529Z",
     "iopub.status.idle": "2025-03-22T22:36:30.431200Z",
     "shell.execute_reply": "2025-03-22T22:36:30.430940Z"
    },
    "papermill": {
     "duration": 0.068402,
     "end_time": "2025-03-22T22:36:30.432137",
     "exception": false,
     "start_time": "2025-03-22T22:36:30.363735",
     "status": "completed"
    },
    "tags": []
   },
   "outputs": [],
   "source": [
    "filtered_nat_curr = utils.calculate_input_value_ratios(data_nat_curr)"
   ]
  },
  {
   "cell_type": "markdown",
   "id": "39c255bd",
   "metadata": {
    "papermill": {
     "duration": 0.008712,
     "end_time": "2025-03-22T22:36:30.449678",
     "exception": false,
     "start_time": "2025-03-22T22:36:30.440966",
     "status": "completed"
    },
    "tags": []
   },
   "source": [
    "## Calculate input values to value ratios"
   ]
  },
  {
   "cell_type": "code",
   "execution_count": 11,
   "id": "4a465f43",
   "metadata": {
    "execution": {
     "iopub.execute_input": "2025-03-22T22:36:30.466215Z",
     "iopub.status.busy": "2025-03-22T22:36:30.466052Z",
     "iopub.status.idle": "2025-03-22T22:36:30.468409Z",
     "shell.execute_reply": "2025-03-22T22:36:30.468174Z"
    },
    "papermill": {
     "duration": 0.012129,
     "end_time": "2025-03-22T22:36:30.469960",
     "exception": false,
     "start_time": "2025-03-22T22:36:30.457831",
     "status": "completed"
    },
    "tags": []
   },
   "outputs": [],
   "source": [
    "ratios_nat_curr = utils.ratios_input_filter(filtered_nat_curr)"
   ]
  },
  {
   "cell_type": "markdown",
   "id": "203c9fce",
   "metadata": {
    "papermill": {
     "duration": 0.008128,
     "end_time": "2025-03-22T22:36:30.485888",
     "exception": false,
     "start_time": "2025-03-22T22:36:30.477760",
     "status": "completed"
    },
    "tags": []
   },
   "source": [
    "## Calculate performance parameters (current ratio, ROA, ROE, margins, D/E)"
   ]
  },
  {
   "cell_type": "code",
   "execution_count": 12,
   "id": "11a5ec6a",
   "metadata": {
    "execution": {
     "iopub.execute_input": "2025-03-22T22:36:30.503042Z",
     "iopub.status.busy": "2025-03-22T22:36:30.502818Z",
     "iopub.status.idle": "2025-03-22T22:36:30.510075Z",
     "shell.execute_reply": "2025-03-22T22:36:30.509820Z"
    },
    "papermill": {
     "duration": 0.017188,
     "end_time": "2025-03-22T22:36:30.511452",
     "exception": false,
     "start_time": "2025-03-22T22:36:30.494264",
     "status": "completed"
    },
    "tags": []
   },
   "outputs": [],
   "source": [
    "ratios_nat_curr = utils.evaluate_performance(input=filtered_nat_curr, output=ratios_nat_curr)"
   ]
  },
  {
   "cell_type": "markdown",
   "id": "960073f6",
   "metadata": {
    "papermill": {
     "duration": 0.008241,
     "end_time": "2025-03-22T22:36:30.527561",
     "exception": false,
     "start_time": "2025-03-22T22:36:30.519320",
     "status": "completed"
    },
    "tags": []
   },
   "source": [
    "# 4. Pull historical share prices and merge with sattement data"
   ]
  },
  {
   "cell_type": "markdown",
   "id": "9b141a3c",
   "metadata": {
    "tags": [
     "papermill-error-cell-tag"
    ]
   },
   "source": [
    "<span id=\"papermill-error-cell\" style=\"color:red; font-family:Helvetica Neue, Helvetica, Arial, sans-serif; font-size:2em;\">Execution using papermill encountered an exception here and stopped:</span>"
   ]
  },
  {
   "cell_type": "code",
   "execution_count": 13,
   "id": "e92bca60",
   "metadata": {
    "execution": {
     "iopub.execute_input": "2025-03-22T22:36:30.544425Z",
     "iopub.status.busy": "2025-03-22T22:36:30.544218Z",
     "iopub.status.idle": "2025-03-22T22:36:33.063474Z",
     "shell.execute_reply": "2025-03-22T22:36:33.062755Z"
    },
    "papermill": {
     "duration": 2.528645,
     "end_time": "2025-03-22T22:36:33.064379",
     "exception": true,
     "start_time": "2025-03-22T22:36:30.535734",
     "status": "failed"
    },
    "tags": []
   },
   "outputs": [
    {
     "name": "stderr",
     "output_type": "stream",
     "text": [
      "$FORTUM.HE: possibly delisted; no price data found  (1wk 2014-12-31 00:00:00 -> 2025-03-22 23:36:30.545010)\n"
     ]
    },
    {
     "ename": "AttributeError",
     "evalue": "Can only use .dt accessor with datetimelike values",
     "output_type": "error",
     "traceback": [
      "\u001b[0;31m---------------------------------------------------------------------------\u001b[0m",
      "\u001b[0;31mAttributeError\u001b[0m                            Traceback (most recent call last)",
      "Cell \u001b[0;32mIn[13], line 2\u001b[0m\n\u001b[1;32m      1\u001b[0m \u001b[38;5;66;03m# pull weekly share prices and merge with the value ratios\u001b[39;00m\n\u001b[0;32m----> 2\u001b[0m merged_nat_curr \u001b[38;5;241m=\u001b[39m \u001b[43mutils\u001b[49m\u001b[38;5;241;43m.\u001b[39;49m\u001b[43madd_share_prices_to_value_ratios\u001b[49m\u001b[43m(\u001b[49m\u001b[43mshare_name\u001b[49m\u001b[43m,\u001b[49m\u001b[43m \u001b[49m\u001b[43mdata\u001b[49m\u001b[43m,\u001b[49m\u001b[43m \u001b[49m\u001b[43mratios_nat_curr\u001b[49m\u001b[43m)\u001b[49m\n\u001b[1;32m      3\u001b[0m merged_nat_curr\u001b[38;5;241m.\u001b[39mhead()\n",
      "File \u001b[0;32m~/Desktop/projects/Economy/valueinvesting/utils.py:224\u001b[0m, in \u001b[0;36madd_share_prices_to_value_ratios\u001b[0;34m(share_name, data, ratios_nat_curr)\u001b[0m\n\u001b[1;32m    222\u001b[0m share_price[\u001b[38;5;124m'\u001b[39m\u001b[38;5;124mreal_date\u001b[39m\u001b[38;5;124m'\u001b[39m] \u001b[38;5;241m=\u001b[39m share_price\u001b[38;5;241m.\u001b[39mindex\n\u001b[1;32m    223\u001b[0m \u001b[38;5;66;03m# remove localization (timezone) to let merge the two columns\u001b[39;00m\n\u001b[0;32m--> 224\u001b[0m share_price[\u001b[38;5;124m'\u001b[39m\u001b[38;5;124mreal_date\u001b[39m\u001b[38;5;124m'\u001b[39m] \u001b[38;5;241m=\u001b[39m \u001b[43mshare_price\u001b[49m\u001b[43m[\u001b[49m\u001b[38;5;124;43m'\u001b[39;49m\u001b[38;5;124;43mreal_date\u001b[39;49m\u001b[38;5;124;43m'\u001b[39;49m\u001b[43m]\u001b[49m\u001b[38;5;241;43m.\u001b[39;49m\u001b[43mdt\u001b[49m\u001b[38;5;241m.\u001b[39mtz_localize(\u001b[38;5;28;01mNone\u001b[39;00m)\n\u001b[1;32m    225\u001b[0m \u001b[38;5;66;03m# add share price column and keep the date and share prices\u001b[39;00m\n\u001b[1;32m    226\u001b[0m share_price[\u001b[38;5;124m'\u001b[39m\u001b[38;5;124mshare_price\u001b[39m\u001b[38;5;124m'\u001b[39m] \u001b[38;5;241m=\u001b[39m share_price[\u001b[38;5;124m'\u001b[39m\u001b[38;5;124mClose\u001b[39m\u001b[38;5;124m'\u001b[39m]\n",
      "File \u001b[0;32m~/Desktop/projects/Economy/venv/lib/python3.11/site-packages/pandas/core/generic.py:5989\u001b[0m, in \u001b[0;36mNDFrame.__getattr__\u001b[0;34m(self, name)\u001b[0m\n\u001b[1;32m   5982\u001b[0m \u001b[38;5;28;01mif\u001b[39;00m (\n\u001b[1;32m   5983\u001b[0m     name \u001b[38;5;129;01mnot\u001b[39;00m \u001b[38;5;129;01min\u001b[39;00m \u001b[38;5;28mself\u001b[39m\u001b[38;5;241m.\u001b[39m_internal_names_set\n\u001b[1;32m   5984\u001b[0m     \u001b[38;5;129;01mand\u001b[39;00m name \u001b[38;5;129;01mnot\u001b[39;00m \u001b[38;5;129;01min\u001b[39;00m \u001b[38;5;28mself\u001b[39m\u001b[38;5;241m.\u001b[39m_metadata\n\u001b[1;32m   5985\u001b[0m     \u001b[38;5;129;01mand\u001b[39;00m name \u001b[38;5;129;01mnot\u001b[39;00m \u001b[38;5;129;01min\u001b[39;00m \u001b[38;5;28mself\u001b[39m\u001b[38;5;241m.\u001b[39m_accessors\n\u001b[1;32m   5986\u001b[0m     \u001b[38;5;129;01mand\u001b[39;00m \u001b[38;5;28mself\u001b[39m\u001b[38;5;241m.\u001b[39m_info_axis\u001b[38;5;241m.\u001b[39m_can_hold_identifiers_and_holds_name(name)\n\u001b[1;32m   5987\u001b[0m ):\n\u001b[1;32m   5988\u001b[0m     \u001b[38;5;28;01mreturn\u001b[39;00m \u001b[38;5;28mself\u001b[39m[name]\n\u001b[0;32m-> 5989\u001b[0m \u001b[38;5;28;01mreturn\u001b[39;00m \u001b[38;5;28;43mobject\u001b[39;49m\u001b[38;5;241;43m.\u001b[39;49m\u001b[38;5;21;43m__getattribute__\u001b[39;49m\u001b[43m(\u001b[49m\u001b[38;5;28;43mself\u001b[39;49m\u001b[43m,\u001b[49m\u001b[43m \u001b[49m\u001b[43mname\u001b[49m\u001b[43m)\u001b[49m\n",
      "File \u001b[0;32m~/Desktop/projects/Economy/venv/lib/python3.11/site-packages/pandas/core/accessor.py:224\u001b[0m, in \u001b[0;36mCachedAccessor.__get__\u001b[0;34m(self, obj, cls)\u001b[0m\n\u001b[1;32m    221\u001b[0m \u001b[38;5;28;01mif\u001b[39;00m obj \u001b[38;5;129;01mis\u001b[39;00m \u001b[38;5;28;01mNone\u001b[39;00m:\n\u001b[1;32m    222\u001b[0m     \u001b[38;5;66;03m# we're accessing the attribute of the class, i.e., Dataset.geo\u001b[39;00m\n\u001b[1;32m    223\u001b[0m     \u001b[38;5;28;01mreturn\u001b[39;00m \u001b[38;5;28mself\u001b[39m\u001b[38;5;241m.\u001b[39m_accessor\n\u001b[0;32m--> 224\u001b[0m accessor_obj \u001b[38;5;241m=\u001b[39m \u001b[38;5;28;43mself\u001b[39;49m\u001b[38;5;241;43m.\u001b[39;49m\u001b[43m_accessor\u001b[49m\u001b[43m(\u001b[49m\u001b[43mobj\u001b[49m\u001b[43m)\u001b[49m\n\u001b[1;32m    225\u001b[0m \u001b[38;5;66;03m# Replace the property with the accessor object. Inspired by:\u001b[39;00m\n\u001b[1;32m    226\u001b[0m \u001b[38;5;66;03m# https://www.pydanny.com/cached-property.html\u001b[39;00m\n\u001b[1;32m    227\u001b[0m \u001b[38;5;66;03m# We need to use object.__setattr__ because we overwrite __setattr__ on\u001b[39;00m\n\u001b[1;32m    228\u001b[0m \u001b[38;5;66;03m# NDFrame\u001b[39;00m\n\u001b[1;32m    229\u001b[0m \u001b[38;5;28mobject\u001b[39m\u001b[38;5;241m.\u001b[39m\u001b[38;5;21m__setattr__\u001b[39m(obj, \u001b[38;5;28mself\u001b[39m\u001b[38;5;241m.\u001b[39m_name, accessor_obj)\n",
      "File \u001b[0;32m~/Desktop/projects/Economy/venv/lib/python3.11/site-packages/pandas/core/indexes/accessors.py:580\u001b[0m, in \u001b[0;36mCombinedDatetimelikeProperties.__new__\u001b[0;34m(cls, data)\u001b[0m\n\u001b[1;32m    577\u001b[0m \u001b[38;5;28;01melif\u001b[39;00m is_period_dtype(data\u001b[38;5;241m.\u001b[39mdtype):\n\u001b[1;32m    578\u001b[0m     \u001b[38;5;28;01mreturn\u001b[39;00m PeriodProperties(data, orig)\n\u001b[0;32m--> 580\u001b[0m \u001b[38;5;28;01mraise\u001b[39;00m \u001b[38;5;167;01mAttributeError\u001b[39;00m(\u001b[38;5;124m\"\u001b[39m\u001b[38;5;124mCan only use .dt accessor with datetimelike values\u001b[39m\u001b[38;5;124m\"\u001b[39m)\n",
      "\u001b[0;31mAttributeError\u001b[0m: Can only use .dt accessor with datetimelike values"
     ]
    }
   ],
   "source": [
    "# pull weekly share prices and merge with the value ratios\n",
    "merged_nat_curr = utils.add_share_prices_to_value_ratios(share_name, data, ratios_nat_curr)\n",
    "merged_nat_curr.head()"
   ]
  },
  {
   "cell_type": "markdown",
   "id": "b6e519ed",
   "metadata": {
    "papermill": {
     "duration": null,
     "end_time": null,
     "exception": null,
     "start_time": null,
     "status": "pending"
    },
    "tags": []
   },
   "source": [
    "# Calculate price ratios (P/E, P/B, P/S, P/FCF)"
   ]
  },
  {
   "cell_type": "code",
   "execution_count": null,
   "id": "863d0094",
   "metadata": {
    "execution": {
     "iopub.execute_input": "2025-02-14T20:50:58.521586Z",
     "iopub.status.busy": "2025-02-14T20:50:58.521458Z",
     "iopub.status.idle": "2025-02-14T20:50:58.530909Z",
     "shell.execute_reply": "2025-02-14T20:50:58.530474Z"
    },
    "papermill": {
     "duration": null,
     "end_time": null,
     "exception": null,
     "start_time": null,
     "status": "pending"
    },
    "tags": []
   },
   "outputs": [],
   "source": [
    "merged_nat_curr = utils.price_ratios(merged_nat_curr)\n",
    "merged_nat_curr.head()"
   ]
  },
  {
   "cell_type": "markdown",
   "id": "ce72bdcd",
   "metadata": {
    "papermill": {
     "duration": null,
     "end_time": null,
     "exception": null,
     "start_time": null,
     "status": "pending"
    },
    "tags": []
   },
   "source": [
    "# Calculate Dividend yield and currency-share price correlation"
   ]
  },
  {
   "cell_type": "code",
   "execution_count": null,
   "id": "2a5658eb",
   "metadata": {
    "execution": {
     "iopub.execute_input": "2025-02-14T20:50:58.570424Z",
     "iopub.status.busy": "2025-02-14T20:50:58.570295Z",
     "iopub.status.idle": "2025-02-14T20:50:59.491708Z",
     "shell.execute_reply": "2025-02-14T20:50:59.491369Z"
    },
    "papermill": {
     "duration": null,
     "end_time": null,
     "exception": null,
     "start_time": null,
     "status": "pending"
    },
    "tags": []
   },
   "outputs": [],
   "source": [
    "# get daily historical USD-national currency rates\n",
    "usd_nat_curr = utils.get_historical_currency_rate(currency_pair, merged_nat_curr)"
   ]
  },
  {
   "cell_type": "code",
   "execution_count": null,
   "id": "b58e21d3",
   "metadata": {
    "execution": {
     "iopub.execute_input": "2025-02-14T20:50:59.515930Z",
     "iopub.status.busy": "2025-02-14T20:50:59.515791Z",
     "iopub.status.idle": "2025-02-14T20:51:00.645607Z",
     "shell.execute_reply": "2025-02-14T20:51:00.644840Z"
    },
    "papermill": {
     "duration": null,
     "end_time": null,
     "exception": null,
     "start_time": null,
     "status": "pending"
    },
    "tags": []
   },
   "outputs": [],
   "source": [
    "# get share prices and dividend yield data\n",
    "ticker_all_price = utils.get_historical_share_dividend(share_name, merged_nat_curr)"
   ]
  },
  {
   "cell_type": "code",
   "execution_count": null,
   "id": "f88fde31",
   "metadata": {
    "execution": {
     "iopub.execute_input": "2025-02-14T20:51:00.668764Z",
     "iopub.status.busy": "2025-02-14T20:51:00.668623Z",
     "iopub.status.idle": "2025-02-14T20:51:00.899724Z",
     "shell.execute_reply": "2025-02-14T20:51:00.898662Z"
    },
    "papermill": {
     "duration": null,
     "end_time": null,
     "exception": null,
     "start_time": null,
     "status": "pending"
    },
    "tags": []
   },
   "outputs": [],
   "source": [
    "# Pearson's correlation coefficient between share price and USD - national currency rate\n",
    "utils.get_currency_share_price_correlation(share_name, usd_nat_curr, ticker_all_price)"
   ]
  },
  {
   "cell_type": "markdown",
   "id": "924b294a",
   "metadata": {
    "papermill": {
     "duration": null,
     "end_time": null,
     "exception": null,
     "start_time": null,
     "status": "pending"
    },
    "tags": []
   },
   "source": [
    "# Share price and value ratios"
   ]
  },
  {
   "cell_type": "code",
   "execution_count": null,
   "id": "c2487ed0",
   "metadata": {
    "execution": {
     "iopub.execute_input": "2025-02-14T20:51:00.954366Z",
     "iopub.status.busy": "2025-02-14T20:51:00.954092Z",
     "iopub.status.idle": "2025-02-14T20:51:08.149248Z",
     "shell.execute_reply": "2025-02-14T20:51:08.148685Z"
    },
    "papermill": {
     "duration": null,
     "end_time": null,
     "exception": null,
     "start_time": null,
     "status": "pending"
    },
    "tags": []
   },
   "outputs": [],
   "source": [
    "for column in merged_nat_curr.columns[3:]:\n",
    "    fig, ax1 = plt.subplots(figsize=(15, 6))\n",
    "\n",
    "    ax2 = ax1.twinx()\n",
    "    ax1.plot(merged_nat_curr['real_date'], merged_nat_curr[column], color='k', label=merged_nat_curr)\n",
    "    ax2.plot(ticker_all_price.index, ticker_all_price['Close'], color='b', label=share_name)\n",
    "\n",
    "    ax1.set_xlabel('Date')\n",
    "    ax1.set_ylabel(column, color='k')\n",
    "    ax2.set_ylabel('Share price (national currency)', color='b')\n",
    "\n",
    "    plt.legend()\n",
    "    plt.show()"
   ]
  },
  {
   "cell_type": "code",
   "execution_count": null,
   "id": "80ac5d43",
   "metadata": {
    "execution": {
     "iopub.execute_input": "2025-02-14T20:51:08.201219Z",
     "iopub.status.busy": "2025-02-14T20:51:08.201086Z",
     "iopub.status.idle": "2025-02-14T20:51:09.335266Z",
     "shell.execute_reply": "2025-02-14T20:51:09.334871Z"
    },
    "papermill": {
     "duration": null,
     "end_time": null,
     "exception": null,
     "start_time": null,
     "status": "pending"
    },
    "tags": []
   },
   "outputs": [],
   "source": [
    "# plot histograms of value parameters\n",
    "utils.plot_histogram_value_parameters(input_df=merged_nat_curr, extra_parameters=[], owned_shares=owned_shares)"
   ]
  },
  {
   "cell_type": "markdown",
   "id": "81b5825f",
   "metadata": {
    "papermill": {
     "duration": null,
     "end_time": null,
     "exception": null,
     "start_time": null,
     "status": "pending"
    },
    "tags": []
   },
   "source": [
    "## Calculate correlation between value parameters"
   ]
  },
  {
   "cell_type": "code",
   "execution_count": null,
   "id": "77574b54",
   "metadata": {
    "execution": {
     "iopub.execute_input": "2025-02-14T20:51:09.456133Z",
     "iopub.status.busy": "2025-02-14T20:51:09.455970Z",
     "iopub.status.idle": "2025-02-14T20:51:09.464357Z",
     "shell.execute_reply": "2025-02-14T20:51:09.463075Z"
    },
    "papermill": {
     "duration": null,
     "end_time": null,
     "exception": null,
     "start_time": null,
     "status": "pending"
    },
    "tags": []
   },
   "outputs": [],
   "source": [
    "# calulate value parameters Pearson's correlation coefficient\n",
    "pd.DataFrame(merged_nat_curr, columns=['roa', 'roe', 'pe_ratio', 'pb_ratio', 'ps_ratio', 'ev_revenue', 'debt_to_equity', 'current_ratio']).corr()"
   ]
  },
  {
   "cell_type": "code",
   "execution_count": null,
   "id": "c187a585",
   "metadata": {
    "execution": {
     "iopub.execute_input": "2025-02-14T20:51:09.522585Z",
     "iopub.status.busy": "2025-02-14T20:51:09.522451Z",
     "iopub.status.idle": "2025-02-14T20:51:10.696109Z",
     "shell.execute_reply": "2025-02-14T20:51:10.695172Z"
    },
    "papermill": {
     "duration": null,
     "end_time": null,
     "exception": null,
     "start_time": null,
     "status": "pending"
    },
    "tags": []
   },
   "outputs": [],
   "source": [
    "final_df = utils.get_value_stock_target_prices(\n",
    "    input_df=merged_nat_curr,\n",
    "    min_pct=0.2,\n",
    "    max_pct=0.5,\n",
    "    owned_shares=owned_shares\n",
    ")"
   ]
  }
 ],
 "metadata": {
  "kernelspec": {
   "display_name": ".venv",
   "language": "python",
   "name": "python3"
  },
  "language_info": {
   "codemirror_mode": {
    "name": "ipython",
    "version": 3
   },
   "file_extension": ".py",
   "mimetype": "text/x-python",
   "name": "python",
   "nbconvert_exporter": "python",
   "pygments_lexer": "ipython3",
   "version": "3.11.10"
  },
  "papermill": {
   "default_parameters": {},
   "duration": 13.241782,
   "end_time": "2025-03-22T22:36:33.493996",
   "environment_variables": {},
   "exception": true,
   "input_path": "../notebooks/fortum_national.ipynb",
   "output_path": "../notebooks/fortum_national.ipynb",
   "parameters": {},
   "start_time": "2025-03-22T22:36:20.252214",
   "version": "2.5.0"
  }
 },
 "nbformat": 4,
 "nbformat_minor": 5
}