{
 "cells": [
  {
   "cell_type": "code",
   "execution_count": null,
   "id": "19497aed",
   "metadata": {
    "execution": {
     "iopub.execute_input": "2024-04-12T15:00:04.375726Z",
     "iopub.status.busy": "2024-04-12T15:00:04.375210Z",
     "iopub.status.idle": "2024-04-12T15:00:05.109148Z",
     "shell.execute_reply": "2024-04-12T15:00:05.108881Z"
    },
    "papermill": {
     "duration": 0.760168,
     "end_time": "2024-04-12T15:00:05.110461",
     "exception": false,
     "start_time": "2024-04-12T15:00:04.350293",
     "status": "completed"
    },
    "tags": []
   },
   "outputs": [],
   "source": [
    "import pandas as pd\n",
    "import matplotlib.pyplot as plt\n",
    "import numpy as np\n",
    "\n",
    "import yfinance as yf\n",
    "import datetime\n",
    "import os\n",
    "\n",
    "from valueinvesting import utils as utils"
   ]
  },
  {
   "cell_type": "markdown",
   "id": "6c6d19c2",
   "metadata": {
    "papermill": {
     "duration": 0.012526,
     "end_time": "2024-04-12T15:00:05.137330",
     "exception": false,
     "start_time": "2024-04-12T15:00:05.124804",
     "status": "completed"
    },
    "tags": []
   },
   "source": [
    "# 1. Load raw input\n",
    "## Hardcoded block"
   ]
  },
  {
   "cell_type": "code",
   "execution_count": null,
   "id": "406fcaeb",
   "metadata": {},
   "outputs": [],
   "source": [
    "input_route = f\"../../data/extras/countries_stocks.csv\"\n",
    "stock_data = pd.read_csv(input_route)\n",
    "# optional filter\n",
    "stock_data = stock_data\n",
    "\n",
    "index = 23\n",
    "\n",
    "stock_data.head(index+1)"
   ]
  },
  {
   "cell_type": "code",
   "execution_count": null,
   "id": "31e8e46d",
   "metadata": {
    "execution": {
     "iopub.execute_input": "2024-04-12T15:00:05.159050Z",
     "iopub.status.busy": "2024-04-12T15:00:05.158760Z",
     "iopub.status.idle": "2024-04-12T15:00:05.160739Z",
     "shell.execute_reply": "2024-04-12T15:00:05.160492Z"
    },
    "papermill": {
     "duration": 0.013513,
     "end_time": "2024-04-12T15:00:05.161600",
     "exception": false,
     "start_time": "2024-04-12T15:00:05.148087",
     "status": "completed"
    },
    "tags": []
   },
   "outputs": [],
   "source": [
    "evaluate_last_X_years = False\n",
    "X=30\n",
    "currency_pair = stock_data.currency_pair[index]\n",
    "numbers_in_currency = stock_data.numbers_in_currency[index]\n",
    "share_name = stock_data.share_name[index]\n",
    "country = stock_data.country[index]"
   ]
  },
  {
   "cell_type": "markdown",
   "id": "73a8ec24",
   "metadata": {
    "papermill": {
     "duration": 0.009768,
     "end_time": "2024-04-12T15:00:05.180366",
     "exception": false,
     "start_time": "2024-04-12T15:00:05.170598",
     "status": "completed"
    },
    "tags": []
   },
   "source": [
    "# 1.2. Raw input statement data"
   ]
  },
  {
   "cell_type": "code",
   "execution_count": null,
   "id": "d6e79f23",
   "metadata": {
    "execution": {
     "iopub.execute_input": "2024-04-12T15:00:05.200686Z",
     "iopub.status.busy": "2024-04-12T15:00:05.200513Z",
     "iopub.status.idle": "2024-04-12T15:00:05.216874Z",
     "shell.execute_reply": "2024-04-12T15:00:05.216560Z"
    },
    "papermill": {
     "duration": 0.027645,
     "end_time": "2024-04-12T15:00:05.217908",
     "exception": false,
     "start_time": "2024-04-12T15:00:05.190263",
     "status": "completed"
    },
    "tags": []
   },
   "outputs": [],
   "source": [
    "route = f\"../../data/input/countries/{country}/{share_name}_data.csv\"\n",
    "\n",
    "data = pd.read_csv(route, sep=';', parse_dates=['date'])\n",
    "# replace -, extend missing 0-s, fix datatype\n",
    "data = utils.replace_format_input(data)\n",
    "data.head()"
   ]
  },
  {
   "cell_type": "code",
   "execution_count": null,
   "id": "a32eaff8",
   "metadata": {
    "execution": {
     "iopub.execute_input": "2024-04-12T15:00:05.239945Z",
     "iopub.status.busy": "2024-04-12T15:00:05.239722Z",
     "iopub.status.idle": "2024-04-12T15:00:05.243835Z",
     "shell.execute_reply": "2024-04-12T15:00:05.243544Z"
    },
    "papermill": {
     "duration": 0.015342,
     "end_time": "2024-04-12T15:00:05.244872",
     "exception": false,
     "start_time": "2024-04-12T15:00:05.229530",
     "status": "completed"
    },
    "tags": []
   },
   "outputs": [],
   "source": [
    "owned_shares = pd.read_csv('../../data/extras/owned_stocks.csv', sep=';', parse_dates=['date'])\n",
    "owned_shares = owned_shares.loc[(owned_shares['stock'] == share_name) & (owned_shares['active'] == 'yes')]"
   ]
  },
  {
   "cell_type": "markdown",
   "id": "402ff2d0",
   "metadata": {
    "papermill": {
     "duration": 0.008668,
     "end_time": "2024-04-12T15:00:05.264189",
     "exception": false,
     "start_time": "2024-04-12T15:00:05.255521",
     "status": "completed"
    },
    "tags": []
   },
   "source": [
    "## (OPTIONAL) Time Filtering - Last 7 years daat"
   ]
  },
  {
   "cell_type": "code",
   "execution_count": null,
   "id": "0d2d5828",
   "metadata": {
    "execution": {
     "iopub.execute_input": "2024-04-12T15:00:05.276841Z",
     "iopub.status.busy": "2024-04-12T15:00:05.276688Z",
     "iopub.status.idle": "2024-04-12T15:00:05.287138Z",
     "shell.execute_reply": "2024-04-12T15:00:05.286823Z"
    },
    "papermill": {
     "duration": 0.018305,
     "end_time": "2024-04-12T15:00:05.288049",
     "exception": false,
     "start_time": "2024-04-12T15:00:05.269744",
     "status": "completed"
    },
    "tags": []
   },
   "outputs": [],
   "source": [
    "if evaluate_last_X_years:\n",
    "    data = data[data['date'] > datetime.datetime.today() - datetime.timedelta(days=X*366+93)]\n",
    "    data = data.reset_index(drop=True)\n",
    "\n",
    "data.head()"
   ]
  },
  {
   "cell_type": "markdown",
   "id": "ea0d05b5",
   "metadata": {
    "papermill": {
     "duration": 0.01067,
     "end_time": "2024-04-12T15:00:05.310390",
     "exception": false,
     "start_time": "2024-04-12T15:00:05.299720",
     "status": "completed"
    },
    "tags": []
   },
   "source": [
    "## Calculate date when quaterly reports could be available"
   ]
  },
  {
   "cell_type": "code",
   "execution_count": null,
   "id": "42995b54",
   "metadata": {
    "execution": {
     "iopub.execute_input": "2024-04-12T15:00:05.327879Z",
     "iopub.status.busy": "2024-04-12T15:00:05.327738Z",
     "iopub.status.idle": "2024-04-12T15:00:05.330255Z",
     "shell.execute_reply": "2024-04-12T15:00:05.330011Z"
    },
    "papermill": {
     "duration": 0.011763,
     "end_time": "2024-04-12T15:00:05.331117",
     "exception": false,
     "start_time": "2024-04-12T15:00:05.319354",
     "status": "completed"
    },
    "tags": []
   },
   "outputs": [],
   "source": [
    "data = utils.calculate_real_date(data)"
   ]
  },
  {
   "cell_type": "markdown",
   "id": "a01cafa4",
   "metadata": {
    "papermill": {
     "duration": 0.007651,
     "end_time": "2024-04-12T15:00:05.347488",
     "exception": false,
     "start_time": "2024-04-12T15:00:05.339837",
     "status": "completed"
    },
    "tags": []
   },
   "source": [
    "# 2. Filter out unnecesary columns"
   ]
  },
  {
   "cell_type": "code",
   "execution_count": null,
   "id": "9bb76151",
   "metadata": {
    "execution": {
     "iopub.execute_input": "2024-04-12T15:00:05.360218Z",
     "iopub.status.busy": "2024-04-12T15:00:05.360062Z",
     "iopub.status.idle": "2024-04-12T15:00:05.366711Z",
     "shell.execute_reply": "2024-04-12T15:00:05.366468Z"
    },
    "papermill": {
     "duration": 0.014237,
     "end_time": "2024-04-12T15:00:05.367599",
     "exception": false,
     "start_time": "2024-04-12T15:00:05.353362",
     "status": "completed"
    },
    "tags": []
   },
   "outputs": [],
   "source": [
    "data = utils.filter_raw_data(data)\n",
    "data.tail()"
   ]
  },
  {
   "cell_type": "markdown",
   "id": "00846547",
   "metadata": {
    "papermill": {
     "duration": 0.010687,
     "end_time": "2024-04-12T15:00:05.388271",
     "exception": false,
     "start_time": "2024-04-12T15:00:05.377584",
     "status": "completed"
    },
    "tags": []
   },
   "source": [
    "## Pull historical average USD national currency rates and add to the dataframe"
   ]
  },
  {
   "cell_type": "code",
   "execution_count": null,
   "id": "385c885a",
   "metadata": {
    "execution": {
     "iopub.execute_input": "2024-04-12T15:00:05.409951Z",
     "iopub.status.busy": "2024-04-12T15:00:05.409793Z",
     "iopub.status.idle": "2024-04-12T15:00:12.653750Z",
     "shell.execute_reply": "2024-04-12T15:00:12.653115Z"
    },
    "papermill": {
     "duration": 7.255893,
     "end_time": "2024-04-12T15:00:12.655801",
     "exception": false,
     "start_time": "2024-04-12T15:00:05.399908",
     "status": "completed"
    },
    "tags": []
   },
   "outputs": [],
   "source": [
    "data['usd_nat_currency'] = utils.daily_price(\n",
    "    ticker=currency_pair,\n",
    "    end=data['date'],\n",
    "    days_earlier=90\n",
    "    )\n",
    "\n",
    "# drop rows, when USD rates wasn't available\n",
    "data = data[data['usd_nat_currency'].notna()]\n",
    "\n",
    "data.tail()"
   ]
  },
  {
   "cell_type": "markdown",
   "id": "ab6baa2d",
   "metadata": {
    "papermill": {
     "duration": 0.015294,
     "end_time": "2024-04-12T15:00:12.689444",
     "exception": false,
     "start_time": "2024-04-12T15:00:12.674150",
     "status": "completed"
    },
    "tags": []
   },
   "source": [
    "## Convert USD values related to IS, BS, CFS to national currency"
   ]
  },
  {
   "cell_type": "code",
   "execution_count": null,
   "id": "eb79ad15",
   "metadata": {
    "execution": {
     "iopub.execute_input": "2024-04-12T15:00:12.717832Z",
     "iopub.status.busy": "2024-04-12T15:00:12.717451Z",
     "iopub.status.idle": "2024-04-12T15:00:12.727190Z",
     "shell.execute_reply": "2024-04-12T15:00:12.726797Z"
    },
    "papermill": {
     "duration": 0.024866,
     "end_time": "2024-04-12T15:00:12.728407",
     "exception": false,
     "start_time": "2024-04-12T15:00:12.703541",
     "status": "completed"
    },
    "tags": []
   },
   "outputs": [],
   "source": [
    "# convert columns into national currency if necessary\n",
    "if numbers_in_currency == 'USD':\n",
    "    data_nat_curr = utils.convert_national_currency(input_data=data, currency=data)\n",
    "else:\n",
    "    data_nat_curr = data.copy()\n",
    "data_nat_curr.tail()"
   ]
  },
  {
   "cell_type": "markdown",
   "id": "347a6c5b",
   "metadata": {
    "papermill": {
     "duration": 0.012594,
     "end_time": "2024-04-12T15:00:12.756603",
     "exception": false,
     "start_time": "2024-04-12T15:00:12.744009",
     "status": "completed"
    },
    "tags": []
   },
   "source": [
    "# 3. Calculate input to Value Raios (eps, bv per share, fcf)\n",
    "## filter out unwanted columns"
   ]
  },
  {
   "cell_type": "code",
   "execution_count": null,
   "id": "d1066ca0",
   "metadata": {
    "execution": {
     "iopub.execute_input": "2024-04-12T15:00:12.783250Z",
     "iopub.status.busy": "2024-04-12T15:00:12.783045Z",
     "iopub.status.idle": "2024-04-12T15:00:12.786982Z",
     "shell.execute_reply": "2024-04-12T15:00:12.786593Z"
    },
    "papermill": {
     "duration": 0.019405,
     "end_time": "2024-04-12T15:00:12.788184",
     "exception": false,
     "start_time": "2024-04-12T15:00:12.768779",
     "status": "completed"
    },
    "tags": []
   },
   "outputs": [],
   "source": [
    "filtered_nat_curr = utils.calculate_input_value_ratios(data_nat_curr)"
   ]
  },
  {
   "cell_type": "markdown",
   "id": "5f5307bf",
   "metadata": {
    "papermill": {
     "duration": 0.011112,
     "end_time": "2024-04-12T15:00:12.811291",
     "exception": false,
     "start_time": "2024-04-12T15:00:12.800179",
     "status": "completed"
    },
    "tags": []
   },
   "source": [
    "## Calculate input values to value ratios"
   ]
  },
  {
   "cell_type": "code",
   "execution_count": null,
   "id": "b787f599",
   "metadata": {
    "execution": {
     "iopub.execute_input": "2024-04-12T15:00:12.839704Z",
     "iopub.status.busy": "2024-04-12T15:00:12.839526Z",
     "iopub.status.idle": "2024-04-12T15:00:12.842488Z",
     "shell.execute_reply": "2024-04-12T15:00:12.842145Z"
    },
    "papermill": {
     "duration": 0.018545,
     "end_time": "2024-04-12T15:00:12.843560",
     "exception": false,
     "start_time": "2024-04-12T15:00:12.825015",
     "status": "completed"
    },
    "tags": []
   },
   "outputs": [],
   "source": [
    "ratios_nat_curr = utils.ratios_input_filter(filtered_nat_curr)"
   ]
  },
  {
   "cell_type": "code",
   "execution_count": null,
   "id": "6ffaf17f",
   "metadata": {
    "execution": {
     "iopub.execute_input": "2024-04-12T15:00:12.868617Z",
     "iopub.status.busy": "2024-04-12T15:00:12.868456Z",
     "iopub.status.idle": "2024-04-12T15:00:12.875881Z",
     "shell.execute_reply": "2024-04-12T15:00:12.875532Z"
    },
    "papermill": {
     "duration": 0.020945,
     "end_time": "2024-04-12T15:00:12.876964",
     "exception": false,
     "start_time": "2024-04-12T15:00:12.856019",
     "status": "completed"
    },
    "tags": []
   },
   "outputs": [],
   "source": [
    "ratios_nat_curr = utils.evaluate_performance(input=filtered_nat_curr, output=ratios_nat_curr)"
   ]
  },
  {
   "cell_type": "markdown",
   "id": "1564d982",
   "metadata": {
    "papermill": {
     "duration": 0.01109,
     "end_time": "2024-04-12T15:00:12.901397",
     "exception": false,
     "start_time": "2024-04-12T15:00:12.890307",
     "status": "completed"
    },
    "tags": []
   },
   "source": [
    "# 4. Pull historical share prices and merge with sattement data"
   ]
  },
  {
   "cell_type": "code",
   "execution_count": null,
   "id": "7fd1b06d",
   "metadata": {
    "execution": {
     "iopub.execute_input": "2024-04-12T15:00:12.920079Z",
     "iopub.status.busy": "2024-04-12T15:00:12.919902Z",
     "iopub.status.idle": "2024-04-12T15:00:13.205945Z",
     "shell.execute_reply": "2024-04-12T15:00:13.205484Z"
    },
    "papermill": {
     "duration": 0.297143,
     "end_time": "2024-04-12T15:00:13.207372",
     "exception": false,
     "start_time": "2024-04-12T15:00:12.910229",
     "status": "completed"
    },
    "tags": []
   },
   "outputs": [],
   "source": [
    "# pull weekly share prices and merge with the value ratios\n",
    "merged_nat_curr = utils.add_share_prices_to_value_ratios(share_name, data, ratios_nat_curr)\n",
    "merged_nat_curr.head()"
   ]
  },
  {
   "cell_type": "markdown",
   "id": "2df40e2e",
   "metadata": {
    "papermill": {
     "duration": 0.019608,
     "end_time": "2024-04-12T15:00:13.244096",
     "exception": false,
     "start_time": "2024-04-12T15:00:13.224488",
     "status": "completed"
    },
    "tags": []
   },
   "source": [
    "# Calculate price ratios (P/E, P/B, P/S, P/FCF)"
   ]
  },
  {
   "cell_type": "code",
   "execution_count": null,
   "id": "f4c51a75",
   "metadata": {
    "execution": {
     "iopub.execute_input": "2024-04-12T15:00:13.274091Z",
     "iopub.status.busy": "2024-04-12T15:00:13.273852Z",
     "iopub.status.idle": "2024-04-12T15:00:13.287300Z",
     "shell.execute_reply": "2024-04-12T15:00:13.286945Z"
    },
    "papermill": {
     "duration": 0.029697,
     "end_time": "2024-04-12T15:00:13.288508",
     "exception": false,
     "start_time": "2024-04-12T15:00:13.258811",
     "status": "completed"
    },
    "tags": []
   },
   "outputs": [],
   "source": [
    "merged_nat_curr = utils.price_ratios(merged_nat_curr)\n",
    "merged_nat_curr.head()"
   ]
  },
  {
   "cell_type": "markdown",
   "id": "c05a2a14",
   "metadata": {
    "papermill": {
     "duration": 0.011106,
     "end_time": "2024-04-12T15:00:13.312553",
     "exception": false,
     "start_time": "2024-04-12T15:00:13.301447",
     "status": "completed"
    },
    "tags": []
   },
   "source": [
    "# Calculate Dividend yield and currency-share price correlation"
   ]
  },
  {
   "cell_type": "code",
   "execution_count": null,
   "id": "09df4998",
   "metadata": {
    "execution": {
     "iopub.execute_input": "2024-04-12T15:00:13.341874Z",
     "iopub.status.busy": "2024-04-12T15:00:13.341695Z",
     "iopub.status.idle": "2024-04-12T15:00:13.664095Z",
     "shell.execute_reply": "2024-04-12T15:00:13.663563Z"
    },
    "papermill": {
     "duration": 0.338073,
     "end_time": "2024-04-12T15:00:13.666095",
     "exception": false,
     "start_time": "2024-04-12T15:00:13.328022",
     "status": "completed"
    },
    "tags": []
   },
   "outputs": [],
   "source": [
    "# get daily historical USD-national currency rates\n",
    "usd_nat_curr = utils.get_historical_currency_rate(currency_pair, merged_nat_curr)"
   ]
  },
  {
   "cell_type": "code",
   "execution_count": null,
   "id": "8c59f96f",
   "metadata": {
    "execution": {
     "iopub.execute_input": "2024-04-12T15:00:13.705098Z",
     "iopub.status.busy": "2024-04-12T15:00:13.704696Z",
     "iopub.status.idle": "2024-04-12T15:00:14.174269Z",
     "shell.execute_reply": "2024-04-12T15:00:14.174007Z"
    },
    "papermill": {
     "duration": 0.486239,
     "end_time": "2024-04-12T15:00:14.175291",
     "exception": false,
     "start_time": "2024-04-12T15:00:13.689052",
     "status": "completed"
    },
    "tags": []
   },
   "outputs": [],
   "source": [
    "# get share prices and dividend yield data\n",
    "ticker_all_price = utils.get_historical_share_dividend(share_name, merged_nat_curr)"
   ]
  },
  {
   "cell_type": "code",
   "execution_count": null,
   "id": "fef29587",
   "metadata": {
    "execution": {
     "iopub.execute_input": "2024-04-12T15:00:14.201735Z",
     "iopub.status.busy": "2024-04-12T15:00:14.201611Z",
     "iopub.status.idle": "2024-04-12T15:00:14.368450Z",
     "shell.execute_reply": "2024-04-12T15:00:14.368173Z"
    },
    "papermill": {
     "duration": 0.178182,
     "end_time": "2024-04-12T15:00:14.369314",
     "exception": false,
     "start_time": "2024-04-12T15:00:14.191132",
     "status": "completed"
    },
    "tags": []
   },
   "outputs": [],
   "source": [
    "# Pearson's correlation coefficient between share price and USD - national currency rate\n",
    "utils.get_currency_share_price_correlation(share_name, usd_nat_curr, ticker_all_price)"
   ]
  },
  {
   "cell_type": "markdown",
   "id": "8242c0c1",
   "metadata": {
    "papermill": {
     "duration": 0.013693,
     "end_time": "2024-04-12T15:00:14.397826",
     "exception": false,
     "start_time": "2024-04-12T15:00:14.384133",
     "status": "completed"
    },
    "tags": []
   },
   "source": [
    "# Share price and value ratios"
   ]
  },
  {
   "cell_type": "code",
   "execution_count": null,
   "id": "5450fab9",
   "metadata": {
    "execution": {
     "iopub.execute_input": "2024-04-12T15:00:14.421014Z",
     "iopub.status.busy": "2024-04-12T15:00:14.420900Z",
     "iopub.status.idle": "2024-04-12T15:00:18.573924Z",
     "shell.execute_reply": "2024-04-12T15:00:18.573660Z"
    },
    "papermill": {
     "duration": 4.164366,
     "end_time": "2024-04-12T15:00:18.574828",
     "exception": false,
     "start_time": "2024-04-12T15:00:14.410462",
     "status": "completed"
    },
    "tags": []
   },
   "outputs": [],
   "source": [
    "for column in merged_nat_curr.columns[3:]:\n",
    "    fig, ax1 = plt.subplots(figsize=(15, 6))\n",
    "\n",
    "    ax2 = ax1.twinx()\n",
    "    ax1.plot(merged_nat_curr['real_date'], merged_nat_curr[column], color='k', label=merged_nat_curr)\n",
    "    ax2.plot(ticker_all_price.index, ticker_all_price['Close'], color='b', label=share_name)\n",
    "\n",
    "    ax1.set_xlabel('Date')\n",
    "    ax1.set_ylabel(column, color='k')\n",
    "    ax2.set_ylabel('Share price (national currency)', color='b')\n",
    "\n",
    "    plt.legend()\n",
    "    plt.show()"
   ]
  },
  {
   "cell_type": "code",
   "execution_count": null,
   "id": "4212a8e8",
   "metadata": {
    "execution": {
     "iopub.execute_input": "2024-04-12T15:00:18.627033Z",
     "iopub.status.busy": "2024-04-12T15:00:18.626861Z",
     "iopub.status.idle": "2024-04-12T15:00:19.323838Z",
     "shell.execute_reply": "2024-04-12T15:00:19.323588Z"
    },
    "papermill": {
     "duration": 0.721978,
     "end_time": "2024-04-12T15:00:19.324687",
     "exception": false,
     "start_time": "2024-04-12T15:00:18.602709",
     "status": "completed"
    },
    "tags": []
   },
   "outputs": [],
   "source": [
    "# plot histograms of value parameters\n",
    "utils.plot_histogram_value_parameters(input_df=merged_nat_curr, extra_parameters=[], owned_shares=owned_shares)"
   ]
  },
  {
   "cell_type": "markdown",
   "id": "98a31848",
   "metadata": {
    "papermill": {
     "duration": 0.023265,
     "end_time": "2024-04-12T15:00:19.373417",
     "exception": false,
     "start_time": "2024-04-12T15:00:19.350152",
     "status": "completed"
    },
    "tags": []
   },
   "source": [
    "## Calculate correlation between value parameters"
   ]
  },
  {
   "cell_type": "code",
   "execution_count": null,
   "id": "8c712213",
   "metadata": {
    "execution": {
     "iopub.execute_input": "2024-04-12T15:00:19.424553Z",
     "iopub.status.busy": "2024-04-12T15:00:19.424420Z",
     "iopub.status.idle": "2024-04-12T15:00:19.429885Z",
     "shell.execute_reply": "2024-04-12T15:00:19.429322Z"
    },
    "papermill": {
     "duration": 0.031563,
     "end_time": "2024-04-12T15:00:19.431008",
     "exception": false,
     "start_time": "2024-04-12T15:00:19.399445",
     "status": "completed"
    },
    "tags": []
   },
   "outputs": [],
   "source": [
    "# calulate value parameters Pearson's correlation coefficient\n",
    "pd.DataFrame(merged_nat_curr, columns=['roa', 'roe', 'pe_ratio', 'pb_ratio', 'ps_ratio', 'ev_revenue', 'debt_to_equity', 'current_ratio']).corr()"
   ]
  },
  {
   "cell_type": "code",
   "execution_count": null,
   "id": "212c1e6d",
   "metadata": {
    "execution": {
     "iopub.execute_input": "2024-04-12T15:00:19.483820Z",
     "iopub.status.busy": "2024-04-12T15:00:19.483685Z",
     "iopub.status.idle": "2024-04-12T15:00:20.561473Z",
     "shell.execute_reply": "2024-04-12T15:00:20.561211Z"
    },
    "papermill": {
     "duration": 1.104197,
     "end_time": "2024-04-12T15:00:20.562605",
     "exception": false,
     "start_time": "2024-04-12T15:00:19.458408",
     "status": "completed"
    },
    "tags": []
   },
   "outputs": [],
   "source": [
    "# plot value parameters in time and identify similar events\n",
    "utils.get_historical_analouges(\n",
    "    input_df=merged_nat_curr,\n",
    "    ticker_all_price=ticker_all_price,\n",
    "    share_name=share_name,\n",
    "    tolerance=0.2,\n",
    "    owned_shares=owned_shares\n",
    "    )"
   ]
  }
 ],
 "metadata": {
  "kernelspec": {
   "display_name": ".venv",
   "language": "python",
   "name": "python3"
  },
  "language_info": {
   "codemirror_mode": {
    "name": "ipython",
    "version": 3
   },
   "file_extension": ".py",
   "mimetype": "text/x-python",
   "name": "python",
   "nbconvert_exporter": "python",
   "pygments_lexer": "ipython3",
   "version": "3.11.3"
  },
  "papermill": {
   "default_parameters": {},
   "duration": 17.423892,
   "end_time": "2024-04-12T15:00:20.912344",
   "environment_variables": {},
   "exception": null,
   "input_path": "../notebooks/austevoll_national.ipynb",
   "output_path": "../notebooks/austevoll_national.ipynb",
   "parameters": {},
   "start_time": "2024-04-12T15:00:03.488452",
   "version": "2.5.0"
  }
 },
 "nbformat": 4,
 "nbformat_minor": 5
}
