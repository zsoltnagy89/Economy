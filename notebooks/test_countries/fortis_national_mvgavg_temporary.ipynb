{
 "cells": [
  {
   "cell_type": "code",
   "execution_count": null,
   "id": "c62f6748",
   "metadata": {
    "execution": {
     "iopub.execute_input": "2024-08-01T14:47:19.540088Z",
     "iopub.status.busy": "2024-08-01T14:47:19.539942Z",
     "iopub.status.idle": "2024-08-01T14:47:20.425164Z",
     "shell.execute_reply": "2024-08-01T14:47:20.423993Z"
    },
    "papermill": {
     "duration": 0.902508,
     "end_time": "2024-08-01T14:47:20.429066",
     "exception": false,
     "start_time": "2024-08-01T14:47:19.526558",
     "status": "completed"
    },
    "tags": []
   },
   "outputs": [],
   "source": [
    "import pandas as pd\n",
    "import matplotlib.pyplot as plt\n",
    "import numpy as np\n",
    "\n",
    "import yfinance as yf\n",
    "import datetime\n",
    "\n",
    "from valueinvesting import utils as utils"
   ]
  },
  {
   "cell_type": "markdown",
   "id": "8946895f",
   "metadata": {
    "papermill": {
     "duration": 0.008142,
     "end_time": "2024-08-01T14:47:20.452016",
     "exception": false,
     "start_time": "2024-08-01T14:47:20.443874",
     "status": "completed"
    },
    "tags": []
   },
   "source": [
    "# 1. Load raw input\n",
    "## Hardcoded block"
   ]
  },
  {
   "cell_type": "code",
   "execution_count": null,
   "id": "d53a6306",
   "metadata": {
    "execution": {
     "iopub.execute_input": "2024-08-01T14:47:20.463873Z",
     "iopub.status.busy": "2024-08-01T14:47:20.463685Z",
     "iopub.status.idle": "2024-08-01T14:47:20.465587Z",
     "shell.execute_reply": "2024-08-01T14:47:20.465333Z"
    },
    "papermill": {
     "duration": 0.009282,
     "end_time": "2024-08-01T14:47:20.466381",
     "exception": false,
     "start_time": "2024-08-01T14:47:20.457099",
     "status": "completed"
    },
    "tags": []
   },
   "outputs": [],
   "source": [
    "evaluate_last_X_years = False\n",
    "X=10\n",
    "currency_pair = 'CAD=X'\n",
    "numbers_in_currency = 'CAD'\n",
    "share_name = 'FTS.TO'"
   ]
  },
  {
   "cell_type": "markdown",
   "id": "9f69a944",
   "metadata": {
    "papermill": {
     "duration": 0.00514,
     "end_time": "2024-08-01T14:47:20.476793",
     "exception": false,
     "start_time": "2024-08-01T14:47:20.471653",
     "status": "completed"
    },
    "tags": []
   },
   "source": [
    "# 1.2. Raw input statement data"
   ]
  },
  {
   "cell_type": "code",
   "execution_count": null,
   "id": "e55176c3",
   "metadata": {
    "execution": {
     "iopub.execute_input": "2024-08-01T14:47:20.489323Z",
     "iopub.status.busy": "2024-08-01T14:47:20.489086Z",
     "iopub.status.idle": "2024-08-01T14:47:20.540412Z",
     "shell.execute_reply": "2024-08-01T14:47:20.537180Z"
    },
    "papermill": {
     "duration": 0.059754,
     "end_time": "2024-08-01T14:47:20.542361",
     "exception": false,
     "start_time": "2024-08-01T14:47:20.482607",
     "status": "completed"
    },
    "tags": []
   },
   "outputs": [],
   "source": [
    "route = f\"../../data/input/{share_name}_data.csv\"\n",
    "data = pd.read_csv(route, sep=';', parse_dates=['date', 'real_date'])\n",
    "# replace -, extend missing 0-s, fix datatype\n",
    "data = utils.replace_format_input(data)"
   ]
  },
  {
   "cell_type": "code",
   "execution_count": null,
   "id": "7db5eb15",
   "metadata": {
    "execution": {
     "iopub.execute_input": "2024-08-01T14:47:20.560102Z",
     "iopub.status.busy": "2024-08-01T14:47:20.559895Z",
     "iopub.status.idle": "2024-08-01T14:47:20.563977Z",
     "shell.execute_reply": "2024-08-01T14:47:20.563732Z"
    },
    "papermill": {
     "duration": 0.012206,
     "end_time": "2024-08-01T14:47:20.564932",
     "exception": false,
     "start_time": "2024-08-01T14:47:20.552726",
     "status": "completed"
    },
    "tags": []
   },
   "outputs": [],
   "source": [
    "owned_shares = pd.read_csv('../../data/extras/owned_stocks.csv', sep=';', parse_dates=['date'])\n",
    "owned_shares = owned_shares.loc[(owned_shares['stock'] == share_name) & (owned_shares['active'] == 'yes')]"
   ]
  },
  {
   "cell_type": "markdown",
   "id": "4eb42785",
   "metadata": {
    "papermill": {
     "duration": 0.00595,
     "end_time": "2024-08-01T14:47:20.576805",
     "exception": false,
     "start_time": "2024-08-01T14:47:20.570855",
     "status": "completed"
    },
    "tags": []
   },
   "source": [
    "## (OPTIONAL) Time Filtering - Last 7 years daat"
   ]
  },
  {
   "cell_type": "code",
   "execution_count": null,
   "id": "bf4cfeb0",
   "metadata": {
    "execution": {
     "iopub.execute_input": "2024-08-01T14:47:20.590754Z",
     "iopub.status.busy": "2024-08-01T14:47:20.590521Z",
     "iopub.status.idle": "2024-08-01T14:47:20.601041Z",
     "shell.execute_reply": "2024-08-01T14:47:20.600780Z"
    },
    "papermill": {
     "duration": 0.018208,
     "end_time": "2024-08-01T14:47:20.601875",
     "exception": false,
     "start_time": "2024-08-01T14:47:20.583667",
     "status": "completed"
    },
    "tags": []
   },
   "outputs": [],
   "source": [
    "if evaluate_last_X_years:\n",
    "    data = data[data['date'] > datetime.datetime.today() - datetime.timedelta(days=X*366+93)]\n",
    "    data = data.reset_index(drop=True)\n",
    "\n",
    "data.head()"
   ]
  },
  {
   "cell_type": "markdown",
   "id": "8056d0a2",
   "metadata": {
    "papermill": {
     "duration": 0.006856,
     "end_time": "2024-08-01T14:47:20.615047",
     "exception": false,
     "start_time": "2024-08-01T14:47:20.608191",
     "status": "completed"
    },
    "tags": []
   },
   "source": [
    "## Calculate date when quaterly reports could be available"
   ]
  },
  {
   "cell_type": "code",
   "execution_count": null,
   "id": "c51ec1f5",
   "metadata": {
    "execution": {
     "iopub.execute_input": "2024-08-01T14:47:20.631607Z",
     "iopub.status.busy": "2024-08-01T14:47:20.631327Z",
     "iopub.status.idle": "2024-08-01T14:47:20.633528Z",
     "shell.execute_reply": "2024-08-01T14:47:20.633200Z"
    },
    "papermill": {
     "duration": 0.013597,
     "end_time": "2024-08-01T14:47:20.634920",
     "exception": false,
     "start_time": "2024-08-01T14:47:20.621323",
     "status": "completed"
    },
    "tags": []
   },
   "outputs": [],
   "source": [
    "data = utils.calculate_real_date(data)"
   ]
  },
  {
   "cell_type": "markdown",
   "id": "2565427d",
   "metadata": {
    "papermill": {
     "duration": 0.006324,
     "end_time": "2024-08-01T14:47:20.647769",
     "exception": false,
     "start_time": "2024-08-01T14:47:20.641445",
     "status": "completed"
    },
    "tags": []
   },
   "source": [
    "# 2. Filter out unnecesary columns"
   ]
  },
  {
   "cell_type": "code",
   "execution_count": null,
   "id": "0cb17573",
   "metadata": {
    "execution": {
     "iopub.execute_input": "2024-08-01T14:47:20.663989Z",
     "iopub.status.busy": "2024-08-01T14:47:20.663855Z",
     "iopub.status.idle": "2024-08-01T14:47:20.670452Z",
     "shell.execute_reply": "2024-08-01T14:47:20.670166Z"
    },
    "papermill": {
     "duration": 0.01594,
     "end_time": "2024-08-01T14:47:20.671320",
     "exception": false,
     "start_time": "2024-08-01T14:47:20.655380",
     "status": "completed"
    },
    "tags": []
   },
   "outputs": [],
   "source": [
    "data = utils.filter_raw_data(data)\n",
    "data.tail()"
   ]
  },
  {
   "cell_type": "markdown",
   "id": "05e05b84",
   "metadata": {
    "papermill": {
     "duration": 0.007946,
     "end_time": "2024-08-01T14:47:20.686797",
     "exception": false,
     "start_time": "2024-08-01T14:47:20.678851",
     "status": "completed"
    },
    "tags": []
   },
   "source": [
    "## Pull historical average USD national currency rates and add to the dataframe"
   ]
  },
  {
   "cell_type": "code",
   "execution_count": null,
   "id": "b9ec9eaa",
   "metadata": {
    "execution": {
     "iopub.execute_input": "2024-08-01T14:47:20.703259Z",
     "iopub.status.busy": "2024-08-01T14:47:20.702915Z",
     "iopub.status.idle": "2024-08-01T14:47:29.197475Z",
     "shell.execute_reply": "2024-08-01T14:47:29.197109Z"
    },
    "papermill": {
     "duration": 8.503349,
     "end_time": "2024-08-01T14:47:29.199475",
     "exception": false,
     "start_time": "2024-08-01T14:47:20.696126",
     "status": "completed"
    },
    "tags": []
   },
   "outputs": [],
   "source": [
    "data['usd_nat_currency'] = utils.daily_price(\n",
    "    ticker=currency_pair,\n",
    "    end=data['date'],\n",
    "    days_earlier=90\n",
    "    )\n",
    "\n",
    "# drop rows, when USD rates wasn't available\n",
    "data = data[data['usd_nat_currency'].notna()]\n",
    "\n",
    "data.tail()"
   ]
  },
  {
   "cell_type": "markdown",
   "id": "5eb99a05",
   "metadata": {
    "papermill": {
     "duration": 0.005136,
     "end_time": "2024-08-01T14:47:29.222212",
     "exception": false,
     "start_time": "2024-08-01T14:47:29.217076",
     "status": "completed"
    },
    "tags": []
   },
   "source": [
    "## Convert USD values related to IS, BS, CFS to national currency"
   ]
  },
  {
   "cell_type": "code",
   "execution_count": null,
   "id": "d73c5121",
   "metadata": {
    "execution": {
     "iopub.execute_input": "2024-08-01T14:47:29.235839Z",
     "iopub.status.busy": "2024-08-01T14:47:29.235508Z",
     "iopub.status.idle": "2024-08-01T14:47:29.241633Z",
     "shell.execute_reply": "2024-08-01T14:47:29.241405Z"
    },
    "papermill": {
     "duration": 0.014154,
     "end_time": "2024-08-01T14:47:29.242357",
     "exception": false,
     "start_time": "2024-08-01T14:47:29.228203",
     "status": "completed"
    },
    "tags": []
   },
   "outputs": [],
   "source": [
    "# convert columns into national currency if necessary\n",
    "if numbers_in_currency == 'USD':\n",
    "    data_nat_curr = utils.convert_national_currency(input_data=data, currency=data)\n",
    "else:\n",
    "    data_nat_curr = data.copy()\n",
    "data_nat_curr.tail()"
   ]
  },
  {
   "cell_type": "markdown",
   "id": "47024373",
   "metadata": {
    "papermill": {
     "duration": 0.005955,
     "end_time": "2024-08-01T14:47:29.254169",
     "exception": false,
     "start_time": "2024-08-01T14:47:29.248214",
     "status": "completed"
    },
    "tags": []
   },
   "source": [
    "# 3. Calculate input to Value Raios (eps, bv per share, fcf)\n",
    "## filter out unwanted columns"
   ]
  },
  {
   "cell_type": "code",
   "execution_count": null,
   "id": "a62667cd",
   "metadata": {
    "execution": {
     "iopub.execute_input": "2024-08-01T14:47:29.265736Z",
     "iopub.status.busy": "2024-08-01T14:47:29.265618Z",
     "iopub.status.idle": "2024-08-01T14:47:29.269323Z",
     "shell.execute_reply": "2024-08-01T14:47:29.269089Z"
    },
    "papermill": {
     "duration": 0.010347,
     "end_time": "2024-08-01T14:47:29.270115",
     "exception": false,
     "start_time": "2024-08-01T14:47:29.259768",
     "status": "completed"
    },
    "tags": []
   },
   "outputs": [],
   "source": [
    "filtered_nat_curr = utils.calculate_input_value_ratios(data_nat_curr)"
   ]
  },
  {
   "cell_type": "markdown",
   "id": "af4cefb8",
   "metadata": {
    "papermill": {
     "duration": 0.005495,
     "end_time": "2024-08-01T14:47:29.281426",
     "exception": false,
     "start_time": "2024-08-01T14:47:29.275931",
     "status": "completed"
    },
    "tags": []
   },
   "source": [
    "## Calculate input values to value ratios"
   ]
  },
  {
   "cell_type": "code",
   "execution_count": null,
   "id": "55936df9",
   "metadata": {
    "execution": {
     "iopub.execute_input": "2024-08-01T14:47:29.293139Z",
     "iopub.status.busy": "2024-08-01T14:47:29.293023Z",
     "iopub.status.idle": "2024-08-01T14:47:29.295345Z",
     "shell.execute_reply": "2024-08-01T14:47:29.295117Z"
    },
    "papermill": {
     "duration": 0.008869,
     "end_time": "2024-08-01T14:47:29.296125",
     "exception": false,
     "start_time": "2024-08-01T14:47:29.287256",
     "status": "completed"
    },
    "tags": []
   },
   "outputs": [],
   "source": [
    "ratios_nat_curr = utils.ratios_input_filter(filtered_nat_curr)"
   ]
  },
  {
   "cell_type": "code",
   "execution_count": null,
   "id": "ea7c6c41",
   "metadata": {
    "execution": {
     "iopub.execute_input": "2024-08-01T14:47:29.307659Z",
     "iopub.status.busy": "2024-08-01T14:47:29.307537Z",
     "iopub.status.idle": "2024-08-01T14:47:29.313377Z",
     "shell.execute_reply": "2024-08-01T14:47:29.313111Z"
    },
    "papermill": {
     "duration": 0.012431,
     "end_time": "2024-08-01T14:47:29.314166",
     "exception": false,
     "start_time": "2024-08-01T14:47:29.301735",
     "status": "completed"
    },
    "tags": []
   },
   "outputs": [],
   "source": [
    "ratios_nat_curr = utils.evaluate_performance(input=filtered_nat_curr, output=ratios_nat_curr)"
   ]
  },
  {
   "cell_type": "markdown",
   "id": "6e8a8e13",
   "metadata": {
    "papermill": {
     "duration": 0.004961,
     "end_time": "2024-08-01T14:47:29.324607",
     "exception": false,
     "start_time": "2024-08-01T14:47:29.319646",
     "status": "completed"
    },
    "tags": []
   },
   "source": [
    "# 4. Pull historical share prices and merge with sattement data\n",
    "## Pull historical share prices"
   ]
  },
  {
   "cell_type": "code",
   "execution_count": null,
   "id": "2bb3e167",
   "metadata": {
    "execution": {
     "iopub.execute_input": "2024-08-01T14:47:29.337355Z",
     "iopub.status.busy": "2024-08-01T14:47:29.337157Z",
     "iopub.status.idle": "2024-08-01T14:47:29.656261Z",
     "shell.execute_reply": "2024-08-01T14:47:29.656020Z"
    },
    "papermill": {
     "duration": 0.326868,
     "end_time": "2024-08-01T14:47:29.657105",
     "exception": false,
     "start_time": "2024-08-01T14:47:29.330237",
     "status": "completed"
    },
    "tags": []
   },
   "outputs": [],
   "source": [
    "# pull weekly share prices and merge with the value ratios\n",
    "merged_nat_curr = utils.add_share_prices_to_value_ratios(share_name, data, ratios_nat_curr)\n",
    "merged_nat_curr.head()"
   ]
  },
  {
   "cell_type": "markdown",
   "id": "cce97d60",
   "metadata": {
    "papermill": {
     "duration": 0.005185,
     "end_time": "2024-08-01T14:47:29.679704",
     "exception": false,
     "start_time": "2024-08-01T14:47:29.674519",
     "status": "completed"
    },
    "tags": []
   },
   "source": [
    "# Calculate price ratios (P/E, P/B, P/S, P/FCF)"
   ]
  },
  {
   "cell_type": "code",
   "execution_count": null,
   "id": "9ec8b5fa",
   "metadata": {
    "execution": {
     "iopub.execute_input": "2024-08-01T14:47:29.692039Z",
     "iopub.status.busy": "2024-08-01T14:47:29.691922Z",
     "iopub.status.idle": "2024-08-01T14:47:29.700106Z",
     "shell.execute_reply": "2024-08-01T14:47:29.699883Z"
    },
    "papermill": {
     "duration": 0.015442,
     "end_time": "2024-08-01T14:47:29.700887",
     "exception": false,
     "start_time": "2024-08-01T14:47:29.685445",
     "status": "completed"
    },
    "tags": []
   },
   "outputs": [],
   "source": [
    "merged_nat_curr = utils.price_ratios(merged_nat_curr)\n",
    "merged_nat_curr.head()"
   ]
  },
  {
   "cell_type": "markdown",
   "id": "926e825e",
   "metadata": {
    "papermill": {
     "duration": 0.00543,
     "end_time": "2024-08-01T14:47:29.712546",
     "exception": false,
     "start_time": "2024-08-01T14:47:29.707116",
     "status": "completed"
    },
    "tags": []
   },
   "source": [
    "# Calculate Dividend yield and currency-share price correlation"
   ]
  },
  {
   "cell_type": "code",
   "execution_count": null,
   "id": "3285650f",
   "metadata": {
    "execution": {
     "iopub.execute_input": "2024-08-01T14:47:29.725815Z",
     "iopub.status.busy": "2024-08-01T14:47:29.725630Z",
     "iopub.status.idle": "2024-08-01T14:47:30.073175Z",
     "shell.execute_reply": "2024-08-01T14:47:30.072907Z"
    },
    "papermill": {
     "duration": 0.355567,
     "end_time": "2024-08-01T14:47:30.074213",
     "exception": false,
     "start_time": "2024-08-01T14:47:29.718646",
     "status": "completed"
    },
    "tags": []
   },
   "outputs": [],
   "source": [
    "# get daily historical USD-national currency rates\n",
    "usd_nat_curr = utils.get_historical_currency_rate(currency_pair, merged_nat_curr)"
   ]
  },
  {
   "cell_type": "code",
   "execution_count": null,
   "id": "a09a0b2a",
   "metadata": {
    "execution": {
     "iopub.execute_input": "2024-08-01T14:47:30.088496Z",
     "iopub.status.busy": "2024-08-01T14:47:30.088294Z",
     "iopub.status.idle": "2024-08-01T14:47:30.584022Z",
     "shell.execute_reply": "2024-08-01T14:47:30.583318Z"
    },
    "papermill": {
     "duration": 0.50505,
     "end_time": "2024-08-01T14:47:30.585482",
     "exception": false,
     "start_time": "2024-08-01T14:47:30.080432",
     "status": "completed"
    },
    "tags": []
   },
   "outputs": [],
   "source": [
    "# get share prices and dividend yield data\n",
    "ticker_all_price = utils.get_historical_share_dividend(share_name, merged_nat_curr)"
   ]
  },
  {
   "cell_type": "code",
   "execution_count": null,
   "id": "2c24b19a",
   "metadata": {
    "execution": {
     "iopub.execute_input": "2024-08-01T14:47:30.601810Z",
     "iopub.status.busy": "2024-08-01T14:47:30.601362Z",
     "iopub.status.idle": "2024-08-01T14:47:30.774478Z",
     "shell.execute_reply": "2024-08-01T14:47:30.774177Z"
    },
    "papermill": {
     "duration": 0.183192,
     "end_time": "2024-08-01T14:47:30.775412",
     "exception": false,
     "start_time": "2024-08-01T14:47:30.592220",
     "status": "completed"
    },
    "tags": []
   },
   "outputs": [],
   "source": [
    "# Pearson's correlation coefficient between share price and USD - national currency rate\n",
    "utils.get_currency_share_price_correlation(share_name, usd_nat_curr, ticker_all_price)"
   ]
  },
  {
   "cell_type": "markdown",
   "id": "2929e739",
   "metadata": {
    "papermill": {
     "duration": 0.007824,
     "end_time": "2024-08-01T14:47:30.790458",
     "exception": false,
     "start_time": "2024-08-01T14:47:30.782634",
     "status": "completed"
    },
    "tags": []
   },
   "source": [
    "# Share price and value ratios"
   ]
  },
  {
   "cell_type": "code",
   "execution_count": null,
   "id": "fed2ec97",
   "metadata": {
    "execution": {
     "iopub.execute_input": "2024-08-01T14:47:30.809803Z",
     "iopub.status.busy": "2024-08-01T14:47:30.809671Z",
     "iopub.status.idle": "2024-08-01T14:47:34.746930Z",
     "shell.execute_reply": "2024-08-01T14:47:34.746453Z"
    },
    "papermill": {
     "duration": 3.94637,
     "end_time": "2024-08-01T14:47:34.747813",
     "exception": false,
     "start_time": "2024-08-01T14:47:30.801443",
     "status": "completed"
    },
    "tags": []
   },
   "outputs": [],
   "source": [
    "for column in merged_nat_curr.columns[3:]:\n",
    "    fig, ax1 = plt.subplots(figsize=(15, 6))\n",
    "\n",
    "    ax2 = ax1.twinx()\n",
    "    ax1.plot(merged_nat_curr['real_date'], merged_nat_curr[column], color='k', label=merged_nat_curr)\n",
    "    ax2.plot(ticker_all_price.index, ticker_all_price['Close'], color='b', label=share_name)\n",
    "\n",
    "    ax1.set_xlabel('Date')\n",
    "    ax1.set_ylabel(column, color='k')\n",
    "    ax2.set_ylabel('Share price (national currency)', color='b')\n",
    "\n",
    "    plt.legend()\n",
    "    plt.show()"
   ]
  },
  {
   "cell_type": "code",
   "execution_count": null,
   "id": "fe081bd2",
   "metadata": {
    "execution": {
     "iopub.execute_input": "2024-08-01T14:47:34.785733Z",
     "iopub.status.busy": "2024-08-01T14:47:34.785611Z",
     "iopub.status.idle": "2024-08-01T14:47:35.535209Z",
     "shell.execute_reply": "2024-08-01T14:47:35.534906Z"
    },
    "papermill": {
     "duration": 0.768831,
     "end_time": "2024-08-01T14:47:35.536146",
     "exception": false,
     "start_time": "2024-08-01T14:47:34.767315",
     "status": "completed"
    },
    "tags": []
   },
   "outputs": [],
   "source": [
    "# plot histograms of value parameters\n",
    "utils.plot_histogram_value_parameters(input_df=merged_nat_curr, extra_parameters=[], owned_shares=owned_shares)"
   ]
  },
  {
   "cell_type": "markdown",
   "id": "fde65cbf",
   "metadata": {
    "papermill": {
     "duration": 0.021123,
     "end_time": "2024-08-01T14:47:35.576604",
     "exception": false,
     "start_time": "2024-08-01T14:47:35.555481",
     "status": "completed"
    },
    "tags": []
   },
   "source": [
    "## Calculate correlation between value parameters"
   ]
  },
  {
   "cell_type": "code",
   "execution_count": null,
   "id": "2241edd7",
   "metadata": {
    "execution": {
     "iopub.execute_input": "2024-08-01T14:47:35.616814Z",
     "iopub.status.busy": "2024-08-01T14:47:35.616615Z",
     "iopub.status.idle": "2024-08-01T14:47:35.621881Z",
     "shell.execute_reply": "2024-08-01T14:47:35.621589Z"
    },
    "papermill": {
     "duration": 0.026238,
     "end_time": "2024-08-01T14:47:35.622826",
     "exception": false,
     "start_time": "2024-08-01T14:47:35.596588",
     "status": "completed"
    },
    "tags": []
   },
   "outputs": [],
   "source": [
    "# calulate value parameters Pearson's correlation coefficient\n",
    "pd.DataFrame(merged_nat_curr, columns=['roa', 'roe', 'pe_ratio', 'pb_ratio', 'ps_ratio', 'ev_revenue', 'debt_to_equity', 'current_ratio']).corr()"
   ]
  },
  {
   "cell_type": "code",
   "execution_count": null,
   "id": "b97a9d97",
   "metadata": {},
   "outputs": [],
   "source": [
    "final_df = utils.utility_evaluation(\n",
    "    input_df=merged_nat_curr,\n",
    "    owned_shares=owned_shares)"
   ]
  }
 ],
 "metadata": {
  "kernelspec": {
   "display_name": ".venv",
   "language": "python",
   "name": "python3"
  },
  "language_info": {
   "codemirror_mode": {
    "name": "ipython",
    "version": 3
   },
   "file_extension": ".py",
   "mimetype": "text/x-python",
   "name": "python",
   "nbconvert_exporter": "python",
   "pygments_lexer": "ipython3",
   "version": "3.11.3"
  },
  "papermill": {
   "default_parameters": {},
   "duration": 20.222311,
   "end_time": "2024-08-01T14:47:38.761293",
   "environment_variables": {},
   "exception": null,
   "input_path": "../notebooks/fortis_national.ipynb",
   "output_path": "../notebooks/fortis_national.ipynb",
   "parameters": {},
   "start_time": "2024-08-01T14:47:18.538982",
   "version": "2.5.0"
  }
 },
 "nbformat": 4,
 "nbformat_minor": 5
}
