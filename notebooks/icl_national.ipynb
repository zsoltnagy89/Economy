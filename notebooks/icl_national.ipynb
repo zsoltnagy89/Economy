{
 "cells": [
  {
   "cell_type": "code",
   "execution_count": null,
   "id": "4cbcb60d",
   "metadata": {
    "execution": {
     "iopub.execute_input": "2024-08-03T15:51:57.648633Z",
     "iopub.status.busy": "2024-08-03T15:51:57.648168Z",
     "iopub.status.idle": "2024-08-03T15:51:58.454072Z",
     "shell.execute_reply": "2024-08-03T15:51:58.453784Z"
    },
    "papermill": {
     "duration": 0.832801,
     "end_time": "2024-08-03T15:51:58.457315",
     "exception": false,
     "start_time": "2024-08-03T15:51:57.624514",
     "status": "completed"
    },
    "tags": []
   },
   "outputs": [],
   "source": [
    "import pandas as pd\n",
    "import matplotlib.pyplot as plt\n",
    "import numpy as np\n",
    "\n",
    "import yfinance as yf\n",
    "import datetime\n",
    "\n",
    "from valueinvesting import utils as utils"
   ]
  },
  {
   "cell_type": "markdown",
   "id": "26d21654",
   "metadata": {
    "papermill": {
     "duration": 0.018095,
     "end_time": "2024-08-03T15:51:58.484638",
     "exception": false,
     "start_time": "2024-08-03T15:51:58.466543",
     "status": "completed"
    },
    "tags": []
   },
   "source": [
    "# 1. Load raw input\n",
    "## Hardcoded block"
   ]
  },
  {
   "cell_type": "code",
   "execution_count": null,
   "id": "82a2a9cd",
   "metadata": {
    "execution": {
     "iopub.execute_input": "2024-08-03T15:51:58.495207Z",
     "iopub.status.busy": "2024-08-03T15:51:58.495024Z",
     "iopub.status.idle": "2024-08-03T15:51:58.496956Z",
     "shell.execute_reply": "2024-08-03T15:51:58.496696Z"
    },
    "papermill": {
     "duration": 0.008077,
     "end_time": "2024-08-03T15:51:58.497796",
     "exception": false,
     "start_time": "2024-08-03T15:51:58.489719",
     "status": "completed"
    },
    "tags": []
   },
   "outputs": [],
   "source": [
    "evaluate_last_X_years = True\n",
    "X=10\n",
    "currency_pair = 'USD=X'\n",
    "numbers_in_currency = 'USD'\n",
    "share_name = 'ICL'"
   ]
  },
  {
   "cell_type": "markdown",
   "id": "95b57d71",
   "metadata": {
    "papermill": {
     "duration": 0.004988,
     "end_time": "2024-08-03T15:51:58.508330",
     "exception": false,
     "start_time": "2024-08-03T15:51:58.503342",
     "status": "completed"
    },
    "tags": []
   },
   "source": [
    "# 1.1 Calculate Share numbers from total distributed dividend (CFS) and dividend amount"
   ]
  },
  {
   "cell_type": "markdown",
   "id": "b87f76dd",
   "metadata": {
    "papermill": {
     "duration": 0.00649,
     "end_time": "2024-08-03T15:51:58.520024",
     "exception": false,
     "start_time": "2024-08-03T15:51:58.513534",
     "status": "completed"
    },
    "tags": []
   },
   "source": [
    "# 1.2. Raw input statement data"
   ]
  },
  {
   "cell_type": "code",
   "execution_count": null,
   "id": "78818016",
   "metadata": {
    "execution": {
     "iopub.execute_input": "2024-08-03T15:51:58.532383Z",
     "iopub.status.busy": "2024-08-03T15:51:58.532213Z",
     "iopub.status.idle": "2024-08-03T15:51:58.559624Z",
     "shell.execute_reply": "2024-08-03T15:51:58.559027Z"
    },
    "papermill": {
     "duration": 0.035171,
     "end_time": "2024-08-03T15:51:58.561004",
     "exception": false,
     "start_time": "2024-08-03T15:51:58.525833",
     "status": "completed"
    },
    "tags": []
   },
   "outputs": [],
   "source": [
    "route = f\"../data/input/{share_name}_data.csv\"\n",
    "data = pd.read_csv(route, sep=';', parse_dates=['date', 'real_date'])\n",
    "# replace -, extend missing 0-s, fix datatype\n",
    "data = utils.replace_format_input(data)"
   ]
  },
  {
   "cell_type": "code",
   "execution_count": null,
   "id": "1a609bc2",
   "metadata": {
    "execution": {
     "iopub.execute_input": "2024-08-03T15:51:58.581253Z",
     "iopub.status.busy": "2024-08-03T15:51:58.580941Z",
     "iopub.status.idle": "2024-08-03T15:51:58.585887Z",
     "shell.execute_reply": "2024-08-03T15:51:58.585636Z"
    },
    "papermill": {
     "duration": 0.01545,
     "end_time": "2024-08-03T15:51:58.586865",
     "exception": false,
     "start_time": "2024-08-03T15:51:58.571415",
     "status": "completed"
    },
    "tags": []
   },
   "outputs": [],
   "source": [
    "owned_shares = pd.read_csv('../data/extras/owned_stocks.csv', sep=';', parse_dates=['date'])\n",
    "owned_shares = owned_shares.loc[(owned_shares['stock'] == share_name) & (owned_shares['active'] == 'yes')]"
   ]
  },
  {
   "cell_type": "markdown",
   "id": "2552a2ad",
   "metadata": {
    "papermill": {
     "duration": 0.004737,
     "end_time": "2024-08-03T15:51:58.597018",
     "exception": false,
     "start_time": "2024-08-03T15:51:58.592281",
     "status": "completed"
    },
    "tags": []
   },
   "source": [
    "## (OPTIONAL) Time Filtering - Last 7 years daat"
   ]
  },
  {
   "cell_type": "code",
   "execution_count": null,
   "id": "6176f70a",
   "metadata": {
    "execution": {
     "iopub.execute_input": "2024-08-03T15:51:58.609125Z",
     "iopub.status.busy": "2024-08-03T15:51:58.608889Z",
     "iopub.status.idle": "2024-08-03T15:51:58.618946Z",
     "shell.execute_reply": "2024-08-03T15:51:58.618665Z"
    },
    "papermill": {
     "duration": 0.01678,
     "end_time": "2024-08-03T15:51:58.619852",
     "exception": false,
     "start_time": "2024-08-03T15:51:58.603072",
     "status": "completed"
    },
    "tags": []
   },
   "outputs": [],
   "source": [
    "if evaluate_last_X_years:\n",
    "    data = data[data['date'] > datetime.datetime.today() - datetime.timedelta(days=X*366+93)]\n",
    "    data = data.reset_index(drop=True)\n",
    "\n",
    "data.head()"
   ]
  },
  {
   "cell_type": "markdown",
   "id": "8f0fef82",
   "metadata": {
    "papermill": {
     "duration": 0.005144,
     "end_time": "2024-08-03T15:51:58.630606",
     "exception": false,
     "start_time": "2024-08-03T15:51:58.625462",
     "status": "completed"
    },
    "tags": []
   },
   "source": [
    "## Calculate date when quaterly reports could be available"
   ]
  },
  {
   "cell_type": "code",
   "execution_count": null,
   "id": "94f62519",
   "metadata": {
    "execution": {
     "iopub.execute_input": "2024-08-03T15:51:58.648011Z",
     "iopub.status.busy": "2024-08-03T15:51:58.647884Z",
     "iopub.status.idle": "2024-08-03T15:51:58.649712Z",
     "shell.execute_reply": "2024-08-03T15:51:58.649433Z"
    },
    "papermill": {
     "duration": 0.009372,
     "end_time": "2024-08-03T15:51:58.650590",
     "exception": false,
     "start_time": "2024-08-03T15:51:58.641218",
     "status": "completed"
    },
    "tags": []
   },
   "outputs": [],
   "source": [
    "data = utils.calculate_real_date(data)"
   ]
  },
  {
   "cell_type": "markdown",
   "id": "ebd8d0a9",
   "metadata": {
    "papermill": {
     "duration": 0.006525,
     "end_time": "2024-08-03T15:51:58.667325",
     "exception": false,
     "start_time": "2024-08-03T15:51:58.660800",
     "status": "completed"
    },
    "tags": []
   },
   "source": [
    "# 2. Filter out unnecesary columns"
   ]
  },
  {
   "cell_type": "code",
   "execution_count": null,
   "id": "264a9ea9",
   "metadata": {
    "execution": {
     "iopub.execute_input": "2024-08-03T15:51:58.689384Z",
     "iopub.status.busy": "2024-08-03T15:51:58.689234Z",
     "iopub.status.idle": "2024-08-03T15:51:58.696124Z",
     "shell.execute_reply": "2024-08-03T15:51:58.695849Z"
    },
    "papermill": {
     "duration": 0.020736,
     "end_time": "2024-08-03T15:51:58.697819",
     "exception": false,
     "start_time": "2024-08-03T15:51:58.677083",
     "status": "completed"
    },
    "tags": []
   },
   "outputs": [],
   "source": [
    "data = utils.filter_raw_data(data)\n",
    "data.tail()"
   ]
  },
  {
   "cell_type": "markdown",
   "id": "2abf0295",
   "metadata": {
    "papermill": {
     "duration": 0.006511,
     "end_time": "2024-08-03T15:51:58.710281",
     "exception": false,
     "start_time": "2024-08-03T15:51:58.703770",
     "status": "completed"
    },
    "tags": []
   },
   "source": [
    "## Pull historical average USD national currency rates and add to the dataframe"
   ]
  },
  {
   "cell_type": "code",
   "execution_count": null,
   "id": "c04caccc",
   "metadata": {
    "execution": {
     "iopub.execute_input": "2024-08-03T15:51:58.724850Z",
     "iopub.status.busy": "2024-08-03T15:51:58.724666Z",
     "iopub.status.idle": "2024-08-03T15:51:58.732178Z",
     "shell.execute_reply": "2024-08-03T15:51:58.731799Z"
    },
    "papermill": {
     "duration": 0.015737,
     "end_time": "2024-08-03T15:51:58.733239",
     "exception": false,
     "start_time": "2024-08-03T15:51:58.717502",
     "status": "completed"
    },
    "tags": []
   },
   "outputs": [],
   "source": [
    "if currency_pair != 'USD=X':\n",
    "    data['usd_nat_currency'] = utils.daily_price(\n",
    "        ticker=currency_pair,\n",
    "        end=data['date'],\n",
    "        days_earlier=90\n",
    "        )\n",
    "else:\n",
    "    data['usd_nat_currency'] = [1 for x in range(len(data))]\n",
    "\n",
    "# drop rows, when USD rates wasn't available\n",
    "data = data[data['usd_nat_currency'].notna()]\n",
    "\n",
    "data.tail()"
   ]
  },
  {
   "cell_type": "markdown",
   "id": "1ea97372",
   "metadata": {
    "papermill": {
     "duration": 0.011345,
     "end_time": "2024-08-03T15:51:58.755228",
     "exception": false,
     "start_time": "2024-08-03T15:51:58.743883",
     "status": "completed"
    },
    "tags": []
   },
   "source": [
    "## Convert USD values related to IS, BS, CFS to national currency"
   ]
  },
  {
   "cell_type": "code",
   "execution_count": null,
   "id": "deac7fe7",
   "metadata": {
    "execution": {
     "iopub.execute_input": "2024-08-03T15:51:58.771318Z",
     "iopub.status.busy": "2024-08-03T15:51:58.771061Z",
     "iopub.status.idle": "2024-08-03T15:51:58.787731Z",
     "shell.execute_reply": "2024-08-03T15:51:58.787436Z"
    },
    "papermill": {
     "duration": 0.027313,
     "end_time": "2024-08-03T15:51:58.788792",
     "exception": false,
     "start_time": "2024-08-03T15:51:58.761479",
     "status": "completed"
    },
    "tags": []
   },
   "outputs": [],
   "source": [
    "# convert columns into national currency if necessary\n",
    "if numbers_in_currency == 'USD':\n",
    "    data_nat_curr = utils.convert_national_currency(input_data=data, currency=data)\n",
    "else:\n",
    "    data_nat_curr = data.copy()\n",
    "data_nat_curr.tail()"
   ]
  },
  {
   "cell_type": "markdown",
   "id": "35b89369",
   "metadata": {
    "papermill": {
     "duration": 0.011112,
     "end_time": "2024-08-03T15:51:58.811647",
     "exception": false,
     "start_time": "2024-08-03T15:51:58.800535",
     "status": "completed"
    },
    "tags": []
   },
   "source": [
    "# 3. Calculate input to Value Raios (eps, bv per share, fcf)\n",
    "## filter out unwanted columns"
   ]
  },
  {
   "cell_type": "code",
   "execution_count": null,
   "id": "016ae737",
   "metadata": {
    "execution": {
     "iopub.execute_input": "2024-08-03T15:51:58.833586Z",
     "iopub.status.busy": "2024-08-03T15:51:58.833420Z",
     "iopub.status.idle": "2024-08-03T15:51:58.836689Z",
     "shell.execute_reply": "2024-08-03T15:51:58.836413Z"
    },
    "papermill": {
     "duration": 0.015286,
     "end_time": "2024-08-03T15:51:58.837543",
     "exception": false,
     "start_time": "2024-08-03T15:51:58.822257",
     "status": "completed"
    },
    "tags": []
   },
   "outputs": [],
   "source": [
    "filtered_nat_curr = utils.calculate_input_value_ratios(data_nat_curr)"
   ]
  },
  {
   "cell_type": "markdown",
   "id": "e57fd37a",
   "metadata": {
    "papermill": {
     "duration": 0.007904,
     "end_time": "2024-08-03T15:51:58.857167",
     "exception": false,
     "start_time": "2024-08-03T15:51:58.849263",
     "status": "completed"
    },
    "tags": []
   },
   "source": [
    "## Calculate input values to value ratios"
   ]
  },
  {
   "cell_type": "code",
   "execution_count": null,
   "id": "8d6ffca3",
   "metadata": {
    "execution": {
     "iopub.execute_input": "2024-08-03T15:51:58.877122Z",
     "iopub.status.busy": "2024-08-03T15:51:58.876927Z",
     "iopub.status.idle": "2024-08-03T15:51:58.879503Z",
     "shell.execute_reply": "2024-08-03T15:51:58.879254Z"
    },
    "papermill": {
     "duration": 0.010674,
     "end_time": "2024-08-03T15:51:58.880400",
     "exception": false,
     "start_time": "2024-08-03T15:51:58.869726",
     "status": "completed"
    },
    "tags": []
   },
   "outputs": [],
   "source": [
    "ratios_nat_curr = utils.ratios_input_filter(filtered_nat_curr)"
   ]
  },
  {
   "cell_type": "markdown",
   "id": "ecd5d98b",
   "metadata": {
    "papermill": {
     "duration": 0.00642,
     "end_time": "2024-08-03T15:51:58.895917",
     "exception": false,
     "start_time": "2024-08-03T15:51:58.889497",
     "status": "completed"
    },
    "tags": []
   },
   "source": [
    "## Calculate performance parameters (current ratio, ROA, ROE, margins, D/E)"
   ]
  },
  {
   "cell_type": "code",
   "execution_count": null,
   "id": "4344c506",
   "metadata": {
    "execution": {
     "iopub.execute_input": "2024-08-03T15:51:58.914312Z",
     "iopub.status.busy": "2024-08-03T15:51:58.913663Z",
     "iopub.status.idle": "2024-08-03T15:51:58.921102Z",
     "shell.execute_reply": "2024-08-03T15:51:58.920795Z"
    },
    "papermill": {
     "duration": 0.016468,
     "end_time": "2024-08-03T15:51:58.921929",
     "exception": false,
     "start_time": "2024-08-03T15:51:58.905461",
     "status": "completed"
    },
    "tags": []
   },
   "outputs": [],
   "source": [
    "ratios_nat_curr = utils.evaluate_performance(input=filtered_nat_curr, output=ratios_nat_curr)"
   ]
  },
  {
   "cell_type": "markdown",
   "id": "c2aba28c",
   "metadata": {
    "papermill": {
     "duration": 0.006768,
     "end_time": "2024-08-03T15:51:58.934886",
     "exception": false,
     "start_time": "2024-08-03T15:51:58.928118",
     "status": "completed"
    },
    "tags": []
   },
   "source": [
    "# 4. Pull historical share prices and merge with sattement data"
   ]
  },
  {
   "cell_type": "code",
   "execution_count": null,
   "id": "cb3c9c59",
   "metadata": {
    "execution": {
     "iopub.execute_input": "2024-08-03T15:51:58.948244Z",
     "iopub.status.busy": "2024-08-03T15:51:58.948117Z",
     "iopub.status.idle": "2024-08-03T15:51:59.328498Z",
     "shell.execute_reply": "2024-08-03T15:51:59.328219Z"
    },
    "papermill": {
     "duration": 0.38834,
     "end_time": "2024-08-03T15:51:59.329511",
     "exception": false,
     "start_time": "2024-08-03T15:51:58.941171",
     "status": "completed"
    },
    "tags": []
   },
   "outputs": [],
   "source": [
    "# pull weekly share prices and merge with the value ratios\n",
    "merged_nat_curr = utils.add_share_prices_to_value_ratios(share_name, data, ratios_nat_curr)\n",
    "merged_nat_curr.head()"
   ]
  },
  {
   "cell_type": "markdown",
   "id": "61f609c6",
   "metadata": {
    "papermill": {
     "duration": 0.006156,
     "end_time": "2024-08-03T15:51:59.342188",
     "exception": false,
     "start_time": "2024-08-03T15:51:59.336032",
     "status": "completed"
    },
    "tags": []
   },
   "source": [
    "# Calculate price ratios (P/E, P/B, P/S, P/FCF)"
   ]
  },
  {
   "cell_type": "code",
   "execution_count": null,
   "id": "807e79a8",
   "metadata": {
    "execution": {
     "iopub.execute_input": "2024-08-03T15:51:59.354220Z",
     "iopub.status.busy": "2024-08-03T15:51:59.354010Z",
     "iopub.status.idle": "2024-08-03T15:51:59.362589Z",
     "shell.execute_reply": "2024-08-03T15:51:59.362329Z"
    },
    "papermill": {
     "duration": 0.015737,
     "end_time": "2024-08-03T15:51:59.363707",
     "exception": false,
     "start_time": "2024-08-03T15:51:59.347970",
     "status": "completed"
    },
    "tags": []
   },
   "outputs": [],
   "source": [
    "merged_nat_curr = utils.price_ratios(merged_nat_curr)\n",
    "merged_nat_curr.head()"
   ]
  },
  {
   "cell_type": "markdown",
   "id": "bb94f97f",
   "metadata": {
    "papermill": {
     "duration": 0.010131,
     "end_time": "2024-08-03T15:51:59.386094",
     "exception": false,
     "start_time": "2024-08-03T15:51:59.375963",
     "status": "completed"
    },
    "tags": []
   },
   "source": [
    "# Calculate Dividend yield and currency-share price correlation"
   ]
  },
  {
   "cell_type": "code",
   "execution_count": null,
   "id": "fb05716c",
   "metadata": {
    "execution": {
     "iopub.execute_input": "2024-08-03T15:51:59.406052Z",
     "iopub.status.busy": "2024-08-03T15:51:59.405890Z",
     "iopub.status.idle": "2024-08-03T15:51:59.591342Z",
     "shell.execute_reply": "2024-08-03T15:51:59.590965Z"
    },
    "papermill": {
     "duration": 0.196934,
     "end_time": "2024-08-03T15:51:59.592883",
     "exception": false,
     "start_time": "2024-08-03T15:51:59.395949",
     "status": "completed"
    },
    "tags": []
   },
   "outputs": [],
   "source": [
    "# get daily historical USD-national currency rates\n",
    "usd_nat_curr = utils.get_historical_currency_rate(currency_pair, merged_nat_curr)"
   ]
  },
  {
   "cell_type": "code",
   "execution_count": null,
   "id": "1148e9dc",
   "metadata": {
    "execution": {
     "iopub.execute_input": "2024-08-03T15:51:59.612150Z",
     "iopub.status.busy": "2024-08-03T15:51:59.612015Z",
     "iopub.status.idle": "2024-08-03T15:52:00.110940Z",
     "shell.execute_reply": "2024-08-03T15:52:00.110637Z"
    },
    "papermill": {
     "duration": 0.507243,
     "end_time": "2024-08-03T15:52:00.111988",
     "exception": false,
     "start_time": "2024-08-03T15:51:59.604745",
     "status": "completed"
    },
    "tags": []
   },
   "outputs": [],
   "source": [
    "# get share prices and dividend yield data\n",
    "ticker_all_price = utils.get_historical_share_dividend(share_name, merged_nat_curr)"
   ]
  },
  {
   "cell_type": "code",
   "execution_count": null,
   "id": "52a4e002",
   "metadata": {
    "execution": {
     "iopub.execute_input": "2024-08-03T15:52:00.138591Z",
     "iopub.status.busy": "2024-08-03T15:52:00.138448Z",
     "iopub.status.idle": "2024-08-03T15:52:00.310315Z",
     "shell.execute_reply": "2024-08-03T15:52:00.310063Z"
    },
    "papermill": {
     "duration": 0.184167,
     "end_time": "2024-08-03T15:52:00.311871",
     "exception": false,
     "start_time": "2024-08-03T15:52:00.127704",
     "status": "completed"
    },
    "tags": []
   },
   "outputs": [],
   "source": [
    "# Pearson's correlation coefficient between share price and USD - national currency rate\n",
    "utils.get_currency_share_price_correlation(share_name, usd_nat_curr, ticker_all_price)"
   ]
  },
  {
   "cell_type": "markdown",
   "id": "7798fe1f",
   "metadata": {
    "papermill": {
     "duration": 0.013556,
     "end_time": "2024-08-03T15:52:00.340084",
     "exception": false,
     "start_time": "2024-08-03T15:52:00.326528",
     "status": "completed"
    },
    "tags": []
   },
   "source": [
    "# Share price and value ratios"
   ]
  },
  {
   "cell_type": "code",
   "execution_count": null,
   "id": "0d071c7f",
   "metadata": {
    "execution": {
     "iopub.execute_input": "2024-08-03T15:52:00.360420Z",
     "iopub.status.busy": "2024-08-03T15:52:00.360224Z",
     "iopub.status.idle": "2024-08-03T15:52:05.149786Z",
     "shell.execute_reply": "2024-08-03T15:52:05.149530Z"
    },
    "papermill": {
     "duration": 4.800022,
     "end_time": "2024-08-03T15:52:05.150907",
     "exception": false,
     "start_time": "2024-08-03T15:52:00.350885",
     "status": "completed"
    },
    "tags": []
   },
   "outputs": [],
   "source": [
    "for column in merged_nat_curr.columns[3:]:\n",
    "    fig, ax1 = plt.subplots(figsize=(15, 6))\n",
    "\n",
    "    ax2 = ax1.twinx()\n",
    "    ax1.plot(merged_nat_curr['real_date'], merged_nat_curr[column], color='k', label=merged_nat_curr)\n",
    "    ax2.plot(ticker_all_price.index, ticker_all_price['Close'], color='b', label=share_name)\n",
    "\n",
    "    ax1.set_xlabel('Date')\n",
    "    ax1.set_ylabel(column, color='k')\n",
    "    ax2.set_ylabel('Share price (national currency)', color='b')\n",
    "\n",
    "    plt.legend()\n",
    "    plt.show()"
   ]
  },
  {
   "cell_type": "code",
   "execution_count": null,
   "id": "c98e1d89",
   "metadata": {
    "execution": {
     "iopub.execute_input": "2024-08-03T15:52:05.206853Z",
     "iopub.status.busy": "2024-08-03T15:52:05.206715Z",
     "iopub.status.idle": "2024-08-03T15:52:06.233098Z",
     "shell.execute_reply": "2024-08-03T15:52:06.232464Z"
    },
    "papermill": {
     "duration": 1.048939,
     "end_time": "2024-08-03T15:52:06.234735",
     "exception": false,
     "start_time": "2024-08-03T15:52:05.185796",
     "status": "completed"
    },
    "tags": []
   },
   "outputs": [],
   "source": [
    "# plot histograms of value parameters\n",
    "utils.plot_histogram_value_parameters(input_df=merged_nat_curr, extra_parameters=[], owned_shares=owned_shares)"
   ]
  },
  {
   "cell_type": "markdown",
   "id": "2489e66c",
   "metadata": {
    "papermill": {
     "duration": 0.025152,
     "end_time": "2024-08-03T15:52:06.284431",
     "exception": false,
     "start_time": "2024-08-03T15:52:06.259279",
     "status": "completed"
    },
    "tags": []
   },
   "source": [
    "## Calculate correlation between value parameters"
   ]
  },
  {
   "cell_type": "code",
   "execution_count": null,
   "id": "c5255243",
   "metadata": {
    "execution": {
     "iopub.execute_input": "2024-08-03T15:52:06.349582Z",
     "iopub.status.busy": "2024-08-03T15:52:06.349401Z",
     "iopub.status.idle": "2024-08-03T15:52:06.360762Z",
     "shell.execute_reply": "2024-08-03T15:52:06.359612Z"
    },
    "papermill": {
     "duration": 0.04028,
     "end_time": "2024-08-03T15:52:06.362794",
     "exception": false,
     "start_time": "2024-08-03T15:52:06.322514",
     "status": "completed"
    },
    "tags": []
   },
   "outputs": [],
   "source": [
    "# calulate value parameters Pearson's correlation coefficient\n",
    "pd.DataFrame(merged_nat_curr, columns=['roa', 'roe', 'pe_ratio', 'pb_ratio', 'ps_ratio', 'ev_revenue', 'debt_to_equity', 'current_ratio']).corr()"
   ]
  },
  {
   "cell_type": "code",
   "execution_count": null,
   "id": "7ea8f2af",
   "metadata": {},
   "outputs": [],
   "source": [
    "final_df = utils.get_value_stock_target_prices(\n",
    "    input_df=merged_nat_curr,\n",
    "    min_pct=0.2,\n",
    "    max_pct=0.5,\n",
    "    owned_shares=owned_shares\n",
    ")"
   ]
  }
 ],
 "metadata": {
  "kernelspec": {
   "display_name": ".venv",
   "language": "python",
   "name": "python3"
  },
  "language_info": {
   "codemirror_mode": {
    "name": "ipython",
    "version": 3
   },
   "file_extension": ".py",
   "mimetype": "text/x-python",
   "name": "python",
   "nbconvert_exporter": "python",
   "pygments_lexer": "ipython3",
   "version": "3.11.3"
  },
  "papermill": {
   "default_parameters": {},
   "duration": 10.208208,
   "end_time": "2024-08-03T15:52:06.841142",
   "environment_variables": {},
   "exception": null,
   "input_path": "../notebooks/icl_national.ipynb",
   "output_path": "../notebooks/icl_national.ipynb",
   "parameters": {},
   "start_time": "2024-08-03T15:51:56.632934",
   "version": "2.5.0"
  }
 },
 "nbformat": 4,
 "nbformat_minor": 5
}
