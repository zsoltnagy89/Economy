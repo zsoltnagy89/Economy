{
 "cells": [
  {
   "cell_type": "code",
   "execution_count": null,
   "id": "a9aca82e",
   "metadata": {
    "execution": {
     "iopub.execute_input": "2024-08-03T15:49:09.793346Z",
     "iopub.status.busy": "2024-08-03T15:49:09.792990Z",
     "iopub.status.idle": "2024-08-03T15:49:10.675603Z",
     "shell.execute_reply": "2024-08-03T15:49:10.675340Z"
    },
    "papermill": {
     "duration": 0.902834,
     "end_time": "2024-08-03T15:49:10.676779",
     "exception": false,
     "start_time": "2024-08-03T15:49:09.773945",
     "status": "completed"
    },
    "tags": []
   },
   "outputs": [],
   "source": [
    "import pandas as pd\n",
    "import matplotlib.pyplot as plt\n",
    "import numpy as np\n",
    "\n",
    "import yfinance as yf\n",
    "import datetime\n",
    "\n",
    "from valueinvesting import utils as utils"
   ]
  },
  {
   "cell_type": "markdown",
   "id": "ec786569",
   "metadata": {
    "papermill": {
     "duration": 0.01068,
     "end_time": "2024-08-03T15:49:10.697388",
     "exception": false,
     "start_time": "2024-08-03T15:49:10.686708",
     "status": "completed"
    },
    "tags": []
   },
   "source": [
    "# 1. Load raw input\n",
    "## Hardcoded block"
   ]
  },
  {
   "cell_type": "code",
   "execution_count": null,
   "id": "db5db8bc",
   "metadata": {
    "execution": {
     "iopub.execute_input": "2024-08-03T15:49:10.722727Z",
     "iopub.status.busy": "2024-08-03T15:49:10.722509Z",
     "iopub.status.idle": "2024-08-03T15:49:10.724550Z",
     "shell.execute_reply": "2024-08-03T15:49:10.724261Z"
    },
    "papermill": {
     "duration": 0.016329,
     "end_time": "2024-08-03T15:49:10.725458",
     "exception": false,
     "start_time": "2024-08-03T15:49:10.709129",
     "status": "completed"
    },
    "tags": []
   },
   "outputs": [],
   "source": [
    "evaluate_last_X_years = True\n",
    "X=10\n",
    "currency_pair = 'SEK=X'\n",
    "numbers_in_currency = 'SEK'\n",
    "share_name = 'BILL.ST'"
   ]
  },
  {
   "cell_type": "markdown",
   "id": "71661928",
   "metadata": {
    "papermill": {
     "duration": 0.006,
     "end_time": "2024-08-03T15:49:10.744056",
     "exception": false,
     "start_time": "2024-08-03T15:49:10.738056",
     "status": "completed"
    },
    "tags": []
   },
   "source": [
    "# 1.1 Calculate Share numbers from total distributed dividend (CFS) and dividend amount"
   ]
  },
  {
   "cell_type": "markdown",
   "id": "afa340f1",
   "metadata": {
    "papermill": {
     "duration": 0.005761,
     "end_time": "2024-08-03T15:49:10.760417",
     "exception": false,
     "start_time": "2024-08-03T15:49:10.754656",
     "status": "completed"
    },
    "tags": []
   },
   "source": [
    "# 1.2. Raw input statement data"
   ]
  },
  {
   "cell_type": "code",
   "execution_count": null,
   "id": "82c54c11",
   "metadata": {
    "execution": {
     "iopub.execute_input": "2024-08-03T15:49:10.775002Z",
     "iopub.status.busy": "2024-08-03T15:49:10.774838Z",
     "iopub.status.idle": "2024-08-03T15:49:10.785388Z",
     "shell.execute_reply": "2024-08-03T15:49:10.785044Z"
    },
    "papermill": {
     "duration": 0.020952,
     "end_time": "2024-08-03T15:49:10.786557",
     "exception": false,
     "start_time": "2024-08-03T15:49:10.765605",
     "status": "completed"
    },
    "tags": []
   },
   "outputs": [],
   "source": [
    "route = f\"../data/input/{share_name}_data.csv\"\n",
    "data = pd.read_csv(route, sep=';', parse_dates=['date', 'real_date'])\n",
    "# replace -, extend missing 0-s, fix datatype\n",
    "data = utils.replace_format_input(data)"
   ]
  },
  {
   "cell_type": "code",
   "execution_count": null,
   "id": "b42811a9",
   "metadata": {
    "execution": {
     "iopub.execute_input": "2024-08-03T15:49:10.802036Z",
     "iopub.status.busy": "2024-08-03T15:49:10.801881Z",
     "iopub.status.idle": "2024-08-03T15:49:10.806427Z",
     "shell.execute_reply": "2024-08-03T15:49:10.806133Z"
    },
    "papermill": {
     "duration": 0.01309,
     "end_time": "2024-08-03T15:49:10.807287",
     "exception": false,
     "start_time": "2024-08-03T15:49:10.794197",
     "status": "completed"
    },
    "tags": []
   },
   "outputs": [],
   "source": [
    "owned_shares = pd.read_csv('../data/extras/owned_stocks.csv', sep=';', parse_dates=['date'])\n",
    "owned_shares = owned_shares.loc[(owned_shares['stock'] == share_name) & (owned_shares['active'] == 'yes')]"
   ]
  },
  {
   "cell_type": "markdown",
   "id": "9f9c0627",
   "metadata": {
    "papermill": {
     "duration": 0.005074,
     "end_time": "2024-08-03T15:49:10.817776",
     "exception": false,
     "start_time": "2024-08-03T15:49:10.812702",
     "status": "completed"
    },
    "tags": []
   },
   "source": [
    "## (OPTIONAL) Time Filtering - Last 7 years daat"
   ]
  },
  {
   "cell_type": "code",
   "execution_count": null,
   "id": "a1fbf4ac",
   "metadata": {
    "execution": {
     "iopub.execute_input": "2024-08-03T15:49:10.829605Z",
     "iopub.status.busy": "2024-08-03T15:49:10.829365Z",
     "iopub.status.idle": "2024-08-03T15:49:10.839987Z",
     "shell.execute_reply": "2024-08-03T15:49:10.839725Z"
    },
    "papermill": {
     "duration": 0.017419,
     "end_time": "2024-08-03T15:49:10.840860",
     "exception": false,
     "start_time": "2024-08-03T15:49:10.823441",
     "status": "completed"
    },
    "tags": []
   },
   "outputs": [],
   "source": [
    "if evaluate_last_X_years:\n",
    "    data = data[data['date'] > datetime.datetime.today() - datetime.timedelta(days=X*366+93)]\n",
    "    data = data.reset_index(drop=True)\n",
    "\n",
    "data.head()"
   ]
  },
  {
   "cell_type": "markdown",
   "id": "ab3bb1b9",
   "metadata": {
    "papermill": {
     "duration": 0.004878,
     "end_time": "2024-08-03T15:49:10.851232",
     "exception": false,
     "start_time": "2024-08-03T15:49:10.846354",
     "status": "completed"
    },
    "tags": []
   },
   "source": [
    "## Calculate date when quaterly reports could be available"
   ]
  },
  {
   "cell_type": "code",
   "execution_count": null,
   "id": "8fe8b585",
   "metadata": {
    "execution": {
     "iopub.execute_input": "2024-08-03T15:49:10.862927Z",
     "iopub.status.busy": "2024-08-03T15:49:10.862785Z",
     "iopub.status.idle": "2024-08-03T15:49:10.864589Z",
     "shell.execute_reply": "2024-08-03T15:49:10.864314Z"
    },
    "papermill": {
     "duration": 0.008504,
     "end_time": "2024-08-03T15:49:10.865457",
     "exception": false,
     "start_time": "2024-08-03T15:49:10.856953",
     "status": "completed"
    },
    "tags": []
   },
   "outputs": [],
   "source": [
    "data = utils.calculate_real_date(data)"
   ]
  },
  {
   "cell_type": "markdown",
   "id": "e2d5ec83",
   "metadata": {
    "papermill": {
     "duration": 0.005604,
     "end_time": "2024-08-03T15:49:10.876653",
     "exception": false,
     "start_time": "2024-08-03T15:49:10.871049",
     "status": "completed"
    },
    "tags": []
   },
   "source": [
    "# 2. Filter out unnecesary columns"
   ]
  },
  {
   "cell_type": "code",
   "execution_count": null,
   "id": "795df01a",
   "metadata": {
    "execution": {
     "iopub.execute_input": "2024-08-03T15:49:10.889418Z",
     "iopub.status.busy": "2024-08-03T15:49:10.889278Z",
     "iopub.status.idle": "2024-08-03T15:49:10.895658Z",
     "shell.execute_reply": "2024-08-03T15:49:10.895414Z"
    },
    "papermill": {
     "duration": 0.014399,
     "end_time": "2024-08-03T15:49:10.896439",
     "exception": false,
     "start_time": "2024-08-03T15:49:10.882040",
     "status": "completed"
    },
    "tags": []
   },
   "outputs": [],
   "source": [
    "data = utils.filter_raw_data(data)\n",
    "data.tail()"
   ]
  },
  {
   "cell_type": "markdown",
   "id": "a5b1a16b",
   "metadata": {
    "papermill": {
     "duration": 0.006419,
     "end_time": "2024-08-03T15:49:10.909016",
     "exception": false,
     "start_time": "2024-08-03T15:49:10.902597",
     "status": "completed"
    },
    "tags": []
   },
   "source": [
    "## Pull historical average USD national currency rates and add to the dataframe"
   ]
  },
  {
   "cell_type": "code",
   "execution_count": null,
   "id": "bca6150a",
   "metadata": {
    "execution": {
     "iopub.execute_input": "2024-08-03T15:49:10.920697Z",
     "iopub.status.busy": "2024-08-03T15:49:10.920468Z",
     "iopub.status.idle": "2024-08-03T15:49:19.369509Z",
     "shell.execute_reply": "2024-08-03T15:49:19.367444Z"
    },
    "papermill": {
     "duration": 8.45949,
     "end_time": "2024-08-03T15:49:19.373819",
     "exception": false,
     "start_time": "2024-08-03T15:49:10.914329",
     "status": "completed"
    },
    "tags": []
   },
   "outputs": [],
   "source": [
    "data['usd_nat_currency'] = utils.daily_price(\n",
    "    ticker=currency_pair,\n",
    "    end=data['date'],\n",
    "    days_earlier=90\n",
    "    )\n",
    "\n",
    "# drop rows, when USD rates wasn't available\n",
    "data = data[data['usd_nat_currency'].notna()]\n",
    "\n",
    "data.tail()"
   ]
  },
  {
   "cell_type": "markdown",
   "id": "70e96379",
   "metadata": {
    "papermill": {
     "duration": 0.01569,
     "end_time": "2024-08-03T15:49:19.416804",
     "exception": false,
     "start_time": "2024-08-03T15:49:19.401114",
     "status": "completed"
    },
    "tags": []
   },
   "source": [
    "## Convert USD values related to IS, BS, CFS to national currency"
   ]
  },
  {
   "cell_type": "code",
   "execution_count": null,
   "id": "9b98d21e",
   "metadata": {
    "execution": {
     "iopub.execute_input": "2024-08-03T15:49:19.441507Z",
     "iopub.status.busy": "2024-08-03T15:49:19.441234Z",
     "iopub.status.idle": "2024-08-03T15:49:19.452703Z",
     "shell.execute_reply": "2024-08-03T15:49:19.452266Z"
    },
    "papermill": {
     "duration": 0.02521,
     "end_time": "2024-08-03T15:49:19.453899",
     "exception": false,
     "start_time": "2024-08-03T15:49:19.428689",
     "status": "completed"
    },
    "tags": []
   },
   "outputs": [],
   "source": [
    "# convert columns into national currency if necessary\n",
    "if numbers_in_currency == 'USD':\n",
    "    data_nat_curr = utils.convert_national_currency(input_data=data, currency=data)\n",
    "else:\n",
    "    data_nat_curr = data.copy()\n",
    "data_nat_curr.tail()"
   ]
  },
  {
   "cell_type": "markdown",
   "id": "9bb3cca8",
   "metadata": {
    "papermill": {
     "duration": 0.008474,
     "end_time": "2024-08-03T15:49:19.471333",
     "exception": false,
     "start_time": "2024-08-03T15:49:19.462859",
     "status": "completed"
    },
    "tags": []
   },
   "source": [
    "# 3. Calculate input to Value Raios (eps, bv per share, fcf)\n",
    "## filter out unwanted columns"
   ]
  },
  {
   "cell_type": "code",
   "execution_count": null,
   "id": "75f1eeb2",
   "metadata": {
    "execution": {
     "iopub.execute_input": "2024-08-03T15:49:19.490775Z",
     "iopub.status.busy": "2024-08-03T15:49:19.490414Z",
     "iopub.status.idle": "2024-08-03T15:49:19.496434Z",
     "shell.execute_reply": "2024-08-03T15:49:19.496060Z"
    },
    "papermill": {
     "duration": 0.017205,
     "end_time": "2024-08-03T15:49:19.497420",
     "exception": false,
     "start_time": "2024-08-03T15:49:19.480215",
     "status": "completed"
    },
    "tags": []
   },
   "outputs": [],
   "source": [
    "filtered_nat_curr = utils.calculate_input_value_ratios(data_nat_curr)"
   ]
  },
  {
   "cell_type": "markdown",
   "id": "721b9b7b",
   "metadata": {
    "papermill": {
     "duration": 0.008828,
     "end_time": "2024-08-03T15:49:19.523394",
     "exception": false,
     "start_time": "2024-08-03T15:49:19.514566",
     "status": "completed"
    },
    "tags": []
   },
   "source": [
    "## Calculate input values to value ratios"
   ]
  },
  {
   "cell_type": "code",
   "execution_count": null,
   "id": "f4f9ee0f",
   "metadata": {
    "execution": {
     "iopub.execute_input": "2024-08-03T15:49:19.538378Z",
     "iopub.status.busy": "2024-08-03T15:49:19.538129Z",
     "iopub.status.idle": "2024-08-03T15:49:19.540812Z",
     "shell.execute_reply": "2024-08-03T15:49:19.540506Z"
    },
    "papermill": {
     "duration": 0.011786,
     "end_time": "2024-08-03T15:49:19.541740",
     "exception": false,
     "start_time": "2024-08-03T15:49:19.529954",
     "status": "completed"
    },
    "tags": []
   },
   "outputs": [],
   "source": [
    "ratios_nat_curr = utils.ratios_input_filter(filtered_nat_curr)"
   ]
  },
  {
   "cell_type": "markdown",
   "id": "ef36f774",
   "metadata": {
    "papermill": {
     "duration": 0.005913,
     "end_time": "2024-08-03T15:49:19.554440",
     "exception": false,
     "start_time": "2024-08-03T15:49:19.548527",
     "status": "completed"
    },
    "tags": []
   },
   "source": [
    "## Calculate performance parameters (current ratio, ROA, ROE, margins, D/E)"
   ]
  },
  {
   "cell_type": "code",
   "execution_count": null,
   "id": "c6f1c61d",
   "metadata": {
    "execution": {
     "iopub.execute_input": "2024-08-03T15:49:19.566326Z",
     "iopub.status.busy": "2024-08-03T15:49:19.566113Z",
     "iopub.status.idle": "2024-08-03T15:49:19.572453Z",
     "shell.execute_reply": "2024-08-03T15:49:19.572112Z"
    },
    "papermill": {
     "duration": 0.013083,
     "end_time": "2024-08-03T15:49:19.573295",
     "exception": false,
     "start_time": "2024-08-03T15:49:19.560212",
     "status": "completed"
    },
    "tags": []
   },
   "outputs": [],
   "source": [
    "ratios_nat_curr = utils.evaluate_performance(input=filtered_nat_curr, output=ratios_nat_curr)"
   ]
  },
  {
   "cell_type": "markdown",
   "id": "73f45fdd",
   "metadata": {
    "papermill": {
     "duration": 0.008155,
     "end_time": "2024-08-03T15:49:19.598713",
     "exception": false,
     "start_time": "2024-08-03T15:49:19.590558",
     "status": "completed"
    },
    "tags": []
   },
   "source": [
    "# 4. Pull historical share prices and merge with sattement data"
   ]
  },
  {
   "cell_type": "code",
   "execution_count": null,
   "id": "a322fb80",
   "metadata": {
    "execution": {
     "iopub.execute_input": "2024-08-03T15:49:19.613200Z",
     "iopub.status.busy": "2024-08-03T15:49:19.613043Z",
     "iopub.status.idle": "2024-08-03T15:49:19.902178Z",
     "shell.execute_reply": "2024-08-03T15:49:19.901837Z"
    },
    "papermill": {
     "duration": 0.297885,
     "end_time": "2024-08-03T15:49:19.903466",
     "exception": false,
     "start_time": "2024-08-03T15:49:19.605581",
     "status": "completed"
    },
    "tags": []
   },
   "outputs": [],
   "source": [
    "# pull weekly share prices and merge with the value ratios\n",
    "merged_nat_curr = utils.add_share_prices_to_value_ratios(share_name, data, ratios_nat_curr)\n",
    "merged_nat_curr.head()"
   ]
  },
  {
   "cell_type": "markdown",
   "id": "ca2da740",
   "metadata": {
    "papermill": {
     "duration": 0.015375,
     "end_time": "2024-08-03T15:49:19.934642",
     "exception": false,
     "start_time": "2024-08-03T15:49:19.919267",
     "status": "completed"
    },
    "tags": []
   },
   "source": [
    "# Calculate price ratios (P/E, P/B, P/S, P/FCF)"
   ]
  },
  {
   "cell_type": "code",
   "execution_count": null,
   "id": "7e72300b",
   "metadata": {
    "execution": {
     "iopub.execute_input": "2024-08-03T15:49:19.960326Z",
     "iopub.status.busy": "2024-08-03T15:49:19.960158Z",
     "iopub.status.idle": "2024-08-03T15:49:19.971204Z",
     "shell.execute_reply": "2024-08-03T15:49:19.970908Z"
    },
    "papermill": {
     "duration": 0.024086,
     "end_time": "2024-08-03T15:49:19.972149",
     "exception": false,
     "start_time": "2024-08-03T15:49:19.948063",
     "status": "completed"
    },
    "tags": []
   },
   "outputs": [],
   "source": [
    "merged_nat_curr = utils.price_ratios(merged_nat_curr)\n",
    "merged_nat_curr.head()"
   ]
  },
  {
   "cell_type": "markdown",
   "id": "998b6d52",
   "metadata": {
    "papermill": {
     "duration": 0.012147,
     "end_time": "2024-08-03T15:49:19.996596",
     "exception": false,
     "start_time": "2024-08-03T15:49:19.984449",
     "status": "completed"
    },
    "tags": []
   },
   "source": [
    "# Calculate Dividend yield and currency-share price correlation"
   ]
  },
  {
   "cell_type": "code",
   "execution_count": null,
   "id": "9b047d8f",
   "metadata": {
    "execution": {
     "iopub.execute_input": "2024-08-03T15:49:20.013892Z",
     "iopub.status.busy": "2024-08-03T15:49:20.013756Z",
     "iopub.status.idle": "2024-08-03T15:49:20.356224Z",
     "shell.execute_reply": "2024-08-03T15:49:20.355704Z"
    },
    "papermill": {
     "duration": 0.351473,
     "end_time": "2024-08-03T15:49:20.357725",
     "exception": false,
     "start_time": "2024-08-03T15:49:20.006252",
     "status": "completed"
    },
    "tags": []
   },
   "outputs": [],
   "source": [
    "# get daily historical USD-national currency rates\n",
    "usd_nat_curr = utils.get_historical_currency_rate(currency_pair, merged_nat_curr)"
   ]
  },
  {
   "cell_type": "code",
   "execution_count": null,
   "id": "64ea9c04",
   "metadata": {
    "execution": {
     "iopub.execute_input": "2024-08-03T15:49:20.389413Z",
     "iopub.status.busy": "2024-08-03T15:49:20.389207Z",
     "iopub.status.idle": "2024-08-03T15:49:20.900152Z",
     "shell.execute_reply": "2024-08-03T15:49:20.898738Z"
    },
    "papermill": {
     "duration": 0.530657,
     "end_time": "2024-08-03T15:49:20.903555",
     "exception": false,
     "start_time": "2024-08-03T15:49:20.372898",
     "status": "completed"
    },
    "tags": []
   },
   "outputs": [],
   "source": [
    "# get share prices and dividend yield data\n",
    "ticker_all_price = utils.get_historical_share_dividend(share_name, merged_nat_curr)"
   ]
  },
  {
   "cell_type": "code",
   "execution_count": null,
   "id": "47db43bd",
   "metadata": {
    "execution": {
     "iopub.execute_input": "2024-08-03T15:49:20.947965Z",
     "iopub.status.busy": "2024-08-03T15:49:20.946949Z",
     "iopub.status.idle": "2024-08-03T15:49:21.243478Z",
     "shell.execute_reply": "2024-08-03T15:49:21.243195Z"
    },
    "papermill": {
     "duration": 0.326515,
     "end_time": "2024-08-03T15:49:21.244461",
     "exception": false,
     "start_time": "2024-08-03T15:49:20.917946",
     "status": "completed"
    },
    "tags": []
   },
   "outputs": [],
   "source": [
    "# Pearson's correlation coefficient between share price and USD - national currency rate\n",
    "utils.get_currency_share_price_correlation(share_name, usd_nat_curr, ticker_all_price)"
   ]
  },
  {
   "cell_type": "markdown",
   "id": "cde5ce3c",
   "metadata": {
    "papermill": {
     "duration": 0.011215,
     "end_time": "2024-08-03T15:49:21.267977",
     "exception": false,
     "start_time": "2024-08-03T15:49:21.256762",
     "status": "completed"
    },
    "tags": []
   },
   "source": [
    "# Share price and value ratios"
   ]
  },
  {
   "cell_type": "code",
   "execution_count": null,
   "id": "880543d7",
   "metadata": {
    "execution": {
     "iopub.execute_input": "2024-08-03T15:49:21.290248Z",
     "iopub.status.busy": "2024-08-03T15:49:21.290124Z",
     "iopub.status.idle": "2024-08-03T15:49:25.311142Z",
     "shell.execute_reply": "2024-08-03T15:49:25.310895Z"
    },
    "papermill": {
     "duration": 4.032123,
     "end_time": "2024-08-03T15:49:25.312279",
     "exception": false,
     "start_time": "2024-08-03T15:49:21.280156",
     "status": "completed"
    },
    "tags": []
   },
   "outputs": [],
   "source": [
    "for column in merged_nat_curr.columns[3:]:\n",
    "    fig, ax1 = plt.subplots(figsize=(15, 6))\n",
    "\n",
    "    ax2 = ax1.twinx()\n",
    "    ax1.plot(merged_nat_curr['real_date'], merged_nat_curr[column], color='k', label=merged_nat_curr)\n",
    "    ax2.plot(ticker_all_price.index, ticker_all_price['Close'], color='b', label=share_name)\n",
    "\n",
    "    ax1.set_xlabel('Date')\n",
    "    ax1.set_ylabel(column, color='k')\n",
    "    ax2.set_ylabel('Share price (national currency)', color='b')\n",
    "\n",
    "    plt.legend()\n",
    "    plt.show()"
   ]
  },
  {
   "cell_type": "code",
   "execution_count": null,
   "id": "1608fde2",
   "metadata": {
    "execution": {
     "iopub.execute_input": "2024-08-03T15:49:25.361767Z",
     "iopub.status.busy": "2024-08-03T15:49:25.361633Z",
     "iopub.status.idle": "2024-08-03T15:49:26.345760Z",
     "shell.execute_reply": "2024-08-03T15:49:26.345433Z"
    },
    "papermill": {
     "duration": 1.007716,
     "end_time": "2024-08-03T15:49:26.346663",
     "exception": false,
     "start_time": "2024-08-03T15:49:25.338947",
     "status": "completed"
    },
    "tags": []
   },
   "outputs": [],
   "source": [
    "# plot histograms of value parameters\n",
    "utils.plot_histogram_value_parameters(input_df=merged_nat_curr, extra_parameters=[], owned_shares=owned_shares)"
   ]
  },
  {
   "cell_type": "markdown",
   "id": "7dc0c015",
   "metadata": {
    "papermill": {
     "duration": 0.029376,
     "end_time": "2024-08-03T15:49:26.403965",
     "exception": false,
     "start_time": "2024-08-03T15:49:26.374589",
     "status": "completed"
    },
    "tags": []
   },
   "source": [
    "## Calculate correlation between value parameters"
   ]
  },
  {
   "cell_type": "code",
   "execution_count": null,
   "id": "959f0512",
   "metadata": {
    "execution": {
     "iopub.execute_input": "2024-08-03T15:49:26.447967Z",
     "iopub.status.busy": "2024-08-03T15:49:26.447790Z",
     "iopub.status.idle": "2024-08-03T15:49:26.455778Z",
     "shell.execute_reply": "2024-08-03T15:49:26.455477Z"
    },
    "papermill": {
     "duration": 0.03171,
     "end_time": "2024-08-03T15:49:26.456739",
     "exception": false,
     "start_time": "2024-08-03T15:49:26.425029",
     "status": "completed"
    },
    "tags": []
   },
   "outputs": [],
   "source": [
    "# calulate value parameters Pearson's correlation coefficient\n",
    "pd.DataFrame(merged_nat_curr, columns=['roa', 'roe', 'pe_ratio', 'pb_ratio', 'ps_ratio', 'ev_revenue', 'debt_to_equity', 'current_ratio']).corr()"
   ]
  },
  {
   "cell_type": "code",
   "execution_count": null,
   "id": "b8f43697",
   "metadata": {},
   "outputs": [],
   "source": [
    "final_df = utils.get_value_stock_target_prices(\n",
    "    input_df=merged_nat_curr,\n",
    "    min_pct=0.2,\n",
    "    max_pct=0.5,\n",
    "    owned_shares=owned_shares\n",
    ")"
   ]
  }
 ],
 "metadata": {
  "kernelspec": {
   "display_name": ".venv",
   "language": "python",
   "name": "python3"
  },
  "language_info": {
   "codemirror_mode": {
    "name": "ipython",
    "version": 3
   },
   "file_extension": ".py",
   "mimetype": "text/x-python",
   "name": "python",
   "nbconvert_exporter": "python",
   "pygments_lexer": "ipython3",
   "version": "3.11.3"
  },
  "papermill": {
   "default_parameters": {},
   "duration": 18.567026,
   "end_time": "2024-08-03T15:49:26.999208",
   "environment_variables": {},
   "exception": null,
   "input_path": "../notebooks/billerud_national.ipynb",
   "output_path": "../notebooks/billerud_national.ipynb",
   "parameters": {},
   "start_time": "2024-08-03T15:49:08.432182",
   "version": "2.5.0"
  }
 },
 "nbformat": 4,
 "nbformat_minor": 5
}
