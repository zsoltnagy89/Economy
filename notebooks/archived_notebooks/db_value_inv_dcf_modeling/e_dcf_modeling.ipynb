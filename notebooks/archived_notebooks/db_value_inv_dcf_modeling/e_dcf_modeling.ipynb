{
 "cells": [
  {
   "cell_type": "markdown",
   "metadata": {},
   "source": [
    "# Calculate the TSN intrinsic value"
   ]
  },
  {
   "cell_type": "code",
   "execution_count": 1,
   "metadata": {},
   "outputs": [
    {
     "name": "stdout",
     "output_type": "stream",
     "text": [
      "Connection to SQLite DB successful!\n",
      "Data has been collected!\n",
      "Datatype has been updated!\n",
      "Connection closed!\n"
     ]
    }
   ],
   "source": [
    "import pandas as pd\n",
    "import datetime\n",
    "import numpy as np\n",
    "import matplotlib.pyplot as plt\n",
    "from ipynb.fs.full.c_Stock_visual_QC import read_data_from_sql          # import function from other .ipynb file\n",
    "pd.options.mode.chained_assignment = None # not to get SettingWithCopyWarning\n",
    "\n",
    "import warnings\n",
    "import statsmodels.api as sm"
   ]
  },
  {
   "cell_type": "markdown",
   "metadata": {},
   "source": [
    "## To Set Vriables please scroll down..."
   ]
  },
  {
   "cell_type": "markdown",
   "metadata": {},
   "source": [
    "## Function to use"
   ]
  },
  {
   "cell_type": "code",
   "execution_count": 2,
   "metadata": {},
   "outputs": [],
   "source": [
    "def calculate_missing_columns(df):\n",
    "    # derived columns\n",
    "    df['tot_liab'] = df['tot_ass'] - df['tot_equity']\n",
    "    df['inc_b_tax'] = df['net_inc'] + df['inc_tax_exp']\n",
    "    df['ebitda'] = df['rev'] - df['cost_sale'] - df['sale_gen_adm']\n",
    "    df['ebit'] = df['ebitda'] - df['depr_amort']\n",
    "    df['nopat'] = df['ebit'] - df['inc_tax_exp']\n",
    "    df['other_curr_ass_lesscash'] = df['acc_rec'] + df['invent'] + df['other_curr_ass']\n",
    "    df['tot_curr_liab_lessdebt'] = df['tot_curr_liab'] - df['short_debt']\n",
    "    df['nwc'] = df['other_curr_ass_lesscash'] - df['tot_curr_liab_lessdebt']\n",
    "    # capex calculation\n",
    "    capex = []\n",
    "    for index in range(len(df)):\n",
    "        if index > 0:\n",
    "            ppe_change = df['ppe_net'].iloc[index] - df['ppe_net'].iloc[index-1]\n",
    "            depr_amort = df['depr_amort'].iloc[index]\n",
    "            capex.append(ppe_change + depr_amort)\n",
    "        else:\n",
    "            capex.append(np.nan)\n",
    "    df.loc[:, 'capex'] = capex\n",
    "\n",
    "    return df"
   ]
  },
  {
   "cell_type": "code",
   "execution_count": 3,
   "metadata": {},
   "outputs": [],
   "source": [
    "# evaluate an ARIMA model for a given order (p,d,q)\n",
    "def evaluate_arima_model(X, arima_order):\n",
    "    from statsmodels.tsa.arima.model import ARIMA\n",
    "    from sklearn.metrics import mean_squared_error\n",
    "    # prepare training dataset\n",
    "    train_size = int(len(X) * 0.66)\n",
    "    train, test = X[0:train_size], X[train_size:]\n",
    "    history = [x for x in train]\n",
    "    # make predictions\n",
    "    predictions = list()\n",
    "    for t in range(len(test)):\n",
    "        model = ARIMA(history, order=arima_order)\n",
    "        model_fit = model.fit()\n",
    "        yhat = model_fit.forecast()[0]\n",
    "        predictions.append(yhat)\n",
    "        history.append(test[t])\n",
    "    # calculate out of sample error\n",
    "    error = mean_squared_error(test, predictions)\n",
    "    print(error)\n",
    "    return error"
   ]
  },
  {
   "cell_type": "code",
   "execution_count": 4,
   "metadata": {},
   "outputs": [],
   "source": [
    "# evaluate combinations of p, d and q values for an ARIMA model\n",
    "def evaluate_models(dataset, p_values, d_values, q_values):\n",
    "    dataset = dataset.astype('float32')\n",
    "    best_score, best_cfg = float(\"inf\"), None\n",
    "    for p in p_values:\n",
    "        for d in d_values:\n",
    "            for q in q_values:\n",
    "                order = (p,d,q)\n",
    "                try:\n",
    "                    mse = evaluate_arima_model(dataset, order)\n",
    "                    if mse < best_score:\n",
    "                        best_score, best_cfg = mse, order\n",
    "                    print('ARIMA%s MSE=%.3f' % (order, mse))\n",
    "                except:\n",
    "                    continue\n",
    "    print('Best ARIMA%s MSE=%.3f' % (best_cfg, best_score))\n",
    "    return best_cfg"
   ]
  },
  {
   "cell_type": "code",
   "execution_count": 5,
   "metadata": {},
   "outputs": [],
   "source": [
    "# create a function to calculate ratios\n",
    "def calculate_is_margins(df):\n",
    "    is_incomes = ['cost_sale', 'sale_gen_adm']\n",
    "    calc_margins = dict()\n",
    "    # plot and calculate ratios\n",
    "    for income in is_incomes:\n",
    "        if income != 'inc_tax_exp':\n",
    "            div = 'rev'\n",
    "        else:\n",
    "            div = 'inc_b_tax'\n",
    "\n",
    "        fig, ax1 = plt.subplots(figsize=(15, 6))\n",
    "\n",
    "        ax1.plot(df['end'], df[income]/df[div], label=income.replace('_', ' ').upper())\n",
    "        ax1.axhline(y=(df[income]/df[div]).mean(), color='r', label='Average value')\n",
    "        \n",
    "        ax1.set_xlabel('Date')\n",
    "        ax1.set_ylabel(income.replace('_', ' ').upper())\n",
    "        \n",
    "        plt.legend()\n",
    "        plt.show()\n",
    "\n",
    "        calc_margins[income+'_margin'] = (df[income]/df[div]).mean()\n",
    "\n",
    "        print(str(income)+' is divided by the revenue.')\n",
    "        print('Average value: '+str((df[income]/df[div]).mean()))\n",
    "\n",
    "    return calc_margins"
   ]
  },
  {
   "cell_type": "code",
   "execution_count": 6,
   "metadata": {},
   "outputs": [],
   "source": [
    "def predict_cos_sale_gen_adm(input_df, is_ratio_dictionary):\n",
    "    # predict Cost Of Sales & Sale, General Administration from the Revenue\n",
    "    for column in ['cost_sale', 'sale_gen_adm']:\n",
    "        input_df[column] = input_df['rev'] * is_ratio_dictionary[column+'_margin']\n",
    "\n",
    "    return input_df"
   ]
  },
  {
   "cell_type": "code",
   "execution_count": 7,
   "metadata": {},
   "outputs": [],
   "source": [
    "def fixed_asset_ratios(df):\n",
    "    # calculate PPE start & CAPEX\n",
    "    df['ppe_net_start'] = [df['ppe_net'].values[i-1] if i > 0 else np.nan for i in range(len(df['ppe_net'].values))]\n",
    "    df['capex'] = df['ppe_net'] - df['ppe_net_start'] + df['depr_amort']\n",
    "    \n",
    "    #calculate ratio\n",
    "    fixed_asset_ratios = dict()\n",
    "    # D&A ratio\n",
    "    for column in ['depr_amort', 'capex']:\n",
    "        ratio = df[column]/df['ppe_net_start']\n",
    "        ratio.hist()\n",
    "        plt.show()\n",
    "        fixed_asset_ratios[column+'_ratio'] = ratio.mean()\n",
    "        print('Average', column, 'value is', fixed_asset_ratios[column+'_ratio'])\n",
    "    return fixed_asset_ratios"
   ]
  },
  {
   "cell_type": "code",
   "execution_count": 8,
   "metadata": {},
   "outputs": [],
   "source": [
    "def predict_fixed_assets(raw_df, prediction_df, fxd_ass_ratios):\n",
    "    # get the last measured PPE as start in case of prediction\n",
    "    ppe_start_pred = [raw_df['ppe_net'].iloc[-1]]\n",
    "    depr_amort_pred = []\n",
    "    capex_pred = []\n",
    "    ppe_net = []\n",
    "    # calculate prediction\n",
    "    for index in range(len(prediction_df)):\n",
    "        depr_amort_pred.append(ppe_start_pred[-1] * fxd_ass_ratios['depr_amort_ratio'])\n",
    "        capex_pred.append(ppe_start_pred[-1] * fxd_ass_ratios['capex_ratio'])\n",
    "        ppe_net.append(ppe_start_pred[-1] - depr_amort_pred[-1] + capex_pred[-1])\n",
    "        # add the last PPE as starting to the PPE start\n",
    "        ppe_start_pred.append(ppe_net[-1])\n",
    "    \n",
    "    prediction_df['depr_amort'] = depr_amort_pred\n",
    "    prediction_df['capex'] = capex_pred\n",
    "    prediction_df['ppe_net'] = ppe_net\n",
    "\n",
    "    return prediction_df"
   ]
  },
  {
   "cell_type": "code",
   "execution_count": 9,
   "metadata": {},
   "outputs": [],
   "source": [
    "def calc_eff_tax_rate(df):\n",
    "    if df['end'].iloc[-1] > pd.Timestamp('2017-01-01'):\n",
    "        eff_tax_rate = 0.21\n",
    "    else:\n",
    "        eff_tax_rate = (df['inc_tax_exp']/df['ebit']).mean()\n",
    "        # plot\n",
    "        (df['inc_tax_exp']/df['ebit']).hist(range=[0, 1])\n",
    "        plt.show()\n",
    "\n",
    "    print('Effective tax rate is', eff_tax_rate)\n",
    "    return eff_tax_rate"
   ]
  },
  {
   "cell_type": "code",
   "execution_count": 10,
   "metadata": {},
   "outputs": [],
   "source": [
    "def calculate_ebitda_ebit_nopat(prediction_df, eff_tax_rate):\n",
    "    prediction_df['ebitda'] = prediction_df['rev'] - prediction_df['cost_sale'] - prediction_df['sale_gen_adm']\n",
    "    prediction_df['ebit'] = prediction_df['ebitda'] - prediction_df['depr_amort']\n",
    "    prediction_df['nopat'] = prediction_df['ebit'] - (prediction_df['ebit'] * eff_tax_rate)\n",
    "    return prediction_df"
   ]
  },
  {
   "cell_type": "code",
   "execution_count": 11,
   "metadata": {},
   "outputs": [],
   "source": [
    "def plot_hist_pred(hist_df, pred_df):\n",
    "    # reset index\n",
    "    pred_df.index = [i for i in range(len(hist_df), len(hist_df) + len(pred_df))]\n",
    "    \n",
    "    for column in pred_df.columns:\n",
    "        try:\n",
    "            fig, ax1 = plt.subplots(figsize=(15, 6))\n",
    "\n",
    "            ax1.plot(hist_df.index, hist_df[column], color='k', label='Historical data')\n",
    "            ax1.plot(pred_df.index, pred_df[column], color='r', label='Predicted values')\n",
    "\n",
    "            ax1.set_xlabel('Index')\n",
    "            ax1.set_ylabel(column.replace('_', ' ').upper())\n",
    "\n",
    "            plt.legend()\n",
    "            plt.show()\n",
    "        except:\n",
    "            continue"
   ]
  },
  {
   "cell_type": "code",
   "execution_count": 12,
   "metadata": {},
   "outputs": [],
   "source": [
    "def calculate_nwc_ratios(df):\n",
    "    result = dict()\n",
    "    # Days Sales Outstanding (dso)\n",
    "    dso = (df['acc_rec'] / df['rev']) * 360\n",
    "    dso.hist()\n",
    "    plt.show()\n",
    "    result['dso'] = dso.mean()\n",
    "    print('DSO:', result['dso'])\n",
    "\n",
    "    #Days Inventory Out. (dis)\n",
    "    dio = (df['invent'] / df['cost_sale']) * 360\n",
    "    dio.hist()\n",
    "    plt.show()\n",
    "    result['dio'] = dio.mean()\n",
    "    print('DIO:', result['dio'])\n",
    "\n",
    "    #Days Payable Out. (dpo)\n",
    "    dpo = (df['acc_pay'] / df['cost_sale']) * 360\n",
    "    dpo.hist()\n",
    "    plt.show()\n",
    "    result['dpo'] = dpo.mean()\n",
    "    print('DPO:', result['dpo'])\n",
    "\n",
    "\n",
    "    #Sum of Other current assets per revenue --> soca_rev\n",
    "    # calculate the non cach non accoint recivable and inventory total current assets ratio to revenue\n",
    "    soca_rev = (df['tot_curr_ass'] - df['acc_rec'] - df['invent'] - df['cash_cash_eq']) / df['rev']\n",
    "    soca_rev.hist()\n",
    "    plt.show()\n",
    "    result['soca_rev'] = soca_rev.mean()\n",
    "    print('Sum Other Current Assets:', result['soca_rev'])\n",
    "\n",
    "    #Sum of Other current liabilities per revenue --> socl_rev\n",
    "    # calculate the non current debt non account payable total current liabilities ratio to revenue\n",
    "    socl_rev = (df['tot_curr_liab'] - df['short_debt'] - df['acc_pay']) / df['rev']\n",
    "    socl_rev.hist()\n",
    "    plt.show()\n",
    "    result['socl_rev'] = socl_rev.mean()\n",
    "    print('Sum Other Current Liabilities per Rec', result['socl_rev'])\n",
    "    \n",
    "    return result"
   ]
  },
  {
   "cell_type": "code",
   "execution_count": 13,
   "metadata": {},
   "outputs": [],
   "source": [
    "def predict_curr_ass_liab(df_prediction, nwc_ratios):\n",
    "    # calculate assets, liabilities, and net working capital from NWC ratio\n",
    "    df_prediction['acc_rec'] = (df_prediction['rev'] * nwc_ratios['dso']) / 360\n",
    "    df_prediction['invent'] = (df_prediction['cost_sale'] * nwc_ratios['dio']) / 360\n",
    "    df_prediction['acc_pay'] = (df_prediction['cost_sale'] * nwc_ratios['dpo']) / 360\n",
    "    \n",
    "    df_prediction['other_curr_ass_lesscash'] = df_prediction['acc_rec'] + df_prediction['invent'] + (df_prediction['rev'] * nwc_ratios['soca_rev'])\n",
    "    df_prediction['tot_curr_liab_lessdebt'] = df_prediction['acc_pay'] + (df_prediction['rev'] * nwc_ratios['socl_rev'])\n",
    "    df_prediction['nwc'] = df_prediction['other_curr_ass_lesscash'] - df_prediction['tot_curr_liab_lessdebt']\n",
    "    return df_prediction"
   ]
  },
  {
   "cell_type": "code",
   "execution_count": 14,
   "metadata": {},
   "outputs": [],
   "source": [
    "def calc_change_nwc(df_hist, df_predict):\n",
    "    c_nwc = []\n",
    "    # check the 2 DataFrame is equal & calculate NWC for measured data\n",
    "    if df_hist.equals(df_predict):\n",
    "        for index in range(len(df_predict)):\n",
    "            if index > 0:\n",
    "                c_nwc.append(df_predict['nwc'].iloc[index] - df_predict['nwc'].iloc[index-1])\n",
    "            else:\n",
    "                c_nwc.append(np.nan)\n",
    "    # calculate NWC for future data\n",
    "    else:\n",
    "        for index in range(len(df_predict)):\n",
    "            if index > 0:\n",
    "                c_nwc.append(df_predict['nwc'].iloc[index] - df_predict['nwc'].iloc[index-1])\n",
    "            else:\n",
    "                c_nwc.append(df_predict['nwc'].iloc[index] - df_hist['nwc'].iloc[-1])\n",
    "    \n",
    "    df_predict['c_nwc'] = c_nwc\n",
    "    \n",
    "    return df_predict"
   ]
  },
  {
   "cell_type": "code",
   "execution_count": 15,
   "metadata": {},
   "outputs": [],
   "source": [
    "def calc_unleveared_fcf(df):\n",
    "    df['unlev_fcf'] = df['nopat'] + df['depr_amort'] - df['capex'] - df['c_nwc']\n",
    "    return df"
   ]
  },
  {
   "cell_type": "code",
   "execution_count": 16,
   "metadata": {},
   "outputs": [],
   "source": [
    "def calculate_wacc(df, share_price, eff_tax_rate, us_bond_10_yr, equity_risk_premium, beta):\n",
    "    equity = (share_price * df['shares'].iloc[-1])\n",
    "    debt = df['short_debt'].iloc[-1] + df['tot_long_debt'].iloc[-1]\n",
    "    \n",
    "    cost_of_debt = abs(df['int_exp'].iloc[-1]) / debt\n",
    "    d_per_d_plus_e = debt / (debt + equity)\n",
    "    after_tax_cost_of_debt = cost_of_debt * (1 - eff_tax_rate)\n",
    "\n",
    "    risk_free_rate = us_bond_10_yr\n",
    "    market_risk_premium = equity_risk_premium\n",
    "    cost_of_equity = risk_free_rate + (beta * market_risk_premium)\n",
    "    e_per_d_plus_e = equity / (debt + equity)\n",
    "    \n",
    "    wacc = (d_per_d_plus_e * after_tax_cost_of_debt) + (e_per_d_plus_e * cost_of_equity)\n",
    "    return wacc"
   ]
  },
  {
   "cell_type": "code",
   "execution_count": 17,
   "metadata": {},
   "outputs": [],
   "source": [
    "def calculate_present_value_fcf(df, wacc, report='10-Q'):\n",
    "    if report == '10-Q':\n",
    "        multipl = 0.25\n",
    "    else:\n",
    "        multipl = 1\n",
    "    # calculate present cahs flows\n",
    "    df['pres_val_fcf'] = df['unlev_fcf']/((1+wacc)**(df.index*multipl))\n",
    "    return df"
   ]
  },
  {
   "cell_type": "code",
   "execution_count": 18,
   "metadata": {},
   "outputs": [],
   "source": [
    "def calculate_tv_prestv_enterp_val(df, industry_growth_rate, wacc):\n",
    "    # Terminal Value\n",
    "    tv = ((df['unlev_fcf'].iloc[-1] * (1 + industry_growth_rate))) / (wacc - industry_growth_rate)\n",
    "    # present value of TV\n",
    "    pres_value_tv = tv / (1 + wacc)**5\n",
    "    \n",
    "    return tv, pres_value_tv"
   ]
  },
  {
   "cell_type": "code",
   "execution_count": 19,
   "metadata": {},
   "outputs": [],
   "source": [
    "def calc_enterp_company_value(df_hist, df_pred, pres_value_tv):\n",
    "    \n",
    "    debt = df_hist['short_debt'].iloc[-1] + df_hist['tot_long_debt'].iloc[-1]\n",
    "    \n",
    "    if 'equity_minor_interest' in df_hist.columns:\n",
    "        equity_minor_interest = df_hist['equity_minor_interest'].iloc[-1]\n",
    "    else:\n",
    "        equity_minor_interest = 0\n",
    "    # Enterprise Values\n",
    "    enterp_val = df_pred['pres_val_fcf'].sum() + pres_value_tv\n",
    "    # Company Value\n",
    "    comp_val = enterp_val + df_hist['cash_cash_eq'].iloc[-1] - debt - equity_minor_interest\n",
    "    \n",
    "\n",
    "    print(enterp_val, comp_val)\n",
    "    return enterp_val, comp_val"
   ]
  },
  {
   "cell_type": "code",
   "execution_count": 20,
   "metadata": {},
   "outputs": [],
   "source": [
    "def implied_share_price(equity_value, hist_df):\n",
    "    share_price = equity_value / hist_df['shares'].iloc[-1]\n",
    "    return share_price"
   ]
  },
  {
   "cell_type": "markdown",
   "metadata": {},
   "source": [
    "## 1. Set boundary parameters (stock price, prediction period, bond yield) & Load Data"
   ]
  },
  {
   "cell_type": "code",
   "execution_count": 21,
   "metadata": {},
   "outputs": [],
   "source": [
    "# fixed parameters\n",
    "db_path = '../database/statements.db'\n",
    "form = '10-Q'\n",
    "# end date years ago\n",
    "finished_years_ago = 0\n",
    "# forecast period\n",
    "forecast_period = 20\n",
    "# WACC input\n",
    "share_price = 108\n",
    "us_bond_10_yr = 0.0436\n",
    "# country specifc - USA data from https://pages.stern.nyu.edu/~adamodar/New_Home_Page/datafile/ctryprem.html - 5.5% 10+ yrs average\n",
    "equity_risk_premium = 0.055\n",
    "beta = 0.67\n",
    "# country industry growth rate - US GDP growth avg from 1948 yo 2023 - 3.12%\n",
    "industry_growth_rate = 0.0312"
   ]
  },
  {
   "cell_type": "code",
   "execution_count": 22,
   "metadata": {},
   "outputs": [
    {
     "name": "stdout",
     "output_type": "stream",
     "text": [
      "Connection to SQLite DB successful!\n",
      "Data has been collected!\n",
      "Datatype has been updated!\n",
      "Connection closed!\n",
      "Data are available from: 2016-09-30 00:00:00\n",
      "Filtered data start at: 2016-09-30 00:00:00\n",
      "Filtered data finish at: 2023-06-30 00:00:00\n"
     ]
    }
   ],
   "source": [
    "#load data\n",
    "data = read_data_from_sql(\n",
    "    db_path=db_path,\n",
    "    tickers=['BG'],\n",
    "    statements=['income_statement', 'balance_sheet']    \n",
    ")\n",
    "print('Data are available from:', data['end'].iloc[0])\n",
    "# start date 7 year earlier than end date\n",
    "start_date = pd.Timestamp(datetime.date.today()) - (pd.Timedelta(days=(10 * 365) + (finished_years_ago * 365)))\n",
    "end_date = pd.Timestamp(datetime.date.today()) - (pd.Timedelta(days=finished_years_ago * 365))\n",
    "# create DataFrame\n",
    "data_filt = data.loc[(data['form'] == form) & (data['end'] > start_date) & (data['end'] < end_date), :]\n",
    "data_filt.reset_index(drop=True, inplace=True)\n",
    "print('Filtered data start at:', data_filt.end.iloc[0])\n",
    "print('Filtered data finish at:', data_filt.end.iloc[-1])"
   ]
  },
  {
   "cell_type": "code",
   "execution_count": 23,
   "metadata": {},
   "outputs": [
    {
     "data": {
      "text/html": [
       "<div>\n",
       "<style scoped>\n",
       "    .dataframe tbody tr th:only-of-type {\n",
       "        vertical-align: middle;\n",
       "    }\n",
       "\n",
       "    .dataframe tbody tr th {\n",
       "        vertical-align: top;\n",
       "    }\n",
       "\n",
       "    .dataframe thead th {\n",
       "        text-align: right;\n",
       "    }\n",
       "</style>\n",
       "<table border=\"1\" class=\"dataframe\">\n",
       "  <thead>\n",
       "    <tr style=\"text-align: right;\">\n",
       "      <th></th>\n",
       "      <th>cik</th>\n",
       "      <th>ticker</th>\n",
       "      <th>end</th>\n",
       "      <th>form</th>\n",
       "      <th>rev</th>\n",
       "      <th>cost_sale</th>\n",
       "      <th>sale_gen_adm</th>\n",
       "      <th>inpairm</th>\n",
       "      <th>op_income</th>\n",
       "      <th>int_income</th>\n",
       "      <th>...</th>\n",
       "      <th>intang_ass</th>\n",
       "      <th>other_ass</th>\n",
       "      <th>tot_ass</th>\n",
       "      <th>short_debt</th>\n",
       "      <th>acc_pay</th>\n",
       "      <th>other_curr_liab</th>\n",
       "      <th>tot_curr_liab</th>\n",
       "      <th>tot_long_debt</th>\n",
       "      <th>other_liab</th>\n",
       "      <th>tot_equity</th>\n",
       "    </tr>\n",
       "  </thead>\n",
       "  <tbody>\n",
       "    <tr>\n",
       "      <th>0</th>\n",
       "      <td>0001144519</td>\n",
       "      <td>BG</td>\n",
       "      <td>2016-09-30</td>\n",
       "      <td>10-Q</td>\n",
       "      <td>1.561600e+10</td>\n",
       "      <td>1.086700e+10</td>\n",
       "      <td>324000000.0</td>\n",
       "      <td>0.0</td>\n",
       "      <td>170000000.0</td>\n",
       "      <td>13000000.0</td>\n",
       "      <td>...</td>\n",
       "      <td>318000000.0</td>\n",
       "      <td>8.990000e+08</td>\n",
       "      <td>2.004500e+10</td>\n",
       "      <td>863000000.0</td>\n",
       "      <td>3.205000e+09</td>\n",
       "      <td>3.121000e+09</td>\n",
       "      <td>8.281000e+09</td>\n",
       "      <td>3.447000e+09</td>\n",
       "      <td>826000000.0</td>\n",
       "      <td>7.083000e+09</td>\n",
       "    </tr>\n",
       "    <tr>\n",
       "      <th>1</th>\n",
       "      <td>0001144519</td>\n",
       "      <td>BG</td>\n",
       "      <td>2016-12-31</td>\n",
       "      <td>10-Q</td>\n",
       "      <td>1.561600e+10</td>\n",
       "      <td>1.086700e+10</td>\n",
       "      <td>324000000.0</td>\n",
       "      <td>0.0</td>\n",
       "      <td>170000000.0</td>\n",
       "      <td>13000000.0</td>\n",
       "      <td>...</td>\n",
       "      <td>336000000.0</td>\n",
       "      <td>9.270000e+08</td>\n",
       "      <td>1.918800e+10</td>\n",
       "      <td>938000000.0</td>\n",
       "      <td>3.485000e+09</td>\n",
       "      <td>2.476000e+09</td>\n",
       "      <td>7.684000e+09</td>\n",
       "      <td>3.069000e+09</td>\n",
       "      <td>853000000.0</td>\n",
       "      <td>7.144000e+09</td>\n",
       "    </tr>\n",
       "    <tr>\n",
       "      <th>2</th>\n",
       "      <td>0001144519</td>\n",
       "      <td>BG</td>\n",
       "      <td>2017-03-31</td>\n",
       "      <td>10-Q</td>\n",
       "      <td>1.112100e+10</td>\n",
       "      <td>1.066100e+10</td>\n",
       "      <td>378000000.0</td>\n",
       "      <td>0.0</td>\n",
       "      <td>82000000.0</td>\n",
       "      <td>12000000.0</td>\n",
       "      <td>...</td>\n",
       "      <td>365000000.0</td>\n",
       "      <td>1.001000e+09</td>\n",
       "      <td>2.062000e+10</td>\n",
       "      <td>938000000.0</td>\n",
       "      <td>3.898000e+09</td>\n",
       "      <td>2.787000e+09</td>\n",
       "      <td>8.616000e+09</td>\n",
       "      <td>3.266000e+09</td>\n",
       "      <td>889000000.0</td>\n",
       "      <td>7.428000e+09</td>\n",
       "    </tr>\n",
       "    <tr>\n",
       "      <th>3</th>\n",
       "      <td>0001144519</td>\n",
       "      <td>BG</td>\n",
       "      <td>2017-06-30</td>\n",
       "      <td>10-Q</td>\n",
       "      <td>1.164500e+10</td>\n",
       "      <td>1.129000e+10</td>\n",
       "      <td>328000000.0</td>\n",
       "      <td>0.0</td>\n",
       "      <td>26000000.0</td>\n",
       "      <td>8000000.0</td>\n",
       "      <td>...</td>\n",
       "      <td>362000000.0</td>\n",
       "      <td>9.420000e+08</td>\n",
       "      <td>2.043300e+10</td>\n",
       "      <td>206000000.0</td>\n",
       "      <td>3.513000e+09</td>\n",
       "      <td>2.529000e+09</td>\n",
       "      <td>7.933000e+09</td>\n",
       "      <td>3.918000e+09</td>\n",
       "      <td>879000000.0</td>\n",
       "      <td>7.227000e+09</td>\n",
       "    </tr>\n",
       "    <tr>\n",
       "      <th>4</th>\n",
       "      <td>0001144519</td>\n",
       "      <td>BG</td>\n",
       "      <td>2017-09-30</td>\n",
       "      <td>10-Q</td>\n",
       "      <td>1.142300e+10</td>\n",
       "      <td>1.093400e+10</td>\n",
       "      <td>339000000.0</td>\n",
       "      <td>0.0</td>\n",
       "      <td>121000000.0</td>\n",
       "      <td>9000000.0</td>\n",
       "      <td>...</td>\n",
       "      <td>338000000.0</td>\n",
       "      <td>1.015000e+09</td>\n",
       "      <td>2.055200e+10</td>\n",
       "      <td>287000000.0</td>\n",
       "      <td>3.650000e+09</td>\n",
       "      <td>2.197000e+09</td>\n",
       "      <td>7.468000e+09</td>\n",
       "      <td>4.246000e+09</td>\n",
       "      <td>842000000.0</td>\n",
       "      <td>7.546000e+09</td>\n",
       "    </tr>\n",
       "  </tbody>\n",
       "</table>\n",
       "<p>5 rows × 33 columns</p>\n",
       "</div>"
      ],
      "text/plain": [
       "          cik ticker        end  form           rev     cost_sale  \\\n",
       "0  0001144519     BG 2016-09-30  10-Q  1.561600e+10  1.086700e+10   \n",
       "1  0001144519     BG 2016-12-31  10-Q  1.561600e+10  1.086700e+10   \n",
       "2  0001144519     BG 2017-03-31  10-Q  1.112100e+10  1.066100e+10   \n",
       "3  0001144519     BG 2017-06-30  10-Q  1.164500e+10  1.129000e+10   \n",
       "4  0001144519     BG 2017-09-30  10-Q  1.142300e+10  1.093400e+10   \n",
       "\n",
       "   sale_gen_adm  inpairm    op_income  int_income  ...   intang_ass  \\\n",
       "0   324000000.0      0.0  170000000.0  13000000.0  ...  318000000.0   \n",
       "1   324000000.0      0.0  170000000.0  13000000.0  ...  336000000.0   \n",
       "2   378000000.0      0.0   82000000.0  12000000.0  ...  365000000.0   \n",
       "3   328000000.0      0.0   26000000.0   8000000.0  ...  362000000.0   \n",
       "4   339000000.0      0.0  121000000.0   9000000.0  ...  338000000.0   \n",
       "\n",
       "      other_ass       tot_ass   short_debt       acc_pay  other_curr_liab  \\\n",
       "0  8.990000e+08  2.004500e+10  863000000.0  3.205000e+09     3.121000e+09   \n",
       "1  9.270000e+08  1.918800e+10  938000000.0  3.485000e+09     2.476000e+09   \n",
       "2  1.001000e+09  2.062000e+10  938000000.0  3.898000e+09     2.787000e+09   \n",
       "3  9.420000e+08  2.043300e+10  206000000.0  3.513000e+09     2.529000e+09   \n",
       "4  1.015000e+09  2.055200e+10  287000000.0  3.650000e+09     2.197000e+09   \n",
       "\n",
       "   tot_curr_liab  tot_long_debt   other_liab    tot_equity  \n",
       "0   8.281000e+09   3.447000e+09  826000000.0  7.083000e+09  \n",
       "1   7.684000e+09   3.069000e+09  853000000.0  7.144000e+09  \n",
       "2   8.616000e+09   3.266000e+09  889000000.0  7.428000e+09  \n",
       "3   7.933000e+09   3.918000e+09  879000000.0  7.227000e+09  \n",
       "4   7.468000e+09   4.246000e+09  842000000.0  7.546000e+09  \n",
       "\n",
       "[5 rows x 33 columns]"
      ]
     },
     "execution_count": 23,
     "metadata": {},
     "output_type": "execute_result"
    }
   ],
   "source": [
    "data_filt.head()"
   ]
  },
  {
   "cell_type": "markdown",
   "metadata": {},
   "source": [
    "## 2. Calculate EBITDA, EBIT, NOPAT, CAPEX etc on hisorical data"
   ]
  },
  {
   "cell_type": "code",
   "execution_count": 24,
   "metadata": {},
   "outputs": [
    {
     "data": {
      "text/html": [
       "<div>\n",
       "<style scoped>\n",
       "    .dataframe tbody tr th:only-of-type {\n",
       "        vertical-align: middle;\n",
       "    }\n",
       "\n",
       "    .dataframe tbody tr th {\n",
       "        vertical-align: top;\n",
       "    }\n",
       "\n",
       "    .dataframe thead th {\n",
       "        text-align: right;\n",
       "    }\n",
       "</style>\n",
       "<table border=\"1\" class=\"dataframe\">\n",
       "  <thead>\n",
       "    <tr style=\"text-align: right;\">\n",
       "      <th></th>\n",
       "      <th>cik</th>\n",
       "      <th>ticker</th>\n",
       "      <th>end</th>\n",
       "      <th>form</th>\n",
       "      <th>rev</th>\n",
       "      <th>cost_sale</th>\n",
       "      <th>sale_gen_adm</th>\n",
       "      <th>inpairm</th>\n",
       "      <th>op_income</th>\n",
       "      <th>int_income</th>\n",
       "      <th>...</th>\n",
       "      <th>tot_equity</th>\n",
       "      <th>tot_liab</th>\n",
       "      <th>inc_b_tax</th>\n",
       "      <th>ebitda</th>\n",
       "      <th>ebit</th>\n",
       "      <th>nopat</th>\n",
       "      <th>other_curr_ass_lesscash</th>\n",
       "      <th>tot_curr_liab_lessdebt</th>\n",
       "      <th>nwc</th>\n",
       "      <th>capex</th>\n",
       "    </tr>\n",
       "  </thead>\n",
       "  <tbody>\n",
       "    <tr>\n",
       "      <th>0</th>\n",
       "      <td>0001144519</td>\n",
       "      <td>BG</td>\n",
       "      <td>2016-09-30</td>\n",
       "      <td>10-Q</td>\n",
       "      <td>1.561600e+10</td>\n",
       "      <td>1.086700e+10</td>\n",
       "      <td>324000000.0</td>\n",
       "      <td>0.0</td>\n",
       "      <td>170000000.0</td>\n",
       "      <td>13000000.0</td>\n",
       "      <td>...</td>\n",
       "      <td>7.083000e+09</td>\n",
       "      <td>1.296200e+10</td>\n",
       "      <td>163000000.0</td>\n",
       "      <td>4.425000e+09</td>\n",
       "      <td>4.276000e+09</td>\n",
       "      <td>4.231000e+09</td>\n",
       "      <td>1.146500e+10</td>\n",
       "      <td>7.418000e+09</td>\n",
       "      <td>4.047000e+09</td>\n",
       "      <td>NaN</td>\n",
       "    </tr>\n",
       "    <tr>\n",
       "      <th>1</th>\n",
       "      <td>0001144519</td>\n",
       "      <td>BG</td>\n",
       "      <td>2016-12-31</td>\n",
       "      <td>10-Q</td>\n",
       "      <td>1.561600e+10</td>\n",
       "      <td>1.086700e+10</td>\n",
       "      <td>324000000.0</td>\n",
       "      <td>0.0</td>\n",
       "      <td>170000000.0</td>\n",
       "      <td>13000000.0</td>\n",
       "      <td>...</td>\n",
       "      <td>7.144000e+09</td>\n",
       "      <td>1.204400e+10</td>\n",
       "      <td>316000000.0</td>\n",
       "      <td>4.425000e+09</td>\n",
       "      <td>4.276000e+09</td>\n",
       "      <td>4.231000e+09</td>\n",
       "      <td>1.009400e+10</td>\n",
       "      <td>6.746000e+09</td>\n",
       "      <td>3.348000e+09</td>\n",
       "      <td>79000000.0</td>\n",
       "    </tr>\n",
       "    <tr>\n",
       "      <th>2</th>\n",
       "      <td>0001144519</td>\n",
       "      <td>BG</td>\n",
       "      <td>2017-03-31</td>\n",
       "      <td>10-Q</td>\n",
       "      <td>1.112100e+10</td>\n",
       "      <td>1.066100e+10</td>\n",
       "      <td>378000000.0</td>\n",
       "      <td>0.0</td>\n",
       "      <td>82000000.0</td>\n",
       "      <td>12000000.0</td>\n",
       "      <td>...</td>\n",
       "      <td>7.428000e+09</td>\n",
       "      <td>1.319200e+10</td>\n",
       "      <td>75000000.0</td>\n",
       "      <td>8.200000e+07</td>\n",
       "      <td>-4.800000e+07</td>\n",
       "      <td>-7.600000e+07</td>\n",
       "      <td>1.130600e+10</td>\n",
       "      <td>7.678000e+09</td>\n",
       "      <td>3.628000e+09</td>\n",
       "      <td>382000000.0</td>\n",
       "    </tr>\n",
       "    <tr>\n",
       "      <th>3</th>\n",
       "      <td>0001144519</td>\n",
       "      <td>BG</td>\n",
       "      <td>2017-06-30</td>\n",
       "      <td>10-Q</td>\n",
       "      <td>1.164500e+10</td>\n",
       "      <td>1.129000e+10</td>\n",
       "      <td>328000000.0</td>\n",
       "      <td>0.0</td>\n",
       "      <td>26000000.0</td>\n",
       "      <td>8000000.0</td>\n",
       "      <td>...</td>\n",
       "      <td>7.227000e+09</td>\n",
       "      <td>1.320600e+10</td>\n",
       "      <td>26000000.0</td>\n",
       "      <td>2.700000e+07</td>\n",
       "      <td>-1.250000e+08</td>\n",
       "      <td>-7.000000e+07</td>\n",
       "      <td>1.133900e+10</td>\n",
       "      <td>7.727000e+09</td>\n",
       "      <td>3.612000e+09</td>\n",
       "      <td>132000000.0</td>\n",
       "    </tr>\n",
       "    <tr>\n",
       "      <th>4</th>\n",
       "      <td>0001144519</td>\n",
       "      <td>BG</td>\n",
       "      <td>2017-09-30</td>\n",
       "      <td>10-Q</td>\n",
       "      <td>1.142300e+10</td>\n",
       "      <td>1.093400e+10</td>\n",
       "      <td>339000000.0</td>\n",
       "      <td>0.0</td>\n",
       "      <td>121000000.0</td>\n",
       "      <td>9000000.0</td>\n",
       "      <td>...</td>\n",
       "      <td>7.546000e+09</td>\n",
       "      <td>1.300600e+10</td>\n",
       "      <td>121000000.0</td>\n",
       "      <td>1.500000e+08</td>\n",
       "      <td>-1.600000e+07</td>\n",
       "      <td>-4.500000e+07</td>\n",
       "      <td>1.159600e+10</td>\n",
       "      <td>7.181000e+09</td>\n",
       "      <td>4.415000e+09</td>\n",
       "      <td>255000000.0</td>\n",
       "    </tr>\n",
       "  </tbody>\n",
       "</table>\n",
       "<p>5 rows × 42 columns</p>\n",
       "</div>"
      ],
      "text/plain": [
       "          cik ticker        end  form           rev     cost_sale  \\\n",
       "0  0001144519     BG 2016-09-30  10-Q  1.561600e+10  1.086700e+10   \n",
       "1  0001144519     BG 2016-12-31  10-Q  1.561600e+10  1.086700e+10   \n",
       "2  0001144519     BG 2017-03-31  10-Q  1.112100e+10  1.066100e+10   \n",
       "3  0001144519     BG 2017-06-30  10-Q  1.164500e+10  1.129000e+10   \n",
       "4  0001144519     BG 2017-09-30  10-Q  1.142300e+10  1.093400e+10   \n",
       "\n",
       "   sale_gen_adm  inpairm    op_income  int_income  ...    tot_equity  \\\n",
       "0   324000000.0      0.0  170000000.0  13000000.0  ...  7.083000e+09   \n",
       "1   324000000.0      0.0  170000000.0  13000000.0  ...  7.144000e+09   \n",
       "2   378000000.0      0.0   82000000.0  12000000.0  ...  7.428000e+09   \n",
       "3   328000000.0      0.0   26000000.0   8000000.0  ...  7.227000e+09   \n",
       "4   339000000.0      0.0  121000000.0   9000000.0  ...  7.546000e+09   \n",
       "\n",
       "       tot_liab    inc_b_tax        ebitda          ebit         nopat  \\\n",
       "0  1.296200e+10  163000000.0  4.425000e+09  4.276000e+09  4.231000e+09   \n",
       "1  1.204400e+10  316000000.0  4.425000e+09  4.276000e+09  4.231000e+09   \n",
       "2  1.319200e+10   75000000.0  8.200000e+07 -4.800000e+07 -7.600000e+07   \n",
       "3  1.320600e+10   26000000.0  2.700000e+07 -1.250000e+08 -7.000000e+07   \n",
       "4  1.300600e+10  121000000.0  1.500000e+08 -1.600000e+07 -4.500000e+07   \n",
       "\n",
       "   other_curr_ass_lesscash  tot_curr_liab_lessdebt           nwc        capex  \n",
       "0             1.146500e+10            7.418000e+09  4.047000e+09          NaN  \n",
       "1             1.009400e+10            6.746000e+09  3.348000e+09   79000000.0  \n",
       "2             1.130600e+10            7.678000e+09  3.628000e+09  382000000.0  \n",
       "3             1.133900e+10            7.727000e+09  3.612000e+09  132000000.0  \n",
       "4             1.159600e+10            7.181000e+09  4.415000e+09  255000000.0  \n",
       "\n",
       "[5 rows x 42 columns]"
      ]
     },
     "execution_count": 24,
     "metadata": {},
     "output_type": "execute_result"
    }
   ],
   "source": [
    "data_filt = calculate_missing_columns(data_filt)\n",
    "data_filt.head()"
   ]
  },
  {
   "cell_type": "markdown",
   "metadata": {},
   "source": [
    "## 3. Forecast Revenue\n",
    "\n",
    "Before the ARIMA / SARIMA modling need to know p, d, q values (model parameters):\n",
    "- p: Trend autoregression order.\n",
    "- q: Trend moving average order.\n",
    "- d: Trend difference order."
   ]
  },
  {
   "cell_type": "code",
   "execution_count": 25,
   "metadata": {},
   "outputs": [
    {
     "data": {
      "image/png": "[encoded data removed]",
      "text/plain": [
       "<Figure size 640x480 with 1 Axes>"
      ]
     },
     "metadata": {},
     "output_type": "display_data"
    }
   ],
   "source": [
    "# Creating Autocorrelation plot - ACF\n",
    "x = pd.plotting.autocorrelation_plot(data_filt['rev'])\n",
    "x.plot()\n",
    "plt.show()"
   ]
  },
  {
   "cell_type": "markdown",
   "metadata": {},
   "source": [
    "The monotony of ACF is changed first time there is the p value. "
   ]
  },
  {
   "cell_type": "code",
   "execution_count": 26,
   "metadata": {},
   "outputs": [
    {
     "data": {
      "image/png": "[encoded data removed]",
      "text/plain": [
       "<Figure size 640x480 with 1 Axes>"
      ]
     },
     "execution_count": 26,
     "metadata": {},
     "output_type": "execute_result"
    },
    {
     "data": {
      "image/png": "[encoded data removed]",
      "text/plain": [
       "<Figure size 640x480 with 1 Axes>"
      ]
     },
     "metadata": {},
     "output_type": "display_data"
    }
   ],
   "source": [
    "# Creating Partial Autocorrelation plot --> PACF\n",
    "from statsmodels.graphics.tsaplots import plot_pacf\n",
    "plot_pacf(data_filt['rev'], lags = int(forecast_period / 2 - 1))"
   ]
  },
  {
   "cell_type": "markdown",
   "metadata": {},
   "source": [
    "Number of points, which are far away from the boundary is the q value.\n",
    "\n",
    "In the above partial autocorrelation plot, we can see that only two points are far away from all the points. That is how a decide the q value. Hence the value of q is 2.\n",
    "\n",
    "The value of d is either 0 or 1. If the data is stationary, we should use 0, and if the data is seasonal, we should use 1. As our data is seasonal, we should use 1 as the d value.\n",
    "\n",
    "I will find ARIMA hyperparameters (p, d, q) with gridsearch step-by-step"
   ]
  },
  {
   "cell_type": "code",
   "execution_count": 27,
   "metadata": {},
   "outputs": [
    {
     "name": "stdout",
     "output_type": "stream",
     "text": [
      "3.2880959958201103e+18\n",
      "ARIMA(2, 1, 1) MSE=3288095995820110336.000\n",
      "3.057530277040274e+18\n",
      "ARIMA(2, 1, 3) MSE=3057530277040273920.000\n",
      "3.2401444007571717e+18\n",
      "ARIMA(4, 1, 1) MSE=3240144400757171712.000\n",
      "3.2134640676659497e+18\n",
      "ARIMA(4, 1, 3) MSE=3213464067665949696.000\n",
      "Best ARIMA(2, 1, 3) MSE=3057530277040273920.000\n"
     ]
    }
   ],
   "source": [
    "# evaluate an ARIMA model for a given order (p,d,q) ---> You can tip p and estimate d, q based on previous plots\n",
    "series = data_filt['rev']\n",
    "# evaluate parameters\n",
    "p_values = [2, 4]\n",
    "d_values = [1]\n",
    "q_values = [1, 3]\n",
    "warnings.filterwarnings(\"ignore\")\n",
    "best_config = evaluate_models(series.values, p_values, d_values, q_values)"
   ]
  },
  {
   "cell_type": "markdown",
   "metadata": {},
   "source": [
    "The predicted values are wrong because the data is seasonal. ARIMA model will never perform well on seasonal time series data. So, here’s how to build a SARIMA model.\n",
    "\n",
    "The parameter \"s\" is an integer giving the periodicity (number of periods in season), often it is 4 for quarterly data or 12 for monthly data. Default is no seasonal effect. Here is hardcoded, works well with 12."
   ]
  },
  {
   "cell_type": "code",
   "execution_count": 28,
   "metadata": {},
   "outputs": [],
   "source": [
    "# float datatype is needed to SARIMAX model\n",
    "data_filt['rev'] = data_filt['rev'].astype(float)"
   ]
  },
  {
   "cell_type": "code",
   "execution_count": 29,
   "metadata": {},
   "outputs": [
    {
     "name": "stdout",
     "output_type": "stream",
     "text": [
      "RUNNING THE L-BFGS-B CODE\n",
      "\n",
      "           * * *\n",
      "\n",
      "Machine precision = 2.220D-16\n",
      " N =           11     M =           10\n",
      "\n",
      "At X0         0 variables are exactly at the bounds\n",
      "\n",
      "At iterate    0    f=  1.90476D+01    |proj g|=  1.37486D+01\n"
     ]
    },
    {
     "name": "stderr",
     "output_type": "stream",
     "text": [
      " This problem is unconstrained.\n"
     ]
    },
    {
     "name": "stdout",
     "output_type": "stream",
     "text": [
      "\n",
      "At iterate    5    f=  1.19914D+01    |proj g|=  2.07601D-01\n",
      "\n",
      "At iterate   10    f=  1.19194D+01    |proj g|=  1.17827D-01\n",
      "\n",
      "At iterate   15    f=  1.18066D+01    |proj g|=  6.63959D-02\n",
      "\n",
      "At iterate   20    f=  1.18048D+01    |proj g|=  2.31581D-02\n",
      "\n",
      "At iterate   25    f=  1.18010D+01    |proj g|=  1.38791D-02\n",
      "\n",
      "At iterate   30    f=  1.17992D+01    |proj g|=  1.66256D-01\n",
      "\n",
      "At iterate   35    f=  1.17935D+01    |proj g|=  2.58877D-02\n",
      "\n",
      "At iterate   40    f=  1.17922D+01    |proj g|=  9.77394D-03\n",
      "\n",
      "At iterate   45    f=  1.17917D+01    |proj g|=  4.47942D-03\n",
      "\n",
      "At iterate   50    f=  1.17916D+01    |proj g|=  6.69007D-03\n",
      "\n",
      "           * * *\n",
      "\n",
      "Tit   = total number of iterations\n",
      "Tnf   = total number of function evaluations\n",
      "Tnint = total number of segments explored during Cauchy searches\n",
      "Skip  = number of BFGS updates skipped\n",
      "Nact  = number of active bounds at final generalized Cauchy point\n",
      "Projg = norm of the final projected gradient\n",
      "F     = final function value\n",
      "\n",
      "           * * *\n",
      "\n",
      "   N    Tit     Tnf  Tnint  Skip  Nact     Projg        F\n",
      "   11     50     58      1     0     0   6.690D-03   1.179D+01\n",
      "  F =   11.791617896911401     \n",
      "\n",
      "STOP: TOTAL NO. of ITERATIONS REACHED LIMIT                 \n",
      "                                     SARIMAX Results                                      \n",
      "==========================================================================================\n",
      "Dep. Variable:                                  y   No. Observations:                   28\n",
      "Model:             SARIMAX(2, 1, 3)x(2, 1, 3, 12)   Log Likelihood                -330.165\n",
      "Date:                            Sat, 30 Sep 2023   AIC                            682.331\n",
      "Time:                                    18:52:25   BIC                            690.119\n",
      "Sample:                                         0   HQIC                           682.248\n",
      "                                             - 28                                         \n",
      "Covariance Type:                              opg                                         \n",
      "==============================================================================\n",
      "                 coef    std err          z      P>|z|      [0.025      0.975]\n",
      "------------------------------------------------------------------------------\n",
      "ar.L1         -0.1924      2.415     -0.080      0.937      -4.926       4.541\n",
      "ar.L2          0.7419      1.215      0.611      0.541      -1.639       3.123\n",
      "ma.L1         -0.0100     21.934     -0.000      1.000     -43.000      42.980\n",
      "ma.L2         -0.9090     19.998     -0.045      0.964     -40.105      38.287\n",
      "ma.L3         -0.0774      1.434     -0.054      0.957      -2.887       2.733\n",
      "ar.S.L12      -0.7927     57.201     -0.014      0.989    -112.904     111.318\n",
      "ar.S.L24      -0.7843     77.019     -0.010      0.992    -151.738     150.169\n",
      "ma.S.L12       0.2167     51.138      0.004      0.997    -100.012     100.445\n",
      "ma.S.L24      -0.0217    113.615     -0.000      1.000    -222.703     222.660\n",
      "ma.S.L36      -0.2551    110.279     -0.002      0.998    -216.399     215.889\n",
      "sigma2      5.121e+17   2.58e-15   1.99e+32      0.000    5.12e+17    5.12e+17\n",
      "===================================================================================\n",
      "Ljung-Box (L1) (Q):                   0.04   Jarque-Bera (JB):                 0.45\n",
      "Prob(Q):                              0.85   Prob(JB):                         0.80\n",
      "Heteroskedasticity (H):               0.94   Skew:                             0.16\n",
      "Prob(H) (two-sided):                  0.95   Kurtosis:                         2.21\n",
      "===================================================================================\n",
      "\n",
      "Warnings:\n",
      "[1] Covariance matrix calculated using the outer product of gradients (complex-step).\n",
      "[2] Covariance matrix is singular or near-singular, with condition number 1.51e+49. Standard errors may be unstable.\n"
     ]
    }
   ],
   "source": [
    "# use the model parameters of SARIMA\n",
    "p, d, q = best_config\n",
    "model=sm.tsa.statespace.SARIMAX(data_filt['rev'].values,\n",
    "                                order=(p, d, q),\n",
    "                                seasonal_order=(p, d, q, 12))\n",
    "model=model.fit()\n",
    "print(model.summary())"
   ]
  },
  {
   "cell_type": "code",
   "execution_count": 30,
   "metadata": {},
   "outputs": [],
   "source": [
    "# use SARIMAX model\n",
    "prediction_revenue = model.predict(len(data_filt), len(data_filt) + forecast_period)\n",
    "# df from results\n",
    "prediction = pd.DataFrame(\n",
    "    prediction_revenue,\n",
    "    index=[i+1 for i in range(len(prediction_revenue))],\n",
    "    columns=['rev']\n",
    ")"
   ]
  },
  {
   "cell_type": "code",
   "execution_count": 31,
   "metadata": {},
   "outputs": [
    {
     "data": {
      "image/png": "[encoded data removed]",
      "text/plain": [
       "<Figure size 1500x600 with 1 Axes>"
      ]
     },
     "metadata": {},
     "output_type": "display_data"
    }
   ],
   "source": [
    "plot_hist_pred(data_filt, prediction)"
   ]
  },
  {
   "cell_type": "markdown",
   "metadata": {},
   "source": [
    "## 4. Calculate ratios\n",
    "\n",
    "After the revenue prediction I calculate the expenses and use those to predict future CoS and EBITDA."
   ]
  },
  {
   "cell_type": "code",
   "execution_count": 32,
   "metadata": {},
   "outputs": [
    {
     "data": {
      "image/png": "[encoded data removed]",
      "text/plain": [
       "<Figure size 1500x600 with 1 Axes>"
      ]
     },
     "metadata": {},
     "output_type": "display_data"
    },
    {
     "name": "stdout",
     "output_type": "stream",
     "text": [
      "cost_sale is divided by the revenue.\n",
      "Average value: 0.9211800075737057\n"
     ]
    },
    {
     "data": {
      "image/png": "[encoded data removed]",
      "text/plain": [
       "<Figure size 1500x600 with 1 Axes>"
      ]
     },
     "metadata": {},
     "output_type": "display_data"
    },
    {
     "name": "stdout",
     "output_type": "stream",
     "text": [
      "sale_gen_adm is divided by the revenue.\n",
      "Average value: 0.026919392386060236\n"
     ]
    }
   ],
   "source": [
    "is_ratio_dictionary = calculate_is_margins(data_filt)"
   ]
  },
  {
   "cell_type": "code",
   "execution_count": 33,
   "metadata": {},
   "outputs": [
    {
     "data": {
      "text/html": [
       "<div>\n",
       "<style scoped>\n",
       "    .dataframe tbody tr th:only-of-type {\n",
       "        vertical-align: middle;\n",
       "    }\n",
       "\n",
       "    .dataframe tbody tr th {\n",
       "        vertical-align: top;\n",
       "    }\n",
       "\n",
       "    .dataframe thead th {\n",
       "        text-align: right;\n",
       "    }\n",
       "</style>\n",
       "<table border=\"1\" class=\"dataframe\">\n",
       "  <thead>\n",
       "    <tr style=\"text-align: right;\">\n",
       "      <th></th>\n",
       "      <th>rev</th>\n",
       "      <th>cost_sale</th>\n",
       "      <th>sale_gen_adm</th>\n",
       "    </tr>\n",
       "  </thead>\n",
       "  <tbody>\n",
       "    <tr>\n",
       "      <th>44</th>\n",
       "      <td>2.599595e+10</td>\n",
       "      <td>2.394695e+10</td>\n",
       "      <td>6.997952e+08</td>\n",
       "    </tr>\n",
       "    <tr>\n",
       "      <th>45</th>\n",
       "      <td>2.659292e+10</td>\n",
       "      <td>2.449687e+10</td>\n",
       "      <td>7.158653e+08</td>\n",
       "    </tr>\n",
       "    <tr>\n",
       "      <th>46</th>\n",
       "      <td>2.533959e+10</td>\n",
       "      <td>2.334232e+10</td>\n",
       "      <td>6.821263e+08</td>\n",
       "    </tr>\n",
       "    <tr>\n",
       "      <th>47</th>\n",
       "      <td>2.585110e+10</td>\n",
       "      <td>2.381352e+10</td>\n",
       "      <td>6.958959e+08</td>\n",
       "    </tr>\n",
       "    <tr>\n",
       "      <th>48</th>\n",
       "      <td>2.930139e+10</td>\n",
       "      <td>2.699186e+10</td>\n",
       "      <td>7.887757e+08</td>\n",
       "    </tr>\n",
       "  </tbody>\n",
       "</table>\n",
       "</div>"
      ],
      "text/plain": [
       "             rev     cost_sale  sale_gen_adm\n",
       "44  2.599595e+10  2.394695e+10  6.997952e+08\n",
       "45  2.659292e+10  2.449687e+10  7.158653e+08\n",
       "46  2.533959e+10  2.334232e+10  6.821263e+08\n",
       "47  2.585110e+10  2.381352e+10  6.958959e+08\n",
       "48  2.930139e+10  2.699186e+10  7.887757e+08"
      ]
     },
     "execution_count": 33,
     "metadata": {},
     "output_type": "execute_result"
    }
   ],
   "source": [
    "prediction = predict_cos_sale_gen_adm(prediction, is_ratio_dictionary)\n",
    "prediction.tail()"
   ]
  },
  {
   "cell_type": "markdown",
   "metadata": {},
   "source": [
    "## 5. Calculate Fixed Assets\n",
    "\n",
    "It's time to calculate D&A costs.\n",
    "\n",
    "I will predict the PPE, D&A and CapEx values together."
   ]
  },
  {
   "cell_type": "code",
   "execution_count": 34,
   "metadata": {},
   "outputs": [
    {
     "data": {
      "image/png": "[encoded data removed]",
      "text/plain": [
       "<Figure size 640x480 with 1 Axes>"
      ]
     },
     "metadata": {},
     "output_type": "display_data"
    },
    {
     "name": "stdout",
     "output_type": "stream",
     "text": [
      "Average depr_amort value is 0.02864378779994392\n"
     ]
    },
    {
     "data": {
      "image/png": "[encoded data removed]",
      "text/plain": [
       "<Figure size 640x480 with 1 Axes>"
      ]
     },
     "metadata": {},
     "output_type": "display_data"
    },
    {
     "name": "stdout",
     "output_type": "stream",
     "text": [
      "Average capex value is 0.022340203090637\n"
     ]
    }
   ],
   "source": [
    "fxd_ass_ratios = fixed_asset_ratios(data_filt)"
   ]
  },
  {
   "cell_type": "code",
   "execution_count": 35,
   "metadata": {},
   "outputs": [
    {
     "data": {
      "text/html": [
       "<div>\n",
       "<style scoped>\n",
       "    .dataframe tbody tr th:only-of-type {\n",
       "        vertical-align: middle;\n",
       "    }\n",
       "\n",
       "    .dataframe tbody tr th {\n",
       "        vertical-align: top;\n",
       "    }\n",
       "\n",
       "    .dataframe thead th {\n",
       "        text-align: right;\n",
       "    }\n",
       "</style>\n",
       "<table border=\"1\" class=\"dataframe\">\n",
       "  <thead>\n",
       "    <tr style=\"text-align: right;\">\n",
       "      <th></th>\n",
       "      <th>rev</th>\n",
       "      <th>cost_sale</th>\n",
       "      <th>sale_gen_adm</th>\n",
       "      <th>depr_amort</th>\n",
       "      <th>capex</th>\n",
       "      <th>ppe_net</th>\n",
       "    </tr>\n",
       "  </thead>\n",
       "  <tbody>\n",
       "    <tr>\n",
       "      <th>28</th>\n",
       "      <td>1.519990e+10</td>\n",
       "      <td>1.400185e+10</td>\n",
       "      <td>4.091722e+08</td>\n",
       "      <td>1.189290e+08</td>\n",
       "      <td>9.275652e+07</td>\n",
       "      <td>4.125828e+09</td>\n",
       "    </tr>\n",
       "    <tr>\n",
       "      <th>29</th>\n",
       "      <td>1.652338e+10</td>\n",
       "      <td>1.522101e+10</td>\n",
       "      <td>4.447994e+08</td>\n",
       "      <td>1.181793e+08</td>\n",
       "      <td>9.217182e+07</td>\n",
       "      <td>4.099820e+09</td>\n",
       "    </tr>\n",
       "    <tr>\n",
       "      <th>30</th>\n",
       "      <td>1.659721e+10</td>\n",
       "      <td>1.528902e+10</td>\n",
       "      <td>4.467868e+08</td>\n",
       "      <td>1.174344e+08</td>\n",
       "      <td>9.159081e+07</td>\n",
       "      <td>4.073976e+09</td>\n",
       "    </tr>\n",
       "    <tr>\n",
       "      <th>31</th>\n",
       "      <td>1.776819e+10</td>\n",
       "      <td>1.636770e+10</td>\n",
       "      <td>4.783088e+08</td>\n",
       "      <td>1.166941e+08</td>\n",
       "      <td>9.101346e+07</td>\n",
       "      <td>4.048296e+09</td>\n",
       "    </tr>\n",
       "    <tr>\n",
       "      <th>32</th>\n",
       "      <td>1.714136e+10</td>\n",
       "      <td>1.579028e+10</td>\n",
       "      <td>4.614350e+08</td>\n",
       "      <td>1.159585e+08</td>\n",
       "      <td>9.043975e+07</td>\n",
       "      <td>4.022777e+09</td>\n",
       "    </tr>\n",
       "  </tbody>\n",
       "</table>\n",
       "</div>"
      ],
      "text/plain": [
       "             rev     cost_sale  sale_gen_adm    depr_amort         capex  \\\n",
       "28  1.519990e+10  1.400185e+10  4.091722e+08  1.189290e+08  9.275652e+07   \n",
       "29  1.652338e+10  1.522101e+10  4.447994e+08  1.181793e+08  9.217182e+07   \n",
       "30  1.659721e+10  1.528902e+10  4.467868e+08  1.174344e+08  9.159081e+07   \n",
       "31  1.776819e+10  1.636770e+10  4.783088e+08  1.166941e+08  9.101346e+07   \n",
       "32  1.714136e+10  1.579028e+10  4.614350e+08  1.159585e+08  9.043975e+07   \n",
       "\n",
       "         ppe_net  \n",
       "28  4.125828e+09  \n",
       "29  4.099820e+09  \n",
       "30  4.073976e+09  \n",
       "31  4.048296e+09  \n",
       "32  4.022777e+09  "
      ]
     },
     "execution_count": 35,
     "metadata": {},
     "output_type": "execute_result"
    }
   ],
   "source": [
    "prediction = predict_fixed_assets(data_filt, prediction, fxd_ass_ratios)\n",
    "prediction.head()"
   ]
  },
  {
   "cell_type": "markdown",
   "metadata": {},
   "source": [
    "## 6. Calculate EBITDA, EBIT, NOPAT"
   ]
  },
  {
   "cell_type": "code",
   "execution_count": 36,
   "metadata": {},
   "outputs": [
    {
     "name": "stdout",
     "output_type": "stream",
     "text": [
      "Effective tax rate is 0.21\n"
     ]
    }
   ],
   "source": [
    "eff_tax_rate = calc_eff_tax_rate(data_filt)"
   ]
  },
  {
   "cell_type": "code",
   "execution_count": 37,
   "metadata": {},
   "outputs": [
    {
     "data": {
      "text/html": [
       "<div>\n",
       "<style scoped>\n",
       "    .dataframe tbody tr th:only-of-type {\n",
       "        vertical-align: middle;\n",
       "    }\n",
       "\n",
       "    .dataframe tbody tr th {\n",
       "        vertical-align: top;\n",
       "    }\n",
       "\n",
       "    .dataframe thead th {\n",
       "        text-align: right;\n",
       "    }\n",
       "</style>\n",
       "<table border=\"1\" class=\"dataframe\">\n",
       "  <thead>\n",
       "    <tr style=\"text-align: right;\">\n",
       "      <th></th>\n",
       "      <th>rev</th>\n",
       "      <th>cost_sale</th>\n",
       "      <th>sale_gen_adm</th>\n",
       "      <th>depr_amort</th>\n",
       "      <th>capex</th>\n",
       "      <th>ppe_net</th>\n",
       "      <th>ebitda</th>\n",
       "      <th>ebit</th>\n",
       "      <th>nopat</th>\n",
       "    </tr>\n",
       "  </thead>\n",
       "  <tbody>\n",
       "    <tr>\n",
       "      <th>28</th>\n",
       "      <td>1.519990e+10</td>\n",
       "      <td>1.400185e+10</td>\n",
       "      <td>4.091722e+08</td>\n",
       "      <td>1.189290e+08</td>\n",
       "      <td>9.275652e+07</td>\n",
       "      <td>4.125828e+09</td>\n",
       "      <td>7.888841e+08</td>\n",
       "      <td>6.699551e+08</td>\n",
       "      <td>5.292646e+08</td>\n",
       "    </tr>\n",
       "    <tr>\n",
       "      <th>29</th>\n",
       "      <td>1.652338e+10</td>\n",
       "      <td>1.522101e+10</td>\n",
       "      <td>4.447994e+08</td>\n",
       "      <td>1.181793e+08</td>\n",
       "      <td>9.217182e+07</td>\n",
       "      <td>4.099820e+09</td>\n",
       "      <td>8.575735e+08</td>\n",
       "      <td>7.393942e+08</td>\n",
       "      <td>5.841214e+08</td>\n",
       "    </tr>\n",
       "    <tr>\n",
       "      <th>30</th>\n",
       "      <td>1.659721e+10</td>\n",
       "      <td>1.528902e+10</td>\n",
       "      <td>4.467868e+08</td>\n",
       "      <td>1.174344e+08</td>\n",
       "      <td>9.159081e+07</td>\n",
       "      <td>4.073976e+09</td>\n",
       "      <td>8.614052e+08</td>\n",
       "      <td>7.439708e+08</td>\n",
       "      <td>5.877369e+08</td>\n",
       "    </tr>\n",
       "    <tr>\n",
       "      <th>31</th>\n",
       "      <td>1.776819e+10</td>\n",
       "      <td>1.636770e+10</td>\n",
       "      <td>4.783088e+08</td>\n",
       "      <td>1.166941e+08</td>\n",
       "      <td>9.101346e+07</td>\n",
       "      <td>4.048296e+09</td>\n",
       "      <td>9.221797e+08</td>\n",
       "      <td>8.054855e+08</td>\n",
       "      <td>6.363336e+08</td>\n",
       "    </tr>\n",
       "    <tr>\n",
       "      <th>32</th>\n",
       "      <td>1.714136e+10</td>\n",
       "      <td>1.579028e+10</td>\n",
       "      <td>4.614350e+08</td>\n",
       "      <td>1.159585e+08</td>\n",
       "      <td>9.043975e+07</td>\n",
       "      <td>4.022777e+09</td>\n",
       "      <td>8.896469e+08</td>\n",
       "      <td>7.736883e+08</td>\n",
       "      <td>6.112138e+08</td>\n",
       "    </tr>\n",
       "  </tbody>\n",
       "</table>\n",
       "</div>"
      ],
      "text/plain": [
       "             rev     cost_sale  sale_gen_adm    depr_amort         capex  \\\n",
       "28  1.519990e+10  1.400185e+10  4.091722e+08  1.189290e+08  9.275652e+07   \n",
       "29  1.652338e+10  1.522101e+10  4.447994e+08  1.181793e+08  9.217182e+07   \n",
       "30  1.659721e+10  1.528902e+10  4.467868e+08  1.174344e+08  9.159081e+07   \n",
       "31  1.776819e+10  1.636770e+10  4.783088e+08  1.166941e+08  9.101346e+07   \n",
       "32  1.714136e+10  1.579028e+10  4.614350e+08  1.159585e+08  9.043975e+07   \n",
       "\n",
       "         ppe_net        ebitda          ebit         nopat  \n",
       "28  4.125828e+09  7.888841e+08  6.699551e+08  5.292646e+08  \n",
       "29  4.099820e+09  8.575735e+08  7.393942e+08  5.841214e+08  \n",
       "30  4.073976e+09  8.614052e+08  7.439708e+08  5.877369e+08  \n",
       "31  4.048296e+09  9.221797e+08  8.054855e+08  6.363336e+08  \n",
       "32  4.022777e+09  8.896469e+08  7.736883e+08  6.112138e+08  "
      ]
     },
     "execution_count": 37,
     "metadata": {},
     "output_type": "execute_result"
    }
   ],
   "source": [
    "prediction = calculate_ebitda_ebit_nopat(prediction, eff_tax_rate)\n",
    "prediction.head()"
   ]
  },
  {
   "cell_type": "markdown",
   "metadata": {},
   "source": [
    "## 7. Function to plot Prediction vs Historical data\n",
    "\n",
    "See at the functions..."
   ]
  },
  {
   "cell_type": "markdown",
   "metadata": {},
   "source": [
    "## 8. Calculate Net Working Capital\n",
    "\n",
    "To get this we have to forecast the current assets and liabilities.\n",
    "I will use ratios to predict them:\n",
    "- Days Sales Outstanding (dso) --> (Account recivable / Revenue) * 360\n",
    "- Days Inventory Outstanding (dio) --> (Inventory / Cost of General Sale) * 360\n",
    "- Other current assets per revenue (oca_rev) --> Other current assets / revenue\n",
    "- Current liabilities per revenue (tcl_rec) --> (Total current liabilities - current debt) / revenue"
   ]
  },
  {
   "cell_type": "code",
   "execution_count": 38,
   "metadata": {},
   "outputs": [
    {
     "data": {
      "image/png": "[encoded data removed]",
      "text/plain": [
       "<Figure size 640x480 with 1 Axes>"
      ]
     },
     "metadata": {},
     "output_type": "display_data"
    },
    {
     "name": "stdout",
     "output_type": "stream",
     "text": [
      "DSO: 55.49742447249474\n"
     ]
    },
    {
     "data": {
      "image/png": "[encoded data removed]",
      "text/plain": [
       "<Figure size 640x480 with 1 Axes>"
      ]
     },
     "metadata": {},
     "output_type": "display_data"
    },
    {
     "name": "stdout",
     "output_type": "stream",
     "text": [
      "DIO: 212.83637545589178\n"
     ]
    },
    {
     "data": {
      "image/png": "[encoded data removed]",
      "text/plain": [
       "<Figure size 640x480 with 1 Axes>"
      ]
     },
     "metadata": {},
     "output_type": "display_data"
    },
    {
     "name": "stdout",
     "output_type": "stream",
     "text": [
      "DPO: 114.12577066020756\n"
     ]
    },
    {
     "data": {
      "image/png": "[encoded data removed]",
      "text/plain": [
       "<Figure size 640x480 with 1 Axes>"
      ]
     },
     "metadata": {},
     "output_type": "display_data"
    },
    {
     "name": "stdout",
     "output_type": "stream",
     "text": [
      "Sum Other Current Assets: 0.3542651677671443\n"
     ]
    },
    {
     "data": {
      "image/png": "[encoded data removed]",
      "text/plain": [
       "<Figure size 640x480 with 1 Axes>"
      ]
     },
     "metadata": {},
     "output_type": "display_data"
    },
    {
     "name": "stdout",
     "output_type": "stream",
     "text": [
      "Sum Other Current Liabilities per Rec 0.3760447183206489\n"
     ]
    }
   ],
   "source": [
    "nwc_ratios = calculate_nwc_ratios(data_filt)"
   ]
  },
  {
   "cell_type": "code",
   "execution_count": 39,
   "metadata": {},
   "outputs": [
    {
     "data": {
      "text/html": [
       "<div>\n",
       "<style scoped>\n",
       "    .dataframe tbody tr th:only-of-type {\n",
       "        vertical-align: middle;\n",
       "    }\n",
       "\n",
       "    .dataframe tbody tr th {\n",
       "        vertical-align: top;\n",
       "    }\n",
       "\n",
       "    .dataframe thead th {\n",
       "        text-align: right;\n",
       "    }\n",
       "</style>\n",
       "<table border=\"1\" class=\"dataframe\">\n",
       "  <thead>\n",
       "    <tr style=\"text-align: right;\">\n",
       "      <th></th>\n",
       "      <th>rev</th>\n",
       "      <th>cost_sale</th>\n",
       "      <th>sale_gen_adm</th>\n",
       "      <th>depr_amort</th>\n",
       "      <th>capex</th>\n",
       "      <th>ppe_net</th>\n",
       "      <th>ebitda</th>\n",
       "      <th>ebit</th>\n",
       "      <th>nopat</th>\n",
       "      <th>acc_rec</th>\n",
       "      <th>invent</th>\n",
       "      <th>acc_pay</th>\n",
       "      <th>other_curr_ass_lesscash</th>\n",
       "      <th>tot_curr_liab_lessdebt</th>\n",
       "      <th>nwc</th>\n",
       "    </tr>\n",
       "  </thead>\n",
       "  <tbody>\n",
       "    <tr>\n",
       "      <th>28</th>\n",
       "      <td>1.519990e+10</td>\n",
       "      <td>1.400185e+10</td>\n",
       "      <td>4.091722e+08</td>\n",
       "      <td>1.189290e+08</td>\n",
       "      <td>9.275652e+07</td>\n",
       "      <td>4.125828e+09</td>\n",
       "      <td>7.888841e+08</td>\n",
       "      <td>6.699551e+08</td>\n",
       "      <td>5.292646e+08</td>\n",
       "      <td>2.343210e+09</td>\n",
       "      <td>8.278063e+09</td>\n",
       "      <td>4.438810e+09</td>\n",
       "      <td>1.600607e+10</td>\n",
       "      <td>1.015465e+10</td>\n",
       "      <td>5.851415e+09</td>\n",
       "    </tr>\n",
       "    <tr>\n",
       "      <th>29</th>\n",
       "      <td>1.652338e+10</td>\n",
       "      <td>1.522101e+10</td>\n",
       "      <td>4.447994e+08</td>\n",
       "      <td>1.181793e+08</td>\n",
       "      <td>9.217182e+07</td>\n",
       "      <td>4.099820e+09</td>\n",
       "      <td>8.575735e+08</td>\n",
       "      <td>7.393942e+08</td>\n",
       "      <td>5.841214e+08</td>\n",
       "      <td>2.547237e+09</td>\n",
       "      <td>8.998846e+09</td>\n",
       "      <td>4.825304e+09</td>\n",
       "      <td>1.739974e+10</td>\n",
       "      <td>1.103884e+10</td>\n",
       "      <td>6.360907e+09</td>\n",
       "    </tr>\n",
       "    <tr>\n",
       "      <th>30</th>\n",
       "      <td>1.659721e+10</td>\n",
       "      <td>1.528902e+10</td>\n",
       "      <td>4.467868e+08</td>\n",
       "      <td>1.174344e+08</td>\n",
       "      <td>9.159081e+07</td>\n",
       "      <td>4.073976e+09</td>\n",
       "      <td>8.614052e+08</td>\n",
       "      <td>7.439708e+08</td>\n",
       "      <td>5.877369e+08</td>\n",
       "      <td>2.558618e+09</td>\n",
       "      <td>9.039053e+09</td>\n",
       "      <td>4.846864e+09</td>\n",
       "      <td>1.747748e+10</td>\n",
       "      <td>1.108816e+10</td>\n",
       "      <td>6.389328e+09</td>\n",
       "    </tr>\n",
       "    <tr>\n",
       "      <th>31</th>\n",
       "      <td>1.776819e+10</td>\n",
       "      <td>1.636770e+10</td>\n",
       "      <td>4.783088e+08</td>\n",
       "      <td>1.166941e+08</td>\n",
       "      <td>9.101346e+07</td>\n",
       "      <td>4.048296e+09</td>\n",
       "      <td>9.221797e+08</td>\n",
       "      <td>8.054855e+08</td>\n",
       "      <td>6.363336e+08</td>\n",
       "      <td>2.739135e+09</td>\n",
       "      <td>9.676783e+09</td>\n",
       "      <td>5.188823e+09</td>\n",
       "      <td>1.871057e+10</td>\n",
       "      <td>1.187046e+10</td>\n",
       "      <td>6.840112e+09</td>\n",
       "    </tr>\n",
       "    <tr>\n",
       "      <th>32</th>\n",
       "      <td>1.714136e+10</td>\n",
       "      <td>1.579028e+10</td>\n",
       "      <td>4.614350e+08</td>\n",
       "      <td>1.159585e+08</td>\n",
       "      <td>9.043975e+07</td>\n",
       "      <td>4.022777e+09</td>\n",
       "      <td>8.896469e+08</td>\n",
       "      <td>7.736883e+08</td>\n",
       "      <td>6.112138e+08</td>\n",
       "      <td>2.642504e+09</td>\n",
       "      <td>9.335404e+09</td>\n",
       "      <td>5.005771e+09</td>\n",
       "      <td>1.805049e+10</td>\n",
       "      <td>1.145169e+10</td>\n",
       "      <td>6.598806e+09</td>\n",
       "    </tr>\n",
       "  </tbody>\n",
       "</table>\n",
       "</div>"
      ],
      "text/plain": [
       "             rev     cost_sale  sale_gen_adm    depr_amort         capex  \\\n",
       "28  1.519990e+10  1.400185e+10  4.091722e+08  1.189290e+08  9.275652e+07   \n",
       "29  1.652338e+10  1.522101e+10  4.447994e+08  1.181793e+08  9.217182e+07   \n",
       "30  1.659721e+10  1.528902e+10  4.467868e+08  1.174344e+08  9.159081e+07   \n",
       "31  1.776819e+10  1.636770e+10  4.783088e+08  1.166941e+08  9.101346e+07   \n",
       "32  1.714136e+10  1.579028e+10  4.614350e+08  1.159585e+08  9.043975e+07   \n",
       "\n",
       "         ppe_net        ebitda          ebit         nopat       acc_rec  \\\n",
       "28  4.125828e+09  7.888841e+08  6.699551e+08  5.292646e+08  2.343210e+09   \n",
       "29  4.099820e+09  8.575735e+08  7.393942e+08  5.841214e+08  2.547237e+09   \n",
       "30  4.073976e+09  8.614052e+08  7.439708e+08  5.877369e+08  2.558618e+09   \n",
       "31  4.048296e+09  9.221797e+08  8.054855e+08  6.363336e+08  2.739135e+09   \n",
       "32  4.022777e+09  8.896469e+08  7.736883e+08  6.112138e+08  2.642504e+09   \n",
       "\n",
       "          invent       acc_pay  other_curr_ass_lesscash  \\\n",
       "28  8.278063e+09  4.438810e+09             1.600607e+10   \n",
       "29  8.998846e+09  4.825304e+09             1.739974e+10   \n",
       "30  9.039053e+09  4.846864e+09             1.747748e+10   \n",
       "31  9.676783e+09  5.188823e+09             1.871057e+10   \n",
       "32  9.335404e+09  5.005771e+09             1.805049e+10   \n",
       "\n",
       "    tot_curr_liab_lessdebt           nwc  \n",
       "28            1.015465e+10  5.851415e+09  \n",
       "29            1.103884e+10  6.360907e+09  \n",
       "30            1.108816e+10  6.389328e+09  \n",
       "31            1.187046e+10  6.840112e+09  \n",
       "32            1.145169e+10  6.598806e+09  "
      ]
     },
     "execution_count": 39,
     "metadata": {},
     "output_type": "execute_result"
    }
   ],
   "source": [
    "prediction = predict_curr_ass_liab(prediction, nwc_ratios)\n",
    "prediction.head()"
   ]
  },
  {
   "cell_type": "markdown",
   "metadata": {},
   "source": [
    "## 9. Change in NWC"
   ]
  },
  {
   "cell_type": "code",
   "execution_count": 40,
   "metadata": {},
   "outputs": [],
   "source": [
    "prediction = calc_change_nwc(data_filt, prediction)\n",
    "data_filt = calc_change_nwc(data_filt, data_filt)"
   ]
  },
  {
   "cell_type": "code",
   "execution_count": 41,
   "metadata": {},
   "outputs": [],
   "source": [
    "prediction = calc_unleveared_fcf(prediction)\n",
    "data_filt = calc_unleveared_fcf(data_filt)"
   ]
  },
  {
   "cell_type": "markdown",
   "metadata": {},
   "source": [
    "## 10. Calculate Weighted Average Cost of Capital (WACC)"
   ]
  },
  {
   "cell_type": "code",
   "execution_count": 42,
   "metadata": {},
   "outputs": [
    {
     "name": "stdout",
     "output_type": "stream",
     "text": [
      "Estimated WACC value: 0.06874113762723322\n"
     ]
    }
   ],
   "source": [
    "wacc = calculate_wacc(\n",
    "    df=data_filt,\n",
    "    share_price=share_price,\n",
    "    eff_tax_rate=eff_tax_rate,\n",
    "    us_bond_10_yr=us_bond_10_yr,\n",
    "    equity_risk_premium=equity_risk_premium,\n",
    "    beta=beta)\n",
    "\n",
    "print('Estimated WACC value:', wacc)"
   ]
  },
  {
   "cell_type": "markdown",
   "metadata": {},
   "source": [
    "## 11. Present value of FCF, Terminal Value & present value of TV"
   ]
  },
  {
   "cell_type": "code",
   "execution_count": 43,
   "metadata": {},
   "outputs": [
    {
     "data": {
      "text/html": [
       "<div>\n",
       "<style scoped>\n",
       "    .dataframe tbody tr th:only-of-type {\n",
       "        vertical-align: middle;\n",
       "    }\n",
       "\n",
       "    .dataframe tbody tr th {\n",
       "        vertical-align: top;\n",
       "    }\n",
       "\n",
       "    .dataframe thead th {\n",
       "        text-align: right;\n",
       "    }\n",
       "</style>\n",
       "<table border=\"1\" class=\"dataframe\">\n",
       "  <thead>\n",
       "    <tr style=\"text-align: right;\">\n",
       "      <th></th>\n",
       "      <th>rev</th>\n",
       "      <th>cost_sale</th>\n",
       "      <th>sale_gen_adm</th>\n",
       "      <th>depr_amort</th>\n",
       "      <th>capex</th>\n",
       "      <th>ppe_net</th>\n",
       "      <th>ebitda</th>\n",
       "      <th>ebit</th>\n",
       "      <th>nopat</th>\n",
       "      <th>acc_rec</th>\n",
       "      <th>invent</th>\n",
       "      <th>acc_pay</th>\n",
       "      <th>other_curr_ass_lesscash</th>\n",
       "      <th>tot_curr_liab_lessdebt</th>\n",
       "      <th>nwc</th>\n",
       "      <th>c_nwc</th>\n",
       "      <th>unlev_fcf</th>\n",
       "      <th>pres_val_fcf</th>\n",
       "    </tr>\n",
       "  </thead>\n",
       "  <tbody>\n",
       "    <tr>\n",
       "      <th>44</th>\n",
       "      <td>2.599595e+10</td>\n",
       "      <td>2.394695e+10</td>\n",
       "      <td>6.997952e+08</td>\n",
       "      <td>1.074849e+08</td>\n",
       "      <td>8.383088e+07</td>\n",
       "      <td>3.728813e+09</td>\n",
       "      <td>1.349205e+09</td>\n",
       "      <td>1.241721e+09</td>\n",
       "      <td>9.809592e+08</td>\n",
       "      <td>4.007523e+09</td>\n",
       "      <td>1.415773e+10</td>\n",
       "      <td>7.591567e+09</td>\n",
       "      <td>2.737471e+10</td>\n",
       "      <td>1.736721e+10</td>\n",
       "      <td>1.000750e+10</td>\n",
       "      <td>-2.966260e+08</td>\n",
       "      <td>1.301239e+09</td>\n",
       "      <td>6.262668e+08</td>\n",
       "    </tr>\n",
       "    <tr>\n",
       "      <th>45</th>\n",
       "      <td>2.659292e+10</td>\n",
       "      <td>2.449687e+10</td>\n",
       "      <td>7.158653e+08</td>\n",
       "      <td>1.068073e+08</td>\n",
       "      <td>8.330245e+07</td>\n",
       "      <td>3.705308e+09</td>\n",
       "      <td>1.380189e+09</td>\n",
       "      <td>1.273381e+09</td>\n",
       "      <td>1.005971e+09</td>\n",
       "      <td>4.099552e+09</td>\n",
       "      <td>1.448285e+10</td>\n",
       "      <td>7.765900e+09</td>\n",
       "      <td>2.800334e+10</td>\n",
       "      <td>1.776603e+10</td>\n",
       "      <td>1.023732e+10</td>\n",
       "      <td>2.298127e+08</td>\n",
       "      <td>7.996634e+08</td>\n",
       "      <td>3.785221e+08</td>\n",
       "    </tr>\n",
       "    <tr>\n",
       "      <th>46</th>\n",
       "      <td>2.533959e+10</td>\n",
       "      <td>2.334232e+10</td>\n",
       "      <td>6.821263e+08</td>\n",
       "      <td>1.061341e+08</td>\n",
       "      <td>8.277734e+07</td>\n",
       "      <td>3.681952e+09</td>\n",
       "      <td>1.315140e+09</td>\n",
       "      <td>1.209006e+09</td>\n",
       "      <td>9.551145e+08</td>\n",
       "      <td>3.906338e+09</td>\n",
       "      <td>1.380026e+10</td>\n",
       "      <td>7.399890e+09</td>\n",
       "      <td>2.668353e+10</td>\n",
       "      <td>1.692871e+10</td>\n",
       "      <td>9.754827e+09</td>\n",
       "      <td>-4.824889e+08</td>\n",
       "      <td>1.460960e+09</td>\n",
       "      <td>6.801494e+08</td>\n",
       "    </tr>\n",
       "    <tr>\n",
       "      <th>47</th>\n",
       "      <td>2.585110e+10</td>\n",
       "      <td>2.381352e+10</td>\n",
       "      <td>6.958959e+08</td>\n",
       "      <td>1.054650e+08</td>\n",
       "      <td>8.225555e+07</td>\n",
       "      <td>3.658742e+09</td>\n",
       "      <td>1.341688e+09</td>\n",
       "      <td>1.236223e+09</td>\n",
       "      <td>9.766159e+08</td>\n",
       "      <td>3.985193e+09</td>\n",
       "      <td>1.407884e+10</td>\n",
       "      <td>7.549267e+09</td>\n",
       "      <td>2.722218e+10</td>\n",
       "      <td>1.727044e+10</td>\n",
       "      <td>9.951742e+09</td>\n",
       "      <td>1.969147e+08</td>\n",
       "      <td>8.029107e+08</td>\n",
       "      <td>3.676335e+08</td>\n",
       "    </tr>\n",
       "    <tr>\n",
       "      <th>48</th>\n",
       "      <td>2.930139e+10</td>\n",
       "      <td>2.699186e+10</td>\n",
       "      <td>7.887757e+08</td>\n",
       "      <td>1.048002e+08</td>\n",
       "      <td>8.173704e+07</td>\n",
       "      <td>3.635679e+09</td>\n",
       "      <td>1.520760e+09</td>\n",
       "      <td>1.415960e+09</td>\n",
       "      <td>1.118608e+09</td>\n",
       "      <td>4.517089e+09</td>\n",
       "      <td>1.595792e+10</td>\n",
       "      <td>8.556852e+09</td>\n",
       "      <td>3.085547e+10</td>\n",
       "      <td>1.957549e+10</td>\n",
       "      <td>1.127998e+10</td>\n",
       "      <td>1.328239e+09</td>\n",
       "      <td>-1.865673e+08</td>\n",
       "      <td>-8.401661e+07</td>\n",
       "    </tr>\n",
       "  </tbody>\n",
       "</table>\n",
       "</div>"
      ],
      "text/plain": [
       "             rev     cost_sale  sale_gen_adm    depr_amort         capex  \\\n",
       "44  2.599595e+10  2.394695e+10  6.997952e+08  1.074849e+08  8.383088e+07   \n",
       "45  2.659292e+10  2.449687e+10  7.158653e+08  1.068073e+08  8.330245e+07   \n",
       "46  2.533959e+10  2.334232e+10  6.821263e+08  1.061341e+08  8.277734e+07   \n",
       "47  2.585110e+10  2.381352e+10  6.958959e+08  1.054650e+08  8.225555e+07   \n",
       "48  2.930139e+10  2.699186e+10  7.887757e+08  1.048002e+08  8.173704e+07   \n",
       "\n",
       "         ppe_net        ebitda          ebit         nopat       acc_rec  \\\n",
       "44  3.728813e+09  1.349205e+09  1.241721e+09  9.809592e+08  4.007523e+09   \n",
       "45  3.705308e+09  1.380189e+09  1.273381e+09  1.005971e+09  4.099552e+09   \n",
       "46  3.681952e+09  1.315140e+09  1.209006e+09  9.551145e+08  3.906338e+09   \n",
       "47  3.658742e+09  1.341688e+09  1.236223e+09  9.766159e+08  3.985193e+09   \n",
       "48  3.635679e+09  1.520760e+09  1.415960e+09  1.118608e+09  4.517089e+09   \n",
       "\n",
       "          invent       acc_pay  other_curr_ass_lesscash  \\\n",
       "44  1.415773e+10  7.591567e+09             2.737471e+10   \n",
       "45  1.448285e+10  7.765900e+09             2.800334e+10   \n",
       "46  1.380026e+10  7.399890e+09             2.668353e+10   \n",
       "47  1.407884e+10  7.549267e+09             2.722218e+10   \n",
       "48  1.595792e+10  8.556852e+09             3.085547e+10   \n",
       "\n",
       "    tot_curr_liab_lessdebt           nwc         c_nwc     unlev_fcf  \\\n",
       "44            1.736721e+10  1.000750e+10 -2.966260e+08  1.301239e+09   \n",
       "45            1.776603e+10  1.023732e+10  2.298127e+08  7.996634e+08   \n",
       "46            1.692871e+10  9.754827e+09 -4.824889e+08  1.460960e+09   \n",
       "47            1.727044e+10  9.951742e+09  1.969147e+08  8.029107e+08   \n",
       "48            1.957549e+10  1.127998e+10  1.328239e+09 -1.865673e+08   \n",
       "\n",
       "    pres_val_fcf  \n",
       "44  6.262668e+08  \n",
       "45  3.785221e+08  \n",
       "46  6.801494e+08  \n",
       "47  3.676335e+08  \n",
       "48 -8.401661e+07  "
      ]
     },
     "execution_count": 43,
     "metadata": {},
     "output_type": "execute_result"
    }
   ],
   "source": [
    "prediction = calculate_present_value_fcf(prediction, wacc=wacc, report=form)\n",
    "prediction.tail()"
   ]
  },
  {
   "cell_type": "markdown",
   "metadata": {},
   "source": [
    "## 12. Terminal Value and present value of TV\n",
    "\n",
    "I use the perpetuity growth model"
   ]
  },
  {
   "cell_type": "code",
   "execution_count": 44,
   "metadata": {},
   "outputs": [
    {
     "data": {
      "text/plain": [
       "-3675431455.7726107"
      ]
     },
     "execution_count": 44,
     "metadata": {},
     "output_type": "execute_result"
    }
   ],
   "source": [
    "tv, pres_value_tv = calculate_tv_prestv_enterp_val(prediction, industry_growth_rate, wacc)\n",
    "pres_value_tv"
   ]
  },
  {
   "cell_type": "code",
   "execution_count": 45,
   "metadata": {},
   "outputs": [
    {
     "name": "stdout",
     "output_type": "stream",
     "text": [
      "4176411561.5543833 1224411561.5543833\n"
     ]
    }
   ],
   "source": [
    "enterp_val, equity_value = calc_enterp_company_value(data_filt, prediction, pres_value_tv)"
   ]
  },
  {
   "cell_type": "code",
   "execution_count": 46,
   "metadata": {},
   "outputs": [
    {
     "name": "stdout",
     "output_type": "stream",
     "text": [
      "Current adjusted share price: 8.045842797192078\n"
     ]
    }
   ],
   "source": [
    "# adjusted with debt, cash, equity in minor interest\n",
    "fcst_share_price_adjusted = implied_share_price(equity_value, data_filt)\n",
    "print('Current adjusted share price:', fcst_share_price_adjusted)"
   ]
  },
  {
   "cell_type": "code",
   "execution_count": 47,
   "metadata": {},
   "outputs": [
    {
     "name": "stdout",
     "output_type": "stream",
     "text": [
      "Current share price (not adjusted): 27.44399998802981\n"
     ]
    }
   ],
   "source": [
    "fcst_share_price = implied_share_price(enterp_val, data_filt)\n",
    "print('Current share price (not adjusted):', fcst_share_price)"
   ]
  },
  {
   "cell_type": "code",
   "execution_count": 48,
   "metadata": {},
   "outputs": [],
   "source": [
    "#plot_hist_pred(data_filt, prediction)"
   ]
  }
 ],
 "metadata": {
  "kernelspec": {
   "display_name": ".venv",
   "language": "python",
   "name": "python3"
  },
  "language_info": {
   "codemirror_mode": {
    "name": "ipython",
    "version": 3
   },
   "file_extension": ".py",
   "mimetype": "text/x-python",
   "name": "python",
   "nbconvert_exporter": "python",
   "pygments_lexer": "ipython3",
   "version": "3.11.3"
  },
  "orig_nbformat": 4
 },
 "nbformat": 4,
 "nbformat_minor": 2
}
