{
 "cells": [
  {
   "cell_type": "code",
   "execution_count": 1,
   "id": "8740de05",
   "metadata": {
    "execution": {
     "iopub.execute_input": "2024-04-18T19:54:19.135644Z",
     "iopub.status.busy": "2024-04-18T19:54:19.135072Z",
     "iopub.status.idle": "2024-04-18T19:54:19.902127Z",
     "shell.execute_reply": "2024-04-18T19:54:19.901799Z"
    },
    "papermill": {
     "duration": 0.79474,
     "end_time": "2024-04-18T19:54:19.903177",
     "exception": false,
     "start_time": "2024-04-18T19:54:19.108437",
     "status": "completed"
    },
    "tags": []
   },
   "outputs": [],
   "source": [
    "import pandas as pd\n",
    "import matplotlib.pyplot as plt\n",
    "import numpy as np\n",
    "\n",
    "import yfinance as yf\n",
    "import datetime\n",
    "\n",
    "from valueinvesting import utils as utils"
   ]
  },
  {
   "cell_type": "markdown",
   "id": "216061eb",
   "metadata": {
    "papermill": {
     "duration": 0.011529,
     "end_time": "2024-04-18T19:54:19.927017",
     "exception": false,
     "start_time": "2024-04-18T19:54:19.915488",
     "status": "completed"
    },
    "tags": []
   },
   "source": [
    "# 1. Load raw input\n",
    "## Hardcoded block"
   ]
  },
  {
   "cell_type": "code",
   "execution_count": 2,
   "id": "c85568ce",
   "metadata": {
    "execution": {
     "iopub.execute_input": "2024-04-18T19:54:19.947645Z",
     "iopub.status.busy": "2024-04-18T19:54:19.947458Z",
     "iopub.status.idle": "2024-04-18T19:54:19.949420Z",
     "shell.execute_reply": "2024-04-18T19:54:19.949140Z"
    },
    "papermill": {
     "duration": 0.013271,
     "end_time": "2024-04-18T19:54:19.950308",
     "exception": false,
     "start_time": "2024-04-18T19:54:19.937037",
     "status": "completed"
    },
    "tags": []
   },
   "outputs": [],
   "source": [
    "evaluate_last_X_years = True\n",
    "X=10\n",
    "currency_pair = 'NOK=X'\n",
    "numbers_in_currency = 'NOK'\n",
    "share_name = 'BONHR.OL'"
   ]
  },
  {
   "cell_type": "markdown",
   "id": "d72aefb9",
   "metadata": {
    "papermill": {
     "duration": 0.008405,
     "end_time": "2024-04-18T19:54:19.969435",
     "exception": false,
     "start_time": "2024-04-18T19:54:19.961030",
     "status": "completed"
    },
    "tags": []
   },
   "source": [
    "# 1.2. Raw input statement data"
   ]
  },
  {
   "cell_type": "code",
   "execution_count": 4,
   "id": "72603e68",
   "metadata": {
    "execution": {
     "iopub.execute_input": "2024-04-18T19:54:19.988455Z",
     "iopub.status.busy": "2024-04-18T19:54:19.988314Z",
     "iopub.status.idle": "2024-04-18T19:54:20.003701Z",
     "shell.execute_reply": "2024-04-18T19:54:20.003409Z"
    },
    "papermill": {
     "duration": 0.026654,
     "end_time": "2024-04-18T19:54:20.004787",
     "exception": false,
     "start_time": "2024-04-18T19:54:19.978133",
     "status": "completed"
    },
    "tags": []
   },
   "outputs": [],
   "source": [
    "route = f\"../data/input/{share_name}_data.csv\"\n",
    "data = pd.read_csv(route, sep=';', parse_dates=['date', 'real_date'])\n",
    "# replace -, extend missing 0-s, fix datatype\n",
    "data = utils.replace_format_input(data)"
   ]
  },
  {
   "cell_type": "code",
   "execution_count": 5,
   "id": "f867fc03",
   "metadata": {
    "execution": {
     "iopub.execute_input": "2024-04-18T19:54:20.020869Z",
     "iopub.status.busy": "2024-04-18T19:54:20.020732Z",
     "iopub.status.idle": "2024-04-18T19:54:20.024824Z",
     "shell.execute_reply": "2024-04-18T19:54:20.024549Z"
    },
    "papermill": {
     "duration": 0.011556,
     "end_time": "2024-04-18T19:54:20.025710",
     "exception": false,
     "start_time": "2024-04-18T19:54:20.014154",
     "status": "completed"
    },
    "tags": []
   },
   "outputs": [
    {
     "ename": "ValueError",
     "evalue": "Missing column provided to 'parse_dates': 'real_date'",
     "output_type": "error",
     "traceback": [
      "\u001b[0;31m---------------------------------------------------------------------------\u001b[0m",
      "\u001b[0;31mValueError\u001b[0m                                Traceback (most recent call last)",
      "Cell \u001b[0;32mIn[5], line 1\u001b[0m\n\u001b[0;32m----> 1\u001b[0m owned_shares \u001b[38;5;241m=\u001b[39m \u001b[43mpd\u001b[49m\u001b[38;5;241;43m.\u001b[39;49m\u001b[43mread_csv\u001b[49m\u001b[43m(\u001b[49m\u001b[38;5;124;43m'\u001b[39;49m\u001b[38;5;124;43m../data/extras/owned_stocks.csv\u001b[39;49m\u001b[38;5;124;43m'\u001b[39;49m\u001b[43m,\u001b[49m\u001b[43m \u001b[49m\u001b[43msep\u001b[49m\u001b[38;5;241;43m=\u001b[39;49m\u001b[38;5;124;43m'\u001b[39;49m\u001b[38;5;124;43m;\u001b[39;49m\u001b[38;5;124;43m'\u001b[39;49m\u001b[43m,\u001b[49m\u001b[43m \u001b[49m\u001b[43mparse_dates\u001b[49m\u001b[38;5;241;43m=\u001b[39;49m\u001b[43m[\u001b[49m\u001b[38;5;124;43m'\u001b[39;49m\u001b[38;5;124;43mdate\u001b[39;49m\u001b[38;5;124;43m'\u001b[39;49m\u001b[43m,\u001b[49m\u001b[43m \u001b[49m\u001b[38;5;124;43m'\u001b[39;49m\u001b[38;5;124;43mreal_date\u001b[39;49m\u001b[38;5;124;43m'\u001b[39;49m\u001b[43m]\u001b[49m\u001b[43m)\u001b[49m\n\u001b[1;32m      2\u001b[0m owned_shares \u001b[38;5;241m=\u001b[39m owned_shares\u001b[38;5;241m.\u001b[39mloc[(owned_shares[\u001b[38;5;124m'\u001b[39m\u001b[38;5;124mstock\u001b[39m\u001b[38;5;124m'\u001b[39m] \u001b[38;5;241m==\u001b[39m share_name) \u001b[38;5;241m&\u001b[39m (owned_shares[\u001b[38;5;124m'\u001b[39m\u001b[38;5;124mactive\u001b[39m\u001b[38;5;124m'\u001b[39m] \u001b[38;5;241m==\u001b[39m \u001b[38;5;124m'\u001b[39m\u001b[38;5;124myes\u001b[39m\u001b[38;5;124m'\u001b[39m)]\n",
      "File \u001b[0;32m~/Desktop/projects/Economy/venv/lib/python3.11/site-packages/pandas/io/parsers/readers.py:912\u001b[0m, in \u001b[0;36mread_csv\u001b[0;34m(filepath_or_buffer, sep, delimiter, header, names, index_col, usecols, dtype, engine, converters, true_values, false_values, skipinitialspace, skiprows, skipfooter, nrows, na_values, keep_default_na, na_filter, verbose, skip_blank_lines, parse_dates, infer_datetime_format, keep_date_col, date_parser, date_format, dayfirst, cache_dates, iterator, chunksize, compression, thousands, decimal, lineterminator, quotechar, quoting, doublequote, escapechar, comment, encoding, encoding_errors, dialect, on_bad_lines, delim_whitespace, low_memory, memory_map, float_precision, storage_options, dtype_backend)\u001b[0m\n\u001b[1;32m    899\u001b[0m kwds_defaults \u001b[38;5;241m=\u001b[39m _refine_defaults_read(\n\u001b[1;32m    900\u001b[0m     dialect,\n\u001b[1;32m    901\u001b[0m     delimiter,\n\u001b[0;32m   (...)\u001b[0m\n\u001b[1;32m    908\u001b[0m     dtype_backend\u001b[38;5;241m=\u001b[39mdtype_backend,\n\u001b[1;32m    909\u001b[0m )\n\u001b[1;32m    910\u001b[0m kwds\u001b[38;5;241m.\u001b[39mupdate(kwds_defaults)\n\u001b[0;32m--> 912\u001b[0m \u001b[38;5;28;01mreturn\u001b[39;00m \u001b[43m_read\u001b[49m\u001b[43m(\u001b[49m\u001b[43mfilepath_or_buffer\u001b[49m\u001b[43m,\u001b[49m\u001b[43m \u001b[49m\u001b[43mkwds\u001b[49m\u001b[43m)\u001b[49m\n",
      "File \u001b[0;32m~/Desktop/projects/Economy/venv/lib/python3.11/site-packages/pandas/io/parsers/readers.py:577\u001b[0m, in \u001b[0;36m_read\u001b[0;34m(filepath_or_buffer, kwds)\u001b[0m\n\u001b[1;32m    574\u001b[0m _validate_names(kwds\u001b[38;5;241m.\u001b[39mget(\u001b[38;5;124m\"\u001b[39m\u001b[38;5;124mnames\u001b[39m\u001b[38;5;124m\"\u001b[39m, \u001b[38;5;28;01mNone\u001b[39;00m))\n\u001b[1;32m    576\u001b[0m \u001b[38;5;66;03m# Create the parser.\u001b[39;00m\n\u001b[0;32m--> 577\u001b[0m parser \u001b[38;5;241m=\u001b[39m \u001b[43mTextFileReader\u001b[49m\u001b[43m(\u001b[49m\u001b[43mfilepath_or_buffer\u001b[49m\u001b[43m,\u001b[49m\u001b[43m \u001b[49m\u001b[38;5;241;43m*\u001b[39;49m\u001b[38;5;241;43m*\u001b[39;49m\u001b[43mkwds\u001b[49m\u001b[43m)\u001b[49m\n\u001b[1;32m    579\u001b[0m \u001b[38;5;28;01mif\u001b[39;00m chunksize \u001b[38;5;129;01mor\u001b[39;00m iterator:\n\u001b[1;32m    580\u001b[0m     \u001b[38;5;28;01mreturn\u001b[39;00m parser\n",
      "File \u001b[0;32m~/Desktop/projects/Economy/venv/lib/python3.11/site-packages/pandas/io/parsers/readers.py:1407\u001b[0m, in \u001b[0;36mTextFileReader.__init__\u001b[0;34m(self, f, engine, **kwds)\u001b[0m\n\u001b[1;32m   1404\u001b[0m     \u001b[38;5;28mself\u001b[39m\u001b[38;5;241m.\u001b[39moptions[\u001b[38;5;124m\"\u001b[39m\u001b[38;5;124mhas_index_names\u001b[39m\u001b[38;5;124m\"\u001b[39m] \u001b[38;5;241m=\u001b[39m kwds[\u001b[38;5;124m\"\u001b[39m\u001b[38;5;124mhas_index_names\u001b[39m\u001b[38;5;124m\"\u001b[39m]\n\u001b[1;32m   1406\u001b[0m \u001b[38;5;28mself\u001b[39m\u001b[38;5;241m.\u001b[39mhandles: IOHandles \u001b[38;5;241m|\u001b[39m \u001b[38;5;28;01mNone\u001b[39;00m \u001b[38;5;241m=\u001b[39m \u001b[38;5;28;01mNone\u001b[39;00m\n\u001b[0;32m-> 1407\u001b[0m \u001b[38;5;28mself\u001b[39m\u001b[38;5;241m.\u001b[39m_engine \u001b[38;5;241m=\u001b[39m \u001b[38;5;28;43mself\u001b[39;49m\u001b[38;5;241;43m.\u001b[39;49m\u001b[43m_make_engine\u001b[49m\u001b[43m(\u001b[49m\u001b[43mf\u001b[49m\u001b[43m,\u001b[49m\u001b[43m \u001b[49m\u001b[38;5;28;43mself\u001b[39;49m\u001b[38;5;241;43m.\u001b[39;49m\u001b[43mengine\u001b[49m\u001b[43m)\u001b[49m\n",
      "File \u001b[0;32m~/Desktop/projects/Economy/venv/lib/python3.11/site-packages/pandas/io/parsers/readers.py:1679\u001b[0m, in \u001b[0;36mTextFileReader._make_engine\u001b[0;34m(self, f, engine)\u001b[0m\n\u001b[1;32m   1676\u001b[0m     \u001b[38;5;28;01mraise\u001b[39;00m \u001b[38;5;167;01mValueError\u001b[39;00m(msg)\n\u001b[1;32m   1678\u001b[0m \u001b[38;5;28;01mtry\u001b[39;00m:\n\u001b[0;32m-> 1679\u001b[0m     \u001b[38;5;28;01mreturn\u001b[39;00m \u001b[43mmapping\u001b[49m\u001b[43m[\u001b[49m\u001b[43mengine\u001b[49m\u001b[43m]\u001b[49m\u001b[43m(\u001b[49m\u001b[43mf\u001b[49m\u001b[43m,\u001b[49m\u001b[43m \u001b[49m\u001b[38;5;241;43m*\u001b[39;49m\u001b[38;5;241;43m*\u001b[39;49m\u001b[38;5;28;43mself\u001b[39;49m\u001b[38;5;241;43m.\u001b[39;49m\u001b[43moptions\u001b[49m\u001b[43m)\u001b[49m\n\u001b[1;32m   1680\u001b[0m \u001b[38;5;28;01mexcept\u001b[39;00m \u001b[38;5;167;01mException\u001b[39;00m:\n\u001b[1;32m   1681\u001b[0m     \u001b[38;5;28;01mif\u001b[39;00m \u001b[38;5;28mself\u001b[39m\u001b[38;5;241m.\u001b[39mhandles \u001b[38;5;129;01mis\u001b[39;00m \u001b[38;5;129;01mnot\u001b[39;00m \u001b[38;5;28;01mNone\u001b[39;00m:\n",
      "File \u001b[0;32m~/Desktop/projects/Economy/venv/lib/python3.11/site-packages/pandas/io/parsers/c_parser_wrapper.py:161\u001b[0m, in \u001b[0;36mCParserWrapper.__init__\u001b[0;34m(self, src, **kwds)\u001b[0m\n\u001b[1;32m    155\u001b[0m         \u001b[38;5;28mself\u001b[39m\u001b[38;5;241m.\u001b[39m_validate_usecols_names(\n\u001b[1;32m    156\u001b[0m             usecols,\n\u001b[1;32m    157\u001b[0m             \u001b[38;5;28mself\u001b[39m\u001b[38;5;241m.\u001b[39mnames,  \u001b[38;5;66;03m# type: ignore[has-type]\u001b[39;00m\n\u001b[1;32m    158\u001b[0m         )\n\u001b[1;32m    160\u001b[0m \u001b[38;5;66;03m# error: Cannot determine type of 'names'\u001b[39;00m\n\u001b[0;32m--> 161\u001b[0m \u001b[38;5;28;43mself\u001b[39;49m\u001b[38;5;241;43m.\u001b[39;49m\u001b[43m_validate_parse_dates_presence\u001b[49m\u001b[43m(\u001b[49m\u001b[38;5;28;43mself\u001b[39;49m\u001b[38;5;241;43m.\u001b[39;49m\u001b[43mnames\u001b[49m\u001b[43m)\u001b[49m  \u001b[38;5;66;03m# type: ignore[has-type]\u001b[39;00m\n\u001b[1;32m    162\u001b[0m \u001b[38;5;28mself\u001b[39m\u001b[38;5;241m.\u001b[39m_set_noconvert_columns()\n\u001b[1;32m    164\u001b[0m \u001b[38;5;66;03m# error: Cannot determine type of 'names'\u001b[39;00m\n",
      "File \u001b[0;32m~/Desktop/projects/Economy/venv/lib/python3.11/site-packages/pandas/io/parsers/base_parser.py:230\u001b[0m, in \u001b[0;36mParserBase._validate_parse_dates_presence\u001b[0;34m(self, columns)\u001b[0m\n\u001b[1;32m    220\u001b[0m missing_cols \u001b[38;5;241m=\u001b[39m \u001b[38;5;124m\"\u001b[39m\u001b[38;5;124m, \u001b[39m\u001b[38;5;124m\"\u001b[39m\u001b[38;5;241m.\u001b[39mjoin(\n\u001b[1;32m    221\u001b[0m     \u001b[38;5;28msorted\u001b[39m(\n\u001b[1;32m    222\u001b[0m         {\n\u001b[0;32m   (...)\u001b[0m\n\u001b[1;32m    227\u001b[0m     )\n\u001b[1;32m    228\u001b[0m )\n\u001b[1;32m    229\u001b[0m \u001b[38;5;28;01mif\u001b[39;00m missing_cols:\n\u001b[0;32m--> 230\u001b[0m     \u001b[38;5;28;01mraise\u001b[39;00m \u001b[38;5;167;01mValueError\u001b[39;00m(\n\u001b[1;32m    231\u001b[0m         \u001b[38;5;124mf\u001b[39m\u001b[38;5;124m\"\u001b[39m\u001b[38;5;124mMissing column provided to \u001b[39m\u001b[38;5;124m'\u001b[39m\u001b[38;5;124mparse_dates\u001b[39m\u001b[38;5;124m'\u001b[39m\u001b[38;5;124m: \u001b[39m\u001b[38;5;124m'\u001b[39m\u001b[38;5;132;01m{\u001b[39;00mmissing_cols\u001b[38;5;132;01m}\u001b[39;00m\u001b[38;5;124m'\u001b[39m\u001b[38;5;124m\"\u001b[39m\n\u001b[1;32m    232\u001b[0m     )\n\u001b[1;32m    233\u001b[0m \u001b[38;5;66;03m# Convert positions to actual column names\u001b[39;00m\n\u001b[1;32m    234\u001b[0m \u001b[38;5;28;01mreturn\u001b[39;00m [\n\u001b[1;32m    235\u001b[0m     col \u001b[38;5;28;01mif\u001b[39;00m (\u001b[38;5;28misinstance\u001b[39m(col, \u001b[38;5;28mstr\u001b[39m) \u001b[38;5;129;01mor\u001b[39;00m col \u001b[38;5;129;01min\u001b[39;00m columns) \u001b[38;5;28;01melse\u001b[39;00m columns[col]\n\u001b[1;32m    236\u001b[0m     \u001b[38;5;28;01mfor\u001b[39;00m col \u001b[38;5;129;01min\u001b[39;00m cols_needed\n\u001b[1;32m    237\u001b[0m ]\n",
      "\u001b[0;31mValueError\u001b[0m: Missing column provided to 'parse_dates': 'real_date'"
     ]
    }
   ],
   "source": [
    "owned_shares = pd.read_csv('../data/extras/owned_stocks.csv', sep=';', parse_dates=['date'])\n",
    "owned_shares = owned_shares.loc[(owned_shares['stock'] == share_name) & (owned_shares['active'] == 'yes')]"
   ]
  },
  {
   "cell_type": "markdown",
   "id": "6aa7ccad",
   "metadata": {
    "papermill": {
     "duration": 0.009346,
     "end_time": "2024-04-18T19:54:20.044421",
     "exception": false,
     "start_time": "2024-04-18T19:54:20.035075",
     "status": "completed"
    },
    "tags": []
   },
   "source": [
    "## (OPTIONAL) Time Filtering - Last 7 years daat"
   ]
  },
  {
   "cell_type": "code",
   "execution_count": null,
   "id": "8747180f",
   "metadata": {
    "execution": {
     "iopub.execute_input": "2024-04-18T19:54:20.064797Z",
     "iopub.status.busy": "2024-04-18T19:54:20.064628Z",
     "iopub.status.idle": "2024-04-18T19:54:20.076179Z",
     "shell.execute_reply": "2024-04-18T19:54:20.075834Z"
    },
    "papermill": {
     "duration": 0.022456,
     "end_time": "2024-04-18T19:54:20.077235",
     "exception": false,
     "start_time": "2024-04-18T19:54:20.054779",
     "status": "completed"
    },
    "tags": []
   },
   "outputs": [],
   "source": [
    "if evaluate_last_X_years:\n",
    "    data = data[data['date'] > datetime.datetime.today() - datetime.timedelta(days=X*366+93)]\n",
    "    data = data.reset_index(drop=True)\n",
    "\n",
    "data.head()"
   ]
  },
  {
   "cell_type": "markdown",
   "id": "25aec9c9",
   "metadata": {
    "papermill": {
     "duration": 0.010771,
     "end_time": "2024-04-18T19:54:20.099393",
     "exception": false,
     "start_time": "2024-04-18T19:54:20.088622",
     "status": "completed"
    },
    "tags": []
   },
   "source": [
    "## Calculate date when quaterly reports could be available"
   ]
  },
  {
   "cell_type": "code",
   "execution_count": null,
   "id": "147fab67",
   "metadata": {
    "execution": {
     "iopub.execute_input": "2024-04-18T19:54:20.118930Z",
     "iopub.status.busy": "2024-04-18T19:54:20.118769Z",
     "iopub.status.idle": "2024-04-18T19:54:20.121381Z",
     "shell.execute_reply": "2024-04-18T19:54:20.121091Z"
    },
    "papermill": {
     "duration": 0.013492,
     "end_time": "2024-04-18T19:54:20.122299",
     "exception": false,
     "start_time": "2024-04-18T19:54:20.108807",
     "status": "completed"
    },
    "tags": []
   },
   "outputs": [],
   "source": [
    "data = utils.calculate_real_date(data)"
   ]
  },
  {
   "cell_type": "markdown",
   "id": "a478a2aa",
   "metadata": {
    "papermill": {
     "duration": 0.010565,
     "end_time": "2024-04-18T19:54:20.143821",
     "exception": false,
     "start_time": "2024-04-18T19:54:20.133256",
     "status": "completed"
    },
    "tags": []
   },
   "source": [
    "# 2. Filter out unnecesary columns"
   ]
  },
  {
   "cell_type": "code",
   "execution_count": null,
   "id": "e0c0cb09",
   "metadata": {
    "execution": {
     "iopub.execute_input": "2024-04-18T19:54:20.161130Z",
     "iopub.status.busy": "2024-04-18T19:54:20.160971Z",
     "iopub.status.idle": "2024-04-18T19:54:20.168271Z",
     "shell.execute_reply": "2024-04-18T19:54:20.168024Z"
    },
    "papermill": {
     "duration": 0.016333,
     "end_time": "2024-04-18T19:54:20.169235",
     "exception": false,
     "start_time": "2024-04-18T19:54:20.152902",
     "status": "completed"
    },
    "tags": []
   },
   "outputs": [],
   "source": [
    "data = utils.filter_raw_data(data)\n",
    "data.tail()"
   ]
  },
  {
   "cell_type": "markdown",
   "id": "43b3117b",
   "metadata": {
    "papermill": {
     "duration": 0.011047,
     "end_time": "2024-04-18T19:54:20.190906",
     "exception": false,
     "start_time": "2024-04-18T19:54:20.179859",
     "status": "completed"
    },
    "tags": []
   },
   "source": [
    "## Pull historical average USD national currency rates and add to the dataframe"
   ]
  },
  {
   "cell_type": "code",
   "execution_count": null,
   "id": "6a0395f0",
   "metadata": {
    "execution": {
     "iopub.execute_input": "2024-04-18T19:54:20.208143Z",
     "iopub.status.busy": "2024-04-18T19:54:20.207990Z",
     "iopub.status.idle": "2024-04-18T19:54:27.415058Z",
     "shell.execute_reply": "2024-04-18T19:54:27.414558Z"
    },
    "papermill": {
     "duration": 7.22313,
     "end_time": "2024-04-18T19:54:27.420243",
     "exception": false,
     "start_time": "2024-04-18T19:54:20.197113",
     "status": "completed"
    },
    "tags": []
   },
   "outputs": [],
   "source": [
    "data['usd_nat_currency'] = utils.daily_price(\n",
    "    ticker=currency_pair,\n",
    "    end=data['date'],\n",
    "    days_earlier=90\n",
    "    )\n",
    "\n",
    "# drop rows, when USD rates wasn't available\n",
    "data = data[data['usd_nat_currency'].notna()]\n",
    "\n",
    "data.tail()"
   ]
  },
  {
   "cell_type": "markdown",
   "id": "74f4d6f0",
   "metadata": {
    "papermill": {
     "duration": 0.016905,
     "end_time": "2024-04-18T19:54:27.461503",
     "exception": false,
     "start_time": "2024-04-18T19:54:27.444598",
     "status": "completed"
    },
    "tags": []
   },
   "source": [
    "## Convert USD values related to IS, BS, CFS to national currency"
   ]
  },
  {
   "cell_type": "code",
   "execution_count": null,
   "id": "ddc5160c",
   "metadata": {
    "execution": {
     "iopub.execute_input": "2024-04-18T19:54:27.493382Z",
     "iopub.status.busy": "2024-04-18T19:54:27.493145Z",
     "iopub.status.idle": "2024-04-18T19:54:27.501966Z",
     "shell.execute_reply": "2024-04-18T19:54:27.501660Z"
    },
    "papermill": {
     "duration": 0.025389,
     "end_time": "2024-04-18T19:54:27.503137",
     "exception": false,
     "start_time": "2024-04-18T19:54:27.477748",
     "status": "completed"
    },
    "tags": []
   },
   "outputs": [],
   "source": [
    "# convert columns into national currency if necessary\n",
    "if numbers_in_currency == 'USD':\n",
    "    data_nat_curr = utils.convert_national_currency(input_data=data, currency=data)\n",
    "else:\n",
    "    data_nat_curr = data.copy()\n",
    "data_nat_curr.tail()"
   ]
  },
  {
   "cell_type": "markdown",
   "id": "77ead51b",
   "metadata": {
    "papermill": {
     "duration": 0.026415,
     "end_time": "2024-04-18T19:54:27.541079",
     "exception": false,
     "start_time": "2024-04-18T19:54:27.514664",
     "status": "completed"
    },
    "tags": []
   },
   "source": [
    "# 3. Calculate input to Value Raios (eps, bv per share, fcf)\n",
    "## filter out unwanted columns"
   ]
  },
  {
   "cell_type": "code",
   "execution_count": null,
   "id": "0cf2dd0c",
   "metadata": {
    "execution": {
     "iopub.execute_input": "2024-04-18T19:54:27.567776Z",
     "iopub.status.busy": "2024-04-18T19:54:27.567581Z",
     "iopub.status.idle": "2024-04-18T19:54:27.571322Z",
     "shell.execute_reply": "2024-04-18T19:54:27.570941Z"
    },
    "papermill": {
     "duration": 0.018393,
     "end_time": "2024-04-18T19:54:27.572499",
     "exception": false,
     "start_time": "2024-04-18T19:54:27.554106",
     "status": "completed"
    },
    "tags": []
   },
   "outputs": [],
   "source": [
    "filtered_nat_curr = utils.calculate_input_value_ratios(data_nat_curr)"
   ]
  },
  {
   "cell_type": "markdown",
   "id": "e37f1305",
   "metadata": {
    "papermill": {
     "duration": 0.014106,
     "end_time": "2024-04-18T19:54:27.599921",
     "exception": false,
     "start_time": "2024-04-18T19:54:27.585815",
     "status": "completed"
    },
    "tags": []
   },
   "source": [
    "## Calculate input values to value ratios"
   ]
  },
  {
   "cell_type": "code",
   "execution_count": null,
   "id": "a7e59e9a",
   "metadata": {
    "execution": {
     "iopub.execute_input": "2024-04-18T19:54:27.624704Z",
     "iopub.status.busy": "2024-04-18T19:54:27.624497Z",
     "iopub.status.idle": "2024-04-18T19:54:27.627820Z",
     "shell.execute_reply": "2024-04-18T19:54:27.627400Z"
    },
    "papermill": {
     "duration": 0.017172,
     "end_time": "2024-04-18T19:54:27.629013",
     "exception": false,
     "start_time": "2024-04-18T19:54:27.611841",
     "status": "completed"
    },
    "tags": []
   },
   "outputs": [],
   "source": [
    "ratios_nat_curr = utils.ratios_input_filter(filtered_nat_curr)"
   ]
  },
  {
   "cell_type": "code",
   "execution_count": null,
   "id": "551ed656",
   "metadata": {
    "execution": {
     "iopub.execute_input": "2024-04-18T19:54:27.650728Z",
     "iopub.status.busy": "2024-04-18T19:54:27.650539Z",
     "iopub.status.idle": "2024-04-18T19:54:27.658204Z",
     "shell.execute_reply": "2024-04-18T19:54:27.657895Z"
    },
    "papermill": {
     "duration": 0.018259,
     "end_time": "2024-04-18T19:54:27.659324",
     "exception": false,
     "start_time": "2024-04-18T19:54:27.641065",
     "status": "completed"
    },
    "tags": []
   },
   "outputs": [],
   "source": [
    "ratios_nat_curr = utils.evaluate_performance(input=filtered_nat_curr, output=ratios_nat_curr)"
   ]
  },
  {
   "cell_type": "markdown",
   "id": "c1995df1",
   "metadata": {
    "papermill": {
     "duration": 0.011456,
     "end_time": "2024-04-18T19:54:27.683806",
     "exception": false,
     "start_time": "2024-04-18T19:54:27.672350",
     "status": "completed"
    },
    "tags": []
   },
   "source": [
    "# 4. Pull historical share prices and merge with sattement data"
   ]
  },
  {
   "cell_type": "code",
   "execution_count": null,
   "id": "b90f40bf",
   "metadata": {
    "execution": {
     "iopub.execute_input": "2024-04-18T19:54:27.708300Z",
     "iopub.status.busy": "2024-04-18T19:54:27.708108Z",
     "iopub.status.idle": "2024-04-18T19:54:28.003961Z",
     "shell.execute_reply": "2024-04-18T19:54:28.003291Z"
    },
    "papermill": {
     "duration": 0.308746,
     "end_time": "2024-04-18T19:54:28.005542",
     "exception": false,
     "start_time": "2024-04-18T19:54:27.696796",
     "status": "completed"
    },
    "tags": []
   },
   "outputs": [],
   "source": [
    "# pull weekly share prices and merge with the value ratios\n",
    "merged_nat_curr = utils.add_share_prices_to_value_ratios(share_name, data, ratios_nat_curr)\n",
    "merged_nat_curr.head()"
   ]
  },
  {
   "cell_type": "markdown",
   "id": "e5d5fb8c",
   "metadata": {
    "papermill": {
     "duration": 0.013194,
     "end_time": "2024-04-18T19:54:28.032180",
     "exception": false,
     "start_time": "2024-04-18T19:54:28.018986",
     "status": "completed"
    },
    "tags": []
   },
   "source": [
    "# Calculate price ratios (P/E, P/B, P/S, P/FCF)"
   ]
  },
  {
   "cell_type": "code",
   "execution_count": null,
   "id": "7dce5896",
   "metadata": {
    "execution": {
     "iopub.execute_input": "2024-04-18T19:54:28.060686Z",
     "iopub.status.busy": "2024-04-18T19:54:28.060320Z",
     "iopub.status.idle": "2024-04-18T19:54:28.074027Z",
     "shell.execute_reply": "2024-04-18T19:54:28.073642Z"
    },
    "papermill": {
     "duration": 0.028343,
     "end_time": "2024-04-18T19:54:28.075101",
     "exception": false,
     "start_time": "2024-04-18T19:54:28.046758",
     "status": "completed"
    },
    "tags": []
   },
   "outputs": [],
   "source": [
    "merged_nat_curr = utils.price_ratios(merged_nat_curr)\n",
    "merged_nat_curr.head()"
   ]
  },
  {
   "cell_type": "markdown",
   "id": "24bbb9a8",
   "metadata": {
    "papermill": {
     "duration": 0.013726,
     "end_time": "2024-04-18T19:54:28.102895",
     "exception": false,
     "start_time": "2024-04-18T19:54:28.089169",
     "status": "completed"
    },
    "tags": []
   },
   "source": [
    "# Calculate Dividend yield and currency-share price correlation"
   ]
  },
  {
   "cell_type": "code",
   "execution_count": null,
   "id": "cf5ef09a",
   "metadata": {
    "execution": {
     "iopub.execute_input": "2024-04-18T19:54:28.129608Z",
     "iopub.status.busy": "2024-04-18T19:54:28.129426Z",
     "iopub.status.idle": "2024-04-18T19:54:28.504243Z",
     "shell.execute_reply": "2024-04-18T19:54:28.503713Z"
    },
    "papermill": {
     "duration": 0.390897,
     "end_time": "2024-04-18T19:54:28.506086",
     "exception": false,
     "start_time": "2024-04-18T19:54:28.115189",
     "status": "completed"
    },
    "tags": []
   },
   "outputs": [],
   "source": [
    "# get daily historical USD-national currency rates\n",
    "usd_nat_curr = utils.get_historical_currency_rate(currency_pair, merged_nat_curr)"
   ]
  },
  {
   "cell_type": "code",
   "execution_count": null,
   "id": "4169f153",
   "metadata": {
    "execution": {
     "iopub.execute_input": "2024-04-18T19:54:28.546585Z",
     "iopub.status.busy": "2024-04-18T19:54:28.546313Z",
     "iopub.status.idle": "2024-04-18T19:54:29.136061Z",
     "shell.execute_reply": "2024-04-18T19:54:29.135806Z"
    },
    "papermill": {
     "duration": 0.612768,
     "end_time": "2024-04-18T19:54:29.136945",
     "exception": false,
     "start_time": "2024-04-18T19:54:28.524177",
     "status": "completed"
    },
    "tags": []
   },
   "outputs": [],
   "source": [
    "# get share prices and dividend yield data\n",
    "ticker_all_price = utils.get_historical_share_dividend(share_name, merged_nat_curr)"
   ]
  },
  {
   "cell_type": "code",
   "execution_count": null,
   "id": "8e0caacf",
   "metadata": {
    "execution": {
     "iopub.execute_input": "2024-04-18T19:54:29.157973Z",
     "iopub.status.busy": "2024-04-18T19:54:29.157843Z",
     "iopub.status.idle": "2024-04-18T19:54:29.324971Z",
     "shell.execute_reply": "2024-04-18T19:54:29.324673Z"
    },
    "papermill": {
     "duration": 0.17913,
     "end_time": "2024-04-18T19:54:29.325827",
     "exception": false,
     "start_time": "2024-04-18T19:54:29.146697",
     "status": "completed"
    },
    "tags": []
   },
   "outputs": [],
   "source": [
    "# Pearson's correlation coefficient between share price and USD - national currency rate\n",
    "utils.get_currency_share_price_correlation(share_name, usd_nat_curr, ticker_all_price)"
   ]
  },
  {
   "cell_type": "markdown",
   "id": "103b25ca",
   "metadata": {
    "papermill": {
     "duration": 0.01236,
     "end_time": "2024-04-18T19:54:29.349022",
     "exception": false,
     "start_time": "2024-04-18T19:54:29.336662",
     "status": "completed"
    },
    "tags": []
   },
   "source": [
    "# Share price and value ratios"
   ]
  },
  {
   "cell_type": "code",
   "execution_count": null,
   "id": "79e86c28",
   "metadata": {
    "execution": {
     "iopub.execute_input": "2024-04-18T19:54:29.374527Z",
     "iopub.status.busy": "2024-04-18T19:54:29.374384Z",
     "iopub.status.idle": "2024-04-18T19:54:33.558636Z",
     "shell.execute_reply": "2024-04-18T19:54:33.558371Z"
    },
    "papermill": {
     "duration": 4.197192,
     "end_time": "2024-04-18T19:54:33.559716",
     "exception": false,
     "start_time": "2024-04-18T19:54:29.362524",
     "status": "completed"
    },
    "tags": []
   },
   "outputs": [],
   "source": [
    "for column in merged_nat_curr.columns[3:]:\n",
    "    fig, ax1 = plt.subplots(figsize=(15, 6))\n",
    "\n",
    "    ax2 = ax1.twinx()\n",
    "    ax1.plot(merged_nat_curr['real_date'], merged_nat_curr[column], color='k', label=merged_nat_curr)\n",
    "    ax2.plot(ticker_all_price.index, ticker_all_price['Close'], color='b', label=share_name)\n",
    "\n",
    "    ax1.set_xlabel('Date')\n",
    "    ax1.set_ylabel(column, color='k')\n",
    "    ax2.set_ylabel('Share price (national currency)', color='b')\n",
    "\n",
    "    plt.legend()\n",
    "    plt.show()"
   ]
  },
  {
   "cell_type": "code",
   "execution_count": null,
   "id": "2b904b74",
   "metadata": {
    "execution": {
     "iopub.execute_input": "2024-04-18T19:54:33.606295Z",
     "iopub.status.busy": "2024-04-18T19:54:33.606119Z",
     "iopub.status.idle": "2024-04-18T19:54:34.314211Z",
     "shell.execute_reply": "2024-04-18T19:54:34.313766Z"
    },
    "papermill": {
     "duration": 0.73162,
     "end_time": "2024-04-18T19:54:34.315094",
     "exception": false,
     "start_time": "2024-04-18T19:54:33.583474",
     "status": "completed"
    },
    "tags": []
   },
   "outputs": [],
   "source": [
    "# plot histograms of value parameters\n",
    "utils.plot_histogram_value_parameters(input_df=merged_nat_curr, extra_parameters=[], owned_shares=owned_shares)"
   ]
  },
  {
   "cell_type": "markdown",
   "id": "c822b361",
   "metadata": {
    "papermill": {
     "duration": 0.022785,
     "end_time": "2024-04-18T19:54:34.360348",
     "exception": false,
     "start_time": "2024-04-18T19:54:34.337563",
     "status": "completed"
    },
    "tags": []
   },
   "source": [
    "## Calculate correlation between value parameters"
   ]
  },
  {
   "cell_type": "code",
   "execution_count": null,
   "id": "ab8f181d",
   "metadata": {
    "execution": {
     "iopub.execute_input": "2024-04-18T19:54:34.408453Z",
     "iopub.status.busy": "2024-04-18T19:54:34.408318Z",
     "iopub.status.idle": "2024-04-18T19:54:34.413456Z",
     "shell.execute_reply": "2024-04-18T19:54:34.413229Z"
    },
    "papermill": {
     "duration": 0.029507,
     "end_time": "2024-04-18T19:54:34.414317",
     "exception": false,
     "start_time": "2024-04-18T19:54:34.384810",
     "status": "completed"
    },
    "tags": []
   },
   "outputs": [],
   "source": [
    "# calulate value parameters Pearson's correlation coefficient\n",
    "pd.DataFrame(merged_nat_curr, columns=['roa', 'roe', 'pe_ratio', 'pb_ratio', 'ps_ratio', 'ev_revenue', 'debt_to_equity', 'current_ratio']).corr()"
   ]
  },
  {
   "cell_type": "code",
   "execution_count": null,
   "id": "e6f0a033",
   "metadata": {
    "execution": {
     "iopub.execute_input": "2024-04-18T19:54:34.459209Z",
     "iopub.status.busy": "2024-04-18T19:54:34.459088Z",
     "iopub.status.idle": "2024-04-18T19:54:35.514393Z",
     "shell.execute_reply": "2024-04-18T19:54:35.514137Z"
    },
    "papermill": {
     "duration": 1.079827,
     "end_time": "2024-04-18T19:54:35.515568",
     "exception": false,
     "start_time": "2024-04-18T19:54:34.435741",
     "status": "completed"
    },
    "tags": []
   },
   "outputs": [],
   "source": [
    "# plot value parameters in time and identify similar events\n",
    "utils.get_historical_analouges(\n",
    "    input_df=merged_nat_curr,\n",
    "    ticker_all_price=ticker_all_price,\n",
    "    share_name=share_name,\n",
    "    tolerance=0.2,\n",
    "    owned_shares=owned_shares\n",
    "    )"
   ]
  }
 ],
 "metadata": {
  "kernelspec": {
   "display_name": ".venv",
   "language": "python",
   "name": "python3"
  },
  "language_info": {
   "codemirror_mode": {
    "name": "ipython",
    "version": 3
   },
   "file_extension": ".py",
   "mimetype": "text/x-python",
   "name": "python",
   "nbconvert_exporter": "python",
   "pygments_lexer": "ipython3",
   "version": "3.11.3"
  },
  "papermill": {
   "default_parameters": {},
   "duration": 17.757779,
   "end_time": "2024-04-18T19:54:35.866036",
   "environment_variables": {},
   "exception": null,
   "input_path": "../notebooks/bonheur_national.ipynb",
   "output_path": "../notebooks/bonheur_national.ipynb",
   "parameters": {},
   "start_time": "2024-04-18T19:54:18.108257",
   "version": "2.5.0"
  }
 },
 "nbformat": 4,
 "nbformat_minor": 5
}
