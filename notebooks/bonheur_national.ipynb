{
 "cells": [
  {
   "cell_type": "code",
   "execution_count": null,
   "id": "8740de05",
   "metadata": {
    "execution": {
     "iopub.execute_input": "2024-08-03T15:54:16.434050Z",
     "iopub.status.busy": "2024-08-03T15:54:16.433766Z",
     "iopub.status.idle": "2024-08-03T15:54:17.111173Z",
     "shell.execute_reply": "2024-08-03T15:54:17.110807Z"
    },
    "papermill": {
     "duration": 0.692045,
     "end_time": "2024-08-03T15:54:17.112184",
     "exception": false,
     "start_time": "2024-08-03T15:54:16.420139",
     "status": "completed"
    },
    "tags": []
   },
   "outputs": [],
   "source": [
    "import pandas as pd\n",
    "import matplotlib.pyplot as plt\n",
    "import numpy as np\n",
    "\n",
    "import yfinance as yf\n",
    "import datetime\n",
    "\n",
    "from valueinvesting import utils as utils"
   ]
  },
  {
   "cell_type": "markdown",
   "id": "216061eb",
   "metadata": {
    "papermill": {
     "duration": 0.005756,
     "end_time": "2024-08-03T15:54:17.128372",
     "exception": false,
     "start_time": "2024-08-03T15:54:17.122616",
     "status": "completed"
    },
    "tags": []
   },
   "source": [
    "# 1. Load raw input\n",
    "## Hardcoded block"
   ]
  },
  {
   "cell_type": "code",
   "execution_count": null,
   "id": "c85568ce",
   "metadata": {
    "execution": {
     "iopub.execute_input": "2024-08-03T15:54:17.143526Z",
     "iopub.status.busy": "2024-08-03T15:54:17.143133Z",
     "iopub.status.idle": "2024-08-03T15:54:17.145276Z",
     "shell.execute_reply": "2024-08-03T15:54:17.145036Z"
    },
    "papermill": {
     "duration": 0.008642,
     "end_time": "2024-08-03T15:54:17.146078",
     "exception": false,
     "start_time": "2024-08-03T15:54:17.137436",
     "status": "completed"
    },
    "tags": []
   },
   "outputs": [],
   "source": [
    "evaluate_last_X_years = True\n",
    "X=10\n",
    "currency_pair = 'NOK=X'\n",
    "numbers_in_currency = 'NOK'\n",
    "share_name = 'BONHR.OL'"
   ]
  },
  {
   "cell_type": "markdown",
   "id": "d72aefb9",
   "metadata": {
    "papermill": {
     "duration": 0.010139,
     "end_time": "2024-08-03T15:54:17.161845",
     "exception": false,
     "start_time": "2024-08-03T15:54:17.151706",
     "status": "completed"
    },
    "tags": []
   },
   "source": [
    "# 1.2. Raw input statement data"
   ]
  },
  {
   "cell_type": "code",
   "execution_count": null,
   "id": "72603e68",
   "metadata": {
    "execution": {
     "iopub.execute_input": "2024-08-03T15:54:17.176581Z",
     "iopub.status.busy": "2024-08-03T15:54:17.176437Z",
     "iopub.status.idle": "2024-08-03T15:54:17.187804Z",
     "shell.execute_reply": "2024-08-03T15:54:17.187543Z"
    },
    "papermill": {
     "duration": 0.018169,
     "end_time": "2024-08-03T15:54:17.188863",
     "exception": false,
     "start_time": "2024-08-03T15:54:17.170694",
     "status": "completed"
    },
    "tags": []
   },
   "outputs": [],
   "source": [
    "route = f\"../data/input/{share_name}_data.csv\"\n",
    "data = pd.read_csv(route, sep=';', parse_dates=['date', 'real_date'])\n",
    "# replace -, extend missing 0-s, fix datatype\n",
    "data = utils.replace_format_input(data)"
   ]
  },
  {
   "cell_type": "code",
   "execution_count": null,
   "id": "f867fc03",
   "metadata": {
    "execution": {
     "iopub.execute_input": "2024-08-03T15:54:17.207716Z",
     "iopub.status.busy": "2024-08-03T15:54:17.207556Z",
     "iopub.status.idle": "2024-08-03T15:54:17.212436Z",
     "shell.execute_reply": "2024-08-03T15:54:17.212145Z"
    },
    "papermill": {
     "duration": 0.016354,
     "end_time": "2024-08-03T15:54:17.213721",
     "exception": false,
     "start_time": "2024-08-03T15:54:17.197367",
     "status": "completed"
    },
    "tags": []
   },
   "outputs": [],
   "source": [
    "owned_shares = pd.read_csv('../data/extras/owned_stocks.csv', sep=';', parse_dates=['date'])\n",
    "owned_shares = owned_shares.loc[(owned_shares['stock'] == share_name) & (owned_shares['active'] == 'yes')]"
   ]
  },
  {
   "cell_type": "markdown",
   "id": "6aa7ccad",
   "metadata": {
    "papermill": {
     "duration": 0.007131,
     "end_time": "2024-08-03T15:54:17.227397",
     "exception": false,
     "start_time": "2024-08-03T15:54:17.220266",
     "status": "completed"
    },
    "tags": []
   },
   "source": [
    "## (OPTIONAL) Time Filtering - Last 7 years daat"
   ]
  },
  {
   "cell_type": "code",
   "execution_count": null,
   "id": "8747180f",
   "metadata": {
    "execution": {
     "iopub.execute_input": "2024-08-03T15:54:17.240782Z",
     "iopub.status.busy": "2024-08-03T15:54:17.240632Z",
     "iopub.status.idle": "2024-08-03T15:54:17.251493Z",
     "shell.execute_reply": "2024-08-03T15:54:17.251220Z"
    },
    "papermill": {
     "duration": 0.018925,
     "end_time": "2024-08-03T15:54:17.252323",
     "exception": false,
     "start_time": "2024-08-03T15:54:17.233398",
     "status": "completed"
    },
    "tags": []
   },
   "outputs": [],
   "source": [
    "if evaluate_last_X_years:\n",
    "    data = data[data['date'] > datetime.datetime.today() - datetime.timedelta(days=X*366+93)]\n",
    "    data = data.reset_index(drop=True)\n",
    "\n",
    "data.head()"
   ]
  },
  {
   "cell_type": "markdown",
   "id": "25aec9c9",
   "metadata": {
    "papermill": {
     "duration": 0.00504,
     "end_time": "2024-08-03T15:54:17.262846",
     "exception": false,
     "start_time": "2024-08-03T15:54:17.257806",
     "status": "completed"
    },
    "tags": []
   },
   "source": [
    "## Calculate date when quaterly reports could be available"
   ]
  },
  {
   "cell_type": "code",
   "execution_count": null,
   "id": "147fab67",
   "metadata": {
    "execution": {
     "iopub.execute_input": "2024-08-03T15:54:17.274424Z",
     "iopub.status.busy": "2024-08-03T15:54:17.274290Z",
     "iopub.status.idle": "2024-08-03T15:54:17.276052Z",
     "shell.execute_reply": "2024-08-03T15:54:17.275789Z"
    },
    "papermill": {
     "duration": 0.008823,
     "end_time": "2024-08-03T15:54:17.277066",
     "exception": false,
     "start_time": "2024-08-03T15:54:17.268243",
     "status": "completed"
    },
    "tags": []
   },
   "outputs": [],
   "source": [
    "data = utils.calculate_real_date(data)"
   ]
  },
  {
   "cell_type": "markdown",
   "id": "a478a2aa",
   "metadata": {
    "papermill": {
     "duration": 0.00541,
     "end_time": "2024-08-03T15:54:17.293126",
     "exception": false,
     "start_time": "2024-08-03T15:54:17.287716",
     "status": "completed"
    },
    "tags": []
   },
   "source": [
    "# 2. Filter out unnecesary columns"
   ]
  },
  {
   "cell_type": "code",
   "execution_count": null,
   "id": "e0c0cb09",
   "metadata": {
    "execution": {
     "iopub.execute_input": "2024-08-03T15:54:17.308894Z",
     "iopub.status.busy": "2024-08-03T15:54:17.308755Z",
     "iopub.status.idle": "2024-08-03T15:54:17.315400Z",
     "shell.execute_reply": "2024-08-03T15:54:17.315160Z"
    },
    "papermill": {
     "duration": 0.013676,
     "end_time": "2024-08-03T15:54:17.316257",
     "exception": false,
     "start_time": "2024-08-03T15:54:17.302581",
     "status": "completed"
    },
    "tags": []
   },
   "outputs": [],
   "source": [
    "data = utils.filter_raw_data(data)\n",
    "data.tail()"
   ]
  },
  {
   "cell_type": "markdown",
   "id": "43b3117b",
   "metadata": {
    "papermill": {
     "duration": 0.008362,
     "end_time": "2024-08-03T15:54:17.335100",
     "exception": false,
     "start_time": "2024-08-03T15:54:17.326738",
     "status": "completed"
    },
    "tags": []
   },
   "source": [
    "## Pull historical average USD national currency rates and add to the dataframe"
   ]
  },
  {
   "cell_type": "code",
   "execution_count": null,
   "id": "6a0395f0",
   "metadata": {
    "execution": {
     "iopub.execute_input": "2024-08-03T15:54:17.352154Z",
     "iopub.status.busy": "2024-08-03T15:54:17.352006Z",
     "iopub.status.idle": "2024-08-03T15:54:25.508060Z",
     "shell.execute_reply": "2024-08-03T15:54:25.507514Z"
    },
    "papermill": {
     "duration": 8.168573,
     "end_time": "2024-08-03T15:54:25.509783",
     "exception": false,
     "start_time": "2024-08-03T15:54:17.341210",
     "status": "completed"
    },
    "tags": []
   },
   "outputs": [],
   "source": [
    "data['usd_nat_currency'] = utils.daily_price(\n",
    "    ticker=currency_pair,\n",
    "    end=data['date'],\n",
    "    days_earlier=90\n",
    "    )\n",
    "\n",
    "# drop rows, when USD rates wasn't available\n",
    "data = data[data['usd_nat_currency'].notna()]\n",
    "\n",
    "data.tail()"
   ]
  },
  {
   "cell_type": "markdown",
   "id": "74f4d6f0",
   "metadata": {
    "papermill": {
     "duration": 0.010635,
     "end_time": "2024-08-03T15:54:25.537046",
     "exception": false,
     "start_time": "2024-08-03T15:54:25.526411",
     "status": "completed"
    },
    "tags": []
   },
   "source": [
    "## Convert USD values related to IS, BS, CFS to national currency"
   ]
  },
  {
   "cell_type": "code",
   "execution_count": null,
   "id": "ddc5160c",
   "metadata": {
    "execution": {
     "iopub.execute_input": "2024-08-03T15:54:25.561734Z",
     "iopub.status.busy": "2024-08-03T15:54:25.561491Z",
     "iopub.status.idle": "2024-08-03T15:54:25.571248Z",
     "shell.execute_reply": "2024-08-03T15:54:25.570854Z"
    },
    "papermill": {
     "duration": 0.022782,
     "end_time": "2024-08-03T15:54:25.572427",
     "exception": false,
     "start_time": "2024-08-03T15:54:25.549645",
     "status": "completed"
    },
    "tags": []
   },
   "outputs": [],
   "source": [
    "# convert columns into national currency if necessary\n",
    "if numbers_in_currency == 'USD':\n",
    "    data_nat_curr = utils.convert_national_currency(input_data=data, currency=data)\n",
    "else:\n",
    "    data_nat_curr = data.copy()\n",
    "data_nat_curr.tail()"
   ]
  },
  {
   "cell_type": "markdown",
   "id": "77ead51b",
   "metadata": {
    "papermill": {
     "duration": 0.012652,
     "end_time": "2024-08-03T15:54:25.597489",
     "exception": false,
     "start_time": "2024-08-03T15:54:25.584837",
     "status": "completed"
    },
    "tags": []
   },
   "source": [
    "# 3. Calculate input to Value Raios (eps, bv per share, fcf)\n",
    "## filter out unwanted columns"
   ]
  },
  {
   "cell_type": "code",
   "execution_count": null,
   "id": "0cf2dd0c",
   "metadata": {
    "execution": {
     "iopub.execute_input": "2024-08-03T15:54:25.619218Z",
     "iopub.status.busy": "2024-08-03T15:54:25.618997Z",
     "iopub.status.idle": "2024-08-03T15:54:25.630506Z",
     "shell.execute_reply": "2024-08-03T15:54:25.630138Z"
    },
    "papermill": {
     "duration": 0.021918,
     "end_time": "2024-08-03T15:54:25.632237",
     "exception": false,
     "start_time": "2024-08-03T15:54:25.610319",
     "status": "completed"
    },
    "tags": []
   },
   "outputs": [],
   "source": [
    "filtered_nat_curr = utils.calculate_input_value_ratios(data_nat_curr)\n",
    "filtered_nat_curr.head()"
   ]
  },
  {
   "cell_type": "markdown",
   "id": "e37f1305",
   "metadata": {
    "papermill": {
     "duration": 0.008015,
     "end_time": "2024-08-03T15:54:25.647896",
     "exception": false,
     "start_time": "2024-08-03T15:54:25.639881",
     "status": "completed"
    },
    "tags": []
   },
   "source": [
    "## Calculate input values to value ratios"
   ]
  },
  {
   "cell_type": "code",
   "execution_count": null,
   "id": "a7e59e9a",
   "metadata": {
    "execution": {
     "iopub.execute_input": "2024-08-03T15:54:25.661259Z",
     "iopub.status.busy": "2024-08-03T15:54:25.661122Z",
     "iopub.status.idle": "2024-08-03T15:54:25.666455Z",
     "shell.execute_reply": "2024-08-03T15:54:25.666200Z"
    },
    "papermill": {
     "duration": 0.012802,
     "end_time": "2024-08-03T15:54:25.667333",
     "exception": false,
     "start_time": "2024-08-03T15:54:25.654531",
     "status": "completed"
    },
    "tags": []
   },
   "outputs": [],
   "source": [
    "ratios_nat_curr = utils.ratios_input_filter(filtered_nat_curr)\n",
    "ratios_nat_curr.head()"
   ]
  },
  {
   "cell_type": "code",
   "execution_count": null,
   "id": "551ed656",
   "metadata": {
    "execution": {
     "iopub.execute_input": "2024-08-03T15:54:25.680562Z",
     "iopub.status.busy": "2024-08-03T15:54:25.680429Z",
     "iopub.status.idle": "2024-08-03T15:54:25.691634Z",
     "shell.execute_reply": "2024-08-03T15:54:25.691404Z"
    },
    "papermill": {
     "duration": 0.018952,
     "end_time": "2024-08-03T15:54:25.692429",
     "exception": false,
     "start_time": "2024-08-03T15:54:25.673477",
     "status": "completed"
    },
    "tags": []
   },
   "outputs": [],
   "source": [
    "ratios_nat_curr = utils.evaluate_performance(input=filtered_nat_curr, output=ratios_nat_curr)\n",
    "ratios_nat_curr.head()"
   ]
  },
  {
   "cell_type": "markdown",
   "id": "c1995df1",
   "metadata": {
    "papermill": {
     "duration": 0.005879,
     "end_time": "2024-08-03T15:54:25.704348",
     "exception": false,
     "start_time": "2024-08-03T15:54:25.698469",
     "status": "completed"
    },
    "tags": []
   },
   "source": [
    "# 4. Pull historical share prices and merge with sattement data"
   ]
  },
  {
   "cell_type": "code",
   "execution_count": null,
   "id": "b90f40bf",
   "metadata": {
    "execution": {
     "iopub.execute_input": "2024-08-03T15:54:25.729564Z",
     "iopub.status.busy": "2024-08-03T15:54:25.729296Z",
     "iopub.status.idle": "2024-08-03T15:54:26.022053Z",
     "shell.execute_reply": "2024-08-03T15:54:26.021669Z"
    },
    "papermill": {
     "duration": 0.301239,
     "end_time": "2024-08-03T15:54:26.023289",
     "exception": false,
     "start_time": "2024-08-03T15:54:25.722050",
     "status": "completed"
    },
    "tags": []
   },
   "outputs": [],
   "source": [
    "# pull weekly share prices and merge with the value ratios\n",
    "merged_nat_curr = utils.add_share_prices_to_value_ratios(share_name, data, ratios_nat_curr)\n",
    "merged_nat_curr.head()"
   ]
  },
  {
   "cell_type": "markdown",
   "id": "e5d5fb8c",
   "metadata": {
    "papermill": {
     "duration": 0.012396,
     "end_time": "2024-08-03T15:54:26.053278",
     "exception": false,
     "start_time": "2024-08-03T15:54:26.040882",
     "status": "completed"
    },
    "tags": []
   },
   "source": [
    "# Calculate price ratios (P/E, P/B, P/S, P/FCF)"
   ]
  },
  {
   "cell_type": "code",
   "execution_count": null,
   "id": "7dce5896",
   "metadata": {
    "execution": {
     "iopub.execute_input": "2024-08-03T15:54:26.071903Z",
     "iopub.status.busy": "2024-08-03T15:54:26.071740Z",
     "iopub.status.idle": "2024-08-03T15:54:26.082680Z",
     "shell.execute_reply": "2024-08-03T15:54:26.082375Z"
    },
    "papermill": {
     "duration": 0.020206,
     "end_time": "2024-08-03T15:54:26.083662",
     "exception": false,
     "start_time": "2024-08-03T15:54:26.063456",
     "status": "completed"
    },
    "tags": []
   },
   "outputs": [],
   "source": [
    "merged_nat_curr = utils.price_ratios(merged_nat_curr)\n",
    "merged_nat_curr.head()"
   ]
  },
  {
   "cell_type": "markdown",
   "id": "24bbb9a8",
   "metadata": {
    "papermill": {
     "duration": 0.006426,
     "end_time": "2024-08-03T15:54:26.097531",
     "exception": false,
     "start_time": "2024-08-03T15:54:26.091105",
     "status": "completed"
    },
    "tags": []
   },
   "source": [
    "# Calculate Dividend yield and currency-share price correlation"
   ]
  },
  {
   "cell_type": "code",
   "execution_count": null,
   "id": "cf5ef09a",
   "metadata": {
    "execution": {
     "iopub.execute_input": "2024-08-03T15:54:26.111071Z",
     "iopub.status.busy": "2024-08-03T15:54:26.110842Z",
     "iopub.status.idle": "2024-08-03T15:54:26.440879Z",
     "shell.execute_reply": "2024-08-03T15:54:26.440459Z"
    },
    "papermill": {
     "duration": 0.338912,
     "end_time": "2024-08-03T15:54:26.442564",
     "exception": false,
     "start_time": "2024-08-03T15:54:26.103652",
     "status": "completed"
    },
    "tags": []
   },
   "outputs": [],
   "source": [
    "# get daily historical USD-national currency rates\n",
    "usd_nat_curr = utils.get_historical_currency_rate(currency_pair, merged_nat_curr)"
   ]
  },
  {
   "cell_type": "code",
   "execution_count": null,
   "id": "4169f153",
   "metadata": {
    "execution": {
     "iopub.execute_input": "2024-08-03T15:54:26.474081Z",
     "iopub.status.busy": "2024-08-03T15:54:26.473875Z",
     "iopub.status.idle": "2024-08-03T15:54:26.954038Z",
     "shell.execute_reply": "2024-08-03T15:54:26.953752Z"
    },
    "papermill": {
     "duration": 0.49618,
     "end_time": "2024-08-03T15:54:26.955099",
     "exception": false,
     "start_time": "2024-08-03T15:54:26.458919",
     "status": "completed"
    },
    "tags": []
   },
   "outputs": [],
   "source": [
    "# get share prices and dividend yield data\n",
    "ticker_all_price = utils.get_historical_share_dividend(share_name, merged_nat_curr)"
   ]
  },
  {
   "cell_type": "code",
   "execution_count": null,
   "id": "8e0caacf",
   "metadata": {
    "execution": {
     "iopub.execute_input": "2024-08-03T15:54:26.967976Z",
     "iopub.status.busy": "2024-08-03T15:54:26.967860Z",
     "iopub.status.idle": "2024-08-03T15:54:27.127962Z",
     "shell.execute_reply": "2024-08-03T15:54:27.127407Z"
    },
    "papermill": {
     "duration": 0.167469,
     "end_time": "2024-08-03T15:54:27.129179",
     "exception": false,
     "start_time": "2024-08-03T15:54:26.961710",
     "status": "completed"
    },
    "tags": []
   },
   "outputs": [],
   "source": [
    "# Pearson's correlation coefficient between share price and USD - national currency rate\n",
    "utils.get_currency_share_price_correlation(share_name, usd_nat_curr, ticker_all_price)"
   ]
  },
  {
   "cell_type": "markdown",
   "id": "103b25ca",
   "metadata": {
    "papermill": {
     "duration": 0.009905,
     "end_time": "2024-08-03T15:54:27.152196",
     "exception": false,
     "start_time": "2024-08-03T15:54:27.142291",
     "status": "completed"
    },
    "tags": []
   },
   "source": [
    "# Share price and value ratios"
   ]
  },
  {
   "cell_type": "code",
   "execution_count": null,
   "id": "79e86c28",
   "metadata": {
    "execution": {
     "iopub.execute_input": "2024-08-03T15:54:27.174471Z",
     "iopub.status.busy": "2024-08-03T15:54:27.174258Z",
     "iopub.status.idle": "2024-08-03T15:54:31.050626Z",
     "shell.execute_reply": "2024-08-03T15:54:31.050355Z"
    },
    "papermill": {
     "duration": 3.888797,
     "end_time": "2024-08-03T15:54:31.051589",
     "exception": false,
     "start_time": "2024-08-03T15:54:27.162792",
     "status": "completed"
    },
    "tags": []
   },
   "outputs": [],
   "source": [
    "for column in merged_nat_curr.columns[3:]:\n",
    "    fig, ax1 = plt.subplots(figsize=(15, 6))\n",
    "\n",
    "    ax2 = ax1.twinx()\n",
    "    ax1.plot(merged_nat_curr['real_date'], merged_nat_curr[column], color='k', label=merged_nat_curr)\n",
    "    ax2.plot(ticker_all_price.index, ticker_all_price['Close'], color='b', label=share_name)\n",
    "\n",
    "    ax1.set_xlabel('Date')\n",
    "    ax1.set_ylabel(column, color='k')\n",
    "    ax2.set_ylabel('Share price (national currency)', color='b')\n",
    "\n",
    "    plt.legend()\n",
    "    plt.show()"
   ]
  },
  {
   "cell_type": "code",
   "execution_count": null,
   "id": "2b904b74",
   "metadata": {
    "execution": {
     "iopub.execute_input": "2024-08-03T15:54:31.100544Z",
     "iopub.status.busy": "2024-08-03T15:54:31.100420Z",
     "iopub.status.idle": "2024-08-03T15:54:31.935631Z",
     "shell.execute_reply": "2024-08-03T15:54:31.935268Z"
    },
    "papermill": {
     "duration": 0.858577,
     "end_time": "2024-08-03T15:54:31.936522",
     "exception": false,
     "start_time": "2024-08-03T15:54:31.077945",
     "status": "completed"
    },
    "tags": []
   },
   "outputs": [],
   "source": [
    "# plot histograms of value parameters\n",
    "utils.plot_histogram_value_parameters(input_df=merged_nat_curr, extra_parameters=[], owned_shares=owned_shares)"
   ]
  },
  {
   "cell_type": "markdown",
   "id": "c822b361",
   "metadata": {
    "papermill": {
     "duration": 0.033257,
     "end_time": "2024-08-03T15:54:31.998761",
     "exception": false,
     "start_time": "2024-08-03T15:54:31.965504",
     "status": "completed"
    },
    "tags": []
   },
   "source": [
    "## Calculate correlation between value parameters"
   ]
  },
  {
   "cell_type": "code",
   "execution_count": null,
   "id": "ab8f181d",
   "metadata": {
    "execution": {
     "iopub.execute_input": "2024-08-03T15:54:32.049187Z",
     "iopub.status.busy": "2024-08-03T15:54:32.049046Z",
     "iopub.status.idle": "2024-08-03T15:54:32.056502Z",
     "shell.execute_reply": "2024-08-03T15:54:32.055989Z"
    },
    "papermill": {
     "duration": 0.03444,
     "end_time": "2024-08-03T15:54:32.057661",
     "exception": false,
     "start_time": "2024-08-03T15:54:32.023221",
     "status": "completed"
    },
    "tags": []
   },
   "outputs": [],
   "source": [
    "# calulate value parameters Pearson's correlation coefficient\n",
    "pd.DataFrame(merged_nat_curr, columns=['roa', 'roe', 'pe_ratio', 'pb_ratio', 'ps_ratio', 'ev_revenue', 'debt_to_equity', 'current_ratio']).corr()"
   ]
  },
  {
   "cell_type": "code",
   "execution_count": null,
   "id": "364b7939",
   "metadata": {},
   "outputs": [],
   "source": [
    "final_df = utils.get_value_stock_target_prices(\n",
    "    input_df=merged_nat_curr,\n",
    "    min_pct=0.2,\n",
    "    max_pct=0.5,\n",
    "    owned_shares=owned_shares\n",
    ")"
   ]
  }
 ],
 "metadata": {
  "kernelspec": {
   "display_name": ".venv",
   "language": "python",
   "name": "python3"
  },
  "language_info": {
   "codemirror_mode": {
    "name": "ipython",
    "version": 3
   },
   "file_extension": ".py",
   "mimetype": "text/x-python",
   "name": "python",
   "nbconvert_exporter": "python",
   "pygments_lexer": "ipython3",
   "version": "3.11.3"
  },
  "papermill": {
   "default_parameters": {},
   "duration": 16.925881,
   "end_time": "2024-08-03T15:54:32.466848",
   "environment_variables": {},
   "exception": null,
   "input_path": "../notebooks/bonheur_national.ipynb",
   "output_path": "../notebooks/bonheur_national.ipynb",
   "parameters": {},
   "start_time": "2024-08-03T15:54:15.540967",
   "version": "2.5.0"
  }
 },
 "nbformat": 4,
 "nbformat_minor": 5
}
