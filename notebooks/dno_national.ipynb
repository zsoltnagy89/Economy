{
 "cells": [
  {
   "cell_type": "code",
   "execution_count": null,
   "id": "91c8e732",
   "metadata": {
    "execution": {
     "iopub.execute_input": "2024-08-03T15:53:58.978845Z",
     "iopub.status.busy": "2024-08-03T15:53:58.978502Z",
     "iopub.status.idle": "2024-08-03T15:53:59.666672Z",
     "shell.execute_reply": "2024-08-03T15:53:59.666329Z"
    },
    "papermill": {
     "duration": 0.71109,
     "end_time": "2024-08-03T15:53:59.667750",
     "exception": false,
     "start_time": "2024-08-03T15:53:58.956660",
     "status": "completed"
    },
    "tags": []
   },
   "outputs": [],
   "source": [
    "import pandas as pd\n",
    "import matplotlib.pyplot as plt\n",
    "\n",
    "import yfinance as yf\n",
    "import datetime\n",
    "\n",
    "from valueinvesting import utils as utils"
   ]
  },
  {
   "cell_type": "markdown",
   "id": "17b5b4ca",
   "metadata": {
    "papermill": {
     "duration": 0.013153,
     "end_time": "2024-08-03T15:53:59.693313",
     "exception": false,
     "start_time": "2024-08-03T15:53:59.680160",
     "status": "completed"
    },
    "tags": []
   },
   "source": [
    "# 1. Load raw input\n",
    "## Hardcoded block"
   ]
  },
  {
   "cell_type": "code",
   "execution_count": null,
   "id": "65a72199",
   "metadata": {
    "execution": {
     "iopub.execute_input": "2024-08-03T15:53:59.714761Z",
     "iopub.status.busy": "2024-08-03T15:53:59.714559Z",
     "iopub.status.idle": "2024-08-03T15:53:59.716692Z",
     "shell.execute_reply": "2024-08-03T15:53:59.716431Z"
    },
    "papermill": {
     "duration": 0.013429,
     "end_time": "2024-08-03T15:53:59.717556",
     "exception": false,
     "start_time": "2024-08-03T15:53:59.704127",
     "status": "completed"
    },
    "tags": []
   },
   "outputs": [],
   "source": [
    "evaluate_last_X_years = True\n",
    "X=10\n",
    "currency_pair = 'NOK=X'\n",
    "numbers_in_currency = 'USD'\n",
    "share_name = 'DNO.OL'"
   ]
  },
  {
   "cell_type": "markdown",
   "id": "f9385983",
   "metadata": {
    "papermill": {
     "duration": 0.008947,
     "end_time": "2024-08-03T15:53:59.736484",
     "exception": false,
     "start_time": "2024-08-03T15:53:59.727537",
     "status": "completed"
    },
    "tags": []
   },
   "source": [
    "# 1.2. Raw input statement data"
   ]
  },
  {
   "cell_type": "code",
   "execution_count": null,
   "id": "b4999ae2",
   "metadata": {
    "execution": {
     "iopub.execute_input": "2024-08-03T15:53:59.755817Z",
     "iopub.status.busy": "2024-08-03T15:53:59.755665Z",
     "iopub.status.idle": "2024-08-03T15:53:59.772350Z",
     "shell.execute_reply": "2024-08-03T15:53:59.772015Z"
    },
    "papermill": {
     "duration": 0.028026,
     "end_time": "2024-08-03T15:53:59.773587",
     "exception": false,
     "start_time": "2024-08-03T15:53:59.745561",
     "status": "completed"
    },
    "tags": []
   },
   "outputs": [],
   "source": [
    "route = f\"../data/input/{share_name}_data.csv\"\n",
    "data = pd.read_csv(route, sep=';', parse_dates=['date', 'real_date'])\n",
    "# replace -, extend missing 0-s, fix datatype\n",
    "data = utils.replace_format_input(data)"
   ]
  },
  {
   "cell_type": "code",
   "execution_count": null,
   "id": "c3d759d8",
   "metadata": {
    "execution": {
     "iopub.execute_input": "2024-08-03T15:53:59.788209Z",
     "iopub.status.busy": "2024-08-03T15:53:59.787994Z",
     "iopub.status.idle": "2024-08-03T15:53:59.791838Z",
     "shell.execute_reply": "2024-08-03T15:53:59.791582Z"
    },
    "papermill": {
     "duration": 0.012152,
     "end_time": "2024-08-03T15:53:59.792659",
     "exception": false,
     "start_time": "2024-08-03T15:53:59.780507",
     "status": "completed"
    },
    "tags": []
   },
   "outputs": [],
   "source": [
    "owned_shares = pd.read_csv('../data/extras/owned_stocks.csv', sep=';', parse_dates=['date'])\n",
    "owned_shares = owned_shares.loc[(owned_shares['stock'] == share_name) & (owned_shares['active'] == 'yes')]"
   ]
  },
  {
   "cell_type": "markdown",
   "id": "bf49a136",
   "metadata": {
    "papermill": {
     "duration": 0.005016,
     "end_time": "2024-08-03T15:53:59.803321",
     "exception": false,
     "start_time": "2024-08-03T15:53:59.798305",
     "status": "completed"
    },
    "tags": []
   },
   "source": [
    "## (OPTIONAL) Time Filtering - Last 7 years daat"
   ]
  },
  {
   "cell_type": "code",
   "execution_count": null,
   "id": "27b414a4",
   "metadata": {
    "execution": {
     "iopub.execute_input": "2024-08-03T15:53:59.813508Z",
     "iopub.status.busy": "2024-08-03T15:53:59.813280Z",
     "iopub.status.idle": "2024-08-03T15:53:59.823012Z",
     "shell.execute_reply": "2024-08-03T15:53:59.822761Z"
    },
    "papermill": {
     "duration": 0.015983,
     "end_time": "2024-08-03T15:53:59.823883",
     "exception": false,
     "start_time": "2024-08-03T15:53:59.807900",
     "status": "completed"
    },
    "tags": []
   },
   "outputs": [],
   "source": [
    "if evaluate_last_X_years:\n",
    "    data = data[data['date'] > datetime.datetime.today() - datetime.timedelta(days=X*366+93)]\n",
    "    data = data.reset_index(drop=True)\n",
    "\n",
    "data.head()"
   ]
  },
  {
   "cell_type": "markdown",
   "id": "adb2ad10",
   "metadata": {
    "papermill": {
     "duration": 0.005143,
     "end_time": "2024-08-03T15:53:59.837125",
     "exception": false,
     "start_time": "2024-08-03T15:53:59.831982",
     "status": "completed"
    },
    "tags": []
   },
   "source": [
    "## Calculate date when quaterly reports could be available"
   ]
  },
  {
   "cell_type": "code",
   "execution_count": null,
   "id": "047deb36",
   "metadata": {
    "execution": {
     "iopub.execute_input": "2024-08-03T15:53:59.856589Z",
     "iopub.status.busy": "2024-08-03T15:53:59.856366Z",
     "iopub.status.idle": "2024-08-03T15:53:59.858257Z",
     "shell.execute_reply": "2024-08-03T15:53:59.858014Z"
    },
    "papermill": {
     "duration": 0.013403,
     "end_time": "2024-08-03T15:53:59.859075",
     "exception": false,
     "start_time": "2024-08-03T15:53:59.845672",
     "status": "completed"
    },
    "tags": []
   },
   "outputs": [],
   "source": [
    "data = utils.calculate_real_date(data)"
   ]
  },
  {
   "cell_type": "markdown",
   "id": "a9e405a5",
   "metadata": {
    "papermill": {
     "duration": 0.005686,
     "end_time": "2024-08-03T15:53:59.874528",
     "exception": false,
     "start_time": "2024-08-03T15:53:59.868842",
     "status": "completed"
    },
    "tags": []
   },
   "source": [
    "# 2. Filter out unnecesary columns"
   ]
  },
  {
   "cell_type": "code",
   "execution_count": null,
   "id": "cec99f8a",
   "metadata": {
    "execution": {
     "iopub.execute_input": "2024-08-03T15:53:59.890897Z",
     "iopub.status.busy": "2024-08-03T15:53:59.890643Z",
     "iopub.status.idle": "2024-08-03T15:53:59.897340Z",
     "shell.execute_reply": "2024-08-03T15:53:59.897070Z"
    },
    "papermill": {
     "duration": 0.014641,
     "end_time": "2024-08-03T15:53:59.898178",
     "exception": false,
     "start_time": "2024-08-03T15:53:59.883537",
     "status": "completed"
    },
    "tags": []
   },
   "outputs": [],
   "source": [
    "data = utils.filter_raw_data(data)\n",
    "data.tail()"
   ]
  },
  {
   "cell_type": "markdown",
   "id": "5e3a4ca7",
   "metadata": {
    "papermill": {
     "duration": 0.005191,
     "end_time": "2024-08-03T15:53:59.909221",
     "exception": false,
     "start_time": "2024-08-03T15:53:59.904030",
     "status": "completed"
    },
    "tags": []
   },
   "source": [
    "## Pull historical average USD national currency rates and add to the dataframe"
   ]
  },
  {
   "cell_type": "code",
   "execution_count": null,
   "id": "f5e78921",
   "metadata": {
    "execution": {
     "iopub.execute_input": "2024-08-03T15:53:59.924797Z",
     "iopub.status.busy": "2024-08-03T15:53:59.924653Z",
     "iopub.status.idle": "2024-08-03T15:54:07.865812Z",
     "shell.execute_reply": "2024-08-03T15:54:07.865312Z"
    },
    "papermill": {
     "duration": 7.952868,
     "end_time": "2024-08-03T15:54:07.867538",
     "exception": false,
     "start_time": "2024-08-03T15:53:59.914670",
     "status": "completed"
    },
    "tags": []
   },
   "outputs": [],
   "source": [
    "data['usd_nat_currency'] = utils.daily_price(\n",
    "    ticker=currency_pair,\n",
    "    end=data['date'],\n",
    "    days_earlier=90\n",
    "    )\n",
    "\n",
    "# drop rows, when USD rates wasn't available\n",
    "data = data[data['usd_nat_currency'].notna()]\n",
    "\n",
    "data.tail()"
   ]
  },
  {
   "cell_type": "markdown",
   "id": "81de78d3",
   "metadata": {
    "papermill": {
     "duration": 0.01606,
     "end_time": "2024-08-03T15:54:07.901257",
     "exception": false,
     "start_time": "2024-08-03T15:54:07.885197",
     "status": "completed"
    },
    "tags": []
   },
   "source": [
    "## Convert USD values related to IS, BS, CFS to national currency"
   ]
  },
  {
   "cell_type": "code",
   "execution_count": null,
   "id": "52a7e2cc",
   "metadata": {
    "execution": {
     "iopub.execute_input": "2024-08-03T15:54:07.933091Z",
     "iopub.status.busy": "2024-08-03T15:54:07.932706Z",
     "iopub.status.idle": "2024-08-03T15:54:07.949329Z",
     "shell.execute_reply": "2024-08-03T15:54:07.948959Z"
    },
    "papermill": {
     "duration": 0.031479,
     "end_time": "2024-08-03T15:54:07.950462",
     "exception": false,
     "start_time": "2024-08-03T15:54:07.918983",
     "status": "completed"
    },
    "tags": []
   },
   "outputs": [],
   "source": [
    "# convert columns into national currency if necessary\n",
    "if numbers_in_currency == 'USD':\n",
    "    data_nat_curr = utils.convert_national_currency(input_data=data, currency=data)\n",
    "else:\n",
    "    data_nat_curr = data.copy()\n",
    "data_nat_curr.tail()"
   ]
  },
  {
   "cell_type": "markdown",
   "id": "17e0ab3b",
   "metadata": {
    "papermill": {
     "duration": 0.010815,
     "end_time": "2024-08-03T15:54:07.973336",
     "exception": false,
     "start_time": "2024-08-03T15:54:07.962521",
     "status": "completed"
    },
    "tags": []
   },
   "source": [
    "# 3. Calculate input to Value Raios (eps, bv per share, fcf)\n",
    "## filter out unwanted columns"
   ]
  },
  {
   "cell_type": "code",
   "execution_count": null,
   "id": "43f51cc6",
   "metadata": {
    "execution": {
     "iopub.execute_input": "2024-08-03T15:54:07.995230Z",
     "iopub.status.busy": "2024-08-03T15:54:07.995062Z",
     "iopub.status.idle": "2024-08-03T15:54:07.998455Z",
     "shell.execute_reply": "2024-08-03T15:54:07.998117Z"
    },
    "papermill": {
     "duration": 0.015534,
     "end_time": "2024-08-03T15:54:07.999383",
     "exception": false,
     "start_time": "2024-08-03T15:54:07.983849",
     "status": "completed"
    },
    "tags": []
   },
   "outputs": [],
   "source": [
    "filtered_nat_curr = utils.calculate_input_value_ratios(data_nat_curr)"
   ]
  },
  {
   "cell_type": "markdown",
   "id": "f26aeaf9",
   "metadata": {
    "papermill": {
     "duration": 0.010835,
     "end_time": "2024-08-03T15:54:08.034422",
     "exception": false,
     "start_time": "2024-08-03T15:54:08.023587",
     "status": "completed"
    },
    "tags": []
   },
   "source": [
    "## Calculate input values to value ratios"
   ]
  },
  {
   "cell_type": "code",
   "execution_count": null,
   "id": "c8d06309",
   "metadata": {
    "execution": {
     "iopub.execute_input": "2024-08-03T15:54:08.056679Z",
     "iopub.status.busy": "2024-08-03T15:54:08.056521Z",
     "iopub.status.idle": "2024-08-03T15:54:08.059119Z",
     "shell.execute_reply": "2024-08-03T15:54:08.058858Z"
    },
    "papermill": {
     "duration": 0.016193,
     "end_time": "2024-08-03T15:54:08.060095",
     "exception": false,
     "start_time": "2024-08-03T15:54:08.043902",
     "status": "completed"
    },
    "tags": []
   },
   "outputs": [],
   "source": [
    "ratios_nat_curr = utils.ratios_input_filter(filtered_nat_curr)"
   ]
  },
  {
   "cell_type": "code",
   "execution_count": null,
   "id": "4a448c4a",
   "metadata": {
    "execution": {
     "iopub.execute_input": "2024-08-03T15:54:08.082375Z",
     "iopub.status.busy": "2024-08-03T15:54:08.082250Z",
     "iopub.status.idle": "2024-08-03T15:54:08.088880Z",
     "shell.execute_reply": "2024-08-03T15:54:08.088636Z"
    },
    "papermill": {
     "duration": 0.017628,
     "end_time": "2024-08-03T15:54:08.089720",
     "exception": false,
     "start_time": "2024-08-03T15:54:08.072092",
     "status": "completed"
    },
    "tags": []
   },
   "outputs": [],
   "source": [
    "ratios_nat_curr = utils.evaluate_performance(input=filtered_nat_curr, output=ratios_nat_curr)"
   ]
  },
  {
   "cell_type": "markdown",
   "id": "5f5b5263",
   "metadata": {
    "papermill": {
     "duration": 0.006159,
     "end_time": "2024-08-03T15:54:08.104332",
     "exception": false,
     "start_time": "2024-08-03T15:54:08.098173",
     "status": "completed"
    },
    "tags": []
   },
   "source": [
    "# 4. Pull historical share prices and merge with sattement data\n",
    "## Pull historical share prices"
   ]
  },
  {
   "cell_type": "code",
   "execution_count": null,
   "id": "6017941b",
   "metadata": {
    "execution": {
     "iopub.execute_input": "2024-08-03T15:54:08.116921Z",
     "iopub.status.busy": "2024-08-03T15:54:08.116779Z",
     "iopub.status.idle": "2024-08-03T15:54:08.407143Z",
     "shell.execute_reply": "2024-08-03T15:54:08.406811Z"
    },
    "papermill": {
     "duration": 0.298212,
     "end_time": "2024-08-03T15:54:08.408205",
     "exception": false,
     "start_time": "2024-08-03T15:54:08.109993",
     "status": "completed"
    },
    "tags": []
   },
   "outputs": [],
   "source": [
    "# pull weekly share prices and merge with the value ratios\n",
    "merged_nat_curr = utils.add_share_prices_to_value_ratios(share_name, data, ratios_nat_curr)\n",
    "merged_nat_curr.head()"
   ]
  },
  {
   "cell_type": "markdown",
   "id": "62e7185d",
   "metadata": {
    "papermill": {
     "duration": 0.01306,
     "end_time": "2024-08-03T15:54:08.438519",
     "exception": false,
     "start_time": "2024-08-03T15:54:08.425459",
     "status": "completed"
    },
    "tags": []
   },
   "source": [
    "# Calculate price ratios (P/E, P/B, P/S, P/FCF)"
   ]
  },
  {
   "cell_type": "code",
   "execution_count": null,
   "id": "a20190f6",
   "metadata": {
    "execution": {
     "iopub.execute_input": "2024-08-03T15:54:08.457519Z",
     "iopub.status.busy": "2024-08-03T15:54:08.457363Z",
     "iopub.status.idle": "2024-08-03T15:54:08.467483Z",
     "shell.execute_reply": "2024-08-03T15:54:08.467233Z"
    },
    "papermill": {
     "duration": 0.018694,
     "end_time": "2024-08-03T15:54:08.468360",
     "exception": false,
     "start_time": "2024-08-03T15:54:08.449666",
     "status": "completed"
    },
    "tags": []
   },
   "outputs": [],
   "source": [
    "merged_nat_curr = utils.price_ratios(merged_nat_curr)\n",
    "merged_nat_curr.head()"
   ]
  },
  {
   "cell_type": "markdown",
   "id": "0430d2ec",
   "metadata": {
    "papermill": {
     "duration": 0.008496,
     "end_time": "2024-08-03T15:54:08.487075",
     "exception": false,
     "start_time": "2024-08-03T15:54:08.478579",
     "status": "completed"
    },
    "tags": []
   },
   "source": [
    "# Calculate Dividend yield and currency-share price correlation"
   ]
  },
  {
   "cell_type": "code",
   "execution_count": null,
   "id": "c740b12d",
   "metadata": {
    "execution": {
     "iopub.execute_input": "2024-08-03T15:54:08.508878Z",
     "iopub.status.busy": "2024-08-03T15:54:08.508730Z",
     "iopub.status.idle": "2024-08-03T15:54:08.845110Z",
     "shell.execute_reply": "2024-08-03T15:54:08.844558Z"
    },
    "papermill": {
     "duration": 0.349762,
     "end_time": "2024-08-03T15:54:08.846807",
     "exception": false,
     "start_time": "2024-08-03T15:54:08.497045",
     "status": "completed"
    },
    "tags": []
   },
   "outputs": [],
   "source": [
    "# get daily historical USD-national currency rates\n",
    "usd_nat_curr = utils.get_historical_currency_rate(currency_pair, merged_nat_curr)"
   ]
  },
  {
   "cell_type": "code",
   "execution_count": null,
   "id": "de35ee50",
   "metadata": {
    "execution": {
     "iopub.execute_input": "2024-08-03T15:54:08.881293Z",
     "iopub.status.busy": "2024-08-03T15:54:08.881086Z",
     "iopub.status.idle": "2024-08-03T15:54:09.435403Z",
     "shell.execute_reply": "2024-08-03T15:54:09.435145Z"
    },
    "papermill": {
     "duration": 0.571802,
     "end_time": "2024-08-03T15:54:09.436336",
     "exception": false,
     "start_time": "2024-08-03T15:54:08.864534",
     "status": "completed"
    },
    "tags": []
   },
   "outputs": [],
   "source": [
    "# get share prices and dividend yield data\n",
    "ticker_all_price = utils.get_historical_share_dividend(share_name, merged_nat_curr)"
   ]
  },
  {
   "cell_type": "code",
   "execution_count": null,
   "id": "7f3f75bb",
   "metadata": {
    "execution": {
     "iopub.execute_input": "2024-08-03T15:54:09.463564Z",
     "iopub.status.busy": "2024-08-03T15:54:09.463412Z",
     "iopub.status.idle": "2024-08-03T15:54:09.638984Z",
     "shell.execute_reply": "2024-08-03T15:54:09.638720Z"
    },
    "papermill": {
     "duration": 0.18994,
     "end_time": "2024-08-03T15:54:09.639822",
     "exception": false,
     "start_time": "2024-08-03T15:54:09.449882",
     "status": "completed"
    },
    "tags": []
   },
   "outputs": [],
   "source": [
    "# Pearson's correlation coefficient between share price and USD - national currency rate\n",
    "utils.get_currency_share_price_correlation(share_name, usd_nat_curr, ticker_all_price)"
   ]
  },
  {
   "cell_type": "markdown",
   "id": "5c68edd4",
   "metadata": {
    "papermill": {
     "duration": 0.011195,
     "end_time": "2024-08-03T15:54:09.664374",
     "exception": false,
     "start_time": "2024-08-03T15:54:09.653179",
     "status": "completed"
    },
    "tags": []
   },
   "source": [
    "# Share price and value ratios"
   ]
  },
  {
   "cell_type": "code",
   "execution_count": null,
   "id": "5dd17703",
   "metadata": {
    "execution": {
     "iopub.execute_input": "2024-08-03T15:54:09.685431Z",
     "iopub.status.busy": "2024-08-03T15:54:09.685311Z",
     "iopub.status.idle": "2024-08-03T15:54:13.975190Z",
     "shell.execute_reply": "2024-08-03T15:54:13.974940Z"
    },
    "papermill": {
     "duration": 4.301792,
     "end_time": "2024-08-03T15:54:13.976090",
     "exception": false,
     "start_time": "2024-08-03T15:54:09.674298",
     "status": "completed"
    },
    "tags": []
   },
   "outputs": [],
   "source": [
    "for column in merged_nat_curr.columns[3:]:\n",
    "    fig, ax1 = plt.subplots(figsize=(15, 6))\n",
    "\n",
    "    ax2 = ax1.twinx()\n",
    "    ax1.plot(merged_nat_curr['real_date'], merged_nat_curr[column], color='k', label=merged_nat_curr)\n",
    "    ax2.plot(ticker_all_price.index, ticker_all_price['Close'], color='b', label=share_name)\n",
    "\n",
    "    ax1.set_xlabel('Date')\n",
    "    ax1.set_ylabel(column, color='k')\n",
    "    ax2.set_ylabel('Share price (national currency)', color='b')\n",
    "\n",
    "    plt.legend()\n",
    "    plt.show()"
   ]
  },
  {
   "cell_type": "code",
   "execution_count": null,
   "id": "a36f3112",
   "metadata": {
    "execution": {
     "iopub.execute_input": "2024-08-03T15:54:14.024791Z",
     "iopub.status.busy": "2024-08-03T15:54:14.024653Z",
     "iopub.status.idle": "2024-08-03T15:54:14.838342Z",
     "shell.execute_reply": "2024-08-03T15:54:14.838080Z"
    },
    "papermill": {
     "duration": 0.837837,
     "end_time": "2024-08-03T15:54:14.839155",
     "exception": false,
     "start_time": "2024-08-03T15:54:14.001318",
     "status": "completed"
    },
    "tags": []
   },
   "outputs": [],
   "source": [
    "# plot histograms of value parameters\n",
    "utils.plot_histogram_value_parameters(input_df=merged_nat_curr, extra_parameters=[], owned_shares=owned_shares)"
   ]
  },
  {
   "cell_type": "markdown",
   "id": "fb6a9c74",
   "metadata": {
    "papermill": {
     "duration": 0.02287,
     "end_time": "2024-08-03T15:54:14.890646",
     "exception": false,
     "start_time": "2024-08-03T15:54:14.867776",
     "status": "completed"
    },
    "tags": []
   },
   "source": [
    "## Calculate correlation between value parameters"
   ]
  },
  {
   "cell_type": "code",
   "execution_count": null,
   "id": "e83fcc9e",
   "metadata": {
    "execution": {
     "iopub.execute_input": "2024-08-03T15:54:14.941352Z",
     "iopub.status.busy": "2024-08-03T15:54:14.941207Z",
     "iopub.status.idle": "2024-08-03T15:54:14.946554Z",
     "shell.execute_reply": "2024-08-03T15:54:14.946303Z"
    },
    "papermill": {
     "duration": 0.031256,
     "end_time": "2024-08-03T15:54:14.947396",
     "exception": false,
     "start_time": "2024-08-03T15:54:14.916140",
     "status": "completed"
    },
    "tags": []
   },
   "outputs": [],
   "source": [
    "# calulate value parameters Pearson's correlation coefficient\n",
    "pd.DataFrame(merged_nat_curr, columns=['roa', 'roe', 'pe_ratio', 'pb_ratio', 'ps_ratio', 'ev_revenue', 'debt_to_equity', 'current_ratio']).corr()"
   ]
  },
  {
   "cell_type": "code",
   "execution_count": null,
   "id": "cfa6c8c1",
   "metadata": {},
   "outputs": [],
   "source": [
    "final_df = utils.get_value_stock_target_prices(\n",
    "    input_df=merged_nat_curr,\n",
    "    min_pct=0.2,\n",
    "    max_pct=0.5,\n",
    "    owned_shares=owned_shares\n",
    ")"
   ]
  }
 ],
 "metadata": {
  "kernelspec": {
   "display_name": ".venv",
   "language": "python",
   "name": "python3"
  },
  "language_info": {
   "codemirror_mode": {
    "name": "ipython",
    "version": 3
   },
   "file_extension": ".py",
   "mimetype": "text/x-python",
   "name": "python",
   "nbconvert_exporter": "python",
   "pygments_lexer": "ipython3",
   "version": "3.11.3"
  },
  "papermill": {
   "default_parameters": {},
   "duration": 17.456714,
   "end_time": "2024-08-03T15:54:15.465007",
   "environment_variables": {},
   "exception": null,
   "input_path": "../notebooks/dno_national.ipynb",
   "output_path": "../notebooks/dno_national.ipynb",
   "parameters": {},
   "start_time": "2024-08-03T15:53:58.008293",
   "version": "2.5.0"
  }
 },
 "nbformat": 4,
 "nbformat_minor": 5
}
