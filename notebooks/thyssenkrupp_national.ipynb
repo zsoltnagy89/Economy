{
 "cells": [
  {
   "cell_type": "code",
   "execution_count": null,
   "id": "dce76358",
   "metadata": {
    "execution": {
     "iopub.execute_input": "2024-08-03T15:57:02.542311Z",
     "iopub.status.busy": "2024-08-03T15:57:02.542126Z",
     "iopub.status.idle": "2024-08-03T15:57:03.308526Z",
     "shell.execute_reply": "2024-08-03T15:57:03.308274Z"
    },
    "papermill": {
     "duration": 0.779299,
     "end_time": "2024-08-03T15:57:03.309540",
     "exception": false,
     "start_time": "2024-08-03T15:57:02.530241",
     "status": "completed"
    },
    "tags": []
   },
   "outputs": [],
   "source": [
    "import pandas as pd\n",
    "import matplotlib.pyplot as plt\n",
    "import numpy as np\n",
    "\n",
    "import yfinance as yf\n",
    "import datetime\n",
    "\n",
    "from valueinvesting import utils as utils"
   ]
  },
  {
   "cell_type": "markdown",
   "id": "b6e894fe",
   "metadata": {
    "papermill": {
     "duration": 0.008229,
     "end_time": "2024-08-03T15:57:03.326348",
     "exception": false,
     "start_time": "2024-08-03T15:57:03.318119",
     "status": "completed"
    },
    "tags": []
   },
   "source": [
    "# 1. Load raw input\n",
    "## Hardcoded block"
   ]
  },
  {
   "cell_type": "code",
   "execution_count": null,
   "id": "fa941bb8",
   "metadata": {
    "execution": {
     "iopub.execute_input": "2024-08-03T15:57:03.341878Z",
     "iopub.status.busy": "2024-08-03T15:57:03.341703Z",
     "iopub.status.idle": "2024-08-03T15:57:03.343628Z",
     "shell.execute_reply": "2024-08-03T15:57:03.343377Z"
    },
    "papermill": {
     "duration": 0.008528,
     "end_time": "2024-08-03T15:57:03.344570",
     "exception": false,
     "start_time": "2024-08-03T15:57:03.336042",
     "status": "completed"
    },
    "tags": []
   },
   "outputs": [],
   "source": [
    "evaluate_last_X_years = True\n",
    "X=10\n",
    "currency_pair = 'EUR=X'\n",
    "numbers_in_currency = 'EUR'\n",
    "share_name = 'TKA.DE'"
   ]
  },
  {
   "cell_type": "markdown",
   "id": "99e9c3d7",
   "metadata": {
    "papermill": {
     "duration": 0.005508,
     "end_time": "2024-08-03T15:57:03.355432",
     "exception": false,
     "start_time": "2024-08-03T15:57:03.349924",
     "status": "completed"
    },
    "tags": []
   },
   "source": [
    "# 1.1 Calculate Share numbers from total distributed dividend (CFS) and dividend amount"
   ]
  },
  {
   "cell_type": "markdown",
   "id": "f0ef2c67",
   "metadata": {
    "papermill": {
     "duration": 0.00582,
     "end_time": "2024-08-03T15:57:03.371985",
     "exception": false,
     "start_time": "2024-08-03T15:57:03.366165",
     "status": "completed"
    },
    "tags": []
   },
   "source": [
    "# 1.2. Raw input statement data"
   ]
  },
  {
   "cell_type": "code",
   "execution_count": null,
   "id": "347c0bde",
   "metadata": {
    "execution": {
     "iopub.execute_input": "2024-08-03T15:57:03.401803Z",
     "iopub.status.busy": "2024-08-03T15:57:03.401606Z",
     "iopub.status.idle": "2024-08-03T15:57:03.415080Z",
     "shell.execute_reply": "2024-08-03T15:57:03.414692Z"
    },
    "papermill": {
     "duration": 0.034757,
     "end_time": "2024-08-03T15:57:03.416188",
     "exception": false,
     "start_time": "2024-08-03T15:57:03.381431",
     "status": "completed"
    },
    "tags": []
   },
   "outputs": [],
   "source": [
    "route = f\"../data/input/{share_name}_data.csv\"\n",
    "data = pd.read_csv(route, sep=';', parse_dates=['date', 'real_date'])\n",
    "# replace -, extend missing 0-s, fix datatype\n",
    "data = utils.replace_format_input(data)"
   ]
  },
  {
   "cell_type": "code",
   "execution_count": null,
   "id": "6436fddb",
   "metadata": {
    "execution": {
     "iopub.execute_input": "2024-08-03T15:57:03.433160Z",
     "iopub.status.busy": "2024-08-03T15:57:03.432942Z",
     "iopub.status.idle": "2024-08-03T15:57:03.436839Z",
     "shell.execute_reply": "2024-08-03T15:57:03.436583Z"
    },
    "papermill": {
     "duration": 0.012188,
     "end_time": "2024-08-03T15:57:03.437705",
     "exception": false,
     "start_time": "2024-08-03T15:57:03.425517",
     "status": "completed"
    },
    "tags": []
   },
   "outputs": [],
   "source": [
    "owned_shares = pd.read_csv('../data/extras/owned_stocks.csv', sep=';', parse_dates=['date'])\n",
    "owned_shares = owned_shares.loc[(owned_shares['stock'] == share_name) & (owned_shares['active'] == 'yes')]"
   ]
  },
  {
   "cell_type": "markdown",
   "id": "c9e24c72",
   "metadata": {
    "papermill": {
     "duration": 0.005698,
     "end_time": "2024-08-03T15:57:03.451289",
     "exception": false,
     "start_time": "2024-08-03T15:57:03.445591",
     "status": "completed"
    },
    "tags": []
   },
   "source": [
    "## (OPTIONAL) Time Filtering - Last 7 years daat"
   ]
  },
  {
   "cell_type": "code",
   "execution_count": null,
   "id": "21ac9e47",
   "metadata": {
    "execution": {
     "iopub.execute_input": "2024-08-03T15:57:03.469843Z",
     "iopub.status.busy": "2024-08-03T15:57:03.469688Z",
     "iopub.status.idle": "2024-08-03T15:57:03.480312Z",
     "shell.execute_reply": "2024-08-03T15:57:03.480050Z"
    },
    "papermill": {
     "duration": 0.021238,
     "end_time": "2024-08-03T15:57:03.481201",
     "exception": false,
     "start_time": "2024-08-03T15:57:03.459963",
     "status": "completed"
    },
    "tags": []
   },
   "outputs": [],
   "source": [
    "if evaluate_last_X_years:\n",
    "    data = data[data['date'] > datetime.datetime.today() - datetime.timedelta(days=X*366+93)]\n",
    "    data = data.reset_index(drop=True)\n",
    "\n",
    "data.head()"
   ]
  },
  {
   "cell_type": "markdown",
   "id": "33301ce8",
   "metadata": {
    "papermill": {
     "duration": 0.005433,
     "end_time": "2024-08-03T15:57:03.492651",
     "exception": false,
     "start_time": "2024-08-03T15:57:03.487218",
     "status": "completed"
    },
    "tags": []
   },
   "source": [
    "## Calculate date when quaterly reports could be available"
   ]
  },
  {
   "cell_type": "code",
   "execution_count": null,
   "id": "2af1e75e",
   "metadata": {
    "execution": {
     "iopub.execute_input": "2024-08-03T15:57:03.504382Z",
     "iopub.status.busy": "2024-08-03T15:57:03.504242Z",
     "iopub.status.idle": "2024-08-03T15:57:03.506150Z",
     "shell.execute_reply": "2024-08-03T15:57:03.505784Z"
    },
    "papermill": {
     "duration": 0.009159,
     "end_time": "2024-08-03T15:57:03.507102",
     "exception": false,
     "start_time": "2024-08-03T15:57:03.497943",
     "status": "completed"
    },
    "tags": []
   },
   "outputs": [],
   "source": [
    "data = utils.calculate_real_date(data)"
   ]
  },
  {
   "cell_type": "markdown",
   "id": "46509ef6",
   "metadata": {
    "papermill": {
     "duration": 0.005891,
     "end_time": "2024-08-03T15:57:03.518731",
     "exception": false,
     "start_time": "2024-08-03T15:57:03.512840",
     "status": "completed"
    },
    "tags": []
   },
   "source": [
    "# 2. Filter out unnecesary columns"
   ]
  },
  {
   "cell_type": "code",
   "execution_count": null,
   "id": "3e3fec1c",
   "metadata": {
    "execution": {
     "iopub.execute_input": "2024-08-03T15:57:03.531974Z",
     "iopub.status.busy": "2024-08-03T15:57:03.531835Z",
     "iopub.status.idle": "2024-08-03T15:57:03.538149Z",
     "shell.execute_reply": "2024-08-03T15:57:03.537907Z"
    },
    "papermill": {
     "duration": 0.014158,
     "end_time": "2024-08-03T15:57:03.538945",
     "exception": false,
     "start_time": "2024-08-03T15:57:03.524787",
     "status": "completed"
    },
    "tags": []
   },
   "outputs": [],
   "source": [
    "data = utils.filter_raw_data(data)\n",
    "data.tail()"
   ]
  },
  {
   "cell_type": "markdown",
   "id": "c771aac3",
   "metadata": {
    "papermill": {
     "duration": 0.006425,
     "end_time": "2024-08-03T15:57:03.551817",
     "exception": false,
     "start_time": "2024-08-03T15:57:03.545392",
     "status": "completed"
    },
    "tags": []
   },
   "source": [
    "## Pull historical average USD national currency rates and add to the dataframe"
   ]
  },
  {
   "cell_type": "code",
   "execution_count": null,
   "id": "03250c18",
   "metadata": {
    "execution": {
     "iopub.execute_input": "2024-08-03T15:57:03.563955Z",
     "iopub.status.busy": "2024-08-03T15:57:03.563740Z",
     "iopub.status.idle": "2024-08-03T15:57:11.567434Z",
     "shell.execute_reply": "2024-08-03T15:57:11.566896Z"
    },
    "papermill": {
     "duration": 8.011776,
     "end_time": "2024-08-03T15:57:11.569170",
     "exception": false,
     "start_time": "2024-08-03T15:57:03.557394",
     "status": "completed"
    },
    "tags": []
   },
   "outputs": [],
   "source": [
    "data['usd_nat_currency'] = utils.daily_price(\n",
    "    ticker=currency_pair,\n",
    "    end=data['date'],\n",
    "    days_earlier=90\n",
    "    )\n",
    "\n",
    "# drop rows, when USD rates wasn't available\n",
    "data = data[data['usd_nat_currency'].notna()]\n",
    "\n",
    "data.tail()"
   ]
  },
  {
   "cell_type": "markdown",
   "id": "9811bf7c",
   "metadata": {
    "papermill": {
     "duration": 0.007393,
     "end_time": "2024-08-03T15:57:11.587330",
     "exception": false,
     "start_time": "2024-08-03T15:57:11.579937",
     "status": "completed"
    },
    "tags": []
   },
   "source": [
    "## Convert USD values related to IS, BS, CFS to national currency"
   ]
  },
  {
   "cell_type": "code",
   "execution_count": null,
   "id": "d781f647",
   "metadata": {
    "execution": {
     "iopub.execute_input": "2024-08-03T15:57:11.604416Z",
     "iopub.status.busy": "2024-08-03T15:57:11.604197Z",
     "iopub.status.idle": "2024-08-03T15:57:11.613073Z",
     "shell.execute_reply": "2024-08-03T15:57:11.612730Z"
    },
    "papermill": {
     "duration": 0.018877,
     "end_time": "2024-08-03T15:57:11.614222",
     "exception": false,
     "start_time": "2024-08-03T15:57:11.595345",
     "status": "completed"
    },
    "tags": []
   },
   "outputs": [],
   "source": [
    "# convert columns into national currency if necessary\n",
    "if numbers_in_currency == 'USD':\n",
    "    data_nat_curr = utils.convert_national_currency(input_data=data, currency=data)\n",
    "else:\n",
    "    data_nat_curr = data.copy()\n",
    "data_nat_curr.tail()"
   ]
  },
  {
   "cell_type": "markdown",
   "id": "6cead488",
   "metadata": {
    "papermill": {
     "duration": 0.006995,
     "end_time": "2024-08-03T15:57:11.629396",
     "exception": false,
     "start_time": "2024-08-03T15:57:11.622401",
     "status": "completed"
    },
    "tags": []
   },
   "source": [
    "# 3. Calculate input to Value Raios (eps, bv per share, fcf)\n",
    "## filter out unwanted columns"
   ]
  },
  {
   "cell_type": "code",
   "execution_count": null,
   "id": "6bf3c6f3",
   "metadata": {
    "execution": {
     "iopub.execute_input": "2024-08-03T15:57:11.644685Z",
     "iopub.status.busy": "2024-08-03T15:57:11.644558Z",
     "iopub.status.idle": "2024-08-03T15:57:11.647855Z",
     "shell.execute_reply": "2024-08-03T15:57:11.647596Z"
    },
    "papermill": {
     "duration": 0.012388,
     "end_time": "2024-08-03T15:57:11.648666",
     "exception": false,
     "start_time": "2024-08-03T15:57:11.636278",
     "status": "completed"
    },
    "tags": []
   },
   "outputs": [],
   "source": [
    "filtered_nat_curr = utils.calculate_input_value_ratios(data_nat_curr)"
   ]
  },
  {
   "cell_type": "markdown",
   "id": "f723b931",
   "metadata": {
    "papermill": {
     "duration": 0.006305,
     "end_time": "2024-08-03T15:57:11.660635",
     "exception": false,
     "start_time": "2024-08-03T15:57:11.654330",
     "status": "completed"
    },
    "tags": []
   },
   "source": [
    "## Calculate input values to value ratios"
   ]
  },
  {
   "cell_type": "code",
   "execution_count": null,
   "id": "fbb14bc5",
   "metadata": {
    "execution": {
     "iopub.execute_input": "2024-08-03T15:57:11.671754Z",
     "iopub.status.busy": "2024-08-03T15:57:11.671623Z",
     "iopub.status.idle": "2024-08-03T15:57:11.674025Z",
     "shell.execute_reply": "2024-08-03T15:57:11.673786Z"
    },
    "papermill": {
     "duration": 0.008882,
     "end_time": "2024-08-03T15:57:11.674816",
     "exception": false,
     "start_time": "2024-08-03T15:57:11.665934",
     "status": "completed"
    },
    "tags": []
   },
   "outputs": [],
   "source": [
    "ratios_nat_curr = utils.ratios_input_filter(filtered_nat_curr)"
   ]
  },
  {
   "cell_type": "markdown",
   "id": "9140ed0b",
   "metadata": {
    "papermill": {
     "duration": 0.005519,
     "end_time": "2024-08-03T15:57:11.686419",
     "exception": false,
     "start_time": "2024-08-03T15:57:11.680900",
     "status": "completed"
    },
    "tags": []
   },
   "source": [
    "## Calculate performance parameters (current ratio, ROA, ROE, margins, D/E)"
   ]
  },
  {
   "cell_type": "code",
   "execution_count": null,
   "id": "cb375487",
   "metadata": {
    "execution": {
     "iopub.execute_input": "2024-08-03T15:57:11.700669Z",
     "iopub.status.busy": "2024-08-03T15:57:11.700529Z",
     "iopub.status.idle": "2024-08-03T15:57:11.707215Z",
     "shell.execute_reply": "2024-08-03T15:57:11.706910Z"
    },
    "papermill": {
     "duration": 0.014166,
     "end_time": "2024-08-03T15:57:11.708147",
     "exception": false,
     "start_time": "2024-08-03T15:57:11.693981",
     "status": "completed"
    },
    "tags": []
   },
   "outputs": [],
   "source": [
    "ratios_nat_curr = utils.evaluate_performance(input=filtered_nat_curr, output=ratios_nat_curr)"
   ]
  },
  {
   "cell_type": "markdown",
   "id": "d5d5143b",
   "metadata": {
    "papermill": {
     "duration": 0.005645,
     "end_time": "2024-08-03T15:57:11.721082",
     "exception": false,
     "start_time": "2024-08-03T15:57:11.715437",
     "status": "completed"
    },
    "tags": []
   },
   "source": [
    "# 4. Pull historical share prices and merge with sattement data"
   ]
  },
  {
   "cell_type": "code",
   "execution_count": null,
   "id": "773cc50f",
   "metadata": {
    "execution": {
     "iopub.execute_input": "2024-08-03T15:57:11.733294Z",
     "iopub.status.busy": "2024-08-03T15:57:11.733156Z",
     "iopub.status.idle": "2024-08-03T15:57:12.045287Z",
     "shell.execute_reply": "2024-08-03T15:57:12.044914Z"
    },
    "papermill": {
     "duration": 0.319542,
     "end_time": "2024-08-03T15:57:12.046494",
     "exception": false,
     "start_time": "2024-08-03T15:57:11.726952",
     "status": "completed"
    },
    "tags": []
   },
   "outputs": [],
   "source": [
    "# pull weekly share prices and merge with the value ratios\n",
    "merged_nat_curr = utils.add_share_prices_to_value_ratios(share_name, data, ratios_nat_curr)\n",
    "merged_nat_curr.head()"
   ]
  },
  {
   "cell_type": "markdown",
   "id": "b2ab3fa5",
   "metadata": {
    "papermill": {
     "duration": 0.014473,
     "end_time": "2024-08-03T15:57:12.076446",
     "exception": false,
     "start_time": "2024-08-03T15:57:12.061973",
     "status": "completed"
    },
    "tags": []
   },
   "source": [
    "# Calculate price ratios (P/E, P/B, P/S, P/FCF)"
   ]
  },
  {
   "cell_type": "code",
   "execution_count": null,
   "id": "42ad9f99",
   "metadata": {
    "execution": {
     "iopub.execute_input": "2024-08-03T15:57:12.120544Z",
     "iopub.status.busy": "2024-08-03T15:57:12.120368Z",
     "iopub.status.idle": "2024-08-03T15:57:12.132539Z",
     "shell.execute_reply": "2024-08-03T15:57:12.132154Z"
    },
    "papermill": {
     "duration": 0.041313,
     "end_time": "2024-08-03T15:57:12.133536",
     "exception": false,
     "start_time": "2024-08-03T15:57:12.092223",
     "status": "completed"
    },
    "tags": []
   },
   "outputs": [],
   "source": [
    "merged_nat_curr = utils.price_ratios(merged_nat_curr)\n",
    "merged_nat_curr.head()"
   ]
  },
  {
   "cell_type": "markdown",
   "id": "39ff44b4",
   "metadata": {
    "papermill": {
     "duration": 0.012032,
     "end_time": "2024-08-03T15:57:12.155598",
     "exception": false,
     "start_time": "2024-08-03T15:57:12.143566",
     "status": "completed"
    },
    "tags": []
   },
   "source": [
    "# Calculate Dividend yield and currency-share price correlation"
   ]
  },
  {
   "cell_type": "code",
   "execution_count": null,
   "id": "d2b7df17",
   "metadata": {
    "execution": {
     "iopub.execute_input": "2024-08-03T15:57:12.178852Z",
     "iopub.status.busy": "2024-08-03T15:57:12.178696Z",
     "iopub.status.idle": "2024-08-03T15:57:12.515199Z",
     "shell.execute_reply": "2024-08-03T15:57:12.514738Z"
    },
    "papermill": {
     "duration": 0.348638,
     "end_time": "2024-08-03T15:57:12.516904",
     "exception": false,
     "start_time": "2024-08-03T15:57:12.168266",
     "status": "completed"
    },
    "tags": []
   },
   "outputs": [],
   "source": [
    "# get daily historical USD-national currency rates\n",
    "usd_nat_curr = utils.get_historical_currency_rate(currency_pair, merged_nat_curr)"
   ]
  },
  {
   "cell_type": "code",
   "execution_count": null,
   "id": "881512c2",
   "metadata": {
    "execution": {
     "iopub.execute_input": "2024-08-03T15:57:12.557019Z",
     "iopub.status.busy": "2024-08-03T15:57:12.556782Z",
     "iopub.status.idle": "2024-08-03T15:57:13.041110Z",
     "shell.execute_reply": "2024-08-03T15:57:13.040421Z"
    },
    "papermill": {
     "duration": 0.50478,
     "end_time": "2024-08-03T15:57:13.042224",
     "exception": false,
     "start_time": "2024-08-03T15:57:12.537444",
     "status": "completed"
    },
    "tags": []
   },
   "outputs": [],
   "source": [
    "# get share prices and dividend yield data\n",
    "ticker_all_price = utils.get_historical_share_dividend(share_name, merged_nat_curr)"
   ]
  },
  {
   "cell_type": "code",
   "execution_count": null,
   "id": "22ead59b",
   "metadata": {
    "execution": {
     "iopub.execute_input": "2024-08-03T15:57:13.054942Z",
     "iopub.status.busy": "2024-08-03T15:57:13.054832Z",
     "iopub.status.idle": "2024-08-03T15:57:13.230911Z",
     "shell.execute_reply": "2024-08-03T15:57:13.230591Z"
    },
    "papermill": {
     "duration": 0.18318,
     "end_time": "2024-08-03T15:57:13.231822",
     "exception": false,
     "start_time": "2024-08-03T15:57:13.048642",
     "status": "completed"
    },
    "tags": []
   },
   "outputs": [],
   "source": [
    "# Pearson's correlation coefficient between share price and USD - national currency rate\n",
    "utils.get_currency_share_price_correlation(share_name, usd_nat_curr, ticker_all_price)"
   ]
  },
  {
   "cell_type": "markdown",
   "id": "59eeab14",
   "metadata": {
    "papermill": {
     "duration": 0.00864,
     "end_time": "2024-08-03T15:57:13.248350",
     "exception": false,
     "start_time": "2024-08-03T15:57:13.239710",
     "status": "completed"
    },
    "tags": []
   },
   "source": [
    "# Share price and value ratios"
   ]
  },
  {
   "cell_type": "code",
   "execution_count": null,
   "id": "1d8024a9",
   "metadata": {
    "execution": {
     "iopub.execute_input": "2024-08-03T15:57:13.262313Z",
     "iopub.status.busy": "2024-08-03T15:57:13.262187Z",
     "iopub.status.idle": "2024-08-03T15:57:17.488783Z",
     "shell.execute_reply": "2024-08-03T15:57:17.488503Z"
    },
    "papermill": {
     "duration": 4.234857,
     "end_time": "2024-08-03T15:57:17.489649",
     "exception": false,
     "start_time": "2024-08-03T15:57:13.254792",
     "status": "completed"
    },
    "tags": []
   },
   "outputs": [],
   "source": [
    "for column in merged_nat_curr.columns[3:]:\n",
    "    fig, ax1 = plt.subplots(figsize=(15, 6))\n",
    "\n",
    "    ax2 = ax1.twinx()\n",
    "    ax1.plot(merged_nat_curr['real_date'], merged_nat_curr[column], color='k', label=merged_nat_curr)\n",
    "    ax2.plot(ticker_all_price.index, ticker_all_price['Close'], color='b', label=share_name)\n",
    "\n",
    "    ax1.set_xlabel('Date')\n",
    "    ax1.set_ylabel(column, color='k')\n",
    "    ax2.set_ylabel('Share price (national currency)', color='b')\n",
    "\n",
    "    plt.legend()\n",
    "    plt.show()"
   ]
  },
  {
   "cell_type": "code",
   "execution_count": null,
   "id": "fd1a949f",
   "metadata": {
    "execution": {
     "iopub.execute_input": "2024-08-03T15:57:17.535198Z",
     "iopub.status.busy": "2024-08-03T15:57:17.535061Z",
     "iopub.status.idle": "2024-08-03T15:57:18.395836Z",
     "shell.execute_reply": "2024-08-03T15:57:18.395526Z"
    },
    "papermill": {
     "duration": 0.883077,
     "end_time": "2024-08-03T15:57:18.396934",
     "exception": false,
     "start_time": "2024-08-03T15:57:17.513857",
     "status": "completed"
    },
    "tags": []
   },
   "outputs": [],
   "source": [
    "# plot histograms of value parameters\n",
    "utils.plot_histogram_value_parameters(input_df=merged_nat_curr, extra_parameters=[], owned_shares=owned_shares)"
   ]
  },
  {
   "cell_type": "markdown",
   "id": "c4eb06df",
   "metadata": {
    "papermill": {
     "duration": 0.020003,
     "end_time": "2024-08-03T15:57:18.437525",
     "exception": false,
     "start_time": "2024-08-03T15:57:18.417522",
     "status": "completed"
    },
    "tags": []
   },
   "source": [
    "## Calculate correlation between value parameters"
   ]
  },
  {
   "cell_type": "code",
   "execution_count": null,
   "id": "6270816c",
   "metadata": {
    "execution": {
     "iopub.execute_input": "2024-08-03T15:57:18.489277Z",
     "iopub.status.busy": "2024-08-03T15:57:18.489052Z",
     "iopub.status.idle": "2024-08-03T15:57:18.494355Z",
     "shell.execute_reply": "2024-08-03T15:57:18.494138Z"
    },
    "papermill": {
     "duration": 0.038346,
     "end_time": "2024-08-03T15:57:18.495142",
     "exception": false,
     "start_time": "2024-08-03T15:57:18.456796",
     "status": "completed"
    },
    "tags": []
   },
   "outputs": [],
   "source": [
    "# calulate value parameters Pearson's correlation coefficient\n",
    "pd.DataFrame(merged_nat_curr, columns=['roa', 'roe', 'pe_ratio', 'pb_ratio', 'ps_ratio', 'ev_revenue', 'debt_to_equity', 'current_ratio']).corr()"
   ]
  },
  {
   "cell_type": "code",
   "execution_count": null,
   "id": "74097c1f",
   "metadata": {},
   "outputs": [],
   "source": [
    "final_df = utils.get_value_stock_target_prices(\n",
    "    input_df=merged_nat_curr,\n",
    "    min_pct=0.2,\n",
    "    max_pct=0.5,\n",
    "    owned_shares=owned_shares\n",
    ")"
   ]
  }
 ],
 "metadata": {
  "kernelspec": {
   "display_name": ".venv",
   "language": "python",
   "name": "python3"
  },
  "language_info": {
   "codemirror_mode": {
    "name": "ipython",
    "version": 3
   },
   "file_extension": ".py",
   "mimetype": "text/x-python",
   "name": "python",
   "nbconvert_exporter": "python",
   "pygments_lexer": "ipython3",
   "version": "3.11.3"
  },
  "papermill": {
   "default_parameters": {},
   "duration": 17.630523,
   "end_time": "2024-08-03T15:57:18.943654",
   "environment_variables": {},
   "exception": null,
   "input_path": "../notebooks/thyssenkrupp_national.ipynb",
   "output_path": "../notebooks/thyssenkrupp_national.ipynb",
   "parameters": {},
   "start_time": "2024-08-03T15:57:01.313131",
   "version": "2.5.0"
  }
 },
 "nbformat": 4,
 "nbformat_minor": 5
}
