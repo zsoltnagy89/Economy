{
 "cells": [
  {
   "cell_type": "code",
   "execution_count": null,
   "id": "99868504",
   "metadata": {
    "execution": {
     "iopub.execute_input": "2024-08-14T14:44:02.896205Z",
     "iopub.status.busy": "2024-08-14T14:44:02.896023Z",
     "iopub.status.idle": "2024-08-14T14:44:03.588360Z",
     "shell.execute_reply": "2024-08-14T14:44:03.588057Z"
    },
    "papermill": {
     "duration": 0.704967,
     "end_time": "2024-08-14T14:44:03.589396",
     "exception": false,
     "start_time": "2024-08-14T14:44:02.884429",
     "status": "completed"
    },
    "tags": []
   },
   "outputs": [],
   "source": [
    "import pandas as pd\n",
    "import matplotlib.pyplot as plt\n",
    "import numpy as np\n",
    "\n",
    "import yfinance as yf\n",
    "import datetime\n",
    "\n",
    "from valueinvesting import utils as utils"
   ]
  },
  {
   "cell_type": "markdown",
   "id": "a2ef3acb",
   "metadata": {
    "papermill": {
     "duration": 0.009389,
     "end_time": "2024-08-14T14:44:03.613713",
     "exception": false,
     "start_time": "2024-08-14T14:44:03.604324",
     "status": "completed"
    },
    "tags": []
   },
   "source": [
    "# 1. Load raw input\n",
    "## Hardcoded block"
   ]
  },
  {
   "cell_type": "code",
   "execution_count": null,
   "id": "46250fe1",
   "metadata": {
    "execution": {
     "iopub.execute_input": "2024-08-14T14:44:03.636132Z",
     "iopub.status.busy": "2024-08-14T14:44:03.635911Z",
     "iopub.status.idle": "2024-08-14T14:44:03.638028Z",
     "shell.execute_reply": "2024-08-14T14:44:03.637621Z"
    },
    "papermill": {
     "duration": 0.014527,
     "end_time": "2024-08-14T14:44:03.639117",
     "exception": false,
     "start_time": "2024-08-14T14:44:03.624590",
     "status": "completed"
    },
    "tags": []
   },
   "outputs": [],
   "source": [
    "evaluate_last_X_years = False\n",
    "X=10\n",
    "currency_pair = 'EUR=X'\n",
    "numbers_in_currency = 'EUR'\n",
    "share_name = 'RI.PA'"
   ]
  },
  {
   "cell_type": "markdown",
   "id": "dcc12f8e",
   "metadata": {
    "papermill": {
     "duration": 0.009384,
     "end_time": "2024-08-14T14:44:03.654628",
     "exception": false,
     "start_time": "2024-08-14T14:44:03.645244",
     "status": "completed"
    },
    "tags": []
   },
   "source": [
    "# 1.1 Calculate Share numbers from total distributed dividend (CFS) and dividend amount"
   ]
  },
  {
   "cell_type": "markdown",
   "id": "6afccc41",
   "metadata": {
    "papermill": {
     "duration": 0.009775,
     "end_time": "2024-08-14T14:44:03.670680",
     "exception": false,
     "start_time": "2024-08-14T14:44:03.660905",
     "status": "completed"
    },
    "tags": []
   },
   "source": [
    "# 1.2. Raw input statement data"
   ]
  },
  {
   "cell_type": "code",
   "execution_count": null,
   "id": "45550beb",
   "metadata": {
    "execution": {
     "iopub.execute_input": "2024-08-14T14:44:03.683541Z",
     "iopub.status.busy": "2024-08-14T14:44:03.683388Z",
     "iopub.status.idle": "2024-08-14T14:44:03.694482Z",
     "shell.execute_reply": "2024-08-14T14:44:03.694140Z"
    },
    "papermill": {
     "duration": 0.01879,
     "end_time": "2024-08-14T14:44:03.695650",
     "exception": false,
     "start_time": "2024-08-14T14:44:03.676860",
     "status": "completed"
    },
    "tags": []
   },
   "outputs": [],
   "source": [
    "route = f\"../data/input/{share_name}_data.csv\"\n",
    "data = pd.read_csv(route, sep=';', parse_dates=['date', 'real_date'])\n",
    "# replace -, extend missing 0-s, fix datatype\n",
    "data = utils.replace_format_input(data)"
   ]
  },
  {
   "cell_type": "code",
   "execution_count": null,
   "id": "dc43596b",
   "metadata": {
    "execution": {
     "iopub.execute_input": "2024-08-14T14:44:03.709128Z",
     "iopub.status.busy": "2024-08-14T14:44:03.708890Z",
     "iopub.status.idle": "2024-08-14T14:44:03.713140Z",
     "shell.execute_reply": "2024-08-14T14:44:03.712853Z"
    },
    "papermill": {
     "duration": 0.012121,
     "end_time": "2024-08-14T14:44:03.714133",
     "exception": false,
     "start_time": "2024-08-14T14:44:03.702012",
     "status": "completed"
    },
    "tags": []
   },
   "outputs": [],
   "source": [
    "owned_shares = pd.read_csv('../data/extras/owned_stocks.csv', sep=';', parse_dates=['date'])\n",
    "owned_shares = owned_shares.loc[(owned_shares['stock'] == share_name) & (owned_shares['active'] == 'yes')]"
   ]
  },
  {
   "cell_type": "markdown",
   "id": "60bf1c0f",
   "metadata": {
    "papermill": {
     "duration": 0.009411,
     "end_time": "2024-08-14T14:44:03.729873",
     "exception": false,
     "start_time": "2024-08-14T14:44:03.720462",
     "status": "completed"
    },
    "tags": []
   },
   "source": [
    "## (OPTIONAL) Time Filtering - Last 7 years daat"
   ]
  },
  {
   "cell_type": "code",
   "execution_count": null,
   "id": "92197c1b",
   "metadata": {
    "execution": {
     "iopub.execute_input": "2024-08-14T14:44:03.749589Z",
     "iopub.status.busy": "2024-08-14T14:44:03.749444Z",
     "iopub.status.idle": "2024-08-14T14:44:03.759540Z",
     "shell.execute_reply": "2024-08-14T14:44:03.759296Z"
    },
    "papermill": {
     "duration": 0.021942,
     "end_time": "2024-08-14T14:44:03.760392",
     "exception": false,
     "start_time": "2024-08-14T14:44:03.738450",
     "status": "completed"
    },
    "tags": []
   },
   "outputs": [],
   "source": [
    "if evaluate_last_X_years:\n",
    "    data = data[data['date'] > datetime.datetime.today() - datetime.timedelta(days=X*366+93)]\n",
    "    data = data.reset_index(drop=True)\n",
    "\n",
    "data.head()"
   ]
  },
  {
   "cell_type": "markdown",
   "id": "a2489838",
   "metadata": {
    "papermill": {
     "duration": 0.009833,
     "end_time": "2024-08-14T14:44:03.780349",
     "exception": false,
     "start_time": "2024-08-14T14:44:03.770516",
     "status": "completed"
    },
    "tags": []
   },
   "source": [
    "## Calculate date when quaterly reports could be available"
   ]
  },
  {
   "cell_type": "code",
   "execution_count": null,
   "id": "3b901cd1",
   "metadata": {
    "execution": {
     "iopub.execute_input": "2024-08-14T14:44:03.801128Z",
     "iopub.status.busy": "2024-08-14T14:44:03.800984Z",
     "iopub.status.idle": "2024-08-14T14:44:03.802994Z",
     "shell.execute_reply": "2024-08-14T14:44:03.802692Z"
    },
    "papermill": {
     "duration": 0.014227,
     "end_time": "2024-08-14T14:44:03.803880",
     "exception": false,
     "start_time": "2024-08-14T14:44:03.789653",
     "status": "completed"
    },
    "tags": []
   },
   "outputs": [],
   "source": [
    "data = utils.calculate_real_date(data)"
   ]
  },
  {
   "cell_type": "markdown",
   "id": "c7a588e7",
   "metadata": {
    "papermill": {
     "duration": 0.009202,
     "end_time": "2024-08-14T14:44:03.823253",
     "exception": false,
     "start_time": "2024-08-14T14:44:03.814051",
     "status": "completed"
    },
    "tags": []
   },
   "source": [
    "# 2. Filter out unnecesary columns"
   ]
  },
  {
   "cell_type": "code",
   "execution_count": null,
   "id": "571d6d7c",
   "metadata": {
    "execution": {
     "iopub.execute_input": "2024-08-14T14:44:03.843140Z",
     "iopub.status.busy": "2024-08-14T14:44:03.843001Z",
     "iopub.status.idle": "2024-08-14T14:44:03.849554Z",
     "shell.execute_reply": "2024-08-14T14:44:03.849292Z"
    },
    "papermill": {
     "duration": 0.017632,
     "end_time": "2024-08-14T14:44:03.850373",
     "exception": false,
     "start_time": "2024-08-14T14:44:03.832741",
     "status": "completed"
    },
    "tags": []
   },
   "outputs": [],
   "source": [
    "data = utils.filter_raw_data(data)\n",
    "data.tail()"
   ]
  },
  {
   "cell_type": "markdown",
   "id": "e13a19c5",
   "metadata": {
    "papermill": {
     "duration": 0.009963,
     "end_time": "2024-08-14T14:44:03.870209",
     "exception": false,
     "start_time": "2024-08-14T14:44:03.860246",
     "status": "completed"
    },
    "tags": []
   },
   "source": [
    "## Pull historical average USD national currency rates and add to the dataframe"
   ]
  },
  {
   "cell_type": "code",
   "execution_count": null,
   "id": "e2a40309",
   "metadata": {
    "execution": {
     "iopub.execute_input": "2024-08-14T14:44:03.883433Z",
     "iopub.status.busy": "2024-08-14T14:44:03.883288Z",
     "iopub.status.idle": "2024-08-14T14:44:07.890129Z",
     "shell.execute_reply": "2024-08-14T14:44:07.889891Z"
    },
    "papermill": {
     "duration": 4.014272,
     "end_time": "2024-08-14T14:44:07.891009",
     "exception": false,
     "start_time": "2024-08-14T14:44:03.876737",
     "status": "completed"
    },
    "tags": []
   },
   "outputs": [],
   "source": [
    "if currency_pair != 'USD=X':\n",
    "    data['usd_nat_currency'] = utils.daily_price(\n",
    "        ticker=currency_pair,\n",
    "        end=data['date'],\n",
    "        days_earlier=90\n",
    "        )\n",
    "else:\n",
    "    data['usd_nat_currency'] = [1 for x in range(len(data))]\n",
    "\n",
    "# drop rows, when USD rates wasn't available\n",
    "data = data[data['usd_nat_currency'].notna()]\n",
    "\n",
    "data.tail()"
   ]
  },
  {
   "cell_type": "markdown",
   "id": "e2966eba",
   "metadata": {
    "papermill": {
     "duration": 0.004955,
     "end_time": "2024-08-14T14:44:07.902245",
     "exception": false,
     "start_time": "2024-08-14T14:44:07.897290",
     "status": "completed"
    },
    "tags": []
   },
   "source": [
    "## Convert USD values related to IS, BS, CFS to national currency"
   ]
  },
  {
   "cell_type": "code",
   "execution_count": null,
   "id": "8cb017d3",
   "metadata": {
    "execution": {
     "iopub.execute_input": "2024-08-14T14:44:07.915521Z",
     "iopub.status.busy": "2024-08-14T14:44:07.915379Z",
     "iopub.status.idle": "2024-08-14T14:44:07.921892Z",
     "shell.execute_reply": "2024-08-14T14:44:07.921656Z"
    },
    "papermill": {
     "duration": 0.014323,
     "end_time": "2024-08-14T14:44:07.922798",
     "exception": false,
     "start_time": "2024-08-14T14:44:07.908475",
     "status": "completed"
    },
    "tags": []
   },
   "outputs": [],
   "source": [
    "# convert columns into national currency if necessary\n",
    "if numbers_in_currency == 'USD':\n",
    "    data_nat_curr = utils.convert_national_currency(input_data=data, currency=data)\n",
    "else:\n",
    "    data_nat_curr = data.copy()\n",
    "data_nat_curr.tail()"
   ]
  },
  {
   "cell_type": "markdown",
   "id": "92e7ed8b",
   "metadata": {
    "papermill": {
     "duration": 0.005462,
     "end_time": "2024-08-14T14:44:07.934067",
     "exception": false,
     "start_time": "2024-08-14T14:44:07.928605",
     "status": "completed"
    },
    "tags": []
   },
   "source": [
    "# 3. Calculate input to Value Raios (eps, bv per share, fcf)\n",
    "## filter out unwanted columns"
   ]
  },
  {
   "cell_type": "code",
   "execution_count": null,
   "id": "ef14427b",
   "metadata": {
    "execution": {
     "iopub.execute_input": "2024-08-14T14:44:07.946855Z",
     "iopub.status.busy": "2024-08-14T14:44:07.946645Z",
     "iopub.status.idle": "2024-08-14T14:44:07.984141Z",
     "shell.execute_reply": "2024-08-14T14:44:07.983790Z"
    },
    "papermill": {
     "duration": 0.044866,
     "end_time": "2024-08-14T14:44:07.985235",
     "exception": false,
     "start_time": "2024-08-14T14:44:07.940369",
     "status": "completed"
    },
    "tags": []
   },
   "outputs": [],
   "source": [
    "filtered_nat_curr = utils.calculate_input_value_ratios(data_nat_curr, report='half-year')"
   ]
  },
  {
   "cell_type": "markdown",
   "id": "822d7ef6",
   "metadata": {
    "papermill": {
     "duration": 0.006626,
     "end_time": "2024-08-14T14:44:07.999567",
     "exception": false,
     "start_time": "2024-08-14T14:44:07.992941",
     "status": "completed"
    },
    "tags": []
   },
   "source": [
    "## Calculate input values to value ratios"
   ]
  },
  {
   "cell_type": "code",
   "execution_count": null,
   "id": "c0688ac2",
   "metadata": {
    "execution": {
     "iopub.execute_input": "2024-08-14T14:44:08.014107Z",
     "iopub.status.busy": "2024-08-14T14:44:08.013882Z",
     "iopub.status.idle": "2024-08-14T14:44:08.016351Z",
     "shell.execute_reply": "2024-08-14T14:44:08.016082Z"
    },
    "papermill": {
     "duration": 0.010365,
     "end_time": "2024-08-14T14:44:08.017262",
     "exception": false,
     "start_time": "2024-08-14T14:44:08.006897",
     "status": "completed"
    },
    "tags": []
   },
   "outputs": [],
   "source": [
    "ratios_nat_curr = utils.ratios_input_filter(filtered_nat_curr)"
   ]
  },
  {
   "cell_type": "markdown",
   "id": "73e45a54",
   "metadata": {
    "papermill": {
     "duration": 0.007328,
     "end_time": "2024-08-14T14:44:08.031432",
     "exception": false,
     "start_time": "2024-08-14T14:44:08.024104",
     "status": "completed"
    },
    "tags": []
   },
   "source": [
    "## Calculate performance parameters (current ratio, ROA, ROE, margins, D/E)"
   ]
  },
  {
   "cell_type": "code",
   "execution_count": null,
   "id": "7c330882",
   "metadata": {
    "execution": {
     "iopub.execute_input": "2024-08-14T14:44:08.045100Z",
     "iopub.status.busy": "2024-08-14T14:44:08.044928Z",
     "iopub.status.idle": "2024-08-14T14:44:08.051637Z",
     "shell.execute_reply": "2024-08-14T14:44:08.051402Z"
    },
    "papermill": {
     "duration": 0.014596,
     "end_time": "2024-08-14T14:44:08.052602",
     "exception": false,
     "start_time": "2024-08-14T14:44:08.038006",
     "status": "completed"
    },
    "tags": []
   },
   "outputs": [],
   "source": [
    "ratios_nat_curr = utils.evaluate_performance(input=filtered_nat_curr, output=ratios_nat_curr, report='half-year')"
   ]
  },
  {
   "cell_type": "markdown",
   "id": "daf4fac5",
   "metadata": {
    "papermill": {
     "duration": 0.0056,
     "end_time": "2024-08-14T14:44:08.064421",
     "exception": false,
     "start_time": "2024-08-14T14:44:08.058821",
     "status": "completed"
    },
    "tags": []
   },
   "source": [
    "# 4. Pull historical share prices and merge with sattement data"
   ]
  },
  {
   "cell_type": "code",
   "execution_count": null,
   "id": "6621b7e4",
   "metadata": {
    "execution": {
     "iopub.execute_input": "2024-08-14T14:44:08.076912Z",
     "iopub.status.busy": "2024-08-14T14:44:08.076790Z",
     "iopub.status.idle": "2024-08-14T14:44:08.348308Z",
     "shell.execute_reply": "2024-08-14T14:44:08.347893Z"
    },
    "papermill": {
     "duration": 0.279337,
     "end_time": "2024-08-14T14:44:08.349681",
     "exception": false,
     "start_time": "2024-08-14T14:44:08.070344",
     "status": "completed"
    },
    "tags": []
   },
   "outputs": [],
   "source": [
    "# pull weekly share prices and merge with the value ratios\n",
    "merged_nat_curr = utils.add_share_prices_to_value_ratios(share_name, data, ratios_nat_curr)\n",
    "merged_nat_curr.head()"
   ]
  },
  {
   "cell_type": "markdown",
   "id": "fc2132bd",
   "metadata": {
    "papermill": {
     "duration": 0.013109,
     "end_time": "2024-08-14T14:44:08.378742",
     "exception": false,
     "start_time": "2024-08-14T14:44:08.365633",
     "status": "completed"
    },
    "tags": []
   },
   "source": [
    "# Calculate price ratios (P/E, P/B, P/S, P/FCF)"
   ]
  },
  {
   "cell_type": "code",
   "execution_count": null,
   "id": "e87ebe06",
   "metadata": {
    "execution": {
     "iopub.execute_input": "2024-08-14T14:44:08.409910Z",
     "iopub.status.busy": "2024-08-14T14:44:08.409718Z",
     "iopub.status.idle": "2024-08-14T14:44:08.421802Z",
     "shell.execute_reply": "2024-08-14T14:44:08.421498Z"
    },
    "papermill": {
     "duration": 0.028411,
     "end_time": "2024-08-14T14:44:08.422797",
     "exception": false,
     "start_time": "2024-08-14T14:44:08.394386",
     "status": "completed"
    },
    "tags": []
   },
   "outputs": [],
   "source": [
    "merged_nat_curr = utils.price_ratios(merged_nat_curr, report='half-year')\n",
    "merged_nat_curr.head()"
   ]
  },
  {
   "cell_type": "markdown",
   "id": "c1990ee6",
   "metadata": {
    "papermill": {
     "duration": 0.011231,
     "end_time": "2024-08-14T14:44:08.446341",
     "exception": false,
     "start_time": "2024-08-14T14:44:08.435110",
     "status": "completed"
    },
    "tags": []
   },
   "source": [
    "# Calculate Dividend yield and currency-share price correlation"
   ]
  },
  {
   "cell_type": "code",
   "execution_count": null,
   "id": "624bbad1",
   "metadata": {
    "execution": {
     "iopub.execute_input": "2024-08-14T14:44:08.466393Z",
     "iopub.status.busy": "2024-08-14T14:44:08.466239Z",
     "iopub.status.idle": "2024-08-14T14:44:08.939632Z",
     "shell.execute_reply": "2024-08-14T14:44:08.939034Z"
    },
    "papermill": {
     "duration": 0.48471,
     "end_time": "2024-08-14T14:44:08.941560",
     "exception": false,
     "start_time": "2024-08-14T14:44:08.456850",
     "status": "completed"
    },
    "tags": []
   },
   "outputs": [],
   "source": [
    "# get daily historical USD-national currency rates\n",
    "usd_nat_curr = utils.get_historical_currency_rate(currency_pair, merged_nat_curr)"
   ]
  },
  {
   "cell_type": "code",
   "execution_count": null,
   "id": "786c01cc",
   "metadata": {
    "execution": {
     "iopub.execute_input": "2024-08-14T14:44:08.974514Z",
     "iopub.status.busy": "2024-08-14T14:44:08.974284Z",
     "iopub.status.idle": "2024-08-14T14:44:09.437139Z",
     "shell.execute_reply": "2024-08-14T14:44:09.436867Z"
    },
    "papermill": {
     "duration": 0.479663,
     "end_time": "2024-08-14T14:44:09.438072",
     "exception": false,
     "start_time": "2024-08-14T14:44:08.958409",
     "status": "completed"
    },
    "tags": []
   },
   "outputs": [],
   "source": [
    "# get share prices and dividend yield data\n",
    "ticker_all_price = utils.get_historical_share_dividend(share_name, merged_nat_curr)"
   ]
  },
  {
   "cell_type": "code",
   "execution_count": null,
   "id": "228e0efc",
   "metadata": {
    "execution": {
     "iopub.execute_input": "2024-08-14T14:44:09.460601Z",
     "iopub.status.busy": "2024-08-14T14:44:09.460490Z",
     "iopub.status.idle": "2024-08-14T14:44:09.630004Z",
     "shell.execute_reply": "2024-08-14T14:44:09.629740Z"
    },
    "papermill": {
     "duration": 0.180999,
     "end_time": "2024-08-14T14:44:09.630840",
     "exception": false,
     "start_time": "2024-08-14T14:44:09.449841",
     "status": "completed"
    },
    "tags": []
   },
   "outputs": [],
   "source": [
    "# Pearson's correlation coefficient between share price and USD - national currency rate\n",
    "utils.get_currency_share_price_correlation(share_name, usd_nat_curr, ticker_all_price)"
   ]
  },
  {
   "cell_type": "markdown",
   "id": "07079792",
   "metadata": {
    "papermill": {
     "duration": 0.010325,
     "end_time": "2024-08-14T14:44:09.655486",
     "exception": false,
     "start_time": "2024-08-14T14:44:09.645161",
     "status": "completed"
    },
    "tags": []
   },
   "source": [
    "# Share price and value ratios"
   ]
  },
  {
   "cell_type": "code",
   "execution_count": null,
   "id": "ade716d9",
   "metadata": {
    "execution": {
     "iopub.execute_input": "2024-08-14T14:44:09.677289Z",
     "iopub.status.busy": "2024-08-14T14:44:09.677162Z",
     "iopub.status.idle": "2024-08-14T14:44:14.192945Z",
     "shell.execute_reply": "2024-08-14T14:44:14.192670Z"
    },
    "papermill": {
     "duration": 4.526902,
     "end_time": "2024-08-14T14:44:14.193853",
     "exception": false,
     "start_time": "2024-08-14T14:44:09.666951",
     "status": "completed"
    },
    "tags": []
   },
   "outputs": [],
   "source": [
    "for column in merged_nat_curr.columns[3:]:\n",
    "    fig, ax1 = plt.subplots(figsize=(15, 6))\n",
    "\n",
    "    ax2 = ax1.twinx()\n",
    "    ax1.plot(merged_nat_curr['real_date'], merged_nat_curr[column], color='k', label=merged_nat_curr)\n",
    "    ax2.plot(ticker_all_price.index, ticker_all_price['Close'], color='b', label=share_name)\n",
    "\n",
    "    ax1.set_xlabel('Date')\n",
    "    ax1.set_ylabel(column, color='k')\n",
    "    ax2.set_ylabel('Share price (national currency)', color='b')\n",
    "\n",
    "    plt.legend()\n",
    "    plt.show()"
   ]
  },
  {
   "cell_type": "code",
   "execution_count": null,
   "id": "f0e00320",
   "metadata": {
    "execution": {
     "iopub.execute_input": "2024-08-14T14:44:14.243860Z",
     "iopub.status.busy": "2024-08-14T14:44:14.243729Z",
     "iopub.status.idle": "2024-08-14T14:44:15.040588Z",
     "shell.execute_reply": "2024-08-14T14:44:15.040327Z"
    },
    "papermill": {
     "duration": 0.819666,
     "end_time": "2024-08-14T14:44:15.041537",
     "exception": false,
     "start_time": "2024-08-14T14:44:14.221871",
     "status": "completed"
    },
    "tags": []
   },
   "outputs": [],
   "source": [
    "# plot histograms of value parameters\n",
    "utils.plot_histogram_value_parameters(input_df=merged_nat_curr, extra_parameters=[], owned_shares=owned_shares)"
   ]
  },
  {
   "cell_type": "markdown",
   "id": "7df21ba9",
   "metadata": {
    "papermill": {
     "duration": 0.021425,
     "end_time": "2024-08-14T14:44:15.083671",
     "exception": false,
     "start_time": "2024-08-14T14:44:15.062246",
     "status": "completed"
    },
    "tags": []
   },
   "source": [
    "## Calculate correlation between value parameters"
   ]
  },
  {
   "cell_type": "code",
   "execution_count": null,
   "id": "cb788d81",
   "metadata": {
    "execution": {
     "iopub.execute_input": "2024-08-14T14:44:15.123973Z",
     "iopub.status.busy": "2024-08-14T14:44:15.123851Z",
     "iopub.status.idle": "2024-08-14T14:44:15.128810Z",
     "shell.execute_reply": "2024-08-14T14:44:15.128546Z"
    },
    "papermill": {
     "duration": 0.025646,
     "end_time": "2024-08-14T14:44:15.129646",
     "exception": false,
     "start_time": "2024-08-14T14:44:15.104000",
     "status": "completed"
    },
    "tags": []
   },
   "outputs": [],
   "source": [
    "# calulate value parameters Pearson's correlation coefficient\n",
    "pd.DataFrame(merged_nat_curr, columns=['roa', 'roe', 'pe_ratio', 'pb_ratio', 'ps_ratio', 'ev_revenue', 'debt_to_equity', 'current_ratio']).corr()"
   ]
  },
  {
   "cell_type": "code",
   "execution_count": null,
   "id": "853234c4",
   "metadata": {},
   "outputs": [],
   "source": [
    "normalized_df = utils.utility_evaluation(\n",
    "    input_df=merged_nat_curr,\n",
    "    owned_shares=owned_shares\n",
    "    )"
   ]
  },
  {
   "cell_type": "code",
   "execution_count": null,
   "id": "263abc17",
   "metadata": {},
   "outputs": [],
   "source": [
    "final_df = utils.get_monotonous_stock_target_prices(\n",
    "    input_df=normalized_df,\n",
    "    min_pct=0.15,\n",
    "    max_pct=0.5,\n",
    "    owned_shares=owned_shares)"
   ]
  }
 ],
 "metadata": {
  "kernelspec": {
   "display_name": ".venv",
   "language": "python",
   "name": "python3"
  },
  "language_info": {
   "codemirror_mode": {
    "name": "ipython",
    "version": 3
   },
   "file_extension": ".py",
   "mimetype": "text/x-python",
   "name": "python",
   "nbconvert_exporter": "python",
   "pygments_lexer": "ipython3",
   "version": "3.11.3"
  },
  "papermill": {
   "default_parameters": {},
   "duration": 14.128828,
   "end_time": "2024-08-14T14:44:16.140284",
   "environment_variables": {},
   "exception": null,
   "input_path": "../notebooks/ubisoft_national.ipynb",
   "output_path": "../notebooks/ubisoft_national.ipynb",
   "parameters": {},
   "start_time": "2024-08-14T14:44:02.011456",
   "version": "2.5.0"
  }
 },
 "nbformat": 4,
 "nbformat_minor": 5
}
