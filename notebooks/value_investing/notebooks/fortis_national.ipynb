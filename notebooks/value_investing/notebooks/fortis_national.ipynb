{
 "cells": [
  {
   "cell_type": "code",
   "execution_count": null,
   "metadata": {},
   "outputs": [],
   "source": [
    "import pandas as pd\n",
    "import matplotlib.pyplot as plt\n",
    "import numpy as np\n",
    "\n",
    "import yfinance as yf\n",
    "import datetime\n"
   ]
  },
  {
   "cell_type": "markdown",
   "metadata": {},
   "source": [
    "# 0. Functions"
   ]
  },
  {
   "cell_type": "code",
   "execution_count": null,
   "metadata": {},
   "outputs": [],
   "source": [
    "\n",
    "def daily_price(ticker, end, days_earlier=3, columns=['Close']):\n",
    "    '''\n",
    "    Returns a DataFrame of prices for ticker from Yahoo Finance API\n",
    "    The close date is excluded!!!!\n",
    "    Minimum 3 days window due to weekends and holidays.\n",
    "    '''\n",
    "    result_series = []\n",
    "\n",
    "    for timestamp in end:\n",
    "        start = timestamp - datetime.timedelta(days=days_earlier)\n",
    "\n",
    "        obj = yf.Ticker(ticker)\n",
    "        data = obj.history(start=start, end=timestamp)[columns]\n",
    "\n",
    "        result_series.append(data[columns].values.mean())\n",
    "\n",
    "    return pd.Series(result_series).values"
   ]
  },
  {
   "cell_type": "code",
   "execution_count": null,
   "metadata": {},
   "outputs": [],
   "source": [
    "def replace_format_input(input=pd.DataFrame):\n",
    "    '''\n",
    "    replace - characters to 0\n",
    "    add missing 0-s from the end\n",
    "    drop out , as separators\n",
    "    set datatype to integer\n",
    "    '''\n",
    "    for column in input.columns:\n",
    "        if isinstance(input[column][0], str):\n",
    "            # create empty list to add element\n",
    "            result = []\n",
    "            # itreate through the columns\n",
    "            for elem in input[column]:\n",
    "                # checkt the value contains a ,\n",
    "                if ',' in elem:\n",
    "                    # if the last part of string is shorter than 3 characters\n",
    "                    original_value = elem.split(',')\n",
    "                    if len(original_value[-1]) < 3:\n",
    "                        # create new last element of original value\n",
    "                        original_value[-1] = original_value[-1].ljust(3, '0')    \n",
    "                        # recreate string\n",
    "                        new_value = \"\".join(original_value)\n",
    "                    else:\n",
    "                        new_value = \"\".join(original_value)\n",
    "                    # add merged element to list\n",
    "                    result.append(new_value)\n",
    "                elif elem == '-':\n",
    "                    # replace - to 0\n",
    "                    result.append('0')\n",
    "                else:\n",
    "                    # add don't modified values\n",
    "                    result.append(elem)\n",
    "            # overwrite column values and fix datatype\n",
    "            input[column] = pd.Series(result).astype(int)\n",
    "    return input"
   ]
  },
  {
   "cell_type": "code",
   "execution_count": null,
   "metadata": {},
   "outputs": [],
   "source": [
    "def convert_national_currency(input_data=pd.DataFrame, currency=pd.DataFrame):\n",
    "    '''\n",
    "    Convert colums into national currency\n",
    "    '''\n",
    "    output_data = input_data.copy()\n",
    "\n",
    "    for column in output_data.columns:\n",
    "        if column not in ['shares', 'national_div', 'usd_div', 'usd_nat_currency', 'real_date', 'date']:\n",
    "            output_data[column] = output_data[column].astype(float) * currency['usd_nat_currency']\n",
    "\n",
    "    return output_data"
   ]
  },
  {
   "cell_type": "code",
   "execution_count": null,
   "metadata": {},
   "outputs": [],
   "source": [
    "def calculate_real_date(input):\n",
    "    '''\n",
    "    Calculate the rough estimated date when the quaterly report could be available\n",
    "    '''\n",
    "    result = []\n",
    "    for timestamp in input['date']:\n",
    "        if timestamp.month == 12:\n",
    "            result.append(timestamp + datetime.timedelta(days=42))\n",
    "        else:\n",
    "            result.append(timestamp + datetime.timedelta(days=21))\n",
    "\n",
    "    input['real_date'] = result\n",
    "    return input"
   ]
  },
  {
   "cell_type": "code",
   "execution_count": null,
   "metadata": {},
   "outputs": [],
   "source": [
    "def filter_raw_data(input=pd.DataFrame):\n",
    "    filtered = input[\n",
    "                [\n",
    "                'date',\n",
    "                'real_date',\n",
    "                'shares',\n",
    "                'revenue',\n",
    "                'cogs',\n",
    "                'gross_profit',\n",
    "                'net_profit',\n",
    "                'cash',\n",
    "                'acc_rec',\n",
    "                'inventory',\n",
    "                'curr_assets',\n",
    "                'goodwill',\n",
    "                'intangible_assets',\n",
    "                'total_assets',\n",
    "                'acc_pay',\n",
    "                'short_term_debt',\n",
    "                'current_debt',\n",
    "                'curr_liab',\n",
    "                'long_term_debt',\n",
    "                'total_liab',\n",
    "                'cash_from_operating_activities',\n",
    "                'capex'\n",
    "                ]\n",
    "            ].copy()\n",
    "    \n",
    "    return filtered"
   ]
  },
  {
   "cell_type": "code",
   "execution_count": null,
   "metadata": {},
   "outputs": [],
   "source": [
    "def calculate_input_value_ratios(input=pd.DataFrame):\n",
    "    input['eps'] = (input['net_profit'] * 4) / input['shares'] # quaterly corrected here --> multipled by 4\n",
    "    input['bv_per_share'] = (input['total_assets']-input['total_liab']) / input['shares']\n",
    "    input['fcf'] = (4 * input['cash_from_operating_activities']) - (input['capex'] * 4) # quaterly corrected here --> multipled by 4\n",
    "    input['fcf_per_share'] = input['fcf'] / input['shares']\n",
    "\n",
    "    return input"
   ]
  },
  {
   "cell_type": "code",
   "execution_count": null,
   "metadata": {},
   "outputs": [],
   "source": [
    "def ratios_input_filter(input=pd.DataFrame):\n",
    "    ratios = input[\n",
    "                [\n",
    "                'date',\n",
    "                'real_date',\n",
    "                'revenue',\n",
    "                'eps',\n",
    "                'bv_per_share',\n",
    "                'shares',\n",
    "                'fcf',\n",
    "                'fcf_per_share'\n",
    "                ]\n",
    "            ].copy()\n",
    "\n",
    "    return ratios"
   ]
  },
  {
   "cell_type": "code",
   "execution_count": null,
   "metadata": {},
   "outputs": [],
   "source": [
    "def evaluate_performance(input=pd.DataFrame, output=pd.DataFrame):\n",
    "    # evauleat short term debt\n",
    "    output['current_ratio'] = input['curr_assets'] / input['curr_liab']\n",
    "    output['quick_ratio'] = (input['curr_assets'] - input['inventory']) / input['curr_liab']\n",
    "    output['cash_ratio'] = input['cash'] / input['curr_liab']\n",
    "    #evaluate long term debt\n",
    "    output['debt_to_equity'] = input['total_liab'] / (input['total_assets'] - input['total_liab'])\n",
    "    output['equity_ratio'] = (input['total_assets'] - input['total_liab']) / input['total_assets']\n",
    "    output['debt_ratio'] = input['total_liab'] / input['total_assets']\n",
    "    # evlauate management --> based on efficiency ratios\n",
    "    output['acc_rec_ratio'] = (4 * input['revenue']) / input['acc_rec']\n",
    "    output['acc_pay_ratio'] = (-4 * input['cogs']) / input['acc_pay']\n",
    "    output['cash_turnover'] = (4 * input['revenue']) / input['cash']\n",
    "    output['inventory_turnover'] = (-4 * input['cogs']) / input['inventory']\n",
    "    # test economy moat\n",
    "    output['gross_profit_margin'] = input['gross_profit'] / input['revenue']\n",
    "    output['net_profit_margin'] = input['net_profit'] / input['revenue']\n",
    "    output['roa'] = (4 * input['net_profit']) / input['total_assets']\n",
    "    output['roe'] = (4 * input['net_profit']) / (input['total_assets'] - input['total_liab'])\n",
    "\n",
    "    return output"
   ]
  },
  {
   "cell_type": "code",
   "execution_count": null,
   "metadata": {},
   "outputs": [],
   "source": [
    "def price_ratios(input=pd.DataFrame):\n",
    "    '''\n",
    "    The original metrics have been develoed to annual data. I use quaterly data.\n",
    "    '''\n",
    "    input['pe_ratio'] = input['share_price'] / input['eps'] # previously multiplied by 4 (quaterly correction)\n",
    "    input['pb_ratio'] = input['share_price'] / input['bv_per_share'] # don't need to quaterly correct (Income Statement data)\n",
    "    input['ps_ratio'] = (input['share_price'] * input['shares']) / (input['revenue'] * 4) # quaterly corrected here --> multipled by 4\n",
    "    input['pfcf_ratio'] = (input['share_price'] * input['shares']) / input['fcf']  # previously multiplied by 4 (quaterly correction)\n",
    "\n",
    "    return input"
   ]
  },
  {
   "cell_type": "markdown",
   "metadata": {},
   "source": [
    "# 1. Load raw input\n",
    "## Hardcoded block"
   ]
  },
  {
   "cell_type": "code",
   "execution_count": null,
   "metadata": {},
   "outputs": [],
   "source": [
    "evaluate_last_X_years = False\n",
    "X=10\n",
    "currency_pair = 'CADUSD=X'\n",
    "numbers_in_currency = 'CAD'\n",
    "share_name = 'FTS.TO'"
   ]
  },
  {
   "cell_type": "markdown",
   "metadata": {},
   "source": [
    "# 1.1 Calculate Share numbers from total distributed dividend (CFS) and dividend amount\n",
    "## Pull historical USD national currency rates to dividend & calculate historical dividend in USD"
   ]
  },
  {
   "cell_type": "code",
   "execution_count": null,
   "metadata": {},
   "outputs": [],
   "source": [
    "# ticker_share = yf.Ticker(share_name)\n",
    "# dividend = ticker_share.history(period='max', interval=\"1wk\")\n",
    "# dividend = dividend[dividend['Dividends'] > 0]\n",
    "# dividend = dividend.rename(columns={'Dividends': 'local_amount'})\n",
    "\n",
    "# dividend['real_date'] = dividend.index \n",
    "# dividend['real_date'] = dividend['real_date'].dt.tz_localize(None)\n",
    "\n",
    "# dividend = dividend[['real_date', 'local_amount']]\n",
    "\n",
    "# dividend['usd_rate'] = daily_price(ticker=currency_pair, end=dividend['real_date'], days_earlier=3)\n",
    "# dividend['currency'] = [currency_pair.split(sep='=')[0] for x in range(len(dividend))]\n",
    "# dividend['usd_dividend'] = dividend['local_amount'] / dividend['usd_rate']\n",
    "\n",
    "# dividend.head()"
   ]
  },
  {
   "cell_type": "markdown",
   "metadata": {},
   "source": [
    "## Extend your input statement table with historical dividend data and calculate share prices!"
   ]
  },
  {
   "cell_type": "markdown",
   "metadata": {},
   "source": [
    "# 1.2. Raw input statement data"
   ]
  },
  {
   "cell_type": "code",
   "execution_count": null,
   "metadata": {},
   "outputs": [],
   "source": [
    "route = f\"../csv_files/{share_name}_data.csv\"\n",
    "data = pd.read_csv(route, sep=';', parse_dates=['date'])\n",
    "# replace -, extend missing 0-s, fix datatype\n",
    "data = replace_format_input(data)"
   ]
  },
  {
   "cell_type": "markdown",
   "metadata": {},
   "source": [
    "## (OPTIONAL) Time Filtering - Last 7 years daat"
   ]
  },
  {
   "cell_type": "code",
   "execution_count": null,
   "metadata": {},
   "outputs": [],
   "source": [
    "if evaluate_last_X_years:\n",
    "    data = data[data['date'] > datetime.datetime.today() - datetime.timedelta(days=X*366+93)]\n",
    "    data = data.reset_index(drop=True)\n",
    "\n",
    "data.head()"
   ]
  },
  {
   "cell_type": "markdown",
   "metadata": {},
   "source": [
    "## Calculate date when quaterly reports could be available"
   ]
  },
  {
   "cell_type": "code",
   "execution_count": null,
   "metadata": {},
   "outputs": [],
   "source": [
    "data = calculate_real_date(data)"
   ]
  },
  {
   "cell_type": "markdown",
   "metadata": {},
   "source": [
    "# 2. Filter out unnecesary columns"
   ]
  },
  {
   "cell_type": "code",
   "execution_count": null,
   "metadata": {},
   "outputs": [],
   "source": [
    "data = filter_raw_data(data)\n",
    "data.tail()"
   ]
  },
  {
   "cell_type": "markdown",
   "metadata": {},
   "source": [
    "## Pull historical average USD national currency rates and add to the dataframe"
   ]
  },
  {
   "cell_type": "code",
   "execution_count": null,
   "metadata": {},
   "outputs": [],
   "source": [
    "data['usd_nat_currency'] = daily_price(\n",
    "    ticker=currency_pair,\n",
    "    end=data['date'],\n",
    "    days_earlier=90\n",
    "    )\n",
    "\n",
    "# drop rows, when USD rates wasn't available\n",
    "data = data[data['usd_nat_currency'].notna()]\n",
    "\n",
    "data.tail()"
   ]
  },
  {
   "cell_type": "markdown",
   "metadata": {},
   "source": [
    "## Convert USD values related to IS, BS, CFS to national currency"
   ]
  },
  {
   "cell_type": "code",
   "execution_count": null,
   "metadata": {},
   "outputs": [],
   "source": [
    "# convert columns into national currency if necessary\n",
    "if numbers_in_currency == 'USD':\n",
    "    data_nat_curr = convert_national_currency(input_data=data, currency=data)\n",
    "else:\n",
    "    data_nat_curr = data.copy()\n",
    "data_nat_curr.tail()"
   ]
  },
  {
   "cell_type": "markdown",
   "metadata": {},
   "source": [
    "# 3. Calculate input to Value Raios (eps, bv per share, fcf)\n",
    "## filter out unwanted columns"
   ]
  },
  {
   "cell_type": "code",
   "execution_count": null,
   "metadata": {},
   "outputs": [],
   "source": [
    "filtered_nat_curr = calculate_input_value_ratios(data_nat_curr)"
   ]
  },
  {
   "cell_type": "markdown",
   "metadata": {},
   "source": [
    "## Calculate input values to value ratios"
   ]
  },
  {
   "cell_type": "code",
   "execution_count": null,
   "metadata": {},
   "outputs": [],
   "source": [
    "ratios_nat_curr = ratios_input_filter(filtered_nat_curr)"
   ]
  },
  {
   "cell_type": "code",
   "execution_count": null,
   "metadata": {},
   "outputs": [],
   "source": [
    "ratios_nat_curr = evaluate_performance(input=filtered_nat_curr, output=ratios_nat_curr)"
   ]
  },
  {
   "cell_type": "markdown",
   "metadata": {},
   "source": [
    "# 4. Pull historical share prices and merge with sattement data\n",
    "## Pull historical share prices"
   ]
  },
  {
   "cell_type": "code",
   "execution_count": null,
   "metadata": {},
   "outputs": [],
   "source": [
    "\n",
    "obj = yf.Ticker(share_name)\n",
    "share_price = obj.history(interval=\"1wk\", start=data.date.min(), end=pd.Timestamp.now())\n",
    "# add new date column due to pd.merge_asof match\n",
    "share_price['real_date'] = share_price.index\n",
    "# remove localization (timezone) to let merge the two columns\n",
    "share_price['real_date'] = share_price['real_date'].dt.tz_localize(None)\n",
    "# add share price column and keep the date and share prices\n",
    "share_price['share_price'] = share_price['Close']\n",
    "share_price = share_price[['real_date', 'share_price']]\n",
    "\n",
    "share_price.tail()"
   ]
  },
  {
   "cell_type": "markdown",
   "metadata": {},
   "source": [
    "## Merge the statement dataset with share prices"
   ]
  },
  {
   "cell_type": "code",
   "execution_count": null,
   "metadata": {},
   "outputs": [],
   "source": [
    "merged_nat_curr = pd.merge_asof(left=share_price, right=ratios_nat_curr, on='real_date', direction='backward')\n",
    "# drop rows with np.Nan and reset index\n",
    "merged_nat_curr = merged_nat_curr.dropna()\n",
    "merged_nat_curr = merged_nat_curr.reset_index(drop=True)\n",
    "merged_nat_curr.head()"
   ]
  },
  {
   "cell_type": "markdown",
   "metadata": {},
   "source": [
    "# Calculate price ratios (P/E, P/B, P/S, P/FCF)"
   ]
  },
  {
   "cell_type": "code",
   "execution_count": null,
   "metadata": {},
   "outputs": [],
   "source": [
    "merged_nat_curr = price_ratios(merged_nat_curr)\n",
    "merged_nat_curr.head()"
   ]
  },
  {
   "cell_type": "markdown",
   "metadata": {},
   "source": [
    "# Calculate Dividend yield and currency-share price correlation"
   ]
  },
  {
   "cell_type": "code",
   "execution_count": null,
   "metadata": {},
   "outputs": [],
   "source": [
    "obj = yf.Ticker(currency_pair)\n",
    "obj2 = yf.Ticker(share_name)\n",
    "usd_nat_curr = obj.history(interval=\"1d\", start=merged_nat_curr['real_date'].min(), end=pd.Timestamp.now())\n",
    "usd_nat_curr['date'] = usd_nat_curr.index\n",
    "usd_nat_curr['date'] = usd_nat_curr['date'].dt.tz_localize(None)\n",
    "usd_nat_curr['currency_rate'] = usd_nat_curr['Close']"
   ]
  },
  {
   "cell_type": "code",
   "execution_count": null,
   "metadata": {},
   "outputs": [],
   "source": [
    "share_all_price = obj2.history(interval=\"1d\", start=merged_nat_curr['real_date'].min(), end=pd.Timestamp.now())\n",
    "share_all_price['date'] = share_all_price.index\n",
    "share_all_price['date'] = share_all_price['date'].dt.tz_localize(None)\n",
    "share_all_price['share_price'] = share_all_price['Close']\n",
    "share_all_price['dividend_yield'] = share_all_price['Dividends'] * 100 / share_all_price['Close']"
   ]
  },
  {
   "cell_type": "code",
   "execution_count": null,
   "metadata": {},
   "outputs": [],
   "source": [
    "fig, ax1 = plt.subplots(figsize=(15, 6))\n",
    "\n",
    "ax1.plot(share_all_price.index, share_all_price['dividend_yield'], color='k', label=share_name)\n",
    "\n",
    "ax1.set_xlabel('Date')\n",
    "ax1.set_ylabel('Dividend Yield (%)', color='k')\n",
    "\n",
    "plt.legend()\n",
    "plt.show()"
   ]
  },
  {
   "cell_type": "code",
   "execution_count": null,
   "metadata": {},
   "outputs": [],
   "source": [
    "share_price_currency_rate_correlation = pd.merge_asof(left=usd_nat_curr, right=share_all_price, on='date')\n",
    "share_price_currency_rate_correlation.index = share_price_currency_rate_correlation['date']\n",
    "share_price_currency_rate_correlation = share_price_currency_rate_correlation[['currency_rate', 'share_price']]\n",
    "\n",
    "share_price_currency_rate_correlation.corr()['share_price']"
   ]
  },
  {
   "cell_type": "code",
   "execution_count": null,
   "metadata": {},
   "outputs": [],
   "source": [
    "fig, ax1 = plt.subplots(figsize=(15, 6))\n",
    "\n",
    "ax2 = ax1.twinx()\n",
    "ax1.plot(usd_nat_curr.index, usd_nat_curr['Close'], color='k', label='USD / national currency')\n",
    "ax2.plot(share_all_price.index, share_all_price['Close'], color='b', label=share_name)\n",
    "\n",
    "ax1.set_xlabel('Date')\n",
    "ax1.set_ylabel('Currency rate (1 USD to X national currency)', color='k')\n",
    "ax2.set_ylabel('Share price (national)', color='b')\n",
    "\n",
    "plt.legend()\n",
    "plt.show()"
   ]
  },
  {
   "cell_type": "markdown",
   "metadata": {},
   "source": [
    "# Share price and value ratios"
   ]
  },
  {
   "cell_type": "code",
   "execution_count": null,
   "metadata": {},
   "outputs": [],
   "source": [
    "for column in merged_nat_curr.columns[3:]:\n",
    "    fig, ax1 = plt.subplots(figsize=(15, 6))\n",
    "\n",
    "    ax2 = ax1.twinx()\n",
    "    ax1.plot(merged_nat_curr['real_date'], merged_nat_curr[column], color='k', label=merged_nat_curr)\n",
    "    ax2.plot(share_all_price.index, share_all_price['Close'], color='b', label=share_name)\n",
    "\n",
    "    ax1.set_xlabel('Date')\n",
    "    ax1.set_ylabel(column, color='k')\n",
    "    ax2.set_ylabel('Share price (national currency)', color='b')\n",
    "\n",
    "    plt.legend()\n",
    "    plt.show()"
   ]
  },
  {
   "cell_type": "code",
   "execution_count": null,
   "metadata": {},
   "outputs": [],
   "source": [
    "for column in merged_nat_curr.columns[-8:]:\n",
    "    try:\n",
    "        plt.hist(merged_nat_curr[column].values, bins=30, edgecolor='black', color='gray')\n",
    "        plt.axvline(merged_nat_curr[column].iloc[-1], color='k', linestyle='dotted', linewidth=2, label='Current Value')\n",
    "        plt.axvline(merged_nat_curr[column].quantile(0.1), color='green', linestyle='dashed', linewidth=1, label='P10')\n",
    "        plt.axvline(merged_nat_curr[column].quantile(0.3), color='green', linestyle='dashed', linewidth=1, label='P30')\n",
    "        plt.axvline(merged_nat_curr[column].quantile(0.5), color='blue', linestyle='dashed', linewidth=1, label='Median')\n",
    "        plt.axvline(merged_nat_curr[column].quantile(0.7), color='orange', linestyle='dashed', linewidth=1, label='P70')\n",
    "        plt.axvline(merged_nat_curr[column].quantile(0.9), color='red', linestyle='dashed', linewidth=1, label='P90')\n",
    "        \n",
    "        plt.xlabel(column.capitalize())\n",
    "        plt.ylabel('Frequency')\n",
    "        plt.title(column.capitalize())\n",
    "        \n",
    "        plt.legend()\n",
    "\n",
    "        plt.show()\n",
    "    except:\n",
    "        print(column + \" diagram is missing due to error.\")"
   ]
  },
  {
   "cell_type": "markdown",
   "metadata": {},
   "source": [
    "## Calculate correlation between value parameters"
   ]
  },
  {
   "cell_type": "code",
   "execution_count": null,
   "metadata": {},
   "outputs": [],
   "source": [
    "corr_matrix = pd.DataFrame(merged_nat_curr, columns=['real_date', 'gross_profit_margin', 'net_profit_margin', 'roa', 'roe', 'pe_ratio', 'pb_ratio', 'ps_ratio', 'pfcf_ratio'])\n",
    "# find independent columns\n",
    "corr_matrix.corr()"
   ]
  },
  {
   "cell_type": "code",
   "execution_count": null,
   "metadata": {},
   "outputs": [],
   "source": [
    "tolerance = 0.1"
   ]
  },
  {
   "cell_type": "code",
   "execution_count": null,
   "metadata": {},
   "outputs": [],
   "source": [
    "npm = merged_nat_curr[(merged_nat_curr['net_profit_margin']<= merged_nat_curr['net_profit_margin'].iloc[-1] * (1+tolerance)) & (merged_nat_curr['net_profit_margin']>= merged_nat_curr['net_profit_margin'].iloc[-1] * (1- tolerance))]['date'].values\n",
    "roe = merged_nat_curr[(merged_nat_curr['roe']<= merged_nat_curr['roe'].iloc[-1] * (1+tolerance)) & (merged_nat_curr['roe']>= merged_nat_curr['roe'].iloc[-1] * (1- tolerance))]['date'].values\n",
    "per = merged_nat_curr[(merged_nat_curr['pe_ratio']<= merged_nat_curr['pe_ratio'].iloc[-1] * (1+tolerance)) & (merged_nat_curr['pe_ratio']>= merged_nat_curr['pe_ratio'].iloc[-1] * (1- tolerance))]['date'].values\n",
    "pbr = merged_nat_curr[(merged_nat_curr['pb_ratio']<= merged_nat_curr['pb_ratio'].iloc[-1] * (1+tolerance)) & (merged_nat_curr['pb_ratio']>= merged_nat_curr['pb_ratio'].iloc[-1] * (1- tolerance))]['date'].values\n",
    "psr = merged_nat_curr[(merged_nat_curr['ps_ratio']<= merged_nat_curr['ps_ratio'].iloc[-1] * (1+tolerance)) & (merged_nat_curr['ps_ratio']>= merged_nat_curr['ps_ratio'].iloc[-1] * (1- tolerance))]['date'].values\n",
    "pfcfr = merged_nat_curr[(merged_nat_curr['pfcf_ratio']<= merged_nat_curr['pfcf_ratio'].iloc[-1] * (1+tolerance)) & (merged_nat_curr['pfcf_ratio']>= merged_nat_curr['pfcf_ratio'].iloc[-1] * (1- tolerance))]['date'].values"
   ]
  },
  {
   "cell_type": "code",
   "execution_count": null,
   "metadata": {},
   "outputs": [],
   "source": [
    "def list_intersect(input1, input2):\n",
    "    result = [x for x in input1 if x in input2]\n",
    "    return result"
   ]
  },
  {
   "cell_type": "code",
   "execution_count": null,
   "metadata": {},
   "outputs": [],
   "source": [
    "test3 =  list_intersect(npm, roe)\n",
    "test4 =  list_intersect(test3, per)\n",
    "test5 =  list_intersect(test4, pbr)\n",
    "test6 =  list_intersect(test5, psr)\n",
    "test7 =  list_intersect(test6, pfcfr)\n",
    "print(len(test7), 'timestemos have been found!')"
   ]
  },
  {
   "cell_type": "code",
   "execution_count": null,
   "metadata": {},
   "outputs": [],
   "source": [
    "for column in merged_nat_curr.columns[-8:]:\n",
    "    fig, ax1 = plt.subplots(figsize=(15, 6))\n",
    "\n",
    "    ax2 = ax1.twinx()\n",
    "    ax1.plot(merged_nat_curr['real_date'], merged_nat_curr[column], color='k', label=merged_nat_curr)\n",
    "    ax2.plot(share_all_price.index, share_all_price['Close'], color='b', label=share_name)\n",
    "\n",
    "    ax1.set_xlabel('Date')\n",
    "    ax1.set_ylabel(column, color='k')\n",
    "    ax2.set_ylabel('Share price (national currency)', color='b')\n",
    "\n",
    "    for timestamp in test7:\n",
    "        plt.axvline(timestamp, color='red', linestyle='dashed', linewidth=1)\n",
    "\n",
    "    ax1.hlines(\n",
    "        y=merged_nat_curr[column].iloc[-1],\n",
    "        xmin=merged_nat_curr.date.min(),\n",
    "        xmax=merged_nat_curr.date.max(),\n",
    "        linewidth=1, linestyles='dashed',\n",
    "        color='green',\n",
    "        )\n",
    "\n",
    "    plt.legend()\n",
    "    plt.show()"
   ]
  }
 ],
 "metadata": {
  "kernelspec": {
   "display_name": ".venv",
   "language": "python",
   "name": "python3"
  },
  "language_info": {
   "codemirror_mode": {
    "name": "ipython",
    "version": 3
   },
   "file_extension": ".py",
   "mimetype": "text/x-python",
   "name": "python",
   "nbconvert_exporter": "python",
   "pygments_lexer": "ipython3",
   "version": "3.11.3"
  }
 },
 "nbformat": 4,
 "nbformat_minor": 2
}
