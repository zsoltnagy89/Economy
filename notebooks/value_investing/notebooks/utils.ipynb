{
 "cells": [
  {
   "cell_type": "markdown",
   "metadata": {},
   "source": [
    "# 1. Applied packages"
   ]
  },
  {
   "cell_type": "code",
   "execution_count": 4,
   "metadata": {},
   "outputs": [],
   "source": [
    "import pandas as pd\n",
    "#import matplotlib.pyplot as plt\n",
    "#import numpy as np\n",
    "\n",
    "import yfinance as yf\n",
    "import datetime\n"
   ]
  },
  {
   "cell_type": "markdown",
   "metadata": {},
   "source": [
    "# 2. Utils Functions"
   ]
  },
  {
   "cell_type": "code",
   "execution_count": 5,
   "metadata": {},
   "outputs": [],
   "source": [
    "def filter_raw_data(input=pd.DataFrame):\n",
    "    '''\n",
    "    Keep only the most important columns from the value evaluation point of view.\n",
    "    '''\n",
    "    filtered = input[\n",
    "                [\n",
    "                'date',\n",
    "                'real_date',\n",
    "                'shares',\n",
    "                'revenue',\n",
    "                'cogs',\n",
    "                'gross_profit',\n",
    "                'net_profit',\n",
    "                'cash',\n",
    "                'acc_rec',\n",
    "                'inventory',\n",
    "                'curr_assets',\n",
    "                'goodwill',\n",
    "                'intangible_assets',\n",
    "                'total_assets',\n",
    "                'acc_pay',\n",
    "                'short_term_debt',\n",
    "                'current_debt',\n",
    "                'curr_liab',\n",
    "                'long_term_debt',\n",
    "                'total_liab',\n",
    "                'cash_from_operating_activities',\n",
    "                'capex'\n",
    "                ]\n",
    "            ].copy()\n",
    "    \n",
    "    return filtered"
   ]
  },
  {
   "cell_type": "code",
   "execution_count": 6,
   "metadata": {},
   "outputs": [],
   "source": [
    "\n",
    "def daily_price(ticker, end, days_earlier=3, columns=['Close']):\n",
    "    '''\n",
    "    Returns a DataFrame of prices for a ticker from Yahoo Finance API\n",
    "    The close date is excluded!!!!\n",
    "    Minimum 3 days window due to weekends and holidays.\n",
    "    '''\n",
    "    result_series = []\n",
    "\n",
    "    for timestamp in end:\n",
    "        start = timestamp - datetime.timedelta(days=days_earlier)\n",
    "\n",
    "        obj = yf.Ticker(ticker)\n",
    "        data = obj.history(start=start, end=timestamp)[columns]\n",
    "\n",
    "        result_series.append(data[columns].values.mean())\n",
    "\n",
    "    return pd.Series(result_series).values"
   ]
  },
  {
   "cell_type": "code",
   "execution_count": 7,
   "metadata": {},
   "outputs": [],
   "source": [
    "def replace_format_input(input=pd.DataFrame):\n",
    "    '''\n",
    "    replace - characters to 0\n",
    "    add missing 0-s from the end\n",
    "    drop out , as separators\n",
    "    set datatype to integer\n",
    "    '''\n",
    "    for column in input.columns:\n",
    "        if isinstance(input[column][0], str):\n",
    "            # create empty list to add element\n",
    "            result = []\n",
    "            # itreate through the columns\n",
    "            for elem in input[column]:\n",
    "                # checkt the value contains a ,\n",
    "                if ',' in elem:\n",
    "                    # if the last part of string is shorter than 3 characters\n",
    "                    original_value = elem.split(',')\n",
    "                    if len(original_value[-1]) < 3:\n",
    "                        # create new last element of original value\n",
    "                        original_value[-1] = original_value[-1].ljust(3, '0')    \n",
    "                        # recreate string\n",
    "                        new_value = \"\".join(original_value)\n",
    "                    else:\n",
    "                        new_value = \"\".join(original_value)\n",
    "                    # add merged element to list\n",
    "                    result.append(new_value)\n",
    "                elif elem == '-':\n",
    "                    # replace - to 0\n",
    "                    result.append('0')\n",
    "                else:\n",
    "                    # add don't modified values\n",
    "                    result.append(elem)\n",
    "            # overwrite column values and fix datatype\n",
    "            input[column] = pd.Series(result).astype(int)\n",
    "    return input"
   ]
  },
  {
   "cell_type": "code",
   "execution_count": 8,
   "metadata": {},
   "outputs": [],
   "source": [
    "def convert_national_currency(input_data=pd.DataFrame, currency=pd.DataFrame):\n",
    "    '''\n",
    "    Convert columns into national currency, except dates, shares, rates and columns which are in USD.\n",
    "    '''\n",
    "    output_data = input_data.copy()\n",
    "\n",
    "    for column in output_data.columns:\n",
    "        if column not in ['shares', 'national_div', 'usd_div', 'usd_nat_currency', 'real_date', 'date']:\n",
    "            output_data[column] = output_data[column].astype(float) * currency['usd_nat_currency']\n",
    "\n",
    "    return output_data"
   ]
  },
  {
   "cell_type": "code",
   "execution_count": 9,
   "metadata": {},
   "outputs": [],
   "source": [
    "def calculate_real_date(input):\n",
    "    '''\n",
    "    Calculate the estimated date when the quaterly report could be available, called real date.\n",
    "    '''\n",
    "    result = []\n",
    "    for timestamp in input['date']:\n",
    "        if timestamp.month == 12:\n",
    "            result.append(timestamp + datetime.timedelta(days=42))\n",
    "        else:\n",
    "            result.append(timestamp + datetime.timedelta(days=21))\n",
    "\n",
    "    input['real_date'] = result\n",
    "    return input"
   ]
  },
  {
   "cell_type": "code",
   "execution_count": 10,
   "metadata": {},
   "outputs": [],
   "source": [
    "def calculate_input_value_ratios(input=pd.DataFrame):\n",
    "    '''\n",
    "    Calculate EPS, Book Value per share, FCF and FCF per shares.\n",
    "    '''\n",
    "    input['eps'] = (input['net_profit'] * 4) / input['shares'] # quaterly corrected here --> multipled by 4\n",
    "    input['bv_per_share'] = (input['total_assets']-input['total_liab']) / input['shares']\n",
    "    input['fcf'] = (4 * input['cash_from_operating_activities']) - (input['capex'] * 4) # quaterly corrected here --> multipled by 4\n",
    "    input['fcf_per_share'] = input['fcf'] / input['shares']\n",
    "\n",
    "    return input"
   ]
  },
  {
   "cell_type": "code",
   "execution_count": 11,
   "metadata": {},
   "outputs": [],
   "source": [
    "def ratios_input_filter(input=pd.DataFrame):\n",
    "    '''\n",
    "    Filter out and keep only the Value ratios, revenue and date.\n",
    "    '''\n",
    "    ratios = input[\n",
    "                [\n",
    "                'date',\n",
    "                'real_date',\n",
    "                'revenue',\n",
    "                'eps',\n",
    "                'bv_per_share',\n",
    "                'shares',\n",
    "                'fcf',\n",
    "                'fcf_per_share',\n",
    "                'cash',\n",
    "                'total_liab'\n",
    "                ]\n",
    "            ].copy()\n",
    "\n",
    "    return ratios"
   ]
  },
  {
   "cell_type": "code",
   "execution_count": 12,
   "metadata": {},
   "outputs": [],
   "source": [
    "def evaluate_performance(input=pd.DataFrame, output=pd.DataFrame):\n",
    "    '''\n",
    "    Calulate Financial ratios. Evaluate short-term, long-term debt, management performance and test economic moat.\n",
    "    '''\n",
    "    # evauleat short term debt\n",
    "    output['current_ratio'] = input['curr_assets'] / input['curr_liab']\n",
    "    output['quick_ratio'] = (input['curr_assets'] - input['inventory']) / input['curr_liab']\n",
    "    output['cash_ratio'] = input['cash'] / input['curr_liab']\n",
    "    #evaluate long term debt\n",
    "    output['debt_to_equity'] = input['total_liab'] / (input['total_assets'] - input['total_liab'])\n",
    "    output['equity_ratio'] = (input['total_assets'] - input['total_liab']) / input['total_assets']\n",
    "    output['debt_ratio'] = input['total_liab'] / input['total_assets']\n",
    "    # evlauate management --> based on efficiency ratios\n",
    "    output['acc_rec_ratio'] = (4 * input['revenue']) / input['acc_rec']\n",
    "    output['acc_pay_ratio'] = (-4 * input['cogs']) / input['acc_pay']\n",
    "    output['cash_turnover'] = (4 * input['revenue']) / input['cash']\n",
    "    output['inventory_turnover'] = (-4 * input['cogs']) / input['inventory']\n",
    "    # test economy moat\n",
    "    output['gross_profit_margin'] = input['gross_profit'] / input['revenue']\n",
    "    output['net_profit_margin'] = input['net_profit'] / input['revenue']\n",
    "    output['roa'] = (4 * input['net_profit']) / input['total_assets']\n",
    "    output['roe'] = (4 * input['net_profit']) / (input['total_assets'] - input['total_liab'])\n",
    "\n",
    "    return output"
   ]
  },
  {
   "cell_type": "code",
   "execution_count": 13,
   "metadata": {},
   "outputs": [],
   "source": [
    "def price_ratios(input=pd.DataFrame):\n",
    "    '''\n",
    "    Calculate Value metrics from quaterly data. The original metrics have been develoed to annual data. I use quaterly data.\n",
    "    '''\n",
    "    input['pe_ratio'] = input['share_price'] / input['eps'] # previously multiplied by 4 (quaterly correction)\n",
    "    input['pb_ratio'] = input['share_price'] / input['bv_per_share'] # don't need to quaterly correct (Income Statement data)\n",
    "    input['ps_ratio'] = (input['share_price'] * input['shares']) / (input['revenue'] * 4) # quaterly corrected here --> multipled by 4\n",
    "    input['ev_revenue'] = ((input['share_price'] * input['shares']) + input['total_liab'] - input['cash']) / (input['revenue'] * 4)\n",
    "    input['pfcf_ratio'] = (input['share_price'] * input['shares']) / input['fcf']  # previously multiplied by 4 (quaterly correction)\n",
    "\n",
    "    return input"
   ]
  },
  {
   "cell_type": "code",
   "execution_count": 14,
   "metadata": {},
   "outputs": [],
   "source": [
    "def list_intersect(input1, input2):\n",
    "    '''\n",
    "    Create a list of common elements from 2 lists.\n",
    "    '''\n",
    "    result = [x for x in input1 if x in input2]\n",
    "    return result"
   ]
  }
 ],
 "metadata": {
  "kernelspec": {
   "display_name": ".venv",
   "language": "python",
   "name": "python3"
  },
  "language_info": {
   "codemirror_mode": {
    "name": "ipython",
    "version": 3
   },
   "file_extension": ".py",
   "mimetype": "text/x-python",
   "name": "python",
   "nbconvert_exporter": "python",
   "pygments_lexer": "ipython3",
   "version": "3.11.3"
  }
 },
 "nbformat": 4,
 "nbformat_minor": 2
}
