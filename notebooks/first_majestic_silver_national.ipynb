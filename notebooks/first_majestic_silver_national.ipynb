{
 "cells": [
  {
   "cell_type": "code",
   "execution_count": null,
   "id": "3a7670ee",
   "metadata": {
    "execution": {
     "iopub.execute_input": "2024-08-03T15:50:17.909280Z",
     "iopub.status.busy": "2024-08-03T15:50:17.909151Z",
     "iopub.status.idle": "2024-08-03T15:50:18.633769Z",
     "shell.execute_reply": "2024-08-03T15:50:18.633477Z"
    },
    "papermill": {
     "duration": 0.732808,
     "end_time": "2024-08-03T15:50:18.634823",
     "exception": false,
     "start_time": "2024-08-03T15:50:17.902015",
     "status": "completed"
    },
    "tags": []
   },
   "outputs": [],
   "source": [
    "import pandas as pd\n",
    "import matplotlib.pyplot as plt\n",
    "\n",
    "import yfinance as yf\n",
    "import datetime\n",
    "\n",
    "from valueinvesting import utils as utils"
   ]
  },
  {
   "cell_type": "markdown",
   "id": "eee1feb1",
   "metadata": {
    "papermill": {
     "duration": 0.020946,
     "end_time": "2024-08-03T15:50:18.665430",
     "exception": false,
     "start_time": "2024-08-03T15:50:18.644484",
     "status": "completed"
    },
    "tags": []
   },
   "source": [
    "# 1. Load raw input\n",
    "## Hardcoded block"
   ]
  },
  {
   "cell_type": "code",
   "execution_count": null,
   "id": "a9b17e2b",
   "metadata": {
    "execution": {
     "iopub.execute_input": "2024-08-03T15:50:18.687402Z",
     "iopub.status.busy": "2024-08-03T15:50:18.687086Z",
     "iopub.status.idle": "2024-08-03T15:50:18.689361Z",
     "shell.execute_reply": "2024-08-03T15:50:18.689031Z"
    },
    "papermill": {
     "duration": 0.013827,
     "end_time": "2024-08-03T15:50:18.690309",
     "exception": false,
     "start_time": "2024-08-03T15:50:18.676482",
     "status": "completed"
    },
    "tags": []
   },
   "outputs": [],
   "source": [
    "evaluate_last_X_years = True\n",
    "X=10\n",
    "currency_pair = 'CAD=X'\n",
    "numbers_in_currency = 'USD'\n",
    "share_name = 'AG.TO'"
   ]
  },
  {
   "cell_type": "markdown",
   "id": "aba748c0",
   "metadata": {
    "papermill": {
     "duration": 0.008331,
     "end_time": "2024-08-03T15:50:18.708887",
     "exception": false,
     "start_time": "2024-08-03T15:50:18.700556",
     "status": "completed"
    },
    "tags": []
   },
   "source": [
    "# 1.2. Raw input statement data"
   ]
  },
  {
   "cell_type": "code",
   "execution_count": null,
   "id": "ae5b158f",
   "metadata": {
    "execution": {
     "iopub.execute_input": "2024-08-03T15:50:18.729316Z",
     "iopub.status.busy": "2024-08-03T15:50:18.729167Z",
     "iopub.status.idle": "2024-08-03T15:50:18.737570Z",
     "shell.execute_reply": "2024-08-03T15:50:18.737139Z"
    },
    "papermill": {
     "duration": 0.02022,
     "end_time": "2024-08-03T15:50:18.738636",
     "exception": false,
     "start_time": "2024-08-03T15:50:18.718416",
     "status": "completed"
    },
    "tags": []
   },
   "outputs": [],
   "source": [
    "route = f\"../data/input/{share_name}_data.csv\"\n",
    "data = pd.read_csv(route, sep=';', parse_dates=['date', 'real_date'])\n",
    "# replace -, extend missing 0-s, fix datatype\n",
    "data = utils.replace_format_input(data)"
   ]
  },
  {
   "cell_type": "code",
   "execution_count": null,
   "id": "6fa53eb4",
   "metadata": {
    "execution": {
     "iopub.execute_input": "2024-08-03T15:50:18.760318Z",
     "iopub.status.busy": "2024-08-03T15:50:18.760168Z",
     "iopub.status.idle": "2024-08-03T15:50:18.764073Z",
     "shell.execute_reply": "2024-08-03T15:50:18.763807Z"
    },
    "papermill": {
     "duration": 0.014414,
     "end_time": "2024-08-03T15:50:18.764861",
     "exception": false,
     "start_time": "2024-08-03T15:50:18.750447",
     "status": "completed"
    },
    "tags": []
   },
   "outputs": [],
   "source": [
    "owned_shares = pd.read_csv('../data/extras/owned_stocks.csv', sep=';', parse_dates=['date'])\n",
    "owned_shares = owned_shares.loc[(owned_shares['stock'] == share_name) & (owned_shares['active'] == 'yes')]"
   ]
  },
  {
   "cell_type": "markdown",
   "id": "e9edd62f",
   "metadata": {
    "papermill": {
     "duration": 0.006089,
     "end_time": "2024-08-03T15:50:18.780708",
     "exception": false,
     "start_time": "2024-08-03T15:50:18.774619",
     "status": "completed"
    },
    "tags": []
   },
   "source": [
    "## (OPTIONAL) Time Filtering - Last 7 years daat"
   ]
  },
  {
   "cell_type": "code",
   "execution_count": null,
   "id": "63241ca6",
   "metadata": {
    "execution": {
     "iopub.execute_input": "2024-08-03T15:50:18.792862Z",
     "iopub.status.busy": "2024-08-03T15:50:18.792605Z",
     "iopub.status.idle": "2024-08-03T15:50:18.802836Z",
     "shell.execute_reply": "2024-08-03T15:50:18.802566Z"
    },
    "papermill": {
     "duration": 0.017322,
     "end_time": "2024-08-03T15:50:18.803746",
     "exception": false,
     "start_time": "2024-08-03T15:50:18.786424",
     "status": "completed"
    },
    "tags": []
   },
   "outputs": [],
   "source": [
    "if evaluate_last_X_years:\n",
    "    data = data[data['date'] > datetime.datetime.today() - datetime.timedelta(days=X*366+93)]\n",
    "    data = data.reset_index(drop=True)\n",
    "\n",
    "data.head()"
   ]
  },
  {
   "cell_type": "markdown",
   "id": "d6aa3e3d",
   "metadata": {
    "papermill": {
     "duration": 0.005291,
     "end_time": "2024-08-03T15:50:18.814698",
     "exception": false,
     "start_time": "2024-08-03T15:50:18.809407",
     "status": "completed"
    },
    "tags": []
   },
   "source": [
    "## Calculate date when quaterly reports could be available"
   ]
  },
  {
   "cell_type": "code",
   "execution_count": null,
   "id": "c3bf355b",
   "metadata": {
    "execution": {
     "iopub.execute_input": "2024-08-03T15:50:18.827120Z",
     "iopub.status.busy": "2024-08-03T15:50:18.826974Z",
     "iopub.status.idle": "2024-08-03T15:50:18.828795Z",
     "shell.execute_reply": "2024-08-03T15:50:18.828537Z"
    },
    "papermill": {
     "duration": 0.008914,
     "end_time": "2024-08-03T15:50:18.829672",
     "exception": false,
     "start_time": "2024-08-03T15:50:18.820758",
     "status": "completed"
    },
    "tags": []
   },
   "outputs": [],
   "source": [
    "data = utils.calculate_real_date(data)"
   ]
  },
  {
   "cell_type": "markdown",
   "id": "e382c818",
   "metadata": {
    "papermill": {
     "duration": 0.0054,
     "end_time": "2024-08-03T15:50:18.840860",
     "exception": false,
     "start_time": "2024-08-03T15:50:18.835460",
     "status": "completed"
    },
    "tags": []
   },
   "source": [
    "# 2. Filter out unnecesary columns"
   ]
  },
  {
   "cell_type": "code",
   "execution_count": null,
   "id": "7d1df33a",
   "metadata": {
    "execution": {
     "iopub.execute_input": "2024-08-03T15:50:18.852670Z",
     "iopub.status.busy": "2024-08-03T15:50:18.852523Z",
     "iopub.status.idle": "2024-08-03T15:50:18.858743Z",
     "shell.execute_reply": "2024-08-03T15:50:18.858484Z"
    },
    "papermill": {
     "duration": 0.013618,
     "end_time": "2024-08-03T15:50:18.859572",
     "exception": false,
     "start_time": "2024-08-03T15:50:18.845954",
     "status": "completed"
    },
    "tags": []
   },
   "outputs": [],
   "source": [
    "data = utils.filter_raw_data(data)\n",
    "data.tail()"
   ]
  },
  {
   "cell_type": "markdown",
   "id": "6074e62e",
   "metadata": {
    "papermill": {
     "duration": 0.00794,
     "end_time": "2024-08-03T15:50:18.876777",
     "exception": false,
     "start_time": "2024-08-03T15:50:18.868837",
     "status": "completed"
    },
    "tags": []
   },
   "source": [
    "## Pull historical average USD national currency rates and add to the dataframe"
   ]
  },
  {
   "cell_type": "code",
   "execution_count": null,
   "id": "c8d502bf",
   "metadata": {
    "execution": {
     "iopub.execute_input": "2024-08-03T15:50:18.889108Z",
     "iopub.status.busy": "2024-08-03T15:50:18.888882Z",
     "iopub.status.idle": "2024-08-03T15:50:27.611168Z",
     "shell.execute_reply": "2024-08-03T15:50:27.610532Z"
    },
    "papermill": {
     "duration": 8.730801,
     "end_time": "2024-08-03T15:50:27.613178",
     "exception": false,
     "start_time": "2024-08-03T15:50:18.882377",
     "status": "completed"
    },
    "tags": []
   },
   "outputs": [],
   "source": [
    "data['usd_nat_currency'] = utils.daily_price(\n",
    "    ticker=currency_pair,\n",
    "    end=data['date'],\n",
    "    days_earlier=90\n",
    "    )\n",
    "\n",
    "# drop rows, when USD rates wasn't available\n",
    "data = data[data['usd_nat_currency'].notna()]\n",
    "\n",
    "data.tail()"
   ]
  },
  {
   "cell_type": "markdown",
   "id": "0d5f838a",
   "metadata": {
    "papermill": {
     "duration": 0.013796,
     "end_time": "2024-08-03T15:50:27.642976",
     "exception": false,
     "start_time": "2024-08-03T15:50:27.629180",
     "status": "completed"
    },
    "tags": []
   },
   "source": [
    "## Convert USD values related to IS, BS, CFS to national currency"
   ]
  },
  {
   "cell_type": "code",
   "execution_count": null,
   "id": "54bafae5",
   "metadata": {
    "execution": {
     "iopub.execute_input": "2024-08-03T15:50:27.666931Z",
     "iopub.status.busy": "2024-08-03T15:50:27.666418Z",
     "iopub.status.idle": "2024-08-03T15:50:27.682610Z",
     "shell.execute_reply": "2024-08-03T15:50:27.682254Z"
    },
    "papermill": {
     "duration": 0.028934,
     "end_time": "2024-08-03T15:50:27.683902",
     "exception": false,
     "start_time": "2024-08-03T15:50:27.654968",
     "status": "completed"
    },
    "tags": []
   },
   "outputs": [],
   "source": [
    "# convert columns into national currency if necessary\n",
    "if numbers_in_currency == 'USD':\n",
    "    data_nat_curr = utils.convert_national_currency(input_data=data, currency=data)\n",
    "else:\n",
    "    data_nat_curr = data.copy()\n",
    "data_nat_curr.tail()"
   ]
  },
  {
   "cell_type": "markdown",
   "id": "e1926e24",
   "metadata": {
    "papermill": {
     "duration": 0.009902,
     "end_time": "2024-08-03T15:50:27.705465",
     "exception": false,
     "start_time": "2024-08-03T15:50:27.695563",
     "status": "completed"
    },
    "tags": []
   },
   "source": [
    "# 3. Calculate input to Value Raios (eps, bv per share, fcf)\n",
    "## filter out unwanted columns"
   ]
  },
  {
   "cell_type": "code",
   "execution_count": null,
   "id": "2c33731e",
   "metadata": {
    "execution": {
     "iopub.execute_input": "2024-08-03T15:50:27.727835Z",
     "iopub.status.busy": "2024-08-03T15:50:27.727672Z",
     "iopub.status.idle": "2024-08-03T15:50:27.731305Z",
     "shell.execute_reply": "2024-08-03T15:50:27.730935Z"
    },
    "papermill": {
     "duration": 0.016529,
     "end_time": "2024-08-03T15:50:27.732309",
     "exception": false,
     "start_time": "2024-08-03T15:50:27.715780",
     "status": "completed"
    },
    "tags": []
   },
   "outputs": [],
   "source": [
    "filtered_nat_curr = utils.calculate_input_value_ratios(data_nat_curr)"
   ]
  },
  {
   "cell_type": "markdown",
   "id": "1f6b3cd4",
   "metadata": {
    "papermill": {
     "duration": 0.010752,
     "end_time": "2024-08-03T15:50:27.755500",
     "exception": false,
     "start_time": "2024-08-03T15:50:27.744748",
     "status": "completed"
    },
    "tags": []
   },
   "source": [
    "## Calculate input values to value ratios"
   ]
  },
  {
   "cell_type": "code",
   "execution_count": null,
   "id": "cbb44635",
   "metadata": {
    "execution": {
     "iopub.execute_input": "2024-08-03T15:50:27.773016Z",
     "iopub.status.busy": "2024-08-03T15:50:27.772867Z",
     "iopub.status.idle": "2024-08-03T15:50:27.775451Z",
     "shell.execute_reply": "2024-08-03T15:50:27.775155Z"
    },
    "papermill": {
     "duration": 0.010489,
     "end_time": "2024-08-03T15:50:27.776345",
     "exception": false,
     "start_time": "2024-08-03T15:50:27.765856",
     "status": "completed"
    },
    "tags": []
   },
   "outputs": [],
   "source": [
    "ratios_nat_curr = utils.ratios_input_filter(filtered_nat_curr)"
   ]
  },
  {
   "cell_type": "code",
   "execution_count": null,
   "id": "4ce7a2bd",
   "metadata": {
    "execution": {
     "iopub.execute_input": "2024-08-03T15:50:27.789055Z",
     "iopub.status.busy": "2024-08-03T15:50:27.788922Z",
     "iopub.status.idle": "2024-08-03T15:50:27.794989Z",
     "shell.execute_reply": "2024-08-03T15:50:27.794741Z"
    },
    "papermill": {
     "duration": 0.013235,
     "end_time": "2024-08-03T15:50:27.795776",
     "exception": false,
     "start_time": "2024-08-03T15:50:27.782541",
     "status": "completed"
    },
    "tags": []
   },
   "outputs": [],
   "source": [
    "ratios_nat_curr = utils.evaluate_performance(input=filtered_nat_curr, output=ratios_nat_curr)"
   ]
  },
  {
   "cell_type": "markdown",
   "id": "af27a333",
   "metadata": {
    "papermill": {
     "duration": 0.00649,
     "end_time": "2024-08-03T15:50:27.808688",
     "exception": false,
     "start_time": "2024-08-03T15:50:27.802198",
     "status": "completed"
    },
    "tags": []
   },
   "source": [
    "# 4. Pull historical share prices and merge with sattement data"
   ]
  },
  {
   "cell_type": "code",
   "execution_count": null,
   "id": "d0cc9e52",
   "metadata": {
    "execution": {
     "iopub.execute_input": "2024-08-03T15:50:27.821339Z",
     "iopub.status.busy": "2024-08-03T15:50:27.821206Z",
     "iopub.status.idle": "2024-08-03T15:50:28.073760Z",
     "shell.execute_reply": "2024-08-03T15:50:28.073325Z"
    },
    "papermill": {
     "duration": 0.26089,
     "end_time": "2024-08-03T15:50:28.074889",
     "exception": false,
     "start_time": "2024-08-03T15:50:27.813999",
     "status": "completed"
    },
    "tags": []
   },
   "outputs": [],
   "source": [
    "# pull weekly share prices and merge with the value ratios\n",
    "merged_nat_curr = utils.add_share_prices_to_value_ratios(share_name, data, ratios_nat_curr)\n",
    "merged_nat_curr.head()"
   ]
  },
  {
   "cell_type": "markdown",
   "id": "5cd2270a",
   "metadata": {
    "papermill": {
     "duration": 0.013377,
     "end_time": "2024-08-03T15:50:28.102037",
     "exception": false,
     "start_time": "2024-08-03T15:50:28.088660",
     "status": "completed"
    },
    "tags": []
   },
   "source": [
    "# Calculate price ratios (P/E, P/B, P/S, P/FCF)"
   ]
  },
  {
   "cell_type": "code",
   "execution_count": null,
   "id": "3c58a230",
   "metadata": {
    "execution": {
     "iopub.execute_input": "2024-08-03T15:50:28.126935Z",
     "iopub.status.busy": "2024-08-03T15:50:28.126761Z",
     "iopub.status.idle": "2024-08-03T15:50:28.137321Z",
     "shell.execute_reply": "2024-08-03T15:50:28.137018Z"
    },
    "papermill": {
     "duration": 0.023791,
     "end_time": "2024-08-03T15:50:28.138279",
     "exception": false,
     "start_time": "2024-08-03T15:50:28.114488",
     "status": "completed"
    },
    "tags": []
   },
   "outputs": [],
   "source": [
    "merged_nat_curr = utils.price_ratios(merged_nat_curr)\n",
    "merged_nat_curr.head()"
   ]
  },
  {
   "cell_type": "markdown",
   "id": "20c9be1b",
   "metadata": {
    "papermill": {
     "duration": 0.010316,
     "end_time": "2024-08-03T15:50:28.160098",
     "exception": false,
     "start_time": "2024-08-03T15:50:28.149782",
     "status": "completed"
    },
    "tags": []
   },
   "source": [
    "# Calculate Dividend yield and currency-share price correlation"
   ]
  },
  {
   "cell_type": "code",
   "execution_count": null,
   "id": "b4584d3b",
   "metadata": {
    "execution": {
     "iopub.execute_input": "2024-08-03T15:50:28.177873Z",
     "iopub.status.busy": "2024-08-03T15:50:28.177731Z",
     "iopub.status.idle": "2024-08-03T15:50:28.496813Z",
     "shell.execute_reply": "2024-08-03T15:50:28.496397Z"
    },
    "papermill": {
     "duration": 0.3278,
     "end_time": "2024-08-03T15:50:28.498296",
     "exception": false,
     "start_time": "2024-08-03T15:50:28.170496",
     "status": "completed"
    },
    "tags": []
   },
   "outputs": [],
   "source": [
    "# get daily historical USD-national currency rates\n",
    "usd_nat_curr = utils.get_historical_currency_rate(currency_pair, merged_nat_curr)"
   ]
  },
  {
   "cell_type": "code",
   "execution_count": null,
   "id": "4724ffe2",
   "metadata": {
    "execution": {
     "iopub.execute_input": "2024-08-03T15:50:28.529287Z",
     "iopub.status.busy": "2024-08-03T15:50:28.529100Z",
     "iopub.status.idle": "2024-08-03T15:50:29.004947Z",
     "shell.execute_reply": "2024-08-03T15:50:29.004665Z"
    },
    "papermill": {
     "duration": 0.492294,
     "end_time": "2024-08-03T15:50:29.005951",
     "exception": false,
     "start_time": "2024-08-03T15:50:28.513657",
     "status": "completed"
    },
    "tags": []
   },
   "outputs": [],
   "source": [
    "# get share prices and dividend yield data\n",
    "ticker_all_price = utils.get_historical_share_dividend(share_name, merged_nat_curr)"
   ]
  },
  {
   "cell_type": "code",
   "execution_count": null,
   "id": "3ff6ca79",
   "metadata": {
    "execution": {
     "iopub.execute_input": "2024-08-03T15:50:29.028131Z",
     "iopub.status.busy": "2024-08-03T15:50:29.028001Z",
     "iopub.status.idle": "2024-08-03T15:50:29.208265Z",
     "shell.execute_reply": "2024-08-03T15:50:29.208014Z"
    },
    "papermill": {
     "duration": 0.191002,
     "end_time": "2024-08-03T15:50:29.209155",
     "exception": false,
     "start_time": "2024-08-03T15:50:29.018153",
     "status": "completed"
    },
    "tags": []
   },
   "outputs": [],
   "source": [
    "# Pearson's correlation coefficient between share price and USD - national currency rate\n",
    "utils.get_currency_share_price_correlation(share_name, usd_nat_curr, ticker_all_price)"
   ]
  },
  {
   "cell_type": "markdown",
   "id": "16343533",
   "metadata": {
    "papermill": {
     "duration": 0.014314,
     "end_time": "2024-08-03T15:50:29.234859",
     "exception": false,
     "start_time": "2024-08-03T15:50:29.220545",
     "status": "completed"
    },
    "tags": []
   },
   "source": [
    "# Share price and value ratios"
   ]
  },
  {
   "cell_type": "code",
   "execution_count": null,
   "id": "51724761",
   "metadata": {
    "execution": {
     "iopub.execute_input": "2024-08-03T15:50:29.258554Z",
     "iopub.status.busy": "2024-08-03T15:50:29.258358Z",
     "iopub.status.idle": "2024-08-03T15:50:33.641701Z",
     "shell.execute_reply": "2024-08-03T15:50:33.641424Z"
    },
    "papermill": {
     "duration": 4.393136,
     "end_time": "2024-08-03T15:50:33.642684",
     "exception": false,
     "start_time": "2024-08-03T15:50:29.249548",
     "status": "completed"
    },
    "tags": []
   },
   "outputs": [],
   "source": [
    "for column in merged_nat_curr.columns[3:]:\n",
    "    fig, ax1 = plt.subplots(figsize=(15, 6))\n",
    "\n",
    "    ax2 = ax1.twinx()\n",
    "    ax1.plot(merged_nat_curr['real_date'], merged_nat_curr[column], color='k', label=merged_nat_curr)\n",
    "    ax2.plot(ticker_all_price.index, ticker_all_price['Close'], color='b', label=share_name)\n",
    "\n",
    "    ax1.set_xlabel('Date')\n",
    "    ax1.set_ylabel(column, color='k')\n",
    "    ax2.set_ylabel('Share price (national currency)', color='b')\n",
    "\n",
    "    plt.legend()\n",
    "    plt.show()"
   ]
  },
  {
   "cell_type": "code",
   "execution_count": null,
   "id": "96836fab",
   "metadata": {
    "execution": {
     "iopub.execute_input": "2024-08-03T15:50:33.689627Z",
     "iopub.status.busy": "2024-08-03T15:50:33.689489Z",
     "iopub.status.idle": "2024-08-03T15:50:34.597611Z",
     "shell.execute_reply": "2024-08-03T15:50:34.597327Z"
    },
    "papermill": {
     "duration": 0.931122,
     "end_time": "2024-08-03T15:50:34.598461",
     "exception": false,
     "start_time": "2024-08-03T15:50:33.667339",
     "status": "completed"
    },
    "tags": []
   },
   "outputs": [],
   "source": [
    "# plot histograms of value parameters\n",
    "utils.plot_histogram_value_parameters(input_df=merged_nat_curr, extra_parameters=[], owned_shares=owned_shares)"
   ]
  },
  {
   "cell_type": "markdown",
   "id": "9a6177f3",
   "metadata": {
    "papermill": {
     "duration": 0.032913,
     "end_time": "2024-08-03T15:50:34.652300",
     "exception": false,
     "start_time": "2024-08-03T15:50:34.619387",
     "status": "completed"
    },
    "tags": []
   },
   "source": [
    "## Calculate correlation between value parameters"
   ]
  },
  {
   "cell_type": "code",
   "execution_count": null,
   "id": "4aece97d",
   "metadata": {
    "execution": {
     "iopub.execute_input": "2024-08-03T15:50:34.693156Z",
     "iopub.status.busy": "2024-08-03T15:50:34.693025Z",
     "iopub.status.idle": "2024-08-03T15:50:34.698487Z",
     "shell.execute_reply": "2024-08-03T15:50:34.698261Z"
    },
    "papermill": {
     "duration": 0.027201,
     "end_time": "2024-08-03T15:50:34.699386",
     "exception": false,
     "start_time": "2024-08-03T15:50:34.672185",
     "status": "completed"
    },
    "tags": []
   },
   "outputs": [],
   "source": [
    "# calulate value parameters Pearson's correlation coefficient\n",
    "pd.DataFrame(merged_nat_curr, columns=['roa', 'roe', 'pe_ratio', 'pb_ratio', 'ps_ratio', 'ev_revenue', 'debt_to_equity', 'current_ratio']).corr()"
   ]
  },
  {
   "cell_type": "code",
   "execution_count": null,
   "id": "0b2c6b43",
   "metadata": {},
   "outputs": [],
   "source": [
    "final_df = utils.get_value_stock_target_prices(\n",
    "    input_df=merged_nat_curr,\n",
    "    min_pct=0.2,\n",
    "    max_pct=0.5,\n",
    "    owned_shares=owned_shares\n",
    ")"
   ]
  }
 ],
 "metadata": {
  "kernelspec": {
   "display_name": ".venv",
   "language": "python",
   "name": "python3"
  },
  "language_info": {
   "codemirror_mode": {
    "name": "ipython",
    "version": 3
   },
   "file_extension": ".py",
   "mimetype": "text/x-python",
   "name": "python",
   "nbconvert_exporter": "python",
   "pygments_lexer": "ipython3",
   "version": "3.11.3"
  },
  "papermill": {
   "default_parameters": {},
   "duration": 18.252812,
   "end_time": "2024-08-03T15:50:35.187617",
   "environment_variables": {},
   "exception": null,
   "input_path": "../notebooks/first_majestic_silver_national.ipynb",
   "output_path": "../notebooks/first_majestic_silver_national.ipynb",
   "parameters": {},
   "start_time": "2024-08-03T15:50:16.934805",
   "version": "2.5.0"
  }
 },
 "nbformat": 4,
 "nbformat_minor": 5
}
