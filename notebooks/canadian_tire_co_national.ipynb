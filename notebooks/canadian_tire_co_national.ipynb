{
 "cells": [
  {
   "cell_type": "code",
   "execution_count": null,
   "id": "68c98485",
   "metadata": {
    "execution": {
     "iopub.execute_input": "2024-08-03T15:52:43.720903Z",
     "iopub.status.busy": "2024-08-03T15:52:43.720608Z",
     "iopub.status.idle": "2024-08-03T15:52:44.403342Z",
     "shell.execute_reply": "2024-08-03T15:52:44.403044Z"
    },
    "papermill": {
     "duration": 0.694748,
     "end_time": "2024-08-03T15:52:44.404414",
     "exception": false,
     "start_time": "2024-08-03T15:52:43.709666",
     "status": "completed"
    },
    "tags": []
   },
   "outputs": [],
   "source": [
    "import pandas as pd\n",
    "import matplotlib.pyplot as plt\n",
    "import numpy as np\n",
    "\n",
    "import yfinance as yf\n",
    "import datetime\n",
    "\n",
    "from valueinvesting import utils as utils"
   ]
  },
  {
   "cell_type": "markdown",
   "id": "522215f2",
   "metadata": {
    "papermill": {
     "duration": 0.010545,
     "end_time": "2024-08-03T15:52:44.428810",
     "exception": false,
     "start_time": "2024-08-03T15:52:44.418265",
     "status": "completed"
    },
    "tags": []
   },
   "source": [
    "# 1. Load raw input\n",
    "## Hardcoded block"
   ]
  },
  {
   "cell_type": "code",
   "execution_count": null,
   "id": "dd2b2836",
   "metadata": {
    "execution": {
     "iopub.execute_input": "2024-08-03T15:52:44.449158Z",
     "iopub.status.busy": "2024-08-03T15:52:44.448951Z",
     "iopub.status.idle": "2024-08-03T15:52:44.450985Z",
     "shell.execute_reply": "2024-08-03T15:52:44.450728Z"
    },
    "papermill": {
     "duration": 0.013066,
     "end_time": "2024-08-03T15:52:44.451804",
     "exception": false,
     "start_time": "2024-08-03T15:52:44.438738",
     "status": "completed"
    },
    "tags": []
   },
   "outputs": [],
   "source": [
    "evaluate_last_X_years = True\n",
    "X=10\n",
    "currency_pair = 'CAD=X'\n",
    "numbers_in_currency = 'CAD'\n",
    "share_name = 'CTC-A.TO'"
   ]
  },
  {
   "cell_type": "markdown",
   "id": "9885a391",
   "metadata": {
    "papermill": {
     "duration": 0.005633,
     "end_time": "2024-08-03T15:52:44.463737",
     "exception": false,
     "start_time": "2024-08-03T15:52:44.458104",
     "status": "completed"
    },
    "tags": []
   },
   "source": [
    "# 1.2. Raw input statement data"
   ]
  },
  {
   "cell_type": "code",
   "execution_count": null,
   "id": "161aa9e6",
   "metadata": {
    "execution": {
     "iopub.execute_input": "2024-08-03T15:52:44.475589Z",
     "iopub.status.busy": "2024-08-03T15:52:44.475436Z",
     "iopub.status.idle": "2024-08-03T15:52:44.486985Z",
     "shell.execute_reply": "2024-08-03T15:52:44.486697Z"
    },
    "papermill": {
     "duration": 0.018768,
     "end_time": "2024-08-03T15:52:44.488030",
     "exception": false,
     "start_time": "2024-08-03T15:52:44.469262",
     "status": "completed"
    },
    "tags": []
   },
   "outputs": [],
   "source": [
    "route = f\"../data/input/{share_name}_data.csv\"\n",
    "data = pd.read_csv(route, sep=';', parse_dates=['date', 'real_date'])\n",
    "# replace -, extend missing 0-s, fix datatype\n",
    "data = utils.replace_format_input(data)"
   ]
  },
  {
   "cell_type": "code",
   "execution_count": null,
   "id": "37c086d7",
   "metadata": {
    "execution": {
     "iopub.execute_input": "2024-08-03T15:52:44.503947Z",
     "iopub.status.busy": "2024-08-03T15:52:44.503723Z",
     "iopub.status.idle": "2024-08-03T15:52:44.508428Z",
     "shell.execute_reply": "2024-08-03T15:52:44.508106Z"
    },
    "papermill": {
     "duration": 0.012119,
     "end_time": "2024-08-03T15:52:44.509485",
     "exception": false,
     "start_time": "2024-08-03T15:52:44.497366",
     "status": "completed"
    },
    "tags": []
   },
   "outputs": [],
   "source": [
    "owned_shares = pd.read_csv('../data/extras/owned_stocks.csv', sep=';', parse_dates=['date'])\n",
    "owned_shares = owned_shares.loc[(owned_shares['stock'] == share_name) & (owned_shares['active'] == 'yes')]"
   ]
  },
  {
   "cell_type": "markdown",
   "id": "99f315bb",
   "metadata": {
    "papermill": {
     "duration": 0.008509,
     "end_time": "2024-08-03T15:52:44.527640",
     "exception": false,
     "start_time": "2024-08-03T15:52:44.519131",
     "status": "completed"
    },
    "tags": []
   },
   "source": [
    "## (OPTIONAL) Time Filtering - Last 7 years daat"
   ]
  },
  {
   "cell_type": "code",
   "execution_count": null,
   "id": "edb4646a",
   "metadata": {
    "execution": {
     "iopub.execute_input": "2024-08-03T15:52:44.539198Z",
     "iopub.status.busy": "2024-08-03T15:52:44.538983Z",
     "iopub.status.idle": "2024-08-03T15:52:44.548251Z",
     "shell.execute_reply": "2024-08-03T15:52:44.547998Z"
    },
    "papermill": {
     "duration": 0.015771,
     "end_time": "2024-08-03T15:52:44.549020",
     "exception": false,
     "start_time": "2024-08-03T15:52:44.533249",
     "status": "completed"
    },
    "tags": []
   },
   "outputs": [],
   "source": [
    "if evaluate_last_X_years:\n",
    "    data = data[data['date'] > datetime.datetime.today() - datetime.timedelta(days=X*366+93)]\n",
    "    data = data.reset_index(drop=True)\n",
    "\n",
    "data.head()"
   ]
  },
  {
   "cell_type": "markdown",
   "id": "53b35b54",
   "metadata": {
    "papermill": {
     "duration": 0.008359,
     "end_time": "2024-08-03T15:52:44.568104",
     "exception": false,
     "start_time": "2024-08-03T15:52:44.559745",
     "status": "completed"
    },
    "tags": []
   },
   "source": [
    "## Calculate date when quaterly reports could be available"
   ]
  },
  {
   "cell_type": "code",
   "execution_count": null,
   "id": "ec31654b",
   "metadata": {
    "execution": {
     "iopub.execute_input": "2024-08-03T15:52:44.585028Z",
     "iopub.status.busy": "2024-08-03T15:52:44.584884Z",
     "iopub.status.idle": "2024-08-03T15:52:44.586743Z",
     "shell.execute_reply": "2024-08-03T15:52:44.586493Z"
    },
    "papermill": {
     "duration": 0.009623,
     "end_time": "2024-08-03T15:52:44.587689",
     "exception": false,
     "start_time": "2024-08-03T15:52:44.578066",
     "status": "completed"
    },
    "tags": []
   },
   "outputs": [],
   "source": [
    "data = utils.calculate_real_date(data)"
   ]
  },
  {
   "cell_type": "markdown",
   "id": "b186077e",
   "metadata": {
    "papermill": {
     "duration": 0.006087,
     "end_time": "2024-08-03T15:52:44.599306",
     "exception": false,
     "start_time": "2024-08-03T15:52:44.593219",
     "status": "completed"
    },
    "tags": []
   },
   "source": [
    "# 2. Filter out unnecesary columns"
   ]
  },
  {
   "cell_type": "code",
   "execution_count": null,
   "id": "f3d7c84d",
   "metadata": {
    "execution": {
     "iopub.execute_input": "2024-08-03T15:52:44.611155Z",
     "iopub.status.busy": "2024-08-03T15:52:44.610934Z",
     "iopub.status.idle": "2024-08-03T15:52:44.617689Z",
     "shell.execute_reply": "2024-08-03T15:52:44.617433Z"
    },
    "papermill": {
     "duration": 0.013421,
     "end_time": "2024-08-03T15:52:44.618477",
     "exception": false,
     "start_time": "2024-08-03T15:52:44.605056",
     "status": "completed"
    },
    "tags": []
   },
   "outputs": [],
   "source": [
    "data = utils.filter_raw_data(data)\n",
    "data.tail()"
   ]
  },
  {
   "cell_type": "markdown",
   "id": "6f9a601b",
   "metadata": {
    "papermill": {
     "duration": 0.006361,
     "end_time": "2024-08-03T15:52:44.630828",
     "exception": false,
     "start_time": "2024-08-03T15:52:44.624467",
     "status": "completed"
    },
    "tags": []
   },
   "source": [
    "## Pull historical average USD national currency rates and add to the dataframe"
   ]
  },
  {
   "cell_type": "code",
   "execution_count": null,
   "id": "bcaaf7af",
   "metadata": {
    "execution": {
     "iopub.execute_input": "2024-08-03T15:52:44.642753Z",
     "iopub.status.busy": "2024-08-03T15:52:44.642609Z",
     "iopub.status.idle": "2024-08-03T15:52:52.789946Z",
     "shell.execute_reply": "2024-08-03T15:52:52.789605Z"
    },
    "papermill": {
     "duration": 8.154418,
     "end_time": "2024-08-03T15:52:52.791075",
     "exception": false,
     "start_time": "2024-08-03T15:52:44.636657",
     "status": "completed"
    },
    "tags": []
   },
   "outputs": [],
   "source": [
    "data['usd_nat_currency'] = utils.daily_price(\n",
    "    ticker=currency_pair,\n",
    "    end=data['date'],\n",
    "    days_earlier=90\n",
    "    )\n",
    "\n",
    "# drop rows, when USD rates wasn't available\n",
    "data = data[data['usd_nat_currency'].notna()]\n",
    "\n",
    "data.tail()"
   ]
  },
  {
   "cell_type": "markdown",
   "id": "602250dc",
   "metadata": {
    "papermill": {
     "duration": 0.006134,
     "end_time": "2024-08-03T15:52:52.805355",
     "exception": false,
     "start_time": "2024-08-03T15:52:52.799221",
     "status": "completed"
    },
    "tags": []
   },
   "source": [
    "## Convert USD values related to IS, BS, CFS to national currency"
   ]
  },
  {
   "cell_type": "code",
   "execution_count": null,
   "id": "76521d26",
   "metadata": {
    "execution": {
     "iopub.execute_input": "2024-08-03T15:52:52.818388Z",
     "iopub.status.busy": "2024-08-03T15:52:52.818231Z",
     "iopub.status.idle": "2024-08-03T15:52:52.825429Z",
     "shell.execute_reply": "2024-08-03T15:52:52.825170Z"
    },
    "papermill": {
     "duration": 0.015108,
     "end_time": "2024-08-03T15:52:52.826338",
     "exception": false,
     "start_time": "2024-08-03T15:52:52.811230",
     "status": "completed"
    },
    "tags": []
   },
   "outputs": [],
   "source": [
    "# convert columns into national currency if necessary\n",
    "if numbers_in_currency == 'USD':\n",
    "    data_nat_curr = utils.convert_national_currency(input_data=data, currency=data)\n",
    "else:\n",
    "    data_nat_curr = data.copy()\n",
    "data_nat_curr.tail()"
   ]
  },
  {
   "cell_type": "markdown",
   "id": "77e12bc3",
   "metadata": {
    "papermill": {
     "duration": 0.011069,
     "end_time": "2024-08-03T15:52:52.848474",
     "exception": false,
     "start_time": "2024-08-03T15:52:52.837405",
     "status": "completed"
    },
    "tags": []
   },
   "source": [
    "# 3. Calculate input to Value Raios (eps, bv per share, fcf)\n",
    "## filter out unwanted columns"
   ]
  },
  {
   "cell_type": "code",
   "execution_count": null,
   "id": "2a221f4c",
   "metadata": {
    "execution": {
     "iopub.execute_input": "2024-08-03T15:52:52.869295Z",
     "iopub.status.busy": "2024-08-03T15:52:52.869069Z",
     "iopub.status.idle": "2024-08-03T15:52:52.872416Z",
     "shell.execute_reply": "2024-08-03T15:52:52.872147Z"
    },
    "papermill": {
     "duration": 0.014504,
     "end_time": "2024-08-03T15:52:52.873275",
     "exception": false,
     "start_time": "2024-08-03T15:52:52.858771",
     "status": "completed"
    },
    "tags": []
   },
   "outputs": [],
   "source": [
    "filtered_nat_curr = utils.calculate_input_value_ratios(data_nat_curr)"
   ]
  },
  {
   "cell_type": "markdown",
   "id": "67ecf4eb",
   "metadata": {
    "papermill": {
     "duration": 0.009711,
     "end_time": "2024-08-03T15:52:52.893015",
     "exception": false,
     "start_time": "2024-08-03T15:52:52.883304",
     "status": "completed"
    },
    "tags": []
   },
   "source": [
    "## Calculate input values to value ratios"
   ]
  },
  {
   "cell_type": "code",
   "execution_count": null,
   "id": "78119db2",
   "metadata": {
    "execution": {
     "iopub.execute_input": "2024-08-03T15:52:52.914027Z",
     "iopub.status.busy": "2024-08-03T15:52:52.913884Z",
     "iopub.status.idle": "2024-08-03T15:52:52.916417Z",
     "shell.execute_reply": "2024-08-03T15:52:52.916108Z"
    },
    "papermill": {
     "duration": 0.014284,
     "end_time": "2024-08-03T15:52:52.917338",
     "exception": false,
     "start_time": "2024-08-03T15:52:52.903054",
     "status": "completed"
    },
    "tags": []
   },
   "outputs": [],
   "source": [
    "ratios_nat_curr = utils.ratios_input_filter(filtered_nat_curr)"
   ]
  },
  {
   "cell_type": "code",
   "execution_count": null,
   "id": "17366243",
   "metadata": {
    "execution": {
     "iopub.execute_input": "2024-08-03T15:52:52.937546Z",
     "iopub.status.busy": "2024-08-03T15:52:52.937402Z",
     "iopub.status.idle": "2024-08-03T15:52:52.943789Z",
     "shell.execute_reply": "2024-08-03T15:52:52.943515Z"
    },
    "papermill": {
     "duration": 0.016621,
     "end_time": "2024-08-03T15:52:52.944645",
     "exception": false,
     "start_time": "2024-08-03T15:52:52.928024",
     "status": "completed"
    },
    "tags": []
   },
   "outputs": [],
   "source": [
    "ratios_nat_curr = utils.evaluate_performance(input=filtered_nat_curr, output=ratios_nat_curr)"
   ]
  },
  {
   "cell_type": "markdown",
   "id": "e9242224",
   "metadata": {
    "papermill": {
     "duration": 0.006078,
     "end_time": "2024-08-03T15:52:52.958153",
     "exception": false,
     "start_time": "2024-08-03T15:52:52.952075",
     "status": "completed"
    },
    "tags": []
   },
   "source": [
    "# 4. Pull historical share prices and merge with sattement data\n",
    "## Pull historical share prices"
   ]
  },
  {
   "cell_type": "code",
   "execution_count": null,
   "id": "1d834c6e",
   "metadata": {
    "execution": {
     "iopub.execute_input": "2024-08-03T15:52:52.971917Z",
     "iopub.status.busy": "2024-08-03T15:52:52.971694Z",
     "iopub.status.idle": "2024-08-03T15:52:53.380289Z",
     "shell.execute_reply": "2024-08-03T15:52:53.379887Z"
    },
    "papermill": {
     "duration": 0.41742,
     "end_time": "2024-08-03T15:52:53.381556",
     "exception": false,
     "start_time": "2024-08-03T15:52:52.964136",
     "status": "completed"
    },
    "tags": []
   },
   "outputs": [],
   "source": [
    "# pull weekly share prices and merge with the value ratios\n",
    "merged_nat_curr = utils.add_share_prices_to_value_ratios(share_name, data, ratios_nat_curr)\n",
    "merged_nat_curr.head()"
   ]
  },
  {
   "cell_type": "markdown",
   "id": "a5904aa3",
   "metadata": {
    "papermill": {
     "duration": 0.011048,
     "end_time": "2024-08-03T15:52:53.406311",
     "exception": false,
     "start_time": "2024-08-03T15:52:53.395263",
     "status": "completed"
    },
    "tags": []
   },
   "source": [
    "# Calculate price ratios (P/E, P/B, P/S, P/FCF)"
   ]
  },
  {
   "cell_type": "code",
   "execution_count": null,
   "id": "10397f8f",
   "metadata": {
    "execution": {
     "iopub.execute_input": "2024-08-03T15:52:53.427108Z",
     "iopub.status.busy": "2024-08-03T15:52:53.426887Z",
     "iopub.status.idle": "2024-08-03T15:52:53.435910Z",
     "shell.execute_reply": "2024-08-03T15:52:53.435663Z"
    },
    "papermill": {
     "duration": 0.019947,
     "end_time": "2024-08-03T15:52:53.436752",
     "exception": false,
     "start_time": "2024-08-03T15:52:53.416805",
     "status": "completed"
    },
    "tags": []
   },
   "outputs": [],
   "source": [
    "merged_nat_curr = utils.price_ratios(merged_nat_curr)\n",
    "merged_nat_curr.head()"
   ]
  },
  {
   "cell_type": "markdown",
   "id": "4418bd9d",
   "metadata": {
    "papermill": {
     "duration": 0.006571,
     "end_time": "2024-08-03T15:52:53.452189",
     "exception": false,
     "start_time": "2024-08-03T15:52:53.445618",
     "status": "completed"
    },
    "tags": []
   },
   "source": [
    "# Calculate Dividend yield and currency-share price correlation"
   ]
  },
  {
   "cell_type": "code",
   "execution_count": null,
   "id": "164c7127",
   "metadata": {
    "execution": {
     "iopub.execute_input": "2024-08-03T15:52:53.469576Z",
     "iopub.status.busy": "2024-08-03T15:52:53.469345Z",
     "iopub.status.idle": "2024-08-03T15:52:53.886760Z",
     "shell.execute_reply": "2024-08-03T15:52:53.886241Z"
    },
    "papermill": {
     "duration": 0.429685,
     "end_time": "2024-08-03T15:52:53.888431",
     "exception": false,
     "start_time": "2024-08-03T15:52:53.458746",
     "status": "completed"
    },
    "tags": []
   },
   "outputs": [],
   "source": [
    "# get daily historical USD-national currency rates\n",
    "usd_nat_curr = utils.get_historical_currency_rate(currency_pair, merged_nat_curr)"
   ]
  },
  {
   "cell_type": "code",
   "execution_count": null,
   "id": "7b287470",
   "metadata": {
    "execution": {
     "iopub.execute_input": "2024-08-03T15:52:53.910291Z",
     "iopub.status.busy": "2024-08-03T15:52:53.910101Z",
     "iopub.status.idle": "2024-08-03T15:52:54.408660Z",
     "shell.execute_reply": "2024-08-03T15:52:54.408397Z"
    },
    "papermill": {
     "duration": 0.509349,
     "end_time": "2024-08-03T15:52:54.409462",
     "exception": false,
     "start_time": "2024-08-03T15:52:53.900113",
     "status": "completed"
    },
    "tags": []
   },
   "outputs": [],
   "source": [
    "# get share prices and dividend yield data\n",
    "ticker_all_price = utils.get_historical_share_dividend(share_name, merged_nat_curr)"
   ]
  },
  {
   "cell_type": "code",
   "execution_count": null,
   "id": "c95bb446",
   "metadata": {
    "execution": {
     "iopub.execute_input": "2024-08-03T15:52:54.432226Z",
     "iopub.status.busy": "2024-08-03T15:52:54.432122Z",
     "iopub.status.idle": "2024-08-03T15:52:54.608158Z",
     "shell.execute_reply": "2024-08-03T15:52:54.607876Z"
    },
    "papermill": {
     "duration": 0.189935,
     "end_time": "2024-08-03T15:52:54.609092",
     "exception": false,
     "start_time": "2024-08-03T15:52:54.419157",
     "status": "completed"
    },
    "tags": []
   },
   "outputs": [],
   "source": [
    "# Pearson's correlation coefficient between share price and USD - national currency rate\n",
    "utils.get_currency_share_price_correlation(share_name, usd_nat_curr, ticker_all_price)"
   ]
  },
  {
   "cell_type": "markdown",
   "id": "42ff200d",
   "metadata": {
    "papermill": {
     "duration": 0.012836,
     "end_time": "2024-08-03T15:52:54.633564",
     "exception": false,
     "start_time": "2024-08-03T15:52:54.620728",
     "status": "completed"
    },
    "tags": []
   },
   "source": [
    "# Share price and value ratios"
   ]
  },
  {
   "cell_type": "code",
   "execution_count": null,
   "id": "37276f55",
   "metadata": {
    "execution": {
     "iopub.execute_input": "2024-08-03T15:52:54.659763Z",
     "iopub.status.busy": "2024-08-03T15:52:54.659627Z",
     "iopub.status.idle": "2024-08-03T15:52:58.965569Z",
     "shell.execute_reply": "2024-08-03T15:52:58.965294Z"
    },
    "papermill": {
     "duration": 4.320301,
     "end_time": "2024-08-03T15:52:58.966446",
     "exception": false,
     "start_time": "2024-08-03T15:52:54.646145",
     "status": "completed"
    },
    "tags": []
   },
   "outputs": [],
   "source": [
    "for column in merged_nat_curr.columns[3:]:\n",
    "    fig, ax1 = plt.subplots(figsize=(15, 6))\n",
    "\n",
    "    ax2 = ax1.twinx()\n",
    "    ax1.plot(merged_nat_curr['real_date'], merged_nat_curr[column], color='k', label=merged_nat_curr)\n",
    "    ax2.plot(ticker_all_price.index, ticker_all_price['Close'], color='b', label=share_name)\n",
    "\n",
    "    ax1.set_xlabel('Date')\n",
    "    ax1.set_ylabel(column, color='k')\n",
    "    ax2.set_ylabel('Share price (national currency)', color='b')\n",
    "\n",
    "    plt.legend()\n",
    "    plt.show()"
   ]
  },
  {
   "cell_type": "code",
   "execution_count": null,
   "id": "0f2dba1b",
   "metadata": {
    "execution": {
     "iopub.execute_input": "2024-08-03T15:52:59.009829Z",
     "iopub.status.busy": "2024-08-03T15:52:59.009701Z",
     "iopub.status.idle": "2024-08-03T15:52:59.852324Z",
     "shell.execute_reply": "2024-08-03T15:52:59.852065Z"
    },
    "papermill": {
     "duration": 0.865583,
     "end_time": "2024-08-03T15:52:59.853225",
     "exception": false,
     "start_time": "2024-08-03T15:52:58.987642",
     "status": "completed"
    },
    "tags": []
   },
   "outputs": [],
   "source": [
    "# plot histograms of value parameters\n",
    "utils.plot_histogram_value_parameters(input_df=merged_nat_curr, extra_parameters=[], owned_shares=owned_shares)"
   ]
  },
  {
   "cell_type": "markdown",
   "id": "fcefda0d",
   "metadata": {
    "papermill": {
     "duration": 0.024704,
     "end_time": "2024-08-03T15:52:59.898586",
     "exception": false,
     "start_time": "2024-08-03T15:52:59.873882",
     "status": "completed"
    },
    "tags": []
   },
   "source": [
    "## Calculate correlation between value parameters"
   ]
  },
  {
   "cell_type": "code",
   "execution_count": null,
   "id": "04d21a72",
   "metadata": {
    "execution": {
     "iopub.execute_input": "2024-08-03T15:52:59.945087Z",
     "iopub.status.busy": "2024-08-03T15:52:59.944940Z",
     "iopub.status.idle": "2024-08-03T15:52:59.950337Z",
     "shell.execute_reply": "2024-08-03T15:52:59.950076Z"
    },
    "papermill": {
     "duration": 0.030273,
     "end_time": "2024-08-03T15:52:59.951141",
     "exception": false,
     "start_time": "2024-08-03T15:52:59.920868",
     "status": "completed"
    },
    "tags": []
   },
   "outputs": [],
   "source": [
    "# calulate value parameters Pearson's correlation coefficient\n",
    "pd.DataFrame(merged_nat_curr, columns=['roa', 'roe', 'pe_ratio', 'pb_ratio', 'ps_ratio', 'ev_revenue', 'debt_to_equity', 'current_ratio']).corr()"
   ]
  },
  {
   "cell_type": "code",
   "execution_count": null,
   "id": "8d10209c",
   "metadata": {},
   "outputs": [],
   "source": [
    "final_df = utils.get_value_stock_target_prices(\n",
    "    input_df=merged_nat_curr,\n",
    "    min_pct=0.2,\n",
    "    max_pct=0.5,\n",
    "    owned_shares=owned_shares\n",
    ")"
   ]
  }
 ],
 "metadata": {
  "kernelspec": {
   "display_name": ".venv",
   "language": "python",
   "name": "python3"
  },
  "language_info": {
   "codemirror_mode": {
    "name": "ipython",
    "version": 3
   },
   "file_extension": ".py",
   "mimetype": "text/x-python",
   "name": "python",
   "nbconvert_exporter": "python",
   "pygments_lexer": "ipython3",
   "version": "3.11.3"
  },
  "papermill": {
   "default_parameters": {},
   "duration": 17.849841,
   "end_time": "2024-08-03T15:53:00.432429",
   "environment_variables": {},
   "exception": null,
   "input_path": "../notebooks/canadian_tire_co_national.ipynb",
   "output_path": "../notebooks/canadian_tire_co_national.ipynb",
   "parameters": {},
   "start_time": "2024-08-03T15:52:42.582588",
   "version": "2.5.0"
  }
 },
 "nbformat": 4,
 "nbformat_minor": 5
}
