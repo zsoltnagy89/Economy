{
 "cells": [
  {
   "cell_type": "code",
   "execution_count": 27,
   "metadata": {},
   "outputs": [],
   "source": [
    "import sqlite3\n",
    "from sqlite3 import Error"
   ]
  },
  {
   "cell_type": "markdown",
   "metadata": {},
   "source": [
    "## Function to Use"
   ]
  },
  {
   "cell_type": "code",
   "execution_count": 28,
   "metadata": {},
   "outputs": [],
   "source": [
    "def create_connection(path):\n",
    "    connection = None\n",
    "    try:\n",
    "        connection = sqlite3.connect(path)\n",
    "        print(\"Connection to SQLite DB successful!\")\n",
    "    except Error as e:\n",
    "        print(f\"The error '{e}' occurred.\")\n",
    "\n",
    "    return connection"
   ]
  },
  {
   "cell_type": "code",
   "execution_count": 29,
   "metadata": {},
   "outputs": [],
   "source": [
    "def execute_query(connection, query):\n",
    "    cursor = connection.cursor()\n",
    "    try:\n",
    "        cursor.execute(query)\n",
    "        connection.commit()\n",
    "        print(\"Query executed successfully\")\n",
    "    except Error as e:\n",
    "        print(f\"The error '{e}' occurred\")"
   ]
  },
  {
   "cell_type": "markdown",
   "metadata": {},
   "source": [
    "## 1. Create Connection to existing Database"
   ]
  },
  {
   "cell_type": "code",
   "execution_count": 30,
   "metadata": {},
   "outputs": [
    {
     "name": "stdout",
     "output_type": "stream",
     "text": [
      "Connection to SQLite DB successful!\n"
     ]
    }
   ],
   "source": [
    "conn = create_connection(\n",
    "    path='../database/statements.db'\n",
    ")"
   ]
  },
  {
   "cell_type": "markdown",
   "metadata": {},
   "source": [
    "## 2. Create Table"
   ]
  },
  {
   "cell_type": "code",
   "execution_count": 31,
   "metadata": {},
   "outputs": [],
   "source": [
    "create_table = \"\"\"\n",
    "CREATE TABLE IF NOT EXISTS main (\n",
    "  cik TEXT PRIMARY KEY,\n",
    "  ticker TEXT NOT NULL,\n",
    "  name TEXT,\n",
    "  sector TEXT,\n",
    "  sub_industry TEXT,\n",
    "  updated TEXT\n",
    ");\n",
    "\"\"\""
   ]
  },
  {
   "cell_type": "code",
   "execution_count": 39,
   "metadata": {},
   "outputs": [],
   "source": [
    "create_is_table = \"\"\"\n",
    "CREATE TABLE IF NOT EXISTS income_statement (\n",
    "  cik TEXT NOT NULL,\n",
    "  ticker TEXT NOT NULL,\n",
    "  end TEXT NOT NULL,\n",
    "  form TEXT NOT NULL,\n",
    "  rev TEXT NOT NULL,\n",
    "  cost_sale TEXT NOT NULL,\n",
    "  sale_gen_adm TEXT NOT NULL,\n",
    "  inpairm TEXT NOT NULL,\n",
    "  op_income TEXT NOT NULL,\n",
    "  int_income TEXT NOT NULL,\n",
    "  int_exp TEXT NOT NULL,\n",
    "  inc_tax_exp TEXT NOT NULL,\n",
    "  net_inc TEXT NOT NULL,\n",
    "  shares TEXT NOT NULL,\n",
    "  eps_dil TEXT NOT NULL,\n",
    "  depr_amort TEXT NOT NULL,\n",
    "  FOREIGN KEY (cik) \n",
    "  REFERENCES main (cik) \n",
    "      ON DELETE CASCADE \n",
    "      ON UPDATE NO ACTION\n",
    ");\n",
    "\"\"\""
   ]
  },
  {
   "cell_type": "code",
   "execution_count": 40,
   "metadata": {},
   "outputs": [],
   "source": [
    "create_bs_table = \"\"\"\n",
    "CREATE TABLE IF NOT EXISTS balance_sheet (\n",
    "  cik TEXT NOT NULL,\n",
    "  ticker TEXT NOT NULL,\n",
    "  end TEXT NOT NULL,\n",
    "  form TEXT NOT NULL,\n",
    "  cash_cash_eq TEXT NOT NULL,\n",
    "  acc_rec TEXT NOT NULL,\n",
    "  invent TEXT NOT NULL,\n",
    "  other_curr_ass TEXT NOT NULL,\n",
    "  tot_curr_ass TEXT NOT NULL,\n",
    "  ppe_net TEXT NOT NULL,\n",
    "  goodwill TEXT NOT NULL,\n",
    "  intang_ass TEXT NOT NULL,\n",
    "  other_ass TEXT NOT NULL,\n",
    "  tot_ass TEXT NOT NULL,\n",
    "  short_debt TEXT NOT NULL,\n",
    "  acc_pay TEXT NOT NULL,\n",
    "  other_curr_liab TEXT NOT NULL,\n",
    "  tot_curr_liab TEXT NOT NULL,\n",
    "  tot_long_debt TEXT NOT NULL,\n",
    "  other_liab TEXT NOT NULL,\n",
    "  tot_equity TEXT NOT NULL,\n",
    "  FOREIGN KEY (cik) \n",
    "  REFERENCES main (cik) \n",
    "      ON DELETE CASCADE \n",
    "      ON UPDATE NO ACTION\n",
    ");\n",
    "\"\"\""
   ]
  },
  {
   "cell_type": "code",
   "execution_count": 44,
   "metadata": {},
   "outputs": [
    {
     "name": "stdout",
     "output_type": "stream",
     "text": [
      "Query executed successfully\n"
     ]
    }
   ],
   "source": [
    "execute_query(\n",
    "    connection=conn,\n",
    "    query=create_bs_table\n",
    ")"
   ]
  },
  {
   "cell_type": "markdown",
   "metadata": {},
   "source": [
    "## 3. Alter Table\n",
    "\n",
    "You can easily modify the schema with SQLite3 Editor extension in VSCode"
   ]
  },
  {
   "cell_type": "markdown",
   "metadata": {},
   "source": [
    "## 4. Inser Data Into Table"
   ]
  },
  {
   "cell_type": "code",
   "execution_count": 42,
   "metadata": {},
   "outputs": [],
   "source": [
    "insert_into = \"\"\"\n",
    "INSERT INTO main (cik, ticker, name, sector, sub_industry, updated)\n",
    "VALUES ('0000100493', 'TSN', 'Tyson Foods', 'Consumer Staples', 'Packaged Foods & Meats', '2023-09-28')\n",
    "\"\"\""
   ]
  },
  {
   "cell_type": "code",
   "execution_count": 43,
   "metadata": {},
   "outputs": [
    {
     "name": "stdout",
     "output_type": "stream",
     "text": [
      "The error 'UNIQUE constraint failed: main.ticker' occurred\n"
     ]
    }
   ],
   "source": [
    "execute_query(\n",
    "    connection=conn,\n",
    "    query=insert_into\n",
    ")"
   ]
  }
 ],
 "metadata": {
  "kernelspec": {
   "display_name": ".venv",
   "language": "python",
   "name": "python3"
  },
  "language_info": {
   "codemirror_mode": {
    "name": "ipython",
    "version": 3
   },
   "file_extension": ".py",
   "mimetype": "text/x-python",
   "name": "python",
   "nbconvert_exporter": "python",
   "pygments_lexer": "ipython3",
   "version": "3.11.3"
  },
  "orig_nbformat": 4
 },
 "nbformat": 4,
 "nbformat_minor": 2
}
