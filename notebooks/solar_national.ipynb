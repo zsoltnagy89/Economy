{
 "cells": [
  {
   "cell_type": "code",
   "execution_count": null,
   "id": "1df57a16",
   "metadata": {
    "execution": {
     "iopub.execute_input": "2024-08-03T15:48:54.154190Z",
     "iopub.status.busy": "2024-08-03T15:48:54.154023Z",
     "iopub.status.idle": "2024-08-03T15:48:54.935148Z",
     "shell.execute_reply": "2024-08-03T15:48:54.934823Z"
    },
    "papermill": {
     "duration": 0.790986,
     "end_time": "2024-08-03T15:48:54.936400",
     "exception": false,
     "start_time": "2024-08-03T15:48:54.145414",
     "status": "completed"
    },
    "tags": []
   },
   "outputs": [],
   "source": [
    "import pandas as pd\n",
    "import matplotlib.pyplot as plt\n",
    "\n",
    "import yfinance as yf\n",
    "import datetime\n",
    "\n",
    "from valueinvesting import utils as utils"
   ]
  },
  {
   "cell_type": "markdown",
   "id": "3156f479",
   "metadata": {
    "papermill": {
     "duration": 0.00618,
     "end_time": "2024-08-03T15:48:54.947679",
     "exception": false,
     "start_time": "2024-08-03T15:48:54.941499",
     "status": "completed"
    },
    "tags": []
   },
   "source": [
    "# 1. Load raw input\n",
    "## Hardcoded block"
   ]
  },
  {
   "cell_type": "code",
   "execution_count": null,
   "id": "71178376",
   "metadata": {
    "execution": {
     "iopub.execute_input": "2024-08-03T15:48:54.958285Z",
     "iopub.status.busy": "2024-08-03T15:48:54.958113Z",
     "iopub.status.idle": "2024-08-03T15:48:54.959945Z",
     "shell.execute_reply": "2024-08-03T15:48:54.959711Z"
    },
    "papermill": {
     "duration": 0.008135,
     "end_time": "2024-08-03T15:48:54.960777",
     "exception": false,
     "start_time": "2024-08-03T15:48:54.952642",
     "status": "completed"
    },
    "tags": []
   },
   "outputs": [],
   "source": [
    "evaluate_last_X_years = True\n",
    "X=10\n",
    "currency_pair = 'DKK=X'\n",
    "numbers_in_currency = 'DKK'\n",
    "share_name = 'SOLAR-B.CO'"
   ]
  },
  {
   "cell_type": "markdown",
   "id": "e482effa",
   "metadata": {
    "papermill": {
     "duration": 0.005013,
     "end_time": "2024-08-03T15:48:54.970543",
     "exception": false,
     "start_time": "2024-08-03T15:48:54.965530",
     "status": "completed"
    },
    "tags": []
   },
   "source": [
    "# 1.2. Raw input statement data"
   ]
  },
  {
   "cell_type": "code",
   "execution_count": null,
   "id": "588992d6",
   "metadata": {
    "execution": {
     "iopub.execute_input": "2024-08-03T15:48:54.980483Z",
     "iopub.status.busy": "2024-08-03T15:48:54.980352Z",
     "iopub.status.idle": "2024-08-03T15:48:54.987411Z",
     "shell.execute_reply": "2024-08-03T15:48:54.987110Z"
    },
    "papermill": {
     "duration": 0.01327,
     "end_time": "2024-08-03T15:48:54.988557",
     "exception": false,
     "start_time": "2024-08-03T15:48:54.975287",
     "status": "completed"
    },
    "tags": []
   },
   "outputs": [],
   "source": [
    "route = f\"../data/input/{share_name}_data.csv\"\n",
    "data = pd.read_csv(route, sep=';', parse_dates=['date', 'real_date'])\n",
    "# replace -, extend missing 0-s, fix datatype\n",
    "data = utils.replace_format_input(data)"
   ]
  },
  {
   "cell_type": "code",
   "execution_count": null,
   "id": "a551c890",
   "metadata": {
    "execution": {
     "iopub.execute_input": "2024-08-03T15:48:55.000744Z",
     "iopub.status.busy": "2024-08-03T15:48:55.000604Z",
     "iopub.status.idle": "2024-08-03T15:48:55.004782Z",
     "shell.execute_reply": "2024-08-03T15:48:55.004503Z"
    },
    "papermill": {
     "duration": 0.011815,
     "end_time": "2024-08-03T15:48:55.005793",
     "exception": false,
     "start_time": "2024-08-03T15:48:54.993978",
     "status": "completed"
    },
    "tags": []
   },
   "outputs": [],
   "source": [
    "owned_shares = pd.read_csv('../data/extras/owned_stocks.csv', sep=';', parse_dates=['date'])\n",
    "owned_shares = owned_shares.loc[(owned_shares['stock'] == share_name) & (owned_shares['active'] == 'yes')]"
   ]
  },
  {
   "cell_type": "markdown",
   "id": "c3e01700",
   "metadata": {
    "papermill": {
     "duration": 0.004923,
     "end_time": "2024-08-03T15:48:55.015616",
     "exception": false,
     "start_time": "2024-08-03T15:48:55.010693",
     "status": "completed"
    },
    "tags": []
   },
   "source": [
    "## (OPTIONAL) Time Filtering - Last 7 years daat"
   ]
  },
  {
   "cell_type": "code",
   "execution_count": null,
   "id": "5a790b12",
   "metadata": {
    "execution": {
     "iopub.execute_input": "2024-08-03T15:48:55.026641Z",
     "iopub.status.busy": "2024-08-03T15:48:55.026425Z",
     "iopub.status.idle": "2024-08-03T15:48:55.036802Z",
     "shell.execute_reply": "2024-08-03T15:48:55.036513Z"
    },
    "papermill": {
     "duration": 0.017179,
     "end_time": "2024-08-03T15:48:55.037794",
     "exception": false,
     "start_time": "2024-08-03T15:48:55.020615",
     "status": "completed"
    },
    "tags": []
   },
   "outputs": [],
   "source": [
    "if evaluate_last_X_years:\n",
    "    data = data[data['date'] > datetime.datetime.today() - datetime.timedelta(days=X*366+93)]\n",
    "    data = data.reset_index(drop=True)\n",
    "\n",
    "data.head()"
   ]
  },
  {
   "cell_type": "markdown",
   "id": "49ecb181",
   "metadata": {
    "papermill": {
     "duration": 0.007244,
     "end_time": "2024-08-03T15:48:55.051880",
     "exception": false,
     "start_time": "2024-08-03T15:48:55.044636",
     "status": "completed"
    },
    "tags": []
   },
   "source": [
    "## Calculate date when quaterly reports could be available"
   ]
  },
  {
   "cell_type": "code",
   "execution_count": null,
   "id": "05124f16",
   "metadata": {
    "execution": {
     "iopub.execute_input": "2024-08-03T15:48:55.064186Z",
     "iopub.status.busy": "2024-08-03T15:48:55.063955Z",
     "iopub.status.idle": "2024-08-03T15:48:55.065798Z",
     "shell.execute_reply": "2024-08-03T15:48:55.065522Z"
    },
    "papermill": {
     "duration": 0.008655,
     "end_time": "2024-08-03T15:48:55.066615",
     "exception": false,
     "start_time": "2024-08-03T15:48:55.057960",
     "status": "completed"
    },
    "tags": []
   },
   "outputs": [],
   "source": [
    "data = utils.calculate_real_date(data)"
   ]
  },
  {
   "cell_type": "markdown",
   "id": "593bfbc1",
   "metadata": {
    "papermill": {
     "duration": 0.00531,
     "end_time": "2024-08-03T15:48:55.077682",
     "exception": false,
     "start_time": "2024-08-03T15:48:55.072372",
     "status": "completed"
    },
    "tags": []
   },
   "source": [
    "# 2. Filter out unnecesary columns"
   ]
  },
  {
   "cell_type": "code",
   "execution_count": null,
   "id": "cbb9cd0a",
   "metadata": {
    "execution": {
     "iopub.execute_input": "2024-08-03T15:48:55.089472Z",
     "iopub.status.busy": "2024-08-03T15:48:55.089345Z",
     "iopub.status.idle": "2024-08-03T15:48:55.091610Z",
     "shell.execute_reply": "2024-08-03T15:48:55.091326Z"
    },
    "papermill": {
     "duration": 0.009435,
     "end_time": "2024-08-03T15:48:55.092516",
     "exception": false,
     "start_time": "2024-08-03T15:48:55.083081",
     "status": "completed"
    },
    "tags": []
   },
   "outputs": [],
   "source": [
    "data = utils.filter_raw_data(data)"
   ]
  },
  {
   "cell_type": "markdown",
   "id": "d238932b",
   "metadata": {
    "papermill": {
     "duration": 0.00459,
     "end_time": "2024-08-03T15:48:55.102136",
     "exception": false,
     "start_time": "2024-08-03T15:48:55.097546",
     "status": "completed"
    },
    "tags": []
   },
   "source": [
    "## Pull historical average USD national currency rates and add to the dataframe"
   ]
  },
  {
   "cell_type": "code",
   "execution_count": null,
   "id": "13fc2382",
   "metadata": {
    "execution": {
     "iopub.execute_input": "2024-08-03T15:48:55.112570Z",
     "iopub.status.busy": "2024-08-03T15:48:55.112403Z",
     "iopub.status.idle": "2024-08-03T15:49:00.298909Z",
     "shell.execute_reply": "2024-08-03T15:49:00.298434Z"
    },
    "papermill": {
     "duration": 5.194096,
     "end_time": "2024-08-03T15:49:00.301221",
     "exception": false,
     "start_time": "2024-08-03T15:48:55.107125",
     "status": "completed"
    },
    "tags": []
   },
   "outputs": [],
   "source": [
    "data['usd_nat_currency'] = utils.daily_price(\n",
    "    ticker=currency_pair,\n",
    "    end=data['date'],\n",
    "    days_earlier=90\n",
    "    )\n",
    "\n",
    "# drop rows, when USD rates wasn't available\n",
    "data = data[data['usd_nat_currency'].notna()]"
   ]
  },
  {
   "cell_type": "markdown",
   "id": "108d71d2",
   "metadata": {
    "papermill": {
     "duration": 0.007506,
     "end_time": "2024-08-03T15:49:00.328333",
     "exception": false,
     "start_time": "2024-08-03T15:49:00.320827",
     "status": "completed"
    },
    "tags": []
   },
   "source": [
    "## Convert USD values related to IS, BS, CFS to national currency"
   ]
  },
  {
   "cell_type": "code",
   "execution_count": null,
   "id": "a9f3a98e",
   "metadata": {
    "execution": {
     "iopub.execute_input": "2024-08-03T15:49:00.353089Z",
     "iopub.status.busy": "2024-08-03T15:49:00.352919Z",
     "iopub.status.idle": "2024-08-03T15:49:00.360107Z",
     "shell.execute_reply": "2024-08-03T15:49:00.359835Z"
    },
    "papermill": {
     "duration": 0.015082,
     "end_time": "2024-08-03T15:49:00.361182",
     "exception": false,
     "start_time": "2024-08-03T15:49:00.346100",
     "status": "completed"
    },
    "tags": []
   },
   "outputs": [],
   "source": [
    "# convert columns into national currency if necessary\n",
    "if numbers_in_currency == 'USD':\n",
    "    data_nat_curr = utils.convert_national_currency(input_data=data, currency=data)\n",
    "else:\n",
    "    data_nat_curr = data.copy()\n",
    "data_nat_curr.tail()"
   ]
  },
  {
   "cell_type": "markdown",
   "id": "1263156f",
   "metadata": {
    "papermill": {
     "duration": 0.009283,
     "end_time": "2024-08-03T15:49:00.375461",
     "exception": false,
     "start_time": "2024-08-03T15:49:00.366178",
     "status": "completed"
    },
    "tags": []
   },
   "source": [
    "# 3. Calculate input to Value Raios (eps, bv per share, fcf)\n",
    "## filter out unwanted columns"
   ]
  },
  {
   "cell_type": "code",
   "execution_count": null,
   "id": "b869cd43",
   "metadata": {
    "execution": {
     "iopub.execute_input": "2024-08-03T15:49:00.393553Z",
     "iopub.status.busy": "2024-08-03T15:49:00.393385Z",
     "iopub.status.idle": "2024-08-03T15:49:00.396869Z",
     "shell.execute_reply": "2024-08-03T15:49:00.396597Z"
    },
    "papermill": {
     "duration": 0.011479,
     "end_time": "2024-08-03T15:49:00.397688",
     "exception": false,
     "start_time": "2024-08-03T15:49:00.386209",
     "status": "completed"
    },
    "tags": []
   },
   "outputs": [],
   "source": [
    "filtered_nat_curr = utils.calculate_input_value_ratios(data_nat_curr)"
   ]
  },
  {
   "cell_type": "markdown",
   "id": "fb7db9a9",
   "metadata": {
    "papermill": {
     "duration": 0.005124,
     "end_time": "2024-08-03T15:49:00.408546",
     "exception": false,
     "start_time": "2024-08-03T15:49:00.403422",
     "status": "completed"
    },
    "tags": []
   },
   "source": [
    "## Calculate input values to value ratios"
   ]
  },
  {
   "cell_type": "code",
   "execution_count": null,
   "id": "4282e381",
   "metadata": {
    "execution": {
     "iopub.execute_input": "2024-08-03T15:49:00.438162Z",
     "iopub.status.busy": "2024-08-03T15:49:00.438002Z",
     "iopub.status.idle": "2024-08-03T15:49:00.440532Z",
     "shell.execute_reply": "2024-08-03T15:49:00.440238Z"
    },
    "papermill": {
     "duration": 0.026708,
     "end_time": "2024-08-03T15:49:00.441367",
     "exception": false,
     "start_time": "2024-08-03T15:49:00.414659",
     "status": "completed"
    },
    "tags": []
   },
   "outputs": [],
   "source": [
    "ratios_nat_curr = utils.ratios_input_filter(filtered_nat_curr)"
   ]
  },
  {
   "cell_type": "code",
   "execution_count": null,
   "id": "33398aba",
   "metadata": {
    "execution": {
     "iopub.execute_input": "2024-08-03T15:49:00.466266Z",
     "iopub.status.busy": "2024-08-03T15:49:00.466095Z",
     "iopub.status.idle": "2024-08-03T15:49:00.476522Z",
     "shell.execute_reply": "2024-08-03T15:49:00.475935Z"
    },
    "papermill": {
     "duration": 0.027371,
     "end_time": "2024-08-03T15:49:00.477635",
     "exception": false,
     "start_time": "2024-08-03T15:49:00.450264",
     "status": "completed"
    },
    "tags": []
   },
   "outputs": [],
   "source": [
    "ratios_nat_curr = utils.evaluate_performance(input=filtered_nat_curr, output=ratios_nat_curr)"
   ]
  },
  {
   "cell_type": "markdown",
   "id": "bd9d0e29",
   "metadata": {
    "papermill": {
     "duration": 0.007891,
     "end_time": "2024-08-03T15:49:00.495749",
     "exception": false,
     "start_time": "2024-08-03T15:49:00.487858",
     "status": "completed"
    },
    "tags": []
   },
   "source": [
    "# 4. Pull historical share prices and merge with sattement data\n",
    "## Pull historical share prices"
   ]
  },
  {
   "cell_type": "code",
   "execution_count": null,
   "id": "ee38042e",
   "metadata": {
    "execution": {
     "iopub.execute_input": "2024-08-03T15:49:00.509593Z",
     "iopub.status.busy": "2024-08-03T15:49:00.509345Z",
     "iopub.status.idle": "2024-08-03T15:49:00.746553Z",
     "shell.execute_reply": "2024-08-03T15:49:00.746271Z"
    },
    "papermill": {
     "duration": 0.245181,
     "end_time": "2024-08-03T15:49:00.747455",
     "exception": false,
     "start_time": "2024-08-03T15:49:00.502274",
     "status": "completed"
    },
    "tags": []
   },
   "outputs": [],
   "source": [
    "# pull weekly share prices and merge with the value ratios\n",
    "merged_nat_curr = utils.add_share_prices_to_value_ratios(share_name, data, ratios_nat_curr)\n",
    "merged_nat_curr.head()"
   ]
  },
  {
   "cell_type": "markdown",
   "id": "5a05c48b",
   "metadata": {
    "papermill": {
     "duration": 0.006498,
     "end_time": "2024-08-03T15:49:00.770800",
     "exception": false,
     "start_time": "2024-08-03T15:49:00.764302",
     "status": "completed"
    },
    "tags": []
   },
   "source": [
    "# Calculate price ratios (P/E, P/B, P/S, P/FCF)"
   ]
  },
  {
   "cell_type": "code",
   "execution_count": null,
   "id": "532c579f",
   "metadata": {
    "execution": {
     "iopub.execute_input": "2024-08-03T15:49:00.786290Z",
     "iopub.status.busy": "2024-08-03T15:49:00.786037Z",
     "iopub.status.idle": "2024-08-03T15:49:00.796245Z",
     "shell.execute_reply": "2024-08-03T15:49:00.795839Z"
    },
    "papermill": {
     "duration": 0.02055,
     "end_time": "2024-08-03T15:49:00.797157",
     "exception": false,
     "start_time": "2024-08-03T15:49:00.776607",
     "status": "completed"
    },
    "tags": []
   },
   "outputs": [],
   "source": [
    "merged_nat_curr = utils.price_ratios(merged_nat_curr)\n",
    "merged_nat_curr.head()"
   ]
  },
  {
   "cell_type": "markdown",
   "id": "7906f127",
   "metadata": {
    "papermill": {
     "duration": 0.00551,
     "end_time": "2024-08-03T15:49:00.810746",
     "exception": false,
     "start_time": "2024-08-03T15:49:00.805236",
     "status": "completed"
    },
    "tags": []
   },
   "source": [
    "# Calculate Dividend yield and currency-share price correlation"
   ]
  },
  {
   "cell_type": "code",
   "execution_count": null,
   "id": "304bdac1",
   "metadata": {
    "execution": {
     "iopub.execute_input": "2024-08-03T15:49:00.822884Z",
     "iopub.status.busy": "2024-08-03T15:49:00.822641Z",
     "iopub.status.idle": "2024-08-03T15:49:01.145635Z",
     "shell.execute_reply": "2024-08-03T15:49:01.145359Z"
    },
    "papermill": {
     "duration": 0.331028,
     "end_time": "2024-08-03T15:49:01.146725",
     "exception": false,
     "start_time": "2024-08-03T15:49:00.815697",
     "status": "completed"
    },
    "tags": []
   },
   "outputs": [],
   "source": [
    "# get daily historical USD-national currency rates\n",
    "usd_nat_curr = utils.get_historical_currency_rate(currency_pair, merged_nat_curr)"
   ]
  },
  {
   "cell_type": "code",
   "execution_count": null,
   "id": "8557ac9c",
   "metadata": {
    "execution": {
     "iopub.execute_input": "2024-08-03T15:49:01.163424Z",
     "iopub.status.busy": "2024-08-03T15:49:01.163206Z",
     "iopub.status.idle": "2024-08-03T15:49:01.687443Z",
     "shell.execute_reply": "2024-08-03T15:49:01.686899Z"
    },
    "papermill": {
     "duration": 0.533827,
     "end_time": "2024-08-03T15:49:01.688961",
     "exception": false,
     "start_time": "2024-08-03T15:49:01.155134",
     "status": "completed"
    },
    "tags": []
   },
   "outputs": [],
   "source": [
    "# get share prices and dividend yield data\n",
    "ticker_all_price = utils.get_historical_share_dividend(share_name, merged_nat_curr)"
   ]
  },
  {
   "cell_type": "code",
   "execution_count": null,
   "id": "b593655c",
   "metadata": {
    "execution": {
     "iopub.execute_input": "2024-08-03T15:49:01.714599Z",
     "iopub.status.busy": "2024-08-03T15:49:01.714449Z",
     "iopub.status.idle": "2024-08-03T15:49:02.340771Z",
     "shell.execute_reply": "2024-08-03T15:49:02.336816Z"
    },
    "papermill": {
     "duration": 0.639546,
     "end_time": "2024-08-03T15:49:02.342299",
     "exception": false,
     "start_time": "2024-08-03T15:49:01.702753",
     "status": "completed"
    },
    "tags": []
   },
   "outputs": [],
   "source": [
    "# Pearson's correlation coefficient between share price and USD - national currency rate\n",
    "utils.get_currency_share_price_correlation(share_name, usd_nat_curr, ticker_all_price)"
   ]
  },
  {
   "cell_type": "markdown",
   "id": "0e3ad731",
   "metadata": {
    "papermill": {
     "duration": 0.009091,
     "end_time": "2024-08-03T15:49:02.366390",
     "exception": false,
     "start_time": "2024-08-03T15:49:02.357299",
     "status": "completed"
    },
    "tags": []
   },
   "source": [
    "# Share price and value ratios"
   ]
  },
  {
   "cell_type": "code",
   "execution_count": null,
   "id": "05fe4a3c",
   "metadata": {
    "execution": {
     "iopub.execute_input": "2024-08-03T15:49:02.395996Z",
     "iopub.status.busy": "2024-08-03T15:49:02.395755Z",
     "iopub.status.idle": "2024-08-03T15:49:06.491752Z",
     "shell.execute_reply": "2024-08-03T15:49:06.491415Z"
    },
    "papermill": {
     "duration": 4.105281,
     "end_time": "2024-08-03T15:49:06.492919",
     "exception": false,
     "start_time": "2024-08-03T15:49:02.387638",
     "status": "completed"
    },
    "tags": []
   },
   "outputs": [],
   "source": [
    "for column in merged_nat_curr.columns[3:]:\n",
    "    fig, ax1 = plt.subplots(figsize=(15, 6))\n",
    "\n",
    "    ax2 = ax1.twinx()\n",
    "    ax1.plot(merged_nat_curr['real_date'], merged_nat_curr[column], color='k', label=merged_nat_curr)\n",
    "    ax2.plot(ticker_all_price.index, ticker_all_price['Close'], color='b', label=share_name)\n",
    "\n",
    "    ax1.set_xlabel('Date')\n",
    "    ax1.set_ylabel(column, color='k')\n",
    "    ax2.set_ylabel('Share price (national currency)', color='b')\n",
    "\n",
    "    plt.legend()\n",
    "    plt.show()"
   ]
  },
  {
   "cell_type": "code",
   "execution_count": null,
   "id": "e3c04658",
   "metadata": {
    "execution": {
     "iopub.execute_input": "2024-08-03T15:49:06.553407Z",
     "iopub.status.busy": "2024-08-03T15:49:06.553207Z",
     "iopub.status.idle": "2024-08-03T15:49:07.683523Z",
     "shell.execute_reply": "2024-08-03T15:49:07.683226Z"
    },
    "papermill": {
     "duration": 1.16994,
     "end_time": "2024-08-03T15:49:07.684542",
     "exception": false,
     "start_time": "2024-08-03T15:49:06.514602",
     "status": "completed"
    },
    "tags": []
   },
   "outputs": [],
   "source": [
    "# plot histograms of value parameters\n",
    "utils.plot_histogram_value_parameters(input_df=merged_nat_curr, extra_parameters=[], owned_shares=owned_shares)"
   ]
  },
  {
   "cell_type": "markdown",
   "id": "8b923318",
   "metadata": {
    "papermill": {
     "duration": 0.022687,
     "end_time": "2024-08-03T15:49:07.743682",
     "exception": false,
     "start_time": "2024-08-03T15:49:07.720995",
     "status": "completed"
    },
    "tags": []
   },
   "source": [
    "## Calculate correlation between value parameters"
   ]
  },
  {
   "cell_type": "code",
   "execution_count": null,
   "id": "b672d48d",
   "metadata": {
    "execution": {
     "iopub.execute_input": "2024-08-03T15:49:07.804646Z",
     "iopub.status.busy": "2024-08-03T15:49:07.804338Z",
     "iopub.status.idle": "2024-08-03T15:49:07.809986Z",
     "shell.execute_reply": "2024-08-03T15:49:07.809758Z"
    },
    "papermill": {
     "duration": 0.045888,
     "end_time": "2024-08-03T15:49:07.810916",
     "exception": false,
     "start_time": "2024-08-03T15:49:07.765028",
     "status": "completed"
    },
    "tags": []
   },
   "outputs": [],
   "source": [
    "# calulate value parameters Pearson's correlation coefficient\n",
    "pd.DataFrame(merged_nat_curr, columns=['roa', 'roe', 'pe_ratio', 'pb_ratio', 'ps_ratio', 'ev_revenue', 'debt_to_equity', 'current_ratio']).corr()"
   ]
  },
  {
   "cell_type": "code",
   "execution_count": null,
   "id": "ae585766",
   "metadata": {},
   "outputs": [],
   "source": [
    "final_df = utils.get_value_stock_target_prices(\n",
    "    input_df=merged_nat_curr,\n",
    "    min_pct=0.2,\n",
    "    max_pct=0.5,\n",
    "    owned_shares=owned_shares\n",
    ")"
   ]
  }
 ],
 "metadata": {
  "kernelspec": {
   "display_name": ".venv",
   "language": "python",
   "name": "python3"
  },
  "language_info": {
   "codemirror_mode": {
    "name": "ipython",
    "version": 3
   },
   "file_extension": ".py",
   "mimetype": "text/x-python",
   "name": "python",
   "nbconvert_exporter": "python",
   "pygments_lexer": "ipython3",
   "version": "3.11.3"
  },
  "papermill": {
   "default_parameters": {},
   "duration": 15.26417,
   "end_time": "2024-08-03T15:49:08.375241",
   "environment_variables": {},
   "exception": null,
   "input_path": "../notebooks/solar_national.ipynb",
   "output_path": "../notebooks/solar_national.ipynb",
   "parameters": {},
   "start_time": "2024-08-03T15:48:53.111071",
   "version": "2.5.0"
  }
 },
 "nbformat": 4,
 "nbformat_minor": 5
}
