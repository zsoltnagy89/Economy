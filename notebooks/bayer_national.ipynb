{
 "cells": [
  {
   "cell_type": "code",
   "execution_count": null,
   "id": "64ea22a0",
   "metadata": {
    "execution": {
     "iopub.execute_input": "2024-08-03T15:48:26.342738Z",
     "iopub.status.busy": "2024-08-03T15:48:26.342511Z",
     "iopub.status.idle": "2024-08-03T15:48:27.103322Z",
     "shell.execute_reply": "2024-08-03T15:48:27.103020Z"
    },
    "papermill": {
     "duration": 0.781184,
     "end_time": "2024-08-03T15:48:27.104414",
     "exception": false,
     "start_time": "2024-08-03T15:48:26.323230",
     "status": "completed"
    },
    "tags": []
   },
   "outputs": [],
   "source": [
    "import pandas as pd\n",
    "import matplotlib.pyplot as plt\n",
    "import numpy as np\n",
    "\n",
    "import yfinance as yf\n",
    "import datetime\n",
    "\n",
    "from valueinvesting import utils as utils"
   ]
  },
  {
   "cell_type": "markdown",
   "id": "2a737d73",
   "metadata": {
    "papermill": {
     "duration": 0.005446,
     "end_time": "2024-08-03T15:48:27.115593",
     "exception": false,
     "start_time": "2024-08-03T15:48:27.110147",
     "status": "completed"
    },
    "tags": []
   },
   "source": [
    "# 1. Load raw input\n",
    "## Hardcoded block"
   ]
  },
  {
   "cell_type": "code",
   "execution_count": null,
   "id": "de8959a7",
   "metadata": {
    "execution": {
     "iopub.execute_input": "2024-08-03T15:48:27.126422Z",
     "iopub.status.busy": "2024-08-03T15:48:27.126161Z",
     "iopub.status.idle": "2024-08-03T15:48:27.127903Z",
     "shell.execute_reply": "2024-08-03T15:48:27.127696Z"
    },
    "papermill": {
     "duration": 0.008112,
     "end_time": "2024-08-03T15:48:27.128744",
     "exception": false,
     "start_time": "2024-08-03T15:48:27.120632",
     "status": "completed"
    },
    "tags": []
   },
   "outputs": [],
   "source": [
    "evaluate_last_X_years = True\n",
    "X=10\n",
    "currency_pair = 'EUR=X'\n",
    "numbers_in_currency = 'EUR'\n",
    "share_name = 'BAYN.DE'"
   ]
  },
  {
   "cell_type": "markdown",
   "id": "cf6b3e12",
   "metadata": {
    "papermill": {
     "duration": 0.004774,
     "end_time": "2024-08-03T15:48:27.138313",
     "exception": false,
     "start_time": "2024-08-03T15:48:27.133539",
     "status": "completed"
    },
    "tags": []
   },
   "source": [
    "# 1.1 Calculate Share numbers from total distributed dividend (CFS) and dividend amount"
   ]
  },
  {
   "cell_type": "markdown",
   "id": "5bc73ae5",
   "metadata": {
    "papermill": {
     "duration": 0.005164,
     "end_time": "2024-08-03T15:48:27.147757",
     "exception": false,
     "start_time": "2024-08-03T15:48:27.142593",
     "status": "completed"
    },
    "tags": []
   },
   "source": [
    "# 1.2. Raw input statement data"
   ]
  },
  {
   "cell_type": "code",
   "execution_count": null,
   "id": "43c4a422",
   "metadata": {
    "execution": {
     "iopub.execute_input": "2024-08-03T15:48:27.158615Z",
     "iopub.status.busy": "2024-08-03T15:48:27.158473Z",
     "iopub.status.idle": "2024-08-03T15:48:27.167174Z",
     "shell.execute_reply": "2024-08-03T15:48:27.166890Z"
    },
    "papermill": {
     "duration": 0.015266,
     "end_time": "2024-08-03T15:48:27.168112",
     "exception": false,
     "start_time": "2024-08-03T15:48:27.152846",
     "status": "completed"
    },
    "tags": []
   },
   "outputs": [],
   "source": [
    "route = f\"../data/input/{share_name}_data.csv\"\n",
    "data = pd.read_csv(route, sep=';', parse_dates=['date', 'real_date'])\n",
    "# replace -, extend missing 0-s, fix datatype\n",
    "data = utils.replace_format_input(data)"
   ]
  },
  {
   "cell_type": "code",
   "execution_count": null,
   "id": "4adf1740",
   "metadata": {
    "execution": {
     "iopub.execute_input": "2024-08-03T15:48:27.179524Z",
     "iopub.status.busy": "2024-08-03T15:48:27.179402Z",
     "iopub.status.idle": "2024-08-03T15:48:27.183081Z",
     "shell.execute_reply": "2024-08-03T15:48:27.182814Z"
    },
    "papermill": {
     "duration": 0.010134,
     "end_time": "2024-08-03T15:48:27.183879",
     "exception": false,
     "start_time": "2024-08-03T15:48:27.173745",
     "status": "completed"
    },
    "tags": []
   },
   "outputs": [],
   "source": [
    "owned_shares = pd.read_csv('../data/extras/owned_stocks.csv', sep=';', parse_dates=['date'])\n",
    "owned_shares = owned_shares.loc[(owned_shares['stock'] == share_name) & (owned_shares['active'] == 'yes')]"
   ]
  },
  {
   "cell_type": "markdown",
   "id": "7463920d",
   "metadata": {
    "papermill": {
     "duration": 0.00491,
     "end_time": "2024-08-03T15:48:27.194400",
     "exception": false,
     "start_time": "2024-08-03T15:48:27.189490",
     "status": "completed"
    },
    "tags": []
   },
   "source": [
    "## (OPTIONAL) Time Filtering - Last 7 years daat"
   ]
  },
  {
   "cell_type": "code",
   "execution_count": null,
   "id": "b4fec770",
   "metadata": {
    "execution": {
     "iopub.execute_input": "2024-08-03T15:48:27.207550Z",
     "iopub.status.busy": "2024-08-03T15:48:27.207312Z",
     "iopub.status.idle": "2024-08-03T15:48:27.217723Z",
     "shell.execute_reply": "2024-08-03T15:48:27.217285Z"
    },
    "papermill": {
     "duration": 0.019661,
     "end_time": "2024-08-03T15:48:27.219659",
     "exception": false,
     "start_time": "2024-08-03T15:48:27.199998",
     "status": "completed"
    },
    "tags": []
   },
   "outputs": [],
   "source": [
    "if evaluate_last_X_years:\n",
    "    data = data[data['date'] > datetime.datetime.today() - datetime.timedelta(days=X*366+93)]\n",
    "    data = data.reset_index(drop=True)\n",
    "\n",
    "data.head()"
   ]
  },
  {
   "cell_type": "markdown",
   "id": "e41ffa58",
   "metadata": {
    "papermill": {
     "duration": 0.007078,
     "end_time": "2024-08-03T15:48:27.233644",
     "exception": false,
     "start_time": "2024-08-03T15:48:27.226566",
     "status": "completed"
    },
    "tags": []
   },
   "source": [
    "## Calculate date when quaterly reports could be available"
   ]
  },
  {
   "cell_type": "code",
   "execution_count": null,
   "id": "d3870bbc",
   "metadata": {
    "execution": {
     "iopub.execute_input": "2024-08-03T15:48:27.246098Z",
     "iopub.status.busy": "2024-08-03T15:48:27.245850Z",
     "iopub.status.idle": "2024-08-03T15:48:27.247774Z",
     "shell.execute_reply": "2024-08-03T15:48:27.247523Z"
    },
    "papermill": {
     "duration": 0.008782,
     "end_time": "2024-08-03T15:48:27.248652",
     "exception": false,
     "start_time": "2024-08-03T15:48:27.239870",
     "status": "completed"
    },
    "tags": []
   },
   "outputs": [],
   "source": [
    "data = utils.calculate_real_date(data)"
   ]
  },
  {
   "cell_type": "markdown",
   "id": "e8018a3d",
   "metadata": {
    "papermill": {
     "duration": 0.005427,
     "end_time": "2024-08-03T15:48:27.259817",
     "exception": false,
     "start_time": "2024-08-03T15:48:27.254390",
     "status": "completed"
    },
    "tags": []
   },
   "source": [
    "# 2. Filter out unnecesary columns"
   ]
  },
  {
   "cell_type": "code",
   "execution_count": null,
   "id": "372ab585",
   "metadata": {
    "execution": {
     "iopub.execute_input": "2024-08-03T15:48:27.270693Z",
     "iopub.status.busy": "2024-08-03T15:48:27.270574Z",
     "iopub.status.idle": "2024-08-03T15:48:27.276467Z",
     "shell.execute_reply": "2024-08-03T15:48:27.276203Z"
    },
    "papermill": {
     "duration": 0.012397,
     "end_time": "2024-08-03T15:48:27.277292",
     "exception": false,
     "start_time": "2024-08-03T15:48:27.264895",
     "status": "completed"
    },
    "tags": []
   },
   "outputs": [],
   "source": [
    "data = utils.filter_raw_data(data)\n",
    "data.tail()"
   ]
  },
  {
   "cell_type": "markdown",
   "id": "912a1132",
   "metadata": {
    "papermill": {
     "duration": 0.005828,
     "end_time": "2024-08-03T15:48:27.288349",
     "exception": false,
     "start_time": "2024-08-03T15:48:27.282521",
     "status": "completed"
    },
    "tags": []
   },
   "source": [
    "## Pull historical average USD national currency rates and add to the dataframe"
   ]
  },
  {
   "cell_type": "code",
   "execution_count": null,
   "id": "7dcdc93a",
   "metadata": {
    "execution": {
     "iopub.execute_input": "2024-08-03T15:48:27.299018Z",
     "iopub.status.busy": "2024-08-03T15:48:27.298881Z",
     "iopub.status.idle": "2024-08-03T15:48:35.372717Z",
     "shell.execute_reply": "2024-08-03T15:48:35.372274Z"
    },
    "papermill": {
     "duration": 8.080627,
     "end_time": "2024-08-03T15:48:35.374166",
     "exception": false,
     "start_time": "2024-08-03T15:48:27.293539",
     "status": "completed"
    },
    "tags": []
   },
   "outputs": [],
   "source": [
    "data['usd_nat_currency'] = utils.daily_price(\n",
    "    ticker=currency_pair,\n",
    "    end=data['date'],\n",
    "    days_earlier=90\n",
    "    )\n",
    "\n",
    "# drop rows, when USD rates wasn't available\n",
    "data = data[data['usd_nat_currency'].notna()]\n",
    "\n",
    "data.tail()"
   ]
  },
  {
   "cell_type": "markdown",
   "id": "c9584b98",
   "metadata": {
    "papermill": {
     "duration": 0.016739,
     "end_time": "2024-08-03T15:48:35.412951",
     "exception": false,
     "start_time": "2024-08-03T15:48:35.396212",
     "status": "completed"
    },
    "tags": []
   },
   "source": [
    "## Convert USD values related to IS, BS, CFS to national currency"
   ]
  },
  {
   "cell_type": "code",
   "execution_count": null,
   "id": "2918b699",
   "metadata": {
    "execution": {
     "iopub.execute_input": "2024-08-03T15:48:35.434021Z",
     "iopub.status.busy": "2024-08-03T15:48:35.433827Z",
     "iopub.status.idle": "2024-08-03T15:48:35.442987Z",
     "shell.execute_reply": "2024-08-03T15:48:35.442682Z"
    },
    "papermill": {
     "duration": 0.019777,
     "end_time": "2024-08-03T15:48:35.444121",
     "exception": false,
     "start_time": "2024-08-03T15:48:35.424344",
     "status": "completed"
    },
    "tags": []
   },
   "outputs": [],
   "source": [
    "# convert columns into national currency if necessary\n",
    "if numbers_in_currency == 'USD':\n",
    "    data_nat_curr = utils.convert_national_currency(input_data=data, currency=data)\n",
    "else:\n",
    "    data_nat_curr = data.copy()\n",
    "data_nat_curr.tail()"
   ]
  },
  {
   "cell_type": "markdown",
   "id": "e24cd957",
   "metadata": {
    "papermill": {
     "duration": 0.007377,
     "end_time": "2024-08-03T15:48:35.459681",
     "exception": false,
     "start_time": "2024-08-03T15:48:35.452304",
     "status": "completed"
    },
    "tags": []
   },
   "source": [
    "# 3. Calculate input to Value Raios (eps, bv per share, fcf)\n",
    "## filter out unwanted columns"
   ]
  },
  {
   "cell_type": "code",
   "execution_count": null,
   "id": "1c497849",
   "metadata": {
    "execution": {
     "iopub.execute_input": "2024-08-03T15:48:35.474152Z",
     "iopub.status.busy": "2024-08-03T15:48:35.473986Z",
     "iopub.status.idle": "2024-08-03T15:48:35.477531Z",
     "shell.execute_reply": "2024-08-03T15:48:35.477259Z"
    },
    "papermill": {
     "duration": 0.011983,
     "end_time": "2024-08-03T15:48:35.478574",
     "exception": false,
     "start_time": "2024-08-03T15:48:35.466591",
     "status": "completed"
    },
    "tags": []
   },
   "outputs": [],
   "source": [
    "filtered_nat_curr = utils.calculate_input_value_ratios(data_nat_curr)"
   ]
  },
  {
   "cell_type": "markdown",
   "id": "d10d9fb5",
   "metadata": {
    "papermill": {
     "duration": 0.018864,
     "end_time": "2024-08-03T15:48:35.504177",
     "exception": false,
     "start_time": "2024-08-03T15:48:35.485313",
     "status": "completed"
    },
    "tags": []
   },
   "source": [
    "## Calculate input values to value ratios"
   ]
  },
  {
   "cell_type": "code",
   "execution_count": null,
   "id": "a997530d",
   "metadata": {
    "execution": {
     "iopub.execute_input": "2024-08-03T15:48:35.522766Z",
     "iopub.status.busy": "2024-08-03T15:48:35.522619Z",
     "iopub.status.idle": "2024-08-03T15:48:35.525074Z",
     "shell.execute_reply": "2024-08-03T15:48:35.524811Z"
    },
    "papermill": {
     "duration": 0.015097,
     "end_time": "2024-08-03T15:48:35.525959",
     "exception": false,
     "start_time": "2024-08-03T15:48:35.510862",
     "status": "completed"
    },
    "tags": []
   },
   "outputs": [],
   "source": [
    "ratios_nat_curr = utils.ratios_input_filter(filtered_nat_curr)"
   ]
  },
  {
   "cell_type": "markdown",
   "id": "797ea4ce",
   "metadata": {
    "papermill": {
     "duration": 0.007024,
     "end_time": "2024-08-03T15:48:35.551747",
     "exception": false,
     "start_time": "2024-08-03T15:48:35.544723",
     "status": "completed"
    },
    "tags": []
   },
   "source": [
    "## Calculate performance parameters (current ratio, ROA, ROE, margins, D/E)"
   ]
  },
  {
   "cell_type": "code",
   "execution_count": null,
   "id": "dfceb49d",
   "metadata": {
    "execution": {
     "iopub.execute_input": "2024-08-03T15:48:35.566366Z",
     "iopub.status.busy": "2024-08-03T15:48:35.566124Z",
     "iopub.status.idle": "2024-08-03T15:48:35.572588Z",
     "shell.execute_reply": "2024-08-03T15:48:35.572273Z"
    },
    "papermill": {
     "duration": 0.015044,
     "end_time": "2024-08-03T15:48:35.573463",
     "exception": false,
     "start_time": "2024-08-03T15:48:35.558419",
     "status": "completed"
    },
    "tags": []
   },
   "outputs": [],
   "source": [
    "ratios_nat_curr = utils.evaluate_performance(input=filtered_nat_curr, output=ratios_nat_curr)"
   ]
  },
  {
   "cell_type": "markdown",
   "id": "d9f778d8",
   "metadata": {
    "papermill": {
     "duration": 0.006383,
     "end_time": "2024-08-03T15:48:35.586385",
     "exception": false,
     "start_time": "2024-08-03T15:48:35.580002",
     "status": "completed"
    },
    "tags": []
   },
   "source": [
    "# 4. Pull historical share prices and merge with sattement data"
   ]
  },
  {
   "cell_type": "code",
   "execution_count": null,
   "id": "0fa27d97",
   "metadata": {
    "execution": {
     "iopub.execute_input": "2024-08-03T15:48:35.597846Z",
     "iopub.status.busy": "2024-08-03T15:48:35.597704Z",
     "iopub.status.idle": "2024-08-03T15:48:35.904386Z",
     "shell.execute_reply": "2024-08-03T15:48:35.904038Z"
    },
    "papermill": {
     "duration": 0.31387,
     "end_time": "2024-08-03T15:48:35.905562",
     "exception": false,
     "start_time": "2024-08-03T15:48:35.591692",
     "status": "completed"
    },
    "tags": []
   },
   "outputs": [],
   "source": [
    "# pull weekly share prices and merge with the value ratios\n",
    "merged_nat_curr = utils.add_share_prices_to_value_ratios(share_name, data, ratios_nat_curr)\n",
    "merged_nat_curr.head()"
   ]
  },
  {
   "cell_type": "markdown",
   "id": "40b23c68",
   "metadata": {
    "papermill": {
     "duration": 0.010193,
     "end_time": "2024-08-03T15:48:35.925577",
     "exception": false,
     "start_time": "2024-08-03T15:48:35.915384",
     "status": "completed"
    },
    "tags": []
   },
   "source": [
    "# Calculate price ratios (P/E, P/B, P/S, P/FCF)"
   ]
  },
  {
   "cell_type": "code",
   "execution_count": null,
   "id": "f619ad24",
   "metadata": {
    "execution": {
     "iopub.execute_input": "2024-08-03T15:48:35.944263Z",
     "iopub.status.busy": "2024-08-03T15:48:35.944069Z",
     "iopub.status.idle": "2024-08-03T15:48:35.956359Z",
     "shell.execute_reply": "2024-08-03T15:48:35.956046Z"
    },
    "papermill": {
     "duration": 0.022892,
     "end_time": "2024-08-03T15:48:35.957349",
     "exception": false,
     "start_time": "2024-08-03T15:48:35.934457",
     "status": "completed"
    },
    "tags": []
   },
   "outputs": [],
   "source": [
    "merged_nat_curr = utils.price_ratios(merged_nat_curr)\n",
    "merged_nat_curr.head()"
   ]
  },
  {
   "cell_type": "markdown",
   "id": "e1023fdf",
   "metadata": {
    "papermill": {
     "duration": 0.007107,
     "end_time": "2024-08-03T15:48:35.971886",
     "exception": false,
     "start_time": "2024-08-03T15:48:35.964779",
     "status": "completed"
    },
    "tags": []
   },
   "source": [
    "# Calculate Dividend yield and currency-share price correlation"
   ]
  },
  {
   "cell_type": "code",
   "execution_count": null,
   "id": "f40956da",
   "metadata": {
    "execution": {
     "iopub.execute_input": "2024-08-03T15:48:35.986762Z",
     "iopub.status.busy": "2024-08-03T15:48:35.986513Z",
     "iopub.status.idle": "2024-08-03T15:48:36.330697Z",
     "shell.execute_reply": "2024-08-03T15:48:36.330146Z"
    },
    "papermill": {
     "duration": 0.353763,
     "end_time": "2024-08-03T15:48:36.332474",
     "exception": false,
     "start_time": "2024-08-03T15:48:35.978711",
     "status": "completed"
    },
    "tags": []
   },
   "outputs": [],
   "source": [
    "# get daily historical USD-national currency rates\n",
    "usd_nat_curr = utils.get_historical_currency_rate(currency_pair, merged_nat_curr)"
   ]
  },
  {
   "cell_type": "code",
   "execution_count": null,
   "id": "5e30b623",
   "metadata": {
    "execution": {
     "iopub.execute_input": "2024-08-03T15:48:36.366841Z",
     "iopub.status.busy": "2024-08-03T15:48:36.366624Z",
     "iopub.status.idle": "2024-08-03T15:48:36.877499Z",
     "shell.execute_reply": "2024-08-03T15:48:36.876935Z"
    },
    "papermill": {
     "duration": 0.52837,
     "end_time": "2024-08-03T15:48:36.879329",
     "exception": false,
     "start_time": "2024-08-03T15:48:36.350959",
     "status": "completed"
    },
    "tags": []
   },
   "outputs": [],
   "source": [
    "# get share prices and dividend yield data\n",
    "ticker_all_price = utils.get_historical_share_dividend(share_name, merged_nat_curr)"
   ]
  },
  {
   "cell_type": "code",
   "execution_count": null,
   "id": "f04cf3dd",
   "metadata": {
    "execution": {
     "iopub.execute_input": "2024-08-03T15:48:36.905231Z",
     "iopub.status.busy": "2024-08-03T15:48:36.905114Z",
     "iopub.status.idle": "2024-08-03T15:48:37.079228Z",
     "shell.execute_reply": "2024-08-03T15:48:37.078951Z"
    },
    "papermill": {
     "duration": 0.186419,
     "end_time": "2024-08-03T15:48:37.080112",
     "exception": false,
     "start_time": "2024-08-03T15:48:36.893693",
     "status": "completed"
    },
    "tags": []
   },
   "outputs": [],
   "source": [
    "# Pearson's correlation coefficient between share price and USD - national currency rate\n",
    "utils.get_currency_share_price_correlation(share_name, usd_nat_curr, ticker_all_price)"
   ]
  },
  {
   "cell_type": "markdown",
   "id": "96ccc1ac",
   "metadata": {
    "papermill": {
     "duration": 0.010033,
     "end_time": "2024-08-03T15:48:37.105445",
     "exception": false,
     "start_time": "2024-08-03T15:48:37.095412",
     "status": "completed"
    },
    "tags": []
   },
   "source": [
    "# Share price and value ratios"
   ]
  },
  {
   "cell_type": "code",
   "execution_count": null,
   "id": "6b2bc542",
   "metadata": {
    "execution": {
     "iopub.execute_input": "2024-08-03T15:48:37.122295Z",
     "iopub.status.busy": "2024-08-03T15:48:37.122168Z",
     "iopub.status.idle": "2024-08-03T15:48:41.335297Z",
     "shell.execute_reply": "2024-08-03T15:48:41.335039Z"
    },
    "papermill": {
     "duration": 4.221171,
     "end_time": "2024-08-03T15:48:41.336141",
     "exception": false,
     "start_time": "2024-08-03T15:48:37.114970",
     "status": "completed"
    },
    "tags": []
   },
   "outputs": [],
   "source": [
    "for column in merged_nat_curr.columns[3:]:\n",
    "    fig, ax1 = plt.subplots(figsize=(15, 6))\n",
    "\n",
    "    ax2 = ax1.twinx()\n",
    "    ax1.plot(merged_nat_curr['real_date'], merged_nat_curr[column], color='k', label=merged_nat_curr)\n",
    "    ax2.plot(ticker_all_price.index, ticker_all_price['Close'], color='b', label=share_name)\n",
    "\n",
    "    ax1.set_xlabel('Date')\n",
    "    ax1.set_ylabel(column, color='k')\n",
    "    ax2.set_ylabel('Share price (national currency)', color='b')\n",
    "\n",
    "    plt.legend()\n",
    "    plt.show()"
   ]
  },
  {
   "cell_type": "code",
   "execution_count": null,
   "id": "c4ef23b5",
   "metadata": {
    "execution": {
     "iopub.execute_input": "2024-08-03T15:48:41.387939Z",
     "iopub.status.busy": "2024-08-03T15:48:41.387810Z",
     "iopub.status.idle": "2024-08-03T15:48:42.295900Z",
     "shell.execute_reply": "2024-08-03T15:48:42.295627Z"
    },
    "papermill": {
     "duration": 0.93407,
     "end_time": "2024-08-03T15:48:42.297163",
     "exception": false,
     "start_time": "2024-08-03T15:48:41.363093",
     "status": "completed"
    },
    "tags": []
   },
   "outputs": [],
   "source": [
    "# plot histograms of value parameters\n",
    "utils.plot_histogram_value_parameters(input_df=merged_nat_curr, extra_parameters=[], owned_shares=owned_shares)"
   ]
  },
  {
   "cell_type": "markdown",
   "id": "ce0c7127",
   "metadata": {
    "papermill": {
     "duration": 0.02264,
     "end_time": "2024-08-03T15:48:42.363119",
     "exception": false,
     "start_time": "2024-08-03T15:48:42.340479",
     "status": "completed"
    },
    "tags": []
   },
   "source": [
    "## Calculate correlation between value parameters"
   ]
  },
  {
   "cell_type": "code",
   "execution_count": null,
   "id": "a46f2212",
   "metadata": {
    "execution": {
     "iopub.execute_input": "2024-08-03T15:48:42.408679Z",
     "iopub.status.busy": "2024-08-03T15:48:42.408543Z",
     "iopub.status.idle": "2024-08-03T15:48:42.413480Z",
     "shell.execute_reply": "2024-08-03T15:48:42.413239Z"
    },
    "papermill": {
     "duration": 0.028958,
     "end_time": "2024-08-03T15:48:42.414359",
     "exception": false,
     "start_time": "2024-08-03T15:48:42.385401",
     "status": "completed"
    },
    "tags": []
   },
   "outputs": [],
   "source": [
    "# calulate value parameters Pearson's correlation coefficient\n",
    "pd.DataFrame(merged_nat_curr, columns=['roa', 'roe', 'pe_ratio', 'pb_ratio', 'ps_ratio', 'ev_revenue', 'debt_to_equity', 'current_ratio']).corr()"
   ]
  },
  {
   "cell_type": "code",
   "execution_count": null,
   "id": "26b6bf95",
   "metadata": {},
   "outputs": [],
   "source": [
    "final_df = utils.get_value_stock_target_prices(\n",
    "    input_df=merged_nat_curr,\n",
    "    min_pct=0.2,\n",
    "    max_pct=0.5,\n",
    "    owned_shares=owned_shares\n",
    ")"
   ]
  }
 ],
 "metadata": {
  "kernelspec": {
   "display_name": ".venv",
   "language": "python",
   "name": "python3"
  },
  "language_info": {
   "codemirror_mode": {
    "name": "ipython",
    "version": 3
   },
   "file_extension": ".py",
   "mimetype": "text/x-python",
   "name": "python",
   "nbconvert_exporter": "python",
   "pygments_lexer": "ipython3",
   "version": "3.11.3"
  },
  "papermill": {
   "default_parameters": {},
   "duration": 17.687793,
   "end_time": "2024-08-03T15:48:42.896423",
   "environment_variables": {},
   "exception": null,
   "input_path": "../notebooks/bayer_national.ipynb",
   "output_path": "../notebooks/bayer_national.ipynb",
   "parameters": {},
   "start_time": "2024-08-03T15:48:25.208630",
   "version": "2.5.0"
  }
 },
 "nbformat": 4,
 "nbformat_minor": 5
}
