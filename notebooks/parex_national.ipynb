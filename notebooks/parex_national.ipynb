{
 "cells": [
  {
   "cell_type": "code",
   "execution_count": null,
   "id": "f2d1d9a7",
   "metadata": {
    "execution": {
     "iopub.execute_input": "2024-08-03T15:49:38.554262Z",
     "iopub.status.busy": "2024-08-03T15:49:38.553969Z",
     "iopub.status.idle": "2024-08-03T15:49:39.441862Z",
     "shell.execute_reply": "2024-08-03T15:49:39.441544Z"
    },
    "papermill": {
     "duration": 0.91241,
     "end_time": "2024-08-03T15:49:39.443827",
     "exception": false,
     "start_time": "2024-08-03T15:49:38.531417",
     "status": "completed"
    },
    "tags": []
   },
   "outputs": [],
   "source": [
    "import pandas as pd\n",
    "import matplotlib.pyplot as plt\n",
    "import numpy as np\n",
    "\n",
    "import yfinance as yf\n",
    "import datetime\n",
    "\n",
    "from valueinvesting import utils as utils"
   ]
  },
  {
   "cell_type": "markdown",
   "id": "3c92d108",
   "metadata": {
    "papermill": {
     "duration": 0.016738,
     "end_time": "2024-08-03T15:49:39.467061",
     "exception": false,
     "start_time": "2024-08-03T15:49:39.450323",
     "status": "completed"
    },
    "tags": []
   },
   "source": [
    "# 1. Load raw input\n",
    "## Hardcoded block"
   ]
  },
  {
   "cell_type": "code",
   "execution_count": null,
   "id": "4e255a66",
   "metadata": {
    "execution": {
     "iopub.execute_input": "2024-08-03T15:49:39.485647Z",
     "iopub.status.busy": "2024-08-03T15:49:39.485241Z",
     "iopub.status.idle": "2024-08-03T15:49:39.488240Z",
     "shell.execute_reply": "2024-08-03T15:49:39.487928Z"
    },
    "papermill": {
     "duration": 0.010387,
     "end_time": "2024-08-03T15:49:39.489135",
     "exception": false,
     "start_time": "2024-08-03T15:49:39.478748",
     "status": "completed"
    },
    "tags": []
   },
   "outputs": [],
   "source": [
    "evaluate_last_X_years = True\n",
    "X=10\n",
    "currency_pair = 'CAD=X'\n",
    "numbers_in_currency = 'USD'\n",
    "share_name = 'PXT.TO'"
   ]
  },
  {
   "cell_type": "markdown",
   "id": "c060cb3f",
   "metadata": {
    "papermill": {
     "duration": 0.005767,
     "end_time": "2024-08-03T15:49:39.503650",
     "exception": false,
     "start_time": "2024-08-03T15:49:39.497883",
     "status": "completed"
    },
    "tags": []
   },
   "source": [
    "# 1.2. Raw input statement data"
   ]
  },
  {
   "cell_type": "code",
   "execution_count": null,
   "id": "b1077c13",
   "metadata": {
    "execution": {
     "iopub.execute_input": "2024-08-03T15:49:39.521909Z",
     "iopub.status.busy": "2024-08-03T15:49:39.521771Z",
     "iopub.status.idle": "2024-08-03T15:49:39.528885Z",
     "shell.execute_reply": "2024-08-03T15:49:39.528565Z"
    },
    "papermill": {
     "duration": 0.017637,
     "end_time": "2024-08-03T15:49:39.530020",
     "exception": false,
     "start_time": "2024-08-03T15:49:39.512383",
     "status": "completed"
    },
    "tags": []
   },
   "outputs": [],
   "source": [
    "route = f\"../data/input/{share_name}_data.csv\"\n",
    "data = pd.read_csv(route, sep=';', parse_dates=['date', 'real_date'])\n",
    "# replace -, extend missing 0-s, fix datatype\n",
    "data = utils.replace_format_input(data)"
   ]
  },
  {
   "cell_type": "code",
   "execution_count": null,
   "id": "54a95378",
   "metadata": {
    "execution": {
     "iopub.execute_input": "2024-08-03T15:49:39.541988Z",
     "iopub.status.busy": "2024-08-03T15:49:39.541835Z",
     "iopub.status.idle": "2024-08-03T15:49:39.546879Z",
     "shell.execute_reply": "2024-08-03T15:49:39.546501Z"
    },
    "papermill": {
     "duration": 0.012624,
     "end_time": "2024-08-03T15:49:39.548491",
     "exception": false,
     "start_time": "2024-08-03T15:49:39.535867",
     "status": "completed"
    },
    "tags": []
   },
   "outputs": [],
   "source": [
    "owned_shares = pd.read_csv('../data/extras/owned_stocks.csv', sep=';', parse_dates=['date'])\n",
    "owned_shares = owned_shares.loc[(owned_shares['stock'] == share_name) & (owned_shares['active'] == 'yes')]"
   ]
  },
  {
   "cell_type": "markdown",
   "id": "5c87b6a9",
   "metadata": {
    "papermill": {
     "duration": 0.007192,
     "end_time": "2024-08-03T15:49:39.573703",
     "exception": false,
     "start_time": "2024-08-03T15:49:39.566511",
     "status": "completed"
    },
    "tags": []
   },
   "source": [
    "## (OPTIONAL) Time Filtering - Last 7 years daat"
   ]
  },
  {
   "cell_type": "code",
   "execution_count": null,
   "id": "fc17b38d",
   "metadata": {
    "execution": {
     "iopub.execute_input": "2024-08-03T15:49:39.595624Z",
     "iopub.status.busy": "2024-08-03T15:49:39.595453Z",
     "iopub.status.idle": "2024-08-03T15:49:39.606028Z",
     "shell.execute_reply": "2024-08-03T15:49:39.605773Z"
    },
    "papermill": {
     "duration": 0.021871,
     "end_time": "2024-08-03T15:49:39.606876",
     "exception": false,
     "start_time": "2024-08-03T15:49:39.585005",
     "status": "completed"
    },
    "tags": []
   },
   "outputs": [],
   "source": [
    "if evaluate_last_X_years:\n",
    "    data = data[data['date'] > datetime.datetime.today() - datetime.timedelta(days=X*366+93)]\n",
    "    data = data.reset_index(drop=True)\n",
    "\n",
    "data.head()"
   ]
  },
  {
   "cell_type": "markdown",
   "id": "ea70f6c3",
   "metadata": {
    "papermill": {
     "duration": 0.004835,
     "end_time": "2024-08-03T15:49:39.616706",
     "exception": false,
     "start_time": "2024-08-03T15:49:39.611871",
     "status": "completed"
    },
    "tags": []
   },
   "source": [
    "## Calculate date when quaterly reports could be available"
   ]
  },
  {
   "cell_type": "code",
   "execution_count": null,
   "id": "8b92f82a",
   "metadata": {
    "execution": {
     "iopub.execute_input": "2024-08-03T15:49:39.639377Z",
     "iopub.status.busy": "2024-08-03T15:49:39.639206Z",
     "iopub.status.idle": "2024-08-03T15:49:39.641257Z",
     "shell.execute_reply": "2024-08-03T15:49:39.640952Z"
    },
    "papermill": {
     "duration": 0.020421,
     "end_time": "2024-08-03T15:49:39.642324",
     "exception": false,
     "start_time": "2024-08-03T15:49:39.621903",
     "status": "completed"
    },
    "tags": []
   },
   "outputs": [],
   "source": [
    "data = utils.calculate_real_date(data)"
   ]
  },
  {
   "cell_type": "markdown",
   "id": "3838a47b",
   "metadata": {
    "papermill": {
     "duration": 0.006649,
     "end_time": "2024-08-03T15:49:39.654868",
     "exception": false,
     "start_time": "2024-08-03T15:49:39.648219",
     "status": "completed"
    },
    "tags": []
   },
   "source": [
    "# 2. Filter out unnecesary columns"
   ]
  },
  {
   "cell_type": "code",
   "execution_count": null,
   "id": "55c032c6",
   "metadata": {
    "execution": {
     "iopub.execute_input": "2024-08-03T15:49:39.666519Z",
     "iopub.status.busy": "2024-08-03T15:49:39.666379Z",
     "iopub.status.idle": "2024-08-03T15:49:39.673943Z",
     "shell.execute_reply": "2024-08-03T15:49:39.673639Z"
    },
    "papermill": {
     "duration": 0.014561,
     "end_time": "2024-08-03T15:49:39.674894",
     "exception": false,
     "start_time": "2024-08-03T15:49:39.660333",
     "status": "completed"
    },
    "tags": []
   },
   "outputs": [],
   "source": [
    "data = utils.filter_raw_data(data)\n",
    "data.tail()"
   ]
  },
  {
   "cell_type": "markdown",
   "id": "3b52047f",
   "metadata": {
    "papermill": {
     "duration": 0.007881,
     "end_time": "2024-08-03T15:49:39.688835",
     "exception": false,
     "start_time": "2024-08-03T15:49:39.680954",
     "status": "completed"
    },
    "tags": []
   },
   "source": [
    "## Pull historical average USD national currency rates and add to the dataframe"
   ]
  },
  {
   "cell_type": "code",
   "execution_count": null,
   "id": "ec9cb8e5",
   "metadata": {
    "execution": {
     "iopub.execute_input": "2024-08-03T15:49:39.701065Z",
     "iopub.status.busy": "2024-08-03T15:49:39.700607Z",
     "iopub.status.idle": "2024-08-03T15:49:47.805448Z",
     "shell.execute_reply": "2024-08-03T15:49:47.804973Z"
    },
    "papermill": {
     "duration": 8.113369,
     "end_time": "2024-08-03T15:49:47.807904",
     "exception": false,
     "start_time": "2024-08-03T15:49:39.694535",
     "status": "completed"
    },
    "tags": []
   },
   "outputs": [],
   "source": [
    "data['usd_nat_currency'] = utils.daily_price(\n",
    "    ticker=currency_pair,\n",
    "    end=data['date'],\n",
    "    days_earlier=90\n",
    "    )\n",
    "\n",
    "# drop rows, when USD rates wasn't available\n",
    "data = data[data['usd_nat_currency'].notna()]\n",
    "\n",
    "data.tail()"
   ]
  },
  {
   "cell_type": "markdown",
   "id": "2d518324",
   "metadata": {
    "papermill": {
     "duration": 0.006496,
     "end_time": "2024-08-03T15:49:47.821009",
     "exception": false,
     "start_time": "2024-08-03T15:49:47.814513",
     "status": "completed"
    },
    "tags": []
   },
   "source": [
    "## Convert USD values related to IS, BS, CFS to national currency"
   ]
  },
  {
   "cell_type": "code",
   "execution_count": null,
   "id": "d46bd46f",
   "metadata": {
    "execution": {
     "iopub.execute_input": "2024-08-03T15:49:47.834912Z",
     "iopub.status.busy": "2024-08-03T15:49:47.834721Z",
     "iopub.status.idle": "2024-08-03T15:49:47.845806Z",
     "shell.execute_reply": "2024-08-03T15:49:47.845538Z"
    },
    "papermill": {
     "duration": 0.020227,
     "end_time": "2024-08-03T15:49:47.846784",
     "exception": false,
     "start_time": "2024-08-03T15:49:47.826557",
     "status": "completed"
    },
    "tags": []
   },
   "outputs": [],
   "source": [
    "# convert columns into national currency if necessary\n",
    "if numbers_in_currency == 'USD':\n",
    "    data_nat_curr = utils.convert_national_currency(input_data=data, currency=data)\n",
    "else:\n",
    "    data_nat_curr = data.copy()\n",
    "data_nat_curr.tail()"
   ]
  },
  {
   "cell_type": "markdown",
   "id": "b9e8cbfd",
   "metadata": {
    "papermill": {
     "duration": 0.00635,
     "end_time": "2024-08-03T15:49:47.860064",
     "exception": false,
     "start_time": "2024-08-03T15:49:47.853714",
     "status": "completed"
    },
    "tags": []
   },
   "source": [
    "# 3. Calculate input to Value Raios (eps, bv per share, fcf)\n",
    "## filter out unwanted columns"
   ]
  },
  {
   "cell_type": "code",
   "execution_count": null,
   "id": "93ff42a5",
   "metadata": {
    "execution": {
     "iopub.execute_input": "2024-08-03T15:49:47.875461Z",
     "iopub.status.busy": "2024-08-03T15:49:47.875213Z",
     "iopub.status.idle": "2024-08-03T15:49:47.878896Z",
     "shell.execute_reply": "2024-08-03T15:49:47.878572Z"
    },
    "papermill": {
     "duration": 0.011927,
     "end_time": "2024-08-03T15:49:47.879759",
     "exception": false,
     "start_time": "2024-08-03T15:49:47.867832",
     "status": "completed"
    },
    "tags": []
   },
   "outputs": [],
   "source": [
    "filtered_nat_curr = utils.calculate_input_value_ratios(data_nat_curr)"
   ]
  },
  {
   "cell_type": "markdown",
   "id": "1efa2e0b",
   "metadata": {
    "papermill": {
     "duration": 0.006471,
     "end_time": "2024-08-03T15:49:47.893795",
     "exception": false,
     "start_time": "2024-08-03T15:49:47.887324",
     "status": "completed"
    },
    "tags": []
   },
   "source": [
    "## Calculate input values to value ratios"
   ]
  },
  {
   "cell_type": "code",
   "execution_count": null,
   "id": "c39a92d0",
   "metadata": {
    "execution": {
     "iopub.execute_input": "2024-08-03T15:49:47.908768Z",
     "iopub.status.busy": "2024-08-03T15:49:47.908609Z",
     "iopub.status.idle": "2024-08-03T15:49:47.911259Z",
     "shell.execute_reply": "2024-08-03T15:49:47.910932Z"
    },
    "papermill": {
     "duration": 0.012584,
     "end_time": "2024-08-03T15:49:47.912274",
     "exception": false,
     "start_time": "2024-08-03T15:49:47.899690",
     "status": "completed"
    },
    "tags": []
   },
   "outputs": [],
   "source": [
    "ratios_nat_curr = utils.ratios_input_filter(filtered_nat_curr)"
   ]
  },
  {
   "cell_type": "code",
   "execution_count": null,
   "id": "0a6d1730",
   "metadata": {
    "execution": {
     "iopub.execute_input": "2024-08-03T15:49:47.930882Z",
     "iopub.status.busy": "2024-08-03T15:49:47.930736Z",
     "iopub.status.idle": "2024-08-03T15:49:47.938719Z",
     "shell.execute_reply": "2024-08-03T15:49:47.938378Z"
    },
    "papermill": {
     "duration": 0.016759,
     "end_time": "2024-08-03T15:49:47.939960",
     "exception": false,
     "start_time": "2024-08-03T15:49:47.923201",
     "status": "completed"
    },
    "tags": []
   },
   "outputs": [],
   "source": [
    "ratios_nat_curr = utils.evaluate_performance(input=filtered_nat_curr, output=ratios_nat_curr)"
   ]
  },
  {
   "cell_type": "markdown",
   "id": "bbee119e",
   "metadata": {
    "papermill": {
     "duration": 0.009338,
     "end_time": "2024-08-03T15:49:47.983279",
     "exception": false,
     "start_time": "2024-08-03T15:49:47.973941",
     "status": "completed"
    },
    "tags": []
   },
   "source": [
    "# 4. Pull historical share prices and merge with sattement data\n",
    "## Pull historical share prices"
   ]
  },
  {
   "cell_type": "code",
   "execution_count": null,
   "id": "c7a119ce",
   "metadata": {
    "execution": {
     "iopub.execute_input": "2024-08-03T15:49:47.998623Z",
     "iopub.status.busy": "2024-08-03T15:49:47.998374Z",
     "iopub.status.idle": "2024-08-03T15:49:48.252826Z",
     "shell.execute_reply": "2024-08-03T15:49:48.252540Z"
    },
    "papermill": {
     "duration": 0.261564,
     "end_time": "2024-08-03T15:49:48.253706",
     "exception": false,
     "start_time": "2024-08-03T15:49:47.992142",
     "status": "completed"
    },
    "tags": []
   },
   "outputs": [],
   "source": [
    "# pull weekly share prices and merge with the value ratios\n",
    "merged_nat_curr = utils.add_share_prices_to_value_ratios(share_name, data, ratios_nat_curr)\n",
    "merged_nat_curr.head()"
   ]
  },
  {
   "cell_type": "markdown",
   "id": "a6a0421d",
   "metadata": {
    "papermill": {
     "duration": 0.005524,
     "end_time": "2024-08-03T15:49:48.265149",
     "exception": false,
     "start_time": "2024-08-03T15:49:48.259625",
     "status": "completed"
    },
    "tags": []
   },
   "source": [
    "# Calculate price ratios (P/E, P/B, P/S, P/FCF)"
   ]
  },
  {
   "cell_type": "code",
   "execution_count": null,
   "id": "3b97902e",
   "metadata": {
    "execution": {
     "iopub.execute_input": "2024-08-03T15:49:48.279220Z",
     "iopub.status.busy": "2024-08-03T15:49:48.279057Z",
     "iopub.status.idle": "2024-08-03T15:49:48.288349Z",
     "shell.execute_reply": "2024-08-03T15:49:48.288005Z"
    },
    "papermill": {
     "duration": 0.01812,
     "end_time": "2024-08-03T15:49:48.289790",
     "exception": false,
     "start_time": "2024-08-03T15:49:48.271670",
     "status": "completed"
    },
    "tags": []
   },
   "outputs": [],
   "source": [
    "merged_nat_curr = utils.price_ratios(merged_nat_curr)\n",
    "merged_nat_curr.head()"
   ]
  },
  {
   "cell_type": "markdown",
   "id": "0472934c",
   "metadata": {
    "papermill": {
     "duration": 0.007102,
     "end_time": "2024-08-03T15:49:48.304560",
     "exception": false,
     "start_time": "2024-08-03T15:49:48.297458",
     "status": "completed"
    },
    "tags": []
   },
   "source": [
    "# Calculate Dividend yield and currency-share price correlation"
   ]
  },
  {
   "cell_type": "code",
   "execution_count": null,
   "id": "a6e16c48",
   "metadata": {
    "execution": {
     "iopub.execute_input": "2024-08-03T15:49:48.316050Z",
     "iopub.status.busy": "2024-08-03T15:49:48.315934Z",
     "iopub.status.idle": "2024-08-03T15:49:48.656805Z",
     "shell.execute_reply": "2024-08-03T15:49:48.656510Z"
    },
    "papermill": {
     "duration": 0.347757,
     "end_time": "2024-08-03T15:49:48.657851",
     "exception": false,
     "start_time": "2024-08-03T15:49:48.310094",
     "status": "completed"
    },
    "tags": []
   },
   "outputs": [],
   "source": [
    "# get daily historical USD-national currency rates\n",
    "usd_nat_curr = utils.get_historical_currency_rate(currency_pair, merged_nat_curr)"
   ]
  },
  {
   "cell_type": "code",
   "execution_count": null,
   "id": "d27b220f",
   "metadata": {
    "execution": {
     "iopub.execute_input": "2024-08-03T15:49:48.672982Z",
     "iopub.status.busy": "2024-08-03T15:49:48.672855Z",
     "iopub.status.idle": "2024-08-03T15:49:49.141570Z",
     "shell.execute_reply": "2024-08-03T15:49:49.141142Z"
    },
    "papermill": {
     "duration": 0.478581,
     "end_time": "2024-08-03T15:49:49.142698",
     "exception": false,
     "start_time": "2024-08-03T15:49:48.664117",
     "status": "completed"
    },
    "tags": []
   },
   "outputs": [],
   "source": [
    "# get share prices and dividend yield data\n",
    "ticker_all_price = utils.get_historical_share_dividend(share_name, merged_nat_curr)"
   ]
  },
  {
   "cell_type": "code",
   "execution_count": null,
   "id": "cf42049d",
   "metadata": {
    "execution": {
     "iopub.execute_input": "2024-08-03T15:49:49.159370Z",
     "iopub.status.busy": "2024-08-03T15:49:49.159248Z",
     "iopub.status.idle": "2024-08-03T15:49:49.365590Z",
     "shell.execute_reply": "2024-08-03T15:49:49.365064Z"
    },
    "papermill": {
     "duration": 0.21927,
     "end_time": "2024-08-03T15:49:49.369480",
     "exception": false,
     "start_time": "2024-08-03T15:49:49.150210",
     "status": "completed"
    },
    "tags": []
   },
   "outputs": [],
   "source": [
    "# Pearson's correlation coefficient between share price and USD - national currency rate\n",
    "utils.get_currency_share_price_correlation(share_name, usd_nat_curr, ticker_all_price)"
   ]
  },
  {
   "cell_type": "markdown",
   "id": "6bba76d8",
   "metadata": {
    "papermill": {
     "duration": 0.012892,
     "end_time": "2024-08-03T15:49:49.394899",
     "exception": false,
     "start_time": "2024-08-03T15:49:49.382007",
     "status": "completed"
    },
    "tags": []
   },
   "source": [
    "# Share price and value ratios"
   ]
  },
  {
   "cell_type": "code",
   "execution_count": null,
   "id": "d9cd8d68",
   "metadata": {
    "execution": {
     "iopub.execute_input": "2024-08-03T15:49:49.410640Z",
     "iopub.status.busy": "2024-08-03T15:49:49.410505Z",
     "iopub.status.idle": "2024-08-03T15:49:54.203622Z",
     "shell.execute_reply": "2024-08-03T15:49:54.203373Z"
    },
    "papermill": {
     "duration": 4.802303,
     "end_time": "2024-08-03T15:49:54.204799",
     "exception": false,
     "start_time": "2024-08-03T15:49:49.402496",
     "status": "completed"
    },
    "tags": []
   },
   "outputs": [],
   "source": [
    "for column in merged_nat_curr.columns[3:]:\n",
    "    fig, ax1 = plt.subplots(figsize=(15, 6))\n",
    "\n",
    "    ax2 = ax1.twinx()\n",
    "    ax1.plot(merged_nat_curr['real_date'], merged_nat_curr[column], color='k', label=merged_nat_curr)\n",
    "    ax2.plot(ticker_all_price.index, ticker_all_price['Close'], color='b', label=share_name)\n",
    "\n",
    "    ax1.set_xlabel('Date')\n",
    "    ax1.set_ylabel(column, color='k')\n",
    "    ax2.set_ylabel('Share price (national currency)', color='b')\n",
    "\n",
    "    plt.legend()\n",
    "    plt.show()"
   ]
  },
  {
   "cell_type": "code",
   "execution_count": null,
   "id": "c6819c51",
   "metadata": {
    "execution": {
     "iopub.execute_input": "2024-08-03T15:49:54.274244Z",
     "iopub.status.busy": "2024-08-03T15:49:54.274098Z",
     "iopub.status.idle": "2024-08-03T15:49:55.242864Z",
     "shell.execute_reply": "2024-08-03T15:49:55.242563Z"
    },
    "papermill": {
     "duration": 1.01061,
     "end_time": "2024-08-03T15:49:55.243783",
     "exception": false,
     "start_time": "2024-08-03T15:49:54.233173",
     "status": "completed"
    },
    "tags": []
   },
   "outputs": [],
   "source": [
    "# plot histograms of value parameters\n",
    "utils.plot_histogram_value_parameters(input_df=merged_nat_curr, extra_parameters=[], owned_shares=owned_shares)"
   ]
  },
  {
   "cell_type": "markdown",
   "id": "8a0e7f15",
   "metadata": {
    "papermill": {
     "duration": 0.021865,
     "end_time": "2024-08-03T15:49:55.304231",
     "exception": false,
     "start_time": "2024-08-03T15:49:55.282366",
     "status": "completed"
    },
    "tags": []
   },
   "source": [
    "## Calculate correlation between value parameters"
   ]
  },
  {
   "cell_type": "code",
   "execution_count": null,
   "id": "06430b43",
   "metadata": {
    "execution": {
     "iopub.execute_input": "2024-08-03T15:49:55.347413Z",
     "iopub.status.busy": "2024-08-03T15:49:55.347179Z",
     "iopub.status.idle": "2024-08-03T15:49:55.353544Z",
     "shell.execute_reply": "2024-08-03T15:49:55.353252Z"
    },
    "papermill": {
     "duration": 0.03003,
     "end_time": "2024-08-03T15:49:55.354506",
     "exception": false,
     "start_time": "2024-08-03T15:49:55.324476",
     "status": "completed"
    },
    "tags": []
   },
   "outputs": [],
   "source": [
    "# calulate value parameters Pearson's correlation coefficient\n",
    "pd.DataFrame(merged_nat_curr, columns=['roa', 'roe', 'pe_ratio', 'pb_ratio', 'ps_ratio', 'ev_revenue', 'debt_to_equity', 'current_ratio']).corr()"
   ]
  },
  {
   "cell_type": "code",
   "execution_count": null,
   "id": "cdc98bcf",
   "metadata": {},
   "outputs": [],
   "source": [
    "final_df = utils.get_value_stock_target_prices(\n",
    "    input_df=merged_nat_curr,\n",
    "    min_pct=0.2,\n",
    "    max_pct=0.5,\n",
    "    owned_shares=owned_shares\n",
    ")"
   ]
  }
 ],
 "metadata": {
  "kernelspec": {
   "display_name": ".venv",
   "language": "python",
   "name": "python3"
  },
  "language_info": {
   "codemirror_mode": {
    "name": "ipython",
    "version": 3
   },
   "file_extension": ".py",
   "mimetype": "text/x-python",
   "name": "python",
   "nbconvert_exporter": "python",
   "pygments_lexer": "ipython3",
   "version": "3.11.3"
  },
  "papermill": {
   "default_parameters": {},
   "duration": 18.485689,
   "end_time": "2024-08-03T15:49:55.959683",
   "environment_variables": {},
   "exception": null,
   "input_path": "../notebooks/parex_national.ipynb",
   "output_path": "../notebooks/parex_national.ipynb",
   "parameters": {},
   "start_time": "2024-08-03T15:49:37.473994",
   "version": "2.5.0"
  }
 },
 "nbformat": 4,
 "nbformat_minor": 5
}
