{
 "cells": [
  {
   "cell_type": "code",
   "execution_count": null,
   "id": "27214b8f",
   "metadata": {
    "execution": {
     "iopub.execute_input": "2024-08-03T15:58:41.411346Z",
     "iopub.status.busy": "2024-08-03T15:58:41.410788Z",
     "iopub.status.idle": "2024-08-03T15:58:42.117855Z",
     "shell.execute_reply": "2024-08-03T15:58:42.117550Z"
    },
    "papermill": {
     "duration": 0.732419,
     "end_time": "2024-08-03T15:58:42.118982",
     "exception": false,
     "start_time": "2024-08-03T15:58:41.386563",
     "status": "completed"
    },
    "tags": []
   },
   "outputs": [],
   "source": [
    "import pandas as pd\n",
    "import matplotlib.pyplot as plt\n",
    "import numpy as np\n",
    "\n",
    "import yfinance as yf\n",
    "import datetime\n",
    "\n",
    "from valueinvesting import utils as utils"
   ]
  },
  {
   "cell_type": "markdown",
   "id": "ae969344",
   "metadata": {
    "papermill": {
     "duration": 0.005518,
     "end_time": "2024-08-03T15:58:42.131211",
     "exception": false,
     "start_time": "2024-08-03T15:58:42.125693",
     "status": "completed"
    },
    "tags": []
   },
   "source": [
    "# 1. Load raw input\n",
    "## Hardcoded block"
   ]
  },
  {
   "cell_type": "code",
   "execution_count": null,
   "id": "9a553c1d",
   "metadata": {
    "execution": {
     "iopub.execute_input": "2024-08-03T15:58:42.142546Z",
     "iopub.status.busy": "2024-08-03T15:58:42.142364Z",
     "iopub.status.idle": "2024-08-03T15:58:42.144346Z",
     "shell.execute_reply": "2024-08-03T15:58:42.144103Z"
    },
    "papermill": {
     "duration": 0.008852,
     "end_time": "2024-08-03T15:58:42.145193",
     "exception": false,
     "start_time": "2024-08-03T15:58:42.136341",
     "status": "completed"
    },
    "tags": []
   },
   "outputs": [],
   "source": [
    "evaluate_last_X_years = True\n",
    "X=10\n",
    "currency_pair = 'EUR=X'\n",
    "numbers_in_currency = 'EUR'\n",
    "share_name = 'TEP.PA'"
   ]
  },
  {
   "cell_type": "markdown",
   "id": "f4172315",
   "metadata": {
    "papermill": {
     "duration": 0.004328,
     "end_time": "2024-08-03T15:58:42.154378",
     "exception": false,
     "start_time": "2024-08-03T15:58:42.150050",
     "status": "completed"
    },
    "tags": []
   },
   "source": [
    "# 1.1 Calculate Share numbers from total distributed dividend (CFS) and dividend amount"
   ]
  },
  {
   "cell_type": "markdown",
   "id": "ab689857",
   "metadata": {
    "papermill": {
     "duration": 0.004669,
     "end_time": "2024-08-03T15:58:42.164037",
     "exception": false,
     "start_time": "2024-08-03T15:58:42.159368",
     "status": "completed"
    },
    "tags": []
   },
   "source": [
    "# 1.2. Raw input statement data"
   ]
  },
  {
   "cell_type": "code",
   "execution_count": null,
   "id": "2d021b0a",
   "metadata": {
    "execution": {
     "iopub.execute_input": "2024-08-03T15:58:42.174609Z",
     "iopub.status.busy": "2024-08-03T15:58:42.174376Z",
     "iopub.status.idle": "2024-08-03T15:58:42.185782Z",
     "shell.execute_reply": "2024-08-03T15:58:42.185489Z"
    },
    "papermill": {
     "duration": 0.018141,
     "end_time": "2024-08-03T15:58:42.186801",
     "exception": false,
     "start_time": "2024-08-03T15:58:42.168660",
     "status": "completed"
    },
    "tags": []
   },
   "outputs": [],
   "source": [
    "route = f\"../data/input/{share_name}_data.csv\"\n",
    "data = pd.read_csv(route, sep=';', parse_dates=['date', 'real_date'])\n",
    "# replace -, extend missing 0-s, fix datatype\n",
    "data = utils.replace_format_input(data)"
   ]
  },
  {
   "cell_type": "code",
   "execution_count": null,
   "id": "2925ee73",
   "metadata": {
    "execution": {
     "iopub.execute_input": "2024-08-03T15:58:42.199259Z",
     "iopub.status.busy": "2024-08-03T15:58:42.199129Z",
     "iopub.status.idle": "2024-08-03T15:58:42.203154Z",
     "shell.execute_reply": "2024-08-03T15:58:42.202872Z"
    },
    "papermill": {
     "duration": 0.011149,
     "end_time": "2024-08-03T15:58:42.204209",
     "exception": false,
     "start_time": "2024-08-03T15:58:42.193060",
     "status": "completed"
    },
    "tags": []
   },
   "outputs": [],
   "source": [
    "owned_shares = pd.read_csv('../data/extras/owned_stocks.csv', sep=';', parse_dates=['date'])\n",
    "owned_shares = owned_shares.loc[(owned_shares['stock'] == share_name) & (owned_shares['active'] == 'yes')]"
   ]
  },
  {
   "cell_type": "markdown",
   "id": "9cde4632",
   "metadata": {
    "papermill": {
     "duration": 0.00547,
     "end_time": "2024-08-03T15:58:42.215767",
     "exception": false,
     "start_time": "2024-08-03T15:58:42.210297",
     "status": "completed"
    },
    "tags": []
   },
   "source": [
    "## (OPTIONAL) Time Filtering - Last 7 years daat"
   ]
  },
  {
   "cell_type": "code",
   "execution_count": null,
   "id": "e8b849ec",
   "metadata": {
    "execution": {
     "iopub.execute_input": "2024-08-03T15:58:42.230931Z",
     "iopub.status.busy": "2024-08-03T15:58:42.230783Z",
     "iopub.status.idle": "2024-08-03T15:58:42.241528Z",
     "shell.execute_reply": "2024-08-03T15:58:42.241168Z"
    },
    "papermill": {
     "duration": 0.01893,
     "end_time": "2024-08-03T15:58:42.242532",
     "exception": false,
     "start_time": "2024-08-03T15:58:42.223602",
     "status": "completed"
    },
    "tags": []
   },
   "outputs": [],
   "source": [
    "if evaluate_last_X_years:\n",
    "    data = data[data['date'] > datetime.datetime.today() - datetime.timedelta(days=X*366+93)]\n",
    "    data = data.reset_index(drop=True)\n",
    "\n",
    "data.head()"
   ]
  },
  {
   "cell_type": "markdown",
   "id": "e1dd033f",
   "metadata": {
    "papermill": {
     "duration": 0.017613,
     "end_time": "2024-08-03T15:58:42.265770",
     "exception": false,
     "start_time": "2024-08-03T15:58:42.248157",
     "status": "completed"
    },
    "tags": []
   },
   "source": [
    "## Calculate date when quaterly reports could be available"
   ]
  },
  {
   "cell_type": "code",
   "execution_count": null,
   "id": "fa6a21db",
   "metadata": {
    "execution": {
     "iopub.execute_input": "2024-08-03T15:58:42.278136Z",
     "iopub.status.busy": "2024-08-03T15:58:42.277896Z",
     "iopub.status.idle": "2024-08-03T15:58:42.279808Z",
     "shell.execute_reply": "2024-08-03T15:58:42.279530Z"
    },
    "papermill": {
     "duration": 0.009324,
     "end_time": "2024-08-03T15:58:42.280717",
     "exception": false,
     "start_time": "2024-08-03T15:58:42.271393",
     "status": "completed"
    },
    "tags": []
   },
   "outputs": [],
   "source": [
    "data = utils.calculate_real_date(data)"
   ]
  },
  {
   "cell_type": "markdown",
   "id": "47b62c93",
   "metadata": {
    "papermill": {
     "duration": 0.006275,
     "end_time": "2024-08-03T15:58:42.293035",
     "exception": false,
     "start_time": "2024-08-03T15:58:42.286760",
     "status": "completed"
    },
    "tags": []
   },
   "source": [
    "# 2. Filter out unnecesary columns"
   ]
  },
  {
   "cell_type": "code",
   "execution_count": null,
   "id": "290c614e",
   "metadata": {
    "execution": {
     "iopub.execute_input": "2024-08-03T15:58:42.305641Z",
     "iopub.status.busy": "2024-08-03T15:58:42.305495Z",
     "iopub.status.idle": "2024-08-03T15:58:42.312278Z",
     "shell.execute_reply": "2024-08-03T15:58:42.312051Z"
    },
    "papermill": {
     "duration": 0.014252,
     "end_time": "2024-08-03T15:58:42.313097",
     "exception": false,
     "start_time": "2024-08-03T15:58:42.298845",
     "status": "completed"
    },
    "tags": []
   },
   "outputs": [],
   "source": [
    "data = utils.filter_raw_data(data)\n",
    "data.tail()"
   ]
  },
  {
   "cell_type": "markdown",
   "id": "ad96f8bf",
   "metadata": {
    "papermill": {
     "duration": 0.005823,
     "end_time": "2024-08-03T15:58:42.324548",
     "exception": false,
     "start_time": "2024-08-03T15:58:42.318725",
     "status": "completed"
    },
    "tags": []
   },
   "source": [
    "## Pull historical average USD national currency rates and add to the dataframe"
   ]
  },
  {
   "cell_type": "code",
   "execution_count": null,
   "id": "84ab32ca",
   "metadata": {
    "execution": {
     "iopub.execute_input": "2024-08-03T15:58:42.337559Z",
     "iopub.status.busy": "2024-08-03T15:58:42.337417Z",
     "iopub.status.idle": "2024-08-03T15:58:46.288721Z",
     "shell.execute_reply": "2024-08-03T15:58:46.288156Z"
    },
    "papermill": {
     "duration": 3.959553,
     "end_time": "2024-08-03T15:58:46.290461",
     "exception": false,
     "start_time": "2024-08-03T15:58:42.330908",
     "status": "completed"
    },
    "tags": []
   },
   "outputs": [],
   "source": [
    "data['usd_nat_currency'] = utils.daily_price(\n",
    "    ticker=currency_pair,\n",
    "    end=data['date'],\n",
    "    days_earlier=90\n",
    "    )\n",
    "\n",
    "# drop rows, when USD rates wasn't available\n",
    "data = data[data['usd_nat_currency'].notna()]\n",
    "\n",
    "data.tail()"
   ]
  },
  {
   "cell_type": "markdown",
   "id": "2c521289",
   "metadata": {
    "papermill": {
     "duration": 0.012388,
     "end_time": "2024-08-03T15:58:46.315323",
     "exception": false,
     "start_time": "2024-08-03T15:58:46.302935",
     "status": "completed"
    },
    "tags": []
   },
   "source": [
    "## Convert USD values related to IS, BS, CFS to national currency"
   ]
  },
  {
   "cell_type": "code",
   "execution_count": null,
   "id": "a964dc94",
   "metadata": {
    "execution": {
     "iopub.execute_input": "2024-08-03T15:58:46.340609Z",
     "iopub.status.busy": "2024-08-03T15:58:46.340400Z",
     "iopub.status.idle": "2024-08-03T15:58:46.350203Z",
     "shell.execute_reply": "2024-08-03T15:58:46.349879Z"
    },
    "papermill": {
     "duration": 0.023247,
     "end_time": "2024-08-03T15:58:46.351309",
     "exception": false,
     "start_time": "2024-08-03T15:58:46.328062",
     "status": "completed"
    },
    "tags": []
   },
   "outputs": [],
   "source": [
    "# convert columns into national currency if necessary\n",
    "if numbers_in_currency == 'USD':\n",
    "    data_nat_curr = utils.convert_national_currency(input_data=data, currency=data)\n",
    "else:\n",
    "    data_nat_curr = data.copy()\n",
    "data_nat_curr.tail()"
   ]
  },
  {
   "cell_type": "markdown",
   "id": "b08f9660",
   "metadata": {
    "papermill": {
     "duration": 0.01105,
     "end_time": "2024-08-03T15:58:46.374363",
     "exception": false,
     "start_time": "2024-08-03T15:58:46.363313",
     "status": "completed"
    },
    "tags": []
   },
   "source": [
    "# 3. Calculate input to Value Raios (eps, bv per share, fcf)\n",
    "## filter out unwanted columns"
   ]
  },
  {
   "cell_type": "code",
   "execution_count": null,
   "id": "d6f3ae5c",
   "metadata": {
    "execution": {
     "iopub.execute_input": "2024-08-03T15:58:46.395412Z",
     "iopub.status.busy": "2024-08-03T15:58:46.395216Z",
     "iopub.status.idle": "2024-08-03T15:58:46.399690Z",
     "shell.execute_reply": "2024-08-03T15:58:46.399342Z"
    },
    "papermill": {
     "duration": 0.016294,
     "end_time": "2024-08-03T15:58:46.400768",
     "exception": false,
     "start_time": "2024-08-03T15:58:46.384474",
     "status": "completed"
    },
    "tags": []
   },
   "outputs": [],
   "source": [
    "filtered_nat_curr = utils.calculate_input_value_ratios(data_nat_curr)"
   ]
  },
  {
   "cell_type": "markdown",
   "id": "ed2c760b",
   "metadata": {
    "papermill": {
     "duration": 0.009656,
     "end_time": "2024-08-03T15:58:46.423520",
     "exception": false,
     "start_time": "2024-08-03T15:58:46.413864",
     "status": "completed"
    },
    "tags": []
   },
   "source": [
    "## Calculate input values to value ratios"
   ]
  },
  {
   "cell_type": "code",
   "execution_count": null,
   "id": "785063ff",
   "metadata": {
    "execution": {
     "iopub.execute_input": "2024-08-03T15:58:46.437333Z",
     "iopub.status.busy": "2024-08-03T15:58:46.437108Z",
     "iopub.status.idle": "2024-08-03T15:58:46.439715Z",
     "shell.execute_reply": "2024-08-03T15:58:46.439424Z"
    },
    "papermill": {
     "duration": 0.0106,
     "end_time": "2024-08-03T15:58:46.440623",
     "exception": false,
     "start_time": "2024-08-03T15:58:46.430023",
     "status": "completed"
    },
    "tags": []
   },
   "outputs": [],
   "source": [
    "ratios_nat_curr = utils.ratios_input_filter(filtered_nat_curr)"
   ]
  },
  {
   "cell_type": "markdown",
   "id": "ede61c56",
   "metadata": {
    "papermill": {
     "duration": 0.006754,
     "end_time": "2024-08-03T15:58:46.460583",
     "exception": false,
     "start_time": "2024-08-03T15:58:46.453829",
     "status": "completed"
    },
    "tags": []
   },
   "source": [
    "## Calculate performance parameters (current ratio, ROA, ROE, margins, D/E)"
   ]
  },
  {
   "cell_type": "code",
   "execution_count": null,
   "id": "d58b787b",
   "metadata": {
    "execution": {
     "iopub.execute_input": "2024-08-03T15:58:46.473914Z",
     "iopub.status.busy": "2024-08-03T15:58:46.473686Z",
     "iopub.status.idle": "2024-08-03T15:58:46.480203Z",
     "shell.execute_reply": "2024-08-03T15:58:46.479930Z"
    },
    "papermill": {
     "duration": 0.014274,
     "end_time": "2024-08-03T15:58:46.481077",
     "exception": false,
     "start_time": "2024-08-03T15:58:46.466803",
     "status": "completed"
    },
    "tags": []
   },
   "outputs": [],
   "source": [
    "ratios_nat_curr = utils.evaluate_performance(input=filtered_nat_curr, output=ratios_nat_curr)"
   ]
  },
  {
   "cell_type": "markdown",
   "id": "4162aa26",
   "metadata": {
    "papermill": {
     "duration": 0.006048,
     "end_time": "2024-08-03T15:58:46.493754",
     "exception": false,
     "start_time": "2024-08-03T15:58:46.487706",
     "status": "completed"
    },
    "tags": []
   },
   "source": [
    "# 4. Pull historical share prices and merge with sattement data"
   ]
  },
  {
   "cell_type": "code",
   "execution_count": null,
   "id": "e5c3dd71",
   "metadata": {
    "execution": {
     "iopub.execute_input": "2024-08-03T15:58:46.506929Z",
     "iopub.status.busy": "2024-08-03T15:58:46.506707Z",
     "iopub.status.idle": "2024-08-03T15:58:46.870782Z",
     "shell.execute_reply": "2024-08-03T15:58:46.870144Z"
    },
    "papermill": {
     "duration": 0.371982,
     "end_time": "2024-08-03T15:58:46.871960",
     "exception": false,
     "start_time": "2024-08-03T15:58:46.499978",
     "status": "completed"
    },
    "tags": []
   },
   "outputs": [],
   "source": [
    "# pull weekly share prices and merge with the value ratios\n",
    "merged_nat_curr = utils.add_share_prices_to_value_ratios(share_name, data, ratios_nat_curr)\n",
    "merged_nat_curr.head()"
   ]
  },
  {
   "cell_type": "markdown",
   "id": "154a459d",
   "metadata": {
    "papermill": {
     "duration": 0.009968,
     "end_time": "2024-08-03T15:58:46.890844",
     "exception": false,
     "start_time": "2024-08-03T15:58:46.880876",
     "status": "completed"
    },
    "tags": []
   },
   "source": [
    "# Calculate price ratios (P/E, P/B, P/S, P/FCF)"
   ]
  },
  {
   "cell_type": "code",
   "execution_count": null,
   "id": "84803e0a",
   "metadata": {
    "execution": {
     "iopub.execute_input": "2024-08-03T15:58:46.906500Z",
     "iopub.status.busy": "2024-08-03T15:58:46.906330Z",
     "iopub.status.idle": "2024-08-03T15:58:46.917184Z",
     "shell.execute_reply": "2024-08-03T15:58:46.916932Z"
    },
    "papermill": {
     "duration": 0.020074,
     "end_time": "2024-08-03T15:58:46.918061",
     "exception": false,
     "start_time": "2024-08-03T15:58:46.897987",
     "status": "completed"
    },
    "tags": []
   },
   "outputs": [],
   "source": [
    "merged_nat_curr = utils.price_ratios(merged_nat_curr)\n",
    "merged_nat_curr.head()"
   ]
  },
  {
   "cell_type": "markdown",
   "id": "f1d7e62e",
   "metadata": {
    "papermill": {
     "duration": 0.010092,
     "end_time": "2024-08-03T15:58:46.935753",
     "exception": false,
     "start_time": "2024-08-03T15:58:46.925661",
     "status": "completed"
    },
    "tags": []
   },
   "source": [
    "# Calculate Dividend yield and currency-share price correlation"
   ]
  },
  {
   "cell_type": "code",
   "execution_count": null,
   "id": "4d194d8f",
   "metadata": {
    "execution": {
     "iopub.execute_input": "2024-08-03T15:58:46.955535Z",
     "iopub.status.busy": "2024-08-03T15:58:46.955393Z",
     "iopub.status.idle": "2024-08-03T15:58:47.290213Z",
     "shell.execute_reply": "2024-08-03T15:58:47.289697Z"
    },
    "papermill": {
     "duration": 0.34691,
     "end_time": "2024-08-03T15:58:47.292166",
     "exception": false,
     "start_time": "2024-08-03T15:58:46.945256",
     "status": "completed"
    },
    "tags": []
   },
   "outputs": [],
   "source": [
    "# get daily historical USD-national currency rates\n",
    "usd_nat_curr = utils.get_historical_currency_rate(currency_pair, merged_nat_curr)"
   ]
  },
  {
   "cell_type": "code",
   "execution_count": null,
   "id": "f3391d81",
   "metadata": {
    "execution": {
     "iopub.execute_input": "2024-08-03T15:58:47.316818Z",
     "iopub.status.busy": "2024-08-03T15:58:47.316611Z",
     "iopub.status.idle": "2024-08-03T15:58:47.794185Z",
     "shell.execute_reply": "2024-08-03T15:58:47.793933Z"
    },
    "papermill": {
     "duration": 0.491275,
     "end_time": "2024-08-03T15:58:47.795037",
     "exception": false,
     "start_time": "2024-08-03T15:58:47.303762",
     "status": "completed"
    },
    "tags": []
   },
   "outputs": [],
   "source": [
    "# get share prices and dividend yield data\n",
    "ticker_all_price = utils.get_historical_share_dividend(share_name, merged_nat_curr)"
   ]
  },
  {
   "cell_type": "code",
   "execution_count": null,
   "id": "f29ea234",
   "metadata": {
    "execution": {
     "iopub.execute_input": "2024-08-03T15:58:47.816774Z",
     "iopub.status.busy": "2024-08-03T15:58:47.816605Z",
     "iopub.status.idle": "2024-08-03T15:58:47.979244Z",
     "shell.execute_reply": "2024-08-03T15:58:47.978976Z"
    },
    "papermill": {
     "duration": 0.175018,
     "end_time": "2024-08-03T15:58:47.980127",
     "exception": false,
     "start_time": "2024-08-03T15:58:47.805109",
     "status": "completed"
    },
    "tags": []
   },
   "outputs": [],
   "source": [
    "# Pearson's correlation coefficient between share price and USD - national currency rate\n",
    "utils.get_currency_share_price_correlation(share_name, usd_nat_curr, ticker_all_price)"
   ]
  },
  {
   "cell_type": "markdown",
   "id": "6c27e89a",
   "metadata": {
    "papermill": {
     "duration": 0.013373,
     "end_time": "2024-08-03T15:58:48.005513",
     "exception": false,
     "start_time": "2024-08-03T15:58:47.992140",
     "status": "completed"
    },
    "tags": []
   },
   "source": [
    "# Share price and value ratios"
   ]
  },
  {
   "cell_type": "code",
   "execution_count": null,
   "id": "8e79515d",
   "metadata": {
    "execution": {
     "iopub.execute_input": "2024-08-03T15:58:48.025892Z",
     "iopub.status.busy": "2024-08-03T15:58:48.025681Z",
     "iopub.status.idle": "2024-08-03T15:58:51.943253Z",
     "shell.execute_reply": "2024-08-03T15:58:51.942995Z"
    },
    "papermill": {
     "duration": 3.928575,
     "end_time": "2024-08-03T15:58:51.944137",
     "exception": false,
     "start_time": "2024-08-03T15:58:48.015562",
     "status": "completed"
    },
    "tags": []
   },
   "outputs": [],
   "source": [
    "for column in merged_nat_curr.columns[3:]:\n",
    "    fig, ax1 = plt.subplots(figsize=(15, 6))\n",
    "\n",
    "    ax2 = ax1.twinx()\n",
    "    ax1.plot(merged_nat_curr['real_date'], merged_nat_curr[column], color='k', label=merged_nat_curr)\n",
    "    ax2.plot(ticker_all_price.index, ticker_all_price['Close'], color='b', label=share_name)\n",
    "\n",
    "    ax1.set_xlabel('Date')\n",
    "    ax1.set_ylabel(column, color='k')\n",
    "    ax2.set_ylabel('Share price (national currency)', color='b')\n",
    "\n",
    "    plt.legend()\n",
    "    plt.show()"
   ]
  },
  {
   "cell_type": "code",
   "execution_count": null,
   "id": "ec800022",
   "metadata": {
    "execution": {
     "iopub.execute_input": "2024-08-03T15:58:51.991671Z",
     "iopub.status.busy": "2024-08-03T15:58:51.991528Z",
     "iopub.status.idle": "2024-08-03T15:58:52.853038Z",
     "shell.execute_reply": "2024-08-03T15:58:52.852736Z"
    },
    "papermill": {
     "duration": 0.88606,
     "end_time": "2024-08-03T15:58:52.854026",
     "exception": false,
     "start_time": "2024-08-03T15:58:51.967966",
     "status": "completed"
    },
    "tags": []
   },
   "outputs": [],
   "source": [
    "# plot histograms of value parameters\n",
    "utils.plot_histogram_value_parameters(input_df=merged_nat_curr, extra_parameters=[], owned_shares=owned_shares)"
   ]
  },
  {
   "cell_type": "markdown",
   "id": "62f3d01f",
   "metadata": {
    "papermill": {
     "duration": 0.021549,
     "end_time": "2024-08-03T15:58:52.896216",
     "exception": false,
     "start_time": "2024-08-03T15:58:52.874667",
     "status": "completed"
    },
    "tags": []
   },
   "source": [
    "## Calculate correlation between value parameters"
   ]
  },
  {
   "cell_type": "code",
   "execution_count": null,
   "id": "83578318",
   "metadata": {
    "execution": {
     "iopub.execute_input": "2024-08-03T15:58:52.941773Z",
     "iopub.status.busy": "2024-08-03T15:58:52.941627Z",
     "iopub.status.idle": "2024-08-03T15:58:52.946704Z",
     "shell.execute_reply": "2024-08-03T15:58:52.946471Z"
    },
    "papermill": {
     "duration": 0.032651,
     "end_time": "2024-08-03T15:58:52.947504",
     "exception": false,
     "start_time": "2024-08-03T15:58:52.914853",
     "status": "completed"
    },
    "tags": []
   },
   "outputs": [],
   "source": [
    "# calulate value parameters Pearson's correlation coefficient\n",
    "pd.DataFrame(merged_nat_curr, columns=['roa', 'roe', 'pe_ratio', 'pb_ratio', 'ps_ratio', 'ev_revenue', 'debt_to_equity', 'current_ratio']).corr()"
   ]
  },
  {
   "cell_type": "code",
   "execution_count": null,
   "id": "d1e4f2f6",
   "metadata": {},
   "outputs": [],
   "source": [
    "final_df = utils.get_value_stock_target_prices(\n",
    "    input_df=merged_nat_curr,\n",
    "    min_pct=0.2,\n",
    "    max_pct=0.5,\n",
    "    owned_shares=owned_shares\n",
    ")"
   ]
  }
 ],
 "metadata": {
  "kernelspec": {
   "display_name": ".venv",
   "language": "python",
   "name": "python3"
  },
  "language_info": {
   "codemirror_mode": {
    "name": "ipython",
    "version": 3
   },
   "file_extension": ".py",
   "mimetype": "text/x-python",
   "name": "python",
   "nbconvert_exporter": "python",
   "pygments_lexer": "ipython3",
   "version": "3.11.3"
  },
  "papermill": {
   "default_parameters": {},
   "duration": 13.073368,
   "end_time": "2024-08-03T15:58:53.429945",
   "environment_variables": {},
   "exception": null,
   "input_path": "../notebooks/teleperformance_national.ipynb",
   "output_path": "../notebooks/teleperformance_national.ipynb",
   "parameters": {},
   "start_time": "2024-08-03T15:58:40.356577",
   "version": "2.5.0"
  }
 },
 "nbformat": 4,
 "nbformat_minor": 5
}
