{
 "cells": [
  {
   "cell_type": "code",
   "execution_count": null,
   "id": "2bdf4704",
   "metadata": {
    "execution": {
     "iopub.execute_input": "2024-08-03T15:50:36.248794Z",
     "iopub.status.busy": "2024-08-03T15:50:36.248109Z",
     "iopub.status.idle": "2024-08-03T15:50:37.031028Z",
     "shell.execute_reply": "2024-08-03T15:50:37.030701Z"
    },
    "papermill": {
     "duration": 0.804777,
     "end_time": "2024-08-03T15:50:37.032298",
     "exception": false,
     "start_time": "2024-08-03T15:50:36.227521",
     "status": "completed"
    },
    "tags": []
   },
   "outputs": [],
   "source": [
    "import pandas as pd\n",
    "import matplotlib.pyplot as plt\n",
    "\n",
    "import yfinance as yf\n",
    "import datetime\n",
    "\n",
    "from valueinvesting import utils as utils"
   ]
  },
  {
   "cell_type": "markdown",
   "id": "b35cbc69",
   "metadata": {
    "papermill": {
     "duration": 0.00531,
     "end_time": "2024-08-03T15:50:37.043081",
     "exception": false,
     "start_time": "2024-08-03T15:50:37.037771",
     "status": "completed"
    },
    "tags": []
   },
   "source": [
    "# 1. Load raw input\n",
    "## Hardcoded block"
   ]
  },
  {
   "cell_type": "code",
   "execution_count": null,
   "id": "f7a8a448",
   "metadata": {
    "execution": {
     "iopub.execute_input": "2024-08-03T15:50:37.061644Z",
     "iopub.status.busy": "2024-08-03T15:50:37.061454Z",
     "iopub.status.idle": "2024-08-03T15:50:37.063357Z",
     "shell.execute_reply": "2024-08-03T15:50:37.063101Z"
    },
    "papermill": {
     "duration": 0.012405,
     "end_time": "2024-08-03T15:50:37.064153",
     "exception": false,
     "start_time": "2024-08-03T15:50:37.051748",
     "status": "completed"
    },
    "tags": []
   },
   "outputs": [],
   "source": [
    "evaluate_last_X_years = True\n",
    "X=10\n",
    "currency_pair = 'DKK=X'\n",
    "numbers_in_currency = 'DKK'\n",
    "share_name = 'BAVA.CO'"
   ]
  },
  {
   "cell_type": "markdown",
   "id": "1dc786bd",
   "metadata": {
    "papermill": {
     "duration": 0.009199,
     "end_time": "2024-08-03T15:50:37.078938",
     "exception": false,
     "start_time": "2024-08-03T15:50:37.069739",
     "status": "completed"
    },
    "tags": []
   },
   "source": [
    "# 1.2. Raw input statement data"
   ]
  },
  {
   "cell_type": "code",
   "execution_count": null,
   "id": "2311165f",
   "metadata": {
    "execution": {
     "iopub.execute_input": "2024-08-03T15:50:37.097853Z",
     "iopub.status.busy": "2024-08-03T15:50:37.097687Z",
     "iopub.status.idle": "2024-08-03T15:50:37.106723Z",
     "shell.execute_reply": "2024-08-03T15:50:37.106390Z"
    },
    "papermill": {
     "duration": 0.019041,
     "end_time": "2024-08-03T15:50:37.107761",
     "exception": false,
     "start_time": "2024-08-03T15:50:37.088720",
     "status": "completed"
    },
    "tags": []
   },
   "outputs": [],
   "source": [
    "route = f\"../data/input/{share_name}_data.csv\"\n",
    "data = pd.read_csv(route, sep=';', parse_dates=['date', 'real_date'])\n",
    "# replace -, extend missing 0-s, fix datatype\n",
    "data = utils.replace_format_input(data)"
   ]
  },
  {
   "cell_type": "code",
   "execution_count": null,
   "id": "cd485ccc",
   "metadata": {
    "execution": {
     "iopub.execute_input": "2024-08-03T15:50:37.119708Z",
     "iopub.status.busy": "2024-08-03T15:50:37.119565Z",
     "iopub.status.idle": "2024-08-03T15:50:37.123563Z",
     "shell.execute_reply": "2024-08-03T15:50:37.123282Z"
    },
    "papermill": {
     "duration": 0.011208,
     "end_time": "2024-08-03T15:50:37.124464",
     "exception": false,
     "start_time": "2024-08-03T15:50:37.113256",
     "status": "completed"
    },
    "tags": []
   },
   "outputs": [],
   "source": [
    "owned_shares = pd.read_csv('../data/extras/owned_stocks.csv', sep=';', parse_dates=['date'])\n",
    "owned_shares = owned_shares.loc[(owned_shares['stock'] == share_name) & (owned_shares['active'] == 'yes')]"
   ]
  },
  {
   "cell_type": "markdown",
   "id": "44ae3cbd",
   "metadata": {
    "papermill": {
     "duration": 0.016936,
     "end_time": "2024-08-03T15:50:37.146774",
     "exception": false,
     "start_time": "2024-08-03T15:50:37.129838",
     "status": "completed"
    },
    "tags": []
   },
   "source": [
    "## (OPTIONAL) Time Filtering - Last 7 years daat"
   ]
  },
  {
   "cell_type": "code",
   "execution_count": null,
   "id": "688358be",
   "metadata": {
    "execution": {
     "iopub.execute_input": "2024-08-03T15:50:37.159259Z",
     "iopub.status.busy": "2024-08-03T15:50:37.159121Z",
     "iopub.status.idle": "2024-08-03T15:50:37.168260Z",
     "shell.execute_reply": "2024-08-03T15:50:37.167993Z"
    },
    "papermill": {
     "duration": 0.016255,
     "end_time": "2024-08-03T15:50:37.169065",
     "exception": false,
     "start_time": "2024-08-03T15:50:37.152810",
     "status": "completed"
    },
    "tags": []
   },
   "outputs": [],
   "source": [
    "if evaluate_last_X_years:\n",
    "    data = data[data['date'] > datetime.datetime.today() - datetime.timedelta(days=X*366+93)]\n",
    "    data = data.reset_index(drop=True)\n",
    "\n",
    "data.head()"
   ]
  },
  {
   "cell_type": "markdown",
   "id": "f3dd9c1e",
   "metadata": {
    "papermill": {
     "duration": 0.004916,
     "end_time": "2024-08-03T15:50:37.179417",
     "exception": false,
     "start_time": "2024-08-03T15:50:37.174501",
     "status": "completed"
    },
    "tags": []
   },
   "source": [
    "## Calculate date when quaterly reports could be available"
   ]
  },
  {
   "cell_type": "code",
   "execution_count": null,
   "id": "fa404bc8",
   "metadata": {
    "execution": {
     "iopub.execute_input": "2024-08-03T15:50:37.190203Z",
     "iopub.status.busy": "2024-08-03T15:50:37.190069Z",
     "iopub.status.idle": "2024-08-03T15:50:37.191830Z",
     "shell.execute_reply": "2024-08-03T15:50:37.191583Z"
    },
    "papermill": {
     "duration": 0.008289,
     "end_time": "2024-08-03T15:50:37.192665",
     "exception": false,
     "start_time": "2024-08-03T15:50:37.184376",
     "status": "completed"
    },
    "tags": []
   },
   "outputs": [],
   "source": [
    "data = utils.calculate_real_date(data)"
   ]
  },
  {
   "cell_type": "markdown",
   "id": "f383b698",
   "metadata": {
    "papermill": {
     "duration": 0.005754,
     "end_time": "2024-08-03T15:50:37.207493",
     "exception": false,
     "start_time": "2024-08-03T15:50:37.201739",
     "status": "completed"
    },
    "tags": []
   },
   "source": [
    "# 2. Filter out unnecesary columns"
   ]
  },
  {
   "cell_type": "code",
   "execution_count": null,
   "id": "86e526ff",
   "metadata": {
    "execution": {
     "iopub.execute_input": "2024-08-03T15:50:37.222962Z",
     "iopub.status.busy": "2024-08-03T15:50:37.222818Z",
     "iopub.status.idle": "2024-08-03T15:50:37.229376Z",
     "shell.execute_reply": "2024-08-03T15:50:37.229106Z"
    },
    "papermill": {
     "duration": 0.017446,
     "end_time": "2024-08-03T15:50:37.230306",
     "exception": false,
     "start_time": "2024-08-03T15:50:37.212860",
     "status": "completed"
    },
    "tags": []
   },
   "outputs": [],
   "source": [
    "data = utils.filter_raw_data(data)\n",
    "data.tail()"
   ]
  },
  {
   "cell_type": "markdown",
   "id": "f618d81e",
   "metadata": {
    "papermill": {
     "duration": 0.005548,
     "end_time": "2024-08-03T15:50:37.241451",
     "exception": false,
     "start_time": "2024-08-03T15:50:37.235903",
     "status": "completed"
    },
    "tags": []
   },
   "source": [
    "## Pull historical average USD national currency rates and add to the dataframe"
   ]
  },
  {
   "cell_type": "code",
   "execution_count": null,
   "id": "dba2b4ed",
   "metadata": {
    "execution": {
     "iopub.execute_input": "2024-08-03T15:50:37.254333Z",
     "iopub.status.busy": "2024-08-03T15:50:37.254190Z",
     "iopub.status.idle": "2024-08-03T15:50:45.625694Z",
     "shell.execute_reply": "2024-08-03T15:50:45.625191Z"
    },
    "papermill": {
     "duration": 8.380373,
     "end_time": "2024-08-03T15:50:45.627769",
     "exception": false,
     "start_time": "2024-08-03T15:50:37.247396",
     "status": "completed"
    },
    "tags": []
   },
   "outputs": [],
   "source": [
    "data['usd_nat_currency'] = utils.daily_price(\n",
    "    ticker=currency_pair,\n",
    "    end=data['date'],\n",
    "    days_earlier=90\n",
    "    )\n",
    "\n",
    "# drop rows, when USD rates wasn't available\n",
    "data = data[data['usd_nat_currency'].notna()]\n",
    "\n",
    "data.tail()"
   ]
  },
  {
   "cell_type": "markdown",
   "id": "f62642e1",
   "metadata": {
    "papermill": {
     "duration": 0.026376,
     "end_time": "2024-08-03T15:50:45.673289",
     "exception": false,
     "start_time": "2024-08-03T15:50:45.646913",
     "status": "completed"
    },
    "tags": []
   },
   "source": [
    "## Convert USD values related to IS, BS, CFS to national currency"
   ]
  },
  {
   "cell_type": "code",
   "execution_count": null,
   "id": "b58e1e25",
   "metadata": {
    "execution": {
     "iopub.execute_input": "2024-08-03T15:50:45.693733Z",
     "iopub.status.busy": "2024-08-03T15:50:45.693393Z",
     "iopub.status.idle": "2024-08-03T15:50:45.702866Z",
     "shell.execute_reply": "2024-08-03T15:50:45.702555Z"
    },
    "papermill": {
     "duration": 0.020558,
     "end_time": "2024-08-03T15:50:45.704040",
     "exception": false,
     "start_time": "2024-08-03T15:50:45.683482",
     "status": "completed"
    },
    "tags": []
   },
   "outputs": [],
   "source": [
    "# convert columns into national currency if necessary\n",
    "if numbers_in_currency == 'USD':\n",
    "    data_nat_curr = utils.convert_national_currency(input_data=data, currency=data)\n",
    "else:\n",
    "    data_nat_curr = data.copy()\n",
    "data_nat_curr.tail()"
   ]
  },
  {
   "cell_type": "markdown",
   "id": "019c5166",
   "metadata": {
    "papermill": {
     "duration": 0.01184,
     "end_time": "2024-08-03T15:50:45.727589",
     "exception": false,
     "start_time": "2024-08-03T15:50:45.715749",
     "status": "completed"
    },
    "tags": []
   },
   "source": [
    "# 3. Calculate input to Value Raios (eps, bv per share, fcf)\n",
    "## filter out unwanted columns"
   ]
  },
  {
   "cell_type": "code",
   "execution_count": null,
   "id": "99368916",
   "metadata": {
    "execution": {
     "iopub.execute_input": "2024-08-03T15:50:45.748478Z",
     "iopub.status.busy": "2024-08-03T15:50:45.748140Z",
     "iopub.status.idle": "2024-08-03T15:50:45.752473Z",
     "shell.execute_reply": "2024-08-03T15:50:45.752114Z"
    },
    "papermill": {
     "duration": 0.016962,
     "end_time": "2024-08-03T15:50:45.753443",
     "exception": false,
     "start_time": "2024-08-03T15:50:45.736481",
     "status": "completed"
    },
    "tags": []
   },
   "outputs": [],
   "source": [
    "filtered_nat_curr = utils.calculate_input_value_ratios(data_nat_curr)"
   ]
  },
  {
   "cell_type": "markdown",
   "id": "6884917b",
   "metadata": {
    "papermill": {
     "duration": 0.00994,
     "end_time": "2024-08-03T15:50:45.773807",
     "exception": false,
     "start_time": "2024-08-03T15:50:45.763867",
     "status": "completed"
    },
    "tags": []
   },
   "source": [
    "## Calculate input values to value ratios"
   ]
  },
  {
   "cell_type": "code",
   "execution_count": null,
   "id": "3198d19d",
   "metadata": {
    "execution": {
     "iopub.execute_input": "2024-08-03T15:50:45.790432Z",
     "iopub.status.busy": "2024-08-03T15:50:45.790289Z",
     "iopub.status.idle": "2024-08-03T15:50:45.792719Z",
     "shell.execute_reply": "2024-08-03T15:50:45.792455Z"
    },
    "papermill": {
     "duration": 0.013741,
     "end_time": "2024-08-03T15:50:45.793595",
     "exception": false,
     "start_time": "2024-08-03T15:50:45.779854",
     "status": "completed"
    },
    "tags": []
   },
   "outputs": [],
   "source": [
    "ratios_nat_curr = utils.ratios_input_filter(filtered_nat_curr)"
   ]
  },
  {
   "cell_type": "code",
   "execution_count": null,
   "id": "40cf4e42",
   "metadata": {
    "execution": {
     "iopub.execute_input": "2024-08-03T15:50:45.810450Z",
     "iopub.status.busy": "2024-08-03T15:50:45.810310Z",
     "iopub.status.idle": "2024-08-03T15:50:45.816902Z",
     "shell.execute_reply": "2024-08-03T15:50:45.816622Z"
    },
    "papermill": {
     "duration": 0.017417,
     "end_time": "2024-08-03T15:50:45.817805",
     "exception": false,
     "start_time": "2024-08-03T15:50:45.800388",
     "status": "completed"
    },
    "tags": []
   },
   "outputs": [],
   "source": [
    "ratios_nat_curr = utils.evaluate_performance(input=filtered_nat_curr, output=ratios_nat_curr)"
   ]
  },
  {
   "cell_type": "markdown",
   "id": "3d8dc6db",
   "metadata": {
    "papermill": {
     "duration": 0.005811,
     "end_time": "2024-08-03T15:50:45.829826",
     "exception": false,
     "start_time": "2024-08-03T15:50:45.824015",
     "status": "completed"
    },
    "tags": []
   },
   "source": [
    "# 4. Pull historical share prices and merge with sattement data"
   ]
  },
  {
   "cell_type": "code",
   "execution_count": null,
   "id": "da13fb18",
   "metadata": {
    "execution": {
     "iopub.execute_input": "2024-08-03T15:50:45.842677Z",
     "iopub.status.busy": "2024-08-03T15:50:45.842538Z",
     "iopub.status.idle": "2024-08-03T15:50:46.121970Z",
     "shell.execute_reply": "2024-08-03T15:50:46.121588Z"
    },
    "papermill": {
     "duration": 0.287072,
     "end_time": "2024-08-03T15:50:46.123116",
     "exception": false,
     "start_time": "2024-08-03T15:50:45.836044",
     "status": "completed"
    },
    "tags": []
   },
   "outputs": [],
   "source": [
    "# pull weekly share prices and merge with the value ratios\n",
    "merged_nat_curr = utils.add_share_prices_to_value_ratios(share_name, data, ratios_nat_curr)\n",
    "merged_nat_curr.head()"
   ]
  },
  {
   "cell_type": "markdown",
   "id": "17cb7b8a",
   "metadata": {
    "papermill": {
     "duration": 0.013613,
     "end_time": "2024-08-03T15:50:46.151048",
     "exception": false,
     "start_time": "2024-08-03T15:50:46.137435",
     "status": "completed"
    },
    "tags": []
   },
   "source": [
    "# Calculate price ratios (P/E, P/B, P/S, P/FCF)"
   ]
  },
  {
   "cell_type": "code",
   "execution_count": null,
   "id": "c4d63589",
   "metadata": {
    "execution": {
     "iopub.execute_input": "2024-08-03T15:50:46.180301Z",
     "iopub.status.busy": "2024-08-03T15:50:46.180117Z",
     "iopub.status.idle": "2024-08-03T15:50:46.191411Z",
     "shell.execute_reply": "2024-08-03T15:50:46.191130Z"
    },
    "papermill": {
     "duration": 0.027761,
     "end_time": "2024-08-03T15:50:46.192349",
     "exception": false,
     "start_time": "2024-08-03T15:50:46.164588",
     "status": "completed"
    },
    "tags": []
   },
   "outputs": [],
   "source": [
    "merged_nat_curr = utils.price_ratios(merged_nat_curr)\n",
    "merged_nat_curr.head()"
   ]
  },
  {
   "cell_type": "markdown",
   "id": "eeb2ae4b",
   "metadata": {
    "papermill": {
     "duration": 0.006917,
     "end_time": "2024-08-03T15:50:46.209203",
     "exception": false,
     "start_time": "2024-08-03T15:50:46.202286",
     "status": "completed"
    },
    "tags": []
   },
   "source": [
    "# Calculate Dividend yield and currency-share price correlation"
   ]
  },
  {
   "cell_type": "code",
   "execution_count": null,
   "id": "7adbea68",
   "metadata": {
    "execution": {
     "iopub.execute_input": "2024-08-03T15:50:46.223687Z",
     "iopub.status.busy": "2024-08-03T15:50:46.223507Z",
     "iopub.status.idle": "2024-08-03T15:50:46.529218Z",
     "shell.execute_reply": "2024-08-03T15:50:46.528780Z"
    },
    "papermill": {
     "duration": 0.314921,
     "end_time": "2024-08-03T15:50:46.530679",
     "exception": false,
     "start_time": "2024-08-03T15:50:46.215758",
     "status": "completed"
    },
    "tags": []
   },
   "outputs": [],
   "source": [
    "# get daily historical USD-national currency rates\n",
    "usd_nat_curr = utils.get_historical_currency_rate(currency_pair, merged_nat_curr)"
   ]
  },
  {
   "cell_type": "code",
   "execution_count": null,
   "id": "b80d0435",
   "metadata": {
    "execution": {
     "iopub.execute_input": "2024-08-03T15:50:46.567930Z",
     "iopub.status.busy": "2024-08-03T15:50:46.567732Z",
     "iopub.status.idle": "2024-08-03T15:50:47.011868Z",
     "shell.execute_reply": "2024-08-03T15:50:47.011175Z"
    },
    "papermill": {
     "duration": 0.462015,
     "end_time": "2024-08-03T15:50:47.013306",
     "exception": false,
     "start_time": "2024-08-03T15:50:46.551291",
     "status": "completed"
    },
    "tags": []
   },
   "outputs": [],
   "source": [
    "# get share prices and dividend yield data\n",
    "ticker_all_price = utils.get_historical_share_dividend(share_name, merged_nat_curr)"
   ]
  },
  {
   "cell_type": "code",
   "execution_count": null,
   "id": "4fae989b",
   "metadata": {
    "execution": {
     "iopub.execute_input": "2024-08-03T15:50:47.036812Z",
     "iopub.status.busy": "2024-08-03T15:50:47.036646Z",
     "iopub.status.idle": "2024-08-03T15:50:47.210120Z",
     "shell.execute_reply": "2024-08-03T15:50:47.209845Z"
    },
    "papermill": {
     "duration": 0.186979,
     "end_time": "2024-08-03T15:50:47.210952",
     "exception": false,
     "start_time": "2024-08-03T15:50:47.023973",
     "status": "completed"
    },
    "tags": []
   },
   "outputs": [],
   "source": [
    "# Pearson's correlation coefficient between share price and USD - national currency rate\n",
    "utils.get_currency_share_price_correlation(share_name, usd_nat_curr, ticker_all_price)"
   ]
  },
  {
   "cell_type": "markdown",
   "id": "bb9fdbd0",
   "metadata": {
    "papermill": {
     "duration": 0.010319,
     "end_time": "2024-08-03T15:50:47.234799",
     "exception": false,
     "start_time": "2024-08-03T15:50:47.224480",
     "status": "completed"
    },
    "tags": []
   },
   "source": [
    "# Share price and value ratios"
   ]
  },
  {
   "cell_type": "code",
   "execution_count": null,
   "id": "27febb37",
   "metadata": {
    "execution": {
     "iopub.execute_input": "2024-08-03T15:50:47.257471Z",
     "iopub.status.busy": "2024-08-03T15:50:47.257337Z",
     "iopub.status.idle": "2024-08-03T15:50:51.675297Z",
     "shell.execute_reply": "2024-08-03T15:50:51.675028Z"
    },
    "papermill": {
     "duration": 4.429389,
     "end_time": "2024-08-03T15:50:51.676724",
     "exception": false,
     "start_time": "2024-08-03T15:50:47.247335",
     "status": "completed"
    },
    "tags": []
   },
   "outputs": [],
   "source": [
    "for column in merged_nat_curr.columns[3:]:\n",
    "    fig, ax1 = plt.subplots(figsize=(15, 6))\n",
    "\n",
    "    ax2 = ax1.twinx()\n",
    "    ax1.plot(merged_nat_curr['real_date'], merged_nat_curr[column], color='k', label=merged_nat_curr)\n",
    "    ax2.plot(ticker_all_price.index, ticker_all_price['Close'], color='b', label=share_name)\n",
    "\n",
    "    ax1.set_xlabel('Date')\n",
    "    ax1.set_ylabel(column, color='k')\n",
    "    ax2.set_ylabel('Share price (national currency)', color='b')\n",
    "\n",
    "    plt.legend()\n",
    "    plt.show()"
   ]
  },
  {
   "cell_type": "code",
   "execution_count": null,
   "id": "81e8fc2c",
   "metadata": {
    "execution": {
     "iopub.execute_input": "2024-08-03T15:50:51.736293Z",
     "iopub.status.busy": "2024-08-03T15:50:51.736154Z",
     "iopub.status.idle": "2024-08-03T15:50:52.616607Z",
     "shell.execute_reply": "2024-08-03T15:50:52.616233Z"
    },
    "papermill": {
     "duration": 0.915138,
     "end_time": "2024-08-03T15:50:52.617599",
     "exception": false,
     "start_time": "2024-08-03T15:50:51.702461",
     "status": "completed"
    },
    "tags": []
   },
   "outputs": [],
   "source": [
    "# plot histograms of value parameters\n",
    "utils.plot_histogram_value_parameters(input_df=merged_nat_curr, extra_parameters=[], owned_shares=owned_shares)"
   ]
  },
  {
   "cell_type": "markdown",
   "id": "cc0b7741",
   "metadata": {
    "papermill": {
     "duration": 0.033811,
     "end_time": "2024-08-03T15:50:52.677404",
     "exception": false,
     "start_time": "2024-08-03T15:50:52.643593",
     "status": "completed"
    },
    "tags": []
   },
   "source": [
    "## Calculate correlation between value parameters"
   ]
  },
  {
   "cell_type": "code",
   "execution_count": null,
   "id": "8a7bea1d",
   "metadata": {
    "execution": {
     "iopub.execute_input": "2024-08-03T15:50:52.728097Z",
     "iopub.status.busy": "2024-08-03T15:50:52.727946Z",
     "iopub.status.idle": "2024-08-03T15:50:52.737310Z",
     "shell.execute_reply": "2024-08-03T15:50:52.736286Z"
    },
    "papermill": {
     "duration": 0.035975,
     "end_time": "2024-08-03T15:50:52.739740",
     "exception": false,
     "start_time": "2024-08-03T15:50:52.703765",
     "status": "completed"
    },
    "tags": []
   },
   "outputs": [],
   "source": [
    "# calulate value parameters Pearson's correlation coefficient\n",
    "pd.DataFrame(merged_nat_curr, columns=['roa', 'roe', 'pe_ratio', 'pb_ratio', 'ps_ratio', 'ev_revenue', 'debt_to_equity', 'current_ratio']).corr()"
   ]
  },
  {
   "cell_type": "code",
   "execution_count": null,
   "id": "006735be",
   "metadata": {},
   "outputs": [],
   "source": [
    "final_df = utils.get_value_stock_target_prices(\n",
    "    input_df=merged_nat_curr,\n",
    "    min_pct=0.2,\n",
    "    max_pct=0.5,\n",
    "    owned_shares=owned_shares\n",
    ")"
   ]
  }
 ],
 "metadata": {
  "kernelspec": {
   "display_name": ".venv",
   "language": "python",
   "name": "python3"
  },
  "language_info": {
   "codemirror_mode": {
    "name": "ipython",
    "version": 3
   },
   "file_extension": ".py",
   "mimetype": "text/x-python",
   "name": "python",
   "nbconvert_exporter": "python",
   "pygments_lexer": "ipython3",
   "version": "3.11.3"
  },
  "papermill": {
   "default_parameters": {},
   "duration": 18.03489,
   "end_time": "2024-08-03T15:50:53.289148",
   "environment_variables": {},
   "exception": null,
   "input_path": "../notebooks/bavarian_nordic.ipynb",
   "output_path": "../notebooks/bavarian_nordic.ipynb",
   "parameters": {},
   "start_time": "2024-08-03T15:50:35.254258",
   "version": "2.5.0"
  }
 },
 "nbformat": 4,
 "nbformat_minor": 5
}
