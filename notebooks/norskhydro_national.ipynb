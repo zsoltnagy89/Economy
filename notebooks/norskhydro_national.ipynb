{
 "cells": [
  {
   "cell_type": "code",
   "execution_count": null,
   "id": "bd3d0011",
   "metadata": {
    "execution": {
     "iopub.execute_input": "2024-08-03T15:53:11.011471Z",
     "iopub.status.busy": "2024-08-03T15:53:11.011274Z",
     "iopub.status.idle": "2024-08-03T15:53:11.797582Z",
     "shell.execute_reply": "2024-08-03T15:53:11.797250Z"
    },
    "papermill": {
     "duration": 0.799547,
     "end_time": "2024-08-03T15:53:11.799269",
     "exception": false,
     "start_time": "2024-08-03T15:53:10.999722",
     "status": "completed"
    },
    "tags": []
   },
   "outputs": [],
   "source": [
    "import pandas as pd\n",
    "import matplotlib.pyplot as plt\n",
    "import numpy as np\n",
    "\n",
    "import yfinance as yf\n",
    "import datetime\n",
    "\n",
    "from valueinvesting import utils as utils"
   ]
  },
  {
   "cell_type": "markdown",
   "id": "e2596011",
   "metadata": {
    "papermill": {
     "duration": 0.009223,
     "end_time": "2024-08-03T15:53:11.816892",
     "exception": false,
     "start_time": "2024-08-03T15:53:11.807669",
     "status": "completed"
    },
    "tags": []
   },
   "source": [
    "# 1. Load raw input\n",
    "## Hardcoded block"
   ]
  },
  {
   "cell_type": "code",
   "execution_count": null,
   "id": "a4f3f90d",
   "metadata": {
    "execution": {
     "iopub.execute_input": "2024-08-03T15:53:11.829956Z",
     "iopub.status.busy": "2024-08-03T15:53:11.829718Z",
     "iopub.status.idle": "2024-08-03T15:53:11.831633Z",
     "shell.execute_reply": "2024-08-03T15:53:11.831330Z"
    },
    "papermill": {
     "duration": 0.009485,
     "end_time": "2024-08-03T15:53:11.832576",
     "exception": false,
     "start_time": "2024-08-03T15:53:11.823091",
     "status": "completed"
    },
    "tags": []
   },
   "outputs": [],
   "source": [
    "evaluate_last_X_years = True\n",
    "X=10\n",
    "currency_pair = 'NOK=X'\n",
    "numbers_in_currency = 'NOK'\n",
    "share_name = 'NHY.OL'"
   ]
  },
  {
   "cell_type": "markdown",
   "id": "6645b386",
   "metadata": {
    "papermill": {
     "duration": 0.004833,
     "end_time": "2024-08-03T15:53:11.842586",
     "exception": false,
     "start_time": "2024-08-03T15:53:11.837753",
     "status": "completed"
    },
    "tags": []
   },
   "source": [
    "# 1.2. Raw input statement data"
   ]
  },
  {
   "cell_type": "code",
   "execution_count": null,
   "id": "99872e97",
   "metadata": {
    "execution": {
     "iopub.execute_input": "2024-08-03T15:53:11.853441Z",
     "iopub.status.busy": "2024-08-03T15:53:11.853314Z",
     "iopub.status.idle": "2024-08-03T15:53:11.864188Z",
     "shell.execute_reply": "2024-08-03T15:53:11.863870Z"
    },
    "papermill": {
     "duration": 0.017094,
     "end_time": "2024-08-03T15:53:11.865156",
     "exception": false,
     "start_time": "2024-08-03T15:53:11.848062",
     "status": "completed"
    },
    "tags": []
   },
   "outputs": [],
   "source": [
    "route = f\"../data/input/{share_name}_data.csv\"\n",
    "data = pd.read_csv(route, sep=';', parse_dates=['date', 'real_date'])\n",
    "# replace -, extend missing 0-s, fix datatype\n",
    "data = utils.replace_format_input(data)"
   ]
  },
  {
   "cell_type": "code",
   "execution_count": null,
   "id": "94fa8c6d",
   "metadata": {
    "execution": {
     "iopub.execute_input": "2024-08-03T15:53:11.875320Z",
     "iopub.status.busy": "2024-08-03T15:53:11.875210Z",
     "iopub.status.idle": "2024-08-03T15:53:11.878758Z",
     "shell.execute_reply": "2024-08-03T15:53:11.878506Z"
    },
    "papermill": {
     "duration": 0.009645,
     "end_time": "2024-08-03T15:53:11.879736",
     "exception": false,
     "start_time": "2024-08-03T15:53:11.870091",
     "status": "completed"
    },
    "tags": []
   },
   "outputs": [],
   "source": [
    "owned_shares = pd.read_csv('../data/extras/owned_stocks.csv', sep=';', parse_dates=['date'])\n",
    "owned_shares = owned_shares.loc[(owned_shares['stock'] == share_name) & (owned_shares['active'] == 'yes')]"
   ]
  },
  {
   "cell_type": "markdown",
   "id": "33d77320",
   "metadata": {
    "papermill": {
     "duration": 0.005599,
     "end_time": "2024-08-03T15:53:11.890195",
     "exception": false,
     "start_time": "2024-08-03T15:53:11.884596",
     "status": "completed"
    },
    "tags": []
   },
   "source": [
    "## (OPTIONAL) Time Filtering - Last 7 years daat"
   ]
  },
  {
   "cell_type": "code",
   "execution_count": null,
   "id": "901e11c0",
   "metadata": {
    "execution": {
     "iopub.execute_input": "2024-08-03T15:53:11.903033Z",
     "iopub.status.busy": "2024-08-03T15:53:11.902903Z",
     "iopub.status.idle": "2024-08-03T15:53:11.911584Z",
     "shell.execute_reply": "2024-08-03T15:53:11.911258Z"
    },
    "papermill": {
     "duration": 0.016682,
     "end_time": "2024-08-03T15:53:11.912622",
     "exception": false,
     "start_time": "2024-08-03T15:53:11.895940",
     "status": "completed"
    },
    "tags": []
   },
   "outputs": [],
   "source": [
    "if evaluate_last_X_years:\n",
    "    data = data[data['date'] > datetime.datetime.today() - datetime.timedelta(days=X*366+93)]\n",
    "    data = data.reset_index(drop=True)\n",
    "\n",
    "data.head()"
   ]
  },
  {
   "cell_type": "markdown",
   "id": "347c5800",
   "metadata": {
    "papermill": {
     "duration": 0.006262,
     "end_time": "2024-08-03T15:53:11.924734",
     "exception": false,
     "start_time": "2024-08-03T15:53:11.918472",
     "status": "completed"
    },
    "tags": []
   },
   "source": [
    "## Calculate date when quaterly reports could be available"
   ]
  },
  {
   "cell_type": "code",
   "execution_count": null,
   "id": "671535e8",
   "metadata": {
    "execution": {
     "iopub.execute_input": "2024-08-03T15:53:11.935883Z",
     "iopub.status.busy": "2024-08-03T15:53:11.935757Z",
     "iopub.status.idle": "2024-08-03T15:53:11.937465Z",
     "shell.execute_reply": "2024-08-03T15:53:11.937237Z"
    },
    "papermill": {
     "duration": 0.008196,
     "end_time": "2024-08-03T15:53:11.938248",
     "exception": false,
     "start_time": "2024-08-03T15:53:11.930052",
     "status": "completed"
    },
    "tags": []
   },
   "outputs": [],
   "source": [
    "data = utils.calculate_real_date(data)"
   ]
  },
  {
   "cell_type": "markdown",
   "id": "322b7d6f",
   "metadata": {
    "papermill": {
     "duration": 0.005237,
     "end_time": "2024-08-03T15:53:11.948433",
     "exception": false,
     "start_time": "2024-08-03T15:53:11.943196",
     "status": "completed"
    },
    "tags": []
   },
   "source": [
    "# 2. Filter out unnecesary columns"
   ]
  },
  {
   "cell_type": "code",
   "execution_count": null,
   "id": "b22b9e8e",
   "metadata": {
    "execution": {
     "iopub.execute_input": "2024-08-03T15:53:11.958443Z",
     "iopub.status.busy": "2024-08-03T15:53:11.958325Z",
     "iopub.status.idle": "2024-08-03T15:53:11.963866Z",
     "shell.execute_reply": "2024-08-03T15:53:11.963620Z"
    },
    "papermill": {
     "duration": 0.011869,
     "end_time": "2024-08-03T15:53:11.964660",
     "exception": false,
     "start_time": "2024-08-03T15:53:11.952791",
     "status": "completed"
    },
    "tags": []
   },
   "outputs": [],
   "source": [
    "data = utils.filter_raw_data(data)\n",
    "data.tail()"
   ]
  },
  {
   "cell_type": "markdown",
   "id": "4dfabc67",
   "metadata": {
    "papermill": {
     "duration": 0.004647,
     "end_time": "2024-08-03T15:53:11.974384",
     "exception": false,
     "start_time": "2024-08-03T15:53:11.969737",
     "status": "completed"
    },
    "tags": []
   },
   "source": [
    "## Pull historical average USD national currency rates and add to the dataframe"
   ]
  },
  {
   "cell_type": "code",
   "execution_count": null,
   "id": "3dcee9d0",
   "metadata": {
    "execution": {
     "iopub.execute_input": "2024-08-03T15:53:11.984803Z",
     "iopub.status.busy": "2024-08-03T15:53:11.984576Z",
     "iopub.status.idle": "2024-08-03T15:53:20.212371Z",
     "shell.execute_reply": "2024-08-03T15:53:20.211814Z"
    },
    "papermill": {
     "duration": 8.235273,
     "end_time": "2024-08-03T15:53:20.214240",
     "exception": false,
     "start_time": "2024-08-03T15:53:11.978967",
     "status": "completed"
    },
    "tags": []
   },
   "outputs": [],
   "source": [
    "data['usd_nat_currency'] = utils.daily_price(\n",
    "    ticker=currency_pair,\n",
    "    end=data['date'],\n",
    "    days_earlier=90\n",
    "    )\n",
    "\n",
    "# drop rows, when USD rates wasn't available\n",
    "data = data[data['usd_nat_currency'].notna()]\n",
    "\n",
    "data.tail()"
   ]
  },
  {
   "cell_type": "markdown",
   "id": "9c57ff98",
   "metadata": {
    "papermill": {
     "duration": 0.013073,
     "end_time": "2024-08-03T15:53:20.247653",
     "exception": false,
     "start_time": "2024-08-03T15:53:20.234580",
     "status": "completed"
    },
    "tags": []
   },
   "source": [
    "## Convert USD values related to IS, BS, CFS to national currency"
   ]
  },
  {
   "cell_type": "code",
   "execution_count": null,
   "id": "f8887d3e",
   "metadata": {
    "execution": {
     "iopub.execute_input": "2024-08-03T15:53:20.274528Z",
     "iopub.status.busy": "2024-08-03T15:53:20.274321Z",
     "iopub.status.idle": "2024-08-03T15:53:20.282993Z",
     "shell.execute_reply": "2024-08-03T15:53:20.282666Z"
    },
    "papermill": {
     "duration": 0.022442,
     "end_time": "2024-08-03T15:53:20.284048",
     "exception": false,
     "start_time": "2024-08-03T15:53:20.261606",
     "status": "completed"
    },
    "tags": []
   },
   "outputs": [],
   "source": [
    "# convert columns into national currency if necessary\n",
    "if numbers_in_currency == 'USD':\n",
    "    data_nat_curr = utils.convert_national_currency(input_data=data, currency=data)\n",
    "else:\n",
    "    data_nat_curr = data.copy()\n",
    "data_nat_curr.tail()"
   ]
  },
  {
   "cell_type": "markdown",
   "id": "85abd423",
   "metadata": {
    "papermill": {
     "duration": 0.010613,
     "end_time": "2024-08-03T15:53:20.306783",
     "exception": false,
     "start_time": "2024-08-03T15:53:20.296170",
     "status": "completed"
    },
    "tags": []
   },
   "source": [
    "# 3. Calculate input to Value Raios (eps, bv per share, fcf)\n",
    "## filter out unwanted columns"
   ]
  },
  {
   "cell_type": "code",
   "execution_count": null,
   "id": "35a00503",
   "metadata": {
    "execution": {
     "iopub.execute_input": "2024-08-03T15:53:20.330035Z",
     "iopub.status.busy": "2024-08-03T15:53:20.329826Z",
     "iopub.status.idle": "2024-08-03T15:53:20.334343Z",
     "shell.execute_reply": "2024-08-03T15:53:20.333934Z"
    },
    "papermill": {
     "duration": 0.017459,
     "end_time": "2024-08-03T15:53:20.335401",
     "exception": false,
     "start_time": "2024-08-03T15:53:20.317942",
     "status": "completed"
    },
    "tags": []
   },
   "outputs": [],
   "source": [
    "filtered_nat_curr = utils.calculate_input_value_ratios(data_nat_curr)"
   ]
  },
  {
   "cell_type": "markdown",
   "id": "f17ccc59",
   "metadata": {
    "papermill": {
     "duration": 0.007388,
     "end_time": "2024-08-03T15:53:20.353747",
     "exception": false,
     "start_time": "2024-08-03T15:53:20.346359",
     "status": "completed"
    },
    "tags": []
   },
   "source": [
    "## Calculate input values to value ratios"
   ]
  },
  {
   "cell_type": "code",
   "execution_count": null,
   "id": "2e388d59",
   "metadata": {
    "execution": {
     "iopub.execute_input": "2024-08-03T15:53:20.366665Z",
     "iopub.status.busy": "2024-08-03T15:53:20.366510Z",
     "iopub.status.idle": "2024-08-03T15:53:20.369017Z",
     "shell.execute_reply": "2024-08-03T15:53:20.368758Z"
    },
    "papermill": {
     "duration": 0.01026,
     "end_time": "2024-08-03T15:53:20.369924",
     "exception": false,
     "start_time": "2024-08-03T15:53:20.359664",
     "status": "completed"
    },
    "tags": []
   },
   "outputs": [],
   "source": [
    "ratios_nat_curr = utils.ratios_input_filter(filtered_nat_curr)"
   ]
  },
  {
   "cell_type": "code",
   "execution_count": null,
   "id": "22d72c71",
   "metadata": {
    "execution": {
     "iopub.execute_input": "2024-08-03T15:53:20.402075Z",
     "iopub.status.busy": "2024-08-03T15:53:20.401931Z",
     "iopub.status.idle": "2024-08-03T15:53:20.408786Z",
     "shell.execute_reply": "2024-08-03T15:53:20.408522Z"
    },
    "papermill": {
     "duration": 0.030368,
     "end_time": "2024-08-03T15:53:20.409665",
     "exception": false,
     "start_time": "2024-08-03T15:53:20.379297",
     "status": "completed"
    },
    "tags": []
   },
   "outputs": [],
   "source": [
    "ratios_nat_curr = utils.evaluate_performance(input=filtered_nat_curr, output=ratios_nat_curr)"
   ]
  },
  {
   "cell_type": "markdown",
   "id": "d79ce14b",
   "metadata": {
    "papermill": {
     "duration": 0.010159,
     "end_time": "2024-08-03T15:53:20.430970",
     "exception": false,
     "start_time": "2024-08-03T15:53:20.420811",
     "status": "completed"
    },
    "tags": []
   },
   "source": [
    "# 4. Pull historical share prices and merge with sattement data"
   ]
  },
  {
   "cell_type": "code",
   "execution_count": null,
   "id": "f0d160c8",
   "metadata": {
    "execution": {
     "iopub.execute_input": "2024-08-03T15:53:20.448189Z",
     "iopub.status.busy": "2024-08-03T15:53:20.447994Z",
     "iopub.status.idle": "2024-08-03T15:53:20.793144Z",
     "shell.execute_reply": "2024-08-03T15:53:20.792766Z"
    },
    "papermill": {
     "duration": 0.353926,
     "end_time": "2024-08-03T15:53:20.794436",
     "exception": false,
     "start_time": "2024-08-03T15:53:20.440510",
     "status": "completed"
    },
    "tags": []
   },
   "outputs": [],
   "source": [
    "# pull weekly share prices and merge with the value ratios\n",
    "merged_nat_curr = utils.add_share_prices_to_value_ratios(share_name, data, ratios_nat_curr)\n",
    "merged_nat_curr.head()"
   ]
  },
  {
   "cell_type": "markdown",
   "id": "4514af9c",
   "metadata": {
    "papermill": {
     "duration": 0.013833,
     "end_time": "2024-08-03T15:53:20.826397",
     "exception": false,
     "start_time": "2024-08-03T15:53:20.812564",
     "status": "completed"
    },
    "tags": []
   },
   "source": [
    "# Calculate price ratios (P/E, P/B, P/S, P/FCF)"
   ]
  },
  {
   "cell_type": "code",
   "execution_count": null,
   "id": "627f57d3",
   "metadata": {
    "execution": {
     "iopub.execute_input": "2024-08-03T15:53:20.858154Z",
     "iopub.status.busy": "2024-08-03T15:53:20.857968Z",
     "iopub.status.idle": "2024-08-03T15:53:20.871263Z",
     "shell.execute_reply": "2024-08-03T15:53:20.870940Z"
    },
    "papermill": {
     "duration": 0.030302,
     "end_time": "2024-08-03T15:53:20.872348",
     "exception": false,
     "start_time": "2024-08-03T15:53:20.842046",
     "status": "completed"
    },
    "tags": []
   },
   "outputs": [],
   "source": [
    "merged_nat_curr = utils.price_ratios(merged_nat_curr)\n",
    "merged_nat_curr.head()"
   ]
  },
  {
   "cell_type": "markdown",
   "id": "d134dd59",
   "metadata": {
    "papermill": {
     "duration": 0.007921,
     "end_time": "2024-08-03T15:53:20.888485",
     "exception": false,
     "start_time": "2024-08-03T15:53:20.880564",
     "status": "completed"
    },
    "tags": []
   },
   "source": [
    "# Calculate Dividend yield and currency-share price correlation"
   ]
  },
  {
   "cell_type": "code",
   "execution_count": null,
   "id": "46f82141",
   "metadata": {
    "execution": {
     "iopub.execute_input": "2024-08-03T15:53:20.903689Z",
     "iopub.status.busy": "2024-08-03T15:53:20.903550Z",
     "iopub.status.idle": "2024-08-03T15:53:21.273714Z",
     "shell.execute_reply": "2024-08-03T15:53:21.273193Z"
    },
    "papermill": {
     "duration": 0.38006,
     "end_time": "2024-08-03T15:53:21.275783",
     "exception": false,
     "start_time": "2024-08-03T15:53:20.895723",
     "status": "completed"
    },
    "tags": []
   },
   "outputs": [],
   "source": [
    "# get daily historical USD-national currency rates\n",
    "usd_nat_curr = utils.get_historical_currency_rate(currency_pair, merged_nat_curr)"
   ]
  },
  {
   "cell_type": "code",
   "execution_count": null,
   "id": "70a0e6da",
   "metadata": {
    "execution": {
     "iopub.execute_input": "2024-08-03T15:53:21.299426Z",
     "iopub.status.busy": "2024-08-03T15:53:21.299212Z",
     "iopub.status.idle": "2024-08-03T15:53:21.843003Z",
     "shell.execute_reply": "2024-08-03T15:53:21.842709Z"
    },
    "papermill": {
     "duration": 0.556831,
     "end_time": "2024-08-03T15:53:21.843980",
     "exception": false,
     "start_time": "2024-08-03T15:53:21.287149",
     "status": "completed"
    },
    "tags": []
   },
   "outputs": [],
   "source": [
    "# get share prices and dividend yield data\n",
    "ticker_all_price = utils.get_historical_share_dividend(share_name, merged_nat_curr)"
   ]
  },
  {
   "cell_type": "code",
   "execution_count": null,
   "id": "d9e928bc",
   "metadata": {
    "execution": {
     "iopub.execute_input": "2024-08-03T15:53:21.867793Z",
     "iopub.status.busy": "2024-08-03T15:53:21.867671Z",
     "iopub.status.idle": "2024-08-03T15:53:22.043307Z",
     "shell.execute_reply": "2024-08-03T15:53:22.043021Z"
    },
    "papermill": {
     "duration": 0.187031,
     "end_time": "2024-08-03T15:53:22.044204",
     "exception": false,
     "start_time": "2024-08-03T15:53:21.857173",
     "status": "completed"
    },
    "tags": []
   },
   "outputs": [],
   "source": [
    "# Pearson's correlation coefficient between share price and USD - national currency rate\n",
    "utils.get_currency_share_price_correlation(share_name, usd_nat_curr, ticker_all_price)"
   ]
  },
  {
   "cell_type": "markdown",
   "id": "c957513e",
   "metadata": {
    "papermill": {
     "duration": 0.010741,
     "end_time": "2024-08-03T15:53:22.067673",
     "exception": false,
     "start_time": "2024-08-03T15:53:22.056932",
     "status": "completed"
    },
    "tags": []
   },
   "source": [
    "# Share price and value ratios"
   ]
  },
  {
   "cell_type": "code",
   "execution_count": null,
   "id": "c365f17e",
   "metadata": {
    "execution": {
     "iopub.execute_input": "2024-08-03T15:53:22.095861Z",
     "iopub.status.busy": "2024-08-03T15:53:22.095741Z",
     "iopub.status.idle": "2024-08-03T15:53:26.020932Z",
     "shell.execute_reply": "2024-08-03T15:53:26.020671Z"
    },
    "papermill": {
     "duration": 3.94114,
     "end_time": "2024-08-03T15:53:26.021871",
     "exception": false,
     "start_time": "2024-08-03T15:53:22.080731",
     "status": "completed"
    },
    "tags": []
   },
   "outputs": [],
   "source": [
    "for column in merged_nat_curr.columns[3:]:\n",
    "    fig, ax1 = plt.subplots(figsize=(15, 6))\n",
    "\n",
    "    ax2 = ax1.twinx()\n",
    "    ax1.plot(merged_nat_curr['real_date'], merged_nat_curr[column], color='k', label=merged_nat_curr)\n",
    "    ax2.plot(ticker_all_price.index, ticker_all_price['Close'], color='b', label=share_name)\n",
    "\n",
    "    ax1.set_xlabel('Date')\n",
    "    ax1.set_ylabel(column, color='k')\n",
    "    ax2.set_ylabel('Share price (national currency)', color='b')\n",
    "\n",
    "    plt.legend()\n",
    "    plt.show()"
   ]
  },
  {
   "cell_type": "code",
   "execution_count": null,
   "id": "67b71496",
   "metadata": {
    "execution": {
     "iopub.execute_input": "2024-08-03T15:53:26.069242Z",
     "iopub.status.busy": "2024-08-03T15:53:26.069105Z",
     "iopub.status.idle": "2024-08-03T15:53:26.900452Z",
     "shell.execute_reply": "2024-08-03T15:53:26.900173Z"
    },
    "papermill": {
     "duration": 0.852795,
     "end_time": "2024-08-03T15:53:26.901320",
     "exception": false,
     "start_time": "2024-08-03T15:53:26.048525",
     "status": "completed"
    },
    "tags": []
   },
   "outputs": [],
   "source": [
    "# plot histograms of value parameters\n",
    "utils.plot_histogram_value_parameters(input_df=merged_nat_curr, extra_parameters=[], owned_shares=owned_shares)"
   ]
  },
  {
   "cell_type": "markdown",
   "id": "ae9c8c05",
   "metadata": {
    "papermill": {
     "duration": 0.020939,
     "end_time": "2024-08-03T15:53:26.941980",
     "exception": false,
     "start_time": "2024-08-03T15:53:26.921041",
     "status": "completed"
    },
    "tags": []
   },
   "source": [
    "## Calculate correlation between value parameters"
   ]
  },
  {
   "cell_type": "code",
   "execution_count": null,
   "id": "cb2e1809",
   "metadata": {
    "execution": {
     "iopub.execute_input": "2024-08-03T15:53:26.984740Z",
     "iopub.status.busy": "2024-08-03T15:53:26.984610Z",
     "iopub.status.idle": "2024-08-03T15:53:26.989628Z",
     "shell.execute_reply": "2024-08-03T15:53:26.989395Z"
    },
    "papermill": {
     "duration": 0.026403,
     "end_time": "2024-08-03T15:53:26.990407",
     "exception": false,
     "start_time": "2024-08-03T15:53:26.964004",
     "status": "completed"
    },
    "tags": []
   },
   "outputs": [],
   "source": [
    "# calulate value parameters Pearson's correlation coefficient\n",
    "pd.DataFrame(merged_nat_curr, columns=['roa', 'roe', 'pe_ratio', 'pb_ratio', 'ps_ratio', 'ev_revenue', 'debt_to_equity', 'current_ratio']).corr()"
   ]
  },
  {
   "cell_type": "code",
   "execution_count": null,
   "id": "d8099137",
   "metadata": {},
   "outputs": [],
   "source": [
    "final_df = utils.get_value_stock_target_prices(\n",
    "    input_df=merged_nat_curr,\n",
    "    min_pct=0.2,\n",
    "    max_pct=0.5,\n",
    "    owned_shares=owned_shares\n",
    ")"
   ]
  }
 ],
 "metadata": {
  "kernelspec": {
   "display_name": ".venv",
   "language": "python",
   "name": "python3"
  },
  "language_info": {
   "codemirror_mode": {
    "name": "ipython",
    "version": 3
   },
   "file_extension": ".py",
   "mimetype": "text/x-python",
   "name": "python",
   "nbconvert_exporter": "python",
   "pygments_lexer": "ipython3",
   "version": "3.11.3"
  },
  "papermill": {
   "default_parameters": {},
   "duration": 17.26321,
   "end_time": "2024-08-03T15:53:27.330349",
   "environment_variables": {},
   "exception": null,
   "input_path": "../notebooks/norskhydro_national.ipynb",
   "output_path": "../notebooks/norskhydro_national.ipynb",
   "parameters": {},
   "start_time": "2024-08-03T15:53:10.067139",
   "version": "2.5.0"
  }
 },
 "nbformat": 4,
 "nbformat_minor": 5
}
