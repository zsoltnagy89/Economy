{
 "cells": [
  {
   "cell_type": "code",
   "execution_count": null,
   "id": "98eefd1f",
   "metadata": {
    "execution": {
     "iopub.execute_input": "2024-08-03T15:53:41.501496Z",
     "iopub.status.busy": "2024-08-03T15:53:41.500938Z",
     "iopub.status.idle": "2024-08-03T15:53:42.297053Z",
     "shell.execute_reply": "2024-08-03T15:53:42.296720Z"
    },
    "papermill": {
     "duration": 0.818342,
     "end_time": "2024-08-03T15:53:42.298123",
     "exception": false,
     "start_time": "2024-08-03T15:53:41.479781",
     "status": "completed"
    },
    "tags": []
   },
   "outputs": [],
   "source": [
    "import pandas as pd\n",
    "import matplotlib.pyplot as plt\n",
    "import numpy as np\n",
    "\n",
    "import yfinance as yf\n",
    "import datetime\n",
    "\n",
    "from valueinvesting import utils as utils"
   ]
  },
  {
   "cell_type": "markdown",
   "id": "959e1a30",
   "metadata": {
    "papermill": {
     "duration": 0.00898,
     "end_time": "2024-08-03T15:53:42.316662",
     "exception": false,
     "start_time": "2024-08-03T15:53:42.307682",
     "status": "completed"
    },
    "tags": []
   },
   "source": [
    "# 1. Load raw input -- Share number uncertain before 2013\n",
    "## Hardcoded block"
   ]
  },
  {
   "cell_type": "code",
   "execution_count": null,
   "id": "29129a8d",
   "metadata": {
    "execution": {
     "iopub.execute_input": "2024-08-03T15:53:42.327847Z",
     "iopub.status.busy": "2024-08-03T15:53:42.327624Z",
     "iopub.status.idle": "2024-08-03T15:53:42.329583Z",
     "shell.execute_reply": "2024-08-03T15:53:42.329315Z"
    },
    "papermill": {
     "duration": 0.008255,
     "end_time": "2024-08-03T15:53:42.330522",
     "exception": false,
     "start_time": "2024-08-03T15:53:42.322267",
     "status": "completed"
    },
    "tags": []
   },
   "outputs": [],
   "source": [
    "evaluate_last_X_years = True\n",
    "X=10\n",
    "currency_pair = 'NOK=X'\n",
    "numbers_in_currency = 'NOK'\n",
    "share_name = 'GSF.OL'"
   ]
  },
  {
   "cell_type": "markdown",
   "id": "e3312553",
   "metadata": {
    "papermill": {
     "duration": 0.008582,
     "end_time": "2024-08-03T15:53:42.349127",
     "exception": false,
     "start_time": "2024-08-03T15:53:42.340545",
     "status": "completed"
    },
    "tags": []
   },
   "source": [
    "# 1.2. Raw input statement data"
   ]
  },
  {
   "cell_type": "code",
   "execution_count": null,
   "id": "4785e1f1",
   "metadata": {
    "execution": {
     "iopub.execute_input": "2024-08-03T15:53:42.367544Z",
     "iopub.status.busy": "2024-08-03T15:53:42.367283Z",
     "iopub.status.idle": "2024-08-03T15:53:42.379704Z",
     "shell.execute_reply": "2024-08-03T15:53:42.379438Z"
    },
    "papermill": {
     "duration": 0.022808,
     "end_time": "2024-08-03T15:53:42.380674",
     "exception": false,
     "start_time": "2024-08-03T15:53:42.357866",
     "status": "completed"
    },
    "tags": []
   },
   "outputs": [],
   "source": [
    "route = f\"../data/input/{share_name}_data.csv\"\n",
    "data = pd.read_csv(route, sep=';', parse_dates=['date', 'real_date'])\n",
    "# replace -, extend missing 0-s, fix datatype\n",
    "data = utils.replace_format_input(data)"
   ]
  },
  {
   "cell_type": "code",
   "execution_count": null,
   "id": "92189249",
   "metadata": {
    "execution": {
     "iopub.execute_input": "2024-08-03T15:53:42.402246Z",
     "iopub.status.busy": "2024-08-03T15:53:42.402093Z",
     "iopub.status.idle": "2024-08-03T15:53:42.406874Z",
     "shell.execute_reply": "2024-08-03T15:53:42.406559Z"
    },
    "papermill": {
     "duration": 0.016259,
     "end_time": "2024-08-03T15:53:42.407880",
     "exception": false,
     "start_time": "2024-08-03T15:53:42.391621",
     "status": "completed"
    },
    "tags": []
   },
   "outputs": [],
   "source": [
    "owned_shares = pd.read_csv('../data/extras/owned_stocks.csv', sep=';', parse_dates=['date'])\n",
    "owned_shares = owned_shares.loc[(owned_shares['stock'] == share_name) & (owned_shares['active'] == 'yes')]"
   ]
  },
  {
   "cell_type": "markdown",
   "id": "e1ee08a2",
   "metadata": {
    "papermill": {
     "duration": 0.010308,
     "end_time": "2024-08-03T15:53:42.427548",
     "exception": false,
     "start_time": "2024-08-03T15:53:42.417240",
     "status": "completed"
    },
    "tags": []
   },
   "source": [
    "## (OPTIONAL) Time Filtering - Last 7 years daat"
   ]
  },
  {
   "cell_type": "code",
   "execution_count": null,
   "id": "81c4bed4",
   "metadata": {
    "execution": {
     "iopub.execute_input": "2024-08-03T15:53:42.441008Z",
     "iopub.status.busy": "2024-08-03T15:53:42.440856Z",
     "iopub.status.idle": "2024-08-03T15:53:42.451942Z",
     "shell.execute_reply": "2024-08-03T15:53:42.451645Z"
    },
    "papermill": {
     "duration": 0.017902,
     "end_time": "2024-08-03T15:53:42.452786",
     "exception": false,
     "start_time": "2024-08-03T15:53:42.434884",
     "status": "completed"
    },
    "tags": []
   },
   "outputs": [],
   "source": [
    "if evaluate_last_X_years:\n",
    "    data = data[data['date'] > datetime.datetime.today() - datetime.timedelta(days=X*366+93)]\n",
    "    data = data.reset_index(drop=True)\n",
    "\n",
    "data.head()"
   ]
  },
  {
   "cell_type": "markdown",
   "id": "1ad14b13",
   "metadata": {
    "papermill": {
     "duration": 0.006149,
     "end_time": "2024-08-03T15:53:42.465526",
     "exception": false,
     "start_time": "2024-08-03T15:53:42.459377",
     "status": "completed"
    },
    "tags": []
   },
   "source": [
    "## Calculate date when quaterly reports could be available"
   ]
  },
  {
   "cell_type": "code",
   "execution_count": null,
   "id": "2f62d95e",
   "metadata": {
    "execution": {
     "iopub.execute_input": "2024-08-03T15:53:42.477077Z",
     "iopub.status.busy": "2024-08-03T15:53:42.476932Z",
     "iopub.status.idle": "2024-08-03T15:53:42.478940Z",
     "shell.execute_reply": "2024-08-03T15:53:42.478683Z"
    },
    "papermill": {
     "duration": 0.008925,
     "end_time": "2024-08-03T15:53:42.479760",
     "exception": false,
     "start_time": "2024-08-03T15:53:42.470835",
     "status": "completed"
    },
    "tags": []
   },
   "outputs": [],
   "source": [
    "data = utils.calculate_real_date(data)"
   ]
  },
  {
   "cell_type": "markdown",
   "id": "a745fb69",
   "metadata": {
    "papermill": {
     "duration": 0.005194,
     "end_time": "2024-08-03T15:53:42.490577",
     "exception": false,
     "start_time": "2024-08-03T15:53:42.485383",
     "status": "completed"
    },
    "tags": []
   },
   "source": [
    "# 2. Filter out unnecesary columns"
   ]
  },
  {
   "cell_type": "code",
   "execution_count": null,
   "id": "5239e6dc",
   "metadata": {
    "execution": {
     "iopub.execute_input": "2024-08-03T15:53:42.502078Z",
     "iopub.status.busy": "2024-08-03T15:53:42.501934Z",
     "iopub.status.idle": "2024-08-03T15:53:42.508406Z",
     "shell.execute_reply": "2024-08-03T15:53:42.508161Z"
    },
    "papermill": {
     "duration": 0.013369,
     "end_time": "2024-08-03T15:53:42.509194",
     "exception": false,
     "start_time": "2024-08-03T15:53:42.495825",
     "status": "completed"
    },
    "tags": []
   },
   "outputs": [],
   "source": [
    "data = utils.filter_raw_data(data)\n",
    "data.tail()"
   ]
  },
  {
   "cell_type": "markdown",
   "id": "61e57168",
   "metadata": {
    "papermill": {
     "duration": 0.005487,
     "end_time": "2024-08-03T15:53:42.520570",
     "exception": false,
     "start_time": "2024-08-03T15:53:42.515083",
     "status": "completed"
    },
    "tags": []
   },
   "source": [
    "## Pull historical average USD national currency rates and add to the dataframe"
   ]
  },
  {
   "cell_type": "code",
   "execution_count": null,
   "id": "5bfbf448",
   "metadata": {
    "execution": {
     "iopub.execute_input": "2024-08-03T15:53:42.534203Z",
     "iopub.status.busy": "2024-08-03T15:53:42.534057Z",
     "iopub.status.idle": "2024-08-03T15:53:50.545506Z",
     "shell.execute_reply": "2024-08-03T15:53:50.544955Z"
    },
    "papermill": {
     "duration": 8.021428,
     "end_time": "2024-08-03T15:53:50.547927",
     "exception": false,
     "start_time": "2024-08-03T15:53:42.526499",
     "status": "completed"
    },
    "tags": []
   },
   "outputs": [],
   "source": [
    "data['usd_nat_currency'] = utils.daily_price(\n",
    "    ticker=currency_pair,\n",
    "    end=data['date'],\n",
    "    days_earlier=90\n",
    "    )\n",
    "\n",
    "# drop rows, when USD rates wasn't available\n",
    "data = data[data['usd_nat_currency'].notna()]\n",
    "\n",
    "data.tail()"
   ]
  },
  {
   "cell_type": "markdown",
   "id": "f1f2c9bb",
   "metadata": {
    "papermill": {
     "duration": 0.015787,
     "end_time": "2024-08-03T15:53:50.580831",
     "exception": false,
     "start_time": "2024-08-03T15:53:50.565044",
     "status": "completed"
    },
    "tags": []
   },
   "source": [
    "## Convert USD values related to IS, BS, CFS to national currency"
   ]
  },
  {
   "cell_type": "code",
   "execution_count": null,
   "id": "03985d17",
   "metadata": {
    "execution": {
     "iopub.execute_input": "2024-08-03T15:53:50.612110Z",
     "iopub.status.busy": "2024-08-03T15:53:50.611883Z",
     "iopub.status.idle": "2024-08-03T15:53:50.622497Z",
     "shell.execute_reply": "2024-08-03T15:53:50.622086Z"
    },
    "papermill": {
     "duration": 0.02635,
     "end_time": "2024-08-03T15:53:50.623751",
     "exception": false,
     "start_time": "2024-08-03T15:53:50.597401",
     "status": "completed"
    },
    "tags": []
   },
   "outputs": [],
   "source": [
    "# convert columns into national currency if necessary\n",
    "if numbers_in_currency == 'USD':\n",
    "    data_nat_curr = utils.convert_national_currency(input_data=data, currency=data)\n",
    "else:\n",
    "    data_nat_curr = data.copy()\n",
    "data_nat_curr.tail()"
   ]
  },
  {
   "cell_type": "markdown",
   "id": "2dafc17a",
   "metadata": {
    "papermill": {
     "duration": 0.010673,
     "end_time": "2024-08-03T15:53:50.646483",
     "exception": false,
     "start_time": "2024-08-03T15:53:50.635810",
     "status": "completed"
    },
    "tags": []
   },
   "source": [
    "# 3. Calculate input to Value Raios (eps, bv per share, fcf)\n",
    "## filter out unwanted columns"
   ]
  },
  {
   "cell_type": "code",
   "execution_count": null,
   "id": "c9f7284b",
   "metadata": {
    "execution": {
     "iopub.execute_input": "2024-08-03T15:53:50.667133Z",
     "iopub.status.busy": "2024-08-03T15:53:50.666935Z",
     "iopub.status.idle": "2024-08-03T15:53:50.670891Z",
     "shell.execute_reply": "2024-08-03T15:53:50.670563Z"
    },
    "papermill": {
     "duration": 0.014534,
     "end_time": "2024-08-03T15:53:50.672016",
     "exception": false,
     "start_time": "2024-08-03T15:53:50.657482",
     "status": "completed"
    },
    "tags": []
   },
   "outputs": [],
   "source": [
    "filtered_nat_curr = utils.calculate_input_value_ratios(data_nat_curr)"
   ]
  },
  {
   "cell_type": "markdown",
   "id": "49266f27",
   "metadata": {
    "papermill": {
     "duration": 0.009728,
     "end_time": "2024-08-03T15:53:50.692741",
     "exception": false,
     "start_time": "2024-08-03T15:53:50.683013",
     "status": "completed"
    },
    "tags": []
   },
   "source": [
    "## Calculate input values to value ratios"
   ]
  },
  {
   "cell_type": "code",
   "execution_count": null,
   "id": "c103e59b",
   "metadata": {
    "execution": {
     "iopub.execute_input": "2024-08-03T15:53:50.711803Z",
     "iopub.status.busy": "2024-08-03T15:53:50.711667Z",
     "iopub.status.idle": "2024-08-03T15:53:50.714100Z",
     "shell.execute_reply": "2024-08-03T15:53:50.713834Z"
    },
    "papermill": {
     "duration": 0.013275,
     "end_time": "2024-08-03T15:53:50.715006",
     "exception": false,
     "start_time": "2024-08-03T15:53:50.701731",
     "status": "completed"
    },
    "tags": []
   },
   "outputs": [],
   "source": [
    "ratios_nat_curr = utils.ratios_input_filter(filtered_nat_curr)"
   ]
  },
  {
   "cell_type": "code",
   "execution_count": null,
   "id": "fc685096",
   "metadata": {
    "execution": {
     "iopub.execute_input": "2024-08-03T15:53:50.736708Z",
     "iopub.status.busy": "2024-08-03T15:53:50.736559Z",
     "iopub.status.idle": "2024-08-03T15:53:50.743100Z",
     "shell.execute_reply": "2024-08-03T15:53:50.742856Z"
    },
    "papermill": {
     "duration": 0.017962,
     "end_time": "2024-08-03T15:53:50.744071",
     "exception": false,
     "start_time": "2024-08-03T15:53:50.726109",
     "status": "completed"
    },
    "tags": []
   },
   "outputs": [],
   "source": [
    "ratios_nat_curr = utils.evaluate_performance(input=filtered_nat_curr, output=ratios_nat_curr)"
   ]
  },
  {
   "cell_type": "markdown",
   "id": "bb8c6760",
   "metadata": {
    "papermill": {
     "duration": 0.009478,
     "end_time": "2024-08-03T15:53:50.763879",
     "exception": false,
     "start_time": "2024-08-03T15:53:50.754401",
     "status": "completed"
    },
    "tags": []
   },
   "source": [
    "# 4. Pull historical share prices and merge with sattement data"
   ]
  },
  {
   "cell_type": "code",
   "execution_count": null,
   "id": "6fa26ed1",
   "metadata": {
    "execution": {
     "iopub.execute_input": "2024-08-03T15:53:50.784955Z",
     "iopub.status.busy": "2024-08-03T15:53:50.784800Z",
     "iopub.status.idle": "2024-08-03T15:53:51.059379Z",
     "shell.execute_reply": "2024-08-03T15:53:51.059054Z"
    },
    "papermill": {
     "duration": 0.286626,
     "end_time": "2024-08-03T15:53:51.060408",
     "exception": false,
     "start_time": "2024-08-03T15:53:50.773782",
     "status": "completed"
    },
    "tags": []
   },
   "outputs": [],
   "source": [
    "# pull weekly share prices and merge with the value ratios\n",
    "merged_nat_curr = utils.add_share_prices_to_value_ratios(share_name, data, ratios_nat_curr)\n",
    "merged_nat_curr.head()"
   ]
  },
  {
   "cell_type": "markdown",
   "id": "c720501f",
   "metadata": {
    "papermill": {
     "duration": 0.007778,
     "end_time": "2024-08-03T15:53:51.076357",
     "exception": false,
     "start_time": "2024-08-03T15:53:51.068579",
     "status": "completed"
    },
    "tags": []
   },
   "source": [
    "# Calculate price ratios (P/E, P/B, P/S, P/FCF)"
   ]
  },
  {
   "cell_type": "code",
   "execution_count": null,
   "id": "5f58bd72",
   "metadata": {
    "execution": {
     "iopub.execute_input": "2024-08-03T15:53:51.095042Z",
     "iopub.status.busy": "2024-08-03T15:53:51.094877Z",
     "iopub.status.idle": "2024-08-03T15:53:51.104915Z",
     "shell.execute_reply": "2024-08-03T15:53:51.104643Z"
    },
    "papermill": {
     "duration": 0.02244,
     "end_time": "2024-08-03T15:53:51.105763",
     "exception": false,
     "start_time": "2024-08-03T15:53:51.083323",
     "status": "completed"
    },
    "tags": []
   },
   "outputs": [],
   "source": [
    "merged_nat_curr = utils.price_ratios(merged_nat_curr)\n",
    "merged_nat_curr.head()"
   ]
  },
  {
   "cell_type": "markdown",
   "id": "e2f39e99",
   "metadata": {
    "papermill": {
     "duration": 0.00861,
     "end_time": "2024-08-03T15:53:51.123939",
     "exception": false,
     "start_time": "2024-08-03T15:53:51.115329",
     "status": "completed"
    },
    "tags": []
   },
   "source": [
    "# Calculate Dividend yield and currency-share price correlation"
   ]
  },
  {
   "cell_type": "code",
   "execution_count": null,
   "id": "b42e8d66",
   "metadata": {
    "execution": {
     "iopub.execute_input": "2024-08-03T15:53:51.137392Z",
     "iopub.status.busy": "2024-08-03T15:53:51.137245Z",
     "iopub.status.idle": "2024-08-03T15:53:51.471866Z",
     "shell.execute_reply": "2024-08-03T15:53:51.471452Z"
    },
    "papermill": {
     "duration": 0.342854,
     "end_time": "2024-08-03T15:53:51.473390",
     "exception": false,
     "start_time": "2024-08-03T15:53:51.130536",
     "status": "completed"
    },
    "tags": []
   },
   "outputs": [],
   "source": [
    "# get daily historical USD-national currency rates\n",
    "usd_nat_curr = utils.get_historical_currency_rate(currency_pair, merged_nat_curr)"
   ]
  },
  {
   "cell_type": "code",
   "execution_count": null,
   "id": "96a4ab87",
   "metadata": {
    "execution": {
     "iopub.execute_input": "2024-08-03T15:53:51.502970Z",
     "iopub.status.busy": "2024-08-03T15:53:51.502770Z",
     "iopub.status.idle": "2024-08-03T15:53:51.964394Z",
     "shell.execute_reply": "2024-08-03T15:53:51.963946Z"
    },
    "papermill": {
     "duration": 0.47649,
     "end_time": "2024-08-03T15:53:51.965313",
     "exception": false,
     "start_time": "2024-08-03T15:53:51.488823",
     "status": "completed"
    },
    "tags": []
   },
   "outputs": [],
   "source": [
    "# get share prices and dividend yield data\n",
    "ticker_all_price = utils.get_historical_share_dividend(share_name, merged_nat_curr)"
   ]
  },
  {
   "cell_type": "code",
   "execution_count": null,
   "id": "bae26841",
   "metadata": {
    "execution": {
     "iopub.execute_input": "2024-08-03T15:53:51.994904Z",
     "iopub.status.busy": "2024-08-03T15:53:51.994781Z",
     "iopub.status.idle": "2024-08-03T15:53:52.168846Z",
     "shell.execute_reply": "2024-08-03T15:53:52.168572Z"
    },
    "papermill": {
     "duration": 0.188748,
     "end_time": "2024-08-03T15:53:52.169722",
     "exception": false,
     "start_time": "2024-08-03T15:53:51.980974",
     "status": "completed"
    },
    "tags": []
   },
   "outputs": [],
   "source": [
    "# Pearson's correlation coefficient between share price and USD - national currency rate\n",
    "utils.get_currency_share_price_correlation(share_name, usd_nat_curr, ticker_all_price)"
   ]
  },
  {
   "cell_type": "markdown",
   "id": "3b14f564",
   "metadata": {
    "papermill": {
     "duration": 0.010979,
     "end_time": "2024-08-03T15:53:52.193379",
     "exception": false,
     "start_time": "2024-08-03T15:53:52.182400",
     "status": "completed"
    },
    "tags": []
   },
   "source": [
    "# Share price and value ratios"
   ]
  },
  {
   "cell_type": "code",
   "execution_count": null,
   "id": "cfbe37d2",
   "metadata": {
    "execution": {
     "iopub.execute_input": "2024-08-03T15:53:52.215277Z",
     "iopub.status.busy": "2024-08-03T15:53:52.215154Z",
     "iopub.status.idle": "2024-08-03T15:53:56.481366Z",
     "shell.execute_reply": "2024-08-03T15:53:56.481087Z"
    },
    "papermill": {
     "duration": 4.279222,
     "end_time": "2024-08-03T15:53:56.482281",
     "exception": false,
     "start_time": "2024-08-03T15:53:52.203059",
     "status": "completed"
    },
    "tags": []
   },
   "outputs": [],
   "source": [
    "for column in merged_nat_curr.columns[3:]:\n",
    "    fig, ax1 = plt.subplots(figsize=(15, 6))\n",
    "\n",
    "    ax2 = ax1.twinx()\n",
    "    ax1.plot(merged_nat_curr['real_date'], merged_nat_curr[column], color='k', label=merged_nat_curr)\n",
    "    ax2.plot(ticker_all_price.index, ticker_all_price['Close'], color='b', label=share_name)\n",
    "\n",
    "    ax1.set_xlabel('Date')\n",
    "    ax1.set_ylabel(column, color='k')\n",
    "    ax2.set_ylabel('Share price (national currency)', color='b')\n",
    "\n",
    "    plt.legend()\n",
    "    plt.show()"
   ]
  },
  {
   "cell_type": "code",
   "execution_count": null,
   "id": "9dc78942",
   "metadata": {
    "execution": {
     "iopub.execute_input": "2024-08-03T15:53:56.531215Z",
     "iopub.status.busy": "2024-08-03T15:53:56.531082Z",
     "iopub.status.idle": "2024-08-03T15:53:57.390779Z",
     "shell.execute_reply": "2024-08-03T15:53:57.390529Z"
    },
    "papermill": {
     "duration": 0.884108,
     "end_time": "2024-08-03T15:53:57.391743",
     "exception": false,
     "start_time": "2024-08-03T15:53:56.507635",
     "status": "completed"
    },
    "tags": []
   },
   "outputs": [],
   "source": [
    "# plot histograms of value parameters\n",
    "utils.plot_histogram_value_parameters(input_df=merged_nat_curr, extra_parameters=[], owned_shares=owned_shares)"
   ]
  },
  {
   "cell_type": "markdown",
   "id": "914ba819",
   "metadata": {
    "papermill": {
     "duration": 0.021034,
     "end_time": "2024-08-03T15:53:57.434383",
     "exception": false,
     "start_time": "2024-08-03T15:53:57.413349",
     "status": "completed"
    },
    "tags": []
   },
   "source": [
    "## Calculate correlation between value parameters"
   ]
  },
  {
   "cell_type": "code",
   "execution_count": null,
   "id": "558129ca",
   "metadata": {
    "execution": {
     "iopub.execute_input": "2024-08-03T15:53:57.475894Z",
     "iopub.status.busy": "2024-08-03T15:53:57.475754Z",
     "iopub.status.idle": "2024-08-03T15:53:57.480892Z",
     "shell.execute_reply": "2024-08-03T15:53:57.480650Z"
    },
    "papermill": {
     "duration": 0.026207,
     "end_time": "2024-08-03T15:53:57.481730",
     "exception": false,
     "start_time": "2024-08-03T15:53:57.455523",
     "status": "completed"
    },
    "tags": []
   },
   "outputs": [],
   "source": [
    "# calulate value parameters Pearson's correlation coefficient\n",
    "pd.DataFrame(merged_nat_curr, columns=['roa', 'roe', 'pe_ratio', 'pb_ratio', 'ps_ratio', 'ev_revenue', 'debt_to_equity', 'current_ratio']).corr()"
   ]
  },
  {
   "cell_type": "code",
   "execution_count": null,
   "id": "31922937",
   "metadata": {},
   "outputs": [],
   "source": [
    "final_df = utils.get_value_stock_target_prices(\n",
    "    input_df=merged_nat_curr,\n",
    "    min_pct=0.2,\n",
    "    max_pct=0.5,\n",
    "    owned_shares=owned_shares\n",
    ")"
   ]
  }
 ],
 "metadata": {
  "kernelspec": {
   "display_name": ".venv",
   "language": "python",
   "name": "python3"
  },
  "language_info": {
   "codemirror_mode": {
    "name": "ipython",
    "version": 3
   },
   "file_extension": ".py",
   "mimetype": "text/x-python",
   "name": "python",
   "nbconvert_exporter": "python",
   "pygments_lexer": "ipython3",
   "version": "3.11.3"
  },
  "papermill": {
   "default_parameters": {},
   "duration": 17.401066,
   "end_time": "2024-08-03T15:53:57.921708",
   "environment_variables": {},
   "exception": null,
   "input_path": "../notebooks/grieg_national.ipynb",
   "output_path": "../notebooks/grieg_national.ipynb",
   "parameters": {},
   "start_time": "2024-08-03T15:53:40.520642",
   "version": "2.5.0"
  }
 },
 "nbformat": 4,
 "nbformat_minor": 5
}
