{
 "cells": [
  {
   "cell_type": "code",
   "execution_count": null,
   "id": "a9aca82e",
   "metadata": {
    "execution": {
     "iopub.execute_input": "2024-08-03T16:00:24.967770Z",
     "iopub.status.busy": "2024-08-03T16:00:24.967421Z",
     "iopub.status.idle": "2024-08-03T16:00:25.779466Z",
     "shell.execute_reply": "2024-08-03T16:00:25.779199Z"
    },
    "papermill": {
     "duration": 0.831974,
     "end_time": "2024-08-03T16:00:25.780473",
     "exception": false,
     "start_time": "2024-08-03T16:00:24.948499",
     "status": "completed"
    },
    "tags": []
   },
   "outputs": [],
   "source": [
    "import pandas as pd\n",
    "import matplotlib.pyplot as plt\n",
    "import numpy as np\n",
    "\n",
    "import yfinance as yf\n",
    "import datetime\n",
    "\n",
    "from valueinvesting import utils as utils"
   ]
  },
  {
   "cell_type": "markdown",
   "id": "ec786569",
   "metadata": {
    "papermill": {
     "duration": 0.011187,
     "end_time": "2024-08-03T16:00:25.802554",
     "exception": false,
     "start_time": "2024-08-03T16:00:25.791367",
     "status": "completed"
    },
    "tags": []
   },
   "source": [
    "# 1. Load raw input\n",
    "## Hardcoded block"
   ]
  },
  {
   "cell_type": "code",
   "execution_count": null,
   "id": "db5db8bc",
   "metadata": {
    "execution": {
     "iopub.execute_input": "2024-08-03T16:00:25.823915Z",
     "iopub.status.busy": "2024-08-03T16:00:25.823702Z",
     "iopub.status.idle": "2024-08-03T16:00:25.825951Z",
     "shell.execute_reply": "2024-08-03T16:00:25.825652Z"
    },
    "papermill": {
     "duration": 0.012543,
     "end_time": "2024-08-03T16:00:25.826886",
     "exception": false,
     "start_time": "2024-08-03T16:00:25.814343",
     "status": "completed"
    },
    "tags": []
   },
   "outputs": [],
   "source": [
    "evaluate_last_X_years = True\n",
    "X=10\n",
    "currency_pair = 'SEK=X'\n",
    "numbers_in_currency = 'SEK'\n",
    "share_name = 'PDX.ST'"
   ]
  },
  {
   "cell_type": "markdown",
   "id": "71661928",
   "metadata": {
    "papermill": {
     "duration": 0.006126,
     "end_time": "2024-08-03T16:00:25.841947",
     "exception": false,
     "start_time": "2024-08-03T16:00:25.835821",
     "status": "completed"
    },
    "tags": []
   },
   "source": [
    "# 1.1 Calculate Share numbers from total distributed dividend (CFS) and dividend amount"
   ]
  },
  {
   "cell_type": "markdown",
   "id": "afa340f1",
   "metadata": {
    "papermill": {
     "duration": 0.008344,
     "end_time": "2024-08-03T16:00:25.859042",
     "exception": false,
     "start_time": "2024-08-03T16:00:25.850698",
     "status": "completed"
    },
    "tags": []
   },
   "source": [
    "# 1.2. Raw input statement data"
   ]
  },
  {
   "cell_type": "code",
   "execution_count": null,
   "id": "82c54c11",
   "metadata": {
    "execution": {
     "iopub.execute_input": "2024-08-03T16:00:25.876905Z",
     "iopub.status.busy": "2024-08-03T16:00:25.876753Z",
     "iopub.status.idle": "2024-08-03T16:00:25.889555Z",
     "shell.execute_reply": "2024-08-03T16:00:25.889226Z"
    },
    "papermill": {
     "duration": 0.020791,
     "end_time": "2024-08-03T16:00:25.890778",
     "exception": false,
     "start_time": "2024-08-03T16:00:25.869987",
     "status": "completed"
    },
    "tags": []
   },
   "outputs": [],
   "source": [
    "route = f\"../data/input/{share_name}_data.csv\"\n",
    "data = pd.read_csv(route, sep=';', parse_dates=['date', 'real_date'])\n",
    "# replace -, extend missing 0-s, fix datatype\n",
    "data = utils.replace_format_input(data)"
   ]
  },
  {
   "cell_type": "code",
   "execution_count": null,
   "id": "b42811a9",
   "metadata": {
    "execution": {
     "iopub.execute_input": "2024-08-03T16:00:25.905745Z",
     "iopub.status.busy": "2024-08-03T16:00:25.905582Z",
     "iopub.status.idle": "2024-08-03T16:00:25.909764Z",
     "shell.execute_reply": "2024-08-03T16:00:25.909518Z"
    },
    "papermill": {
     "duration": 0.012782,
     "end_time": "2024-08-03T16:00:25.910590",
     "exception": false,
     "start_time": "2024-08-03T16:00:25.897808",
     "status": "completed"
    },
    "tags": []
   },
   "outputs": [],
   "source": [
    "owned_shares = pd.read_csv('../data/extras/owned_stocks.csv', sep=';', parse_dates=['date'])\n",
    "owned_shares = owned_shares.loc[(owned_shares['stock'] == share_name) & (owned_shares['active'] == 'yes')]"
   ]
  },
  {
   "cell_type": "markdown",
   "id": "9f9c0627",
   "metadata": {
    "papermill": {
     "duration": 0.005098,
     "end_time": "2024-08-03T16:00:25.920788",
     "exception": false,
     "start_time": "2024-08-03T16:00:25.915690",
     "status": "completed"
    },
    "tags": []
   },
   "source": [
    "## (OPTIONAL) Time Filtering - Last 7 years daat"
   ]
  },
  {
   "cell_type": "code",
   "execution_count": null,
   "id": "a1fbf4ac",
   "metadata": {
    "execution": {
     "iopub.execute_input": "2024-08-03T16:00:25.931599Z",
     "iopub.status.busy": "2024-08-03T16:00:25.931336Z",
     "iopub.status.idle": "2024-08-03T16:00:25.941091Z",
     "shell.execute_reply": "2024-08-03T16:00:25.940735Z"
    },
    "papermill": {
     "duration": 0.015913,
     "end_time": "2024-08-03T16:00:25.941917",
     "exception": false,
     "start_time": "2024-08-03T16:00:25.926004",
     "status": "completed"
    },
    "tags": []
   },
   "outputs": [],
   "source": [
    "if evaluate_last_X_years:\n",
    "    data = data[data['date'] > datetime.datetime.today() - datetime.timedelta(days=X*366+93)]\n",
    "    data = data.reset_index(drop=True)\n",
    "\n",
    "data.head()"
   ]
  },
  {
   "cell_type": "markdown",
   "id": "ab3bb1b9",
   "metadata": {
    "papermill": {
     "duration": 0.004566,
     "end_time": "2024-08-03T16:00:25.951617",
     "exception": false,
     "start_time": "2024-08-03T16:00:25.947051",
     "status": "completed"
    },
    "tags": []
   },
   "source": [
    "## Calculate date when quaterly reports could be available"
   ]
  },
  {
   "cell_type": "code",
   "execution_count": null,
   "id": "8fe8b585",
   "metadata": {
    "execution": {
     "iopub.execute_input": "2024-08-03T16:00:25.961813Z",
     "iopub.status.busy": "2024-08-03T16:00:25.961598Z",
     "iopub.status.idle": "2024-08-03T16:00:25.963226Z",
     "shell.execute_reply": "2024-08-03T16:00:25.963001Z"
    },
    "papermill": {
     "duration": 0.007507,
     "end_time": "2024-08-03T16:00:25.964019",
     "exception": false,
     "start_time": "2024-08-03T16:00:25.956512",
     "status": "completed"
    },
    "tags": []
   },
   "outputs": [],
   "source": [
    "data = utils.calculate_real_date(data)"
   ]
  },
  {
   "cell_type": "markdown",
   "id": "e2d5ec83",
   "metadata": {
    "papermill": {
     "duration": 0.004774,
     "end_time": "2024-08-03T16:00:25.973408",
     "exception": false,
     "start_time": "2024-08-03T16:00:25.968634",
     "status": "completed"
    },
    "tags": []
   },
   "source": [
    "# 2. Filter out unnecesary columns"
   ]
  },
  {
   "cell_type": "code",
   "execution_count": null,
   "id": "795df01a",
   "metadata": {
    "execution": {
     "iopub.execute_input": "2024-08-03T16:00:25.982749Z",
     "iopub.status.busy": "2024-08-03T16:00:25.982638Z",
     "iopub.status.idle": "2024-08-03T16:00:25.988493Z",
     "shell.execute_reply": "2024-08-03T16:00:25.988239Z"
    },
    "papermill": {
     "duration": 0.011567,
     "end_time": "2024-08-03T16:00:25.989357",
     "exception": false,
     "start_time": "2024-08-03T16:00:25.977790",
     "status": "completed"
    },
    "tags": []
   },
   "outputs": [],
   "source": [
    "data = utils.filter_raw_data(data)\n",
    "data.tail()"
   ]
  },
  {
   "cell_type": "markdown",
   "id": "a5b1a16b",
   "metadata": {
    "papermill": {
     "duration": 0.004809,
     "end_time": "2024-08-03T16:00:25.999997",
     "exception": false,
     "start_time": "2024-08-03T16:00:25.995188",
     "status": "completed"
    },
    "tags": []
   },
   "source": [
    "## Pull historical average USD national currency rates and add to the dataframe"
   ]
  },
  {
   "cell_type": "code",
   "execution_count": null,
   "id": "bca6150a",
   "metadata": {
    "execution": {
     "iopub.execute_input": "2024-08-03T16:00:26.012475Z",
     "iopub.status.busy": "2024-08-03T16:00:26.012345Z",
     "iopub.status.idle": "2024-08-03T16:00:33.145562Z",
     "shell.execute_reply": "2024-08-03T16:00:33.145059Z"
    },
    "papermill": {
     "duration": 7.14164,
     "end_time": "2024-08-03T16:00:33.147252",
     "exception": false,
     "start_time": "2024-08-03T16:00:26.005612",
     "status": "completed"
    },
    "tags": []
   },
   "outputs": [],
   "source": [
    "data['usd_nat_currency'] = utils.daily_price(\n",
    "    ticker=currency_pair,\n",
    "    end=data['date'],\n",
    "    days_earlier=90\n",
    "    )\n",
    "\n",
    "# drop rows, when USD rates wasn't available\n",
    "data = data[data['usd_nat_currency'].notna()]\n",
    "\n",
    "data.tail()"
   ]
  },
  {
   "cell_type": "markdown",
   "id": "70e96379",
   "metadata": {
    "papermill": {
     "duration": 0.015177,
     "end_time": "2024-08-03T16:00:33.178376",
     "exception": false,
     "start_time": "2024-08-03T16:00:33.163199",
     "status": "completed"
    },
    "tags": []
   },
   "source": [
    "## Convert USD values related to IS, BS, CFS to national currency"
   ]
  },
  {
   "cell_type": "code",
   "execution_count": null,
   "id": "9b98d21e",
   "metadata": {
    "execution": {
     "iopub.execute_input": "2024-08-03T16:00:33.205007Z",
     "iopub.status.busy": "2024-08-03T16:00:33.204768Z",
     "iopub.status.idle": "2024-08-03T16:00:33.215047Z",
     "shell.execute_reply": "2024-08-03T16:00:33.214683Z"
    },
    "papermill": {
     "duration": 0.024554,
     "end_time": "2024-08-03T16:00:33.216241",
     "exception": false,
     "start_time": "2024-08-03T16:00:33.191687",
     "status": "completed"
    },
    "tags": []
   },
   "outputs": [],
   "source": [
    "# convert columns into national currency if necessary\n",
    "if numbers_in_currency == 'USD':\n",
    "    data_nat_curr = utils.convert_national_currency(input_data=data, currency=data)\n",
    "else:\n",
    "    data_nat_curr = data.copy()\n",
    "data_nat_curr.tail()"
   ]
  },
  {
   "cell_type": "markdown",
   "id": "9bb3cca8",
   "metadata": {
    "papermill": {
     "duration": 0.011627,
     "end_time": "2024-08-03T16:00:33.241212",
     "exception": false,
     "start_time": "2024-08-03T16:00:33.229585",
     "status": "completed"
    },
    "tags": []
   },
   "source": [
    "# 3. Calculate input to Value Raios (eps, bv per share, fcf)\n",
    "## filter out unwanted columns"
   ]
  },
  {
   "cell_type": "code",
   "execution_count": null,
   "id": "75f1eeb2",
   "metadata": {
    "execution": {
     "iopub.execute_input": "2024-08-03T16:00:33.269365Z",
     "iopub.status.busy": "2024-08-03T16:00:33.269137Z",
     "iopub.status.idle": "2024-08-03T16:00:33.273907Z",
     "shell.execute_reply": "2024-08-03T16:00:33.273438Z"
    },
    "papermill": {
     "duration": 0.020848,
     "end_time": "2024-08-03T16:00:33.275119",
     "exception": false,
     "start_time": "2024-08-03T16:00:33.254271",
     "status": "completed"
    },
    "tags": []
   },
   "outputs": [],
   "source": [
    "filtered_nat_curr = utils.calculate_input_value_ratios(data_nat_curr)"
   ]
  },
  {
   "cell_type": "markdown",
   "id": "721b9b7b",
   "metadata": {
    "papermill": {
     "duration": 0.01268,
     "end_time": "2024-08-03T16:00:33.299560",
     "exception": false,
     "start_time": "2024-08-03T16:00:33.286880",
     "status": "completed"
    },
    "tags": []
   },
   "source": [
    "## Calculate input values to value ratios"
   ]
  },
  {
   "cell_type": "code",
   "execution_count": null,
   "id": "f4f9ee0f",
   "metadata": {
    "execution": {
     "iopub.execute_input": "2024-08-03T16:00:33.321020Z",
     "iopub.status.busy": "2024-08-03T16:00:33.320845Z",
     "iopub.status.idle": "2024-08-03T16:00:33.323698Z",
     "shell.execute_reply": "2024-08-03T16:00:33.323406Z"
    },
    "papermill": {
     "duration": 0.014849,
     "end_time": "2024-08-03T16:00:33.324638",
     "exception": false,
     "start_time": "2024-08-03T16:00:33.309789",
     "status": "completed"
    },
    "tags": []
   },
   "outputs": [],
   "source": [
    "ratios_nat_curr = utils.ratios_input_filter(filtered_nat_curr)"
   ]
  },
  {
   "cell_type": "markdown",
   "id": "ef36f774",
   "metadata": {
    "papermill": {
     "duration": 0.010642,
     "end_time": "2024-08-03T16:00:33.362866",
     "exception": false,
     "start_time": "2024-08-03T16:00:33.352224",
     "status": "completed"
    },
    "tags": []
   },
   "source": [
    "## Calculate performance parameters (current ratio, ROA, ROE, margins, D/E)"
   ]
  },
  {
   "cell_type": "code",
   "execution_count": null,
   "id": "c6f1c61d",
   "metadata": {
    "execution": {
     "iopub.execute_input": "2024-08-03T16:00:33.380429Z",
     "iopub.status.busy": "2024-08-03T16:00:33.380267Z",
     "iopub.status.idle": "2024-08-03T16:00:33.388261Z",
     "shell.execute_reply": "2024-08-03T16:00:33.387940Z"
    },
    "papermill": {
     "duration": 0.017147,
     "end_time": "2024-08-03T16:00:33.389271",
     "exception": false,
     "start_time": "2024-08-03T16:00:33.372124",
     "status": "completed"
    },
    "tags": []
   },
   "outputs": [],
   "source": [
    "ratios_nat_curr = utils.evaluate_performance(input=filtered_nat_curr, output=ratios_nat_curr)"
   ]
  },
  {
   "cell_type": "markdown",
   "id": "73f45fdd",
   "metadata": {
    "papermill": {
     "duration": 0.007534,
     "end_time": "2024-08-03T16:00:33.403996",
     "exception": false,
     "start_time": "2024-08-03T16:00:33.396462",
     "status": "completed"
    },
    "tags": []
   },
   "source": [
    "# 4. Pull historical share prices and merge with sattement data"
   ]
  },
  {
   "cell_type": "code",
   "execution_count": null,
   "id": "a322fb80",
   "metadata": {
    "execution": {
     "iopub.execute_input": "2024-08-03T16:00:33.416561Z",
     "iopub.status.busy": "2024-08-03T16:00:33.416422Z",
     "iopub.status.idle": "2024-08-03T16:00:33.670722Z",
     "shell.execute_reply": "2024-08-03T16:00:33.670420Z"
    },
    "papermill": {
     "duration": 0.261552,
     "end_time": "2024-08-03T16:00:33.671629",
     "exception": false,
     "start_time": "2024-08-03T16:00:33.410077",
     "status": "completed"
    },
    "tags": []
   },
   "outputs": [],
   "source": [
    "# pull weekly share prices and merge with the value ratios\n",
    "merged_nat_curr = utils.add_share_prices_to_value_ratios(share_name, data, ratios_nat_curr)\n",
    "merged_nat_curr.head()"
   ]
  },
  {
   "cell_type": "markdown",
   "id": "ca2da740",
   "metadata": {
    "papermill": {
     "duration": 0.013955,
     "end_time": "2024-08-03T16:00:33.701543",
     "exception": false,
     "start_time": "2024-08-03T16:00:33.687588",
     "status": "completed"
    },
    "tags": []
   },
   "source": [
    "# Calculate price ratios (P/E, P/B, P/S, P/FCF)"
   ]
  },
  {
   "cell_type": "code",
   "execution_count": null,
   "id": "7e72300b",
   "metadata": {
    "execution": {
     "iopub.execute_input": "2024-08-03T16:00:33.723775Z",
     "iopub.status.busy": "2024-08-03T16:00:33.723624Z",
     "iopub.status.idle": "2024-08-03T16:00:33.733020Z",
     "shell.execute_reply": "2024-08-03T16:00:33.732770Z"
    },
    "papermill": {
     "duration": 0.020655,
     "end_time": "2024-08-03T16:00:33.733907",
     "exception": false,
     "start_time": "2024-08-03T16:00:33.713252",
     "status": "completed"
    },
    "tags": []
   },
   "outputs": [],
   "source": [
    "merged_nat_curr = utils.price_ratios(merged_nat_curr)\n",
    "merged_nat_curr.head()"
   ]
  },
  {
   "cell_type": "markdown",
   "id": "998b6d52",
   "metadata": {
    "papermill": {
     "duration": 0.009538,
     "end_time": "2024-08-03T16:00:33.757264",
     "exception": false,
     "start_time": "2024-08-03T16:00:33.747726",
     "status": "completed"
    },
    "tags": []
   },
   "source": [
    "# Calculate Dividend yield and currency-share price correlation"
   ]
  },
  {
   "cell_type": "code",
   "execution_count": null,
   "id": "9b047d8f",
   "metadata": {
    "execution": {
     "iopub.execute_input": "2024-08-03T16:00:33.779943Z",
     "iopub.status.busy": "2024-08-03T16:00:33.779792Z",
     "iopub.status.idle": "2024-08-03T16:00:34.085390Z",
     "shell.execute_reply": "2024-08-03T16:00:34.084882Z"
    },
    "papermill": {
     "duration": 0.319343,
     "end_time": "2024-08-03T16:00:34.087054",
     "exception": false,
     "start_time": "2024-08-03T16:00:33.767711",
     "status": "completed"
    },
    "tags": []
   },
   "outputs": [],
   "source": [
    "# get daily historical USD-national currency rates\n",
    "usd_nat_curr = utils.get_historical_currency_rate(currency_pair, merged_nat_curr)"
   ]
  },
  {
   "cell_type": "code",
   "execution_count": null,
   "id": "64ea9c04",
   "metadata": {
    "execution": {
     "iopub.execute_input": "2024-08-03T16:00:34.159872Z",
     "iopub.status.busy": "2024-08-03T16:00:34.159724Z",
     "iopub.status.idle": "2024-08-03T16:00:34.597324Z",
     "shell.execute_reply": "2024-08-03T16:00:34.596840Z"
    },
    "papermill": {
     "duration": 0.453302,
     "end_time": "2024-08-03T16:00:34.598611",
     "exception": false,
     "start_time": "2024-08-03T16:00:34.145309",
     "status": "completed"
    },
    "tags": []
   },
   "outputs": [],
   "source": [
    "# get share prices and dividend yield data\n",
    "ticker_all_price = utils.get_historical_share_dividend(share_name, merged_nat_curr)"
   ]
  },
  {
   "cell_type": "code",
   "execution_count": null,
   "id": "47db43bd",
   "metadata": {
    "execution": {
     "iopub.execute_input": "2024-08-03T16:00:34.629267Z",
     "iopub.status.busy": "2024-08-03T16:00:34.628919Z",
     "iopub.status.idle": "2024-08-03T16:00:34.800329Z",
     "shell.execute_reply": "2024-08-03T16:00:34.799955Z"
    },
    "papermill": {
     "duration": 0.191173,
     "end_time": "2024-08-03T16:00:34.801185",
     "exception": false,
     "start_time": "2024-08-03T16:00:34.610012",
     "status": "completed"
    },
    "tags": []
   },
   "outputs": [],
   "source": [
    "# Pearson's correlation coefficient between share price and USD - national currency rate\n",
    "utils.get_currency_share_price_correlation(share_name, usd_nat_curr, ticker_all_price)"
   ]
  },
  {
   "cell_type": "markdown",
   "id": "cde5ce3c",
   "metadata": {
    "papermill": {
     "duration": 0.011519,
     "end_time": "2024-08-03T16:00:34.823025",
     "exception": false,
     "start_time": "2024-08-03T16:00:34.811506",
     "status": "completed"
    },
    "tags": []
   },
   "source": [
    "# Share price and value ratios"
   ]
  },
  {
   "cell_type": "code",
   "execution_count": null,
   "id": "880543d7",
   "metadata": {
    "execution": {
     "iopub.execute_input": "2024-08-03T16:00:34.848560Z",
     "iopub.status.busy": "2024-08-03T16:00:34.848432Z",
     "iopub.status.idle": "2024-08-03T16:00:38.742326Z",
     "shell.execute_reply": "2024-08-03T16:00:38.742054Z"
    },
    "papermill": {
     "duration": 3.906156,
     "end_time": "2024-08-03T16:00:38.743185",
     "exception": false,
     "start_time": "2024-08-03T16:00:34.837029",
     "status": "completed"
    },
    "tags": []
   },
   "outputs": [],
   "source": [
    "for column in merged_nat_curr.columns[3:]:\n",
    "    fig, ax1 = plt.subplots(figsize=(15, 6))\n",
    "\n",
    "    ax2 = ax1.twinx()\n",
    "    ax1.plot(merged_nat_curr['real_date'], merged_nat_curr[column], color='k', label=merged_nat_curr)\n",
    "    ax2.plot(ticker_all_price.index, ticker_all_price['Close'], color='b', label=share_name)\n",
    "\n",
    "    ax1.set_xlabel('Date')\n",
    "    ax1.set_ylabel(column, color='k')\n",
    "    ax2.set_ylabel('Share price (national currency)', color='b')\n",
    "\n",
    "    plt.legend()\n",
    "    plt.show()"
   ]
  },
  {
   "cell_type": "code",
   "execution_count": null,
   "id": "1608fde2",
   "metadata": {
    "execution": {
     "iopub.execute_input": "2024-08-03T16:00:38.807750Z",
     "iopub.status.busy": "2024-08-03T16:00:38.807613Z",
     "iopub.status.idle": "2024-08-03T16:00:39.734656Z",
     "shell.execute_reply": "2024-08-03T16:00:39.734376Z"
    },
    "papermill": {
     "duration": 0.964787,
     "end_time": "2024-08-03T16:00:39.735880",
     "exception": false,
     "start_time": "2024-08-03T16:00:38.771093",
     "status": "completed"
    },
    "tags": []
   },
   "outputs": [],
   "source": [
    "# plot histograms of value parameters\n",
    "utils.plot_histogram_value_parameters(input_df=merged_nat_curr, extra_parameters=[], owned_shares=owned_shares)"
   ]
  },
  {
   "cell_type": "markdown",
   "id": "7dc0c015",
   "metadata": {
    "papermill": {
     "duration": 0.022899,
     "end_time": "2024-08-03T16:00:39.784758",
     "exception": false,
     "start_time": "2024-08-03T16:00:39.761859",
     "status": "completed"
    },
    "tags": []
   },
   "source": [
    "## Calculate correlation between value parameters"
   ]
  },
  {
   "cell_type": "code",
   "execution_count": null,
   "id": "959f0512",
   "metadata": {
    "execution": {
     "iopub.execute_input": "2024-08-03T16:00:39.823968Z",
     "iopub.status.busy": "2024-08-03T16:00:39.823829Z",
     "iopub.status.idle": "2024-08-03T16:00:39.828804Z",
     "shell.execute_reply": "2024-08-03T16:00:39.828570Z"
    },
    "papermill": {
     "duration": 0.02554,
     "end_time": "2024-08-03T16:00:39.829648",
     "exception": false,
     "start_time": "2024-08-03T16:00:39.804108",
     "status": "completed"
    },
    "tags": []
   },
   "outputs": [],
   "source": [
    "# calulate value parameters Pearson's correlation coefficient\n",
    "pd.DataFrame(merged_nat_curr, columns=['roa', 'roe', 'pe_ratio', 'pb_ratio', 'ps_ratio', 'ev_revenue', 'debt_to_equity', 'current_ratio']).corr()"
   ]
  },
  {
   "cell_type": "code",
   "execution_count": null,
   "id": "6427f9e4",
   "metadata": {},
   "outputs": [],
   "source": [
    "final_df = utils.get_value_stock_target_prices(\n",
    "    input_df=merged_nat_curr,\n",
    "    min_pct=0.2,\n",
    "    max_pct=0.5,\n",
    "    owned_shares=owned_shares\n",
    ")"
   ]
  }
 ],
 "metadata": {
  "kernelspec": {
   "display_name": ".venv",
   "language": "python",
   "name": "python3"
  },
  "language_info": {
   "codemirror_mode": {
    "name": "ipython",
    "version": 3
   },
   "file_extension": ".py",
   "mimetype": "text/x-python",
   "name": "python",
   "nbconvert_exporter": "python",
   "pygments_lexer": "ipython3",
   "version": "3.11.3"
  },
  "papermill": {
   "default_parameters": {},
   "duration": 16.32896,
   "end_time": "2024-08-03T16:00:40.172431",
   "environment_variables": {},
   "exception": null,
   "input_path": "../notebooks/paradox_interactive_national.ipynb",
   "output_path": "../notebooks/paradox_interactive_national.ipynb",
   "parameters": {},
   "start_time": "2024-08-03T16:00:23.843471",
   "version": "2.5.0"
  }
 },
 "nbformat": 4,
 "nbformat_minor": 5
}
