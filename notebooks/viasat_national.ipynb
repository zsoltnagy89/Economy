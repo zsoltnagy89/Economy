{
 "cells": [
  {
   "cell_type": "code",
   "execution_count": null,
   "id": "c5ab1b42",
   "metadata": {
    "execution": {
     "iopub.execute_input": "2024-08-03T15:51:48.165038Z",
     "iopub.status.busy": "2024-08-03T15:51:48.164751Z",
     "iopub.status.idle": "2024-08-03T15:51:48.980209Z",
     "shell.execute_reply": "2024-08-03T15:51:48.979938Z"
    },
    "papermill": {
     "duration": 0.919715,
     "end_time": "2024-08-03T15:51:48.981444",
     "exception": false,
     "start_time": "2024-08-03T15:51:48.061729",
     "status": "completed"
    },
    "tags": []
   },
   "outputs": [],
   "source": [
    "import pandas as pd\n",
    "import matplotlib.pyplot as plt\n",
    "import numpy as np\n",
    "\n",
    "import yfinance as yf\n",
    "import datetime\n",
    "\n",
    "from valueinvesting import utils as utils"
   ]
  },
  {
   "cell_type": "markdown",
   "id": "dac39b25",
   "metadata": {
    "papermill": {
     "duration": 0.005682,
     "end_time": "2024-08-03T15:51:48.992768",
     "exception": false,
     "start_time": "2024-08-03T15:51:48.987086",
     "status": "completed"
    },
    "tags": []
   },
   "source": [
    "# 1. Load raw input\n",
    "## Hardcoded block"
   ]
  },
  {
   "cell_type": "code",
   "execution_count": null,
   "id": "341963ff",
   "metadata": {
    "execution": {
     "iopub.execute_input": "2024-08-03T15:51:49.004318Z",
     "iopub.status.busy": "2024-08-03T15:51:49.004153Z",
     "iopub.status.idle": "2024-08-03T15:51:49.005956Z",
     "shell.execute_reply": "2024-08-03T15:51:49.005720Z"
    },
    "papermill": {
     "duration": 0.009057,
     "end_time": "2024-08-03T15:51:49.006760",
     "exception": false,
     "start_time": "2024-08-03T15:51:48.997703",
     "status": "completed"
    },
    "tags": []
   },
   "outputs": [],
   "source": [
    "evaluate_last_X_years = True\n",
    "X=10\n",
    "currency_pair = 'USD=X'\n",
    "numbers_in_currency = 'USD'\n",
    "share_name = 'VSAT'"
   ]
  },
  {
   "cell_type": "markdown",
   "id": "974dece3",
   "metadata": {
    "papermill": {
     "duration": 0.005027,
     "end_time": "2024-08-03T15:51:49.016660",
     "exception": false,
     "start_time": "2024-08-03T15:51:49.011633",
     "status": "completed"
    },
    "tags": []
   },
   "source": [
    "# 1.1 Calculate Share numbers from total distributed dividend (CFS) and dividend amount"
   ]
  },
  {
   "cell_type": "markdown",
   "id": "18eab2fd",
   "metadata": {
    "papermill": {
     "duration": 0.005233,
     "end_time": "2024-08-03T15:51:49.026353",
     "exception": false,
     "start_time": "2024-08-03T15:51:49.021120",
     "status": "completed"
    },
    "tags": []
   },
   "source": [
    "# 1.2. Raw input statement data"
   ]
  },
  {
   "cell_type": "code",
   "execution_count": null,
   "id": "587e902f",
   "metadata": {
    "execution": {
     "iopub.execute_input": "2024-08-03T15:51:49.036878Z",
     "iopub.status.busy": "2024-08-03T15:51:49.036740Z",
     "iopub.status.idle": "2024-08-03T15:51:49.046108Z",
     "shell.execute_reply": "2024-08-03T15:51:49.045860Z"
    },
    "papermill": {
     "duration": 0.015911,
     "end_time": "2024-08-03T15:51:49.047136",
     "exception": false,
     "start_time": "2024-08-03T15:51:49.031225",
     "status": "completed"
    },
    "tags": []
   },
   "outputs": [],
   "source": [
    "route = f\"../data/input/{share_name}_data.csv\"\n",
    "data = pd.read_csv(route, sep=';', parse_dates=['date', 'real_date'])\n",
    "# replace -, extend missing 0-s, fix datatype\n",
    "data = utils.replace_format_input(data)"
   ]
  },
  {
   "cell_type": "code",
   "execution_count": null,
   "id": "e9acd6d5",
   "metadata": {
    "execution": {
     "iopub.execute_input": "2024-08-03T15:51:49.057461Z",
     "iopub.status.busy": "2024-08-03T15:51:49.057345Z",
     "iopub.status.idle": "2024-08-03T15:51:49.060998Z",
     "shell.execute_reply": "2024-08-03T15:51:49.060739Z"
    },
    "papermill": {
     "duration": 0.009587,
     "end_time": "2024-08-03T15:51:49.061815",
     "exception": false,
     "start_time": "2024-08-03T15:51:49.052228",
     "status": "completed"
    },
    "tags": []
   },
   "outputs": [],
   "source": [
    "owned_shares = pd.read_csv('../data/extras/owned_stocks.csv', sep=';', parse_dates=['date'])\n",
    "owned_shares = owned_shares.loc[(owned_shares['stock'] == share_name) & (owned_shares['active'] == 'yes')]"
   ]
  },
  {
   "cell_type": "markdown",
   "id": "202b99e9",
   "metadata": {
    "papermill": {
     "duration": 0.004665,
     "end_time": "2024-08-03T15:51:49.072488",
     "exception": false,
     "start_time": "2024-08-03T15:51:49.067823",
     "status": "completed"
    },
    "tags": []
   },
   "source": [
    "## (OPTIONAL) Time Filtering - Last 7 years daat"
   ]
  },
  {
   "cell_type": "code",
   "execution_count": null,
   "id": "c428adc3",
   "metadata": {
    "execution": {
     "iopub.execute_input": "2024-08-03T15:51:49.095020Z",
     "iopub.status.busy": "2024-08-03T15:51:49.094876Z",
     "iopub.status.idle": "2024-08-03T15:51:49.106805Z",
     "shell.execute_reply": "2024-08-03T15:51:49.106467Z"
    },
    "papermill": {
     "duration": 0.019537,
     "end_time": "2024-08-03T15:51:49.108048",
     "exception": false,
     "start_time": "2024-08-03T15:51:49.088511",
     "status": "completed"
    },
    "tags": []
   },
   "outputs": [],
   "source": [
    "if evaluate_last_X_years:\n",
    "    data = data[data['date'] > datetime.datetime.today() - datetime.timedelta(days=X*366+93)]\n",
    "    data = data.reset_index(drop=True)\n",
    "\n",
    "data.head()"
   ]
  },
  {
   "cell_type": "markdown",
   "id": "4d048e93",
   "metadata": {
    "papermill": {
     "duration": 0.020874,
     "end_time": "2024-08-03T15:51:49.135599",
     "exception": false,
     "start_time": "2024-08-03T15:51:49.114725",
     "status": "completed"
    },
    "tags": []
   },
   "source": [
    "## Calculate date when quaterly reports could be available"
   ]
  },
  {
   "cell_type": "code",
   "execution_count": null,
   "id": "e6cb37e1",
   "metadata": {
    "execution": {
     "iopub.execute_input": "2024-08-03T15:51:49.256420Z",
     "iopub.status.busy": "2024-08-03T15:51:49.256261Z",
     "iopub.status.idle": "2024-08-03T15:51:49.258971Z",
     "shell.execute_reply": "2024-08-03T15:51:49.257945Z"
    },
    "papermill": {
     "duration": 0.050466,
     "end_time": "2024-08-03T15:51:49.261658",
     "exception": false,
     "start_time": "2024-08-03T15:51:49.211192",
     "status": "completed"
    },
    "tags": []
   },
   "outputs": [],
   "source": [
    "data = utils.calculate_real_date(data)"
   ]
  },
  {
   "cell_type": "markdown",
   "id": "f267d88c",
   "metadata": {
    "papermill": {
     "duration": 0.007016,
     "end_time": "2024-08-03T15:51:49.282049",
     "exception": false,
     "start_time": "2024-08-03T15:51:49.275033",
     "status": "completed"
    },
    "tags": []
   },
   "source": [
    "# 2. Filter out unnecesary columns"
   ]
  },
  {
   "cell_type": "code",
   "execution_count": null,
   "id": "111f7cb9",
   "metadata": {
    "execution": {
     "iopub.execute_input": "2024-08-03T15:51:49.292646Z",
     "iopub.status.busy": "2024-08-03T15:51:49.292527Z",
     "iopub.status.idle": "2024-08-03T15:51:49.299554Z",
     "shell.execute_reply": "2024-08-03T15:51:49.299274Z"
    },
    "papermill": {
     "duration": 0.013411,
     "end_time": "2024-08-03T15:51:49.300637",
     "exception": false,
     "start_time": "2024-08-03T15:51:49.287226",
     "status": "completed"
    },
    "tags": []
   },
   "outputs": [],
   "source": [
    "data = utils.filter_raw_data(data)\n",
    "data.tail()"
   ]
  },
  {
   "cell_type": "markdown",
   "id": "c9e08424",
   "metadata": {
    "papermill": {
     "duration": 0.006063,
     "end_time": "2024-08-03T15:51:49.313677",
     "exception": false,
     "start_time": "2024-08-03T15:51:49.307614",
     "status": "completed"
    },
    "tags": []
   },
   "source": [
    "## Pull historical average USD national currency rates and add to the dataframe"
   ]
  },
  {
   "cell_type": "code",
   "execution_count": null,
   "id": "6b0a39fc",
   "metadata": {
    "execution": {
     "iopub.execute_input": "2024-08-03T15:51:49.324773Z",
     "iopub.status.busy": "2024-08-03T15:51:49.324642Z",
     "iopub.status.idle": "2024-08-03T15:51:49.330790Z",
     "shell.execute_reply": "2024-08-03T15:51:49.330534Z"
    },
    "papermill": {
     "duration": 0.012662,
     "end_time": "2024-08-03T15:51:49.331857",
     "exception": false,
     "start_time": "2024-08-03T15:51:49.319195",
     "status": "completed"
    },
    "tags": []
   },
   "outputs": [],
   "source": [
    "if currency_pair != 'USD=X':\n",
    "    data['usd_nat_currency'] = utils.daily_price(\n",
    "        ticker=currency_pair,\n",
    "        end=data['date'],\n",
    "        days_earlier=90\n",
    "        )\n",
    "else:\n",
    "    data['usd_nat_currency'] = [1 for x in range(len(data))]\n",
    "\n",
    "# drop rows, when USD rates wasn't available\n",
    "data = data[data['usd_nat_currency'].notna()]\n",
    "\n",
    "data.tail()"
   ]
  },
  {
   "cell_type": "markdown",
   "id": "bab6b7f2",
   "metadata": {
    "papermill": {
     "duration": 0.004903,
     "end_time": "2024-08-03T15:51:49.342217",
     "exception": false,
     "start_time": "2024-08-03T15:51:49.337314",
     "status": "completed"
    },
    "tags": []
   },
   "source": [
    "## Convert USD values related to IS, BS, CFS to national currency"
   ]
  },
  {
   "cell_type": "code",
   "execution_count": null,
   "id": "e96f4e69",
   "metadata": {
    "execution": {
     "iopub.execute_input": "2024-08-03T15:51:49.352855Z",
     "iopub.status.busy": "2024-08-03T15:51:49.352724Z",
     "iopub.status.idle": "2024-08-03T15:51:49.363490Z",
     "shell.execute_reply": "2024-08-03T15:51:49.363279Z"
    },
    "papermill": {
     "duration": 0.017514,
     "end_time": "2024-08-03T15:51:49.364434",
     "exception": false,
     "start_time": "2024-08-03T15:51:49.346920",
     "status": "completed"
    },
    "tags": []
   },
   "outputs": [],
   "source": [
    "# convert columns into national currency if necessary\n",
    "if numbers_in_currency == 'USD':\n",
    "    data_nat_curr = utils.convert_national_currency(input_data=data, currency=data)\n",
    "else:\n",
    "    data_nat_curr = data.copy()\n",
    "data_nat_curr.tail()"
   ]
  },
  {
   "cell_type": "markdown",
   "id": "9032cb94",
   "metadata": {
    "papermill": {
     "duration": 0.004998,
     "end_time": "2024-08-03T15:51:49.375680",
     "exception": false,
     "start_time": "2024-08-03T15:51:49.370682",
     "status": "completed"
    },
    "tags": []
   },
   "source": [
    "# 3. Calculate input to Value Raios (eps, bv per share, fcf)\n",
    "## filter out unwanted columns"
   ]
  },
  {
   "cell_type": "code",
   "execution_count": null,
   "id": "37461284",
   "metadata": {
    "execution": {
     "iopub.execute_input": "2024-08-03T15:51:49.386776Z",
     "iopub.status.busy": "2024-08-03T15:51:49.386647Z",
     "iopub.status.idle": "2024-08-03T15:51:49.390299Z",
     "shell.execute_reply": "2024-08-03T15:51:49.389942Z"
    },
    "papermill": {
     "duration": 0.010373,
     "end_time": "2024-08-03T15:51:49.391144",
     "exception": false,
     "start_time": "2024-08-03T15:51:49.380771",
     "status": "completed"
    },
    "tags": []
   },
   "outputs": [],
   "source": [
    "filtered_nat_curr = utils.calculate_input_value_ratios(data_nat_curr)"
   ]
  },
  {
   "cell_type": "markdown",
   "id": "6eb4a14b",
   "metadata": {
    "papermill": {
     "duration": 0.007395,
     "end_time": "2024-08-03T15:51:49.404658",
     "exception": false,
     "start_time": "2024-08-03T15:51:49.397263",
     "status": "completed"
    },
    "tags": []
   },
   "source": [
    "## Calculate input values to value ratios"
   ]
  },
  {
   "cell_type": "code",
   "execution_count": null,
   "id": "338a96d1",
   "metadata": {
    "execution": {
     "iopub.execute_input": "2024-08-03T15:51:49.430746Z",
     "iopub.status.busy": "2024-08-03T15:51:49.430618Z",
     "iopub.status.idle": "2024-08-03T15:51:49.433127Z",
     "shell.execute_reply": "2024-08-03T15:51:49.432752Z"
    },
    "papermill": {
     "duration": 0.011169,
     "end_time": "2024-08-03T15:51:49.434061",
     "exception": false,
     "start_time": "2024-08-03T15:51:49.422892",
     "status": "completed"
    },
    "tags": []
   },
   "outputs": [],
   "source": [
    "ratios_nat_curr = utils.ratios_input_filter(filtered_nat_curr)"
   ]
  },
  {
   "cell_type": "markdown",
   "id": "7cab5532",
   "metadata": {
    "papermill": {
     "duration": 0.005543,
     "end_time": "2024-08-03T15:51:49.445649",
     "exception": false,
     "start_time": "2024-08-03T15:51:49.440106",
     "status": "completed"
    },
    "tags": []
   },
   "source": [
    "## Calculate performance parameters (current ratio, ROA, ROE, margins, D/E)"
   ]
  },
  {
   "cell_type": "code",
   "execution_count": null,
   "id": "d3d6d12e",
   "metadata": {
    "execution": {
     "iopub.execute_input": "2024-08-03T15:51:49.462063Z",
     "iopub.status.busy": "2024-08-03T15:51:49.461894Z",
     "iopub.status.idle": "2024-08-03T15:51:49.468844Z",
     "shell.execute_reply": "2024-08-03T15:51:49.468551Z"
    },
    "papermill": {
     "duration": 0.015548,
     "end_time": "2024-08-03T15:51:49.469824",
     "exception": false,
     "start_time": "2024-08-03T15:51:49.454276",
     "status": "completed"
    },
    "tags": []
   },
   "outputs": [],
   "source": [
    "ratios_nat_curr = utils.evaluate_performance(input=filtered_nat_curr, output=ratios_nat_curr)"
   ]
  },
  {
   "cell_type": "markdown",
   "id": "27c621f8",
   "metadata": {
    "papermill": {
     "duration": 0.005238,
     "end_time": "2024-08-03T15:51:49.480923",
     "exception": false,
     "start_time": "2024-08-03T15:51:49.475685",
     "status": "completed"
    },
    "tags": []
   },
   "source": [
    "# 4. Pull historical share prices and merge with sattement data"
   ]
  },
  {
   "cell_type": "code",
   "execution_count": null,
   "id": "d35434ab",
   "metadata": {
    "execution": {
     "iopub.execute_input": "2024-08-03T15:51:49.494905Z",
     "iopub.status.busy": "2024-08-03T15:51:49.494768Z",
     "iopub.status.idle": "2024-08-03T15:51:49.875477Z",
     "shell.execute_reply": "2024-08-03T15:51:49.875197Z"
    },
    "papermill": {
     "duration": 0.38797,
     "end_time": "2024-08-03T15:51:49.876427",
     "exception": false,
     "start_time": "2024-08-03T15:51:49.488457",
     "status": "completed"
    },
    "tags": []
   },
   "outputs": [],
   "source": [
    "# pull weekly share prices and merge with the value ratios\n",
    "merged_nat_curr = utils.add_share_prices_to_value_ratios(share_name, data, ratios_nat_curr)\n",
    "merged_nat_curr.head()"
   ]
  },
  {
   "cell_type": "markdown",
   "id": "8122eecc",
   "metadata": {
    "papermill": {
     "duration": 0.006981,
     "end_time": "2024-08-03T15:51:49.890229",
     "exception": false,
     "start_time": "2024-08-03T15:51:49.883248",
     "status": "completed"
    },
    "tags": []
   },
   "source": [
    "# Calculate price ratios (P/E, P/B, P/S, P/FCF)"
   ]
  },
  {
   "cell_type": "code",
   "execution_count": null,
   "id": "ddb8a181",
   "metadata": {
    "execution": {
     "iopub.execute_input": "2024-08-03T15:51:49.904375Z",
     "iopub.status.busy": "2024-08-03T15:51:49.904167Z",
     "iopub.status.idle": "2024-08-03T15:51:49.913465Z",
     "shell.execute_reply": "2024-08-03T15:51:49.913172Z"
    },
    "papermill": {
     "duration": 0.019483,
     "end_time": "2024-08-03T15:51:49.915067",
     "exception": false,
     "start_time": "2024-08-03T15:51:49.895584",
     "status": "completed"
    },
    "tags": []
   },
   "outputs": [],
   "source": [
    "merged_nat_curr = utils.price_ratios(merged_nat_curr)\n",
    "merged_nat_curr.head()"
   ]
  },
  {
   "cell_type": "markdown",
   "id": "6fe962b2",
   "metadata": {
    "papermill": {
     "duration": 0.006524,
     "end_time": "2024-08-03T15:51:49.929648",
     "exception": false,
     "start_time": "2024-08-03T15:51:49.923124",
     "status": "completed"
    },
    "tags": []
   },
   "source": [
    "# Calculate Dividend yield and currency-share price correlation"
   ]
  },
  {
   "cell_type": "code",
   "execution_count": null,
   "id": "5b23dcfa",
   "metadata": {
    "execution": {
     "iopub.execute_input": "2024-08-03T15:51:49.944272Z",
     "iopub.status.busy": "2024-08-03T15:51:49.944132Z",
     "iopub.status.idle": "2024-08-03T15:51:50.124933Z",
     "shell.execute_reply": "2024-08-03T15:51:50.124650Z"
    },
    "papermill": {
     "duration": 0.188543,
     "end_time": "2024-08-03T15:51:50.125955",
     "exception": false,
     "start_time": "2024-08-03T15:51:49.937412",
     "status": "completed"
    },
    "tags": []
   },
   "outputs": [],
   "source": [
    "# get daily historical USD-national currency rates\n",
    "usd_nat_curr = utils.get_historical_currency_rate(currency_pair, merged_nat_curr)"
   ]
  },
  {
   "cell_type": "code",
   "execution_count": null,
   "id": "2250e4db",
   "metadata": {
    "execution": {
     "iopub.execute_input": "2024-08-03T15:51:50.140283Z",
     "iopub.status.busy": "2024-08-03T15:51:50.140160Z",
     "iopub.status.idle": "2024-08-03T15:51:50.652830Z",
     "shell.execute_reply": "2024-08-03T15:51:50.652562Z"
    },
    "papermill": {
     "duration": 0.520728,
     "end_time": "2024-08-03T15:51:50.653758",
     "exception": false,
     "start_time": "2024-08-03T15:51:50.133030",
     "status": "completed"
    },
    "tags": []
   },
   "outputs": [],
   "source": [
    "# get share prices and dividend yield data\n",
    "ticker_all_price = utils.get_historical_share_dividend(share_name, merged_nat_curr)"
   ]
  },
  {
   "cell_type": "code",
   "execution_count": null,
   "id": "b9e0409e",
   "metadata": {
    "execution": {
     "iopub.execute_input": "2024-08-03T15:51:50.673687Z",
     "iopub.status.busy": "2024-08-03T15:51:50.673555Z",
     "iopub.status.idle": "2024-08-03T15:51:50.826416Z",
     "shell.execute_reply": "2024-08-03T15:51:50.826164Z"
    },
    "papermill": {
     "duration": 0.16353,
     "end_time": "2024-08-03T15:51:50.827291",
     "exception": false,
     "start_time": "2024-08-03T15:51:50.663761",
     "status": "completed"
    },
    "tags": []
   },
   "outputs": [],
   "source": [
    "# Pearson's correlation coefficient between share price and USD - national currency rate\n",
    "utils.get_currency_share_price_correlation(share_name, usd_nat_curr, ticker_all_price)"
   ]
  },
  {
   "cell_type": "markdown",
   "id": "f51114f8",
   "metadata": {
    "papermill": {
     "duration": 0.013561,
     "end_time": "2024-08-03T15:51:50.850883",
     "exception": false,
     "start_time": "2024-08-03T15:51:50.837322",
     "status": "completed"
    },
    "tags": []
   },
   "source": [
    "# Share price and value ratios"
   ]
  },
  {
   "cell_type": "code",
   "execution_count": null,
   "id": "76556777",
   "metadata": {
    "execution": {
     "iopub.execute_input": "2024-08-03T15:51:50.873478Z",
     "iopub.status.busy": "2024-08-03T15:51:50.873345Z",
     "iopub.status.idle": "2024-08-03T15:51:55.128686Z",
     "shell.execute_reply": "2024-08-03T15:51:55.128436Z"
    },
    "papermill": {
     "duration": 4.266855,
     "end_time": "2024-08-03T15:51:55.129774",
     "exception": false,
     "start_time": "2024-08-03T15:51:50.862919",
     "status": "completed"
    },
    "tags": []
   },
   "outputs": [],
   "source": [
    "for column in merged_nat_curr.columns[3:]:\n",
    "    fig, ax1 = plt.subplots(figsize=(15, 6))\n",
    "\n",
    "    ax2 = ax1.twinx()\n",
    "    ax1.plot(merged_nat_curr['real_date'], merged_nat_curr[column], color='k', label=merged_nat_curr)\n",
    "    ax2.plot(ticker_all_price.index, ticker_all_price['Close'], color='b', label=share_name)\n",
    "\n",
    "    ax1.set_xlabel('Date')\n",
    "    ax1.set_ylabel(column, color='k')\n",
    "    ax2.set_ylabel('Share price (national currency)', color='b')\n",
    "\n",
    "    plt.legend()\n",
    "    plt.show()"
   ]
  },
  {
   "cell_type": "code",
   "execution_count": null,
   "id": "c30285b5",
   "metadata": {
    "execution": {
     "iopub.execute_input": "2024-08-03T15:51:55.179485Z",
     "iopub.status.busy": "2024-08-03T15:51:55.179356Z",
     "iopub.status.idle": "2024-08-03T15:51:56.016271Z",
     "shell.execute_reply": "2024-08-03T15:51:56.016027Z"
    },
    "papermill": {
     "duration": 0.859671,
     "end_time": "2024-08-03T15:51:56.017091",
     "exception": false,
     "start_time": "2024-08-03T15:51:55.157420",
     "status": "completed"
    },
    "tags": []
   },
   "outputs": [],
   "source": [
    "# plot histograms of value parameters\n",
    "utils.plot_histogram_value_parameters(input_df=merged_nat_curr, extra_parameters=[], owned_shares=owned_shares)"
   ]
  },
  {
   "cell_type": "markdown",
   "id": "f892be74",
   "metadata": {
    "papermill": {
     "duration": 0.037145,
     "end_time": "2024-08-03T15:51:56.076593",
     "exception": false,
     "start_time": "2024-08-03T15:51:56.039448",
     "status": "completed"
    },
    "tags": []
   },
   "source": [
    "## Calculate correlation between value parameters"
   ]
  },
  {
   "cell_type": "code",
   "execution_count": null,
   "id": "86becbdc",
   "metadata": {
    "execution": {
     "iopub.execute_input": "2024-08-03T15:51:56.129113Z",
     "iopub.status.busy": "2024-08-03T15:51:56.128969Z",
     "iopub.status.idle": "2024-08-03T15:51:56.137007Z",
     "shell.execute_reply": "2024-08-03T15:51:56.136526Z"
    },
    "papermill": {
     "duration": 0.034853,
     "end_time": "2024-08-03T15:51:56.138277",
     "exception": false,
     "start_time": "2024-08-03T15:51:56.103424",
     "status": "completed"
    },
    "tags": []
   },
   "outputs": [],
   "source": [
    "# calulate value parameters Pearson's correlation coefficient\n",
    "pd.DataFrame(merged_nat_curr, columns=['roa', 'roe', 'pe_ratio', 'pb_ratio', 'ps_ratio', 'ev_revenue', 'debt_to_equity', 'current_ratio']).corr()"
   ]
  },
  {
   "cell_type": "code",
   "execution_count": null,
   "id": "cf1c7e23",
   "metadata": {},
   "outputs": [],
   "source": [
    "final_df = utils.get_value_stock_target_prices(\n",
    "    input_df=merged_nat_curr,\n",
    "    min_pct=0.2,\n",
    "    max_pct=0.5,\n",
    "    owned_shares=owned_shares\n",
    ")"
   ]
  }
 ],
 "metadata": {
  "kernelspec": {
   "display_name": ".venv",
   "language": "python",
   "name": "python3"
  },
  "language_info": {
   "codemirror_mode": {
    "name": "ipython",
    "version": 3
   },
   "file_extension": ".py",
   "mimetype": "text/x-python",
   "name": "python",
   "nbconvert_exporter": "python",
   "pygments_lexer": "ipython3",
   "version": "3.11.3"
  },
  "papermill": {
   "default_parameters": {},
   "duration": 9.656717,
   "end_time": "2024-08-03T15:51:56.567512",
   "environment_variables": {},
   "exception": null,
   "input_path": "../notebooks/viasat_national.ipynb",
   "output_path": "../notebooks/viasat_national.ipynb",
   "parameters": {},
   "start_time": "2024-08-03T15:51:46.910795",
   "version": "2.5.0"
  }
 },
 "nbformat": 4,
 "nbformat_minor": 5
}
