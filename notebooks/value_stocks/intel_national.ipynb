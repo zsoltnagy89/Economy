{
 "cells": [
  {
   "cell_type": "code",
   "execution_count": null,
   "id": "4cbcb60d",
   "metadata": {
    "execution": {
     "iopub.execute_input": "2024-08-03T15:58:13.734195Z",
     "iopub.status.busy": "2024-08-03T15:58:13.734015Z",
     "iopub.status.idle": "2024-08-03T15:58:14.478101Z",
     "shell.execute_reply": "2024-08-03T15:58:14.477843Z"
    },
    "papermill": {
     "duration": 0.753881,
     "end_time": "2024-08-03T15:58:14.479127",
     "exception": false,
     "start_time": "2024-08-03T15:58:13.725246",
     "status": "completed"
    },
    "tags": []
   },
   "outputs": [],
   "source": [
    "import pandas as pd\n",
    "import matplotlib.pyplot as plt\n",
    "import numpy as np\n",
    "\n",
    "import yfinance as yf\n",
    "import datetime\n",
    "\n",
    "from valueinvesting import utils as utils"
   ]
  },
  {
   "cell_type": "markdown",
   "id": "26d21654",
   "metadata": {
    "papermill": {
     "duration": 0.005157,
     "end_time": "2024-08-03T15:58:14.489995",
     "exception": false,
     "start_time": "2024-08-03T15:58:14.484838",
     "status": "completed"
    },
    "tags": []
   },
   "source": [
    "# 1. Load raw input\n",
    "## Hardcoded block"
   ]
  },
  {
   "cell_type": "code",
   "execution_count": null,
   "id": "82a2a9cd",
   "metadata": {
    "execution": {
     "iopub.execute_input": "2024-08-03T15:58:14.500629Z",
     "iopub.status.busy": "2024-08-03T15:58:14.500376Z",
     "iopub.status.idle": "2024-08-03T15:58:14.502298Z",
     "shell.execute_reply": "2024-08-03T15:58:14.502092Z"
    },
    "papermill": {
     "duration": 0.007864,
     "end_time": "2024-08-03T15:58:14.503040",
     "exception": false,
     "start_time": "2024-08-03T15:58:14.495176",
     "status": "completed"
    },
    "tags": []
   },
   "outputs": [],
   "source": [
    "evaluate_last_X_years = True\n",
    "X=10\n",
    "currency_pair = 'USD=X'\n",
    "numbers_in_currency = 'USD'\n",
    "share_name = 'INTC'"
   ]
  },
  {
   "cell_type": "markdown",
   "id": "95b57d71",
   "metadata": {
    "papermill": {
     "duration": 0.004926,
     "end_time": "2024-08-03T15:58:14.513396",
     "exception": false,
     "start_time": "2024-08-03T15:58:14.508470",
     "status": "completed"
    },
    "tags": []
   },
   "source": [
    "# 1.1 Calculate Share numbers from total distributed dividend (CFS) and dividend amount"
   ]
  },
  {
   "cell_type": "markdown",
   "id": "b87f76dd",
   "metadata": {
    "papermill": {
     "duration": 0.004955,
     "end_time": "2024-08-03T15:58:14.522892",
     "exception": false,
     "start_time": "2024-08-03T15:58:14.517937",
     "status": "completed"
    },
    "tags": []
   },
   "source": [
    "# 1.2. Raw input statement data"
   ]
  },
  {
   "cell_type": "code",
   "execution_count": null,
   "id": "78818016",
   "metadata": {
    "execution": {
     "iopub.execute_input": "2024-08-03T15:58:14.534467Z",
     "iopub.status.busy": "2024-08-03T15:58:14.534270Z",
     "iopub.status.idle": "2024-08-03T15:58:14.547469Z",
     "shell.execute_reply": "2024-08-03T15:58:14.547206Z"
    },
    "papermill": {
     "duration": 0.020345,
     "end_time": "2024-08-03T15:58:14.548530",
     "exception": false,
     "start_time": "2024-08-03T15:58:14.528185",
     "status": "completed"
    },
    "tags": []
   },
   "outputs": [],
   "source": [
    "route = f\"../data/input/{share_name}_data.csv\"\n",
    "data = pd.read_csv(route, sep=';', parse_dates=['date', 'real_date'])\n",
    "# replace -, extend missing 0-s, fix datatype\n",
    "data = utils.replace_format_input(data)"
   ]
  },
  {
   "cell_type": "code",
   "execution_count": null,
   "id": "1a609bc2",
   "metadata": {
    "execution": {
     "iopub.execute_input": "2024-08-03T15:58:14.561228Z",
     "iopub.status.busy": "2024-08-03T15:58:14.561094Z",
     "iopub.status.idle": "2024-08-03T15:58:14.565098Z",
     "shell.execute_reply": "2024-08-03T15:58:14.564817Z"
    },
    "papermill": {
     "duration": 0.011366,
     "end_time": "2024-08-03T15:58:14.566033",
     "exception": false,
     "start_time": "2024-08-03T15:58:14.554667",
     "status": "completed"
    },
    "tags": []
   },
   "outputs": [],
   "source": [
    "owned_shares = pd.read_csv('../data/extras/owned_stocks.csv', sep=';', parse_dates=['date'])\n",
    "owned_shares = owned_shares.loc[(owned_shares['stock'] == share_name) & (owned_shares['active'] == 'yes')]"
   ]
  },
  {
   "cell_type": "markdown",
   "id": "2552a2ad",
   "metadata": {
    "papermill": {
     "duration": 0.005372,
     "end_time": "2024-08-03T15:58:14.577278",
     "exception": false,
     "start_time": "2024-08-03T15:58:14.571906",
     "status": "completed"
    },
    "tags": []
   },
   "source": [
    "## (OPTIONAL) Time Filtering - Last 7 years daat"
   ]
  },
  {
   "cell_type": "code",
   "execution_count": null,
   "id": "6176f70a",
   "metadata": {
    "execution": {
     "iopub.execute_input": "2024-08-03T15:58:14.588870Z",
     "iopub.status.busy": "2024-08-03T15:58:14.588720Z",
     "iopub.status.idle": "2024-08-03T15:58:14.599316Z",
     "shell.execute_reply": "2024-08-03T15:58:14.598591Z"
    },
    "papermill": {
     "duration": 0.018834,
     "end_time": "2024-08-03T15:58:14.601093",
     "exception": false,
     "start_time": "2024-08-03T15:58:14.582259",
     "status": "completed"
    },
    "tags": []
   },
   "outputs": [],
   "source": [
    "if evaluate_last_X_years:\n",
    "    data = data[data['date'] > datetime.datetime.today() - datetime.timedelta(days=X*366+93)]\n",
    "    data = data.reset_index(drop=True)\n",
    "\n",
    "data.head()"
   ]
  },
  {
   "cell_type": "markdown",
   "id": "8f0fef82",
   "metadata": {
    "papermill": {
     "duration": 0.006714,
     "end_time": "2024-08-03T15:58:14.614088",
     "exception": false,
     "start_time": "2024-08-03T15:58:14.607374",
     "status": "completed"
    },
    "tags": []
   },
   "source": [
    "## Calculate date when quaterly reports could be available"
   ]
  },
  {
   "cell_type": "code",
   "execution_count": null,
   "id": "94f62519",
   "metadata": {
    "execution": {
     "iopub.execute_input": "2024-08-03T15:58:14.625906Z",
     "iopub.status.busy": "2024-08-03T15:58:14.625774Z",
     "iopub.status.idle": "2024-08-03T15:58:14.627743Z",
     "shell.execute_reply": "2024-08-03T15:58:14.627433Z"
    },
    "papermill": {
     "duration": 0.009295,
     "end_time": "2024-08-03T15:58:14.628595",
     "exception": false,
     "start_time": "2024-08-03T15:58:14.619300",
     "status": "completed"
    },
    "tags": []
   },
   "outputs": [],
   "source": [
    "data = utils.calculate_real_date(data)"
   ]
  },
  {
   "cell_type": "markdown",
   "id": "ebd8d0a9",
   "metadata": {
    "papermill": {
     "duration": 0.005283,
     "end_time": "2024-08-03T15:58:14.639145",
     "exception": false,
     "start_time": "2024-08-03T15:58:14.633862",
     "status": "completed"
    },
    "tags": []
   },
   "source": [
    "# 2. Filter out unnecesary columns"
   ]
  },
  {
   "cell_type": "code",
   "execution_count": null,
   "id": "264a9ea9",
   "metadata": {
    "execution": {
     "iopub.execute_input": "2024-08-03T15:58:14.651042Z",
     "iopub.status.busy": "2024-08-03T15:58:14.650817Z",
     "iopub.status.idle": "2024-08-03T15:58:14.657188Z",
     "shell.execute_reply": "2024-08-03T15:58:14.656950Z"
    },
    "papermill": {
     "duration": 0.013324,
     "end_time": "2024-08-03T15:58:14.658129",
     "exception": false,
     "start_time": "2024-08-03T15:58:14.644805",
     "status": "completed"
    },
    "tags": []
   },
   "outputs": [],
   "source": [
    "data = utils.filter_raw_data(data)\n",
    "data.tail()"
   ]
  },
  {
   "cell_type": "markdown",
   "id": "2abf0295",
   "metadata": {
    "papermill": {
     "duration": 0.005551,
     "end_time": "2024-08-03T15:58:14.669692",
     "exception": false,
     "start_time": "2024-08-03T15:58:14.664141",
     "status": "completed"
    },
    "tags": []
   },
   "source": [
    "## Pull historical average USD national currency rates and add to the dataframe"
   ]
  },
  {
   "cell_type": "code",
   "execution_count": null,
   "id": "c04caccc",
   "metadata": {
    "execution": {
     "iopub.execute_input": "2024-08-03T15:58:14.681845Z",
     "iopub.status.busy": "2024-08-03T15:58:14.681713Z",
     "iopub.status.idle": "2024-08-03T15:58:14.688502Z",
     "shell.execute_reply": "2024-08-03T15:58:14.688210Z"
    },
    "papermill": {
     "duration": 0.013819,
     "end_time": "2024-08-03T15:58:14.689332",
     "exception": false,
     "start_time": "2024-08-03T15:58:14.675513",
     "status": "completed"
    },
    "tags": []
   },
   "outputs": [],
   "source": [
    "if currency_pair != 'USD=X':\n",
    "    data['usd_nat_currency'] = utils.daily_price(\n",
    "        ticker=currency_pair,\n",
    "        end=data['date'],\n",
    "        days_earlier=90\n",
    "        )\n",
    "else:\n",
    "    data['usd_nat_currency'] = [1 for x in range(len(data))]\n",
    "\n",
    "# drop rows, when USD rates wasn't available\n",
    "data = data[data['usd_nat_currency'].notna()]\n",
    "\n",
    "data.tail()"
   ]
  },
  {
   "cell_type": "markdown",
   "id": "1ea97372",
   "metadata": {
    "papermill": {
     "duration": 0.005748,
     "end_time": "2024-08-03T15:58:14.701239",
     "exception": false,
     "start_time": "2024-08-03T15:58:14.695491",
     "status": "completed"
    },
    "tags": []
   },
   "source": [
    "## Convert USD values related to IS, BS, CFS to national currency"
   ]
  },
  {
   "cell_type": "code",
   "execution_count": null,
   "id": "deac7fe7",
   "metadata": {
    "execution": {
     "iopub.execute_input": "2024-08-03T15:58:14.716604Z",
     "iopub.status.busy": "2024-08-03T15:58:14.716445Z",
     "iopub.status.idle": "2024-08-03T15:58:14.728712Z",
     "shell.execute_reply": "2024-08-03T15:58:14.728461Z"
    },
    "papermill": {
     "duration": 0.021742,
     "end_time": "2024-08-03T15:58:14.729590",
     "exception": false,
     "start_time": "2024-08-03T15:58:14.707848",
     "status": "completed"
    },
    "tags": []
   },
   "outputs": [],
   "source": [
    "# convert columns into national currency if necessary\n",
    "if numbers_in_currency == 'USD':\n",
    "    data_nat_curr = utils.convert_national_currency(input_data=data, currency=data)\n",
    "else:\n",
    "    data_nat_curr = data.copy()\n",
    "data_nat_curr.tail()"
   ]
  },
  {
   "cell_type": "markdown",
   "id": "35b89369",
   "metadata": {
    "papermill": {
     "duration": 0.005668,
     "end_time": "2024-08-03T15:58:14.741226",
     "exception": false,
     "start_time": "2024-08-03T15:58:14.735558",
     "status": "completed"
    },
    "tags": []
   },
   "source": [
    "# 3. Calculate input to Value Raios (eps, bv per share, fcf)\n",
    "## filter out unwanted columns"
   ]
  },
  {
   "cell_type": "code",
   "execution_count": null,
   "id": "016ae737",
   "metadata": {
    "execution": {
     "iopub.execute_input": "2024-08-03T15:58:14.753350Z",
     "iopub.status.busy": "2024-08-03T15:58:14.753209Z",
     "iopub.status.idle": "2024-08-03T15:58:14.756657Z",
     "shell.execute_reply": "2024-08-03T15:58:14.756320Z"
    },
    "papermill": {
     "duration": 0.011102,
     "end_time": "2024-08-03T15:58:14.757649",
     "exception": false,
     "start_time": "2024-08-03T15:58:14.746547",
     "status": "completed"
    },
    "tags": []
   },
   "outputs": [],
   "source": [
    "filtered_nat_curr = utils.calculate_input_value_ratios(data_nat_curr)"
   ]
  },
  {
   "cell_type": "markdown",
   "id": "e57fd37a",
   "metadata": {
    "papermill": {
     "duration": 0.005818,
     "end_time": "2024-08-03T15:58:14.769824",
     "exception": false,
     "start_time": "2024-08-03T15:58:14.764006",
     "status": "completed"
    },
    "tags": []
   },
   "source": [
    "## Calculate input values to value ratios"
   ]
  },
  {
   "cell_type": "code",
   "execution_count": null,
   "id": "8d6ffca3",
   "metadata": {
    "execution": {
     "iopub.execute_input": "2024-08-03T15:58:14.782411Z",
     "iopub.status.busy": "2024-08-03T15:58:14.782193Z",
     "iopub.status.idle": "2024-08-03T15:58:14.784826Z",
     "shell.execute_reply": "2024-08-03T15:58:14.784542Z"
    },
    "papermill": {
     "duration": 0.010027,
     "end_time": "2024-08-03T15:58:14.785669",
     "exception": false,
     "start_time": "2024-08-03T15:58:14.775642",
     "status": "completed"
    },
    "tags": []
   },
   "outputs": [],
   "source": [
    "ratios_nat_curr = utils.ratios_input_filter(filtered_nat_curr)"
   ]
  },
  {
   "cell_type": "markdown",
   "id": "ecd5d98b",
   "metadata": {
    "papermill": {
     "duration": 0.006293,
     "end_time": "2024-08-03T15:58:14.798136",
     "exception": false,
     "start_time": "2024-08-03T15:58:14.791843",
     "status": "completed"
    },
    "tags": []
   },
   "source": [
    "## Calculate performance parameters (current ratio, ROA, ROE, margins, D/E)"
   ]
  },
  {
   "cell_type": "code",
   "execution_count": null,
   "id": "4344c506",
   "metadata": {
    "execution": {
     "iopub.execute_input": "2024-08-03T15:58:14.811050Z",
     "iopub.status.busy": "2024-08-03T15:58:14.810920Z",
     "iopub.status.idle": "2024-08-03T15:58:14.817196Z",
     "shell.execute_reply": "2024-08-03T15:58:14.816949Z"
    },
    "papermill": {
     "duration": 0.014027,
     "end_time": "2024-08-03T15:58:14.817986",
     "exception": false,
     "start_time": "2024-08-03T15:58:14.803959",
     "status": "completed"
    },
    "tags": []
   },
   "outputs": [],
   "source": [
    "ratios_nat_curr = utils.evaluate_performance(input=filtered_nat_curr, output=ratios_nat_curr)"
   ]
  },
  {
   "cell_type": "markdown",
   "id": "c2aba28c",
   "metadata": {
    "papermill": {
     "duration": 0.006978,
     "end_time": "2024-08-03T15:58:14.831748",
     "exception": false,
     "start_time": "2024-08-03T15:58:14.824770",
     "status": "completed"
    },
    "tags": []
   },
   "source": [
    "# 4. Pull historical share prices and merge with sattement data"
   ]
  },
  {
   "cell_type": "code",
   "execution_count": null,
   "id": "cb3c9c59",
   "metadata": {
    "execution": {
     "iopub.execute_input": "2024-08-03T15:58:14.844547Z",
     "iopub.status.busy": "2024-08-03T15:58:14.844325Z",
     "iopub.status.idle": "2024-08-03T15:58:15.321819Z",
     "shell.execute_reply": "2024-08-03T15:58:15.321214Z"
    },
    "papermill": {
     "duration": 0.485863,
     "end_time": "2024-08-03T15:58:15.323194",
     "exception": false,
     "start_time": "2024-08-03T15:58:14.837331",
     "status": "completed"
    },
    "tags": []
   },
   "outputs": [],
   "source": [
    "# pull weekly share prices and merge with the value ratios\n",
    "merged_nat_curr = utils.add_share_prices_to_value_ratios(share_name, data, ratios_nat_curr)\n",
    "merged_nat_curr.head()"
   ]
  },
  {
   "cell_type": "markdown",
   "id": "61f609c6",
   "metadata": {
    "papermill": {
     "duration": 0.012299,
     "end_time": "2024-08-03T15:58:15.346947",
     "exception": false,
     "start_time": "2024-08-03T15:58:15.334648",
     "status": "completed"
    },
    "tags": []
   },
   "source": [
    "# Calculate price ratios (P/E, P/B, P/S, P/FCF)"
   ]
  },
  {
   "cell_type": "code",
   "execution_count": null,
   "id": "807e79a8",
   "metadata": {
    "execution": {
     "iopub.execute_input": "2024-08-03T15:58:15.374444Z",
     "iopub.status.busy": "2024-08-03T15:58:15.374283Z",
     "iopub.status.idle": "2024-08-03T15:58:15.383730Z",
     "shell.execute_reply": "2024-08-03T15:58:15.383464Z"
    },
    "papermill": {
     "duration": 0.024761,
     "end_time": "2024-08-03T15:58:15.384639",
     "exception": false,
     "start_time": "2024-08-03T15:58:15.359878",
     "status": "completed"
    },
    "tags": []
   },
   "outputs": [],
   "source": [
    "merged_nat_curr = utils.price_ratios(merged_nat_curr)\n",
    "merged_nat_curr.head()"
   ]
  },
  {
   "cell_type": "markdown",
   "id": "bb94f97f",
   "metadata": {
    "papermill": {
     "duration": 0.012803,
     "end_time": "2024-08-03T15:58:15.408719",
     "exception": false,
     "start_time": "2024-08-03T15:58:15.395916",
     "status": "completed"
    },
    "tags": []
   },
   "source": [
    "# Calculate Dividend yield and currency-share price correlation"
   ]
  },
  {
   "cell_type": "code",
   "execution_count": null,
   "id": "fb05716c",
   "metadata": {
    "execution": {
     "iopub.execute_input": "2024-08-03T15:58:15.432974Z",
     "iopub.status.busy": "2024-08-03T15:58:15.432822Z",
     "iopub.status.idle": "2024-08-03T15:58:15.615545Z",
     "shell.execute_reply": "2024-08-03T15:58:15.615088Z"
    },
    "papermill": {
     "duration": 0.19617,
     "end_time": "2024-08-03T15:58:15.617052",
     "exception": false,
     "start_time": "2024-08-03T15:58:15.420882",
     "status": "completed"
    },
    "tags": []
   },
   "outputs": [],
   "source": [
    "# get daily historical USD-national currency rates\n",
    "usd_nat_curr = utils.get_historical_currency_rate(currency_pair, merged_nat_curr)"
   ]
  },
  {
   "cell_type": "code",
   "execution_count": null,
   "id": "1148e9dc",
   "metadata": {
    "execution": {
     "iopub.execute_input": "2024-08-03T15:58:15.650975Z",
     "iopub.status.busy": "2024-08-03T15:58:15.650796Z",
     "iopub.status.idle": "2024-08-03T15:58:16.108717Z",
     "shell.execute_reply": "2024-08-03T15:58:16.107852Z"
    },
    "papermill": {
     "duration": 0.478352,
     "end_time": "2024-08-03T15:58:16.111436",
     "exception": false,
     "start_time": "2024-08-03T15:58:15.633084",
     "status": "completed"
    },
    "tags": []
   },
   "outputs": [],
   "source": [
    "# get share prices and dividend yield data\n",
    "ticker_all_price = utils.get_historical_share_dividend(share_name, merged_nat_curr)"
   ]
  },
  {
   "cell_type": "code",
   "execution_count": null,
   "id": "52a4e002",
   "metadata": {
    "execution": {
     "iopub.execute_input": "2024-08-03T15:58:16.139402Z",
     "iopub.status.busy": "2024-08-03T15:58:16.138957Z",
     "iopub.status.idle": "2024-08-03T15:58:16.277994Z",
     "shell.execute_reply": "2024-08-03T15:58:16.277717Z"
    },
    "papermill": {
     "duration": 0.152845,
     "end_time": "2024-08-03T15:58:16.279508",
     "exception": false,
     "start_time": "2024-08-03T15:58:16.126663",
     "status": "completed"
    },
    "tags": []
   },
   "outputs": [],
   "source": [
    "# Pearson's correlation coefficient between share price and USD - national currency rate\n",
    "utils.get_currency_share_price_correlation(share_name, usd_nat_curr, ticker_all_price)"
   ]
  },
  {
   "cell_type": "markdown",
   "id": "7798fe1f",
   "metadata": {
    "papermill": {
     "duration": 0.010562,
     "end_time": "2024-08-03T15:58:16.300854",
     "exception": false,
     "start_time": "2024-08-03T15:58:16.290292",
     "status": "completed"
    },
    "tags": []
   },
   "source": [
    "# Share price and value ratios"
   ]
  },
  {
   "cell_type": "code",
   "execution_count": null,
   "id": "0d071c7f",
   "metadata": {
    "execution": {
     "iopub.execute_input": "2024-08-03T15:58:16.315282Z",
     "iopub.status.busy": "2024-08-03T15:58:16.315156Z",
     "iopub.status.idle": "2024-08-03T15:58:20.172631Z",
     "shell.execute_reply": "2024-08-03T15:58:20.172352Z"
    },
    "papermill": {
     "duration": 3.865021,
     "end_time": "2024-08-03T15:58:20.173656",
     "exception": false,
     "start_time": "2024-08-03T15:58:16.308635",
     "status": "completed"
    },
    "tags": []
   },
   "outputs": [],
   "source": [
    "for column in merged_nat_curr.columns[3:]:\n",
    "    fig, ax1 = plt.subplots(figsize=(15, 6))\n",
    "\n",
    "    ax2 = ax1.twinx()\n",
    "    ax1.plot(merged_nat_curr['real_date'], merged_nat_curr[column], color='k', label=merged_nat_curr)\n",
    "    ax2.plot(ticker_all_price.index, ticker_all_price['Close'], color='b', label=share_name)\n",
    "\n",
    "    ax1.set_xlabel('Date')\n",
    "    ax1.set_ylabel(column, color='k')\n",
    "    ax2.set_ylabel('Share price (national currency)', color='b')\n",
    "\n",
    "    plt.legend()\n",
    "    plt.show()"
   ]
  },
  {
   "cell_type": "code",
   "execution_count": null,
   "id": "c98e1d89",
   "metadata": {
    "execution": {
     "iopub.execute_input": "2024-08-03T15:58:20.229262Z",
     "iopub.status.busy": "2024-08-03T15:58:20.229123Z",
     "iopub.status.idle": "2024-08-03T15:58:21.185493Z",
     "shell.execute_reply": "2024-08-03T15:58:21.185176Z"
    },
    "papermill": {
     "duration": 0.980446,
     "end_time": "2024-08-03T15:58:21.186668",
     "exception": false,
     "start_time": "2024-08-03T15:58:20.206222",
     "status": "completed"
    },
    "tags": []
   },
   "outputs": [],
   "source": [
    "# plot histograms of value parameters\n",
    "utils.plot_histogram_value_parameters(input_df=merged_nat_curr, extra_parameters=[], owned_shares=owned_shares)"
   ]
  },
  {
   "cell_type": "markdown",
   "id": "2489e66c",
   "metadata": {
    "papermill": {
     "duration": 0.0233,
     "end_time": "2024-08-03T15:58:21.231163",
     "exception": false,
     "start_time": "2024-08-03T15:58:21.207863",
     "status": "completed"
    },
    "tags": []
   },
   "source": [
    "## Calculate correlation between value parameters"
   ]
  },
  {
   "cell_type": "code",
   "execution_count": null,
   "id": "c5255243",
   "metadata": {
    "execution": {
     "iopub.execute_input": "2024-08-03T15:58:21.271927Z",
     "iopub.status.busy": "2024-08-03T15:58:21.271791Z",
     "iopub.status.idle": "2024-08-03T15:58:21.277250Z",
     "shell.execute_reply": "2024-08-03T15:58:21.277014Z"
    },
    "papermill": {
     "duration": 0.026087,
     "end_time": "2024-08-03T15:58:21.278121",
     "exception": false,
     "start_time": "2024-08-03T15:58:21.252034",
     "status": "completed"
    },
    "tags": []
   },
   "outputs": [],
   "source": [
    "# calulate value parameters Pearson's correlation coefficient\n",
    "pd.DataFrame(merged_nat_curr, columns=['roa', 'roe', 'pe_ratio', 'pb_ratio', 'ps_ratio', 'ev_revenue', 'debt_to_equity', 'current_ratio']).corr()"
   ]
  },
  {
   "cell_type": "code",
   "execution_count": null,
   "id": "5303bdab",
   "metadata": {},
   "outputs": [],
   "source": [
    "final_df = utils.get_value_stock_target_prices(\n",
    "    input_df=merged_nat_curr,\n",
    "    min_pct=0.2,\n",
    "    max_pct=0.5,\n",
    "    owned_shares=owned_shares\n",
    ")"
   ]
  }
 ],
 "metadata": {
  "kernelspec": {
   "display_name": ".venv",
   "language": "python",
   "name": "python3"
  },
  "language_info": {
   "codemirror_mode": {
    "name": "ipython",
    "version": 3
   },
   "file_extension": ".py",
   "mimetype": "text/x-python",
   "name": "python",
   "nbconvert_exporter": "python",
   "pygments_lexer": "ipython3",
   "version": "3.11.3"
  },
  "papermill": {
   "default_parameters": {},
   "duration": 9.135319,
   "end_time": "2024-08-03T15:58:21.620853",
   "environment_variables": {},
   "exception": null,
   "input_path": "../notebooks/intel_national.ipynb",
   "output_path": "../notebooks/intel_national.ipynb",
   "parameters": {},
   "start_time": "2024-08-03T15:58:12.485534",
   "version": "2.5.0"
  }
 },
 "nbformat": 4,
 "nbformat_minor": 5
}
