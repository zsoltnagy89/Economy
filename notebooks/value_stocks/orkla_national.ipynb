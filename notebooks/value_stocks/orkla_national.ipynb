{
 "cells": [
  {
   "cell_type": "code",
   "execution_count": null,
   "id": "d95d96e7",
   "metadata": {
    "execution": {
     "iopub.execute_input": "2024-08-03T15:57:56.279381Z",
     "iopub.status.busy": "2024-08-03T15:57:56.279198Z",
     "iopub.status.idle": "2024-08-03T15:57:57.009523Z",
     "shell.execute_reply": "2024-08-03T15:57:57.009216Z"
    },
    "papermill": {
     "duration": 0.745284,
     "end_time": "2024-08-03T15:57:57.010554",
     "exception": false,
     "start_time": "2024-08-03T15:57:56.265270",
     "status": "completed"
    },
    "tags": []
   },
   "outputs": [],
   "source": [
    "import pandas as pd\n",
    "import matplotlib.pyplot as plt\n",
    "\n",
    "import yfinance as yf\n",
    "import datetime\n",
    "\n",
    "from valueinvesting import utils as utils"
   ]
  },
  {
   "cell_type": "markdown",
   "id": "833b234d",
   "metadata": {
    "papermill": {
     "duration": 0.005374,
     "end_time": "2024-08-03T15:57:57.021391",
     "exception": false,
     "start_time": "2024-08-03T15:57:57.016017",
     "status": "completed"
    },
    "tags": []
   },
   "source": [
    "# 1. Load raw input\n",
    "## Hardcoded block"
   ]
  },
  {
   "cell_type": "code",
   "execution_count": null,
   "id": "6809d7b7",
   "metadata": {
    "execution": {
     "iopub.execute_input": "2024-08-03T15:57:57.032118Z",
     "iopub.status.busy": "2024-08-03T15:57:57.031952Z",
     "iopub.status.idle": "2024-08-03T15:57:57.033743Z",
     "shell.execute_reply": "2024-08-03T15:57:57.033492Z"
    },
    "papermill": {
     "duration": 0.007516,
     "end_time": "2024-08-03T15:57:57.034519",
     "exception": false,
     "start_time": "2024-08-03T15:57:57.027003",
     "status": "completed"
    },
    "tags": []
   },
   "outputs": [],
   "source": [
    "evaluate_last_X_years = True\n",
    "X=10\n",
    "currency_pair = 'NOK=X'\n",
    "numbers_in_currency = 'NOK'\n",
    "share_name = 'ORK.OL'"
   ]
  },
  {
   "cell_type": "markdown",
   "id": "7c3627c1",
   "metadata": {
    "papermill": {
     "duration": 0.004715,
     "end_time": "2024-08-03T15:57:57.044178",
     "exception": false,
     "start_time": "2024-08-03T15:57:57.039463",
     "status": "completed"
    },
    "tags": []
   },
   "source": [
    "# 1.2. Raw input statement data"
   ]
  },
  {
   "cell_type": "code",
   "execution_count": null,
   "id": "190b9452",
   "metadata": {
    "execution": {
     "iopub.execute_input": "2024-08-03T15:57:57.054830Z",
     "iopub.status.busy": "2024-08-03T15:57:57.054644Z",
     "iopub.status.idle": "2024-08-03T15:57:57.066074Z",
     "shell.execute_reply": "2024-08-03T15:57:57.065784Z"
    },
    "papermill": {
     "duration": 0.018121,
     "end_time": "2024-08-03T15:57:57.067104",
     "exception": false,
     "start_time": "2024-08-03T15:57:57.048983",
     "status": "completed"
    },
    "tags": []
   },
   "outputs": [],
   "source": [
    "route = f\"../data/input/{share_name}_data.csv\"\n",
    "data = pd.read_csv(route, sep=';', parse_dates=['date', 'real_date'])\n",
    "# replace -, extend missing 0-s, fix datatype\n",
    "data = utils.replace_format_input(data)"
   ]
  },
  {
   "cell_type": "code",
   "execution_count": null,
   "id": "ac96a155",
   "metadata": {
    "execution": {
     "iopub.execute_input": "2024-08-03T15:57:57.078839Z",
     "iopub.status.busy": "2024-08-03T15:57:57.078708Z",
     "iopub.status.idle": "2024-08-03T15:57:57.082958Z",
     "shell.execute_reply": "2024-08-03T15:57:57.082674Z"
    },
    "papermill": {
     "duration": 0.011332,
     "end_time": "2024-08-03T15:57:57.083903",
     "exception": false,
     "start_time": "2024-08-03T15:57:57.072571",
     "status": "completed"
    },
    "tags": []
   },
   "outputs": [],
   "source": [
    "owned_shares = pd.read_csv('../data/extras/owned_stocks.csv', sep=';', parse_dates=['date'])\n",
    "owned_shares = owned_shares.loc[(owned_shares['stock'] == share_name) & (owned_shares['active'] == 'yes')]"
   ]
  },
  {
   "cell_type": "markdown",
   "id": "d495bde8",
   "metadata": {
    "papermill": {
     "duration": 0.005517,
     "end_time": "2024-08-03T15:57:57.095106",
     "exception": false,
     "start_time": "2024-08-03T15:57:57.089589",
     "status": "completed"
    },
    "tags": []
   },
   "source": [
    "## (OPTIONAL) Time Filtering - Last 7 years daat"
   ]
  },
  {
   "cell_type": "code",
   "execution_count": null,
   "id": "9c0e9799",
   "metadata": {
    "execution": {
     "iopub.execute_input": "2024-08-03T15:57:57.106192Z",
     "iopub.status.busy": "2024-08-03T15:57:57.106050Z",
     "iopub.status.idle": "2024-08-03T15:57:57.118693Z",
     "shell.execute_reply": "2024-08-03T15:57:57.118339Z"
    },
    "papermill": {
     "duration": 0.019727,
     "end_time": "2024-08-03T15:57:57.119769",
     "exception": false,
     "start_time": "2024-08-03T15:57:57.100042",
     "status": "completed"
    },
    "tags": []
   },
   "outputs": [],
   "source": [
    "if evaluate_last_X_years:\n",
    "    data = data[data['date'] > datetime.datetime.today() - datetime.timedelta(days=X*366+93)]\n",
    "    data = data.reset_index(drop=True)\n",
    "\n",
    "data.head()"
   ]
  },
  {
   "cell_type": "markdown",
   "id": "16ae5b6e",
   "metadata": {
    "papermill": {
     "duration": 0.005927,
     "end_time": "2024-08-03T15:57:57.133743",
     "exception": false,
     "start_time": "2024-08-03T15:57:57.127816",
     "status": "completed"
    },
    "tags": []
   },
   "source": [
    "## Calculate date when quaterly reports could be available"
   ]
  },
  {
   "cell_type": "code",
   "execution_count": null,
   "id": "f8c324b6",
   "metadata": {
    "execution": {
     "iopub.execute_input": "2024-08-03T15:57:57.145162Z",
     "iopub.status.busy": "2024-08-03T15:57:57.145026Z",
     "iopub.status.idle": "2024-08-03T15:57:57.146914Z",
     "shell.execute_reply": "2024-08-03T15:57:57.146673Z"
    },
    "papermill": {
     "duration": 0.009008,
     "end_time": "2024-08-03T15:57:57.147771",
     "exception": false,
     "start_time": "2024-08-03T15:57:57.138763",
     "status": "completed"
    },
    "tags": []
   },
   "outputs": [],
   "source": [
    "data = utils.calculate_real_date(data)"
   ]
  },
  {
   "cell_type": "markdown",
   "id": "02f4cea6",
   "metadata": {
    "papermill": {
     "duration": 0.005266,
     "end_time": "2024-08-03T15:57:57.158609",
     "exception": false,
     "start_time": "2024-08-03T15:57:57.153343",
     "status": "completed"
    },
    "tags": []
   },
   "source": [
    "# 2. Filter out unnecesary columns"
   ]
  },
  {
   "cell_type": "code",
   "execution_count": null,
   "id": "86605f9d",
   "metadata": {
    "execution": {
     "iopub.execute_input": "2024-08-03T15:57:57.170195Z",
     "iopub.status.busy": "2024-08-03T15:57:57.170050Z",
     "iopub.status.idle": "2024-08-03T15:57:57.177274Z",
     "shell.execute_reply": "2024-08-03T15:57:57.176987Z"
    },
    "papermill": {
     "duration": 0.01444,
     "end_time": "2024-08-03T15:57:57.178146",
     "exception": false,
     "start_time": "2024-08-03T15:57:57.163706",
     "status": "completed"
    },
    "tags": []
   },
   "outputs": [],
   "source": [
    "data = utils.filter_raw_data(data)\n",
    "data.tail()"
   ]
  },
  {
   "cell_type": "markdown",
   "id": "09586790",
   "metadata": {
    "papermill": {
     "duration": 0.005535,
     "end_time": "2024-08-03T15:57:57.189402",
     "exception": false,
     "start_time": "2024-08-03T15:57:57.183867",
     "status": "completed"
    },
    "tags": []
   },
   "source": [
    "## Pull historical average USD national currency rates and add to the dataframe"
   ]
  },
  {
   "cell_type": "code",
   "execution_count": null,
   "id": "fee64b20",
   "metadata": {
    "execution": {
     "iopub.execute_input": "2024-08-03T15:57:57.201242Z",
     "iopub.status.busy": "2024-08-03T15:57:57.201099Z",
     "iopub.status.idle": "2024-08-03T15:58:05.291293Z",
     "shell.execute_reply": "2024-08-03T15:58:05.290715Z"
    },
    "papermill": {
     "duration": 8.099236,
     "end_time": "2024-08-03T15:58:05.294244",
     "exception": false,
     "start_time": "2024-08-03T15:57:57.195008",
     "status": "completed"
    },
    "tags": []
   },
   "outputs": [],
   "source": [
    "data['usd_nat_currency'] = utils.daily_price(\n",
    "    ticker=currency_pair,\n",
    "    end=data['date'],\n",
    "    days_earlier=90\n",
    "    )\n",
    "\n",
    "# drop rows, when USD rates wasn't available\n",
    "data = data[data['usd_nat_currency'].notna()]\n",
    "\n",
    "data.tail()"
   ]
  },
  {
   "cell_type": "markdown",
   "id": "16482eae",
   "metadata": {
    "papermill": {
     "duration": 0.013737,
     "end_time": "2024-08-03T15:58:05.329444",
     "exception": false,
     "start_time": "2024-08-03T15:58:05.315707",
     "status": "completed"
    },
    "tags": []
   },
   "source": [
    "## Convert USD values related to IS, BS, CFS to national currency"
   ]
  },
  {
   "cell_type": "code",
   "execution_count": null,
   "id": "813f050e",
   "metadata": {
    "execution": {
     "iopub.execute_input": "2024-08-03T15:58:05.353330Z",
     "iopub.status.busy": "2024-08-03T15:58:05.353148Z",
     "iopub.status.idle": "2024-08-03T15:58:05.361946Z",
     "shell.execute_reply": "2024-08-03T15:58:05.361625Z"
    },
    "papermill": {
     "duration": 0.020057,
     "end_time": "2024-08-03T15:58:05.363057",
     "exception": false,
     "start_time": "2024-08-03T15:58:05.343000",
     "status": "completed"
    },
    "tags": []
   },
   "outputs": [],
   "source": [
    "# convert columns into national currency if necessary\n",
    "if numbers_in_currency == 'USD':\n",
    "    data_nat_curr = utils.convert_national_currency(input_data=data, currency=data)\n",
    "else:\n",
    "    data_nat_curr = data.copy()\n",
    "data_nat_curr.tail()"
   ]
  },
  {
   "cell_type": "markdown",
   "id": "27c7960c",
   "metadata": {
    "papermill": {
     "duration": 0.007372,
     "end_time": "2024-08-03T15:58:05.378284",
     "exception": false,
     "start_time": "2024-08-03T15:58:05.370912",
     "status": "completed"
    },
    "tags": []
   },
   "source": [
    "# 3. Calculate input to Value Raios (eps, bv per share, fcf)\n",
    "## filter out unwanted columns"
   ]
  },
  {
   "cell_type": "code",
   "execution_count": null,
   "id": "27a75f14",
   "metadata": {
    "execution": {
     "iopub.execute_input": "2024-08-03T15:58:05.394084Z",
     "iopub.status.busy": "2024-08-03T15:58:05.393914Z",
     "iopub.status.idle": "2024-08-03T15:58:05.397775Z",
     "shell.execute_reply": "2024-08-03T15:58:05.397467Z"
    },
    "papermill": {
     "duration": 0.01377,
     "end_time": "2024-08-03T15:58:05.398656",
     "exception": false,
     "start_time": "2024-08-03T15:58:05.384886",
     "status": "completed"
    },
    "tags": []
   },
   "outputs": [],
   "source": [
    "filtered_nat_curr = utils.calculate_input_value_ratios(data_nat_curr)"
   ]
  },
  {
   "cell_type": "markdown",
   "id": "aacac68f",
   "metadata": {
    "papermill": {
     "duration": 0.011134,
     "end_time": "2024-08-03T15:58:05.420624",
     "exception": false,
     "start_time": "2024-08-03T15:58:05.409490",
     "status": "completed"
    },
    "tags": []
   },
   "source": [
    "## Calculate input values to value ratios"
   ]
  },
  {
   "cell_type": "code",
   "execution_count": null,
   "id": "3b0258b8",
   "metadata": {
    "execution": {
     "iopub.execute_input": "2024-08-03T15:58:05.441065Z",
     "iopub.status.busy": "2024-08-03T15:58:05.440920Z",
     "iopub.status.idle": "2024-08-03T15:58:05.443500Z",
     "shell.execute_reply": "2024-08-03T15:58:05.443176Z"
    },
    "papermill": {
     "duration": 0.01677,
     "end_time": "2024-08-03T15:58:05.444388",
     "exception": false,
     "start_time": "2024-08-03T15:58:05.427618",
     "status": "completed"
    },
    "tags": []
   },
   "outputs": [],
   "source": [
    "ratios_nat_curr = utils.ratios_input_filter(filtered_nat_curr)"
   ]
  },
  {
   "cell_type": "code",
   "execution_count": null,
   "id": "e46f977e",
   "metadata": {
    "execution": {
     "iopub.execute_input": "2024-08-03T15:58:05.464080Z",
     "iopub.status.busy": "2024-08-03T15:58:05.463940Z",
     "iopub.status.idle": "2024-08-03T15:58:05.470228Z",
     "shell.execute_reply": "2024-08-03T15:58:05.469977Z"
    },
    "papermill": {
     "duration": 0.017765,
     "end_time": "2024-08-03T15:58:05.471022",
     "exception": false,
     "start_time": "2024-08-03T15:58:05.453257",
     "status": "completed"
    },
    "tags": []
   },
   "outputs": [],
   "source": [
    "ratios_nat_curr = utils.evaluate_performance(input=filtered_nat_curr, output=ratios_nat_curr)"
   ]
  },
  {
   "cell_type": "markdown",
   "id": "d2f71aea",
   "metadata": {
    "papermill": {
     "duration": 0.006224,
     "end_time": "2024-08-03T15:58:05.486951",
     "exception": false,
     "start_time": "2024-08-03T15:58:05.480727",
     "status": "completed"
    },
    "tags": []
   },
   "source": [
    "# 4. Pull historical share prices and merge with sattement data\n",
    "## Pull historical share prices"
   ]
  },
  {
   "cell_type": "code",
   "execution_count": null,
   "id": "79e82bcb",
   "metadata": {
    "execution": {
     "iopub.execute_input": "2024-08-03T15:58:05.499651Z",
     "iopub.status.busy": "2024-08-03T15:58:05.499480Z",
     "iopub.status.idle": "2024-08-03T15:58:05.792045Z",
     "shell.execute_reply": "2024-08-03T15:58:05.791661Z"
    },
    "papermill": {
     "duration": 0.300562,
     "end_time": "2024-08-03T15:58:05.793314",
     "exception": false,
     "start_time": "2024-08-03T15:58:05.492752",
     "status": "completed"
    },
    "tags": []
   },
   "outputs": [],
   "source": [
    "# pull weekly share prices and merge with the value ratios\n",
    "merged_nat_curr = utils.add_share_prices_to_value_ratios(share_name, data, ratios_nat_curr)\n",
    "merged_nat_curr.head()"
   ]
  },
  {
   "cell_type": "markdown",
   "id": "c46a07c0",
   "metadata": {
    "papermill": {
     "duration": 0.017514,
     "end_time": "2024-08-03T15:58:05.826761",
     "exception": false,
     "start_time": "2024-08-03T15:58:05.809247",
     "status": "completed"
    },
    "tags": []
   },
   "source": [
    "# Calculate price ratios (P/E, P/B, P/S, P/FCF)"
   ]
  },
  {
   "cell_type": "code",
   "execution_count": null,
   "id": "6ca8c1b8",
   "metadata": {
    "execution": {
     "iopub.execute_input": "2024-08-03T15:58:05.853343Z",
     "iopub.status.busy": "2024-08-03T15:58:05.853168Z",
     "iopub.status.idle": "2024-08-03T15:58:05.864831Z",
     "shell.execute_reply": "2024-08-03T15:58:05.864526Z"
    },
    "papermill": {
     "duration": 0.023594,
     "end_time": "2024-08-03T15:58:05.865815",
     "exception": false,
     "start_time": "2024-08-03T15:58:05.842221",
     "status": "completed"
    },
    "tags": []
   },
   "outputs": [],
   "source": [
    "merged_nat_curr = utils.price_ratios(merged_nat_curr)\n",
    "merged_nat_curr.head()"
   ]
  },
  {
   "cell_type": "markdown",
   "id": "1de9c542",
   "metadata": {
    "papermill": {
     "duration": 0.006591,
     "end_time": "2024-08-03T15:58:05.879505",
     "exception": false,
     "start_time": "2024-08-03T15:58:05.872914",
     "status": "completed"
    },
    "tags": []
   },
   "source": [
    "# Calculate Dividend yield and currency-share price correlation"
   ]
  },
  {
   "cell_type": "code",
   "execution_count": null,
   "id": "806c77a5",
   "metadata": {
    "execution": {
     "iopub.execute_input": "2024-08-03T15:58:05.900908Z",
     "iopub.status.busy": "2024-08-03T15:58:05.900764Z",
     "iopub.status.idle": "2024-08-03T15:58:06.229789Z",
     "shell.execute_reply": "2024-08-03T15:58:06.229359Z"
    },
    "papermill": {
     "duration": 0.341282,
     "end_time": "2024-08-03T15:58:06.231204",
     "exception": false,
     "start_time": "2024-08-03T15:58:05.889922",
     "status": "completed"
    },
    "tags": []
   },
   "outputs": [],
   "source": [
    "# get daily historical USD-national currency rates\n",
    "usd_nat_curr = utils.get_historical_currency_rate(currency_pair, merged_nat_curr)"
   ]
  },
  {
   "cell_type": "code",
   "execution_count": null,
   "id": "ce7f3c6a",
   "metadata": {
    "execution": {
     "iopub.execute_input": "2024-08-03T15:58:06.260271Z",
     "iopub.status.busy": "2024-08-03T15:58:06.260086Z",
     "iopub.status.idle": "2024-08-03T15:58:06.742396Z",
     "shell.execute_reply": "2024-08-03T15:58:06.742149Z"
    },
    "papermill": {
     "duration": 0.495826,
     "end_time": "2024-08-03T15:58:06.743303",
     "exception": false,
     "start_time": "2024-08-03T15:58:06.247477",
     "status": "completed"
    },
    "tags": []
   },
   "outputs": [],
   "source": [
    "# get share prices and dividend yield data\n",
    "ticker_all_price = utils.get_historical_share_dividend(share_name, merged_nat_curr)"
   ]
  },
  {
   "cell_type": "code",
   "execution_count": null,
   "id": "c5d1541a",
   "metadata": {
    "execution": {
     "iopub.execute_input": "2024-08-03T15:58:06.755960Z",
     "iopub.status.busy": "2024-08-03T15:58:06.755831Z",
     "iopub.status.idle": "2024-08-03T15:58:06.921367Z",
     "shell.execute_reply": "2024-08-03T15:58:06.921109Z"
    },
    "papermill": {
     "duration": 0.173031,
     "end_time": "2024-08-03T15:58:06.922233",
     "exception": false,
     "start_time": "2024-08-03T15:58:06.749202",
     "status": "completed"
    },
    "tags": []
   },
   "outputs": [],
   "source": [
    "# Pearson's correlation coefficient between share price and USD - national currency rate\n",
    "utils.get_currency_share_price_correlation(share_name, usd_nat_curr, ticker_all_price)"
   ]
  },
  {
   "cell_type": "markdown",
   "id": "7240e4bd",
   "metadata": {
    "papermill": {
     "duration": 0.010826,
     "end_time": "2024-08-03T15:58:06.943622",
     "exception": false,
     "start_time": "2024-08-03T15:58:06.932796",
     "status": "completed"
    },
    "tags": []
   },
   "source": [
    "# Share price and value ratios"
   ]
  },
  {
   "cell_type": "code",
   "execution_count": null,
   "id": "1678496c",
   "metadata": {
    "execution": {
     "iopub.execute_input": "2024-08-03T15:58:06.970751Z",
     "iopub.status.busy": "2024-08-03T15:58:06.970612Z",
     "iopub.status.idle": "2024-08-03T15:58:10.964266Z",
     "shell.execute_reply": "2024-08-03T15:58:10.963973Z"
    },
    "papermill": {
     "duration": 4.007528,
     "end_time": "2024-08-03T15:58:10.965239",
     "exception": false,
     "start_time": "2024-08-03T15:58:06.957711",
     "status": "completed"
    },
    "tags": []
   },
   "outputs": [],
   "source": [
    "for column in merged_nat_curr.columns[3:]:\n",
    "    fig, ax1 = plt.subplots(figsize=(15, 6))\n",
    "\n",
    "    ax2 = ax1.twinx()\n",
    "    ax1.plot(merged_nat_curr['real_date'], merged_nat_curr[column], color='k', label=merged_nat_curr)\n",
    "    ax2.plot(ticker_all_price.index, ticker_all_price['Close'], color='b', label=share_name)\n",
    "\n",
    "    ax1.set_xlabel('Date')\n",
    "    ax1.set_ylabel(column, color='k')\n",
    "    ax2.set_ylabel('Share price (national currency)', color='b')\n",
    "\n",
    "    plt.legend()\n",
    "    plt.show()"
   ]
  },
  {
   "cell_type": "code",
   "execution_count": null,
   "id": "e9790d79",
   "metadata": {
    "execution": {
     "iopub.execute_input": "2024-08-03T15:58:11.012902Z",
     "iopub.status.busy": "2024-08-03T15:58:11.012760Z",
     "iopub.status.idle": "2024-08-03T15:58:11.928040Z",
     "shell.execute_reply": "2024-08-03T15:58:11.927758Z"
    },
    "papermill": {
     "duration": 0.939013,
     "end_time": "2024-08-03T15:58:11.929028",
     "exception": false,
     "start_time": "2024-08-03T15:58:10.990015",
     "status": "completed"
    },
    "tags": []
   },
   "outputs": [],
   "source": [
    "# plot histograms of value parameters\n",
    "utils.plot_histogram_value_parameters(input_df=merged_nat_curr, extra_parameters=[], owned_shares=owned_shares)"
   ]
  },
  {
   "cell_type": "markdown",
   "id": "234c82b7",
   "metadata": {
    "papermill": {
     "duration": 0.035227,
     "end_time": "2024-08-03T15:58:11.987740",
     "exception": false,
     "start_time": "2024-08-03T15:58:11.952513",
     "status": "completed"
    },
    "tags": []
   },
   "source": [
    "## Calculate correlation between value parameters"
   ]
  },
  {
   "cell_type": "code",
   "execution_count": null,
   "id": "110a32d6",
   "metadata": {
    "execution": {
     "iopub.execute_input": "2024-08-03T15:58:12.026023Z",
     "iopub.status.busy": "2024-08-03T15:58:12.025871Z",
     "iopub.status.idle": "2024-08-03T15:58:12.031723Z",
     "shell.execute_reply": "2024-08-03T15:58:12.031479Z"
    },
    "papermill": {
     "duration": 0.025923,
     "end_time": "2024-08-03T15:58:12.032600",
     "exception": false,
     "start_time": "2024-08-03T15:58:12.006677",
     "status": "completed"
    },
    "tags": []
   },
   "outputs": [],
   "source": [
    "# calulate value parameters Pearson's correlation coefficient\n",
    "pd.DataFrame(merged_nat_curr, columns=['roa', 'roe', 'pe_ratio', 'pb_ratio', 'ps_ratio', 'ev_revenue', 'debt_to_equity', 'current_ratio']).corr()"
   ]
  },
  {
   "cell_type": "code",
   "execution_count": null,
   "id": "e1c2f654",
   "metadata": {},
   "outputs": [],
   "source": [
    "final_df = utils.get_value_stock_target_prices(\n",
    "    input_df=merged_nat_curr,\n",
    "    min_pct=0.2,\n",
    "    max_pct=0.5,\n",
    "    owned_shares=owned_shares\n",
    ")"
   ]
  }
 ],
 "metadata": {
  "kernelspec": {
   "display_name": ".venv",
   "language": "python",
   "name": "python3"
  },
  "language_info": {
   "codemirror_mode": {
    "name": "ipython",
    "version": 3
   },
   "file_extension": ".py",
   "mimetype": "text/x-python",
   "name": "python",
   "nbconvert_exporter": "python",
   "pygments_lexer": "ipython3",
   "version": "3.11.3"
  },
  "papermill": {
   "default_parameters": {},
   "duration": 17.115138,
   "end_time": "2024-08-03T15:58:12.405501",
   "environment_variables": {},
   "exception": null,
   "input_path": "../notebooks/orkla_national.ipynb",
   "output_path": "../notebooks/orkla_national.ipynb",
   "parameters": {},
   "start_time": "2024-08-03T15:57:55.290363",
   "version": "2.5.0"
  }
 },
 "nbformat": 4,
 "nbformat_minor": 5
}
