{
 "cells": [
  {
   "cell_type": "code",
   "execution_count": null,
   "id": "4107cca4",
   "metadata": {
    "execution": {
     "iopub.execute_input": "2024-08-03T15:57:37.837509Z",
     "iopub.status.busy": "2024-08-03T15:57:37.836965Z",
     "iopub.status.idle": "2024-08-03T15:57:38.541685Z",
     "shell.execute_reply": "2024-08-03T15:57:38.541384Z"
    },
    "papermill": {
     "duration": 0.727576,
     "end_time": "2024-08-03T15:57:38.542719",
     "exception": false,
     "start_time": "2024-08-03T15:57:37.815143",
     "status": "completed"
    },
    "tags": []
   },
   "outputs": [],
   "source": [
    "import pandas as pd\n",
    "import matplotlib.pyplot as plt\n",
    "import numpy as np\n",
    "\n",
    "import yfinance as yf\n",
    "import datetime\n",
    "\n",
    "from valueinvesting import utils as utils"
   ]
  },
  {
   "cell_type": "markdown",
   "id": "0d32cbb0",
   "metadata": {
    "papermill": {
     "duration": 0.005821,
     "end_time": "2024-08-03T15:57:38.554265",
     "exception": false,
     "start_time": "2024-08-03T15:57:38.548444",
     "status": "completed"
    },
    "tags": []
   },
   "source": [
    "# 1. Load raw input\n",
    "## Hardcoded block"
   ]
  },
  {
   "cell_type": "code",
   "execution_count": null,
   "id": "a23a36eb",
   "metadata": {
    "execution": {
     "iopub.execute_input": "2024-08-03T15:57:38.564625Z",
     "iopub.status.busy": "2024-08-03T15:57:38.564462Z",
     "iopub.status.idle": "2024-08-03T15:57:38.566353Z",
     "shell.execute_reply": "2024-08-03T15:57:38.566120Z"
    },
    "papermill": {
     "duration": 0.007867,
     "end_time": "2024-08-03T15:57:38.567147",
     "exception": false,
     "start_time": "2024-08-03T15:57:38.559280",
     "status": "completed"
    },
    "tags": []
   },
   "outputs": [],
   "source": [
    "evaluate_last_X_years = True\n",
    "X=10\n",
    "currency_pair = 'USD=X'\n",
    "numbers_in_currency = 'USD'\n",
    "share_name = 'SMG'"
   ]
  },
  {
   "cell_type": "markdown",
   "id": "b654f484",
   "metadata": {
    "papermill": {
     "duration": 0.005182,
     "end_time": "2024-08-03T15:57:38.577076",
     "exception": false,
     "start_time": "2024-08-03T15:57:38.571894",
     "status": "completed"
    },
    "tags": []
   },
   "source": [
    "# 1.1 Calculate Share numbers from total distributed dividend (CFS) and dividend amount"
   ]
  },
  {
   "cell_type": "markdown",
   "id": "61d2edab",
   "metadata": {
    "papermill": {
     "duration": 0.005036,
     "end_time": "2024-08-03T15:57:38.586578",
     "exception": false,
     "start_time": "2024-08-03T15:57:38.581542",
     "status": "completed"
    },
    "tags": []
   },
   "source": [
    "# 1.2. Raw input statement data"
   ]
  },
  {
   "cell_type": "code",
   "execution_count": null,
   "id": "5248d76a",
   "metadata": {
    "execution": {
     "iopub.execute_input": "2024-08-03T15:57:38.597985Z",
     "iopub.status.busy": "2024-08-03T15:57:38.597842Z",
     "iopub.status.idle": "2024-08-03T15:57:38.610847Z",
     "shell.execute_reply": "2024-08-03T15:57:38.610543Z"
    },
    "papermill": {
     "duration": 0.020048,
     "end_time": "2024-08-03T15:57:38.611952",
     "exception": false,
     "start_time": "2024-08-03T15:57:38.591904",
     "status": "completed"
    },
    "tags": []
   },
   "outputs": [],
   "source": [
    "route = f\"../data/input/{share_name}_data.csv\"\n",
    "data = pd.read_csv(route, sep=';', parse_dates=['date', 'real_date'])\n",
    "# replace -, extend missing 0-s, fix datatype\n",
    "data = utils.replace_format_input(data)"
   ]
  },
  {
   "cell_type": "code",
   "execution_count": null,
   "id": "6dd814ec",
   "metadata": {
    "execution": {
     "iopub.execute_input": "2024-08-03T15:57:38.624766Z",
     "iopub.status.busy": "2024-08-03T15:57:38.624625Z",
     "iopub.status.idle": "2024-08-03T15:57:38.628867Z",
     "shell.execute_reply": "2024-08-03T15:57:38.628609Z"
    },
    "papermill": {
     "duration": 0.01132,
     "end_time": "2024-08-03T15:57:38.629742",
     "exception": false,
     "start_time": "2024-08-03T15:57:38.618422",
     "status": "completed"
    },
    "tags": []
   },
   "outputs": [],
   "source": [
    "owned_shares = pd.read_csv('../data/extras/owned_stocks.csv', sep=';', parse_dates=['date'])\n",
    "owned_shares = owned_shares.loc[(owned_shares['stock'] == share_name) & (owned_shares['active'] == 'yes')]"
   ]
  },
  {
   "cell_type": "markdown",
   "id": "c1f0268e",
   "metadata": {
    "papermill": {
     "duration": 0.006359,
     "end_time": "2024-08-03T15:57:38.641667",
     "exception": false,
     "start_time": "2024-08-03T15:57:38.635308",
     "status": "completed"
    },
    "tags": []
   },
   "source": [
    "## (OPTIONAL) Time Filtering - Last 7 years daat"
   ]
  },
  {
   "cell_type": "code",
   "execution_count": null,
   "id": "1dbfb31d",
   "metadata": {
    "execution": {
     "iopub.execute_input": "2024-08-03T15:57:38.653820Z",
     "iopub.status.busy": "2024-08-03T15:57:38.653679Z",
     "iopub.status.idle": "2024-08-03T15:57:38.663874Z",
     "shell.execute_reply": "2024-08-03T15:57:38.663623Z"
    },
    "papermill": {
     "duration": 0.017169,
     "end_time": "2024-08-03T15:57:38.664703",
     "exception": false,
     "start_time": "2024-08-03T15:57:38.647534",
     "status": "completed"
    },
    "tags": []
   },
   "outputs": [],
   "source": [
    "if evaluate_last_X_years:\n",
    "    data = data[data['date'] > datetime.datetime.today() - datetime.timedelta(days=X*366+93)]\n",
    "    data = data.reset_index(drop=True)\n",
    "\n",
    "data.head()"
   ]
  },
  {
   "cell_type": "markdown",
   "id": "6e1d93ba",
   "metadata": {
    "papermill": {
     "duration": 0.013222,
     "end_time": "2024-08-03T15:57:38.688196",
     "exception": false,
     "start_time": "2024-08-03T15:57:38.674974",
     "status": "completed"
    },
    "tags": []
   },
   "source": [
    "## Calculate date when quaterly reports could be available"
   ]
  },
  {
   "cell_type": "code",
   "execution_count": null,
   "id": "b4642a75",
   "metadata": {
    "execution": {
     "iopub.execute_input": "2024-08-03T15:57:38.700222Z",
     "iopub.status.busy": "2024-08-03T15:57:38.700073Z",
     "iopub.status.idle": "2024-08-03T15:57:38.702081Z",
     "shell.execute_reply": "2024-08-03T15:57:38.701810Z"
    },
    "papermill": {
     "duration": 0.008748,
     "end_time": "2024-08-03T15:57:38.702971",
     "exception": false,
     "start_time": "2024-08-03T15:57:38.694223",
     "status": "completed"
    },
    "tags": []
   },
   "outputs": [],
   "source": [
    "data = utils.calculate_real_date(data)"
   ]
  },
  {
   "cell_type": "markdown",
   "id": "8c14f07c",
   "metadata": {
    "papermill": {
     "duration": 0.006613,
     "end_time": "2024-08-03T15:57:38.716121",
     "exception": false,
     "start_time": "2024-08-03T15:57:38.709508",
     "status": "completed"
    },
    "tags": []
   },
   "source": [
    "# 2. Filter out unnecesary columns"
   ]
  },
  {
   "cell_type": "code",
   "execution_count": null,
   "id": "1982bab7",
   "metadata": {
    "execution": {
     "iopub.execute_input": "2024-08-03T15:57:38.728305Z",
     "iopub.status.busy": "2024-08-03T15:57:38.728163Z",
     "iopub.status.idle": "2024-08-03T15:57:38.734777Z",
     "shell.execute_reply": "2024-08-03T15:57:38.734551Z"
    },
    "papermill": {
     "duration": 0.013863,
     "end_time": "2024-08-03T15:57:38.735636",
     "exception": false,
     "start_time": "2024-08-03T15:57:38.721773",
     "status": "completed"
    },
    "tags": []
   },
   "outputs": [],
   "source": [
    "data = utils.filter_raw_data(data)\n",
    "data.tail()"
   ]
  },
  {
   "cell_type": "markdown",
   "id": "1298e51b",
   "metadata": {
    "papermill": {
     "duration": 0.00571,
     "end_time": "2024-08-03T15:57:38.747609",
     "exception": false,
     "start_time": "2024-08-03T15:57:38.741899",
     "status": "completed"
    },
    "tags": []
   },
   "source": [
    "## Pull historical average USD national currency rates and add to the dataframe"
   ]
  },
  {
   "cell_type": "code",
   "execution_count": null,
   "id": "dce7ffa6",
   "metadata": {
    "execution": {
     "iopub.execute_input": "2024-08-03T15:57:38.759551Z",
     "iopub.status.busy": "2024-08-03T15:57:38.759302Z",
     "iopub.status.idle": "2024-08-03T15:57:38.766198Z",
     "shell.execute_reply": "2024-08-03T15:57:38.765914Z"
    },
    "papermill": {
     "duration": 0.014134,
     "end_time": "2024-08-03T15:57:38.767054",
     "exception": false,
     "start_time": "2024-08-03T15:57:38.752920",
     "status": "completed"
    },
    "tags": []
   },
   "outputs": [],
   "source": [
    "if currency_pair != 'USD=X':\n",
    "    data['usd_nat_currency'] = utils.daily_price(\n",
    "        ticker=currency_pair,\n",
    "        end=data['date'],\n",
    "        days_earlier=90\n",
    "        )\n",
    "else:\n",
    "    data['usd_nat_currency'] = [1 for x in range(len(data))]\n",
    "\n",
    "# drop rows, when USD rates wasn't available\n",
    "data = data[data['usd_nat_currency'].notna()]\n",
    "\n",
    "data.tail()"
   ]
  },
  {
   "cell_type": "markdown",
   "id": "3bab25e7",
   "metadata": {
    "papermill": {
     "duration": 0.005991,
     "end_time": "2024-08-03T15:57:38.779291",
     "exception": false,
     "start_time": "2024-08-03T15:57:38.773300",
     "status": "completed"
    },
    "tags": []
   },
   "source": [
    "## Convert USD values related to IS, BS, CFS to national currency"
   ]
  },
  {
   "cell_type": "code",
   "execution_count": null,
   "id": "fd31582c",
   "metadata": {
    "execution": {
     "iopub.execute_input": "2024-08-03T15:57:38.794409Z",
     "iopub.status.busy": "2024-08-03T15:57:38.794255Z",
     "iopub.status.idle": "2024-08-03T15:57:38.805950Z",
     "shell.execute_reply": "2024-08-03T15:57:38.805631Z"
    },
    "papermill": {
     "duration": 0.021099,
     "end_time": "2024-08-03T15:57:38.806934",
     "exception": false,
     "start_time": "2024-08-03T15:57:38.785835",
     "status": "completed"
    },
    "tags": []
   },
   "outputs": [],
   "source": [
    "# convert columns into national currency if necessary\n",
    "if numbers_in_currency == 'USD':\n",
    "    data_nat_curr = utils.convert_national_currency(input_data=data, currency=data)\n",
    "else:\n",
    "    data_nat_curr = data.copy()\n",
    "data_nat_curr.tail()"
   ]
  },
  {
   "cell_type": "markdown",
   "id": "e5afe00b",
   "metadata": {
    "papermill": {
     "duration": 0.005327,
     "end_time": "2024-08-03T15:57:38.817997",
     "exception": false,
     "start_time": "2024-08-03T15:57:38.812670",
     "status": "completed"
    },
    "tags": []
   },
   "source": [
    "# 3. Calculate input to Value Raios (eps, bv per share, fcf)\n",
    "## filter out unwanted columns"
   ]
  },
  {
   "cell_type": "code",
   "execution_count": null,
   "id": "cc5a70f9",
   "metadata": {
    "execution": {
     "iopub.execute_input": "2024-08-03T15:57:38.830431Z",
     "iopub.status.busy": "2024-08-03T15:57:38.830194Z",
     "iopub.status.idle": "2024-08-03T15:57:38.833674Z",
     "shell.execute_reply": "2024-08-03T15:57:38.833418Z"
    },
    "papermill": {
     "duration": 0.011091,
     "end_time": "2024-08-03T15:57:38.834559",
     "exception": false,
     "start_time": "2024-08-03T15:57:38.823468",
     "status": "completed"
    },
    "tags": []
   },
   "outputs": [],
   "source": [
    "filtered_nat_curr = utils.calculate_input_value_ratios(data_nat_curr)"
   ]
  },
  {
   "cell_type": "markdown",
   "id": "b6bb258b",
   "metadata": {
    "papermill": {
     "duration": 0.006517,
     "end_time": "2024-08-03T15:57:38.847509",
     "exception": false,
     "start_time": "2024-08-03T15:57:38.840992",
     "status": "completed"
    },
    "tags": []
   },
   "source": [
    "## Calculate input values to value ratios"
   ]
  },
  {
   "cell_type": "code",
   "execution_count": null,
   "id": "d6f38e7c",
   "metadata": {
    "execution": {
     "iopub.execute_input": "2024-08-03T15:57:38.860332Z",
     "iopub.status.busy": "2024-08-03T15:57:38.860163Z",
     "iopub.status.idle": "2024-08-03T15:57:38.862780Z",
     "shell.execute_reply": "2024-08-03T15:57:38.862506Z"
    },
    "papermill": {
     "duration": 0.010301,
     "end_time": "2024-08-03T15:57:38.863668",
     "exception": false,
     "start_time": "2024-08-03T15:57:38.853367",
     "status": "completed"
    },
    "tags": []
   },
   "outputs": [],
   "source": [
    "ratios_nat_curr = utils.ratios_input_filter(filtered_nat_curr)"
   ]
  },
  {
   "cell_type": "markdown",
   "id": "137f36db",
   "metadata": {
    "papermill": {
     "duration": 0.006076,
     "end_time": "2024-08-03T15:57:38.876107",
     "exception": false,
     "start_time": "2024-08-03T15:57:38.870031",
     "status": "completed"
    },
    "tags": []
   },
   "source": [
    "## Calculate performance parameters (current ratio, ROA, ROE, margins, D/E)"
   ]
  },
  {
   "cell_type": "code",
   "execution_count": null,
   "id": "e3ca0b57",
   "metadata": {
    "execution": {
     "iopub.execute_input": "2024-08-03T15:57:38.888290Z",
     "iopub.status.busy": "2024-08-03T15:57:38.888063Z",
     "iopub.status.idle": "2024-08-03T15:57:38.894877Z",
     "shell.execute_reply": "2024-08-03T15:57:38.894608Z"
    },
    "papermill": {
     "duration": 0.014059,
     "end_time": "2024-08-03T15:57:38.895745",
     "exception": false,
     "start_time": "2024-08-03T15:57:38.881686",
     "status": "completed"
    },
    "tags": []
   },
   "outputs": [],
   "source": [
    "ratios_nat_curr = utils.evaluate_performance(input=filtered_nat_curr, output=ratios_nat_curr)"
   ]
  },
  {
   "cell_type": "markdown",
   "id": "213fafb6",
   "metadata": {
    "papermill": {
     "duration": 0.00791,
     "end_time": "2024-08-03T15:57:38.909974",
     "exception": false,
     "start_time": "2024-08-03T15:57:38.902064",
     "status": "completed"
    },
    "tags": []
   },
   "source": [
    "# 4. Pull historical share prices and merge with sattement data"
   ]
  },
  {
   "cell_type": "code",
   "execution_count": null,
   "id": "b893f1c7",
   "metadata": {
    "execution": {
     "iopub.execute_input": "2024-08-03T15:57:38.923712Z",
     "iopub.status.busy": "2024-08-03T15:57:38.923433Z",
     "iopub.status.idle": "2024-08-03T15:57:39.285948Z",
     "shell.execute_reply": "2024-08-03T15:57:39.285627Z"
    },
    "papermill": {
     "duration": 0.370967,
     "end_time": "2024-08-03T15:57:39.286996",
     "exception": false,
     "start_time": "2024-08-03T15:57:38.916029",
     "status": "completed"
    },
    "tags": []
   },
   "outputs": [],
   "source": [
    "# pull weekly share prices and merge with the value ratios\n",
    "merged_nat_curr = utils.add_share_prices_to_value_ratios(share_name, data, ratios_nat_curr)\n",
    "merged_nat_curr.head()"
   ]
  },
  {
   "cell_type": "markdown",
   "id": "8f86aa6f",
   "metadata": {
    "papermill": {
     "duration": 0.009349,
     "end_time": "2024-08-03T15:57:39.308567",
     "exception": false,
     "start_time": "2024-08-03T15:57:39.299218",
     "status": "completed"
    },
    "tags": []
   },
   "source": [
    "# Calculate price ratios (P/E, P/B, P/S, P/FCF)"
   ]
  },
  {
   "cell_type": "code",
   "execution_count": null,
   "id": "444d6d3a",
   "metadata": {
    "execution": {
     "iopub.execute_input": "2024-08-03T15:57:39.324097Z",
     "iopub.status.busy": "2024-08-03T15:57:39.323925Z",
     "iopub.status.idle": "2024-08-03T15:57:39.334464Z",
     "shell.execute_reply": "2024-08-03T15:57:39.334151Z"
    },
    "papermill": {
     "duration": 0.019746,
     "end_time": "2024-08-03T15:57:39.335417",
     "exception": false,
     "start_time": "2024-08-03T15:57:39.315671",
     "status": "completed"
    },
    "tags": []
   },
   "outputs": [],
   "source": [
    "merged_nat_curr = utils.price_ratios(merged_nat_curr)\n",
    "merged_nat_curr.head()"
   ]
  },
  {
   "cell_type": "markdown",
   "id": "1882d1f3",
   "metadata": {
    "papermill": {
     "duration": 0.012424,
     "end_time": "2024-08-03T15:57:39.359144",
     "exception": false,
     "start_time": "2024-08-03T15:57:39.346720",
     "status": "completed"
    },
    "tags": []
   },
   "source": [
    "# Calculate Dividend yield and currency-share price correlation"
   ]
  },
  {
   "cell_type": "code",
   "execution_count": null,
   "id": "9c619969",
   "metadata": {
    "execution": {
     "iopub.execute_input": "2024-08-03T15:57:39.379701Z",
     "iopub.status.busy": "2024-08-03T15:57:39.379537Z",
     "iopub.status.idle": "2024-08-03T15:57:39.566030Z",
     "shell.execute_reply": "2024-08-03T15:57:39.565647Z"
    },
    "papermill": {
     "duration": 0.197306,
     "end_time": "2024-08-03T15:57:39.567400",
     "exception": false,
     "start_time": "2024-08-03T15:57:39.370094",
     "status": "completed"
    },
    "tags": []
   },
   "outputs": [],
   "source": [
    "# get daily historical USD-national currency rates\n",
    "usd_nat_curr = utils.get_historical_currency_rate(currency_pair, merged_nat_curr)"
   ]
  },
  {
   "cell_type": "code",
   "execution_count": null,
   "id": "d794a586",
   "metadata": {
    "execution": {
     "iopub.execute_input": "2024-08-03T15:57:39.596525Z",
     "iopub.status.busy": "2024-08-03T15:57:39.596352Z",
     "iopub.status.idle": "2024-08-03T15:57:40.072445Z",
     "shell.execute_reply": "2024-08-03T15:57:40.071868Z"
    },
    "papermill": {
     "duration": 0.489956,
     "end_time": "2024-08-03T15:57:40.073953",
     "exception": false,
     "start_time": "2024-08-03T15:57:39.583997",
     "status": "completed"
    },
    "tags": []
   },
   "outputs": [],
   "source": [
    "# get share prices and dividend yield data\n",
    "ticker_all_price = utils.get_historical_share_dividend(share_name, merged_nat_curr)"
   ]
  },
  {
   "cell_type": "code",
   "execution_count": null,
   "id": "d5f26de5",
   "metadata": {
    "execution": {
     "iopub.execute_input": "2024-08-03T15:57:40.101691Z",
     "iopub.status.busy": "2024-08-03T15:57:40.101576Z",
     "iopub.status.idle": "2024-08-03T15:57:40.256090Z",
     "shell.execute_reply": "2024-08-03T15:57:40.255534Z"
    },
    "papermill": {
     "duration": 0.170816,
     "end_time": "2024-08-03T15:57:40.257475",
     "exception": false,
     "start_time": "2024-08-03T15:57:40.086659",
     "status": "completed"
    },
    "tags": []
   },
   "outputs": [],
   "source": [
    "# Pearson's correlation coefficient between share price and USD - national currency rate\n",
    "utils.get_currency_share_price_correlation(share_name, usd_nat_curr, ticker_all_price)"
   ]
  },
  {
   "cell_type": "markdown",
   "id": "0d43ae56",
   "metadata": {
    "papermill": {
     "duration": 0.01023,
     "end_time": "2024-08-03T15:57:40.281315",
     "exception": false,
     "start_time": "2024-08-03T15:57:40.271085",
     "status": "completed"
    },
    "tags": []
   },
   "source": [
    "# Share price and value ratios"
   ]
  },
  {
   "cell_type": "code",
   "execution_count": null,
   "id": "eff93620",
   "metadata": {
    "execution": {
     "iopub.execute_input": "2024-08-03T15:57:40.295117Z",
     "iopub.status.busy": "2024-08-03T15:57:40.294993Z",
     "iopub.status.idle": "2024-08-03T15:57:44.619946Z",
     "shell.execute_reply": "2024-08-03T15:57:44.619683Z"
    },
    "papermill": {
     "duration": 4.333239,
     "end_time": "2024-08-03T15:57:44.620895",
     "exception": false,
     "start_time": "2024-08-03T15:57:40.287656",
     "status": "completed"
    },
    "tags": []
   },
   "outputs": [],
   "source": [
    "for column in merged_nat_curr.columns[3:]:\n",
    "    fig, ax1 = plt.subplots(figsize=(15, 6))\n",
    "\n",
    "    ax2 = ax1.twinx()\n",
    "    ax1.plot(merged_nat_curr['real_date'], merged_nat_curr[column], color='k', label=merged_nat_curr)\n",
    "    ax2.plot(ticker_all_price.index, ticker_all_price['Close'], color='b', label=share_name)\n",
    "\n",
    "    ax1.set_xlabel('Date')\n",
    "    ax1.set_ylabel(column, color='k')\n",
    "    ax2.set_ylabel('Share price (national currency)', color='b')\n",
    "\n",
    "    plt.legend()\n",
    "    plt.show()"
   ]
  },
  {
   "cell_type": "code",
   "execution_count": null,
   "id": "0127e7f9",
   "metadata": {
    "execution": {
     "iopub.execute_input": "2024-08-03T15:57:44.661664Z",
     "iopub.status.busy": "2024-08-03T15:57:44.661528Z",
     "iopub.status.idle": "2024-08-03T15:57:45.461122Z",
     "shell.execute_reply": "2024-08-03T15:57:45.460873Z"
    },
    "papermill": {
     "duration": 0.822572,
     "end_time": "2024-08-03T15:57:45.461975",
     "exception": false,
     "start_time": "2024-08-03T15:57:44.639403",
     "status": "completed"
    },
    "tags": []
   },
   "outputs": [],
   "source": [
    "# plot histograms of value parameters\n",
    "utils.plot_histogram_value_parameters(input_df=merged_nat_curr, extra_parameters=[], owned_shares=owned_shares)"
   ]
  },
  {
   "cell_type": "markdown",
   "id": "2dfe61f0",
   "metadata": {
    "papermill": {
     "duration": 0.018432,
     "end_time": "2024-08-03T15:57:45.513243",
     "exception": false,
     "start_time": "2024-08-03T15:57:45.494811",
     "status": "completed"
    },
    "tags": []
   },
   "source": [
    "## Calculate correlation between value parameters"
   ]
  },
  {
   "cell_type": "code",
   "execution_count": null,
   "id": "8d697213",
   "metadata": {
    "execution": {
     "iopub.execute_input": "2024-08-03T15:57:45.551464Z",
     "iopub.status.busy": "2024-08-03T15:57:45.551329Z",
     "iopub.status.idle": "2024-08-03T15:57:45.556989Z",
     "shell.execute_reply": "2024-08-03T15:57:45.556681Z"
    },
    "papermill": {
     "duration": 0.025946,
     "end_time": "2024-08-03T15:57:45.557920",
     "exception": false,
     "start_time": "2024-08-03T15:57:45.531974",
     "status": "completed"
    },
    "tags": []
   },
   "outputs": [],
   "source": [
    "# calulate value parameters Pearson's correlation coefficient\n",
    "pd.DataFrame(merged_nat_curr, columns=['roa', 'roe', 'pe_ratio', 'pb_ratio', 'ps_ratio', 'ev_revenue', 'debt_to_equity', 'current_ratio']).corr()"
   ]
  },
  {
   "cell_type": "code",
   "execution_count": null,
   "id": "416783e5",
   "metadata": {},
   "outputs": [],
   "source": [
    "final_df = utils.get_value_stock_target_prices(\n",
    "    input_df=merged_nat_curr,\n",
    "    min_pct=0.2,\n",
    "    max_pct=0.5,\n",
    "    owned_shares=owned_shares\n",
    ")"
   ]
  }
 ],
 "metadata": {
  "kernelspec": {
   "display_name": ".venv",
   "language": "python",
   "name": "python3"
  },
  "language_info": {
   "codemirror_mode": {
    "name": "ipython",
    "version": 3
   },
   "file_extension": ".py",
   "mimetype": "text/x-python",
   "name": "python",
   "nbconvert_exporter": "python",
   "pygments_lexer": "ipython3",
   "version": "3.11.3"
  },
  "papermill": {
   "default_parameters": {},
   "duration": 9.09773,
   "end_time": "2024-08-03T15:57:45.901021",
   "environment_variables": {},
   "exception": null,
   "input_path": "../notebooks/scotts_miracles_gro_national.ipynb",
   "output_path": "../notebooks/scotts_miracles_gro_national.ipynb",
   "parameters": {},
   "start_time": "2024-08-03T15:57:36.803291",
   "version": "2.5.0"
  }
 },
 "nbformat": 4,
 "nbformat_minor": 5
}
