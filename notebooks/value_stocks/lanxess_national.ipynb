{
 "cells": [
  {
   "cell_type": "code",
   "execution_count": null,
   "id": "27214b8f",
   "metadata": {
    "execution": {
     "iopub.execute_input": "2024-08-03T15:55:34.821079Z",
     "iopub.status.busy": "2024-08-03T15:55:34.820712Z",
     "iopub.status.idle": "2024-08-03T15:55:35.525845Z",
     "shell.execute_reply": "2024-08-03T15:55:35.525368Z"
    },
    "papermill": {
     "duration": 0.729032,
     "end_time": "2024-08-03T15:55:35.526948",
     "exception": false,
     "start_time": "2024-08-03T15:55:34.797916",
     "status": "completed"
    },
    "tags": []
   },
   "outputs": [],
   "source": [
    "import pandas as pd\n",
    "import matplotlib.pyplot as plt\n",
    "import numpy as np\n",
    "\n",
    "import yfinance as yf\n",
    "import datetime\n",
    "\n",
    "from valueinvesting import utils as utils"
   ]
  },
  {
   "cell_type": "markdown",
   "id": "ae969344",
   "metadata": {
    "papermill": {
     "duration": 0.010071,
     "end_time": "2024-08-03T15:55:35.551343",
     "exception": false,
     "start_time": "2024-08-03T15:55:35.541272",
     "status": "completed"
    },
    "tags": []
   },
   "source": [
    "# 1. Load raw input\n",
    "## Hardcoded block"
   ]
  },
  {
   "cell_type": "code",
   "execution_count": null,
   "id": "9a553c1d",
   "metadata": {
    "execution": {
     "iopub.execute_input": "2024-08-03T15:55:35.572923Z",
     "iopub.status.busy": "2024-08-03T15:55:35.572706Z",
     "iopub.status.idle": "2024-08-03T15:55:35.574825Z",
     "shell.execute_reply": "2024-08-03T15:55:35.574526Z"
    },
    "papermill": {
     "duration": 0.013866,
     "end_time": "2024-08-03T15:55:35.575851",
     "exception": false,
     "start_time": "2024-08-03T15:55:35.561985",
     "status": "completed"
    },
    "tags": []
   },
   "outputs": [],
   "source": [
    "evaluate_last_X_years = True\n",
    "X=10\n",
    "currency_pair = 'EUR=X'\n",
    "numbers_in_currency = 'EUR'\n",
    "share_name = 'LXS.DE'"
   ]
  },
  {
   "cell_type": "markdown",
   "id": "f4172315",
   "metadata": {
    "papermill": {
     "duration": 0.009747,
     "end_time": "2024-08-03T15:55:35.596195",
     "exception": false,
     "start_time": "2024-08-03T15:55:35.586448",
     "status": "completed"
    },
    "tags": []
   },
   "source": [
    "# 1.1 Calculate Share numbers from total distributed dividend (CFS) and dividend amount"
   ]
  },
  {
   "cell_type": "markdown",
   "id": "ab689857",
   "metadata": {
    "papermill": {
     "duration": 0.008384,
     "end_time": "2024-08-03T15:55:35.612955",
     "exception": false,
     "start_time": "2024-08-03T15:55:35.604571",
     "status": "completed"
    },
    "tags": []
   },
   "source": [
    "# 1.2. Raw input statement data"
   ]
  },
  {
   "cell_type": "code",
   "execution_count": null,
   "id": "2d021b0a",
   "metadata": {
    "execution": {
     "iopub.execute_input": "2024-08-03T15:55:35.625725Z",
     "iopub.status.busy": "2024-08-03T15:55:35.625471Z",
     "iopub.status.idle": "2024-08-03T15:55:35.640697Z",
     "shell.execute_reply": "2024-08-03T15:55:35.640364Z"
    },
    "papermill": {
     "duration": 0.023198,
     "end_time": "2024-08-03T15:55:35.642100",
     "exception": false,
     "start_time": "2024-08-03T15:55:35.618902",
     "status": "completed"
    },
    "tags": []
   },
   "outputs": [],
   "source": [
    "route = f\"../data/input/{share_name}_data.csv\"\n",
    "data = pd.read_csv(route, sep=';', parse_dates=['date', 'real_date'])\n",
    "# replace -, extend missing 0-s, fix datatype\n",
    "data = utils.replace_format_input(data)"
   ]
  },
  {
   "cell_type": "code",
   "execution_count": null,
   "id": "2925ee73",
   "metadata": {
    "execution": {
     "iopub.execute_input": "2024-08-03T15:55:35.657832Z",
     "iopub.status.busy": "2024-08-03T15:55:35.657571Z",
     "iopub.status.idle": "2024-08-03T15:55:35.662359Z",
     "shell.execute_reply": "2024-08-03T15:55:35.662083Z"
    },
    "papermill": {
     "duration": 0.013554,
     "end_time": "2024-08-03T15:55:35.663329",
     "exception": false,
     "start_time": "2024-08-03T15:55:35.649775",
     "status": "completed"
    },
    "tags": []
   },
   "outputs": [],
   "source": [
    "owned_shares = pd.read_csv('../data/extras/owned_stocks.csv', sep=';', parse_dates=['date'])\n",
    "owned_shares = owned_shares.loc[(owned_shares['stock'] == share_name) & (owned_shares['active'] == 'yes')]"
   ]
  },
  {
   "cell_type": "markdown",
   "id": "9cde4632",
   "metadata": {
    "papermill": {
     "duration": 0.010005,
     "end_time": "2024-08-03T15:55:35.678766",
     "exception": false,
     "start_time": "2024-08-03T15:55:35.668761",
     "status": "completed"
    },
    "tags": []
   },
   "source": [
    "## (OPTIONAL) Time Filtering - Last 7 years daat"
   ]
  },
  {
   "cell_type": "code",
   "execution_count": null,
   "id": "e8b849ec",
   "metadata": {
    "execution": {
     "iopub.execute_input": "2024-08-03T15:55:35.690743Z",
     "iopub.status.busy": "2024-08-03T15:55:35.690602Z",
     "iopub.status.idle": "2024-08-03T15:55:35.700477Z",
     "shell.execute_reply": "2024-08-03T15:55:35.700219Z"
    },
    "papermill": {
     "duration": 0.016973,
     "end_time": "2024-08-03T15:55:35.701338",
     "exception": false,
     "start_time": "2024-08-03T15:55:35.684365",
     "status": "completed"
    },
    "tags": []
   },
   "outputs": [],
   "source": [
    "if evaluate_last_X_years:\n",
    "    data = data[data['date'] > datetime.datetime.today() - datetime.timedelta(days=X*366+93)]\n",
    "    data = data.reset_index(drop=True)\n",
    "\n",
    "data.head()"
   ]
  },
  {
   "cell_type": "markdown",
   "id": "e1dd033f",
   "metadata": {
    "papermill": {
     "duration": 0.010701,
     "end_time": "2024-08-03T15:55:35.721513",
     "exception": false,
     "start_time": "2024-08-03T15:55:35.710812",
     "status": "completed"
    },
    "tags": []
   },
   "source": [
    "## Calculate date when quaterly reports could be available"
   ]
  },
  {
   "cell_type": "code",
   "execution_count": null,
   "id": "fa6a21db",
   "metadata": {
    "execution": {
     "iopub.execute_input": "2024-08-03T15:55:35.736309Z",
     "iopub.status.busy": "2024-08-03T15:55:35.736173Z",
     "iopub.status.idle": "2024-08-03T15:55:35.737948Z",
     "shell.execute_reply": "2024-08-03T15:55:35.737700Z"
    },
    "papermill": {
     "duration": 0.009105,
     "end_time": "2024-08-03T15:55:35.738757",
     "exception": false,
     "start_time": "2024-08-03T15:55:35.729652",
     "status": "completed"
    },
    "tags": []
   },
   "outputs": [],
   "source": [
    "data = utils.calculate_real_date(data)"
   ]
  },
  {
   "cell_type": "markdown",
   "id": "47b62c93",
   "metadata": {
    "papermill": {
     "duration": 0.010508,
     "end_time": "2024-08-03T15:55:35.758019",
     "exception": false,
     "start_time": "2024-08-03T15:55:35.747511",
     "status": "completed"
    },
    "tags": []
   },
   "source": [
    "# 2. Filter out unnecesary columns"
   ]
  },
  {
   "cell_type": "code",
   "execution_count": null,
   "id": "290c614e",
   "metadata": {
    "execution": {
     "iopub.execute_input": "2024-08-03T15:55:35.775275Z",
     "iopub.status.busy": "2024-08-03T15:55:35.775103Z",
     "iopub.status.idle": "2024-08-03T15:55:35.782462Z",
     "shell.execute_reply": "2024-08-03T15:55:35.782185Z"
    },
    "papermill": {
     "duration": 0.016554,
     "end_time": "2024-08-03T15:55:35.783385",
     "exception": false,
     "start_time": "2024-08-03T15:55:35.766831",
     "status": "completed"
    },
    "tags": []
   },
   "outputs": [],
   "source": [
    "data = utils.filter_raw_data(data)\n",
    "data.tail()"
   ]
  },
  {
   "cell_type": "markdown",
   "id": "ad96f8bf",
   "metadata": {
    "papermill": {
     "duration": 0.006231,
     "end_time": "2024-08-03T15:55:35.795350",
     "exception": false,
     "start_time": "2024-08-03T15:55:35.789119",
     "status": "completed"
    },
    "tags": []
   },
   "source": [
    "## Pull historical average USD national currency rates and add to the dataframe"
   ]
  },
  {
   "cell_type": "code",
   "execution_count": null,
   "id": "84ab32ca",
   "metadata": {
    "execution": {
     "iopub.execute_input": "2024-08-03T15:55:35.807303Z",
     "iopub.status.busy": "2024-08-03T15:55:35.807163Z",
     "iopub.status.idle": "2024-08-03T15:55:44.499844Z",
     "shell.execute_reply": "2024-08-03T15:55:44.499526Z"
    },
    "papermill": {
     "duration": 8.700469,
     "end_time": "2024-08-03T15:55:44.501558",
     "exception": false,
     "start_time": "2024-08-03T15:55:35.801089",
     "status": "completed"
    },
    "tags": []
   },
   "outputs": [],
   "source": [
    "data['usd_nat_currency'] = utils.daily_price(\n",
    "    ticker=currency_pair,\n",
    "    end=data['date'],\n",
    "    days_earlier=90\n",
    "    )\n",
    "\n",
    "# drop rows, when USD rates wasn't available\n",
    "data = data[data['usd_nat_currency'].notna()]\n",
    "\n",
    "data.tail()"
   ]
  },
  {
   "cell_type": "markdown",
   "id": "2c521289",
   "metadata": {
    "papermill": {
     "duration": 0.005797,
     "end_time": "2024-08-03T15:55:44.514240",
     "exception": false,
     "start_time": "2024-08-03T15:55:44.508443",
     "status": "completed"
    },
    "tags": []
   },
   "source": [
    "## Convert USD values related to IS, BS, CFS to national currency"
   ]
  },
  {
   "cell_type": "code",
   "execution_count": null,
   "id": "a964dc94",
   "metadata": {
    "execution": {
     "iopub.execute_input": "2024-08-03T15:55:44.527129Z",
     "iopub.status.busy": "2024-08-03T15:55:44.527005Z",
     "iopub.status.idle": "2024-08-03T15:55:44.532816Z",
     "shell.execute_reply": "2024-08-03T15:55:44.532586Z"
    },
    "papermill": {
     "duration": 0.014149,
     "end_time": "2024-08-03T15:55:44.533621",
     "exception": false,
     "start_time": "2024-08-03T15:55:44.519472",
     "status": "completed"
    },
    "tags": []
   },
   "outputs": [],
   "source": [
    "# convert columns into national currency if necessary\n",
    "if numbers_in_currency == 'USD':\n",
    "    data_nat_curr = utils.convert_national_currency(input_data=data, currency=data)\n",
    "else:\n",
    "    data_nat_curr = data.copy()\n",
    "data_nat_curr.tail()"
   ]
  },
  {
   "cell_type": "markdown",
   "id": "b08f9660",
   "metadata": {
    "papermill": {
     "duration": 0.005264,
     "end_time": "2024-08-03T15:55:44.544536",
     "exception": false,
     "start_time": "2024-08-03T15:55:44.539272",
     "status": "completed"
    },
    "tags": []
   },
   "source": [
    "# 3. Calculate input to Value Raios (eps, bv per share, fcf)\n",
    "## filter out unwanted columns"
   ]
  },
  {
   "cell_type": "code",
   "execution_count": null,
   "id": "d6f3ae5c",
   "metadata": {
    "execution": {
     "iopub.execute_input": "2024-08-03T15:55:44.555361Z",
     "iopub.status.busy": "2024-08-03T15:55:44.555244Z",
     "iopub.status.idle": "2024-08-03T15:55:44.558276Z",
     "shell.execute_reply": "2024-08-03T15:55:44.558028Z"
    },
    "papermill": {
     "duration": 0.00949,
     "end_time": "2024-08-03T15:55:44.559071",
     "exception": false,
     "start_time": "2024-08-03T15:55:44.549581",
     "status": "completed"
    },
    "tags": []
   },
   "outputs": [],
   "source": [
    "filtered_nat_curr = utils.calculate_input_value_ratios(data_nat_curr)"
   ]
  },
  {
   "cell_type": "markdown",
   "id": "ed2c760b",
   "metadata": {
    "papermill": {
     "duration": 0.005291,
     "end_time": "2024-08-03T15:55:44.569875",
     "exception": false,
     "start_time": "2024-08-03T15:55:44.564584",
     "status": "completed"
    },
    "tags": []
   },
   "source": [
    "## Calculate input values to value ratios"
   ]
  },
  {
   "cell_type": "code",
   "execution_count": null,
   "id": "785063ff",
   "metadata": {
    "execution": {
     "iopub.execute_input": "2024-08-03T15:55:44.580687Z",
     "iopub.status.busy": "2024-08-03T15:55:44.580567Z",
     "iopub.status.idle": "2024-08-03T15:55:44.582764Z",
     "shell.execute_reply": "2024-08-03T15:55:44.582532Z"
    },
    "papermill": {
     "duration": 0.008745,
     "end_time": "2024-08-03T15:55:44.583561",
     "exception": false,
     "start_time": "2024-08-03T15:55:44.574816",
     "status": "completed"
    },
    "tags": []
   },
   "outputs": [],
   "source": [
    "ratios_nat_curr = utils.ratios_input_filter(filtered_nat_curr)"
   ]
  },
  {
   "cell_type": "markdown",
   "id": "ede61c56",
   "metadata": {
    "papermill": {
     "duration": 0.005829,
     "end_time": "2024-08-03T15:55:44.594797",
     "exception": false,
     "start_time": "2024-08-03T15:55:44.588968",
     "status": "completed"
    },
    "tags": []
   },
   "source": [
    "## Calculate performance parameters (current ratio, ROA, ROE, margins, D/E)"
   ]
  },
  {
   "cell_type": "code",
   "execution_count": null,
   "id": "d58b787b",
   "metadata": {
    "execution": {
     "iopub.execute_input": "2024-08-03T15:55:44.608215Z",
     "iopub.status.busy": "2024-08-03T15:55:44.607602Z",
     "iopub.status.idle": "2024-08-03T15:55:44.614983Z",
     "shell.execute_reply": "2024-08-03T15:55:44.614587Z"
    },
    "papermill": {
     "duration": 0.015728,
     "end_time": "2024-08-03T15:55:44.616029",
     "exception": false,
     "start_time": "2024-08-03T15:55:44.600301",
     "status": "completed"
    },
    "tags": []
   },
   "outputs": [],
   "source": [
    "ratios_nat_curr = utils.evaluate_performance(input=filtered_nat_curr, output=ratios_nat_curr)"
   ]
  },
  {
   "cell_type": "markdown",
   "id": "4162aa26",
   "metadata": {
    "papermill": {
     "duration": 0.008238,
     "end_time": "2024-08-03T15:55:44.631721",
     "exception": false,
     "start_time": "2024-08-03T15:55:44.623483",
     "status": "completed"
    },
    "tags": []
   },
   "source": [
    "# 4. Pull historical share prices and merge with sattement data"
   ]
  },
  {
   "cell_type": "code",
   "execution_count": null,
   "id": "e5c3dd71",
   "metadata": {
    "execution": {
     "iopub.execute_input": "2024-08-03T15:55:44.657503Z",
     "iopub.status.busy": "2024-08-03T15:55:44.657353Z",
     "iopub.status.idle": "2024-08-03T15:55:44.923763Z",
     "shell.execute_reply": "2024-08-03T15:55:44.923462Z"
    },
    "papermill": {
     "duration": 0.275606,
     "end_time": "2024-08-03T15:55:44.924816",
     "exception": false,
     "start_time": "2024-08-03T15:55:44.649210",
     "status": "completed"
    },
    "tags": []
   },
   "outputs": [],
   "source": [
    "# pull weekly share prices and merge with the value ratios\n",
    "merged_nat_curr = utils.add_share_prices_to_value_ratios(share_name, data, ratios_nat_curr)\n",
    "merged_nat_curr.head()"
   ]
  },
  {
   "cell_type": "markdown",
   "id": "154a459d",
   "metadata": {
    "papermill": {
     "duration": 0.005431,
     "end_time": "2024-08-03T15:55:44.936384",
     "exception": false,
     "start_time": "2024-08-03T15:55:44.930953",
     "status": "completed"
    },
    "tags": []
   },
   "source": [
    "# Calculate price ratios (P/E, P/B, P/S, P/FCF)"
   ]
  },
  {
   "cell_type": "code",
   "execution_count": null,
   "id": "84803e0a",
   "metadata": {
    "execution": {
     "iopub.execute_input": "2024-08-03T15:55:44.947742Z",
     "iopub.status.busy": "2024-08-03T15:55:44.947613Z",
     "iopub.status.idle": "2024-08-03T15:55:44.956013Z",
     "shell.execute_reply": "2024-08-03T15:55:44.955790Z"
    },
    "papermill": {
     "duration": 0.01531,
     "end_time": "2024-08-03T15:55:44.956822",
     "exception": false,
     "start_time": "2024-08-03T15:55:44.941512",
     "status": "completed"
    },
    "tags": []
   },
   "outputs": [],
   "source": [
    "merged_nat_curr = utils.price_ratios(merged_nat_curr)\n",
    "merged_nat_curr.head()"
   ]
  },
  {
   "cell_type": "markdown",
   "id": "f1d7e62e",
   "metadata": {
    "papermill": {
     "duration": 0.006568,
     "end_time": "2024-08-03T15:55:44.969968",
     "exception": false,
     "start_time": "2024-08-03T15:55:44.963400",
     "status": "completed"
    },
    "tags": []
   },
   "source": [
    "# Calculate Dividend yield and currency-share price correlation"
   ]
  },
  {
   "cell_type": "code",
   "execution_count": null,
   "id": "4d194d8f",
   "metadata": {
    "execution": {
     "iopub.execute_input": "2024-08-03T15:55:44.982770Z",
     "iopub.status.busy": "2024-08-03T15:55:44.982578Z",
     "iopub.status.idle": "2024-08-03T15:55:45.306548Z",
     "shell.execute_reply": "2024-08-03T15:55:45.306032Z"
    },
    "papermill": {
     "duration": 0.332686,
     "end_time": "2024-08-03T15:55:45.308137",
     "exception": false,
     "start_time": "2024-08-03T15:55:44.975451",
     "status": "completed"
    },
    "tags": []
   },
   "outputs": [],
   "source": [
    "# get daily historical USD-national currency rates\n",
    "usd_nat_curr = utils.get_historical_currency_rate(currency_pair, merged_nat_curr)"
   ]
  },
  {
   "cell_type": "code",
   "execution_count": null,
   "id": "f3391d81",
   "metadata": {
    "execution": {
     "iopub.execute_input": "2024-08-03T15:55:45.324529Z",
     "iopub.status.busy": "2024-08-03T15:55:45.324225Z",
     "iopub.status.idle": "2024-08-03T15:55:45.824362Z",
     "shell.execute_reply": "2024-08-03T15:55:45.824085Z"
    },
    "papermill": {
     "duration": 0.508276,
     "end_time": "2024-08-03T15:55:45.825439",
     "exception": false,
     "start_time": "2024-08-03T15:55:45.317163",
     "status": "completed"
    },
    "tags": []
   },
   "outputs": [],
   "source": [
    "# get share prices and dividend yield data\n",
    "ticker_all_price = utils.get_historical_share_dividend(share_name, merged_nat_curr)"
   ]
  },
  {
   "cell_type": "code",
   "execution_count": null,
   "id": "f29ea234",
   "metadata": {
    "execution": {
     "iopub.execute_input": "2024-08-03T15:55:45.847117Z",
     "iopub.status.busy": "2024-08-03T15:55:45.846979Z",
     "iopub.status.idle": "2024-08-03T15:55:46.023856Z",
     "shell.execute_reply": "2024-08-03T15:55:46.023592Z"
    },
    "papermill": {
     "duration": 0.188653,
     "end_time": "2024-08-03T15:55:46.024950",
     "exception": false,
     "start_time": "2024-08-03T15:55:45.836297",
     "status": "completed"
    },
    "tags": []
   },
   "outputs": [],
   "source": [
    "# Pearson's correlation coefficient between share price and USD - national currency rate\n",
    "utils.get_currency_share_price_correlation(share_name, usd_nat_curr, ticker_all_price)"
   ]
  },
  {
   "cell_type": "markdown",
   "id": "6c27e89a",
   "metadata": {
    "papermill": {
     "duration": 0.010753,
     "end_time": "2024-08-03T15:55:46.051452",
     "exception": false,
     "start_time": "2024-08-03T15:55:46.040699",
     "status": "completed"
    },
    "tags": []
   },
   "source": [
    "# Share price and value ratios"
   ]
  },
  {
   "cell_type": "code",
   "execution_count": null,
   "id": "8e79515d",
   "metadata": {
    "execution": {
     "iopub.execute_input": "2024-08-03T15:55:46.075961Z",
     "iopub.status.busy": "2024-08-03T15:55:46.075835Z",
     "iopub.status.idle": "2024-08-03T15:55:50.377816Z",
     "shell.execute_reply": "2024-08-03T15:55:50.377551Z"
    },
    "papermill": {
     "duration": 4.315445,
     "end_time": "2024-08-03T15:55:50.378734",
     "exception": false,
     "start_time": "2024-08-03T15:55:46.063289",
     "status": "completed"
    },
    "tags": []
   },
   "outputs": [],
   "source": [
    "for column in merged_nat_curr.columns[3:]:\n",
    "    fig, ax1 = plt.subplots(figsize=(15, 6))\n",
    "\n",
    "    ax2 = ax1.twinx()\n",
    "    ax1.plot(merged_nat_curr['real_date'], merged_nat_curr[column], color='k', label=merged_nat_curr)\n",
    "    ax2.plot(ticker_all_price.index, ticker_all_price['Close'], color='b', label=share_name)\n",
    "\n",
    "    ax1.set_xlabel('Date')\n",
    "    ax1.set_ylabel(column, color='k')\n",
    "    ax2.set_ylabel('Share price (national currency)', color='b')\n",
    "\n",
    "    plt.legend()\n",
    "    plt.show()"
   ]
  },
  {
   "cell_type": "code",
   "execution_count": null,
   "id": "ec800022",
   "metadata": {
    "execution": {
     "iopub.execute_input": "2024-08-03T15:55:50.425438Z",
     "iopub.status.busy": "2024-08-03T15:55:50.425296Z",
     "iopub.status.idle": "2024-08-03T15:55:51.330701Z",
     "shell.execute_reply": "2024-08-03T15:55:51.330386Z"
    },
    "papermill": {
     "duration": 0.929121,
     "end_time": "2024-08-03T15:55:51.331596",
     "exception": false,
     "start_time": "2024-08-03T15:55:50.402475",
     "status": "completed"
    },
    "tags": []
   },
   "outputs": [],
   "source": [
    "# plot histograms of value parameters\n",
    "utils.plot_histogram_value_parameters(input_df=merged_nat_curr, extra_parameters=[], owned_shares=owned_shares)"
   ]
  },
  {
   "cell_type": "markdown",
   "id": "62f3d01f",
   "metadata": {
    "papermill": {
     "duration": 0.02192,
     "end_time": "2024-08-03T15:55:51.383054",
     "exception": false,
     "start_time": "2024-08-03T15:55:51.361134",
     "status": "completed"
    },
    "tags": []
   },
   "source": [
    "## Calculate correlation between value parameters"
   ]
  },
  {
   "cell_type": "code",
   "execution_count": null,
   "id": "83578318",
   "metadata": {
    "execution": {
     "iopub.execute_input": "2024-08-03T15:55:51.429020Z",
     "iopub.status.busy": "2024-08-03T15:55:51.428874Z",
     "iopub.status.idle": "2024-08-03T15:55:51.434156Z",
     "shell.execute_reply": "2024-08-03T15:55:51.433919Z"
    },
    "papermill": {
     "duration": 0.029518,
     "end_time": "2024-08-03T15:55:51.434977",
     "exception": false,
     "start_time": "2024-08-03T15:55:51.405459",
     "status": "completed"
    },
    "tags": []
   },
   "outputs": [],
   "source": [
    "# calulate value parameters Pearson's correlation coefficient\n",
    "pd.DataFrame(merged_nat_curr, columns=['roa', 'roe', 'pe_ratio', 'pb_ratio', 'ps_ratio', 'ev_revenue', 'debt_to_equity', 'current_ratio']).corr()"
   ]
  },
  {
   "cell_type": "code",
   "execution_count": null,
   "id": "e3a67937",
   "metadata": {},
   "outputs": [],
   "source": [
    "final_df = utils.get_value_stock_target_prices(\n",
    "    input_df=merged_nat_curr,\n",
    "    min_pct=0.2,\n",
    "    max_pct=0.5,\n",
    "    owned_shares=owned_shares\n",
    ")"
   ]
  }
 ],
 "metadata": {
  "kernelspec": {
   "display_name": ".venv",
   "language": "python",
   "name": "python3"
  },
  "language_info": {
   "codemirror_mode": {
    "name": "ipython",
    "version": 3
   },
   "file_extension": ".py",
   "mimetype": "text/x-python",
   "name": "python",
   "nbconvert_exporter": "python",
   "pygments_lexer": "ipython3",
   "version": "3.11.3"
  },
  "papermill": {
   "default_parameters": {},
   "duration": 18.063602,
   "end_time": "2024-08-03T15:55:51.884019",
   "environment_variables": {},
   "exception": null,
   "input_path": "../notebooks/lanxess_national.ipynb",
   "output_path": "../notebooks/lanxess_national.ipynb",
   "parameters": {},
   "start_time": "2024-08-03T15:55:33.820417",
   "version": "2.5.0"
  }
 },
 "nbformat": 4,
 "nbformat_minor": 5
}
