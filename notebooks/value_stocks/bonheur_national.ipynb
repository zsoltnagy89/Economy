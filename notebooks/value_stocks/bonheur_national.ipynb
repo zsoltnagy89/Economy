{
 "cells": [
  {
   "cell_type": "markdown",
   "id": "936f2b17",
   "metadata": {
    "tags": [
     "papermill-error-cell-tag"
    ]
   },
   "source": [
    "<span style=\"color:red; font-family:Helvetica Neue, Helvetica, Arial, sans-serif; font-size:2em;\">An Exception was encountered at '<a href=\"#papermill-error-cell\">In [12]</a>'.</span>"
   ]
  },
  {
   "cell_type": "code",
   "execution_count": 1,
   "id": "8740de05",
   "metadata": {
    "execution": {
     "iopub.execute_input": "2024-08-06T13:16:48.285718Z",
     "iopub.status.busy": "2024-08-06T13:16:48.285372Z",
     "iopub.status.idle": "2024-08-06T13:16:49.043251Z",
     "shell.execute_reply": "2024-08-06T13:16:49.042996Z"
    },
    "papermill": {
     "duration": 0.785666,
     "end_time": "2024-08-06T13:16:49.044489",
     "exception": false,
     "start_time": "2024-08-06T13:16:48.258823",
     "status": "completed"
    },
    "tags": []
   },
   "outputs": [],
   "source": [
    "import pandas as pd\n",
    "import matplotlib.pyplot as plt\n",
    "import numpy as np\n",
    "\n",
    "import yfinance as yf\n",
    "import datetime\n",
    "\n",
    "from valueinvesting import utils as utils"
   ]
  },
  {
   "cell_type": "markdown",
   "id": "216061eb",
   "metadata": {
    "papermill": {
     "duration": 0.010154,
     "end_time": "2024-08-06T13:16:49.077188",
     "exception": false,
     "start_time": "2024-08-06T13:16:49.067034",
     "status": "completed"
    },
    "tags": []
   },
   "source": [
    "# 1. Load raw input\n",
    "## Hardcoded block"
   ]
  },
  {
   "cell_type": "code",
   "execution_count": 2,
   "id": "c85568ce",
   "metadata": {
    "execution": {
     "iopub.execute_input": "2024-08-06T13:16:49.098960Z",
     "iopub.status.busy": "2024-08-06T13:16:49.098754Z",
     "iopub.status.idle": "2024-08-06T13:16:49.100824Z",
     "shell.execute_reply": "2024-08-06T13:16:49.100535Z"
    },
    "papermill": {
     "duration": 0.01348,
     "end_time": "2024-08-06T13:16:49.101799",
     "exception": false,
     "start_time": "2024-08-06T13:16:49.088319",
     "status": "completed"
    },
    "tags": []
   },
   "outputs": [],
   "source": [
    "evaluate_last_X_years = True\n",
    "X=10\n",
    "currency_pair = 'NOK=X'\n",
    "numbers_in_currency = 'NOK'\n",
    "share_name = 'BONHR.OL'"
   ]
  },
  {
   "cell_type": "markdown",
   "id": "d72aefb9",
   "metadata": {
    "papermill": {
     "duration": 0.005414,
     "end_time": "2024-08-06T13:16:49.113063",
     "exception": false,
     "start_time": "2024-08-06T13:16:49.107649",
     "status": "completed"
    },
    "tags": []
   },
   "source": [
    "# 1.2. Raw input statement data"
   ]
  },
  {
   "cell_type": "code",
   "execution_count": 3,
   "id": "72603e68",
   "metadata": {
    "execution": {
     "iopub.execute_input": "2024-08-06T13:16:49.124952Z",
     "iopub.status.busy": "2024-08-06T13:16:49.124808Z",
     "iopub.status.idle": "2024-08-06T13:16:49.136626Z",
     "shell.execute_reply": "2024-08-06T13:16:49.136342Z"
    },
    "papermill": {
     "duration": 0.019046,
     "end_time": "2024-08-06T13:16:49.137699",
     "exception": false,
     "start_time": "2024-08-06T13:16:49.118653",
     "status": "completed"
    },
    "tags": []
   },
   "outputs": [],
   "source": [
    "route = f\"../data/input/{share_name}_data.csv\"\n",
    "data = pd.read_csv(route, sep=';', parse_dates=['date', 'real_date'])\n",
    "# replace -, extend missing 0-s, fix datatype\n",
    "data = utils.replace_format_input(data)"
   ]
  },
  {
   "cell_type": "code",
   "execution_count": 4,
   "id": "f867fc03",
   "metadata": {
    "execution": {
     "iopub.execute_input": "2024-08-06T13:16:49.149118Z",
     "iopub.status.busy": "2024-08-06T13:16:49.148983Z",
     "iopub.status.idle": "2024-08-06T13:16:49.152979Z",
     "shell.execute_reply": "2024-08-06T13:16:49.152703Z"
    },
    "papermill": {
     "duration": 0.010283,
     "end_time": "2024-08-06T13:16:49.153885",
     "exception": false,
     "start_time": "2024-08-06T13:16:49.143602",
     "status": "completed"
    },
    "tags": []
   },
   "outputs": [],
   "source": [
    "owned_shares = pd.read_csv('../data/extras/owned_stocks.csv', sep=';', parse_dates=['date'])\n",
    "owned_shares = owned_shares.loc[(owned_shares['stock'] == share_name) & (owned_shares['active'] == 'yes')]"
   ]
  },
  {
   "cell_type": "markdown",
   "id": "6aa7ccad",
   "metadata": {
    "papermill": {
     "duration": 0.005119,
     "end_time": "2024-08-06T13:16:49.164490",
     "exception": false,
     "start_time": "2024-08-06T13:16:49.159371",
     "status": "completed"
    },
    "tags": []
   },
   "source": [
    "## (OPTIONAL) Time Filtering - Last 7 years daat"
   ]
  },
  {
   "cell_type": "code",
   "execution_count": 5,
   "id": "8747180f",
   "metadata": {
    "execution": {
     "iopub.execute_input": "2024-08-06T13:16:49.176390Z",
     "iopub.status.busy": "2024-08-06T13:16:49.176165Z",
     "iopub.status.idle": "2024-08-06T13:16:49.185790Z",
     "shell.execute_reply": "2024-08-06T13:16:49.185539Z"
    },
    "papermill": {
     "duration": 0.016644,
     "end_time": "2024-08-06T13:16:49.186630",
     "exception": false,
     "start_time": "2024-08-06T13:16:49.169986",
     "status": "completed"
    },
    "tags": []
   },
   "outputs": [
    {
     "data": {
      "text/html": [
       "<div>\n",
       "<style scoped>\n",
       "    .dataframe tbody tr th:only-of-type {\n",
       "        vertical-align: middle;\n",
       "    }\n",
       "\n",
       "    .dataframe tbody tr th {\n",
       "        vertical-align: top;\n",
       "    }\n",
       "\n",
       "    .dataframe thead th {\n",
       "        text-align: right;\n",
       "    }\n",
       "</style>\n",
       "<table border=\"1\" class=\"dataframe\">\n",
       "  <thead>\n",
       "    <tr style=\"text-align: right;\">\n",
       "      <th></th>\n",
       "      <th>date</th>\n",
       "      <th>revenue</th>\n",
       "      <th>cogs</th>\n",
       "      <th>gross_profit</th>\n",
       "      <th>net_profit</th>\n",
       "      <th>cash</th>\n",
       "      <th>acc_rec</th>\n",
       "      <th>inventory</th>\n",
       "      <th>curr_assets</th>\n",
       "      <th>goodwill</th>\n",
       "      <th>...</th>\n",
       "      <th>acc_pay</th>\n",
       "      <th>short_term_debt</th>\n",
       "      <th>current_debt</th>\n",
       "      <th>curr_liab</th>\n",
       "      <th>long_term_debt</th>\n",
       "      <th>total_liab</th>\n",
       "      <th>cash_from_operating_activities</th>\n",
       "      <th>capex</th>\n",
       "      <th>shares</th>\n",
       "      <th>real_date</th>\n",
       "    </tr>\n",
       "  </thead>\n",
       "  <tbody>\n",
       "    <tr>\n",
       "      <th>0</th>\n",
       "      <td>2014-06-30</td>\n",
       "      <td>2771</td>\n",
       "      <td>0</td>\n",
       "      <td>2771</td>\n",
       "      <td>130</td>\n",
       "      <td>5862</td>\n",
       "      <td>0</td>\n",
       "      <td>811</td>\n",
       "      <td>9007</td>\n",
       "      <td>0</td>\n",
       "      <td>...</td>\n",
       "      <td>0</td>\n",
       "      <td>0</td>\n",
       "      <td>2588</td>\n",
       "      <td>7835</td>\n",
       "      <td>14197</td>\n",
       "      <td>28917</td>\n",
       "      <td>990</td>\n",
       "      <td>-1363</td>\n",
       "      <td>32.3</td>\n",
       "      <td>2014-07-15</td>\n",
       "    </tr>\n",
       "    <tr>\n",
       "      <th>1</th>\n",
       "      <td>2014-09-30</td>\n",
       "      <td>3411</td>\n",
       "      <td>0</td>\n",
       "      <td>3411</td>\n",
       "      <td>-38</td>\n",
       "      <td>6741</td>\n",
       "      <td>0</td>\n",
       "      <td>872</td>\n",
       "      <td>10079</td>\n",
       "      <td>0</td>\n",
       "      <td>...</td>\n",
       "      <td>0</td>\n",
       "      <td>0</td>\n",
       "      <td>1886</td>\n",
       "      <td>6751</td>\n",
       "      <td>16568</td>\n",
       "      <td>30486</td>\n",
       "      <td>290</td>\n",
       "      <td>-1237</td>\n",
       "      <td>32.3</td>\n",
       "      <td>2014-10-25</td>\n",
       "    </tr>\n",
       "    <tr>\n",
       "      <th>2</th>\n",
       "      <td>2014-12-31</td>\n",
       "      <td>3440</td>\n",
       "      <td>0</td>\n",
       "      <td>3440</td>\n",
       "      <td>273</td>\n",
       "      <td>5673</td>\n",
       "      <td>0</td>\n",
       "      <td>995</td>\n",
       "      <td>9250</td>\n",
       "      <td>0</td>\n",
       "      <td>...</td>\n",
       "      <td>0</td>\n",
       "      <td>0</td>\n",
       "      <td>1148</td>\n",
       "      <td>7409</td>\n",
       "      <td>17602</td>\n",
       "      <td>33485</td>\n",
       "      <td>1202</td>\n",
       "      <td>-1219</td>\n",
       "      <td>32.3</td>\n",
       "      <td>2015-02-14</td>\n",
       "    </tr>\n",
       "    <tr>\n",
       "      <th>3</th>\n",
       "      <td>2015-03-31</td>\n",
       "      <td>3707</td>\n",
       "      <td>0</td>\n",
       "      <td>3707</td>\n",
       "      <td>614</td>\n",
       "      <td>5501</td>\n",
       "      <td>0</td>\n",
       "      <td>1152</td>\n",
       "      <td>9374</td>\n",
       "      <td>0</td>\n",
       "      <td>...</td>\n",
       "      <td>0</td>\n",
       "      <td>0</td>\n",
       "      <td>1995</td>\n",
       "      <td>8551</td>\n",
       "      <td>17531</td>\n",
       "      <td>35532</td>\n",
       "      <td>-2032</td>\n",
       "      <td>5736</td>\n",
       "      <td>32.3</td>\n",
       "      <td>2015-05-05</td>\n",
       "    </tr>\n",
       "    <tr>\n",
       "      <th>4</th>\n",
       "      <td>2015-06-30</td>\n",
       "      <td>3918</td>\n",
       "      <td>0</td>\n",
       "      <td>3918</td>\n",
       "      <td>-2390</td>\n",
       "      <td>8952</td>\n",
       "      <td>0</td>\n",
       "      <td>1111</td>\n",
       "      <td>12987</td>\n",
       "      <td>0</td>\n",
       "      <td>...</td>\n",
       "      <td>0</td>\n",
       "      <td>0</td>\n",
       "      <td>3370</td>\n",
       "      <td>10468</td>\n",
       "      <td>17300</td>\n",
       "      <td>35884</td>\n",
       "      <td>1789</td>\n",
       "      <td>-1271</td>\n",
       "      <td>32.3</td>\n",
       "      <td>2015-07-15</td>\n",
       "    </tr>\n",
       "  </tbody>\n",
       "</table>\n",
       "<p>5 rows × 22 columns</p>\n",
       "</div>"
      ],
      "text/plain": [
       "        date  revenue  cogs  gross_profit  net_profit  cash  acc_rec  \\\n",
       "0 2014-06-30     2771     0          2771         130  5862        0   \n",
       "1 2014-09-30     3411     0          3411         -38  6741        0   \n",
       "2 2014-12-31     3440     0          3440         273  5673        0   \n",
       "3 2015-03-31     3707     0          3707         614  5501        0   \n",
       "4 2015-06-30     3918     0          3918       -2390  8952        0   \n",
       "\n",
       "   inventory  curr_assets  goodwill  ...  acc_pay  short_term_debt  \\\n",
       "0        811         9007         0  ...        0                0   \n",
       "1        872        10079         0  ...        0                0   \n",
       "2        995         9250         0  ...        0                0   \n",
       "3       1152         9374         0  ...        0                0   \n",
       "4       1111        12987         0  ...        0                0   \n",
       "\n",
       "   current_debt  curr_liab  long_term_debt  total_liab  \\\n",
       "0          2588       7835           14197       28917   \n",
       "1          1886       6751           16568       30486   \n",
       "2          1148       7409           17602       33485   \n",
       "3          1995       8551           17531       35532   \n",
       "4          3370      10468           17300       35884   \n",
       "\n",
       "   cash_from_operating_activities  capex  shares  real_date  \n",
       "0                             990  -1363    32.3 2014-07-15  \n",
       "1                             290  -1237    32.3 2014-10-25  \n",
       "2                            1202  -1219    32.3 2015-02-14  \n",
       "3                           -2032   5736    32.3 2015-05-05  \n",
       "4                            1789  -1271    32.3 2015-07-15  \n",
       "\n",
       "[5 rows x 22 columns]"
      ]
     },
     "execution_count": 5,
     "metadata": {},
     "output_type": "execute_result"
    }
   ],
   "source": [
    "if evaluate_last_X_years:\n",
    "    data = data[data['date'] > datetime.datetime.today() - datetime.timedelta(days=X*366+93)]\n",
    "    data = data.reset_index(drop=True)\n",
    "\n",
    "data.head()"
   ]
  },
  {
   "cell_type": "markdown",
   "id": "25aec9c9",
   "metadata": {
    "papermill": {
     "duration": 0.004824,
     "end_time": "2024-08-06T13:16:49.196865",
     "exception": false,
     "start_time": "2024-08-06T13:16:49.192041",
     "status": "completed"
    },
    "tags": []
   },
   "source": [
    "## Calculate date when quaterly reports could be available"
   ]
  },
  {
   "cell_type": "code",
   "execution_count": 6,
   "id": "147fab67",
   "metadata": {
    "execution": {
     "iopub.execute_input": "2024-08-06T13:16:49.207610Z",
     "iopub.status.busy": "2024-08-06T13:16:49.207380Z",
     "iopub.status.idle": "2024-08-06T13:16:49.209344Z",
     "shell.execute_reply": "2024-08-06T13:16:49.209092Z"
    },
    "papermill": {
     "duration": 0.008449,
     "end_time": "2024-08-06T13:16:49.210213",
     "exception": false,
     "start_time": "2024-08-06T13:16:49.201764",
     "status": "completed"
    },
    "tags": []
   },
   "outputs": [],
   "source": [
    "data = utils.calculate_real_date(data)"
   ]
  },
  {
   "cell_type": "markdown",
   "id": "a478a2aa",
   "metadata": {
    "papermill": {
     "duration": 0.005024,
     "end_time": "2024-08-06T13:16:49.220432",
     "exception": false,
     "start_time": "2024-08-06T13:16:49.215408",
     "status": "completed"
    },
    "tags": []
   },
   "source": [
    "# 2. Filter out unnecesary columns"
   ]
  },
  {
   "cell_type": "code",
   "execution_count": 7,
   "id": "e0c0cb09",
   "metadata": {
    "execution": {
     "iopub.execute_input": "2024-08-06T13:16:49.231612Z",
     "iopub.status.busy": "2024-08-06T13:16:49.231372Z",
     "iopub.status.idle": "2024-08-06T13:16:49.237809Z",
     "shell.execute_reply": "2024-08-06T13:16:49.237541Z"
    },
    "papermill": {
     "duration": 0.012913,
     "end_time": "2024-08-06T13:16:49.238627",
     "exception": false,
     "start_time": "2024-08-06T13:16:49.225714",
     "status": "completed"
    },
    "tags": []
   },
   "outputs": [
    {
     "data": {
      "text/html": [
       "<div>\n",
       "<style scoped>\n",
       "    .dataframe tbody tr th:only-of-type {\n",
       "        vertical-align: middle;\n",
       "    }\n",
       "\n",
       "    .dataframe tbody tr th {\n",
       "        vertical-align: top;\n",
       "    }\n",
       "\n",
       "    .dataframe thead th {\n",
       "        text-align: right;\n",
       "    }\n",
       "</style>\n",
       "<table border=\"1\" class=\"dataframe\">\n",
       "  <thead>\n",
       "    <tr style=\"text-align: right;\">\n",
       "      <th></th>\n",
       "      <th>date</th>\n",
       "      <th>real_date</th>\n",
       "      <th>shares</th>\n",
       "      <th>revenue</th>\n",
       "      <th>cogs</th>\n",
       "      <th>gross_profit</th>\n",
       "      <th>net_profit</th>\n",
       "      <th>cash</th>\n",
       "      <th>acc_rec</th>\n",
       "      <th>inventory</th>\n",
       "      <th>...</th>\n",
       "      <th>intangible_assets</th>\n",
       "      <th>total_assets</th>\n",
       "      <th>acc_pay</th>\n",
       "      <th>short_term_debt</th>\n",
       "      <th>current_debt</th>\n",
       "      <th>curr_liab</th>\n",
       "      <th>long_term_debt</th>\n",
       "      <th>total_liab</th>\n",
       "      <th>cash_from_operating_activities</th>\n",
       "      <th>capex</th>\n",
       "    </tr>\n",
       "  </thead>\n",
       "  <tbody>\n",
       "    <tr>\n",
       "      <th>36</th>\n",
       "      <td>2023-06-30</td>\n",
       "      <td>2023-07-15</td>\n",
       "      <td>42.50</td>\n",
       "      <td>2834</td>\n",
       "      <td>0</td>\n",
       "      <td>2834</td>\n",
       "      <td>555</td>\n",
       "      <td>6222</td>\n",
       "      <td>0</td>\n",
       "      <td>406</td>\n",
       "      <td>...</td>\n",
       "      <td>1250</td>\n",
       "      <td>24510</td>\n",
       "      <td>0</td>\n",
       "      <td>0</td>\n",
       "      <td>1569</td>\n",
       "      <td>5146</td>\n",
       "      <td>9421</td>\n",
       "      <td>17824</td>\n",
       "      <td>465</td>\n",
       "      <td>-251</td>\n",
       "    </tr>\n",
       "    <tr>\n",
       "      <th>37</th>\n",
       "      <td>2023-09-30</td>\n",
       "      <td>2023-10-25</td>\n",
       "      <td>42.50</td>\n",
       "      <td>3197</td>\n",
       "      <td>0</td>\n",
       "      <td>3197</td>\n",
       "      <td>172</td>\n",
       "      <td>5998</td>\n",
       "      <td>0</td>\n",
       "      <td>408</td>\n",
       "      <td>...</td>\n",
       "      <td>1186</td>\n",
       "      <td>23462</td>\n",
       "      <td>0</td>\n",
       "      <td>0</td>\n",
       "      <td>2413</td>\n",
       "      <td>5889</td>\n",
       "      <td>8202</td>\n",
       "      <td>16905</td>\n",
       "      <td>348</td>\n",
       "      <td>-248</td>\n",
       "    </tr>\n",
       "    <tr>\n",
       "      <th>38</th>\n",
       "      <td>2023-12-31</td>\n",
       "      <td>2024-02-14</td>\n",
       "      <td>42.50</td>\n",
       "      <td>3531</td>\n",
       "      <td>0</td>\n",
       "      <td>3531</td>\n",
       "      <td>287</td>\n",
       "      <td>5460</td>\n",
       "      <td>0</td>\n",
       "      <td>549</td>\n",
       "      <td>...</td>\n",
       "      <td>1223</td>\n",
       "      <td>23476</td>\n",
       "      <td>0</td>\n",
       "      <td>0</td>\n",
       "      <td>2363</td>\n",
       "      <td>5997</td>\n",
       "      <td>7717</td>\n",
       "      <td>16799</td>\n",
       "      <td>1</td>\n",
       "      <td>-294</td>\n",
       "    </tr>\n",
       "    <tr>\n",
       "      <th>39</th>\n",
       "      <td>2024-03-31</td>\n",
       "      <td>2024-04-29</td>\n",
       "      <td>42.53</td>\n",
       "      <td>2973</td>\n",
       "      <td>0</td>\n",
       "      <td>2973</td>\n",
       "      <td>304</td>\n",
       "      <td>6545</td>\n",
       "      <td>2839</td>\n",
       "      <td>556</td>\n",
       "      <td>...</td>\n",
       "      <td>1261</td>\n",
       "      <td>24581</td>\n",
       "      <td>0</td>\n",
       "      <td>0</td>\n",
       "      <td>2209</td>\n",
       "      <td>6166</td>\n",
       "      <td>8275</td>\n",
       "      <td>16377</td>\n",
       "      <td>1337</td>\n",
       "      <td>-342</td>\n",
       "    </tr>\n",
       "    <tr>\n",
       "      <th>40</th>\n",
       "      <td>2024-06-30</td>\n",
       "      <td>2024-07-08</td>\n",
       "      <td>42.53</td>\n",
       "      <td>4283</td>\n",
       "      <td>0</td>\n",
       "      <td>4283</td>\n",
       "      <td>694</td>\n",
       "      <td>6802</td>\n",
       "      <td>2715</td>\n",
       "      <td>392</td>\n",
       "      <td>...</td>\n",
       "      <td>1255</td>\n",
       "      <td>24222</td>\n",
       "      <td>0</td>\n",
       "      <td>0</td>\n",
       "      <td>2167</td>\n",
       "      <td>6164</td>\n",
       "      <td>7662</td>\n",
       "      <td>15759</td>\n",
       "      <td>1313</td>\n",
       "      <td>-243</td>\n",
       "    </tr>\n",
       "  </tbody>\n",
       "</table>\n",
       "<p>5 rows × 22 columns</p>\n",
       "</div>"
      ],
      "text/plain": [
       "         date  real_date  shares  revenue  cogs  gross_profit  net_profit  \\\n",
       "36 2023-06-30 2023-07-15   42.50     2834     0          2834         555   \n",
       "37 2023-09-30 2023-10-25   42.50     3197     0          3197         172   \n",
       "38 2023-12-31 2024-02-14   42.50     3531     0          3531         287   \n",
       "39 2024-03-31 2024-04-29   42.53     2973     0          2973         304   \n",
       "40 2024-06-30 2024-07-08   42.53     4283     0          4283         694   \n",
       "\n",
       "    cash  acc_rec  inventory  ...  intangible_assets  total_assets  acc_pay  \\\n",
       "36  6222        0        406  ...               1250         24510        0   \n",
       "37  5998        0        408  ...               1186         23462        0   \n",
       "38  5460        0        549  ...               1223         23476        0   \n",
       "39  6545     2839        556  ...               1261         24581        0   \n",
       "40  6802     2715        392  ...               1255         24222        0   \n",
       "\n",
       "    short_term_debt  current_debt  curr_liab  long_term_debt  total_liab  \\\n",
       "36                0          1569       5146            9421       17824   \n",
       "37                0          2413       5889            8202       16905   \n",
       "38                0          2363       5997            7717       16799   \n",
       "39                0          2209       6166            8275       16377   \n",
       "40                0          2167       6164            7662       15759   \n",
       "\n",
       "    cash_from_operating_activities  capex  \n",
       "36                             465   -251  \n",
       "37                             348   -248  \n",
       "38                               1   -294  \n",
       "39                            1337   -342  \n",
       "40                            1313   -243  \n",
       "\n",
       "[5 rows x 22 columns]"
      ]
     },
     "execution_count": 7,
     "metadata": {},
     "output_type": "execute_result"
    }
   ],
   "source": [
    "data = utils.filter_raw_data(data)\n",
    "data.tail()"
   ]
  },
  {
   "cell_type": "markdown",
   "id": "43b3117b",
   "metadata": {
    "papermill": {
     "duration": 0.005005,
     "end_time": "2024-08-06T13:16:49.249081",
     "exception": false,
     "start_time": "2024-08-06T13:16:49.244076",
     "status": "completed"
    },
    "tags": []
   },
   "source": [
    "## Pull historical average USD national currency rates and add to the dataframe"
   ]
  },
  {
   "cell_type": "code",
   "execution_count": 8,
   "id": "6a0395f0",
   "metadata": {
    "execution": {
     "iopub.execute_input": "2024-08-06T13:16:49.260309Z",
     "iopub.status.busy": "2024-08-06T13:16:49.260175Z",
     "iopub.status.idle": "2024-08-06T13:16:57.771647Z",
     "shell.execute_reply": "2024-08-06T13:16:57.771141Z"
    },
    "papermill": {
     "duration": 8.519069,
     "end_time": "2024-08-06T13:16:57.773434",
     "exception": false,
     "start_time": "2024-08-06T13:16:49.254365",
     "status": "completed"
    },
    "tags": []
   },
   "outputs": [
    {
     "data": {
      "text/html": [
       "<div>\n",
       "<style scoped>\n",
       "    .dataframe tbody tr th:only-of-type {\n",
       "        vertical-align: middle;\n",
       "    }\n",
       "\n",
       "    .dataframe tbody tr th {\n",
       "        vertical-align: top;\n",
       "    }\n",
       "\n",
       "    .dataframe thead th {\n",
       "        text-align: right;\n",
       "    }\n",
       "</style>\n",
       "<table border=\"1\" class=\"dataframe\">\n",
       "  <thead>\n",
       "    <tr style=\"text-align: right;\">\n",
       "      <th></th>\n",
       "      <th>date</th>\n",
       "      <th>real_date</th>\n",
       "      <th>shares</th>\n",
       "      <th>revenue</th>\n",
       "      <th>cogs</th>\n",
       "      <th>gross_profit</th>\n",
       "      <th>net_profit</th>\n",
       "      <th>cash</th>\n",
       "      <th>acc_rec</th>\n",
       "      <th>inventory</th>\n",
       "      <th>...</th>\n",
       "      <th>total_assets</th>\n",
       "      <th>acc_pay</th>\n",
       "      <th>short_term_debt</th>\n",
       "      <th>current_debt</th>\n",
       "      <th>curr_liab</th>\n",
       "      <th>long_term_debt</th>\n",
       "      <th>total_liab</th>\n",
       "      <th>cash_from_operating_activities</th>\n",
       "      <th>capex</th>\n",
       "      <th>usd_nat_currency</th>\n",
       "    </tr>\n",
       "  </thead>\n",
       "  <tbody>\n",
       "    <tr>\n",
       "      <th>36</th>\n",
       "      <td>2023-06-30</td>\n",
       "      <td>2023-07-15</td>\n",
       "      <td>42.50</td>\n",
       "      <td>2834</td>\n",
       "      <td>0</td>\n",
       "      <td>2834</td>\n",
       "      <td>555</td>\n",
       "      <td>6222</td>\n",
       "      <td>0</td>\n",
       "      <td>406</td>\n",
       "      <td>...</td>\n",
       "      <td>24510</td>\n",
       "      <td>0</td>\n",
       "      <td>0</td>\n",
       "      <td>1569</td>\n",
       "      <td>5146</td>\n",
       "      <td>9421</td>\n",
       "      <td>17824</td>\n",
       "      <td>465</td>\n",
       "      <td>-251</td>\n",
       "      <td>10.699984</td>\n",
       "    </tr>\n",
       "    <tr>\n",
       "      <th>37</th>\n",
       "      <td>2023-09-30</td>\n",
       "      <td>2023-10-25</td>\n",
       "      <td>42.50</td>\n",
       "      <td>3197</td>\n",
       "      <td>0</td>\n",
       "      <td>3197</td>\n",
       "      <td>172</td>\n",
       "      <td>5998</td>\n",
       "      <td>0</td>\n",
       "      <td>408</td>\n",
       "      <td>...</td>\n",
       "      <td>23462</td>\n",
       "      <td>0</td>\n",
       "      <td>0</td>\n",
       "      <td>2413</td>\n",
       "      <td>5889</td>\n",
       "      <td>8202</td>\n",
       "      <td>16905</td>\n",
       "      <td>348</td>\n",
       "      <td>-248</td>\n",
       "      <td>10.483742</td>\n",
       "    </tr>\n",
       "    <tr>\n",
       "      <th>38</th>\n",
       "      <td>2023-12-31</td>\n",
       "      <td>2024-02-14</td>\n",
       "      <td>42.50</td>\n",
       "      <td>3531</td>\n",
       "      <td>0</td>\n",
       "      <td>3531</td>\n",
       "      <td>287</td>\n",
       "      <td>5460</td>\n",
       "      <td>0</td>\n",
       "      <td>549</td>\n",
       "      <td>...</td>\n",
       "      <td>23476</td>\n",
       "      <td>0</td>\n",
       "      <td>0</td>\n",
       "      <td>2363</td>\n",
       "      <td>5997</td>\n",
       "      <td>7717</td>\n",
       "      <td>16799</td>\n",
       "      <td>1</td>\n",
       "      <td>-294</td>\n",
       "      <td>10.821103</td>\n",
       "    </tr>\n",
       "    <tr>\n",
       "      <th>39</th>\n",
       "      <td>2024-03-31</td>\n",
       "      <td>2024-04-29</td>\n",
       "      <td>42.53</td>\n",
       "      <td>2973</td>\n",
       "      <td>0</td>\n",
       "      <td>2973</td>\n",
       "      <td>304</td>\n",
       "      <td>6545</td>\n",
       "      <td>2839</td>\n",
       "      <td>556</td>\n",
       "      <td>...</td>\n",
       "      <td>24581</td>\n",
       "      <td>0</td>\n",
       "      <td>0</td>\n",
       "      <td>2209</td>\n",
       "      <td>6166</td>\n",
       "      <td>8275</td>\n",
       "      <td>16377</td>\n",
       "      <td>1337</td>\n",
       "      <td>-342</td>\n",
       "      <td>10.502364</td>\n",
       "    </tr>\n",
       "    <tr>\n",
       "      <th>40</th>\n",
       "      <td>2024-06-30</td>\n",
       "      <td>2024-07-08</td>\n",
       "      <td>42.53</td>\n",
       "      <td>4283</td>\n",
       "      <td>0</td>\n",
       "      <td>4283</td>\n",
       "      <td>694</td>\n",
       "      <td>6802</td>\n",
       "      <td>2715</td>\n",
       "      <td>392</td>\n",
       "      <td>...</td>\n",
       "      <td>24222</td>\n",
       "      <td>0</td>\n",
       "      <td>0</td>\n",
       "      <td>2167</td>\n",
       "      <td>6164</td>\n",
       "      <td>7662</td>\n",
       "      <td>15759</td>\n",
       "      <td>1313</td>\n",
       "      <td>-243</td>\n",
       "      <td>10.750878</td>\n",
       "    </tr>\n",
       "  </tbody>\n",
       "</table>\n",
       "<p>5 rows × 23 columns</p>\n",
       "</div>"
      ],
      "text/plain": [
       "         date  real_date  shares  revenue  cogs  gross_profit  net_profit  \\\n",
       "36 2023-06-30 2023-07-15   42.50     2834     0          2834         555   \n",
       "37 2023-09-30 2023-10-25   42.50     3197     0          3197         172   \n",
       "38 2023-12-31 2024-02-14   42.50     3531     0          3531         287   \n",
       "39 2024-03-31 2024-04-29   42.53     2973     0          2973         304   \n",
       "40 2024-06-30 2024-07-08   42.53     4283     0          4283         694   \n",
       "\n",
       "    cash  acc_rec  inventory  ...  total_assets  acc_pay  short_term_debt  \\\n",
       "36  6222        0        406  ...         24510        0                0   \n",
       "37  5998        0        408  ...         23462        0                0   \n",
       "38  5460        0        549  ...         23476        0                0   \n",
       "39  6545     2839        556  ...         24581        0                0   \n",
       "40  6802     2715        392  ...         24222        0                0   \n",
       "\n",
       "    current_debt  curr_liab  long_term_debt  total_liab  \\\n",
       "36          1569       5146            9421       17824   \n",
       "37          2413       5889            8202       16905   \n",
       "38          2363       5997            7717       16799   \n",
       "39          2209       6166            8275       16377   \n",
       "40          2167       6164            7662       15759   \n",
       "\n",
       "    cash_from_operating_activities  capex  usd_nat_currency  \n",
       "36                             465   -251         10.699984  \n",
       "37                             348   -248         10.483742  \n",
       "38                               1   -294         10.821103  \n",
       "39                            1337   -342         10.502364  \n",
       "40                            1313   -243         10.750878  \n",
       "\n",
       "[5 rows x 23 columns]"
      ]
     },
     "execution_count": 8,
     "metadata": {},
     "output_type": "execute_result"
    }
   ],
   "source": [
    "data['usd_nat_currency'] = utils.daily_price(\n",
    "    ticker=currency_pair,\n",
    "    end=data['date'],\n",
    "    days_earlier=90\n",
    "    )\n",
    "\n",
    "# drop rows, when USD rates wasn't available\n",
    "data = data[data['usd_nat_currency'].notna()]\n",
    "\n",
    "data.tail()"
   ]
  },
  {
   "cell_type": "markdown",
   "id": "74f4d6f0",
   "metadata": {
    "papermill": {
     "duration": 0.01696,
     "end_time": "2024-08-06T13:16:57.811710",
     "exception": false,
     "start_time": "2024-08-06T13:16:57.794750",
     "status": "completed"
    },
    "tags": []
   },
   "source": [
    "## Convert USD values related to IS, BS, CFS to national currency"
   ]
  },
  {
   "cell_type": "code",
   "execution_count": 9,
   "id": "ddc5160c",
   "metadata": {
    "execution": {
     "iopub.execute_input": "2024-08-06T13:16:57.835945Z",
     "iopub.status.busy": "2024-08-06T13:16:57.835701Z",
     "iopub.status.idle": "2024-08-06T13:16:57.845102Z",
     "shell.execute_reply": "2024-08-06T13:16:57.844784Z"
    },
    "papermill": {
     "duration": 0.021226,
     "end_time": "2024-08-06T13:16:57.846328",
     "exception": false,
     "start_time": "2024-08-06T13:16:57.825102",
     "status": "completed"
    },
    "tags": []
   },
   "outputs": [
    {
     "data": {
      "text/html": [
       "<div>\n",
       "<style scoped>\n",
       "    .dataframe tbody tr th:only-of-type {\n",
       "        vertical-align: middle;\n",
       "    }\n",
       "\n",
       "    .dataframe tbody tr th {\n",
       "        vertical-align: top;\n",
       "    }\n",
       "\n",
       "    .dataframe thead th {\n",
       "        text-align: right;\n",
       "    }\n",
       "</style>\n",
       "<table border=\"1\" class=\"dataframe\">\n",
       "  <thead>\n",
       "    <tr style=\"text-align: right;\">\n",
       "      <th></th>\n",
       "      <th>date</th>\n",
       "      <th>real_date</th>\n",
       "      <th>shares</th>\n",
       "      <th>revenue</th>\n",
       "      <th>cogs</th>\n",
       "      <th>gross_profit</th>\n",
       "      <th>net_profit</th>\n",
       "      <th>cash</th>\n",
       "      <th>acc_rec</th>\n",
       "      <th>inventory</th>\n",
       "      <th>...</th>\n",
       "      <th>total_assets</th>\n",
       "      <th>acc_pay</th>\n",
       "      <th>short_term_debt</th>\n",
       "      <th>current_debt</th>\n",
       "      <th>curr_liab</th>\n",
       "      <th>long_term_debt</th>\n",
       "      <th>total_liab</th>\n",
       "      <th>cash_from_operating_activities</th>\n",
       "      <th>capex</th>\n",
       "      <th>usd_nat_currency</th>\n",
       "    </tr>\n",
       "  </thead>\n",
       "  <tbody>\n",
       "    <tr>\n",
       "      <th>36</th>\n",
       "      <td>2023-06-30</td>\n",
       "      <td>2023-07-15</td>\n",
       "      <td>42.50</td>\n",
       "      <td>2834</td>\n",
       "      <td>0</td>\n",
       "      <td>2834</td>\n",
       "      <td>555</td>\n",
       "      <td>6222</td>\n",
       "      <td>0</td>\n",
       "      <td>406</td>\n",
       "      <td>...</td>\n",
       "      <td>24510</td>\n",
       "      <td>0</td>\n",
       "      <td>0</td>\n",
       "      <td>1569</td>\n",
       "      <td>5146</td>\n",
       "      <td>9421</td>\n",
       "      <td>17824</td>\n",
       "      <td>465</td>\n",
       "      <td>-251</td>\n",
       "      <td>10.699984</td>\n",
       "    </tr>\n",
       "    <tr>\n",
       "      <th>37</th>\n",
       "      <td>2023-09-30</td>\n",
       "      <td>2023-10-25</td>\n",
       "      <td>42.50</td>\n",
       "      <td>3197</td>\n",
       "      <td>0</td>\n",
       "      <td>3197</td>\n",
       "      <td>172</td>\n",
       "      <td>5998</td>\n",
       "      <td>0</td>\n",
       "      <td>408</td>\n",
       "      <td>...</td>\n",
       "      <td>23462</td>\n",
       "      <td>0</td>\n",
       "      <td>0</td>\n",
       "      <td>2413</td>\n",
       "      <td>5889</td>\n",
       "      <td>8202</td>\n",
       "      <td>16905</td>\n",
       "      <td>348</td>\n",
       "      <td>-248</td>\n",
       "      <td>10.483742</td>\n",
       "    </tr>\n",
       "    <tr>\n",
       "      <th>38</th>\n",
       "      <td>2023-12-31</td>\n",
       "      <td>2024-02-14</td>\n",
       "      <td>42.50</td>\n",
       "      <td>3531</td>\n",
       "      <td>0</td>\n",
       "      <td>3531</td>\n",
       "      <td>287</td>\n",
       "      <td>5460</td>\n",
       "      <td>0</td>\n",
       "      <td>549</td>\n",
       "      <td>...</td>\n",
       "      <td>23476</td>\n",
       "      <td>0</td>\n",
       "      <td>0</td>\n",
       "      <td>2363</td>\n",
       "      <td>5997</td>\n",
       "      <td>7717</td>\n",
       "      <td>16799</td>\n",
       "      <td>1</td>\n",
       "      <td>-294</td>\n",
       "      <td>10.821103</td>\n",
       "    </tr>\n",
       "    <tr>\n",
       "      <th>39</th>\n",
       "      <td>2024-03-31</td>\n",
       "      <td>2024-04-29</td>\n",
       "      <td>42.53</td>\n",
       "      <td>2973</td>\n",
       "      <td>0</td>\n",
       "      <td>2973</td>\n",
       "      <td>304</td>\n",
       "      <td>6545</td>\n",
       "      <td>2839</td>\n",
       "      <td>556</td>\n",
       "      <td>...</td>\n",
       "      <td>24581</td>\n",
       "      <td>0</td>\n",
       "      <td>0</td>\n",
       "      <td>2209</td>\n",
       "      <td>6166</td>\n",
       "      <td>8275</td>\n",
       "      <td>16377</td>\n",
       "      <td>1337</td>\n",
       "      <td>-342</td>\n",
       "      <td>10.502364</td>\n",
       "    </tr>\n",
       "    <tr>\n",
       "      <th>40</th>\n",
       "      <td>2024-06-30</td>\n",
       "      <td>2024-07-08</td>\n",
       "      <td>42.53</td>\n",
       "      <td>4283</td>\n",
       "      <td>0</td>\n",
       "      <td>4283</td>\n",
       "      <td>694</td>\n",
       "      <td>6802</td>\n",
       "      <td>2715</td>\n",
       "      <td>392</td>\n",
       "      <td>...</td>\n",
       "      <td>24222</td>\n",
       "      <td>0</td>\n",
       "      <td>0</td>\n",
       "      <td>2167</td>\n",
       "      <td>6164</td>\n",
       "      <td>7662</td>\n",
       "      <td>15759</td>\n",
       "      <td>1313</td>\n",
       "      <td>-243</td>\n",
       "      <td>10.750878</td>\n",
       "    </tr>\n",
       "  </tbody>\n",
       "</table>\n",
       "<p>5 rows × 23 columns</p>\n",
       "</div>"
      ],
      "text/plain": [
       "         date  real_date  shares  revenue  cogs  gross_profit  net_profit  \\\n",
       "36 2023-06-30 2023-07-15   42.50     2834     0          2834         555   \n",
       "37 2023-09-30 2023-10-25   42.50     3197     0          3197         172   \n",
       "38 2023-12-31 2024-02-14   42.50     3531     0          3531         287   \n",
       "39 2024-03-31 2024-04-29   42.53     2973     0          2973         304   \n",
       "40 2024-06-30 2024-07-08   42.53     4283     0          4283         694   \n",
       "\n",
       "    cash  acc_rec  inventory  ...  total_assets  acc_pay  short_term_debt  \\\n",
       "36  6222        0        406  ...         24510        0                0   \n",
       "37  5998        0        408  ...         23462        0                0   \n",
       "38  5460        0        549  ...         23476        0                0   \n",
       "39  6545     2839        556  ...         24581        0                0   \n",
       "40  6802     2715        392  ...         24222        0                0   \n",
       "\n",
       "    current_debt  curr_liab  long_term_debt  total_liab  \\\n",
       "36          1569       5146            9421       17824   \n",
       "37          2413       5889            8202       16905   \n",
       "38          2363       5997            7717       16799   \n",
       "39          2209       6166            8275       16377   \n",
       "40          2167       6164            7662       15759   \n",
       "\n",
       "    cash_from_operating_activities  capex  usd_nat_currency  \n",
       "36                             465   -251         10.699984  \n",
       "37                             348   -248         10.483742  \n",
       "38                               1   -294         10.821103  \n",
       "39                            1337   -342         10.502364  \n",
       "40                            1313   -243         10.750878  \n",
       "\n",
       "[5 rows x 23 columns]"
      ]
     },
     "execution_count": 9,
     "metadata": {},
     "output_type": "execute_result"
    }
   ],
   "source": [
    "# convert columns into national currency if necessary\n",
    "if numbers_in_currency == 'USD':\n",
    "    data_nat_curr = utils.convert_national_currency(input_data=data, currency=data)\n",
    "else:\n",
    "    data_nat_curr = data.copy()\n",
    "data_nat_curr.tail()"
   ]
  },
  {
   "cell_type": "markdown",
   "id": "77ead51b",
   "metadata": {
    "papermill": {
     "duration": 0.007376,
     "end_time": "2024-08-06T13:16:57.862124",
     "exception": false,
     "start_time": "2024-08-06T13:16:57.854748",
     "status": "completed"
    },
    "tags": []
   },
   "source": [
    "# 3. Calculate input to Value Raios (eps, bv per share, fcf)\n",
    "## filter out unwanted columns"
   ]
  },
  {
   "cell_type": "code",
   "execution_count": 10,
   "id": "0cf2dd0c",
   "metadata": {
    "execution": {
     "iopub.execute_input": "2024-08-06T13:16:57.880995Z",
     "iopub.status.busy": "2024-08-06T13:16:57.880819Z",
     "iopub.status.idle": "2024-08-06T13:16:57.939760Z",
     "shell.execute_reply": "2024-08-06T13:16:57.939505Z"
    },
    "papermill": {
     "duration": 0.07098,
     "end_time": "2024-08-06T13:16:57.940593",
     "exception": false,
     "start_time": "2024-08-06T13:16:57.869613",
     "status": "completed"
    },
    "tags": []
   },
   "outputs": [
    {
     "data": {
      "text/html": [
       "<div>\n",
       "<style scoped>\n",
       "    .dataframe tbody tr th:only-of-type {\n",
       "        vertical-align: middle;\n",
       "    }\n",
       "\n",
       "    .dataframe tbody tr th {\n",
       "        vertical-align: top;\n",
       "    }\n",
       "\n",
       "    .dataframe thead th {\n",
       "        text-align: right;\n",
       "    }\n",
       "</style>\n",
       "<table border=\"1\" class=\"dataframe\">\n",
       "  <thead>\n",
       "    <tr style=\"text-align: right;\">\n",
       "      <th></th>\n",
       "      <th>date</th>\n",
       "      <th>real_date</th>\n",
       "      <th>shares</th>\n",
       "      <th>revenue</th>\n",
       "      <th>cogs</th>\n",
       "      <th>gross_profit</th>\n",
       "      <th>net_profit</th>\n",
       "      <th>cash</th>\n",
       "      <th>acc_rec</th>\n",
       "      <th>inventory</th>\n",
       "      <th>...</th>\n",
       "      <th>usd_nat_currency</th>\n",
       "      <th>net_profit_ttm</th>\n",
       "      <th>cash_from_operating_activities_ttm</th>\n",
       "      <th>capex_ttm</th>\n",
       "      <th>revenue_ttm</th>\n",
       "      <th>cogs_ttm</th>\n",
       "      <th>eps</th>\n",
       "      <th>bv_per_share</th>\n",
       "      <th>fcf</th>\n",
       "      <th>fcf_per_share</th>\n",
       "    </tr>\n",
       "  </thead>\n",
       "  <tbody>\n",
       "    <tr>\n",
       "      <th>0</th>\n",
       "      <td>2014-06-30</td>\n",
       "      <td>2014-07-15</td>\n",
       "      <td>32.3</td>\n",
       "      <td>2771</td>\n",
       "      <td>0</td>\n",
       "      <td>2771</td>\n",
       "      <td>130</td>\n",
       "      <td>5862</td>\n",
       "      <td>0</td>\n",
       "      <td>811</td>\n",
       "      <td>...</td>\n",
       "      <td>5.978844</td>\n",
       "      <td>NaN</td>\n",
       "      <td>NaN</td>\n",
       "      <td>NaN</td>\n",
       "      <td>NaN</td>\n",
       "      <td>None</td>\n",
       "      <td>NaN</td>\n",
       "      <td>218.482972</td>\n",
       "      <td>NaN</td>\n",
       "      <td>NaN</td>\n",
       "    </tr>\n",
       "    <tr>\n",
       "      <th>1</th>\n",
       "      <td>2014-09-30</td>\n",
       "      <td>2014-10-25</td>\n",
       "      <td>32.3</td>\n",
       "      <td>3411</td>\n",
       "      <td>0</td>\n",
       "      <td>3411</td>\n",
       "      <td>-38</td>\n",
       "      <td>6741</td>\n",
       "      <td>0</td>\n",
       "      <td>872</td>\n",
       "      <td>...</td>\n",
       "      <td>6.240275</td>\n",
       "      <td>NaN</td>\n",
       "      <td>NaN</td>\n",
       "      <td>NaN</td>\n",
       "      <td>NaN</td>\n",
       "      <td>None</td>\n",
       "      <td>NaN</td>\n",
       "      <td>223.467492</td>\n",
       "      <td>NaN</td>\n",
       "      <td>NaN</td>\n",
       "    </tr>\n",
       "    <tr>\n",
       "      <th>2</th>\n",
       "      <td>2014-12-31</td>\n",
       "      <td>2015-02-14</td>\n",
       "      <td>32.3</td>\n",
       "      <td>3440</td>\n",
       "      <td>0</td>\n",
       "      <td>3440</td>\n",
       "      <td>273</td>\n",
       "      <td>5673</td>\n",
       "      <td>0</td>\n",
       "      <td>995</td>\n",
       "      <td>...</td>\n",
       "      <td>6.876861</td>\n",
       "      <td>NaN</td>\n",
       "      <td>NaN</td>\n",
       "      <td>NaN</td>\n",
       "      <td>NaN</td>\n",
       "      <td>None</td>\n",
       "      <td>NaN</td>\n",
       "      <td>245.541796</td>\n",
       "      <td>NaN</td>\n",
       "      <td>NaN</td>\n",
       "    </tr>\n",
       "    <tr>\n",
       "      <th>3</th>\n",
       "      <td>2015-03-31</td>\n",
       "      <td>2015-05-05</td>\n",
       "      <td>32.3</td>\n",
       "      <td>3707</td>\n",
       "      <td>0</td>\n",
       "      <td>3707</td>\n",
       "      <td>614</td>\n",
       "      <td>5501</td>\n",
       "      <td>0</td>\n",
       "      <td>1152</td>\n",
       "      <td>...</td>\n",
       "      <td>7.736785</td>\n",
       "      <td>979.0</td>\n",
       "      <td>450.0</td>\n",
       "      <td>1917.0</td>\n",
       "      <td>13329.0</td>\n",
       "      <td>None</td>\n",
       "      <td>30.309598</td>\n",
       "      <td>265.448916</td>\n",
       "      <td>-1467.0</td>\n",
       "      <td>-45.417957</td>\n",
       "    </tr>\n",
       "    <tr>\n",
       "      <th>4</th>\n",
       "      <td>2015-06-30</td>\n",
       "      <td>2015-07-15</td>\n",
       "      <td>32.3</td>\n",
       "      <td>3918</td>\n",
       "      <td>0</td>\n",
       "      <td>3918</td>\n",
       "      <td>-2390</td>\n",
       "      <td>8952</td>\n",
       "      <td>0</td>\n",
       "      <td>1111</td>\n",
       "      <td>...</td>\n",
       "      <td>7.752235</td>\n",
       "      <td>-1541.0</td>\n",
       "      <td>1249.0</td>\n",
       "      <td>2009.0</td>\n",
       "      <td>14476.0</td>\n",
       "      <td>None</td>\n",
       "      <td>-47.708978</td>\n",
       "      <td>272.879257</td>\n",
       "      <td>-760.0</td>\n",
       "      <td>-23.529412</td>\n",
       "    </tr>\n",
       "  </tbody>\n",
       "</table>\n",
       "<p>5 rows × 32 columns</p>\n",
       "</div>"
      ],
      "text/plain": [
       "        date  real_date  shares  revenue  cogs  gross_profit  net_profit  \\\n",
       "0 2014-06-30 2014-07-15    32.3     2771     0          2771         130   \n",
       "1 2014-09-30 2014-10-25    32.3     3411     0          3411         -38   \n",
       "2 2014-12-31 2015-02-14    32.3     3440     0          3440         273   \n",
       "3 2015-03-31 2015-05-05    32.3     3707     0          3707         614   \n",
       "4 2015-06-30 2015-07-15    32.3     3918     0          3918       -2390   \n",
       "\n",
       "   cash  acc_rec  inventory  ...  usd_nat_currency  net_profit_ttm  \\\n",
       "0  5862        0        811  ...          5.978844             NaN   \n",
       "1  6741        0        872  ...          6.240275             NaN   \n",
       "2  5673        0        995  ...          6.876861             NaN   \n",
       "3  5501        0       1152  ...          7.736785           979.0   \n",
       "4  8952        0       1111  ...          7.752235         -1541.0   \n",
       "\n",
       "   cash_from_operating_activities_ttm  capex_ttm  revenue_ttm  cogs_ttm  \\\n",
       "0                                 NaN        NaN          NaN      None   \n",
       "1                                 NaN        NaN          NaN      None   \n",
       "2                                 NaN        NaN          NaN      None   \n",
       "3                               450.0     1917.0      13329.0      None   \n",
       "4                              1249.0     2009.0      14476.0      None   \n",
       "\n",
       "         eps  bv_per_share     fcf  fcf_per_share  \n",
       "0        NaN    218.482972     NaN            NaN  \n",
       "1        NaN    223.467492     NaN            NaN  \n",
       "2        NaN    245.541796     NaN            NaN  \n",
       "3  30.309598    265.448916 -1467.0     -45.417957  \n",
       "4 -47.708978    272.879257  -760.0     -23.529412  \n",
       "\n",
       "[5 rows x 32 columns]"
      ]
     },
     "execution_count": 10,
     "metadata": {},
     "output_type": "execute_result"
    }
   ],
   "source": [
    "filtered_nat_curr = utils.calculate_input_value_ratios(data_nat_curr)\n",
    "filtered_nat_curr.head()"
   ]
  },
  {
   "cell_type": "markdown",
   "id": "e37f1305",
   "metadata": {
    "papermill": {
     "duration": 0.009478,
     "end_time": "2024-08-06T13:16:57.963443",
     "exception": false,
     "start_time": "2024-08-06T13:16:57.953965",
     "status": "completed"
    },
    "tags": []
   },
   "source": [
    "## Calculate input values to value ratios"
   ]
  },
  {
   "cell_type": "code",
   "execution_count": 11,
   "id": "a7e59e9a",
   "metadata": {
    "execution": {
     "iopub.execute_input": "2024-08-06T13:16:57.976640Z",
     "iopub.status.busy": "2024-08-06T13:16:57.976492Z",
     "iopub.status.idle": "2024-08-06T13:16:57.982288Z",
     "shell.execute_reply": "2024-08-06T13:16:57.982044Z"
    },
    "papermill": {
     "duration": 0.013356,
     "end_time": "2024-08-06T13:16:57.983111",
     "exception": false,
     "start_time": "2024-08-06T13:16:57.969755",
     "status": "completed"
    },
    "tags": []
   },
   "outputs": [
    {
     "data": {
      "text/html": [
       "<div>\n",
       "<style scoped>\n",
       "    .dataframe tbody tr th:only-of-type {\n",
       "        vertical-align: middle;\n",
       "    }\n",
       "\n",
       "    .dataframe tbody tr th {\n",
       "        vertical-align: top;\n",
       "    }\n",
       "\n",
       "    .dataframe thead th {\n",
       "        text-align: right;\n",
       "    }\n",
       "</style>\n",
       "<table border=\"1\" class=\"dataframe\">\n",
       "  <thead>\n",
       "    <tr style=\"text-align: right;\">\n",
       "      <th></th>\n",
       "      <th>date</th>\n",
       "      <th>real_date</th>\n",
       "      <th>revenue</th>\n",
       "      <th>eps</th>\n",
       "      <th>bv_per_share</th>\n",
       "      <th>shares</th>\n",
       "      <th>fcf</th>\n",
       "      <th>fcf_per_share</th>\n",
       "      <th>cash</th>\n",
       "      <th>total_liab</th>\n",
       "      <th>revenue_ttm</th>\n",
       "      <th>cogs_ttm</th>\n",
       "    </tr>\n",
       "  </thead>\n",
       "  <tbody>\n",
       "    <tr>\n",
       "      <th>0</th>\n",
       "      <td>2014-06-30</td>\n",
       "      <td>2014-07-15</td>\n",
       "      <td>2771</td>\n",
       "      <td>NaN</td>\n",
       "      <td>218.482972</td>\n",
       "      <td>32.3</td>\n",
       "      <td>NaN</td>\n",
       "      <td>NaN</td>\n",
       "      <td>5862</td>\n",
       "      <td>28917</td>\n",
       "      <td>NaN</td>\n",
       "      <td>None</td>\n",
       "    </tr>\n",
       "    <tr>\n",
       "      <th>1</th>\n",
       "      <td>2014-09-30</td>\n",
       "      <td>2014-10-25</td>\n",
       "      <td>3411</td>\n",
       "      <td>NaN</td>\n",
       "      <td>223.467492</td>\n",
       "      <td>32.3</td>\n",
       "      <td>NaN</td>\n",
       "      <td>NaN</td>\n",
       "      <td>6741</td>\n",
       "      <td>30486</td>\n",
       "      <td>NaN</td>\n",
       "      <td>None</td>\n",
       "    </tr>\n",
       "    <tr>\n",
       "      <th>2</th>\n",
       "      <td>2014-12-31</td>\n",
       "      <td>2015-02-14</td>\n",
       "      <td>3440</td>\n",
       "      <td>NaN</td>\n",
       "      <td>245.541796</td>\n",
       "      <td>32.3</td>\n",
       "      <td>NaN</td>\n",
       "      <td>NaN</td>\n",
       "      <td>5673</td>\n",
       "      <td>33485</td>\n",
       "      <td>NaN</td>\n",
       "      <td>None</td>\n",
       "    </tr>\n",
       "    <tr>\n",
       "      <th>3</th>\n",
       "      <td>2015-03-31</td>\n",
       "      <td>2015-05-05</td>\n",
       "      <td>3707</td>\n",
       "      <td>30.309598</td>\n",
       "      <td>265.448916</td>\n",
       "      <td>32.3</td>\n",
       "      <td>-1467.0</td>\n",
       "      <td>-45.417957</td>\n",
       "      <td>5501</td>\n",
       "      <td>35532</td>\n",
       "      <td>13329.0</td>\n",
       "      <td>None</td>\n",
       "    </tr>\n",
       "    <tr>\n",
       "      <th>4</th>\n",
       "      <td>2015-06-30</td>\n",
       "      <td>2015-07-15</td>\n",
       "      <td>3918</td>\n",
       "      <td>-47.708978</td>\n",
       "      <td>272.879257</td>\n",
       "      <td>32.3</td>\n",
       "      <td>-760.0</td>\n",
       "      <td>-23.529412</td>\n",
       "      <td>8952</td>\n",
       "      <td>35884</td>\n",
       "      <td>14476.0</td>\n",
       "      <td>None</td>\n",
       "    </tr>\n",
       "  </tbody>\n",
       "</table>\n",
       "</div>"
      ],
      "text/plain": [
       "        date  real_date  revenue        eps  bv_per_share  shares     fcf  \\\n",
       "0 2014-06-30 2014-07-15     2771        NaN    218.482972    32.3     NaN   \n",
       "1 2014-09-30 2014-10-25     3411        NaN    223.467492    32.3     NaN   \n",
       "2 2014-12-31 2015-02-14     3440        NaN    245.541796    32.3     NaN   \n",
       "3 2015-03-31 2015-05-05     3707  30.309598    265.448916    32.3 -1467.0   \n",
       "4 2015-06-30 2015-07-15     3918 -47.708978    272.879257    32.3  -760.0   \n",
       "\n",
       "   fcf_per_share  cash  total_liab  revenue_ttm cogs_ttm  \n",
       "0            NaN  5862       28917          NaN     None  \n",
       "1            NaN  6741       30486          NaN     None  \n",
       "2            NaN  5673       33485          NaN     None  \n",
       "3     -45.417957  5501       35532      13329.0     None  \n",
       "4     -23.529412  8952       35884      14476.0     None  "
      ]
     },
     "execution_count": 11,
     "metadata": {},
     "output_type": "execute_result"
    }
   ],
   "source": [
    "ratios_nat_curr = utils.ratios_input_filter(filtered_nat_curr)\n",
    "ratios_nat_curr.head()"
   ]
  },
  {
   "cell_type": "markdown",
   "id": "8a68a698",
   "metadata": {
    "tags": [
     "papermill-error-cell-tag"
    ]
   },
   "source": [
    "<span id=\"papermill-error-cell\" style=\"color:red; font-family:Helvetica Neue, Helvetica, Arial, sans-serif; font-size:2em;\">Execution using papermill encountered an exception here and stopped:</span>"
   ]
  },
  {
   "cell_type": "code",
   "execution_count": 12,
   "id": "551ed656",
   "metadata": {
    "execution": {
     "iopub.execute_input": "2024-08-06T13:16:57.995382Z",
     "iopub.status.busy": "2024-08-06T13:16:57.995257Z",
     "iopub.status.idle": "2024-08-06T13:16:58.322513Z",
     "shell.execute_reply": "2024-08-06T13:16:58.322048Z"
    },
    "papermill": {
     "duration": 0.33402,
     "end_time": "2024-08-06T13:16:58.323169",
     "exception": true,
     "start_time": "2024-08-06T13:16:57.989149",
     "status": "failed"
    },
    "tags": []
   },
   "outputs": [
    {
     "ename": "ZeroDivisionError",
     "evalue": "float division by zero",
     "output_type": "error",
     "traceback": [
      "\u001b[0;31m---------------------------------------------------------------------------\u001b[0m",
      "\u001b[0;31mZeroDivisionError\u001b[0m                         Traceback (most recent call last)",
      "Cell \u001b[0;32mIn[12], line 1\u001b[0m\n\u001b[0;32m----> 1\u001b[0m ratios_nat_curr \u001b[38;5;241m=\u001b[39m \u001b[43mutils\u001b[49m\u001b[38;5;241;43m.\u001b[39;49m\u001b[43mevaluate_performance\u001b[49m\u001b[43m(\u001b[49m\u001b[38;5;28;43minput\u001b[39;49m\u001b[38;5;241;43m=\u001b[39;49m\u001b[43mfiltered_nat_curr\u001b[49m\u001b[43m,\u001b[49m\u001b[43m \u001b[49m\u001b[43moutput\u001b[49m\u001b[38;5;241;43m=\u001b[39;49m\u001b[43mratios_nat_curr\u001b[49m\u001b[43m)\u001b[49m\n\u001b[1;32m      2\u001b[0m ratios_nat_curr\u001b[38;5;241m.\u001b[39mhead()\n",
      "File \u001b[0;32m~/Desktop/projects/Economy/valueinvesting/utils.py:198\u001b[0m, in \u001b[0;36mevaluate_performance\u001b[0;34m(input, output, report)\u001b[0m\n\u001b[1;32m    196\u001b[0m \u001b[38;5;66;03m# evlauate management --> based on efficiency ratios\u001b[39;00m\n\u001b[1;32m    197\u001b[0m output[\u001b[38;5;124m'\u001b[39m\u001b[38;5;124macc_rec_ratio\u001b[39m\u001b[38;5;124m'\u001b[39m] \u001b[38;5;241m=\u001b[39m \u001b[38;5;28minput\u001b[39m[\u001b[38;5;124m'\u001b[39m\u001b[38;5;124mrevenue_ttm\u001b[39m\u001b[38;5;124m'\u001b[39m] \u001b[38;5;241m/\u001b[39m \u001b[38;5;28minput\u001b[39m[\u001b[38;5;124m'\u001b[39m\u001b[38;5;124macc_rec\u001b[39m\u001b[38;5;124m'\u001b[39m]\n\u001b[0;32m--> 198\u001b[0m output[\u001b[38;5;124m'\u001b[39m\u001b[38;5;124macc_pay_ratio\u001b[39m\u001b[38;5;124m'\u001b[39m] \u001b[38;5;241m=\u001b[39m \u001b[43m(\u001b[49m\u001b[38;5;241;43m-\u001b[39;49m\u001b[38;5;241;43m1\u001b[39;49m\u001b[43m \u001b[49m\u001b[38;5;241;43m*\u001b[39;49m\u001b[43m \u001b[49m\u001b[38;5;28;43minput\u001b[39;49m\u001b[43m[\u001b[49m\u001b[38;5;124;43m'\u001b[39;49m\u001b[38;5;124;43mcogs_ttm\u001b[39;49m\u001b[38;5;124;43m'\u001b[39;49m\u001b[43m]\u001b[49m\u001b[43m)\u001b[49m\u001b[43m \u001b[49m\u001b[38;5;241;43m/\u001b[39;49m\u001b[43m \u001b[49m\u001b[38;5;28;43minput\u001b[39;49m\u001b[43m[\u001b[49m\u001b[38;5;124;43m'\u001b[39;49m\u001b[38;5;124;43macc_pay\u001b[39;49m\u001b[38;5;124;43m'\u001b[39;49m\u001b[43m]\u001b[49m\n\u001b[1;32m    199\u001b[0m output[\u001b[38;5;124m'\u001b[39m\u001b[38;5;124mcash_turnover\u001b[39m\u001b[38;5;124m'\u001b[39m] \u001b[38;5;241m=\u001b[39m \u001b[38;5;28minput\u001b[39m[\u001b[38;5;124m'\u001b[39m\u001b[38;5;124mrevenue_ttm\u001b[39m\u001b[38;5;124m'\u001b[39m] \u001b[38;5;241m/\u001b[39m \u001b[38;5;28minput\u001b[39m[\u001b[38;5;124m'\u001b[39m\u001b[38;5;124mcash\u001b[39m\u001b[38;5;124m'\u001b[39m]\n\u001b[1;32m    200\u001b[0m output[\u001b[38;5;124m'\u001b[39m\u001b[38;5;124minventory_turnover\u001b[39m\u001b[38;5;124m'\u001b[39m] \u001b[38;5;241m=\u001b[39m (\u001b[38;5;241m-\u001b[39m\u001b[38;5;241m1\u001b[39m \u001b[38;5;241m*\u001b[39m \u001b[38;5;28minput\u001b[39m[\u001b[38;5;124m'\u001b[39m\u001b[38;5;124mcogs_ttm\u001b[39m\u001b[38;5;124m'\u001b[39m]) \u001b[38;5;241m/\u001b[39m \u001b[38;5;28minput\u001b[39m[\u001b[38;5;124m'\u001b[39m\u001b[38;5;124minventory\u001b[39m\u001b[38;5;124m'\u001b[39m]\n",
      "File \u001b[0;32m~/Desktop/projects/Economy/venv/lib/python3.11/site-packages/pandas/core/ops/common.py:81\u001b[0m, in \u001b[0;36m_unpack_zerodim_and_defer.<locals>.new_method\u001b[0;34m(self, other)\u001b[0m\n\u001b[1;32m     77\u001b[0m             \u001b[38;5;28;01mreturn\u001b[39;00m \u001b[38;5;28mNotImplemented\u001b[39m\n\u001b[1;32m     79\u001b[0m other \u001b[38;5;241m=\u001b[39m item_from_zerodim(other)\n\u001b[0;32m---> 81\u001b[0m \u001b[38;5;28;01mreturn\u001b[39;00m \u001b[43mmethod\u001b[49m\u001b[43m(\u001b[49m\u001b[38;5;28;43mself\u001b[39;49m\u001b[43m,\u001b[49m\u001b[43m \u001b[49m\u001b[43mother\u001b[49m\u001b[43m)\u001b[49m\n",
      "File \u001b[0;32m~/Desktop/projects/Economy/venv/lib/python3.11/site-packages/pandas/core/arraylike.py:210\u001b[0m, in \u001b[0;36mOpsMixin.__truediv__\u001b[0;34m(self, other)\u001b[0m\n\u001b[1;32m    208\u001b[0m \u001b[38;5;129m@unpack_zerodim_and_defer\u001b[39m(\u001b[38;5;124m\"\u001b[39m\u001b[38;5;124m__truediv__\u001b[39m\u001b[38;5;124m\"\u001b[39m)\n\u001b[1;32m    209\u001b[0m \u001b[38;5;28;01mdef\u001b[39;00m \u001b[38;5;21m__truediv__\u001b[39m(\u001b[38;5;28mself\u001b[39m, other):\n\u001b[0;32m--> 210\u001b[0m     \u001b[38;5;28;01mreturn\u001b[39;00m \u001b[38;5;28;43mself\u001b[39;49m\u001b[38;5;241;43m.\u001b[39;49m\u001b[43m_arith_method\u001b[49m\u001b[43m(\u001b[49m\u001b[43mother\u001b[49m\u001b[43m,\u001b[49m\u001b[43m \u001b[49m\u001b[43moperator\u001b[49m\u001b[38;5;241;43m.\u001b[39;49m\u001b[43mtruediv\u001b[49m\u001b[43m)\u001b[49m\n",
      "File \u001b[0;32m~/Desktop/projects/Economy/venv/lib/python3.11/site-packages/pandas/core/series.py:6112\u001b[0m, in \u001b[0;36mSeries._arith_method\u001b[0;34m(self, other, op)\u001b[0m\n\u001b[1;32m   6110\u001b[0m \u001b[38;5;28;01mdef\u001b[39;00m \u001b[38;5;21m_arith_method\u001b[39m(\u001b[38;5;28mself\u001b[39m, other, op):\n\u001b[1;32m   6111\u001b[0m     \u001b[38;5;28mself\u001b[39m, other \u001b[38;5;241m=\u001b[39m ops\u001b[38;5;241m.\u001b[39malign_method_SERIES(\u001b[38;5;28mself\u001b[39m, other)\n\u001b[0;32m-> 6112\u001b[0m     \u001b[38;5;28;01mreturn\u001b[39;00m \u001b[43mbase\u001b[49m\u001b[38;5;241;43m.\u001b[39;49m\u001b[43mIndexOpsMixin\u001b[49m\u001b[38;5;241;43m.\u001b[39;49m\u001b[43m_arith_method\u001b[49m\u001b[43m(\u001b[49m\u001b[38;5;28;43mself\u001b[39;49m\u001b[43m,\u001b[49m\u001b[43m \u001b[49m\u001b[43mother\u001b[49m\u001b[43m,\u001b[49m\u001b[43m \u001b[49m\u001b[43mop\u001b[49m\u001b[43m)\u001b[49m\n",
      "File \u001b[0;32m~/Desktop/projects/Economy/venv/lib/python3.11/site-packages/pandas/core/base.py:1348\u001b[0m, in \u001b[0;36mIndexOpsMixin._arith_method\u001b[0;34m(self, other, op)\u001b[0m\n\u001b[1;32m   1345\u001b[0m rvalues \u001b[38;5;241m=\u001b[39m ensure_wrapped_if_datetimelike(rvalues)\n\u001b[1;32m   1347\u001b[0m \u001b[38;5;28;01mwith\u001b[39;00m np\u001b[38;5;241m.\u001b[39merrstate(\u001b[38;5;28mall\u001b[39m\u001b[38;5;241m=\u001b[39m\u001b[38;5;124m\"\u001b[39m\u001b[38;5;124mignore\u001b[39m\u001b[38;5;124m\"\u001b[39m):\n\u001b[0;32m-> 1348\u001b[0m     result \u001b[38;5;241m=\u001b[39m \u001b[43mops\u001b[49m\u001b[38;5;241;43m.\u001b[39;49m\u001b[43marithmetic_op\u001b[49m\u001b[43m(\u001b[49m\u001b[43mlvalues\u001b[49m\u001b[43m,\u001b[49m\u001b[43m \u001b[49m\u001b[43mrvalues\u001b[49m\u001b[43m,\u001b[49m\u001b[43m \u001b[49m\u001b[43mop\u001b[49m\u001b[43m)\u001b[49m\n\u001b[1;32m   1350\u001b[0m \u001b[38;5;28;01mreturn\u001b[39;00m \u001b[38;5;28mself\u001b[39m\u001b[38;5;241m.\u001b[39m_construct_result(result, name\u001b[38;5;241m=\u001b[39mres_name)\n",
      "File \u001b[0;32m~/Desktop/projects/Economy/venv/lib/python3.11/site-packages/pandas/core/ops/array_ops.py:232\u001b[0m, in \u001b[0;36marithmetic_op\u001b[0;34m(left, right, op)\u001b[0m\n\u001b[1;32m    228\u001b[0m     _bool_arith_check(op, left, right)\n\u001b[1;32m    230\u001b[0m     \u001b[38;5;66;03m# error: Argument 1 to \"_na_arithmetic_op\" has incompatible type\u001b[39;00m\n\u001b[1;32m    231\u001b[0m     \u001b[38;5;66;03m# \"Union[ExtensionArray, ndarray[Any, Any]]\"; expected \"ndarray[Any, Any]\"\u001b[39;00m\n\u001b[0;32m--> 232\u001b[0m     res_values \u001b[38;5;241m=\u001b[39m \u001b[43m_na_arithmetic_op\u001b[49m\u001b[43m(\u001b[49m\u001b[43mleft\u001b[49m\u001b[43m,\u001b[49m\u001b[43m \u001b[49m\u001b[43mright\u001b[49m\u001b[43m,\u001b[49m\u001b[43m \u001b[49m\u001b[43mop\u001b[49m\u001b[43m)\u001b[49m  \u001b[38;5;66;03m# type: ignore[arg-type]\u001b[39;00m\n\u001b[1;32m    234\u001b[0m \u001b[38;5;28;01mreturn\u001b[39;00m res_values\n",
      "File \u001b[0;32m~/Desktop/projects/Economy/venv/lib/python3.11/site-packages/pandas/core/ops/array_ops.py:171\u001b[0m, in \u001b[0;36m_na_arithmetic_op\u001b[0;34m(left, right, op, is_cmp)\u001b[0m\n\u001b[1;32m    168\u001b[0m     func \u001b[38;5;241m=\u001b[39m partial(expressions\u001b[38;5;241m.\u001b[39mevaluate, op)\n\u001b[1;32m    170\u001b[0m \u001b[38;5;28;01mtry\u001b[39;00m:\n\u001b[0;32m--> 171\u001b[0m     result \u001b[38;5;241m=\u001b[39m \u001b[43mfunc\u001b[49m\u001b[43m(\u001b[49m\u001b[43mleft\u001b[49m\u001b[43m,\u001b[49m\u001b[43m \u001b[49m\u001b[43mright\u001b[49m\u001b[43m)\u001b[49m\n\u001b[1;32m    172\u001b[0m \u001b[38;5;28;01mexcept\u001b[39;00m \u001b[38;5;167;01mTypeError\u001b[39;00m:\n\u001b[1;32m    173\u001b[0m     \u001b[38;5;28;01mif\u001b[39;00m \u001b[38;5;129;01mnot\u001b[39;00m is_cmp \u001b[38;5;129;01mand\u001b[39;00m (is_object_dtype(left\u001b[38;5;241m.\u001b[39mdtype) \u001b[38;5;129;01mor\u001b[39;00m is_object_dtype(right)):\n\u001b[1;32m    174\u001b[0m         \u001b[38;5;66;03m# For object dtype, fallback to a masked operation (only operating\u001b[39;00m\n\u001b[1;32m    175\u001b[0m         \u001b[38;5;66;03m#  on the non-missing values)\u001b[39;00m\n\u001b[1;32m    176\u001b[0m         \u001b[38;5;66;03m# Don't do this for comparisons, as that will handle complex numbers\u001b[39;00m\n\u001b[1;32m    177\u001b[0m         \u001b[38;5;66;03m#  incorrectly, see GH#32047\u001b[39;00m\n",
      "File \u001b[0;32m~/Desktop/projects/Economy/venv/lib/python3.11/site-packages/pandas/core/computation/expressions.py:239\u001b[0m, in \u001b[0;36mevaluate\u001b[0;34m(op, a, b, use_numexpr)\u001b[0m\n\u001b[1;32m    236\u001b[0m \u001b[38;5;28;01mif\u001b[39;00m op_str \u001b[38;5;129;01mis\u001b[39;00m \u001b[38;5;129;01mnot\u001b[39;00m \u001b[38;5;28;01mNone\u001b[39;00m:\n\u001b[1;32m    237\u001b[0m     \u001b[38;5;28;01mif\u001b[39;00m use_numexpr:\n\u001b[1;32m    238\u001b[0m         \u001b[38;5;66;03m# error: \"None\" not callable\u001b[39;00m\n\u001b[0;32m--> 239\u001b[0m         \u001b[38;5;28;01mreturn\u001b[39;00m \u001b[43m_evaluate\u001b[49m\u001b[43m(\u001b[49m\u001b[43mop\u001b[49m\u001b[43m,\u001b[49m\u001b[43m \u001b[49m\u001b[43mop_str\u001b[49m\u001b[43m,\u001b[49m\u001b[43m \u001b[49m\u001b[43ma\u001b[49m\u001b[43m,\u001b[49m\u001b[43m \u001b[49m\u001b[43mb\u001b[49m\u001b[43m)\u001b[49m  \u001b[38;5;66;03m# type: ignore[misc]\u001b[39;00m\n\u001b[1;32m    240\u001b[0m \u001b[38;5;28;01mreturn\u001b[39;00m _evaluate_standard(op, op_str, a, b)\n",
      "File \u001b[0;32m~/Desktop/projects/Economy/venv/lib/python3.11/site-packages/pandas/core/computation/expressions.py:70\u001b[0m, in \u001b[0;36m_evaluate_standard\u001b[0;34m(op, op_str, a, b)\u001b[0m\n\u001b[1;32m     68\u001b[0m \u001b[38;5;28;01mif\u001b[39;00m _TEST_MODE:\n\u001b[1;32m     69\u001b[0m     _store_test_result(\u001b[38;5;28;01mFalse\u001b[39;00m)\n\u001b[0;32m---> 70\u001b[0m \u001b[38;5;28;01mreturn\u001b[39;00m op(a, b)\n",
      "\u001b[0;31mZeroDivisionError\u001b[0m: float division by zero"
     ]
    }
   ],
   "source": [
    "ratios_nat_curr = utils.evaluate_performance(input=filtered_nat_curr, output=ratios_nat_curr)\n",
    "ratios_nat_curr.head()"
   ]
  },
  {
   "cell_type": "markdown",
   "id": "c1995df1",
   "metadata": {
    "papermill": {
     "duration": null,
     "end_time": null,
     "exception": null,
     "start_time": null,
     "status": "pending"
    },
    "tags": []
   },
   "source": [
    "# 4. Pull historical share prices and merge with sattement data"
   ]
  },
  {
   "cell_type": "code",
   "execution_count": null,
   "id": "b90f40bf",
   "metadata": {
    "execution": {
     "iopub.execute_input": "2024-08-03T15:54:25.729564Z",
     "iopub.status.busy": "2024-08-03T15:54:25.729296Z",
     "iopub.status.idle": "2024-08-03T15:54:26.022053Z",
     "shell.execute_reply": "2024-08-03T15:54:26.021669Z"
    },
    "papermill": {
     "duration": null,
     "end_time": null,
     "exception": null,
     "start_time": null,
     "status": "pending"
    },
    "tags": []
   },
   "outputs": [],
   "source": [
    "# pull weekly share prices and merge with the value ratios\n",
    "merged_nat_curr = utils.add_share_prices_to_value_ratios(share_name, data, ratios_nat_curr)\n",
    "merged_nat_curr.head()"
   ]
  },
  {
   "cell_type": "markdown",
   "id": "e5d5fb8c",
   "metadata": {
    "papermill": {
     "duration": null,
     "end_time": null,
     "exception": null,
     "start_time": null,
     "status": "pending"
    },
    "tags": []
   },
   "source": [
    "# Calculate price ratios (P/E, P/B, P/S, P/FCF)"
   ]
  },
  {
   "cell_type": "code",
   "execution_count": null,
   "id": "7dce5896",
   "metadata": {
    "execution": {
     "iopub.execute_input": "2024-08-03T15:54:26.071903Z",
     "iopub.status.busy": "2024-08-03T15:54:26.071740Z",
     "iopub.status.idle": "2024-08-03T15:54:26.082680Z",
     "shell.execute_reply": "2024-08-03T15:54:26.082375Z"
    },
    "papermill": {
     "duration": null,
     "end_time": null,
     "exception": null,
     "start_time": null,
     "status": "pending"
    },
    "tags": []
   },
   "outputs": [],
   "source": [
    "merged_nat_curr = utils.price_ratios(merged_nat_curr)\n",
    "merged_nat_curr.head()"
   ]
  },
  {
   "cell_type": "markdown",
   "id": "24bbb9a8",
   "metadata": {
    "papermill": {
     "duration": null,
     "end_time": null,
     "exception": null,
     "start_time": null,
     "status": "pending"
    },
    "tags": []
   },
   "source": [
    "# Calculate Dividend yield and currency-share price correlation"
   ]
  },
  {
   "cell_type": "code",
   "execution_count": null,
   "id": "cf5ef09a",
   "metadata": {
    "execution": {
     "iopub.execute_input": "2024-08-03T15:54:26.111071Z",
     "iopub.status.busy": "2024-08-03T15:54:26.110842Z",
     "iopub.status.idle": "2024-08-03T15:54:26.440879Z",
     "shell.execute_reply": "2024-08-03T15:54:26.440459Z"
    },
    "papermill": {
     "duration": null,
     "end_time": null,
     "exception": null,
     "start_time": null,
     "status": "pending"
    },
    "tags": []
   },
   "outputs": [],
   "source": [
    "# get daily historical USD-national currency rates\n",
    "usd_nat_curr = utils.get_historical_currency_rate(currency_pair, merged_nat_curr)"
   ]
  },
  {
   "cell_type": "code",
   "execution_count": null,
   "id": "4169f153",
   "metadata": {
    "execution": {
     "iopub.execute_input": "2024-08-03T15:54:26.474081Z",
     "iopub.status.busy": "2024-08-03T15:54:26.473875Z",
     "iopub.status.idle": "2024-08-03T15:54:26.954038Z",
     "shell.execute_reply": "2024-08-03T15:54:26.953752Z"
    },
    "papermill": {
     "duration": null,
     "end_time": null,
     "exception": null,
     "start_time": null,
     "status": "pending"
    },
    "tags": []
   },
   "outputs": [],
   "source": [
    "# get share prices and dividend yield data\n",
    "ticker_all_price = utils.get_historical_share_dividend(share_name, merged_nat_curr)"
   ]
  },
  {
   "cell_type": "code",
   "execution_count": null,
   "id": "8e0caacf",
   "metadata": {
    "execution": {
     "iopub.execute_input": "2024-08-03T15:54:26.967976Z",
     "iopub.status.busy": "2024-08-03T15:54:26.967860Z",
     "iopub.status.idle": "2024-08-03T15:54:27.127962Z",
     "shell.execute_reply": "2024-08-03T15:54:27.127407Z"
    },
    "papermill": {
     "duration": null,
     "end_time": null,
     "exception": null,
     "start_time": null,
     "status": "pending"
    },
    "tags": []
   },
   "outputs": [],
   "source": [
    "# Pearson's correlation coefficient between share price and USD - national currency rate\n",
    "utils.get_currency_share_price_correlation(share_name, usd_nat_curr, ticker_all_price)"
   ]
  },
  {
   "cell_type": "markdown",
   "id": "103b25ca",
   "metadata": {
    "papermill": {
     "duration": null,
     "end_time": null,
     "exception": null,
     "start_time": null,
     "status": "pending"
    },
    "tags": []
   },
   "source": [
    "# Share price and value ratios"
   ]
  },
  {
   "cell_type": "code",
   "execution_count": null,
   "id": "79e86c28",
   "metadata": {
    "execution": {
     "iopub.execute_input": "2024-08-03T15:54:27.174471Z",
     "iopub.status.busy": "2024-08-03T15:54:27.174258Z",
     "iopub.status.idle": "2024-08-03T15:54:31.050626Z",
     "shell.execute_reply": "2024-08-03T15:54:31.050355Z"
    },
    "papermill": {
     "duration": null,
     "end_time": null,
     "exception": null,
     "start_time": null,
     "status": "pending"
    },
    "tags": []
   },
   "outputs": [],
   "source": [
    "for column in merged_nat_curr.columns[3:]:\n",
    "    fig, ax1 = plt.subplots(figsize=(15, 6))\n",
    "\n",
    "    ax2 = ax1.twinx()\n",
    "    ax1.plot(merged_nat_curr['real_date'], merged_nat_curr[column], color='k', label=merged_nat_curr)\n",
    "    ax2.plot(ticker_all_price.index, ticker_all_price['Close'], color='b', label=share_name)\n",
    "\n",
    "    ax1.set_xlabel('Date')\n",
    "    ax1.set_ylabel(column, color='k')\n",
    "    ax2.set_ylabel('Share price (national currency)', color='b')\n",
    "\n",
    "    plt.legend()\n",
    "    plt.show()"
   ]
  },
  {
   "cell_type": "code",
   "execution_count": null,
   "id": "2b904b74",
   "metadata": {
    "execution": {
     "iopub.execute_input": "2024-08-03T15:54:31.100544Z",
     "iopub.status.busy": "2024-08-03T15:54:31.100420Z",
     "iopub.status.idle": "2024-08-03T15:54:31.935631Z",
     "shell.execute_reply": "2024-08-03T15:54:31.935268Z"
    },
    "papermill": {
     "duration": null,
     "end_time": null,
     "exception": null,
     "start_time": null,
     "status": "pending"
    },
    "tags": []
   },
   "outputs": [],
   "source": [
    "# plot histograms of value parameters\n",
    "utils.plot_histogram_value_parameters(input_df=merged_nat_curr, extra_parameters=[], owned_shares=owned_shares)"
   ]
  },
  {
   "cell_type": "markdown",
   "id": "c822b361",
   "metadata": {
    "papermill": {
     "duration": null,
     "end_time": null,
     "exception": null,
     "start_time": null,
     "status": "pending"
    },
    "tags": []
   },
   "source": [
    "## Calculate correlation between value parameters"
   ]
  },
  {
   "cell_type": "code",
   "execution_count": null,
   "id": "ab8f181d",
   "metadata": {
    "execution": {
     "iopub.execute_input": "2024-08-03T15:54:32.049187Z",
     "iopub.status.busy": "2024-08-03T15:54:32.049046Z",
     "iopub.status.idle": "2024-08-03T15:54:32.056502Z",
     "shell.execute_reply": "2024-08-03T15:54:32.055989Z"
    },
    "papermill": {
     "duration": null,
     "end_time": null,
     "exception": null,
     "start_time": null,
     "status": "pending"
    },
    "tags": []
   },
   "outputs": [],
   "source": [
    "# calulate value parameters Pearson's correlation coefficient\n",
    "pd.DataFrame(merged_nat_curr, columns=['roa', 'roe', 'pe_ratio', 'pb_ratio', 'ps_ratio', 'ev_revenue', 'debt_to_equity', 'current_ratio']).corr()"
   ]
  },
  {
   "cell_type": "code",
   "execution_count": null,
   "id": "364b7939",
   "metadata": {
    "papermill": {
     "duration": null,
     "end_time": null,
     "exception": null,
     "start_time": null,
     "status": "pending"
    },
    "tags": []
   },
   "outputs": [],
   "source": [
    "final_df = utils.get_value_stock_target_prices(\n",
    "    input_df=merged_nat_curr,\n",
    "    min_pct=0.2,\n",
    "    max_pct=0.5,\n",
    "    owned_shares=owned_shares\n",
    ")"
   ]
  }
 ],
 "metadata": {
  "kernelspec": {
   "display_name": ".venv",
   "language": "python",
   "name": "python3"
  },
  "language_info": {
   "codemirror_mode": {
    "name": "ipython",
    "version": 3
   },
   "file_extension": ".py",
   "mimetype": "text/x-python",
   "name": "python",
   "nbconvert_exporter": "python",
   "pygments_lexer": "ipython3",
   "version": "3.11.3"
  },
  "papermill": {
   "default_parameters": {},
   "duration": 11.315314,
   "end_time": "2024-08-06T13:16:58.653879",
   "environment_variables": {},
   "exception": true,
   "input_path": "../notebooks/value_stocks/bonheur_national.ipynb",
   "output_path": "../notebooks/value_stocks/bonheur_national.ipynb",
   "parameters": {},
   "start_time": "2024-08-06T13:16:47.338565",
   "version": "2.5.0"
  }
 },
 "nbformat": 4,
 "nbformat_minor": 5
}