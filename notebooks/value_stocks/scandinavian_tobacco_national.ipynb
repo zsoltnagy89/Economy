{
 "cells": [
  {
   "cell_type": "code",
   "execution_count": null,
   "id": "1df57a16",
   "metadata": {
    "execution": {
     "iopub.execute_input": "2024-08-03T15:56:28.149049Z",
     "iopub.status.busy": "2024-08-03T15:56:28.148516Z",
     "iopub.status.idle": "2024-08-03T15:56:28.942725Z",
     "shell.execute_reply": "2024-08-03T15:56:28.942447Z"
    },
    "papermill": {
     "duration": 0.82376,
     "end_time": "2024-08-03T15:56:28.943998",
     "exception": false,
     "start_time": "2024-08-03T15:56:28.120238",
     "status": "completed"
    },
    "tags": []
   },
   "outputs": [],
   "source": [
    "import pandas as pd\n",
    "import matplotlib.pyplot as plt\n",
    "\n",
    "import yfinance as yf\n",
    "import datetime\n",
    "\n",
    "from valueinvesting import utils as utils"
   ]
  },
  {
   "cell_type": "markdown",
   "id": "3156f479",
   "metadata": {
    "papermill": {
     "duration": 0.008636,
     "end_time": "2024-08-03T15:56:28.964673",
     "exception": false,
     "start_time": "2024-08-03T15:56:28.956037",
     "status": "completed"
    },
    "tags": []
   },
   "source": [
    "# 1. Load raw input\n",
    "## Hardcoded block"
   ]
  },
  {
   "cell_type": "code",
   "execution_count": null,
   "id": "71178376",
   "metadata": {
    "execution": {
     "iopub.execute_input": "2024-08-03T15:56:28.982920Z",
     "iopub.status.busy": "2024-08-03T15:56:28.982730Z",
     "iopub.status.idle": "2024-08-03T15:56:28.984732Z",
     "shell.execute_reply": "2024-08-03T15:56:28.984473Z"
    },
    "papermill": {
     "duration": 0.012178,
     "end_time": "2024-08-03T15:56:28.985599",
     "exception": false,
     "start_time": "2024-08-03T15:56:28.973421",
     "status": "completed"
    },
    "tags": []
   },
   "outputs": [],
   "source": [
    "evaluate_last_X_years = True\n",
    "X=10\n",
    "currency_pair = 'DKK=X'\n",
    "numbers_in_currency = 'DKK'\n",
    "share_name = 'STG.CO'"
   ]
  },
  {
   "cell_type": "markdown",
   "id": "e482effa",
   "metadata": {
    "papermill": {
     "duration": 0.048226,
     "end_time": "2024-08-03T15:56:29.043077",
     "exception": false,
     "start_time": "2024-08-03T15:56:28.994851",
     "status": "completed"
    },
    "tags": []
   },
   "source": [
    "# 1.2. Raw input statement data"
   ]
  },
  {
   "cell_type": "code",
   "execution_count": null,
   "id": "588992d6",
   "metadata": {
    "execution": {
     "iopub.execute_input": "2024-08-03T15:56:29.063864Z",
     "iopub.status.busy": "2024-08-03T15:56:29.063707Z",
     "iopub.status.idle": "2024-08-03T15:56:29.076124Z",
     "shell.execute_reply": "2024-08-03T15:56:29.075822Z"
    },
    "papermill": {
     "duration": 0.024159,
     "end_time": "2024-08-03T15:56:29.077297",
     "exception": false,
     "start_time": "2024-08-03T15:56:29.053138",
     "status": "completed"
    },
    "tags": []
   },
   "outputs": [],
   "source": [
    "route = f\"../data/input/{share_name}_data.csv\"\n",
    "data = pd.read_csv(route, sep=';', parse_dates=['date', 'real_date'])\n",
    "# replace -, extend missing 0-s, fix datatype\n",
    "data = utils.replace_format_input(data)"
   ]
  },
  {
   "cell_type": "code",
   "execution_count": null,
   "id": "a551c890",
   "metadata": {
    "execution": {
     "iopub.execute_input": "2024-08-03T15:56:29.090496Z",
     "iopub.status.busy": "2024-08-03T15:56:29.090260Z",
     "iopub.status.idle": "2024-08-03T15:56:29.094562Z",
     "shell.execute_reply": "2024-08-03T15:56:29.094252Z"
    },
    "papermill": {
     "duration": 0.01248,
     "end_time": "2024-08-03T15:56:29.095449",
     "exception": false,
     "start_time": "2024-08-03T15:56:29.082969",
     "status": "completed"
    },
    "tags": []
   },
   "outputs": [],
   "source": [
    "owned_shares = pd.read_csv('../data/extras/owned_stocks.csv', sep=';', parse_dates=['date'])\n",
    "owned_shares = owned_shares.loc[(owned_shares['stock'] == share_name) & (owned_shares['active'] == 'yes')]"
   ]
  },
  {
   "cell_type": "markdown",
   "id": "c3e01700",
   "metadata": {
    "papermill": {
     "duration": 0.008506,
     "end_time": "2024-08-03T15:56:29.112965",
     "exception": false,
     "start_time": "2024-08-03T15:56:29.104459",
     "status": "completed"
    },
    "tags": []
   },
   "source": [
    "## (OPTIONAL) Time Filtering - Last 7 years daat"
   ]
  },
  {
   "cell_type": "code",
   "execution_count": null,
   "id": "5a790b12",
   "metadata": {
    "execution": {
     "iopub.execute_input": "2024-08-03T15:56:29.124481Z",
     "iopub.status.busy": "2024-08-03T15:56:29.124232Z",
     "iopub.status.idle": "2024-08-03T15:56:29.134188Z",
     "shell.execute_reply": "2024-08-03T15:56:29.133934Z"
    },
    "papermill": {
     "duration": 0.01662,
     "end_time": "2024-08-03T15:56:29.135046",
     "exception": false,
     "start_time": "2024-08-03T15:56:29.118426",
     "status": "completed"
    },
    "tags": []
   },
   "outputs": [],
   "source": [
    "if evaluate_last_X_years:\n",
    "    data = data[data['date'] > datetime.datetime.today() - datetime.timedelta(days=X*366+93)]\n",
    "    data = data.reset_index(drop=True)\n",
    "\n",
    "data.head()"
   ]
  },
  {
   "cell_type": "markdown",
   "id": "49ecb181",
   "metadata": {
    "papermill": {
     "duration": 0.005421,
     "end_time": "2024-08-03T15:56:29.146418",
     "exception": false,
     "start_time": "2024-08-03T15:56:29.140997",
     "status": "completed"
    },
    "tags": []
   },
   "source": [
    "## Calculate date when quaterly reports could be available"
   ]
  },
  {
   "cell_type": "code",
   "execution_count": null,
   "id": "05124f16",
   "metadata": {
    "execution": {
     "iopub.execute_input": "2024-08-03T15:56:29.157674Z",
     "iopub.status.busy": "2024-08-03T15:56:29.157451Z",
     "iopub.status.idle": "2024-08-03T15:56:29.159312Z",
     "shell.execute_reply": "2024-08-03T15:56:29.159052Z"
    },
    "papermill": {
     "duration": 0.008822,
     "end_time": "2024-08-03T15:56:29.160170",
     "exception": false,
     "start_time": "2024-08-03T15:56:29.151348",
     "status": "completed"
    },
    "tags": []
   },
   "outputs": [],
   "source": [
    "data = utils.calculate_real_date(data)"
   ]
  },
  {
   "cell_type": "markdown",
   "id": "593bfbc1",
   "metadata": {
    "papermill": {
     "duration": 0.005551,
     "end_time": "2024-08-03T15:56:29.171056",
     "exception": false,
     "start_time": "2024-08-03T15:56:29.165505",
     "status": "completed"
    },
    "tags": []
   },
   "source": [
    "# 2. Filter out unnecesary columns"
   ]
  },
  {
   "cell_type": "code",
   "execution_count": null,
   "id": "cbb9cd0a",
   "metadata": {
    "execution": {
     "iopub.execute_input": "2024-08-03T15:56:29.183109Z",
     "iopub.status.busy": "2024-08-03T15:56:29.182965Z",
     "iopub.status.idle": "2024-08-03T15:56:29.185313Z",
     "shell.execute_reply": "2024-08-03T15:56:29.185036Z"
    },
    "papermill": {
     "duration": 0.009739,
     "end_time": "2024-08-03T15:56:29.186205",
     "exception": false,
     "start_time": "2024-08-03T15:56:29.176466",
     "status": "completed"
    },
    "tags": []
   },
   "outputs": [],
   "source": [
    "data = utils.filter_raw_data(data)"
   ]
  },
  {
   "cell_type": "markdown",
   "id": "d238932b",
   "metadata": {
    "papermill": {
     "duration": 0.006695,
     "end_time": "2024-08-03T15:56:29.198820",
     "exception": false,
     "start_time": "2024-08-03T15:56:29.192125",
     "status": "completed"
    },
    "tags": []
   },
   "source": [
    "## Pull historical average USD national currency rates and add to the dataframe"
   ]
  },
  {
   "cell_type": "code",
   "execution_count": null,
   "id": "13fc2382",
   "metadata": {
    "execution": {
     "iopub.execute_input": "2024-08-03T15:56:29.210724Z",
     "iopub.status.busy": "2024-08-03T15:56:29.210596Z",
     "iopub.status.idle": "2024-08-03T15:56:35.999954Z",
     "shell.execute_reply": "2024-08-03T15:56:35.999691Z"
    },
    "papermill": {
     "duration": 6.797557,
     "end_time": "2024-08-03T15:56:36.001555",
     "exception": false,
     "start_time": "2024-08-03T15:56:29.203998",
     "status": "completed"
    },
    "tags": []
   },
   "outputs": [],
   "source": [
    "data['usd_nat_currency'] = utils.daily_price(\n",
    "    ticker=currency_pair,\n",
    "    end=data['date'],\n",
    "    days_earlier=90\n",
    "    )\n",
    "\n",
    "# drop rows, when USD rates wasn't available\n",
    "data = data[data['usd_nat_currency'].notna()]"
   ]
  },
  {
   "cell_type": "markdown",
   "id": "108d71d2",
   "metadata": {
    "papermill": {
     "duration": 0.004821,
     "end_time": "2024-08-03T15:56:36.012350",
     "exception": false,
     "start_time": "2024-08-03T15:56:36.007529",
     "status": "completed"
    },
    "tags": []
   },
   "source": [
    "## Convert USD values related to IS, BS, CFS to national currency"
   ]
  },
  {
   "cell_type": "code",
   "execution_count": null,
   "id": "a9f3a98e",
   "metadata": {
    "execution": {
     "iopub.execute_input": "2024-08-03T15:56:36.022667Z",
     "iopub.status.busy": "2024-08-03T15:56:36.022417Z",
     "iopub.status.idle": "2024-08-03T15:56:36.028588Z",
     "shell.execute_reply": "2024-08-03T15:56:36.028334Z"
    },
    "papermill": {
     "duration": 0.012748,
     "end_time": "2024-08-03T15:56:36.029501",
     "exception": false,
     "start_time": "2024-08-03T15:56:36.016753",
     "status": "completed"
    },
    "tags": []
   },
   "outputs": [],
   "source": [
    "# convert columns into national currency if necessary\n",
    "if numbers_in_currency == 'USD':\n",
    "    data_nat_curr = utils.convert_national_currency(input_data=data, currency=data)\n",
    "else:\n",
    "    data_nat_curr = data.copy()\n",
    "data_nat_curr.tail()"
   ]
  },
  {
   "cell_type": "markdown",
   "id": "1263156f",
   "metadata": {
    "papermill": {
     "duration": 0.006471,
     "end_time": "2024-08-03T15:56:36.041562",
     "exception": false,
     "start_time": "2024-08-03T15:56:36.035091",
     "status": "completed"
    },
    "tags": []
   },
   "source": [
    "# 3. Calculate input to Value Raios (eps, bv per share, fcf)\n",
    "## filter out unwanted columns"
   ]
  },
  {
   "cell_type": "code",
   "execution_count": null,
   "id": "b869cd43",
   "metadata": {
    "execution": {
     "iopub.execute_input": "2024-08-03T15:56:36.052634Z",
     "iopub.status.busy": "2024-08-03T15:56:36.052407Z",
     "iopub.status.idle": "2024-08-03T15:56:36.055454Z",
     "shell.execute_reply": "2024-08-03T15:56:36.055223Z"
    },
    "papermill": {
     "duration": 0.009245,
     "end_time": "2024-08-03T15:56:36.056275",
     "exception": false,
     "start_time": "2024-08-03T15:56:36.047030",
     "status": "completed"
    },
    "tags": []
   },
   "outputs": [],
   "source": [
    "filtered_nat_curr = utils.calculate_input_value_ratios(data_nat_curr)"
   ]
  },
  {
   "cell_type": "markdown",
   "id": "fb7db9a9",
   "metadata": {
    "papermill": {
     "duration": 0.004977,
     "end_time": "2024-08-03T15:56:36.067095",
     "exception": false,
     "start_time": "2024-08-03T15:56:36.062118",
     "status": "completed"
    },
    "tags": []
   },
   "source": [
    "## Calculate input values to value ratios"
   ]
  },
  {
   "cell_type": "code",
   "execution_count": null,
   "id": "4282e381",
   "metadata": {
    "execution": {
     "iopub.execute_input": "2024-08-03T15:56:36.077265Z",
     "iopub.status.busy": "2024-08-03T15:56:36.077148Z",
     "iopub.status.idle": "2024-08-03T15:56:36.079378Z",
     "shell.execute_reply": "2024-08-03T15:56:36.079152Z"
    },
    "papermill": {
     "duration": 0.008397,
     "end_time": "2024-08-03T15:56:36.080147",
     "exception": false,
     "start_time": "2024-08-03T15:56:36.071750",
     "status": "completed"
    },
    "tags": []
   },
   "outputs": [],
   "source": [
    "ratios_nat_curr = utils.ratios_input_filter(filtered_nat_curr)"
   ]
  },
  {
   "cell_type": "code",
   "execution_count": null,
   "id": "33398aba",
   "metadata": {
    "execution": {
     "iopub.execute_input": "2024-08-03T15:56:36.090117Z",
     "iopub.status.busy": "2024-08-03T15:56:36.090014Z",
     "iopub.status.idle": "2024-08-03T15:56:36.096153Z",
     "shell.execute_reply": "2024-08-03T15:56:36.095737Z"
    },
    "papermill": {
     "duration": 0.012678,
     "end_time": "2024-08-03T15:56:36.097601",
     "exception": false,
     "start_time": "2024-08-03T15:56:36.084923",
     "status": "completed"
    },
    "tags": []
   },
   "outputs": [],
   "source": [
    "ratios_nat_curr = utils.evaluate_performance(input=filtered_nat_curr, output=ratios_nat_curr)"
   ]
  },
  {
   "cell_type": "markdown",
   "id": "bd9d0e29",
   "metadata": {
    "papermill": {
     "duration": 0.006304,
     "end_time": "2024-08-03T15:56:36.111224",
     "exception": false,
     "start_time": "2024-08-03T15:56:36.104920",
     "status": "completed"
    },
    "tags": []
   },
   "source": [
    "# 4. Pull historical share prices and merge with sattement data\n",
    "## Pull historical share prices"
   ]
  },
  {
   "cell_type": "code",
   "execution_count": null,
   "id": "ee38042e",
   "metadata": {
    "execution": {
     "iopub.execute_input": "2024-08-03T15:56:36.124935Z",
     "iopub.status.busy": "2024-08-03T15:56:36.124761Z",
     "iopub.status.idle": "2024-08-03T15:56:36.393909Z",
     "shell.execute_reply": "2024-08-03T15:56:36.393498Z"
    },
    "papermill": {
     "duration": 0.277868,
     "end_time": "2024-08-03T15:56:36.395041",
     "exception": false,
     "start_time": "2024-08-03T15:56:36.117173",
     "status": "completed"
    },
    "tags": []
   },
   "outputs": [],
   "source": [
    "# pull weekly share prices and merge with the value ratios\n",
    "merged_nat_curr = utils.add_share_prices_to_value_ratios(share_name, data, ratios_nat_curr)\n",
    "merged_nat_curr.head()"
   ]
  },
  {
   "cell_type": "markdown",
   "id": "5a05c48b",
   "metadata": {
    "papermill": {
     "duration": 0.009002,
     "end_time": "2024-08-03T15:56:36.412630",
     "exception": false,
     "start_time": "2024-08-03T15:56:36.403628",
     "status": "completed"
    },
    "tags": []
   },
   "source": [
    "# Calculate price ratios (P/E, P/B, P/S, P/FCF)"
   ]
  },
  {
   "cell_type": "code",
   "execution_count": null,
   "id": "532c579f",
   "metadata": {
    "execution": {
     "iopub.execute_input": "2024-08-03T15:56:36.427046Z",
     "iopub.status.busy": "2024-08-03T15:56:36.426778Z",
     "iopub.status.idle": "2024-08-03T15:56:36.437213Z",
     "shell.execute_reply": "2024-08-03T15:56:36.436908Z"
    },
    "papermill": {
     "duration": 0.018707,
     "end_time": "2024-08-03T15:56:36.438114",
     "exception": false,
     "start_time": "2024-08-03T15:56:36.419407",
     "status": "completed"
    },
    "tags": []
   },
   "outputs": [],
   "source": [
    "merged_nat_curr = utils.price_ratios(merged_nat_curr)\n",
    "merged_nat_curr.head()"
   ]
  },
  {
   "cell_type": "markdown",
   "id": "7906f127",
   "metadata": {
    "papermill": {
     "duration": 0.009986,
     "end_time": "2024-08-03T15:56:36.457591",
     "exception": false,
     "start_time": "2024-08-03T15:56:36.447605",
     "status": "completed"
    },
    "tags": []
   },
   "source": [
    "# Calculate Dividend yield and currency-share price correlation"
   ]
  },
  {
   "cell_type": "code",
   "execution_count": null,
   "id": "304bdac1",
   "metadata": {
    "execution": {
     "iopub.execute_input": "2024-08-03T15:56:36.477469Z",
     "iopub.status.busy": "2024-08-03T15:56:36.477204Z",
     "iopub.status.idle": "2024-08-03T15:56:36.769101Z",
     "shell.execute_reply": "2024-08-03T15:56:36.768668Z"
    },
    "papermill": {
     "duration": 0.304092,
     "end_time": "2024-08-03T15:56:36.770671",
     "exception": false,
     "start_time": "2024-08-03T15:56:36.466579",
     "status": "completed"
    },
    "tags": []
   },
   "outputs": [],
   "source": [
    "# get daily historical USD-national currency rates\n",
    "usd_nat_curr = utils.get_historical_currency_rate(currency_pair, merged_nat_curr)"
   ]
  },
  {
   "cell_type": "code",
   "execution_count": null,
   "id": "8557ac9c",
   "metadata": {
    "execution": {
     "iopub.execute_input": "2024-08-03T15:56:36.797752Z",
     "iopub.status.busy": "2024-08-03T15:56:36.797581Z",
     "iopub.status.idle": "2024-08-03T15:56:37.265971Z",
     "shell.execute_reply": "2024-08-03T15:56:37.264866Z"
    },
    "papermill": {
     "duration": 0.48264,
     "end_time": "2024-08-03T15:56:37.268677",
     "exception": false,
     "start_time": "2024-08-03T15:56:36.786037",
     "status": "completed"
    },
    "tags": []
   },
   "outputs": [],
   "source": [
    "# get share prices and dividend yield data\n",
    "ticker_all_price = utils.get_historical_share_dividend(share_name, merged_nat_curr)"
   ]
  },
  {
   "cell_type": "code",
   "execution_count": null,
   "id": "b593655c",
   "metadata": {
    "execution": {
     "iopub.execute_input": "2024-08-03T15:56:37.293477Z",
     "iopub.status.busy": "2024-08-03T15:56:37.292965Z",
     "iopub.status.idle": "2024-08-03T15:56:37.472244Z",
     "shell.execute_reply": "2024-08-03T15:56:37.471969Z"
    },
    "papermill": {
     "duration": 0.192782,
     "end_time": "2024-08-03T15:56:37.473149",
     "exception": false,
     "start_time": "2024-08-03T15:56:37.280367",
     "status": "completed"
    },
    "tags": []
   },
   "outputs": [],
   "source": [
    "# Pearson's correlation coefficient between share price and USD - national currency rate\n",
    "utils.get_currency_share_price_correlation(share_name, usd_nat_curr, ticker_all_price)"
   ]
  },
  {
   "cell_type": "markdown",
   "id": "0e3ad731",
   "metadata": {
    "papermill": {
     "duration": 0.012113,
     "end_time": "2024-08-03T15:56:37.495452",
     "exception": false,
     "start_time": "2024-08-03T15:56:37.483339",
     "status": "completed"
    },
    "tags": []
   },
   "source": [
    "# Share price and value ratios"
   ]
  },
  {
   "cell_type": "code",
   "execution_count": null,
   "id": "05fe4a3c",
   "metadata": {
    "execution": {
     "iopub.execute_input": "2024-08-03T15:56:37.511339Z",
     "iopub.status.busy": "2024-08-03T15:56:37.511182Z",
     "iopub.status.idle": "2024-08-03T15:56:41.595804Z",
     "shell.execute_reply": "2024-08-03T15:56:41.595548Z"
    },
    "papermill": {
     "duration": 4.092606,
     "end_time": "2024-08-03T15:56:41.596789",
     "exception": false,
     "start_time": "2024-08-03T15:56:37.504183",
     "status": "completed"
    },
    "tags": []
   },
   "outputs": [],
   "source": [
    "for column in merged_nat_curr.columns[3:]:\n",
    "    fig, ax1 = plt.subplots(figsize=(15, 6))\n",
    "\n",
    "    ax2 = ax1.twinx()\n",
    "    ax1.plot(merged_nat_curr['real_date'], merged_nat_curr[column], color='k', label=merged_nat_curr)\n",
    "    ax2.plot(ticker_all_price.index, ticker_all_price['Close'], color='b', label=share_name)\n",
    "\n",
    "    ax1.set_xlabel('Date')\n",
    "    ax1.set_ylabel(column, color='k')\n",
    "    ax2.set_ylabel('Share price (national currency)', color='b')\n",
    "\n",
    "    plt.legend()\n",
    "    plt.show()"
   ]
  },
  {
   "cell_type": "code",
   "execution_count": null,
   "id": "e3c04658",
   "metadata": {
    "execution": {
     "iopub.execute_input": "2024-08-03T15:56:41.642608Z",
     "iopub.status.busy": "2024-08-03T15:56:41.642475Z",
     "iopub.status.idle": "2024-08-03T15:56:42.575730Z",
     "shell.execute_reply": "2024-08-03T15:56:42.575453Z"
    },
    "papermill": {
     "duration": 0.956595,
     "end_time": "2024-08-03T15:56:42.576574",
     "exception": false,
     "start_time": "2024-08-03T15:56:41.619979",
     "status": "completed"
    },
    "tags": []
   },
   "outputs": [],
   "source": [
    "# plot histograms of value parameters\n",
    "utils.plot_histogram_value_parameters(input_df=merged_nat_curr, extra_parameters=[], owned_shares=owned_shares)"
   ]
  },
  {
   "cell_type": "markdown",
   "id": "8b923318",
   "metadata": {
    "papermill": {
     "duration": 0.023335,
     "end_time": "2024-08-03T15:56:42.636298",
     "exception": false,
     "start_time": "2024-08-03T15:56:42.612963",
     "status": "completed"
    },
    "tags": []
   },
   "source": [
    "## Calculate correlation between value parameters"
   ]
  },
  {
   "cell_type": "code",
   "execution_count": null,
   "id": "b672d48d",
   "metadata": {
    "execution": {
     "iopub.execute_input": "2024-08-03T15:56:42.684305Z",
     "iopub.status.busy": "2024-08-03T15:56:42.684159Z",
     "iopub.status.idle": "2024-08-03T15:56:42.689898Z",
     "shell.execute_reply": "2024-08-03T15:56:42.689364Z"
    },
    "papermill": {
     "duration": 0.02994,
     "end_time": "2024-08-03T15:56:42.690812",
     "exception": false,
     "start_time": "2024-08-03T15:56:42.660872",
     "status": "completed"
    },
    "tags": []
   },
   "outputs": [],
   "source": [
    "# calulate value parameters Pearson's correlation coefficient\n",
    "pd.DataFrame(merged_nat_curr, columns=['roa', 'roe', 'pe_ratio', 'pb_ratio', 'ps_ratio', 'ev_revenue', 'debt_to_equity', 'current_ratio']).corr()"
   ]
  },
  {
   "cell_type": "code",
   "execution_count": null,
   "id": "420db9d5",
   "metadata": {},
   "outputs": [],
   "source": [
    "final_df = utils.get_value_stock_target_prices(\n",
    "    input_df=merged_nat_curr,\n",
    "    min_pct=0.2,\n",
    "    max_pct=0.5,\n",
    "    owned_shares=owned_shares\n",
    ")"
   ]
  }
 ],
 "metadata": {
  "kernelspec": {
   "display_name": ".venv",
   "language": "python",
   "name": "python3"
  },
  "language_info": {
   "codemirror_mode": {
    "name": "ipython",
    "version": 3
   },
   "file_extension": ".py",
   "mimetype": "text/x-python",
   "name": "python",
   "nbconvert_exporter": "python",
   "pygments_lexer": "ipython3",
   "version": "3.11.3"
  },
  "papermill": {
   "default_parameters": {},
   "duration": 16.007742,
   "end_time": "2024-08-03T15:56:43.171467",
   "environment_variables": {},
   "exception": null,
   "input_path": "../notebooks/scandinavian_tobacco_national.ipynb",
   "output_path": "../notebooks/scandinavian_tobacco_national.ipynb",
   "parameters": {},
   "start_time": "2024-08-03T15:56:27.163725",
   "version": "2.5.0"
  }
 },
 "nbformat": 4,
 "nbformat_minor": 5
}
