{
 "cells": [
  {
   "cell_type": "code",
   "execution_count": null,
   "id": "4cbcb60d",
   "metadata": {
    "execution": {
     "iopub.execute_input": "2024-08-03T15:54:33.715555Z",
     "iopub.status.busy": "2024-08-03T15:54:33.715349Z",
     "iopub.status.idle": "2024-08-03T15:54:34.485698Z",
     "shell.execute_reply": "2024-08-03T15:54:34.485415Z"
    },
    "papermill": {
     "duration": 0.785373,
     "end_time": "2024-08-03T15:54:34.486841",
     "exception": false,
     "start_time": "2024-08-03T15:54:33.701468",
     "status": "completed"
    },
    "tags": []
   },
   "outputs": [],
   "source": [
    "import pandas as pd\n",
    "import matplotlib.pyplot as plt\n",
    "import numpy as np\n",
    "\n",
    "import yfinance as yf\n",
    "import datetime\n",
    "\n",
    "from valueinvesting import utils as utils"
   ]
  },
  {
   "cell_type": "markdown",
   "id": "26d21654",
   "metadata": {
    "papermill": {
     "duration": 0.006058,
     "end_time": "2024-08-03T15:54:34.498555",
     "exception": false,
     "start_time": "2024-08-03T15:54:34.492497",
     "status": "completed"
    },
    "tags": []
   },
   "source": [
    "# 1. Load raw input\n",
    "## Hardcoded block"
   ]
  },
  {
   "cell_type": "code",
   "execution_count": null,
   "id": "82a2a9cd",
   "metadata": {
    "execution": {
     "iopub.execute_input": "2024-08-03T15:54:34.508846Z",
     "iopub.status.busy": "2024-08-03T15:54:34.508649Z",
     "iopub.status.idle": "2024-08-03T15:54:34.510732Z",
     "shell.execute_reply": "2024-08-03T15:54:34.510360Z"
    },
    "papermill": {
     "duration": 0.008373,
     "end_time": "2024-08-03T15:54:34.511594",
     "exception": false,
     "start_time": "2024-08-03T15:54:34.503221",
     "status": "completed"
    },
    "tags": []
   },
   "outputs": [],
   "source": [
    "evaluate_last_X_years = True\n",
    "X=10\n",
    "currency_pair = 'USD=X'\n",
    "numbers_in_currency = 'USD'\n",
    "share_name = 'IAC'"
   ]
  },
  {
   "cell_type": "markdown",
   "id": "95b57d71",
   "metadata": {
    "papermill": {
     "duration": 0.004665,
     "end_time": "2024-08-03T15:54:34.521181",
     "exception": false,
     "start_time": "2024-08-03T15:54:34.516516",
     "status": "completed"
    },
    "tags": []
   },
   "source": [
    "# 1.1 Calculate Share numbers from total distributed dividend (CFS) and dividend amount"
   ]
  },
  {
   "cell_type": "markdown",
   "id": "b87f76dd",
   "metadata": {
    "papermill": {
     "duration": 0.004799,
     "end_time": "2024-08-03T15:54:34.530412",
     "exception": false,
     "start_time": "2024-08-03T15:54:34.525613",
     "status": "completed"
    },
    "tags": []
   },
   "source": [
    "# 1.2. Raw input statement data"
   ]
  },
  {
   "cell_type": "code",
   "execution_count": null,
   "id": "78818016",
   "metadata": {
    "execution": {
     "iopub.execute_input": "2024-08-03T15:54:34.541096Z",
     "iopub.status.busy": "2024-08-03T15:54:34.540864Z",
     "iopub.status.idle": "2024-08-03T15:54:34.552737Z",
     "shell.execute_reply": "2024-08-03T15:54:34.552473Z"
    },
    "papermill": {
     "duration": 0.018899,
     "end_time": "2024-08-03T15:54:34.553728",
     "exception": false,
     "start_time": "2024-08-03T15:54:34.534829",
     "status": "completed"
    },
    "tags": []
   },
   "outputs": [],
   "source": [
    "route = f\"../data/input/{share_name}_data.csv\"\n",
    "data = pd.read_csv(route, sep=';', parse_dates=['date', 'real_date'])\n",
    "# replace -, extend missing 0-s, fix datatype\n",
    "data = utils.replace_format_input(data)"
   ]
  },
  {
   "cell_type": "code",
   "execution_count": null,
   "id": "1a609bc2",
   "metadata": {
    "execution": {
     "iopub.execute_input": "2024-08-03T15:54:34.565223Z",
     "iopub.status.busy": "2024-08-03T15:54:34.565096Z",
     "iopub.status.idle": "2024-08-03T15:54:34.569161Z",
     "shell.execute_reply": "2024-08-03T15:54:34.568927Z"
    },
    "papermill": {
     "duration": 0.010683,
     "end_time": "2024-08-03T15:54:34.570002",
     "exception": false,
     "start_time": "2024-08-03T15:54:34.559319",
     "status": "completed"
    },
    "tags": []
   },
   "outputs": [],
   "source": [
    "owned_shares = pd.read_csv('../data/extras/owned_stocks.csv', sep=';', parse_dates=['date'])\n",
    "owned_shares = owned_shares.loc[(owned_shares['stock'] == share_name) & (owned_shares['active'] == 'yes')]"
   ]
  },
  {
   "cell_type": "markdown",
   "id": "2552a2ad",
   "metadata": {
    "papermill": {
     "duration": 0.005753,
     "end_time": "2024-08-03T15:54:34.581501",
     "exception": false,
     "start_time": "2024-08-03T15:54:34.575748",
     "status": "completed"
    },
    "tags": []
   },
   "source": [
    "## (OPTIONAL) Time Filtering - Last 7 years daat"
   ]
  },
  {
   "cell_type": "code",
   "execution_count": null,
   "id": "6176f70a",
   "metadata": {
    "execution": {
     "iopub.execute_input": "2024-08-03T15:54:34.593621Z",
     "iopub.status.busy": "2024-08-03T15:54:34.593464Z",
     "iopub.status.idle": "2024-08-03T15:54:34.603438Z",
     "shell.execute_reply": "2024-08-03T15:54:34.603180Z"
    },
    "papermill": {
     "duration": 0.017295,
     "end_time": "2024-08-03T15:54:34.604262",
     "exception": false,
     "start_time": "2024-08-03T15:54:34.586967",
     "status": "completed"
    },
    "tags": []
   },
   "outputs": [],
   "source": [
    "if evaluate_last_X_years:\n",
    "    data = data[data['date'] > datetime.datetime.today() - datetime.timedelta(days=X*366+93)]\n",
    "    data = data.reset_index(drop=True)\n",
    "\n",
    "data.head()"
   ]
  },
  {
   "cell_type": "markdown",
   "id": "8f0fef82",
   "metadata": {
    "papermill": {
     "duration": 0.006368,
     "end_time": "2024-08-03T15:54:34.616122",
     "exception": false,
     "start_time": "2024-08-03T15:54:34.609754",
     "status": "completed"
    },
    "tags": []
   },
   "source": [
    "## Calculate date when quaterly reports could be available"
   ]
  },
  {
   "cell_type": "code",
   "execution_count": null,
   "id": "94f62519",
   "metadata": {
    "execution": {
     "iopub.execute_input": "2024-08-03T15:54:34.627163Z",
     "iopub.status.busy": "2024-08-03T15:54:34.627019Z",
     "iopub.status.idle": "2024-08-03T15:54:34.628979Z",
     "shell.execute_reply": "2024-08-03T15:54:34.628698Z"
    },
    "papermill": {
     "duration": 0.008553,
     "end_time": "2024-08-03T15:54:34.629834",
     "exception": false,
     "start_time": "2024-08-03T15:54:34.621281",
     "status": "completed"
    },
    "tags": []
   },
   "outputs": [],
   "source": [
    "data = utils.calculate_real_date(data)"
   ]
  },
  {
   "cell_type": "markdown",
   "id": "ebd8d0a9",
   "metadata": {
    "papermill": {
     "duration": 0.005277,
     "end_time": "2024-08-03T15:54:34.640903",
     "exception": false,
     "start_time": "2024-08-03T15:54:34.635626",
     "status": "completed"
    },
    "tags": []
   },
   "source": [
    "# 2. Filter out unnecesary columns"
   ]
  },
  {
   "cell_type": "code",
   "execution_count": null,
   "id": "264a9ea9",
   "metadata": {
    "execution": {
     "iopub.execute_input": "2024-08-03T15:54:34.653273Z",
     "iopub.status.busy": "2024-08-03T15:54:34.653142Z",
     "iopub.status.idle": "2024-08-03T15:54:34.659629Z",
     "shell.execute_reply": "2024-08-03T15:54:34.659295Z"
    },
    "papermill": {
     "duration": 0.013556,
     "end_time": "2024-08-03T15:54:34.660474",
     "exception": false,
     "start_time": "2024-08-03T15:54:34.646918",
     "status": "completed"
    },
    "tags": []
   },
   "outputs": [],
   "source": [
    "data = utils.filter_raw_data(data)\n",
    "data.tail()"
   ]
  },
  {
   "cell_type": "markdown",
   "id": "2abf0295",
   "metadata": {
    "papermill": {
     "duration": 0.005899,
     "end_time": "2024-08-03T15:54:34.672196",
     "exception": false,
     "start_time": "2024-08-03T15:54:34.666297",
     "status": "completed"
    },
    "tags": []
   },
   "source": [
    "## Pull historical average USD national currency rates and add to the dataframe"
   ]
  },
  {
   "cell_type": "code",
   "execution_count": null,
   "id": "c04caccc",
   "metadata": {
    "execution": {
     "iopub.execute_input": "2024-08-03T15:54:34.684871Z",
     "iopub.status.busy": "2024-08-03T15:54:34.684723Z",
     "iopub.status.idle": "2024-08-03T15:54:34.691468Z",
     "shell.execute_reply": "2024-08-03T15:54:34.691218Z"
    },
    "papermill": {
     "duration": 0.014506,
     "end_time": "2024-08-03T15:54:34.692315",
     "exception": false,
     "start_time": "2024-08-03T15:54:34.677809",
     "status": "completed"
    },
    "tags": []
   },
   "outputs": [],
   "source": [
    "if currency_pair != 'USD=X':\n",
    "    data['usd_nat_currency'] = utils.daily_price(\n",
    "        ticker=currency_pair,\n",
    "        end=data['date'],\n",
    "        days_earlier=90\n",
    "        )\n",
    "else:\n",
    "    data['usd_nat_currency'] = [1 for x in range(len(data))]\n",
    "\n",
    "# drop rows, when USD rates wasn't available\n",
    "data = data[data['usd_nat_currency'].notna()]\n",
    "\n",
    "data.tail()"
   ]
  },
  {
   "cell_type": "markdown",
   "id": "1ea97372",
   "metadata": {
    "papermill": {
     "duration": 0.005338,
     "end_time": "2024-08-03T15:54:34.703733",
     "exception": false,
     "start_time": "2024-08-03T15:54:34.698395",
     "status": "completed"
    },
    "tags": []
   },
   "source": [
    "## Convert USD values related to IS, BS, CFS to national currency"
   ]
  },
  {
   "cell_type": "code",
   "execution_count": null,
   "id": "deac7fe7",
   "metadata": {
    "execution": {
     "iopub.execute_input": "2024-08-03T15:54:34.716065Z",
     "iopub.status.busy": "2024-08-03T15:54:34.715904Z",
     "iopub.status.idle": "2024-08-03T15:54:34.727657Z",
     "shell.execute_reply": "2024-08-03T15:54:34.727398Z"
    },
    "papermill": {
     "duration": 0.019148,
     "end_time": "2024-08-03T15:54:34.728467",
     "exception": false,
     "start_time": "2024-08-03T15:54:34.709319",
     "status": "completed"
    },
    "tags": []
   },
   "outputs": [],
   "source": [
    "# convert columns into national currency if necessary\n",
    "if numbers_in_currency == 'USD':\n",
    "    data_nat_curr = utils.convert_national_currency(input_data=data, currency=data)\n",
    "else:\n",
    "    data_nat_curr = data.copy()\n",
    "data_nat_curr.tail()"
   ]
  },
  {
   "cell_type": "markdown",
   "id": "35b89369",
   "metadata": {
    "papermill": {
     "duration": 0.006096,
     "end_time": "2024-08-03T15:54:34.740742",
     "exception": false,
     "start_time": "2024-08-03T15:54:34.734646",
     "status": "completed"
    },
    "tags": []
   },
   "source": [
    "# 3. Calculate input to Value Raios (eps, bv per share, fcf)\n",
    "## filter out unwanted columns"
   ]
  },
  {
   "cell_type": "code",
   "execution_count": null,
   "id": "016ae737",
   "metadata": {
    "execution": {
     "iopub.execute_input": "2024-08-03T15:54:34.753130Z",
     "iopub.status.busy": "2024-08-03T15:54:34.752998Z",
     "iopub.status.idle": "2024-08-03T15:54:34.756072Z",
     "shell.execute_reply": "2024-08-03T15:54:34.755828Z"
    },
    "papermill": {
     "duration": 0.01034,
     "end_time": "2024-08-03T15:54:34.756903",
     "exception": false,
     "start_time": "2024-08-03T15:54:34.746563",
     "status": "completed"
    },
    "tags": []
   },
   "outputs": [],
   "source": [
    "filtered_nat_curr = utils.calculate_input_value_ratios(data_nat_curr)"
   ]
  },
  {
   "cell_type": "markdown",
   "id": "e57fd37a",
   "metadata": {
    "papermill": {
     "duration": 0.005918,
     "end_time": "2024-08-03T15:54:34.769315",
     "exception": false,
     "start_time": "2024-08-03T15:54:34.763397",
     "status": "completed"
    },
    "tags": []
   },
   "source": [
    "## Calculate input values to value ratios"
   ]
  },
  {
   "cell_type": "code",
   "execution_count": null,
   "id": "8d6ffca3",
   "metadata": {
    "execution": {
     "iopub.execute_input": "2024-08-03T15:54:34.781396Z",
     "iopub.status.busy": "2024-08-03T15:54:34.781274Z",
     "iopub.status.idle": "2024-08-03T15:54:34.783621Z",
     "shell.execute_reply": "2024-08-03T15:54:34.783397Z"
    },
    "papermill": {
     "duration": 0.009613,
     "end_time": "2024-08-03T15:54:34.784417",
     "exception": false,
     "start_time": "2024-08-03T15:54:34.774804",
     "status": "completed"
    },
    "tags": []
   },
   "outputs": [],
   "source": [
    "ratios_nat_curr = utils.ratios_input_filter(filtered_nat_curr)"
   ]
  },
  {
   "cell_type": "markdown",
   "id": "ecd5d98b",
   "metadata": {
    "papermill": {
     "duration": 0.005712,
     "end_time": "2024-08-03T15:54:34.796166",
     "exception": false,
     "start_time": "2024-08-03T15:54:34.790454",
     "status": "completed"
    },
    "tags": []
   },
   "source": [
    "## Calculate performance parameters (current ratio, ROA, ROE, margins, D/E)"
   ]
  },
  {
   "cell_type": "code",
   "execution_count": null,
   "id": "4344c506",
   "metadata": {
    "execution": {
     "iopub.execute_input": "2024-08-03T15:54:34.812655Z",
     "iopub.status.busy": "2024-08-03T15:54:34.812515Z",
     "iopub.status.idle": "2024-08-03T15:54:34.818608Z",
     "shell.execute_reply": "2024-08-03T15:54:34.818355Z"
    },
    "papermill": {
     "duration": 0.017865,
     "end_time": "2024-08-03T15:54:34.819457",
     "exception": false,
     "start_time": "2024-08-03T15:54:34.801592",
     "status": "completed"
    },
    "tags": []
   },
   "outputs": [],
   "source": [
    "ratios_nat_curr = utils.evaluate_performance(input=filtered_nat_curr, output=ratios_nat_curr)"
   ]
  },
  {
   "cell_type": "markdown",
   "id": "c2aba28c",
   "metadata": {
    "papermill": {
     "duration": 0.006066,
     "end_time": "2024-08-03T15:54:34.834968",
     "exception": false,
     "start_time": "2024-08-03T15:54:34.828902",
     "status": "completed"
    },
    "tags": []
   },
   "source": [
    "# 4. Pull historical share prices and merge with sattement data"
   ]
  },
  {
   "cell_type": "code",
   "execution_count": null,
   "id": "cb3c9c59",
   "metadata": {
    "execution": {
     "iopub.execute_input": "2024-08-03T15:54:34.849930Z",
     "iopub.status.busy": "2024-08-03T15:54:34.849733Z",
     "iopub.status.idle": "2024-08-03T15:54:35.205378Z",
     "shell.execute_reply": "2024-08-03T15:54:35.205013Z"
    },
    "papermill": {
     "duration": 0.365155,
     "end_time": "2024-08-03T15:54:35.206616",
     "exception": false,
     "start_time": "2024-08-03T15:54:34.841461",
     "status": "completed"
    },
    "tags": []
   },
   "outputs": [],
   "source": [
    "# pull weekly share prices and merge with the value ratios\n",
    "merged_nat_curr = utils.add_share_prices_to_value_ratios(share_name, data, ratios_nat_curr)\n",
    "merged_nat_curr.head()"
   ]
  },
  {
   "cell_type": "markdown",
   "id": "61f609c6",
   "metadata": {
    "papermill": {
     "duration": 0.013125,
     "end_time": "2024-08-03T15:54:35.235297",
     "exception": false,
     "start_time": "2024-08-03T15:54:35.222172",
     "status": "completed"
    },
    "tags": []
   },
   "source": [
    "# Calculate price ratios (P/E, P/B, P/S, P/FCF)"
   ]
  },
  {
   "cell_type": "code",
   "execution_count": null,
   "id": "807e79a8",
   "metadata": {
    "execution": {
     "iopub.execute_input": "2024-08-03T15:54:35.262344Z",
     "iopub.status.busy": "2024-08-03T15:54:35.262164Z",
     "iopub.status.idle": "2024-08-03T15:54:35.273679Z",
     "shell.execute_reply": "2024-08-03T15:54:35.273344Z"
    },
    "papermill": {
     "duration": 0.027013,
     "end_time": "2024-08-03T15:54:35.274719",
     "exception": false,
     "start_time": "2024-08-03T15:54:35.247706",
     "status": "completed"
    },
    "tags": []
   },
   "outputs": [],
   "source": [
    "merged_nat_curr = utils.price_ratios(merged_nat_curr)\n",
    "merged_nat_curr.head()"
   ]
  },
  {
   "cell_type": "markdown",
   "id": "bb94f97f",
   "metadata": {
    "papermill": {
     "duration": 0.011607,
     "end_time": "2024-08-03T15:54:35.296424",
     "exception": false,
     "start_time": "2024-08-03T15:54:35.284817",
     "status": "completed"
    },
    "tags": []
   },
   "source": [
    "# Calculate Dividend yield and currency-share price correlation"
   ]
  },
  {
   "cell_type": "code",
   "execution_count": null,
   "id": "fb05716c",
   "metadata": {
    "execution": {
     "iopub.execute_input": "2024-08-03T15:54:35.313900Z",
     "iopub.status.busy": "2024-08-03T15:54:35.313682Z",
     "iopub.status.idle": "2024-08-03T15:54:35.493836Z",
     "shell.execute_reply": "2024-08-03T15:54:35.493347Z"
    },
    "papermill": {
     "duration": 0.190304,
     "end_time": "2024-08-03T15:54:35.495170",
     "exception": false,
     "start_time": "2024-08-03T15:54:35.304866",
     "status": "completed"
    },
    "tags": []
   },
   "outputs": [],
   "source": [
    "# get daily historical USD-national currency rates\n",
    "usd_nat_curr = utils.get_historical_currency_rate(currency_pair, merged_nat_curr)"
   ]
  },
  {
   "cell_type": "code",
   "execution_count": null,
   "id": "1148e9dc",
   "metadata": {
    "execution": {
     "iopub.execute_input": "2024-08-03T15:54:35.527750Z",
     "iopub.status.busy": "2024-08-03T15:54:35.527553Z",
     "iopub.status.idle": "2024-08-03T15:54:36.069119Z",
     "shell.execute_reply": "2024-08-03T15:54:36.068845Z"
    },
    "papermill": {
     "duration": 0.558205,
     "end_time": "2024-08-03T15:54:36.070001",
     "exception": false,
     "start_time": "2024-08-03T15:54:35.511796",
     "status": "completed"
    },
    "tags": []
   },
   "outputs": [],
   "source": [
    "# get share prices and dividend yield data\n",
    "ticker_all_price = utils.get_historical_share_dividend(share_name, merged_nat_curr)"
   ]
  },
  {
   "cell_type": "code",
   "execution_count": null,
   "id": "52a4e002",
   "metadata": {
    "execution": {
     "iopub.execute_input": "2024-08-03T15:54:36.092939Z",
     "iopub.status.busy": "2024-08-03T15:54:36.092806Z",
     "iopub.status.idle": "2024-08-03T15:54:36.252376Z",
     "shell.execute_reply": "2024-08-03T15:54:36.252089Z"
    },
    "papermill": {
     "duration": 0.171151,
     "end_time": "2024-08-03T15:54:36.253228",
     "exception": false,
     "start_time": "2024-08-03T15:54:36.082077",
     "status": "completed"
    },
    "tags": []
   },
   "outputs": [],
   "source": [
    "# Pearson's correlation coefficient between share price and USD - national currency rate\n",
    "utils.get_currency_share_price_correlation(share_name, usd_nat_curr, ticker_all_price)"
   ]
  },
  {
   "cell_type": "markdown",
   "id": "7798fe1f",
   "metadata": {
    "papermill": {
     "duration": 0.012006,
     "end_time": "2024-08-03T15:54:36.279388",
     "exception": false,
     "start_time": "2024-08-03T15:54:36.267382",
     "status": "completed"
    },
    "tags": []
   },
   "source": [
    "# Share price and value ratios"
   ]
  },
  {
   "cell_type": "code",
   "execution_count": null,
   "id": "0d071c7f",
   "metadata": {
    "execution": {
     "iopub.execute_input": "2024-08-03T15:54:36.301928Z",
     "iopub.status.busy": "2024-08-03T15:54:36.301794Z",
     "iopub.status.idle": "2024-08-03T15:54:40.529991Z",
     "shell.execute_reply": "2024-08-03T15:54:40.529726Z"
    },
    "papermill": {
     "duration": 4.239325,
     "end_time": "2024-08-03T15:54:40.530894",
     "exception": false,
     "start_time": "2024-08-03T15:54:36.291569",
     "status": "completed"
    },
    "tags": []
   },
   "outputs": [],
   "source": [
    "for column in merged_nat_curr.columns[3:]:\n",
    "    fig, ax1 = plt.subplots(figsize=(15, 6))\n",
    "\n",
    "    ax2 = ax1.twinx()\n",
    "    ax1.plot(merged_nat_curr['real_date'], merged_nat_curr[column], color='k', label=merged_nat_curr)\n",
    "    ax2.plot(ticker_all_price.index, ticker_all_price['Close'], color='b', label=share_name)\n",
    "\n",
    "    ax1.set_xlabel('Date')\n",
    "    ax1.set_ylabel(column, color='k')\n",
    "    ax2.set_ylabel('Share price (national currency)', color='b')\n",
    "\n",
    "    plt.legend()\n",
    "    plt.show()"
   ]
  },
  {
   "cell_type": "code",
   "execution_count": null,
   "id": "c98e1d89",
   "metadata": {
    "execution": {
     "iopub.execute_input": "2024-08-03T15:54:40.570053Z",
     "iopub.status.busy": "2024-08-03T15:54:40.569917Z",
     "iopub.status.idle": "2024-08-03T15:54:41.390013Z",
     "shell.execute_reply": "2024-08-03T15:54:41.389763Z"
    },
    "papermill": {
     "duration": 0.840906,
     "end_time": "2024-08-03T15:54:41.390898",
     "exception": false,
     "start_time": "2024-08-03T15:54:40.549992",
     "status": "completed"
    },
    "tags": []
   },
   "outputs": [],
   "source": [
    "# plot histograms of value parameters\n",
    "utils.plot_histogram_value_parameters(input_df=merged_nat_curr, extra_parameters=[], owned_shares=owned_shares)"
   ]
  },
  {
   "cell_type": "markdown",
   "id": "2489e66c",
   "metadata": {
    "papermill": {
     "duration": 0.023217,
     "end_time": "2024-08-03T15:54:41.435737",
     "exception": false,
     "start_time": "2024-08-03T15:54:41.412520",
     "status": "completed"
    },
    "tags": []
   },
   "source": [
    "## Calculate correlation between value parameters"
   ]
  },
  {
   "cell_type": "code",
   "execution_count": null,
   "id": "c5255243",
   "metadata": {
    "execution": {
     "iopub.execute_input": "2024-08-03T15:54:41.481736Z",
     "iopub.status.busy": "2024-08-03T15:54:41.481593Z",
     "iopub.status.idle": "2024-08-03T15:54:41.486541Z",
     "shell.execute_reply": "2024-08-03T15:54:41.486273Z"
    },
    "papermill": {
     "duration": 0.02862,
     "end_time": "2024-08-03T15:54:41.487416",
     "exception": false,
     "start_time": "2024-08-03T15:54:41.458796",
     "status": "completed"
    },
    "tags": []
   },
   "outputs": [],
   "source": [
    "# calulate value parameters Pearson's correlation coefficient\n",
    "pd.DataFrame(merged_nat_curr, columns=['roa', 'roe', 'pe_ratio', 'pb_ratio', 'ps_ratio', 'ev_revenue', 'debt_to_equity', 'current_ratio']).corr()"
   ]
  },
  {
   "cell_type": "code",
   "execution_count": null,
   "id": "88bccf92",
   "metadata": {},
   "outputs": [],
   "source": [
    "final_df = utils.get_value_stock_target_prices(\n",
    "    input_df=merged_nat_curr,\n",
    "    min_pct=0.2,\n",
    "    max_pct=0.5,\n",
    "    owned_shares=owned_shares\n",
    ")"
   ]
  }
 ],
 "metadata": {
  "kernelspec": {
   "display_name": ".venv",
   "language": "python",
   "name": "python3"
  },
  "language_info": {
   "codemirror_mode": {
    "name": "ipython",
    "version": 3
   },
   "file_extension": ".py",
   "mimetype": "text/x-python",
   "name": "python",
   "nbconvert_exporter": "python",
   "pygments_lexer": "ipython3",
   "version": "3.11.3"
  },
  "papermill": {
   "default_parameters": {},
   "duration": 9.322035,
   "end_time": "2024-08-03T15:54:41.844869",
   "environment_variables": {},
   "exception": null,
   "input_path": "../notebooks/iac_national.ipynb",
   "output_path": "../notebooks/iac_national.ipynb",
   "parameters": {},
   "start_time": "2024-08-03T15:54:32.522834",
   "version": "2.5.0"
  }
 },
 "nbformat": 4,
 "nbformat_minor": 5
}
