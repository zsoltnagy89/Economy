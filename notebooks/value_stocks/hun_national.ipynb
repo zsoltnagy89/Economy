{
 "cells": [
  {
   "cell_type": "code",
   "execution_count": null,
   "id": "7b92f997",
   "metadata": {
    "execution": {
     "iopub.execute_input": "2024-08-03T15:57:46.958367Z",
     "iopub.status.busy": "2024-08-03T15:57:46.958150Z",
     "iopub.status.idle": "2024-08-03T15:57:47.667792Z",
     "shell.execute_reply": "2024-08-03T15:57:47.667519Z"
    },
    "papermill": {
     "duration": 0.726458,
     "end_time": "2024-08-03T15:57:47.668872",
     "exception": false,
     "start_time": "2024-08-03T15:57:46.942414",
     "status": "completed"
    },
    "tags": []
   },
   "outputs": [],
   "source": [
    "import pandas as pd\n",
    "import matplotlib.pyplot as plt\n",
    "import numpy as np\n",
    "\n",
    "import yfinance as yf\n",
    "import datetime\n",
    "\n",
    "from valueinvesting import utils as utils"
   ]
  },
  {
   "cell_type": "markdown",
   "id": "c9d3cfa8",
   "metadata": {
    "papermill": {
     "duration": 0.011063,
     "end_time": "2024-08-03T15:57:47.691158",
     "exception": false,
     "start_time": "2024-08-03T15:57:47.680095",
     "status": "completed"
    },
    "tags": []
   },
   "source": [
    "# 1. Load raw input\n",
    "## Hardcoded block"
   ]
  },
  {
   "cell_type": "code",
   "execution_count": null,
   "id": "8d3ff5a5",
   "metadata": {
    "execution": {
     "iopub.execute_input": "2024-08-03T15:57:47.712415Z",
     "iopub.status.busy": "2024-08-03T15:57:47.712109Z",
     "iopub.status.idle": "2024-08-03T15:57:47.714340Z",
     "shell.execute_reply": "2024-08-03T15:57:47.714094Z"
    },
    "papermill": {
     "duration": 0.01316,
     "end_time": "2024-08-03T15:57:47.715265",
     "exception": false,
     "start_time": "2024-08-03T15:57:47.702105",
     "status": "completed"
    },
    "tags": []
   },
   "outputs": [],
   "source": [
    "evaluate_last_X_years = True\n",
    "X=10\n",
    "currency_pair = 'USD=X'\n",
    "numbers_in_currency = 'USD'\n",
    "share_name = 'HUN'"
   ]
  },
  {
   "cell_type": "markdown",
   "id": "15deabdf",
   "metadata": {
    "papermill": {
     "duration": 0.011366,
     "end_time": "2024-08-03T15:57:47.738337",
     "exception": false,
     "start_time": "2024-08-03T15:57:47.726971",
     "status": "completed"
    },
    "tags": []
   },
   "source": [
    "# 1.1 Calculate Share numbers from total distributed dividend (CFS) and dividend amount"
   ]
  },
  {
   "cell_type": "markdown",
   "id": "e2786837",
   "metadata": {
    "papermill": {
     "duration": 0.010038,
     "end_time": "2024-08-03T15:57:47.758332",
     "exception": false,
     "start_time": "2024-08-03T15:57:47.748294",
     "status": "completed"
    },
    "tags": []
   },
   "source": [
    "# 1.2. Raw input statement data"
   ]
  },
  {
   "cell_type": "code",
   "execution_count": null,
   "id": "eb90854c",
   "metadata": {
    "execution": {
     "iopub.execute_input": "2024-08-03T15:57:47.779155Z",
     "iopub.status.busy": "2024-08-03T15:57:47.778885Z",
     "iopub.status.idle": "2024-08-03T15:57:47.795399Z",
     "shell.execute_reply": "2024-08-03T15:57:47.795060Z"
    },
    "papermill": {
     "duration": 0.02478,
     "end_time": "2024-08-03T15:57:47.796522",
     "exception": false,
     "start_time": "2024-08-03T15:57:47.771742",
     "status": "completed"
    },
    "tags": []
   },
   "outputs": [],
   "source": [
    "route = f\"../data/input/{share_name}_data.csv\"\n",
    "data = pd.read_csv(route, sep=';', parse_dates=['date', 'real_date'])\n",
    "# replace -, extend missing 0-s, fix datatype\n",
    "data = utils.replace_format_input(data)"
   ]
  },
  {
   "cell_type": "code",
   "execution_count": null,
   "id": "bff7c31c",
   "metadata": {
    "execution": {
     "iopub.execute_input": "2024-08-03T15:57:47.818212Z",
     "iopub.status.busy": "2024-08-03T15:57:47.818063Z",
     "iopub.status.idle": "2024-08-03T15:57:47.822171Z",
     "shell.execute_reply": "2024-08-03T15:57:47.821878Z"
    },
    "papermill": {
     "duration": 0.015492,
     "end_time": "2024-08-03T15:57:47.823233",
     "exception": false,
     "start_time": "2024-08-03T15:57:47.807741",
     "status": "completed"
    },
    "tags": []
   },
   "outputs": [],
   "source": [
    "owned_shares = pd.read_csv('../data/extras/owned_stocks.csv', sep=';', parse_dates=['date'])\n",
    "owned_shares = owned_shares.loc[(owned_shares['stock'] == share_name) & (owned_shares['active'] == 'yes')]"
   ]
  },
  {
   "cell_type": "markdown",
   "id": "fa057db3",
   "metadata": {
    "papermill": {
     "duration": 0.009532,
     "end_time": "2024-08-03T15:57:47.842583",
     "exception": false,
     "start_time": "2024-08-03T15:57:47.833051",
     "status": "completed"
    },
    "tags": []
   },
   "source": [
    "## (OPTIONAL) Time Filtering - Last 7 years daat"
   ]
  },
  {
   "cell_type": "code",
   "execution_count": null,
   "id": "762cead3",
   "metadata": {
    "execution": {
     "iopub.execute_input": "2024-08-03T15:57:47.860055Z",
     "iopub.status.busy": "2024-08-03T15:57:47.859902Z",
     "iopub.status.idle": "2024-08-03T15:57:47.870375Z",
     "shell.execute_reply": "2024-08-03T15:57:47.870073Z"
    },
    "papermill": {
     "duration": 0.01832,
     "end_time": "2024-08-03T15:57:47.871238",
     "exception": false,
     "start_time": "2024-08-03T15:57:47.852918",
     "status": "completed"
    },
    "tags": []
   },
   "outputs": [],
   "source": [
    "if evaluate_last_X_years:\n",
    "    data = data[data['date'] > datetime.datetime.today() - datetime.timedelta(days=X*366+93)]\n",
    "    data = data.reset_index(drop=True)\n",
    "\n",
    "data.head()"
   ]
  },
  {
   "cell_type": "markdown",
   "id": "2e7885c0",
   "metadata": {
    "papermill": {
     "duration": 0.005532,
     "end_time": "2024-08-03T15:57:47.882862",
     "exception": false,
     "start_time": "2024-08-03T15:57:47.877330",
     "status": "completed"
    },
    "tags": []
   },
   "source": [
    "## Calculate date when quaterly reports could be available"
   ]
  },
  {
   "cell_type": "code",
   "execution_count": null,
   "id": "5faf05ce",
   "metadata": {
    "execution": {
     "iopub.execute_input": "2024-08-03T15:57:47.894719Z",
     "iopub.status.busy": "2024-08-03T15:57:47.894579Z",
     "iopub.status.idle": "2024-08-03T15:57:47.896523Z",
     "shell.execute_reply": "2024-08-03T15:57:47.896270Z"
    },
    "papermill": {
     "duration": 0.009108,
     "end_time": "2024-08-03T15:57:47.897430",
     "exception": false,
     "start_time": "2024-08-03T15:57:47.888322",
     "status": "completed"
    },
    "tags": []
   },
   "outputs": [],
   "source": [
    "data = utils.calculate_real_date(data)"
   ]
  },
  {
   "cell_type": "markdown",
   "id": "0f0af01a",
   "metadata": {
    "papermill": {
     "duration": 0.005638,
     "end_time": "2024-08-03T15:57:47.909116",
     "exception": false,
     "start_time": "2024-08-03T15:57:47.903478",
     "status": "completed"
    },
    "tags": []
   },
   "source": [
    "# 2. Filter out unnecesary columns"
   ]
  },
  {
   "cell_type": "code",
   "execution_count": null,
   "id": "24f5f6c2",
   "metadata": {
    "execution": {
     "iopub.execute_input": "2024-08-03T15:57:47.921972Z",
     "iopub.status.busy": "2024-08-03T15:57:47.921822Z",
     "iopub.status.idle": "2024-08-03T15:57:47.928763Z",
     "shell.execute_reply": "2024-08-03T15:57:47.928503Z"
    },
    "papermill": {
     "duration": 0.014952,
     "end_time": "2024-08-03T15:57:47.929664",
     "exception": false,
     "start_time": "2024-08-03T15:57:47.914712",
     "status": "completed"
    },
    "tags": []
   },
   "outputs": [],
   "source": [
    "data = utils.filter_raw_data(data)\n",
    "data.tail()"
   ]
  },
  {
   "cell_type": "markdown",
   "id": "96346631",
   "metadata": {
    "papermill": {
     "duration": 0.005253,
     "end_time": "2024-08-03T15:57:47.940838",
     "exception": false,
     "start_time": "2024-08-03T15:57:47.935585",
     "status": "completed"
    },
    "tags": []
   },
   "source": [
    "## Pull historical average USD national currency rates and add to the dataframe"
   ]
  },
  {
   "cell_type": "code",
   "execution_count": null,
   "id": "332b7052",
   "metadata": {
    "execution": {
     "iopub.execute_input": "2024-08-03T15:57:47.952852Z",
     "iopub.status.busy": "2024-08-03T15:57:47.952719Z",
     "iopub.status.idle": "2024-08-03T15:57:47.960082Z",
     "shell.execute_reply": "2024-08-03T15:57:47.959753Z"
    },
    "papermill": {
     "duration": 0.014623,
     "end_time": "2024-08-03T15:57:47.960979",
     "exception": false,
     "start_time": "2024-08-03T15:57:47.946356",
     "status": "completed"
    },
    "tags": []
   },
   "outputs": [],
   "source": [
    "if currency_pair != 'USD=X':\n",
    "    data['usd_nat_currency'] = utils.daily_price(\n",
    "        ticker=currency_pair,\n",
    "        end=data['date'],\n",
    "        days_earlier=90\n",
    "        )\n",
    "else:\n",
    "    data['usd_nat_currency'] = [1 for x in range(len(data))]\n",
    "\n",
    "# drop rows, when USD rates wasn't available\n",
    "data = data[data['usd_nat_currency'].notna()]\n",
    "\n",
    "data.tail()"
   ]
  },
  {
   "cell_type": "markdown",
   "id": "51a346ad",
   "metadata": {
    "papermill": {
     "duration": 0.005535,
     "end_time": "2024-08-03T15:57:47.972825",
     "exception": false,
     "start_time": "2024-08-03T15:57:47.967290",
     "status": "completed"
    },
    "tags": []
   },
   "source": [
    "## Convert USD values related to IS, BS, CFS to national currency"
   ]
  },
  {
   "cell_type": "code",
   "execution_count": null,
   "id": "eb614cbb",
   "metadata": {
    "execution": {
     "iopub.execute_input": "2024-08-03T15:57:47.985109Z",
     "iopub.status.busy": "2024-08-03T15:57:47.984888Z",
     "iopub.status.idle": "2024-08-03T15:57:47.996893Z",
     "shell.execute_reply": "2024-08-03T15:57:47.996624Z"
    },
    "papermill": {
     "duration": 0.019247,
     "end_time": "2024-08-03T15:57:47.997723",
     "exception": false,
     "start_time": "2024-08-03T15:57:47.978476",
     "status": "completed"
    },
    "tags": []
   },
   "outputs": [],
   "source": [
    "# convert columns into national currency if necessary\n",
    "if numbers_in_currency == 'USD':\n",
    "    data_nat_curr = utils.convert_national_currency(input_data=data, currency=data)\n",
    "else:\n",
    "    data_nat_curr = data.copy()\n",
    "data_nat_curr.tail()"
   ]
  },
  {
   "cell_type": "markdown",
   "id": "4e62b70f",
   "metadata": {
    "papermill": {
     "duration": 0.009571,
     "end_time": "2024-08-03T15:57:48.017164",
     "exception": false,
     "start_time": "2024-08-03T15:57:48.007593",
     "status": "completed"
    },
    "tags": []
   },
   "source": [
    "# 3. Calculate input to Value Raios (eps, bv per share, fcf)\n",
    "## filter out unwanted columns"
   ]
  },
  {
   "cell_type": "code",
   "execution_count": null,
   "id": "ae399014",
   "metadata": {
    "execution": {
     "iopub.execute_input": "2024-08-03T15:57:48.037339Z",
     "iopub.status.busy": "2024-08-03T15:57:48.037185Z",
     "iopub.status.idle": "2024-08-03T15:57:48.040584Z",
     "shell.execute_reply": "2024-08-03T15:57:48.040100Z"
    },
    "papermill": {
     "duration": 0.015171,
     "end_time": "2024-08-03T15:57:48.041833",
     "exception": false,
     "start_time": "2024-08-03T15:57:48.026662",
     "status": "completed"
    },
    "tags": []
   },
   "outputs": [],
   "source": [
    "filtered_nat_curr = utils.calculate_input_value_ratios(data_nat_curr)"
   ]
  },
  {
   "cell_type": "markdown",
   "id": "93980666",
   "metadata": {
    "papermill": {
     "duration": 0.008429,
     "end_time": "2024-08-03T15:57:48.056875",
     "exception": false,
     "start_time": "2024-08-03T15:57:48.048446",
     "status": "completed"
    },
    "tags": []
   },
   "source": [
    "## Calculate input values to value ratios"
   ]
  },
  {
   "cell_type": "code",
   "execution_count": null,
   "id": "b6fab6ee",
   "metadata": {
    "execution": {
     "iopub.execute_input": "2024-08-03T15:57:48.069300Z",
     "iopub.status.busy": "2024-08-03T15:57:48.069165Z",
     "iopub.status.idle": "2024-08-03T15:57:48.071545Z",
     "shell.execute_reply": "2024-08-03T15:57:48.071250Z"
    },
    "papermill": {
     "duration": 0.009466,
     "end_time": "2024-08-03T15:57:48.072448",
     "exception": false,
     "start_time": "2024-08-03T15:57:48.062982",
     "status": "completed"
    },
    "tags": []
   },
   "outputs": [],
   "source": [
    "ratios_nat_curr = utils.ratios_input_filter(filtered_nat_curr)"
   ]
  },
  {
   "cell_type": "markdown",
   "id": "af5195d9",
   "metadata": {
    "papermill": {
     "duration": 0.005523,
     "end_time": "2024-08-03T15:57:48.084285",
     "exception": false,
     "start_time": "2024-08-03T15:57:48.078762",
     "status": "completed"
    },
    "tags": []
   },
   "source": [
    "## Calculate performance parameters (current ratio, ROA, ROE, margins, D/E)"
   ]
  },
  {
   "cell_type": "code",
   "execution_count": null,
   "id": "388f411f",
   "metadata": {
    "execution": {
     "iopub.execute_input": "2024-08-03T15:57:48.096721Z",
     "iopub.status.busy": "2024-08-03T15:57:48.096585Z",
     "iopub.status.idle": "2024-08-03T15:57:48.103164Z",
     "shell.execute_reply": "2024-08-03T15:57:48.102907Z"
    },
    "papermill": {
     "duration": 0.014049,
     "end_time": "2024-08-03T15:57:48.104007",
     "exception": false,
     "start_time": "2024-08-03T15:57:48.089958",
     "status": "completed"
    },
    "tags": []
   },
   "outputs": [],
   "source": [
    "ratios_nat_curr = utils.evaluate_performance(input=filtered_nat_curr, output=ratios_nat_curr)"
   ]
  },
  {
   "cell_type": "markdown",
   "id": "82a29d07",
   "metadata": {
    "papermill": {
     "duration": 0.006033,
     "end_time": "2024-08-03T15:57:48.116396",
     "exception": false,
     "start_time": "2024-08-03T15:57:48.110363",
     "status": "completed"
    },
    "tags": []
   },
   "source": [
    "# 4. Pull historical share prices and merge with sattement data"
   ]
  },
  {
   "cell_type": "code",
   "execution_count": null,
   "id": "ad8e708d",
   "metadata": {
    "execution": {
     "iopub.execute_input": "2024-08-03T15:57:48.128855Z",
     "iopub.status.busy": "2024-08-03T15:57:48.128716Z",
     "iopub.status.idle": "2024-08-03T15:57:48.506447Z",
     "shell.execute_reply": "2024-08-03T15:57:48.506071Z"
    },
    "papermill": {
     "duration": 0.385896,
     "end_time": "2024-08-03T15:57:48.507659",
     "exception": false,
     "start_time": "2024-08-03T15:57:48.121763",
     "status": "completed"
    },
    "tags": []
   },
   "outputs": [],
   "source": [
    "# pull weekly share prices and merge with the value ratios\n",
    "merged_nat_curr = utils.add_share_prices_to_value_ratios(share_name, data, ratios_nat_curr)\n",
    "merged_nat_curr.head()"
   ]
  },
  {
   "cell_type": "markdown",
   "id": "5d20c32c",
   "metadata": {
    "papermill": {
     "duration": 0.014203,
     "end_time": "2024-08-03T15:57:48.539198",
     "exception": false,
     "start_time": "2024-08-03T15:57:48.524995",
     "status": "completed"
    },
    "tags": []
   },
   "source": [
    "# Calculate price ratios (P/E, P/B, P/S, P/FCF)"
   ]
  },
  {
   "cell_type": "code",
   "execution_count": null,
   "id": "b553ac49",
   "metadata": {
    "execution": {
     "iopub.execute_input": "2024-08-03T15:57:48.570159Z",
     "iopub.status.busy": "2024-08-03T15:57:48.569980Z",
     "iopub.status.idle": "2024-08-03T15:57:48.581322Z",
     "shell.execute_reply": "2024-08-03T15:57:48.580995Z"
    },
    "papermill": {
     "duration": 0.026433,
     "end_time": "2024-08-03T15:57:48.582384",
     "exception": false,
     "start_time": "2024-08-03T15:57:48.555951",
     "status": "completed"
    },
    "tags": []
   },
   "outputs": [],
   "source": [
    "merged_nat_curr = utils.price_ratios(merged_nat_curr)\n",
    "merged_nat_curr.head()"
   ]
  },
  {
   "cell_type": "markdown",
   "id": "67a788fb",
   "metadata": {
    "papermill": {
     "duration": 0.011198,
     "end_time": "2024-08-03T15:57:48.606812",
     "exception": false,
     "start_time": "2024-08-03T15:57:48.595614",
     "status": "completed"
    },
    "tags": []
   },
   "source": [
    "# Calculate Dividend yield and currency-share price correlation"
   ]
  },
  {
   "cell_type": "code",
   "execution_count": null,
   "id": "0eefeea0",
   "metadata": {
    "execution": {
     "iopub.execute_input": "2024-08-03T15:57:48.628060Z",
     "iopub.status.busy": "2024-08-03T15:57:48.627933Z",
     "iopub.status.idle": "2024-08-03T15:57:48.816970Z",
     "shell.execute_reply": "2024-08-03T15:57:48.816545Z"
    },
    "papermill": {
     "duration": 0.201762,
     "end_time": "2024-08-03T15:57:48.818391",
     "exception": false,
     "start_time": "2024-08-03T15:57:48.616629",
     "status": "completed"
    },
    "tags": []
   },
   "outputs": [],
   "source": [
    "# get daily historical USD-national currency rates\n",
    "usd_nat_curr = utils.get_historical_currency_rate(currency_pair, merged_nat_curr)"
   ]
  },
  {
   "cell_type": "code",
   "execution_count": null,
   "id": "3bac087c",
   "metadata": {
    "execution": {
     "iopub.execute_input": "2024-08-03T15:57:48.839337Z",
     "iopub.status.busy": "2024-08-03T15:57:48.839143Z",
     "iopub.status.idle": "2024-08-03T15:57:49.312248Z",
     "shell.execute_reply": "2024-08-03T15:57:49.311979Z"
    },
    "papermill": {
     "duration": 0.484682,
     "end_time": "2024-08-03T15:57:49.313152",
     "exception": false,
     "start_time": "2024-08-03T15:57:48.828470",
     "status": "completed"
    },
    "tags": []
   },
   "outputs": [],
   "source": [
    "# get share prices and dividend yield data\n",
    "ticker_all_price = utils.get_historical_share_dividend(share_name, merged_nat_curr)"
   ]
  },
  {
   "cell_type": "code",
   "execution_count": null,
   "id": "f71366f5",
   "metadata": {
    "execution": {
     "iopub.execute_input": "2024-08-03T15:57:49.328472Z",
     "iopub.status.busy": "2024-08-03T15:57:49.328336Z",
     "iopub.status.idle": "2024-08-03T15:57:49.486653Z",
     "shell.execute_reply": "2024-08-03T15:57:49.486331Z"
    },
    "papermill": {
     "duration": 0.168338,
     "end_time": "2024-08-03T15:57:49.487539",
     "exception": false,
     "start_time": "2024-08-03T15:57:49.319201",
     "status": "completed"
    },
    "tags": []
   },
   "outputs": [],
   "source": [
    "# Pearson's correlation coefficient between share price and USD - national currency rate\n",
    "utils.get_currency_share_price_correlation(share_name, usd_nat_curr, ticker_all_price)"
   ]
  },
  {
   "cell_type": "markdown",
   "id": "4676bd3d",
   "metadata": {
    "papermill": {
     "duration": 0.012597,
     "end_time": "2024-08-03T15:57:49.509948",
     "exception": false,
     "start_time": "2024-08-03T15:57:49.497351",
     "status": "completed"
    },
    "tags": []
   },
   "source": [
    "# Share price and value ratios"
   ]
  },
  {
   "cell_type": "code",
   "execution_count": null,
   "id": "d4bb0403",
   "metadata": {
    "execution": {
     "iopub.execute_input": "2024-08-03T15:57:49.533640Z",
     "iopub.status.busy": "2024-08-03T15:57:49.533519Z",
     "iopub.status.idle": "2024-08-03T15:57:53.845891Z",
     "shell.execute_reply": "2024-08-03T15:57:53.845595Z"
    },
    "papermill": {
     "duration": 4.323414,
     "end_time": "2024-08-03T15:57:53.846763",
     "exception": false,
     "start_time": "2024-08-03T15:57:49.523349",
     "status": "completed"
    },
    "tags": []
   },
   "outputs": [],
   "source": [
    "for column in merged_nat_curr.columns[3:]:\n",
    "    fig, ax1 = plt.subplots(figsize=(15, 6))\n",
    "\n",
    "    ax2 = ax1.twinx()\n",
    "    ax1.plot(merged_nat_curr['real_date'], merged_nat_curr[column], color='k', label=merged_nat_curr)\n",
    "    ax2.plot(ticker_all_price.index, ticker_all_price['Close'], color='b', label=share_name)\n",
    "\n",
    "    ax1.set_xlabel('Date')\n",
    "    ax1.set_ylabel(column, color='k')\n",
    "    ax2.set_ylabel('Share price (national currency)', color='b')\n",
    "\n",
    "    plt.legend()\n",
    "    plt.show()"
   ]
  },
  {
   "cell_type": "code",
   "execution_count": null,
   "id": "af7c4bd4",
   "metadata": {
    "execution": {
     "iopub.execute_input": "2024-08-03T15:57:53.893330Z",
     "iopub.status.busy": "2024-08-03T15:57:53.893199Z",
     "iopub.status.idle": "2024-08-03T15:57:54.703287Z",
     "shell.execute_reply": "2024-08-03T15:57:54.703019Z"
    },
    "papermill": {
     "duration": 0.835528,
     "end_time": "2024-08-03T15:57:54.704120",
     "exception": false,
     "start_time": "2024-08-03T15:57:53.868592",
     "status": "completed"
    },
    "tags": []
   },
   "outputs": [],
   "source": [
    "# plot histograms of value parameters\n",
    "utils.plot_histogram_value_parameters(input_df=merged_nat_curr, extra_parameters=[], owned_shares=owned_shares)"
   ]
  },
  {
   "cell_type": "markdown",
   "id": "c9a533c5",
   "metadata": {
    "papermill": {
     "duration": 0.022309,
     "end_time": "2024-08-03T15:57:54.752186",
     "exception": false,
     "start_time": "2024-08-03T15:57:54.729877",
     "status": "completed"
    },
    "tags": []
   },
   "source": [
    "## Calculate correlation between value parameters"
   ]
  },
  {
   "cell_type": "code",
   "execution_count": null,
   "id": "e1f857c9",
   "metadata": {
    "execution": {
     "iopub.execute_input": "2024-08-03T15:57:54.799456Z",
     "iopub.status.busy": "2024-08-03T15:57:54.799318Z",
     "iopub.status.idle": "2024-08-03T15:57:54.804482Z",
     "shell.execute_reply": "2024-08-03T15:57:54.804231Z"
    },
    "papermill": {
     "duration": 0.028069,
     "end_time": "2024-08-03T15:57:54.805280",
     "exception": false,
     "start_time": "2024-08-03T15:57:54.777211",
     "status": "completed"
    },
    "tags": []
   },
   "outputs": [],
   "source": [
    "# calulate value parameters Pearson's correlation coefficient\n",
    "pd.DataFrame(merged_nat_curr, columns=['roa', 'roe', 'pe_ratio', 'pb_ratio', 'ps_ratio', 'ev_revenue', 'debt_to_equity', 'current_ratio']).corr()"
   ]
  },
  {
   "cell_type": "code",
   "execution_count": null,
   "id": "2811f484",
   "metadata": {},
   "outputs": [],
   "source": [
    "final_df = utils.get_value_stock_target_prices(\n",
    "    input_df=merged_nat_curr,\n",
    "    min_pct=0.2,\n",
    "    max_pct=0.5,\n",
    "    owned_shares=owned_shares\n",
    ")"
   ]
  }
 ],
 "metadata": {
  "kernelspec": {
   "display_name": ".venv",
   "language": "python",
   "name": "python3"
  },
  "language_info": {
   "codemirror_mode": {
    "name": "ipython",
    "version": 3
   },
   "file_extension": ".py",
   "mimetype": "text/x-python",
   "name": "python",
   "nbconvert_exporter": "python",
   "pygments_lexer": "ipython3",
   "version": "3.11.3"
  },
  "papermill": {
   "default_parameters": {},
   "duration": 9.230204,
   "end_time": "2024-08-03T15:57:55.200507",
   "environment_variables": {},
   "exception": null,
   "input_path": "../notebooks/hun_national.ipynb",
   "output_path": "../notebooks/hun_national.ipynb",
   "parameters": {},
   "start_time": "2024-08-03T15:57:45.970303",
   "version": "2.5.0"
  }
 },
 "nbformat": 4,
 "nbformat_minor": 5
}
