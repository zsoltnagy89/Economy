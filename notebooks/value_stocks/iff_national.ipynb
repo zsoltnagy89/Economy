{
 "cells": [
  {
   "cell_type": "code",
   "execution_count": null,
   "id": "df486bc3",
   "metadata": {
    "execution": {
     "iopub.execute_input": "2024-08-03T15:58:31.963960Z",
     "iopub.status.busy": "2024-08-03T15:58:31.963770Z",
     "iopub.status.idle": "2024-08-03T15:58:32.775248Z",
     "shell.execute_reply": "2024-08-03T15:58:32.774819Z"
    },
    "papermill": {
     "duration": 0.826471,
     "end_time": "2024-08-03T15:58:32.776614",
     "exception": false,
     "start_time": "2024-08-03T15:58:31.950143",
     "status": "completed"
    },
    "tags": []
   },
   "outputs": [],
   "source": [
    "import pandas as pd\n",
    "import matplotlib.pyplot as plt\n",
    "import numpy as np\n",
    "\n",
    "import yfinance as yf\n",
    "import datetime\n",
    "\n",
    "from valueinvesting import utils as utils"
   ]
  },
  {
   "cell_type": "markdown",
   "id": "e71d3bd4",
   "metadata": {
    "papermill": {
     "duration": 0.006189,
     "end_time": "2024-08-03T15:58:32.788802",
     "exception": false,
     "start_time": "2024-08-03T15:58:32.782613",
     "status": "completed"
    },
    "tags": []
   },
   "source": [
    "# 1. Load raw input\n",
    "## Hardcoded block"
   ]
  },
  {
   "cell_type": "code",
   "execution_count": null,
   "id": "31d5c59b",
   "metadata": {
    "execution": {
     "iopub.execute_input": "2024-08-03T15:58:32.799456Z",
     "iopub.status.busy": "2024-08-03T15:58:32.799283Z",
     "iopub.status.idle": "2024-08-03T15:58:32.801308Z",
     "shell.execute_reply": "2024-08-03T15:58:32.801057Z"
    },
    "papermill": {
     "duration": 0.008085,
     "end_time": "2024-08-03T15:58:32.802125",
     "exception": false,
     "start_time": "2024-08-03T15:58:32.794040",
     "status": "completed"
    },
    "tags": []
   },
   "outputs": [],
   "source": [
    "evaluate_last_X_years = True\n",
    "X=10\n",
    "currency_pair = 'USD=X'\n",
    "numbers_in_currency = 'USD'\n",
    "share_name = 'IFF'"
   ]
  },
  {
   "cell_type": "markdown",
   "id": "9bb4c88d",
   "metadata": {
    "papermill": {
     "duration": 0.004916,
     "end_time": "2024-08-03T15:58:32.812467",
     "exception": false,
     "start_time": "2024-08-03T15:58:32.807551",
     "status": "completed"
    },
    "tags": []
   },
   "source": [
    "# 1.1 Calculate Share numbers from total distributed dividend (CFS) and dividend amount"
   ]
  },
  {
   "cell_type": "markdown",
   "id": "bd1f0352",
   "metadata": {
    "papermill": {
     "duration": 0.004999,
     "end_time": "2024-08-03T15:58:32.822411",
     "exception": false,
     "start_time": "2024-08-03T15:58:32.817412",
     "status": "completed"
    },
    "tags": []
   },
   "source": [
    "# 1.2. Raw input statement data"
   ]
  },
  {
   "cell_type": "code",
   "execution_count": null,
   "id": "8c136cd3",
   "metadata": {
    "execution": {
     "iopub.execute_input": "2024-08-03T15:58:32.837542Z",
     "iopub.status.busy": "2024-08-03T15:58:32.837301Z",
     "iopub.status.idle": "2024-08-03T15:58:32.849827Z",
     "shell.execute_reply": "2024-08-03T15:58:32.849524Z"
    },
    "papermill": {
     "duration": 0.022116,
     "end_time": "2024-08-03T15:58:32.850819",
     "exception": false,
     "start_time": "2024-08-03T15:58:32.828703",
     "status": "completed"
    },
    "tags": []
   },
   "outputs": [],
   "source": [
    "route = f\"../data/input/{share_name}_data.csv\"\n",
    "data = pd.read_csv(route, sep=';', parse_dates=['date', 'real_date'])\n",
    "# replace -, extend missing 0-s, fix datatype\n",
    "data = utils.replace_format_input(data)"
   ]
  },
  {
   "cell_type": "code",
   "execution_count": null,
   "id": "0912b5e1",
   "metadata": {
    "execution": {
     "iopub.execute_input": "2024-08-03T15:58:32.863019Z",
     "iopub.status.busy": "2024-08-03T15:58:32.862798Z",
     "iopub.status.idle": "2024-08-03T15:58:32.867105Z",
     "shell.execute_reply": "2024-08-03T15:58:32.866860Z"
    },
    "papermill": {
     "duration": 0.011551,
     "end_time": "2024-08-03T15:58:32.867985",
     "exception": false,
     "start_time": "2024-08-03T15:58:32.856434",
     "status": "completed"
    },
    "tags": []
   },
   "outputs": [],
   "source": [
    "owned_shares = pd.read_csv('../data/extras/owned_stocks.csv', sep=';', parse_dates=['date'])\n",
    "owned_shares = owned_shares.loc[(owned_shares['stock'] == share_name) & (owned_shares['active'] == 'yes')]"
   ]
  },
  {
   "cell_type": "markdown",
   "id": "6d67c594",
   "metadata": {
    "papermill": {
     "duration": 0.005956,
     "end_time": "2024-08-03T15:58:32.880026",
     "exception": false,
     "start_time": "2024-08-03T15:58:32.874070",
     "status": "completed"
    },
    "tags": []
   },
   "source": [
    "## (OPTIONAL) Time Filtering - Last 7 years daat"
   ]
  },
  {
   "cell_type": "code",
   "execution_count": null,
   "id": "c2080fd7",
   "metadata": {
    "execution": {
     "iopub.execute_input": "2024-08-03T15:58:32.895072Z",
     "iopub.status.busy": "2024-08-03T15:58:32.894946Z",
     "iopub.status.idle": "2024-08-03T15:58:32.903595Z",
     "shell.execute_reply": "2024-08-03T15:58:32.903351Z"
    },
    "papermill": {
     "duration": 0.017979,
     "end_time": "2024-08-03T15:58:32.904383",
     "exception": false,
     "start_time": "2024-08-03T15:58:32.886404",
     "status": "completed"
    },
    "tags": []
   },
   "outputs": [],
   "source": [
    "if evaluate_last_X_years:\n",
    "    data = data[data['date'] > datetime.datetime.today() - datetime.timedelta(days=X*366+93)]\n",
    "    data = data.reset_index(drop=True)\n",
    "\n",
    "data.head()"
   ]
  },
  {
   "cell_type": "markdown",
   "id": "f8b72645",
   "metadata": {
    "papermill": {
     "duration": 0.005145,
     "end_time": "2024-08-03T15:58:32.914766",
     "exception": false,
     "start_time": "2024-08-03T15:58:32.909621",
     "status": "completed"
    },
    "tags": []
   },
   "source": [
    "## Calculate date when quaterly reports could be available"
   ]
  },
  {
   "cell_type": "code",
   "execution_count": null,
   "id": "f9ca06a8",
   "metadata": {
    "execution": {
     "iopub.execute_input": "2024-08-03T15:58:32.926035Z",
     "iopub.status.busy": "2024-08-03T15:58:32.925815Z",
     "iopub.status.idle": "2024-08-03T15:58:32.927746Z",
     "shell.execute_reply": "2024-08-03T15:58:32.927527Z"
    },
    "papermill": {
     "duration": 0.008823,
     "end_time": "2024-08-03T15:58:32.928512",
     "exception": false,
     "start_time": "2024-08-03T15:58:32.919689",
     "status": "completed"
    },
    "tags": []
   },
   "outputs": [],
   "source": [
    "data = utils.calculate_real_date(data)"
   ]
  },
  {
   "cell_type": "markdown",
   "id": "495095a5",
   "metadata": {
    "papermill": {
     "duration": 0.005758,
     "end_time": "2024-08-03T15:58:32.939815",
     "exception": false,
     "start_time": "2024-08-03T15:58:32.934057",
     "status": "completed"
    },
    "tags": []
   },
   "source": [
    "# 2. Filter out unnecesary columns"
   ]
  },
  {
   "cell_type": "code",
   "execution_count": null,
   "id": "7d0dc50d",
   "metadata": {
    "execution": {
     "iopub.execute_input": "2024-08-03T15:58:32.952898Z",
     "iopub.status.busy": "2024-08-03T15:58:32.952753Z",
     "iopub.status.idle": "2024-08-03T15:58:32.960069Z",
     "shell.execute_reply": "2024-08-03T15:58:32.959775Z"
    },
    "papermill": {
     "duration": 0.015431,
     "end_time": "2024-08-03T15:58:32.960985",
     "exception": false,
     "start_time": "2024-08-03T15:58:32.945554",
     "status": "completed"
    },
    "tags": []
   },
   "outputs": [],
   "source": [
    "data = utils.filter_raw_data(data)\n",
    "data.tail()"
   ]
  },
  {
   "cell_type": "markdown",
   "id": "64d0ee9c",
   "metadata": {
    "papermill": {
     "duration": 0.007481,
     "end_time": "2024-08-03T15:58:32.974275",
     "exception": false,
     "start_time": "2024-08-03T15:58:32.966794",
     "status": "completed"
    },
    "tags": []
   },
   "source": [
    "## Pull historical average USD national currency rates and add to the dataframe"
   ]
  },
  {
   "cell_type": "code",
   "execution_count": null,
   "id": "2073d71f",
   "metadata": {
    "execution": {
     "iopub.execute_input": "2024-08-03T15:58:32.987330Z",
     "iopub.status.busy": "2024-08-03T15:58:32.987195Z",
     "iopub.status.idle": "2024-08-03T15:58:32.994310Z",
     "shell.execute_reply": "2024-08-03T15:58:32.994058Z"
    },
    "papermill": {
     "duration": 0.014203,
     "end_time": "2024-08-03T15:58:32.995129",
     "exception": false,
     "start_time": "2024-08-03T15:58:32.980926",
     "status": "completed"
    },
    "tags": []
   },
   "outputs": [],
   "source": [
    "if currency_pair != 'USD=X':\n",
    "    data['usd_nat_currency'] = utils.daily_price(\n",
    "        ticker=currency_pair,\n",
    "        end=data['date'],\n",
    "        days_earlier=90\n",
    "        )\n",
    "else:\n",
    "    data['usd_nat_currency'] = [1 for x in range(len(data))]\n",
    "\n",
    "# drop rows, when USD rates wasn't available\n",
    "data = data[data['usd_nat_currency'].notna()]\n",
    "\n",
    "data.tail()"
   ]
  },
  {
   "cell_type": "markdown",
   "id": "72572796",
   "metadata": {
    "papermill": {
     "duration": 0.007248,
     "end_time": "2024-08-03T15:58:33.008944",
     "exception": false,
     "start_time": "2024-08-03T15:58:33.001696",
     "status": "completed"
    },
    "tags": []
   },
   "source": [
    "## Convert USD values related to IS, BS, CFS to national currency"
   ]
  },
  {
   "cell_type": "code",
   "execution_count": null,
   "id": "1b6cdd4b",
   "metadata": {
    "execution": {
     "iopub.execute_input": "2024-08-03T15:58:33.020577Z",
     "iopub.status.busy": "2024-08-03T15:58:33.020442Z",
     "iopub.status.idle": "2024-08-03T15:58:33.032416Z",
     "shell.execute_reply": "2024-08-03T15:58:33.032166Z"
    },
    "papermill": {
     "duration": 0.018833,
     "end_time": "2024-08-03T15:58:33.033208",
     "exception": false,
     "start_time": "2024-08-03T15:58:33.014375",
     "status": "completed"
    },
    "tags": []
   },
   "outputs": [],
   "source": [
    "# convert columns into national currency if necessary\n",
    "if numbers_in_currency == 'USD':\n",
    "    data_nat_curr = utils.convert_national_currency(input_data=data, currency=data)\n",
    "else:\n",
    "    data_nat_curr = data.copy()\n",
    "data_nat_curr.tail()"
   ]
  },
  {
   "cell_type": "markdown",
   "id": "cf1ef024",
   "metadata": {
    "papermill": {
     "duration": 0.006223,
     "end_time": "2024-08-03T15:58:33.045297",
     "exception": false,
     "start_time": "2024-08-03T15:58:33.039074",
     "status": "completed"
    },
    "tags": []
   },
   "source": [
    "# 3. Calculate input to Value Raios (eps, bv per share, fcf)\n",
    "## filter out unwanted columns"
   ]
  },
  {
   "cell_type": "code",
   "execution_count": null,
   "id": "d3b2f5b8",
   "metadata": {
    "execution": {
     "iopub.execute_input": "2024-08-03T15:58:33.057856Z",
     "iopub.status.busy": "2024-08-03T15:58:33.057633Z",
     "iopub.status.idle": "2024-08-03T15:58:33.061258Z",
     "shell.execute_reply": "2024-08-03T15:58:33.060997Z"
    },
    "papermill": {
     "duration": 0.011265,
     "end_time": "2024-08-03T15:58:33.062125",
     "exception": false,
     "start_time": "2024-08-03T15:58:33.050860",
     "status": "completed"
    },
    "tags": []
   },
   "outputs": [],
   "source": [
    "filtered_nat_curr = utils.calculate_input_value_ratios(data_nat_curr)"
   ]
  },
  {
   "cell_type": "markdown",
   "id": "c1bb6754",
   "metadata": {
    "papermill": {
     "duration": 0.005976,
     "end_time": "2024-08-03T15:58:33.074456",
     "exception": false,
     "start_time": "2024-08-03T15:58:33.068480",
     "status": "completed"
    },
    "tags": []
   },
   "source": [
    "## Calculate input values to value ratios"
   ]
  },
  {
   "cell_type": "code",
   "execution_count": null,
   "id": "4a1eae55",
   "metadata": {
    "execution": {
     "iopub.execute_input": "2024-08-03T15:58:33.087143Z",
     "iopub.status.busy": "2024-08-03T15:58:33.086936Z",
     "iopub.status.idle": "2024-08-03T15:58:33.089615Z",
     "shell.execute_reply": "2024-08-03T15:58:33.089342Z"
    },
    "papermill": {
     "duration": 0.009766,
     "end_time": "2024-08-03T15:58:33.090519",
     "exception": false,
     "start_time": "2024-08-03T15:58:33.080753",
     "status": "completed"
    },
    "tags": []
   },
   "outputs": [],
   "source": [
    "ratios_nat_curr = utils.ratios_input_filter(filtered_nat_curr)"
   ]
  },
  {
   "cell_type": "markdown",
   "id": "4a392ec5",
   "metadata": {
    "papermill": {
     "duration": 0.005739,
     "end_time": "2024-08-03T15:58:33.101838",
     "exception": false,
     "start_time": "2024-08-03T15:58:33.096099",
     "status": "completed"
    },
    "tags": []
   },
   "source": [
    "## Calculate performance parameters (current ratio, ROA, ROE, margins, D/E)"
   ]
  },
  {
   "cell_type": "code",
   "execution_count": null,
   "id": "5cd7fbfc",
   "metadata": {
    "execution": {
     "iopub.execute_input": "2024-08-03T15:58:33.184112Z",
     "iopub.status.busy": "2024-08-03T15:58:33.183873Z",
     "iopub.status.idle": "2024-08-03T15:58:33.208190Z",
     "shell.execute_reply": "2024-08-03T15:58:33.207608Z"
    },
    "papermill": {
     "duration": 0.100591,
     "end_time": "2024-08-03T15:58:33.209890",
     "exception": false,
     "start_time": "2024-08-03T15:58:33.109299",
     "status": "completed"
    },
    "tags": []
   },
   "outputs": [],
   "source": [
    "ratios_nat_curr = utils.evaluate_performance(input=filtered_nat_curr, output=ratios_nat_curr)"
   ]
  },
  {
   "cell_type": "markdown",
   "id": "18ff4027",
   "metadata": {
    "papermill": {
     "duration": 0.007618,
     "end_time": "2024-08-03T15:58:33.224202",
     "exception": false,
     "start_time": "2024-08-03T15:58:33.216584",
     "status": "completed"
    },
    "tags": []
   },
   "source": [
    "# 4. Pull historical share prices and merge with sattement data"
   ]
  },
  {
   "cell_type": "code",
   "execution_count": null,
   "id": "6294b475",
   "metadata": {
    "execution": {
     "iopub.execute_input": "2024-08-03T15:58:33.235924Z",
     "iopub.status.busy": "2024-08-03T15:58:33.235745Z",
     "iopub.status.idle": "2024-08-03T15:58:33.624433Z",
     "shell.execute_reply": "2024-08-03T15:58:33.624161Z"
    },
    "papermill": {
     "duration": 0.395163,
     "end_time": "2024-08-03T15:58:33.625384",
     "exception": false,
     "start_time": "2024-08-03T15:58:33.230221",
     "status": "completed"
    },
    "tags": []
   },
   "outputs": [],
   "source": [
    "# pull weekly share prices and merge with the value ratios\n",
    "merged_nat_curr = utils.add_share_prices_to_value_ratios(share_name, data, ratios_nat_curr)\n",
    "merged_nat_curr.head()"
   ]
  },
  {
   "cell_type": "markdown",
   "id": "d439d798",
   "metadata": {
    "papermill": {
     "duration": 0.010053,
     "end_time": "2024-08-03T15:58:33.646990",
     "exception": false,
     "start_time": "2024-08-03T15:58:33.636937",
     "status": "completed"
    },
    "tags": []
   },
   "source": [
    "# Calculate price ratios (P/E, P/B, P/S, P/FCF)"
   ]
  },
  {
   "cell_type": "code",
   "execution_count": null,
   "id": "06464988",
   "metadata": {
    "execution": {
     "iopub.execute_input": "2024-08-03T15:58:33.667103Z",
     "iopub.status.busy": "2024-08-03T15:58:33.666955Z",
     "iopub.status.idle": "2024-08-03T15:58:33.677255Z",
     "shell.execute_reply": "2024-08-03T15:58:33.677003Z"
    },
    "papermill": {
     "duration": 0.019082,
     "end_time": "2024-08-03T15:58:33.678123",
     "exception": false,
     "start_time": "2024-08-03T15:58:33.659041",
     "status": "completed"
    },
    "tags": []
   },
   "outputs": [],
   "source": [
    "merged_nat_curr = utils.price_ratios(merged_nat_curr)\n",
    "merged_nat_curr.head()"
   ]
  },
  {
   "cell_type": "markdown",
   "id": "4669ca0e",
   "metadata": {
    "papermill": {
     "duration": 0.007214,
     "end_time": "2024-08-03T15:58:33.709722",
     "exception": false,
     "start_time": "2024-08-03T15:58:33.702508",
     "status": "completed"
    },
    "tags": []
   },
   "source": [
    "# Calculate Dividend yield and currency-share price correlation"
   ]
  },
  {
   "cell_type": "code",
   "execution_count": null,
   "id": "12f6f41d",
   "metadata": {
    "execution": {
     "iopub.execute_input": "2024-08-03T15:58:33.725166Z",
     "iopub.status.busy": "2024-08-03T15:58:33.724996Z",
     "iopub.status.idle": "2024-08-03T15:58:33.903516Z",
     "shell.execute_reply": "2024-08-03T15:58:33.903263Z"
    },
    "papermill": {
     "duration": 0.188152,
     "end_time": "2024-08-03T15:58:33.904681",
     "exception": false,
     "start_time": "2024-08-03T15:58:33.716529",
     "status": "completed"
    },
    "tags": []
   },
   "outputs": [],
   "source": [
    "# get daily historical USD-national currency rates\n",
    "usd_nat_curr = utils.get_historical_currency_rate(currency_pair, merged_nat_curr)"
   ]
  },
  {
   "cell_type": "code",
   "execution_count": null,
   "id": "0f7da567",
   "metadata": {
    "execution": {
     "iopub.execute_input": "2024-08-03T15:58:33.923419Z",
     "iopub.status.busy": "2024-08-03T15:58:33.923290Z",
     "iopub.status.idle": "2024-08-03T15:58:34.453221Z",
     "shell.execute_reply": "2024-08-03T15:58:34.452970Z"
    },
    "papermill": {
     "duration": 0.540766,
     "end_time": "2024-08-03T15:58:34.454303",
     "exception": false,
     "start_time": "2024-08-03T15:58:33.913537",
     "status": "completed"
    },
    "tags": []
   },
   "outputs": [],
   "source": [
    "# get share prices and dividend yield data\n",
    "ticker_all_price = utils.get_historical_share_dividend(share_name, merged_nat_curr)"
   ]
  },
  {
   "cell_type": "code",
   "execution_count": null,
   "id": "e612a538",
   "metadata": {
    "execution": {
     "iopub.execute_input": "2024-08-03T15:58:34.466933Z",
     "iopub.status.busy": "2024-08-03T15:58:34.466816Z",
     "iopub.status.idle": "2024-08-03T15:58:34.621515Z",
     "shell.execute_reply": "2024-08-03T15:58:34.620955Z"
    },
    "papermill": {
     "duration": 0.162535,
     "end_time": "2024-08-03T15:58:34.622865",
     "exception": false,
     "start_time": "2024-08-03T15:58:34.460330",
     "status": "completed"
    },
    "tags": []
   },
   "outputs": [],
   "source": [
    "# Pearson's correlation coefficient between share price and USD - national currency rate\n",
    "utils.get_currency_share_price_correlation(share_name, usd_nat_curr, ticker_all_price)"
   ]
  },
  {
   "cell_type": "markdown",
   "id": "a328162e",
   "metadata": {
    "papermill": {
     "duration": 0.009576,
     "end_time": "2024-08-03T15:58:34.643698",
     "exception": false,
     "start_time": "2024-08-03T15:58:34.634122",
     "status": "completed"
    },
    "tags": []
   },
   "source": [
    "# Share price and value ratios"
   ]
  },
  {
   "cell_type": "code",
   "execution_count": null,
   "id": "76499b26",
   "metadata": {
    "execution": {
     "iopub.execute_input": "2024-08-03T15:58:34.664982Z",
     "iopub.status.busy": "2024-08-03T15:58:34.664769Z",
     "iopub.status.idle": "2024-08-03T15:58:38.936571Z",
     "shell.execute_reply": "2024-08-03T15:58:38.936290Z"
    },
    "papermill": {
     "duration": 4.283073,
     "end_time": "2024-08-03T15:58:38.937464",
     "exception": false,
     "start_time": "2024-08-03T15:58:34.654391",
     "status": "completed"
    },
    "tags": []
   },
   "outputs": [],
   "source": [
    "for column in merged_nat_curr.columns[3:]:\n",
    "    fig, ax1 = plt.subplots(figsize=(15, 6))\n",
    "\n",
    "    ax2 = ax1.twinx()\n",
    "    ax1.plot(merged_nat_curr['real_date'], merged_nat_curr[column], color='k', label=merged_nat_curr)\n",
    "    ax2.plot(ticker_all_price.index, ticker_all_price['Close'], color='b', label=share_name)\n",
    "\n",
    "    ax1.set_xlabel('Date')\n",
    "    ax1.set_ylabel(column, color='k')\n",
    "    ax2.set_ylabel('Share price (national currency)', color='b')\n",
    "\n",
    "    plt.legend()\n",
    "    plt.show()"
   ]
  },
  {
   "cell_type": "code",
   "execution_count": null,
   "id": "f670ff31",
   "metadata": {
    "execution": {
     "iopub.execute_input": "2024-08-03T15:58:38.979505Z",
     "iopub.status.busy": "2024-08-03T15:58:38.979369Z",
     "iopub.status.idle": "2024-08-03T15:58:39.830422Z",
     "shell.execute_reply": "2024-08-03T15:58:39.830157Z"
    },
    "papermill": {
     "duration": 0.874014,
     "end_time": "2024-08-03T15:58:39.831332",
     "exception": false,
     "start_time": "2024-08-03T15:58:38.957318",
     "status": "completed"
    },
    "tags": []
   },
   "outputs": [],
   "source": [
    "# plot histograms of value parameters\n",
    "utils.plot_histogram_value_parameters(input_df=merged_nat_curr, extra_parameters=[], owned_shares=owned_shares)"
   ]
  },
  {
   "cell_type": "markdown",
   "id": "b6663cdd",
   "metadata": {
    "papermill": {
     "duration": 0.019979,
     "end_time": "2024-08-03T15:58:39.870826",
     "exception": false,
     "start_time": "2024-08-03T15:58:39.850847",
     "status": "completed"
    },
    "tags": []
   },
   "source": [
    "## Calculate correlation between value parameters"
   ]
  },
  {
   "cell_type": "code",
   "execution_count": null,
   "id": "51568c8b",
   "metadata": {
    "execution": {
     "iopub.execute_input": "2024-08-03T15:58:39.912651Z",
     "iopub.status.busy": "2024-08-03T15:58:39.912515Z",
     "iopub.status.idle": "2024-08-03T15:58:39.917659Z",
     "shell.execute_reply": "2024-08-03T15:58:39.917424Z"
    },
    "papermill": {
     "duration": 0.027519,
     "end_time": "2024-08-03T15:58:39.918484",
     "exception": false,
     "start_time": "2024-08-03T15:58:39.890965",
     "status": "completed"
    },
    "tags": []
   },
   "outputs": [],
   "source": [
    "# calulate value parameters Pearson's correlation coefficient\n",
    "pd.DataFrame(merged_nat_curr, columns=['roa', 'roe', 'pe_ratio', 'pb_ratio', 'ps_ratio', 'ev_revenue', 'debt_to_equity', 'current_ratio']).corr()"
   ]
  },
  {
   "cell_type": "code",
   "execution_count": null,
   "id": "65616215",
   "metadata": {},
   "outputs": [],
   "source": [
    "final_df = utils.get_value_stock_target_prices(\n",
    "    input_df=merged_nat_curr,\n",
    "    min_pct=0.2,\n",
    "    max_pct=0.5,\n",
    "    owned_shares=owned_shares\n",
    ")"
   ]
  }
 ],
 "metadata": {
  "kernelspec": {
   "display_name": ".venv",
   "language": "python",
   "name": "python3"
  },
  "language_info": {
   "codemirror_mode": {
    "name": "ipython",
    "version": 3
   },
   "file_extension": ".py",
   "mimetype": "text/x-python",
   "name": "python",
   "nbconvert_exporter": "python",
   "pygments_lexer": "ipython3",
   "version": "3.11.3"
  },
  "papermill": {
   "default_parameters": {},
   "duration": 9.251791,
   "end_time": "2024-08-03T15:58:40.272296",
   "environment_variables": {},
   "exception": null,
   "input_path": "../notebooks/iff_national.ipynb",
   "output_path": "../notebooks/iff_national.ipynb",
   "parameters": {},
   "start_time": "2024-08-03T15:58:31.020505",
   "version": "2.5.0"
  }
 },
 "nbformat": 4,
 "nbformat_minor": 5
}
