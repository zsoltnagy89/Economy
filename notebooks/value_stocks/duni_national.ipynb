{
 "cells": [
  {
   "cell_type": "code",
   "execution_count": null,
   "id": "3c557db5",
   "metadata": {
    "execution": {
     "iopub.execute_input": "2024-08-03T15:58:54.745528Z",
     "iopub.status.busy": "2024-08-03T15:58:54.745295Z",
     "iopub.status.idle": "2024-08-03T15:58:55.427445Z",
     "shell.execute_reply": "2024-08-03T15:58:55.427126Z"
    },
    "papermill": {
     "duration": 0.69126,
     "end_time": "2024-08-03T15:58:55.428484",
     "exception": false,
     "start_time": "2024-08-03T15:58:54.737224",
     "status": "completed"
    },
    "tags": []
   },
   "outputs": [],
   "source": [
    "import pandas as pd\n",
    "import matplotlib.pyplot as plt\n",
    "import numpy as np\n",
    "\n",
    "import yfinance as yf\n",
    "import datetime\n",
    "\n",
    "from valueinvesting import utils as utils"
   ]
  },
  {
   "cell_type": "markdown",
   "id": "588cdb82",
   "metadata": {
    "papermill": {
     "duration": 0.005904,
     "end_time": "2024-08-03T15:58:55.439875",
     "exception": false,
     "start_time": "2024-08-03T15:58:55.433971",
     "status": "completed"
    },
    "tags": []
   },
   "source": [
    "# 1. Load raw input\n",
    "## Hardcoded block"
   ]
  },
  {
   "cell_type": "code",
   "execution_count": null,
   "id": "dfe75c46",
   "metadata": {
    "execution": {
     "iopub.execute_input": "2024-08-03T15:58:55.455512Z",
     "iopub.status.busy": "2024-08-03T15:58:55.455319Z",
     "iopub.status.idle": "2024-08-03T15:58:55.457432Z",
     "shell.execute_reply": "2024-08-03T15:58:55.457182Z"
    },
    "papermill": {
     "duration": 0.008521,
     "end_time": "2024-08-03T15:58:55.458255",
     "exception": false,
     "start_time": "2024-08-03T15:58:55.449734",
     "status": "completed"
    },
    "tags": []
   },
   "outputs": [],
   "source": [
    "evaluate_last_X_years = True\n",
    "X=10\n",
    "currency_pair = 'SEK=X'\n",
    "numbers_in_currency = 'SEK'\n",
    "share_name = 'DUNI.ST'"
   ]
  },
  {
   "cell_type": "markdown",
   "id": "19520a88",
   "metadata": {
    "papermill": {
     "duration": 0.008851,
     "end_time": "2024-08-03T15:58:55.472826",
     "exception": false,
     "start_time": "2024-08-03T15:58:55.463975",
     "status": "completed"
    },
    "tags": []
   },
   "source": [
    "# 1.1 Calculate Share numbers from total distributed dividend (CFS) and dividend amount"
   ]
  },
  {
   "cell_type": "markdown",
   "id": "e889f0de",
   "metadata": {
    "papermill": {
     "duration": 0.006406,
     "end_time": "2024-08-03T15:58:55.491044",
     "exception": false,
     "start_time": "2024-08-03T15:58:55.484638",
     "status": "completed"
    },
    "tags": []
   },
   "source": [
    "# 1.2. Raw input statement data"
   ]
  },
  {
   "cell_type": "code",
   "execution_count": null,
   "id": "522254cd",
   "metadata": {
    "execution": {
     "iopub.execute_input": "2024-08-03T15:58:55.511521Z",
     "iopub.status.busy": "2024-08-03T15:58:55.511357Z",
     "iopub.status.idle": "2024-08-03T15:58:55.524044Z",
     "shell.execute_reply": "2024-08-03T15:58:55.523693Z"
    },
    "papermill": {
     "duration": 0.025149,
     "end_time": "2024-08-03T15:58:55.525341",
     "exception": false,
     "start_time": "2024-08-03T15:58:55.500192",
     "status": "completed"
    },
    "tags": []
   },
   "outputs": [],
   "source": [
    "route = f\"../data/input/{share_name}_data.csv\"\n",
    "data = pd.read_csv(route, sep=';', parse_dates=['date', 'real_date'])\n",
    "# replace -, extend missing 0-s, fix datatype\n",
    "data = utils.replace_format_input(data)"
   ]
  },
  {
   "cell_type": "code",
   "execution_count": null,
   "id": "c99af86a",
   "metadata": {
    "execution": {
     "iopub.execute_input": "2024-08-03T15:58:55.548090Z",
     "iopub.status.busy": "2024-08-03T15:58:55.547924Z",
     "iopub.status.idle": "2024-08-03T15:58:55.552191Z",
     "shell.execute_reply": "2024-08-03T15:58:55.551921Z"
    },
    "papermill": {
     "duration": 0.016899,
     "end_time": "2024-08-03T15:58:55.553028",
     "exception": false,
     "start_time": "2024-08-03T15:58:55.536129",
     "status": "completed"
    },
    "tags": []
   },
   "outputs": [],
   "source": [
    "owned_shares = pd.read_csv('../data/extras/owned_stocks.csv', sep=';', parse_dates=['date'])\n",
    "owned_shares = owned_shares.loc[(owned_shares['stock'] == share_name) & (owned_shares['active'] == 'yes')]"
   ]
  },
  {
   "cell_type": "markdown",
   "id": "44da7322",
   "metadata": {
    "papermill": {
     "duration": 0.009736,
     "end_time": "2024-08-03T15:58:55.571935",
     "exception": false,
     "start_time": "2024-08-03T15:58:55.562199",
     "status": "completed"
    },
    "tags": []
   },
   "source": [
    "## (OPTIONAL) Time Filtering - Last 7 years daat"
   ]
  },
  {
   "cell_type": "code",
   "execution_count": null,
   "id": "00b8a3f3",
   "metadata": {
    "execution": {
     "iopub.execute_input": "2024-08-03T15:58:55.588108Z",
     "iopub.status.busy": "2024-08-03T15:58:55.587957Z",
     "iopub.status.idle": "2024-08-03T15:58:55.597936Z",
     "shell.execute_reply": "2024-08-03T15:58:55.597662Z"
    },
    "papermill": {
     "duration": 0.018203,
     "end_time": "2024-08-03T15:58:55.598786",
     "exception": false,
     "start_time": "2024-08-03T15:58:55.580583",
     "status": "completed"
    },
    "tags": []
   },
   "outputs": [],
   "source": [
    "if evaluate_last_X_years:\n",
    "    data = data[data['date'] > datetime.datetime.today() - datetime.timedelta(days=X*366+93)]\n",
    "    data = data.reset_index(drop=True)\n",
    "\n",
    "data.head()"
   ]
  },
  {
   "cell_type": "markdown",
   "id": "cbea8d13",
   "metadata": {
    "papermill": {
     "duration": 0.00963,
     "end_time": "2024-08-03T15:58:55.618001",
     "exception": false,
     "start_time": "2024-08-03T15:58:55.608371",
     "status": "completed"
    },
    "tags": []
   },
   "source": [
    "## Calculate date when quaterly reports could be available"
   ]
  },
  {
   "cell_type": "code",
   "execution_count": null,
   "id": "34508405",
   "metadata": {
    "execution": {
     "iopub.execute_input": "2024-08-03T15:58:55.639666Z",
     "iopub.status.busy": "2024-08-03T15:58:55.639506Z",
     "iopub.status.idle": "2024-08-03T15:58:55.641492Z",
     "shell.execute_reply": "2024-08-03T15:58:55.641240Z"
    },
    "papermill": {
     "duration": 0.015702,
     "end_time": "2024-08-03T15:58:55.642430",
     "exception": false,
     "start_time": "2024-08-03T15:58:55.626728",
     "status": "completed"
    },
    "tags": []
   },
   "outputs": [],
   "source": [
    "data = utils.calculate_real_date(data)"
   ]
  },
  {
   "cell_type": "markdown",
   "id": "80ff0907",
   "metadata": {
    "papermill": {
     "duration": 0.011326,
     "end_time": "2024-08-03T15:58:55.664049",
     "exception": false,
     "start_time": "2024-08-03T15:58:55.652723",
     "status": "completed"
    },
    "tags": []
   },
   "source": [
    "# 2. Filter out unnecesary columns"
   ]
  },
  {
   "cell_type": "code",
   "execution_count": null,
   "id": "83cf79d6",
   "metadata": {
    "execution": {
     "iopub.execute_input": "2024-08-03T15:58:55.680680Z",
     "iopub.status.busy": "2024-08-03T15:58:55.680520Z",
     "iopub.status.idle": "2024-08-03T15:58:55.686779Z",
     "shell.execute_reply": "2024-08-03T15:58:55.686468Z"
    },
    "papermill": {
     "duration": 0.014691,
     "end_time": "2024-08-03T15:58:55.687798",
     "exception": false,
     "start_time": "2024-08-03T15:58:55.673107",
     "status": "completed"
    },
    "tags": []
   },
   "outputs": [],
   "source": [
    "data = utils.filter_raw_data(data)\n",
    "data.tail()"
   ]
  },
  {
   "cell_type": "markdown",
   "id": "53d1b427",
   "metadata": {
    "papermill": {
     "duration": 0.018475,
     "end_time": "2024-08-03T15:58:55.712680",
     "exception": false,
     "start_time": "2024-08-03T15:58:55.694205",
     "status": "completed"
    },
    "tags": []
   },
   "source": [
    "## Pull historical average USD national currency rates and add to the dataframe"
   ]
  },
  {
   "cell_type": "code",
   "execution_count": null,
   "id": "a4bebb46",
   "metadata": {
    "execution": {
     "iopub.execute_input": "2024-08-03T15:58:55.731525Z",
     "iopub.status.busy": "2024-08-03T15:58:55.731367Z",
     "iopub.status.idle": "2024-08-03T15:59:04.432336Z",
     "shell.execute_reply": "2024-08-03T15:59:04.431773Z"
    },
    "papermill": {
     "duration": 8.71191,
     "end_time": "2024-08-03T15:59:04.434096",
     "exception": false,
     "start_time": "2024-08-03T15:58:55.722186",
     "status": "completed"
    },
    "tags": []
   },
   "outputs": [],
   "source": [
    "data['usd_nat_currency'] = utils.daily_price(\n",
    "    ticker=currency_pair,\n",
    "    end=data['date'],\n",
    "    days_earlier=90\n",
    "    )\n",
    "\n",
    "# drop rows, when USD rates wasn't available\n",
    "data = data[data['usd_nat_currency'].notna()]\n",
    "\n",
    "data.tail()"
   ]
  },
  {
   "cell_type": "markdown",
   "id": "6d3f1f6d",
   "metadata": {
    "papermill": {
     "duration": 0.012281,
     "end_time": "2024-08-03T15:59:04.459565",
     "exception": false,
     "start_time": "2024-08-03T15:59:04.447284",
     "status": "completed"
    },
    "tags": []
   },
   "source": [
    "## Convert USD values related to IS, BS, CFS to national currency"
   ]
  },
  {
   "cell_type": "code",
   "execution_count": null,
   "id": "b59498c6",
   "metadata": {
    "execution": {
     "iopub.execute_input": "2024-08-03T15:59:04.479885Z",
     "iopub.status.busy": "2024-08-03T15:59:04.479735Z",
     "iopub.status.idle": "2024-08-03T15:59:04.486782Z",
     "shell.execute_reply": "2024-08-03T15:59:04.486283Z"
    },
    "papermill": {
     "duration": 0.017341,
     "end_time": "2024-08-03T15:59:04.487754",
     "exception": false,
     "start_time": "2024-08-03T15:59:04.470413",
     "status": "completed"
    },
    "tags": []
   },
   "outputs": [],
   "source": [
    "# convert columns into national currency if necessary\n",
    "if numbers_in_currency == 'USD':\n",
    "    data_nat_curr = utils.convert_national_currency(input_data=data, currency=data)\n",
    "else:\n",
    "    data_nat_curr = data.copy()\n",
    "data_nat_curr.tail()"
   ]
  },
  {
   "cell_type": "markdown",
   "id": "9ebdf81c",
   "metadata": {
    "papermill": {
     "duration": 0.005734,
     "end_time": "2024-08-03T15:59:04.499545",
     "exception": false,
     "start_time": "2024-08-03T15:59:04.493811",
     "status": "completed"
    },
    "tags": []
   },
   "source": [
    "# 3. Calculate input to Value Raios (eps, bv per share, fcf)\n",
    "## filter out unwanted columns"
   ]
  },
  {
   "cell_type": "code",
   "execution_count": null,
   "id": "530fa850",
   "metadata": {
    "execution": {
     "iopub.execute_input": "2024-08-03T15:59:04.511551Z",
     "iopub.status.busy": "2024-08-03T15:59:04.511430Z",
     "iopub.status.idle": "2024-08-03T15:59:04.514448Z",
     "shell.execute_reply": "2024-08-03T15:59:04.514193Z"
    },
    "papermill": {
     "duration": 0.010319,
     "end_time": "2024-08-03T15:59:04.515287",
     "exception": false,
     "start_time": "2024-08-03T15:59:04.504968",
     "status": "completed"
    },
    "tags": []
   },
   "outputs": [],
   "source": [
    "filtered_nat_curr = utils.calculate_input_value_ratios(data_nat_curr)"
   ]
  },
  {
   "cell_type": "markdown",
   "id": "a817d079",
   "metadata": {
    "papermill": {
     "duration": 0.005384,
     "end_time": "2024-08-03T15:59:04.526312",
     "exception": false,
     "start_time": "2024-08-03T15:59:04.520928",
     "status": "completed"
    },
    "tags": []
   },
   "source": [
    "## Calculate input values to value ratios"
   ]
  },
  {
   "cell_type": "code",
   "execution_count": null,
   "id": "1b1a033f",
   "metadata": {
    "execution": {
     "iopub.execute_input": "2024-08-03T15:59:04.537220Z",
     "iopub.status.busy": "2024-08-03T15:59:04.537052Z",
     "iopub.status.idle": "2024-08-03T15:59:04.539481Z",
     "shell.execute_reply": "2024-08-03T15:59:04.539192Z"
    },
    "papermill": {
     "duration": 0.009119,
     "end_time": "2024-08-03T15:59:04.540327",
     "exception": false,
     "start_time": "2024-08-03T15:59:04.531208",
     "status": "completed"
    },
    "tags": []
   },
   "outputs": [],
   "source": [
    "ratios_nat_curr = utils.ratios_input_filter(filtered_nat_curr)"
   ]
  },
  {
   "cell_type": "markdown",
   "id": "71b86e7f",
   "metadata": {
    "papermill": {
     "duration": 0.006149,
     "end_time": "2024-08-03T15:59:04.552820",
     "exception": false,
     "start_time": "2024-08-03T15:59:04.546671",
     "status": "completed"
    },
    "tags": []
   },
   "source": [
    "## Calculate performance parameters (current ratio, ROA, ROE, margins, D/E)"
   ]
  },
  {
   "cell_type": "code",
   "execution_count": null,
   "id": "d946f0eb",
   "metadata": {
    "execution": {
     "iopub.execute_input": "2024-08-03T15:59:04.566818Z",
     "iopub.status.busy": "2024-08-03T15:59:04.566692Z",
     "iopub.status.idle": "2024-08-03T15:59:04.572980Z",
     "shell.execute_reply": "2024-08-03T15:59:04.572664Z"
    },
    "papermill": {
     "duration": 0.014551,
     "end_time": "2024-08-03T15:59:04.573947",
     "exception": false,
     "start_time": "2024-08-03T15:59:04.559396",
     "status": "completed"
    },
    "tags": []
   },
   "outputs": [],
   "source": [
    "ratios_nat_curr = utils.evaluate_performance(input=filtered_nat_curr, output=ratios_nat_curr)"
   ]
  },
  {
   "cell_type": "markdown",
   "id": "f8caeaf7",
   "metadata": {
    "papermill": {
     "duration": 0.005371,
     "end_time": "2024-08-03T15:59:04.585416",
     "exception": false,
     "start_time": "2024-08-03T15:59:04.580045",
     "status": "completed"
    },
    "tags": []
   },
   "source": [
    "# 4. Pull historical share prices and merge with sattement data"
   ]
  },
  {
   "cell_type": "code",
   "execution_count": null,
   "id": "12334a89",
   "metadata": {
    "execution": {
     "iopub.execute_input": "2024-08-03T15:59:04.596927Z",
     "iopub.status.busy": "2024-08-03T15:59:04.596691Z",
     "iopub.status.idle": "2024-08-03T15:59:04.893655Z",
     "shell.execute_reply": "2024-08-03T15:59:04.893288Z"
    },
    "papermill": {
     "duration": 0.303953,
     "end_time": "2024-08-03T15:59:04.894835",
     "exception": false,
     "start_time": "2024-08-03T15:59:04.590882",
     "status": "completed"
    },
    "tags": []
   },
   "outputs": [],
   "source": [
    "# pull weekly share prices and merge with the value ratios\n",
    "merged_nat_curr = utils.add_share_prices_to_value_ratios(share_name, data, ratios_nat_curr)\n",
    "merged_nat_curr.head()"
   ]
  },
  {
   "cell_type": "markdown",
   "id": "5c321473",
   "metadata": {
    "papermill": {
     "duration": 0.008045,
     "end_time": "2024-08-03T15:59:04.912913",
     "exception": false,
     "start_time": "2024-08-03T15:59:04.904868",
     "status": "completed"
    },
    "tags": []
   },
   "source": [
    "# Calculate price ratios (P/E, P/B, P/S, P/FCF)"
   ]
  },
  {
   "cell_type": "code",
   "execution_count": null,
   "id": "7800e24f",
   "metadata": {
    "execution": {
     "iopub.execute_input": "2024-08-03T15:59:04.931040Z",
     "iopub.status.busy": "2024-08-03T15:59:04.930880Z",
     "iopub.status.idle": "2024-08-03T15:59:04.941717Z",
     "shell.execute_reply": "2024-08-03T15:59:04.941414Z"
    },
    "papermill": {
     "duration": 0.021517,
     "end_time": "2024-08-03T15:59:04.942659",
     "exception": false,
     "start_time": "2024-08-03T15:59:04.921142",
     "status": "completed"
    },
    "tags": []
   },
   "outputs": [],
   "source": [
    "merged_nat_curr = utils.price_ratios(merged_nat_curr)\n",
    "merged_nat_curr.head()"
   ]
  },
  {
   "cell_type": "markdown",
   "id": "e515deec",
   "metadata": {
    "papermill": {
     "duration": 0.006428,
     "end_time": "2024-08-03T15:59:04.955798",
     "exception": false,
     "start_time": "2024-08-03T15:59:04.949370",
     "status": "completed"
    },
    "tags": []
   },
   "source": [
    "# Calculate Dividend yield and currency-share price correlation"
   ]
  },
  {
   "cell_type": "code",
   "execution_count": null,
   "id": "4bfc48c3",
   "metadata": {
    "execution": {
     "iopub.execute_input": "2024-08-03T15:59:04.968965Z",
     "iopub.status.busy": "2024-08-03T15:59:04.968828Z",
     "iopub.status.idle": "2024-08-03T15:59:05.293397Z",
     "shell.execute_reply": "2024-08-03T15:59:05.292897Z"
    },
    "papermill": {
     "duration": 0.333173,
     "end_time": "2024-08-03T15:59:05.294911",
     "exception": false,
     "start_time": "2024-08-03T15:59:04.961738",
     "status": "completed"
    },
    "tags": []
   },
   "outputs": [],
   "source": [
    "# get daily historical USD-national currency rates\n",
    "usd_nat_curr = utils.get_historical_currency_rate(currency_pair, merged_nat_curr)"
   ]
  },
  {
   "cell_type": "code",
   "execution_count": null,
   "id": "26ebe61e",
   "metadata": {
    "execution": {
     "iopub.execute_input": "2024-08-03T15:59:05.326043Z",
     "iopub.status.busy": "2024-08-03T15:59:05.325861Z",
     "iopub.status.idle": "2024-08-03T15:59:05.776727Z",
     "shell.execute_reply": "2024-08-03T15:59:05.776185Z"
    },
    "papermill": {
     "duration": 0.466262,
     "end_time": "2024-08-03T15:59:05.777958",
     "exception": false,
     "start_time": "2024-08-03T15:59:05.311696",
     "status": "completed"
    },
    "tags": []
   },
   "outputs": [],
   "source": [
    "# get share prices and dividend yield data\n",
    "ticker_all_price = utils.get_historical_share_dividend(share_name, merged_nat_curr)"
   ]
  },
  {
   "cell_type": "code",
   "execution_count": null,
   "id": "a88e1975",
   "metadata": {
    "execution": {
     "iopub.execute_input": "2024-08-03T15:59:05.801356Z",
     "iopub.status.busy": "2024-08-03T15:59:05.801230Z",
     "iopub.status.idle": "2024-08-03T15:59:05.960503Z",
     "shell.execute_reply": "2024-08-03T15:59:05.959884Z"
    },
    "papermill": {
     "duration": 0.173687,
     "end_time": "2024-08-03T15:59:05.962204",
     "exception": false,
     "start_time": "2024-08-03T15:59:05.788517",
     "status": "completed"
    },
    "tags": []
   },
   "outputs": [],
   "source": [
    "# Pearson's correlation coefficient between share price and USD - national currency rate\n",
    "utils.get_currency_share_price_correlation(share_name, usd_nat_curr, ticker_all_price)"
   ]
  },
  {
   "cell_type": "markdown",
   "id": "f2377913",
   "metadata": {
    "papermill": {
     "duration": 0.010217,
     "end_time": "2024-08-03T15:59:05.982718",
     "exception": false,
     "start_time": "2024-08-03T15:59:05.972501",
     "status": "completed"
    },
    "tags": []
   },
   "source": [
    "# Share price and value ratios"
   ]
  },
  {
   "cell_type": "code",
   "execution_count": null,
   "id": "2508e91e",
   "metadata": {
    "execution": {
     "iopub.execute_input": "2024-08-03T15:59:06.006123Z",
     "iopub.status.busy": "2024-08-03T15:59:06.005992Z",
     "iopub.status.idle": "2024-08-03T15:59:09.991404Z",
     "shell.execute_reply": "2024-08-03T15:59:09.991122Z"
    },
    "papermill": {
     "duration": 3.997029,
     "end_time": "2024-08-03T15:59:09.992415",
     "exception": false,
     "start_time": "2024-08-03T15:59:05.995386",
     "status": "completed"
    },
    "tags": []
   },
   "outputs": [],
   "source": [
    "for column in merged_nat_curr.columns[3:]:\n",
    "    fig, ax1 = plt.subplots(figsize=(15, 6))\n",
    "\n",
    "    ax2 = ax1.twinx()\n",
    "    ax1.plot(merged_nat_curr['real_date'], merged_nat_curr[column], color='k', label=merged_nat_curr)\n",
    "    ax2.plot(ticker_all_price.index, ticker_all_price['Close'], color='b', label=share_name)\n",
    "\n",
    "    ax1.set_xlabel('Date')\n",
    "    ax1.set_ylabel(column, color='k')\n",
    "    ax2.set_ylabel('Share price (national currency)', color='b')\n",
    "\n",
    "    plt.legend()\n",
    "    plt.show()"
   ]
  },
  {
   "cell_type": "code",
   "execution_count": null,
   "id": "04d5b6a3",
   "metadata": {
    "execution": {
     "iopub.execute_input": "2024-08-03T15:59:10.048180Z",
     "iopub.status.busy": "2024-08-03T15:59:10.048038Z",
     "iopub.status.idle": "2024-08-03T15:59:10.936229Z",
     "shell.execute_reply": "2024-08-03T15:59:10.935867Z"
    },
    "papermill": {
     "duration": 0.925282,
     "end_time": "2024-08-03T15:59:10.937187",
     "exception": false,
     "start_time": "2024-08-03T15:59:10.011905",
     "status": "completed"
    },
    "tags": []
   },
   "outputs": [],
   "source": [
    "# plot histograms of value parameters\n",
    "utils.plot_histogram_value_parameters(input_df=merged_nat_curr, extra_parameters=[], owned_shares=owned_shares)"
   ]
  },
  {
   "cell_type": "markdown",
   "id": "1b507856",
   "metadata": {
    "papermill": {
     "duration": 0.023682,
     "end_time": "2024-08-03T15:59:10.984807",
     "exception": false,
     "start_time": "2024-08-03T15:59:10.961125",
     "status": "completed"
    },
    "tags": []
   },
   "source": [
    "## Calculate correlation between value parameters"
   ]
  },
  {
   "cell_type": "code",
   "execution_count": null,
   "id": "64d479c8",
   "metadata": {
    "execution": {
     "iopub.execute_input": "2024-08-03T15:59:11.027055Z",
     "iopub.status.busy": "2024-08-03T15:59:11.026911Z",
     "iopub.status.idle": "2024-08-03T15:59:11.032238Z",
     "shell.execute_reply": "2024-08-03T15:59:11.032005Z"
    },
    "papermill": {
     "duration": 0.026958,
     "end_time": "2024-08-03T15:59:11.033111",
     "exception": false,
     "start_time": "2024-08-03T15:59:11.006153",
     "status": "completed"
    },
    "tags": []
   },
   "outputs": [],
   "source": [
    "# calulate value parameters Pearson's correlation coefficient\n",
    "pd.DataFrame(merged_nat_curr, columns=['roa', 'roe', 'pe_ratio', 'pb_ratio', 'ps_ratio', 'ev_revenue', 'debt_to_equity', 'current_ratio']).corr()"
   ]
  },
  {
   "cell_type": "code",
   "execution_count": null,
   "id": "09d6634b",
   "metadata": {},
   "outputs": [],
   "source": [
    "final_df = utils.get_value_stock_target_prices(\n",
    "    input_df=merged_nat_curr,\n",
    "    min_pct=0.2,\n",
    "    max_pct=0.5,\n",
    "    owned_shares=owned_shares\n",
    ")"
   ]
  }
 ],
 "metadata": {
  "kernelspec": {
   "display_name": ".venv",
   "language": "python",
   "name": "python3"
  },
  "language_info": {
   "codemirror_mode": {
    "name": "ipython",
    "version": 3
   },
   "file_extension": ".py",
   "mimetype": "text/x-python",
   "name": "python",
   "nbconvert_exporter": "python",
   "pygments_lexer": "ipython3",
   "version": "3.11.3"
  },
  "papermill": {
   "default_parameters": {},
   "duration": 17.876826,
   "end_time": "2024-08-03T15:59:11.377502",
   "environment_variables": {},
   "exception": null,
   "input_path": "../notebooks/duni_national.ipynb",
   "output_path": "../notebooks/duni_national.ipynb",
   "parameters": {},
   "start_time": "2024-08-03T15:58:53.500676",
   "version": "2.5.0"
  }
 },
 "nbformat": 4,
 "nbformat_minor": 5
}
