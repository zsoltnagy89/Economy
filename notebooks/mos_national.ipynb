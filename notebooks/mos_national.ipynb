{
 "cells": [
  {
   "cell_type": "code",
   "execution_count": null,
   "id": "4cbcb60d",
   "metadata": {
    "execution": {
     "iopub.execute_input": "2024-08-03T15:53:01.504556Z",
     "iopub.status.busy": "2024-08-03T15:53:01.503999Z",
     "iopub.status.idle": "2024-08-03T15:53:02.265263Z",
     "shell.execute_reply": "2024-08-03T15:53:02.265004Z"
    },
    "papermill": {
     "duration": 0.780906,
     "end_time": "2024-08-03T15:53:02.266308",
     "exception": false,
     "start_time": "2024-08-03T15:53:01.485402",
     "status": "completed"
    },
    "tags": []
   },
   "outputs": [],
   "source": [
    "import pandas as pd\n",
    "import matplotlib.pyplot as plt\n",
    "import numpy as np\n",
    "\n",
    "import yfinance as yf\n",
    "import datetime\n",
    "\n",
    "from valueinvesting import utils as utils"
   ]
  },
  {
   "cell_type": "markdown",
   "id": "26d21654",
   "metadata": {
    "papermill": {
     "duration": 0.018916,
     "end_time": "2024-08-03T15:53:02.294349",
     "exception": false,
     "start_time": "2024-08-03T15:53:02.275433",
     "status": "completed"
    },
    "tags": []
   },
   "source": [
    "# 1. Load raw input\n",
    "## Hardcoded block"
   ]
  },
  {
   "cell_type": "code",
   "execution_count": null,
   "id": "82a2a9cd",
   "metadata": {
    "execution": {
     "iopub.execute_input": "2024-08-03T15:53:02.306049Z",
     "iopub.status.busy": "2024-08-03T15:53:02.305851Z",
     "iopub.status.idle": "2024-08-03T15:53:02.307838Z",
     "shell.execute_reply": "2024-08-03T15:53:02.307591Z"
    },
    "papermill": {
     "duration": 0.008567,
     "end_time": "2024-08-03T15:53:02.308768",
     "exception": false,
     "start_time": "2024-08-03T15:53:02.300201",
     "status": "completed"
    },
    "tags": []
   },
   "outputs": [],
   "source": [
    "evaluate_last_X_years = True\n",
    "X=10\n",
    "currency_pair = 'USD=X'\n",
    "numbers_in_currency = 'USD'\n",
    "share_name = 'MOS'"
   ]
  },
  {
   "cell_type": "markdown",
   "id": "95b57d71",
   "metadata": {
    "papermill": {
     "duration": 0.005565,
     "end_time": "2024-08-03T15:53:02.320258",
     "exception": false,
     "start_time": "2024-08-03T15:53:02.314693",
     "status": "completed"
    },
    "tags": []
   },
   "source": [
    "# 1.1 Calculate Share numbers from total distributed dividend (CFS) and dividend amount"
   ]
  },
  {
   "cell_type": "markdown",
   "id": "b87f76dd",
   "metadata": {
    "papermill": {
     "duration": 0.005349,
     "end_time": "2024-08-03T15:53:02.330856",
     "exception": false,
     "start_time": "2024-08-03T15:53:02.325507",
     "status": "completed"
    },
    "tags": []
   },
   "source": [
    "# 1.2. Raw input statement data"
   ]
  },
  {
   "cell_type": "code",
   "execution_count": null,
   "id": "78818016",
   "metadata": {
    "execution": {
     "iopub.execute_input": "2024-08-03T15:53:02.341748Z",
     "iopub.status.busy": "2024-08-03T15:53:02.341590Z",
     "iopub.status.idle": "2024-08-03T15:53:02.352885Z",
     "shell.execute_reply": "2024-08-03T15:53:02.352584Z"
    },
    "papermill": {
     "duration": 0.01789,
     "end_time": "2024-08-03T15:53:02.353882",
     "exception": false,
     "start_time": "2024-08-03T15:53:02.335992",
     "status": "completed"
    },
    "tags": []
   },
   "outputs": [],
   "source": [
    "route = f\"../data/input/{share_name}_data.csv\"\n",
    "data = pd.read_csv(route, sep=';', parse_dates=['date', 'real_date'])\n",
    "# replace -, extend missing 0-s, fix datatype\n",
    "data = utils.replace_format_input(data)"
   ]
  },
  {
   "cell_type": "code",
   "execution_count": null,
   "id": "1a609bc2",
   "metadata": {
    "execution": {
     "iopub.execute_input": "2024-08-03T15:53:02.370794Z",
     "iopub.status.busy": "2024-08-03T15:53:02.370548Z",
     "iopub.status.idle": "2024-08-03T15:53:02.374844Z",
     "shell.execute_reply": "2024-08-03T15:53:02.374545Z"
    },
    "papermill": {
     "duration": 0.016363,
     "end_time": "2024-08-03T15:53:02.375728",
     "exception": false,
     "start_time": "2024-08-03T15:53:02.359365",
     "status": "completed"
    },
    "tags": []
   },
   "outputs": [],
   "source": [
    "owned_shares = pd.read_csv('../data/extras/owned_stocks.csv', sep=';', parse_dates=['date'])\n",
    "owned_shares = owned_shares.loc[(owned_shares['stock'] == share_name) & (owned_shares['active'] == 'yes')]"
   ]
  },
  {
   "cell_type": "markdown",
   "id": "2552a2ad",
   "metadata": {
    "papermill": {
     "duration": 0.00639,
     "end_time": "2024-08-03T15:53:02.388244",
     "exception": false,
     "start_time": "2024-08-03T15:53:02.381854",
     "status": "completed"
    },
    "tags": []
   },
   "source": [
    "## (OPTIONAL) Time Filtering - Last 7 years daat"
   ]
  },
  {
   "cell_type": "code",
   "execution_count": null,
   "id": "6176f70a",
   "metadata": {
    "execution": {
     "iopub.execute_input": "2024-08-03T15:53:02.399392Z",
     "iopub.status.busy": "2024-08-03T15:53:02.399256Z",
     "iopub.status.idle": "2024-08-03T15:53:02.408747Z",
     "shell.execute_reply": "2024-08-03T15:53:02.408490Z"
    },
    "papermill": {
     "duration": 0.016262,
     "end_time": "2024-08-03T15:53:02.409579",
     "exception": false,
     "start_time": "2024-08-03T15:53:02.393317",
     "status": "completed"
    },
    "tags": []
   },
   "outputs": [],
   "source": [
    "if evaluate_last_X_years:\n",
    "    data = data[data['date'] > datetime.datetime.today() - datetime.timedelta(days=X*366+93)]\n",
    "    data = data.reset_index(drop=True)\n",
    "\n",
    "data.head()"
   ]
  },
  {
   "cell_type": "markdown",
   "id": "8f0fef82",
   "metadata": {
    "papermill": {
     "duration": 0.005261,
     "end_time": "2024-08-03T15:53:02.420365",
     "exception": false,
     "start_time": "2024-08-03T15:53:02.415104",
     "status": "completed"
    },
    "tags": []
   },
   "source": [
    "## Calculate date when quaterly reports could be available"
   ]
  },
  {
   "cell_type": "code",
   "execution_count": null,
   "id": "94f62519",
   "metadata": {
    "execution": {
     "iopub.execute_input": "2024-08-03T15:53:02.431909Z",
     "iopub.status.busy": "2024-08-03T15:53:02.431754Z",
     "iopub.status.idle": "2024-08-03T15:53:02.433635Z",
     "shell.execute_reply": "2024-08-03T15:53:02.433390Z"
    },
    "papermill": {
     "duration": 0.009119,
     "end_time": "2024-08-03T15:53:02.434480",
     "exception": false,
     "start_time": "2024-08-03T15:53:02.425361",
     "status": "completed"
    },
    "tags": []
   },
   "outputs": [],
   "source": [
    "data = utils.calculate_real_date(data)"
   ]
  },
  {
   "cell_type": "markdown",
   "id": "ebd8d0a9",
   "metadata": {
    "papermill": {
     "duration": 0.0055,
     "end_time": "2024-08-03T15:53:02.445495",
     "exception": false,
     "start_time": "2024-08-03T15:53:02.439995",
     "status": "completed"
    },
    "tags": []
   },
   "source": [
    "# 2. Filter out unnecesary columns"
   ]
  },
  {
   "cell_type": "code",
   "execution_count": null,
   "id": "264a9ea9",
   "metadata": {
    "execution": {
     "iopub.execute_input": "2024-08-03T15:53:02.457109Z",
     "iopub.status.busy": "2024-08-03T15:53:02.456970Z",
     "iopub.status.idle": "2024-08-03T15:53:02.463589Z",
     "shell.execute_reply": "2024-08-03T15:53:02.463334Z"
    },
    "papermill": {
     "duration": 0.013494,
     "end_time": "2024-08-03T15:53:02.464423",
     "exception": false,
     "start_time": "2024-08-03T15:53:02.450929",
     "status": "completed"
    },
    "tags": []
   },
   "outputs": [],
   "source": [
    "data = utils.filter_raw_data(data)\n",
    "data.tail()"
   ]
  },
  {
   "cell_type": "markdown",
   "id": "2abf0295",
   "metadata": {
    "papermill": {
     "duration": 0.005367,
     "end_time": "2024-08-03T15:53:02.475644",
     "exception": false,
     "start_time": "2024-08-03T15:53:02.470277",
     "status": "completed"
    },
    "tags": []
   },
   "source": [
    "## Pull historical average USD national currency rates and add to the dataframe"
   ]
  },
  {
   "cell_type": "code",
   "execution_count": null,
   "id": "c04caccc",
   "metadata": {
    "execution": {
     "iopub.execute_input": "2024-08-03T15:53:02.487725Z",
     "iopub.status.busy": "2024-08-03T15:53:02.487548Z",
     "iopub.status.idle": "2024-08-03T15:53:02.494112Z",
     "shell.execute_reply": "2024-08-03T15:53:02.493867Z"
    },
    "papermill": {
     "duration": 0.013823,
     "end_time": "2024-08-03T15:53:02.495116",
     "exception": false,
     "start_time": "2024-08-03T15:53:02.481293",
     "status": "completed"
    },
    "tags": []
   },
   "outputs": [],
   "source": [
    "if currency_pair != 'USD=X':\n",
    "    data['usd_nat_currency'] = utils.daily_price(\n",
    "        ticker=currency_pair,\n",
    "        end=data['date'],\n",
    "        days_earlier=90\n",
    "        )\n",
    "else:\n",
    "    data['usd_nat_currency'] = [1 for x in range(len(data))]\n",
    "\n",
    "# drop rows, when USD rates wasn't available\n",
    "data = data[data['usd_nat_currency'].notna()]\n",
    "\n",
    "data.tail()"
   ]
  },
  {
   "cell_type": "markdown",
   "id": "1ea97372",
   "metadata": {
    "papermill": {
     "duration": 0.006689,
     "end_time": "2024-08-03T15:53:02.507988",
     "exception": false,
     "start_time": "2024-08-03T15:53:02.501299",
     "status": "completed"
    },
    "tags": []
   },
   "source": [
    "## Convert USD values related to IS, BS, CFS to national currency"
   ]
  },
  {
   "cell_type": "code",
   "execution_count": null,
   "id": "deac7fe7",
   "metadata": {
    "execution": {
     "iopub.execute_input": "2024-08-03T15:53:02.519987Z",
     "iopub.status.busy": "2024-08-03T15:53:02.519757Z",
     "iopub.status.idle": "2024-08-03T15:53:02.531594Z",
     "shell.execute_reply": "2024-08-03T15:53:02.531365Z"
    },
    "papermill": {
     "duration": 0.018769,
     "end_time": "2024-08-03T15:53:02.532434",
     "exception": false,
     "start_time": "2024-08-03T15:53:02.513665",
     "status": "completed"
    },
    "tags": []
   },
   "outputs": [],
   "source": [
    "# convert columns into national currency if necessary\n",
    "if numbers_in_currency == 'USD':\n",
    "    data_nat_curr = utils.convert_national_currency(input_data=data, currency=data)\n",
    "else:\n",
    "    data_nat_curr = data.copy()\n",
    "data_nat_curr.tail()"
   ]
  },
  {
   "cell_type": "markdown",
   "id": "35b89369",
   "metadata": {
    "papermill": {
     "duration": 0.005701,
     "end_time": "2024-08-03T15:53:02.543729",
     "exception": false,
     "start_time": "2024-08-03T15:53:02.538028",
     "status": "completed"
    },
    "tags": []
   },
   "source": [
    "# 3. Calculate input to Value Raios (eps, bv per share, fcf)\n",
    "## filter out unwanted columns"
   ]
  },
  {
   "cell_type": "code",
   "execution_count": null,
   "id": "016ae737",
   "metadata": {
    "execution": {
     "iopub.execute_input": "2024-08-03T15:53:02.555669Z",
     "iopub.status.busy": "2024-08-03T15:53:02.555509Z",
     "iopub.status.idle": "2024-08-03T15:53:02.558703Z",
     "shell.execute_reply": "2024-08-03T15:53:02.558447Z"
    },
    "papermill": {
     "duration": 0.010329,
     "end_time": "2024-08-03T15:53:02.559504",
     "exception": false,
     "start_time": "2024-08-03T15:53:02.549175",
     "status": "completed"
    },
    "tags": []
   },
   "outputs": [],
   "source": [
    "filtered_nat_curr = utils.calculate_input_value_ratios(data_nat_curr)"
   ]
  },
  {
   "cell_type": "markdown",
   "id": "e57fd37a",
   "metadata": {
    "papermill": {
     "duration": 0.006149,
     "end_time": "2024-08-03T15:53:02.576188",
     "exception": false,
     "start_time": "2024-08-03T15:53:02.570039",
     "status": "completed"
    },
    "tags": []
   },
   "source": [
    "## Calculate input values to value ratios"
   ]
  },
  {
   "cell_type": "code",
   "execution_count": null,
   "id": "8d6ffca3",
   "metadata": {
    "execution": {
     "iopub.execute_input": "2024-08-03T15:53:02.590073Z",
     "iopub.status.busy": "2024-08-03T15:53:02.589934Z",
     "iopub.status.idle": "2024-08-03T15:53:02.592418Z",
     "shell.execute_reply": "2024-08-03T15:53:02.592162Z"
    },
    "papermill": {
     "duration": 0.01001,
     "end_time": "2024-08-03T15:53:02.593317",
     "exception": false,
     "start_time": "2024-08-03T15:53:02.583307",
     "status": "completed"
    },
    "tags": []
   },
   "outputs": [],
   "source": [
    "ratios_nat_curr = utils.ratios_input_filter(filtered_nat_curr)"
   ]
  },
  {
   "cell_type": "markdown",
   "id": "ecd5d98b",
   "metadata": {
    "papermill": {
     "duration": 0.005832,
     "end_time": "2024-08-03T15:53:02.605575",
     "exception": false,
     "start_time": "2024-08-03T15:53:02.599743",
     "status": "completed"
    },
    "tags": []
   },
   "source": [
    "## Calculate performance parameters (current ratio, ROA, ROE, margins, D/E)"
   ]
  },
  {
   "cell_type": "code",
   "execution_count": null,
   "id": "4344c506",
   "metadata": {
    "execution": {
     "iopub.execute_input": "2024-08-03T15:53:02.619281Z",
     "iopub.status.busy": "2024-08-03T15:53:02.619138Z",
     "iopub.status.idle": "2024-08-03T15:53:02.625270Z",
     "shell.execute_reply": "2024-08-03T15:53:02.625044Z"
    },
    "papermill": {
     "duration": 0.014472,
     "end_time": "2024-08-03T15:53:02.626114",
     "exception": false,
     "start_time": "2024-08-03T15:53:02.611642",
     "status": "completed"
    },
    "tags": []
   },
   "outputs": [],
   "source": [
    "ratios_nat_curr = utils.evaluate_performance(input=filtered_nat_curr, output=ratios_nat_curr)"
   ]
  },
  {
   "cell_type": "markdown",
   "id": "c2aba28c",
   "metadata": {
    "papermill": {
     "duration": 0.005463,
     "end_time": "2024-08-03T15:53:02.637871",
     "exception": false,
     "start_time": "2024-08-03T15:53:02.632408",
     "status": "completed"
    },
    "tags": []
   },
   "source": [
    "# 4. Pull historical share prices and merge with sattement data"
   ]
  },
  {
   "cell_type": "code",
   "execution_count": null,
   "id": "cb3c9c59",
   "metadata": {
    "execution": {
     "iopub.execute_input": "2024-08-03T15:53:02.649402Z",
     "iopub.status.busy": "2024-08-03T15:53:02.649276Z",
     "iopub.status.idle": "2024-08-03T15:53:03.045443Z",
     "shell.execute_reply": "2024-08-03T15:53:03.045039Z"
    },
    "papermill": {
     "duration": 0.403652,
     "end_time": "2024-08-03T15:53:03.046771",
     "exception": false,
     "start_time": "2024-08-03T15:53:02.643119",
     "status": "completed"
    },
    "tags": []
   },
   "outputs": [],
   "source": [
    "# pull weekly share prices and merge with the value ratios\n",
    "merged_nat_curr = utils.add_share_prices_to_value_ratios(share_name, data, ratios_nat_curr)\n",
    "merged_nat_curr.head()"
   ]
  },
  {
   "cell_type": "markdown",
   "id": "61f609c6",
   "metadata": {
    "papermill": {
     "duration": 0.014383,
     "end_time": "2024-08-03T15:53:03.077523",
     "exception": false,
     "start_time": "2024-08-03T15:53:03.063140",
     "status": "completed"
    },
    "tags": []
   },
   "source": [
    "# Calculate price ratios (P/E, P/B, P/S, P/FCF)"
   ]
  },
  {
   "cell_type": "code",
   "execution_count": null,
   "id": "807e79a8",
   "metadata": {
    "execution": {
     "iopub.execute_input": "2024-08-03T15:53:03.104426Z",
     "iopub.status.busy": "2024-08-03T15:53:03.104249Z",
     "iopub.status.idle": "2024-08-03T15:53:03.116555Z",
     "shell.execute_reply": "2024-08-03T15:53:03.116238Z"
    },
    "papermill": {
     "duration": 0.025955,
     "end_time": "2024-08-03T15:53:03.117582",
     "exception": false,
     "start_time": "2024-08-03T15:53:03.091627",
     "status": "completed"
    },
    "tags": []
   },
   "outputs": [],
   "source": [
    "merged_nat_curr = utils.price_ratios(merged_nat_curr)\n",
    "merged_nat_curr.head()"
   ]
  },
  {
   "cell_type": "markdown",
   "id": "bb94f97f",
   "metadata": {
    "papermill": {
     "duration": 0.012691,
     "end_time": "2024-08-03T15:53:03.144783",
     "exception": false,
     "start_time": "2024-08-03T15:53:03.132092",
     "status": "completed"
    },
    "tags": []
   },
   "source": [
    "# Calculate Dividend yield and currency-share price correlation"
   ]
  },
  {
   "cell_type": "code",
   "execution_count": null,
   "id": "fb05716c",
   "metadata": {
    "execution": {
     "iopub.execute_input": "2024-08-03T15:53:03.169995Z",
     "iopub.status.busy": "2024-08-03T15:53:03.169827Z",
     "iopub.status.idle": "2024-08-03T15:53:03.359382Z",
     "shell.execute_reply": "2024-08-03T15:53:03.358860Z"
    },
    "papermill": {
     "duration": 0.203346,
     "end_time": "2024-08-03T15:53:03.361191",
     "exception": false,
     "start_time": "2024-08-03T15:53:03.157845",
     "status": "completed"
    },
    "tags": []
   },
   "outputs": [],
   "source": [
    "# get daily historical USD-national currency rates\n",
    "usd_nat_curr = utils.get_historical_currency_rate(currency_pair, merged_nat_curr)"
   ]
  },
  {
   "cell_type": "code",
   "execution_count": null,
   "id": "1148e9dc",
   "metadata": {
    "execution": {
     "iopub.execute_input": "2024-08-03T15:53:03.399351Z",
     "iopub.status.busy": "2024-08-03T15:53:03.399116Z",
     "iopub.status.idle": "2024-08-03T15:53:03.903908Z",
     "shell.execute_reply": "2024-08-03T15:53:03.903651Z"
    },
    "papermill": {
     "duration": 0.52427,
     "end_time": "2024-08-03T15:53:03.904798",
     "exception": false,
     "start_time": "2024-08-03T15:53:03.380528",
     "status": "completed"
    },
    "tags": []
   },
   "outputs": [],
   "source": [
    "# get share prices and dividend yield data\n",
    "ticker_all_price = utils.get_historical_share_dividend(share_name, merged_nat_curr)"
   ]
  },
  {
   "cell_type": "code",
   "execution_count": null,
   "id": "52a4e002",
   "metadata": {
    "execution": {
     "iopub.execute_input": "2024-08-03T15:53:03.931207Z",
     "iopub.status.busy": "2024-08-03T15:53:03.931090Z",
     "iopub.status.idle": "2024-08-03T15:53:04.084108Z",
     "shell.execute_reply": "2024-08-03T15:53:04.083838Z"
    },
    "papermill": {
     "duration": 0.168075,
     "end_time": "2024-08-03T15:53:04.085002",
     "exception": false,
     "start_time": "2024-08-03T15:53:03.916927",
     "status": "completed"
    },
    "tags": []
   },
   "outputs": [],
   "source": [
    "# Pearson's correlation coefficient between share price and USD - national currency rate\n",
    "utils.get_currency_share_price_correlation(share_name, usd_nat_curr, ticker_all_price)"
   ]
  },
  {
   "cell_type": "markdown",
   "id": "7798fe1f",
   "metadata": {
    "papermill": {
     "duration": 0.010297,
     "end_time": "2024-08-03T15:53:04.107244",
     "exception": false,
     "start_time": "2024-08-03T15:53:04.096947",
     "status": "completed"
    },
    "tags": []
   },
   "source": [
    "# Share price and value ratios"
   ]
  },
  {
   "cell_type": "code",
   "execution_count": null,
   "id": "0d071c7f",
   "metadata": {
    "execution": {
     "iopub.execute_input": "2024-08-03T15:53:04.127488Z",
     "iopub.status.busy": "2024-08-03T15:53:04.127362Z",
     "iopub.status.idle": "2024-08-03T15:53:08.795797Z",
     "shell.execute_reply": "2024-08-03T15:53:08.795440Z"
    },
    "papermill": {
     "duration": 4.678547,
     "end_time": "2024-08-03T15:53:08.796807",
     "exception": false,
     "start_time": "2024-08-03T15:53:04.118260",
     "status": "completed"
    },
    "tags": []
   },
   "outputs": [],
   "source": [
    "for column in merged_nat_curr.columns[3:]:\n",
    "    fig, ax1 = plt.subplots(figsize=(15, 6))\n",
    "\n",
    "    ax2 = ax1.twinx()\n",
    "    ax1.plot(merged_nat_curr['real_date'], merged_nat_curr[column], color='k', label=merged_nat_curr)\n",
    "    ax2.plot(ticker_all_price.index, ticker_all_price['Close'], color='b', label=share_name)\n",
    "\n",
    "    ax1.set_xlabel('Date')\n",
    "    ax1.set_ylabel(column, color='k')\n",
    "    ax2.set_ylabel('Share price (national currency)', color='b')\n",
    "\n",
    "    plt.legend()\n",
    "    plt.show()"
   ]
  },
  {
   "cell_type": "code",
   "execution_count": null,
   "id": "c98e1d89",
   "metadata": {
    "execution": {
     "iopub.execute_input": "2024-08-03T15:53:08.833328Z",
     "iopub.status.busy": "2024-08-03T15:53:08.833195Z",
     "iopub.status.idle": "2024-08-03T15:53:09.551229Z",
     "shell.execute_reply": "2024-08-03T15:53:09.550905Z"
    },
    "papermill": {
     "duration": 0.736903,
     "end_time": "2024-08-03T15:53:09.552236",
     "exception": false,
     "start_time": "2024-08-03T15:53:08.815333",
     "status": "completed"
    },
    "tags": []
   },
   "outputs": [],
   "source": [
    "# plot histograms of value parameters\n",
    "utils.plot_histogram_value_parameters(input_df=merged_nat_curr, extra_parameters=[], owned_shares=owned_shares)"
   ]
  },
  {
   "cell_type": "markdown",
   "id": "2489e66c",
   "metadata": {
    "papermill": {
     "duration": 0.018906,
     "end_time": "2024-08-03T15:53:09.589556",
     "exception": false,
     "start_time": "2024-08-03T15:53:09.570650",
     "status": "completed"
    },
    "tags": []
   },
   "source": [
    "## Calculate correlation between value parameters"
   ]
  },
  {
   "cell_type": "code",
   "execution_count": null,
   "id": "c5255243",
   "metadata": {
    "execution": {
     "iopub.execute_input": "2024-08-03T15:53:09.629353Z",
     "iopub.status.busy": "2024-08-03T15:53:09.629196Z",
     "iopub.status.idle": "2024-08-03T15:53:09.634297Z",
     "shell.execute_reply": "2024-08-03T15:53:09.634047Z"
    },
    "papermill": {
     "duration": 0.026908,
     "end_time": "2024-08-03T15:53:09.635108",
     "exception": false,
     "start_time": "2024-08-03T15:53:09.608200",
     "status": "completed"
    },
    "tags": []
   },
   "outputs": [],
   "source": [
    "# calulate value parameters Pearson's correlation coefficient\n",
    "pd.DataFrame(merged_nat_curr, columns=['roa', 'roe', 'pe_ratio', 'pb_ratio', 'ps_ratio', 'ev_revenue', 'debt_to_equity', 'current_ratio']).corr()"
   ]
  },
  {
   "cell_type": "code",
   "execution_count": null,
   "id": "99c63c6b",
   "metadata": {},
   "outputs": [],
   "source": [
    "final_df = utils.get_value_stock_target_prices(\n",
    "    input_df=merged_nat_curr,\n",
    "    min_pct=0.2,\n",
    "    max_pct=0.5,\n",
    "    owned_shares=owned_shares\n",
    ")"
   ]
  }
 ],
 "metadata": {
  "kernelspec": {
   "display_name": ".venv",
   "language": "python",
   "name": "python3"
  },
  "language_info": {
   "codemirror_mode": {
    "name": "ipython",
    "version": 3
   },
   "file_extension": ".py",
   "mimetype": "text/x-python",
   "name": "python",
   "nbconvert_exporter": "python",
   "pygments_lexer": "ipython3",
   "version": "3.11.3"
  },
  "papermill": {
   "default_parameters": {},
   "duration": 9.464448,
   "end_time": "2024-08-03T15:53:09.975090",
   "environment_variables": {},
   "exception": null,
   "input_path": "../notebooks/mos_national.ipynb",
   "output_path": "../notebooks/mos_national.ipynb",
   "parameters": {},
   "start_time": "2024-08-03T15:53:00.510642",
   "version": "2.5.0"
  }
 },
 "nbformat": 4,
 "nbformat_minor": 5
}
