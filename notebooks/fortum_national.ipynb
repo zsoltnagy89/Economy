{
 "cells": [
  {
   "cell_type": "code",
   "execution_count": null,
   "id": "66aeb329",
   "metadata": {
    "execution": {
     "iopub.execute_input": "2024-08-03T16:00:06.646212Z",
     "iopub.status.busy": "2024-08-03T16:00:06.645857Z",
     "iopub.status.idle": "2024-08-03T16:00:07.393554Z",
     "shell.execute_reply": "2024-08-03T16:00:07.393263Z"
    },
    "papermill": {
     "duration": 0.771008,
     "end_time": "2024-08-03T16:00:07.394587",
     "exception": false,
     "start_time": "2024-08-03T16:00:06.623579",
     "status": "completed"
    },
    "tags": []
   },
   "outputs": [],
   "source": [
    "import pandas as pd\n",
    "import matplotlib.pyplot as plt\n",
    "import numpy as np\n",
    "\n",
    "import yfinance as yf\n",
    "import datetime\n",
    "\n",
    "from valueinvesting import utils as utils"
   ]
  },
  {
   "cell_type": "markdown",
   "id": "8b250e18",
   "metadata": {
    "papermill": {
     "duration": 0.011646,
     "end_time": "2024-08-03T16:00:07.418913",
     "exception": false,
     "start_time": "2024-08-03T16:00:07.407267",
     "status": "completed"
    },
    "tags": []
   },
   "source": [
    "# 1. Load raw input\n",
    "## Hardcoded block"
   ]
  },
  {
   "cell_type": "code",
   "execution_count": null,
   "id": "3e54f867",
   "metadata": {
    "execution": {
     "iopub.execute_input": "2024-08-03T16:00:07.444791Z",
     "iopub.status.busy": "2024-08-03T16:00:07.444581Z",
     "iopub.status.idle": "2024-08-03T16:00:07.446882Z",
     "shell.execute_reply": "2024-08-03T16:00:07.446594Z"
    },
    "papermill": {
     "duration": 0.015614,
     "end_time": "2024-08-03T16:00:07.447863",
     "exception": false,
     "start_time": "2024-08-03T16:00:07.432249",
     "status": "completed"
    },
    "tags": []
   },
   "outputs": [],
   "source": [
    "evaluate_last_X_years = True\n",
    "X=10\n",
    "currency_pair = 'EUR=X'\n",
    "numbers_in_currency = 'EUR'\n",
    "share_name = 'FORTUM.HE'"
   ]
  },
  {
   "cell_type": "markdown",
   "id": "e21e004c",
   "metadata": {
    "papermill": {
     "duration": 0.01374,
     "end_time": "2024-08-03T16:00:07.470954",
     "exception": false,
     "start_time": "2024-08-03T16:00:07.457214",
     "status": "completed"
    },
    "tags": []
   },
   "source": [
    "# 1.1 Calculate Share numbers from total distributed dividend (CFS) and dividend amount"
   ]
  },
  {
   "cell_type": "markdown",
   "id": "a66ab7c5",
   "metadata": {
    "papermill": {
     "duration": 0.005709,
     "end_time": "2024-08-03T16:00:07.485418",
     "exception": false,
     "start_time": "2024-08-03T16:00:07.479709",
     "status": "completed"
    },
    "tags": []
   },
   "source": [
    "# 1.2. Raw input statement data"
   ]
  },
  {
   "cell_type": "code",
   "execution_count": null,
   "id": "421ac1ec",
   "metadata": {
    "execution": {
     "iopub.execute_input": "2024-08-03T16:00:07.497731Z",
     "iopub.status.busy": "2024-08-03T16:00:07.497571Z",
     "iopub.status.idle": "2024-08-03T16:00:07.512845Z",
     "shell.execute_reply": "2024-08-03T16:00:07.512482Z"
    },
    "papermill": {
     "duration": 0.022614,
     "end_time": "2024-08-03T16:00:07.514054",
     "exception": false,
     "start_time": "2024-08-03T16:00:07.491440",
     "status": "completed"
    },
    "tags": []
   },
   "outputs": [],
   "source": [
    "route = f\"../data/input/{share_name}_data.csv\"\n",
    "data = pd.read_csv(route, sep=';', parse_dates=['date', 'real_date'])\n",
    "# replace -, extend missing 0-s, fix datatype\n",
    "data = utils.replace_format_input(data)"
   ]
  },
  {
   "cell_type": "code",
   "execution_count": null,
   "id": "f22bc945",
   "metadata": {
    "execution": {
     "iopub.execute_input": "2024-08-03T16:00:07.528880Z",
     "iopub.status.busy": "2024-08-03T16:00:07.528742Z",
     "iopub.status.idle": "2024-08-03T16:00:07.532669Z",
     "shell.execute_reply": "2024-08-03T16:00:07.532410Z"
    },
    "papermill": {
     "duration": 0.012155,
     "end_time": "2024-08-03T16:00:07.533508",
     "exception": false,
     "start_time": "2024-08-03T16:00:07.521353",
     "status": "completed"
    },
    "tags": []
   },
   "outputs": [],
   "source": [
    "owned_shares = pd.read_csv('../data/extras/owned_stocks.csv', sep=';', parse_dates=['date'])\n",
    "owned_shares = owned_shares.loc[(owned_shares['stock'] == share_name) & (owned_shares['active'] == 'yes')]"
   ]
  },
  {
   "cell_type": "markdown",
   "id": "63d11efd",
   "metadata": {
    "papermill": {
     "duration": 0.009643,
     "end_time": "2024-08-03T16:00:07.552198",
     "exception": false,
     "start_time": "2024-08-03T16:00:07.542555",
     "status": "completed"
    },
    "tags": []
   },
   "source": [
    "## (OPTIONAL) Time Filtering - Last 7 years daat"
   ]
  },
  {
   "cell_type": "code",
   "execution_count": null,
   "id": "7446f199",
   "metadata": {
    "execution": {
     "iopub.execute_input": "2024-08-03T16:00:07.570432Z",
     "iopub.status.busy": "2024-08-03T16:00:07.570245Z",
     "iopub.status.idle": "2024-08-03T16:00:07.580443Z",
     "shell.execute_reply": "2024-08-03T16:00:07.580202Z"
    },
    "papermill": {
     "duration": 0.020192,
     "end_time": "2024-08-03T16:00:07.581275",
     "exception": false,
     "start_time": "2024-08-03T16:00:07.561083",
     "status": "completed"
    },
    "tags": []
   },
   "outputs": [],
   "source": [
    "if evaluate_last_X_years:\n",
    "    data = data[data['date'] > datetime.datetime.today() - datetime.timedelta(days=X*366+93)]\n",
    "    data = data.reset_index(drop=True)\n",
    "\n",
    "data.head()"
   ]
  },
  {
   "cell_type": "markdown",
   "id": "4f64bc22",
   "metadata": {
    "papermill": {
     "duration": 0.00522,
     "end_time": "2024-08-03T16:00:07.592479",
     "exception": false,
     "start_time": "2024-08-03T16:00:07.587259",
     "status": "completed"
    },
    "tags": []
   },
   "source": [
    "## Calculate date when quaterly reports could be available"
   ]
  },
  {
   "cell_type": "code",
   "execution_count": null,
   "id": "4e9c7696",
   "metadata": {
    "execution": {
     "iopub.execute_input": "2024-08-03T16:00:07.603892Z",
     "iopub.status.busy": "2024-08-03T16:00:07.603663Z",
     "iopub.status.idle": "2024-08-03T16:00:07.605656Z",
     "shell.execute_reply": "2024-08-03T16:00:07.605407Z"
    },
    "papermill": {
     "duration": 0.00892,
     "end_time": "2024-08-03T16:00:07.606563",
     "exception": false,
     "start_time": "2024-08-03T16:00:07.597643",
     "status": "completed"
    },
    "tags": []
   },
   "outputs": [],
   "source": [
    "data = utils.calculate_real_date(data)"
   ]
  },
  {
   "cell_type": "markdown",
   "id": "3d448569",
   "metadata": {
    "papermill": {
     "duration": 0.00513,
     "end_time": "2024-08-03T16:00:07.617263",
     "exception": false,
     "start_time": "2024-08-03T16:00:07.612133",
     "status": "completed"
    },
    "tags": []
   },
   "source": [
    "# 2. Filter out unnecesary columns"
   ]
  },
  {
   "cell_type": "code",
   "execution_count": null,
   "id": "4b351f02",
   "metadata": {
    "execution": {
     "iopub.execute_input": "2024-08-03T16:00:07.630886Z",
     "iopub.status.busy": "2024-08-03T16:00:07.630746Z",
     "iopub.status.idle": "2024-08-03T16:00:07.637488Z",
     "shell.execute_reply": "2024-08-03T16:00:07.637124Z"
    },
    "papermill": {
     "duration": 0.015312,
     "end_time": "2024-08-03T16:00:07.638445",
     "exception": false,
     "start_time": "2024-08-03T16:00:07.623133",
     "status": "completed"
    },
    "tags": []
   },
   "outputs": [],
   "source": [
    "data = utils.filter_raw_data(data)\n",
    "data.tail()"
   ]
  },
  {
   "cell_type": "markdown",
   "id": "0be76409",
   "metadata": {
    "papermill": {
     "duration": 0.005353,
     "end_time": "2024-08-03T16:00:07.649545",
     "exception": false,
     "start_time": "2024-08-03T16:00:07.644192",
     "status": "completed"
    },
    "tags": []
   },
   "source": [
    "## Pull historical average USD national currency rates and add to the dataframe"
   ]
  },
  {
   "cell_type": "code",
   "execution_count": null,
   "id": "7611f199",
   "metadata": {
    "execution": {
     "iopub.execute_input": "2024-08-03T16:00:07.661232Z",
     "iopub.status.busy": "2024-08-03T16:00:07.661099Z",
     "iopub.status.idle": "2024-08-03T16:00:15.697648Z",
     "shell.execute_reply": "2024-08-03T16:00:15.697160Z"
    },
    "papermill": {
     "duration": 8.044347,
     "end_time": "2024-08-03T16:00:15.699232",
     "exception": false,
     "start_time": "2024-08-03T16:00:07.654885",
     "status": "completed"
    },
    "tags": []
   },
   "outputs": [],
   "source": [
    "data['usd_nat_currency'] = utils.daily_price(\n",
    "    ticker=currency_pair,\n",
    "    end=data['date'],\n",
    "    days_earlier=90\n",
    "    )\n",
    "\n",
    "# drop rows, when USD rates wasn't available\n",
    "data = data[data['usd_nat_currency'].notna()]\n",
    "\n",
    "data.tail()"
   ]
  },
  {
   "cell_type": "markdown",
   "id": "1555778a",
   "metadata": {
    "papermill": {
     "duration": 0.016066,
     "end_time": "2024-08-03T16:00:15.740412",
     "exception": false,
     "start_time": "2024-08-03T16:00:15.724346",
     "status": "completed"
    },
    "tags": []
   },
   "source": [
    "## Convert USD values related to IS, BS, CFS to national currency"
   ]
  },
  {
   "cell_type": "code",
   "execution_count": null,
   "id": "11a339bd",
   "metadata": {
    "execution": {
     "iopub.execute_input": "2024-08-03T16:00:15.791185Z",
     "iopub.status.busy": "2024-08-03T16:00:15.790736Z",
     "iopub.status.idle": "2024-08-03T16:00:15.801718Z",
     "shell.execute_reply": "2024-08-03T16:00:15.801220Z"
    },
    "papermill": {
     "duration": 0.030521,
     "end_time": "2024-08-03T16:00:15.803338",
     "exception": false,
     "start_time": "2024-08-03T16:00:15.772817",
     "status": "completed"
    },
    "tags": []
   },
   "outputs": [],
   "source": [
    "# convert columns into national currency if necessary\n",
    "if numbers_in_currency == 'USD':\n",
    "    data_nat_curr = utils.convert_national_currency(input_data=data, currency=data)\n",
    "else:\n",
    "    data_nat_curr = data.copy()\n",
    "data_nat_curr.tail()"
   ]
  },
  {
   "cell_type": "markdown",
   "id": "c9464963",
   "metadata": {
    "papermill": {
     "duration": 0.015605,
     "end_time": "2024-08-03T16:00:15.836418",
     "exception": false,
     "start_time": "2024-08-03T16:00:15.820813",
     "status": "completed"
    },
    "tags": []
   },
   "source": [
    "# 3. Calculate input to Value Raios (eps, bv per share, fcf)\n",
    "## filter out unwanted columns"
   ]
  },
  {
   "cell_type": "code",
   "execution_count": null,
   "id": "5465e734",
   "metadata": {
    "execution": {
     "iopub.execute_input": "2024-08-03T16:00:15.864890Z",
     "iopub.status.busy": "2024-08-03T16:00:15.864720Z",
     "iopub.status.idle": "2024-08-03T16:00:15.868417Z",
     "shell.execute_reply": "2024-08-03T16:00:15.868006Z"
    },
    "papermill": {
     "duration": 0.018383,
     "end_time": "2024-08-03T16:00:15.869421",
     "exception": false,
     "start_time": "2024-08-03T16:00:15.851038",
     "status": "completed"
    },
    "tags": []
   },
   "outputs": [],
   "source": [
    "filtered_nat_curr = utils.calculate_input_value_ratios(data_nat_curr)"
   ]
  },
  {
   "cell_type": "markdown",
   "id": "39c255bd",
   "metadata": {
    "papermill": {
     "duration": 0.012129,
     "end_time": "2024-08-03T16:00:15.896413",
     "exception": false,
     "start_time": "2024-08-03T16:00:15.884284",
     "status": "completed"
    },
    "tags": []
   },
   "source": [
    "## Calculate input values to value ratios"
   ]
  },
  {
   "cell_type": "code",
   "execution_count": null,
   "id": "4a465f43",
   "metadata": {
    "execution": {
     "iopub.execute_input": "2024-08-03T16:00:15.921400Z",
     "iopub.status.busy": "2024-08-03T16:00:15.921241Z",
     "iopub.status.idle": "2024-08-03T16:00:15.924217Z",
     "shell.execute_reply": "2024-08-03T16:00:15.923946Z"
    },
    "papermill": {
     "duration": 0.01235,
     "end_time": "2024-08-03T16:00:15.925142",
     "exception": false,
     "start_time": "2024-08-03T16:00:15.912792",
     "status": "completed"
    },
    "tags": []
   },
   "outputs": [],
   "source": [
    "ratios_nat_curr = utils.ratios_input_filter(filtered_nat_curr)"
   ]
  },
  {
   "cell_type": "markdown",
   "id": "203c9fce",
   "metadata": {
    "papermill": {
     "duration": 0.007905,
     "end_time": "2024-08-03T16:00:15.940473",
     "exception": false,
     "start_time": "2024-08-03T16:00:15.932568",
     "status": "completed"
    },
    "tags": []
   },
   "source": [
    "## Calculate performance parameters (current ratio, ROA, ROE, margins, D/E)"
   ]
  },
  {
   "cell_type": "code",
   "execution_count": null,
   "id": "11a5ec6a",
   "metadata": {
    "execution": {
     "iopub.execute_input": "2024-08-03T16:00:15.953473Z",
     "iopub.status.busy": "2024-08-03T16:00:15.953317Z",
     "iopub.status.idle": "2024-08-03T16:00:15.959960Z",
     "shell.execute_reply": "2024-08-03T16:00:15.959708Z"
    },
    "papermill": {
     "duration": 0.014162,
     "end_time": "2024-08-03T16:00:15.960866",
     "exception": false,
     "start_time": "2024-08-03T16:00:15.946704",
     "status": "completed"
    },
    "tags": []
   },
   "outputs": [],
   "source": [
    "ratios_nat_curr = utils.evaluate_performance(input=filtered_nat_curr, output=ratios_nat_curr)"
   ]
  },
  {
   "cell_type": "markdown",
   "id": "960073f6",
   "metadata": {
    "papermill": {
     "duration": 0.009325,
     "end_time": "2024-08-03T16:00:15.976337",
     "exception": false,
     "start_time": "2024-08-03T16:00:15.967012",
     "status": "completed"
    },
    "tags": []
   },
   "source": [
    "# 4. Pull historical share prices and merge with sattement data"
   ]
  },
  {
   "cell_type": "code",
   "execution_count": null,
   "id": "e92bca60",
   "metadata": {
    "execution": {
     "iopub.execute_input": "2024-08-03T16:00:15.992232Z",
     "iopub.status.busy": "2024-08-03T16:00:15.992092Z",
     "iopub.status.idle": "2024-08-03T16:00:16.375912Z",
     "shell.execute_reply": "2024-08-03T16:00:16.375474Z"
    },
    "papermill": {
     "duration": 0.394942,
     "end_time": "2024-08-03T16:00:16.377215",
     "exception": false,
     "start_time": "2024-08-03T16:00:15.982273",
     "status": "completed"
    },
    "tags": []
   },
   "outputs": [],
   "source": [
    "# pull weekly share prices and merge with the value ratios\n",
    "merged_nat_curr = utils.add_share_prices_to_value_ratios(share_name, data, ratios_nat_curr)\n",
    "merged_nat_curr.head()"
   ]
  },
  {
   "cell_type": "markdown",
   "id": "b6e519ed",
   "metadata": {
    "papermill": {
     "duration": 0.011347,
     "end_time": "2024-08-03T16:00:16.405920",
     "exception": false,
     "start_time": "2024-08-03T16:00:16.394573",
     "status": "completed"
    },
    "tags": []
   },
   "source": [
    "# Calculate price ratios (P/E, P/B, P/S, P/FCF)"
   ]
  },
  {
   "cell_type": "code",
   "execution_count": null,
   "id": "863d0094",
   "metadata": {
    "execution": {
     "iopub.execute_input": "2024-08-03T16:00:16.431759Z",
     "iopub.status.busy": "2024-08-03T16:00:16.431612Z",
     "iopub.status.idle": "2024-08-03T16:00:16.441518Z",
     "shell.execute_reply": "2024-08-03T16:00:16.441127Z"
    },
    "papermill": {
     "duration": 0.023415,
     "end_time": "2024-08-03T16:00:16.444217",
     "exception": false,
     "start_time": "2024-08-03T16:00:16.420802",
     "status": "completed"
    },
    "tags": []
   },
   "outputs": [],
   "source": [
    "merged_nat_curr = utils.price_ratios(merged_nat_curr)\n",
    "merged_nat_curr.head()"
   ]
  },
  {
   "cell_type": "markdown",
   "id": "ce72bdcd",
   "metadata": {
    "papermill": {
     "duration": 0.031026,
     "end_time": "2024-08-03T16:00:16.486518",
     "exception": false,
     "start_time": "2024-08-03T16:00:16.455492",
     "status": "completed"
    },
    "tags": []
   },
   "source": [
    "# Calculate Dividend yield and currency-share price correlation"
   ]
  },
  {
   "cell_type": "code",
   "execution_count": null,
   "id": "2a5658eb",
   "metadata": {
    "execution": {
     "iopub.execute_input": "2024-08-03T16:00:16.507901Z",
     "iopub.status.busy": "2024-08-03T16:00:16.507758Z",
     "iopub.status.idle": "2024-08-03T16:00:16.846362Z",
     "shell.execute_reply": "2024-08-03T16:00:16.845860Z"
    },
    "papermill": {
     "duration": 0.351159,
     "end_time": "2024-08-03T16:00:16.848109",
     "exception": false,
     "start_time": "2024-08-03T16:00:16.496950",
     "status": "completed"
    },
    "tags": []
   },
   "outputs": [],
   "source": [
    "# get daily historical USD-national currency rates\n",
    "usd_nat_curr = utils.get_historical_currency_rate(currency_pair, merged_nat_curr)"
   ]
  },
  {
   "cell_type": "code",
   "execution_count": null,
   "id": "b58e21d3",
   "metadata": {
    "execution": {
     "iopub.execute_input": "2024-08-03T16:00:16.870267Z",
     "iopub.status.busy": "2024-08-03T16:00:16.869999Z",
     "iopub.status.idle": "2024-08-03T16:00:17.448132Z",
     "shell.execute_reply": "2024-08-03T16:00:17.447857Z"
    },
    "papermill": {
     "duration": 0.589658,
     "end_time": "2024-08-03T16:00:17.449059",
     "exception": false,
     "start_time": "2024-08-03T16:00:16.859401",
     "status": "completed"
    },
    "tags": []
   },
   "outputs": [],
   "source": [
    "# get share prices and dividend yield data\n",
    "ticker_all_price = utils.get_historical_share_dividend(share_name, merged_nat_curr)"
   ]
  },
  {
   "cell_type": "code",
   "execution_count": null,
   "id": "f88fde31",
   "metadata": {
    "execution": {
     "iopub.execute_input": "2024-08-03T16:00:17.479821Z",
     "iopub.status.busy": "2024-08-03T16:00:17.479701Z",
     "iopub.status.idle": "2024-08-03T16:00:17.658296Z",
     "shell.execute_reply": "2024-08-03T16:00:17.657982Z"
    },
    "papermill": {
     "duration": 0.193631,
     "end_time": "2024-08-03T16:00:17.659341",
     "exception": false,
     "start_time": "2024-08-03T16:00:17.465710",
     "status": "completed"
    },
    "tags": []
   },
   "outputs": [],
   "source": [
    "# Pearson's correlation coefficient between share price and USD - national currency rate\n",
    "utils.get_currency_share_price_correlation(share_name, usd_nat_curr, ticker_all_price)"
   ]
  },
  {
   "cell_type": "markdown",
   "id": "924b294a",
   "metadata": {
    "papermill": {
     "duration": 0.013386,
     "end_time": "2024-08-03T16:00:17.685555",
     "exception": false,
     "start_time": "2024-08-03T16:00:17.672169",
     "status": "completed"
    },
    "tags": []
   },
   "source": [
    "# Share price and value ratios"
   ]
  },
  {
   "cell_type": "code",
   "execution_count": null,
   "id": "c2487ed0",
   "metadata": {
    "execution": {
     "iopub.execute_input": "2024-08-03T16:00:17.711309Z",
     "iopub.status.busy": "2024-08-03T16:00:17.711172Z",
     "iopub.status.idle": "2024-08-03T16:00:22.258367Z",
     "shell.execute_reply": "2024-08-03T16:00:22.258079Z"
    },
    "papermill": {
     "duration": 4.5614,
     "end_time": "2024-08-03T16:00:22.259381",
     "exception": false,
     "start_time": "2024-08-03T16:00:17.697981",
     "status": "completed"
    },
    "tags": []
   },
   "outputs": [],
   "source": [
    "for column in merged_nat_curr.columns[3:]:\n",
    "    fig, ax1 = plt.subplots(figsize=(15, 6))\n",
    "\n",
    "    ax2 = ax1.twinx()\n",
    "    ax1.plot(merged_nat_curr['real_date'], merged_nat_curr[column], color='k', label=merged_nat_curr)\n",
    "    ax2.plot(ticker_all_price.index, ticker_all_price['Close'], color='b', label=share_name)\n",
    "\n",
    "    ax1.set_xlabel('Date')\n",
    "    ax1.set_ylabel(column, color='k')\n",
    "    ax2.set_ylabel('Share price (national currency)', color='b')\n",
    "\n",
    "    plt.legend()\n",
    "    plt.show()"
   ]
  },
  {
   "cell_type": "code",
   "execution_count": null,
   "id": "80ac5d43",
   "metadata": {
    "execution": {
     "iopub.execute_input": "2024-08-03T16:00:22.341680Z",
     "iopub.status.busy": "2024-08-03T16:00:22.341546Z",
     "iopub.status.idle": "2024-08-03T16:00:23.224138Z",
     "shell.execute_reply": "2024-08-03T16:00:23.223855Z"
    },
    "papermill": {
     "duration": 0.907177,
     "end_time": "2024-08-03T16:00:23.225236",
     "exception": false,
     "start_time": "2024-08-03T16:00:22.318059",
     "status": "completed"
    },
    "tags": []
   },
   "outputs": [],
   "source": [
    "# plot histograms of value parameters\n",
    "utils.plot_histogram_value_parameters(input_df=merged_nat_curr, extra_parameters=[], owned_shares=owned_shares)"
   ]
  },
  {
   "cell_type": "markdown",
   "id": "81b5825f",
   "metadata": {
    "papermill": {
     "duration": 0.018421,
     "end_time": "2024-08-03T16:00:23.277128",
     "exception": false,
     "start_time": "2024-08-03T16:00:23.258707",
     "status": "completed"
    },
    "tags": []
   },
   "source": [
    "## Calculate correlation between value parameters"
   ]
  },
  {
   "cell_type": "code",
   "execution_count": null,
   "id": "77574b54",
   "metadata": {
    "execution": {
     "iopub.execute_input": "2024-08-03T16:00:23.316720Z",
     "iopub.status.busy": "2024-08-03T16:00:23.316576Z",
     "iopub.status.idle": "2024-08-03T16:00:23.322276Z",
     "shell.execute_reply": "2024-08-03T16:00:23.322030Z"
    },
    "papermill": {
     "duration": 0.026937,
     "end_time": "2024-08-03T16:00:23.323111",
     "exception": false,
     "start_time": "2024-08-03T16:00:23.296174",
     "status": "completed"
    },
    "tags": []
   },
   "outputs": [],
   "source": [
    "# calulate value parameters Pearson's correlation coefficient\n",
    "pd.DataFrame(merged_nat_curr, columns=['roa', 'roe', 'pe_ratio', 'pb_ratio', 'ps_ratio', 'ev_revenue', 'debt_to_equity', 'current_ratio']).corr()"
   ]
  },
  {
   "cell_type": "code",
   "execution_count": null,
   "id": "c187a585",
   "metadata": {},
   "outputs": [],
   "source": [
    "final_df = utils.get_value_stock_target_prices(\n",
    "    input_df=merged_nat_curr,\n",
    "    min_pct=0.2,\n",
    "    max_pct=0.5,\n",
    "    owned_shares=owned_shares\n",
    ")"
   ]
  }
 ],
 "metadata": {
  "kernelspec": {
   "display_name": ".venv",
   "language": "python",
   "name": "python3"
  },
  "language_info": {
   "codemirror_mode": {
    "name": "ipython",
    "version": 3
   },
   "file_extension": ".py",
   "mimetype": "text/x-python",
   "name": "python",
   "nbconvert_exporter": "python",
   "pygments_lexer": "ipython3",
   "version": "3.11.3"
  },
  "papermill": {
   "default_parameters": {},
   "duration": 18.158712,
   "end_time": "2024-08-03T16:00:23.775623",
   "environment_variables": {},
   "exception": null,
   "input_path": "../notebooks/fortum_national.ipynb",
   "output_path": "../notebooks/fortum_national.ipynb",
   "parameters": {},
   "start_time": "2024-08-03T16:00:05.616911",
   "version": "2.5.0"
  }
 },
 "nbformat": 4,
 "nbformat_minor": 5
}
