{
 "cells": [
  {
   "cell_type": "code",
   "execution_count": null,
   "id": "99868504",
   "metadata": {
    "execution": {
     "iopub.execute_input": "2024-08-03T15:53:28.367057Z",
     "iopub.status.busy": "2024-08-03T15:53:28.366687Z",
     "iopub.status.idle": "2024-08-03T15:53:29.067578Z",
     "shell.execute_reply": "2024-08-03T15:53:29.067316Z"
    },
    "papermill": {
     "duration": 0.720921,
     "end_time": "2024-08-03T15:53:29.068965",
     "exception": false,
     "start_time": "2024-08-03T15:53:28.348044",
     "status": "completed"
    },
    "tags": []
   },
   "outputs": [],
   "source": [
    "import pandas as pd\n",
    "import matplotlib.pyplot as plt\n",
    "import numpy as np\n",
    "\n",
    "import yfinance as yf\n",
    "import datetime\n",
    "\n",
    "from valueinvesting import utils as utils"
   ]
  },
  {
   "cell_type": "markdown",
   "id": "a2ef3acb",
   "metadata": {
    "papermill": {
     "duration": 0.00969,
     "end_time": "2024-08-03T15:53:29.089850",
     "exception": false,
     "start_time": "2024-08-03T15:53:29.080160",
     "status": "completed"
    },
    "tags": []
   },
   "source": [
    "# 1. Load raw input\n",
    "## Hardcoded block"
   ]
  },
  {
   "cell_type": "code",
   "execution_count": null,
   "id": "46250fe1",
   "metadata": {
    "execution": {
     "iopub.execute_input": "2024-08-03T15:53:29.101895Z",
     "iopub.status.busy": "2024-08-03T15:53:29.101702Z",
     "iopub.status.idle": "2024-08-03T15:53:29.103712Z",
     "shell.execute_reply": "2024-08-03T15:53:29.103449Z"
    },
    "papermill": {
     "duration": 0.009002,
     "end_time": "2024-08-03T15:53:29.104607",
     "exception": false,
     "start_time": "2024-08-03T15:53:29.095605",
     "status": "completed"
    },
    "tags": []
   },
   "outputs": [],
   "source": [
    "evaluate_last_X_years = True\n",
    "X=10\n",
    "currency_pair = 'EUR=X'\n",
    "numbers_in_currency = 'EUR'\n",
    "share_name = 'UBI.PA'"
   ]
  },
  {
   "cell_type": "markdown",
   "id": "dcc12f8e",
   "metadata": {
    "papermill": {
     "duration": 0.005722,
     "end_time": "2024-08-03T15:53:29.115860",
     "exception": false,
     "start_time": "2024-08-03T15:53:29.110138",
     "status": "completed"
    },
    "tags": []
   },
   "source": [
    "# 1.1 Calculate Share numbers from total distributed dividend (CFS) and dividend amount"
   ]
  },
  {
   "cell_type": "markdown",
   "id": "6afccc41",
   "metadata": {
    "papermill": {
     "duration": 0.005259,
     "end_time": "2024-08-03T15:53:29.126474",
     "exception": false,
     "start_time": "2024-08-03T15:53:29.121215",
     "status": "completed"
    },
    "tags": []
   },
   "source": [
    "# 1.2. Raw input statement data"
   ]
  },
  {
   "cell_type": "code",
   "execution_count": null,
   "id": "45550beb",
   "metadata": {
    "execution": {
     "iopub.execute_input": "2024-08-03T15:53:29.138388Z",
     "iopub.status.busy": "2024-08-03T15:53:29.138244Z",
     "iopub.status.idle": "2024-08-03T15:53:29.148773Z",
     "shell.execute_reply": "2024-08-03T15:53:29.148481Z"
    },
    "papermill": {
     "duration": 0.017464,
     "end_time": "2024-08-03T15:53:29.149743",
     "exception": false,
     "start_time": "2024-08-03T15:53:29.132279",
     "status": "completed"
    },
    "tags": []
   },
   "outputs": [],
   "source": [
    "route = f\"../data/input/{share_name}_data.csv\"\n",
    "data = pd.read_csv(route, sep=';', parse_dates=['date', 'real_date'])\n",
    "# replace -, extend missing 0-s, fix datatype\n",
    "data = utils.replace_format_input(data)"
   ]
  },
  {
   "cell_type": "code",
   "execution_count": null,
   "id": "dc43596b",
   "metadata": {
    "execution": {
     "iopub.execute_input": "2024-08-03T15:53:29.161173Z",
     "iopub.status.busy": "2024-08-03T15:53:29.160962Z",
     "iopub.status.idle": "2024-08-03T15:53:29.165077Z",
     "shell.execute_reply": "2024-08-03T15:53:29.164807Z"
    },
    "papermill": {
     "duration": 0.010888,
     "end_time": "2024-08-03T15:53:29.165905",
     "exception": false,
     "start_time": "2024-08-03T15:53:29.155017",
     "status": "completed"
    },
    "tags": []
   },
   "outputs": [],
   "source": [
    "owned_shares = pd.read_csv('../data/extras/owned_stocks.csv', sep=';', parse_dates=['date'])\n",
    "owned_shares = owned_shares.loc[(owned_shares['stock'] == share_name) & (owned_shares['active'] == 'yes')]"
   ]
  },
  {
   "cell_type": "markdown",
   "id": "60bf1c0f",
   "metadata": {
    "papermill": {
     "duration": 0.006156,
     "end_time": "2024-08-03T15:53:29.177796",
     "exception": false,
     "start_time": "2024-08-03T15:53:29.171640",
     "status": "completed"
    },
    "tags": []
   },
   "source": [
    "## (OPTIONAL) Time Filtering - Last 7 years daat"
   ]
  },
  {
   "cell_type": "code",
   "execution_count": null,
   "id": "92197c1b",
   "metadata": {
    "execution": {
     "iopub.execute_input": "2024-08-03T15:53:29.202356Z",
     "iopub.status.busy": "2024-08-03T15:53:29.202204Z",
     "iopub.status.idle": "2024-08-03T15:53:29.211812Z",
     "shell.execute_reply": "2024-08-03T15:53:29.211554Z"
    },
    "papermill": {
     "duration": 0.02863,
     "end_time": "2024-08-03T15:53:29.212921",
     "exception": false,
     "start_time": "2024-08-03T15:53:29.184291",
     "status": "completed"
    },
    "tags": []
   },
   "outputs": [],
   "source": [
    "if evaluate_last_X_years:\n",
    "    data = data[data['date'] > datetime.datetime.today() - datetime.timedelta(days=X*366+93)]\n",
    "    data = data.reset_index(drop=True)\n",
    "\n",
    "data.head()"
   ]
  },
  {
   "cell_type": "markdown",
   "id": "a2489838",
   "metadata": {
    "papermill": {
     "duration": 0.007901,
     "end_time": "2024-08-03T15:53:29.231563",
     "exception": false,
     "start_time": "2024-08-03T15:53:29.223662",
     "status": "completed"
    },
    "tags": []
   },
   "source": [
    "## Calculate date when quaterly reports could be available"
   ]
  },
  {
   "cell_type": "code",
   "execution_count": null,
   "id": "3b901cd1",
   "metadata": {
    "execution": {
     "iopub.execute_input": "2024-08-03T15:53:29.241736Z",
     "iopub.status.busy": "2024-08-03T15:53:29.241603Z",
     "iopub.status.idle": "2024-08-03T15:53:29.243381Z",
     "shell.execute_reply": "2024-08-03T15:53:29.243115Z"
    },
    "papermill": {
     "duration": 0.007858,
     "end_time": "2024-08-03T15:53:29.244190",
     "exception": false,
     "start_time": "2024-08-03T15:53:29.236332",
     "status": "completed"
    },
    "tags": []
   },
   "outputs": [],
   "source": [
    "data = utils.calculate_real_date(data)"
   ]
  },
  {
   "cell_type": "markdown",
   "id": "c7a588e7",
   "metadata": {
    "papermill": {
     "duration": 0.00517,
     "end_time": "2024-08-03T15:53:29.254842",
     "exception": false,
     "start_time": "2024-08-03T15:53:29.249672",
     "status": "completed"
    },
    "tags": []
   },
   "source": [
    "# 2. Filter out unnecesary columns"
   ]
  },
  {
   "cell_type": "code",
   "execution_count": null,
   "id": "571d6d7c",
   "metadata": {
    "execution": {
     "iopub.execute_input": "2024-08-03T15:53:29.266389Z",
     "iopub.status.busy": "2024-08-03T15:53:29.266245Z",
     "iopub.status.idle": "2024-08-03T15:53:29.272730Z",
     "shell.execute_reply": "2024-08-03T15:53:29.272469Z"
    },
    "papermill": {
     "duration": 0.013847,
     "end_time": "2024-08-03T15:53:29.273653",
     "exception": false,
     "start_time": "2024-08-03T15:53:29.259806",
     "status": "completed"
    },
    "tags": []
   },
   "outputs": [],
   "source": [
    "data = utils.filter_raw_data(data)\n",
    "data.tail()"
   ]
  },
  {
   "cell_type": "markdown",
   "id": "e13a19c5",
   "metadata": {
    "papermill": {
     "duration": 0.005426,
     "end_time": "2024-08-03T15:53:29.285121",
     "exception": false,
     "start_time": "2024-08-03T15:53:29.279695",
     "status": "completed"
    },
    "tags": []
   },
   "source": [
    "## Pull historical average USD national currency rates and add to the dataframe"
   ]
  },
  {
   "cell_type": "code",
   "execution_count": null,
   "id": "e2a40309",
   "metadata": {
    "execution": {
     "iopub.execute_input": "2024-08-03T15:53:29.297845Z",
     "iopub.status.busy": "2024-08-03T15:53:29.297708Z",
     "iopub.status.idle": "2024-08-03T15:53:33.274489Z",
     "shell.execute_reply": "2024-08-03T15:53:33.274085Z"
    },
    "papermill": {
     "duration": 3.985079,
     "end_time": "2024-08-03T15:53:33.275885",
     "exception": false,
     "start_time": "2024-08-03T15:53:29.290806",
     "status": "completed"
    },
    "tags": []
   },
   "outputs": [],
   "source": [
    "if currency_pair != 'USD=X':\n",
    "    data['usd_nat_currency'] = utils.daily_price(\n",
    "        ticker=currency_pair,\n",
    "        end=data['date'],\n",
    "        days_earlier=90\n",
    "        )\n",
    "else:\n",
    "    data['usd_nat_currency'] = [1 for x in range(len(data))]\n",
    "\n",
    "# drop rows, when USD rates wasn't available\n",
    "data = data[data['usd_nat_currency'].notna()]\n",
    "\n",
    "data.tail()"
   ]
  },
  {
   "cell_type": "markdown",
   "id": "e2966eba",
   "metadata": {
    "papermill": {
     "duration": 0.010284,
     "end_time": "2024-08-03T15:53:33.298112",
     "exception": false,
     "start_time": "2024-08-03T15:53:33.287828",
     "status": "completed"
    },
    "tags": []
   },
   "source": [
    "## Convert USD values related to IS, BS, CFS to national currency"
   ]
  },
  {
   "cell_type": "code",
   "execution_count": null,
   "id": "8cb017d3",
   "metadata": {
    "execution": {
     "iopub.execute_input": "2024-08-03T15:53:33.320238Z",
     "iopub.status.busy": "2024-08-03T15:53:33.319867Z",
     "iopub.status.idle": "2024-08-03T15:53:33.329707Z",
     "shell.execute_reply": "2024-08-03T15:53:33.329321Z"
    },
    "papermill": {
     "duration": 0.021871,
     "end_time": "2024-08-03T15:53:33.330873",
     "exception": false,
     "start_time": "2024-08-03T15:53:33.309002",
     "status": "completed"
    },
    "tags": []
   },
   "outputs": [],
   "source": [
    "# convert columns into national currency if necessary\n",
    "if numbers_in_currency == 'USD':\n",
    "    data_nat_curr = utils.convert_national_currency(input_data=data, currency=data)\n",
    "else:\n",
    "    data_nat_curr = data.copy()\n",
    "data_nat_curr.tail()"
   ]
  },
  {
   "cell_type": "markdown",
   "id": "92e7ed8b",
   "metadata": {
    "papermill": {
     "duration": 0.008604,
     "end_time": "2024-08-03T15:53:33.348581",
     "exception": false,
     "start_time": "2024-08-03T15:53:33.339977",
     "status": "completed"
    },
    "tags": []
   },
   "source": [
    "# 3. Calculate input to Value Raios (eps, bv per share, fcf)\n",
    "## filter out unwanted columns"
   ]
  },
  {
   "cell_type": "code",
   "execution_count": null,
   "id": "ef14427b",
   "metadata": {
    "execution": {
     "iopub.execute_input": "2024-08-03T15:53:33.364997Z",
     "iopub.status.busy": "2024-08-03T15:53:33.364722Z",
     "iopub.status.idle": "2024-08-03T15:53:33.368718Z",
     "shell.execute_reply": "2024-08-03T15:53:33.368403Z"
    },
    "papermill": {
     "duration": 0.013522,
     "end_time": "2024-08-03T15:53:33.369687",
     "exception": false,
     "start_time": "2024-08-03T15:53:33.356165",
     "status": "completed"
    },
    "tags": []
   },
   "outputs": [],
   "source": [
    "filtered_nat_curr = utils.calculate_input_value_ratios(data_nat_curr, report='half-year')"
   ]
  },
  {
   "cell_type": "markdown",
   "id": "822d7ef6",
   "metadata": {
    "papermill": {
     "duration": 0.008128,
     "end_time": "2024-08-03T15:53:33.385691",
     "exception": false,
     "start_time": "2024-08-03T15:53:33.377563",
     "status": "completed"
    },
    "tags": []
   },
   "source": [
    "## Calculate input values to value ratios"
   ]
  },
  {
   "cell_type": "code",
   "execution_count": null,
   "id": "c0688ac2",
   "metadata": {
    "execution": {
     "iopub.execute_input": "2024-08-03T15:53:33.402968Z",
     "iopub.status.busy": "2024-08-03T15:53:33.402840Z",
     "iopub.status.idle": "2024-08-03T15:53:33.405191Z",
     "shell.execute_reply": "2024-08-03T15:53:33.404952Z"
    },
    "papermill": {
     "duration": 0.012374,
     "end_time": "2024-08-03T15:53:33.406062",
     "exception": false,
     "start_time": "2024-08-03T15:53:33.393688",
     "status": "completed"
    },
    "tags": []
   },
   "outputs": [],
   "source": [
    "ratios_nat_curr = utils.ratios_input_filter(filtered_nat_curr)"
   ]
  },
  {
   "cell_type": "markdown",
   "id": "73e45a54",
   "metadata": {
    "papermill": {
     "duration": 0.006223,
     "end_time": "2024-08-03T15:53:33.418253",
     "exception": false,
     "start_time": "2024-08-03T15:53:33.412030",
     "status": "completed"
    },
    "tags": []
   },
   "source": [
    "## Calculate performance parameters (current ratio, ROA, ROE, margins, D/E)"
   ]
  },
  {
   "cell_type": "code",
   "execution_count": null,
   "id": "7c330882",
   "metadata": {
    "execution": {
     "iopub.execute_input": "2024-08-03T15:53:33.430379Z",
     "iopub.status.busy": "2024-08-03T15:53:33.430247Z",
     "iopub.status.idle": "2024-08-03T15:53:33.437565Z",
     "shell.execute_reply": "2024-08-03T15:53:33.437302Z"
    },
    "papermill": {
     "duration": 0.014362,
     "end_time": "2024-08-03T15:53:33.438416",
     "exception": false,
     "start_time": "2024-08-03T15:53:33.424054",
     "status": "completed"
    },
    "tags": []
   },
   "outputs": [],
   "source": [
    "ratios_nat_curr = utils.evaluate_performance(input=filtered_nat_curr, output=ratios_nat_curr, report='half-year')"
   ]
  },
  {
   "cell_type": "markdown",
   "id": "daf4fac5",
   "metadata": {
    "papermill": {
     "duration": 0.005725,
     "end_time": "2024-08-03T15:53:33.450377",
     "exception": false,
     "start_time": "2024-08-03T15:53:33.444652",
     "status": "completed"
    },
    "tags": []
   },
   "source": [
    "# 4. Pull historical share prices and merge with sattement data"
   ]
  },
  {
   "cell_type": "code",
   "execution_count": null,
   "id": "6621b7e4",
   "metadata": {
    "execution": {
     "iopub.execute_input": "2024-08-03T15:53:33.462153Z",
     "iopub.status.busy": "2024-08-03T15:53:33.462034Z",
     "iopub.status.idle": "2024-08-03T15:53:33.713464Z",
     "shell.execute_reply": "2024-08-03T15:53:33.713098Z"
    },
    "papermill": {
     "duration": 0.25886,
     "end_time": "2024-08-03T15:53:33.714607",
     "exception": false,
     "start_time": "2024-08-03T15:53:33.455747",
     "status": "completed"
    },
    "tags": []
   },
   "outputs": [],
   "source": [
    "# pull weekly share prices and merge with the value ratios\n",
    "merged_nat_curr = utils.add_share_prices_to_value_ratios(share_name, data, ratios_nat_curr)\n",
    "merged_nat_curr.head()"
   ]
  },
  {
   "cell_type": "markdown",
   "id": "fc2132bd",
   "metadata": {
    "papermill": {
     "duration": 0.013847,
     "end_time": "2024-08-03T15:53:33.743288",
     "exception": false,
     "start_time": "2024-08-03T15:53:33.729441",
     "status": "completed"
    },
    "tags": []
   },
   "source": [
    "# Calculate price ratios (P/E, P/B, P/S, P/FCF)"
   ]
  },
  {
   "cell_type": "code",
   "execution_count": null,
   "id": "e87ebe06",
   "metadata": {
    "execution": {
     "iopub.execute_input": "2024-08-03T15:53:33.767113Z",
     "iopub.status.busy": "2024-08-03T15:53:33.766952Z",
     "iopub.status.idle": "2024-08-03T15:53:33.777581Z",
     "shell.execute_reply": "2024-08-03T15:53:33.777227Z"
    },
    "papermill": {
     "duration": 0.023014,
     "end_time": "2024-08-03T15:53:33.778494",
     "exception": false,
     "start_time": "2024-08-03T15:53:33.755480",
     "status": "completed"
    },
    "tags": []
   },
   "outputs": [],
   "source": [
    "merged_nat_curr = utils.price_ratios(merged_nat_curr, report='half-year')\n",
    "merged_nat_curr.head()"
   ]
  },
  {
   "cell_type": "markdown",
   "id": "c1990ee6",
   "metadata": {
    "papermill": {
     "duration": 0.009888,
     "end_time": "2024-08-03T15:53:33.800923",
     "exception": false,
     "start_time": "2024-08-03T15:53:33.791035",
     "status": "completed"
    },
    "tags": []
   },
   "source": [
    "# Calculate Dividend yield and currency-share price correlation"
   ]
  },
  {
   "cell_type": "code",
   "execution_count": null,
   "id": "624bbad1",
   "metadata": {
    "execution": {
     "iopub.execute_input": "2024-08-03T15:53:33.818864Z",
     "iopub.status.busy": "2024-08-03T15:53:33.818717Z",
     "iopub.status.idle": "2024-08-03T15:53:34.141008Z",
     "shell.execute_reply": "2024-08-03T15:53:34.140558Z"
    },
    "papermill": {
     "duration": 0.33113,
     "end_time": "2024-08-03T15:53:34.142538",
     "exception": false,
     "start_time": "2024-08-03T15:53:33.811408",
     "status": "completed"
    },
    "tags": []
   },
   "outputs": [],
   "source": [
    "# get daily historical USD-national currency rates\n",
    "usd_nat_curr = utils.get_historical_currency_rate(currency_pair, merged_nat_curr)"
   ]
  },
  {
   "cell_type": "code",
   "execution_count": null,
   "id": "786c01cc",
   "metadata": {
    "execution": {
     "iopub.execute_input": "2024-08-03T15:53:34.174765Z",
     "iopub.status.busy": "2024-08-03T15:53:34.174579Z",
     "iopub.status.idle": "2024-08-03T15:53:34.604165Z",
     "shell.execute_reply": "2024-08-03T15:53:34.603738Z"
    },
    "papermill": {
     "duration": 0.443576,
     "end_time": "2024-08-03T15:53:34.605271",
     "exception": false,
     "start_time": "2024-08-03T15:53:34.161695",
     "status": "completed"
    },
    "tags": []
   },
   "outputs": [],
   "source": [
    "# get share prices and dividend yield data\n",
    "ticker_all_price = utils.get_historical_share_dividend(share_name, merged_nat_curr)"
   ]
  },
  {
   "cell_type": "code",
   "execution_count": null,
   "id": "228e0efc",
   "metadata": {
    "execution": {
     "iopub.execute_input": "2024-08-03T15:53:34.626220Z",
     "iopub.status.busy": "2024-08-03T15:53:34.626082Z",
     "iopub.status.idle": "2024-08-03T15:53:34.799021Z",
     "shell.execute_reply": "2024-08-03T15:53:34.798707Z"
    },
    "papermill": {
     "duration": 0.184824,
     "end_time": "2024-08-03T15:53:34.799914",
     "exception": false,
     "start_time": "2024-08-03T15:53:34.615090",
     "status": "completed"
    },
    "tags": []
   },
   "outputs": [],
   "source": [
    "# Pearson's correlation coefficient between share price and USD - national currency rate\n",
    "utils.get_currency_share_price_correlation(share_name, usd_nat_curr, ticker_all_price)"
   ]
  },
  {
   "cell_type": "markdown",
   "id": "07079792",
   "metadata": {
    "papermill": {
     "duration": 0.008335,
     "end_time": "2024-08-03T15:53:34.815832",
     "exception": false,
     "start_time": "2024-08-03T15:53:34.807497",
     "status": "completed"
    },
    "tags": []
   },
   "source": [
    "# Share price and value ratios"
   ]
  },
  {
   "cell_type": "code",
   "execution_count": null,
   "id": "ade716d9",
   "metadata": {
    "execution": {
     "iopub.execute_input": "2024-08-03T15:53:34.829577Z",
     "iopub.status.busy": "2024-08-03T15:53:34.829364Z",
     "iopub.status.idle": "2024-08-03T15:53:39.098153Z",
     "shell.execute_reply": "2024-08-03T15:53:39.097896Z"
    },
    "papermill": {
     "duration": 4.276529,
     "end_time": "2024-08-03T15:53:39.099098",
     "exception": false,
     "start_time": "2024-08-03T15:53:34.822569",
     "status": "completed"
    },
    "tags": []
   },
   "outputs": [],
   "source": [
    "for column in merged_nat_curr.columns[3:]:\n",
    "    fig, ax1 = plt.subplots(figsize=(15, 6))\n",
    "\n",
    "    ax2 = ax1.twinx()\n",
    "    ax1.plot(merged_nat_curr['real_date'], merged_nat_curr[column], color='k', label=merged_nat_curr)\n",
    "    ax2.plot(ticker_all_price.index, ticker_all_price['Close'], color='b', label=share_name)\n",
    "\n",
    "    ax1.set_xlabel('Date')\n",
    "    ax1.set_ylabel(column, color='k')\n",
    "    ax2.set_ylabel('Share price (national currency)', color='b')\n",
    "\n",
    "    plt.legend()\n",
    "    plt.show()"
   ]
  },
  {
   "cell_type": "code",
   "execution_count": null,
   "id": "f0e00320",
   "metadata": {
    "execution": {
     "iopub.execute_input": "2024-08-03T15:53:39.139828Z",
     "iopub.status.busy": "2024-08-03T15:53:39.139688Z",
     "iopub.status.idle": "2024-08-03T15:53:39.975846Z",
     "shell.execute_reply": "2024-08-03T15:53:39.975576Z"
    },
    "papermill": {
     "duration": 0.857748,
     "end_time": "2024-08-03T15:53:39.976751",
     "exception": false,
     "start_time": "2024-08-03T15:53:39.119003",
     "status": "completed"
    },
    "tags": []
   },
   "outputs": [],
   "source": [
    "# plot histograms of value parameters\n",
    "utils.plot_histogram_value_parameters(input_df=merged_nat_curr, extra_parameters=[], owned_shares=owned_shares)"
   ]
  },
  {
   "cell_type": "markdown",
   "id": "7df21ba9",
   "metadata": {
    "papermill": {
     "duration": 0.034911,
     "end_time": "2024-08-03T15:53:40.036720",
     "exception": false,
     "start_time": "2024-08-03T15:53:40.001809",
     "status": "completed"
    },
    "tags": []
   },
   "source": [
    "## Calculate correlation between value parameters"
   ]
  },
  {
   "cell_type": "code",
   "execution_count": null,
   "id": "cb788d81",
   "metadata": {
    "execution": {
     "iopub.execute_input": "2024-08-03T15:53:40.075180Z",
     "iopub.status.busy": "2024-08-03T15:53:40.075035Z",
     "iopub.status.idle": "2024-08-03T15:53:40.081184Z",
     "shell.execute_reply": "2024-08-03T15:53:40.080887Z"
    },
    "papermill": {
     "duration": 0.026447,
     "end_time": "2024-08-03T15:53:40.082083",
     "exception": false,
     "start_time": "2024-08-03T15:53:40.055636",
     "status": "completed"
    },
    "tags": []
   },
   "outputs": [],
   "source": [
    "# calulate value parameters Pearson's correlation coefficient\n",
    "pd.DataFrame(merged_nat_curr, columns=['roa', 'roe', 'pe_ratio', 'pb_ratio', 'ps_ratio', 'ev_revenue', 'debt_to_equity', 'current_ratio']).corr()"
   ]
  },
  {
   "cell_type": "code",
   "execution_count": null,
   "id": "b93ead58",
   "metadata": {},
   "outputs": [],
   "source": [
    "final_df = utils.get_value_stock_target_prices(\n",
    "    input_df=merged_nat_curr,\n",
    "    min_pct=0.2,\n",
    "    max_pct=0.5,\n",
    "    owned_shares=owned_shares\n",
    ")"
   ]
  }
 ],
 "metadata": {
  "kernelspec": {
   "display_name": ".venv",
   "language": "python",
   "name": "python3"
  },
  "language_info": {
   "codemirror_mode": {
    "name": "ipython",
    "version": 3
   },
   "file_extension": ".py",
   "mimetype": "text/x-python",
   "name": "python",
   "nbconvert_exporter": "python",
   "pygments_lexer": "ipython3",
   "version": "3.11.3"
  },
  "papermill": {
   "default_parameters": {},
   "duration": 13.040788,
   "end_time": "2024-08-03T15:53:40.446017",
   "environment_variables": {},
   "exception": null,
   "input_path": "../notebooks/ubisoft_national.ipynb",
   "output_path": "../notebooks/ubisoft_national.ipynb",
   "parameters": {},
   "start_time": "2024-08-03T15:53:27.405229",
   "version": "2.5.0"
  }
 },
 "nbformat": 4,
 "nbformat_minor": 5
}
