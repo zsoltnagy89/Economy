{
 "cells": [
  {
   "cell_type": "code",
   "execution_count": null,
   "id": "1df57a16",
   "metadata": {
    "execution": {
     "iopub.execute_input": "2024-08-03T15:56:10.669457Z",
     "iopub.status.busy": "2024-08-03T15:56:10.669148Z",
     "iopub.status.idle": "2024-08-03T15:56:11.368489Z",
     "shell.execute_reply": "2024-08-03T15:56:11.368249Z"
    },
    "papermill": {
     "duration": 0.726246,
     "end_time": "2024-08-03T15:56:11.369700",
     "exception": false,
     "start_time": "2024-08-03T15:56:10.643454",
     "status": "completed"
    },
    "tags": []
   },
   "outputs": [],
   "source": [
    "import pandas as pd\n",
    "import matplotlib.pyplot as plt\n",
    "\n",
    "import yfinance as yf\n",
    "import datetime\n",
    "\n",
    "from valueinvesting import utils as utils"
   ]
  },
  {
   "cell_type": "markdown",
   "id": "3156f479",
   "metadata": {
    "papermill": {
     "duration": 0.005788,
     "end_time": "2024-08-03T15:56:11.384750",
     "exception": false,
     "start_time": "2024-08-03T15:56:11.378962",
     "status": "completed"
    },
    "tags": []
   },
   "source": [
    "# 1. Load raw input\n",
    "## Hardcoded block"
   ]
  },
  {
   "cell_type": "code",
   "execution_count": null,
   "id": "71178376",
   "metadata": {
    "execution": {
     "iopub.execute_input": "2024-08-03T15:56:11.401131Z",
     "iopub.status.busy": "2024-08-03T15:56:11.400927Z",
     "iopub.status.idle": "2024-08-03T15:56:11.402816Z",
     "shell.execute_reply": "2024-08-03T15:56:11.402534Z"
    },
    "papermill": {
     "duration": 0.01439,
     "end_time": "2024-08-03T15:56:11.403768",
     "exception": false,
     "start_time": "2024-08-03T15:56:11.389378",
     "status": "completed"
    },
    "tags": []
   },
   "outputs": [],
   "source": [
    "evaluate_last_X_years = True\n",
    "X=10\n",
    "currency_pair = 'DKK=X'\n",
    "numbers_in_currency = 'USD'\n",
    "share_name = 'MAERSK-B.CO'"
   ]
  },
  {
   "cell_type": "markdown",
   "id": "e482effa",
   "metadata": {
    "papermill": {
     "duration": 0.008349,
     "end_time": "2024-08-03T15:56:11.419851",
     "exception": false,
     "start_time": "2024-08-03T15:56:11.411502",
     "status": "completed"
    },
    "tags": []
   },
   "source": [
    "# 1.2. Raw input statement data"
   ]
  },
  {
   "cell_type": "code",
   "execution_count": null,
   "id": "588992d6",
   "metadata": {
    "execution": {
     "iopub.execute_input": "2024-08-03T15:56:11.445407Z",
     "iopub.status.busy": "2024-08-03T15:56:11.445238Z",
     "iopub.status.idle": "2024-08-03T15:56:11.463228Z",
     "shell.execute_reply": "2024-08-03T15:56:11.462955Z"
    },
    "papermill": {
     "duration": 0.039238,
     "end_time": "2024-08-03T15:56:11.464335",
     "exception": false,
     "start_time": "2024-08-03T15:56:11.425097",
     "status": "completed"
    },
    "tags": []
   },
   "outputs": [],
   "source": [
    "route = f\"../data/input/{share_name}_data.csv\"\n",
    "data = pd.read_csv(route, sep=';', parse_dates=['date', 'real_date'])\n",
    "# replace -, extend missing 0-s, fix datatype\n",
    "data = utils.replace_format_input(data)"
   ]
  },
  {
   "cell_type": "code",
   "execution_count": null,
   "id": "a551c890",
   "metadata": {
    "execution": {
     "iopub.execute_input": "2024-08-03T15:56:11.481673Z",
     "iopub.status.busy": "2024-08-03T15:56:11.481479Z",
     "iopub.status.idle": "2024-08-03T15:56:11.485724Z",
     "shell.execute_reply": "2024-08-03T15:56:11.485393Z"
    },
    "papermill": {
     "duration": 0.012366,
     "end_time": "2024-08-03T15:56:11.486697",
     "exception": false,
     "start_time": "2024-08-03T15:56:11.474331",
     "status": "completed"
    },
    "tags": []
   },
   "outputs": [],
   "source": [
    "owned_shares = pd.read_csv('../data/extras/owned_stocks.csv', sep=';', parse_dates=['date'])\n",
    "owned_shares = owned_shares.loc[(owned_shares['stock'] == share_name) & (owned_shares['active'] == 'yes')]"
   ]
  },
  {
   "cell_type": "markdown",
   "id": "c3e01700",
   "metadata": {
    "papermill": {
     "duration": 0.009438,
     "end_time": "2024-08-03T15:56:11.504073",
     "exception": false,
     "start_time": "2024-08-03T15:56:11.494635",
     "status": "completed"
    },
    "tags": []
   },
   "source": [
    "## (OPTIONAL) Time Filtering - Last 7 years daat"
   ]
  },
  {
   "cell_type": "code",
   "execution_count": null,
   "id": "5a790b12",
   "metadata": {
    "execution": {
     "iopub.execute_input": "2024-08-03T15:56:11.516874Z",
     "iopub.status.busy": "2024-08-03T15:56:11.516692Z",
     "iopub.status.idle": "2024-08-03T15:56:11.525344Z",
     "shell.execute_reply": "2024-08-03T15:56:11.525054Z"
    },
    "papermill": {
     "duration": 0.016639,
     "end_time": "2024-08-03T15:56:11.526458",
     "exception": false,
     "start_time": "2024-08-03T15:56:11.509819",
     "status": "completed"
    },
    "tags": []
   },
   "outputs": [],
   "source": [
    "if evaluate_last_X_years:\n",
    "    data = data[data['date'] > datetime.datetime.today() - datetime.timedelta(days=X*366+93)]\n",
    "    data = data.reset_index(drop=True)\n",
    "\n",
    "data.head()"
   ]
  },
  {
   "cell_type": "markdown",
   "id": "49ecb181",
   "metadata": {
    "papermill": {
     "duration": 0.004756,
     "end_time": "2024-08-03T15:56:11.536077",
     "exception": false,
     "start_time": "2024-08-03T15:56:11.531321",
     "status": "completed"
    },
    "tags": []
   },
   "source": [
    "## Calculate date when quaterly reports could be available"
   ]
  },
  {
   "cell_type": "code",
   "execution_count": null,
   "id": "05124f16",
   "metadata": {
    "execution": {
     "iopub.execute_input": "2024-08-03T15:56:11.547768Z",
     "iopub.status.busy": "2024-08-03T15:56:11.547639Z",
     "iopub.status.idle": "2024-08-03T15:56:11.549355Z",
     "shell.execute_reply": "2024-08-03T15:56:11.549109Z"
    },
    "papermill": {
     "duration": 0.009411,
     "end_time": "2024-08-03T15:56:11.550173",
     "exception": false,
     "start_time": "2024-08-03T15:56:11.540762",
     "status": "completed"
    },
    "tags": []
   },
   "outputs": [],
   "source": [
    "data = utils.calculate_real_date(data)"
   ]
  },
  {
   "cell_type": "markdown",
   "id": "593bfbc1",
   "metadata": {
    "papermill": {
     "duration": 0.005463,
     "end_time": "2024-08-03T15:56:11.561336",
     "exception": false,
     "start_time": "2024-08-03T15:56:11.555873",
     "status": "completed"
    },
    "tags": []
   },
   "source": [
    "# 2. Filter out unnecesary columns"
   ]
  },
  {
   "cell_type": "code",
   "execution_count": null,
   "id": "cbb9cd0a",
   "metadata": {
    "execution": {
     "iopub.execute_input": "2024-08-03T15:56:11.575946Z",
     "iopub.status.busy": "2024-08-03T15:56:11.575722Z",
     "iopub.status.idle": "2024-08-03T15:56:11.578080Z",
     "shell.execute_reply": "2024-08-03T15:56:11.577800Z"
    },
    "papermill": {
     "duration": 0.012617,
     "end_time": "2024-08-03T15:56:11.578917",
     "exception": false,
     "start_time": "2024-08-03T15:56:11.566300",
     "status": "completed"
    },
    "tags": []
   },
   "outputs": [],
   "source": [
    "data = utils.filter_raw_data(data)"
   ]
  },
  {
   "cell_type": "markdown",
   "id": "d238932b",
   "metadata": {
    "papermill": {
     "duration": 0.008648,
     "end_time": "2024-08-03T15:56:11.597192",
     "exception": false,
     "start_time": "2024-08-03T15:56:11.588544",
     "status": "completed"
    },
    "tags": []
   },
   "source": [
    "## Pull historical average USD national currency rates and add to the dataframe"
   ]
  },
  {
   "cell_type": "code",
   "execution_count": null,
   "id": "13fc2382",
   "metadata": {
    "execution": {
     "iopub.execute_input": "2024-08-03T15:56:11.616736Z",
     "iopub.status.busy": "2024-08-03T15:56:11.616435Z",
     "iopub.status.idle": "2024-08-03T15:56:19.749659Z",
     "shell.execute_reply": "2024-08-03T15:56:19.749016Z"
    },
    "papermill": {
     "duration": 8.143129,
     "end_time": "2024-08-03T15:56:19.751964",
     "exception": false,
     "start_time": "2024-08-03T15:56:11.608835",
     "status": "completed"
    },
    "tags": []
   },
   "outputs": [],
   "source": [
    "data['usd_nat_currency'] = utils.daily_price(\n",
    "    ticker=currency_pair,\n",
    "    end=data['date'],\n",
    "    days_earlier=90\n",
    "    )\n",
    "\n",
    "# drop rows, when USD rates wasn't available\n",
    "data = data[data['usd_nat_currency'].notna()]"
   ]
  },
  {
   "cell_type": "markdown",
   "id": "108d71d2",
   "metadata": {
    "papermill": {
     "duration": 0.018114,
     "end_time": "2024-08-03T15:56:19.792102",
     "exception": false,
     "start_time": "2024-08-03T15:56:19.773988",
     "status": "completed"
    },
    "tags": []
   },
   "source": [
    "## Convert USD values related to IS, BS, CFS to national currency"
   ]
  },
  {
   "cell_type": "code",
   "execution_count": null,
   "id": "a9f3a98e",
   "metadata": {
    "execution": {
     "iopub.execute_input": "2024-08-03T15:56:19.825958Z",
     "iopub.status.busy": "2024-08-03T15:56:19.825457Z",
     "iopub.status.idle": "2024-08-03T15:56:19.846519Z",
     "shell.execute_reply": "2024-08-03T15:56:19.846017Z"
    },
    "papermill": {
     "duration": 0.038253,
     "end_time": "2024-08-03T15:56:19.847870",
     "exception": false,
     "start_time": "2024-08-03T15:56:19.809617",
     "status": "completed"
    },
    "tags": []
   },
   "outputs": [],
   "source": [
    "# convert columns into national currency if necessary\n",
    "if numbers_in_currency == 'USD':\n",
    "    data_nat_curr = utils.convert_national_currency(input_data=data, currency=data)\n",
    "else:\n",
    "    data_nat_curr = data.copy()\n",
    "data_nat_curr.tail()"
   ]
  },
  {
   "cell_type": "markdown",
   "id": "1263156f",
   "metadata": {
    "papermill": {
     "duration": 0.011243,
     "end_time": "2024-08-03T15:56:19.871736",
     "exception": false,
     "start_time": "2024-08-03T15:56:19.860493",
     "status": "completed"
    },
    "tags": []
   },
   "source": [
    "# 3. Calculate input to Value Raios (eps, bv per share, fcf)\n",
    "## filter out unwanted columns"
   ]
  },
  {
   "cell_type": "code",
   "execution_count": null,
   "id": "b869cd43",
   "metadata": {
    "execution": {
     "iopub.execute_input": "2024-08-03T15:56:19.898464Z",
     "iopub.status.busy": "2024-08-03T15:56:19.898266Z",
     "iopub.status.idle": "2024-08-03T15:56:19.902653Z",
     "shell.execute_reply": "2024-08-03T15:56:19.902301Z"
    },
    "papermill": {
     "duration": 0.018965,
     "end_time": "2024-08-03T15:56:19.903832",
     "exception": false,
     "start_time": "2024-08-03T15:56:19.884867",
     "status": "completed"
    },
    "tags": []
   },
   "outputs": [],
   "source": [
    "filtered_nat_curr = utils.calculate_input_value_ratios(data_nat_curr)"
   ]
  },
  {
   "cell_type": "markdown",
   "id": "fb7db9a9",
   "metadata": {
    "papermill": {
     "duration": 0.011421,
     "end_time": "2024-08-03T15:56:19.930191",
     "exception": false,
     "start_time": "2024-08-03T15:56:19.918770",
     "status": "completed"
    },
    "tags": []
   },
   "source": [
    "## Calculate input values to value ratios"
   ]
  },
  {
   "cell_type": "code",
   "execution_count": null,
   "id": "4282e381",
   "metadata": {
    "execution": {
     "iopub.execute_input": "2024-08-03T15:56:19.952233Z",
     "iopub.status.busy": "2024-08-03T15:56:19.952051Z",
     "iopub.status.idle": "2024-08-03T15:56:19.955139Z",
     "shell.execute_reply": "2024-08-03T15:56:19.954815Z"
    },
    "papermill": {
     "duration": 0.014074,
     "end_time": "2024-08-03T15:56:19.956264",
     "exception": false,
     "start_time": "2024-08-03T15:56:19.942190",
     "status": "completed"
    },
    "tags": []
   },
   "outputs": [],
   "source": [
    "ratios_nat_curr = utils.ratios_input_filter(filtered_nat_curr)"
   ]
  },
  {
   "cell_type": "code",
   "execution_count": null,
   "id": "33398aba",
   "metadata": {
    "execution": {
     "iopub.execute_input": "2024-08-03T15:56:19.971345Z",
     "iopub.status.busy": "2024-08-03T15:56:19.971187Z",
     "iopub.status.idle": "2024-08-03T15:56:19.978720Z",
     "shell.execute_reply": "2024-08-03T15:56:19.978422Z"
    },
    "papermill": {
     "duration": 0.015711,
     "end_time": "2024-08-03T15:56:19.979689",
     "exception": false,
     "start_time": "2024-08-03T15:56:19.963978",
     "status": "completed"
    },
    "tags": []
   },
   "outputs": [],
   "source": [
    "ratios_nat_curr = utils.evaluate_performance(input=filtered_nat_curr, output=ratios_nat_curr)"
   ]
  },
  {
   "cell_type": "markdown",
   "id": "bd9d0e29",
   "metadata": {
    "papermill": {
     "duration": 0.008012,
     "end_time": "2024-08-03T15:56:19.994074",
     "exception": false,
     "start_time": "2024-08-03T15:56:19.986062",
     "status": "completed"
    },
    "tags": []
   },
   "source": [
    "# 4. Pull historical share prices and merge with sattement data\n",
    "## Pull historical share prices"
   ]
  },
  {
   "cell_type": "code",
   "execution_count": null,
   "id": "ee38042e",
   "metadata": {
    "execution": {
     "iopub.execute_input": "2024-08-03T15:56:20.011045Z",
     "iopub.status.busy": "2024-08-03T15:56:20.010899Z",
     "iopub.status.idle": "2024-08-03T15:56:20.332716Z",
     "shell.execute_reply": "2024-08-03T15:56:20.332288Z"
    },
    "papermill": {
     "duration": 0.329918,
     "end_time": "2024-08-03T15:56:20.333996",
     "exception": false,
     "start_time": "2024-08-03T15:56:20.004078",
     "status": "completed"
    },
    "tags": []
   },
   "outputs": [],
   "source": [
    "# pull weekly share prices and merge with the value ratios\n",
    "merged_nat_curr = utils.add_share_prices_to_value_ratios(share_name, data, ratios_nat_curr)\n",
    "merged_nat_curr.head()"
   ]
  },
  {
   "cell_type": "markdown",
   "id": "5a05c48b",
   "metadata": {
    "papermill": {
     "duration": 0.011254,
     "end_time": "2024-08-03T15:56:20.355384",
     "exception": false,
     "start_time": "2024-08-03T15:56:20.344130",
     "status": "completed"
    },
    "tags": []
   },
   "source": [
    "# Calculate price ratios (P/E, P/B, P/S, P/FCF)"
   ]
  },
  {
   "cell_type": "code",
   "execution_count": null,
   "id": "532c579f",
   "metadata": {
    "execution": {
     "iopub.execute_input": "2024-08-03T15:56:20.377281Z",
     "iopub.status.busy": "2024-08-03T15:56:20.377094Z",
     "iopub.status.idle": "2024-08-03T15:56:20.388183Z",
     "shell.execute_reply": "2024-08-03T15:56:20.387874Z"
    },
    "papermill": {
     "duration": 0.022993,
     "end_time": "2024-08-03T15:56:20.389168",
     "exception": false,
     "start_time": "2024-08-03T15:56:20.366175",
     "status": "completed"
    },
    "tags": []
   },
   "outputs": [],
   "source": [
    "merged_nat_curr = utils.price_ratios(merged_nat_curr)\n",
    "merged_nat_curr.head()"
   ]
  },
  {
   "cell_type": "markdown",
   "id": "7906f127",
   "metadata": {
    "papermill": {
     "duration": 0.01083,
     "end_time": "2024-08-03T15:56:20.411746",
     "exception": false,
     "start_time": "2024-08-03T15:56:20.400916",
     "status": "completed"
    },
    "tags": []
   },
   "source": [
    "# Calculate Dividend yield and currency-share price correlation"
   ]
  },
  {
   "cell_type": "code",
   "execution_count": null,
   "id": "304bdac1",
   "metadata": {
    "execution": {
     "iopub.execute_input": "2024-08-03T15:56:20.432136Z",
     "iopub.status.busy": "2024-08-03T15:56:20.431979Z",
     "iopub.status.idle": "2024-08-03T15:56:20.773409Z",
     "shell.execute_reply": "2024-08-03T15:56:20.772899Z"
    },
    "papermill": {
     "duration": 0.353272,
     "end_time": "2024-08-03T15:56:20.775203",
     "exception": false,
     "start_time": "2024-08-03T15:56:20.421931",
     "status": "completed"
    },
    "tags": []
   },
   "outputs": [],
   "source": [
    "# get daily historical USD-national currency rates\n",
    "usd_nat_curr = utils.get_historical_currency_rate(currency_pair, merged_nat_curr)"
   ]
  },
  {
   "cell_type": "code",
   "execution_count": null,
   "id": "8557ac9c",
   "metadata": {
    "execution": {
     "iopub.execute_input": "2024-08-03T15:56:20.799929Z",
     "iopub.status.busy": "2024-08-03T15:56:20.799723Z",
     "iopub.status.idle": "2024-08-03T15:56:21.297537Z",
     "shell.execute_reply": "2024-08-03T15:56:21.297276Z"
    },
    "papermill": {
     "duration": 0.511053,
     "end_time": "2024-08-03T15:56:21.298462",
     "exception": false,
     "start_time": "2024-08-03T15:56:20.787409",
     "status": "completed"
    },
    "tags": []
   },
   "outputs": [],
   "source": [
    "# get share prices and dividend yield data\n",
    "ticker_all_price = utils.get_historical_share_dividend(share_name, merged_nat_curr)"
   ]
  },
  {
   "cell_type": "code",
   "execution_count": null,
   "id": "b593655c",
   "metadata": {
    "execution": {
     "iopub.execute_input": "2024-08-03T15:56:21.323807Z",
     "iopub.status.busy": "2024-08-03T15:56:21.323695Z",
     "iopub.status.idle": "2024-08-03T15:56:21.496486Z",
     "shell.execute_reply": "2024-08-03T15:56:21.496215Z"
    },
    "papermill": {
     "duration": 0.187145,
     "end_time": "2024-08-03T15:56:21.497330",
     "exception": false,
     "start_time": "2024-08-03T15:56:21.310185",
     "status": "completed"
    },
    "tags": []
   },
   "outputs": [],
   "source": [
    "# Pearson's correlation coefficient between share price and USD - national currency rate\n",
    "utils.get_currency_share_price_correlation(share_name, usd_nat_curr, ticker_all_price)"
   ]
  },
  {
   "cell_type": "markdown",
   "id": "0e3ad731",
   "metadata": {
    "papermill": {
     "duration": 0.011084,
     "end_time": "2024-08-03T15:56:21.520568",
     "exception": false,
     "start_time": "2024-08-03T15:56:21.509484",
     "status": "completed"
    },
    "tags": []
   },
   "source": [
    "# Share price and value ratios"
   ]
  },
  {
   "cell_type": "code",
   "execution_count": null,
   "id": "05fe4a3c",
   "metadata": {
    "execution": {
     "iopub.execute_input": "2024-08-03T15:56:21.546057Z",
     "iopub.status.busy": "2024-08-03T15:56:21.545922Z",
     "iopub.status.idle": "2024-08-03T15:56:25.886460Z",
     "shell.execute_reply": "2024-08-03T15:56:25.886209Z"
    },
    "papermill": {
     "duration": 4.355953,
     "end_time": "2024-08-03T15:56:25.887395",
     "exception": false,
     "start_time": "2024-08-03T15:56:21.531442",
     "status": "completed"
    },
    "tags": []
   },
   "outputs": [],
   "source": [
    "for column in merged_nat_curr.columns[3:]:\n",
    "    fig, ax1 = plt.subplots(figsize=(15, 6))\n",
    "\n",
    "    ax2 = ax1.twinx()\n",
    "    ax1.plot(merged_nat_curr['real_date'], merged_nat_curr[column], color='k', label=merged_nat_curr)\n",
    "    ax2.plot(ticker_all_price.index, ticker_all_price['Close'], color='b', label=share_name)\n",
    "\n",
    "    ax1.set_xlabel('Date')\n",
    "    ax1.set_ylabel(column, color='k')\n",
    "    ax2.set_ylabel('Share price (national currency)', color='b')\n",
    "\n",
    "    plt.legend()\n",
    "    plt.show()"
   ]
  },
  {
   "cell_type": "code",
   "execution_count": null,
   "id": "e3c04658",
   "metadata": {
    "execution": {
     "iopub.execute_input": "2024-08-03T15:56:25.933678Z",
     "iopub.status.busy": "2024-08-03T15:56:25.933551Z",
     "iopub.status.idle": "2024-08-03T15:56:26.648726Z",
     "shell.execute_reply": "2024-08-03T15:56:26.648462Z"
    },
    "papermill": {
     "duration": 0.738033,
     "end_time": "2024-08-03T15:56:26.649570",
     "exception": false,
     "start_time": "2024-08-03T15:56:25.911537",
     "status": "completed"
    },
    "tags": []
   },
   "outputs": [],
   "source": [
    "# plot histograms of value parameters\n",
    "utils.plot_histogram_value_parameters(input_df=merged_nat_curr, extra_parameters=[], owned_shares=owned_shares)"
   ]
  },
  {
   "cell_type": "markdown",
   "id": "8b923318",
   "metadata": {
    "papermill": {
     "duration": 0.022636,
     "end_time": "2024-08-03T15:56:26.698876",
     "exception": false,
     "start_time": "2024-08-03T15:56:26.676240",
     "status": "completed"
    },
    "tags": []
   },
   "source": [
    "## Calculate correlation between value parameters"
   ]
  },
  {
   "cell_type": "code",
   "execution_count": null,
   "id": "b672d48d",
   "metadata": {
    "execution": {
     "iopub.execute_input": "2024-08-03T15:56:26.748628Z",
     "iopub.status.busy": "2024-08-03T15:56:26.748490Z",
     "iopub.status.idle": "2024-08-03T15:56:26.753431Z",
     "shell.execute_reply": "2024-08-03T15:56:26.753164Z"
    },
    "papermill": {
     "duration": 0.029804,
     "end_time": "2024-08-03T15:56:26.754240",
     "exception": false,
     "start_time": "2024-08-03T15:56:26.724436",
     "status": "completed"
    },
    "tags": []
   },
   "outputs": [],
   "source": [
    "# calulate value parameters Pearson's correlation coefficient\n",
    "pd.DataFrame(merged_nat_curr, columns=['roa', 'roe', 'pe_ratio', 'pb_ratio', 'ps_ratio', 'ev_revenue', 'debt_to_equity', 'current_ratio']).corr()"
   ]
  },
  {
   "cell_type": "code",
   "execution_count": null,
   "id": "70b210f1",
   "metadata": {},
   "outputs": [],
   "source": [
    "final_df = utils.get_value_stock_target_prices(\n",
    "    input_df=merged_nat_curr,\n",
    "    min_pct=0.2,\n",
    "    max_pct=0.5,\n",
    "    owned_shares=owned_shares\n",
    ")"
   ]
  }
 ],
 "metadata": {
  "kernelspec": {
   "display_name": ".venv",
   "language": "python",
   "name": "python3"
  },
  "language_info": {
   "codemirror_mode": {
    "name": "ipython",
    "version": 3
   },
   "file_extension": ".py",
   "mimetype": "text/x-python",
   "name": "python",
   "nbconvert_exporter": "python",
   "pygments_lexer": "ipython3",
   "version": "3.11.3"
  },
  "papermill": {
   "default_parameters": {},
   "duration": 17.419198,
   "end_time": "2024-08-03T15:56:27.096762",
   "environment_variables": {},
   "exception": null,
   "input_path": "../notebooks/maersk_national.ipynb",
   "output_path": "../notebooks/maersk_national.ipynb",
   "parameters": {},
   "start_time": "2024-08-03T15:56:09.677564",
   "version": "2.5.0"
  }
 },
 "nbformat": 4,
 "nbformat_minor": 5
}
