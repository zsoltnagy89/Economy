{
 "cells": [
  {
   "cell_type": "markdown",
   "metadata": {},
   "source": [
    "## Notebook to visualize new datatables"
   ]
  },
  {
   "cell_type": "code",
   "execution_count": 1,
   "metadata": {},
   "outputs": [],
   "source": [
    "import pandas as pd\n",
    "import numpy as np\n",
    "import matplotlib.pyplot as plt\n",
    "\n",
    "import sqlite3\n",
    "from sqlite3 import Error\n",
    "\n",
    "pd.options.mode.chained_assignment = None # not to get SettingWithCopyWarning"
   ]
  },
  {
   "cell_type": "markdown",
   "metadata": {},
   "source": [
    "## Function to use"
   ]
  },
  {
   "cell_type": "code",
   "execution_count": 2,
   "metadata": {},
   "outputs": [],
   "source": [
    "def read_data_from_sql(db_path=str, tickers=list, statements=['income_statement', 'balance_sheet']):\n",
    "   # create connection\n",
    "    connection = None\n",
    "    try:\n",
    "        connection = sqlite3.connect(db_path)\n",
    "        print(\"Connection to SQLite DB successful!\")\n",
    "    except Error as e:\n",
    "        print(f\"The error '{e}' occurred.\")\n",
    "    # read sql tables into DataFrame\n",
    "    df_list = []\n",
    "    for ticker in tickers:\n",
    "        if 'income_statement' in statements and 'balance_sheet' in statements:\n",
    "            df_is = pd.read_sql_query(\n",
    "                \"SELECT * FROM income_statement WHERE ticker = '{}'\".format(ticker),\n",
    "                con=connection\n",
    "            )\n",
    "            df_bs = pd.read_sql_query(\n",
    "                \"SELECT * FROM balance_sheet WHERE ticker = '{}'\".format(ticker),\n",
    "                con=connection\n",
    "            )\n",
    "            # merge and andd to list\n",
    "            merged_df = pd.merge(df_is, df_bs, on=['end', 'form', 'cik', 'ticker'])\n",
    "            df_list.append(merged_df)\n",
    "            # print missing data\n",
    "            if len(df_is) == 0 or len(df_bs) == 0:\n",
    "                print(\"{} has missing statements!\".format(ticker))\n",
    "        elif 'income_statement' in statements:\n",
    "            df_is = pd.read_sql_query(\n",
    "                \"SELECT * FROM {} WHERE ticker = '{}'\".format(statements[0], ticker),\n",
    "                con=connection\n",
    "            )\n",
    "            # add to list\n",
    "            df_list.append(df_is)\n",
    "            # print missing statement\n",
    "            if len(df_is) == 0:\n",
    "                print(\"{} has no income statement!\".format(ticker))\n",
    "        elif 'balance_sheet' in statements:\n",
    "            df_bs = pd.read_sql_query(\n",
    "                \"SELECT * FROM {} WHERE ticker = '{}'\".format(statements[0], ticker),\n",
    "                con=connection\n",
    "            )\n",
    "            # add to list\n",
    "            df_list.append(df_bs)\n",
    "            # print missing list\n",
    "            if len(df_bs) == 0:\n",
    "                print(\"{} has no balance sheet!\".format(ticker))\n",
    "        else:\n",
    "            print('Only IS, BS or both report are available!')\n",
    "    # concat list of DataFrames\n",
    "    result = pd.concat(df_list)\n",
    "    if len(result) > 0:\n",
    "        print('Data has been collected!')\n",
    "\n",
    "    # set datatype in DataFrame\n",
    "    for column in result.columns:\n",
    "        if column in ['end']:\n",
    "            result['end'] = pd.to_datetime(result['end'])\n",
    "        elif column not in ['cik', 'ticker', 'form', 'end']:\n",
    "            result[column] = result[column].astype(float)\n",
    "    print('Datatype has been updated!')\n",
    "\n",
    "    connection.close()\n",
    "    print('Connection closed!')\n",
    "\n",
    "    return result\n"
   ]
  },
  {
   "cell_type": "markdown",
   "metadata": {},
   "source": [
    "# 1. Load & Visualize data"
   ]
  },
  {
   "cell_type": "code",
   "execution_count": 3,
   "metadata": {},
   "outputs": [
    {
     "name": "stdout",
     "output_type": "stream",
     "text": [
      "Connection to SQLite DB successful!\n",
      "Data has been collected!\n",
      "Datatype has been updated!\n",
      "Connection closed!\n"
     ]
    }
   ],
   "source": [
    "# database path\n",
    "db_path = '../database/statements.db'\n",
    "# loader function\n",
    "data = read_data_from_sql(\n",
    "    db_path=db_path,\n",
    "    tickers=['TSN'],\n",
    "    statements=['income_statement', 'balance_sheet']    \n",
    ")"
   ]
  },
  {
   "cell_type": "code",
   "execution_count": 4,
   "metadata": {},
   "outputs": [],
   "source": [
    "form = '10-K'\n",
    "start_date = pd.Timestamp('2001-01-01')\n",
    "# filtered DataFrame\n",
    "data_filt = data.loc[(data['form'] == form) & (data['end'] > start_date), :]\n",
    "data_filt.reset_index(drop=True, inplace=True)"
   ]
  },
  {
   "cell_type": "code",
   "execution_count": 5,
   "metadata": {},
   "outputs": [],
   "source": [
    "#for column in data_filt.columns[4:]:\n",
    "#        fig, ax1 = plt.subplots(figsize=(15, 6))\n",
    "\n",
    "#        ax1.plot(data_filt['end'], data_filt[column], color='k', label=column)\n",
    "\n",
    "#        ax1.set_xlabel('Date')\n",
    "#        ax1.set_ylabel(column.upper())\n",
    "        \n",
    "#        plt.legend()\n",
    "#        plt.show()"
   ]
  }
 ],
 "metadata": {
  "kernelspec": {
   "display_name": ".venv",
   "language": "python",
   "name": "python3"
  },
  "language_info": {
   "codemirror_mode": {
    "name": "ipython",
    "version": 3
   },
   "file_extension": ".py",
   "mimetype": "text/x-python",
   "name": "python",
   "nbconvert_exporter": "python",
   "pygments_lexer": "ipython3",
   "version": "3.11.3"
  },
  "orig_nbformat": 4
 },
 "nbformat": 4,
 "nbformat_minor": 2
}
