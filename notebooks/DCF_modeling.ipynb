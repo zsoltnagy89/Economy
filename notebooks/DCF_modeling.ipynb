{
 "cells": [
  {
   "cell_type": "markdown",
   "id": "06519a21-644d-46d6-9d5a-ee7991d13f00",
   "metadata": {},
   "source": [
    "# 2. DCF modeling\n",
    "### 2.1. Forecast Revenue\n",
    "\n",
    "JAvitasi terv, ah mindenhol median-t hasznalsz...\n",
    "\n",
    "effektiv tax rate zuros kerdes"
   ]
  },
  {
   "cell_type": "code",
   "execution_count": 2,
   "id": "82165267-5168-4f02-a60c-0e3e5f79c97a",
   "metadata": {
    "tags": []
   },
   "outputs": [],
   "source": [
    "import pandas as pd\n",
    "import numpy as np\n",
    "import matplotlib.pyplot as plt\n",
    "\n",
    "from statsmodels.tsa.seasonal import seasonal_decompose\n",
    "import warnings\n",
    "from math import sqrt\n",
    "from statsmodels.tsa.arima.model import ARIMA\n",
    "from sklearn.metrics import mean_squared_error\n",
    "import statsmodels.api as sm"
   ]
  },
  {
   "cell_type": "code",
   "execution_count": 10,
   "id": "d87807d2-b630-4991-9ddb-2ee610e0c955",
   "metadata": {
    "tags": []
   },
   "outputs": [],
   "source": [
    "#load data\n",
    "path_data = '../input/TEST_K_exp.csv'\n",
    "data = pd.read_csv(path_data, sep=';', parse_dates=[2])\n",
    "# filter data\n",
    "report = 'K'\n",
    "start_date = pd.Timestamp('2016-06-01')\n",
    "data_filt = data.loc[(data['report'] == report) & (data['date'] > start_date), :]\n",
    "\n",
    "data_filt.reset_index(drop=True, inplace=True)"
   ]
  },
  {
   "cell_type": "code",
   "execution_count": 8,
   "id": "922fccab-3815-45f9-a4a3-47cd50850bd8",
   "metadata": {
    "tags": []
   },
   "outputs": [
    {
     "data": {
      "text/html": [
       "<div>\n",
       "<style scoped>\n",
       "    .dataframe tbody tr th:only-of-type {\n",
       "        vertical-align: middle;\n",
       "    }\n",
       "\n",
       "    .dataframe tbody tr th {\n",
       "        vertical-align: top;\n",
       "    }\n",
       "\n",
       "    .dataframe thead th {\n",
       "        text-align: right;\n",
       "    }\n",
       "</style>\n",
       "<table border=\"1\" class=\"dataframe\">\n",
       "  <thead>\n",
       "    <tr style=\"text-align: right;\">\n",
       "      <th></th>\n",
       "      <th>ticker</th>\n",
       "      <th>report</th>\n",
       "      <th>date</th>\n",
       "      <th>rev</th>\n",
       "      <th>cost_sale</th>\n",
       "      <th>r_d</th>\n",
       "      <th>sale_gen_adm</th>\n",
       "      <th>inpairm</th>\n",
       "      <th>other_charg</th>\n",
       "      <th>op_income</th>\n",
       "      <th>...</th>\n",
       "      <th>short_debt</th>\n",
       "      <th>acc_pay</th>\n",
       "      <th>other_curr_liab</th>\n",
       "      <th>tot_curr_liab</th>\n",
       "      <th>tot_long_debt</th>\n",
       "      <th>other_liab</th>\n",
       "      <th>tot_equity</th>\n",
       "      <th>tot_liab</th>\n",
       "      <th>depr_amort</th>\n",
       "      <th>stock_b_comp</th>\n",
       "    </tr>\n",
       "  </thead>\n",
       "  <tbody>\n",
       "    <tr>\n",
       "      <th>0</th>\n",
       "      <td>TEST</td>\n",
       "      <td>K</td>\n",
       "      <td>2018-09-02</td>\n",
       "      <td>NaN</td>\n",
       "      <td>NaN</td>\n",
       "      <td>NaN</td>\n",
       "      <td>NaN</td>\n",
       "      <td>NaN</td>\n",
       "      <td>NaN</td>\n",
       "      <td>NaN</td>\n",
       "      <td>...</td>\n",
       "      <td>90</td>\n",
       "      <td>11237</td>\n",
       "      <td>2924</td>\n",
       "      <td>19926</td>\n",
       "      <td>6487</td>\n",
       "      <td>1314</td>\n",
       "      <td>13103</td>\n",
       "      <td>27727</td>\n",
       "      <td>NaN</td>\n",
       "      <td>NaN</td>\n",
       "    </tr>\n",
       "    <tr>\n",
       "      <th>1</th>\n",
       "      <td>TEST</td>\n",
       "      <td>K</td>\n",
       "      <td>2019-09-01</td>\n",
       "      <td>152703.0</td>\n",
       "      <td>132886.0</td>\n",
       "      <td>NaN</td>\n",
       "      <td>13502.0</td>\n",
       "      <td>NaN</td>\n",
       "      <td>NaN</td>\n",
       "      <td>4737.0</td>\n",
       "      <td>...</td>\n",
       "      <td>1699</td>\n",
       "      <td>11679</td>\n",
       "      <td>3792</td>\n",
       "      <td>23237</td>\n",
       "      <td>5124</td>\n",
       "      <td>1455</td>\n",
       "      <td>15584</td>\n",
       "      <td>29816</td>\n",
       "      <td>1492.0</td>\n",
       "      <td>595.0</td>\n",
       "    </tr>\n",
       "    <tr>\n",
       "      <th>2</th>\n",
       "      <td>TEST</td>\n",
       "      <td>K</td>\n",
       "      <td>2020-08-30</td>\n",
       "      <td>166761.0</td>\n",
       "      <td>144939.0</td>\n",
       "      <td>NaN</td>\n",
       "      <td>14687.0</td>\n",
       "      <td>NaN</td>\n",
       "      <td>NaN</td>\n",
       "      <td>5435.0</td>\n",
       "      <td>...</td>\n",
       "      <td>95</td>\n",
       "      <td>14172</td>\n",
       "      <td>3728</td>\n",
       "      <td>24844</td>\n",
       "      <td>7514</td>\n",
       "      <td>1935</td>\n",
       "      <td>18705</td>\n",
       "      <td>36851</td>\n",
       "      <td>1645.0</td>\n",
       "      <td>619.0</td>\n",
       "    </tr>\n",
       "    <tr>\n",
       "      <th>3</th>\n",
       "      <td>TEST</td>\n",
       "      <td>K</td>\n",
       "      <td>2021-08-29</td>\n",
       "      <td>195929.0</td>\n",
       "      <td>170684.0</td>\n",
       "      <td>NaN</td>\n",
       "      <td>16680.0</td>\n",
       "      <td>NaN</td>\n",
       "      <td>NaN</td>\n",
       "      <td>6708.0</td>\n",
       "      <td>...</td>\n",
       "      <td>799</td>\n",
       "      <td>16278</td>\n",
       "      <td>4561</td>\n",
       "      <td>29441</td>\n",
       "      <td>6692</td>\n",
       "      <td>2415</td>\n",
       "      <td>18078</td>\n",
       "      <td>41190</td>\n",
       "      <td>1781.0</td>\n",
       "      <td>665.0</td>\n",
       "    </tr>\n",
       "  </tbody>\n",
       "</table>\n",
       "<p>4 rows × 39 columns</p>\n",
       "</div>"
      ],
      "text/plain": [
       "  ticker report       date       rev  cost_sale  r_d  sale_gen_adm  inpairm  \\\n",
       "0   TEST      K 2018-09-02       NaN        NaN  NaN           NaN      NaN   \n",
       "1   TEST      K 2019-09-01  152703.0   132886.0  NaN       13502.0      NaN   \n",
       "2   TEST      K 2020-08-30  166761.0   144939.0  NaN       14687.0      NaN   \n",
       "3   TEST      K 2021-08-29  195929.0   170684.0  NaN       16680.0      NaN   \n",
       "\n",
       "   other_charg  op_income  ...  short_debt  acc_pay  other_curr_liab  \\\n",
       "0          NaN        NaN  ...          90    11237             2924   \n",
       "1          NaN     4737.0  ...        1699    11679             3792   \n",
       "2          NaN     5435.0  ...          95    14172             3728   \n",
       "3          NaN     6708.0  ...         799    16278             4561   \n",
       "\n",
       "   tot_curr_liab  tot_long_debt  other_liab  tot_equity  tot_liab  depr_amort  \\\n",
       "0          19926           6487        1314       13103     27727         NaN   \n",
       "1          23237           5124        1455       15584     29816      1492.0   \n",
       "2          24844           7514        1935       18705     36851      1645.0   \n",
       "3          29441           6692        2415       18078     41190      1781.0   \n",
       "\n",
       "   stock_b_comp  \n",
       "0           NaN  \n",
       "1         595.0  \n",
       "2         619.0  \n",
       "3         665.0  \n",
       "\n",
       "[4 rows x 39 columns]"
      ]
     },
     "execution_count": 8,
     "metadata": {},
     "output_type": "execute_result"
    }
   ],
   "source": [
    "data_filt.head()"
   ]
  },
  {
   "cell_type": "code",
   "execution_count": 5,
   "id": "7bf887af-70e0-4f8a-9779-7a905da29b29",
   "metadata": {
    "tags": []
   },
   "outputs": [],
   "source": [
    "for column in data_filt.columns[3:]:\n",
    "    data_filt[column] = data_filt[column].astype('float')"
   ]
  },
  {
   "cell_type": "markdown",
   "id": "fd89998c-a3f3-4fcf-b53b-6e89066557de",
   "metadata": {},
   "source": [
    "I'll calculate some missing field"
   ]
  },
  {
   "cell_type": "code",
   "execution_count": 6,
   "id": "829c0f68-49b8-4bec-b1f4-0d0323827a67",
   "metadata": {
    "tags": []
   },
   "outputs": [],
   "source": [
    "def calculate_missing_columns(df):\n",
    "    df['ebitda'] = df['rev'] - df['cost_sale'] - df['sale_gen_adm'] - df['r_d'] - df['other_charg']\n",
    "    df['ebit'] = df['ebitda'] - df['depr_amort']\n",
    "    df['nopat'] = df['ebit'] - df['inc_tax_exp']\n",
    "    df['other_curr_ass_lesscash'] = df['acc_rec'] + df['invent'] + df['other_curr_ass']\n",
    "    df['tot_curr_liab_lessdebt'] = df['tot_curr_liab'] - df['short_debt']\n",
    "    df['nwc'] = df['other_curr_ass_lesscash'] - df['tot_curr_liab_lessdebt']\n",
    "    # capex calculation\n",
    "    capex = []\n",
    "    for index in range(len(df)):\n",
    "        if index > 0:\n",
    "            ppe_change = df['ppe_net'].iloc[index] - df['ppe_net'].iloc[index-1]\n",
    "            depr_amort = df['depr_amort'].iloc[index]\n",
    "            capex.append(ppe_change + depr_amort)\n",
    "        else:\n",
    "            capex.append(np.nan)\n",
    "    df['capex'] = capex\n",
    "\n",
    "    return df"
   ]
  },
  {
   "cell_type": "code",
   "execution_count": 7,
   "id": "37fb60f5-7ed9-4a0b-ae73-19ad7b323960",
   "metadata": {
    "tags": []
   },
   "outputs": [
    {
     "data": {
      "text/html": [
       "<div>\n",
       "<style scoped>\n",
       "    .dataframe tbody tr th:only-of-type {\n",
       "        vertical-align: middle;\n",
       "    }\n",
       "\n",
       "    .dataframe tbody tr th {\n",
       "        vertical-align: top;\n",
       "    }\n",
       "\n",
       "    .dataframe thead th {\n",
       "        text-align: right;\n",
       "    }\n",
       "</style>\n",
       "<table border=\"1\" class=\"dataframe\">\n",
       "  <thead>\n",
       "    <tr style=\"text-align: right;\">\n",
       "      <th></th>\n",
       "      <th>ticker</th>\n",
       "      <th>report</th>\n",
       "      <th>date</th>\n",
       "      <th>rev</th>\n",
       "      <th>cost_sale</th>\n",
       "      <th>r_d</th>\n",
       "      <th>sale_gen_adm</th>\n",
       "      <th>inpairm</th>\n",
       "      <th>other_charg</th>\n",
       "      <th>op_income</th>\n",
       "      <th>...</th>\n",
       "      <th>tot_liab</th>\n",
       "      <th>depr_amort</th>\n",
       "      <th>stock_b_comp</th>\n",
       "      <th>ebitda</th>\n",
       "      <th>ebit</th>\n",
       "      <th>nopat</th>\n",
       "      <th>other_curr_ass_lesscash</th>\n",
       "      <th>tot_curr_liab_lessdebt</th>\n",
       "      <th>nwc</th>\n",
       "      <th>capex</th>\n",
       "    </tr>\n",
       "  </thead>\n",
       "  <tbody>\n",
       "    <tr>\n",
       "      <th>0</th>\n",
       "      <td>TEST</td>\n",
       "      <td>K</td>\n",
       "      <td>2018-09-02</td>\n",
       "      <td>NaN</td>\n",
       "      <td>NaN</td>\n",
       "      <td>NaN</td>\n",
       "      <td>NaN</td>\n",
       "      <td>NaN</td>\n",
       "      <td>NaN</td>\n",
       "      <td>NaN</td>\n",
       "      <td>...</td>\n",
       "      <td>27727.0</td>\n",
       "      <td>NaN</td>\n",
       "      <td>NaN</td>\n",
       "      <td>NaN</td>\n",
       "      <td>NaN</td>\n",
       "      <td>NaN</td>\n",
       "      <td>13030.0</td>\n",
       "      <td>19836.0</td>\n",
       "      <td>-6806.0</td>\n",
       "      <td>NaN</td>\n",
       "    </tr>\n",
       "    <tr>\n",
       "      <th>1</th>\n",
       "      <td>TEST</td>\n",
       "      <td>K</td>\n",
       "      <td>2019-09-01</td>\n",
       "      <td>152703.0</td>\n",
       "      <td>132886.0</td>\n",
       "      <td>NaN</td>\n",
       "      <td>13502.0</td>\n",
       "      <td>NaN</td>\n",
       "      <td>NaN</td>\n",
       "      <td>4737.0</td>\n",
       "      <td>...</td>\n",
       "      <td>29816.0</td>\n",
       "      <td>1492.0</td>\n",
       "      <td>595.0</td>\n",
       "      <td>NaN</td>\n",
       "      <td>NaN</td>\n",
       "      <td>NaN</td>\n",
       "      <td>14041.0</td>\n",
       "      <td>21538.0</td>\n",
       "      <td>-7497.0</td>\n",
       "      <td>2701.0</td>\n",
       "    </tr>\n",
       "    <tr>\n",
       "      <th>2</th>\n",
       "      <td>TEST</td>\n",
       "      <td>K</td>\n",
       "      <td>2020-08-30</td>\n",
       "      <td>166761.0</td>\n",
       "      <td>144939.0</td>\n",
       "      <td>NaN</td>\n",
       "      <td>14687.0</td>\n",
       "      <td>NaN</td>\n",
       "      <td>NaN</td>\n",
       "      <td>5435.0</td>\n",
       "      <td>...</td>\n",
       "      <td>36851.0</td>\n",
       "      <td>1645.0</td>\n",
       "      <td>619.0</td>\n",
       "      <td>NaN</td>\n",
       "      <td>NaN</td>\n",
       "      <td>NaN</td>\n",
       "      <td>14815.0</td>\n",
       "      <td>24749.0</td>\n",
       "      <td>-9934.0</td>\n",
       "      <td>2562.0</td>\n",
       "    </tr>\n",
       "    <tr>\n",
       "      <th>3</th>\n",
       "      <td>TEST</td>\n",
       "      <td>K</td>\n",
       "      <td>2021-08-29</td>\n",
       "      <td>195929.0</td>\n",
       "      <td>170684.0</td>\n",
       "      <td>NaN</td>\n",
       "      <td>16680.0</td>\n",
       "      <td>NaN</td>\n",
       "      <td>NaN</td>\n",
       "      <td>6708.0</td>\n",
       "      <td>...</td>\n",
       "      <td>41190.0</td>\n",
       "      <td>1781.0</td>\n",
       "      <td>665.0</td>\n",
       "      <td>NaN</td>\n",
       "      <td>NaN</td>\n",
       "      <td>NaN</td>\n",
       "      <td>17330.0</td>\n",
       "      <td>28642.0</td>\n",
       "      <td>-11312.0</td>\n",
       "      <td>3466.0</td>\n",
       "    </tr>\n",
       "  </tbody>\n",
       "</table>\n",
       "<p>4 rows × 46 columns</p>\n",
       "</div>"
      ],
      "text/plain": [
       "  ticker report       date       rev  cost_sale  r_d  sale_gen_adm  inpairm  \\\n",
       "0   TEST      K 2018-09-02       NaN        NaN  NaN           NaN      NaN   \n",
       "1   TEST      K 2019-09-01  152703.0   132886.0  NaN       13502.0      NaN   \n",
       "2   TEST      K 2020-08-30  166761.0   144939.0  NaN       14687.0      NaN   \n",
       "3   TEST      K 2021-08-29  195929.0   170684.0  NaN       16680.0      NaN   \n",
       "\n",
       "   other_charg  op_income  ...  tot_liab  depr_amort  stock_b_comp  ebitda  \\\n",
       "0          NaN        NaN  ...   27727.0         NaN           NaN     NaN   \n",
       "1          NaN     4737.0  ...   29816.0      1492.0         595.0     NaN   \n",
       "2          NaN     5435.0  ...   36851.0      1645.0         619.0     NaN   \n",
       "3          NaN     6708.0  ...   41190.0      1781.0         665.0     NaN   \n",
       "\n",
       "   ebit  nopat  other_curr_ass_lesscash  tot_curr_liab_lessdebt      nwc  \\\n",
       "0   NaN    NaN                  13030.0                 19836.0  -6806.0   \n",
       "1   NaN    NaN                  14041.0                 21538.0  -7497.0   \n",
       "2   NaN    NaN                  14815.0                 24749.0  -9934.0   \n",
       "3   NaN    NaN                  17330.0                 28642.0 -11312.0   \n",
       "\n",
       "    capex  \n",
       "0     NaN  \n",
       "1  2701.0  \n",
       "2  2562.0  \n",
       "3  3466.0  \n",
       "\n",
       "[4 rows x 46 columns]"
      ]
     },
     "execution_count": 7,
     "metadata": {},
     "output_type": "execute_result"
    }
   ],
   "source": [
    "data_filt = calculate_missing_columns(data_filt)\n",
    "data_filt.head()"
   ]
  },
  {
   "cell_type": "markdown",
   "id": "fb221d67-8b87-4714-ab7b-31a0af705ec6",
   "metadata": {},
   "source": [
    "I use KEnji's estimate to reproduce calculations!!!!\n",
    "\n",
    "I should find a sofisticated method...."
   ]
  },
  {
   "cell_type": "code",
   "execution_count": 8,
   "id": "1c8ea30d-a07c-421b-b470-936d6066077c",
   "metadata": {
    "tags": []
   },
   "outputs": [],
   "source": [
    "kenji_rev_pred = [0.1, 0.1, 0.09, 0.07, 0.05]\n",
    "prediction_revenue = []\n",
    "for i, elem in enumerate(kenji_rev_pred):\n",
    "    if i == 0:\n",
    "        prediction_revenue.append(data_filt['rev'].iloc[-1] * (1 + elem))\n",
    "    else:\n",
    "        prediction_revenue.append(prediction_revenue[-1] * (1 + elem))\n",
    "        \n",
    "# df from results\n",
    "prediction = pd.DataFrame(\n",
    "    prediction_revenue,\n",
    "    index=[i+1 for i in range(len(prediction_revenue))],\n",
    "    columns=['rev']\n",
    ")"
   ]
  },
  {
   "cell_type": "code",
   "execution_count": 9,
   "id": "a2bea1da-1ce3-4faa-9e86-8ad5fce46823",
   "metadata": {
    "tags": []
   },
   "outputs": [
    {
     "data": {
      "text/html": [
       "<div>\n",
       "<style scoped>\n",
       "    .dataframe tbody tr th:only-of-type {\n",
       "        vertical-align: middle;\n",
       "    }\n",
       "\n",
       "    .dataframe tbody tr th {\n",
       "        vertical-align: top;\n",
       "    }\n",
       "\n",
       "    .dataframe thead th {\n",
       "        text-align: right;\n",
       "    }\n",
       "</style>\n",
       "<table border=\"1\" class=\"dataframe\">\n",
       "  <thead>\n",
       "    <tr style=\"text-align: right;\">\n",
       "      <th></th>\n",
       "      <th>rev</th>\n",
       "    </tr>\n",
       "  </thead>\n",
       "  <tbody>\n",
       "    <tr>\n",
       "      <th>1</th>\n",
       "      <td>215521.900000</td>\n",
       "    </tr>\n",
       "    <tr>\n",
       "      <th>2</th>\n",
       "      <td>237074.090000</td>\n",
       "    </tr>\n",
       "    <tr>\n",
       "      <th>3</th>\n",
       "      <td>258410.758100</td>\n",
       "    </tr>\n",
       "    <tr>\n",
       "      <th>4</th>\n",
       "      <td>276499.511167</td>\n",
       "    </tr>\n",
       "    <tr>\n",
       "      <th>5</th>\n",
       "      <td>290324.486725</td>\n",
       "    </tr>\n",
       "  </tbody>\n",
       "</table>\n",
       "</div>"
      ],
      "text/plain": [
       "             rev\n",
       "1  215521.900000\n",
       "2  237074.090000\n",
       "3  258410.758100\n",
       "4  276499.511167\n",
       "5  290324.486725"
      ]
     },
     "execution_count": 9,
     "metadata": {},
     "output_type": "execute_result"
    }
   ],
   "source": [
    "prediction.head()"
   ]
  },
  {
   "cell_type": "code",
   "execution_count": 10,
   "id": "5c542294-d6d6-4a5b-87e2-120d63ce3b00",
   "metadata": {
    "tags": []
   },
   "outputs": [
    {
     "data": {
      "image/png": "[encoded data removed]",
      "text/plain": [
       "<Figure size 1500x600 with 1 Axes>"
      ]
     },
     "metadata": {},
     "output_type": "display_data"
    }
   ],
   "source": [
    "fig, ax1 = plt.subplots(figsize=(15, 6))\n",
    "\n",
    "ax1.plot(data_filt['rev'].index, data_filt['rev'].values, label='Training data')\n",
    "ax1.plot(prediction.index+len(data_filt)-1, prediction['rev'], label='Prediction')\n",
    "\n",
    "ax1.set_xlabel('Quarter number')\n",
    "ax1.set_ylabel('Revenue MM USD')\n",
    "\n",
    "plt.legend()\n",
    "plt.show()"
   ]
  },
  {
   "cell_type": "markdown",
   "id": "28b7fbdb-1c49-4ed9-a86c-ffd292fa96db",
   "metadata": {},
   "source": [
    "### 2.2. Calculate ratios\n",
    "\n",
    "After the revenue prediction I calculate the expenses and use those to predict future CoS and EBITDA."
   ]
  },
  {
   "cell_type": "code",
   "execution_count": 11,
   "id": "07c412c5-7c7c-43b3-b3f9-adaa7336f421",
   "metadata": {
    "tags": []
   },
   "outputs": [],
   "source": [
    "# create a function to calculate ratios\n",
    "def calculate_margins(df, start_yrs_ago, close_yrs_ago):\n",
    "    is_incomes = ['cost_sale', 'sale_gen_adm', 'r_d', 'other_charg']\n",
    "    calc_margins = dict()\n",
    "    # filter df with input dates\n",
    "    df_filt = df.loc[\n",
    "        (df.date > pd.to_datetime('today').normalize() - pd.Timedelta(days=start_yrs_ago*365)) &\n",
    "        (df.date < pd.to_datetime('today').normalize() - pd.Timedelta(days=close_yrs_ago*365))\n",
    "        , :]\n",
    "    # plot and calculate ratios\n",
    "    for income in is_incomes:\n",
    "        if income != 'inc_tax_exp':\n",
    "            div = 'rev'\n",
    "        else:\n",
    "            div = 'inc_b_tax'\n",
    "\n",
    "        fig, ax1 = plt.subplots(figsize=(15, 6))\n",
    "\n",
    "        ax1.plot(df_filt['date'], df_filt[income]/df_filt[div], label=income.replace('_', ' ').upper())\n",
    "        ax1.axhline(y=(df_filt[income]/df_filt[div]).mean(), color='r', label='Average value')\n",
    "        \n",
    "        ax1.set_xlabel('Date')\n",
    "        ax1.set_ylabel(income.replace('_', ' ').upper())\n",
    "        \n",
    "        plt.legend()\n",
    "        plt.show()\n",
    "\n",
    "        calc_margins[income+'_margin'] = (df_filt[income]/df_filt[div]).mean()\n",
    "\n",
    "        print(str(income)+' is divided by the revenue.')\n",
    "        print('Average value: '+str((df_filt[income]/df_filt[div]).mean()))\n",
    "\n",
    "    return calc_margins"
   ]
  },
  {
   "cell_type": "code",
   "execution_count": 12,
   "id": "206f9df4-e6bd-4135-bc4b-fcfd179956e4",
   "metadata": {
    "tags": []
   },
   "outputs": [
    {
     "data": {
      "image/png": "[encoded data removed]",
      "text/plain": [
       "<Figure size 1500x600 with 1 Axes>"
      ]
     },
     "metadata": {},
     "output_type": "display_data"
    },
    {
     "name": "stdout",
     "output_type": "stream",
     "text": [
      "cost_sale is divided by the revenue.\n",
      "Average value: 0.8701731930579152\n"
     ]
    },
    {
     "data": {
      "image/png": "[encoded data removed]",
      "text/plain": [
       "<Figure size 1500x600 with 1 Axes>"
      ]
     },
     "metadata": {},
     "output_type": "display_data"
    },
    {
     "name": "stdout",
     "output_type": "stream",
     "text": [
      "sale_gen_adm is divided by the revenue.\n",
      "Average value: 0.08720834525870708\n"
     ]
    },
    {
     "data": {
      "image/png": "[encoded data removed]",
      "text/plain": [
       "<Figure size 1500x600 with 1 Axes>"
      ]
     },
     "metadata": {},
     "output_type": "display_data"
    },
    {
     "name": "stdout",
     "output_type": "stream",
     "text": [
      "r_d is divided by the revenue.\n",
      "Average value: nan\n"
     ]
    },
    {
     "data": {
      "image/png": "[encoded data removed]",
      "text/plain": [
       "<Figure size 1500x600 with 1 Axes>"
      ]
     },
     "metadata": {},
     "output_type": "display_data"
    },
    {
     "name": "stdout",
     "output_type": "stream",
     "text": [
      "other_charg is divided by the revenue.\n",
      "Average value: nan\n"
     ]
    }
   ],
   "source": [
    "start_yrs_ago = 19.5\n",
    "close_yrs_ago = 0\n",
    "\n",
    "base_case = calculate_margins(data_filt, start_yrs_ago, close_yrs_ago)"
   ]
  },
  {
   "cell_type": "markdown",
   "id": "8ccebc0b-79d5-46ea-adf5-3cde3276c340",
   "metadata": {},
   "source": [
    "I update the average value dictionary (base_case) with Kenji's numbers"
   ]
  },
  {
   "cell_type": "code",
   "execution_count": 13,
   "id": "691bb452-9519-48ae-830a-1eea71d7e00f",
   "metadata": {
    "tags": []
   },
   "outputs": [],
   "source": [
    "#base_case['cost_sale_margin'] = 0.87\n",
    "#base_case['sale_gen_adm_margin'] = 0.088"
   ]
  },
  {
   "cell_type": "code",
   "execution_count": 14,
   "id": "93349ac1-7315-4ad5-acdb-278f8de6778b",
   "metadata": {
    "tags": []
   },
   "outputs": [
    {
     "data": {
      "text/html": [
       "<div>\n",
       "<style scoped>\n",
       "    .dataframe tbody tr th:only-of-type {\n",
       "        vertical-align: middle;\n",
       "    }\n",
       "\n",
       "    .dataframe tbody tr th {\n",
       "        vertical-align: top;\n",
       "    }\n",
       "\n",
       "    .dataframe thead th {\n",
       "        text-align: right;\n",
       "    }\n",
       "</style>\n",
       "<table border=\"1\" class=\"dataframe\">\n",
       "  <thead>\n",
       "    <tr style=\"text-align: right;\">\n",
       "      <th></th>\n",
       "      <th>rev</th>\n",
       "      <th>cost_sale</th>\n",
       "      <th>sale_gen_adm</th>\n",
       "      <th>r_d</th>\n",
       "      <th>other_charg</th>\n",
       "    </tr>\n",
       "  </thead>\n",
       "  <tbody>\n",
       "    <tr>\n",
       "      <th>1</th>\n",
       "      <td>215521.900000</td>\n",
       "      <td>187541.379897</td>\n",
       "      <td>18795.308266</td>\n",
       "      <td>NaN</td>\n",
       "      <td>NaN</td>\n",
       "    </tr>\n",
       "    <tr>\n",
       "      <th>2</th>\n",
       "      <td>237074.090000</td>\n",
       "      <td>206295.517887</td>\n",
       "      <td>20674.839093</td>\n",
       "      <td>NaN</td>\n",
       "      <td>NaN</td>\n",
       "    </tr>\n",
       "    <tr>\n",
       "      <th>3</th>\n",
       "      <td>258410.758100</td>\n",
       "      <td>224862.114496</td>\n",
       "      <td>22535.574611</td>\n",
       "      <td>NaN</td>\n",
       "      <td>NaN</td>\n",
       "    </tr>\n",
       "    <tr>\n",
       "      <th>4</th>\n",
       "      <td>276499.511167</td>\n",
       "      <td>240602.462511</td>\n",
       "      <td>24113.064834</td>\n",
       "      <td>NaN</td>\n",
       "      <td>NaN</td>\n",
       "    </tr>\n",
       "    <tr>\n",
       "      <th>5</th>\n",
       "      <td>290324.486725</td>\n",
       "      <td>252632.585637</td>\n",
       "      <td>25318.718075</td>\n",
       "      <td>NaN</td>\n",
       "      <td>NaN</td>\n",
       "    </tr>\n",
       "  </tbody>\n",
       "</table>\n",
       "</div>"
      ],
      "text/plain": [
       "             rev      cost_sale  sale_gen_adm  r_d  other_charg\n",
       "1  215521.900000  187541.379897  18795.308266  NaN          NaN\n",
       "2  237074.090000  206295.517887  20674.839093  NaN          NaN\n",
       "3  258410.758100  224862.114496  22535.574611  NaN          NaN\n",
       "4  276499.511167  240602.462511  24113.064834  NaN          NaN\n",
       "5  290324.486725  252632.585637  25318.718075  NaN          NaN"
      ]
     },
     "execution_count": 14,
     "metadata": {},
     "output_type": "execute_result"
    }
   ],
   "source": [
    "#prediction['ebit'] = prediction['ebitda'] - prediction['depr_amort']\n",
    "for column in ['cost_sale', 'sale_gen_adm', 'r_d', 'other_charg']:\n",
    "    prediction[column] = prediction['rev'] * base_case[column+'_margin']\n",
    "\n",
    "prediction.tail()"
   ]
  },
  {
   "cell_type": "markdown",
   "id": "94a90df8-1343-48ae-a0a3-a6a11eb8c4eb",
   "metadata": {},
   "source": [
    "## 2.3. Calculate Fixed Assets\n",
    "\n",
    "It's time to calculate D&A costs.\n",
    "\n",
    "I will predict the PPE, D&A and CapEx values together."
   ]
  },
  {
   "cell_type": "code",
   "execution_count": 15,
   "id": "0a097f95-e287-4198-9760-cdeeeef05e5e",
   "metadata": {
    "tags": []
   },
   "outputs": [],
   "source": [
    "fixed_asset = data_filt.loc[:, ['ppe_net', 'depr_amort']]"
   ]
  },
  {
   "cell_type": "code",
   "execution_count": 16,
   "id": "ea90af30-a746-498b-a2ad-c2e7790b1569",
   "metadata": {
    "tags": []
   },
   "outputs": [],
   "source": [
    "fixed_asset['ppe_net_start'] = [fixed_asset['ppe_net'].values[i-1] if i > 0 else np.nan for i, elem in enumerate(fixed_asset['ppe_net'].values)]\n",
    "fixed_asset['capex'] = fixed_asset['ppe_net'] - fixed_asset['ppe_net_start'] + fixed_asset['depr_amort']"
   ]
  },
  {
   "cell_type": "code",
   "execution_count": 17,
   "id": "6ba34cc8-c4c9-41ea-8a41-6f2ecf2a5caf",
   "metadata": {
    "tags": []
   },
   "outputs": [
    {
     "data": {
      "text/html": [
       "<div>\n",
       "<style scoped>\n",
       "    .dataframe tbody tr th:only-of-type {\n",
       "        vertical-align: middle;\n",
       "    }\n",
       "\n",
       "    .dataframe tbody tr th {\n",
       "        vertical-align: top;\n",
       "    }\n",
       "\n",
       "    .dataframe thead th {\n",
       "        text-align: right;\n",
       "    }\n",
       "</style>\n",
       "<table border=\"1\" class=\"dataframe\">\n",
       "  <thead>\n",
       "    <tr style=\"text-align: right;\">\n",
       "      <th></th>\n",
       "      <th>ppe_net</th>\n",
       "      <th>depr_amort</th>\n",
       "      <th>ppe_net_start</th>\n",
       "      <th>capex</th>\n",
       "    </tr>\n",
       "  </thead>\n",
       "  <tbody>\n",
       "    <tr>\n",
       "      <th>0</th>\n",
       "      <td>19681.0</td>\n",
       "      <td>NaN</td>\n",
       "      <td>NaN</td>\n",
       "      <td>NaN</td>\n",
       "    </tr>\n",
       "    <tr>\n",
       "      <th>1</th>\n",
       "      <td>20890.0</td>\n",
       "      <td>1492.0</td>\n",
       "      <td>19681.0</td>\n",
       "      <td>2701.0</td>\n",
       "    </tr>\n",
       "    <tr>\n",
       "      <th>2</th>\n",
       "      <td>21807.0</td>\n",
       "      <td>1645.0</td>\n",
       "      <td>20890.0</td>\n",
       "      <td>2562.0</td>\n",
       "    </tr>\n",
       "    <tr>\n",
       "      <th>3</th>\n",
       "      <td>23492.0</td>\n",
       "      <td>1781.0</td>\n",
       "      <td>21807.0</td>\n",
       "      <td>3466.0</td>\n",
       "    </tr>\n",
       "  </tbody>\n",
       "</table>\n",
       "</div>"
      ],
      "text/plain": [
       "   ppe_net  depr_amort  ppe_net_start   capex\n",
       "0  19681.0         NaN            NaN     NaN\n",
       "1  20890.0      1492.0        19681.0  2701.0\n",
       "2  21807.0      1645.0        20890.0  2562.0\n",
       "3  23492.0      1781.0        21807.0  3466.0"
      ]
     },
     "execution_count": 17,
     "metadata": {},
     "output_type": "execute_result"
    }
   ],
   "source": [
    "fixed_asset.head()"
   ]
  },
  {
   "cell_type": "code",
   "execution_count": 18,
   "id": "0429467b-ae27-43e5-93f1-0e84d5c0b6d1",
   "metadata": {
    "tags": []
   },
   "outputs": [],
   "source": [
    "def fixed_asset_ratios():\n",
    "    fixed_asset_ratios = dict()\n",
    "    # D&A ratio\n",
    "    for column in ['depr_amort', 'capex']:\n",
    "        ratio = fixed_asset[column]/fixed_asset['ppe_net_start']\n",
    "        ratio.hist()\n",
    "        plt.show()\n",
    "        fixed_asset_ratios[column+'_ratio'] = ratio.mean()\n",
    "        print('Average value is', fixed_asset_ratios[column+'_ratio'])\n",
    "    return fixed_asset_ratios\n"
   ]
  },
  {
   "cell_type": "code",
   "execution_count": 19,
   "id": "affe63f1-da5e-4ac2-9421-290b6535c999",
   "metadata": {
    "tags": []
   },
   "outputs": [
    {
     "data": {
      "image/png": "[encoded data removed]",
      "text/plain": [
       "<Figure size 640x480 with 1 Axes>"
      ]
     },
     "metadata": {},
     "output_type": "display_data"
    },
    {
     "name": "stdout",
     "output_type": "stream",
     "text": [
      "Average value is 0.07874199683260606\n"
     ]
    },
    {
     "data": {
      "image/png": "[encoded data removed]",
      "text/plain": [
       "<Figure size 640x480 with 1 Axes>"
      ]
     },
     "metadata": {},
     "output_type": "display_data"
    },
    {
     "name": "stdout",
     "output_type": "stream",
     "text": [
      "Average value is 0.13960705468273601\n"
     ]
    }
   ],
   "source": [
    "fxd_ass_ratios = fixed_asset_ratios()"
   ]
  },
  {
   "cell_type": "markdown",
   "id": "90e688b0-4331-4798-9fe4-50b0e562fb34",
   "metadata": {},
   "source": [
    "If average vslues are far from distribution you can overwrite them with median.\n",
    "\n",
    "I use Kenji's avg values to reprod his calculation\n"
   ]
  },
  {
   "cell_type": "code",
   "execution_count": 32,
   "id": "e2779f9b-3ae3-461a-b2ab-6f84995f7413",
   "metadata": {
    "tags": []
   },
   "outputs": [
    {
     "data": {
      "text/plain": [
       "{'depr_amort_ratio': 0.076, 'capex_ratio': 0.15}"
      ]
     },
     "execution_count": 32,
     "metadata": {},
     "output_type": "execute_result"
    }
   ],
   "source": [
    "fxd_ass_ratios['depr_amort_ratio'] = 0.076\n",
    "fxd_ass_ratios['capex_ratio'] = 0.15\n",
    "fxd_ass_ratios"
   ]
  },
  {
   "cell_type": "code",
   "execution_count": 33,
   "id": "4fd6e100-021a-478b-a7eb-5404769a5fcc",
   "metadata": {
    "tags": []
   },
   "outputs": [],
   "source": [
    "def predict_fixed_assets(raw_df, prediction_df, fxd_ass_ratios):\n",
    "    ppe_start_pred = [raw_df['ppe_net'].iloc[-1]]\n",
    "    depr_amort_pred = []\n",
    "    capex_pred = []\n",
    "    ppe_net = []\n",
    "    for index in range(len(prediction_df)):\n",
    "        depr_amort_pred.append(ppe_start_pred[-1] * fxd_ass_ratios['depr_amort_ratio'])\n",
    "        capex_pred.append(ppe_start_pred[-1] * fxd_ass_ratios['capex_ratio'])\n",
    "        ppe_net.append(ppe_start_pred[-1] - depr_amort_pred[-1] + capex_pred[-1])\n",
    "        ppe_start_pred.append(ppe_net[-1])\n",
    "    \n",
    "    prediction_df['depr_amort'] = depr_amort_pred\n",
    "    prediction_df['capex'] = capex_pred\n",
    "    prediction_df['ppe_net'] = ppe_net\n",
    "    return prediction_df"
   ]
  },
  {
   "cell_type": "code",
   "execution_count": 34,
   "id": "feca2bb7-1556-47ec-9710-10f18fd20290",
   "metadata": {
    "tags": []
   },
   "outputs": [
    {
     "data": {
      "text/html": [
       "<div>\n",
       "<style scoped>\n",
       "    .dataframe tbody tr th:only-of-type {\n",
       "        vertical-align: middle;\n",
       "    }\n",
       "\n",
       "    .dataframe tbody tr th {\n",
       "        vertical-align: top;\n",
       "    }\n",
       "\n",
       "    .dataframe thead th {\n",
       "        text-align: right;\n",
       "    }\n",
       "</style>\n",
       "<table border=\"1\" class=\"dataframe\">\n",
       "  <thead>\n",
       "    <tr style=\"text-align: right;\">\n",
       "      <th></th>\n",
       "      <th>rev</th>\n",
       "      <th>cost_sale</th>\n",
       "      <th>sale_gen_adm</th>\n",
       "      <th>r_d</th>\n",
       "      <th>other_charg</th>\n",
       "      <th>depr_amort</th>\n",
       "      <th>capex</th>\n",
       "      <th>ppe_net</th>\n",
       "    </tr>\n",
       "  </thead>\n",
       "  <tbody>\n",
       "    <tr>\n",
       "      <th>1</th>\n",
       "      <td>215521.900000</td>\n",
       "      <td>187541.379897</td>\n",
       "      <td>18795.308266</td>\n",
       "      <td>NaN</td>\n",
       "      <td>NaN</td>\n",
       "      <td>1785.392000</td>\n",
       "      <td>3523.800000</td>\n",
       "      <td>25230.408000</td>\n",
       "    </tr>\n",
       "    <tr>\n",
       "      <th>2</th>\n",
       "      <td>237074.090000</td>\n",
       "      <td>206295.517887</td>\n",
       "      <td>20674.839093</td>\n",
       "      <td>NaN</td>\n",
       "      <td>NaN</td>\n",
       "      <td>1917.511008</td>\n",
       "      <td>3784.561200</td>\n",
       "      <td>27097.458192</td>\n",
       "    </tr>\n",
       "    <tr>\n",
       "      <th>3</th>\n",
       "      <td>258410.758100</td>\n",
       "      <td>224862.114496</td>\n",
       "      <td>22535.574611</td>\n",
       "      <td>NaN</td>\n",
       "      <td>NaN</td>\n",
       "      <td>2059.406823</td>\n",
       "      <td>4064.618729</td>\n",
       "      <td>29102.670098</td>\n",
       "    </tr>\n",
       "    <tr>\n",
       "      <th>4</th>\n",
       "      <td>276499.511167</td>\n",
       "      <td>240602.462511</td>\n",
       "      <td>24113.064834</td>\n",
       "      <td>NaN</td>\n",
       "      <td>NaN</td>\n",
       "      <td>2211.802927</td>\n",
       "      <td>4365.400515</td>\n",
       "      <td>31256.267685</td>\n",
       "    </tr>\n",
       "    <tr>\n",
       "      <th>5</th>\n",
       "      <td>290324.486725</td>\n",
       "      <td>252632.585637</td>\n",
       "      <td>25318.718075</td>\n",
       "      <td>NaN</td>\n",
       "      <td>NaN</td>\n",
       "      <td>2375.476344</td>\n",
       "      <td>4688.440153</td>\n",
       "      <td>33569.231494</td>\n",
       "    </tr>\n",
       "  </tbody>\n",
       "</table>\n",
       "</div>"
      ],
      "text/plain": [
       "             rev      cost_sale  sale_gen_adm  r_d  other_charg   depr_amort  \\\n",
       "1  215521.900000  187541.379897  18795.308266  NaN          NaN  1785.392000   \n",
       "2  237074.090000  206295.517887  20674.839093  NaN          NaN  1917.511008   \n",
       "3  258410.758100  224862.114496  22535.574611  NaN          NaN  2059.406823   \n",
       "4  276499.511167  240602.462511  24113.064834  NaN          NaN  2211.802927   \n",
       "5  290324.486725  252632.585637  25318.718075  NaN          NaN  2375.476344   \n",
       "\n",
       "         capex       ppe_net  \n",
       "1  3523.800000  25230.408000  \n",
       "2  3784.561200  27097.458192  \n",
       "3  4064.618729  29102.670098  \n",
       "4  4365.400515  31256.267685  \n",
       "5  4688.440153  33569.231494  "
      ]
     },
     "execution_count": 34,
     "metadata": {},
     "output_type": "execute_result"
    }
   ],
   "source": [
    "prediction = predict_fixed_assets(data_filt, prediction, fxd_ass_ratios)\n",
    "prediction.head()"
   ]
  },
  {
   "cell_type": "markdown",
   "id": "1cb2a7bf-da20-49c9-8ffe-dfa734f2f286",
   "metadata": {},
   "source": [
    "## 2.4. Calculate EBITDA, EBIT, NOPAT\n",
    "\n",
    "I use the first function"
   ]
  },
  {
   "cell_type": "code",
   "execution_count": 35,
   "id": "69f98bed-2c9b-48b7-a581-919df2260985",
   "metadata": {
    "tags": []
   },
   "outputs": [
    {
     "data": {
      "image/png": "[encoded data removed]",
      "text/plain": [
       "<Figure size 640x480 with 1 Axes>"
      ]
     },
     "metadata": {},
     "output_type": "display_data"
    },
    {
     "name": "stdout",
     "output_type": "stream",
     "text": [
      "Effective tax rate is nan\n"
     ]
    }
   ],
   "source": [
    "# calculate and plot eff tax rate\n",
    "eff_tax_rate = (data_filt['inc_tax_exp']/data_filt['ebit']).mean()\n",
    "(data_filt['inc_tax_exp']/data_filt['ebit']).hist(range=[0, 1])\n",
    "plt.show()\n",
    "print('Effective tax rate is', eff_tax_rate)\n",
    "# From 2017 the tax rate was reduced to 21% from 35%\n",
    "eff_tax_rate = 0.21"
   ]
  },
  {
   "cell_type": "code",
   "execution_count": 42,
   "id": "409c3a19-6e7b-49ed-aaf6-8960bba83761",
   "metadata": {
    "tags": []
   },
   "outputs": [],
   "source": [
    "def calculate_ebitda_ebit_nopat(raw_df, prediction_df, eff_tax_rate):\n",
    "    # if R&D or Other expenses missing itt will add nan, I hae to replace nan with 0\n",
    "    prediction_df['r_d'] = prediction_df['r_d'].fillna(0.0)\n",
    "    prediction_df['other_charg'] = prediction_df['other_charg'].fillna(0.0)\n",
    "    prediction_df['ebitda'] = prediction_df['rev'] - prediction_df['cost_sale'] - prediction_df['sale_gen_adm'] - prediction_df['r_d'] - prediction_df['other_charg']\n",
    "    prediction_df['ebit'] = prediction_df['ebitda'] - prediction_df['depr_amort']\n",
    "    prediction_df['nopat'] = prediction_df['ebit'] - (prediction_df['ebit'] * eff_tax_rate)\n",
    "    return prediction_df"
   ]
  },
  {
   "cell_type": "code",
   "execution_count": 43,
   "id": "6391cd30-8600-4ac5-8645-f203353416a4",
   "metadata": {
    "tags": []
   },
   "outputs": [
    {
     "data": {
      "text/html": [
       "<div>\n",
       "<style scoped>\n",
       "    .dataframe tbody tr th:only-of-type {\n",
       "        vertical-align: middle;\n",
       "    }\n",
       "\n",
       "    .dataframe tbody tr th {\n",
       "        vertical-align: top;\n",
       "    }\n",
       "\n",
       "    .dataframe thead th {\n",
       "        text-align: right;\n",
       "    }\n",
       "</style>\n",
       "<table border=\"1\" class=\"dataframe\">\n",
       "  <thead>\n",
       "    <tr style=\"text-align: right;\">\n",
       "      <th></th>\n",
       "      <th>rev</th>\n",
       "      <th>cost_sale</th>\n",
       "      <th>sale_gen_adm</th>\n",
       "      <th>r_d</th>\n",
       "      <th>other_charg</th>\n",
       "      <th>depr_amort</th>\n",
       "      <th>capex</th>\n",
       "      <th>ppe_net</th>\n",
       "      <th>ebitda</th>\n",
       "      <th>ebit</th>\n",
       "      <th>nopat</th>\n",
       "    </tr>\n",
       "  </thead>\n",
       "  <tbody>\n",
       "    <tr>\n",
       "      <th>1</th>\n",
       "      <td>215521.900000</td>\n",
       "      <td>187541.379897</td>\n",
       "      <td>18795.308266</td>\n",
       "      <td>0.0</td>\n",
       "      <td>0.0</td>\n",
       "      <td>1785.392000</td>\n",
       "      <td>3523.800000</td>\n",
       "      <td>25230.408000</td>\n",
       "      <td>9185.211837</td>\n",
       "      <td>7399.819837</td>\n",
       "      <td>5845.857671</td>\n",
       "    </tr>\n",
       "    <tr>\n",
       "      <th>2</th>\n",
       "      <td>237074.090000</td>\n",
       "      <td>206295.517887</td>\n",
       "      <td>20674.839093</td>\n",
       "      <td>0.0</td>\n",
       "      <td>0.0</td>\n",
       "      <td>1917.511008</td>\n",
       "      <td>3784.561200</td>\n",
       "      <td>27097.458192</td>\n",
       "      <td>10103.733021</td>\n",
       "      <td>8186.222013</td>\n",
       "      <td>6467.115390</td>\n",
       "    </tr>\n",
       "    <tr>\n",
       "      <th>3</th>\n",
       "      <td>258410.758100</td>\n",
       "      <td>224862.114496</td>\n",
       "      <td>22535.574611</td>\n",
       "      <td>0.0</td>\n",
       "      <td>0.0</td>\n",
       "      <td>2059.406823</td>\n",
       "      <td>4064.618729</td>\n",
       "      <td>29102.670098</td>\n",
       "      <td>11013.068993</td>\n",
       "      <td>8953.662170</td>\n",
       "      <td>7073.393114</td>\n",
       "    </tr>\n",
       "    <tr>\n",
       "      <th>4</th>\n",
       "      <td>276499.511167</td>\n",
       "      <td>240602.462511</td>\n",
       "      <td>24113.064834</td>\n",
       "      <td>0.0</td>\n",
       "      <td>0.0</td>\n",
       "      <td>2211.802927</td>\n",
       "      <td>4365.400515</td>\n",
       "      <td>31256.267685</td>\n",
       "      <td>11783.983822</td>\n",
       "      <td>9572.180895</td>\n",
       "      <td>7562.022907</td>\n",
       "    </tr>\n",
       "    <tr>\n",
       "      <th>5</th>\n",
       "      <td>290324.486725</td>\n",
       "      <td>252632.585637</td>\n",
       "      <td>25318.718075</td>\n",
       "      <td>0.0</td>\n",
       "      <td>0.0</td>\n",
       "      <td>2375.476344</td>\n",
       "      <td>4688.440153</td>\n",
       "      <td>33569.231494</td>\n",
       "      <td>12373.183013</td>\n",
       "      <td>9997.706669</td>\n",
       "      <td>7898.188269</td>\n",
       "    </tr>\n",
       "  </tbody>\n",
       "</table>\n",
       "</div>"
      ],
      "text/plain": [
       "             rev      cost_sale  sale_gen_adm  r_d  other_charg   depr_amort  \\\n",
       "1  215521.900000  187541.379897  18795.308266  0.0          0.0  1785.392000   \n",
       "2  237074.090000  206295.517887  20674.839093  0.0          0.0  1917.511008   \n",
       "3  258410.758100  224862.114496  22535.574611  0.0          0.0  2059.406823   \n",
       "4  276499.511167  240602.462511  24113.064834  0.0          0.0  2211.802927   \n",
       "5  290324.486725  252632.585637  25318.718075  0.0          0.0  2375.476344   \n",
       "\n",
       "         capex       ppe_net        ebitda         ebit        nopat  \n",
       "1  3523.800000  25230.408000   9185.211837  7399.819837  5845.857671  \n",
       "2  3784.561200  27097.458192  10103.733021  8186.222013  6467.115390  \n",
       "3  4064.618729  29102.670098  11013.068993  8953.662170  7073.393114  \n",
       "4  4365.400515  31256.267685  11783.983822  9572.180895  7562.022907  \n",
       "5  4688.440153  33569.231494  12373.183013  9997.706669  7898.188269  "
      ]
     },
     "execution_count": 43,
     "metadata": {},
     "output_type": "execute_result"
    }
   ],
   "source": [
    "prediction = calculate_ebitda_ebit_nopat(data_filt, prediction, eff_tax_rate)\n",
    "prediction.head()"
   ]
  },
  {
   "cell_type": "markdown",
   "id": "ff12d770-9d5f-4db2-8895-26f3830308dc",
   "metadata": {},
   "source": [
    "# !!! INNEN FOLYTASD EDDIG NAGYJABOL JO !!!\n",
    "\n",
    "## Kenji's video --> 5:30"
   ]
  },
  {
   "cell_type": "markdown",
   "id": "5c914334-ee4b-4391-90e7-732a96600903",
   "metadata": {},
   "source": [
    "## 2.5. Function to plot Prediction vs Historical data"
   ]
  },
  {
   "cell_type": "code",
   "execution_count": null,
   "id": "18e50f6d-f4d6-4d86-ba95-561993a8e853",
   "metadata": {
    "tags": []
   },
   "outputs": [],
   "source": [
    "def plot_hist_pred(hist_df, pred_df):\n",
    "    # reset index\n",
    "    pred_df.index = pred_df.index + hist_df.index[-1]\n",
    "    \n",
    "    for column in pred_df.columns:\n",
    "        try:\n",
    "            fig, ax1 = plt.subplots(figsize=(15, 6))\n",
    "\n",
    "            ax1.plot(hist_df.index, hist_df[column], color='k', label='Historical data')\n",
    "            ax1.plot(pred_df.index, pred_df[column], color='r', label='Predicted values')\n",
    "\n",
    "            ax1.set_xlabel('Index')\n",
    "            ax1.set_ylabel(column.replace('_', ' ').upper())\n",
    "\n",
    "            plt.legend()\n",
    "            plt.show()\n",
    "        except:\n",
    "            continue"
   ]
  },
  {
   "cell_type": "markdown",
   "id": "1fc3d6bd-cb03-4edf-bb22-3bde2fbbd2c8",
   "metadata": {},
   "source": [
    "## 2.6. Calculate Net Working Capital\n",
    "\n",
    "To get this we have to forecast the current assets and liabilities.\n",
    "I will use ratios to predict them:\n",
    "- Days Sales Outstanding (dso) --> (Account recivable / Revenue) * 360\n",
    "- Days Inventory Out. (dio) --> (Inventory / Cost of General Sale) * 360\n",
    "- Other current assets per revenue (oca_rev) --> Other current assets / revenue\n",
    "- Current liabilities per revenue (tcl_rec) --> (Total current liabilities - current debt) / revenue"
   ]
  },
  {
   "cell_type": "code",
   "execution_count": null,
   "id": "f81c6b9d-6678-4b17-b45d-8aa93d8dde46",
   "metadata": {
    "tags": []
   },
   "outputs": [],
   "source": [
    "nwc = data_filt.loc[:, ['rev', 'cost_sale', 'acc_rec', 'invent', 'other_curr_ass', 'short_debt', 'tot_curr_liab']]\n",
    "nwc.columns"
   ]
  },
  {
   "cell_type": "code",
   "execution_count": null,
   "id": "97fdbf0e-eddb-4aaf-bc9b-da35abafbb11",
   "metadata": {
    "tags": []
   },
   "outputs": [],
   "source": [
    "def calculate_nwc_ratios(df):\n",
    "    result = dict()\n",
    "    # Days Sales Outstanding (dso)\n",
    "    dso = (df['acc_rec'] / df['rev']) * 360\n",
    "    dso.hist()\n",
    "    plt.show()\n",
    "\n",
    "    result['dso'] = dso.mean()\n",
    "    print(result['dso'])\n",
    "    #Days Inventory Out. (dis)\n",
    "    dio = (df['invent'] / df['cost_sale']) * 360\n",
    "    dio.hist()\n",
    "    plt.show()\n",
    "\n",
    "    result['dio'] = dio.mean()\n",
    "    print(result['dio'])\n",
    "    #Other current assets per revenue --> oca_rev\n",
    "    oca_rev = df['other_curr_ass'] / df['rev']\n",
    "    oca_rev.hist()\n",
    "    plt.show()\n",
    "\n",
    "    result['oca_rev'] = oca_rev.mean()\n",
    "    print(result['oca_rev'])\n",
    "    #Current liabilities per revenue --> tcl_rec\n",
    "    tcl_rec = (df['tot_curr_liab'] - df['short_debt']) / df['rev']\n",
    "    tcl_rec.hist()\n",
    "    plt.show()\n",
    "\n",
    "    result['tcl_rec'] = tcl_rec.mean()\n",
    "    print(result['tcl_rec'])\n",
    "    \n",
    "    return result"
   ]
  },
  {
   "cell_type": "code",
   "execution_count": null,
   "id": "a6f67efd-cfc2-424d-afbc-34753494dcca",
   "metadata": {
    "tags": []
   },
   "outputs": [],
   "source": [
    "nwc_ratios = calculate_nwc_ratios(nwc)"
   ]
  },
  {
   "cell_type": "code",
   "execution_count": null,
   "id": "d03d332c-af9b-4270-be65-f53b5330b3b6",
   "metadata": {
    "tags": []
   },
   "outputs": [],
   "source": [
    "def predict_curr_ass_liab(df_prediction, nwc_ratios):\n",
    "    df_prediction['acc_rec'] = (df_prediction['rev'] * nwc_ratios['dso']) / 360\n",
    "    df_prediction['invent'] = (df_prediction['cost_sale'] * nwc_ratios['dio']) / 360\n",
    "    df_prediction['other_curr_ass'] = df_prediction['rev'] * nwc_ratios['oca_rev']\n",
    "    df_prediction['other_curr_ass_lesscash'] = df_prediction['acc_rec'] + df_prediction['invent'] + df_prediction['other_curr_ass']\n",
    "    df_prediction['tot_curr_liab_lessdebt'] = df_prediction['rev'] * nwc_ratios['tcl_rec']\n",
    "    df_prediction['nwc'] = df_prediction['other_curr_ass_lesscash'] - df_prediction['tot_curr_liab_lessdebt']\n",
    "    return df_prediction "
   ]
  },
  {
   "cell_type": "code",
   "execution_count": null,
   "id": "dc7c6155-be2e-4ea2-b8fe-d26c4b2c1b52",
   "metadata": {
    "tags": []
   },
   "outputs": [],
   "source": [
    "prediction = predict_curr_ass_liab(prediction, nwc_ratios)"
   ]
  },
  {
   "cell_type": "markdown",
   "id": "f9eb6c4f-46d4-41a6-a676-2146281ec8eb",
   "metadata": {
    "tags": []
   },
   "source": [
    "## 2.7. Change in NWC"
   ]
  },
  {
   "cell_type": "code",
   "execution_count": null,
   "id": "32b2a90c-e9f1-4eea-9c6a-934701562301",
   "metadata": {
    "tags": []
   },
   "outputs": [],
   "source": [
    "def calc_change_nwc(df_hist, df_predict):\n",
    "    c_nwc = []\n",
    "    \n",
    "    if df_hist.equals(df_predict):\n",
    "        for index in range(len(df_predict)):\n",
    "            if index > 0:\n",
    "                c_nwc.append(df_predict['nwc'].iloc[index] - df_predict['nwc'].iloc[index-1])\n",
    "            else:\n",
    "                c_nwc.append(np.nan)\n",
    "    else:\n",
    "        for index in range(len(df_predict)):\n",
    "            if index > 0:\n",
    "                c_nwc.append(df_predict['nwc'].iloc[index] - df_predict['nwc'].iloc[index-1])\n",
    "            else:\n",
    "                c_nwc.append(df_predict['nwc'].iloc[index] - df_hist['nwc'].iloc[index-1])\n",
    "    \n",
    "    df_predict['c_nwc'] = c_nwc\n",
    "    \n",
    "    return df_predict"
   ]
  },
  {
   "cell_type": "code",
   "execution_count": null,
   "id": "8ab2bd2c-55ae-4b6d-a0d3-ae6470d1d020",
   "metadata": {},
   "outputs": [],
   "source": [
    "prediction = calc_change_nwc(data_filt, prediction)\n",
    "data_filt = calc_change_nwc(data_filt, data_filt)"
   ]
  },
  {
   "cell_type": "code",
   "execution_count": null,
   "id": "33858538-b6a8-4ada-a4e5-d3a5e37f0014",
   "metadata": {
    "tags": []
   },
   "outputs": [],
   "source": [
    "def calc_unleveared_fcf(df):\n",
    "    df['unlev_fcf'] = df['nopat'] + df['depr_amort'] - df['capex'] - df['c_nwc']\n",
    "    return df"
   ]
  },
  {
   "cell_type": "code",
   "execution_count": null,
   "id": "1d7e70b8-1ab5-4e3a-b2d0-d8ef7f5943ba",
   "metadata": {
    "tags": []
   },
   "outputs": [],
   "source": [
    "prediction = calc_unleveared_fcf(prediction)\n",
    "data_filt = calc_unleveared_fcf(data_filt)"
   ]
  },
  {
   "cell_type": "markdown",
   "id": "9d27726c-f5b8-476d-bb4b-fab9ff6a2201",
   "metadata": {},
   "source": [
    "## 2.8. Calculate Weighted Average Cost of Capital (WACC)"
   ]
  },
  {
   "cell_type": "code",
   "execution_count": null,
   "id": "5205003a-10f0-463c-9a09-3de0a00241d8",
   "metadata": {
    "tags": []
   },
   "outputs": [],
   "source": [
    "def calculate_wacc(df, share_price, eff_tax_rate, us_bond_10_yr, expected_return, beta):\n",
    "    equity = share_price * df['shares'].iloc[-1]\n",
    "    debt = df['short_debt'].iloc[-1] + df['tot_long_debt'].iloc[-1]\n",
    "    \n",
    "    cost_of_debt = abs(df['int_exp'].iloc[-1]) / debt\n",
    "    d_per_d_plus_e = debt / (debt + equity)\n",
    "    after_tax_cost_of_debt = cost_of_debt * (1 - eff_tax_rate)\n",
    "    \n",
    "    risk_free_rate = us_bond_10_yr\n",
    "    market_risk_premium = expected_return - risk_free_rate\n",
    "    cost_of_equity = risk_free_rate + (beta * market_risk_premium)\n",
    "    e_per_d_plus_e = equity / (debt + equity)\n",
    "    \n",
    "    wacc = (d_per_d_plus_e * after_tax_cost_of_debt) + (e_per_d_plus_e * cost_of_equity)\n",
    "    return wacc"
   ]
  },
  {
   "cell_type": "code",
   "execution_count": null,
   "id": "f1e518a0-2535-4541-9d4d-b3ba2f5c658f",
   "metadata": {
    "tags": []
   },
   "outputs": [],
   "source": [
    "wacc = calculate_wacc(\n",
    "    df=data_filt,\n",
    "    share_price=55,\n",
    "    eff_tax_rate=eff_tax_rate,\n",
    "    us_bond_10_yr=0.0426,\n",
    "    expected_return=0.1,\n",
    "    beta=0.77)\n",
    "print(wacc)"
   ]
  },
  {
   "cell_type": "markdown",
   "id": "7253cd9d-5c51-49e5-ae81-853bca237bd6",
   "metadata": {},
   "source": [
    "## 2.9. Present value of FCF, Terminal Value & present value of TV"
   ]
  },
  {
   "cell_type": "code",
   "execution_count": null,
   "id": "e16c5384-6aaa-406d-a005-cbaa7ed0da53",
   "metadata": {
    "tags": []
   },
   "outputs": [],
   "source": [
    "def calculate_present_value_fcf(df):\n",
    "    # reindexing from 1 to len\n",
    "    df.index = [index + 1 for index in range(len(df))]\n",
    "    df = df.dropna()\n",
    "    \n",
    "    df['pres_val_fcf'] = df['unlev_fcf']/((1+wacc)**(df.index*0.25))\n",
    "    return df"
   ]
  },
  {
   "cell_type": "code",
   "execution_count": null,
   "id": "fdbcc10e-afe8-4ab0-8086-c2780c790cf4",
   "metadata": {
    "tags": []
   },
   "outputs": [],
   "source": [
    "prediction = calculate_present_value_fcf(prediction)"
   ]
  },
  {
   "cell_type": "markdown",
   "id": "ee1d9a03-78d2-474b-bd10-95199af2e21b",
   "metadata": {},
   "source": [
    "## 2.10. Terminal Value and present value of TV\n",
    "\n",
    "I use the perpetuity growth model"
   ]
  },
  {
   "cell_type": "code",
   "execution_count": null,
   "id": "77591df5-a03a-45d4-bd18-56c3c215d690",
   "metadata": {
    "tags": []
   },
   "outputs": [],
   "source": [
    "def calculate_tv_prestv_enterp_val(df, industry_growth_rate):\n",
    "    # Terminal Value\n",
    "    tv = ((df['unlev_fcf'].iloc[-1] * (1 + industry_growth_rate))) / (wacc - industry_growth_rate)\n",
    "    # present value of TV\n",
    "    pres_value_tv = tv / (1 + wacc)**5\n",
    "    \n",
    "    return tv, pres_value_tv"
   ]
  },
  {
   "cell_type": "code",
   "execution_count": null,
   "id": "96697faa-cf4d-42e4-bcc5-a24f2376a9f5",
   "metadata": {
    "tags": []
   },
   "outputs": [],
   "source": [
    "tv, pres_value_tv = calculate_tv_prestv_enterp_val(prediction, 0.03)"
   ]
  },
  {
   "cell_type": "code",
   "execution_count": null,
   "id": "97371893-9260-41b7-a2b6-74dcf4b5842f",
   "metadata": {
    "tags": []
   },
   "outputs": [],
   "source": [
    "def calc_enterp_company_value(df_hist, df_pred, pres_value_tv):\n",
    "    \n",
    "    debt = df_hist['short_debt'].iloc[-1] + df_hist['tot_long_debt'].iloc[-1]\n",
    "    \n",
    "    if 'equity_minor_interest' in df_hist.columns:\n",
    "        equity_minor_interest = df_hist['equity_minor_interest'].iloc[-1]\n",
    "    else:\n",
    "        equity_minor_interest = 0\n",
    "    # Enterprise Values\n",
    "    enterp_val = df_pred['pres_val_fcf'].sum() + pres_value_tv\n",
    "    # Company Value\n",
    "    comp_val = enterp_val + df_hist['cash_cash_eq'].iloc[-1] + df_hist['short_inv'].iloc[-1] - debt - equity_minor_interest\n",
    "        \n",
    "    return enterp_val, comp_val"
   ]
  },
  {
   "cell_type": "code",
   "execution_count": null,
   "id": "733690b6-7e93-4450-8f56-61fe5c14b438",
   "metadata": {
    "tags": []
   },
   "outputs": [],
   "source": [
    "enterp_val, comp_val = calc_enterp_company_value(data_filt, prediction, pres_value_tv)"
   ]
  },
  {
   "cell_type": "code",
   "execution_count": null,
   "id": "3c430af1-d532-4e1f-8d4a-f4b0e6fd06c7",
   "metadata": {
    "tags": []
   },
   "outputs": [],
   "source": [
    "enterp_val"
   ]
  },
  {
   "cell_type": "code",
   "execution_count": null,
   "id": "f0f98ea9-3ea4-41f8-b69e-987efe8a2d0a",
   "metadata": {
    "tags": []
   },
   "outputs": [],
   "source": [
    "comp_val"
   ]
  },
  {
   "cell_type": "code",
   "execution_count": null,
   "id": "782e12fc-1e87-49cb-947b-14950338e69d",
   "metadata": {
    "tags": []
   },
   "outputs": [],
   "source": [
    "prediction['pres_val_fcf'].sum()"
   ]
  },
  {
   "cell_type": "code",
   "execution_count": null,
   "id": "0b4ec2d9-1254-4e86-a8e7-e1ed5b7385b3",
   "metadata": {
    "tags": []
   },
   "outputs": [],
   "source": [
    "plot_hist_pred(data_filt, prediction)"
   ]
  },
  {
   "cell_type": "code",
   "execution_count": null,
   "id": "05a060b3-8834-4cad-9cab-0eadab359009",
   "metadata": {},
   "outputs": [],
   "source": []
  }
 ],
 "metadata": {
  "availableInstances": [
   {
    "_defaultOrder": 0,
    "_isFastLaunch": true,
    "category": "General purpose",
    "gpuNum": 0,
    "hideHardwareSpecs": false,
    "memoryGiB": 4,
    "name": "ml.t3.medium",
    "vcpuNum": 2
   },
   {
    "_defaultOrder": 1,
    "_isFastLaunch": false,
    "category": "General purpose",
    "gpuNum": 0,
    "hideHardwareSpecs": false,
    "memoryGiB": 8,
    "name": "ml.t3.large",
    "vcpuNum": 2
   },
   {
    "_defaultOrder": 2,
    "_isFastLaunch": false,
    "category": "General purpose",
    "gpuNum": 0,
    "hideHardwareSpecs": false,
    "memoryGiB": 16,
    "name": "ml.t3.xlarge",
    "vcpuNum": 4
   },
   {
    "_defaultOrder": 3,
    "_isFastLaunch": false,
    "category": "General purpose",
    "gpuNum": 0,
    "hideHardwareSpecs": false,
    "memoryGiB": 32,
    "name": "ml.t3.2xlarge",
    "vcpuNum": 8
   },
   {
    "_defaultOrder": 4,
    "_isFastLaunch": true,
    "category": "General purpose",
    "gpuNum": 0,
    "hideHardwareSpecs": false,
    "memoryGiB": 8,
    "name": "ml.m5.large",
    "vcpuNum": 2
   },
   {
    "_defaultOrder": 5,
    "_isFastLaunch": false,
    "category": "General purpose",
    "gpuNum": 0,
    "hideHardwareSpecs": false,
    "memoryGiB": 16,
    "name": "ml.m5.xlarge",
    "vcpuNum": 4
   },
   {
    "_defaultOrder": 6,
    "_isFastLaunch": false,
    "category": "General purpose",
    "gpuNum": 0,
    "hideHardwareSpecs": false,
    "memoryGiB": 32,
    "name": "ml.m5.2xlarge",
    "vcpuNum": 8
   },
   {
    "_defaultOrder": 7,
    "_isFastLaunch": false,
    "category": "General purpose",
    "gpuNum": 0,
    "hideHardwareSpecs": false,
    "memoryGiB": 64,
    "name": "ml.m5.4xlarge",
    "vcpuNum": 16
   },
   {
    "_defaultOrder": 8,
    "_isFastLaunch": false,
    "category": "General purpose",
    "gpuNum": 0,
    "hideHardwareSpecs": false,
    "memoryGiB": 128,
    "name": "ml.m5.8xlarge",
    "vcpuNum": 32
   },
   {
    "_defaultOrder": 9,
    "_isFastLaunch": false,
    "category": "General purpose",
    "gpuNum": 0,
    "hideHardwareSpecs": false,
    "memoryGiB": 192,
    "name": "ml.m5.12xlarge",
    "vcpuNum": 48
   },
   {
    "_defaultOrder": 10,
    "_isFastLaunch": false,
    "category": "General purpose",
    "gpuNum": 0,
    "hideHardwareSpecs": false,
    "memoryGiB": 256,
    "name": "ml.m5.16xlarge",
    "vcpuNum": 64
   },
   {
    "_defaultOrder": 11,
    "_isFastLaunch": false,
    "category": "General purpose",
    "gpuNum": 0,
    "hideHardwareSpecs": false,
    "memoryGiB": 384,
    "name": "ml.m5.24xlarge",
    "vcpuNum": 96
   },
   {
    "_defaultOrder": 12,
    "_isFastLaunch": false,
    "category": "General purpose",
    "gpuNum": 0,
    "hideHardwareSpecs": false,
    "memoryGiB": 8,
    "name": "ml.m5d.large",
    "vcpuNum": 2
   },
   {
    "_defaultOrder": 13,
    "_isFastLaunch": false,
    "category": "General purpose",
    "gpuNum": 0,
    "hideHardwareSpecs": false,
    "memoryGiB": 16,
    "name": "ml.m5d.xlarge",
    "vcpuNum": 4
   },
   {
    "_defaultOrder": 14,
    "_isFastLaunch": false,
    "category": "General purpose",
    "gpuNum": 0,
    "hideHardwareSpecs": false,
    "memoryGiB": 32,
    "name": "ml.m5d.2xlarge",
    "vcpuNum": 8
   },
   {
    "_defaultOrder": 15,
    "_isFastLaunch": false,
    "category": "General purpose",
    "gpuNum": 0,
    "hideHardwareSpecs": false,
    "memoryGiB": 64,
    "name": "ml.m5d.4xlarge",
    "vcpuNum": 16
   },
   {
    "_defaultOrder": 16,
    "_isFastLaunch": false,
    "category": "General purpose",
    "gpuNum": 0,
    "hideHardwareSpecs": false,
    "memoryGiB": 128,
    "name": "ml.m5d.8xlarge",
    "vcpuNum": 32
   },
   {
    "_defaultOrder": 17,
    "_isFastLaunch": false,
    "category": "General purpose",
    "gpuNum": 0,
    "hideHardwareSpecs": false,
    "memoryGiB": 192,
    "name": "ml.m5d.12xlarge",
    "vcpuNum": 48
   },
   {
    "_defaultOrder": 18,
    "_isFastLaunch": false,
    "category": "General purpose",
    "gpuNum": 0,
    "hideHardwareSpecs": false,
    "memoryGiB": 256,
    "name": "ml.m5d.16xlarge",
    "vcpuNum": 64
   },
   {
    "_defaultOrder": 19,
    "_isFastLaunch": false,
    "category": "General purpose",
    "gpuNum": 0,
    "hideHardwareSpecs": false,
    "memoryGiB": 384,
    "name": "ml.m5d.24xlarge",
    "vcpuNum": 96
   },
   {
    "_defaultOrder": 20,
    "_isFastLaunch": false,
    "category": "General purpose",
    "gpuNum": 0,
    "hideHardwareSpecs": true,
    "memoryGiB": 0,
    "name": "ml.geospatial.interactive",
    "supportedImageNames": [
     "sagemaker-geospatial-v1-0"
    ],
    "vcpuNum": 0
   },
   {
    "_defaultOrder": 21,
    "_isFastLaunch": true,
    "category": "Compute optimized",
    "gpuNum": 0,
    "hideHardwareSpecs": false,
    "memoryGiB": 4,
    "name": "ml.c5.large",
    "vcpuNum": 2
   },
   {
    "_defaultOrder": 22,
    "_isFastLaunch": false,
    "category": "Compute optimized",
    "gpuNum": 0,
    "hideHardwareSpecs": false,
    "memoryGiB": 8,
    "name": "ml.c5.xlarge",
    "vcpuNum": 4
   },
   {
    "_defaultOrder": 23,
    "_isFastLaunch": false,
    "category": "Compute optimized",
    "gpuNum": 0,
    "hideHardwareSpecs": false,
    "memoryGiB": 16,
    "name": "ml.c5.2xlarge",
    "vcpuNum": 8
   },
   {
    "_defaultOrder": 24,
    "_isFastLaunch": false,
    "category": "Compute optimized",
    "gpuNum": 0,
    "hideHardwareSpecs": false,
    "memoryGiB": 32,
    "name": "ml.c5.4xlarge",
    "vcpuNum": 16
   },
   {
    "_defaultOrder": 25,
    "_isFastLaunch": false,
    "category": "Compute optimized",
    "gpuNum": 0,
    "hideHardwareSpecs": false,
    "memoryGiB": 72,
    "name": "ml.c5.9xlarge",
    "vcpuNum": 36
   },
   {
    "_defaultOrder": 26,
    "_isFastLaunch": false,
    "category": "Compute optimized",
    "gpuNum": 0,
    "hideHardwareSpecs": false,
    "memoryGiB": 96,
    "name": "ml.c5.12xlarge",
    "vcpuNum": 48
   },
   {
    "_defaultOrder": 27,
    "_isFastLaunch": false,
    "category": "Compute optimized",
    "gpuNum": 0,
    "hideHardwareSpecs": false,
    "memoryGiB": 144,
    "name": "ml.c5.18xlarge",
    "vcpuNum": 72
   },
   {
    "_defaultOrder": 28,
    "_isFastLaunch": false,
    "category": "Compute optimized",
    "gpuNum": 0,
    "hideHardwareSpecs": false,
    "memoryGiB": 192,
    "name": "ml.c5.24xlarge",
    "vcpuNum": 96
   },
   {
    "_defaultOrder": 29,
    "_isFastLaunch": true,
    "category": "Accelerated computing",
    "gpuNum": 1,
    "hideHardwareSpecs": false,
    "memoryGiB": 16,
    "name": "ml.g4dn.xlarge",
    "vcpuNum": 4
   },
   {
    "_defaultOrder": 30,
    "_isFastLaunch": false,
    "category": "Accelerated computing",
    "gpuNum": 1,
    "hideHardwareSpecs": false,
    "memoryGiB": 32,
    "name": "ml.g4dn.2xlarge",
    "vcpuNum": 8
   },
   {
    "_defaultOrder": 31,
    "_isFastLaunch": false,
    "category": "Accelerated computing",
    "gpuNum": 1,
    "hideHardwareSpecs": false,
    "memoryGiB": 64,
    "name": "ml.g4dn.4xlarge",
    "vcpuNum": 16
   },
   {
    "_defaultOrder": 32,
    "_isFastLaunch": false,
    "category": "Accelerated computing",
    "gpuNum": 1,
    "hideHardwareSpecs": false,
    "memoryGiB": 128,
    "name": "ml.g4dn.8xlarge",
    "vcpuNum": 32
   },
   {
    "_defaultOrder": 33,
    "_isFastLaunch": false,
    "category": "Accelerated computing",
    "gpuNum": 4,
    "hideHardwareSpecs": false,
    "memoryGiB": 192,
    "name": "ml.g4dn.12xlarge",
    "vcpuNum": 48
   },
   {
    "_defaultOrder": 34,
    "_isFastLaunch": false,
    "category": "Accelerated computing",
    "gpuNum": 1,
    "hideHardwareSpecs": false,
    "memoryGiB": 256,
    "name": "ml.g4dn.16xlarge",
    "vcpuNum": 64
   },
   {
    "_defaultOrder": 35,
    "_isFastLaunch": false,
    "category": "Accelerated computing",
    "gpuNum": 1,
    "hideHardwareSpecs": false,
    "memoryGiB": 61,
    "name": "ml.p3.2xlarge",
    "vcpuNum": 8
   },
   {
    "_defaultOrder": 36,
    "_isFastLaunch": false,
    "category": "Accelerated computing",
    "gpuNum": 4,
    "hideHardwareSpecs": false,
    "memoryGiB": 244,
    "name": "ml.p3.8xlarge",
    "vcpuNum": 32
   },
   {
    "_defaultOrder": 37,
    "_isFastLaunch": false,
    "category": "Accelerated computing",
    "gpuNum": 8,
    "hideHardwareSpecs": false,
    "memoryGiB": 488,
    "name": "ml.p3.16xlarge",
    "vcpuNum": 64
   },
   {
    "_defaultOrder": 38,
    "_isFastLaunch": false,
    "category": "Accelerated computing",
    "gpuNum": 8,
    "hideHardwareSpecs": false,
    "memoryGiB": 768,
    "name": "ml.p3dn.24xlarge",
    "vcpuNum": 96
   },
   {
    "_defaultOrder": 39,
    "_isFastLaunch": false,
    "category": "Memory Optimized",
    "gpuNum": 0,
    "hideHardwareSpecs": false,
    "memoryGiB": 16,
    "name": "ml.r5.large",
    "vcpuNum": 2
   },
   {
    "_defaultOrder": 40,
    "_isFastLaunch": false,
    "category": "Memory Optimized",
    "gpuNum": 0,
    "hideHardwareSpecs": false,
    "memoryGiB": 32,
    "name": "ml.r5.xlarge",
    "vcpuNum": 4
   },
   {
    "_defaultOrder": 41,
    "_isFastLaunch": false,
    "category": "Memory Optimized",
    "gpuNum": 0,
    "hideHardwareSpecs": false,
    "memoryGiB": 64,
    "name": "ml.r5.2xlarge",
    "vcpuNum": 8
   },
   {
    "_defaultOrder": 42,
    "_isFastLaunch": false,
    "category": "Memory Optimized",
    "gpuNum": 0,
    "hideHardwareSpecs": false,
    "memoryGiB": 128,
    "name": "ml.r5.4xlarge",
    "vcpuNum": 16
   },
   {
    "_defaultOrder": 43,
    "_isFastLaunch": false,
    "category": "Memory Optimized",
    "gpuNum": 0,
    "hideHardwareSpecs": false,
    "memoryGiB": 256,
    "name": "ml.r5.8xlarge",
    "vcpuNum": 32
   },
   {
    "_defaultOrder": 44,
    "_isFastLaunch": false,
    "category": "Memory Optimized",
    "gpuNum": 0,
    "hideHardwareSpecs": false,
    "memoryGiB": 384,
    "name": "ml.r5.12xlarge",
    "vcpuNum": 48
   },
   {
    "_defaultOrder": 45,
    "_isFastLaunch": false,
    "category": "Memory Optimized",
    "gpuNum": 0,
    "hideHardwareSpecs": false,
    "memoryGiB": 512,
    "name": "ml.r5.16xlarge",
    "vcpuNum": 64
   },
   {
    "_defaultOrder": 46,
    "_isFastLaunch": false,
    "category": "Memory Optimized",
    "gpuNum": 0,
    "hideHardwareSpecs": false,
    "memoryGiB": 768,
    "name": "ml.r5.24xlarge",
    "vcpuNum": 96
   },
   {
    "_defaultOrder": 47,
    "_isFastLaunch": false,
    "category": "Accelerated computing",
    "gpuNum": 1,
    "hideHardwareSpecs": false,
    "memoryGiB": 16,
    "name": "ml.g5.xlarge",
    "vcpuNum": 4
   },
   {
    "_defaultOrder": 48,
    "_isFastLaunch": false,
    "category": "Accelerated computing",
    "gpuNum": 1,
    "hideHardwareSpecs": false,
    "memoryGiB": 32,
    "name": "ml.g5.2xlarge",
    "vcpuNum": 8
   },
   {
    "_defaultOrder": 49,
    "_isFastLaunch": false,
    "category": "Accelerated computing",
    "gpuNum": 1,
    "hideHardwareSpecs": false,
    "memoryGiB": 64,
    "name": "ml.g5.4xlarge",
    "vcpuNum": 16
   },
   {
    "_defaultOrder": 50,
    "_isFastLaunch": false,
    "category": "Accelerated computing",
    "gpuNum": 1,
    "hideHardwareSpecs": false,
    "memoryGiB": 128,
    "name": "ml.g5.8xlarge",
    "vcpuNum": 32
   },
   {
    "_defaultOrder": 51,
    "_isFastLaunch": false,
    "category": "Accelerated computing",
    "gpuNum": 1,
    "hideHardwareSpecs": false,
    "memoryGiB": 256,
    "name": "ml.g5.16xlarge",
    "vcpuNum": 64
   },
   {
    "_defaultOrder": 52,
    "_isFastLaunch": false,
    "category": "Accelerated computing",
    "gpuNum": 4,
    "hideHardwareSpecs": false,
    "memoryGiB": 192,
    "name": "ml.g5.12xlarge",
    "vcpuNum": 48
   },
   {
    "_defaultOrder": 53,
    "_isFastLaunch": false,
    "category": "Accelerated computing",
    "gpuNum": 4,
    "hideHardwareSpecs": false,
    "memoryGiB": 384,
    "name": "ml.g5.24xlarge",
    "vcpuNum": 96
   },
   {
    "_defaultOrder": 54,
    "_isFastLaunch": false,
    "category": "Accelerated computing",
    "gpuNum": 8,
    "hideHardwareSpecs": false,
    "memoryGiB": 768,
    "name": "ml.g5.48xlarge",
    "vcpuNum": 192
   },
   {
    "_defaultOrder": 55,
    "_isFastLaunch": false,
    "category": "Accelerated computing",
    "gpuNum": 8,
    "hideHardwareSpecs": false,
    "memoryGiB": 1152,
    "name": "ml.p4d.24xlarge",
    "vcpuNum": 96
   },
   {
    "_defaultOrder": 56,
    "_isFastLaunch": false,
    "category": "Accelerated computing",
    "gpuNum": 8,
    "hideHardwareSpecs": false,
    "memoryGiB": 1152,
    "name": "ml.p4de.24xlarge",
    "vcpuNum": 96
   }
  ],
  "instance_type": "ml.t3.medium",
  "kernelspec": {
   "display_name": ".venv",
   "language": "python",
   "name": "python3"
  },
  "language_info": {
   "codemirror_mode": {
    "name": "ipython",
    "version": 3
   },
   "file_extension": ".py",
   "mimetype": "text/x-python",
   "name": "python",
   "nbconvert_exporter": "python",
   "pygments_lexer": "ipython3",
   "version": "3.11.3"
  }
 },
 "nbformat": 4,
 "nbformat_minor": 5
}
