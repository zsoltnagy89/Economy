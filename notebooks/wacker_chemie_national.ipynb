{
 "cells": [
  {
   "cell_type": "code",
   "execution_count": null,
   "id": "27214b8f",
   "metadata": {
    "execution": {
     "iopub.execute_input": "2024-08-03T15:59:12.468744Z",
     "iopub.status.busy": "2024-08-03T15:59:12.468471Z",
     "iopub.status.idle": "2024-08-03T15:59:13.192566Z",
     "shell.execute_reply": "2024-08-03T15:59:13.192297Z"
    },
    "papermill": {
     "duration": 0.740778,
     "end_time": "2024-08-03T15:59:13.193591",
     "exception": false,
     "start_time": "2024-08-03T15:59:12.452813",
     "status": "completed"
    },
    "tags": []
   },
   "outputs": [],
   "source": [
    "import pandas as pd\n",
    "import matplotlib.pyplot as plt\n",
    "import numpy as np\n",
    "\n",
    "import yfinance as yf\n",
    "import datetime\n",
    "\n",
    "from valueinvesting import utils as utils"
   ]
  },
  {
   "cell_type": "markdown",
   "id": "ae969344",
   "metadata": {
    "papermill": {
     "duration": 0.010621,
     "end_time": "2024-08-03T15:59:13.214815",
     "exception": false,
     "start_time": "2024-08-03T15:59:13.204194",
     "status": "completed"
    },
    "tags": []
   },
   "source": [
    "# 1. Load raw input\n",
    "## Hardcoded block"
   ]
  },
  {
   "cell_type": "code",
   "execution_count": null,
   "id": "9a553c1d",
   "metadata": {
    "execution": {
     "iopub.execute_input": "2024-08-03T15:59:13.229949Z",
     "iopub.status.busy": "2024-08-03T15:59:13.229737Z",
     "iopub.status.idle": "2024-08-03T15:59:13.231931Z",
     "shell.execute_reply": "2024-08-03T15:59:13.231651Z"
    },
    "papermill": {
     "duration": 0.009339,
     "end_time": "2024-08-03T15:59:13.232830",
     "exception": false,
     "start_time": "2024-08-03T15:59:13.223491",
     "status": "completed"
    },
    "tags": []
   },
   "outputs": [],
   "source": [
    "evaluate_last_X_years = True\n",
    "X=10\n",
    "currency_pair = 'EUR=X'\n",
    "numbers_in_currency = 'EUR'\n",
    "share_name = 'WCH.DE'"
   ]
  },
  {
   "cell_type": "markdown",
   "id": "f4172315",
   "metadata": {
    "papermill": {
     "duration": 0.005662,
     "end_time": "2024-08-03T15:59:13.244505",
     "exception": false,
     "start_time": "2024-08-03T15:59:13.238843",
     "status": "completed"
    },
    "tags": []
   },
   "source": [
    "# 1.1 Calculate Share numbers from total distributed dividend (CFS) and dividend amount"
   ]
  },
  {
   "cell_type": "markdown",
   "id": "ab689857",
   "metadata": {
    "papermill": {
     "duration": 0.005467,
     "end_time": "2024-08-03T15:59:13.255057",
     "exception": false,
     "start_time": "2024-08-03T15:59:13.249590",
     "status": "completed"
    },
    "tags": []
   },
   "source": [
    "# 1.2. Raw input statement data"
   ]
  },
  {
   "cell_type": "code",
   "execution_count": null,
   "id": "2d021b0a",
   "metadata": {
    "execution": {
     "iopub.execute_input": "2024-08-03T15:59:13.270103Z",
     "iopub.status.busy": "2024-08-03T15:59:13.269961Z",
     "iopub.status.idle": "2024-08-03T15:59:13.286878Z",
     "shell.execute_reply": "2024-08-03T15:59:13.286396Z"
    },
    "papermill": {
     "duration": 0.027504,
     "end_time": "2024-08-03T15:59:13.287938",
     "exception": false,
     "start_time": "2024-08-03T15:59:13.260434",
     "status": "completed"
    },
    "tags": []
   },
   "outputs": [],
   "source": [
    "route = f\"../data/input/{share_name}_data.csv\"\n",
    "data = pd.read_csv(route, sep=';', parse_dates=['date', 'real_date'])\n",
    "# replace -, extend missing 0-s, fix datatype\n",
    "data = utils.replace_format_input(data)"
   ]
  },
  {
   "cell_type": "code",
   "execution_count": null,
   "id": "2925ee73",
   "metadata": {
    "execution": {
     "iopub.execute_input": "2024-08-03T15:59:13.308484Z",
     "iopub.status.busy": "2024-08-03T15:59:13.308341Z",
     "iopub.status.idle": "2024-08-03T15:59:13.313303Z",
     "shell.execute_reply": "2024-08-03T15:59:13.313001Z"
    },
    "papermill": {
     "duration": 0.016484,
     "end_time": "2024-08-03T15:59:13.314420",
     "exception": false,
     "start_time": "2024-08-03T15:59:13.297936",
     "status": "completed"
    },
    "tags": []
   },
   "outputs": [],
   "source": [
    "owned_shares = pd.read_csv('../data/extras/owned_stocks.csv', sep=';', parse_dates=['date'])\n",
    "owned_shares = owned_shares.loc[(owned_shares['stock'] == share_name) & (owned_shares['active'] == 'yes')]"
   ]
  },
  {
   "cell_type": "markdown",
   "id": "9cde4632",
   "metadata": {
    "papermill": {
     "duration": 0.00871,
     "end_time": "2024-08-03T15:59:13.332322",
     "exception": false,
     "start_time": "2024-08-03T15:59:13.323612",
     "status": "completed"
    },
    "tags": []
   },
   "source": [
    "## (OPTIONAL) Time Filtering - Last 7 years daat"
   ]
  },
  {
   "cell_type": "code",
   "execution_count": null,
   "id": "e8b849ec",
   "metadata": {
    "execution": {
     "iopub.execute_input": "2024-08-03T15:59:13.348442Z",
     "iopub.status.busy": "2024-08-03T15:59:13.348296Z",
     "iopub.status.idle": "2024-08-03T15:59:13.358445Z",
     "shell.execute_reply": "2024-08-03T15:59:13.358202Z"
    },
    "papermill": {
     "duration": 0.017188,
     "end_time": "2024-08-03T15:59:13.359248",
     "exception": false,
     "start_time": "2024-08-03T15:59:13.342060",
     "status": "completed"
    },
    "tags": []
   },
   "outputs": [],
   "source": [
    "if evaluate_last_X_years:\n",
    "    data = data[data['date'] > datetime.datetime.today() - datetime.timedelta(days=X*366+93)]\n",
    "    data = data.reset_index(drop=True)\n",
    "\n",
    "data.head()"
   ]
  },
  {
   "cell_type": "markdown",
   "id": "e1dd033f",
   "metadata": {
    "papermill": {
     "duration": 0.011087,
     "end_time": "2024-08-03T15:59:13.380654",
     "exception": false,
     "start_time": "2024-08-03T15:59:13.369567",
     "status": "completed"
    },
    "tags": []
   },
   "source": [
    "## Calculate date when quaterly reports could be available"
   ]
  },
  {
   "cell_type": "code",
   "execution_count": null,
   "id": "fa6a21db",
   "metadata": {
    "execution": {
     "iopub.execute_input": "2024-08-03T15:59:13.395137Z",
     "iopub.status.busy": "2024-08-03T15:59:13.394985Z",
     "iopub.status.idle": "2024-08-03T15:59:13.397009Z",
     "shell.execute_reply": "2024-08-03T15:59:13.396728Z"
    },
    "papermill": {
     "duration": 0.009892,
     "end_time": "2024-08-03T15:59:13.397972",
     "exception": false,
     "start_time": "2024-08-03T15:59:13.388080",
     "status": "completed"
    },
    "tags": []
   },
   "outputs": [],
   "source": [
    "data = utils.calculate_real_date(data)"
   ]
  },
  {
   "cell_type": "markdown",
   "id": "47b62c93",
   "metadata": {
    "papermill": {
     "duration": 0.006357,
     "end_time": "2024-08-03T15:59:13.410497",
     "exception": false,
     "start_time": "2024-08-03T15:59:13.404140",
     "status": "completed"
    },
    "tags": []
   },
   "source": [
    "# 2. Filter out unnecesary columns"
   ]
  },
  {
   "cell_type": "code",
   "execution_count": null,
   "id": "290c614e",
   "metadata": {
    "execution": {
     "iopub.execute_input": "2024-08-03T15:59:13.422285Z",
     "iopub.status.busy": "2024-08-03T15:59:13.422145Z",
     "iopub.status.idle": "2024-08-03T15:59:13.428780Z",
     "shell.execute_reply": "2024-08-03T15:59:13.428520Z"
    },
    "papermill": {
     "duration": 0.013712,
     "end_time": "2024-08-03T15:59:13.429584",
     "exception": false,
     "start_time": "2024-08-03T15:59:13.415872",
     "status": "completed"
    },
    "tags": []
   },
   "outputs": [],
   "source": [
    "data = utils.filter_raw_data(data)\n",
    "data.tail()"
   ]
  },
  {
   "cell_type": "markdown",
   "id": "ad96f8bf",
   "metadata": {
    "papermill": {
     "duration": 0.006851,
     "end_time": "2024-08-03T15:59:13.442809",
     "exception": false,
     "start_time": "2024-08-03T15:59:13.435958",
     "status": "completed"
    },
    "tags": []
   },
   "source": [
    "## Pull historical average USD national currency rates and add to the dataframe"
   ]
  },
  {
   "cell_type": "code",
   "execution_count": null,
   "id": "84ab32ca",
   "metadata": {
    "execution": {
     "iopub.execute_input": "2024-08-03T15:59:13.454833Z",
     "iopub.status.busy": "2024-08-03T15:59:13.454675Z",
     "iopub.status.idle": "2024-08-03T15:59:22.740795Z",
     "shell.execute_reply": "2024-08-03T15:59:22.740250Z"
    },
    "papermill": {
     "duration": 9.295496,
     "end_time": "2024-08-03T15:59:22.743960",
     "exception": false,
     "start_time": "2024-08-03T15:59:13.448464",
     "status": "completed"
    },
    "tags": []
   },
   "outputs": [],
   "source": [
    "data['usd_nat_currency'] = utils.daily_price(\n",
    "    ticker=currency_pair,\n",
    "    end=data['date'],\n",
    "    days_earlier=90\n",
    "    )\n",
    "\n",
    "# drop rows, when USD rates wasn't available\n",
    "data = data[data['usd_nat_currency'].notna()]\n",
    "\n",
    "data.tail()"
   ]
  },
  {
   "cell_type": "markdown",
   "id": "2c521289",
   "metadata": {
    "papermill": {
     "duration": 0.009934,
     "end_time": "2024-08-03T15:59:22.768190",
     "exception": false,
     "start_time": "2024-08-03T15:59:22.758256",
     "status": "completed"
    },
    "tags": []
   },
   "source": [
    "## Convert USD values related to IS, BS, CFS to national currency"
   ]
  },
  {
   "cell_type": "code",
   "execution_count": null,
   "id": "a964dc94",
   "metadata": {
    "execution": {
     "iopub.execute_input": "2024-08-03T15:59:22.789497Z",
     "iopub.status.busy": "2024-08-03T15:59:22.789118Z",
     "iopub.status.idle": "2024-08-03T15:59:22.798637Z",
     "shell.execute_reply": "2024-08-03T15:59:22.798283Z"
    },
    "papermill": {
     "duration": 0.022225,
     "end_time": "2024-08-03T15:59:22.799890",
     "exception": false,
     "start_time": "2024-08-03T15:59:22.777665",
     "status": "completed"
    },
    "tags": []
   },
   "outputs": [],
   "source": [
    "# convert columns into national currency if necessary\n",
    "if numbers_in_currency == 'USD':\n",
    "    data_nat_curr = utils.convert_national_currency(input_data=data, currency=data)\n",
    "else:\n",
    "    data_nat_curr = data.copy()\n",
    "data_nat_curr.tail()"
   ]
  },
  {
   "cell_type": "markdown",
   "id": "b08f9660",
   "metadata": {
    "papermill": {
     "duration": 0.007461,
     "end_time": "2024-08-03T15:59:22.816030",
     "exception": false,
     "start_time": "2024-08-03T15:59:22.808569",
     "status": "completed"
    },
    "tags": []
   },
   "source": [
    "# 3. Calculate input to Value Raios (eps, bv per share, fcf)\n",
    "## filter out unwanted columns"
   ]
  },
  {
   "cell_type": "code",
   "execution_count": null,
   "id": "d6f3ae5c",
   "metadata": {
    "execution": {
     "iopub.execute_input": "2024-08-03T15:59:22.834034Z",
     "iopub.status.busy": "2024-08-03T15:59:22.833868Z",
     "iopub.status.idle": "2024-08-03T15:59:22.837758Z",
     "shell.execute_reply": "2024-08-03T15:59:22.837451Z"
    },
    "papermill": {
     "duration": 0.014489,
     "end_time": "2024-08-03T15:59:22.838770",
     "exception": false,
     "start_time": "2024-08-03T15:59:22.824281",
     "status": "completed"
    },
    "tags": []
   },
   "outputs": [],
   "source": [
    "filtered_nat_curr = utils.calculate_input_value_ratios(data_nat_curr)"
   ]
  },
  {
   "cell_type": "markdown",
   "id": "ed2c760b",
   "metadata": {
    "papermill": {
     "duration": 0.011466,
     "end_time": "2024-08-03T15:59:22.857545",
     "exception": false,
     "start_time": "2024-08-03T15:59:22.846079",
     "status": "completed"
    },
    "tags": []
   },
   "source": [
    "## Calculate input values to value ratios"
   ]
  },
  {
   "cell_type": "code",
   "execution_count": null,
   "id": "785063ff",
   "metadata": {
    "execution": {
     "iopub.execute_input": "2024-08-03T15:59:22.872155Z",
     "iopub.status.busy": "2024-08-03T15:59:22.871964Z",
     "iopub.status.idle": "2024-08-03T15:59:22.874832Z",
     "shell.execute_reply": "2024-08-03T15:59:22.874418Z"
    },
    "papermill": {
     "duration": 0.011257,
     "end_time": "2024-08-03T15:59:22.875746",
     "exception": false,
     "start_time": "2024-08-03T15:59:22.864489",
     "status": "completed"
    },
    "tags": []
   },
   "outputs": [],
   "source": [
    "ratios_nat_curr = utils.ratios_input_filter(filtered_nat_curr)"
   ]
  },
  {
   "cell_type": "markdown",
   "id": "ede61c56",
   "metadata": {
    "papermill": {
     "duration": 0.007454,
     "end_time": "2024-08-03T15:59:22.889669",
     "exception": false,
     "start_time": "2024-08-03T15:59:22.882215",
     "status": "completed"
    },
    "tags": []
   },
   "source": [
    "## Calculate performance parameters (current ratio, ROA, ROE, margins, D/E)"
   ]
  },
  {
   "cell_type": "code",
   "execution_count": null,
   "id": "d58b787b",
   "metadata": {
    "execution": {
     "iopub.execute_input": "2024-08-03T15:59:22.901051Z",
     "iopub.status.busy": "2024-08-03T15:59:22.900836Z",
     "iopub.status.idle": "2024-08-03T15:59:22.907231Z",
     "shell.execute_reply": "2024-08-03T15:59:22.906917Z"
    },
    "papermill": {
     "duration": 0.013263,
     "end_time": "2024-08-03T15:59:22.908177",
     "exception": false,
     "start_time": "2024-08-03T15:59:22.894914",
     "status": "completed"
    },
    "tags": []
   },
   "outputs": [],
   "source": [
    "ratios_nat_curr = utils.evaluate_performance(input=filtered_nat_curr, output=ratios_nat_curr)"
   ]
  },
  {
   "cell_type": "markdown",
   "id": "4162aa26",
   "metadata": {
    "papermill": {
     "duration": 0.023123,
     "end_time": "2024-08-03T15:59:22.941858",
     "exception": false,
     "start_time": "2024-08-03T15:59:22.918735",
     "status": "completed"
    },
    "tags": []
   },
   "source": [
    "# 4. Pull historical share prices and merge with sattement data"
   ]
  },
  {
   "cell_type": "code",
   "execution_count": null,
   "id": "e5c3dd71",
   "metadata": {
    "execution": {
     "iopub.execute_input": "2024-08-03T15:59:22.962265Z",
     "iopub.status.busy": "2024-08-03T15:59:22.962116Z",
     "iopub.status.idle": "2024-08-03T15:59:23.257819Z",
     "shell.execute_reply": "2024-08-03T15:59:23.257449Z"
    },
    "papermill": {
     "duration": 0.3069,
     "end_time": "2024-08-03T15:59:23.259009",
     "exception": false,
     "start_time": "2024-08-03T15:59:22.952109",
     "status": "completed"
    },
    "tags": []
   },
   "outputs": [],
   "source": [
    "# pull weekly share prices and merge with the value ratios\n",
    "merged_nat_curr = utils.add_share_prices_to_value_ratios(share_name, data, ratios_nat_curr)\n",
    "merged_nat_curr.head()"
   ]
  },
  {
   "cell_type": "markdown",
   "id": "154a459d",
   "metadata": {
    "papermill": {
     "duration": 0.016584,
     "end_time": "2024-08-03T15:59:23.289530",
     "exception": false,
     "start_time": "2024-08-03T15:59:23.272946",
     "status": "completed"
    },
    "tags": []
   },
   "source": [
    "# Calculate price ratios (P/E, P/B, P/S, P/FCF)"
   ]
  },
  {
   "cell_type": "code",
   "execution_count": null,
   "id": "84803e0a",
   "metadata": {
    "execution": {
     "iopub.execute_input": "2024-08-03T15:59:23.319488Z",
     "iopub.status.busy": "2024-08-03T15:59:23.319155Z",
     "iopub.status.idle": "2024-08-03T15:59:23.330437Z",
     "shell.execute_reply": "2024-08-03T15:59:23.330136Z"
    },
    "papermill": {
     "duration": 0.027779,
     "end_time": "2024-08-03T15:59:23.331351",
     "exception": false,
     "start_time": "2024-08-03T15:59:23.303572",
     "status": "completed"
    },
    "tags": []
   },
   "outputs": [],
   "source": [
    "merged_nat_curr = utils.price_ratios(merged_nat_curr)\n",
    "merged_nat_curr.head()"
   ]
  },
  {
   "cell_type": "markdown",
   "id": "f1d7e62e",
   "metadata": {
    "papermill": {
     "duration": 0.010967,
     "end_time": "2024-08-03T15:59:23.353982",
     "exception": false,
     "start_time": "2024-08-03T15:59:23.343015",
     "status": "completed"
    },
    "tags": []
   },
   "source": [
    "# Calculate Dividend yield and currency-share price correlation"
   ]
  },
  {
   "cell_type": "code",
   "execution_count": null,
   "id": "4d194d8f",
   "metadata": {
    "execution": {
     "iopub.execute_input": "2024-08-03T15:59:23.378168Z",
     "iopub.status.busy": "2024-08-03T15:59:23.378014Z",
     "iopub.status.idle": "2024-08-03T15:59:23.767111Z",
     "shell.execute_reply": "2024-08-03T15:59:23.766604Z"
    },
    "papermill": {
     "duration": 0.402752,
     "end_time": "2024-08-03T15:59:23.768938",
     "exception": false,
     "start_time": "2024-08-03T15:59:23.366186",
     "status": "completed"
    },
    "tags": []
   },
   "outputs": [],
   "source": [
    "# get daily historical USD-national currency rates\n",
    "usd_nat_curr = utils.get_historical_currency_rate(currency_pair, merged_nat_curr)"
   ]
  },
  {
   "cell_type": "code",
   "execution_count": null,
   "id": "f3391d81",
   "metadata": {
    "execution": {
     "iopub.execute_input": "2024-08-03T15:59:23.805774Z",
     "iopub.status.busy": "2024-08-03T15:59:23.805590Z",
     "iopub.status.idle": "2024-08-03T15:59:24.267437Z",
     "shell.execute_reply": "2024-08-03T15:59:24.266969Z"
    },
    "papermill": {
     "duration": 0.478717,
     "end_time": "2024-08-03T15:59:24.268738",
     "exception": false,
     "start_time": "2024-08-03T15:59:23.790021",
     "status": "completed"
    },
    "tags": []
   },
   "outputs": [],
   "source": [
    "# get share prices and dividend yield data\n",
    "ticker_all_price = utils.get_historical_share_dividend(share_name, merged_nat_curr)"
   ]
  },
  {
   "cell_type": "code",
   "execution_count": null,
   "id": "f29ea234",
   "metadata": {
    "execution": {
     "iopub.execute_input": "2024-08-03T15:59:24.286038Z",
     "iopub.status.busy": "2024-08-03T15:59:24.285889Z",
     "iopub.status.idle": "2024-08-03T15:59:24.462327Z",
     "shell.execute_reply": "2024-08-03T15:59:24.462069Z"
    },
    "papermill": {
     "duration": 0.183683,
     "end_time": "2024-08-03T15:59:24.463240",
     "exception": false,
     "start_time": "2024-08-03T15:59:24.279557",
     "status": "completed"
    },
    "tags": []
   },
   "outputs": [],
   "source": [
    "# Pearson's correlation coefficient between share price and USD - national currency rate\n",
    "utils.get_currency_share_price_correlation(share_name, usd_nat_curr, ticker_all_price)"
   ]
  },
  {
   "cell_type": "markdown",
   "id": "6c27e89a",
   "metadata": {
    "papermill": {
     "duration": 0.010847,
     "end_time": "2024-08-03T15:59:24.484606",
     "exception": false,
     "start_time": "2024-08-03T15:59:24.473759",
     "status": "completed"
    },
    "tags": []
   },
   "source": [
    "# Share price and value ratios"
   ]
  },
  {
   "cell_type": "code",
   "execution_count": null,
   "id": "8e79515d",
   "metadata": {
    "execution": {
     "iopub.execute_input": "2024-08-03T15:59:24.507999Z",
     "iopub.status.busy": "2024-08-03T15:59:24.507859Z",
     "iopub.status.idle": "2024-08-03T15:59:28.836084Z",
     "shell.execute_reply": "2024-08-03T15:59:28.835824Z"
    },
    "papermill": {
     "duration": 4.34134,
     "end_time": "2024-08-03T15:59:28.837270",
     "exception": false,
     "start_time": "2024-08-03T15:59:24.495930",
     "status": "completed"
    },
    "tags": []
   },
   "outputs": [],
   "source": [
    "for column in merged_nat_curr.columns[3:]:\n",
    "    fig, ax1 = plt.subplots(figsize=(15, 6))\n",
    "\n",
    "    ax2 = ax1.twinx()\n",
    "    ax1.plot(merged_nat_curr['real_date'], merged_nat_curr[column], color='k', label=merged_nat_curr)\n",
    "    ax2.plot(ticker_all_price.index, ticker_all_price['Close'], color='b', label=share_name)\n",
    "\n",
    "    ax1.set_xlabel('Date')\n",
    "    ax1.set_ylabel(column, color='k')\n",
    "    ax2.set_ylabel('Share price (national currency)', color='b')\n",
    "\n",
    "    plt.legend()\n",
    "    plt.show()"
   ]
  },
  {
   "cell_type": "code",
   "execution_count": null,
   "id": "ec800022",
   "metadata": {
    "execution": {
     "iopub.execute_input": "2024-08-03T15:59:28.889084Z",
     "iopub.status.busy": "2024-08-03T15:59:28.888943Z",
     "iopub.status.idle": "2024-08-03T15:59:29.759553Z",
     "shell.execute_reply": "2024-08-03T15:59:29.759281Z"
    },
    "papermill": {
     "duration": 0.898392,
     "end_time": "2024-08-03T15:59:29.760475",
     "exception": false,
     "start_time": "2024-08-03T15:59:28.862083",
     "status": "completed"
    },
    "tags": []
   },
   "outputs": [],
   "source": [
    "# plot histograms of value parameters\n",
    "utils.plot_histogram_value_parameters(input_df=merged_nat_curr, extra_parameters=[], owned_shares=owned_shares)"
   ]
  },
  {
   "cell_type": "markdown",
   "id": "62f3d01f",
   "metadata": {
    "papermill": {
     "duration": 0.020623,
     "end_time": "2024-08-03T15:59:29.803748",
     "exception": false,
     "start_time": "2024-08-03T15:59:29.783125",
     "status": "completed"
    },
    "tags": []
   },
   "source": [
    "## Calculate correlation between value parameters"
   ]
  },
  {
   "cell_type": "code",
   "execution_count": null,
   "id": "83578318",
   "metadata": {
    "execution": {
     "iopub.execute_input": "2024-08-03T15:59:29.852918Z",
     "iopub.status.busy": "2024-08-03T15:59:29.852749Z",
     "iopub.status.idle": "2024-08-03T15:59:29.858159Z",
     "shell.execute_reply": "2024-08-03T15:59:29.857926Z"
    },
    "papermill": {
     "duration": 0.03186,
     "end_time": "2024-08-03T15:59:29.859014",
     "exception": false,
     "start_time": "2024-08-03T15:59:29.827154",
     "status": "completed"
    },
    "tags": []
   },
   "outputs": [],
   "source": [
    "# calulate value parameters Pearson's correlation coefficient\n",
    "pd.DataFrame(merged_nat_curr, columns=['roa', 'roe', 'pe_ratio', 'pb_ratio', 'ps_ratio', 'ev_revenue', 'debt_to_equity', 'current_ratio']).corr()"
   ]
  },
  {
   "cell_type": "code",
   "execution_count": null,
   "id": "e1db23ba",
   "metadata": {},
   "outputs": [],
   "source": [
    "final_df = utils.get_value_stock_target_prices(\n",
    "    input_df=merged_nat_curr,\n",
    "    min_pct=0.2,\n",
    "    max_pct=0.5,\n",
    "    owned_shares=owned_shares\n",
    ")"
   ]
  }
 ],
 "metadata": {
  "kernelspec": {
   "display_name": ".venv",
   "language": "python",
   "name": "python3"
  },
  "language_info": {
   "codemirror_mode": {
    "name": "ipython",
    "version": 3
   },
   "file_extension": ".py",
   "mimetype": "text/x-python",
   "name": "python",
   "nbconvert_exporter": "python",
   "pygments_lexer": "ipython3",
   "version": "3.11.3"
  },
  "papermill": {
   "default_parameters": {},
   "duration": 18.871486,
   "end_time": "2024-08-03T15:59:30.318176",
   "environment_variables": {},
   "exception": null,
   "input_path": "../notebooks/wacker_chemie_national.ipynb",
   "output_path": "../notebooks/wacker_chemie_national.ipynb",
   "parameters": {},
   "start_time": "2024-08-03T15:59:11.446690",
   "version": "2.5.0"
  }
 },
 "nbformat": 4,
 "nbformat_minor": 5
}
