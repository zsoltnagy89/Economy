{
 "cells": [
  {
   "cell_type": "code",
   "execution_count": 1,
   "metadata": {},
   "outputs": [],
   "source": [
    "import yfinance as yf"
   ]
  },
  {
   "cell_type": "code",
   "execution_count": 2,
   "metadata": {},
   "outputs": [
    {
     "name": "stdout",
     "output_type": "stream",
     "text": [
      "[*********************100%%**********************]  1 of 1 completed\n"
     ]
    }
   ],
   "source": [
    "data = yf.download(\n",
    "    tickers=\"TSN\",\n",
    "    start=\"2010-10-01\",\n",
    "    period=\"max\",\n",
    "    interval=\"1wk\"\n",
    "    )"
   ]
  },
  {
   "cell_type": "code",
   "execution_count": 3,
   "metadata": {},
   "outputs": [
    {
     "data": {
      "text/html": [
       "<div>\n",
       "<style scoped>\n",
       "    .dataframe tbody tr th:only-of-type {\n",
       "        vertical-align: middle;\n",
       "    }\n",
       "\n",
       "    .dataframe tbody tr th {\n",
       "        vertical-align: top;\n",
       "    }\n",
       "\n",
       "    .dataframe thead th {\n",
       "        text-align: right;\n",
       "    }\n",
       "</style>\n",
       "<table border=\"1\" class=\"dataframe\">\n",
       "  <thead>\n",
       "    <tr style=\"text-align: right;\">\n",
       "      <th></th>\n",
       "      <th>Open</th>\n",
       "      <th>High</th>\n",
       "      <th>Low</th>\n",
       "      <th>Close</th>\n",
       "      <th>Adj Close</th>\n",
       "      <th>Volume</th>\n",
       "    </tr>\n",
       "    <tr>\n",
       "      <th>Date</th>\n",
       "      <th></th>\n",
       "      <th></th>\n",
       "      <th></th>\n",
       "      <th></th>\n",
       "      <th></th>\n",
       "      <th></th>\n",
       "    </tr>\n",
       "  </thead>\n",
       "  <tbody>\n",
       "    <tr>\n",
       "      <th>2010-09-27</th>\n",
       "      <td>16.190001</td>\n",
       "      <td>16.33</td>\n",
       "      <td>15.92</td>\n",
       "      <td>16.26</td>\n",
       "      <td>13.101141</td>\n",
       "      <td>6623700</td>\n",
       "    </tr>\n",
       "    <tr>\n",
       "      <th>2010-10-04</th>\n",
       "      <td>16.190001</td>\n",
       "      <td>16.27</td>\n",
       "      <td>14.82</td>\n",
       "      <td>15.01</td>\n",
       "      <td>12.093980</td>\n",
       "      <td>33621100</td>\n",
       "    </tr>\n",
       "    <tr>\n",
       "      <th>2010-10-11</th>\n",
       "      <td>15.050000</td>\n",
       "      <td>15.48</td>\n",
       "      <td>14.59</td>\n",
       "      <td>15.36</td>\n",
       "      <td>12.375986</td>\n",
       "      <td>35239700</td>\n",
       "    </tr>\n",
       "    <tr>\n",
       "      <th>2010-10-18</th>\n",
       "      <td>15.400000</td>\n",
       "      <td>15.80</td>\n",
       "      <td>15.26</td>\n",
       "      <td>15.63</td>\n",
       "      <td>12.593533</td>\n",
       "      <td>21574900</td>\n",
       "    </tr>\n",
       "    <tr>\n",
       "      <th>2010-10-25</th>\n",
       "      <td>15.760000</td>\n",
       "      <td>15.98</td>\n",
       "      <td>15.40</td>\n",
       "      <td>15.55</td>\n",
       "      <td>12.529076</td>\n",
       "      <td>16589200</td>\n",
       "    </tr>\n",
       "  </tbody>\n",
       "</table>\n",
       "</div>"
      ],
      "text/plain": [
       "                 Open   High    Low  Close  Adj Close    Volume\n",
       "Date                                                           \n",
       "2010-09-27  16.190001  16.33  15.92  16.26  13.101141   6623700\n",
       "2010-10-04  16.190001  16.27  14.82  15.01  12.093980  33621100\n",
       "2010-10-11  15.050000  15.48  14.59  15.36  12.375986  35239700\n",
       "2010-10-18  15.400000  15.80  15.26  15.63  12.593533  21574900\n",
       "2010-10-25  15.760000  15.98  15.40  15.55  12.529076  16589200"
      ]
     },
     "execution_count": 3,
     "metadata": {},
     "output_type": "execute_result"
    }
   ],
   "source": [
    "data.head()"
   ]
  }
 ],
 "metadata": {
  "kernelspec": {
   "display_name": ".venv",
   "language": "python",
   "name": "python3"
  },
  "language_info": {
   "codemirror_mode": {
    "name": "ipython",
    "version": 3
   },
   "file_extension": ".py",
   "mimetype": "text/x-python",
   "name": "python",
   "nbconvert_exporter": "python",
   "pygments_lexer": "ipython3",
   "version": "3.11.3"
  },
  "orig_nbformat": 4
 },
 "nbformat": 4,
 "nbformat_minor": 2
}
