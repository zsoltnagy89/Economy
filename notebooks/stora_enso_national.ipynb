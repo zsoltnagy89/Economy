{
 "cells": [
  {
   "cell_type": "code",
   "execution_count": null,
   "id": "56335649",
   "metadata": {
    "execution": {
     "iopub.execute_input": "2024-08-03T15:52:08.175940Z",
     "iopub.status.busy": "2024-08-03T15:52:08.175561Z",
     "iopub.status.idle": "2024-08-03T15:52:08.953404Z",
     "shell.execute_reply": "2024-08-03T15:52:08.953111Z"
    },
    "papermill": {
     "duration": 0.798206,
     "end_time": "2024-08-03T15:52:08.954471",
     "exception": false,
     "start_time": "2024-08-03T15:52:08.156265",
     "status": "completed"
    },
    "tags": []
   },
   "outputs": [],
   "source": [
    "import pandas as pd\n",
    "import matplotlib.pyplot as plt\n",
    "import numpy as np\n",
    "\n",
    "import yfinance as yf\n",
    "import datetime\n",
    "\n",
    "from valueinvesting import utils as utils"
   ]
  },
  {
   "cell_type": "markdown",
   "id": "7608876e",
   "metadata": {
    "papermill": {
     "duration": 0.006035,
     "end_time": "2024-08-03T15:52:08.965870",
     "exception": false,
     "start_time": "2024-08-03T15:52:08.959835",
     "status": "completed"
    },
    "tags": []
   },
   "source": [
    "# 1. Load raw input\n",
    "## Hardcoded block"
   ]
  },
  {
   "cell_type": "code",
   "execution_count": null,
   "id": "96184488",
   "metadata": {
    "execution": {
     "iopub.execute_input": "2024-08-03T15:52:08.976350Z",
     "iopub.status.busy": "2024-08-03T15:52:08.976172Z",
     "iopub.status.idle": "2024-08-03T15:52:08.978108Z",
     "shell.execute_reply": "2024-08-03T15:52:08.977856Z"
    },
    "papermill": {
     "duration": 0.008236,
     "end_time": "2024-08-03T15:52:08.978970",
     "exception": false,
     "start_time": "2024-08-03T15:52:08.970734",
     "status": "completed"
    },
    "tags": []
   },
   "outputs": [],
   "source": [
    "evaluate_last_X_years = True\n",
    "X=10\n",
    "currency_pair = 'EUR=X'\n",
    "numbers_in_currency = 'EUR'\n",
    "share_name = 'STERV.HE'"
   ]
  },
  {
   "cell_type": "markdown",
   "id": "df39a5ed",
   "metadata": {
    "papermill": {
     "duration": 0.017165,
     "end_time": "2024-08-03T15:52:09.002738",
     "exception": false,
     "start_time": "2024-08-03T15:52:08.985573",
     "status": "completed"
    },
    "tags": []
   },
   "source": [
    "# 1.1 Calculate Share numbers from total distributed dividend (CFS) and dividend amount"
   ]
  },
  {
   "cell_type": "markdown",
   "id": "fd419fe2",
   "metadata": {
    "papermill": {
     "duration": 0.005205,
     "end_time": "2024-08-03T15:52:09.013697",
     "exception": false,
     "start_time": "2024-08-03T15:52:09.008492",
     "status": "completed"
    },
    "tags": []
   },
   "source": [
    "# 1.2. Raw input statement data"
   ]
  },
  {
   "cell_type": "code",
   "execution_count": null,
   "id": "85ece7a6",
   "metadata": {
    "execution": {
     "iopub.execute_input": "2024-08-03T15:52:09.025709Z",
     "iopub.status.busy": "2024-08-03T15:52:09.025470Z",
     "iopub.status.idle": "2024-08-03T15:52:09.038187Z",
     "shell.execute_reply": "2024-08-03T15:52:09.037866Z"
    },
    "papermill": {
     "duration": 0.019891,
     "end_time": "2024-08-03T15:52:09.039242",
     "exception": false,
     "start_time": "2024-08-03T15:52:09.019351",
     "status": "completed"
    },
    "tags": []
   },
   "outputs": [],
   "source": [
    "route = f\"../data/input/{share_name}_data.csv\"\n",
    "data = pd.read_csv(route, sep=';', parse_dates=['date', 'real_date'])\n",
    "# replace -, extend missing 0-s, fix datatype\n",
    "data = utils.replace_format_input(data)"
   ]
  },
  {
   "cell_type": "code",
   "execution_count": null,
   "id": "e61fb31d",
   "metadata": {
    "execution": {
     "iopub.execute_input": "2024-08-03T15:52:09.052257Z",
     "iopub.status.busy": "2024-08-03T15:52:09.052034Z",
     "iopub.status.idle": "2024-08-03T15:52:09.056317Z",
     "shell.execute_reply": "2024-08-03T15:52:09.056037Z"
    },
    "papermill": {
     "duration": 0.01243,
     "end_time": "2024-08-03T15:52:09.057404",
     "exception": false,
     "start_time": "2024-08-03T15:52:09.044974",
     "status": "completed"
    },
    "tags": []
   },
   "outputs": [],
   "source": [
    "owned_shares = pd.read_csv('../data/extras/owned_stocks.csv', sep=';', parse_dates=['date'])\n",
    "owned_shares = owned_shares.loc[(owned_shares['stock'] == share_name) & (owned_shares['active'] == 'yes')]"
   ]
  },
  {
   "cell_type": "markdown",
   "id": "a5bd00d6",
   "metadata": {
    "papermill": {
     "duration": 0.008079,
     "end_time": "2024-08-03T15:52:09.076233",
     "exception": false,
     "start_time": "2024-08-03T15:52:09.068154",
     "status": "completed"
    },
    "tags": []
   },
   "source": [
    "## (OPTIONAL) Time Filtering - Last 7 years daat"
   ]
  },
  {
   "cell_type": "code",
   "execution_count": null,
   "id": "0022d627",
   "metadata": {
    "execution": {
     "iopub.execute_input": "2024-08-03T15:52:09.090360Z",
     "iopub.status.busy": "2024-08-03T15:52:09.090235Z",
     "iopub.status.idle": "2024-08-03T15:52:09.102903Z",
     "shell.execute_reply": "2024-08-03T15:52:09.102625Z"
    },
    "papermill": {
     "duration": 0.020293,
     "end_time": "2024-08-03T15:52:09.103715",
     "exception": false,
     "start_time": "2024-08-03T15:52:09.083422",
     "status": "completed"
    },
    "tags": []
   },
   "outputs": [],
   "source": [
    "if evaluate_last_X_years:\n",
    "    data = data[data['date'] > datetime.datetime.today() - datetime.timedelta(days=X*366+93)]\n",
    "    data = data.reset_index(drop=True)\n",
    "\n",
    "data.head()"
   ]
  },
  {
   "cell_type": "markdown",
   "id": "e9f677b1",
   "metadata": {
    "papermill": {
     "duration": 0.006764,
     "end_time": "2024-08-03T15:52:09.119747",
     "exception": false,
     "start_time": "2024-08-03T15:52:09.112983",
     "status": "completed"
    },
    "tags": []
   },
   "source": [
    "## Calculate date when quaterly reports could be available"
   ]
  },
  {
   "cell_type": "code",
   "execution_count": null,
   "id": "2556f696",
   "metadata": {
    "execution": {
     "iopub.execute_input": "2024-08-03T15:52:09.134208Z",
     "iopub.status.busy": "2024-08-03T15:52:09.134063Z",
     "iopub.status.idle": "2024-08-03T15:52:09.136008Z",
     "shell.execute_reply": "2024-08-03T15:52:09.135700Z"
    },
    "papermill": {
     "duration": 0.01146,
     "end_time": "2024-08-03T15:52:09.136904",
     "exception": false,
     "start_time": "2024-08-03T15:52:09.125444",
     "status": "completed"
    },
    "tags": []
   },
   "outputs": [],
   "source": [
    "data = utils.calculate_real_date(data)"
   ]
  },
  {
   "cell_type": "markdown",
   "id": "15c452ed",
   "metadata": {
    "papermill": {
     "duration": 0.006574,
     "end_time": "2024-08-03T15:52:09.149587",
     "exception": false,
     "start_time": "2024-08-03T15:52:09.143013",
     "status": "completed"
    },
    "tags": []
   },
   "source": [
    "# 2. Filter out unnecesary columns"
   ]
  },
  {
   "cell_type": "code",
   "execution_count": null,
   "id": "3041a10b",
   "metadata": {
    "execution": {
     "iopub.execute_input": "2024-08-03T15:52:09.161791Z",
     "iopub.status.busy": "2024-08-03T15:52:09.161651Z",
     "iopub.status.idle": "2024-08-03T15:52:09.168459Z",
     "shell.execute_reply": "2024-08-03T15:52:09.168207Z"
    },
    "papermill": {
     "duration": 0.013722,
     "end_time": "2024-08-03T15:52:09.169263",
     "exception": false,
     "start_time": "2024-08-03T15:52:09.155541",
     "status": "completed"
    },
    "tags": []
   },
   "outputs": [],
   "source": [
    "data = utils.filter_raw_data(data)\n",
    "data.tail()"
   ]
  },
  {
   "cell_type": "markdown",
   "id": "14809800",
   "metadata": {
    "papermill": {
     "duration": 0.007123,
     "end_time": "2024-08-03T15:52:09.182701",
     "exception": false,
     "start_time": "2024-08-03T15:52:09.175578",
     "status": "completed"
    },
    "tags": []
   },
   "source": [
    "## Pull historical average USD national currency rates and add to the dataframe"
   ]
  },
  {
   "cell_type": "code",
   "execution_count": null,
   "id": "b711e620",
   "metadata": {
    "execution": {
     "iopub.execute_input": "2024-08-03T15:52:09.234193Z",
     "iopub.status.busy": "2024-08-03T15:52:09.234042Z",
     "iopub.status.idle": "2024-08-03T15:52:17.545296Z",
     "shell.execute_reply": "2024-08-03T15:52:17.544805Z"
    },
    "papermill": {
     "duration": 8.323499,
     "end_time": "2024-08-03T15:52:17.547212",
     "exception": false,
     "start_time": "2024-08-03T15:52:09.223713",
     "status": "completed"
    },
    "tags": []
   },
   "outputs": [],
   "source": [
    "data['usd_nat_currency'] = utils.daily_price(\n",
    "    ticker=currency_pair,\n",
    "    end=data['date'],\n",
    "    days_earlier=90\n",
    "    )\n",
    "\n",
    "# drop rows, when USD rates wasn't available\n",
    "data = data[data['usd_nat_currency'].notna()]\n",
    "\n",
    "data.tail()"
   ]
  },
  {
   "cell_type": "markdown",
   "id": "0c39ea23",
   "metadata": {
    "papermill": {
     "duration": 0.016335,
     "end_time": "2024-08-03T15:52:17.584060",
     "exception": false,
     "start_time": "2024-08-03T15:52:17.567725",
     "status": "completed"
    },
    "tags": []
   },
   "source": [
    "## Convert USD values related to IS, BS, CFS to national currency"
   ]
  },
  {
   "cell_type": "code",
   "execution_count": null,
   "id": "4d5a79f4",
   "metadata": {
    "execution": {
     "iopub.execute_input": "2024-08-03T15:52:17.612124Z",
     "iopub.status.busy": "2024-08-03T15:52:17.611885Z",
     "iopub.status.idle": "2024-08-03T15:52:17.621549Z",
     "shell.execute_reply": "2024-08-03T15:52:17.621157Z"
    },
    "papermill": {
     "duration": 0.024231,
     "end_time": "2024-08-03T15:52:17.622852",
     "exception": false,
     "start_time": "2024-08-03T15:52:17.598621",
     "status": "completed"
    },
    "tags": []
   },
   "outputs": [],
   "source": [
    "# convert columns into national currency if necessary\n",
    "if numbers_in_currency == 'USD':\n",
    "    data_nat_curr = utils.convert_national_currency(input_data=data, currency=data)\n",
    "else:\n",
    "    data_nat_curr = data.copy()\n",
    "data_nat_curr.tail()"
   ]
  },
  {
   "cell_type": "markdown",
   "id": "bdde8ee4",
   "metadata": {
    "papermill": {
     "duration": 0.012531,
     "end_time": "2024-08-03T15:52:17.647160",
     "exception": false,
     "start_time": "2024-08-03T15:52:17.634629",
     "status": "completed"
    },
    "tags": []
   },
   "source": [
    "# 3. Calculate input to Value Raios (eps, bv per share, fcf)\n",
    "## filter out unwanted columns"
   ]
  },
  {
   "cell_type": "code",
   "execution_count": null,
   "id": "c436bd6f",
   "metadata": {
    "execution": {
     "iopub.execute_input": "2024-08-03T15:52:17.671241Z",
     "iopub.status.busy": "2024-08-03T15:52:17.671081Z",
     "iopub.status.idle": "2024-08-03T15:52:17.675307Z",
     "shell.execute_reply": "2024-08-03T15:52:17.674920Z"
    },
    "papermill": {
     "duration": 0.017817,
     "end_time": "2024-08-03T15:52:17.676820",
     "exception": false,
     "start_time": "2024-08-03T15:52:17.659003",
     "status": "completed"
    },
    "tags": []
   },
   "outputs": [],
   "source": [
    "filtered_nat_curr = utils.calculate_input_value_ratios(data_nat_curr)"
   ]
  },
  {
   "cell_type": "markdown",
   "id": "0ba660c8",
   "metadata": {
    "papermill": {
     "duration": 0.009271,
     "end_time": "2024-08-03T15:52:17.695826",
     "exception": false,
     "start_time": "2024-08-03T15:52:17.686555",
     "status": "completed"
    },
    "tags": []
   },
   "source": [
    "## Calculate input values to value ratios"
   ]
  },
  {
   "cell_type": "code",
   "execution_count": null,
   "id": "448cdec8",
   "metadata": {
    "execution": {
     "iopub.execute_input": "2024-08-03T15:52:17.715695Z",
     "iopub.status.busy": "2024-08-03T15:52:17.715527Z",
     "iopub.status.idle": "2024-08-03T15:52:17.718233Z",
     "shell.execute_reply": "2024-08-03T15:52:17.717917Z"
    },
    "papermill": {
     "duration": 0.014337,
     "end_time": "2024-08-03T15:52:17.719160",
     "exception": false,
     "start_time": "2024-08-03T15:52:17.704823",
     "status": "completed"
    },
    "tags": []
   },
   "outputs": [],
   "source": [
    "ratios_nat_curr = utils.ratios_input_filter(filtered_nat_curr)"
   ]
  },
  {
   "cell_type": "markdown",
   "id": "0f642815",
   "metadata": {
    "papermill": {
     "duration": 0.00881,
     "end_time": "2024-08-03T15:52:17.738447",
     "exception": false,
     "start_time": "2024-08-03T15:52:17.729637",
     "status": "completed"
    },
    "tags": []
   },
   "source": [
    "## Calculate performance parameters (current ratio, ROA, ROE, margins, D/E)"
   ]
  },
  {
   "cell_type": "code",
   "execution_count": null,
   "id": "57bc4b99",
   "metadata": {
    "execution": {
     "iopub.execute_input": "2024-08-03T15:52:17.756507Z",
     "iopub.status.busy": "2024-08-03T15:52:17.756276Z",
     "iopub.status.idle": "2024-08-03T15:52:17.762677Z",
     "shell.execute_reply": "2024-08-03T15:52:17.762428Z"
    },
    "papermill": {
     "duration": 0.014981,
     "end_time": "2024-08-03T15:52:17.763765",
     "exception": false,
     "start_time": "2024-08-03T15:52:17.748784",
     "status": "completed"
    },
    "tags": []
   },
   "outputs": [],
   "source": [
    "ratios_nat_curr = utils.evaluate_performance(input=filtered_nat_curr, output=ratios_nat_curr)"
   ]
  },
  {
   "cell_type": "markdown",
   "id": "d917c046",
   "metadata": {
    "papermill": {
     "duration": 0.007041,
     "end_time": "2024-08-03T15:52:17.777609",
     "exception": false,
     "start_time": "2024-08-03T15:52:17.770568",
     "status": "completed"
    },
    "tags": []
   },
   "source": [
    "# 4. Pull historical share prices and merge with sattement data"
   ]
  },
  {
   "cell_type": "code",
   "execution_count": null,
   "id": "163516d0",
   "metadata": {
    "execution": {
     "iopub.execute_input": "2024-08-03T15:52:17.790854Z",
     "iopub.status.busy": "2024-08-03T15:52:17.790713Z",
     "iopub.status.idle": "2024-08-03T15:52:18.120236Z",
     "shell.execute_reply": "2024-08-03T15:52:18.119841Z"
    },
    "papermill": {
     "duration": 0.337326,
     "end_time": "2024-08-03T15:52:18.121431",
     "exception": false,
     "start_time": "2024-08-03T15:52:17.784105",
     "status": "completed"
    },
    "tags": []
   },
   "outputs": [],
   "source": [
    "# pull weekly share prices and merge with the value ratios\n",
    "merged_nat_curr = utils.add_share_prices_to_value_ratios(share_name, data, ratios_nat_curr)\n",
    "merged_nat_curr.head()"
   ]
  },
  {
   "cell_type": "markdown",
   "id": "56c0bc23",
   "metadata": {
    "papermill": {
     "duration": 0.010072,
     "end_time": "2024-08-03T15:52:18.144751",
     "exception": false,
     "start_time": "2024-08-03T15:52:18.134679",
     "status": "completed"
    },
    "tags": []
   },
   "source": [
    "# Calculate price ratios (P/E, P/B, P/S, P/FCF)"
   ]
  },
  {
   "cell_type": "code",
   "execution_count": null,
   "id": "1cfc60ed",
   "metadata": {
    "execution": {
     "iopub.execute_input": "2024-08-03T15:52:18.161581Z",
     "iopub.status.busy": "2024-08-03T15:52:18.161397Z",
     "iopub.status.idle": "2024-08-03T15:52:18.172079Z",
     "shell.execute_reply": "2024-08-03T15:52:18.171824Z"
    },
    "papermill": {
     "duration": 0.020144,
     "end_time": "2024-08-03T15:52:18.172989",
     "exception": false,
     "start_time": "2024-08-03T15:52:18.152845",
     "status": "completed"
    },
    "tags": []
   },
   "outputs": [],
   "source": [
    "merged_nat_curr = utils.price_ratios(merged_nat_curr)\n",
    "merged_nat_curr.head()"
   ]
  },
  {
   "cell_type": "markdown",
   "id": "032a2d3b",
   "metadata": {
    "papermill": {
     "duration": 0.009739,
     "end_time": "2024-08-03T15:52:18.193745",
     "exception": false,
     "start_time": "2024-08-03T15:52:18.184006",
     "status": "completed"
    },
    "tags": []
   },
   "source": [
    "# Calculate Dividend yield and currency-share price correlation"
   ]
  },
  {
   "cell_type": "code",
   "execution_count": null,
   "id": "ccfe604e",
   "metadata": {
    "execution": {
     "iopub.execute_input": "2024-08-03T15:52:18.213912Z",
     "iopub.status.busy": "2024-08-03T15:52:18.213607Z",
     "iopub.status.idle": "2024-08-03T15:52:18.551982Z",
     "shell.execute_reply": "2024-08-03T15:52:18.551485Z"
    },
    "papermill": {
     "duration": 0.350323,
     "end_time": "2024-08-03T15:52:18.553781",
     "exception": false,
     "start_time": "2024-08-03T15:52:18.203458",
     "status": "completed"
    },
    "tags": []
   },
   "outputs": [],
   "source": [
    "# get daily historical USD-national currency rates\n",
    "usd_nat_curr = utils.get_historical_currency_rate(currency_pair, merged_nat_curr)"
   ]
  },
  {
   "cell_type": "code",
   "execution_count": null,
   "id": "487eb728",
   "metadata": {
    "execution": {
     "iopub.execute_input": "2024-08-03T15:52:18.586538Z",
     "iopub.status.busy": "2024-08-03T15:52:18.586317Z",
     "iopub.status.idle": "2024-08-03T15:52:19.145984Z",
     "shell.execute_reply": "2024-08-03T15:52:19.145528Z"
    },
    "papermill": {
     "duration": 0.577123,
     "end_time": "2024-08-03T15:52:19.146898",
     "exception": false,
     "start_time": "2024-08-03T15:52:18.569775",
     "status": "completed"
    },
    "tags": []
   },
   "outputs": [],
   "source": [
    "# get share prices and dividend yield data\n",
    "ticker_all_price = utils.get_historical_share_dividend(share_name, merged_nat_curr)"
   ]
  },
  {
   "cell_type": "code",
   "execution_count": null,
   "id": "844e2696",
   "metadata": {
    "execution": {
     "iopub.execute_input": "2024-08-03T15:52:19.171376Z",
     "iopub.status.busy": "2024-08-03T15:52:19.171244Z",
     "iopub.status.idle": "2024-08-03T15:52:19.334659Z",
     "shell.execute_reply": "2024-08-03T15:52:19.334381Z"
    },
    "papermill": {
     "duration": 0.175016,
     "end_time": "2024-08-03T15:52:19.335602",
     "exception": false,
     "start_time": "2024-08-03T15:52:19.160586",
     "status": "completed"
    },
    "tags": []
   },
   "outputs": [],
   "source": [
    "# Pearson's correlation coefficient between share price and USD - national currency rate\n",
    "utils.get_currency_share_price_correlation(share_name, usd_nat_curr, ticker_all_price)"
   ]
  },
  {
   "cell_type": "markdown",
   "id": "3579a48c",
   "metadata": {
    "papermill": {
     "duration": 0.014262,
     "end_time": "2024-08-03T15:52:19.362156",
     "exception": false,
     "start_time": "2024-08-03T15:52:19.347894",
     "status": "completed"
    },
    "tags": []
   },
   "source": [
    "# Share price and value ratios"
   ]
  },
  {
   "cell_type": "code",
   "execution_count": null,
   "id": "b960bb68",
   "metadata": {
    "execution": {
     "iopub.execute_input": "2024-08-03T15:52:19.381678Z",
     "iopub.status.busy": "2024-08-03T15:52:19.381555Z",
     "iopub.status.idle": "2024-08-03T15:52:23.379451Z",
     "shell.execute_reply": "2024-08-03T15:52:23.379188Z"
    },
    "papermill": {
     "duration": 4.008108,
     "end_time": "2024-08-03T15:52:23.380620",
     "exception": false,
     "start_time": "2024-08-03T15:52:19.372512",
     "status": "completed"
    },
    "tags": []
   },
   "outputs": [],
   "source": [
    "for column in merged_nat_curr.columns[3:]:\n",
    "    fig, ax1 = plt.subplots(figsize=(15, 6))\n",
    "\n",
    "    ax2 = ax1.twinx()\n",
    "    ax1.plot(merged_nat_curr['real_date'], merged_nat_curr[column], color='k', label=merged_nat_curr)\n",
    "    ax2.plot(ticker_all_price.index, ticker_all_price['Close'], color='b', label=share_name)\n",
    "\n",
    "    ax1.set_xlabel('Date')\n",
    "    ax1.set_ylabel(column, color='k')\n",
    "    ax2.set_ylabel('Share price (national currency)', color='b')\n",
    "\n",
    "    plt.legend()\n",
    "    plt.show()"
   ]
  },
  {
   "cell_type": "code",
   "execution_count": null,
   "id": "c56af525",
   "metadata": {
    "execution": {
     "iopub.execute_input": "2024-08-03T15:52:23.425640Z",
     "iopub.status.busy": "2024-08-03T15:52:23.425517Z",
     "iopub.status.idle": "2024-08-03T15:52:24.308313Z",
     "shell.execute_reply": "2024-08-03T15:52:24.307933Z"
    },
    "papermill": {
     "duration": 0.905141,
     "end_time": "2024-08-03T15:52:24.309433",
     "exception": false,
     "start_time": "2024-08-03T15:52:23.404292",
     "status": "completed"
    },
    "tags": []
   },
   "outputs": [],
   "source": [
    "# plot histograms of value parameters\n",
    "utils.plot_histogram_value_parameters(input_df=merged_nat_curr, extra_parameters=[], owned_shares=owned_shares)"
   ]
  },
  {
   "cell_type": "markdown",
   "id": "b0e9bc44",
   "metadata": {
    "papermill": {
     "duration": 0.020646,
     "end_time": "2024-08-03T15:52:24.354540",
     "exception": false,
     "start_time": "2024-08-03T15:52:24.333894",
     "status": "completed"
    },
    "tags": []
   },
   "source": [
    "## Calculate correlation between value parameters"
   ]
  },
  {
   "cell_type": "code",
   "execution_count": null,
   "id": "1c5e55fe",
   "metadata": {
    "execution": {
     "iopub.execute_input": "2024-08-03T15:52:24.393503Z",
     "iopub.status.busy": "2024-08-03T15:52:24.393367Z",
     "iopub.status.idle": "2024-08-03T15:52:24.399795Z",
     "shell.execute_reply": "2024-08-03T15:52:24.399439Z"
    },
    "papermill": {
     "duration": 0.027354,
     "end_time": "2024-08-03T15:52:24.400704",
     "exception": false,
     "start_time": "2024-08-03T15:52:24.373350",
     "status": "completed"
    },
    "tags": []
   },
   "outputs": [],
   "source": [
    "# calulate value parameters Pearson's correlation coefficient\n",
    "pd.DataFrame(merged_nat_curr, columns=['roa', 'roe', 'pe_ratio', 'pb_ratio', 'ps_ratio', 'ev_revenue', 'debt_to_equity', 'current_ratio']).corr()"
   ]
  },
  {
   "cell_type": "code",
   "execution_count": null,
   "id": "5a7324b6",
   "metadata": {},
   "outputs": [],
   "source": [
    "final_df = utils.get_value_stock_target_prices(\n",
    "    input_df=merged_nat_curr,\n",
    "    min_pct=0.2,\n",
    "    max_pct=0.5,\n",
    "    owned_shares=owned_shares\n",
    ")"
   ]
  }
 ],
 "metadata": {
  "kernelspec": {
   "display_name": ".venv",
   "language": "python",
   "name": "python3"
  },
  "language_info": {
   "codemirror_mode": {
    "name": "ipython",
    "version": 3
   },
   "file_extension": ".py",
   "mimetype": "text/x-python",
   "name": "python",
   "nbconvert_exporter": "python",
   "pygments_lexer": "ipython3",
   "version": "3.11.3"
  },
  "papermill": {
   "default_parameters": {},
   "duration": 17.918157,
   "end_time": "2024-08-03T15:52:24.880205",
   "environment_variables": {},
   "exception": null,
   "input_path": "../notebooks/stora_enso_national.ipynb",
   "output_path": "../notebooks/stora_enso_national.ipynb",
   "parameters": {},
   "start_time": "2024-08-03T15:52:06.962048",
   "version": "2.5.0"
  }
 },
 "nbformat": 4,
 "nbformat_minor": 5
}
