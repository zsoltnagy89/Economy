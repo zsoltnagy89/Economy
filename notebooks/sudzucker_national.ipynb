{
 "cells": [
  {
   "cell_type": "code",
   "execution_count": null,
   "id": "64ea22a0",
   "metadata": {
    "execution": {
     "iopub.execute_input": "2024-08-03T15:52:26.150604Z",
     "iopub.status.busy": "2024-08-03T15:52:26.150424Z",
     "iopub.status.idle": "2024-08-03T15:52:26.843453Z",
     "shell.execute_reply": "2024-08-03T15:52:26.843193Z"
    },
    "papermill": {
     "duration": 0.703714,
     "end_time": "2024-08-03T15:52:26.844527",
     "exception": false,
     "start_time": "2024-08-03T15:52:26.140813",
     "status": "completed"
    },
    "tags": []
   },
   "outputs": [],
   "source": [
    "import pandas as pd\n",
    "import matplotlib.pyplot as plt\n",
    "import numpy as np\n",
    "\n",
    "import yfinance as yf\n",
    "import datetime\n",
    "\n",
    "from valueinvesting import utils as utils"
   ]
  },
  {
   "cell_type": "markdown",
   "id": "2a737d73",
   "metadata": {
    "papermill": {
     "duration": 0.009622,
     "end_time": "2024-08-03T15:52:26.866744",
     "exception": false,
     "start_time": "2024-08-03T15:52:26.857122",
     "status": "completed"
    },
    "tags": []
   },
   "source": [
    "# 1. Load raw input\n",
    "## Hardcoded block"
   ]
  },
  {
   "cell_type": "code",
   "execution_count": null,
   "id": "de8959a7",
   "metadata": {
    "execution": {
     "iopub.execute_input": "2024-08-03T15:52:26.893632Z",
     "iopub.status.busy": "2024-08-03T15:52:26.893398Z",
     "iopub.status.idle": "2024-08-03T15:52:26.895533Z",
     "shell.execute_reply": "2024-08-03T15:52:26.895250Z"
    },
    "papermill": {
     "duration": 0.016265,
     "end_time": "2024-08-03T15:52:26.896459",
     "exception": false,
     "start_time": "2024-08-03T15:52:26.880194",
     "status": "completed"
    },
    "tags": []
   },
   "outputs": [],
   "source": [
    "evaluate_last_X_years = True\n",
    "X=10\n",
    "currency_pair = 'EUR=X'\n",
    "numbers_in_currency = 'EUR'\n",
    "share_name = 'SZU.DE'"
   ]
  },
  {
   "cell_type": "markdown",
   "id": "cf6b3e12",
   "metadata": {
    "papermill": {
     "duration": 0.008934,
     "end_time": "2024-08-03T15:52:26.916863",
     "exception": false,
     "start_time": "2024-08-03T15:52:26.907929",
     "status": "completed"
    },
    "tags": []
   },
   "source": [
    "# 1.1 Calculate Share numbers from total distributed dividend (CFS) and dividend amount"
   ]
  },
  {
   "cell_type": "markdown",
   "id": "5bc73ae5",
   "metadata": {
    "papermill": {
     "duration": 0.009367,
     "end_time": "2024-08-03T15:52:26.936366",
     "exception": false,
     "start_time": "2024-08-03T15:52:26.926999",
     "status": "completed"
    },
    "tags": []
   },
   "source": [
    "# 1.2. Raw input statement data"
   ]
  },
  {
   "cell_type": "code",
   "execution_count": null,
   "id": "43c4a422",
   "metadata": {
    "execution": {
     "iopub.execute_input": "2024-08-03T15:52:26.949884Z",
     "iopub.status.busy": "2024-08-03T15:52:26.949564Z",
     "iopub.status.idle": "2024-08-03T15:52:26.963353Z",
     "shell.execute_reply": "2024-08-03T15:52:26.962928Z"
    },
    "papermill": {
     "duration": 0.021974,
     "end_time": "2024-08-03T15:52:26.964369",
     "exception": false,
     "start_time": "2024-08-03T15:52:26.942395",
     "status": "completed"
    },
    "tags": []
   },
   "outputs": [],
   "source": [
    "route = f\"../data/input/{share_name}_data.csv\"\n",
    "data = pd.read_csv(route, sep=';', parse_dates=['date', 'real_date'])\n",
    "# replace -, extend missing 0-s, fix datatype\n",
    "data = utils.replace_format_input(data)"
   ]
  },
  {
   "cell_type": "code",
   "execution_count": null,
   "id": "4adf1740",
   "metadata": {
    "execution": {
     "iopub.execute_input": "2024-08-03T15:52:26.978380Z",
     "iopub.status.busy": "2024-08-03T15:52:26.978255Z",
     "iopub.status.idle": "2024-08-03T15:52:26.982709Z",
     "shell.execute_reply": "2024-08-03T15:52:26.982400Z"
    },
    "papermill": {
     "duration": 0.012111,
     "end_time": "2024-08-03T15:52:26.983666",
     "exception": false,
     "start_time": "2024-08-03T15:52:26.971555",
     "status": "completed"
    },
    "tags": []
   },
   "outputs": [],
   "source": [
    "owned_shares = pd.read_csv('../data/extras/owned_stocks.csv', sep=';', parse_dates=['date'])\n",
    "owned_shares = owned_shares.loc[(owned_shares['stock'] == share_name) & (owned_shares['active'] == 'yes')]"
   ]
  },
  {
   "cell_type": "markdown",
   "id": "7463920d",
   "metadata": {
    "papermill": {
     "duration": 0.006044,
     "end_time": "2024-08-03T15:52:27.000065",
     "exception": false,
     "start_time": "2024-08-03T15:52:26.994021",
     "status": "completed"
    },
    "tags": []
   },
   "source": [
    "## (OPTIONAL) Time Filtering - Last 7 years daat"
   ]
  },
  {
   "cell_type": "code",
   "execution_count": null,
   "id": "b4fec770",
   "metadata": {
    "execution": {
     "iopub.execute_input": "2024-08-03T15:52:27.016665Z",
     "iopub.status.busy": "2024-08-03T15:52:27.016433Z",
     "iopub.status.idle": "2024-08-03T15:52:27.026597Z",
     "shell.execute_reply": "2024-08-03T15:52:27.026314Z"
    },
    "papermill": {
     "duration": 0.017745,
     "end_time": "2024-08-03T15:52:27.027407",
     "exception": false,
     "start_time": "2024-08-03T15:52:27.009662",
     "status": "completed"
    },
    "tags": []
   },
   "outputs": [],
   "source": [
    "if evaluate_last_X_years:\n",
    "    data = data[data['date'] > datetime.datetime.today() - datetime.timedelta(days=X*366+93)]\n",
    "    data = data.reset_index(drop=True)\n",
    "\n",
    "data.head()"
   ]
  },
  {
   "cell_type": "markdown",
   "id": "e41ffa58",
   "metadata": {
    "papermill": {
     "duration": 0.011164,
     "end_time": "2024-08-03T15:52:27.047765",
     "exception": false,
     "start_time": "2024-08-03T15:52:27.036601",
     "status": "completed"
    },
    "tags": []
   },
   "source": [
    "## Calculate date when quaterly reports could be available"
   ]
  },
  {
   "cell_type": "code",
   "execution_count": null,
   "id": "d3870bbc",
   "metadata": {
    "execution": {
     "iopub.execute_input": "2024-08-03T15:52:27.060263Z",
     "iopub.status.busy": "2024-08-03T15:52:27.060128Z",
     "iopub.status.idle": "2024-08-03T15:52:27.061930Z",
     "shell.execute_reply": "2024-08-03T15:52:27.061666Z"
    },
    "papermill": {
     "duration": 0.009077,
     "end_time": "2024-08-03T15:52:27.063144",
     "exception": false,
     "start_time": "2024-08-03T15:52:27.054067",
     "status": "completed"
    },
    "tags": []
   },
   "outputs": [],
   "source": [
    "data = utils.calculate_real_date(data)"
   ]
  },
  {
   "cell_type": "markdown",
   "id": "e8018a3d",
   "metadata": {
    "papermill": {
     "duration": 0.005286,
     "end_time": "2024-08-03T15:52:27.074165",
     "exception": false,
     "start_time": "2024-08-03T15:52:27.068879",
     "status": "completed"
    },
    "tags": []
   },
   "source": [
    "# 2. Filter out unnecesary columns"
   ]
  },
  {
   "cell_type": "code",
   "execution_count": null,
   "id": "372ab585",
   "metadata": {
    "execution": {
     "iopub.execute_input": "2024-08-03T15:52:27.087371Z",
     "iopub.status.busy": "2024-08-03T15:52:27.087216Z",
     "iopub.status.idle": "2024-08-03T15:52:27.093649Z",
     "shell.execute_reply": "2024-08-03T15:52:27.093402Z"
    },
    "papermill": {
     "duration": 0.014522,
     "end_time": "2024-08-03T15:52:27.094451",
     "exception": false,
     "start_time": "2024-08-03T15:52:27.079929",
     "status": "completed"
    },
    "tags": []
   },
   "outputs": [],
   "source": [
    "data = utils.filter_raw_data(data)\n",
    "data.tail()"
   ]
  },
  {
   "cell_type": "markdown",
   "id": "912a1132",
   "metadata": {
    "papermill": {
     "duration": 0.00546,
     "end_time": "2024-08-03T15:52:27.105847",
     "exception": false,
     "start_time": "2024-08-03T15:52:27.100387",
     "status": "completed"
    },
    "tags": []
   },
   "source": [
    "## Pull historical average USD national currency rates and add to the dataframe"
   ]
  },
  {
   "cell_type": "code",
   "execution_count": null,
   "id": "7dcdc93a",
   "metadata": {
    "execution": {
     "iopub.execute_input": "2024-08-03T15:52:27.117942Z",
     "iopub.status.busy": "2024-08-03T15:52:27.117805Z",
     "iopub.status.idle": "2024-08-03T15:52:35.280196Z",
     "shell.execute_reply": "2024-08-03T15:52:35.279682Z"
    },
    "papermill": {
     "duration": 8.170991,
     "end_time": "2024-08-03T15:52:35.282351",
     "exception": false,
     "start_time": "2024-08-03T15:52:27.111360",
     "status": "completed"
    },
    "tags": []
   },
   "outputs": [],
   "source": [
    "data['usd_nat_currency'] = utils.daily_price(\n",
    "    ticker=currency_pair,\n",
    "    end=data['date'],\n",
    "    days_earlier=90\n",
    "    )\n",
    "\n",
    "# drop rows, when USD rates wasn't available\n",
    "data = data[data['usd_nat_currency'].notna()]\n",
    "\n",
    "data.tail()"
   ]
  },
  {
   "cell_type": "markdown",
   "id": "c9584b98",
   "metadata": {
    "papermill": {
     "duration": 0.01508,
     "end_time": "2024-08-03T15:52:35.317074",
     "exception": false,
     "start_time": "2024-08-03T15:52:35.301994",
     "status": "completed"
    },
    "tags": []
   },
   "source": [
    "## Convert USD values related to IS, BS, CFS to national currency"
   ]
  },
  {
   "cell_type": "code",
   "execution_count": null,
   "id": "2918b699",
   "metadata": {
    "execution": {
     "iopub.execute_input": "2024-08-03T15:52:35.347989Z",
     "iopub.status.busy": "2024-08-03T15:52:35.347772Z",
     "iopub.status.idle": "2024-08-03T15:52:35.357040Z",
     "shell.execute_reply": "2024-08-03T15:52:35.356703Z"
    },
    "papermill": {
     "duration": 0.025219,
     "end_time": "2024-08-03T15:52:35.358297",
     "exception": false,
     "start_time": "2024-08-03T15:52:35.333078",
     "status": "completed"
    },
    "tags": []
   },
   "outputs": [],
   "source": [
    "# convert columns into national currency if necessary\n",
    "if numbers_in_currency == 'USD':\n",
    "    data_nat_curr = utils.convert_national_currency(input_data=data, currency=data)\n",
    "else:\n",
    "    data_nat_curr = data.copy()\n",
    "data_nat_curr.tail()"
   ]
  },
  {
   "cell_type": "markdown",
   "id": "e24cd957",
   "metadata": {
    "papermill": {
     "duration": 0.012232,
     "end_time": "2024-08-03T15:52:35.381755",
     "exception": false,
     "start_time": "2024-08-03T15:52:35.369523",
     "status": "completed"
    },
    "tags": []
   },
   "source": [
    "# 3. Calculate input to Value Raios (eps, bv per share, fcf)\n",
    "## filter out unwanted columns"
   ]
  },
  {
   "cell_type": "code",
   "execution_count": null,
   "id": "1c497849",
   "metadata": {
    "execution": {
     "iopub.execute_input": "2024-08-03T15:52:35.405143Z",
     "iopub.status.busy": "2024-08-03T15:52:35.404990Z",
     "iopub.status.idle": "2024-08-03T15:52:35.408865Z",
     "shell.execute_reply": "2024-08-03T15:52:35.408524Z"
    },
    "papermill": {
     "duration": 0.015999,
     "end_time": "2024-08-03T15:52:35.410110",
     "exception": false,
     "start_time": "2024-08-03T15:52:35.394111",
     "status": "completed"
    },
    "tags": []
   },
   "outputs": [],
   "source": [
    "filtered_nat_curr = utils.calculate_input_value_ratios(data_nat_curr)"
   ]
  },
  {
   "cell_type": "markdown",
   "id": "d10d9fb5",
   "metadata": {
    "papermill": {
     "duration": 0.006396,
     "end_time": "2024-08-03T15:52:35.423625",
     "exception": false,
     "start_time": "2024-08-03T15:52:35.417229",
     "status": "completed"
    },
    "tags": []
   },
   "source": [
    "## Calculate input values to value ratios"
   ]
  },
  {
   "cell_type": "code",
   "execution_count": null,
   "id": "a997530d",
   "metadata": {
    "execution": {
     "iopub.execute_input": "2024-08-03T15:52:35.435958Z",
     "iopub.status.busy": "2024-08-03T15:52:35.435725Z",
     "iopub.status.idle": "2024-08-03T15:52:35.438188Z",
     "shell.execute_reply": "2024-08-03T15:52:35.437927Z"
    },
    "papermill": {
     "duration": 0.009687,
     "end_time": "2024-08-03T15:52:35.439004",
     "exception": false,
     "start_time": "2024-08-03T15:52:35.429317",
     "status": "completed"
    },
    "tags": []
   },
   "outputs": [],
   "source": [
    "ratios_nat_curr = utils.ratios_input_filter(filtered_nat_curr)"
   ]
  },
  {
   "cell_type": "markdown",
   "id": "797ea4ce",
   "metadata": {
    "papermill": {
     "duration": 0.007498,
     "end_time": "2024-08-03T15:52:35.452726",
     "exception": false,
     "start_time": "2024-08-03T15:52:35.445228",
     "status": "completed"
    },
    "tags": []
   },
   "source": [
    "## Calculate performance parameters (current ratio, ROA, ROE, margins, D/E)"
   ]
  },
  {
   "cell_type": "code",
   "execution_count": null,
   "id": "dfceb49d",
   "metadata": {
    "execution": {
     "iopub.execute_input": "2024-08-03T15:52:35.468404Z",
     "iopub.status.busy": "2024-08-03T15:52:35.468194Z",
     "iopub.status.idle": "2024-08-03T15:52:35.474336Z",
     "shell.execute_reply": "2024-08-03T15:52:35.474084Z"
    },
    "papermill": {
     "duration": 0.016561,
     "end_time": "2024-08-03T15:52:35.475192",
     "exception": false,
     "start_time": "2024-08-03T15:52:35.458631",
     "status": "completed"
    },
    "tags": []
   },
   "outputs": [],
   "source": [
    "ratios_nat_curr = utils.evaluate_performance(input=filtered_nat_curr, output=ratios_nat_curr)"
   ]
  },
  {
   "cell_type": "markdown",
   "id": "d9f778d8",
   "metadata": {
    "papermill": {
     "duration": 0.011201,
     "end_time": "2024-08-03T15:52:35.496188",
     "exception": false,
     "start_time": "2024-08-03T15:52:35.484987",
     "status": "completed"
    },
    "tags": []
   },
   "source": [
    "# 4. Pull historical share prices and merge with sattement data"
   ]
  },
  {
   "cell_type": "code",
   "execution_count": null,
   "id": "0fa27d97",
   "metadata": {
    "execution": {
     "iopub.execute_input": "2024-08-03T15:52:35.513225Z",
     "iopub.status.busy": "2024-08-03T15:52:35.512968Z",
     "iopub.status.idle": "2024-08-03T15:52:35.821252Z",
     "shell.execute_reply": "2024-08-03T15:52:35.820906Z"
    },
    "papermill": {
     "duration": 0.317022,
     "end_time": "2024-08-03T15:52:35.822411",
     "exception": false,
     "start_time": "2024-08-03T15:52:35.505389",
     "status": "completed"
    },
    "tags": []
   },
   "outputs": [],
   "source": [
    "# pull weekly share prices and merge with the value ratios\n",
    "merged_nat_curr = utils.add_share_prices_to_value_ratios(share_name, data, ratios_nat_curr)\n",
    "merged_nat_curr.head()"
   ]
  },
  {
   "cell_type": "markdown",
   "id": "40b23c68",
   "metadata": {
    "papermill": {
     "duration": 0.011792,
     "end_time": "2024-08-03T15:52:35.848011",
     "exception": false,
     "start_time": "2024-08-03T15:52:35.836219",
     "status": "completed"
    },
    "tags": []
   },
   "source": [
    "# Calculate price ratios (P/E, P/B, P/S, P/FCF)"
   ]
  },
  {
   "cell_type": "code",
   "execution_count": null,
   "id": "f619ad24",
   "metadata": {
    "execution": {
     "iopub.execute_input": "2024-08-03T15:52:35.872672Z",
     "iopub.status.busy": "2024-08-03T15:52:35.872506Z",
     "iopub.status.idle": "2024-08-03T15:52:35.883420Z",
     "shell.execute_reply": "2024-08-03T15:52:35.883059Z"
    },
    "papermill": {
     "duration": 0.024052,
     "end_time": "2024-08-03T15:52:35.884424",
     "exception": false,
     "start_time": "2024-08-03T15:52:35.860372",
     "status": "completed"
    },
    "tags": []
   },
   "outputs": [],
   "source": [
    "merged_nat_curr = utils.price_ratios(merged_nat_curr)\n",
    "merged_nat_curr.head()"
   ]
  },
  {
   "cell_type": "markdown",
   "id": "e1023fdf",
   "metadata": {
    "papermill": {
     "duration": 0.006721,
     "end_time": "2024-08-03T15:52:35.898088",
     "exception": false,
     "start_time": "2024-08-03T15:52:35.891367",
     "status": "completed"
    },
    "tags": []
   },
   "source": [
    "# Calculate Dividend yield and currency-share price correlation"
   ]
  },
  {
   "cell_type": "code",
   "execution_count": null,
   "id": "f40956da",
   "metadata": {
    "execution": {
     "iopub.execute_input": "2024-08-03T15:52:35.911001Z",
     "iopub.status.busy": "2024-08-03T15:52:35.910873Z",
     "iopub.status.idle": "2024-08-03T15:52:36.264546Z",
     "shell.execute_reply": "2024-08-03T15:52:36.264026Z"
    },
    "papermill": {
     "duration": 0.362241,
     "end_time": "2024-08-03T15:52:36.266209",
     "exception": false,
     "start_time": "2024-08-03T15:52:35.903968",
     "status": "completed"
    },
    "tags": []
   },
   "outputs": [],
   "source": [
    "# get daily historical USD-national currency rates\n",
    "usd_nat_curr = utils.get_historical_currency_rate(currency_pair, merged_nat_curr)"
   ]
  },
  {
   "cell_type": "code",
   "execution_count": null,
   "id": "5e30b623",
   "metadata": {
    "execution": {
     "iopub.execute_input": "2024-08-03T15:52:36.299805Z",
     "iopub.status.busy": "2024-08-03T15:52:36.299416Z",
     "iopub.status.idle": "2024-08-03T15:52:36.832987Z",
     "shell.execute_reply": "2024-08-03T15:52:36.832664Z"
    },
    "papermill": {
     "duration": 0.54871,
     "end_time": "2024-08-03T15:52:36.833960",
     "exception": false,
     "start_time": "2024-08-03T15:52:36.285250",
     "status": "completed"
    },
    "tags": []
   },
   "outputs": [],
   "source": [
    "# get share prices and dividend yield data\n",
    "ticker_all_price = utils.get_historical_share_dividend(share_name, merged_nat_curr)"
   ]
  },
  {
   "cell_type": "code",
   "execution_count": null,
   "id": "f04cf3dd",
   "metadata": {
    "execution": {
     "iopub.execute_input": "2024-08-03T15:52:36.846984Z",
     "iopub.status.busy": "2024-08-03T15:52:36.846852Z",
     "iopub.status.idle": "2024-08-03T15:52:37.013781Z",
     "shell.execute_reply": "2024-08-03T15:52:37.013179Z"
    },
    "papermill": {
     "duration": 0.175066,
     "end_time": "2024-08-03T15:52:37.015156",
     "exception": false,
     "start_time": "2024-08-03T15:52:36.840090",
     "status": "completed"
    },
    "tags": []
   },
   "outputs": [],
   "source": [
    "# Pearson's correlation coefficient between share price and USD - national currency rate\n",
    "utils.get_currency_share_price_correlation(share_name, usd_nat_curr, ticker_all_price)"
   ]
  },
  {
   "cell_type": "markdown",
   "id": "96ccc1ac",
   "metadata": {
    "papermill": {
     "duration": 0.010508,
     "end_time": "2024-08-03T15:52:37.039644",
     "exception": false,
     "start_time": "2024-08-03T15:52:37.029136",
     "status": "completed"
    },
    "tags": []
   },
   "source": [
    "# Share price and value ratios"
   ]
  },
  {
   "cell_type": "code",
   "execution_count": null,
   "id": "6b2bc542",
   "metadata": {
    "execution": {
     "iopub.execute_input": "2024-08-03T15:52:37.063053Z",
     "iopub.status.busy": "2024-08-03T15:52:37.062849Z",
     "iopub.status.idle": "2024-08-03T15:52:40.980389Z",
     "shell.execute_reply": "2024-08-03T15:52:40.980128Z"
    },
    "papermill": {
     "duration": 3.931572,
     "end_time": "2024-08-03T15:52:40.981240",
     "exception": false,
     "start_time": "2024-08-03T15:52:37.049668",
     "status": "completed"
    },
    "tags": []
   },
   "outputs": [],
   "source": [
    "for column in merged_nat_curr.columns[3:]:\n",
    "    fig, ax1 = plt.subplots(figsize=(15, 6))\n",
    "\n",
    "    ax2 = ax1.twinx()\n",
    "    ax1.plot(merged_nat_curr['real_date'], merged_nat_curr[column], color='k', label=merged_nat_curr)\n",
    "    ax2.plot(ticker_all_price.index, ticker_all_price['Close'], color='b', label=share_name)\n",
    "\n",
    "    ax1.set_xlabel('Date')\n",
    "    ax1.set_ylabel(column, color='k')\n",
    "    ax2.set_ylabel('Share price (national currency)', color='b')\n",
    "\n",
    "    plt.legend()\n",
    "    plt.show()"
   ]
  },
  {
   "cell_type": "code",
   "execution_count": null,
   "id": "c4ef23b5",
   "metadata": {
    "execution": {
     "iopub.execute_input": "2024-08-03T15:52:41.028199Z",
     "iopub.status.busy": "2024-08-03T15:52:41.028062Z",
     "iopub.status.idle": "2024-08-03T15:52:41.885952Z",
     "shell.execute_reply": "2024-08-03T15:52:41.885676Z"
    },
    "papermill": {
     "duration": 0.881484,
     "end_time": "2024-08-03T15:52:41.886866",
     "exception": false,
     "start_time": "2024-08-03T15:52:41.005382",
     "status": "completed"
    },
    "tags": []
   },
   "outputs": [],
   "source": [
    "# plot histograms of value parameters\n",
    "utils.plot_histogram_value_parameters(input_df=merged_nat_curr, extra_parameters=[], owned_shares=owned_shares)"
   ]
  },
  {
   "cell_type": "markdown",
   "id": "ce0c7127",
   "metadata": {
    "papermill": {
     "duration": 0.022256,
     "end_time": "2024-08-03T15:52:41.930617",
     "exception": false,
     "start_time": "2024-08-03T15:52:41.908361",
     "status": "completed"
    },
    "tags": []
   },
   "source": [
    "## Calculate correlation between value parameters"
   ]
  },
  {
   "cell_type": "code",
   "execution_count": null,
   "id": "a46f2212",
   "metadata": {
    "execution": {
     "iopub.execute_input": "2024-08-03T15:52:41.985039Z",
     "iopub.status.busy": "2024-08-03T15:52:41.984829Z",
     "iopub.status.idle": "2024-08-03T15:52:41.990119Z",
     "shell.execute_reply": "2024-08-03T15:52:41.989887Z"
    },
    "papermill": {
     "duration": 0.027914,
     "end_time": "2024-08-03T15:52:41.991035",
     "exception": false,
     "start_time": "2024-08-03T15:52:41.963121",
     "status": "completed"
    },
    "tags": []
   },
   "outputs": [],
   "source": [
    "# calulate value parameters Pearson's correlation coefficient\n",
    "pd.DataFrame(merged_nat_curr, columns=['roa', 'roe', 'pe_ratio', 'pb_ratio', 'ps_ratio', 'ev_revenue', 'debt_to_equity', 'current_ratio']).corr()"
   ]
  },
  {
   "cell_type": "code",
   "execution_count": null,
   "id": "d8e573e5",
   "metadata": {},
   "outputs": [],
   "source": [
    "final_df = utils.get_value_stock_target_prices(\n",
    "    input_df=merged_nat_curr,\n",
    "    min_pct=0.2,\n",
    "    max_pct=0.5,\n",
    "    owned_shares=owned_shares\n",
    ")"
   ]
  }
 ],
 "metadata": {
  "kernelspec": {
   "display_name": ".venv",
   "language": "python",
   "name": "python3"
  },
  "language_info": {
   "codemirror_mode": {
    "name": "ipython",
    "version": 3
   },
   "file_extension": ".py",
   "mimetype": "text/x-python",
   "name": "python",
   "nbconvert_exporter": "python",
   "pygments_lexer": "ipython3",
   "version": "3.11.3"
  },
  "papermill": {
   "default_parameters": {},
   "duration": 17.558005,
   "end_time": "2024-08-03T15:52:42.509333",
   "environment_variables": {},
   "exception": null,
   "input_path": "../notebooks/sudzucker_national.ipynb",
   "output_path": "../notebooks/sudzucker_national.ipynb",
   "parameters": {},
   "start_time": "2024-08-03T15:52:24.951328",
   "version": "2.5.0"
  }
 },
 "nbformat": 4,
 "nbformat_minor": 5
}
