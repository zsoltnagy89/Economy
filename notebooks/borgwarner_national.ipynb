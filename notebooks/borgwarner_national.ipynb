{
 "cells": [
  {
   "cell_type": "code",
   "execution_count": null,
   "id": "5620f80a",
   "metadata": {
    "execution": {
     "iopub.execute_input": "2024-08-03T15:49:28.154026Z",
     "iopub.status.busy": "2024-08-03T15:49:28.153658Z",
     "iopub.status.idle": "2024-08-03T15:49:29.094384Z",
     "shell.execute_reply": "2024-08-03T15:49:29.094076Z"
    },
    "papermill": {
     "duration": 0.963487,
     "end_time": "2024-08-03T15:49:29.095634",
     "exception": false,
     "start_time": "2024-08-03T15:49:28.132147",
     "status": "completed"
    },
    "tags": []
   },
   "outputs": [],
   "source": [
    "import pandas as pd\n",
    "import matplotlib.pyplot as plt\n",
    "import numpy as np\n",
    "\n",
    "import yfinance as yf\n",
    "import datetime\n",
    "\n",
    "from valueinvesting import utils as utils"
   ]
  },
  {
   "cell_type": "markdown",
   "id": "629f90f3",
   "metadata": {
    "papermill": {
     "duration": 0.006954,
     "end_time": "2024-08-03T15:49:29.108517",
     "exception": false,
     "start_time": "2024-08-03T15:49:29.101563",
     "status": "completed"
    },
    "tags": []
   },
   "source": [
    "# 1. Load raw input\n",
    "## Hardcoded block"
   ]
  },
  {
   "cell_type": "code",
   "execution_count": null,
   "id": "fbf53494",
   "metadata": {
    "execution": {
     "iopub.execute_input": "2024-08-03T15:49:29.122050Z",
     "iopub.status.busy": "2024-08-03T15:49:29.121866Z",
     "iopub.status.idle": "2024-08-03T15:49:29.123778Z",
     "shell.execute_reply": "2024-08-03T15:49:29.123535Z"
    },
    "papermill": {
     "duration": 0.010735,
     "end_time": "2024-08-03T15:49:29.124604",
     "exception": false,
     "start_time": "2024-08-03T15:49:29.113869",
     "status": "completed"
    },
    "tags": []
   },
   "outputs": [],
   "source": [
    "evaluate_last_X_years = True\n",
    "X=10\n",
    "currency_pair = 'USD=X'\n",
    "numbers_in_currency = 'USD'\n",
    "share_name = 'BWA'"
   ]
  },
  {
   "cell_type": "markdown",
   "id": "23499460",
   "metadata": {
    "papermill": {
     "duration": 0.005775,
     "end_time": "2024-08-03T15:49:29.142756",
     "exception": false,
     "start_time": "2024-08-03T15:49:29.136981",
     "status": "completed"
    },
    "tags": []
   },
   "source": [
    "# 1.1 Calculate Share numbers from total distributed dividend (CFS) and dividend amount"
   ]
  },
  {
   "cell_type": "markdown",
   "id": "803a8f04",
   "metadata": {
    "papermill": {
     "duration": 0.006279,
     "end_time": "2024-08-03T15:49:29.154146",
     "exception": false,
     "start_time": "2024-08-03T15:49:29.147867",
     "status": "completed"
    },
    "tags": []
   },
   "source": [
    "# 1.2. Raw input statement data"
   ]
  },
  {
   "cell_type": "code",
   "execution_count": null,
   "id": "8434c186",
   "metadata": {
    "execution": {
     "iopub.execute_input": "2024-08-03T15:49:29.180912Z",
     "iopub.status.busy": "2024-08-03T15:49:29.180747Z",
     "iopub.status.idle": "2024-08-03T15:49:29.190140Z",
     "shell.execute_reply": "2024-08-03T15:49:29.189780Z"
    },
    "papermill": {
     "duration": 0.031747,
     "end_time": "2024-08-03T15:49:29.191440",
     "exception": false,
     "start_time": "2024-08-03T15:49:29.159693",
     "status": "completed"
    },
    "tags": []
   },
   "outputs": [],
   "source": [
    "route = f\"../data/input/{share_name}_data.csv\"\n",
    "data = pd.read_csv(route, sep=';', parse_dates=['date', 'real_date'])\n",
    "# replace -, extend missing 0-s, fix datatype\n",
    "data = utils.replace_format_input(data)"
   ]
  },
  {
   "cell_type": "code",
   "execution_count": null,
   "id": "6358315d",
   "metadata": {
    "execution": {
     "iopub.execute_input": "2024-08-03T15:49:29.225862Z",
     "iopub.status.busy": "2024-08-03T15:49:29.225709Z",
     "iopub.status.idle": "2024-08-03T15:49:29.230112Z",
     "shell.execute_reply": "2024-08-03T15:49:29.229823Z"
    },
    "papermill": {
     "duration": 0.028842,
     "end_time": "2024-08-03T15:49:29.231198",
     "exception": false,
     "start_time": "2024-08-03T15:49:29.202356",
     "status": "completed"
    },
    "tags": []
   },
   "outputs": [],
   "source": [
    "owned_shares = pd.read_csv('../data/extras/owned_stocks.csv', sep=';', parse_dates=['date'])\n",
    "owned_shares = owned_shares.loc[(owned_shares['stock'] == share_name) & (owned_shares['active'] == 'yes')]"
   ]
  },
  {
   "cell_type": "markdown",
   "id": "b86e5d54",
   "metadata": {
    "papermill": {
     "duration": 0.011227,
     "end_time": "2024-08-03T15:49:29.252276",
     "exception": false,
     "start_time": "2024-08-03T15:49:29.241049",
     "status": "completed"
    },
    "tags": []
   },
   "source": [
    "## (OPTIONAL) Time Filtering - Last 7 years daat"
   ]
  },
  {
   "cell_type": "code",
   "execution_count": null,
   "id": "44ea7717",
   "metadata": {
    "execution": {
     "iopub.execute_input": "2024-08-03T15:49:29.266246Z",
     "iopub.status.busy": "2024-08-03T15:49:29.265972Z",
     "iopub.status.idle": "2024-08-03T15:49:29.278512Z",
     "shell.execute_reply": "2024-08-03T15:49:29.278203Z"
    },
    "papermill": {
     "duration": 0.020446,
     "end_time": "2024-08-03T15:49:29.279461",
     "exception": false,
     "start_time": "2024-08-03T15:49:29.259015",
     "status": "completed"
    },
    "tags": []
   },
   "outputs": [],
   "source": [
    "if evaluate_last_X_years:\n",
    "    data = data[data['date'] > datetime.datetime.today() - datetime.timedelta(days=X*366+93)]\n",
    "    data = data.reset_index(drop=True)\n",
    "\n",
    "data.head()"
   ]
  },
  {
   "cell_type": "markdown",
   "id": "b46b4b24",
   "metadata": {
    "papermill": {
     "duration": 0.005655,
     "end_time": "2024-08-03T15:49:29.292220",
     "exception": false,
     "start_time": "2024-08-03T15:49:29.286565",
     "status": "completed"
    },
    "tags": []
   },
   "source": [
    "## Calculate date when quaterly reports could be available"
   ]
  },
  {
   "cell_type": "code",
   "execution_count": null,
   "id": "1e8140c7",
   "metadata": {
    "execution": {
     "iopub.execute_input": "2024-08-03T15:49:29.304397Z",
     "iopub.status.busy": "2024-08-03T15:49:29.304255Z",
     "iopub.status.idle": "2024-08-03T15:49:29.306079Z",
     "shell.execute_reply": "2024-08-03T15:49:29.305792Z"
    },
    "papermill": {
     "duration": 0.009542,
     "end_time": "2024-08-03T15:49:29.306895",
     "exception": false,
     "start_time": "2024-08-03T15:49:29.297353",
     "status": "completed"
    },
    "tags": []
   },
   "outputs": [],
   "source": [
    "data = utils.calculate_real_date(data)"
   ]
  },
  {
   "cell_type": "markdown",
   "id": "4226facb",
   "metadata": {
    "papermill": {
     "duration": 0.007151,
     "end_time": "2024-08-03T15:49:29.320105",
     "exception": false,
     "start_time": "2024-08-03T15:49:29.312954",
     "status": "completed"
    },
    "tags": []
   },
   "source": [
    "# 2. Filter out unnecesary columns"
   ]
  },
  {
   "cell_type": "code",
   "execution_count": null,
   "id": "7d58cbc1",
   "metadata": {
    "execution": {
     "iopub.execute_input": "2024-08-03T15:49:29.331616Z",
     "iopub.status.busy": "2024-08-03T15:49:29.331455Z",
     "iopub.status.idle": "2024-08-03T15:49:29.338697Z",
     "shell.execute_reply": "2024-08-03T15:49:29.338439Z"
    },
    "papermill": {
     "duration": 0.014048,
     "end_time": "2024-08-03T15:49:29.339566",
     "exception": false,
     "start_time": "2024-08-03T15:49:29.325518",
     "status": "completed"
    },
    "tags": []
   },
   "outputs": [],
   "source": [
    "data = utils.filter_raw_data(data)\n",
    "data.tail()"
   ]
  },
  {
   "cell_type": "markdown",
   "id": "01359786",
   "metadata": {
    "papermill": {
     "duration": 0.005317,
     "end_time": "2024-08-03T15:49:29.350499",
     "exception": false,
     "start_time": "2024-08-03T15:49:29.345182",
     "status": "completed"
    },
    "tags": []
   },
   "source": [
    "## Pull historical average USD national currency rates and add to the dataframe"
   ]
  },
  {
   "cell_type": "code",
   "execution_count": null,
   "id": "925f63e6",
   "metadata": {
    "execution": {
     "iopub.execute_input": "2024-08-03T15:49:29.363478Z",
     "iopub.status.busy": "2024-08-03T15:49:29.363245Z",
     "iopub.status.idle": "2024-08-03T15:49:29.371325Z",
     "shell.execute_reply": "2024-08-03T15:49:29.371045Z"
    },
    "papermill": {
     "duration": 0.015446,
     "end_time": "2024-08-03T15:49:29.372181",
     "exception": false,
     "start_time": "2024-08-03T15:49:29.356735",
     "status": "completed"
    },
    "tags": []
   },
   "outputs": [],
   "source": [
    "if currency_pair != 'USD=X':\n",
    "    data['usd_nat_currency'] = utils.daily_price(\n",
    "        ticker=currency_pair,\n",
    "        end=data['date'],\n",
    "        days_earlier=90\n",
    "        )\n",
    "else:\n",
    "    data['usd_nat_currency'] = [1 for x in range(len(data))]\n",
    "\n",
    "# drop rows, when USD rates wasn't available\n",
    "data = data[data['usd_nat_currency'].notna()]\n",
    "\n",
    "data.tail()"
   ]
  },
  {
   "cell_type": "markdown",
   "id": "50116aea",
   "metadata": {
    "papermill": {
     "duration": 0.005167,
     "end_time": "2024-08-03T15:49:29.383156",
     "exception": false,
     "start_time": "2024-08-03T15:49:29.377989",
     "status": "completed"
    },
    "tags": []
   },
   "source": [
    "## Convert USD values related to IS, BS, CFS to national currency"
   ]
  },
  {
   "cell_type": "code",
   "execution_count": null,
   "id": "c4315ddf",
   "metadata": {
    "execution": {
     "iopub.execute_input": "2024-08-03T15:49:29.396564Z",
     "iopub.status.busy": "2024-08-03T15:49:29.396351Z",
     "iopub.status.idle": "2024-08-03T15:49:29.408964Z",
     "shell.execute_reply": "2024-08-03T15:49:29.408712Z"
    },
    "papermill": {
     "duration": 0.019746,
     "end_time": "2024-08-03T15:49:29.409851",
     "exception": false,
     "start_time": "2024-08-03T15:49:29.390105",
     "status": "completed"
    },
    "tags": []
   },
   "outputs": [],
   "source": [
    "# convert columns into national currency if necessary\n",
    "if numbers_in_currency == 'USD':\n",
    "    data_nat_curr = utils.convert_national_currency(input_data=data, currency=data)\n",
    "else:\n",
    "    data_nat_curr = data.copy()\n",
    "data_nat_curr.tail()"
   ]
  },
  {
   "cell_type": "markdown",
   "id": "a7ff284e",
   "metadata": {
    "papermill": {
     "duration": 0.007456,
     "end_time": "2024-08-03T15:49:29.423465",
     "exception": false,
     "start_time": "2024-08-03T15:49:29.416009",
     "status": "completed"
    },
    "tags": []
   },
   "source": [
    "# 3. Calculate input to Value Raios (eps, bv per share, fcf)\n",
    "## filter out unwanted columns"
   ]
  },
  {
   "cell_type": "code",
   "execution_count": null,
   "id": "b4ba0f98",
   "metadata": {
    "execution": {
     "iopub.execute_input": "2024-08-03T15:49:29.436154Z",
     "iopub.status.busy": "2024-08-03T15:49:29.436016Z",
     "iopub.status.idle": "2024-08-03T15:49:29.439536Z",
     "shell.execute_reply": "2024-08-03T15:49:29.439266Z"
    },
    "papermill": {
     "duration": 0.011343,
     "end_time": "2024-08-03T15:49:29.440377",
     "exception": false,
     "start_time": "2024-08-03T15:49:29.429034",
     "status": "completed"
    },
    "tags": []
   },
   "outputs": [],
   "source": [
    "filtered_nat_curr = utils.calculate_input_value_ratios(data_nat_curr)"
   ]
  },
  {
   "cell_type": "markdown",
   "id": "78685e3a",
   "metadata": {
    "papermill": {
     "duration": 0.007031,
     "end_time": "2024-08-03T15:49:29.466488",
     "exception": false,
     "start_time": "2024-08-03T15:49:29.459457",
     "status": "completed"
    },
    "tags": []
   },
   "source": [
    "## Calculate input values to value ratios"
   ]
  },
  {
   "cell_type": "code",
   "execution_count": null,
   "id": "a51781b8",
   "metadata": {
    "execution": {
     "iopub.execute_input": "2024-08-03T15:49:29.482762Z",
     "iopub.status.busy": "2024-08-03T15:49:29.482623Z",
     "iopub.status.idle": "2024-08-03T15:49:29.485224Z",
     "shell.execute_reply": "2024-08-03T15:49:29.484913Z"
    },
    "papermill": {
     "duration": 0.012286,
     "end_time": "2024-08-03T15:49:29.486100",
     "exception": false,
     "start_time": "2024-08-03T15:49:29.473814",
     "status": "completed"
    },
    "tags": []
   },
   "outputs": [],
   "source": [
    "ratios_nat_curr = utils.ratios_input_filter(filtered_nat_curr)"
   ]
  },
  {
   "cell_type": "markdown",
   "id": "3287411f",
   "metadata": {
    "papermill": {
     "duration": 0.005319,
     "end_time": "2024-08-03T15:49:29.497316",
     "exception": false,
     "start_time": "2024-08-03T15:49:29.491997",
     "status": "completed"
    },
    "tags": []
   },
   "source": [
    "## Calculate performance parameters (current ratio, ROA, ROE, margins, D/E)"
   ]
  },
  {
   "cell_type": "code",
   "execution_count": null,
   "id": "88152d5b",
   "metadata": {
    "execution": {
     "iopub.execute_input": "2024-08-03T15:49:29.509668Z",
     "iopub.status.busy": "2024-08-03T15:49:29.509539Z",
     "iopub.status.idle": "2024-08-03T15:49:29.515500Z",
     "shell.execute_reply": "2024-08-03T15:49:29.515251Z"
    },
    "papermill": {
     "duration": 0.013314,
     "end_time": "2024-08-03T15:49:29.516281",
     "exception": false,
     "start_time": "2024-08-03T15:49:29.502967",
     "status": "completed"
    },
    "tags": []
   },
   "outputs": [],
   "source": [
    "ratios_nat_curr = utils.evaluate_performance(input=filtered_nat_curr, output=ratios_nat_curr)"
   ]
  },
  {
   "cell_type": "markdown",
   "id": "87133218",
   "metadata": {
    "papermill": {
     "duration": 0.009468,
     "end_time": "2024-08-03T15:49:29.535478",
     "exception": false,
     "start_time": "2024-08-03T15:49:29.526010",
     "status": "completed"
    },
    "tags": []
   },
   "source": [
    "# 4. Pull historical share prices and merge with sattement data"
   ]
  },
  {
   "cell_type": "code",
   "execution_count": null,
   "id": "59e9113c",
   "metadata": {
    "execution": {
     "iopub.execute_input": "2024-08-03T15:49:29.548751Z",
     "iopub.status.busy": "2024-08-03T15:49:29.548607Z",
     "iopub.status.idle": "2024-08-03T15:49:29.897013Z",
     "shell.execute_reply": "2024-08-03T15:49:29.896687Z"
    },
    "papermill": {
     "duration": 0.356479,
     "end_time": "2024-08-03T15:49:29.898274",
     "exception": false,
     "start_time": "2024-08-03T15:49:29.541795",
     "status": "completed"
    },
    "tags": []
   },
   "outputs": [],
   "source": [
    "# pull weekly share prices and merge with the value ratios\n",
    "merged_nat_curr = utils.add_share_prices_to_value_ratios(share_name, data, ratios_nat_curr)\n",
    "merged_nat_curr.head()"
   ]
  },
  {
   "cell_type": "markdown",
   "id": "47e49e88",
   "metadata": {
    "papermill": {
     "duration": 0.007252,
     "end_time": "2024-08-03T15:49:29.913679",
     "exception": false,
     "start_time": "2024-08-03T15:49:29.906427",
     "status": "completed"
    },
    "tags": []
   },
   "source": [
    "# Calculate price ratios (P/E, P/B, P/S, P/FCF)"
   ]
  },
  {
   "cell_type": "code",
   "execution_count": null,
   "id": "d5923161",
   "metadata": {
    "execution": {
     "iopub.execute_input": "2024-08-03T15:49:29.928834Z",
     "iopub.status.busy": "2024-08-03T15:49:29.928672Z",
     "iopub.status.idle": "2024-08-03T15:49:29.939083Z",
     "shell.execute_reply": "2024-08-03T15:49:29.938789Z"
    },
    "papermill": {
     "duration": 0.018889,
     "end_time": "2024-08-03T15:49:29.940023",
     "exception": false,
     "start_time": "2024-08-03T15:49:29.921134",
     "status": "completed"
    },
    "tags": []
   },
   "outputs": [],
   "source": [
    "merged_nat_curr = utils.price_ratios(merged_nat_curr)\n",
    "merged_nat_curr.head()"
   ]
  },
  {
   "cell_type": "markdown",
   "id": "28f55e8f",
   "metadata": {
    "papermill": {
     "duration": 0.006611,
     "end_time": "2024-08-03T15:49:29.953216",
     "exception": false,
     "start_time": "2024-08-03T15:49:29.946605",
     "status": "completed"
    },
    "tags": []
   },
   "source": [
    "# Calculate Dividend yield and currency-share price correlation"
   ]
  },
  {
   "cell_type": "code",
   "execution_count": null,
   "id": "ddedd49e",
   "metadata": {
    "execution": {
     "iopub.execute_input": "2024-08-03T15:49:29.968437Z",
     "iopub.status.busy": "2024-08-03T15:49:29.968100Z",
     "iopub.status.idle": "2024-08-03T15:49:30.146264Z",
     "shell.execute_reply": "2024-08-03T15:49:30.145960Z"
    },
    "papermill": {
     "duration": 0.187783,
     "end_time": "2024-08-03T15:49:30.147407",
     "exception": false,
     "start_time": "2024-08-03T15:49:29.959624",
     "status": "completed"
    },
    "tags": []
   },
   "outputs": [],
   "source": [
    "# get daily historical USD-national currency rates\n",
    "usd_nat_curr = utils.get_historical_currency_rate(currency_pair, merged_nat_curr)"
   ]
  },
  {
   "cell_type": "code",
   "execution_count": null,
   "id": "d90d7b6e",
   "metadata": {
    "execution": {
     "iopub.execute_input": "2024-08-03T15:49:30.170867Z",
     "iopub.status.busy": "2024-08-03T15:49:30.170709Z",
     "iopub.status.idle": "2024-08-03T15:49:30.697602Z",
     "shell.execute_reply": "2024-08-03T15:49:30.697344Z"
    },
    "papermill": {
     "duration": 0.539897,
     "end_time": "2024-08-03T15:49:30.698532",
     "exception": false,
     "start_time": "2024-08-03T15:49:30.158635",
     "status": "completed"
    },
    "tags": []
   },
   "outputs": [],
   "source": [
    "# get share prices and dividend yield data\n",
    "ticker_all_price = utils.get_historical_share_dividend(share_name, merged_nat_curr)"
   ]
  },
  {
   "cell_type": "code",
   "execution_count": null,
   "id": "ebc9da7b",
   "metadata": {
    "execution": {
     "iopub.execute_input": "2024-08-03T15:49:30.723543Z",
     "iopub.status.busy": "2024-08-03T15:49:30.723423Z",
     "iopub.status.idle": "2024-08-03T15:49:30.887056Z",
     "shell.execute_reply": "2024-08-03T15:49:30.886760Z"
    },
    "papermill": {
     "duration": 0.179466,
     "end_time": "2024-08-03T15:49:30.887892",
     "exception": false,
     "start_time": "2024-08-03T15:49:30.708426",
     "status": "completed"
    },
    "tags": []
   },
   "outputs": [],
   "source": [
    "# Pearson's correlation coefficient between share price and USD - national currency rate\n",
    "utils.get_currency_share_price_correlation(share_name, usd_nat_curr, ticker_all_price)"
   ]
  },
  {
   "cell_type": "markdown",
   "id": "f96bf7e2",
   "metadata": {
    "papermill": {
     "duration": 0.011114,
     "end_time": "2024-08-03T15:49:30.911475",
     "exception": false,
     "start_time": "2024-08-03T15:49:30.900361",
     "status": "completed"
    },
    "tags": []
   },
   "source": [
    "# Share price and value ratios"
   ]
  },
  {
   "cell_type": "code",
   "execution_count": null,
   "id": "ec7f45f3",
   "metadata": {
    "execution": {
     "iopub.execute_input": "2024-08-03T15:49:30.934012Z",
     "iopub.status.busy": "2024-08-03T15:49:30.933860Z",
     "iopub.status.idle": "2024-08-03T15:49:35.552263Z",
     "shell.execute_reply": "2024-08-03T15:49:35.552006Z"
    },
    "papermill": {
     "duration": 4.631002,
     "end_time": "2024-08-03T15:49:35.553487",
     "exception": false,
     "start_time": "2024-08-03T15:49:30.922485",
     "status": "completed"
    },
    "tags": []
   },
   "outputs": [],
   "source": [
    "for column in merged_nat_curr.columns[3:]:\n",
    "    fig, ax1 = plt.subplots(figsize=(15, 6))\n",
    "\n",
    "    ax2 = ax1.twinx()\n",
    "    ax1.plot(merged_nat_curr['real_date'], merged_nat_curr[column], color='k', label=merged_nat_curr)\n",
    "    ax2.plot(ticker_all_price.index, ticker_all_price['Close'], color='b', label=share_name)\n",
    "\n",
    "    ax1.set_xlabel('Date')\n",
    "    ax1.set_ylabel(column, color='k')\n",
    "    ax2.set_ylabel('Share price (national currency)', color='b')\n",
    "\n",
    "    plt.legend()\n",
    "    plt.show()"
   ]
  },
  {
   "cell_type": "code",
   "execution_count": null,
   "id": "8621e79c",
   "metadata": {
    "execution": {
     "iopub.execute_input": "2024-08-03T15:49:35.613629Z",
     "iopub.status.busy": "2024-08-03T15:49:35.613352Z",
     "iopub.status.idle": "2024-08-03T15:49:36.564916Z",
     "shell.execute_reply": "2024-08-03T15:49:36.564620Z"
    },
    "papermill": {
     "duration": 0.986517,
     "end_time": "2024-08-03T15:49:36.565865",
     "exception": false,
     "start_time": "2024-08-03T15:49:35.579348",
     "status": "completed"
    },
    "tags": []
   },
   "outputs": [],
   "source": [
    "# plot histograms of value parameters\n",
    "utils.plot_histogram_value_parameters(input_df=merged_nat_curr, extra_parameters=[], owned_shares=owned_shares)"
   ]
  },
  {
   "cell_type": "markdown",
   "id": "73fbaff4",
   "metadata": {
    "papermill": {
     "duration": 0.023549,
     "end_time": "2024-08-03T15:49:36.615239",
     "exception": false,
     "start_time": "2024-08-03T15:49:36.591690",
     "status": "completed"
    },
    "tags": []
   },
   "source": [
    "## Calculate correlation between value parameters"
   ]
  },
  {
   "cell_type": "code",
   "execution_count": null,
   "id": "0040ac19",
   "metadata": {
    "execution": {
     "iopub.execute_input": "2024-08-03T15:49:36.679146Z",
     "iopub.status.busy": "2024-08-03T15:49:36.678960Z",
     "iopub.status.idle": "2024-08-03T15:49:36.688619Z",
     "shell.execute_reply": "2024-08-03T15:49:36.687987Z"
    },
    "papermill": {
     "duration": 0.049573,
     "end_time": "2024-08-03T15:49:36.690006",
     "exception": false,
     "start_time": "2024-08-03T15:49:36.640433",
     "status": "completed"
    },
    "tags": []
   },
   "outputs": [],
   "source": [
    "# calulate value parameters Pearson's correlation coefficient\n",
    "pd.DataFrame(merged_nat_curr, columns=['roa', 'roe', 'pe_ratio', 'pb_ratio', 'ps_ratio', 'ev_revenue', 'debt_to_equity', 'current_ratio']).corr()"
   ]
  },
  {
   "cell_type": "code",
   "execution_count": null,
   "id": "e911c2d5",
   "metadata": {},
   "outputs": [],
   "source": [
    "final_df = utils.get_value_stock_target_prices(\n",
    "    input_df=merged_nat_curr,\n",
    "    min_pct=0.2,\n",
    "    max_pct=0.5,\n",
    "    owned_shares=owned_shares\n",
    ")"
   ]
  }
 ],
 "metadata": {
  "kernelspec": {
   "display_name": ".venv",
   "language": "python",
   "name": "python3"
  },
  "language_info": {
   "codemirror_mode": {
    "name": "ipython",
    "version": 3
   },
   "file_extension": ".py",
   "mimetype": "text/x-python",
   "name": "python",
   "nbconvert_exporter": "python",
   "pygments_lexer": "ipython3",
   "version": "3.11.3"
  },
  "papermill": {
   "default_parameters": {},
   "duration": 10.335937,
   "end_time": "2024-08-03T15:49:37.414219",
   "environment_variables": {},
   "exception": null,
   "input_path": "../notebooks/borgwarner_national.ipynb",
   "output_path": "../notebooks/borgwarner_national.ipynb",
   "parameters": {},
   "start_time": "2024-08-03T15:49:27.078282",
   "version": "2.5.0"
  }
 },
 "nbformat": 4,
 "nbformat_minor": 5
}
