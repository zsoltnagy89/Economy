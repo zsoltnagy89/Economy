{
 "cells": [
  {
   "cell_type": "code",
   "execution_count": 1,
   "id": "27214b8f",
   "metadata": {
    "execution": {
     "iopub.execute_input": "2024-04-18T19:51:26.085344Z",
     "iopub.status.busy": "2024-04-18T19:51:26.085147Z",
     "iopub.status.idle": "2024-04-18T19:51:26.827007Z",
     "shell.execute_reply": "2024-04-18T19:51:26.826748Z"
    },
    "papermill": {
     "duration": 0.757609,
     "end_time": "2024-04-18T19:51:26.828127",
     "exception": false,
     "start_time": "2024-04-18T19:51:26.070518",
     "status": "completed"
    },
    "tags": []
   },
   "outputs": [],
   "source": [
    "import pandas as pd\n",
    "import matplotlib.pyplot as plt\n",
    "import numpy as np\n",
    "\n",
    "import yfinance as yf\n",
    "import datetime\n",
    "\n",
    "from valueinvesting import utils as utils"
   ]
  },
  {
   "cell_type": "markdown",
   "id": "ae969344",
   "metadata": {
    "papermill": {
     "duration": 0.005914,
     "end_time": "2024-04-18T19:51:26.840231",
     "exception": false,
     "start_time": "2024-04-18T19:51:26.834317",
     "status": "completed"
    },
    "tags": []
   },
   "source": [
    "# 1. Load raw input\n",
    "## Hardcoded block"
   ]
  },
  {
   "cell_type": "code",
   "execution_count": 2,
   "id": "9a553c1d",
   "metadata": {
    "execution": {
     "iopub.execute_input": "2024-04-18T19:51:26.851557Z",
     "iopub.status.busy": "2024-04-18T19:51:26.851375Z",
     "iopub.status.idle": "2024-04-18T19:51:26.853174Z",
     "shell.execute_reply": "2024-04-18T19:51:26.852952Z"
    },
    "papermill": {
     "duration": 0.008755,
     "end_time": "2024-04-18T19:51:26.854049",
     "exception": false,
     "start_time": "2024-04-18T19:51:26.845294",
     "status": "completed"
    },
    "tags": []
   },
   "outputs": [],
   "source": [
    "evaluate_last_X_years = True\n",
    "X=10\n",
    "currency_pair = 'EUR=X'\n",
    "numbers_in_currency = 'EUR'\n",
    "share_name = 'NDA.DE'"
   ]
  },
  {
   "cell_type": "markdown",
   "id": "f4172315",
   "metadata": {
    "papermill": {
     "duration": 0.005393,
     "end_time": "2024-04-18T19:51:26.864776",
     "exception": false,
     "start_time": "2024-04-18T19:51:26.859383",
     "status": "completed"
    },
    "tags": []
   },
   "source": [
    "# 1.1 Calculate Share numbers from total distributed dividend (CFS) and dividend amount"
   ]
  },
  {
   "cell_type": "markdown",
   "id": "ab689857",
   "metadata": {
    "papermill": {
     "duration": 0.00463,
     "end_time": "2024-04-18T19:51:26.874353",
     "exception": false,
     "start_time": "2024-04-18T19:51:26.869723",
     "status": "completed"
    },
    "tags": []
   },
   "source": [
    "# 1.2. Raw input statement data"
   ]
  },
  {
   "cell_type": "code",
   "execution_count": 3,
   "id": "2d021b0a",
   "metadata": {
    "execution": {
     "iopub.execute_input": "2024-04-18T19:51:26.885719Z",
     "iopub.status.busy": "2024-04-18T19:51:26.885513Z",
     "iopub.status.idle": "2024-04-18T19:51:26.897219Z",
     "shell.execute_reply": "2024-04-18T19:51:26.896894Z"
    },
    "papermill": {
     "duration": 0.019386,
     "end_time": "2024-04-18T19:51:26.898219",
     "exception": false,
     "start_time": "2024-04-18T19:51:26.878833",
     "status": "completed"
    },
    "tags": []
   },
   "outputs": [
    {
     "ename": "ValueError",
     "evalue": "Missing column provided to 'parse_dates': 'real_date'",
     "output_type": "error",
     "traceback": [
      "\u001b[0;31m---------------------------------------------------------------------------\u001b[0m",
      "\u001b[0;31mValueError\u001b[0m                                Traceback (most recent call last)",
      "Cell \u001b[0;32mIn[3], line 2\u001b[0m\n\u001b[1;32m      1\u001b[0m route \u001b[38;5;241m=\u001b[39m \u001b[38;5;124mf\u001b[39m\u001b[38;5;124m\"\u001b[39m\u001b[38;5;124m../data/input/\u001b[39m\u001b[38;5;132;01m{\u001b[39;00mshare_name\u001b[38;5;132;01m}\u001b[39;00m\u001b[38;5;124m_data.csv\u001b[39m\u001b[38;5;124m\"\u001b[39m\n\u001b[0;32m----> 2\u001b[0m data \u001b[38;5;241m=\u001b[39m \u001b[43mpd\u001b[49m\u001b[38;5;241;43m.\u001b[39;49m\u001b[43mread_csv\u001b[49m\u001b[43m(\u001b[49m\u001b[43mroute\u001b[49m\u001b[43m,\u001b[49m\u001b[43m \u001b[49m\u001b[43msep\u001b[49m\u001b[38;5;241;43m=\u001b[39;49m\u001b[38;5;124;43m'\u001b[39;49m\u001b[38;5;124;43m;\u001b[39;49m\u001b[38;5;124;43m'\u001b[39;49m\u001b[43m,\u001b[49m\u001b[43m \u001b[49m\u001b[43mparse_dates\u001b[49m\u001b[38;5;241;43m=\u001b[39;49m\u001b[43m[\u001b[49m\u001b[38;5;124;43m'\u001b[39;49m\u001b[38;5;124;43mdate\u001b[39;49m\u001b[38;5;124;43m'\u001b[39;49m\u001b[43m,\u001b[49m\u001b[43m \u001b[49m\u001b[38;5;124;43m'\u001b[39;49m\u001b[38;5;124;43mreal_date\u001b[39;49m\u001b[38;5;124;43m'\u001b[39;49m\u001b[43m]\u001b[49m\u001b[43m)\u001b[49m\n\u001b[1;32m      3\u001b[0m \u001b[38;5;66;03m# replace -, extend missing 0-s, fix datatype\u001b[39;00m\n\u001b[1;32m      4\u001b[0m data \u001b[38;5;241m=\u001b[39m utils\u001b[38;5;241m.\u001b[39mreplace_format_input(data)\n",
      "File \u001b[0;32m~/Desktop/projects/Economy/venv/lib/python3.11/site-packages/pandas/io/parsers/readers.py:912\u001b[0m, in \u001b[0;36mread_csv\u001b[0;34m(filepath_or_buffer, sep, delimiter, header, names, index_col, usecols, dtype, engine, converters, true_values, false_values, skipinitialspace, skiprows, skipfooter, nrows, na_values, keep_default_na, na_filter, verbose, skip_blank_lines, parse_dates, infer_datetime_format, keep_date_col, date_parser, date_format, dayfirst, cache_dates, iterator, chunksize, compression, thousands, decimal, lineterminator, quotechar, quoting, doublequote, escapechar, comment, encoding, encoding_errors, dialect, on_bad_lines, delim_whitespace, low_memory, memory_map, float_precision, storage_options, dtype_backend)\u001b[0m\n\u001b[1;32m    899\u001b[0m kwds_defaults \u001b[38;5;241m=\u001b[39m _refine_defaults_read(\n\u001b[1;32m    900\u001b[0m     dialect,\n\u001b[1;32m    901\u001b[0m     delimiter,\n\u001b[0;32m   (...)\u001b[0m\n\u001b[1;32m    908\u001b[0m     dtype_backend\u001b[38;5;241m=\u001b[39mdtype_backend,\n\u001b[1;32m    909\u001b[0m )\n\u001b[1;32m    910\u001b[0m kwds\u001b[38;5;241m.\u001b[39mupdate(kwds_defaults)\n\u001b[0;32m--> 912\u001b[0m \u001b[38;5;28;01mreturn\u001b[39;00m \u001b[43m_read\u001b[49m\u001b[43m(\u001b[49m\u001b[43mfilepath_or_buffer\u001b[49m\u001b[43m,\u001b[49m\u001b[43m \u001b[49m\u001b[43mkwds\u001b[49m\u001b[43m)\u001b[49m\n",
      "File \u001b[0;32m~/Desktop/projects/Economy/venv/lib/python3.11/site-packages/pandas/io/parsers/readers.py:577\u001b[0m, in \u001b[0;36m_read\u001b[0;34m(filepath_or_buffer, kwds)\u001b[0m\n\u001b[1;32m    574\u001b[0m _validate_names(kwds\u001b[38;5;241m.\u001b[39mget(\u001b[38;5;124m\"\u001b[39m\u001b[38;5;124mnames\u001b[39m\u001b[38;5;124m\"\u001b[39m, \u001b[38;5;28;01mNone\u001b[39;00m))\n\u001b[1;32m    576\u001b[0m \u001b[38;5;66;03m# Create the parser.\u001b[39;00m\n\u001b[0;32m--> 577\u001b[0m parser \u001b[38;5;241m=\u001b[39m \u001b[43mTextFileReader\u001b[49m\u001b[43m(\u001b[49m\u001b[43mfilepath_or_buffer\u001b[49m\u001b[43m,\u001b[49m\u001b[43m \u001b[49m\u001b[38;5;241;43m*\u001b[39;49m\u001b[38;5;241;43m*\u001b[39;49m\u001b[43mkwds\u001b[49m\u001b[43m)\u001b[49m\n\u001b[1;32m    579\u001b[0m \u001b[38;5;28;01mif\u001b[39;00m chunksize \u001b[38;5;129;01mor\u001b[39;00m iterator:\n\u001b[1;32m    580\u001b[0m     \u001b[38;5;28;01mreturn\u001b[39;00m parser\n",
      "File \u001b[0;32m~/Desktop/projects/Economy/venv/lib/python3.11/site-packages/pandas/io/parsers/readers.py:1407\u001b[0m, in \u001b[0;36mTextFileReader.__init__\u001b[0;34m(self, f, engine, **kwds)\u001b[0m\n\u001b[1;32m   1404\u001b[0m     \u001b[38;5;28mself\u001b[39m\u001b[38;5;241m.\u001b[39moptions[\u001b[38;5;124m\"\u001b[39m\u001b[38;5;124mhas_index_names\u001b[39m\u001b[38;5;124m\"\u001b[39m] \u001b[38;5;241m=\u001b[39m kwds[\u001b[38;5;124m\"\u001b[39m\u001b[38;5;124mhas_index_names\u001b[39m\u001b[38;5;124m\"\u001b[39m]\n\u001b[1;32m   1406\u001b[0m \u001b[38;5;28mself\u001b[39m\u001b[38;5;241m.\u001b[39mhandles: IOHandles \u001b[38;5;241m|\u001b[39m \u001b[38;5;28;01mNone\u001b[39;00m \u001b[38;5;241m=\u001b[39m \u001b[38;5;28;01mNone\u001b[39;00m\n\u001b[0;32m-> 1407\u001b[0m \u001b[38;5;28mself\u001b[39m\u001b[38;5;241m.\u001b[39m_engine \u001b[38;5;241m=\u001b[39m \u001b[38;5;28;43mself\u001b[39;49m\u001b[38;5;241;43m.\u001b[39;49m\u001b[43m_make_engine\u001b[49m\u001b[43m(\u001b[49m\u001b[43mf\u001b[49m\u001b[43m,\u001b[49m\u001b[43m \u001b[49m\u001b[38;5;28;43mself\u001b[39;49m\u001b[38;5;241;43m.\u001b[39;49m\u001b[43mengine\u001b[49m\u001b[43m)\u001b[49m\n",
      "File \u001b[0;32m~/Desktop/projects/Economy/venv/lib/python3.11/site-packages/pandas/io/parsers/readers.py:1679\u001b[0m, in \u001b[0;36mTextFileReader._make_engine\u001b[0;34m(self, f, engine)\u001b[0m\n\u001b[1;32m   1676\u001b[0m     \u001b[38;5;28;01mraise\u001b[39;00m \u001b[38;5;167;01mValueError\u001b[39;00m(msg)\n\u001b[1;32m   1678\u001b[0m \u001b[38;5;28;01mtry\u001b[39;00m:\n\u001b[0;32m-> 1679\u001b[0m     \u001b[38;5;28;01mreturn\u001b[39;00m \u001b[43mmapping\u001b[49m\u001b[43m[\u001b[49m\u001b[43mengine\u001b[49m\u001b[43m]\u001b[49m\u001b[43m(\u001b[49m\u001b[43mf\u001b[49m\u001b[43m,\u001b[49m\u001b[43m \u001b[49m\u001b[38;5;241;43m*\u001b[39;49m\u001b[38;5;241;43m*\u001b[39;49m\u001b[38;5;28;43mself\u001b[39;49m\u001b[38;5;241;43m.\u001b[39;49m\u001b[43moptions\u001b[49m\u001b[43m)\u001b[49m\n\u001b[1;32m   1680\u001b[0m \u001b[38;5;28;01mexcept\u001b[39;00m \u001b[38;5;167;01mException\u001b[39;00m:\n\u001b[1;32m   1681\u001b[0m     \u001b[38;5;28;01mif\u001b[39;00m \u001b[38;5;28mself\u001b[39m\u001b[38;5;241m.\u001b[39mhandles \u001b[38;5;129;01mis\u001b[39;00m \u001b[38;5;129;01mnot\u001b[39;00m \u001b[38;5;28;01mNone\u001b[39;00m:\n",
      "File \u001b[0;32m~/Desktop/projects/Economy/venv/lib/python3.11/site-packages/pandas/io/parsers/c_parser_wrapper.py:161\u001b[0m, in \u001b[0;36mCParserWrapper.__init__\u001b[0;34m(self, src, **kwds)\u001b[0m\n\u001b[1;32m    155\u001b[0m         \u001b[38;5;28mself\u001b[39m\u001b[38;5;241m.\u001b[39m_validate_usecols_names(\n\u001b[1;32m    156\u001b[0m             usecols,\n\u001b[1;32m    157\u001b[0m             \u001b[38;5;28mself\u001b[39m\u001b[38;5;241m.\u001b[39mnames,  \u001b[38;5;66;03m# type: ignore[has-type]\u001b[39;00m\n\u001b[1;32m    158\u001b[0m         )\n\u001b[1;32m    160\u001b[0m \u001b[38;5;66;03m# error: Cannot determine type of 'names'\u001b[39;00m\n\u001b[0;32m--> 161\u001b[0m \u001b[38;5;28;43mself\u001b[39;49m\u001b[38;5;241;43m.\u001b[39;49m\u001b[43m_validate_parse_dates_presence\u001b[49m\u001b[43m(\u001b[49m\u001b[38;5;28;43mself\u001b[39;49m\u001b[38;5;241;43m.\u001b[39;49m\u001b[43mnames\u001b[49m\u001b[43m)\u001b[49m  \u001b[38;5;66;03m# type: ignore[has-type]\u001b[39;00m\n\u001b[1;32m    162\u001b[0m \u001b[38;5;28mself\u001b[39m\u001b[38;5;241m.\u001b[39m_set_noconvert_columns()\n\u001b[1;32m    164\u001b[0m \u001b[38;5;66;03m# error: Cannot determine type of 'names'\u001b[39;00m\n",
      "File \u001b[0;32m~/Desktop/projects/Economy/venv/lib/python3.11/site-packages/pandas/io/parsers/base_parser.py:230\u001b[0m, in \u001b[0;36mParserBase._validate_parse_dates_presence\u001b[0;34m(self, columns)\u001b[0m\n\u001b[1;32m    220\u001b[0m missing_cols \u001b[38;5;241m=\u001b[39m \u001b[38;5;124m\"\u001b[39m\u001b[38;5;124m, \u001b[39m\u001b[38;5;124m\"\u001b[39m\u001b[38;5;241m.\u001b[39mjoin(\n\u001b[1;32m    221\u001b[0m     \u001b[38;5;28msorted\u001b[39m(\n\u001b[1;32m    222\u001b[0m         {\n\u001b[0;32m   (...)\u001b[0m\n\u001b[1;32m    227\u001b[0m     )\n\u001b[1;32m    228\u001b[0m )\n\u001b[1;32m    229\u001b[0m \u001b[38;5;28;01mif\u001b[39;00m missing_cols:\n\u001b[0;32m--> 230\u001b[0m     \u001b[38;5;28;01mraise\u001b[39;00m \u001b[38;5;167;01mValueError\u001b[39;00m(\n\u001b[1;32m    231\u001b[0m         \u001b[38;5;124mf\u001b[39m\u001b[38;5;124m\"\u001b[39m\u001b[38;5;124mMissing column provided to \u001b[39m\u001b[38;5;124m'\u001b[39m\u001b[38;5;124mparse_dates\u001b[39m\u001b[38;5;124m'\u001b[39m\u001b[38;5;124m: \u001b[39m\u001b[38;5;124m'\u001b[39m\u001b[38;5;132;01m{\u001b[39;00mmissing_cols\u001b[38;5;132;01m}\u001b[39;00m\u001b[38;5;124m'\u001b[39m\u001b[38;5;124m\"\u001b[39m\n\u001b[1;32m    232\u001b[0m     )\n\u001b[1;32m    233\u001b[0m \u001b[38;5;66;03m# Convert positions to actual column names\u001b[39;00m\n\u001b[1;32m    234\u001b[0m \u001b[38;5;28;01mreturn\u001b[39;00m [\n\u001b[1;32m    235\u001b[0m     col \u001b[38;5;28;01mif\u001b[39;00m (\u001b[38;5;28misinstance\u001b[39m(col, \u001b[38;5;28mstr\u001b[39m) \u001b[38;5;129;01mor\u001b[39;00m col \u001b[38;5;129;01min\u001b[39;00m columns) \u001b[38;5;28;01melse\u001b[39;00m columns[col]\n\u001b[1;32m    236\u001b[0m     \u001b[38;5;28;01mfor\u001b[39;00m col \u001b[38;5;129;01min\u001b[39;00m cols_needed\n\u001b[1;32m    237\u001b[0m ]\n",
      "\u001b[0;31mValueError\u001b[0m: Missing column provided to 'parse_dates': 'real_date'"
     ]
    }
   ],
   "source": [
    "route = f\"../data/input/{share_name}_data.csv\"\n",
    "data = pd.read_csv(route, sep=';', parse_dates=['date', 'real_date'])\n",
    "# replace -, extend missing 0-s, fix datatype\n",
    "data = utils.replace_format_input(data)"
   ]
  },
  {
   "cell_type": "code",
   "execution_count": null,
   "id": "2925ee73",
   "metadata": {
    "execution": {
     "iopub.execute_input": "2024-04-18T19:51:26.917617Z",
     "iopub.status.busy": "2024-04-18T19:51:26.917398Z",
     "iopub.status.idle": "2024-04-18T19:51:26.921513Z",
     "shell.execute_reply": "2024-04-18T19:51:26.921285Z"
    },
    "papermill": {
     "duration": 0.014751,
     "end_time": "2024-04-18T19:51:26.922413",
     "exception": false,
     "start_time": "2024-04-18T19:51:26.907662",
     "status": "completed"
    },
    "tags": []
   },
   "outputs": [],
   "source": [
    "owned_shares = pd.read_csv('../data/extras/owned_stocks.csv', sep=';', parse_dates=['date'])\n",
    "owned_shares = owned_shares.loc[(owned_shares['stock'] == share_name) & (owned_shares['active'] == 'yes')]"
   ]
  },
  {
   "cell_type": "markdown",
   "id": "9cde4632",
   "metadata": {
    "papermill": {
     "duration": 0.005764,
     "end_time": "2024-04-18T19:51:26.936770",
     "exception": false,
     "start_time": "2024-04-18T19:51:26.931006",
     "status": "completed"
    },
    "tags": []
   },
   "source": [
    "## (OPTIONAL) Time Filtering - Last 7 years daat"
   ]
  },
  {
   "cell_type": "code",
   "execution_count": null,
   "id": "e8b849ec",
   "metadata": {
    "execution": {
     "iopub.execute_input": "2024-04-18T19:51:26.950887Z",
     "iopub.status.busy": "2024-04-18T19:51:26.950670Z",
     "iopub.status.idle": "2024-04-18T19:51:26.959813Z",
     "shell.execute_reply": "2024-04-18T19:51:26.959531Z"
    },
    "papermill": {
     "duration": 0.018559,
     "end_time": "2024-04-18T19:51:26.960669",
     "exception": false,
     "start_time": "2024-04-18T19:51:26.942110",
     "status": "completed"
    },
    "tags": []
   },
   "outputs": [],
   "source": [
    "if evaluate_last_X_years:\n",
    "    data = data[data['date'] > datetime.datetime.today() - datetime.timedelta(days=X*366+93)]\n",
    "    data = data.reset_index(drop=True)\n",
    "\n",
    "data.head()"
   ]
  },
  {
   "cell_type": "markdown",
   "id": "e1dd033f",
   "metadata": {
    "papermill": {
     "duration": 0.005312,
     "end_time": "2024-04-18T19:51:26.972294",
     "exception": false,
     "start_time": "2024-04-18T19:51:26.966982",
     "status": "completed"
    },
    "tags": []
   },
   "source": [
    "## Calculate date when quaterly reports could be available"
   ]
  },
  {
   "cell_type": "code",
   "execution_count": null,
   "id": "fa6a21db",
   "metadata": {
    "execution": {
     "iopub.execute_input": "2024-04-18T19:51:26.984057Z",
     "iopub.status.busy": "2024-04-18T19:51:26.983819Z",
     "iopub.status.idle": "2024-04-18T19:51:26.986316Z",
     "shell.execute_reply": "2024-04-18T19:51:26.986071Z"
    },
    "papermill": {
     "duration": 0.009945,
     "end_time": "2024-04-18T19:51:26.987178",
     "exception": false,
     "start_time": "2024-04-18T19:51:26.977233",
     "status": "completed"
    },
    "tags": []
   },
   "outputs": [],
   "source": [
    "data = utils.calculate_real_date(data)"
   ]
  },
  {
   "cell_type": "markdown",
   "id": "47b62c93",
   "metadata": {
    "papermill": {
     "duration": 0.006998,
     "end_time": "2024-04-18T19:51:26.999952",
     "exception": false,
     "start_time": "2024-04-18T19:51:26.992954",
     "status": "completed"
    },
    "tags": []
   },
   "source": [
    "# 2. Filter out unnecesary columns"
   ]
  },
  {
   "cell_type": "code",
   "execution_count": null,
   "id": "290c614e",
   "metadata": {
    "execution": {
     "iopub.execute_input": "2024-04-18T19:51:27.012393Z",
     "iopub.status.busy": "2024-04-18T19:51:27.012232Z",
     "iopub.status.idle": "2024-04-18T19:51:27.018873Z",
     "shell.execute_reply": "2024-04-18T19:51:27.018602Z"
    },
    "papermill": {
     "duration": 0.014224,
     "end_time": "2024-04-18T19:51:27.019735",
     "exception": false,
     "start_time": "2024-04-18T19:51:27.005511",
     "status": "completed"
    },
    "tags": []
   },
   "outputs": [],
   "source": [
    "data = utils.filter_raw_data(data)\n",
    "data.tail()"
   ]
  },
  {
   "cell_type": "markdown",
   "id": "ad96f8bf",
   "metadata": {
    "papermill": {
     "duration": 0.006473,
     "end_time": "2024-04-18T19:51:27.032653",
     "exception": false,
     "start_time": "2024-04-18T19:51:27.026180",
     "status": "completed"
    },
    "tags": []
   },
   "source": [
    "## Pull historical average USD national currency rates and add to the dataframe"
   ]
  },
  {
   "cell_type": "code",
   "execution_count": null,
   "id": "84ab32ca",
   "metadata": {
    "execution": {
     "iopub.execute_input": "2024-04-18T19:51:27.044677Z",
     "iopub.status.busy": "2024-04-18T19:51:27.044496Z",
     "iopub.status.idle": "2024-04-18T19:51:33.944678Z",
     "shell.execute_reply": "2024-04-18T19:51:33.944374Z"
    },
    "papermill": {
     "duration": 6.908113,
     "end_time": "2024-04-18T19:51:33.946408",
     "exception": false,
     "start_time": "2024-04-18T19:51:27.038295",
     "status": "completed"
    },
    "tags": []
   },
   "outputs": [],
   "source": [
    "data['usd_nat_currency'] = utils.daily_price(\n",
    "    ticker=currency_pair,\n",
    "    end=data['date'],\n",
    "    days_earlier=90\n",
    "    )\n",
    "\n",
    "# drop rows, when USD rates wasn't available\n",
    "data = data[data['usd_nat_currency'].notna()]\n",
    "\n",
    "data.tail()"
   ]
  },
  {
   "cell_type": "markdown",
   "id": "2c521289",
   "metadata": {
    "papermill": {
     "duration": 0.019832,
     "end_time": "2024-04-18T19:51:33.976078",
     "exception": false,
     "start_time": "2024-04-18T19:51:33.956246",
     "status": "completed"
    },
    "tags": []
   },
   "source": [
    "## Convert USD values related to IS, BS, CFS to national currency"
   ]
  },
  {
   "cell_type": "code",
   "execution_count": null,
   "id": "a964dc94",
   "metadata": {
    "execution": {
     "iopub.execute_input": "2024-04-18T19:51:33.989562Z",
     "iopub.status.busy": "2024-04-18T19:51:33.989394Z",
     "iopub.status.idle": "2024-04-18T19:51:33.995974Z",
     "shell.execute_reply": "2024-04-18T19:51:33.995720Z"
    },
    "papermill": {
     "duration": 0.013828,
     "end_time": "2024-04-18T19:51:33.996785",
     "exception": false,
     "start_time": "2024-04-18T19:51:33.982957",
     "status": "completed"
    },
    "tags": []
   },
   "outputs": [],
   "source": [
    "# convert columns into national currency if necessary\n",
    "if numbers_in_currency == 'USD':\n",
    "    data_nat_curr = utils.convert_national_currency(input_data=data, currency=data)\n",
    "else:\n",
    "    data_nat_curr = data.copy()\n",
    "data_nat_curr.tail()"
   ]
  },
  {
   "cell_type": "markdown",
   "id": "b08f9660",
   "metadata": {
    "papermill": {
     "duration": 0.005658,
     "end_time": "2024-04-18T19:51:34.008609",
     "exception": false,
     "start_time": "2024-04-18T19:51:34.002951",
     "status": "completed"
    },
    "tags": []
   },
   "source": [
    "# 3. Calculate input to Value Raios (eps, bv per share, fcf)\n",
    "## filter out unwanted columns"
   ]
  },
  {
   "cell_type": "code",
   "execution_count": null,
   "id": "d6f3ae5c",
   "metadata": {
    "execution": {
     "iopub.execute_input": "2024-04-18T19:51:34.022565Z",
     "iopub.status.busy": "2024-04-18T19:51:34.022344Z",
     "iopub.status.idle": "2024-04-18T19:51:34.025152Z",
     "shell.execute_reply": "2024-04-18T19:51:34.024925Z"
    },
    "papermill": {
     "duration": 0.010369,
     "end_time": "2024-04-18T19:51:34.025958",
     "exception": false,
     "start_time": "2024-04-18T19:51:34.015589",
     "status": "completed"
    },
    "tags": []
   },
   "outputs": [],
   "source": [
    "filtered_nat_curr = utils.calculate_input_value_ratios(data_nat_curr)"
   ]
  },
  {
   "cell_type": "markdown",
   "id": "ed2c760b",
   "metadata": {
    "papermill": {
     "duration": 0.006535,
     "end_time": "2024-04-18T19:51:34.038789",
     "exception": false,
     "start_time": "2024-04-18T19:51:34.032254",
     "status": "completed"
    },
    "tags": []
   },
   "source": [
    "## Calculate input values to value ratios"
   ]
  },
  {
   "cell_type": "code",
   "execution_count": null,
   "id": "785063ff",
   "metadata": {
    "execution": {
     "iopub.execute_input": "2024-04-18T19:51:34.051766Z",
     "iopub.status.busy": "2024-04-18T19:51:34.051628Z",
     "iopub.status.idle": "2024-04-18T19:51:34.053993Z",
     "shell.execute_reply": "2024-04-18T19:51:34.053764Z"
    },
    "papermill": {
     "duration": 0.009719,
     "end_time": "2024-04-18T19:51:34.054742",
     "exception": false,
     "start_time": "2024-04-18T19:51:34.045023",
     "status": "completed"
    },
    "tags": []
   },
   "outputs": [],
   "source": [
    "ratios_nat_curr = utils.ratios_input_filter(filtered_nat_curr)"
   ]
  },
  {
   "cell_type": "markdown",
   "id": "ede61c56",
   "metadata": {
    "papermill": {
     "duration": 0.007441,
     "end_time": "2024-04-18T19:51:34.068391",
     "exception": false,
     "start_time": "2024-04-18T19:51:34.060950",
     "status": "completed"
    },
    "tags": []
   },
   "source": [
    "## Calculate performance parameters (current ratio, ROA, ROE, margins, D/E)"
   ]
  },
  {
   "cell_type": "code",
   "execution_count": null,
   "id": "d58b787b",
   "metadata": {
    "execution": {
     "iopub.execute_input": "2024-04-18T19:51:34.080917Z",
     "iopub.status.busy": "2024-04-18T19:51:34.080786Z",
     "iopub.status.idle": "2024-04-18T19:51:34.086230Z",
     "shell.execute_reply": "2024-04-18T19:51:34.085975Z"
    },
    "papermill": {
     "duration": 0.013117,
     "end_time": "2024-04-18T19:51:34.087111",
     "exception": false,
     "start_time": "2024-04-18T19:51:34.073994",
     "status": "completed"
    },
    "tags": []
   },
   "outputs": [],
   "source": [
    "ratios_nat_curr = utils.evaluate_performance(input=filtered_nat_curr, output=ratios_nat_curr)"
   ]
  },
  {
   "cell_type": "markdown",
   "id": "4162aa26",
   "metadata": {
    "papermill": {
     "duration": 0.005791,
     "end_time": "2024-04-18T19:51:34.099490",
     "exception": false,
     "start_time": "2024-04-18T19:51:34.093699",
     "status": "completed"
    },
    "tags": []
   },
   "source": [
    "# 4. Pull historical share prices and merge with sattement data"
   ]
  },
  {
   "cell_type": "code",
   "execution_count": null,
   "id": "e5c3dd71",
   "metadata": {
    "execution": {
     "iopub.execute_input": "2024-04-18T19:51:34.112433Z",
     "iopub.status.busy": "2024-04-18T19:51:34.112293Z",
     "iopub.status.idle": "2024-04-18T19:51:34.612614Z",
     "shell.execute_reply": "2024-04-18T19:51:34.612327Z"
    },
    "papermill": {
     "duration": 0.508122,
     "end_time": "2024-04-18T19:51:34.613450",
     "exception": false,
     "start_time": "2024-04-18T19:51:34.105328",
     "status": "completed"
    },
    "tags": []
   },
   "outputs": [],
   "source": [
    "# pull weekly share prices and merge with the value ratios\n",
    "merged_nat_curr = utils.add_share_prices_to_value_ratios(share_name, data, ratios_nat_curr)\n",
    "merged_nat_curr.head()"
   ]
  },
  {
   "cell_type": "markdown",
   "id": "154a459d",
   "metadata": {
    "papermill": {
     "duration": 0.006537,
     "end_time": "2024-04-18T19:51:34.626052",
     "exception": false,
     "start_time": "2024-04-18T19:51:34.619515",
     "status": "completed"
    },
    "tags": []
   },
   "source": [
    "# Calculate price ratios (P/E, P/B, P/S, P/FCF)"
   ]
  },
  {
   "cell_type": "code",
   "execution_count": null,
   "id": "84803e0a",
   "metadata": {
    "execution": {
     "iopub.execute_input": "2024-04-18T19:51:34.639599Z",
     "iopub.status.busy": "2024-04-18T19:51:34.639388Z",
     "iopub.status.idle": "2024-04-18T19:51:34.647225Z",
     "shell.execute_reply": "2024-04-18T19:51:34.647000Z"
    },
    "papermill": {
     "duration": 0.01617,
     "end_time": "2024-04-18T19:51:34.648109",
     "exception": false,
     "start_time": "2024-04-18T19:51:34.631939",
     "status": "completed"
    },
    "tags": []
   },
   "outputs": [],
   "source": [
    "merged_nat_curr = utils.price_ratios(merged_nat_curr)\n",
    "merged_nat_curr.head()"
   ]
  },
  {
   "cell_type": "markdown",
   "id": "f1d7e62e",
   "metadata": {
    "papermill": {
     "duration": 0.00541,
     "end_time": "2024-04-18T19:51:34.659609",
     "exception": false,
     "start_time": "2024-04-18T19:51:34.654199",
     "status": "completed"
    },
    "tags": []
   },
   "source": [
    "# Calculate Dividend yield and currency-share price correlation"
   ]
  },
  {
   "cell_type": "code",
   "execution_count": null,
   "id": "4d194d8f",
   "metadata": {
    "execution": {
     "iopub.execute_input": "2024-04-18T19:51:34.670887Z",
     "iopub.status.busy": "2024-04-18T19:51:34.670689Z",
     "iopub.status.idle": "2024-04-18T19:51:35.001463Z",
     "shell.execute_reply": "2024-04-18T19:51:35.001203Z"
    },
    "papermill": {
     "duration": 0.337604,
     "end_time": "2024-04-18T19:51:35.002441",
     "exception": false,
     "start_time": "2024-04-18T19:51:34.664837",
     "status": "completed"
    },
    "tags": []
   },
   "outputs": [],
   "source": [
    "# get daily historical USD-national currency rates\n",
    "usd_nat_curr = utils.get_historical_currency_rate(currency_pair, merged_nat_curr)"
   ]
  },
  {
   "cell_type": "code",
   "execution_count": null,
   "id": "f3391d81",
   "metadata": {
    "execution": {
     "iopub.execute_input": "2024-04-18T19:51:35.016320Z",
     "iopub.status.busy": "2024-04-18T19:51:35.016195Z",
     "iopub.status.idle": "2024-04-18T19:51:35.503161Z",
     "shell.execute_reply": "2024-04-18T19:51:35.502868Z"
    },
    "papermill": {
     "duration": 0.495681,
     "end_time": "2024-04-18T19:51:35.504036",
     "exception": false,
     "start_time": "2024-04-18T19:51:35.008355",
     "status": "completed"
    },
    "tags": []
   },
   "outputs": [],
   "source": [
    "# get share prices and dividend yield data\n",
    "ticker_all_price = utils.get_historical_share_dividend(share_name, merged_nat_curr)"
   ]
  },
  {
   "cell_type": "code",
   "execution_count": null,
   "id": "f29ea234",
   "metadata": {
    "execution": {
     "iopub.execute_input": "2024-04-18T19:51:35.517357Z",
     "iopub.status.busy": "2024-04-18T19:51:35.517246Z",
     "iopub.status.idle": "2024-04-18T19:51:35.731004Z",
     "shell.execute_reply": "2024-04-18T19:51:35.730664Z"
    },
    "papermill": {
     "duration": 0.221491,
     "end_time": "2024-04-18T19:51:35.731982",
     "exception": false,
     "start_time": "2024-04-18T19:51:35.510491",
     "status": "completed"
    },
    "tags": []
   },
   "outputs": [],
   "source": [
    "# Pearson's correlation coefficient between share price and USD - national currency rate\n",
    "utils.get_currency_share_price_correlation(share_name, usd_nat_curr, ticker_all_price)"
   ]
  },
  {
   "cell_type": "markdown",
   "id": "6c27e89a",
   "metadata": {
    "papermill": {
     "duration": 0.008741,
     "end_time": "2024-04-18T19:51:35.749671",
     "exception": false,
     "start_time": "2024-04-18T19:51:35.740930",
     "status": "completed"
    },
    "tags": []
   },
   "source": [
    "# Share price and value ratios"
   ]
  },
  {
   "cell_type": "code",
   "execution_count": null,
   "id": "8e79515d",
   "metadata": {
    "execution": {
     "iopub.execute_input": "2024-04-18T19:51:35.768694Z",
     "iopub.status.busy": "2024-04-18T19:51:35.768517Z",
     "iopub.status.idle": "2024-04-18T19:51:40.185555Z",
     "shell.execute_reply": "2024-04-18T19:51:40.185194Z"
    },
    "papermill": {
     "duration": 4.429373,
     "end_time": "2024-04-18T19:51:40.186505",
     "exception": false,
     "start_time": "2024-04-18T19:51:35.757132",
     "status": "completed"
    },
    "tags": []
   },
   "outputs": [],
   "source": [
    "for column in merged_nat_curr.columns[3:]:\n",
    "    fig, ax1 = plt.subplots(figsize=(15, 6))\n",
    "\n",
    "    ax2 = ax1.twinx()\n",
    "    ax1.plot(merged_nat_curr['real_date'], merged_nat_curr[column], color='k', label=merged_nat_curr)\n",
    "    ax2.plot(ticker_all_price.index, ticker_all_price['Close'], color='b', label=share_name)\n",
    "\n",
    "    ax1.set_xlabel('Date')\n",
    "    ax1.set_ylabel(column, color='k')\n",
    "    ax2.set_ylabel('Share price (national currency)', color='b')\n",
    "\n",
    "    plt.legend()\n",
    "    plt.show()"
   ]
  },
  {
   "cell_type": "code",
   "execution_count": null,
   "id": "ec800022",
   "metadata": {
    "execution": {
     "iopub.execute_input": "2024-04-18T19:51:40.225178Z",
     "iopub.status.busy": "2024-04-18T19:51:40.225049Z",
     "iopub.status.idle": "2024-04-18T19:51:40.949622Z",
     "shell.execute_reply": "2024-04-18T19:51:40.949322Z"
    },
    "papermill": {
     "duration": 0.744454,
     "end_time": "2024-04-18T19:51:40.950539",
     "exception": false,
     "start_time": "2024-04-18T19:51:40.206085",
     "status": "completed"
    },
    "tags": []
   },
   "outputs": [],
   "source": [
    "# plot histograms of value parameters\n",
    "utils.plot_histogram_value_parameters(input_df=merged_nat_curr, extra_parameters=[], owned_shares=owned_shares)"
   ]
  },
  {
   "cell_type": "markdown",
   "id": "62f3d01f",
   "metadata": {
    "papermill": {
     "duration": 0.024596,
     "end_time": "2024-04-18T19:51:40.995621",
     "exception": false,
     "start_time": "2024-04-18T19:51:40.971025",
     "status": "completed"
    },
    "tags": []
   },
   "source": [
    "## Calculate correlation between value parameters"
   ]
  },
  {
   "cell_type": "code",
   "execution_count": null,
   "id": "83578318",
   "metadata": {
    "execution": {
     "iopub.execute_input": "2024-04-18T19:51:41.054590Z",
     "iopub.status.busy": "2024-04-18T19:51:41.054298Z",
     "iopub.status.idle": "2024-04-18T19:51:41.060908Z",
     "shell.execute_reply": "2024-04-18T19:51:41.060620Z"
    },
    "papermill": {
     "duration": 0.045756,
     "end_time": "2024-04-18T19:51:41.061776",
     "exception": false,
     "start_time": "2024-04-18T19:51:41.016020",
     "status": "completed"
    },
    "tags": []
   },
   "outputs": [],
   "source": [
    "# calulate value parameters Pearson's correlation coefficient\n",
    "pd.DataFrame(merged_nat_curr, columns=['roa', 'roe', 'pe_ratio', 'pb_ratio', 'ps_ratio', 'ev_revenue', 'debt_to_equity', 'current_ratio']).corr()"
   ]
  },
  {
   "cell_type": "code",
   "execution_count": null,
   "id": "0b304d14",
   "metadata": {
    "execution": {
     "iopub.execute_input": "2024-04-18T19:51:41.103701Z",
     "iopub.status.busy": "2024-04-18T19:51:41.103579Z",
     "iopub.status.idle": "2024-04-18T19:51:42.154441Z",
     "shell.execute_reply": "2024-04-18T19:51:42.154106Z"
    },
    "papermill": {
     "duration": 1.07331,
     "end_time": "2024-04-18T19:51:42.155339",
     "exception": false,
     "start_time": "2024-04-18T19:51:41.082029",
     "status": "completed"
    },
    "tags": []
   },
   "outputs": [],
   "source": [
    "# plot value parameters in time and identify similar events\n",
    "utils.get_historical_analouges(\n",
    "    input_df=merged_nat_curr,\n",
    "    ticker_all_price=ticker_all_price,\n",
    "    share_name=share_name,\n",
    "    tolerance=0.2,\n",
    "    owned_shares=owned_shares\n",
    "    )"
   ]
  }
 ],
 "metadata": {
  "kernelspec": {
   "display_name": ".venv",
   "language": "python",
   "name": "python3"
  },
  "language_info": {
   "codemirror_mode": {
    "name": "ipython",
    "version": 3
   },
   "file_extension": ".py",
   "mimetype": "text/x-python",
   "name": "python",
   "nbconvert_exporter": "python",
   "pygments_lexer": "ipython3",
   "version": "3.11.3"
  },
  "papermill": {
   "default_parameters": {},
   "duration": 17.486872,
   "end_time": "2024-04-18T19:51:42.498278",
   "environment_variables": {},
   "exception": null,
   "input_path": "../notebooks/aurubis_national.ipynb",
   "output_path": "../notebooks/aurubis_national.ipynb",
   "parameters": {},
   "start_time": "2024-04-18T19:51:25.011406",
   "version": "2.5.0"
  }
 },
 "nbformat": 4,
 "nbformat_minor": 5
}
