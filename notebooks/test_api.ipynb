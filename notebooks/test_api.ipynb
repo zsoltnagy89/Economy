{
 "cells": [
  {
   "cell_type": "code",
   "execution_count": 120,
   "metadata": {},
   "outputs": [],
   "source": [
    "import requests\n",
    "import pandas as pd\n",
    "\n",
    "import datetime"
   ]
  },
  {
   "cell_type": "markdown",
   "metadata": {},
   "source": [
    "### Useful LINK\n",
    "#### https://www.kaggle.com/code/svendaj/extracting-data-from-sec-edgar-restful-apis"
   ]
  },
  {
   "cell_type": "markdown",
   "metadata": {},
   "source": [
    "## 1. Get Comnpany related report list"
   ]
  },
  {
   "cell_type": "code",
   "execution_count": 77,
   "metadata": {},
   "outputs": [],
   "source": [
    "cik = '0000100493'\n",
    "url = f\"https://data.sec.gov/submissions/CIK{cik}.json\""
   ]
  },
  {
   "cell_type": "code",
   "execution_count": 78,
   "metadata": {},
   "outputs": [],
   "source": [
    "header = {\n",
    "  \"User-Agent\": \"zs.nagy.1989@gmail.com\"#, # remaining fields are optional\n",
    "#    \"Accept-Encoding\": \"gzip, deflate\",\n",
    "#    \"Host\": \"data.sec.gov\"\n",
    "}"
   ]
  },
  {
   "cell_type": "code",
   "execution_count": 79,
   "metadata": {},
   "outputs": [
    {
     "data": {
      "text/plain": [
       "dict_keys(['cik', 'entityType', 'sic', 'sicDescription', 'insiderTransactionForOwnerExists', 'insiderTransactionForIssuerExists', 'name', 'tickers', 'exchanges', 'ein', 'description', 'website', 'investorWebsite', 'category', 'fiscalYearEnd', 'stateOfIncorporation', 'stateOfIncorporationDescription', 'addresses', 'phone', 'flags', 'formerNames', 'filings'])"
      ]
     },
     "execution_count": 79,
     "metadata": {},
     "output_type": "execute_result"
    }
   ],
   "source": [
    "company_filings = requests.get(url, headers=header).json()\n",
    "company_filings.keys()"
   ]
  },
  {
   "cell_type": "code",
   "execution_count": 80,
   "metadata": {},
   "outputs": [
    {
     "data": {
      "text/html": [
       "<div>\n",
       "<style scoped>\n",
       "    .dataframe tbody tr th:only-of-type {\n",
       "        vertical-align: middle;\n",
       "    }\n",
       "\n",
       "    .dataframe tbody tr th {\n",
       "        vertical-align: top;\n",
       "    }\n",
       "\n",
       "    .dataframe thead th {\n",
       "        text-align: right;\n",
       "    }\n",
       "</style>\n",
       "<table border=\"1\" class=\"dataframe\">\n",
       "  <thead>\n",
       "    <tr style=\"text-align: right;\">\n",
       "      <th></th>\n",
       "      <th>accessionNumber</th>\n",
       "      <th>filingDate</th>\n",
       "      <th>reportDate</th>\n",
       "      <th>acceptanceDateTime</th>\n",
       "      <th>act</th>\n",
       "      <th>form</th>\n",
       "      <th>fileNumber</th>\n",
       "      <th>filmNumber</th>\n",
       "      <th>items</th>\n",
       "      <th>size</th>\n",
       "      <th>isXBRL</th>\n",
       "      <th>isInlineXBRL</th>\n",
       "      <th>primaryDocument</th>\n",
       "      <th>primaryDocDescription</th>\n",
       "    </tr>\n",
       "  </thead>\n",
       "  <tbody>\n",
       "    <tr>\n",
       "      <th>0</th>\n",
       "      <td>0000100493-23-000096</td>\n",
       "      <td>2023-09-21</td>\n",
       "      <td>2023-09-19</td>\n",
       "      <td>2023-09-21T14:19:18.000Z</td>\n",
       "      <td></td>\n",
       "      <td>3/A</td>\n",
       "      <td></td>\n",
       "      <td></td>\n",
       "      <td></td>\n",
       "      <td>4056</td>\n",
       "      <td>0</td>\n",
       "      <td>0</td>\n",
       "      <td>xslF345X02/wk-form3a_1695320349.xml</td>\n",
       "      <td>FORM 3/A</td>\n",
       "    </tr>\n",
       "    <tr>\n",
       "      <th>1</th>\n",
       "      <td>0000100493-23-000094</td>\n",
       "      <td>2023-09-20</td>\n",
       "      <td>2023-09-19</td>\n",
       "      <td>2023-09-20T11:13:03.000Z</td>\n",
       "      <td></td>\n",
       "      <td>3</td>\n",
       "      <td></td>\n",
       "      <td></td>\n",
       "      <td></td>\n",
       "      <td>282547</td>\n",
       "      <td>0</td>\n",
       "      <td>0</td>\n",
       "      <td>xslF345X02/wk-form3_1695222773.xml</td>\n",
       "      <td>FORM 3</td>\n",
       "    </tr>\n",
       "    <tr>\n",
       "      <th>2</th>\n",
       "      <td>0000100493-23-000092</td>\n",
       "      <td>2023-09-07</td>\n",
       "      <td>2023-09-05</td>\n",
       "      <td>2023-09-07T08:00:46.000Z</td>\n",
       "      <td>34</td>\n",
       "      <td>8-K</td>\n",
       "      <td>001-14704</td>\n",
       "      <td>231241001</td>\n",
       "      <td>5.02</td>\n",
       "      <td>155227</td>\n",
       "      <td>1</td>\n",
       "      <td>1</td>\n",
       "      <td>tsn-20230905.htm</td>\n",
       "      <td>8-K</td>\n",
       "    </tr>\n",
       "    <tr>\n",
       "      <th>3</th>\n",
       "      <td>0000100493-23-000089</td>\n",
       "      <td>2023-08-10</td>\n",
       "      <td>2023-07-01</td>\n",
       "      <td>2023-08-10T07:50:17.000Z</td>\n",
       "      <td>34</td>\n",
       "      <td>10-Q</td>\n",
       "      <td>001-14704</td>\n",
       "      <td>231157224</td>\n",
       "      <td></td>\n",
       "      <td>12538579</td>\n",
       "      <td>1</td>\n",
       "      <td>1</td>\n",
       "      <td>tsn-20230701.htm</td>\n",
       "      <td>10-Q</td>\n",
       "    </tr>\n",
       "    <tr>\n",
       "      <th>4</th>\n",
       "      <td>0000100493-23-000086</td>\n",
       "      <td>2023-08-09</td>\n",
       "      <td>2023-08-07</td>\n",
       "      <td>2023-08-09T13:15:17.000Z</td>\n",
       "      <td></td>\n",
       "      <td>4</td>\n",
       "      <td></td>\n",
       "      <td></td>\n",
       "      <td></td>\n",
       "      <td>6481</td>\n",
       "      <td>0</td>\n",
       "      <td>0</td>\n",
       "      <td>xslF345X05/wk-form4_1691601307.xml</td>\n",
       "      <td>FORM 4</td>\n",
       "    </tr>\n",
       "  </tbody>\n",
       "</table>\n",
       "</div>"
      ],
      "text/plain": [
       "        accessionNumber  filingDate  reportDate        acceptanceDateTime act  \\\n",
       "0  0000100493-23-000096  2023-09-21  2023-09-19  2023-09-21T14:19:18.000Z       \n",
       "1  0000100493-23-000094  2023-09-20  2023-09-19  2023-09-20T11:13:03.000Z       \n",
       "2  0000100493-23-000092  2023-09-07  2023-09-05  2023-09-07T08:00:46.000Z  34   \n",
       "3  0000100493-23-000089  2023-08-10  2023-07-01  2023-08-10T07:50:17.000Z  34   \n",
       "4  0000100493-23-000086  2023-08-09  2023-08-07  2023-08-09T13:15:17.000Z       \n",
       "\n",
       "   form fileNumber filmNumber items      size  isXBRL  isInlineXBRL  \\\n",
       "0   3/A                                  4056       0             0   \n",
       "1     3                                282547       0             0   \n",
       "2   8-K  001-14704  231241001  5.02    155227       1             1   \n",
       "3  10-Q  001-14704  231157224        12538579       1             1   \n",
       "4     4                                  6481       0             0   \n",
       "\n",
       "                       primaryDocument primaryDocDescription  \n",
       "0  xslF345X02/wk-form3a_1695320349.xml              FORM 3/A  \n",
       "1   xslF345X02/wk-form3_1695222773.xml                FORM 3  \n",
       "2                     tsn-20230905.htm                   8-K  \n",
       "3                     tsn-20230701.htm                  10-Q  \n",
       "4   xslF345X05/wk-form4_1691601307.xml                FORM 4  "
      ]
     },
     "execution_count": 80,
     "metadata": {},
     "output_type": "execute_result"
    }
   ],
   "source": [
    "company_filings_df = pd.DataFrame(company_filings[\"filings\"][\"recent\"])\n",
    "company_filings_df.head()"
   ]
  },
  {
   "cell_type": "code",
   "execution_count": 81,
   "metadata": {},
   "outputs": [],
   "source": [
    "doc_type = ['10-Q', '10-K']\n",
    "company_filings_df_filt = company_filings_df.loc[company_filings_df['form'].isin(doc_type)]\n",
    "# reorder the documents\n",
    "company_filings_df_filt = company_filings_df_filt.reindex(index=company_filings_df_filt.index[::-1])\n",
    "# drop original index\n",
    "company_filings_df_filt.reset_index(inplace=True, drop=True)"
   ]
  },
  {
   "cell_type": "code",
   "execution_count": 82,
   "metadata": {},
   "outputs": [
    {
     "data": {
      "text/html": [
       "<div>\n",
       "<style scoped>\n",
       "    .dataframe tbody tr th:only-of-type {\n",
       "        vertical-align: middle;\n",
       "    }\n",
       "\n",
       "    .dataframe tbody tr th {\n",
       "        vertical-align: top;\n",
       "    }\n",
       "\n",
       "    .dataframe thead th {\n",
       "        text-align: right;\n",
       "    }\n",
       "</style>\n",
       "<table border=\"1\" class=\"dataframe\">\n",
       "  <thead>\n",
       "    <tr style=\"text-align: right;\">\n",
       "      <th></th>\n",
       "      <th>accessionNumber</th>\n",
       "      <th>filingDate</th>\n",
       "      <th>reportDate</th>\n",
       "      <th>acceptanceDateTime</th>\n",
       "      <th>act</th>\n",
       "      <th>form</th>\n",
       "      <th>fileNumber</th>\n",
       "      <th>filmNumber</th>\n",
       "      <th>items</th>\n",
       "      <th>size</th>\n",
       "      <th>isXBRL</th>\n",
       "      <th>isInlineXBRL</th>\n",
       "      <th>primaryDocument</th>\n",
       "      <th>primaryDocDescription</th>\n",
       "    </tr>\n",
       "  </thead>\n",
       "  <tbody>\n",
       "    <tr>\n",
       "      <th>0</th>\n",
       "      <td>0001193125-10-265708</td>\n",
       "      <td>2010-11-22</td>\n",
       "      <td>2010-10-02</td>\n",
       "      <td>2010-11-22T07:59:49.000Z</td>\n",
       "      <td>34</td>\n",
       "      <td>10-K</td>\n",
       "      <td>001-14704</td>\n",
       "      <td>101207228</td>\n",
       "      <td></td>\n",
       "      <td>32392546</td>\n",
       "      <td>1</td>\n",
       "      <td>0</td>\n",
       "      <td>d10k.htm</td>\n",
       "      <td>FORM 10-K</td>\n",
       "    </tr>\n",
       "    <tr>\n",
       "      <th>1</th>\n",
       "      <td>0001193125-11-024082</td>\n",
       "      <td>2011-02-04</td>\n",
       "      <td>2011-01-01</td>\n",
       "      <td>2011-02-04T11:26:12.000Z</td>\n",
       "      <td>34</td>\n",
       "      <td>10-Q</td>\n",
       "      <td>001-14704</td>\n",
       "      <td>11573095</td>\n",
       "      <td></td>\n",
       "      <td>13799667</td>\n",
       "      <td>1</td>\n",
       "      <td>0</td>\n",
       "      <td>d10q.htm</td>\n",
       "      <td>FORM 10-Q</td>\n",
       "    </tr>\n",
       "    <tr>\n",
       "      <th>2</th>\n",
       "      <td>0001193125-11-131527</td>\n",
       "      <td>2011-05-09</td>\n",
       "      <td>2011-04-02</td>\n",
       "      <td>2011-05-09T07:46:22.000Z</td>\n",
       "      <td>34</td>\n",
       "      <td>10-Q</td>\n",
       "      <td>001-14704</td>\n",
       "      <td>11821388</td>\n",
       "      <td></td>\n",
       "      <td>17129889</td>\n",
       "      <td>1</td>\n",
       "      <td>0</td>\n",
       "      <td>d10q.htm</td>\n",
       "      <td>FORM 10-Q</td>\n",
       "    </tr>\n",
       "    <tr>\n",
       "      <th>3</th>\n",
       "      <td>0001193125-11-213296</td>\n",
       "      <td>2011-08-08</td>\n",
       "      <td>2011-07-02</td>\n",
       "      <td>2011-08-08T07:43:04.000Z</td>\n",
       "      <td>34</td>\n",
       "      <td>10-Q</td>\n",
       "      <td>001-14704</td>\n",
       "      <td>111015661</td>\n",
       "      <td></td>\n",
       "      <td>13900916</td>\n",
       "      <td>1</td>\n",
       "      <td>0</td>\n",
       "      <td>d10q.htm</td>\n",
       "      <td>FORM 10-Q</td>\n",
       "    </tr>\n",
       "    <tr>\n",
       "      <th>4</th>\n",
       "      <td>0001193125-11-317791</td>\n",
       "      <td>2011-11-21</td>\n",
       "      <td>2011-10-01</td>\n",
       "      <td>2011-11-21T07:47:25.000Z</td>\n",
       "      <td>34</td>\n",
       "      <td>10-K</td>\n",
       "      <td>001-14704</td>\n",
       "      <td>111217750</td>\n",
       "      <td></td>\n",
       "      <td>25066045</td>\n",
       "      <td>1</td>\n",
       "      <td>0</td>\n",
       "      <td>d232196d10k.htm</td>\n",
       "      <td>FORM 10-K</td>\n",
       "    </tr>\n",
       "  </tbody>\n",
       "</table>\n",
       "</div>"
      ],
      "text/plain": [
       "        accessionNumber  filingDate  reportDate        acceptanceDateTime act  \\\n",
       "0  0001193125-10-265708  2010-11-22  2010-10-02  2010-11-22T07:59:49.000Z  34   \n",
       "1  0001193125-11-024082  2011-02-04  2011-01-01  2011-02-04T11:26:12.000Z  34   \n",
       "2  0001193125-11-131527  2011-05-09  2011-04-02  2011-05-09T07:46:22.000Z  34   \n",
       "3  0001193125-11-213296  2011-08-08  2011-07-02  2011-08-08T07:43:04.000Z  34   \n",
       "4  0001193125-11-317791  2011-11-21  2011-10-01  2011-11-21T07:47:25.000Z  34   \n",
       "\n",
       "   form fileNumber filmNumber items      size  isXBRL  isInlineXBRL  \\\n",
       "0  10-K  001-14704  101207228        32392546       1             0   \n",
       "1  10-Q  001-14704   11573095        13799667       1             0   \n",
       "2  10-Q  001-14704   11821388        17129889       1             0   \n",
       "3  10-Q  001-14704  111015661        13900916       1             0   \n",
       "4  10-K  001-14704  111217750        25066045       1             0   \n",
       "\n",
       "   primaryDocument primaryDocDescription  \n",
       "0         d10k.htm             FORM 10-K  \n",
       "1         d10q.htm             FORM 10-Q  \n",
       "2         d10q.htm             FORM 10-Q  \n",
       "3         d10q.htm             FORM 10-Q  \n",
       "4  d232196d10k.htm             FORM 10-K  "
      ]
     },
     "execution_count": 82,
     "metadata": {},
     "output_type": "execute_result"
    }
   ],
   "source": [
    "company_filings_df_filt.head()"
   ]
  },
  {
   "cell_type": "markdown",
   "metadata": {},
   "source": [
    "## 2. Accessing specific data"
   ]
  },
  {
   "cell_type": "code",
   "execution_count": 86,
   "metadata": {},
   "outputs": [],
   "source": [
    "url = f\"https://data.sec.gov/api/xbrl/companyfacts/CIK{cik}.json\""
   ]
  },
  {
   "cell_type": "code",
   "execution_count": 91,
   "metadata": {},
   "outputs": [
    {
     "data": {
      "text/plain": [
       "dict_keys(['cik', 'entityName', 'facts'])"
      ]
     },
     "execution_count": 91,
     "metadata": {},
     "output_type": "execute_result"
    }
   ],
   "source": [
    "company_facts = requests.get(url, headers=header).json()\n",
    "\n",
    "company_facts.keys()"
   ]
  },
  {
   "cell_type": "code",
   "execution_count": 92,
   "metadata": {},
   "outputs": [
    {
     "data": {
      "text/plain": [
       "dict_keys(['dei', 'us-gaap'])"
      ]
     },
     "execution_count": 92,
     "metadata": {},
     "output_type": "execute_result"
    }
   ],
   "source": [
    "company_facts['facts'].keys()"
   ]
  },
  {
   "cell_type": "code",
   "execution_count": 102,
   "metadata": {},
   "outputs": [
    {
     "data": {
      "text/plain": [
       "dict_keys(['AccountsPayableCurrent', 'AccountsReceivableNetCurrent', 'AccruedIncomeTaxesCurrent', 'AccruedMarketingCostsCurrent', 'AccumulatedDepreciationDepletionAndAmortizationPropertyPlantAndEquipment', 'AccumulatedOtherComprehensiveIncomeLossAvailableForSaleSecuritiesAdjustmentNetOfTax', 'AccumulatedOtherComprehensiveIncomeLossCumulativeChangesInNetGainLossFromCashFlowHedgesEffectNetOfTax', 'AccumulatedOtherComprehensiveIncomeLossDefinedBenefitPensionAndOtherPostretirementPlansNetOfTax', 'AccumulatedOtherComprehensiveIncomeLossForeignCurrencyTranslationAdjustmentNetOfTax', 'AccumulatedOtherComprehensiveIncomeLossNetOfTax', 'AdditionalPaidInCapital', 'AdjustmentForAmortization', 'AdjustmentsNoncashItemsToReconcileNetIncomeLossToCashProvidedByUsedInOperatingActivitiesOther', 'AllowanceForDoubtfulAccountsReceivable', 'AmortizationOfIntangibleAssets', 'AntidilutiveSecuritiesExcludedFromComputationOfEarningsPerShareAmount', 'AociLossCashFlowHedgeCumulativeGainLossAfterTax', 'AssetImpairmentCharges', 'Assets', 'AssetsCurrent', 'AssetsDisposedOfByMethodOtherThanSaleInPeriodOfDispositionGainLossOnDisposition1', 'AssetsFairValueDisclosureNonrecurring', 'AssetsOfDisposalGroupIncludingDiscontinuedOperation', 'BuildingsAndImprovementsGross', 'BusinessAcquisitionContingentConsiderationPotentialCashPayment', 'CashAndCashEquivalentsAtCarryingValue', 'CashAndCashEquivalentsPeriodIncreaseDecrease', 'CashCashEquivalentsRestrictedCashAndRestrictedCashEquivalents', 'CashCashEquivalentsRestrictedCashAndRestrictedCashEquivalentsPeriodIncreaseDecreaseIncludingExchangeRateEffect', 'CashFlowHedgeGainLossReclassifiedToEarningsNet', 'CashFlowHedgeGainLossToBeReclassifiedWithinTwelveMonths', 'ClassOfWarrantOrRightNumberOfSecuritiesCalledByWarrantsOrRights', 'CommonStockParOrStatedValuePerShare', 'CommonStockSharesIssued', 'ComprehensiveIncomeNetOfTax', 'ComprehensiveIncomeNetOfTaxAttributableToNoncontrollingInterest', 'ComprehensiveIncomeNetOfTaxIncludingPortionAttributableToNoncontrollingInterest', 'ConstructionInProgressGross', 'CostOfGoodsAndServicesSold', 'CostOfGoodsSold', 'CurrentIncomeTaxExpenseBenefit', 'DebtAndCapitalLeaseObligations', 'DebtCurrent', 'DebtInstrumentBasisSpreadOnVariableRate1', 'DebtInstrumentFairValue', 'DebtInstrumentUnamortizedDiscount', 'DecreaseInUnrecognizedTaxBenefitsIsReasonablyPossible', 'DeferredCompensationPlanAssets', 'DeferredFinanceCostsNet', 'DeferredIncomeTaxExpenseBenefit', 'DeferredIncomeTaxLiabilities', 'DeferredIncomeTaxLiabilitiesNet', 'DeferredTaxAssetsGoodwillAndIntangibleAssets', 'DeferredTaxAssetsGross', 'DeferredTaxAssetsHedgingTransactions', 'DeferredTaxAssetsInventory', 'DeferredTaxAssetsLiabilitiesNet', 'DeferredTaxAssetsOperatingLossCarryforwards', 'DeferredTaxAssetsOther', 'DeferredTaxAssetsPropertyPlantAndEquipment', 'DeferredTaxAssetsTaxDeferredExpenseReservesAndAccruals', 'DeferredTaxAssetsTaxDeferredExpenseReservesAndAccrualsSelfInsurance', 'DeferredTaxAssetsValuationAllowance', 'DeferredTaxLiabilities', 'DeferredTaxLiabilitiesDeferredExpenseCapitalizedInventoryCosts', 'DeferredTaxLiabilitiesDeferredExpenseReservesAndAccruals', 'DeferredTaxLiabilitiesGoodwillAndIntangibleAssetsIntangibleAssets', 'DeferredTaxLiabilitiesLeasingArrangements', 'DeferredTaxLiabilitiesNoncurrent', 'DeferredTaxLiabilitiesOther', 'DeferredTaxLiabilitiesPropertyPlantAndEquipment', 'DefinedBenefitPlanAccumulatedBenefitObligation', 'DefinedBenefitPlanActualReturnOnPlanAssetsSoldDuringPeriod', 'DefinedBenefitPlanActualReturnOnPlanAssetsStillHeld', 'DefinedBenefitPlanContributionsByEmployer', 'DefinedBenefitPlanDebtSecurities', 'DefinedBenefitPlanEffectOfOnePercentagePointDecreaseOnAccumulatedPostretirementBenefitObligation1', 'DefinedBenefitPlanEffectOfOnePercentagePointDecreaseOnServiceAndInterestCostComponents1', 'DefinedBenefitPlanEffectOfOnePercentagePointIncreaseOnAccumulatedPostretirementBenefitObligation', 'DefinedBenefitPlanEffectOfOnePercentagePointIncreaseOnServiceAndInterestCostComponents', 'DefinedBenefitPlanEquitySecurities', 'DefinedBenefitPlanEstimatedFutureEmployerContributionsInNextFiscalYear', 'DefinedBenefitPlanExpectedFutureEmployerContributionsRemainderOfFiscalYear', 'DefinedBenefitPlanFairValueOfPlanAssets', 'DefinedBenefitPlanHealthCareCostTrendRateAssumedForNextFiscalYear', 'DefinedBenefitPlanOtherPlanAssets', 'DefinedBenefitPlanPurchasesSalesAndSettlements', 'DefinedBenefitPlanRealEstate', 'DefinedBenefitPlansEstimatedFutureEmployerContributionsInCurrentFiscalYear', 'DefinedBenefitPlansEstimatedFutureEmployerContributionsInNextFiscalYear', 'DefinedBenefitPlanTargetAllocationPercentageOfAssetsDebtSecurities', 'DefinedBenefitPlanTargetAllocationPercentageOfAssetsEquitySecurities', 'DefinedBenefitPlanTargetAllocationPercentageOfAssetsOther', 'DefinedBenefitPlanTargetAllocationPercentageOfAssetsRealEstate', 'DefinedBenefitPlanTargetPlanAssetAllocations', 'DefinedBenefitPlanTransfersBetweenMeasurementLevels', 'DefinedBenefitPlanUltimateHealthCareCostTrendRate', 'DefinedBenefitPlanUltimateHealthCareCostTrendRate1', 'DefinedBenefitPlanWeightedAverageAssetAllocations', 'DefinedContributionPlanCostRecognized', 'Depreciation', 'DepreciationDepletionAndAmortization', 'DerivativeAssetNotDesignatedAsHedgingInstrumentFairValue', 'DerivativeCollateralObligationToReturnCash', 'DerivativeCollateralRightToReclaimCash', 'DerivativeFairValueOfDerivativeAsset', 'DerivativeFairValueOfDerivativeLiability', 'DerivativeFinancialInstrumentsLiabilitiesFairValueDisclosure', 'DerivativeInstrumentsGainLossRecognizedInIncomeNet', 'DerivativeLiabilityCollateralRightToReclaimCashOffset', 'DerivativeLiabilityDesignatedAsHedgingInstrumentFairValue', 'DerivativeLiabilityNotDesignatedAsHedgingInstrumentFairValue', 'DiscontinuedOperationGainLossFromDisposalOfDiscontinuedOperationBeforeIncomeTax', 'DiscontinuedOperationIncomeLossFromDiscontinuedOperationDuringPhaseOutPeriodBeforeIncomeTax', 'DiscontinuedOperationTaxEffectOfDiscontinuedOperation', 'DisposalGroupIncludingDiscontinuedOperationCashAndCashEquivalents', 'DisposalGroupIncludingDiscontinuedOperationForeignCurrencyTranslationGainsLosses', 'DisposalGroupIncludingDiscontinuedOperationGoodwill', 'DisposalGroupIncludingDiscontinuedOperationRevenue', 'EarningsPerShareDiluted', 'EffectiveIncomeTaxRateContinuingOperations', 'EffectiveIncomeTaxRateReconciliationAtFederalStatutoryIncomeTaxRate', 'EffectiveIncomeTaxRateReconciliationChangeInEnactedTaxRate', 'EffectiveIncomeTaxRateReconciliationDeductionsQualifiedProductionActivities', 'EffectiveIncomeTaxRateReconciliationDispositionOfBusiness', 'EffectiveIncomeTaxRateReconciliationForeignIncomeTaxRateDifferential', 'EffectiveIncomeTaxRateReconciliationNondeductibleExpenseImpairmentLosses', 'EffectiveIncomeTaxRateReconciliationOtherAdjustments', 'EffectiveIncomeTaxRateReconciliationOtherReconcilingItemsPercent', 'EffectiveIncomeTaxRateReconciliationShareBasedCompensationExcessTaxBenefitPercent', 'EffectiveIncomeTaxRateReconciliationStateAndLocalIncomeTaxes', 'EffectiveIncomeTaxRateReconciliationTaxContingencies', 'EffectiveIncomeTaxRateReconciliationTaxContingenciesDomestic', 'EffectiveIncomeTaxRateReconciliationTaxContingenciesForeign', 'EffectiveIncomeTaxRateReconciliationTaxCredits', 'EffectiveIncomeTaxRateReconciliationTaxCutsAndJobsActOf2017Amount', 'EffectiveIncomeTaxRateReconciliationTaxCutsAndJobsActOf2017Percent', 'EffectiveIncomeTaxRateReconciliationTaxSettlementsDomestic', 'EffectOfExchangeRateOnCashAndCashEquivalents', 'EmployeeRelatedLiabilitiesCurrent', 'EntityWideDisclosureOnGeographicAreasLongLivedAssetsInEntitysCountryOfDomicile', 'EntityWideDisclosureOnGeographicAreasLongLivedAssetsInForeignCountries', 'EquityMethodInvestmentOtherThanTemporaryImpairment', 'EquityMethodInvestmentRealizedGainLossOnDisposal', 'EquityMethodInvestments', 'FairValueAssetsMeasuredOnRecurringBasisChangeInUnrealizedGainLoss', 'FairValueAssetsMeasuredOnRecurringBasisDerivativeFinancialInstrumentsAssets', 'FairValueLiabilitiesMeasuredOnRecurringBasisDerivativeFinancialInstrumentsLiabilities', 'FairValueMeasurementWithUnobservableInputsReconciliationRecurringBasisAssetGainLossIncludedInEarnings', 'FairValueMeasurementWithUnobservableInputsReconciliationRecurringBasisAssetGainLossIncludedInEarnings1', 'FairValueMeasurementWithUnobservableInputsReconciliationRecurringBasisAssetGainLossIncludedInOtherComprehensiveIncome', 'FairValueMeasurementWithUnobservableInputsReconciliationRecurringBasisAssetGainLossIncludedInOtherComprehensiveIncomeLoss', 'FairValueMeasurementWithUnobservableInputsReconciliationRecurringBasisAssetIssues', 'FairValueMeasurementWithUnobservableInputsReconciliationRecurringBasisAssetPeriodIncreaseDecrease', 'FairValueMeasurementWithUnobservableInputsReconciliationRecurringBasisAssetPurchases', 'FairValueMeasurementWithUnobservableInputsReconciliationRecurringBasisAssetPurchasesSalesIssuancesSettlements', 'FairValueMeasurementWithUnobservableInputsReconciliationRecurringBasisAssetSettlements', 'FairValueMeasurementWithUnobservableInputsReconciliationRecurringBasisAssetValue', 'FederalIncomeTaxExpenseBenefitContinuingOperations', 'FiniteLivedContractualRightsGross', 'FiniteLivedIntangibleAssetsAccumulatedAmortization', 'FiniteLivedIntangibleAssetsAmortizationExpense', 'FiniteLivedIntangibleAssetsAmortizationExpenseNextTwelveMonths', 'FiniteLivedIntangibleAssetsAmortizationExpenseYearFive', 'FiniteLivedIntangibleAssetsAmortizationExpenseYearFour', 'FiniteLivedIntangibleAssetsAmortizationExpenseYearThree', 'FiniteLivedIntangibleAssetsAmortizationExpenseYearTwo', 'FiniteLivedIntangibleAssetsGross', 'FiniteLivedIntangibleAssetsNet', 'FiniteLivedIntangibleAssetsUsefulLifeMaximum', 'FiniteLivedIntangibleAssetsUsefulLifeMinimum', 'FiniteLivedPatentsGross', 'FiniteLivedTrademarksGross', 'ForeignCurrencyDerivativeAssetsAtFairValue', 'ForeignCurrencyDerivativeLiabilitiesAtFairValue', 'ForeignCurrencyTransactionGainBeforeTax', 'ForeignCurrencyTransactionLossBeforeTax', 'ForeignIncomeTaxExpenseBenefitContinuingOperations', 'FutureAmortizationExpenseYearFive', 'FutureAmortizationExpenseYearFour', 'FutureAmortizationExpenseYearOne', 'FutureAmortizationExpenseYearThree', 'FutureAmortizationExpenseYearTwo', 'GainLossOnSaleOfBusiness', 'GainLossOnSaleOfEquityInvestments', 'GainLossOnSaleOfEquityMethodInvestments', 'GainOnSaleOfInvestments', 'GainsLossesOnExtinguishmentOfDebt', 'Goodwill', 'GoodwillAcquiredDuringPeriod', 'GoodwillForeignCurrencyTranslationGainLoss', 'GoodwillGross', 'GoodwillImpairedAccumulatedImpairmentLoss', 'GoodwillImpairmentLoss', 'GoodwillOtherChanges', 'GoodwillOtherIncreaseDecrease', 'GoodwillPurchaseAccountingAdjustments', 'GoodwillTransfers', 'GoodwillTranslationAndPurchaseAccountingAdjustments', 'GoodwillWrittenOffRelatedToSaleOfBusinessUnit', 'GrossProfit', 'GuaranteeObligationsCurrentCarryingValue', 'ImpairmentOfIntangibleAssetsExcludingGoodwill', 'IncomeLossFromContinuingOperations', 'IncomeLossFromContinuingOperationsAttributableToNoncontrollingEntity', 'IncomeLossFromContinuingOperationsBeforeIncomeTaxesDomestic', 'IncomeLossFromContinuingOperationsBeforeIncomeTaxesExtraordinaryItemsNoncontrollingInterest', 'IncomeLossFromContinuingOperationsBeforeIncomeTaxesForeign', 'IncomeLossFromContinuingOperationsBeforeIncomeTaxesMinorityInterestAndIncomeLossFromEquityMethodInvestments', 'IncomeLossFromContinuingOperationsIncludingPortionAttributableToNoncontrollingInterest', 'IncomeLossFromContinuingOperationsPerDilutedShare', 'IncomeLossFromDiscontinuedOperationsNetOfTax', 'IncomeLossFromDiscontinuedOperationsNetOfTaxAttributableToReportingEntity', 'IncomeLossFromDiscontinuedOperationsNetOfTaxPerDilutedShare', 'IncomeLossFromEquityMethodInvestments', 'IncomeLossFromSubsidiariesBeforeTax', 'IncomeTaxExpenseBenefit', 'IncomeTaxExpenseBenefitContinuingOperationsAdjustmentOfDeferredTaxAssetLiability', 'IncomeTaxesPaidNet', 'IncomeTaxReconciliationChangeInDeferredTaxAssetsValuationAllowance', 'IncomeTaxReconciliationChangeInEnactedTaxRate', 'IncomeTaxReconciliationDeductionsQualifiedProductionActivities', 'IncomeTaxReconciliationOtherReconcilingItems', 'IncomeTaxReconciliationRepatriationOfForeignEarnings', 'IncomeTaxReconciliationStateAndLocalIncomeTaxes', 'IncomeTaxReconciliationTaxContingencies', 'IncomeTaxReconciliationTaxContingenciesForeign', 'IncomeTaxReconciliationTaxCredits', 'IncomeTaxReconciliationTaxSettlementsForeign', 'IncreaseDecreaseInAccountsPayable', 'IncreaseDecreaseInAccountsReceivable', 'IncreaseDecreaseInIncomeTaxesPayableNetOfIncomeTaxesReceivable', 'IncreaseDecreaseInInterestPayableNet', 'IncreaseDecreaseInInventories', 'IncreaseDecreaseInOperatingCapital', 'IncreaseDecreaseInOtherOperatingCapitalNet', 'IncreaseDecreaseInOutstandingChecksFinancingActivities', 'IncreaseDecreaseInRestrictedCash', 'IncrementalCommonSharesAttributableToCallOptionsAndWarrants', 'IncrementalCommonSharesAttributableToConversionOfDebtSecurities', 'IncrementalCommonSharesAttributableToShareBasedPaymentArrangements', 'IndefiniteLivedIntangibleAssetsExcludingGoodwill', 'InsuranceRecoveries', 'IntangibleAssetsNetExcludingGoodwill', 'InterestAndDebtExpense', 'InterestIncomeExpenseNonoperatingNet', 'InterestPaidNet', 'InterestRateFairValueHedgeLiabilityAtFairValue', 'InventoryFinishedGoodsAndWorkInProcessNetOfReserves', 'InventoryNet', 'InventoryRawMaterialsNetOfReserves', 'InventorySuppliesNetOfReserves', 'InvestmentIncomeInterest', 'InvestmentsInAffiliatesSubsidiariesAssociatesAndJointVentures', 'Land', 'LeaseAndRentalExpense', 'LeaseCost', 'LesseeOperatingLeaseLiabilityPaymentsDue', 'LesseeOperatingLeaseLiabilityPaymentsDueAfterYearFive', 'LesseeOperatingLeaseLiabilityPaymentsDueNextTwelveMonths', 'LesseeOperatingLeaseLiabilityPaymentsDueYearFive', 'LesseeOperatingLeaseLiabilityPaymentsDueYearFour', 'LesseeOperatingLeaseLiabilityPaymentsDueYearThree', 'LesseeOperatingLeaseLiabilityPaymentsDueYearTwo', 'LesseeOperatingLeaseLiabilityPaymentsRemainderOfFiscalYear', 'LesseeOperatingLeaseLiabilityUndiscountedExcessAmount', 'LettersOfCreditOutstandingAmount', 'LiabilitiesAndStockholdersEquity', 'LiabilitiesCurrent', 'LiabilitiesFairValueDisclosureNonrecurring', 'LiabilitiesOfDisposalGroupIncludingDiscontinuedOperation', 'LineOfCredit', 'LineOfCreditFacilityAmountOutstanding', 'LineOfCreditFacilityCurrentBorrowingCapacity', 'LineOfCreditFacilityMaximumBorrowingCapacity', 'LineOfCreditFacilityRemainingBorrowingCapacity', 'LongTermDebtAndCapitalLeaseObligations', 'LongTermDebtAndCapitalLeaseObligationsCurrent', 'LongTermDebtMaturitiesRepaymentsOfPrincipalInNextTwelveMonths', 'LongTermDebtMaturitiesRepaymentsOfPrincipalInYearFive', 'LongTermDebtMaturitiesRepaymentsOfPrincipalInYearFour', 'LongTermDebtMaturitiesRepaymentsOfPrincipalInYearThree', 'LongTermDebtMaturitiesRepaymentsOfPrincipalInYearTwo', 'LossContingencyAccrualAtCarryingValue', 'LossContingencyLossInPeriod', 'LossContingencyPendingClaimsNumber', 'MachineryAndEquipmentGross', 'MarketableSecuritiesRealizedGainLossOtherThanTemporaryImpairmentsAmount', 'MarketingAndAdvertisingExpense', 'MinorityInterest', 'NetCashProvidedByUsedInFinancingActivities', 'NetCashProvidedByUsedInInvestingActivities', 'NetCashProvidedByUsedInOperatingActivities', 'NetIncomeLoss', 'NetIncomeLossAttributableToNoncontrollingInterest', 'NetIncomeLossAttributableToRedeemableNoncontrollingInterest', 'NonoperatingGainsLosses', 'NonoperatingIncomeExpense', 'NotesAndLoansReceivableNetCurrent', 'NotionalAmountOfForeignCurrencyCashFlowHedgeDerivatives', 'NotionalAmountOfForeignCurrencyDerivatives', 'NumberOfCountriesInWhichEntityOperates', 'NumberOfOperatingSegments', 'OperatingIncomeLoss', 'OperatingLeaseCost', 'OperatingLeaseExpense', 'OperatingLeaseLiability', 'OperatingLeaseLiabilityCurrent', 'OperatingLeaseLiabilityNoncurrent', 'OperatingLeasePayments', 'OperatingLeaseRightOfUseAsset', 'OperatingLeasesFutureMinimumPaymentsDue', 'OperatingLeasesFutureMinimumPaymentsDueCurrent', 'OperatingLeasesFutureMinimumPaymentsDueInFiveYears', 'OperatingLeasesFutureMinimumPaymentsDueInFourYears', 'OperatingLeasesFutureMinimumPaymentsDueInThreeYears', 'OperatingLeasesFutureMinimumPaymentsDueInTwoYears', 'OperatingLeasesFutureMinimumPaymentsDueThereafter', 'OperatingLeaseWeightedAverageDiscountRatePercent', 'OtherAssetImpairmentCharges', 'OtherAssetsCurrent', 'OtherAssetsNoncurrent', 'OtherCommitment', 'OtherCommitmentDueAfterFifthYear', 'OtherCommitmentDueInFifthYear', 'OtherCommitmentDueInFourthYear', 'OtherCommitmentDueInNextTwelveMonths', 'OtherCommitmentDueInSecondYear', 'OtherCommitmentDueInThirdYear', 'OtherComprehensiveIncomeDerivativesQualifyingAsHedgesNetOfTaxPeriodIncreaseDecrease', 'OtherComprehensiveIncomeFinalizationOfPensionAndNonPensionPostretirementPlanValuationBeforeTax', 'OtherComprehensiveIncomeFinalizationOfPensionAndNonPensionPostretirementPlanValuationNetOfTax', 'OtherComprehensiveIncomeFinalizationOfPensionAndNonPensionPostretirementPlanValuationTax', 'OtherComprehensiveIncomeForeignCurrencyTransactionAndTranslationAdjustmentBeforeTaxPeriodIncreaseDecrease', 'OtherComprehensiveIncomeForeignCurrencyTransactionAndTranslationAdjustmentNetOfTaxPeriodIncreaseDecrease', 'OtherComprehensiveIncomeForeignCurrencyTransactionAndTranslationGainLossArisingDuringPeriodNetOfTax', 'OtherComprehensiveIncomeForeignCurrencyTransactionAndTranslationGainLossBeforeReclassificationAndTax', 'OtherComprehensiveIncomeForeignCurrencyTransactionAndTranslationReclassificationAdjustmentRealizedUponSaleOrLiquidationBeforeTax', 'OtherComprehensiveIncomeForeignCurrencyTransactionAndTranslationReclassificationAdjustmentRealizedUponSaleOrLiquidationNetOfTax', 'OtherComprehensiveIncomeForeignCurrencyTranslationAdjustmentTax', 'OtherComprehensiveIncomeForeignCurrencyTranslationGainLossArisingDuringPeriodTax', 'OtherComprehensiveIncomeForeignCurrencyTranslationReclassificationAdjustmentRealizedUponSaleOrLiquidationTax', 'OtherComprehensiveIncomeLossAvailableForSaleSecuritiesAdjustmentNetOfTax', 'OtherComprehensiveIncomeLossBeforeTax', 'OtherComprehensiveIncomeLossBeforeTaxPeriodIncreaseDecrease', 'OtherComprehensiveIncomeLossCashFlowHedgeGainLossBeforeReclassificationAfterTax', 'OtherComprehensiveIncomeLossDerivativesQualifyingAsHedgesNetOfTax', 'OtherComprehensiveIncomeLossForeignCurrencyTransactionAndTranslationAdjustmentNetOfTax', 'OtherComprehensiveIncomeLossNetOfTax', 'OtherComprehensiveIncomeLossNetOfTaxPeriodIncreaseDecrease', 'OtherComprehensiveIncomeLossPensionAndOtherPostretirementBenefitPlansAdjustmentNetOfTax', 'OtherComprehensiveIncomeLossTax', 'OtherComprehensiveIncomeReclassificationAdjustmentOnDerivativesIncludedInNetIncomeBeforeTax', 'OtherComprehensiveIncomeReclassificationAdjustmentOnDerivativesIncludedInNetIncomeTax', 'OtherComprehensiveIncomeUnrealizedGainLossOnDerivativesArisingDuringPeriodBeforeTax', 'OtherComprehensiveIncomeUnrealizedGainLossOnDerivativesArisingDuringPeriodNetOfTax', 'OtherComprehensiveIncomeUnrealizedGainLossOnDerivativesArisingDuringPeriodTax', 'OtherComprehensiveIncomeUnrealizedHoldingGainLossOnSecuritiesArisingDuringPeriodBeforeTax', 'OtherComprehensiveIncomeUnrealizedHoldingGainLossOnSecuritiesArisingDuringPeriodNetOfTax', 'OtherComprehensiveIncomeUnrealizedHoldingGainLossOnSecuritiesArisingDuringPeriodTax', 'OtherGeneralExpense', 'OtherLiabilitiesCurrent', 'OtherLiabilitiesNoncurrent', 'OtherLongTermDebt', 'OtherNoncashIncomeExpense', 'OtherNonoperatingIncomeExpense', 'OtherSundryLiabilitiesCurrent', 'OtherThanTemporaryImpairmentLossDebtSecuritiesAvailableForSale', 'OtherThanTemporaryImpairmentLossDebtSecuritiesPortionRecognizedInEarnings', 'OtherThanTemporaryImpairmentLossesInvestmentsAvailableforsaleSecurities', 'OtherThanTemporaryImpairmentLossesInvestmentsPortionInOtherComprehensiveIncomeLossBeforeTaxPortionAttributableToParent', 'OtherThanTemporaryImpairmentLossesInvestmentsPortionInOtherComprehensiveIncomeLossNetOfTaxPortionAttributableToParent', 'OtherThanTemporaryImpairmentLossesInvestmentsPortionRecognizedInEarningsNet', 'PaymentsForProceedsFromInvestments', 'PaymentsForProceedsFromOtherInvestingActivities', 'PaymentsForRepurchaseOfCommonStock', 'PaymentsForRepurchaseOfRedeemableNoncontrollingInterest', 'PaymentsForRestructuring', 'PaymentsOfDebtIssuanceCosts', 'PaymentsOfDividendsCommonStock', 'PaymentsToAcquireBusinessesNetOfCashAcquired', 'PaymentsToAcquireEquityMethodInvestments', 'PaymentsToAcquireMarketableSecurities', 'PaymentsToAcquirePropertyPlantAndEquipment', 'PensionExpense', 'PercentageOfFIFOInventory', 'ProceedsFromCollectionOfNotesReceivable', 'ProceedsFromDivestitureOfBusinesses', 'ProceedsFromDivestitureOfBusinessesNetOfCashDivested', 'ProceedsFromIssuanceOfCommercialPaper', 'ProceedsFromIssuanceOfCommonStock', 'ProceedsFromIssuanceOfDebt', 'ProceedsFromIssuanceOfLongTermDebtAndCapitalSecuritiesNet', 'ProceedsFromIssuanceOfWarrants', 'ProceedsFromLegalSettlements', 'ProceedsFromLongTermLinesOfCredit', 'ProceedsFromPaymentsForOtherFinancingActivities', 'ProceedsFromRepaymentsOfDebt', 'ProceedsFromRepaymentsOfLinesOfCredit', 'ProceedsFromRepaymentsOfRestrictedCashFinancingActivities', 'ProceedsFromSaleAndMaturityOfMarketableSecurities', 'ProceedsFromSaleOfOtherInvestments', 'ProceedsFromStockOptionsExercised', 'ProfitLoss', 'PropertyPlantAndEquipmentAdditions', 'PropertyPlantAndEquipmentGross', 'PropertyPlantAndEquipmentNet', 'RedeemableNoncontrollingInterestEquityOtherCarryingAmount', 'RepaymentsOfCommercialPaper', 'RepaymentsOfDebtAndCapitalLeaseObligations', 'RepaymentsOfLongTermDebtAndCapitalSecurities', 'RepaymentsOfLongTermLinesOfCredit', 'RepaymentsOfRelatedPartyDebt', 'ReportingUnitPercentageOfFairValueInExcessOfCarryingAmount', 'ResearchAndDevelopmentExpense', 'RestrictedCash', 'RestrictedCashAndCashEquivalentsAtCarryingValue', 'RestrictedCashAndCashEquivalentsNoncurrent', 'RestructuringAndRelatedCostCostIncurredToDate1', 'RestructuringAndRelatedCostExpectedCost1', 'RestructuringAndRelatedCostExpectedNumberOfPositionsEliminated', 'RestructuringAndRelatedCostIncurredCost', 'RestructuringReserve', 'RetainedEarningsAccumulatedDeficit', 'Revenues', 'RightOfUseAssetObtainedInExchangeForOperatingLeaseLiability', 'SaleOfStockPricePerShare', 'SalesRevenueNet', 'SelfInsuranceReserve', 'SelfInsuranceReserveCurrent', 'SellingGeneralAndAdministrativeExpense', 'ShareBasedCompensation', 'ShareBasedCompensationArrangementByShareBasedPaymentAwardEquityInstrumentsOtherThanOptionsForfeitedInPeriod', 'ShareBasedCompensationArrangementByShareBasedPaymentAwardEquityInstrumentsOtherThanOptionsForfeitedInPeriodWeightedAverageGrantDateFairValue', 'ShareBasedCompensationArrangementByShareBasedPaymentAwardEquityInstrumentsOtherThanOptionsGrantsInPeriod', 'ShareBasedCompensationArrangementByShareBasedPaymentAwardEquityInstrumentsOtherThanOptionsGrantsInPeriodWeightedAverageGrantDateFairValue', 'ShareBasedCompensationArrangementByShareBasedPaymentAwardEquityInstrumentsOtherThanOptionsNonvestedNumber', 'ShareBasedCompensationArrangementByShareBasedPaymentAwardEquityInstrumentsOtherThanOptionsNonvestedWeightedAverageGrantDateFairValue', 'ShareBasedCompensationArrangementByShareBasedPaymentAwardEquityInstrumentsOtherThanOptionsVestedInPeriod', 'ShareBasedCompensationArrangementByShareBasedPaymentAwardEquityInstrumentsOtherThanOptionsVestedInPeriodWeightedAverageGrantDateFairValue', 'ShareBasedCompensationArrangementByShareBasedPaymentAwardFairValueAssumptionsExpectedDividendRate', 'ShareBasedCompensationArrangementByShareBasedPaymentAwardFairValueAssumptionsExpectedTerm', 'ShareBasedCompensationArrangementByShareBasedPaymentAwardFairValueAssumptionsExpectedVolatilityRate', 'ShareBasedCompensationArrangementByShareBasedPaymentAwardFairValueAssumptionsRiskFreeInterestRate', 'ShareBasedCompensationArrangementByShareBasedPaymentAwardNumberOfSharesAvailableForGrant', 'ShareBasedCompensationArrangementByShareBasedPaymentAwardOptionsExercisableIntrinsicValue', 'ShareBasedCompensationArrangementByShareBasedPaymentAwardOptionsExercisableNumber', 'ShareBasedCompensationArrangementByShareBasedPaymentAwardOptionsExercisableWeightedAverageExercisePrice', 'ShareBasedCompensationArrangementByShareBasedPaymentAwardOptionsExercisableWeightedAverageRemainingContractualTerm', 'ShareBasedCompensationArrangementByShareBasedPaymentAwardOptionsExercisesInPeriod', 'ShareBasedCompensationArrangementByShareBasedPaymentAwardOptionsExercisesInPeriodWeightedAverageExercisePrice', 'ShareBasedCompensationArrangementByShareBasedPaymentAwardOptionsForfeituresAndExpirationsInPeriod', 'ShareBasedCompensationArrangementByShareBasedPaymentAwardOptionsForfeituresAndExpirationsInPeriodWeightedAverageExercisePrice', 'ShareBasedCompensationArrangementByShareBasedPaymentAwardOptionsGrantsInPeriod', 'ShareBasedCompensationArrangementByShareBasedPaymentAwardOptionsGrantsInPeriodWeightedAverageExercisePrice', 'ShareBasedCompensationArrangementByShareBasedPaymentAwardOptionsOutstandingIntrinsicValue', 'ShareBasedCompensationArrangementByShareBasedPaymentAwardOptionsOutstandingNumber', 'ShareBasedCompensationArrangementByShareBasedPaymentAwardOptionsOutstandingWeightedAverageExercisePrice', 'ShareBasedCompensationArrangementByShareBasedPaymentAwardOptionsOutstandingWeightedAverageRemainingContractualTerm', 'ShareBasedCompensationArrangementByShareBasedPaymentAwardSharesPurchasedForAward', 'ShareBasedCompensationArrangementsByShareBasedPaymentAwardOptionsExercisesInPeriodWeightedAverageExercisePrice', 'ShareBasedCompensationArrangementsByShareBasedPaymentAwardOptionsGrantsInPeriodWeightedAverageExercisePrice', 'SharebasedCompensationArrangementBySharebasedPaymentAwardOptionsExercisableIntrinsicValue1', 'SharebasedCompensationArrangementBySharebasedPaymentAwardOptionsOutstandingWeightedAverageRemainingContractualTerm1', 'SharePrice', 'SharesIssued', 'ShortTermLeaseCost', 'SignificantChangeInUnrecognizedTaxBenefitsIsReasonablyPossibleEstimatedRangeOfChange', 'SignificantChangeInUnrecognizedTaxBenefitsIsReasonablyPossibleEstimatedRangeOfChangeUpperBound', 'StateAndLocalIncomeTaxExpenseBenefitContinuingOperations', 'StockholdersEquity', 'StockholdersEquityIncludingPortionAttributableToNoncontrollingInterest', 'StockIssuedDuringPeriodSharesStockOptionsExercised', 'StockRepurchaseProgramRemainingNumberOfSharesAuthorizedToBeRepurchased', 'TaxCreditCarryforwardAmount', 'TaxesPayableCurrent', 'TaxesPayableCurrentAndNoncurrent', 'TreasuryStockShares', 'TreasuryStockValue', 'UndistributedEarnings', 'UndistributedEarningsOfForeignSubsidiaries', 'UnrecognizedTaxBenefits', 'UnrecognizedTaxBenefitsDecreasesResultingFromPriorPeriodTaxPositions', 'UnrecognizedTaxBenefitsDecreasesResultingFromSettlementsWithTaxingAuthorities', 'UnrecognizedTaxBenefitsIncomeTaxPenaltiesAndInterestAccrued', 'UnrecognizedTaxBenefitsIncreasesResultingFromAcquisition', 'UnrecognizedTaxBenefitsIncreasesResultingFromCurrentPeriodTaxPositions', 'UnrecognizedTaxBenefitsIncreasesResultingFromPriorPeriodTaxPositions', 'UnrecognizedTaxBenefitsReductionsResultingFromLapseOfApplicableStatuteOfLimitations', 'UnrecognizedTaxBenefitsThatWouldImpactEffectiveTaxRate', 'UnrecordedUnconditionalPurchaseObligationBalanceOnFifthAnniversary', 'UnrecordedUnconditionalPurchaseObligationBalanceOnFirstAnniversary', 'UnrecordedUnconditionalPurchaseObligationBalanceOnFourthAnniversary', 'UnrecordedUnconditionalPurchaseObligationBalanceOnSecondAnniversary', 'UnrecordedUnconditionalPurchaseObligationBalanceOnThirdAnniversary', 'UnrecordedUnconditionalPurchaseObligationBalanceSheetAmount', 'UnrecordedUnconditionalPurchaseObligationDueAfterFiveYears', 'VariableLeaseCost', 'WeightedAverageNumberOfDilutedSharesOutstanding', 'EffectOfExchangeRateOnCashCashEquivalentsRestrictedCashAndRestrictedCashEquivalents', 'DerivativeGainLossOnDerivativeNet', 'RestrictedCashNoncurrent', 'UnusualOrInfrequentItemInsuranceProceeds', 'InventoryValuationReserves', 'TreasuryStockCommonShares'])"
      ]
     },
     "execution_count": 102,
     "metadata": {},
     "output_type": "execute_result"
    }
   ],
   "source": [
    "company_facts['facts']['us-gaap'].keys()"
   ]
  },
  {
   "cell_type": "code",
   "execution_count": 127,
   "metadata": {},
   "outputs": [
    {
     "data": {
      "text/html": [
       "<div>\n",
       "<style scoped>\n",
       "    .dataframe tbody tr th:only-of-type {\n",
       "        vertical-align: middle;\n",
       "    }\n",
       "\n",
       "    .dataframe tbody tr th {\n",
       "        vertical-align: top;\n",
       "    }\n",
       "\n",
       "    .dataframe thead th {\n",
       "        text-align: right;\n",
       "    }\n",
       "</style>\n",
       "<table border=\"1\" class=\"dataframe\">\n",
       "  <thead>\n",
       "    <tr style=\"text-align: right;\">\n",
       "      <th></th>\n",
       "      <th>end</th>\n",
       "      <th>val</th>\n",
       "      <th>accn</th>\n",
       "      <th>fy</th>\n",
       "      <th>fp</th>\n",
       "      <th>form</th>\n",
       "      <th>filed</th>\n",
       "      <th>frame</th>\n",
       "    </tr>\n",
       "  </thead>\n",
       "  <tbody>\n",
       "    <tr>\n",
       "      <th>0</th>\n",
       "      <td>2009-10-03</td>\n",
       "      <td>4375000000</td>\n",
       "      <td>0001193125-10-182490</td>\n",
       "      <td>2010</td>\n",
       "      <td>Q3</td>\n",
       "      <td>10-Q</td>\n",
       "      <td>2010-08-09</td>\n",
       "      <td>NaN</td>\n",
       "    </tr>\n",
       "    <tr>\n",
       "      <th>1</th>\n",
       "      <td>2010-07-03</td>\n",
       "      <td>4364000000</td>\n",
       "      <td>0001193125-10-182490</td>\n",
       "      <td>2010</td>\n",
       "      <td>Q3</td>\n",
       "      <td>10-Q</td>\n",
       "      <td>2010-08-09</td>\n",
       "      <td>CY2010Q2I</td>\n",
       "    </tr>\n",
       "    <tr>\n",
       "      <th>2</th>\n",
       "      <td>2010-10-02</td>\n",
       "      <td>4618000000</td>\n",
       "      <td>0001193125-11-213296</td>\n",
       "      <td>2011</td>\n",
       "      <td>Q3</td>\n",
       "      <td>10-Q</td>\n",
       "      <td>2011-08-08</td>\n",
       "      <td>NaN</td>\n",
       "    </tr>\n",
       "    <tr>\n",
       "      <th>3</th>\n",
       "      <td>2011-01-01</td>\n",
       "      <td>4953000000</td>\n",
       "      <td>0001193125-11-024082</td>\n",
       "      <td>2011</td>\n",
       "      <td>Q1</td>\n",
       "      <td>10-Q</td>\n",
       "      <td>2011-02-04</td>\n",
       "      <td>CY2010Q4I</td>\n",
       "    </tr>\n",
       "    <tr>\n",
       "      <th>4</th>\n",
       "      <td>2011-04-02</td>\n",
       "      <td>4937000000</td>\n",
       "      <td>0001193125-11-131527</td>\n",
       "      <td>2011</td>\n",
       "      <td>Q2</td>\n",
       "      <td>10-Q</td>\n",
       "      <td>2011-05-09</td>\n",
       "      <td>CY2011Q1I</td>\n",
       "    </tr>\n",
       "  </tbody>\n",
       "</table>\n",
       "</div>"
      ],
      "text/plain": [
       "         end         val                  accn    fy  fp  form       filed  \\\n",
       "0 2009-10-03  4375000000  0001193125-10-182490  2010  Q3  10-Q  2010-08-09   \n",
       "1 2010-07-03  4364000000  0001193125-10-182490  2010  Q3  10-Q  2010-08-09   \n",
       "2 2010-10-02  4618000000  0001193125-11-213296  2011  Q3  10-Q  2011-08-08   \n",
       "3 2011-01-01  4953000000  0001193125-11-024082  2011  Q1  10-Q  2011-02-04   \n",
       "4 2011-04-02  4937000000  0001193125-11-131527  2011  Q2  10-Q  2011-05-09   \n",
       "\n",
       "       frame  \n",
       "0        NaN  \n",
       "1  CY2010Q2I  \n",
       "2        NaN  \n",
       "3  CY2010Q4I  \n",
       "4  CY2011Q1I  "
      ]
     },
     "execution_count": 127,
     "metadata": {},
     "output_type": "execute_result"
    }
   ],
   "source": [
    "# create DataFrame & filter\n",
    "curr_assets_df = pd.DataFrame(company_facts[\"facts\"][\"us-gaap\"][\"AssetsCurrent\"][\"units\"][\"USD\"])\n",
    "curr_assets_df = curr_assets_df.loc[curr_assets_df['form'] == '10-Q']\n",
    "# filter duplicates (revisioned rows)\n",
    "curr_assets_df.drop_duplicates(subset=['end'], keep='last', inplace=True, ignore_index=True)\n",
    "curr_assets_df['end'] = pd.to_datetime(curr_assets_df['end'])\n",
    "curr_assets_df.head()"
   ]
  },
  {
   "cell_type": "markdown",
   "metadata": {},
   "source": [
    "CSianl egy mampper dictionaryt az adott cikhez\n",
    "- Cik key\n",
    "    - tablazatom eleme subkey amihez megy a us-gaap"
   ]
  },
  {
   "cell_type": "code",
   "execution_count": null,
   "metadata": {},
   "outputs": [],
   "source": []
  }
 ],
 "metadata": {
  "kernelspec": {
   "display_name": ".venv",
   "language": "python",
   "name": "python3"
  },
  "language_info": {
   "codemirror_mode": {
    "name": "ipython",
    "version": 3
   },
   "file_extension": ".py",
   "mimetype": "text/x-python",
   "name": "python",
   "nbconvert_exporter": "python",
   "pygments_lexer": "ipython3",
   "version": "3.11.3"
  },
  "orig_nbformat": 4
 },
 "nbformat": 4,
 "nbformat_minor": 2
}
