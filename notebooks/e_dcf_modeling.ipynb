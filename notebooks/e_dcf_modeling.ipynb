{
 "cells": [
  {
   "cell_type": "markdown",
   "metadata": {},
   "source": [
    "# Calculate the TSN intrinsic value"
   ]
  },
  {
   "cell_type": "code",
   "execution_count": 1,
   "metadata": {},
   "outputs": [
    {
     "name": "stdout",
     "output_type": "stream",
     "text": [
      "Connection to SQLite DB successful!\n",
      "Data has been collected!\n",
      "Datatype has been updated!\n",
      "Connection closed!\n"
     ]
    }
   ],
   "source": [
    "import pandas as pd\n",
    "import datetime\n",
    "import numpy as np\n",
    "import matplotlib.pyplot as plt\n",
    "from ipynb.fs.full.c_Stock_visual_QC import read_data_from_sql          # import function from other .ipynb file\n",
    "pd.options.mode.chained_assignment = None # not to get SettingWithCopyWarning\n",
    "\n",
    "import warnings\n",
    "import statsmodels.api as sm"
   ]
  },
  {
   "cell_type": "markdown",
   "metadata": {},
   "source": [
    "## Function to use"
   ]
  },
  {
   "cell_type": "code",
   "execution_count": 2,
   "metadata": {},
   "outputs": [],
   "source": [
    "def calculate_missing_columns(df):\n",
    "    # derived columns\n",
    "    df['tot_liab'] = df['tot_ass'] - df['tot_equity']\n",
    "    df['inc_b_tax'] = df['net_inc'] + df['inc_tax_exp']\n",
    "    df['ebitda'] = df['rev'] - df['cost_sale'] - df['sale_gen_adm']\n",
    "    df['ebit'] = df['ebitda'] - df['depr_amort']\n",
    "    df['nopat'] = df['ebit'] - df['inc_tax_exp']\n",
    "    df['other_curr_ass_lesscash'] = df['acc_rec'] + df['invent'] + df['other_curr_ass']\n",
    "    df['tot_curr_liab_lessdebt'] = df['tot_curr_liab'] - df['short_debt']\n",
    "    df['nwc'] = df['other_curr_ass_lesscash'] - df['tot_curr_liab_lessdebt']\n",
    "    # capex calculation\n",
    "    capex = []\n",
    "    for index in range(len(df)):\n",
    "        if index > 0:\n",
    "            ppe_change = df['ppe_net'].iloc[index] - df['ppe_net'].iloc[index-1]\n",
    "            depr_amort = df['depr_amort'].iloc[index]\n",
    "            capex.append(ppe_change + depr_amort)\n",
    "        else:\n",
    "            capex.append(np.nan)\n",
    "    df.loc[:, 'capex'] = capex\n",
    "\n",
    "    return df"
   ]
  },
  {
   "cell_type": "code",
   "execution_count": 3,
   "metadata": {},
   "outputs": [],
   "source": [
    "# evaluate an ARIMA model for a given order (p,d,q)\n",
    "def evaluate_arima_model(X, arima_order):\n",
    "    from statsmodels.tsa.arima.model import ARIMA\n",
    "    from sklearn.metrics import mean_squared_error\n",
    "    # prepare training dataset\n",
    "    train_size = int(len(X) * 0.66)\n",
    "    train, test = X[0:train_size], X[train_size:]\n",
    "    history = [x for x in train]\n",
    "    # make predictions\n",
    "    predictions = list()\n",
    "    for t in range(len(test)):\n",
    "        model = ARIMA(history, order=arima_order)\n",
    "        model_fit = model.fit()\n",
    "        yhat = model_fit.forecast()[0]\n",
    "        predictions.append(yhat)\n",
    "        history.append(test[t])\n",
    "    # calculate out of sample error\n",
    "    error = mean_squared_error(test, predictions)\n",
    "    print(error)\n",
    "    return error"
   ]
  },
  {
   "cell_type": "code",
   "execution_count": 4,
   "metadata": {},
   "outputs": [],
   "source": [
    "# evaluate combinations of p, d and q values for an ARIMA model\n",
    "def evaluate_models(dataset, p_values, d_values, q_values):\n",
    "    dataset = dataset.astype('float32')\n",
    "    best_score, best_cfg = float(\"inf\"), None\n",
    "    for p in p_values:\n",
    "        for d in d_values:\n",
    "            for q in q_values:\n",
    "                order = (p,d,q)\n",
    "                try:\n",
    "                    mse = evaluate_arima_model(dataset, order)\n",
    "                    if mse < best_score:\n",
    "                        best_score, best_cfg = mse, order\n",
    "                    print('ARIMA%s MSE=%.3f' % (order, mse))\n",
    "                except:\n",
    "                    continue\n",
    "    print('Best ARIMA%s MSE=%.3f' % (best_cfg, best_score))\n",
    "    return best_cfg"
   ]
  },
  {
   "cell_type": "code",
   "execution_count": 5,
   "metadata": {},
   "outputs": [],
   "source": [
    "# create a function to calculate ratios\n",
    "def calculate_is_margins(df):\n",
    "    is_incomes = ['cost_sale', 'sale_gen_adm']\n",
    "    calc_margins = dict()\n",
    "    # plot and calculate ratios\n",
    "    for income in is_incomes:\n",
    "        if income != 'inc_tax_exp':\n",
    "            div = 'rev'\n",
    "        else:\n",
    "            div = 'inc_b_tax'\n",
    "\n",
    "        fig, ax1 = plt.subplots(figsize=(15, 6))\n",
    "\n",
    "        ax1.plot(df['end'], df[income]/df[div], label=income.replace('_', ' ').upper())\n",
    "        ax1.axhline(y=(df[income]/df[div]).mean(), color='r', label='Average value')\n",
    "        \n",
    "        ax1.set_xlabel('Date')\n",
    "        ax1.set_ylabel(income.replace('_', ' ').upper())\n",
    "        \n",
    "        plt.legend()\n",
    "        plt.show()\n",
    "\n",
    "        calc_margins[income+'_margin'] = (df[income]/df[div]).mean()\n",
    "\n",
    "        print(str(income)+' is divided by the revenue.')\n",
    "        print('Average value: '+str((df[income]/df[div]).mean()))\n",
    "\n",
    "    return calc_margins"
   ]
  },
  {
   "cell_type": "code",
   "execution_count": 6,
   "metadata": {},
   "outputs": [],
   "source": [
    "def predict_cos_sale_gen_adm(input_df, is_ratio_dictionary):\n",
    "    # predict Cost Of Sales & Sale, General Administration from the Revenue\n",
    "    for column in ['cost_sale', 'sale_gen_adm']:\n",
    "        input_df[column] = input_df['rev'] * is_ratio_dictionary[column+'_margin']\n",
    "\n",
    "    return input_df"
   ]
  },
  {
   "cell_type": "code",
   "execution_count": 7,
   "metadata": {},
   "outputs": [],
   "source": [
    "def fixed_asset_ratios(df):\n",
    "    # calculate PPE start & CAPEX\n",
    "    df['ppe_net_start'] = [df['ppe_net'].values[i-1] if i > 0 else np.nan for i in range(len(df['ppe_net'].values))]\n",
    "    df['capex'] = df['ppe_net'] - df['ppe_net_start'] + df['depr_amort']\n",
    "    \n",
    "    #calculate ratio\n",
    "    fixed_asset_ratios = dict()\n",
    "    # D&A ratio\n",
    "    for column in ['depr_amort', 'capex']:\n",
    "        ratio = df[column]/df['ppe_net_start']\n",
    "        ratio.hist()\n",
    "        plt.show()\n",
    "        fixed_asset_ratios[column+'_ratio'] = ratio.mean()\n",
    "        print('Average', column, 'value is', fixed_asset_ratios[column+'_ratio'])\n",
    "    return fixed_asset_ratios"
   ]
  },
  {
   "cell_type": "code",
   "execution_count": 8,
   "metadata": {},
   "outputs": [],
   "source": [
    "def predict_fixed_assets(raw_df, prediction_df, fxd_ass_ratios):\n",
    "    # get the last measured PPE as start in case of prediction\n",
    "    ppe_start_pred = [raw_df['ppe_net'].iloc[-1]]\n",
    "    depr_amort_pred = []\n",
    "    capex_pred = []\n",
    "    ppe_net = []\n",
    "    # calculate prediction\n",
    "    for index in range(len(prediction_df)):\n",
    "        depr_amort_pred.append(ppe_start_pred[-1] * fxd_ass_ratios['depr_amort_ratio'])\n",
    "        capex_pred.append(ppe_start_pred[-1] * fxd_ass_ratios['capex_ratio'])\n",
    "        ppe_net.append(ppe_start_pred[-1] - depr_amort_pred[-1] + capex_pred[-1])\n",
    "        # add the last PPE as starting to the PPE start\n",
    "        ppe_start_pred.append(ppe_net[-1])\n",
    "    \n",
    "    prediction_df['depr_amort'] = depr_amort_pred\n",
    "    prediction_df['capex'] = capex_pred\n",
    "    prediction_df['ppe_net'] = ppe_net\n",
    "\n",
    "    return prediction_df"
   ]
  },
  {
   "cell_type": "code",
   "execution_count": 9,
   "metadata": {},
   "outputs": [],
   "source": [
    "def calc_eff_tax_rate(df):\n",
    "    if df['end'].iloc[-1] > pd.Timestamp('2017-01-01'):\n",
    "        eff_tax_rate = 0.21\n",
    "    else:\n",
    "        eff_tax_rate = (df['inc_tax_exp']/df['ebit']).mean()\n",
    "        # plot\n",
    "        (df['inc_tax_exp']/df['ebit']).hist(range=[0, 1])\n",
    "        plt.show()\n",
    "\n",
    "    print('Effective tax rate is', eff_tax_rate)\n",
    "    return eff_tax_rate"
   ]
  },
  {
   "cell_type": "code",
   "execution_count": 10,
   "metadata": {},
   "outputs": [],
   "source": [
    "def calculate_ebitda_ebit_nopat(prediction_df, eff_tax_rate):\n",
    "    prediction_df['ebitda'] = prediction_df['rev'] - prediction_df['cost_sale'] - prediction_df['sale_gen_adm']\n",
    "    prediction_df['ebit'] = prediction_df['ebitda'] - prediction_df['depr_amort']\n",
    "    prediction_df['nopat'] = prediction_df['ebit'] - (prediction_df['ebit'] * eff_tax_rate)\n",
    "    return prediction_df"
   ]
  },
  {
   "cell_type": "code",
   "execution_count": 11,
   "metadata": {},
   "outputs": [],
   "source": [
    "def plot_hist_pred(hist_df, pred_df):\n",
    "    # reset index\n",
    "    pred_df.index = [i for i in range(len(hist_df), len(hist_df) + len(pred_df))]\n",
    "    \n",
    "    for column in pred_df.columns:\n",
    "        try:\n",
    "            fig, ax1 = plt.subplots(figsize=(15, 6))\n",
    "\n",
    "            ax1.plot(hist_df.index, hist_df[column], color='k', label='Historical data')\n",
    "            ax1.plot(pred_df.index, pred_df[column], color='r', label='Predicted values')\n",
    "\n",
    "            ax1.set_xlabel('Index')\n",
    "            ax1.set_ylabel(column.replace('_', ' ').upper())\n",
    "\n",
    "            plt.legend()\n",
    "            plt.show()\n",
    "        except:\n",
    "            continue"
   ]
  },
  {
   "cell_type": "code",
   "execution_count": 12,
   "metadata": {},
   "outputs": [],
   "source": [
    "def calculate_nwc_ratios(df):\n",
    "    result = dict()\n",
    "    # Days Sales Outstanding (dso)\n",
    "    dso = (df['acc_rec'] / df['rev']) * 360\n",
    "    dso.hist()\n",
    "    plt.show()\n",
    "    result['dso'] = dso.mean()\n",
    "    print('DSO:', result['dso'])\n",
    "\n",
    "    #Days Inventory Out. (dis)\n",
    "    dio = (df['invent'] / df['cost_sale']) * 360\n",
    "    dio.hist()\n",
    "    plt.show()\n",
    "    result['dio'] = dio.mean()\n",
    "    print('DIO:', result['dio'])\n",
    "\n",
    "    #Days Payable Out. (dpo)\n",
    "    dpo = (df['acc_pay'] / df['cost_sale']) * 360\n",
    "    dpo.hist()\n",
    "    plt.show()\n",
    "    result['dpo'] = dpo.mean()\n",
    "    print('DPO:', result['dpo'])\n",
    "\n",
    "\n",
    "    #Sum of Other current assets per revenue --> soca_rev\n",
    "    # calculate the non cach non accoint recivable and inventory total current assets ratio to revenue\n",
    "    soca_rev = (df['tot_curr_ass'] - df['acc_rec'] - df['invent'] - df['cash_cash_eq']) / df['rev']\n",
    "    soca_rev.hist()\n",
    "    plt.show()\n",
    "    result['soca_rev'] = soca_rev.mean()\n",
    "    print('Sum Other Current Assets:', result['soca_rev'])\n",
    "\n",
    "    #Sum of Other current liabilities per revenue --> socl_rev\n",
    "    # calculate the non current debt non account payable total current liabilities ratio to revenue\n",
    "    socl_rev = (df['tot_curr_liab'] - df['short_debt'] - df['acc_pay']) / df['rev']\n",
    "    socl_rev.hist()\n",
    "    plt.show()\n",
    "    result['socl_rev'] = socl_rev.mean()\n",
    "    print('Sum Other Current Liabilities per Rec', result['socl_rev'])\n",
    "    \n",
    "    return result"
   ]
  },
  {
   "cell_type": "code",
   "execution_count": 13,
   "metadata": {},
   "outputs": [],
   "source": [
    "def predict_curr_ass_liab(df_prediction, nwc_ratios):\n",
    "    # calculate assets, liabilities, and net working capital from NWC ratio\n",
    "    df_prediction['acc_rec'] = (df_prediction['rev'] * nwc_ratios['dso']) / 360\n",
    "    df_prediction['invent'] = (df_prediction['cost_sale'] * nwc_ratios['dio']) / 360\n",
    "    df_prediction['acc_pay'] = (df_prediction['cost_sale'] * nwc_ratios['dpo']) / 360\n",
    "    \n",
    "    df_prediction['other_curr_ass_lesscash'] = df_prediction['acc_rec'] + df_prediction['invent'] + (df_prediction['rev'] * nwc_ratios['soca_rev'])\n",
    "    df_prediction['tot_curr_liab_lessdebt'] = df_prediction['acc_pay'] + (df_prediction['rev'] * nwc_ratios['socl_rev'])\n",
    "    df_prediction['nwc'] = df_prediction['other_curr_ass_lesscash'] - df_prediction['tot_curr_liab_lessdebt']\n",
    "    return df_prediction"
   ]
  },
  {
   "cell_type": "code",
   "execution_count": 14,
   "metadata": {},
   "outputs": [],
   "source": [
    "def calc_change_nwc(df_hist, df_predict):\n",
    "    c_nwc = []\n",
    "    # check the 2 DataFrame is equal & calculate NWC for measured data\n",
    "    if df_hist.equals(df_predict):\n",
    "        for index in range(len(df_predict)):\n",
    "            if index > 0:\n",
    "                c_nwc.append(df_predict['nwc'].iloc[index] - df_predict['nwc'].iloc[index-1])\n",
    "            else:\n",
    "                c_nwc.append(np.nan)\n",
    "    # calculate NWC for future data\n",
    "    else:\n",
    "        for index in range(len(df_predict)):\n",
    "            if index > 0:\n",
    "                c_nwc.append(df_predict['nwc'].iloc[index] - df_predict['nwc'].iloc[index-1])\n",
    "            else:\n",
    "                c_nwc.append(df_predict['nwc'].iloc[index] - df_hist['nwc'].iloc[-1])\n",
    "    \n",
    "    df_predict['c_nwc'] = c_nwc\n",
    "    \n",
    "    return df_predict"
   ]
  },
  {
   "cell_type": "code",
   "execution_count": 15,
   "metadata": {},
   "outputs": [],
   "source": [
    "def calc_unleveared_fcf(df):\n",
    "    df['unlev_fcf'] = df['nopat'] + df['depr_amort'] - df['capex'] - df['c_nwc']\n",
    "    return df"
   ]
  },
  {
   "cell_type": "code",
   "execution_count": 16,
   "metadata": {},
   "outputs": [],
   "source": [
    "def calculate_wacc(df, share_price, eff_tax_rate, us_bond_10_yr, equity_risk_premium, beta):\n",
    "    equity = (share_price * df['shares'].iloc[-1])\n",
    "    debt = df['short_debt'].iloc[-1] + df['tot_long_debt'].iloc[-1]\n",
    "    \n",
    "    cost_of_debt = abs(df['int_exp'].iloc[-1]) / debt\n",
    "    d_per_d_plus_e = debt / (debt + equity)\n",
    "    after_tax_cost_of_debt = cost_of_debt * (1 - eff_tax_rate)\n",
    "\n",
    "    risk_free_rate = us_bond_10_yr\n",
    "    market_risk_premium = equity_risk_premium\n",
    "    cost_of_equity = risk_free_rate + (beta * market_risk_premium)\n",
    "    e_per_d_plus_e = equity / (debt + equity)\n",
    "    \n",
    "    wacc = (d_per_d_plus_e * after_tax_cost_of_debt) + (e_per_d_plus_e * cost_of_equity)\n",
    "    return wacc"
   ]
  },
  {
   "cell_type": "code",
   "execution_count": 17,
   "metadata": {},
   "outputs": [],
   "source": [
    "def calculate_present_value_fcf(df, wacc, report='10-Q'):\n",
    "    if report == '10-Q':\n",
    "        multipl = 0.25\n",
    "    else:\n",
    "        multipl = 1\n",
    "    # calculate present cahs flows\n",
    "    df['pres_val_fcf'] = df['unlev_fcf']/((1+wacc)**(df.index*multipl))\n",
    "    return df"
   ]
  },
  {
   "cell_type": "code",
   "execution_count": 18,
   "metadata": {},
   "outputs": [],
   "source": [
    "def calculate_tv_prestv_enterp_val(df, industry_growth_rate, wacc):\n",
    "    # Terminal Value\n",
    "    tv = ((df['unlev_fcf'].iloc[-1] * (1 + industry_growth_rate))) / (wacc - industry_growth_rate)\n",
    "    # present value of TV\n",
    "    pres_value_tv = tv / (1 + wacc)**5\n",
    "    \n",
    "    return tv, pres_value_tv"
   ]
  },
  {
   "cell_type": "code",
   "execution_count": 19,
   "metadata": {},
   "outputs": [],
   "source": [
    "def calc_enterp_company_value(df_hist, df_pred, pres_value_tv):\n",
    "    \n",
    "    debt = df_hist['short_debt'].iloc[-1] + df_hist['tot_long_debt'].iloc[-1]\n",
    "    \n",
    "    if 'equity_minor_interest' in df_hist.columns:\n",
    "        equity_minor_interest = df_hist['equity_minor_interest'].iloc[-1]\n",
    "    else:\n",
    "        equity_minor_interest = 0\n",
    "    # Enterprise Values\n",
    "    enterp_val = df_pred['pres_val_fcf'].sum() + pres_value_tv\n",
    "    # Company Value\n",
    "    comp_val = enterp_val + df_hist['cash_cash_eq'].iloc[-1] - debt - equity_minor_interest\n",
    "    \n",
    "\n",
    "    print(enterp_val, comp_val)\n",
    "    return enterp_val, comp_val"
   ]
  },
  {
   "cell_type": "code",
   "execution_count": 20,
   "metadata": {},
   "outputs": [],
   "source": [
    "def implied_share_price(equity_value, hist_df):\n",
    "    share_price = equity_value / hist_df['shares'].iloc[-1]\n",
    "    return share_price"
   ]
  },
  {
   "cell_type": "markdown",
   "metadata": {},
   "source": [
    "## 1. Set boundary parameters (stock price, prediction period, bond yield) & Load Data"
   ]
  },
  {
   "cell_type": "code",
   "execution_count": 21,
   "metadata": {},
   "outputs": [],
   "source": [
    "# fixed parameters\n",
    "db_path = '../database/statements.db'\n",
    "form = '10-Q'\n",
    "# end date years ago\n",
    "finished_years_ago = 0\n",
    "# forecast period\n",
    "forecast_period = 20\n",
    "# WACC input\n",
    "share_price = 54\n",
    "us_bond_10_yr = 0.0436\n",
    "# country specifc - USA data from https://pages.stern.nyu.edu/~adamodar/New_Home_Page/datafile/ctryprem.html - 5.5% 10+ yrs average\n",
    "equity_risk_premium = 0.055\n",
    "beta = 0.78\n",
    "# country industry growth rate - US GDP growth avg from 1948 yo 2023 - 3.12%\n",
    "industry_growth_rate = 0.0312"
   ]
  },
  {
   "cell_type": "code",
   "execution_count": 22,
   "metadata": {},
   "outputs": [
    {
     "name": "stdout",
     "output_type": "stream",
     "text": [
      "Connection to SQLite DB successful!\n",
      "Data has been collected!\n",
      "Datatype has been updated!\n",
      "Connection closed!\n",
      "Data are available from: 2010-10-02 00:00:00\n",
      "Filtered data start at: 2013-12-28 00:00:00\n",
      "Filtered data finish at: 2023-07-01 00:00:00\n"
     ]
    }
   ],
   "source": [
    "#load data\n",
    "data = read_data_from_sql(\n",
    "    db_path=db_path,\n",
    "    tickers=['TSN'],\n",
    "    statements=['income_statement', 'balance_sheet']    \n",
    ")\n",
    "print('Data are available from:', data['end'].iloc[0])\n",
    "# start date 7 year earlier than end date\n",
    "start_date = pd.Timestamp(datetime.date.today()) - (pd.Timedelta(days=(10 * 365) + (finished_years_ago * 365)))\n",
    "end_date = pd.Timestamp(datetime.date.today()) - (pd.Timedelta(days=finished_years_ago * 365))\n",
    "# create DataFrame\n",
    "data_filt = data.loc[(data['form'] == form) & (data['end'] > start_date) & (data['end'] < end_date), :]\n",
    "data_filt.reset_index(drop=True, inplace=True)\n",
    "print('Filtered data start at:', data_filt.end.iloc[0])\n",
    "print('Filtered data finish at:', data_filt.end.iloc[-1])"
   ]
  },
  {
   "cell_type": "code",
   "execution_count": 23,
   "metadata": {},
   "outputs": [
    {
     "data": {
      "text/html": [
       "<div>\n",
       "<style scoped>\n",
       "    .dataframe tbody tr th:only-of-type {\n",
       "        vertical-align: middle;\n",
       "    }\n",
       "\n",
       "    .dataframe tbody tr th {\n",
       "        vertical-align: top;\n",
       "    }\n",
       "\n",
       "    .dataframe thead th {\n",
       "        text-align: right;\n",
       "    }\n",
       "</style>\n",
       "<table border=\"1\" class=\"dataframe\">\n",
       "  <thead>\n",
       "    <tr style=\"text-align: right;\">\n",
       "      <th></th>\n",
       "      <th>cik</th>\n",
       "      <th>ticker</th>\n",
       "      <th>end</th>\n",
       "      <th>form</th>\n",
       "      <th>rev</th>\n",
       "      <th>cost_sale</th>\n",
       "      <th>sale_gen_adm</th>\n",
       "      <th>inpairm</th>\n",
       "      <th>op_income</th>\n",
       "      <th>int_income</th>\n",
       "      <th>...</th>\n",
       "      <th>intang_ass</th>\n",
       "      <th>other_ass</th>\n",
       "      <th>tot_ass</th>\n",
       "      <th>short_debt</th>\n",
       "      <th>acc_pay</th>\n",
       "      <th>other_curr_liab</th>\n",
       "      <th>tot_curr_liab</th>\n",
       "      <th>tot_long_debt</th>\n",
       "      <th>other_liab</th>\n",
       "      <th>tot_equity</th>\n",
       "    </tr>\n",
       "  </thead>\n",
       "  <tbody>\n",
       "    <tr>\n",
       "      <th>0</th>\n",
       "      <td>0000100493</td>\n",
       "      <td>TSN</td>\n",
       "      <td>2013-12-28</td>\n",
       "      <td>10-Q</td>\n",
       "      <td>8.761000e+09</td>\n",
       "      <td>8.076000e+09</td>\n",
       "      <td>273000000.0</td>\n",
       "      <td>0.0</td>\n",
       "      <td>412000000.0</td>\n",
       "      <td>2000000.0</td>\n",
       "      <td>...</td>\n",
       "      <td>1.330000e+08</td>\n",
       "      <td>502000000.0</td>\n",
       "      <td>1.184400e+10</td>\n",
       "      <td>52000000.0</td>\n",
       "      <td>1.477000e+09</td>\n",
       "      <td>5.820000e+08</td>\n",
       "      <td>2.606000e+09</td>\n",
       "      <td>1.890000e+09</td>\n",
       "      <td>5.820000e+08</td>\n",
       "      <td>6.285000e+09</td>\n",
       "    </tr>\n",
       "    <tr>\n",
       "      <th>1</th>\n",
       "      <td>0000100493</td>\n",
       "      <td>TSN</td>\n",
       "      <td>2014-03-29</td>\n",
       "      <td>10-Q</td>\n",
       "      <td>9.032000e+09</td>\n",
       "      <td>8.381000e+09</td>\n",
       "      <td>290000000.0</td>\n",
       "      <td>0.0</td>\n",
       "      <td>361000000.0</td>\n",
       "      <td>3000000.0</td>\n",
       "      <td>...</td>\n",
       "      <td>1.560000e+08</td>\n",
       "      <td>516000000.0</td>\n",
       "      <td>1.188600e+10</td>\n",
       "      <td>52000000.0</td>\n",
       "      <td>1.429000e+09</td>\n",
       "      <td>5.850000e+08</td>\n",
       "      <td>2.505000e+09</td>\n",
       "      <td>1.888000e+09</td>\n",
       "      <td>5.850000e+08</td>\n",
       "      <td>6.436000e+09</td>\n",
       "    </tr>\n",
       "    <tr>\n",
       "      <th>2</th>\n",
       "      <td>0000100493</td>\n",
       "      <td>TSN</td>\n",
       "      <td>2014-06-28</td>\n",
       "      <td>10-Q</td>\n",
       "      <td>9.682000e+09</td>\n",
       "      <td>9.045000e+09</td>\n",
       "      <td>286000000.0</td>\n",
       "      <td>0.0</td>\n",
       "      <td>351000000.0</td>\n",
       "      <td>1000000.0</td>\n",
       "      <td>...</td>\n",
       "      <td>1.510000e+08</td>\n",
       "      <td>525000000.0</td>\n",
       "      <td>1.205500e+10</td>\n",
       "      <td>41000000.0</td>\n",
       "      <td>1.496000e+09</td>\n",
       "      <td>5.450000e+08</td>\n",
       "      <td>2.612000e+09</td>\n",
       "      <td>1.784000e+09</td>\n",
       "      <td>5.450000e+08</td>\n",
       "      <td>6.694000e+09</td>\n",
       "    </tr>\n",
       "    <tr>\n",
       "      <th>3</th>\n",
       "      <td>0000100493</td>\n",
       "      <td>TSN</td>\n",
       "      <td>2014-09-27</td>\n",
       "      <td>10-Q</td>\n",
       "      <td>1.010500e+10</td>\n",
       "      <td>9.045000e+09</td>\n",
       "      <td>286000000.0</td>\n",
       "      <td>0.0</td>\n",
       "      <td>306000000.0</td>\n",
       "      <td>1000000.0</td>\n",
       "      <td>...</td>\n",
       "      <td>5.276000e+09</td>\n",
       "      <td>623000000.0</td>\n",
       "      <td>2.395600e+10</td>\n",
       "      <td>643000000.0</td>\n",
       "      <td>1.806000e+09</td>\n",
       "      <td>1.270000e+09</td>\n",
       "      <td>3.797000e+09</td>\n",
       "      <td>7.535000e+09</td>\n",
       "      <td>1.270000e+09</td>\n",
       "      <td>8.890000e+09</td>\n",
       "    </tr>\n",
       "    <tr>\n",
       "      <th>4</th>\n",
       "      <td>0000100493</td>\n",
       "      <td>TSN</td>\n",
       "      <td>2014-12-27</td>\n",
       "      <td>10-Q</td>\n",
       "      <td>1.081700e+10</td>\n",
       "      <td>9.861000e+09</td>\n",
       "      <td>447000000.0</td>\n",
       "      <td>0.0</td>\n",
       "      <td>509000000.0</td>\n",
       "      <td>2000000.0</td>\n",
       "      <td>...</td>\n",
       "      <td>5.246000e+09</td>\n",
       "      <td>663000000.0</td>\n",
       "      <td>2.375800e+10</td>\n",
       "      <td>596000000.0</td>\n",
       "      <td>2.147000e+09</td>\n",
       "      <td>1.263000e+09</td>\n",
       "      <td>3.954000e+09</td>\n",
       "      <td>6.931000e+09</td>\n",
       "      <td>1.263000e+09</td>\n",
       "      <td>9.123000e+09</td>\n",
       "    </tr>\n",
       "  </tbody>\n",
       "</table>\n",
       "<p>5 rows × 33 columns</p>\n",
       "</div>"
      ],
      "text/plain": [
       "          cik ticker        end  form           rev     cost_sale  \\\n",
       "0  0000100493    TSN 2013-12-28  10-Q  8.761000e+09  8.076000e+09   \n",
       "1  0000100493    TSN 2014-03-29  10-Q  9.032000e+09  8.381000e+09   \n",
       "2  0000100493    TSN 2014-06-28  10-Q  9.682000e+09  9.045000e+09   \n",
       "3  0000100493    TSN 2014-09-27  10-Q  1.010500e+10  9.045000e+09   \n",
       "4  0000100493    TSN 2014-12-27  10-Q  1.081700e+10  9.861000e+09   \n",
       "\n",
       "   sale_gen_adm  inpairm    op_income  int_income  ...    intang_ass  \\\n",
       "0   273000000.0      0.0  412000000.0   2000000.0  ...  1.330000e+08   \n",
       "1   290000000.0      0.0  361000000.0   3000000.0  ...  1.560000e+08   \n",
       "2   286000000.0      0.0  351000000.0   1000000.0  ...  1.510000e+08   \n",
       "3   286000000.0      0.0  306000000.0   1000000.0  ...  5.276000e+09   \n",
       "4   447000000.0      0.0  509000000.0   2000000.0  ...  5.246000e+09   \n",
       "\n",
       "     other_ass       tot_ass   short_debt       acc_pay  other_curr_liab  \\\n",
       "0  502000000.0  1.184400e+10   52000000.0  1.477000e+09     5.820000e+08   \n",
       "1  516000000.0  1.188600e+10   52000000.0  1.429000e+09     5.850000e+08   \n",
       "2  525000000.0  1.205500e+10   41000000.0  1.496000e+09     5.450000e+08   \n",
       "3  623000000.0  2.395600e+10  643000000.0  1.806000e+09     1.270000e+09   \n",
       "4  663000000.0  2.375800e+10  596000000.0  2.147000e+09     1.263000e+09   \n",
       "\n",
       "   tot_curr_liab  tot_long_debt    other_liab    tot_equity  \n",
       "0   2.606000e+09   1.890000e+09  5.820000e+08  6.285000e+09  \n",
       "1   2.505000e+09   1.888000e+09  5.850000e+08  6.436000e+09  \n",
       "2   2.612000e+09   1.784000e+09  5.450000e+08  6.694000e+09  \n",
       "3   3.797000e+09   7.535000e+09  1.270000e+09  8.890000e+09  \n",
       "4   3.954000e+09   6.931000e+09  1.263000e+09  9.123000e+09  \n",
       "\n",
       "[5 rows x 33 columns]"
      ]
     },
     "execution_count": 23,
     "metadata": {},
     "output_type": "execute_result"
    }
   ],
   "source": [
    "data_filt.head()"
   ]
  },
  {
   "cell_type": "markdown",
   "metadata": {},
   "source": [
    "## 2. Calculate EBITDA, EBIT, NOPAT, CAPEX etc on hisorical data"
   ]
  },
  {
   "cell_type": "code",
   "execution_count": 24,
   "metadata": {},
   "outputs": [
    {
     "data": {
      "text/html": [
       "<div>\n",
       "<style scoped>\n",
       "    .dataframe tbody tr th:only-of-type {\n",
       "        vertical-align: middle;\n",
       "    }\n",
       "\n",
       "    .dataframe tbody tr th {\n",
       "        vertical-align: top;\n",
       "    }\n",
       "\n",
       "    .dataframe thead th {\n",
       "        text-align: right;\n",
       "    }\n",
       "</style>\n",
       "<table border=\"1\" class=\"dataframe\">\n",
       "  <thead>\n",
       "    <tr style=\"text-align: right;\">\n",
       "      <th></th>\n",
       "      <th>cik</th>\n",
       "      <th>ticker</th>\n",
       "      <th>end</th>\n",
       "      <th>form</th>\n",
       "      <th>rev</th>\n",
       "      <th>cost_sale</th>\n",
       "      <th>sale_gen_adm</th>\n",
       "      <th>inpairm</th>\n",
       "      <th>op_income</th>\n",
       "      <th>int_income</th>\n",
       "      <th>...</th>\n",
       "      <th>tot_equity</th>\n",
       "      <th>tot_liab</th>\n",
       "      <th>inc_b_tax</th>\n",
       "      <th>ebitda</th>\n",
       "      <th>ebit</th>\n",
       "      <th>nopat</th>\n",
       "      <th>other_curr_ass_lesscash</th>\n",
       "      <th>tot_curr_liab_lessdebt</th>\n",
       "      <th>nwc</th>\n",
       "      <th>capex</th>\n",
       "    </tr>\n",
       "  </thead>\n",
       "  <tbody>\n",
       "    <tr>\n",
       "      <th>0</th>\n",
       "      <td>0000100493</td>\n",
       "      <td>TSN</td>\n",
       "      <td>2013-12-28</td>\n",
       "      <td>10-Q</td>\n",
       "      <td>8.761000e+09</td>\n",
       "      <td>8.076000e+09</td>\n",
       "      <td>273000000.0</td>\n",
       "      <td>0.0</td>\n",
       "      <td>412000000.0</td>\n",
       "      <td>2000000.0</td>\n",
       "      <td>...</td>\n",
       "      <td>6.285000e+09</td>\n",
       "      <td>5.559000e+09</td>\n",
       "      <td>383000000.0</td>\n",
       "      <td>412000000.0</td>\n",
       "      <td>285000000.0</td>\n",
       "      <td>154000000.0</td>\n",
       "      <td>4.405000e+09</td>\n",
       "      <td>2.554000e+09</td>\n",
       "      <td>1.851000e+09</td>\n",
       "      <td>NaN</td>\n",
       "    </tr>\n",
       "    <tr>\n",
       "      <th>1</th>\n",
       "      <td>0000100493</td>\n",
       "      <td>TSN</td>\n",
       "      <td>2014-03-29</td>\n",
       "      <td>10-Q</td>\n",
       "      <td>9.032000e+09</td>\n",
       "      <td>8.381000e+09</td>\n",
       "      <td>290000000.0</td>\n",
       "      <td>0.0</td>\n",
       "      <td>361000000.0</td>\n",
       "      <td>3000000.0</td>\n",
       "      <td>...</td>\n",
       "      <td>6.436000e+09</td>\n",
       "      <td>5.450000e+09</td>\n",
       "      <td>341000000.0</td>\n",
       "      <td>361000000.0</td>\n",
       "      <td>234000000.0</td>\n",
       "      <td>103000000.0</td>\n",
       "      <td>4.746000e+09</td>\n",
       "      <td>2.453000e+09</td>\n",
       "      <td>2.293000e+09</td>\n",
       "      <td>1.600000e+08</td>\n",
       "    </tr>\n",
       "    <tr>\n",
       "      <th>2</th>\n",
       "      <td>0000100493</td>\n",
       "      <td>TSN</td>\n",
       "      <td>2014-06-28</td>\n",
       "      <td>10-Q</td>\n",
       "      <td>9.682000e+09</td>\n",
       "      <td>9.045000e+09</td>\n",
       "      <td>286000000.0</td>\n",
       "      <td>0.0</td>\n",
       "      <td>351000000.0</td>\n",
       "      <td>1000000.0</td>\n",
       "      <td>...</td>\n",
       "      <td>6.694000e+09</td>\n",
       "      <td>5.361000e+09</td>\n",
       "      <td>310000000.0</td>\n",
       "      <td>351000000.0</td>\n",
       "      <td>224000000.0</td>\n",
       "      <td>172000000.0</td>\n",
       "      <td>4.926000e+09</td>\n",
       "      <td>2.571000e+09</td>\n",
       "      <td>2.355000e+09</td>\n",
       "      <td>-3.700000e+07</td>\n",
       "    </tr>\n",
       "    <tr>\n",
       "      <th>3</th>\n",
       "      <td>0000100493</td>\n",
       "      <td>TSN</td>\n",
       "      <td>2014-09-27</td>\n",
       "      <td>10-Q</td>\n",
       "      <td>1.010500e+10</td>\n",
       "      <td>9.045000e+09</td>\n",
       "      <td>286000000.0</td>\n",
       "      <td>0.0</td>\n",
       "      <td>306000000.0</td>\n",
       "      <td>1000000.0</td>\n",
       "      <td>...</td>\n",
       "      <td>8.890000e+09</td>\n",
       "      <td>1.506600e+10</td>\n",
       "      <td>188000000.0</td>\n",
       "      <td>774000000.0</td>\n",
       "      <td>647000000.0</td>\n",
       "      <td>595000000.0</td>\n",
       "      <td>5.337000e+09</td>\n",
       "      <td>3.154000e+09</td>\n",
       "      <td>2.183000e+09</td>\n",
       "      <td>1.316000e+09</td>\n",
       "    </tr>\n",
       "    <tr>\n",
       "      <th>4</th>\n",
       "      <td>0000100493</td>\n",
       "      <td>TSN</td>\n",
       "      <td>2014-12-27</td>\n",
       "      <td>10-Q</td>\n",
       "      <td>1.081700e+10</td>\n",
       "      <td>9.861000e+09</td>\n",
       "      <td>447000000.0</td>\n",
       "      <td>0.0</td>\n",
       "      <td>509000000.0</td>\n",
       "      <td>2000000.0</td>\n",
       "      <td>...</td>\n",
       "      <td>9.123000e+09</td>\n",
       "      <td>1.463500e+10</td>\n",
       "      <td>435000000.0</td>\n",
       "      <td>509000000.0</td>\n",
       "      <td>334000000.0</td>\n",
       "      <td>209000000.0</td>\n",
       "      <td>5.344000e+09</td>\n",
       "      <td>3.358000e+09</td>\n",
       "      <td>1.986000e+09</td>\n",
       "      <td>2.560000e+08</td>\n",
       "    </tr>\n",
       "  </tbody>\n",
       "</table>\n",
       "<p>5 rows × 42 columns</p>\n",
       "</div>"
      ],
      "text/plain": [
       "          cik ticker        end  form           rev     cost_sale  \\\n",
       "0  0000100493    TSN 2013-12-28  10-Q  8.761000e+09  8.076000e+09   \n",
       "1  0000100493    TSN 2014-03-29  10-Q  9.032000e+09  8.381000e+09   \n",
       "2  0000100493    TSN 2014-06-28  10-Q  9.682000e+09  9.045000e+09   \n",
       "3  0000100493    TSN 2014-09-27  10-Q  1.010500e+10  9.045000e+09   \n",
       "4  0000100493    TSN 2014-12-27  10-Q  1.081700e+10  9.861000e+09   \n",
       "\n",
       "   sale_gen_adm  inpairm    op_income  int_income  ...    tot_equity  \\\n",
       "0   273000000.0      0.0  412000000.0   2000000.0  ...  6.285000e+09   \n",
       "1   290000000.0      0.0  361000000.0   3000000.0  ...  6.436000e+09   \n",
       "2   286000000.0      0.0  351000000.0   1000000.0  ...  6.694000e+09   \n",
       "3   286000000.0      0.0  306000000.0   1000000.0  ...  8.890000e+09   \n",
       "4   447000000.0      0.0  509000000.0   2000000.0  ...  9.123000e+09   \n",
       "\n",
       "       tot_liab    inc_b_tax       ebitda         ebit        nopat  \\\n",
       "0  5.559000e+09  383000000.0  412000000.0  285000000.0  154000000.0   \n",
       "1  5.450000e+09  341000000.0  361000000.0  234000000.0  103000000.0   \n",
       "2  5.361000e+09  310000000.0  351000000.0  224000000.0  172000000.0   \n",
       "3  1.506600e+10  188000000.0  774000000.0  647000000.0  595000000.0   \n",
       "4  1.463500e+10  435000000.0  509000000.0  334000000.0  209000000.0   \n",
       "\n",
       "   other_curr_ass_lesscash  tot_curr_liab_lessdebt           nwc         capex  \n",
       "0             4.405000e+09            2.554000e+09  1.851000e+09           NaN  \n",
       "1             4.746000e+09            2.453000e+09  2.293000e+09  1.600000e+08  \n",
       "2             4.926000e+09            2.571000e+09  2.355000e+09 -3.700000e+07  \n",
       "3             5.337000e+09            3.154000e+09  2.183000e+09  1.316000e+09  \n",
       "4             5.344000e+09            3.358000e+09  1.986000e+09  2.560000e+08  \n",
       "\n",
       "[5 rows x 42 columns]"
      ]
     },
     "execution_count": 24,
     "metadata": {},
     "output_type": "execute_result"
    }
   ],
   "source": [
    "data_filt = calculate_missing_columns(data_filt)\n",
    "data_filt.head()"
   ]
  },
  {
   "cell_type": "markdown",
   "metadata": {},
   "source": [
    "## 3. Forecast Revenue\n",
    "\n",
    "Before the ARIMA / SARIMA modling need to know p, d, q values (model parameters):\n",
    "- p: Trend autoregression order.\n",
    "- q: Trend moving average order.\n",
    "- d: Trend difference order."
   ]
  },
  {
   "cell_type": "code",
   "execution_count": 25,
   "metadata": {},
   "outputs": [
    {
     "data": {
      "image/png": "[encoded data removed]",
      "text/plain": [
       "<Figure size 640x480 with 1 Axes>"
      ]
     },
     "metadata": {},
     "output_type": "display_data"
    }
   ],
   "source": [
    "# Creating Autocorrelation plot - ACF\n",
    "x = pd.plotting.autocorrelation_plot(data_filt['rev'])\n",
    "x.plot()\n",
    "plt.show()"
   ]
  },
  {
   "cell_type": "markdown",
   "metadata": {},
   "source": [
    "The monotony of ACF is changed first time there is the p value. "
   ]
  },
  {
   "cell_type": "code",
   "execution_count": 26,
   "metadata": {},
   "outputs": [
    {
     "data": {
      "image/png": "[encoded data removed]",
      "text/plain": [
       "<Figure size 640x480 with 1 Axes>"
      ]
     },
     "execution_count": 26,
     "metadata": {},
     "output_type": "execute_result"
    },
    {
     "data": {
      "image/png": "[encoded data removed]",
      "text/plain": [
       "<Figure size 640x480 with 1 Axes>"
      ]
     },
     "metadata": {},
     "output_type": "display_data"
    }
   ],
   "source": [
    "# Creating Partial Autocorrelation plot --> PACF\n",
    "from statsmodels.graphics.tsaplots import plot_pacf\n",
    "plot_pacf(data_filt['rev'], lags = int(forecast_period / 2 - 1))"
   ]
  },
  {
   "cell_type": "markdown",
   "metadata": {},
   "source": [
    "Number of points, which are far away from the boundary is the q value.\n",
    "\n",
    "In the above partial autocorrelation plot, we can see that only two points are far away from all the points. That is how a decide the q value. Hence the value of q is 2.\n",
    "\n",
    "The value of d is either 0 or 1. If the data is stationary, we should use 0, and if the data is seasonal, we should use 1. As our data is seasonal, we should use 1 as the d value.\n",
    "\n",
    "I will find ARIMA hyperparameters (p, d, q) with gridsearch step-by-step"
   ]
  },
  {
   "cell_type": "code",
   "execution_count": 27,
   "metadata": {},
   "outputs": [
    {
     "name": "stdout",
     "output_type": "stream",
     "text": [
      "4.411759523603122e+17\n",
      "ARIMA(2, 1, 1) MSE=441175952360312192.000\n",
      "4.3881294202595245e+17\n",
      "ARIMA(2, 1, 3) MSE=438812942025952448.000\n",
      "4.5772568245883904e+17\n",
      "ARIMA(4, 1, 1) MSE=457725682458839040.000\n",
      "4.667977741667097e+17\n",
      "ARIMA(4, 1, 3) MSE=466797774166709696.000\n",
      "Best ARIMA(2, 1, 3) MSE=438812942025952448.000\n"
     ]
    }
   ],
   "source": [
    "# evaluate an ARIMA model for a given order (p,d,q) ---> You can tip p and estimate d, q based on previous plots\n",
    "series = data_filt['rev']\n",
    "# evaluate parameters\n",
    "p_values = [2, 4]\n",
    "d_values = [1]\n",
    "q_values = [1, 3]\n",
    "warnings.filterwarnings(\"ignore\")\n",
    "best_config = evaluate_models(series.values, p_values, d_values, q_values)"
   ]
  },
  {
   "cell_type": "markdown",
   "metadata": {},
   "source": [
    "The predicted values are wrong because the data is seasonal. ARIMA model will never perform well on seasonal time series data. So, here’s how to build a SARIMA model.\n",
    "\n",
    "The parameter \"s\" is an integer giving the periodicity (number of periods in season), often it is 4 for quarterly data or 12 for monthly data. Default is no seasonal effect. Here is hardcoded, works well with 12."
   ]
  },
  {
   "cell_type": "code",
   "execution_count": 28,
   "metadata": {},
   "outputs": [],
   "source": [
    "# float datatype is needed to SARIMAX model\n",
    "data_filt['rev'] = data_filt['rev'].astype(float)"
   ]
  },
  {
   "cell_type": "code",
   "execution_count": 29,
   "metadata": {},
   "outputs": [
    {
     "name": "stdout",
     "output_type": "stream",
     "text": [
      "RUNNING THE L-BFGS-B CODE\n",
      "\n",
      "           * * *\n",
      "\n",
      "Machine precision = 2.220D-16\n",
      " N =           11     M =           10\n",
      "\n",
      "At X0         0 variables are exactly at the bounds\n",
      "\n",
      "At iterate    0    f=  1.55340D+01    |proj g|=  2.81564D+00\n"
     ]
    },
    {
     "name": "stderr",
     "output_type": "stream",
     "text": [
      " This problem is unconstrained.\n"
     ]
    },
    {
     "name": "stdout",
     "output_type": "stream",
     "text": [
      "\n",
      "At iterate    5    f=  1.44781D+01    |proj g|=  9.80786D-02\n",
      "\n",
      "At iterate   10    f=  1.44589D+01    |proj g|=  5.28572D-02\n",
      "\n",
      "At iterate   15    f=  1.44584D+01    |proj g|=  1.39468D-02\n",
      "\n",
      "At iterate   20    f=  1.44561D+01    |proj g|=  7.47231D-02\n",
      "\n",
      "At iterate   25    f=  1.44557D+01    |proj g|=  7.79123D-03\n",
      "\n",
      "At iterate   30    f=  1.44556D+01    |proj g|=  3.40951D-03\n",
      "\n",
      "At iterate   35    f=  1.44555D+01    |proj g|=  6.60517D-03\n",
      "\n",
      "At iterate   40    f=  1.44552D+01    |proj g|=  9.28017D-03\n",
      "\n",
      "At iterate   45    f=  1.44551D+01    |proj g|=  2.51595D-03\n",
      "\n",
      "           * * *\n",
      "\n",
      "Tit   = total number of iterations\n",
      "Tnf   = total number of function evaluations\n",
      "Tnint = total number of segments explored during Cauchy searches\n",
      "Skip  = number of BFGS updates skipped\n",
      "Nact  = number of active bounds at final generalized Cauchy point\n",
      "Projg = norm of the final projected gradient\n",
      "F     = final function value\n",
      "\n",
      "           * * *\n",
      "\n",
      "   N    Tit     Tnf  Tnint  Skip  Nact     Projg        F\n",
      "   11     47     54      1     0     0   4.468D-04   1.446D+01\n",
      "  F =   14.455088836587329     \n",
      "\n",
      "CONVERGENCE: REL_REDUCTION_OF_F_<=_FACTR*EPSMCH             \n",
      "                                     SARIMAX Results                                      \n",
      "==========================================================================================\n",
      "Dep. Variable:                                  y   No. Observations:                   39\n",
      "Model:             SARIMAX(2, 1, 3)x(2, 1, 3, 12)   Log Likelihood                -563.748\n",
      "Date:                            Fri, 29 Sep 2023   AIC                           1149.497\n",
      "Time:                                    19:35:06   BIC                           1163.336\n",
      "Sample:                                         0   HQIC                          1153.482\n",
      "                                             - 39                                         \n",
      "Covariance Type:                              opg                                         \n",
      "==============================================================================\n",
      "                 coef    std err          z      P>|z|      [0.025      0.975]\n",
      "------------------------------------------------------------------------------\n",
      "ar.L1          0.2086     80.566      0.003      0.998    -157.698     158.115\n",
      "ar.L2         -0.2381      9.281     -0.026      0.980     -18.429      17.953\n",
      "ma.L1         -0.2398     80.547     -0.003      0.998    -158.109     157.629\n",
      "ma.L2          0.2578      8.658      0.030      0.976     -16.713      17.228\n",
      "ma.L3         -0.0113      1.153     -0.010      0.992      -2.271       2.249\n",
      "ar.S.L12       0.0404   2.95e+04   1.37e-06      1.000   -5.78e+04    5.78e+04\n",
      "ar.S.L24      -0.6628   1.45e+04  -4.56e-05      1.000   -2.85e+04    2.85e+04\n",
      "ma.S.L12      -0.4056   3.47e+04  -1.17e-05      1.000   -6.79e+04    6.79e+04\n",
      "ma.S.L24       0.4522   9056.619   4.99e-05      1.000   -1.78e+04    1.78e+04\n",
      "ma.S.L36      -0.4113   1.13e+04  -3.65e-05      1.000   -2.21e+04    2.21e+04\n",
      "sigma2      4.411e+17        nan        nan        nan         nan         nan\n",
      "===================================================================================\n",
      "Ljung-Box (L1) (Q):                   4.28   Jarque-Bera (JB):                 0.38\n",
      "Prob(Q):                              0.04   Prob(JB):                         0.83\n",
      "Heteroskedasticity (H):               0.67   Skew:                            -0.18\n",
      "Prob(H) (two-sided):                  0.56   Kurtosis:                         3.47\n",
      "===================================================================================\n",
      "\n",
      "Warnings:\n",
      "[1] Covariance matrix calculated using the outer product of gradients (complex-step).\n",
      "[2] Covariance matrix is singular or near-singular, with condition number 1.51e+47. Standard errors may be unstable.\n"
     ]
    }
   ],
   "source": [
    "# use the model parameters of SARIMA\n",
    "p, d, q = best_config\n",
    "model=sm.tsa.statespace.SARIMAX(data_filt['rev'].values,\n",
    "                                order=(p, d, q),\n",
    "                                seasonal_order=(p, d, q, 12))\n",
    "model=model.fit()\n",
    "print(model.summary())"
   ]
  },
  {
   "cell_type": "code",
   "execution_count": 30,
   "metadata": {},
   "outputs": [],
   "source": [
    "# use SARIMAX model\n",
    "prediction_revenue = model.predict(len(data_filt), len(data_filt) + forecast_period)\n",
    "# df from results\n",
    "prediction = pd.DataFrame(\n",
    "    prediction_revenue,\n",
    "    index=[i+1 for i in range(len(prediction_revenue))],\n",
    "    columns=['rev']\n",
    ")"
   ]
  },
  {
   "cell_type": "code",
   "execution_count": 31,
   "metadata": {},
   "outputs": [
    {
     "data": {
      "image/png": "[encoded data removed]",
      "text/plain": [
       "<Figure size 1500x600 with 1 Axes>"
      ]
     },
     "metadata": {},
     "output_type": "display_data"
    }
   ],
   "source": [
    "plot_hist_pred(data_filt, prediction)"
   ]
  },
  {
   "cell_type": "markdown",
   "metadata": {},
   "source": [
    "## 4. Calculate ratios\n",
    "\n",
    "After the revenue prediction I calculate the expenses and use those to predict future CoS and EBITDA."
   ]
  },
  {
   "cell_type": "code",
   "execution_count": 32,
   "metadata": {},
   "outputs": [
    {
     "data": {
      "image/png": "[encoded data removed]",
      "text/plain": [
       "<Figure size 1500x600 with 1 Axes>"
      ]
     },
     "metadata": {},
     "output_type": "display_data"
    },
    {
     "name": "stdout",
     "output_type": "stream",
     "text": [
      "cost_sale is divided by the revenue.\n",
      "Average value: 0.8833238194090581\n"
     ]
    },
    {
     "data": {
      "image/png": "[encoded data removed]",
      "text/plain": [
       "<Figure size 1500x600 with 1 Axes>"
      ]
     },
     "metadata": {},
     "output_type": "display_data"
    },
    {
     "name": "stdout",
     "output_type": "stream",
     "text": [
      "sale_gen_adm is divided by the revenue.\n",
      "Average value: 0.04646941907919696\n"
     ]
    }
   ],
   "source": [
    "is_ratio_dictionary = calculate_is_margins(data_filt)"
   ]
  },
  {
   "cell_type": "code",
   "execution_count": 33,
   "metadata": {},
   "outputs": [
    {
     "data": {
      "text/html": [
       "<div>\n",
       "<style scoped>\n",
       "    .dataframe tbody tr th:only-of-type {\n",
       "        vertical-align: middle;\n",
       "    }\n",
       "\n",
       "    .dataframe tbody tr th {\n",
       "        vertical-align: top;\n",
       "    }\n",
       "\n",
       "    .dataframe thead th {\n",
       "        text-align: right;\n",
       "    }\n",
       "</style>\n",
       "<table border=\"1\" class=\"dataframe\">\n",
       "  <thead>\n",
       "    <tr style=\"text-align: right;\">\n",
       "      <th></th>\n",
       "      <th>rev</th>\n",
       "      <th>cost_sale</th>\n",
       "      <th>sale_gen_adm</th>\n",
       "    </tr>\n",
       "  </thead>\n",
       "  <tbody>\n",
       "    <tr>\n",
       "      <th>55</th>\n",
       "      <td>1.908721e+10</td>\n",
       "      <td>1.686019e+10</td>\n",
       "      <td>8.869716e+08</td>\n",
       "    </tr>\n",
       "    <tr>\n",
       "      <th>56</th>\n",
       "      <td>1.891570e+10</td>\n",
       "      <td>1.670869e+10</td>\n",
       "      <td>8.790017e+08</td>\n",
       "    </tr>\n",
       "    <tr>\n",
       "      <th>57</th>\n",
       "      <td>1.899975e+10</td>\n",
       "      <td>1.678293e+10</td>\n",
       "      <td>8.829073e+08</td>\n",
       "    </tr>\n",
       "    <tr>\n",
       "      <th>58</th>\n",
       "      <td>1.922184e+10</td>\n",
       "      <td>1.697911e+10</td>\n",
       "      <td>8.932279e+08</td>\n",
       "    </tr>\n",
       "    <tr>\n",
       "      <th>59</th>\n",
       "      <td>1.916142e+10</td>\n",
       "      <td>1.692573e+10</td>\n",
       "      <td>8.904198e+08</td>\n",
       "    </tr>\n",
       "  </tbody>\n",
       "</table>\n",
       "</div>"
      ],
      "text/plain": [
       "             rev     cost_sale  sale_gen_adm\n",
       "55  1.908721e+10  1.686019e+10  8.869716e+08\n",
       "56  1.891570e+10  1.670869e+10  8.790017e+08\n",
       "57  1.899975e+10  1.678293e+10  8.829073e+08\n",
       "58  1.922184e+10  1.697911e+10  8.932279e+08\n",
       "59  1.916142e+10  1.692573e+10  8.904198e+08"
      ]
     },
     "execution_count": 33,
     "metadata": {},
     "output_type": "execute_result"
    }
   ],
   "source": [
    "prediction = predict_cos_sale_gen_adm(prediction, is_ratio_dictionary)\n",
    "prediction.tail()"
   ]
  },
  {
   "cell_type": "markdown",
   "metadata": {},
   "source": [
    "## 5. Calculate Fixed Assets\n",
    "\n",
    "It's time to calculate D&A costs.\n",
    "\n",
    "I will predict the PPE, D&A and CapEx values together."
   ]
  },
  {
   "cell_type": "code",
   "execution_count": 34,
   "metadata": {},
   "outputs": [
    {
     "data": {
      "image/png": "[encoded data removed]",
      "text/plain": [
       "<Figure size 640x480 with 1 Axes>"
      ]
     },
     "metadata": {},
     "output_type": "display_data"
    },
    {
     "name": "stdout",
     "output_type": "stream",
     "text": [
      "Average depr_amort value is 0.03579647882561038\n"
     ]
    },
    {
     "data": {
      "image/png": "[encoded data removed]",
      "text/plain": [
       "<Figure size 640x480 with 1 Axes>"
      ]
     },
     "metadata": {},
     "output_type": "display_data"
    },
    {
     "name": "stdout",
     "output_type": "stream",
     "text": [
      "Average capex value is 0.05984833919462627\n"
     ]
    }
   ],
   "source": [
    "fxd_ass_ratios = fixed_asset_ratios(data_filt)"
   ]
  },
  {
   "cell_type": "code",
   "execution_count": 35,
   "metadata": {},
   "outputs": [
    {
     "data": {
      "text/html": [
       "<div>\n",
       "<style scoped>\n",
       "    .dataframe tbody tr th:only-of-type {\n",
       "        vertical-align: middle;\n",
       "    }\n",
       "\n",
       "    .dataframe tbody tr th {\n",
       "        vertical-align: top;\n",
       "    }\n",
       "\n",
       "    .dataframe thead th {\n",
       "        text-align: right;\n",
       "    }\n",
       "</style>\n",
       "<table border=\"1\" class=\"dataframe\">\n",
       "  <thead>\n",
       "    <tr style=\"text-align: right;\">\n",
       "      <th></th>\n",
       "      <th>rev</th>\n",
       "      <th>cost_sale</th>\n",
       "      <th>sale_gen_adm</th>\n",
       "      <th>depr_amort</th>\n",
       "      <th>capex</th>\n",
       "      <th>ppe_net</th>\n",
       "    </tr>\n",
       "  </thead>\n",
       "  <tbody>\n",
       "    <tr>\n",
       "      <th>39</th>\n",
       "      <td>1.407991e+10</td>\n",
       "      <td>1.243712e+10</td>\n",
       "      <td>6.542851e+08</td>\n",
       "      <td>3.440758e+08</td>\n",
       "      <td>5.752622e+08</td>\n",
       "      <td>9.843186e+09</td>\n",
       "    </tr>\n",
       "    <tr>\n",
       "      <th>40</th>\n",
       "      <td>1.342381e+10</td>\n",
       "      <td>1.185757e+10</td>\n",
       "      <td>6.237965e+08</td>\n",
       "      <td>3.523514e+08</td>\n",
       "      <td>5.890984e+08</td>\n",
       "      <td>1.007993e+10</td>\n",
       "    </tr>\n",
       "    <tr>\n",
       "      <th>41</th>\n",
       "      <td>1.398127e+10</td>\n",
       "      <td>1.234999e+10</td>\n",
       "      <td>6.497017e+08</td>\n",
       "      <td>3.608261e+08</td>\n",
       "      <td>6.032673e+08</td>\n",
       "      <td>1.032237e+10</td>\n",
       "    </tr>\n",
       "    <tr>\n",
       "      <th>42</th>\n",
       "      <td>1.476460e+10</td>\n",
       "      <td>1.304192e+10</td>\n",
       "      <td>6.861025e+08</td>\n",
       "      <td>3.695047e+08</td>\n",
       "      <td>6.177770e+08</td>\n",
       "      <td>1.057065e+10</td>\n",
       "    </tr>\n",
       "    <tr>\n",
       "      <th>43</th>\n",
       "      <td>1.476551e+10</td>\n",
       "      <td>1.304273e+10</td>\n",
       "      <td>6.861448e+08</td>\n",
       "      <td>3.783919e+08</td>\n",
       "      <td>6.326357e+08</td>\n",
       "      <td>1.082489e+10</td>\n",
       "    </tr>\n",
       "  </tbody>\n",
       "</table>\n",
       "</div>"
      ],
      "text/plain": [
       "             rev     cost_sale  sale_gen_adm    depr_amort         capex  \\\n",
       "39  1.407991e+10  1.243712e+10  6.542851e+08  3.440758e+08  5.752622e+08   \n",
       "40  1.342381e+10  1.185757e+10  6.237965e+08  3.523514e+08  5.890984e+08   \n",
       "41  1.398127e+10  1.234999e+10  6.497017e+08  3.608261e+08  6.032673e+08   \n",
       "42  1.476460e+10  1.304192e+10  6.861025e+08  3.695047e+08  6.177770e+08   \n",
       "43  1.476551e+10  1.304273e+10  6.861448e+08  3.783919e+08  6.326357e+08   \n",
       "\n",
       "         ppe_net  \n",
       "39  9.843186e+09  \n",
       "40  1.007993e+10  \n",
       "41  1.032237e+10  \n",
       "42  1.057065e+10  \n",
       "43  1.082489e+10  "
      ]
     },
     "execution_count": 35,
     "metadata": {},
     "output_type": "execute_result"
    }
   ],
   "source": [
    "prediction = predict_fixed_assets(data_filt, prediction, fxd_ass_ratios)\n",
    "prediction.head()"
   ]
  },
  {
   "cell_type": "markdown",
   "metadata": {},
   "source": [
    "## 6. Calculate EBITDA, EBIT, NOPAT"
   ]
  },
  {
   "cell_type": "code",
   "execution_count": 36,
   "metadata": {},
   "outputs": [
    {
     "name": "stdout",
     "output_type": "stream",
     "text": [
      "Effective tax rate is 0.21\n"
     ]
    }
   ],
   "source": [
    "eff_tax_rate = calc_eff_tax_rate(data_filt)"
   ]
  },
  {
   "cell_type": "code",
   "execution_count": 37,
   "metadata": {},
   "outputs": [
    {
     "data": {
      "text/html": [
       "<div>\n",
       "<style scoped>\n",
       "    .dataframe tbody tr th:only-of-type {\n",
       "        vertical-align: middle;\n",
       "    }\n",
       "\n",
       "    .dataframe tbody tr th {\n",
       "        vertical-align: top;\n",
       "    }\n",
       "\n",
       "    .dataframe thead th {\n",
       "        text-align: right;\n",
       "    }\n",
       "</style>\n",
       "<table border=\"1\" class=\"dataframe\">\n",
       "  <thead>\n",
       "    <tr style=\"text-align: right;\">\n",
       "      <th></th>\n",
       "      <th>rev</th>\n",
       "      <th>cost_sale</th>\n",
       "      <th>sale_gen_adm</th>\n",
       "      <th>depr_amort</th>\n",
       "      <th>capex</th>\n",
       "      <th>ppe_net</th>\n",
       "      <th>ebitda</th>\n",
       "      <th>ebit</th>\n",
       "      <th>nopat</th>\n",
       "    </tr>\n",
       "  </thead>\n",
       "  <tbody>\n",
       "    <tr>\n",
       "      <th>39</th>\n",
       "      <td>1.407991e+10</td>\n",
       "      <td>1.243712e+10</td>\n",
       "      <td>6.542851e+08</td>\n",
       "      <td>3.440758e+08</td>\n",
       "      <td>5.752622e+08</td>\n",
       "      <td>9.843186e+09</td>\n",
       "      <td>9.885046e+08</td>\n",
       "      <td>6.444289e+08</td>\n",
       "      <td>5.090988e+08</td>\n",
       "    </tr>\n",
       "    <tr>\n",
       "      <th>40</th>\n",
       "      <td>1.342381e+10</td>\n",
       "      <td>1.185757e+10</td>\n",
       "      <td>6.237965e+08</td>\n",
       "      <td>3.523514e+08</td>\n",
       "      <td>5.890984e+08</td>\n",
       "      <td>1.007993e+10</td>\n",
       "      <td>9.424419e+08</td>\n",
       "      <td>5.900905e+08</td>\n",
       "      <td>4.661715e+08</td>\n",
       "    </tr>\n",
       "    <tr>\n",
       "      <th>41</th>\n",
       "      <td>1.398127e+10</td>\n",
       "      <td>1.234999e+10</td>\n",
       "      <td>6.497017e+08</td>\n",
       "      <td>3.608261e+08</td>\n",
       "      <td>6.032673e+08</td>\n",
       "      <td>1.032237e+10</td>\n",
       "      <td>9.815800e+08</td>\n",
       "      <td>6.207539e+08</td>\n",
       "      <td>4.903955e+08</td>\n",
       "    </tr>\n",
       "    <tr>\n",
       "      <th>42</th>\n",
       "      <td>1.476460e+10</td>\n",
       "      <td>1.304192e+10</td>\n",
       "      <td>6.861025e+08</td>\n",
       "      <td>3.695047e+08</td>\n",
       "      <td>6.177770e+08</td>\n",
       "      <td>1.057065e+10</td>\n",
       "      <td>1.036575e+09</td>\n",
       "      <td>6.670702e+08</td>\n",
       "      <td>5.269855e+08</td>\n",
       "    </tr>\n",
       "    <tr>\n",
       "      <th>43</th>\n",
       "      <td>1.476551e+10</td>\n",
       "      <td>1.304273e+10</td>\n",
       "      <td>6.861448e+08</td>\n",
       "      <td>3.783919e+08</td>\n",
       "      <td>6.326357e+08</td>\n",
       "      <td>1.082489e+10</td>\n",
       "      <td>1.036639e+09</td>\n",
       "      <td>6.582469e+08</td>\n",
       "      <td>5.200150e+08</td>\n",
       "    </tr>\n",
       "  </tbody>\n",
       "</table>\n",
       "</div>"
      ],
      "text/plain": [
       "             rev     cost_sale  sale_gen_adm    depr_amort         capex  \\\n",
       "39  1.407991e+10  1.243712e+10  6.542851e+08  3.440758e+08  5.752622e+08   \n",
       "40  1.342381e+10  1.185757e+10  6.237965e+08  3.523514e+08  5.890984e+08   \n",
       "41  1.398127e+10  1.234999e+10  6.497017e+08  3.608261e+08  6.032673e+08   \n",
       "42  1.476460e+10  1.304192e+10  6.861025e+08  3.695047e+08  6.177770e+08   \n",
       "43  1.476551e+10  1.304273e+10  6.861448e+08  3.783919e+08  6.326357e+08   \n",
       "\n",
       "         ppe_net        ebitda          ebit         nopat  \n",
       "39  9.843186e+09  9.885046e+08  6.444289e+08  5.090988e+08  \n",
       "40  1.007993e+10  9.424419e+08  5.900905e+08  4.661715e+08  \n",
       "41  1.032237e+10  9.815800e+08  6.207539e+08  4.903955e+08  \n",
       "42  1.057065e+10  1.036575e+09  6.670702e+08  5.269855e+08  \n",
       "43  1.082489e+10  1.036639e+09  6.582469e+08  5.200150e+08  "
      ]
     },
     "execution_count": 37,
     "metadata": {},
     "output_type": "execute_result"
    }
   ],
   "source": [
    "prediction = calculate_ebitda_ebit_nopat(prediction, eff_tax_rate)\n",
    "prediction.head()"
   ]
  },
  {
   "cell_type": "markdown",
   "metadata": {},
   "source": [
    "## 7. Function to plot Prediction vs Historical data\n",
    "\n",
    "See at the functions..."
   ]
  },
  {
   "cell_type": "markdown",
   "metadata": {},
   "source": [
    "## 8. Calculate Net Working Capital\n",
    "\n",
    "To get this we have to forecast the current assets and liabilities.\n",
    "I will use ratios to predict them:\n",
    "- Days Sales Outstanding (dso) --> (Account recivable / Revenue) * 360\n",
    "- Days Inventory Outstanding (dio) --> (Inventory / Cost of General Sale) * 360\n",
    "- Other current assets per revenue (oca_rev) --> Other current assets / revenue\n",
    "- Current liabilities per revenue (tcl_rec) --> (Total current liabilities - current debt) / revenue"
   ]
  },
  {
   "cell_type": "code",
   "execution_count": 38,
   "metadata": {},
   "outputs": [
    {
     "data": {
      "image/png": "[encoded data removed]",
      "text/plain": [
       "<Figure size 640x480 with 1 Axes>"
      ]
     },
     "metadata": {},
     "output_type": "display_data"
    },
    {
     "name": "stdout",
     "output_type": "stream",
     "text": [
      "DSO: 63.692837229372586\n"
     ]
    },
    {
     "data": {
      "image/png": "[encoded data removed]",
      "text/plain": [
       "<Figure size 640x480 with 1 Axes>"
      ]
     },
     "metadata": {},
     "output_type": "display_data"
    },
    {
     "name": "stdout",
     "output_type": "stream",
     "text": [
      "DIO: 141.3096752963024\n"
     ]
    },
    {
     "data": {
      "image/png": "[encoded data removed]",
      "text/plain": [
       "<Figure size 640x480 with 1 Axes>"
      ]
     },
     "metadata": {},
     "output_type": "display_data"
    },
    {
     "name": "stdout",
     "output_type": "stream",
     "text": [
      "DPO: 69.70065713894458\n"
     ]
    },
    {
     "data": {
      "image/png": "[encoded data removed]",
      "text/plain": [
       "<Figure size 640x480 with 1 Axes>"
      ]
     },
     "metadata": {},
     "output_type": "display_data"
    },
    {
     "name": "stdout",
     "output_type": "stream",
     "text": [
      "Sum Other Current Assets: 0.042625116648722615\n"
     ]
    },
    {
     "data": {
      "image/png": "[encoded data removed]",
      "text/plain": [
       "<Figure size 640x480 with 1 Axes>"
      ]
     },
     "metadata": {},
     "output_type": "display_data"
    },
    {
     "name": "stdout",
     "output_type": "stream",
     "text": [
      "Sum Other Current Liabilities per Rec 0.14732698345518244\n"
     ]
    }
   ],
   "source": [
    "nwc_ratios = calculate_nwc_ratios(data_filt)"
   ]
  },
  {
   "cell_type": "code",
   "execution_count": 39,
   "metadata": {},
   "outputs": [
    {
     "data": {
      "text/html": [
       "<div>\n",
       "<style scoped>\n",
       "    .dataframe tbody tr th:only-of-type {\n",
       "        vertical-align: middle;\n",
       "    }\n",
       "\n",
       "    .dataframe tbody tr th {\n",
       "        vertical-align: top;\n",
       "    }\n",
       "\n",
       "    .dataframe thead th {\n",
       "        text-align: right;\n",
       "    }\n",
       "</style>\n",
       "<table border=\"1\" class=\"dataframe\">\n",
       "  <thead>\n",
       "    <tr style=\"text-align: right;\">\n",
       "      <th></th>\n",
       "      <th>rev</th>\n",
       "      <th>cost_sale</th>\n",
       "      <th>sale_gen_adm</th>\n",
       "      <th>depr_amort</th>\n",
       "      <th>capex</th>\n",
       "      <th>ppe_net</th>\n",
       "      <th>ebitda</th>\n",
       "      <th>ebit</th>\n",
       "      <th>nopat</th>\n",
       "      <th>acc_rec</th>\n",
       "      <th>invent</th>\n",
       "      <th>acc_pay</th>\n",
       "      <th>other_curr_ass_lesscash</th>\n",
       "      <th>tot_curr_liab_lessdebt</th>\n",
       "      <th>nwc</th>\n",
       "    </tr>\n",
       "  </thead>\n",
       "  <tbody>\n",
       "    <tr>\n",
       "      <th>39</th>\n",
       "      <td>1.407991e+10</td>\n",
       "      <td>1.243712e+10</td>\n",
       "      <td>6.542851e+08</td>\n",
       "      <td>3.440758e+08</td>\n",
       "      <td>5.752622e+08</td>\n",
       "      <td>9.843186e+09</td>\n",
       "      <td>9.885046e+08</td>\n",
       "      <td>6.444289e+08</td>\n",
       "      <td>5.090988e+08</td>\n",
       "      <td>2.491081e+09</td>\n",
       "      <td>4.881903e+09</td>\n",
       "      <td>2.407987e+09</td>\n",
       "      <td>7.973141e+09</td>\n",
       "      <td>4.482337e+09</td>\n",
       "      <td>3.490804e+09</td>\n",
       "    </tr>\n",
       "    <tr>\n",
       "      <th>40</th>\n",
       "      <td>1.342381e+10</td>\n",
       "      <td>1.185757e+10</td>\n",
       "      <td>6.237965e+08</td>\n",
       "      <td>3.523514e+08</td>\n",
       "      <td>5.890984e+08</td>\n",
       "      <td>1.007993e+10</td>\n",
       "      <td>9.424419e+08</td>\n",
       "      <td>5.900905e+08</td>\n",
       "      <td>4.661715e+08</td>\n",
       "      <td>2.375001e+09</td>\n",
       "      <td>4.654414e+09</td>\n",
       "      <td>2.295778e+09</td>\n",
       "      <td>7.601606e+09</td>\n",
       "      <td>4.273467e+09</td>\n",
       "      <td>3.328139e+09</td>\n",
       "    </tr>\n",
       "    <tr>\n",
       "      <th>41</th>\n",
       "      <td>1.398127e+10</td>\n",
       "      <td>1.234999e+10</td>\n",
       "      <td>6.497017e+08</td>\n",
       "      <td>3.608261e+08</td>\n",
       "      <td>6.032673e+08</td>\n",
       "      <td>1.032237e+10</td>\n",
       "      <td>9.815800e+08</td>\n",
       "      <td>6.207539e+08</td>\n",
       "      <td>4.903955e+08</td>\n",
       "      <td>2.473631e+09</td>\n",
       "      <td>4.847704e+09</td>\n",
       "      <td>2.391118e+09</td>\n",
       "      <td>7.917288e+09</td>\n",
       "      <td>4.450937e+09</td>\n",
       "      <td>3.466351e+09</td>\n",
       "    </tr>\n",
       "    <tr>\n",
       "      <th>42</th>\n",
       "      <td>1.476460e+10</td>\n",
       "      <td>1.304192e+10</td>\n",
       "      <td>6.861025e+08</td>\n",
       "      <td>3.695047e+08</td>\n",
       "      <td>6.177770e+08</td>\n",
       "      <td>1.057065e+10</td>\n",
       "      <td>1.036575e+09</td>\n",
       "      <td>6.670702e+08</td>\n",
       "      <td>5.269855e+08</td>\n",
       "      <td>2.612221e+09</td>\n",
       "      <td>5.119306e+09</td>\n",
       "      <td>2.525085e+09</td>\n",
       "      <td>8.360869e+09</td>\n",
       "      <td>4.700310e+09</td>\n",
       "      <td>3.660560e+09</td>\n",
       "    </tr>\n",
       "    <tr>\n",
       "      <th>43</th>\n",
       "      <td>1.476551e+10</td>\n",
       "      <td>1.304273e+10</td>\n",
       "      <td>6.861448e+08</td>\n",
       "      <td>3.783919e+08</td>\n",
       "      <td>6.326357e+08</td>\n",
       "      <td>1.082489e+10</td>\n",
       "      <td>1.036639e+09</td>\n",
       "      <td>6.582469e+08</td>\n",
       "      <td>5.200150e+08</td>\n",
       "      <td>2.612382e+09</td>\n",
       "      <td>5.119622e+09</td>\n",
       "      <td>2.525241e+09</td>\n",
       "      <td>8.361385e+09</td>\n",
       "      <td>4.700599e+09</td>\n",
       "      <td>3.660785e+09</td>\n",
       "    </tr>\n",
       "  </tbody>\n",
       "</table>\n",
       "</div>"
      ],
      "text/plain": [
       "             rev     cost_sale  sale_gen_adm    depr_amort         capex  \\\n",
       "39  1.407991e+10  1.243712e+10  6.542851e+08  3.440758e+08  5.752622e+08   \n",
       "40  1.342381e+10  1.185757e+10  6.237965e+08  3.523514e+08  5.890984e+08   \n",
       "41  1.398127e+10  1.234999e+10  6.497017e+08  3.608261e+08  6.032673e+08   \n",
       "42  1.476460e+10  1.304192e+10  6.861025e+08  3.695047e+08  6.177770e+08   \n",
       "43  1.476551e+10  1.304273e+10  6.861448e+08  3.783919e+08  6.326357e+08   \n",
       "\n",
       "         ppe_net        ebitda          ebit         nopat       acc_rec  \\\n",
       "39  9.843186e+09  9.885046e+08  6.444289e+08  5.090988e+08  2.491081e+09   \n",
       "40  1.007993e+10  9.424419e+08  5.900905e+08  4.661715e+08  2.375001e+09   \n",
       "41  1.032237e+10  9.815800e+08  6.207539e+08  4.903955e+08  2.473631e+09   \n",
       "42  1.057065e+10  1.036575e+09  6.670702e+08  5.269855e+08  2.612221e+09   \n",
       "43  1.082489e+10  1.036639e+09  6.582469e+08  5.200150e+08  2.612382e+09   \n",
       "\n",
       "          invent       acc_pay  other_curr_ass_lesscash  \\\n",
       "39  4.881903e+09  2.407987e+09             7.973141e+09   \n",
       "40  4.654414e+09  2.295778e+09             7.601606e+09   \n",
       "41  4.847704e+09  2.391118e+09             7.917288e+09   \n",
       "42  5.119306e+09  2.525085e+09             8.360869e+09   \n",
       "43  5.119622e+09  2.525241e+09             8.361385e+09   \n",
       "\n",
       "    tot_curr_liab_lessdebt           nwc  \n",
       "39            4.482337e+09  3.490804e+09  \n",
       "40            4.273467e+09  3.328139e+09  \n",
       "41            4.450937e+09  3.466351e+09  \n",
       "42            4.700310e+09  3.660560e+09  \n",
       "43            4.700599e+09  3.660785e+09  "
      ]
     },
     "execution_count": 39,
     "metadata": {},
     "output_type": "execute_result"
    }
   ],
   "source": [
    "prediction = predict_curr_ass_liab(prediction, nwc_ratios)\n",
    "prediction.head()"
   ]
  },
  {
   "cell_type": "markdown",
   "metadata": {},
   "source": [
    "## 9. Change in NWC"
   ]
  },
  {
   "cell_type": "code",
   "execution_count": 40,
   "metadata": {},
   "outputs": [],
   "source": [
    "prediction = calc_change_nwc(data_filt, prediction)\n",
    "data_filt = calc_change_nwc(data_filt, data_filt)"
   ]
  },
  {
   "cell_type": "code",
   "execution_count": 41,
   "metadata": {},
   "outputs": [],
   "source": [
    "prediction = calc_unleveared_fcf(prediction)\n",
    "data_filt = calc_unleveared_fcf(data_filt)"
   ]
  },
  {
   "cell_type": "markdown",
   "metadata": {},
   "source": [
    "## 10. Calculate Weighted Average Cost of Capital (WACC)"
   ]
  },
  {
   "cell_type": "code",
   "execution_count": 42,
   "metadata": {},
   "outputs": [
    {
     "name": "stdout",
     "output_type": "stream",
     "text": [
      "Estimated WACC value: 0.060621887747925166\n"
     ]
    }
   ],
   "source": [
    "wacc = calculate_wacc(\n",
    "    df=data_filt,\n",
    "    share_price=share_price,\n",
    "    eff_tax_rate=eff_tax_rate,\n",
    "    us_bond_10_yr=us_bond_10_yr,\n",
    "    equity_risk_premium=equity_risk_premium,\n",
    "    beta=beta)\n",
    "\n",
    "print('Estimated WACC value:', wacc)"
   ]
  },
  {
   "cell_type": "markdown",
   "metadata": {},
   "source": [
    "## 11. Present value of FCF, Terminal Value & present value of TV"
   ]
  },
  {
   "cell_type": "code",
   "execution_count": 44,
   "metadata": {},
   "outputs": [
    {
     "data": {
      "text/html": [
       "<div>\n",
       "<style scoped>\n",
       "    .dataframe tbody tr th:only-of-type {\n",
       "        vertical-align: middle;\n",
       "    }\n",
       "\n",
       "    .dataframe tbody tr th {\n",
       "        vertical-align: top;\n",
       "    }\n",
       "\n",
       "    .dataframe thead th {\n",
       "        text-align: right;\n",
       "    }\n",
       "</style>\n",
       "<table border=\"1\" class=\"dataframe\">\n",
       "  <thead>\n",
       "    <tr style=\"text-align: right;\">\n",
       "      <th></th>\n",
       "      <th>rev</th>\n",
       "      <th>cost_sale</th>\n",
       "      <th>sale_gen_adm</th>\n",
       "      <th>depr_amort</th>\n",
       "      <th>capex</th>\n",
       "      <th>ppe_net</th>\n",
       "      <th>ebitda</th>\n",
       "      <th>ebit</th>\n",
       "      <th>nopat</th>\n",
       "      <th>acc_rec</th>\n",
       "      <th>invent</th>\n",
       "      <th>acc_pay</th>\n",
       "      <th>other_curr_ass_lesscash</th>\n",
       "      <th>tot_curr_liab_lessdebt</th>\n",
       "      <th>nwc</th>\n",
       "      <th>c_nwc</th>\n",
       "      <th>unlev_fcf</th>\n",
       "      <th>pres_val_fcf</th>\n",
       "    </tr>\n",
       "  </thead>\n",
       "  <tbody>\n",
       "    <tr>\n",
       "      <th>55</th>\n",
       "      <td>1.908721e+10</td>\n",
       "      <td>1.686019e+10</td>\n",
       "      <td>8.869716e+08</td>\n",
       "      <td>5.032749e+08</td>\n",
       "      <td>8.414282e+08</td>\n",
       "      <td>1.439749e+10</td>\n",
       "      <td>1.340051e+09</td>\n",
       "      <td>8.367763e+08</td>\n",
       "      <td>6.610533e+08</td>\n",
       "      <td>3.376996e+09</td>\n",
       "      <td>6.618077e+09</td>\n",
       "      <td>3.264350e+09</td>\n",
       "      <td>1.080867e+10</td>\n",
       "      <td>6.076411e+09</td>\n",
       "      <td>4.732256e+09</td>\n",
       "      <td>2.907649e+07</td>\n",
       "      <td>2.938235e+08</td>\n",
       "      <td>1.308062e+08</td>\n",
       "    </tr>\n",
       "    <tr>\n",
       "      <th>56</th>\n",
       "      <td>1.891570e+10</td>\n",
       "      <td>1.670869e+10</td>\n",
       "      <td>8.790017e+08</td>\n",
       "      <td>5.153796e+08</td>\n",
       "      <td>8.616661e+08</td>\n",
       "      <td>1.474378e+10</td>\n",
       "      <td>1.328010e+09</td>\n",
       "      <td>8.126305e+08</td>\n",
       "      <td>6.419781e+08</td>\n",
       "      <td>3.346652e+09</td>\n",
       "      <td>6.558610e+09</td>\n",
       "      <td>3.235019e+09</td>\n",
       "      <td>1.071155e+10</td>\n",
       "      <td>6.021812e+09</td>\n",
       "      <td>4.689734e+09</td>\n",
       "      <td>-4.252177e+07</td>\n",
       "      <td>3.382134e+08</td>\n",
       "      <td>1.483688e+08</td>\n",
       "    </tr>\n",
       "    <tr>\n",
       "      <th>57</th>\n",
       "      <td>1.899975e+10</td>\n",
       "      <td>1.678293e+10</td>\n",
       "      <td>8.829073e+08</td>\n",
       "      <td>5.277755e+08</td>\n",
       "      <td>8.823908e+08</td>\n",
       "      <td>1.509840e+10</td>\n",
       "      <td>1.333911e+09</td>\n",
       "      <td>8.061354e+08</td>\n",
       "      <td>6.368470e+08</td>\n",
       "      <td>3.361522e+09</td>\n",
       "      <td>6.587751e+09</td>\n",
       "      <td>3.249393e+09</td>\n",
       "      <td>1.075914e+10</td>\n",
       "      <td>6.048568e+09</td>\n",
       "      <td>4.710572e+09</td>\n",
       "      <td>2.083770e+07</td>\n",
       "      <td>2.613939e+08</td>\n",
       "      <td>1.129944e+08</td>\n",
       "    </tr>\n",
       "    <tr>\n",
       "      <th>58</th>\n",
       "      <td>1.922184e+10</td>\n",
       "      <td>1.697911e+10</td>\n",
       "      <td>8.932279e+08</td>\n",
       "      <td>5.404694e+08</td>\n",
       "      <td>9.036140e+08</td>\n",
       "      <td>1.546154e+10</td>\n",
       "      <td>1.349503e+09</td>\n",
       "      <td>8.090340e+08</td>\n",
       "      <td>6.391368e+08</td>\n",
       "      <td>3.400816e+09</td>\n",
       "      <td>6.664758e+09</td>\n",
       "      <td>3.287376e+09</td>\n",
       "      <td>1.088491e+10</td>\n",
       "      <td>6.119272e+09</td>\n",
       "      <td>4.765635e+09</td>\n",
       "      <td>5.506350e+07</td>\n",
       "      <td>2.209288e+08</td>\n",
       "      <td>9.410742e+07</td>\n",
       "    </tr>\n",
       "    <tr>\n",
       "      <th>59</th>\n",
       "      <td>1.916142e+10</td>\n",
       "      <td>1.692573e+10</td>\n",
       "      <td>8.904198e+08</td>\n",
       "      <td>5.534687e+08</td>\n",
       "      <td>9.253476e+08</td>\n",
       "      <td>1.583342e+10</td>\n",
       "      <td>1.345261e+09</td>\n",
       "      <td>7.917922e+08</td>\n",
       "      <td>6.255158e+08</td>\n",
       "      <td>3.390125e+09</td>\n",
       "      <td>6.643806e+09</td>\n",
       "      <td>3.277041e+09</td>\n",
       "      <td>1.085069e+10</td>\n",
       "      <td>6.100035e+09</td>\n",
       "      <td>4.750653e+09</td>\n",
       "      <td>-1.498193e+07</td>\n",
       "      <td>2.686189e+08</td>\n",
       "      <td>1.127504e+08</td>\n",
       "    </tr>\n",
       "  </tbody>\n",
       "</table>\n",
       "</div>"
      ],
      "text/plain": [
       "             rev     cost_sale  sale_gen_adm    depr_amort         capex  \\\n",
       "55  1.908721e+10  1.686019e+10  8.869716e+08  5.032749e+08  8.414282e+08   \n",
       "56  1.891570e+10  1.670869e+10  8.790017e+08  5.153796e+08  8.616661e+08   \n",
       "57  1.899975e+10  1.678293e+10  8.829073e+08  5.277755e+08  8.823908e+08   \n",
       "58  1.922184e+10  1.697911e+10  8.932279e+08  5.404694e+08  9.036140e+08   \n",
       "59  1.916142e+10  1.692573e+10  8.904198e+08  5.534687e+08  9.253476e+08   \n",
       "\n",
       "         ppe_net        ebitda          ebit         nopat       acc_rec  \\\n",
       "55  1.439749e+10  1.340051e+09  8.367763e+08  6.610533e+08  3.376996e+09   \n",
       "56  1.474378e+10  1.328010e+09  8.126305e+08  6.419781e+08  3.346652e+09   \n",
       "57  1.509840e+10  1.333911e+09  8.061354e+08  6.368470e+08  3.361522e+09   \n",
       "58  1.546154e+10  1.349503e+09  8.090340e+08  6.391368e+08  3.400816e+09   \n",
       "59  1.583342e+10  1.345261e+09  7.917922e+08  6.255158e+08  3.390125e+09   \n",
       "\n",
       "          invent       acc_pay  other_curr_ass_lesscash  \\\n",
       "55  6.618077e+09  3.264350e+09             1.080867e+10   \n",
       "56  6.558610e+09  3.235019e+09             1.071155e+10   \n",
       "57  6.587751e+09  3.249393e+09             1.075914e+10   \n",
       "58  6.664758e+09  3.287376e+09             1.088491e+10   \n",
       "59  6.643806e+09  3.277041e+09             1.085069e+10   \n",
       "\n",
       "    tot_curr_liab_lessdebt           nwc         c_nwc     unlev_fcf  \\\n",
       "55            6.076411e+09  4.732256e+09  2.907649e+07  2.938235e+08   \n",
       "56            6.021812e+09  4.689734e+09 -4.252177e+07  3.382134e+08   \n",
       "57            6.048568e+09  4.710572e+09  2.083770e+07  2.613939e+08   \n",
       "58            6.119272e+09  4.765635e+09  5.506350e+07  2.209288e+08   \n",
       "59            6.100035e+09  4.750653e+09 -1.498193e+07  2.686189e+08   \n",
       "\n",
       "    pres_val_fcf  \n",
       "55  1.308062e+08  \n",
       "56  1.483688e+08  \n",
       "57  1.129944e+08  \n",
       "58  9.410742e+07  \n",
       "59  1.127504e+08  "
      ]
     },
     "execution_count": 44,
     "metadata": {},
     "output_type": "execute_result"
    }
   ],
   "source": [
    "prediction = calculate_present_value_fcf(prediction, wacc=wacc, report=form)\n",
    "prediction.tail()"
   ]
  },
  {
   "cell_type": "markdown",
   "metadata": {},
   "source": [
    "## 12. Terminal Value and present value of TV\n",
    "\n",
    "I use the perpetuity growth model"
   ]
  },
  {
   "cell_type": "code",
   "execution_count": 45,
   "metadata": {},
   "outputs": [
    {
     "data": {
      "text/plain": [
       "7014650588.278842"
      ]
     },
     "execution_count": 45,
     "metadata": {},
     "output_type": "execute_result"
    }
   ],
   "source": [
    "tv, pres_value_tv = calculate_tv_prestv_enterp_val(prediction, industry_growth_rate, wacc)\n",
    "pres_value_tv"
   ]
  },
  {
   "cell_type": "code",
   "execution_count": 46,
   "metadata": {},
   "outputs": [
    {
     "name": "stdout",
     "output_type": "stream",
     "text": [
      "9497869861.398659 876869861.3986588\n"
     ]
    }
   ],
   "source": [
    "enterp_val, equity_value = calc_enterp_company_value(data_filt, prediction, pres_value_tv)"
   ]
  },
  {
   "cell_type": "code",
   "execution_count": 47,
   "metadata": {},
   "outputs": [
    {
     "name": "stdout",
     "output_type": "stream",
     "text": [
      "Current adjusted share price: 2.477033506775872\n"
     ]
    }
   ],
   "source": [
    "# adjusted with debt, cash, equity in minor interest\n",
    "fcst_share_price_adjusted = implied_share_price(equity_value, data_filt)\n",
    "print('Current adjusted share price:', fcst_share_price_adjusted)"
   ]
  },
  {
   "cell_type": "code",
   "execution_count": 48,
   "metadata": {},
   "outputs": [
    {
     "name": "stdout",
     "output_type": "stream",
     "text": [
      "Current share price (not adjusted): 26.83014085140864\n"
     ]
    }
   ],
   "source": [
    "fcst_share_price = implied_share_price(enterp_val, data_filt)\n",
    "print('Current share price (not adjusted):', fcst_share_price)"
   ]
  },
  {
   "cell_type": "code",
   "execution_count": 49,
   "metadata": {},
   "outputs": [],
   "source": [
    "#plot_hist_pred(data_filt, prediction)"
   ]
  }
 ],
 "metadata": {
  "kernelspec": {
   "display_name": ".venv",
   "language": "python",
   "name": "python3"
  },
  "language_info": {
   "codemirror_mode": {
    "name": "ipython",
    "version": 3
   },
   "file_extension": ".py",
   "mimetype": "text/x-python",
   "name": "python",
   "nbconvert_exporter": "python",
   "pygments_lexer": "ipython3",
   "version": "3.11.3"
  },
  "orig_nbformat": 4
 },
 "nbformat": 4,
 "nbformat_minor": 2
}
