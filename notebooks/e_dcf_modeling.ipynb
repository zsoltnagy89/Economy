{
 "cells": [
  {
   "cell_type": "markdown",
   "metadata": {},
   "source": [
    "# Calculate the TSN intrinsic value"
   ]
  },
  {
   "cell_type": "code",
   "execution_count": 1,
   "metadata": {},
   "outputs": [
    {
     "name": "stdout",
     "output_type": "stream",
     "text": [
      "Connection to SQLite DB successful!\n",
      "Data has been collected!\n",
      "Datatype has been updated!\n",
      "Connection closed!\n"
     ]
    }
   ],
   "source": [
    "import pandas as pd\n",
    "import datetime\n",
    "import numpy as np\n",
    "import matplotlib.pyplot as plt\n",
    "from ipynb.fs.full.c_Stock_visual_QC import read_data_from_sql          # import function from other .ipynb file\n",
    "pd.options.mode.chained_assignment = None # not to get SettingWithCopyWarning\n",
    "\n",
    "import warnings\n",
    "import statsmodels.api as sm"
   ]
  },
  {
   "cell_type": "markdown",
   "metadata": {},
   "source": [
    "## To Set Vriables please scroll down..."
   ]
  },
  {
   "cell_type": "markdown",
   "metadata": {},
   "source": [
    "## Function to use"
   ]
  },
  {
   "cell_type": "code",
   "execution_count": 2,
   "metadata": {},
   "outputs": [],
   "source": [
    "def calculate_missing_columns(df):\n",
    "    # derived columns\n",
    "    df['tot_liab'] = df['tot_ass'] - df['tot_equity']\n",
    "    df['inc_b_tax'] = df['net_inc'] + df['inc_tax_exp']\n",
    "    df['ebitda'] = df['rev'] - df['cost_sale'] - df['sale_gen_adm']\n",
    "    df['ebit'] = df['ebitda'] - df['depr_amort']\n",
    "    df['nopat'] = df['ebit'] - df['inc_tax_exp']\n",
    "    df['other_curr_ass_lesscash'] = df['acc_rec'] + df['invent'] + df['other_curr_ass']\n",
    "    df['tot_curr_liab_lessdebt'] = df['tot_curr_liab'] - df['short_debt']\n",
    "    df['nwc'] = df['other_curr_ass_lesscash'] - df['tot_curr_liab_lessdebt']\n",
    "    # capex calculation\n",
    "    capex = []\n",
    "    for index in range(len(df)):\n",
    "        if index > 0:\n",
    "            ppe_change = df['ppe_net'].iloc[index] - df['ppe_net'].iloc[index-1]\n",
    "            depr_amort = df['depr_amort'].iloc[index]\n",
    "            capex.append(ppe_change + depr_amort)\n",
    "        else:\n",
    "            capex.append(np.nan)\n",
    "    df.loc[:, 'capex'] = capex\n",
    "\n",
    "    return df"
   ]
  },
  {
   "cell_type": "code",
   "execution_count": 3,
   "metadata": {},
   "outputs": [],
   "source": [
    "# evaluate an ARIMA model for a given order (p,d,q)\n",
    "def evaluate_arima_model(X, arima_order):\n",
    "    from statsmodels.tsa.arima.model import ARIMA\n",
    "    from sklearn.metrics import mean_squared_error\n",
    "    # prepare training dataset\n",
    "    train_size = int(len(X) * 0.66)\n",
    "    train, test = X[0:train_size], X[train_size:]\n",
    "    history = [x for x in train]\n",
    "    # make predictions\n",
    "    predictions = list()\n",
    "    for t in range(len(test)):\n",
    "        model = ARIMA(history, order=arima_order)\n",
    "        model_fit = model.fit()\n",
    "        yhat = model_fit.forecast()[0]\n",
    "        predictions.append(yhat)\n",
    "        history.append(test[t])\n",
    "    # calculate out of sample error\n",
    "    error = mean_squared_error(test, predictions)\n",
    "    print(error)\n",
    "    return error"
   ]
  },
  {
   "cell_type": "code",
   "execution_count": 4,
   "metadata": {},
   "outputs": [],
   "source": [
    "# evaluate combinations of p, d and q values for an ARIMA model\n",
    "def evaluate_models(dataset, p_values, d_values, q_values):\n",
    "    dataset = dataset.astype('float32')\n",
    "    best_score, best_cfg = float(\"inf\"), None\n",
    "    for p in p_values:\n",
    "        for d in d_values:\n",
    "            for q in q_values:\n",
    "                order = (p,d,q)\n",
    "                try:\n",
    "                    mse = evaluate_arima_model(dataset, order)\n",
    "                    if mse < best_score:\n",
    "                        best_score, best_cfg = mse, order\n",
    "                    print('ARIMA%s MSE=%.3f' % (order, mse))\n",
    "                except:\n",
    "                    continue\n",
    "    print('Best ARIMA%s MSE=%.3f' % (best_cfg, best_score))\n",
    "    return best_cfg"
   ]
  },
  {
   "cell_type": "code",
   "execution_count": 5,
   "metadata": {},
   "outputs": [],
   "source": [
    "# create a function to calculate ratios\n",
    "def calculate_is_margins(df):\n",
    "    is_incomes = ['cost_sale', 'sale_gen_adm']\n",
    "    calc_margins = dict()\n",
    "    # plot and calculate ratios\n",
    "    for income in is_incomes:\n",
    "        if income != 'inc_tax_exp':\n",
    "            div = 'rev'\n",
    "        else:\n",
    "            div = 'inc_b_tax'\n",
    "\n",
    "        fig, ax1 = plt.subplots(figsize=(15, 6))\n",
    "\n",
    "        ax1.plot(df['end'], df[income]/df[div], label=income.replace('_', ' ').upper())\n",
    "        ax1.axhline(y=(df[income]/df[div]).mean(), color='r', label='Average value')\n",
    "        \n",
    "        ax1.set_xlabel('Date')\n",
    "        ax1.set_ylabel(income.replace('_', ' ').upper())\n",
    "        \n",
    "        plt.legend()\n",
    "        plt.show()\n",
    "\n",
    "        calc_margins[income+'_margin'] = (df[income]/df[div]).mean()\n",
    "\n",
    "        print(str(income)+' is divided by the revenue.')\n",
    "        print('Average value: '+str((df[income]/df[div]).mean()))\n",
    "\n",
    "    return calc_margins"
   ]
  },
  {
   "cell_type": "code",
   "execution_count": 6,
   "metadata": {},
   "outputs": [],
   "source": [
    "def predict_cos_sale_gen_adm(input_df, is_ratio_dictionary):\n",
    "    # predict Cost Of Sales & Sale, General Administration from the Revenue\n",
    "    for column in ['cost_sale', 'sale_gen_adm']:\n",
    "        input_df[column] = input_df['rev'] * is_ratio_dictionary[column+'_margin']\n",
    "\n",
    "    return input_df"
   ]
  },
  {
   "cell_type": "code",
   "execution_count": 7,
   "metadata": {},
   "outputs": [],
   "source": [
    "def fixed_asset_ratios(df):\n",
    "    # calculate PPE start & CAPEX\n",
    "    df['ppe_net_start'] = [df['ppe_net'].values[i-1] if i > 0 else np.nan for i in range(len(df['ppe_net'].values))]\n",
    "    df['capex'] = df['ppe_net'] - df['ppe_net_start'] + df['depr_amort']\n",
    "    \n",
    "    #calculate ratio\n",
    "    fixed_asset_ratios = dict()\n",
    "    # D&A ratio\n",
    "    for column in ['depr_amort', 'capex']:\n",
    "        ratio = df[column]/df['ppe_net_start']\n",
    "        ratio.hist()\n",
    "        plt.show()\n",
    "        fixed_asset_ratios[column+'_ratio'] = ratio.mean()\n",
    "        print('Average', column, 'value is', fixed_asset_ratios[column+'_ratio'])\n",
    "    return fixed_asset_ratios"
   ]
  },
  {
   "cell_type": "code",
   "execution_count": 8,
   "metadata": {},
   "outputs": [],
   "source": [
    "def predict_fixed_assets(raw_df, prediction_df, fxd_ass_ratios):\n",
    "    # get the last measured PPE as start in case of prediction\n",
    "    ppe_start_pred = [raw_df['ppe_net'].iloc[-1]]\n",
    "    depr_amort_pred = []\n",
    "    capex_pred = []\n",
    "    ppe_net = []\n",
    "    # calculate prediction\n",
    "    for index in range(len(prediction_df)):\n",
    "        depr_amort_pred.append(ppe_start_pred[-1] * fxd_ass_ratios['depr_amort_ratio'])\n",
    "        capex_pred.append(ppe_start_pred[-1] * fxd_ass_ratios['capex_ratio'])\n",
    "        ppe_net.append(ppe_start_pred[-1] - depr_amort_pred[-1] + capex_pred[-1])\n",
    "        # add the last PPE as starting to the PPE start\n",
    "        ppe_start_pred.append(ppe_net[-1])\n",
    "    \n",
    "    prediction_df['depr_amort'] = depr_amort_pred\n",
    "    prediction_df['capex'] = capex_pred\n",
    "    prediction_df['ppe_net'] = ppe_net\n",
    "\n",
    "    return prediction_df"
   ]
  },
  {
   "cell_type": "code",
   "execution_count": 9,
   "metadata": {},
   "outputs": [],
   "source": [
    "def calc_eff_tax_rate(df):\n",
    "    if df['end'].iloc[-1] > pd.Timestamp('2017-01-01'):\n",
    "        eff_tax_rate = 0.21\n",
    "    else:\n",
    "        eff_tax_rate = (df['inc_tax_exp']/df['ebit']).mean()\n",
    "        # plot\n",
    "        (df['inc_tax_exp']/df['ebit']).hist(range=[0, 1])\n",
    "        plt.show()\n",
    "\n",
    "    print('Effective tax rate is', eff_tax_rate)\n",
    "    return eff_tax_rate"
   ]
  },
  {
   "cell_type": "code",
   "execution_count": 10,
   "metadata": {},
   "outputs": [],
   "source": [
    "def calculate_ebitda_ebit_nopat(prediction_df, eff_tax_rate):\n",
    "    prediction_df['ebitda'] = prediction_df['rev'] - prediction_df['cost_sale'] - prediction_df['sale_gen_adm']\n",
    "    prediction_df['ebit'] = prediction_df['ebitda'] - prediction_df['depr_amort']\n",
    "    prediction_df['nopat'] = prediction_df['ebit'] - (prediction_df['ebit'] * eff_tax_rate)\n",
    "    return prediction_df"
   ]
  },
  {
   "cell_type": "code",
   "execution_count": 11,
   "metadata": {},
   "outputs": [],
   "source": [
    "def plot_hist_pred(hist_df, pred_df):\n",
    "    # reset index\n",
    "    pred_df.index = [i for i in range(len(hist_df), len(hist_df) + len(pred_df))]\n",
    "    \n",
    "    for column in pred_df.columns:\n",
    "        try:\n",
    "            fig, ax1 = plt.subplots(figsize=(15, 6))\n",
    "\n",
    "            ax1.plot(hist_df.index, hist_df[column], color='k', label='Historical data')\n",
    "            ax1.plot(pred_df.index, pred_df[column], color='r', label='Predicted values')\n",
    "\n",
    "            ax1.set_xlabel('Index')\n",
    "            ax1.set_ylabel(column.replace('_', ' ').upper())\n",
    "\n",
    "            plt.legend()\n",
    "            plt.show()\n",
    "        except:\n",
    "            continue"
   ]
  },
  {
   "cell_type": "code",
   "execution_count": 12,
   "metadata": {},
   "outputs": [],
   "source": [
    "def calculate_nwc_ratios(df):\n",
    "    result = dict()\n",
    "    # Days Sales Outstanding (dso)\n",
    "    dso = (df['acc_rec'] / df['rev']) * 360\n",
    "    dso.hist()\n",
    "    plt.show()\n",
    "    result['dso'] = dso.mean()\n",
    "    print('DSO:', result['dso'])\n",
    "\n",
    "    #Days Inventory Out. (dis)\n",
    "    dio = (df['invent'] / df['cost_sale']) * 360\n",
    "    dio.hist()\n",
    "    plt.show()\n",
    "    result['dio'] = dio.mean()\n",
    "    print('DIO:', result['dio'])\n",
    "\n",
    "    #Days Payable Out. (dpo)\n",
    "    dpo = (df['acc_pay'] / df['cost_sale']) * 360\n",
    "    dpo.hist()\n",
    "    plt.show()\n",
    "    result['dpo'] = dpo.mean()\n",
    "    print('DPO:', result['dpo'])\n",
    "\n",
    "\n",
    "    #Sum of Other current assets per revenue --> soca_rev\n",
    "    # calculate the non cach non accoint recivable and inventory total current assets ratio to revenue\n",
    "    soca_rev = (df['tot_curr_ass'] - df['acc_rec'] - df['invent'] - df['cash_cash_eq']) / df['rev']\n",
    "    soca_rev.hist()\n",
    "    plt.show()\n",
    "    result['soca_rev'] = soca_rev.mean()\n",
    "    print('Sum Other Current Assets:', result['soca_rev'])\n",
    "\n",
    "    #Sum of Other current liabilities per revenue --> socl_rev\n",
    "    # calculate the non current debt non account payable total current liabilities ratio to revenue\n",
    "    socl_rev = (df['tot_curr_liab'] - df['short_debt'] - df['acc_pay']) / df['rev']\n",
    "    socl_rev.hist()\n",
    "    plt.show()\n",
    "    result['socl_rev'] = socl_rev.mean()\n",
    "    print('Sum Other Current Liabilities per Rec', result['socl_rev'])\n",
    "    \n",
    "    return result"
   ]
  },
  {
   "cell_type": "code",
   "execution_count": 13,
   "metadata": {},
   "outputs": [],
   "source": [
    "def predict_curr_ass_liab(df_prediction, nwc_ratios):\n",
    "    # calculate assets, liabilities, and net working capital from NWC ratio\n",
    "    df_prediction['acc_rec'] = (df_prediction['rev'] * nwc_ratios['dso']) / 360\n",
    "    df_prediction['invent'] = (df_prediction['cost_sale'] * nwc_ratios['dio']) / 360\n",
    "    df_prediction['acc_pay'] = (df_prediction['cost_sale'] * nwc_ratios['dpo']) / 360\n",
    "    \n",
    "    df_prediction['other_curr_ass_lesscash'] = df_prediction['acc_rec'] + df_prediction['invent'] + (df_prediction['rev'] * nwc_ratios['soca_rev'])\n",
    "    df_prediction['tot_curr_liab_lessdebt'] = df_prediction['acc_pay'] + (df_prediction['rev'] * nwc_ratios['socl_rev'])\n",
    "    df_prediction['nwc'] = df_prediction['other_curr_ass_lesscash'] - df_prediction['tot_curr_liab_lessdebt']\n",
    "    return df_prediction"
   ]
  },
  {
   "cell_type": "code",
   "execution_count": 14,
   "metadata": {},
   "outputs": [],
   "source": [
    "def calc_change_nwc(df_hist, df_predict):\n",
    "    c_nwc = []\n",
    "    # check the 2 DataFrame is equal & calculate NWC for measured data\n",
    "    if df_hist.equals(df_predict):\n",
    "        for index in range(len(df_predict)):\n",
    "            if index > 0:\n",
    "                c_nwc.append(df_predict['nwc'].iloc[index] - df_predict['nwc'].iloc[index-1])\n",
    "            else:\n",
    "                c_nwc.append(np.nan)\n",
    "    # calculate NWC for future data\n",
    "    else:\n",
    "        for index in range(len(df_predict)):\n",
    "            if index > 0:\n",
    "                c_nwc.append(df_predict['nwc'].iloc[index] - df_predict['nwc'].iloc[index-1])\n",
    "            else:\n",
    "                c_nwc.append(df_predict['nwc'].iloc[index] - df_hist['nwc'].iloc[-1])\n",
    "    \n",
    "    df_predict['c_nwc'] = c_nwc\n",
    "    \n",
    "    return df_predict"
   ]
  },
  {
   "cell_type": "code",
   "execution_count": 15,
   "metadata": {},
   "outputs": [],
   "source": [
    "def calc_unleveared_fcf(df):\n",
    "    df['unlev_fcf'] = df['nopat'] + df['depr_amort'] - df['capex'] - df['c_nwc']\n",
    "    return df"
   ]
  },
  {
   "cell_type": "code",
   "execution_count": 16,
   "metadata": {},
   "outputs": [],
   "source": [
    "def calculate_wacc(df, share_price, eff_tax_rate, us_bond_10_yr, equity_risk_premium, beta):\n",
    "    equity = (share_price * df['shares'].iloc[-1])\n",
    "    debt = df['short_debt'].iloc[-1] + df['tot_long_debt'].iloc[-1]\n",
    "    \n",
    "    cost_of_debt = abs(df['int_exp'].iloc[-1]) / debt\n",
    "    d_per_d_plus_e = debt / (debt + equity)\n",
    "    after_tax_cost_of_debt = cost_of_debt * (1 - eff_tax_rate)\n",
    "\n",
    "    risk_free_rate = us_bond_10_yr\n",
    "    market_risk_premium = equity_risk_premium\n",
    "    cost_of_equity = risk_free_rate + (beta * market_risk_premium)\n",
    "    e_per_d_plus_e = equity / (debt + equity)\n",
    "    \n",
    "    wacc = (d_per_d_plus_e * after_tax_cost_of_debt) + (e_per_d_plus_e * cost_of_equity)\n",
    "    return wacc"
   ]
  },
  {
   "cell_type": "code",
   "execution_count": 17,
   "metadata": {},
   "outputs": [],
   "source": [
    "def calculate_present_value_fcf(df, wacc, report='10-Q'):\n",
    "    if report == '10-Q':\n",
    "        multipl = 0.25\n",
    "    else:\n",
    "        multipl = 1\n",
    "    # calculate present cahs flows\n",
    "    df['pres_val_fcf'] = df['unlev_fcf']/((1+wacc)**(df.index*multipl))\n",
    "    return df"
   ]
  },
  {
   "cell_type": "code",
   "execution_count": 18,
   "metadata": {},
   "outputs": [],
   "source": [
    "def calculate_tv_prestv_enterp_val(df, industry_growth_rate, wacc):\n",
    "    # Terminal Value\n",
    "    tv = ((df['unlev_fcf'].iloc[-1] * (1 + industry_growth_rate))) / (wacc - industry_growth_rate)\n",
    "    # present value of TV\n",
    "    pres_value_tv = tv / (1 + wacc)**5\n",
    "    \n",
    "    return tv, pres_value_tv"
   ]
  },
  {
   "cell_type": "code",
   "execution_count": 19,
   "metadata": {},
   "outputs": [],
   "source": [
    "def calc_enterp_company_value(df_hist, df_pred, pres_value_tv):\n",
    "    \n",
    "    debt = df_hist['short_debt'].iloc[-1] + df_hist['tot_long_debt'].iloc[-1]\n",
    "    \n",
    "    if 'equity_minor_interest' in df_hist.columns:\n",
    "        equity_minor_interest = df_hist['equity_minor_interest'].iloc[-1]\n",
    "    else:\n",
    "        equity_minor_interest = 0\n",
    "    # Enterprise Values\n",
    "    enterp_val = df_pred['pres_val_fcf'].sum() + pres_value_tv\n",
    "    # Company Value\n",
    "    comp_val = enterp_val + df_hist['cash_cash_eq'].iloc[-1] - debt - equity_minor_interest\n",
    "    \n",
    "\n",
    "    print(enterp_val, comp_val)\n",
    "    return enterp_val, comp_val"
   ]
  },
  {
   "cell_type": "code",
   "execution_count": 20,
   "metadata": {},
   "outputs": [],
   "source": [
    "def implied_share_price(equity_value, hist_df):\n",
    "    share_price = equity_value / hist_df['shares'].iloc[-1]\n",
    "    return share_price"
   ]
  },
  {
   "cell_type": "markdown",
   "metadata": {},
   "source": [
    "## 1. Set boundary parameters (stock price, prediction period, bond yield) & Load Data"
   ]
  },
  {
   "cell_type": "code",
   "execution_count": 21,
   "metadata": {},
   "outputs": [],
   "source": [
    "# fixed parameters\n",
    "db_path = '../database/statements.db'\n",
    "form = '10-Q'\n",
    "# end date years ago\n",
    "finished_years_ago = 0\n",
    "# forecast period\n",
    "forecast_period = 20\n",
    "# WACC input\n",
    "share_price = 68\n",
    "us_bond_10_yr = 0.0436\n",
    "# country specifc - USA data from https://pages.stern.nyu.edu/~adamodar/New_Home_Page/datafile/ctryprem.html - 5.5% 10+ yrs average\n",
    "equity_risk_premium = 0.055\n",
    "beta = 1.13\n",
    "# country industry growth rate - US GDP growth avg from 1948 yo 2023 - 3.12%\n",
    "industry_growth_rate = 0.0312"
   ]
  },
  {
   "cell_type": "code",
   "execution_count": 22,
   "metadata": {},
   "outputs": [
    {
     "name": "stdout",
     "output_type": "stream",
     "text": [
      "Connection to SQLite DB successful!\n",
      "Data has been collected!\n",
      "Datatype has been updated!\n",
      "Connection closed!\n",
      "Data are available from: 2018-06-30 00:00:00\n",
      "Filtered data start at: 2018-06-30 00:00:00\n",
      "Filtered data finish at: 2023-06-30 00:00:00\n"
     ]
    }
   ],
   "source": [
    "#load data\n",
    "data = read_data_from_sql(\n",
    "    db_path=db_path,\n",
    "    tickers=['IFF'],\n",
    "    statements=['income_statement', 'balance_sheet']    \n",
    ")\n",
    "print('Data are available from:', data['end'].iloc[0])\n",
    "# start date 7 year earlier than end date\n",
    "start_date = pd.Timestamp(datetime.date.today()) - (pd.Timedelta(days=(10 * 365) + (finished_years_ago * 365)))\n",
    "end_date = pd.Timestamp(datetime.date.today()) - (pd.Timedelta(days=finished_years_ago * 365))\n",
    "# create DataFrame\n",
    "data_filt = data.loc[(data['form'] == form) & (data['end'] > start_date) & (data['end'] < end_date), :]\n",
    "data_filt.reset_index(drop=True, inplace=True)\n",
    "print('Filtered data start at:', data_filt.end.iloc[0])\n",
    "print('Filtered data finish at:', data_filt.end.iloc[-1])"
   ]
  },
  {
   "cell_type": "code",
   "execution_count": 23,
   "metadata": {},
   "outputs": [
    {
     "data": {
      "text/html": [
       "<div>\n",
       "<style scoped>\n",
       "    .dataframe tbody tr th:only-of-type {\n",
       "        vertical-align: middle;\n",
       "    }\n",
       "\n",
       "    .dataframe tbody tr th {\n",
       "        vertical-align: top;\n",
       "    }\n",
       "\n",
       "    .dataframe thead th {\n",
       "        text-align: right;\n",
       "    }\n",
       "</style>\n",
       "<table border=\"1\" class=\"dataframe\">\n",
       "  <thead>\n",
       "    <tr style=\"text-align: right;\">\n",
       "      <th></th>\n",
       "      <th>cik</th>\n",
       "      <th>ticker</th>\n",
       "      <th>end</th>\n",
       "      <th>form</th>\n",
       "      <th>rev</th>\n",
       "      <th>cost_sale</th>\n",
       "      <th>sale_gen_adm</th>\n",
       "      <th>inpairm</th>\n",
       "      <th>op_income</th>\n",
       "      <th>int_income</th>\n",
       "      <th>...</th>\n",
       "      <th>intang_ass</th>\n",
       "      <th>other_ass</th>\n",
       "      <th>tot_ass</th>\n",
       "      <th>short_debt</th>\n",
       "      <th>acc_pay</th>\n",
       "      <th>other_curr_liab</th>\n",
       "      <th>tot_curr_liab</th>\n",
       "      <th>tot_long_debt</th>\n",
       "      <th>other_liab</th>\n",
       "      <th>tot_equity</th>\n",
       "    </tr>\n",
       "  </thead>\n",
       "  <tbody>\n",
       "    <tr>\n",
       "      <th>0</th>\n",
       "      <td>0000051253</td>\n",
       "      <td>IFF</td>\n",
       "      <td>2018-06-30</td>\n",
       "      <td>10-Q</td>\n",
       "      <td>9.200160e+08</td>\n",
       "      <td>521299000.0</td>\n",
       "      <td>157407000.0</td>\n",
       "      <td>0.0</td>\n",
       "      <td>154509000.0</td>\n",
       "      <td>20655000.0</td>\n",
       "      <td>...</td>\n",
       "      <td>3.914260e+08</td>\n",
       "      <td>157017000.0</td>\n",
       "      <td>4.673442e+09</td>\n",
       "      <td>6500000.0</td>\n",
       "      <td>315656000.0</td>\n",
       "      <td>263448000.0</td>\n",
       "      <td>6.993700e+08</td>\n",
       "      <td>1.717189e+09</td>\n",
       "      <td>238635000.0</td>\n",
       "      <td>1.749855e+09</td>\n",
       "    </tr>\n",
       "    <tr>\n",
       "      <th>1</th>\n",
       "      <td>0000051253</td>\n",
       "      <td>IFF</td>\n",
       "      <td>2018-09-30</td>\n",
       "      <td>10-Q</td>\n",
       "      <td>9.075480e+08</td>\n",
       "      <td>506882000.0</td>\n",
       "      <td>157796000.0</td>\n",
       "      <td>0.0</td>\n",
       "      <td>159268000.0</td>\n",
       "      <td>4158000.0</td>\n",
       "      <td>...</td>\n",
       "      <td>3.855750e+08</td>\n",
       "      <td>167978000.0</td>\n",
       "      <td>9.615542e+09</td>\n",
       "      <td>45985000.0</td>\n",
       "      <td>312236000.0</td>\n",
       "      <td>257364000.0</td>\n",
       "      <td>7.584560e+08</td>\n",
       "      <td>4.331242e+09</td>\n",
       "      <td>235332000.0</td>\n",
       "      <td>4.031814e+09</td>\n",
       "    </tr>\n",
       "    <tr>\n",
       "      <th>2</th>\n",
       "      <td>0000051253</td>\n",
       "      <td>IFF</td>\n",
       "      <td>2018-12-31</td>\n",
       "      <td>10-Q</td>\n",
       "      <td>9.075480e+08</td>\n",
       "      <td>506882000.0</td>\n",
       "      <td>157796000.0</td>\n",
       "      <td>0.0</td>\n",
       "      <td>159268000.0</td>\n",
       "      <td>4158000.0</td>\n",
       "      <td>...</td>\n",
       "      <td>3.039322e+09</td>\n",
       "      <td>288673000.0</td>\n",
       "      <td>1.288940e+10</td>\n",
       "      <td>48642000.0</td>\n",
       "      <td>471382000.0</td>\n",
       "      <td>530508000.0</td>\n",
       "      <td>1.128311e+09</td>\n",
       "      <td>4.504417e+09</td>\n",
       "      <td>248436000.0</td>\n",
       "      <td>6.032951e+09</td>\n",
       "    </tr>\n",
       "    <tr>\n",
       "      <th>3</th>\n",
       "      <td>0000051253</td>\n",
       "      <td>IFF</td>\n",
       "      <td>2019-03-31</td>\n",
       "      <td>10-Q</td>\n",
       "      <td>1.297402e+09</td>\n",
       "      <td>766143000.0</td>\n",
       "      <td>213182000.0</td>\n",
       "      <td>0.0</td>\n",
       "      <td>163870000.0</td>\n",
       "      <td>7278000.0</td>\n",
       "      <td>...</td>\n",
       "      <td>2.974177e+09</td>\n",
       "      <td>583389000.0</td>\n",
       "      <td>1.321142e+10</td>\n",
       "      <td>84003000.0</td>\n",
       "      <td>476413000.0</td>\n",
       "      <td>414626000.0</td>\n",
       "      <td>1.144134e+09</td>\n",
       "      <td>4.421430e+09</td>\n",
       "      <td>492029000.0</td>\n",
       "      <td>6.143211e+09</td>\n",
       "    </tr>\n",
       "    <tr>\n",
       "      <th>4</th>\n",
       "      <td>0000051253</td>\n",
       "      <td>IFF</td>\n",
       "      <td>2019-06-30</td>\n",
       "      <td>10-Q</td>\n",
       "      <td>1.291568e+09</td>\n",
       "      <td>745329000.0</td>\n",
       "      <td>210100000.0</td>\n",
       "      <td>0.0</td>\n",
       "      <td>199937000.0</td>\n",
       "      <td>2137000.0</td>\n",
       "      <td>...</td>\n",
       "      <td>2.944667e+09</td>\n",
       "      <td>590767000.0</td>\n",
       "      <td>1.334808e+10</td>\n",
       "      <td>84231000.0</td>\n",
       "      <td>463555000.0</td>\n",
       "      <td>429939000.0</td>\n",
       "      <td>1.149533e+09</td>\n",
       "      <td>4.428675e+09</td>\n",
       "      <td>514802000.0</td>\n",
       "      <td>6.199379e+09</td>\n",
       "    </tr>\n",
       "  </tbody>\n",
       "</table>\n",
       "<p>5 rows × 33 columns</p>\n",
       "</div>"
      ],
      "text/plain": [
       "          cik ticker        end  form           rev    cost_sale  \\\n",
       "0  0000051253    IFF 2018-06-30  10-Q  9.200160e+08  521299000.0   \n",
       "1  0000051253    IFF 2018-09-30  10-Q  9.075480e+08  506882000.0   \n",
       "2  0000051253    IFF 2018-12-31  10-Q  9.075480e+08  506882000.0   \n",
       "3  0000051253    IFF 2019-03-31  10-Q  1.297402e+09  766143000.0   \n",
       "4  0000051253    IFF 2019-06-30  10-Q  1.291568e+09  745329000.0   \n",
       "\n",
       "   sale_gen_adm  inpairm    op_income  int_income  ...    intang_ass  \\\n",
       "0   157407000.0      0.0  154509000.0  20655000.0  ...  3.914260e+08   \n",
       "1   157796000.0      0.0  159268000.0   4158000.0  ...  3.855750e+08   \n",
       "2   157796000.0      0.0  159268000.0   4158000.0  ...  3.039322e+09   \n",
       "3   213182000.0      0.0  163870000.0   7278000.0  ...  2.974177e+09   \n",
       "4   210100000.0      0.0  199937000.0   2137000.0  ...  2.944667e+09   \n",
       "\n",
       "     other_ass       tot_ass  short_debt      acc_pay  other_curr_liab  \\\n",
       "0  157017000.0  4.673442e+09   6500000.0  315656000.0      263448000.0   \n",
       "1  167978000.0  9.615542e+09  45985000.0  312236000.0      257364000.0   \n",
       "2  288673000.0  1.288940e+10  48642000.0  471382000.0      530508000.0   \n",
       "3  583389000.0  1.321142e+10  84003000.0  476413000.0      414626000.0   \n",
       "4  590767000.0  1.334808e+10  84231000.0  463555000.0      429939000.0   \n",
       "\n",
       "   tot_curr_liab  tot_long_debt   other_liab    tot_equity  \n",
       "0   6.993700e+08   1.717189e+09  238635000.0  1.749855e+09  \n",
       "1   7.584560e+08   4.331242e+09  235332000.0  4.031814e+09  \n",
       "2   1.128311e+09   4.504417e+09  248436000.0  6.032951e+09  \n",
       "3   1.144134e+09   4.421430e+09  492029000.0  6.143211e+09  \n",
       "4   1.149533e+09   4.428675e+09  514802000.0  6.199379e+09  \n",
       "\n",
       "[5 rows x 33 columns]"
      ]
     },
     "execution_count": 23,
     "metadata": {},
     "output_type": "execute_result"
    }
   ],
   "source": [
    "data_filt.head()"
   ]
  },
  {
   "cell_type": "markdown",
   "metadata": {},
   "source": [
    "## 2. Calculate EBITDA, EBIT, NOPAT, CAPEX etc on hisorical data"
   ]
  },
  {
   "cell_type": "code",
   "execution_count": 24,
   "metadata": {},
   "outputs": [
    {
     "data": {
      "text/html": [
       "<div>\n",
       "<style scoped>\n",
       "    .dataframe tbody tr th:only-of-type {\n",
       "        vertical-align: middle;\n",
       "    }\n",
       "\n",
       "    .dataframe tbody tr th {\n",
       "        vertical-align: top;\n",
       "    }\n",
       "\n",
       "    .dataframe thead th {\n",
       "        text-align: right;\n",
       "    }\n",
       "</style>\n",
       "<table border=\"1\" class=\"dataframe\">\n",
       "  <thead>\n",
       "    <tr style=\"text-align: right;\">\n",
       "      <th></th>\n",
       "      <th>cik</th>\n",
       "      <th>ticker</th>\n",
       "      <th>end</th>\n",
       "      <th>form</th>\n",
       "      <th>rev</th>\n",
       "      <th>cost_sale</th>\n",
       "      <th>sale_gen_adm</th>\n",
       "      <th>inpairm</th>\n",
       "      <th>op_income</th>\n",
       "      <th>int_income</th>\n",
       "      <th>...</th>\n",
       "      <th>tot_equity</th>\n",
       "      <th>tot_liab</th>\n",
       "      <th>inc_b_tax</th>\n",
       "      <th>ebitda</th>\n",
       "      <th>ebit</th>\n",
       "      <th>nopat</th>\n",
       "      <th>other_curr_ass_lesscash</th>\n",
       "      <th>tot_curr_liab_lessdebt</th>\n",
       "      <th>nwc</th>\n",
       "      <th>capex</th>\n",
       "    </tr>\n",
       "  </thead>\n",
       "  <tbody>\n",
       "    <tr>\n",
       "      <th>0</th>\n",
       "      <td>0000051253</td>\n",
       "      <td>IFF</td>\n",
       "      <td>2018-06-30</td>\n",
       "      <td>10-Q</td>\n",
       "      <td>9.200160e+08</td>\n",
       "      <td>521299000.0</td>\n",
       "      <td>157407000.0</td>\n",
       "      <td>0.0</td>\n",
       "      <td>154509000.0</td>\n",
       "      <td>20655000.0</td>\n",
       "      <td>...</td>\n",
       "      <td>1.749855e+09</td>\n",
       "      <td>2.923587e+09</td>\n",
       "      <td>122454000.0</td>\n",
       "      <td>241310000.0</td>\n",
       "      <td>207926000.0</td>\n",
       "      <td>185157000.0</td>\n",
       "      <td>1.704157e+09</td>\n",
       "      <td>6.928700e+08</td>\n",
       "      <td>1.011287e+09</td>\n",
       "      <td>NaN</td>\n",
       "    </tr>\n",
       "    <tr>\n",
       "      <th>1</th>\n",
       "      <td>0000051253</td>\n",
       "      <td>IFF</td>\n",
       "      <td>2018-09-30</td>\n",
       "      <td>10-Q</td>\n",
       "      <td>9.075480e+08</td>\n",
       "      <td>506882000.0</td>\n",
       "      <td>157796000.0</td>\n",
       "      <td>0.0</td>\n",
       "      <td>159268000.0</td>\n",
       "      <td>4158000.0</td>\n",
       "      <td>...</td>\n",
       "      <td>4.031814e+09</td>\n",
       "      <td>5.583728e+09</td>\n",
       "      <td>100702000.0</td>\n",
       "      <td>242870000.0</td>\n",
       "      <td>209486000.0</td>\n",
       "      <td>204500000.0</td>\n",
       "      <td>1.672368e+09</td>\n",
       "      <td>7.124710e+08</td>\n",
       "      <td>9.598970e+08</td>\n",
       "      <td>40572000.0</td>\n",
       "    </tr>\n",
       "    <tr>\n",
       "      <th>2</th>\n",
       "      <td>0000051253</td>\n",
       "      <td>IFF</td>\n",
       "      <td>2018-12-31</td>\n",
       "      <td>10-Q</td>\n",
       "      <td>9.075480e+08</td>\n",
       "      <td>506882000.0</td>\n",
       "      <td>157796000.0</td>\n",
       "      <td>0.0</td>\n",
       "      <td>159268000.0</td>\n",
       "      <td>4158000.0</td>\n",
       "      <td>...</td>\n",
       "      <td>6.032951e+09</td>\n",
       "      <td>6.856444e+09</td>\n",
       "      <td>100702000.0</td>\n",
       "      <td>242870000.0</td>\n",
       "      <td>209486000.0</td>\n",
       "      <td>204500000.0</td>\n",
       "      <td>1.419033e+09</td>\n",
       "      <td>1.079669e+09</td>\n",
       "      <td>3.393640e+08</td>\n",
       "      <td>399719000.0</td>\n",
       "    </tr>\n",
       "    <tr>\n",
       "      <th>3</th>\n",
       "      <td>0000051253</td>\n",
       "      <td>IFF</td>\n",
       "      <td>2019-03-31</td>\n",
       "      <td>10-Q</td>\n",
       "      <td>1.297402e+09</td>\n",
       "      <td>766143000.0</td>\n",
       "      <td>213182000.0</td>\n",
       "      <td>0.0</td>\n",
       "      <td>163870000.0</td>\n",
       "      <td>7278000.0</td>\n",
       "      <td>...</td>\n",
       "      <td>6.143211e+09</td>\n",
       "      <td>7.068209e+09</td>\n",
       "      <td>134576000.0</td>\n",
       "      <td>318077000.0</td>\n",
       "      <td>236302000.0</td>\n",
       "      <td>212940000.0</td>\n",
       "      <td>2.428696e+09</td>\n",
       "      <td>1.060131e+09</td>\n",
       "      <td>1.368565e+09</td>\n",
       "      <td>134652000.0</td>\n",
       "    </tr>\n",
       "    <tr>\n",
       "      <th>4</th>\n",
       "      <td>0000051253</td>\n",
       "      <td>IFF</td>\n",
       "      <td>2019-06-30</td>\n",
       "      <td>10-Q</td>\n",
       "      <td>1.291568e+09</td>\n",
       "      <td>745329000.0</td>\n",
       "      <td>210100000.0</td>\n",
       "      <td>0.0</td>\n",
       "      <td>199937000.0</td>\n",
       "      <td>2137000.0</td>\n",
       "      <td>...</td>\n",
       "      <td>6.199379e+09</td>\n",
       "      <td>7.148703e+09</td>\n",
       "      <td>169481000.0</td>\n",
       "      <td>336139000.0</td>\n",
       "      <td>254364000.0</td>\n",
       "      <td>223752000.0</td>\n",
       "      <td>2.535206e+09</td>\n",
       "      <td>1.065302e+09</td>\n",
       "      <td>1.469904e+09</td>\n",
       "      <td>104051000.0</td>\n",
       "    </tr>\n",
       "  </tbody>\n",
       "</table>\n",
       "<p>5 rows × 42 columns</p>\n",
       "</div>"
      ],
      "text/plain": [
       "          cik ticker        end  form           rev    cost_sale  \\\n",
       "0  0000051253    IFF 2018-06-30  10-Q  9.200160e+08  521299000.0   \n",
       "1  0000051253    IFF 2018-09-30  10-Q  9.075480e+08  506882000.0   \n",
       "2  0000051253    IFF 2018-12-31  10-Q  9.075480e+08  506882000.0   \n",
       "3  0000051253    IFF 2019-03-31  10-Q  1.297402e+09  766143000.0   \n",
       "4  0000051253    IFF 2019-06-30  10-Q  1.291568e+09  745329000.0   \n",
       "\n",
       "   sale_gen_adm  inpairm    op_income  int_income  ...    tot_equity  \\\n",
       "0   157407000.0      0.0  154509000.0  20655000.0  ...  1.749855e+09   \n",
       "1   157796000.0      0.0  159268000.0   4158000.0  ...  4.031814e+09   \n",
       "2   157796000.0      0.0  159268000.0   4158000.0  ...  6.032951e+09   \n",
       "3   213182000.0      0.0  163870000.0   7278000.0  ...  6.143211e+09   \n",
       "4   210100000.0      0.0  199937000.0   2137000.0  ...  6.199379e+09   \n",
       "\n",
       "       tot_liab    inc_b_tax       ebitda         ebit        nopat  \\\n",
       "0  2.923587e+09  122454000.0  241310000.0  207926000.0  185157000.0   \n",
       "1  5.583728e+09  100702000.0  242870000.0  209486000.0  204500000.0   \n",
       "2  6.856444e+09  100702000.0  242870000.0  209486000.0  204500000.0   \n",
       "3  7.068209e+09  134576000.0  318077000.0  236302000.0  212940000.0   \n",
       "4  7.148703e+09  169481000.0  336139000.0  254364000.0  223752000.0   \n",
       "\n",
       "   other_curr_ass_lesscash  tot_curr_liab_lessdebt           nwc        capex  \n",
       "0             1.704157e+09            6.928700e+08  1.011287e+09          NaN  \n",
       "1             1.672368e+09            7.124710e+08  9.598970e+08   40572000.0  \n",
       "2             1.419033e+09            1.079669e+09  3.393640e+08  399719000.0  \n",
       "3             2.428696e+09            1.060131e+09  1.368565e+09  134652000.0  \n",
       "4             2.535206e+09            1.065302e+09  1.469904e+09  104051000.0  \n",
       "\n",
       "[5 rows x 42 columns]"
      ]
     },
     "execution_count": 24,
     "metadata": {},
     "output_type": "execute_result"
    }
   ],
   "source": [
    "data_filt = calculate_missing_columns(data_filt)\n",
    "data_filt.head()"
   ]
  },
  {
   "cell_type": "markdown",
   "metadata": {},
   "source": [
    "## 3. Forecast Revenue\n",
    "\n",
    "Before the ARIMA / SARIMA modling need to know p, d, q values (model parameters):\n",
    "- p: Trend autoregression order.\n",
    "- q: Trend moving average order.\n",
    "- d: Trend difference order."
   ]
  },
  {
   "cell_type": "code",
   "execution_count": 25,
   "metadata": {},
   "outputs": [
    {
     "data": {
      "image/png": "[encoded data removed]",
      "text/plain": [
       "<Figure size 640x480 with 1 Axes>"
      ]
     },
     "metadata": {},
     "output_type": "display_data"
    }
   ],
   "source": [
    "# Creating Autocorrelation plot - ACF\n",
    "x = pd.plotting.autocorrelation_plot(data_filt['rev'])\n",
    "x.plot()\n",
    "plt.show()"
   ]
  },
  {
   "cell_type": "markdown",
   "metadata": {},
   "source": [
    "The monotony of ACF is changed first time there is the p value. "
   ]
  },
  {
   "cell_type": "code",
   "execution_count": 26,
   "metadata": {},
   "outputs": [
    {
     "data": {
      "image/png": "[encoded data removed]",
      "text/plain": [
       "<Figure size 640x480 with 1 Axes>"
      ]
     },
     "execution_count": 26,
     "metadata": {},
     "output_type": "execute_result"
    },
    {
     "data": {
      "image/png": "[encoded data removed]",
      "text/plain": [
       "<Figure size 640x480 with 1 Axes>"
      ]
     },
     "metadata": {},
     "output_type": "display_data"
    }
   ],
   "source": [
    "# Creating Partial Autocorrelation plot --> PACF\n",
    "from statsmodels.graphics.tsaplots import plot_pacf\n",
    "plot_pacf(data_filt['rev'], lags = int(forecast_period / 2 - 1))"
   ]
  },
  {
   "cell_type": "markdown",
   "metadata": {},
   "source": [
    "Number of points, which are far away from the boundary is the q value.\n",
    "\n",
    "In the above partial autocorrelation plot, we can see that only two points are far away from all the points. That is how a decide the q value. Hence the value of q is 2.\n",
    "\n",
    "The value of d is either 0 or 1. If the data is stationary, we should use 0, and if the data is seasonal, we should use 1. As our data is seasonal, we should use 1 as the d value.\n",
    "\n",
    "I will find ARIMA hyperparameters (p, d, q) with gridsearch step-by-step"
   ]
  },
  {
   "cell_type": "code",
   "execution_count": 27,
   "metadata": {},
   "outputs": [
    {
     "name": "stdout",
     "output_type": "stream",
     "text": [
      "1.6235120069438456e+16\n",
      "ARIMA(2, 1, 1) MSE=16235120069438456.000\n",
      "2.7613169777765626e+17\n",
      "ARIMA(2, 1, 3) MSE=276131697777656256.000\n",
      "1.4097286052854932e+16\n",
      "ARIMA(4, 1, 1) MSE=14097286052854932.000\n",
      "2.237891429971036e+16\n",
      "ARIMA(4, 1, 3) MSE=22378914299710360.000\n",
      "Best ARIMA(4, 1, 1) MSE=14097286052854932.000\n"
     ]
    }
   ],
   "source": [
    "# evaluate an ARIMA model for a given order (p,d,q) ---> You can tip p and estimate d, q based on previous plots\n",
    "series = data_filt['rev']\n",
    "# evaluate parameters\n",
    "p_values = [2, 4]\n",
    "d_values = [1]\n",
    "q_values = [1, 3]\n",
    "warnings.filterwarnings(\"ignore\")\n",
    "best_config = evaluate_models(series.values, p_values, d_values, q_values)"
   ]
  },
  {
   "cell_type": "markdown",
   "metadata": {},
   "source": [
    "The predicted values are wrong because the data is seasonal. ARIMA model will never perform well on seasonal time series data. So, here’s how to build a SARIMA model.\n",
    "\n",
    "The parameter \"s\" is an integer giving the periodicity (number of periods in season), often it is 4 for quarterly data or 12 for monthly data. Default is no seasonal effect. Here is hardcoded, works well with 12."
   ]
  },
  {
   "cell_type": "code",
   "execution_count": 28,
   "metadata": {},
   "outputs": [],
   "source": [
    "# float datatype is needed to SARIMAX model\n",
    "data_filt['rev'] = data_filt['rev'].astype(float)"
   ]
  },
  {
   "cell_type": "code",
   "execution_count": 29,
   "metadata": {},
   "outputs": [
    {
     "name": "stdout",
     "output_type": "stream",
     "text": [
      "RUNNING THE L-BFGS-B CODE\n",
      "\n",
      "           * * *\n",
      "\n",
      "Machine precision = 2.220D-16\n",
      " N =           11     M =           10\n",
      "\n",
      "At X0         0 variables are exactly at the bounds\n",
      "\n",
      "At iterate    0    f=  1.03070D+25    |proj g|=  2.19879D+30\n"
     ]
    },
    {
     "name": "stderr",
     "output_type": "stream",
     "text": [
      " This problem is unconstrained.\n",
      "\n",
      " Bad direction in the line search;\n",
      "   refresh the lbfgs memory and restart the iteration.\n"
     ]
    },
    {
     "name": "stdout",
     "output_type": "stream",
     "text": [
      "\n",
      "           * * *\n",
      "\n",
      "Tit   = total number of iterations\n",
      "Tnf   = total number of function evaluations\n",
      "Tnint = total number of segments explored during Cauchy searches\n",
      "Skip  = number of BFGS updates skipped\n",
      "Nact  = number of active bounds at final generalized Cauchy point\n",
      "Projg = norm of the final projected gradient\n",
      "F     = final function value\n",
      "\n",
      "           * * *\n",
      "\n",
      "   N    Tit     Tnf  Tnint  Skip  Nact     Projg        F\n",
      "   11      2     47      2     0     0   8.865D+22   1.816D+20\n",
      "  F =   1.8162705872778097E+020\n",
      "\n",
      "ABNORMAL_TERMINATION_IN_LNSRCH                              \n",
      "                                          SARIMAX Results                                          \n",
      "===================================================================================================\n",
      "Dep. Variable:                                  y   No. Observations:                            21\n",
      "Model:             SARIMAX(4, 1, 1)x(4, 1, 1, 12)   Log Likelihood      -3814168233283400237056.000\n",
      "Date:                            Sat, 30 Sep 2023   AIC                  7628336466566800474112.000\n",
      "Time:                                    14:15:50   BIC                  7628336466566800474112.000\n",
      "Sample:                                         0   HQIC                 7628336466566800474112.000\n",
      "                                             - 21                                                  \n",
      "Covariance Type:                              opg                                                  \n",
      "==============================================================================\n",
      "                 coef    std err          z      P>|z|      [0.025      0.975]\n",
      "------------------------------------------------------------------------------\n",
      "ar.L1       3.291e-08   4.19e-22   7.86e+13      0.000    3.29e-08    3.29e-08\n",
      "ar.L2       2.414e-08   5.33e-22   4.53e+13      0.000    2.41e-08    2.41e-08\n",
      "ar.L3       1.831e-08   1.95e-21    9.4e+12      0.000    1.83e-08    1.83e-08\n",
      "ar.L4       1.401e-08   1.21e-21   1.15e+13      0.000     1.4e-08     1.4e-08\n",
      "ma.L1       3.291e-08   4.19e-22   7.86e+13      0.000    3.29e-08    3.29e-08\n",
      "ar.S.L12   -1.858e-13   1.08e-30  -1.72e+17      0.000   -1.86e-13   -1.86e-13\n",
      "ar.S.L24   -1.858e-13   4.16e-30  -4.46e+16      0.000   -1.86e-13   -1.86e-13\n",
      "ar.S.L36   -1.858e-13   1.09e-30   -1.7e+17      0.000   -1.86e-13   -1.86e-13\n",
      "ar.S.L48   -1.858e-13   2.22e-30  -8.37e+16      0.000   -1.86e-13   -1.86e-13\n",
      "ma.S.L12    1.858e-13   2.53e-30   7.36e+16      0.000    1.86e-13    1.86e-13\n",
      "sigma2      1.664e-05   1.02e-26   1.62e+21      0.000    1.66e-05    1.66e-05\n",
      "===================================================================================\n",
      "Ljung-Box (L1) (Q):                   6.04   Jarque-Bera (JB):                 0.86\n",
      "Prob(Q):                              0.01   Prob(JB):                         0.65\n",
      "Heteroskedasticity (H):               0.29   Skew:                            -0.52\n",
      "Prob(H) (two-sided):                  0.33   Kurtosis:                         1.78\n",
      "===================================================================================\n",
      "\n",
      "Warnings:\n",
      "[1] Covariance matrix calculated using the outer product of gradients (complex-step).\n",
      "[2] Covariance matrix is singular or near-singular, with condition number 1.14e+35. Standard errors may be unstable.\n"
     ]
    },
    {
     "name": "stderr",
     "output_type": "stream",
     "text": [
      "\n",
      " Line search cannot locate an adequate point after MAXLS\n",
      "  function and gradient evaluations.\n",
      "  Previous x, f and g restored.\n",
      " Possible causes: 1 error in function or gradient evaluation;\n",
      "                  2 rounding error dominate computation.\n"
     ]
    }
   ],
   "source": [
    "# use the model parameters of SARIMA\n",
    "p, d, q = best_config\n",
    "model=sm.tsa.statespace.SARIMAX(data_filt['rev'].values,\n",
    "                                order=(p, d, q),\n",
    "                                seasonal_order=(p, d, q, 12))\n",
    "model=model.fit()\n",
    "print(model.summary())"
   ]
  },
  {
   "cell_type": "code",
   "execution_count": 30,
   "metadata": {},
   "outputs": [],
   "source": [
    "# use SARIMAX model\n",
    "prediction_revenue = model.predict(len(data_filt), len(data_filt) + forecast_period)\n",
    "# df from results\n",
    "prediction = pd.DataFrame(\n",
    "    prediction_revenue,\n",
    "    index=[i+1 for i in range(len(prediction_revenue))],\n",
    "    columns=['rev']\n",
    ")"
   ]
  },
  {
   "cell_type": "code",
   "execution_count": 31,
   "metadata": {},
   "outputs": [
    {
     "data": {
      "image/png": "[encoded data removed]",
      "text/plain": [
       "<Figure size 1500x600 with 1 Axes>"
      ]
     },
     "metadata": {},
     "output_type": "display_data"
    }
   ],
   "source": [
    "plot_hist_pred(data_filt, prediction)"
   ]
  },
  {
   "cell_type": "markdown",
   "metadata": {},
   "source": [
    "## 4. Calculate ratios\n",
    "\n",
    "After the revenue prediction I calculate the expenses and use those to predict future CoS and EBITDA."
   ]
  },
  {
   "cell_type": "code",
   "execution_count": 32,
   "metadata": {},
   "outputs": [
    {
     "data": {
      "image/png": "[encoded data removed]",
      "text/plain": [
       "<Figure size 1500x600 with 1 Axes>"
      ]
     },
     "metadata": {},
     "output_type": "display_data"
    },
    {
     "name": "stdout",
     "output_type": "stream",
     "text": [
      "cost_sale is divided by the revenue.\n",
      "Average value: 0.6219738216615369\n"
     ]
    },
    {
     "data": {
      "image/png": "[encoded data removed]",
      "text/plain": [
       "<Figure size 1500x600 with 1 Axes>"
      ]
     },
     "metadata": {},
     "output_type": "display_data"
    },
    {
     "name": "stdout",
     "output_type": "stream",
     "text": [
      "sale_gen_adm is divided by the revenue.\n",
      "Average value: 0.16018290037465266\n"
     ]
    }
   ],
   "source": [
    "is_ratio_dictionary = calculate_is_margins(data_filt)"
   ]
  },
  {
   "cell_type": "code",
   "execution_count": 33,
   "metadata": {},
   "outputs": [
    {
     "data": {
      "text/html": [
       "<div>\n",
       "<style scoped>\n",
       "    .dataframe tbody tr th:only-of-type {\n",
       "        vertical-align: middle;\n",
       "    }\n",
       "\n",
       "    .dataframe tbody tr th {\n",
       "        vertical-align: top;\n",
       "    }\n",
       "\n",
       "    .dataframe thead th {\n",
       "        text-align: right;\n",
       "    }\n",
       "</style>\n",
       "<table border=\"1\" class=\"dataframe\">\n",
       "  <thead>\n",
       "    <tr style=\"text-align: right;\">\n",
       "      <th></th>\n",
       "      <th>rev</th>\n",
       "      <th>cost_sale</th>\n",
       "      <th>sale_gen_adm</th>\n",
       "    </tr>\n",
       "  </thead>\n",
       "  <tbody>\n",
       "    <tr>\n",
       "      <th>37</th>\n",
       "      <td>6.531455e+09</td>\n",
       "      <td>4.062394e+09</td>\n",
       "      <td>1.046227e+09</td>\n",
       "    </tr>\n",
       "    <tr>\n",
       "      <th>38</th>\n",
       "      <td>6.531455e+09</td>\n",
       "      <td>4.062394e+09</td>\n",
       "      <td>1.046227e+09</td>\n",
       "    </tr>\n",
       "    <tr>\n",
       "      <th>39</th>\n",
       "      <td>6.686454e+09</td>\n",
       "      <td>4.158800e+09</td>\n",
       "      <td>1.071056e+09</td>\n",
       "    </tr>\n",
       "    <tr>\n",
       "      <th>40</th>\n",
       "      <td>6.767455e+09</td>\n",
       "      <td>4.209180e+09</td>\n",
       "      <td>1.084031e+09</td>\n",
       "    </tr>\n",
       "    <tr>\n",
       "      <th>41</th>\n",
       "      <td>6.523455e+09</td>\n",
       "      <td>4.057418e+09</td>\n",
       "      <td>1.044946e+09</td>\n",
       "    </tr>\n",
       "  </tbody>\n",
       "</table>\n",
       "</div>"
      ],
      "text/plain": [
       "             rev     cost_sale  sale_gen_adm\n",
       "37  6.531455e+09  4.062394e+09  1.046227e+09\n",
       "38  6.531455e+09  4.062394e+09  1.046227e+09\n",
       "39  6.686454e+09  4.158800e+09  1.071056e+09\n",
       "40  6.767455e+09  4.209180e+09  1.084031e+09\n",
       "41  6.523455e+09  4.057418e+09  1.044946e+09"
      ]
     },
     "execution_count": 33,
     "metadata": {},
     "output_type": "execute_result"
    }
   ],
   "source": [
    "prediction = predict_cos_sale_gen_adm(prediction, is_ratio_dictionary)\n",
    "prediction.tail()"
   ]
  },
  {
   "cell_type": "markdown",
   "metadata": {},
   "source": [
    "## 5. Calculate Fixed Assets\n",
    "\n",
    "It's time to calculate D&A costs.\n",
    "\n",
    "I will predict the PPE, D&A and CapEx values together."
   ]
  },
  {
   "cell_type": "code",
   "execution_count": 34,
   "metadata": {},
   "outputs": [
    {
     "data": {
      "image/png": "[encoded data removed]",
      "text/plain": [
       "<Figure size 640x480 with 1 Axes>"
      ]
     },
     "metadata": {},
     "output_type": "display_data"
    },
    {
     "name": "stdout",
     "output_type": "stream",
     "text": [
      "Average depr_amort value is 0.06568439609736336\n"
     ]
    },
    {
     "data": {
      "image/png": "[encoded data removed]",
      "text/plain": [
       "<Figure size 640x480 with 1 Axes>"
      ]
     },
     "metadata": {},
     "output_type": "display_data"
    },
    {
     "name": "stdout",
     "output_type": "stream",
     "text": [
      "Average capex value is 0.19862492566274462\n"
     ]
    }
   ],
   "source": [
    "fxd_ass_ratios = fixed_asset_ratios(data_filt)"
   ]
  },
  {
   "cell_type": "code",
   "execution_count": 35,
   "metadata": {},
   "outputs": [
    {
     "data": {
      "text/html": [
       "<div>\n",
       "<style scoped>\n",
       "    .dataframe tbody tr th:only-of-type {\n",
       "        vertical-align: middle;\n",
       "    }\n",
       "\n",
       "    .dataframe tbody tr th {\n",
       "        vertical-align: top;\n",
       "    }\n",
       "\n",
       "    .dataframe thead th {\n",
       "        text-align: right;\n",
       "    }\n",
       "</style>\n",
       "<table border=\"1\" class=\"dataframe\">\n",
       "  <thead>\n",
       "    <tr style=\"text-align: right;\">\n",
       "      <th></th>\n",
       "      <th>rev</th>\n",
       "      <th>cost_sale</th>\n",
       "      <th>sale_gen_adm</th>\n",
       "      <th>depr_amort</th>\n",
       "      <th>capex</th>\n",
       "      <th>ppe_net</th>\n",
       "    </tr>\n",
       "  </thead>\n",
       "  <tbody>\n",
       "    <tr>\n",
       "      <th>21</th>\n",
       "      <td>2.998227e+09</td>\n",
       "      <td>1.864819e+09</td>\n",
       "      <td>4.802648e+08</td>\n",
       "      <td>2.770568e+08</td>\n",
       "      <td>8.377999e+08</td>\n",
       "      <td>4.778743e+09</td>\n",
       "    </tr>\n",
       "    <tr>\n",
       "      <th>22</th>\n",
       "      <td>2.998227e+09</td>\n",
       "      <td>1.864819e+09</td>\n",
       "      <td>4.802648e+08</td>\n",
       "      <td>3.138889e+08</td>\n",
       "      <td>9.491775e+08</td>\n",
       "      <td>5.414032e+09</td>\n",
       "    </tr>\n",
       "    <tr>\n",
       "      <th>23</th>\n",
       "      <td>4.195227e+09</td>\n",
       "      <td>2.609322e+09</td>\n",
       "      <td>6.720037e+08</td>\n",
       "      <td>3.556174e+08</td>\n",
       "      <td>1.075362e+09</td>\n",
       "      <td>6.133776e+09</td>\n",
       "    </tr>\n",
       "    <tr>\n",
       "      <th>24</th>\n",
       "      <td>4.819227e+09</td>\n",
       "      <td>2.997433e+09</td>\n",
       "      <td>7.719578e+08</td>\n",
       "      <td>4.028934e+08</td>\n",
       "      <td>1.218321e+09</td>\n",
       "      <td>6.949203e+09</td>\n",
       "    </tr>\n",
       "    <tr>\n",
       "      <th>25</th>\n",
       "      <td>4.801227e+09</td>\n",
       "      <td>2.986238e+09</td>\n",
       "      <td>7.690745e+08</td>\n",
       "      <td>4.564542e+08</td>\n",
       "      <td>1.380285e+09</td>\n",
       "      <td>7.873034e+09</td>\n",
       "    </tr>\n",
       "  </tbody>\n",
       "</table>\n",
       "</div>"
      ],
      "text/plain": [
       "             rev     cost_sale  sale_gen_adm    depr_amort         capex  \\\n",
       "21  2.998227e+09  1.864819e+09  4.802648e+08  2.770568e+08  8.377999e+08   \n",
       "22  2.998227e+09  1.864819e+09  4.802648e+08  3.138889e+08  9.491775e+08   \n",
       "23  4.195227e+09  2.609322e+09  6.720037e+08  3.556174e+08  1.075362e+09   \n",
       "24  4.819227e+09  2.997433e+09  7.719578e+08  4.028934e+08  1.218321e+09   \n",
       "25  4.801227e+09  2.986238e+09  7.690745e+08  4.564542e+08  1.380285e+09   \n",
       "\n",
       "         ppe_net  \n",
       "21  4.778743e+09  \n",
       "22  5.414032e+09  \n",
       "23  6.133776e+09  \n",
       "24  6.949203e+09  \n",
       "25  7.873034e+09  "
      ]
     },
     "execution_count": 35,
     "metadata": {},
     "output_type": "execute_result"
    }
   ],
   "source": [
    "prediction = predict_fixed_assets(data_filt, prediction, fxd_ass_ratios)\n",
    "prediction.head()"
   ]
  },
  {
   "cell_type": "markdown",
   "metadata": {},
   "source": [
    "## 6. Calculate EBITDA, EBIT, NOPAT"
   ]
  },
  {
   "cell_type": "code",
   "execution_count": 36,
   "metadata": {},
   "outputs": [
    {
     "name": "stdout",
     "output_type": "stream",
     "text": [
      "Effective tax rate is 0.21\n"
     ]
    }
   ],
   "source": [
    "eff_tax_rate = calc_eff_tax_rate(data_filt)"
   ]
  },
  {
   "cell_type": "code",
   "execution_count": 37,
   "metadata": {},
   "outputs": [
    {
     "data": {
      "text/html": [
       "<div>\n",
       "<style scoped>\n",
       "    .dataframe tbody tr th:only-of-type {\n",
       "        vertical-align: middle;\n",
       "    }\n",
       "\n",
       "    .dataframe tbody tr th {\n",
       "        vertical-align: top;\n",
       "    }\n",
       "\n",
       "    .dataframe thead th {\n",
       "        text-align: right;\n",
       "    }\n",
       "</style>\n",
       "<table border=\"1\" class=\"dataframe\">\n",
       "  <thead>\n",
       "    <tr style=\"text-align: right;\">\n",
       "      <th></th>\n",
       "      <th>rev</th>\n",
       "      <th>cost_sale</th>\n",
       "      <th>sale_gen_adm</th>\n",
       "      <th>depr_amort</th>\n",
       "      <th>capex</th>\n",
       "      <th>ppe_net</th>\n",
       "      <th>ebitda</th>\n",
       "      <th>ebit</th>\n",
       "      <th>nopat</th>\n",
       "    </tr>\n",
       "  </thead>\n",
       "  <tbody>\n",
       "    <tr>\n",
       "      <th>21</th>\n",
       "      <td>2.998227e+09</td>\n",
       "      <td>1.864819e+09</td>\n",
       "      <td>4.802648e+08</td>\n",
       "      <td>2.770568e+08</td>\n",
       "      <td>8.377999e+08</td>\n",
       "      <td>4.778743e+09</td>\n",
       "      <td>6.531437e+08</td>\n",
       "      <td>3.760869e+08</td>\n",
       "      <td>2.971086e+08</td>\n",
       "    </tr>\n",
       "    <tr>\n",
       "      <th>22</th>\n",
       "      <td>2.998227e+09</td>\n",
       "      <td>1.864819e+09</td>\n",
       "      <td>4.802648e+08</td>\n",
       "      <td>3.138889e+08</td>\n",
       "      <td>9.491775e+08</td>\n",
       "      <td>5.414032e+09</td>\n",
       "      <td>6.531437e+08</td>\n",
       "      <td>3.392548e+08</td>\n",
       "      <td>2.680113e+08</td>\n",
       "    </tr>\n",
       "    <tr>\n",
       "      <th>23</th>\n",
       "      <td>4.195227e+09</td>\n",
       "      <td>2.609322e+09</td>\n",
       "      <td>6.720037e+08</td>\n",
       "      <td>3.556174e+08</td>\n",
       "      <td>1.075362e+09</td>\n",
       "      <td>6.133776e+09</td>\n",
       "      <td>9.139021e+08</td>\n",
       "      <td>5.582847e+08</td>\n",
       "      <td>4.410449e+08</td>\n",
       "    </tr>\n",
       "    <tr>\n",
       "      <th>24</th>\n",
       "      <td>4.819227e+09</td>\n",
       "      <td>2.997433e+09</td>\n",
       "      <td>7.719578e+08</td>\n",
       "      <td>4.028934e+08</td>\n",
       "      <td>1.218321e+09</td>\n",
       "      <td>6.949203e+09</td>\n",
       "      <td>1.049836e+09</td>\n",
       "      <td>6.469429e+08</td>\n",
       "      <td>5.110849e+08</td>\n",
       "    </tr>\n",
       "    <tr>\n",
       "      <th>25</th>\n",
       "      <td>4.801227e+09</td>\n",
       "      <td>2.986238e+09</td>\n",
       "      <td>7.690745e+08</td>\n",
       "      <td>4.564542e+08</td>\n",
       "      <td>1.380285e+09</td>\n",
       "      <td>7.873034e+09</td>\n",
       "      <td>1.045915e+09</td>\n",
       "      <td>5.894609e+08</td>\n",
       "      <td>4.656741e+08</td>\n",
       "    </tr>\n",
       "  </tbody>\n",
       "</table>\n",
       "</div>"
      ],
      "text/plain": [
       "             rev     cost_sale  sale_gen_adm    depr_amort         capex  \\\n",
       "21  2.998227e+09  1.864819e+09  4.802648e+08  2.770568e+08  8.377999e+08   \n",
       "22  2.998227e+09  1.864819e+09  4.802648e+08  3.138889e+08  9.491775e+08   \n",
       "23  4.195227e+09  2.609322e+09  6.720037e+08  3.556174e+08  1.075362e+09   \n",
       "24  4.819227e+09  2.997433e+09  7.719578e+08  4.028934e+08  1.218321e+09   \n",
       "25  4.801227e+09  2.986238e+09  7.690745e+08  4.564542e+08  1.380285e+09   \n",
       "\n",
       "         ppe_net        ebitda          ebit         nopat  \n",
       "21  4.778743e+09  6.531437e+08  3.760869e+08  2.971086e+08  \n",
       "22  5.414032e+09  6.531437e+08  3.392548e+08  2.680113e+08  \n",
       "23  6.133776e+09  9.139021e+08  5.582847e+08  4.410449e+08  \n",
       "24  6.949203e+09  1.049836e+09  6.469429e+08  5.110849e+08  \n",
       "25  7.873034e+09  1.045915e+09  5.894609e+08  4.656741e+08  "
      ]
     },
     "execution_count": 37,
     "metadata": {},
     "output_type": "execute_result"
    }
   ],
   "source": [
    "prediction = calculate_ebitda_ebit_nopat(prediction, eff_tax_rate)\n",
    "prediction.head()"
   ]
  },
  {
   "cell_type": "markdown",
   "metadata": {},
   "source": [
    "## 7. Function to plot Prediction vs Historical data\n",
    "\n",
    "See at the functions..."
   ]
  },
  {
   "cell_type": "markdown",
   "metadata": {},
   "source": [
    "## 8. Calculate Net Working Capital\n",
    "\n",
    "To get this we have to forecast the current assets and liabilities.\n",
    "I will use ratios to predict them:\n",
    "- Days Sales Outstanding (dso) --> (Account recivable / Revenue) * 360\n",
    "- Days Inventory Outstanding (dio) --> (Inventory / Cost of General Sale) * 360\n",
    "- Other current assets per revenue (oca_rev) --> Other current assets / revenue\n",
    "- Current liabilities per revenue (tcl_rec) --> (Total current liabilities - current debt) / revenue"
   ]
  },
  {
   "cell_type": "code",
   "execution_count": 38,
   "metadata": {},
   "outputs": [
    {
     "data": {
      "image/png": "[encoded data removed]",
      "text/plain": [
       "<Figure size 640x480 with 1 Axes>"
      ]
     },
     "metadata": {},
     "output_type": "display_data"
    },
    {
     "name": "stdout",
     "output_type": "stream",
     "text": [
      "DSO: 243.83044427851678\n"
     ]
    },
    {
     "data": {
      "image/png": "[encoded data removed]",
      "text/plain": [
       "<Figure size 640x480 with 1 Axes>"
      ]
     },
     "metadata": {},
     "output_type": "display_data"
    },
    {
     "name": "stdout",
     "output_type": "stream",
     "text": [
      "DIO: 527.1450630223858\n"
     ]
    },
    {
     "data": {
      "image/png": "[encoded data removed]",
      "text/plain": [
       "<Figure size 640x480 with 1 Axes>"
      ]
     },
     "metadata": {},
     "output_type": "display_data"
    },
    {
     "name": "stdout",
     "output_type": "stream",
     "text": [
      "DPO: 247.42565932199523\n"
     ]
    },
    {
     "data": {
      "image/png": "[encoded data removed]",
      "text/plain": [
       "<Figure size 640x480 with 1 Axes>"
      ]
     },
     "metadata": {},
     "output_type": "display_data"
    },
    {
     "name": "stdout",
     "output_type": "stream",
     "text": [
      "Sum Other Current Assets: 0.43253489206352264\n"
     ]
    },
    {
     "data": {
      "image/png": "[encoded data removed]",
      "text/plain": [
       "<Figure size 640x480 with 1 Axes>"
      ]
     },
     "metadata": {},
     "output_type": "display_data"
    },
    {
     "name": "stdout",
     "output_type": "stream",
     "text": [
      "Sum Other Current Liabilities per Rec 0.5348013051842754\n"
     ]
    }
   ],
   "source": [
    "nwc_ratios = calculate_nwc_ratios(data_filt)"
   ]
  },
  {
   "cell_type": "code",
   "execution_count": 39,
   "metadata": {},
   "outputs": [
    {
     "data": {
      "text/html": [
       "<div>\n",
       "<style scoped>\n",
       "    .dataframe tbody tr th:only-of-type {\n",
       "        vertical-align: middle;\n",
       "    }\n",
       "\n",
       "    .dataframe tbody tr th {\n",
       "        vertical-align: top;\n",
       "    }\n",
       "\n",
       "    .dataframe thead th {\n",
       "        text-align: right;\n",
       "    }\n",
       "</style>\n",
       "<table border=\"1\" class=\"dataframe\">\n",
       "  <thead>\n",
       "    <tr style=\"text-align: right;\">\n",
       "      <th></th>\n",
       "      <th>rev</th>\n",
       "      <th>cost_sale</th>\n",
       "      <th>sale_gen_adm</th>\n",
       "      <th>depr_amort</th>\n",
       "      <th>capex</th>\n",
       "      <th>ppe_net</th>\n",
       "      <th>ebitda</th>\n",
       "      <th>ebit</th>\n",
       "      <th>nopat</th>\n",
       "      <th>acc_rec</th>\n",
       "      <th>invent</th>\n",
       "      <th>acc_pay</th>\n",
       "      <th>other_curr_ass_lesscash</th>\n",
       "      <th>tot_curr_liab_lessdebt</th>\n",
       "      <th>nwc</th>\n",
       "    </tr>\n",
       "  </thead>\n",
       "  <tbody>\n",
       "    <tr>\n",
       "      <th>21</th>\n",
       "      <td>2.998227e+09</td>\n",
       "      <td>1.864819e+09</td>\n",
       "      <td>4.802648e+08</td>\n",
       "      <td>2.770568e+08</td>\n",
       "      <td>8.377999e+08</td>\n",
       "      <td>4.778743e+09</td>\n",
       "      <td>6.531437e+08</td>\n",
       "      <td>3.760869e+08</td>\n",
       "      <td>2.971086e+08</td>\n",
       "      <td>2.030720e+09</td>\n",
       "      <td>2.730639e+09</td>\n",
       "      <td>1.281678e+09</td>\n",
       "      <td>6.058197e+09</td>\n",
       "      <td>2.885134e+09</td>\n",
       "      <td>3.173063e+09</td>\n",
       "    </tr>\n",
       "    <tr>\n",
       "      <th>22</th>\n",
       "      <td>2.998227e+09</td>\n",
       "      <td>1.864819e+09</td>\n",
       "      <td>4.802648e+08</td>\n",
       "      <td>3.138889e+08</td>\n",
       "      <td>9.491775e+08</td>\n",
       "      <td>5.414032e+09</td>\n",
       "      <td>6.531437e+08</td>\n",
       "      <td>3.392548e+08</td>\n",
       "      <td>2.680113e+08</td>\n",
       "      <td>2.030720e+09</td>\n",
       "      <td>2.730639e+09</td>\n",
       "      <td>1.281678e+09</td>\n",
       "      <td>6.058197e+09</td>\n",
       "      <td>2.885134e+09</td>\n",
       "      <td>3.173063e+09</td>\n",
       "    </tr>\n",
       "    <tr>\n",
       "      <th>23</th>\n",
       "      <td>4.195227e+09</td>\n",
       "      <td>2.609322e+09</td>\n",
       "      <td>6.720037e+08</td>\n",
       "      <td>3.556174e+08</td>\n",
       "      <td>1.075362e+09</td>\n",
       "      <td>6.133776e+09</td>\n",
       "      <td>9.139021e+08</td>\n",
       "      <td>5.582847e+08</td>\n",
       "      <td>4.410449e+08</td>\n",
       "      <td>2.841456e+09</td>\n",
       "      <td>3.820808e+09</td>\n",
       "      <td>1.793370e+09</td>\n",
       "      <td>8.476846e+09</td>\n",
       "      <td>4.036983e+09</td>\n",
       "      <td>4.439864e+09</td>\n",
       "    </tr>\n",
       "    <tr>\n",
       "      <th>24</th>\n",
       "      <td>4.819227e+09</td>\n",
       "      <td>2.997433e+09</td>\n",
       "      <td>7.719578e+08</td>\n",
       "      <td>4.028934e+08</td>\n",
       "      <td>1.218321e+09</td>\n",
       "      <td>6.949203e+09</td>\n",
       "      <td>1.049836e+09</td>\n",
       "      <td>6.469429e+08</td>\n",
       "      <td>5.110849e+08</td>\n",
       "      <td>3.264095e+09</td>\n",
       "      <td>4.389117e+09</td>\n",
       "      <td>2.060116e+09</td>\n",
       "      <td>9.737696e+09</td>\n",
       "      <td>4.637445e+09</td>\n",
       "      <td>5.100251e+09</td>\n",
       "    </tr>\n",
       "    <tr>\n",
       "      <th>25</th>\n",
       "      <td>4.801227e+09</td>\n",
       "      <td>2.986238e+09</td>\n",
       "      <td>7.690745e+08</td>\n",
       "      <td>4.564542e+08</td>\n",
       "      <td>1.380285e+09</td>\n",
       "      <td>7.873034e+09</td>\n",
       "      <td>1.045915e+09</td>\n",
       "      <td>5.894609e+08</td>\n",
       "      <td>4.656741e+08</td>\n",
       "      <td>3.251904e+09</td>\n",
       "      <td>4.372724e+09</td>\n",
       "      <td>2.052422e+09</td>\n",
       "      <td>9.701326e+09</td>\n",
       "      <td>4.620124e+09</td>\n",
       "      <td>5.081201e+09</td>\n",
       "    </tr>\n",
       "  </tbody>\n",
       "</table>\n",
       "</div>"
      ],
      "text/plain": [
       "             rev     cost_sale  sale_gen_adm    depr_amort         capex  \\\n",
       "21  2.998227e+09  1.864819e+09  4.802648e+08  2.770568e+08  8.377999e+08   \n",
       "22  2.998227e+09  1.864819e+09  4.802648e+08  3.138889e+08  9.491775e+08   \n",
       "23  4.195227e+09  2.609322e+09  6.720037e+08  3.556174e+08  1.075362e+09   \n",
       "24  4.819227e+09  2.997433e+09  7.719578e+08  4.028934e+08  1.218321e+09   \n",
       "25  4.801227e+09  2.986238e+09  7.690745e+08  4.564542e+08  1.380285e+09   \n",
       "\n",
       "         ppe_net        ebitda          ebit         nopat       acc_rec  \\\n",
       "21  4.778743e+09  6.531437e+08  3.760869e+08  2.971086e+08  2.030720e+09   \n",
       "22  5.414032e+09  6.531437e+08  3.392548e+08  2.680113e+08  2.030720e+09   \n",
       "23  6.133776e+09  9.139021e+08  5.582847e+08  4.410449e+08  2.841456e+09   \n",
       "24  6.949203e+09  1.049836e+09  6.469429e+08  5.110849e+08  3.264095e+09   \n",
       "25  7.873034e+09  1.045915e+09  5.894609e+08  4.656741e+08  3.251904e+09   \n",
       "\n",
       "          invent       acc_pay  other_curr_ass_lesscash  \\\n",
       "21  2.730639e+09  1.281678e+09             6.058197e+09   \n",
       "22  2.730639e+09  1.281678e+09             6.058197e+09   \n",
       "23  3.820808e+09  1.793370e+09             8.476846e+09   \n",
       "24  4.389117e+09  2.060116e+09             9.737696e+09   \n",
       "25  4.372724e+09  2.052422e+09             9.701326e+09   \n",
       "\n",
       "    tot_curr_liab_lessdebt           nwc  \n",
       "21            2.885134e+09  3.173063e+09  \n",
       "22            2.885134e+09  3.173063e+09  \n",
       "23            4.036983e+09  4.439864e+09  \n",
       "24            4.637445e+09  5.100251e+09  \n",
       "25            4.620124e+09  5.081201e+09  "
      ]
     },
     "execution_count": 39,
     "metadata": {},
     "output_type": "execute_result"
    }
   ],
   "source": [
    "prediction = predict_curr_ass_liab(prediction, nwc_ratios)\n",
    "prediction.head()"
   ]
  },
  {
   "cell_type": "markdown",
   "metadata": {},
   "source": [
    "## 9. Change in NWC"
   ]
  },
  {
   "cell_type": "code",
   "execution_count": 40,
   "metadata": {},
   "outputs": [],
   "source": [
    "prediction = calc_change_nwc(data_filt, prediction)\n",
    "data_filt = calc_change_nwc(data_filt, data_filt)"
   ]
  },
  {
   "cell_type": "code",
   "execution_count": 41,
   "metadata": {},
   "outputs": [],
   "source": [
    "prediction = calc_unleveared_fcf(prediction)\n",
    "data_filt = calc_unleveared_fcf(data_filt)"
   ]
  },
  {
   "cell_type": "markdown",
   "metadata": {},
   "source": [
    "## 10. Calculate Weighted Average Cost of Capital (WACC)"
   ]
  },
  {
   "cell_type": "code",
   "execution_count": 42,
   "metadata": {},
   "outputs": [
    {
     "name": "stdout",
     "output_type": "stream",
     "text": [
      "Estimated WACC value: 0.06937930164678752\n"
     ]
    }
   ],
   "source": [
    "wacc = calculate_wacc(\n",
    "    df=data_filt,\n",
    "    share_price=share_price,\n",
    "    eff_tax_rate=eff_tax_rate,\n",
    "    us_bond_10_yr=us_bond_10_yr,\n",
    "    equity_risk_premium=equity_risk_premium,\n",
    "    beta=beta)\n",
    "\n",
    "print('Estimated WACC value:', wacc)"
   ]
  },
  {
   "cell_type": "markdown",
   "metadata": {},
   "source": [
    "## 11. Present value of FCF, Terminal Value & present value of TV"
   ]
  },
  {
   "cell_type": "code",
   "execution_count": 43,
   "metadata": {},
   "outputs": [
    {
     "data": {
      "text/html": [
       "<div>\n",
       "<style scoped>\n",
       "    .dataframe tbody tr th:only-of-type {\n",
       "        vertical-align: middle;\n",
       "    }\n",
       "\n",
       "    .dataframe tbody tr th {\n",
       "        vertical-align: top;\n",
       "    }\n",
       "\n",
       "    .dataframe thead th {\n",
       "        text-align: right;\n",
       "    }\n",
       "</style>\n",
       "<table border=\"1\" class=\"dataframe\">\n",
       "  <thead>\n",
       "    <tr style=\"text-align: right;\">\n",
       "      <th></th>\n",
       "      <th>rev</th>\n",
       "      <th>cost_sale</th>\n",
       "      <th>sale_gen_adm</th>\n",
       "      <th>depr_amort</th>\n",
       "      <th>capex</th>\n",
       "      <th>ppe_net</th>\n",
       "      <th>ebitda</th>\n",
       "      <th>ebit</th>\n",
       "      <th>nopat</th>\n",
       "      <th>acc_rec</th>\n",
       "      <th>invent</th>\n",
       "      <th>acc_pay</th>\n",
       "      <th>other_curr_ass_lesscash</th>\n",
       "      <th>tot_curr_liab_lessdebt</th>\n",
       "      <th>nwc</th>\n",
       "      <th>c_nwc</th>\n",
       "      <th>unlev_fcf</th>\n",
       "      <th>pres_val_fcf</th>\n",
       "    </tr>\n",
       "  </thead>\n",
       "  <tbody>\n",
       "    <tr>\n",
       "      <th>37</th>\n",
       "      <td>6.531455e+09</td>\n",
       "      <td>4.062394e+09</td>\n",
       "      <td>1.046227e+09</td>\n",
       "      <td>2.041186e+09</td>\n",
       "      <td>6.172401e+09</td>\n",
       "      <td>3.520688e+10</td>\n",
       "      <td>1.422834e+09</td>\n",
       "      <td>-6.183526e+08</td>\n",
       "      <td>-4.884986e+08</td>\n",
       "      <td>4.423799e+09</td>\n",
       "      <td>5.948530e+09</td>\n",
       "      <td>2.792057e+09</td>\n",
       "      <td>1.319741e+10</td>\n",
       "      <td>6.285087e+09</td>\n",
       "      <td>6.912323e+09</td>\n",
       "      <td>-1.904965e+07</td>\n",
       "      <td>-4.600664e+09</td>\n",
       "      <td>-2.473726e+09</td>\n",
       "    </tr>\n",
       "    <tr>\n",
       "      <th>38</th>\n",
       "      <td>6.531455e+09</td>\n",
       "      <td>4.062394e+09</td>\n",
       "      <td>1.046227e+09</td>\n",
       "      <td>2.312542e+09</td>\n",
       "      <td>6.992963e+09</td>\n",
       "      <td>3.988730e+10</td>\n",
       "      <td>1.422834e+09</td>\n",
       "      <td>-8.897088e+08</td>\n",
       "      <td>-7.028700e+08</td>\n",
       "      <td>4.423799e+09</td>\n",
       "      <td>5.948531e+09</td>\n",
       "      <td>2.792057e+09</td>\n",
       "      <td>1.319741e+10</td>\n",
       "      <td>6.285088e+09</td>\n",
       "      <td>6.912324e+09</td>\n",
       "      <td>5.955682e+02</td>\n",
       "      <td>-5.383291e+09</td>\n",
       "      <td>-2.846401e+09</td>\n",
       "    </tr>\n",
       "    <tr>\n",
       "      <th>39</th>\n",
       "      <td>6.686454e+09</td>\n",
       "      <td>4.158800e+09</td>\n",
       "      <td>1.071056e+09</td>\n",
       "      <td>2.619973e+09</td>\n",
       "      <td>7.922612e+09</td>\n",
       "      <td>4.518994e+10</td>\n",
       "      <td>1.456599e+09</td>\n",
       "      <td>-1.163374e+09</td>\n",
       "      <td>-9.190654e+08</td>\n",
       "      <td>4.528781e+09</td>\n",
       "      <td>6.089696e+09</td>\n",
       "      <td>2.858316e+09</td>\n",
       "      <td>1.351060e+10</td>\n",
       "      <td>6.434241e+09</td>\n",
       "      <td>7.076362e+09</td>\n",
       "      <td>1.640377e+08</td>\n",
       "      <td>-6.385742e+09</td>\n",
       "      <td>-3.320294e+09</td>\n",
       "    </tr>\n",
       "    <tr>\n",
       "      <th>40</th>\n",
       "      <td>6.767455e+09</td>\n",
       "      <td>4.209180e+09</td>\n",
       "      <td>1.084031e+09</td>\n",
       "      <td>2.968274e+09</td>\n",
       "      <td>8.975848e+09</td>\n",
       "      <td>5.119751e+10</td>\n",
       "      <td>1.474245e+09</td>\n",
       "      <td>-1.494029e+09</td>\n",
       "      <td>-1.180283e+09</td>\n",
       "      <td>4.583643e+09</td>\n",
       "      <td>6.163468e+09</td>\n",
       "      <td>2.892942e+09</td>\n",
       "      <td>1.367427e+10</td>\n",
       "      <td>6.512186e+09</td>\n",
       "      <td>7.162086e+09</td>\n",
       "      <td>8.572413e+07</td>\n",
       "      <td>-7.273581e+09</td>\n",
       "      <td>-3.719037e+09</td>\n",
       "    </tr>\n",
       "    <tr>\n",
       "      <th>41</th>\n",
       "      <td>6.523455e+09</td>\n",
       "      <td>4.057418e+09</td>\n",
       "      <td>1.044946e+09</td>\n",
       "      <td>3.362878e+09</td>\n",
       "      <td>1.016910e+10</td>\n",
       "      <td>5.800373e+10</td>\n",
       "      <td>1.421091e+09</td>\n",
       "      <td>-1.941787e+09</td>\n",
       "      <td>-1.534012e+09</td>\n",
       "      <td>4.418380e+09</td>\n",
       "      <td>5.941244e+09</td>\n",
       "      <td>2.788637e+09</td>\n",
       "      <td>1.318125e+10</td>\n",
       "      <td>6.277389e+09</td>\n",
       "      <td>6.903857e+09</td>\n",
       "      <td>-2.582289e+08</td>\n",
       "      <td>-8.082007e+09</td>\n",
       "      <td>-4.063671e+09</td>\n",
       "    </tr>\n",
       "  </tbody>\n",
       "</table>\n",
       "</div>"
      ],
      "text/plain": [
       "             rev     cost_sale  sale_gen_adm    depr_amort         capex  \\\n",
       "37  6.531455e+09  4.062394e+09  1.046227e+09  2.041186e+09  6.172401e+09   \n",
       "38  6.531455e+09  4.062394e+09  1.046227e+09  2.312542e+09  6.992963e+09   \n",
       "39  6.686454e+09  4.158800e+09  1.071056e+09  2.619973e+09  7.922612e+09   \n",
       "40  6.767455e+09  4.209180e+09  1.084031e+09  2.968274e+09  8.975848e+09   \n",
       "41  6.523455e+09  4.057418e+09  1.044946e+09  3.362878e+09  1.016910e+10   \n",
       "\n",
       "         ppe_net        ebitda          ebit         nopat       acc_rec  \\\n",
       "37  3.520688e+10  1.422834e+09 -6.183526e+08 -4.884986e+08  4.423799e+09   \n",
       "38  3.988730e+10  1.422834e+09 -8.897088e+08 -7.028700e+08  4.423799e+09   \n",
       "39  4.518994e+10  1.456599e+09 -1.163374e+09 -9.190654e+08  4.528781e+09   \n",
       "40  5.119751e+10  1.474245e+09 -1.494029e+09 -1.180283e+09  4.583643e+09   \n",
       "41  5.800373e+10  1.421091e+09 -1.941787e+09 -1.534012e+09  4.418380e+09   \n",
       "\n",
       "          invent       acc_pay  other_curr_ass_lesscash  \\\n",
       "37  5.948530e+09  2.792057e+09             1.319741e+10   \n",
       "38  5.948531e+09  2.792057e+09             1.319741e+10   \n",
       "39  6.089696e+09  2.858316e+09             1.351060e+10   \n",
       "40  6.163468e+09  2.892942e+09             1.367427e+10   \n",
       "41  5.941244e+09  2.788637e+09             1.318125e+10   \n",
       "\n",
       "    tot_curr_liab_lessdebt           nwc         c_nwc     unlev_fcf  \\\n",
       "37            6.285087e+09  6.912323e+09 -1.904965e+07 -4.600664e+09   \n",
       "38            6.285088e+09  6.912324e+09  5.955682e+02 -5.383291e+09   \n",
       "39            6.434241e+09  7.076362e+09  1.640377e+08 -6.385742e+09   \n",
       "40            6.512186e+09  7.162086e+09  8.572413e+07 -7.273581e+09   \n",
       "41            6.277389e+09  6.903857e+09 -2.582289e+08 -8.082007e+09   \n",
       "\n",
       "    pres_val_fcf  \n",
       "37 -2.473726e+09  \n",
       "38 -2.846401e+09  \n",
       "39 -3.320294e+09  \n",
       "40 -3.719037e+09  \n",
       "41 -4.063671e+09  "
      ]
     },
     "execution_count": 43,
     "metadata": {},
     "output_type": "execute_result"
    }
   ],
   "source": [
    "prediction = calculate_present_value_fcf(prediction, wacc=wacc, report=form)\n",
    "prediction.tail()"
   ]
  },
  {
   "cell_type": "markdown",
   "metadata": {},
   "source": [
    "## 12. Terminal Value and present value of TV\n",
    "\n",
    "I use the perpetuity growth model"
   ]
  },
  {
   "cell_type": "code",
   "execution_count": 44,
   "metadata": {},
   "outputs": [
    {
     "data": {
      "text/plain": [
       "-156090066884.24817"
      ]
     },
     "execution_count": 44,
     "metadata": {},
     "output_type": "execute_result"
    }
   ],
   "source": [
    "tv, pres_value_tv = calculate_tv_prestv_enterp_val(prediction, industry_growth_rate, wacc)\n",
    "pres_value_tv"
   ]
  },
  {
   "cell_type": "code",
   "execution_count": 45,
   "metadata": {},
   "outputs": [
    {
     "name": "stdout",
     "output_type": "stream",
     "text": [
      "-189319450655.39398 -199092450655.39398\n"
     ]
    }
   ],
   "source": [
    "enterp_val, equity_value = calc_enterp_company_value(data_filt, prediction, pres_value_tv)"
   ]
  },
  {
   "cell_type": "code",
   "execution_count": 46,
   "metadata": {},
   "outputs": [
    {
     "name": "stdout",
     "output_type": "stream",
     "text": [
      "Current adjusted share price: -780.7547084525254\n"
     ]
    }
   ],
   "source": [
    "# adjusted with debt, cash, equity in minor interest\n",
    "fcst_share_price_adjusted = implied_share_price(equity_value, data_filt)\n",
    "print('Current adjusted share price:', fcst_share_price_adjusted)"
   ]
  },
  {
   "cell_type": "code",
   "execution_count": 47,
   "metadata": {},
   "outputs": [
    {
     "name": "stdout",
     "output_type": "stream",
     "text": [
      "Current share price (not adjusted): -742.429218256447\n"
     ]
    }
   ],
   "source": [
    "fcst_share_price = implied_share_price(enterp_val, data_filt)\n",
    "print('Current share price (not adjusted):', fcst_share_price)"
   ]
  },
  {
   "cell_type": "code",
   "execution_count": 48,
   "metadata": {},
   "outputs": [],
   "source": [
    "#plot_hist_pred(data_filt, prediction)"
   ]
  }
 ],
 "metadata": {
  "kernelspec": {
   "display_name": ".venv",
   "language": "python",
   "name": "python3"
  },
  "language_info": {
   "codemirror_mode": {
    "name": "ipython",
    "version": 3
   },
   "file_extension": ".py",
   "mimetype": "text/x-python",
   "name": "python",
   "nbconvert_exporter": "python",
   "pygments_lexer": "ipython3",
   "version": "3.11.3"
  },
  "orig_nbformat": 4
 },
 "nbformat": 4,
 "nbformat_minor": 2
}
