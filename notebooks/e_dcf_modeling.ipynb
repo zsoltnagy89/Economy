{
 "cells": [
  {
   "cell_type": "markdown",
   "metadata": {},
   "source": [
    "# Calculate the TSN intrinsic value"
   ]
  },
  {
   "cell_type": "code",
   "execution_count": 49,
   "metadata": {},
   "outputs": [],
   "source": [
    "import pandas as pd\n",
    "import datetime\n",
    "import numpy as np\n",
    "import matplotlib.pyplot as plt\n",
    "from ipynb.fs.full.c_Stock_visual_QC import read_data_from_sql          # import function from other .ipynb file\n",
    "pd.options.mode.chained_assignment = None # not to get SettingWithCopyWarning\n",
    "\n",
    "import warnings\n",
    "import statsmodels.api as sm"
   ]
  },
  {
   "cell_type": "markdown",
   "metadata": {},
   "source": [
    "## To Set Vriables please scroll down..."
   ]
  },
  {
   "cell_type": "markdown",
   "metadata": {},
   "source": [
    "## Function to use"
   ]
  },
  {
   "cell_type": "code",
   "execution_count": 50,
   "metadata": {},
   "outputs": [],
   "source": [
    "def calculate_missing_columns(df):\n",
    "    # derived columns\n",
    "    df['tot_liab'] = df['tot_ass'] - df['tot_equity']\n",
    "    df['inc_b_tax'] = df['net_inc'] + df['inc_tax_exp']\n",
    "    df['ebitda'] = df['rev'] - df['cost_sale'] - df['sale_gen_adm']\n",
    "    df['ebit'] = df['ebitda'] - df['depr_amort']\n",
    "    df['nopat'] = df['ebit'] - df['inc_tax_exp']\n",
    "    df['other_curr_ass_lesscash'] = df['acc_rec'] + df['invent'] + df['other_curr_ass']\n",
    "    df['tot_curr_liab_lessdebt'] = df['tot_curr_liab'] - df['short_debt']\n",
    "    df['nwc'] = df['other_curr_ass_lesscash'] - df['tot_curr_liab_lessdebt']\n",
    "    # capex calculation\n",
    "    capex = []\n",
    "    for index in range(len(df)):\n",
    "        if index > 0:\n",
    "            ppe_change = df['ppe_net'].iloc[index] - df['ppe_net'].iloc[index-1]\n",
    "            depr_amort = df['depr_amort'].iloc[index]\n",
    "            capex.append(ppe_change + depr_amort)\n",
    "        else:\n",
    "            capex.append(np.nan)\n",
    "    df.loc[:, 'capex'] = capex\n",
    "\n",
    "    return df"
   ]
  },
  {
   "cell_type": "code",
   "execution_count": 51,
   "metadata": {},
   "outputs": [],
   "source": [
    "# evaluate an ARIMA model for a given order (p,d,q)\n",
    "def evaluate_arima_model(X, arima_order):\n",
    "    from statsmodels.tsa.arima.model import ARIMA\n",
    "    from sklearn.metrics import mean_squared_error\n",
    "    # prepare training dataset\n",
    "    train_size = int(len(X) * 0.66)\n",
    "    train, test = X[0:train_size], X[train_size:]\n",
    "    history = [x for x in train]\n",
    "    # make predictions\n",
    "    predictions = list()\n",
    "    for t in range(len(test)):\n",
    "        model = ARIMA(history, order=arima_order)\n",
    "        model_fit = model.fit()\n",
    "        yhat = model_fit.forecast()[0]\n",
    "        predictions.append(yhat)\n",
    "        history.append(test[t])\n",
    "    # calculate out of sample error\n",
    "    error = mean_squared_error(test, predictions)\n",
    "    print(error)\n",
    "    return error"
   ]
  },
  {
   "cell_type": "code",
   "execution_count": 52,
   "metadata": {},
   "outputs": [],
   "source": [
    "# evaluate combinations of p, d and q values for an ARIMA model\n",
    "def evaluate_models(dataset, p_values, d_values, q_values):\n",
    "    dataset = dataset.astype('float32')\n",
    "    best_score, best_cfg = float(\"inf\"), None\n",
    "    for p in p_values:\n",
    "        for d in d_values:\n",
    "            for q in q_values:\n",
    "                order = (p,d,q)\n",
    "                try:\n",
    "                    mse = evaluate_arima_model(dataset, order)\n",
    "                    if mse < best_score:\n",
    "                        best_score, best_cfg = mse, order\n",
    "                    print('ARIMA%s MSE=%.3f' % (order, mse))\n",
    "                except:\n",
    "                    continue\n",
    "    print('Best ARIMA%s MSE=%.3f' % (best_cfg, best_score))\n",
    "    return best_cfg"
   ]
  },
  {
   "cell_type": "code",
   "execution_count": 53,
   "metadata": {},
   "outputs": [],
   "source": [
    "# create a function to calculate ratios\n",
    "def calculate_is_margins(df):\n",
    "    is_incomes = ['cost_sale', 'sale_gen_adm']\n",
    "    calc_margins = dict()\n",
    "    # plot and calculate ratios\n",
    "    for income in is_incomes:\n",
    "        if income != 'inc_tax_exp':\n",
    "            div = 'rev'\n",
    "        else:\n",
    "            div = 'inc_b_tax'\n",
    "\n",
    "        fig, ax1 = plt.subplots(figsize=(15, 6))\n",
    "\n",
    "        ax1.plot(df['end'], df[income]/df[div], label=income.replace('_', ' ').upper())\n",
    "        ax1.axhline(y=(df[income]/df[div]).mean(), color='r', label='Average value')\n",
    "        \n",
    "        ax1.set_xlabel('Date')\n",
    "        ax1.set_ylabel(income.replace('_', ' ').upper())\n",
    "        \n",
    "        plt.legend()\n",
    "        plt.show()\n",
    "\n",
    "        calc_margins[income+'_margin'] = (df[income]/df[div]).mean()\n",
    "\n",
    "        print(str(income)+' is divided by the revenue.')\n",
    "        print('Average value: '+str((df[income]/df[div]).mean()))\n",
    "\n",
    "    return calc_margins"
   ]
  },
  {
   "cell_type": "code",
   "execution_count": 54,
   "metadata": {},
   "outputs": [],
   "source": [
    "def predict_cos_sale_gen_adm(input_df, is_ratio_dictionary):\n",
    "    # predict Cost Of Sales & Sale, General Administration from the Revenue\n",
    "    for column in ['cost_sale', 'sale_gen_adm']:\n",
    "        input_df[column] = input_df['rev'] * is_ratio_dictionary[column+'_margin']\n",
    "\n",
    "    return input_df"
   ]
  },
  {
   "cell_type": "code",
   "execution_count": 55,
   "metadata": {},
   "outputs": [],
   "source": [
    "def fixed_asset_ratios(df):\n",
    "    # calculate PPE start & CAPEX\n",
    "    df['ppe_net_start'] = [df['ppe_net'].values[i-1] if i > 0 else np.nan for i in range(len(df['ppe_net'].values))]\n",
    "    df['capex'] = df['ppe_net'] - df['ppe_net_start'] + df['depr_amort']\n",
    "    \n",
    "    #calculate ratio\n",
    "    fixed_asset_ratios = dict()\n",
    "    # D&A ratio\n",
    "    for column in ['depr_amort', 'capex']:\n",
    "        ratio = df[column]/df['ppe_net_start']\n",
    "        ratio.hist()\n",
    "        plt.show()\n",
    "        fixed_asset_ratios[column+'_ratio'] = ratio.mean()\n",
    "        print('Average', column, 'value is', fixed_asset_ratios[column+'_ratio'])\n",
    "    return fixed_asset_ratios"
   ]
  },
  {
   "cell_type": "code",
   "execution_count": 56,
   "metadata": {},
   "outputs": [],
   "source": [
    "def predict_fixed_assets(raw_df, prediction_df, fxd_ass_ratios):\n",
    "    # get the last measured PPE as start in case of prediction\n",
    "    ppe_start_pred = [raw_df['ppe_net'].iloc[-1]]\n",
    "    depr_amort_pred = []\n",
    "    capex_pred = []\n",
    "    ppe_net = []\n",
    "    # calculate prediction\n",
    "    for index in range(len(prediction_df)):\n",
    "        depr_amort_pred.append(ppe_start_pred[-1] * fxd_ass_ratios['depr_amort_ratio'])\n",
    "        capex_pred.append(ppe_start_pred[-1] * fxd_ass_ratios['capex_ratio'])\n",
    "        ppe_net.append(ppe_start_pred[-1] - depr_amort_pred[-1] + capex_pred[-1])\n",
    "        # add the last PPE as starting to the PPE start\n",
    "        ppe_start_pred.append(ppe_net[-1])\n",
    "    \n",
    "    prediction_df['depr_amort'] = depr_amort_pred\n",
    "    prediction_df['capex'] = capex_pred\n",
    "    prediction_df['ppe_net'] = ppe_net\n",
    "\n",
    "    return prediction_df"
   ]
  },
  {
   "cell_type": "code",
   "execution_count": 57,
   "metadata": {},
   "outputs": [],
   "source": [
    "def calc_eff_tax_rate(df):\n",
    "    if df['end'].iloc[-1] > pd.Timestamp('2017-01-01'):\n",
    "        eff_tax_rate = 0.21\n",
    "    else:\n",
    "        eff_tax_rate = (df['inc_tax_exp']/df['ebit']).mean()\n",
    "        # plot\n",
    "        (df['inc_tax_exp']/df['ebit']).hist(range=[0, 1])\n",
    "        plt.show()\n",
    "\n",
    "    print('Effective tax rate is', eff_tax_rate)\n",
    "    return eff_tax_rate"
   ]
  },
  {
   "cell_type": "code",
   "execution_count": 58,
   "metadata": {},
   "outputs": [],
   "source": [
    "def calculate_ebitda_ebit_nopat(prediction_df, eff_tax_rate):\n",
    "    prediction_df['ebitda'] = prediction_df['rev'] - prediction_df['cost_sale'] - prediction_df['sale_gen_adm']\n",
    "    prediction_df['ebit'] = prediction_df['ebitda'] - prediction_df['depr_amort']\n",
    "    prediction_df['nopat'] = prediction_df['ebit'] - (prediction_df['ebit'] * eff_tax_rate)\n",
    "    return prediction_df"
   ]
  },
  {
   "cell_type": "code",
   "execution_count": 59,
   "metadata": {},
   "outputs": [],
   "source": [
    "def plot_hist_pred(hist_df, pred_df):\n",
    "    # reset index\n",
    "    pred_df.index = [i for i in range(len(hist_df), len(hist_df) + len(pred_df))]\n",
    "    \n",
    "    for column in pred_df.columns:\n",
    "        try:\n",
    "            fig, ax1 = plt.subplots(figsize=(15, 6))\n",
    "\n",
    "            ax1.plot(hist_df.index, hist_df[column], color='k', label='Historical data')\n",
    "            ax1.plot(pred_df.index, pred_df[column], color='r', label='Predicted values')\n",
    "\n",
    "            ax1.set_xlabel('Index')\n",
    "            ax1.set_ylabel(column.replace('_', ' ').upper())\n",
    "\n",
    "            plt.legend()\n",
    "            plt.show()\n",
    "        except:\n",
    "            continue"
   ]
  },
  {
   "cell_type": "code",
   "execution_count": 60,
   "metadata": {},
   "outputs": [],
   "source": [
    "def calculate_nwc_ratios(df):\n",
    "    result = dict()\n",
    "    # Days Sales Outstanding (dso)\n",
    "    dso = (df['acc_rec'] / df['rev']) * 360\n",
    "    dso.hist()\n",
    "    plt.show()\n",
    "    result['dso'] = dso.mean()\n",
    "    print('DSO:', result['dso'])\n",
    "\n",
    "    #Days Inventory Out. (dis)\n",
    "    dio = (df['invent'] / df['cost_sale']) * 360\n",
    "    dio.hist()\n",
    "    plt.show()\n",
    "    result['dio'] = dio.mean()\n",
    "    print('DIO:', result['dio'])\n",
    "\n",
    "    #Days Payable Out. (dpo)\n",
    "    dpo = (df['acc_pay'] / df['cost_sale']) * 360\n",
    "    dpo.hist()\n",
    "    plt.show()\n",
    "    result['dpo'] = dpo.mean()\n",
    "    print('DPO:', result['dpo'])\n",
    "\n",
    "\n",
    "    #Sum of Other current assets per revenue --> soca_rev\n",
    "    # calculate the non cach non accoint recivable and inventory total current assets ratio to revenue\n",
    "    soca_rev = (df['tot_curr_ass'] - df['acc_rec'] - df['invent'] - df['cash_cash_eq']) / df['rev']\n",
    "    soca_rev.hist()\n",
    "    plt.show()\n",
    "    result['soca_rev'] = soca_rev.mean()\n",
    "    print('Sum Other Current Assets:', result['soca_rev'])\n",
    "\n",
    "    #Sum of Other current liabilities per revenue --> socl_rev\n",
    "    # calculate the non current debt non account payable total current liabilities ratio to revenue\n",
    "    socl_rev = (df['tot_curr_liab'] - df['short_debt'] - df['acc_pay']) / df['rev']\n",
    "    socl_rev.hist()\n",
    "    plt.show()\n",
    "    result['socl_rev'] = socl_rev.mean()\n",
    "    print('Sum Other Current Liabilities per Rec', result['socl_rev'])\n",
    "    \n",
    "    return result"
   ]
  },
  {
   "cell_type": "code",
   "execution_count": 61,
   "metadata": {},
   "outputs": [],
   "source": [
    "def predict_curr_ass_liab(df_prediction, nwc_ratios):\n",
    "    # calculate assets, liabilities, and net working capital from NWC ratio\n",
    "    df_prediction['acc_rec'] = (df_prediction['rev'] * nwc_ratios['dso']) / 360\n",
    "    df_prediction['invent'] = (df_prediction['cost_sale'] * nwc_ratios['dio']) / 360\n",
    "    df_prediction['acc_pay'] = (df_prediction['cost_sale'] * nwc_ratios['dpo']) / 360\n",
    "    \n",
    "    df_prediction['other_curr_ass_lesscash'] = df_prediction['acc_rec'] + df_prediction['invent'] + (df_prediction['rev'] * nwc_ratios['soca_rev'])\n",
    "    df_prediction['tot_curr_liab_lessdebt'] = df_prediction['acc_pay'] + (df_prediction['rev'] * nwc_ratios['socl_rev'])\n",
    "    df_prediction['nwc'] = df_prediction['other_curr_ass_lesscash'] - df_prediction['tot_curr_liab_lessdebt']\n",
    "    return df_prediction"
   ]
  },
  {
   "cell_type": "code",
   "execution_count": 62,
   "metadata": {},
   "outputs": [],
   "source": [
    "def calc_change_nwc(df_hist, df_predict):\n",
    "    c_nwc = []\n",
    "    # check the 2 DataFrame is equal & calculate NWC for measured data\n",
    "    if df_hist.equals(df_predict):\n",
    "        for index in range(len(df_predict)):\n",
    "            if index > 0:\n",
    "                c_nwc.append(df_predict['nwc'].iloc[index] - df_predict['nwc'].iloc[index-1])\n",
    "            else:\n",
    "                c_nwc.append(np.nan)\n",
    "    # calculate NWC for future data\n",
    "    else:\n",
    "        for index in range(len(df_predict)):\n",
    "            if index > 0:\n",
    "                c_nwc.append(df_predict['nwc'].iloc[index] - df_predict['nwc'].iloc[index-1])\n",
    "            else:\n",
    "                c_nwc.append(df_predict['nwc'].iloc[index] - df_hist['nwc'].iloc[-1])\n",
    "    \n",
    "    df_predict['c_nwc'] = c_nwc\n",
    "    \n",
    "    return df_predict"
   ]
  },
  {
   "cell_type": "code",
   "execution_count": 63,
   "metadata": {},
   "outputs": [],
   "source": [
    "def calc_unleveared_fcf(df):\n",
    "    df['unlev_fcf'] = df['nopat'] + df['depr_amort'] - df['capex'] - df['c_nwc']\n",
    "    return df"
   ]
  },
  {
   "cell_type": "code",
   "execution_count": 64,
   "metadata": {},
   "outputs": [],
   "source": [
    "def calculate_wacc(df, share_price, eff_tax_rate, us_bond_10_yr, equity_risk_premium, beta):\n",
    "    equity = (share_price * df['shares'].iloc[-1])\n",
    "    debt = df['short_debt'].iloc[-1] + df['tot_long_debt'].iloc[-1]\n",
    "    \n",
    "    cost_of_debt = abs(df['int_exp'].iloc[-1]) / debt\n",
    "    d_per_d_plus_e = debt / (debt + equity)\n",
    "    after_tax_cost_of_debt = cost_of_debt * (1 - eff_tax_rate)\n",
    "\n",
    "    risk_free_rate = us_bond_10_yr\n",
    "    market_risk_premium = equity_risk_premium\n",
    "    cost_of_equity = risk_free_rate + (beta * market_risk_premium)\n",
    "    e_per_d_plus_e = equity / (debt + equity)\n",
    "    \n",
    "    wacc = (d_per_d_plus_e * after_tax_cost_of_debt) + (e_per_d_plus_e * cost_of_equity)\n",
    "    return wacc"
   ]
  },
  {
   "cell_type": "code",
   "execution_count": 65,
   "metadata": {},
   "outputs": [],
   "source": [
    "def calculate_present_value_fcf(df, wacc, report='10-Q'):\n",
    "    if report == '10-Q':\n",
    "        multipl = 0.25\n",
    "    else:\n",
    "        multipl = 1\n",
    "    # calculate present cahs flows\n",
    "    df['pres_val_fcf'] = df['unlev_fcf']/((1+wacc)**(df.index*multipl))\n",
    "    return df"
   ]
  },
  {
   "cell_type": "code",
   "execution_count": 66,
   "metadata": {},
   "outputs": [],
   "source": [
    "def calculate_tv_prestv_enterp_val(df, industry_growth_rate, wacc):\n",
    "    # Terminal Value\n",
    "    tv = ((df['unlev_fcf'].iloc[-1] * (1 + industry_growth_rate))) / (wacc - industry_growth_rate)\n",
    "    # present value of TV\n",
    "    pres_value_tv = tv / (1 + wacc)**5\n",
    "    \n",
    "    return tv, pres_value_tv"
   ]
  },
  {
   "cell_type": "code",
   "execution_count": 67,
   "metadata": {},
   "outputs": [],
   "source": [
    "def calc_enterp_company_value(df_hist, df_pred, pres_value_tv):\n",
    "    \n",
    "    debt = df_hist['short_debt'].iloc[-1] + df_hist['tot_long_debt'].iloc[-1]\n",
    "    \n",
    "    if 'equity_minor_interest' in df_hist.columns:\n",
    "        equity_minor_interest = df_hist['equity_minor_interest'].iloc[-1]\n",
    "    else:\n",
    "        equity_minor_interest = 0\n",
    "    # Enterprise Values\n",
    "    enterp_val = df_pred['pres_val_fcf'].sum() + pres_value_tv\n",
    "    # Company Value\n",
    "    comp_val = enterp_val + df_hist['cash_cash_eq'].iloc[-1] - debt - equity_minor_interest\n",
    "    \n",
    "\n",
    "    print(enterp_val, comp_val)\n",
    "    return enterp_val, comp_val"
   ]
  },
  {
   "cell_type": "code",
   "execution_count": 68,
   "metadata": {},
   "outputs": [],
   "source": [
    "def implied_share_price(equity_value, hist_df):\n",
    "    share_price = equity_value / hist_df['shares'].iloc[-1]\n",
    "    return share_price"
   ]
  },
  {
   "cell_type": "markdown",
   "metadata": {},
   "source": [
    "## 1. Set boundary parameters (stock price, prediction period, bond yield) & Load Data"
   ]
  },
  {
   "cell_type": "code",
   "execution_count": 69,
   "metadata": {},
   "outputs": [],
   "source": [
    "# fixed parameters\n",
    "db_path = '../database/statements.db'\n",
    "form = '10-Q'\n",
    "# end date years ago\n",
    "finished_years_ago = 0\n",
    "# forecast period\n",
    "forecast_period = 20\n",
    "# WACC input\n",
    "share_price = 56\n",
    "us_bond_10_yr = 0.0436\n",
    "# country specifc - USA data from https://pages.stern.nyu.edu/~adamodar/New_Home_Page/datafile/ctryprem.html - 5.5% 10+ yrs average\n",
    "equity_risk_premium = 0.055\n",
    "beta = 0.55\n",
    "# country industry growth rate - US GDP growth avg from 1948 yo 2023 - 3.12%\n",
    "industry_growth_rate = 0.0312"
   ]
  },
  {
   "cell_type": "code",
   "execution_count": 70,
   "metadata": {},
   "outputs": [
    {
     "name": "stdout",
     "output_type": "stream",
     "text": [
      "Connection to SQLite DB successful!\n",
      "Data has been collected!\n",
      "Datatype has been updated!\n",
      "Connection closed!\n",
      "Data are available from: 2015-04-03 00:00:00\n",
      "Filtered data start at: 2015-04-03 00:00:00\n",
      "Filtered data finish at: 2023-06-30 00:00:00\n"
     ]
    }
   ],
   "source": [
    "#load data\n",
    "data = read_data_from_sql(\n",
    "    db_path=db_path,\n",
    "    tickers=['KO'],\n",
    "    statements=['income_statement', 'balance_sheet']    \n",
    ")\n",
    "print('Data are available from:', data['end'].iloc[0])\n",
    "# start date 7 year earlier than end date\n",
    "start_date = pd.Timestamp(datetime.date.today()) - (pd.Timedelta(days=(10 * 365) + (finished_years_ago * 365)))\n",
    "end_date = pd.Timestamp(datetime.date.today()) - (pd.Timedelta(days=finished_years_ago * 365))\n",
    "# create DataFrame\n",
    "data_filt = data.loc[(data['form'] == form) & (data['end'] > start_date) & (data['end'] < end_date), :]\n",
    "data_filt.reset_index(drop=True, inplace=True)\n",
    "print('Filtered data start at:', data_filt.end.iloc[0])\n",
    "print('Filtered data finish at:', data_filt.end.iloc[-1])"
   ]
  },
  {
   "cell_type": "code",
   "execution_count": 71,
   "metadata": {},
   "outputs": [
    {
     "data": {
      "text/html": [
       "<div>\n",
       "<style scoped>\n",
       "    .dataframe tbody tr th:only-of-type {\n",
       "        vertical-align: middle;\n",
       "    }\n",
       "\n",
       "    .dataframe tbody tr th {\n",
       "        vertical-align: top;\n",
       "    }\n",
       "\n",
       "    .dataframe thead th {\n",
       "        text-align: right;\n",
       "    }\n",
       "</style>\n",
       "<table border=\"1\" class=\"dataframe\">\n",
       "  <thead>\n",
       "    <tr style=\"text-align: right;\">\n",
       "      <th></th>\n",
       "      <th>cik</th>\n",
       "      <th>ticker</th>\n",
       "      <th>end</th>\n",
       "      <th>form</th>\n",
       "      <th>rev</th>\n",
       "      <th>cost_sale</th>\n",
       "      <th>sale_gen_adm</th>\n",
       "      <th>inpairm</th>\n",
       "      <th>op_income</th>\n",
       "      <th>int_income</th>\n",
       "      <th>...</th>\n",
       "      <th>intang_ass</th>\n",
       "      <th>other_ass</th>\n",
       "      <th>tot_ass</th>\n",
       "      <th>short_debt</th>\n",
       "      <th>acc_pay</th>\n",
       "      <th>other_curr_liab</th>\n",
       "      <th>tot_curr_liab</th>\n",
       "      <th>tot_long_debt</th>\n",
       "      <th>other_liab</th>\n",
       "      <th>tot_equity</th>\n",
       "    </tr>\n",
       "  </thead>\n",
       "  <tbody>\n",
       "    <tr>\n",
       "      <th>0</th>\n",
       "      <td>0000021344</td>\n",
       "      <td>KO</td>\n",
       "      <td>2015-04-03</td>\n",
       "      <td>10-Q</td>\n",
       "      <td>1.071100e+10</td>\n",
       "      <td>4.103000e+09</td>\n",
       "      <td>4.079000e+09</td>\n",
       "      <td>82000000.0</td>\n",
       "      <td>2.296000e+09</td>\n",
       "      <td>155000000.0</td>\n",
       "      <td>...</td>\n",
       "      <td>6.424000e+09</td>\n",
       "      <td>4.602000e+09</td>\n",
       "      <td>9.101600e+10</td>\n",
       "      <td>2.040000e+09</td>\n",
       "      <td>8.853000e+09</td>\n",
       "      <td>689000000.0</td>\n",
       "      <td>2.612300e+10</td>\n",
       "      <td>2.608700e+10</td>\n",
       "      <td>4.296000e+09</td>\n",
       "      <td>2.883700e+10</td>\n",
       "    </tr>\n",
       "    <tr>\n",
       "      <th>1</th>\n",
       "      <td>0000021344</td>\n",
       "      <td>KO</td>\n",
       "      <td>2015-07-03</td>\n",
       "      <td>10-Q</td>\n",
       "      <td>1.215600e+10</td>\n",
       "      <td>4.748000e+09</td>\n",
       "      <td>4.204000e+09</td>\n",
       "      <td>82000000.0</td>\n",
       "      <td>2.535000e+09</td>\n",
       "      <td>149000000.0</td>\n",
       "      <td>...</td>\n",
       "      <td>6.085000e+09</td>\n",
       "      <td>4.517000e+09</td>\n",
       "      <td>9.353800e+10</td>\n",
       "      <td>2.031000e+09</td>\n",
       "      <td>9.997000e+09</td>\n",
       "      <td>437000000.0</td>\n",
       "      <td>2.885200e+10</td>\n",
       "      <td>2.597700e+10</td>\n",
       "      <td>4.283000e+09</td>\n",
       "      <td>2.841800e+10</td>\n",
       "    </tr>\n",
       "    <tr>\n",
       "      <th>2</th>\n",
       "      <td>0000021344</td>\n",
       "      <td>KO</td>\n",
       "      <td>2015-10-02</td>\n",
       "      <td>10-Q</td>\n",
       "      <td>1.142700e+10</td>\n",
       "      <td>4.577000e+09</td>\n",
       "      <td>4.207000e+09</td>\n",
       "      <td>82000000.0</td>\n",
       "      <td>2.379000e+09</td>\n",
       "      <td>155000000.0</td>\n",
       "      <td>...</td>\n",
       "      <td>6.032000e+09</td>\n",
       "      <td>4.446000e+09</td>\n",
       "      <td>9.300800e+10</td>\n",
       "      <td>2.692000e+09</td>\n",
       "      <td>9.877000e+09</td>\n",
       "      <td>383000000.0</td>\n",
       "      <td>3.154500e+10</td>\n",
       "      <td>2.594900e+10</td>\n",
       "      <td>4.194000e+09</td>\n",
       "      <td>2.604900e+10</td>\n",
       "    </tr>\n",
       "    <tr>\n",
       "      <th>3</th>\n",
       "      <td>0000021344</td>\n",
       "      <td>KO</td>\n",
       "      <td>2015-12-31</td>\n",
       "      <td>10-Q</td>\n",
       "      <td>1.142700e+10</td>\n",
       "      <td>4.577000e+09</td>\n",
       "      <td>4.207000e+09</td>\n",
       "      <td>82000000.0</td>\n",
       "      <td>2.379000e+09</td>\n",
       "      <td>155000000.0</td>\n",
       "      <td>...</td>\n",
       "      <td>5.989000e+09</td>\n",
       "      <td>4.110000e+09</td>\n",
       "      <td>8.999600e+10</td>\n",
       "      <td>2.676000e+09</td>\n",
       "      <td>9.660000e+09</td>\n",
       "      <td>331000000.0</td>\n",
       "      <td>2.692900e+10</td>\n",
       "      <td>2.831100e+10</td>\n",
       "      <td>4.301000e+09</td>\n",
       "      <td>2.555400e+10</td>\n",
       "    </tr>\n",
       "    <tr>\n",
       "      <th>4</th>\n",
       "      <td>0000021344</td>\n",
       "      <td>KO</td>\n",
       "      <td>2016-04-01</td>\n",
       "      <td>10-Q</td>\n",
       "      <td>1.028200e+10</td>\n",
       "      <td>4.069000e+09</td>\n",
       "      <td>3.761000e+09</td>\n",
       "      <td>82000000.0</td>\n",
       "      <td>2.141000e+09</td>\n",
       "      <td>144000000.0</td>\n",
       "      <td>...</td>\n",
       "      <td>6.014000e+09</td>\n",
       "      <td>4.314000e+09</td>\n",
       "      <td>9.126300e+10</td>\n",
       "      <td>4.956000e+09</td>\n",
       "      <td>9.626000e+09</td>\n",
       "      <td>275000000.0</td>\n",
       "      <td>3.098700e+10</td>\n",
       "      <td>2.699000e+10</td>\n",
       "      <td>3.820000e+09</td>\n",
       "      <td>2.491400e+10</td>\n",
       "    </tr>\n",
       "  </tbody>\n",
       "</table>\n",
       "<p>5 rows × 33 columns</p>\n",
       "</div>"
      ],
      "text/plain": [
       "          cik ticker        end  form           rev     cost_sale  \\\n",
       "0  0000021344     KO 2015-04-03  10-Q  1.071100e+10  4.103000e+09   \n",
       "1  0000021344     KO 2015-07-03  10-Q  1.215600e+10  4.748000e+09   \n",
       "2  0000021344     KO 2015-10-02  10-Q  1.142700e+10  4.577000e+09   \n",
       "3  0000021344     KO 2015-12-31  10-Q  1.142700e+10  4.577000e+09   \n",
       "4  0000021344     KO 2016-04-01  10-Q  1.028200e+10  4.069000e+09   \n",
       "\n",
       "   sale_gen_adm     inpairm     op_income   int_income  ...    intang_ass  \\\n",
       "0  4.079000e+09  82000000.0  2.296000e+09  155000000.0  ...  6.424000e+09   \n",
       "1  4.204000e+09  82000000.0  2.535000e+09  149000000.0  ...  6.085000e+09   \n",
       "2  4.207000e+09  82000000.0  2.379000e+09  155000000.0  ...  6.032000e+09   \n",
       "3  4.207000e+09  82000000.0  2.379000e+09  155000000.0  ...  5.989000e+09   \n",
       "4  3.761000e+09  82000000.0  2.141000e+09  144000000.0  ...  6.014000e+09   \n",
       "\n",
       "      other_ass       tot_ass    short_debt       acc_pay  other_curr_liab  \\\n",
       "0  4.602000e+09  9.101600e+10  2.040000e+09  8.853000e+09      689000000.0   \n",
       "1  4.517000e+09  9.353800e+10  2.031000e+09  9.997000e+09      437000000.0   \n",
       "2  4.446000e+09  9.300800e+10  2.692000e+09  9.877000e+09      383000000.0   \n",
       "3  4.110000e+09  8.999600e+10  2.676000e+09  9.660000e+09      331000000.0   \n",
       "4  4.314000e+09  9.126300e+10  4.956000e+09  9.626000e+09      275000000.0   \n",
       "\n",
       "   tot_curr_liab  tot_long_debt    other_liab    tot_equity  \n",
       "0   2.612300e+10   2.608700e+10  4.296000e+09  2.883700e+10  \n",
       "1   2.885200e+10   2.597700e+10  4.283000e+09  2.841800e+10  \n",
       "2   3.154500e+10   2.594900e+10  4.194000e+09  2.604900e+10  \n",
       "3   2.692900e+10   2.831100e+10  4.301000e+09  2.555400e+10  \n",
       "4   3.098700e+10   2.699000e+10  3.820000e+09  2.491400e+10  \n",
       "\n",
       "[5 rows x 33 columns]"
      ]
     },
     "execution_count": 71,
     "metadata": {},
     "output_type": "execute_result"
    }
   ],
   "source": [
    "data_filt.head()"
   ]
  },
  {
   "cell_type": "markdown",
   "metadata": {},
   "source": [
    "## 2. Calculate EBITDA, EBIT, NOPAT, CAPEX etc on hisorical data"
   ]
  },
  {
   "cell_type": "code",
   "execution_count": 72,
   "metadata": {},
   "outputs": [
    {
     "data": {
      "text/html": [
       "<div>\n",
       "<style scoped>\n",
       "    .dataframe tbody tr th:only-of-type {\n",
       "        vertical-align: middle;\n",
       "    }\n",
       "\n",
       "    .dataframe tbody tr th {\n",
       "        vertical-align: top;\n",
       "    }\n",
       "\n",
       "    .dataframe thead th {\n",
       "        text-align: right;\n",
       "    }\n",
       "</style>\n",
       "<table border=\"1\" class=\"dataframe\">\n",
       "  <thead>\n",
       "    <tr style=\"text-align: right;\">\n",
       "      <th></th>\n",
       "      <th>cik</th>\n",
       "      <th>ticker</th>\n",
       "      <th>end</th>\n",
       "      <th>form</th>\n",
       "      <th>rev</th>\n",
       "      <th>cost_sale</th>\n",
       "      <th>sale_gen_adm</th>\n",
       "      <th>inpairm</th>\n",
       "      <th>op_income</th>\n",
       "      <th>int_income</th>\n",
       "      <th>...</th>\n",
       "      <th>tot_equity</th>\n",
       "      <th>tot_liab</th>\n",
       "      <th>inc_b_tax</th>\n",
       "      <th>ebitda</th>\n",
       "      <th>ebit</th>\n",
       "      <th>nopat</th>\n",
       "      <th>other_curr_ass_lesscash</th>\n",
       "      <th>tot_curr_liab_lessdebt</th>\n",
       "      <th>nwc</th>\n",
       "      <th>capex</th>\n",
       "    </tr>\n",
       "  </thead>\n",
       "  <tbody>\n",
       "    <tr>\n",
       "      <th>0</th>\n",
       "      <td>0000021344</td>\n",
       "      <td>KO</td>\n",
       "      <td>2015-04-03</td>\n",
       "      <td>10-Q</td>\n",
       "      <td>1.071100e+10</td>\n",
       "      <td>4.103000e+09</td>\n",
       "      <td>4.079000e+09</td>\n",
       "      <td>82000000.0</td>\n",
       "      <td>2.296000e+09</td>\n",
       "      <td>155000000.0</td>\n",
       "      <td>...</td>\n",
       "      <td>2.883700e+10</td>\n",
       "      <td>6.217900e+10</td>\n",
       "      <td>1.972000e+09</td>\n",
       "      <td>2.529000e+09</td>\n",
       "      <td>2.056000e+09</td>\n",
       "      <td>1.641000e+09</td>\n",
       "      <td>1.128500e+10</td>\n",
       "      <td>2.408300e+10</td>\n",
       "      <td>-1.279800e+10</td>\n",
       "      <td>NaN</td>\n",
       "    </tr>\n",
       "    <tr>\n",
       "      <th>1</th>\n",
       "      <td>0000021344</td>\n",
       "      <td>KO</td>\n",
       "      <td>2015-07-03</td>\n",
       "      <td>10-Q</td>\n",
       "      <td>1.215600e+10</td>\n",
       "      <td>4.748000e+09</td>\n",
       "      <td>4.204000e+09</td>\n",
       "      <td>82000000.0</td>\n",
       "      <td>2.535000e+09</td>\n",
       "      <td>149000000.0</td>\n",
       "      <td>...</td>\n",
       "      <td>2.841800e+10</td>\n",
       "      <td>6.512000e+10</td>\n",
       "      <td>4.358000e+09</td>\n",
       "      <td>3.204000e+09</td>\n",
       "      <td>2.731000e+09</td>\n",
       "      <td>1.481000e+09</td>\n",
       "      <td>1.135900e+10</td>\n",
       "      <td>2.682100e+10</td>\n",
       "      <td>-1.546200e+10</td>\n",
       "      <td>4.920000e+08</td>\n",
       "    </tr>\n",
       "    <tr>\n",
       "      <th>2</th>\n",
       "      <td>0000021344</td>\n",
       "      <td>KO</td>\n",
       "      <td>2015-10-02</td>\n",
       "      <td>10-Q</td>\n",
       "      <td>1.142700e+10</td>\n",
       "      <td>4.577000e+09</td>\n",
       "      <td>4.207000e+09</td>\n",
       "      <td>82000000.0</td>\n",
       "      <td>2.379000e+09</td>\n",
       "      <td>155000000.0</td>\n",
       "      <td>...</td>\n",
       "      <td>2.604900e+10</td>\n",
       "      <td>6.695900e+10</td>\n",
       "      <td>1.721000e+09</td>\n",
       "      <td>2.643000e+09</td>\n",
       "      <td>2.170000e+09</td>\n",
       "      <td>1.898000e+09</td>\n",
       "      <td>9.967000e+09</td>\n",
       "      <td>2.885300e+10</td>\n",
       "      <td>-1.888600e+10</td>\n",
       "      <td>-1.277000e+09</td>\n",
       "    </tr>\n",
       "    <tr>\n",
       "      <th>3</th>\n",
       "      <td>0000021344</td>\n",
       "      <td>KO</td>\n",
       "      <td>2015-12-31</td>\n",
       "      <td>10-Q</td>\n",
       "      <td>1.142700e+10</td>\n",
       "      <td>4.577000e+09</td>\n",
       "      <td>4.207000e+09</td>\n",
       "      <td>82000000.0</td>\n",
       "      <td>2.379000e+09</td>\n",
       "      <td>155000000.0</td>\n",
       "      <td>...</td>\n",
       "      <td>2.555400e+10</td>\n",
       "      <td>6.444200e+10</td>\n",
       "      <td>1.721000e+09</td>\n",
       "      <td>2.643000e+09</td>\n",
       "      <td>2.170000e+09</td>\n",
       "      <td>1.898000e+09</td>\n",
       "      <td>9.595000e+09</td>\n",
       "      <td>2.425300e+10</td>\n",
       "      <td>-1.465800e+10</td>\n",
       "      <td>4.290000e+08</td>\n",
       "    </tr>\n",
       "    <tr>\n",
       "      <th>4</th>\n",
       "      <td>0000021344</td>\n",
       "      <td>KO</td>\n",
       "      <td>2016-04-01</td>\n",
       "      <td>10-Q</td>\n",
       "      <td>1.028200e+10</td>\n",
       "      <td>4.069000e+09</td>\n",
       "      <td>3.761000e+09</td>\n",
       "      <td>82000000.0</td>\n",
       "      <td>2.141000e+09</td>\n",
       "      <td>144000000.0</td>\n",
       "      <td>...</td>\n",
       "      <td>2.491400e+10</td>\n",
       "      <td>6.634900e+10</td>\n",
       "      <td>1.884000e+09</td>\n",
       "      <td>2.452000e+09</td>\n",
       "      <td>1.994000e+09</td>\n",
       "      <td>1.593000e+09</td>\n",
       "      <td>1.051300e+10</td>\n",
       "      <td>2.603100e+10</td>\n",
       "      <td>-1.551800e+10</td>\n",
       "      <td>5.000000e+08</td>\n",
       "    </tr>\n",
       "  </tbody>\n",
       "</table>\n",
       "<p>5 rows × 42 columns</p>\n",
       "</div>"
      ],
      "text/plain": [
       "          cik ticker        end  form           rev     cost_sale  \\\n",
       "0  0000021344     KO 2015-04-03  10-Q  1.071100e+10  4.103000e+09   \n",
       "1  0000021344     KO 2015-07-03  10-Q  1.215600e+10  4.748000e+09   \n",
       "2  0000021344     KO 2015-10-02  10-Q  1.142700e+10  4.577000e+09   \n",
       "3  0000021344     KO 2015-12-31  10-Q  1.142700e+10  4.577000e+09   \n",
       "4  0000021344     KO 2016-04-01  10-Q  1.028200e+10  4.069000e+09   \n",
       "\n",
       "   sale_gen_adm     inpairm     op_income   int_income  ...    tot_equity  \\\n",
       "0  4.079000e+09  82000000.0  2.296000e+09  155000000.0  ...  2.883700e+10   \n",
       "1  4.204000e+09  82000000.0  2.535000e+09  149000000.0  ...  2.841800e+10   \n",
       "2  4.207000e+09  82000000.0  2.379000e+09  155000000.0  ...  2.604900e+10   \n",
       "3  4.207000e+09  82000000.0  2.379000e+09  155000000.0  ...  2.555400e+10   \n",
       "4  3.761000e+09  82000000.0  2.141000e+09  144000000.0  ...  2.491400e+10   \n",
       "\n",
       "       tot_liab     inc_b_tax        ebitda          ebit         nopat  \\\n",
       "0  6.217900e+10  1.972000e+09  2.529000e+09  2.056000e+09  1.641000e+09   \n",
       "1  6.512000e+10  4.358000e+09  3.204000e+09  2.731000e+09  1.481000e+09   \n",
       "2  6.695900e+10  1.721000e+09  2.643000e+09  2.170000e+09  1.898000e+09   \n",
       "3  6.444200e+10  1.721000e+09  2.643000e+09  2.170000e+09  1.898000e+09   \n",
       "4  6.634900e+10  1.884000e+09  2.452000e+09  1.994000e+09  1.593000e+09   \n",
       "\n",
       "   other_curr_ass_lesscash  tot_curr_liab_lessdebt           nwc         capex  \n",
       "0             1.128500e+10            2.408300e+10 -1.279800e+10           NaN  \n",
       "1             1.135900e+10            2.682100e+10 -1.546200e+10  4.920000e+08  \n",
       "2             9.967000e+09            2.885300e+10 -1.888600e+10 -1.277000e+09  \n",
       "3             9.595000e+09            2.425300e+10 -1.465800e+10  4.290000e+08  \n",
       "4             1.051300e+10            2.603100e+10 -1.551800e+10  5.000000e+08  \n",
       "\n",
       "[5 rows x 42 columns]"
      ]
     },
     "execution_count": 72,
     "metadata": {},
     "output_type": "execute_result"
    }
   ],
   "source": [
    "data_filt = calculate_missing_columns(data_filt)\n",
    "data_filt.head()"
   ]
  },
  {
   "cell_type": "markdown",
   "metadata": {},
   "source": [
    "## 3. Forecast Revenue\n",
    "\n",
    "Before the ARIMA / SARIMA modling need to know p, d, q values (model parameters):\n",
    "- p: Trend autoregression order.\n",
    "- q: Trend moving average order.\n",
    "- d: Trend difference order."
   ]
  },
  {
   "cell_type": "code",
   "execution_count": 73,
   "metadata": {},
   "outputs": [
    {
     "data": {
      "image/png": "[encoded data removed]",
      "text/plain": [
       "<Figure size 640x480 with 1 Axes>"
      ]
     },
     "metadata": {},
     "output_type": "display_data"
    }
   ],
   "source": [
    "# Creating Autocorrelation plot - ACF\n",
    "x = pd.plotting.autocorrelation_plot(data_filt['rev'])\n",
    "x.plot()\n",
    "plt.show()"
   ]
  },
  {
   "cell_type": "markdown",
   "metadata": {},
   "source": [
    "The monotony of ACF is changed first time there is the p value. "
   ]
  },
  {
   "cell_type": "code",
   "execution_count": 74,
   "metadata": {},
   "outputs": [
    {
     "data": {
      "image/png": "[encoded data removed]",
      "text/plain": [
       "<Figure size 640x480 with 1 Axes>"
      ]
     },
     "execution_count": 74,
     "metadata": {},
     "output_type": "execute_result"
    },
    {
     "data": {
      "image/png": "[encoded data removed]",
      "text/plain": [
       "<Figure size 640x480 with 1 Axes>"
      ]
     },
     "metadata": {},
     "output_type": "display_data"
    }
   ],
   "source": [
    "# Creating Partial Autocorrelation plot --> PACF\n",
    "from statsmodels.graphics.tsaplots import plot_pacf\n",
    "plot_pacf(data_filt['rev'], lags = int(forecast_period / 2 - 1))"
   ]
  },
  {
   "cell_type": "markdown",
   "metadata": {},
   "source": [
    "Number of points, which are far away from the boundary is the q value.\n",
    "\n",
    "In the above partial autocorrelation plot, we can see that only two points are far away from all the points. That is how a decide the q value. Hence the value of q is 2.\n",
    "\n",
    "The value of d is either 0 or 1. If the data is stationary, we should use 0, and if the data is seasonal, we should use 1. As our data is seasonal, we should use 1 as the d value.\n",
    "\n",
    "I will find ARIMA hyperparameters (p, d, q) with gridsearch step-by-step"
   ]
  },
  {
   "cell_type": "code",
   "execution_count": 75,
   "metadata": {},
   "outputs": [
    {
     "name": "stdout",
     "output_type": "stream",
     "text": [
      "5.468184531709028e+17\n",
      "ARIMA(2, 1, 1) MSE=546818453170902784.000\n",
      "5.657159163364148e+17\n",
      "ARIMA(2, 1, 3) MSE=565715916336414784.000\n",
      "5.581185031396083e+17\n",
      "ARIMA(4, 1, 1) MSE=558118503139608320.000\n",
      "5.579602135339833e+17\n",
      "ARIMA(4, 1, 3) MSE=557960213533983296.000\n",
      "Best ARIMA(2, 1, 1) MSE=546818453170902784.000\n"
     ]
    }
   ],
   "source": [
    "# evaluate an ARIMA model for a given order (p,d,q) ---> You can tip p and estimate d, q based on previous plots\n",
    "series = data_filt['rev']\n",
    "# evaluate parameters\n",
    "p_values = [2, 4]\n",
    "d_values = [1]\n",
    "q_values = [1, 3]\n",
    "warnings.filterwarnings(\"ignore\")\n",
    "best_config = evaluate_models(series.values, p_values, d_values, q_values)"
   ]
  },
  {
   "cell_type": "markdown",
   "metadata": {},
   "source": [
    "The predicted values are wrong because the data is seasonal. ARIMA model will never perform well on seasonal time series data. So, here’s how to build a SARIMA model.\n",
    "\n",
    "The parameter \"s\" is an integer giving the periodicity (number of periods in season), often it is 4 for quarterly data or 12 for monthly data. Default is no seasonal effect. Here is hardcoded, works well with 12."
   ]
  },
  {
   "cell_type": "code",
   "execution_count": 76,
   "metadata": {},
   "outputs": [],
   "source": [
    "# float datatype is needed to SARIMAX model\n",
    "data_filt['rev'] = data_filt['rev'].astype(float)"
   ]
  },
  {
   "cell_type": "code",
   "execution_count": 77,
   "metadata": {},
   "outputs": [
    {
     "name": "stdout",
     "output_type": "stream",
     "text": [
      "RUNNING THE L-BFGS-B CODE\n",
      "\n",
      "           * * *\n",
      "\n",
      "Machine precision = 2.220D-16\n",
      " N =            7     M =           10\n",
      "\n",
      "At X0         0 variables are exactly at the bounds\n",
      "\n",
      "At iterate    0    f=  1.40260D+01    |proj g|=  1.40835D+00\n"
     ]
    },
    {
     "name": "stderr",
     "output_type": "stream",
     "text": [
      " This problem is unconstrained.\n"
     ]
    },
    {
     "name": "stdout",
     "output_type": "stream",
     "text": [
      "\n",
      "At iterate    5    f=  1.35394D+01    |proj g|=  9.60205D-02\n",
      "\n",
      "At iterate   10    f=  1.35248D+01    |proj g|=  1.86958D-02\n",
      "\n",
      "At iterate   15    f=  1.35217D+01    |proj g|=  3.93133D-03\n",
      "\n",
      "At iterate   20    f=  1.35216D+01    |proj g|=  9.62798D-03\n",
      "\n",
      "At iterate   25    f=  1.35211D+01    |proj g|=  1.53722D-03\n",
      "\n",
      "           * * *\n",
      "\n",
      "Tit   = total number of iterations\n",
      "Tnf   = total number of function evaluations\n",
      "Tnint = total number of segments explored during Cauchy searches\n",
      "Skip  = number of BFGS updates skipped\n",
      "Nact  = number of active bounds at final generalized Cauchy point\n",
      "Projg = norm of the final projected gradient\n",
      "F     = final function value\n",
      "\n",
      "           * * *\n",
      "\n",
      "   N    Tit     Tnf  Tnint  Skip  Nact     Projg        F\n",
      "    7     28     30      1     0     0   7.630D-05   1.352D+01\n",
      "  F =   13.521101368998885     \n",
      "\n",
      "CONVERGENCE: REL_REDUCTION_OF_F_<=_FACTR*EPSMCH             \n",
      "                                     SARIMAX Results                                      \n",
      "==========================================================================================\n",
      "Dep. Variable:                                  y   No. Observations:                   34\n",
      "Model:             SARIMAX(2, 1, 1)x(2, 1, 1, 12)   Log Likelihood                -459.717\n",
      "Date:                            Sat, 30 Sep 2023   AIC                            933.435\n",
      "Time:                                    15:47:20   BIC                            940.747\n",
      "Sample:                                         0   HQIC                           935.022\n",
      "                                             - 34                                         \n",
      "Covariance Type:                              opg                                         \n",
      "==============================================================================\n",
      "                 coef    std err          z      P>|z|      [0.025      0.975]\n",
      "------------------------------------------------------------------------------\n",
      "ar.L1         -0.5030      3.299     -0.152      0.879      -6.970       5.963\n",
      "ar.L2         -0.1155      0.549     -0.211      0.833      -1.191       0.960\n",
      "ma.L1          0.3794      3.016      0.126      0.900      -5.532       6.290\n",
      "ar.S.L12      -0.6197     12.910     -0.048      0.962     -25.923      24.684\n",
      "ar.S.L24      -0.4780      4.930     -0.097      0.923     -10.141       9.185\n",
      "ma.S.L12       0.0410     17.262      0.002      0.998     -33.791      33.873\n",
      "sigma2      9.456e+17        nan        nan        nan         nan         nan\n",
      "===================================================================================\n",
      "Ljung-Box (L1) (Q):                   0.74   Jarque-Bera (JB):                 3.05\n",
      "Prob(Q):                              0.39   Prob(JB):                         0.22\n",
      "Heteroskedasticity (H):               3.45   Skew:                            -0.11\n",
      "Prob(H) (two-sided):                  0.12   Kurtosis:                         4.85\n",
      "===================================================================================\n",
      "\n",
      "Warnings:\n",
      "[1] Covariance matrix calculated using the outer product of gradients (complex-step).\n",
      "[2] Covariance matrix is singular or near-singular, with condition number 2.37e+51. Standard errors may be unstable.\n"
     ]
    }
   ],
   "source": [
    "# use the model parameters of SARIMA\n",
    "p, d, q = best_config\n",
    "model=sm.tsa.statespace.SARIMAX(data_filt['rev'].values,\n",
    "                                order=(p, d, q),\n",
    "                                seasonal_order=(p, d, q, 12))\n",
    "model=model.fit()\n",
    "print(model.summary())"
   ]
  },
  {
   "cell_type": "code",
   "execution_count": 78,
   "metadata": {},
   "outputs": [],
   "source": [
    "# use SARIMAX model\n",
    "prediction_revenue = model.predict(len(data_filt), len(data_filt) + forecast_period)\n",
    "# df from results\n",
    "prediction = pd.DataFrame(\n",
    "    prediction_revenue,\n",
    "    index=[i+1 for i in range(len(prediction_revenue))],\n",
    "    columns=['rev']\n",
    ")"
   ]
  },
  {
   "cell_type": "code",
   "execution_count": 79,
   "metadata": {},
   "outputs": [
    {
     "data": {
      "image/png": "[encoded data removed]",
      "text/plain": [
       "<Figure size 1500x600 with 1 Axes>"
      ]
     },
     "metadata": {},
     "output_type": "display_data"
    }
   ],
   "source": [
    "plot_hist_pred(data_filt, prediction)"
   ]
  },
  {
   "cell_type": "markdown",
   "metadata": {},
   "source": [
    "## 4. Calculate ratios\n",
    "\n",
    "After the revenue prediction I calculate the expenses and use those to predict future CoS and EBITDA."
   ]
  },
  {
   "cell_type": "code",
   "execution_count": 80,
   "metadata": {},
   "outputs": [
    {
     "data": {
      "image/png": "[encoded data removed]",
      "text/plain": [
       "<Figure size 1500x600 with 1 Axes>"
      ]
     },
     "metadata": {},
     "output_type": "display_data"
    },
    {
     "name": "stdout",
     "output_type": "stream",
     "text": [
      "cost_sale is divided by the revenue.\n",
      "Average value: 0.3920637184342591\n"
     ]
    },
    {
     "data": {
      "image/png": "[encoded data removed]",
      "text/plain": [
       "<Figure size 1500x600 with 1 Axes>"
      ]
     },
     "metadata": {},
     "output_type": "display_data"
    },
    {
     "name": "stdout",
     "output_type": "stream",
     "text": [
      "sale_gen_adm is divided by the revenue.\n",
      "Average value: 0.3221940144262243\n"
     ]
    }
   ],
   "source": [
    "is_ratio_dictionary = calculate_is_margins(data_filt)"
   ]
  },
  {
   "cell_type": "code",
   "execution_count": 81,
   "metadata": {},
   "outputs": [
    {
     "data": {
      "text/html": [
       "<div>\n",
       "<style scoped>\n",
       "    .dataframe tbody tr th:only-of-type {\n",
       "        vertical-align: middle;\n",
       "    }\n",
       "\n",
       "    .dataframe tbody tr th {\n",
       "        vertical-align: top;\n",
       "    }\n",
       "\n",
       "    .dataframe thead th {\n",
       "        text-align: right;\n",
       "    }\n",
       "</style>\n",
       "<table border=\"1\" class=\"dataframe\">\n",
       "  <thead>\n",
       "    <tr style=\"text-align: right;\">\n",
       "      <th></th>\n",
       "      <th>rev</th>\n",
       "      <th>cost_sale</th>\n",
       "      <th>sale_gen_adm</th>\n",
       "    </tr>\n",
       "  </thead>\n",
       "  <tbody>\n",
       "    <tr>\n",
       "      <th>50</th>\n",
       "      <td>2.032866e+10</td>\n",
       "      <td>7.970129e+09</td>\n",
       "      <td>6.549772e+09</td>\n",
       "    </tr>\n",
       "    <tr>\n",
       "      <th>51</th>\n",
       "      <td>2.032882e+10</td>\n",
       "      <td>7.970191e+09</td>\n",
       "      <td>6.549823e+09</td>\n",
       "    </tr>\n",
       "    <tr>\n",
       "      <th>52</th>\n",
       "      <td>2.021562e+10</td>\n",
       "      <td>7.925812e+09</td>\n",
       "      <td>6.513352e+09</td>\n",
       "    </tr>\n",
       "    <tr>\n",
       "      <th>53</th>\n",
       "      <td>2.137831e+10</td>\n",
       "      <td>8.381658e+09</td>\n",
       "      <td>6.887962e+09</td>\n",
       "    </tr>\n",
       "    <tr>\n",
       "      <th>54</th>\n",
       "      <td>2.087875e+10</td>\n",
       "      <td>8.185800e+09</td>\n",
       "      <td>6.727008e+09</td>\n",
       "    </tr>\n",
       "  </tbody>\n",
       "</table>\n",
       "</div>"
      ],
      "text/plain": [
       "             rev     cost_sale  sale_gen_adm\n",
       "50  2.032866e+10  7.970129e+09  6.549772e+09\n",
       "51  2.032882e+10  7.970191e+09  6.549823e+09\n",
       "52  2.021562e+10  7.925812e+09  6.513352e+09\n",
       "53  2.137831e+10  8.381658e+09  6.887962e+09\n",
       "54  2.087875e+10  8.185800e+09  6.727008e+09"
      ]
     },
     "execution_count": 81,
     "metadata": {},
     "output_type": "execute_result"
    }
   ],
   "source": [
    "prediction = predict_cos_sale_gen_adm(prediction, is_ratio_dictionary)\n",
    "prediction.tail()"
   ]
  },
  {
   "cell_type": "markdown",
   "metadata": {},
   "source": [
    "## 5. Calculate Fixed Assets\n",
    "\n",
    "It's time to calculate D&A costs.\n",
    "\n",
    "I will predict the PPE, D&A and CapEx values together."
   ]
  },
  {
   "cell_type": "code",
   "execution_count": 82,
   "metadata": {},
   "outputs": [
    {
     "data": {
      "image/png": "[encoded data removed]",
      "text/plain": [
       "<Figure size 640x480 with 1 Axes>"
      ]
     },
     "metadata": {},
     "output_type": "display_data"
    },
    {
     "name": "stdout",
     "output_type": "stream",
     "text": [
      "Average depr_amort value is 0.03379849682627108\n"
     ]
    },
    {
     "data": {
      "image/png": "[encoded data removed]",
      "text/plain": [
       "<Figure size 640x480 with 1 Axes>"
      ]
     },
     "metadata": {},
     "output_type": "display_data"
    },
    {
     "name": "stdout",
     "output_type": "stream",
     "text": [
      "Average capex value is 0.024609017098108647\n"
     ]
    }
   ],
   "source": [
    "fxd_ass_ratios = fixed_asset_ratios(data_filt)"
   ]
  },
  {
   "cell_type": "code",
   "execution_count": 83,
   "metadata": {},
   "outputs": [
    {
     "data": {
      "text/html": [
       "<div>\n",
       "<style scoped>\n",
       "    .dataframe tbody tr th:only-of-type {\n",
       "        vertical-align: middle;\n",
       "    }\n",
       "\n",
       "    .dataframe tbody tr th {\n",
       "        vertical-align: top;\n",
       "    }\n",
       "\n",
       "    .dataframe thead th {\n",
       "        text-align: right;\n",
       "    }\n",
       "</style>\n",
       "<table border=\"1\" class=\"dataframe\">\n",
       "  <thead>\n",
       "    <tr style=\"text-align: right;\">\n",
       "      <th></th>\n",
       "      <th>rev</th>\n",
       "      <th>cost_sale</th>\n",
       "      <th>sale_gen_adm</th>\n",
       "      <th>depr_amort</th>\n",
       "      <th>capex</th>\n",
       "      <th>ppe_net</th>\n",
       "    </tr>\n",
       "  </thead>\n",
       "  <tbody>\n",
       "    <tr>\n",
       "      <th>34</th>\n",
       "      <td>1.229052e+10</td>\n",
       "      <td>4.818666e+09</td>\n",
       "      <td>3.959931e+09</td>\n",
       "      <td>3.280482e+08</td>\n",
       "      <td>2.388551e+08</td>\n",
       "      <td>9.616807e+09</td>\n",
       "    </tr>\n",
       "    <tr>\n",
       "      <th>35</th>\n",
       "      <td>1.221424e+10</td>\n",
       "      <td>4.788760e+09</td>\n",
       "      <td>3.935355e+09</td>\n",
       "      <td>3.250336e+08</td>\n",
       "      <td>2.366602e+08</td>\n",
       "      <td>9.528433e+09</td>\n",
       "    </tr>\n",
       "    <tr>\n",
       "      <th>36</th>\n",
       "      <td>1.731136e+10</td>\n",
       "      <td>6.787156e+09</td>\n",
       "      <td>5.577616e+09</td>\n",
       "      <td>3.220467e+08</td>\n",
       "      <td>2.344854e+08</td>\n",
       "      <td>9.440872e+09</td>\n",
       "    </tr>\n",
       "    <tr>\n",
       "      <th>37</th>\n",
       "      <td>1.866444e+10</td>\n",
       "      <td>7.317649e+09</td>\n",
       "      <td>6.013570e+09</td>\n",
       "      <td>3.190873e+08</td>\n",
       "      <td>2.323306e+08</td>\n",
       "      <td>9.354115e+09</td>\n",
       "    </tr>\n",
       "    <tr>\n",
       "      <th>38</th>\n",
       "      <td>1.820659e+10</td>\n",
       "      <td>7.138144e+09</td>\n",
       "      <td>5.866055e+09</td>\n",
       "      <td>3.161550e+08</td>\n",
       "      <td>2.301956e+08</td>\n",
       "      <td>9.268156e+09</td>\n",
       "    </tr>\n",
       "  </tbody>\n",
       "</table>\n",
       "</div>"
      ],
      "text/plain": [
       "             rev     cost_sale  sale_gen_adm    depr_amort         capex  \\\n",
       "34  1.229052e+10  4.818666e+09  3.959931e+09  3.280482e+08  2.388551e+08   \n",
       "35  1.221424e+10  4.788760e+09  3.935355e+09  3.250336e+08  2.366602e+08   \n",
       "36  1.731136e+10  6.787156e+09  5.577616e+09  3.220467e+08  2.344854e+08   \n",
       "37  1.866444e+10  7.317649e+09  6.013570e+09  3.190873e+08  2.323306e+08   \n",
       "38  1.820659e+10  7.138144e+09  5.866055e+09  3.161550e+08  2.301956e+08   \n",
       "\n",
       "         ppe_net  \n",
       "34  9.616807e+09  \n",
       "35  9.528433e+09  \n",
       "36  9.440872e+09  \n",
       "37  9.354115e+09  \n",
       "38  9.268156e+09  "
      ]
     },
     "execution_count": 83,
     "metadata": {},
     "output_type": "execute_result"
    }
   ],
   "source": [
    "prediction = predict_fixed_assets(data_filt, prediction, fxd_ass_ratios)\n",
    "prediction.head()"
   ]
  },
  {
   "cell_type": "markdown",
   "metadata": {},
   "source": [
    "## 6. Calculate EBITDA, EBIT, NOPAT"
   ]
  },
  {
   "cell_type": "code",
   "execution_count": 84,
   "metadata": {},
   "outputs": [
    {
     "name": "stdout",
     "output_type": "stream",
     "text": [
      "Effective tax rate is 0.21\n"
     ]
    }
   ],
   "source": [
    "eff_tax_rate = calc_eff_tax_rate(data_filt)"
   ]
  },
  {
   "cell_type": "code",
   "execution_count": 85,
   "metadata": {},
   "outputs": [
    {
     "data": {
      "text/html": [
       "<div>\n",
       "<style scoped>\n",
       "    .dataframe tbody tr th:only-of-type {\n",
       "        vertical-align: middle;\n",
       "    }\n",
       "\n",
       "    .dataframe tbody tr th {\n",
       "        vertical-align: top;\n",
       "    }\n",
       "\n",
       "    .dataframe thead th {\n",
       "        text-align: right;\n",
       "    }\n",
       "</style>\n",
       "<table border=\"1\" class=\"dataframe\">\n",
       "  <thead>\n",
       "    <tr style=\"text-align: right;\">\n",
       "      <th></th>\n",
       "      <th>rev</th>\n",
       "      <th>cost_sale</th>\n",
       "      <th>sale_gen_adm</th>\n",
       "      <th>depr_amort</th>\n",
       "      <th>capex</th>\n",
       "      <th>ppe_net</th>\n",
       "      <th>ebitda</th>\n",
       "      <th>ebit</th>\n",
       "      <th>nopat</th>\n",
       "    </tr>\n",
       "  </thead>\n",
       "  <tbody>\n",
       "    <tr>\n",
       "      <th>34</th>\n",
       "      <td>1.229052e+10</td>\n",
       "      <td>4.818666e+09</td>\n",
       "      <td>3.959931e+09</td>\n",
       "      <td>3.280482e+08</td>\n",
       "      <td>2.388551e+08</td>\n",
       "      <td>9.616807e+09</td>\n",
       "      <td>3.511920e+09</td>\n",
       "      <td>3.183872e+09</td>\n",
       "      <td>2.515259e+09</td>\n",
       "    </tr>\n",
       "    <tr>\n",
       "      <th>35</th>\n",
       "      <td>1.221424e+10</td>\n",
       "      <td>4.788760e+09</td>\n",
       "      <td>3.935355e+09</td>\n",
       "      <td>3.250336e+08</td>\n",
       "      <td>2.366602e+08</td>\n",
       "      <td>9.528433e+09</td>\n",
       "      <td>3.490125e+09</td>\n",
       "      <td>3.165091e+09</td>\n",
       "      <td>2.500422e+09</td>\n",
       "    </tr>\n",
       "    <tr>\n",
       "      <th>36</th>\n",
       "      <td>1.731136e+10</td>\n",
       "      <td>6.787156e+09</td>\n",
       "      <td>5.577616e+09</td>\n",
       "      <td>3.220467e+08</td>\n",
       "      <td>2.344854e+08</td>\n",
       "      <td>9.440872e+09</td>\n",
       "      <td>4.946587e+09</td>\n",
       "      <td>4.624540e+09</td>\n",
       "      <td>3.653387e+09</td>\n",
       "    </tr>\n",
       "    <tr>\n",
       "      <th>37</th>\n",
       "      <td>1.866444e+10</td>\n",
       "      <td>7.317649e+09</td>\n",
       "      <td>6.013570e+09</td>\n",
       "      <td>3.190873e+08</td>\n",
       "      <td>2.323306e+08</td>\n",
       "      <td>9.354115e+09</td>\n",
       "      <td>5.333219e+09</td>\n",
       "      <td>5.014131e+09</td>\n",
       "      <td>3.961164e+09</td>\n",
       "    </tr>\n",
       "    <tr>\n",
       "      <th>38</th>\n",
       "      <td>1.820659e+10</td>\n",
       "      <td>7.138144e+09</td>\n",
       "      <td>5.866055e+09</td>\n",
       "      <td>3.161550e+08</td>\n",
       "      <td>2.301956e+08</td>\n",
       "      <td>9.268156e+09</td>\n",
       "      <td>5.202393e+09</td>\n",
       "      <td>4.886238e+09</td>\n",
       "      <td>3.860128e+09</td>\n",
       "    </tr>\n",
       "  </tbody>\n",
       "</table>\n",
       "</div>"
      ],
      "text/plain": [
       "             rev     cost_sale  sale_gen_adm    depr_amort         capex  \\\n",
       "34  1.229052e+10  4.818666e+09  3.959931e+09  3.280482e+08  2.388551e+08   \n",
       "35  1.221424e+10  4.788760e+09  3.935355e+09  3.250336e+08  2.366602e+08   \n",
       "36  1.731136e+10  6.787156e+09  5.577616e+09  3.220467e+08  2.344854e+08   \n",
       "37  1.866444e+10  7.317649e+09  6.013570e+09  3.190873e+08  2.323306e+08   \n",
       "38  1.820659e+10  7.138144e+09  5.866055e+09  3.161550e+08  2.301956e+08   \n",
       "\n",
       "         ppe_net        ebitda          ebit         nopat  \n",
       "34  9.616807e+09  3.511920e+09  3.183872e+09  2.515259e+09  \n",
       "35  9.528433e+09  3.490125e+09  3.165091e+09  2.500422e+09  \n",
       "36  9.440872e+09  4.946587e+09  4.624540e+09  3.653387e+09  \n",
       "37  9.354115e+09  5.333219e+09  5.014131e+09  3.961164e+09  \n",
       "38  9.268156e+09  5.202393e+09  4.886238e+09  3.860128e+09  "
      ]
     },
     "execution_count": 85,
     "metadata": {},
     "output_type": "execute_result"
    }
   ],
   "source": [
    "prediction = calculate_ebitda_ebit_nopat(prediction, eff_tax_rate)\n",
    "prediction.head()"
   ]
  },
  {
   "cell_type": "markdown",
   "metadata": {},
   "source": [
    "## 7. Function to plot Prediction vs Historical data\n",
    "\n",
    "See at the functions..."
   ]
  },
  {
   "cell_type": "markdown",
   "metadata": {},
   "source": [
    "## 8. Calculate Net Working Capital\n",
    "\n",
    "To get this we have to forecast the current assets and liabilities.\n",
    "I will use ratios to predict them:\n",
    "- Days Sales Outstanding (dso) --> (Account recivable / Revenue) * 360\n",
    "- Days Inventory Outstanding (dio) --> (Inventory / Cost of General Sale) * 360\n",
    "- Other current assets per revenue (oca_rev) --> Other current assets / revenue\n",
    "- Current liabilities per revenue (tcl_rec) --> (Total current liabilities - current debt) / revenue"
   ]
  },
  {
   "cell_type": "code",
   "execution_count": 86,
   "metadata": {},
   "outputs": [
    {
     "data": {
      "image/png": "[encoded data removed]",
      "text/plain": [
       "<Figure size 640x480 with 1 Axes>"
      ]
     },
     "metadata": {},
     "output_type": "display_data"
    },
    {
     "name": "stdout",
     "output_type": "stream",
     "text": [
      "DSO: 148.6377725395046\n"
     ]
    },
    {
     "data": {
      "image/png": "[encoded data removed]",
      "text/plain": [
       "<Figure size 640x480 with 1 Axes>"
      ]
     },
     "metadata": {},
     "output_type": "display_data"
    },
    {
     "name": "stdout",
     "output_type": "stream",
     "text": [
      "DIO: 305.010750042363\n"
     ]
    },
    {
     "data": {
      "image/png": "[encoded data removed]",
      "text/plain": [
       "<Figure size 640x480 with 1 Axes>"
      ]
     },
     "metadata": {},
     "output_type": "display_data"
    },
    {
     "name": "stdout",
     "output_type": "stream",
     "text": [
      "DPO: 1092.6510666134413\n"
     ]
    },
    {
     "data": {
      "image/png": "[encoded data removed]",
      "text/plain": [
       "<Figure size 640x480 with 1 Axes>"
      ]
     },
     "metadata": {},
     "output_type": "display_data"
    },
    {
     "name": "stdout",
     "output_type": "stream",
     "text": [
      "Sum Other Current Assets: 1.3359098188170575\n"
     ]
    },
    {
     "data": {
      "image/png": "[encoded data removed]",
      "text/plain": [
       "<Figure size 640x480 with 1 Axes>"
      ]
     },
     "metadata": {},
     "output_type": "display_data"
    },
    {
     "name": "stdout",
     "output_type": "stream",
     "text": [
      "Sum Other Current Liabilities per Rec 1.1320173919171388\n"
     ]
    }
   ],
   "source": [
    "nwc_ratios = calculate_nwc_ratios(data_filt)"
   ]
  },
  {
   "cell_type": "code",
   "execution_count": 87,
   "metadata": {},
   "outputs": [
    {
     "data": {
      "text/html": [
       "<div>\n",
       "<style scoped>\n",
       "    .dataframe tbody tr th:only-of-type {\n",
       "        vertical-align: middle;\n",
       "    }\n",
       "\n",
       "    .dataframe tbody tr th {\n",
       "        vertical-align: top;\n",
       "    }\n",
       "\n",
       "    .dataframe thead th {\n",
       "        text-align: right;\n",
       "    }\n",
       "</style>\n",
       "<table border=\"1\" class=\"dataframe\">\n",
       "  <thead>\n",
       "    <tr style=\"text-align: right;\">\n",
       "      <th></th>\n",
       "      <th>rev</th>\n",
       "      <th>cost_sale</th>\n",
       "      <th>sale_gen_adm</th>\n",
       "      <th>depr_amort</th>\n",
       "      <th>capex</th>\n",
       "      <th>ppe_net</th>\n",
       "      <th>ebitda</th>\n",
       "      <th>ebit</th>\n",
       "      <th>nopat</th>\n",
       "      <th>acc_rec</th>\n",
       "      <th>invent</th>\n",
       "      <th>acc_pay</th>\n",
       "      <th>other_curr_ass_lesscash</th>\n",
       "      <th>tot_curr_liab_lessdebt</th>\n",
       "      <th>nwc</th>\n",
       "    </tr>\n",
       "  </thead>\n",
       "  <tbody>\n",
       "    <tr>\n",
       "      <th>34</th>\n",
       "      <td>1.229052e+10</td>\n",
       "      <td>4.818666e+09</td>\n",
       "      <td>3.959931e+09</td>\n",
       "      <td>3.280482e+08</td>\n",
       "      <td>2.388551e+08</td>\n",
       "      <td>9.616807e+09</td>\n",
       "      <td>3.511920e+09</td>\n",
       "      <td>3.183872e+09</td>\n",
       "      <td>2.515259e+09</td>\n",
       "      <td>5.074542e+09</td>\n",
       "      <td>4.082625e+09</td>\n",
       "      <td>1.462533e+10</td>\n",
       "      <td>2.557619e+10</td>\n",
       "      <td>2.853841e+10</td>\n",
       "      <td>-2.962225e+09</td>\n",
       "    </tr>\n",
       "    <tr>\n",
       "      <th>35</th>\n",
       "      <td>1.221424e+10</td>\n",
       "      <td>4.788760e+09</td>\n",
       "      <td>3.935355e+09</td>\n",
       "      <td>3.250336e+08</td>\n",
       "      <td>2.366602e+08</td>\n",
       "      <td>9.528433e+09</td>\n",
       "      <td>3.490125e+09</td>\n",
       "      <td>3.165091e+09</td>\n",
       "      <td>2.500422e+09</td>\n",
       "      <td>5.043048e+09</td>\n",
       "      <td>4.057287e+09</td>\n",
       "      <td>1.453457e+10</td>\n",
       "      <td>2.541746e+10</td>\n",
       "      <td>2.836130e+10</td>\n",
       "      <td>-2.943840e+09</td>\n",
       "    </tr>\n",
       "    <tr>\n",
       "      <th>36</th>\n",
       "      <td>1.731136e+10</td>\n",
       "      <td>6.787156e+09</td>\n",
       "      <td>5.577616e+09</td>\n",
       "      <td>3.220467e+08</td>\n",
       "      <td>2.344854e+08</td>\n",
       "      <td>9.440872e+09</td>\n",
       "      <td>4.946587e+09</td>\n",
       "      <td>4.624540e+09</td>\n",
       "      <td>3.653387e+09</td>\n",
       "      <td>7.147561e+09</td>\n",
       "      <td>5.750432e+09</td>\n",
       "      <td>2.059998e+10</td>\n",
       "      <td>3.602441e+10</td>\n",
       "      <td>4.019674e+10</td>\n",
       "      <td>-4.172333e+09</td>\n",
       "    </tr>\n",
       "    <tr>\n",
       "      <th>37</th>\n",
       "      <td>1.866444e+10</td>\n",
       "      <td>7.317649e+09</td>\n",
       "      <td>6.013570e+09</td>\n",
       "      <td>3.190873e+08</td>\n",
       "      <td>2.323306e+08</td>\n",
       "      <td>9.354115e+09</td>\n",
       "      <td>5.333219e+09</td>\n",
       "      <td>5.014131e+09</td>\n",
       "      <td>3.961164e+09</td>\n",
       "      <td>7.706223e+09</td>\n",
       "      <td>6.199893e+09</td>\n",
       "      <td>2.221010e+10</td>\n",
       "      <td>3.884012e+10</td>\n",
       "      <td>4.333857e+10</td>\n",
       "      <td>-4.498448e+09</td>\n",
       "    </tr>\n",
       "    <tr>\n",
       "      <th>38</th>\n",
       "      <td>1.820659e+10</td>\n",
       "      <td>7.138144e+09</td>\n",
       "      <td>5.866055e+09</td>\n",
       "      <td>3.161550e+08</td>\n",
       "      <td>2.301956e+08</td>\n",
       "      <td>9.268156e+09</td>\n",
       "      <td>5.202393e+09</td>\n",
       "      <td>4.886238e+09</td>\n",
       "      <td>3.860128e+09</td>\n",
       "      <td>7.517187e+09</td>\n",
       "      <td>6.047807e+09</td>\n",
       "      <td>2.166528e+10</td>\n",
       "      <td>3.788736e+10</td>\n",
       "      <td>4.227546e+10</td>\n",
       "      <td>-4.388099e+09</td>\n",
       "    </tr>\n",
       "  </tbody>\n",
       "</table>\n",
       "</div>"
      ],
      "text/plain": [
       "             rev     cost_sale  sale_gen_adm    depr_amort         capex  \\\n",
       "34  1.229052e+10  4.818666e+09  3.959931e+09  3.280482e+08  2.388551e+08   \n",
       "35  1.221424e+10  4.788760e+09  3.935355e+09  3.250336e+08  2.366602e+08   \n",
       "36  1.731136e+10  6.787156e+09  5.577616e+09  3.220467e+08  2.344854e+08   \n",
       "37  1.866444e+10  7.317649e+09  6.013570e+09  3.190873e+08  2.323306e+08   \n",
       "38  1.820659e+10  7.138144e+09  5.866055e+09  3.161550e+08  2.301956e+08   \n",
       "\n",
       "         ppe_net        ebitda          ebit         nopat       acc_rec  \\\n",
       "34  9.616807e+09  3.511920e+09  3.183872e+09  2.515259e+09  5.074542e+09   \n",
       "35  9.528433e+09  3.490125e+09  3.165091e+09  2.500422e+09  5.043048e+09   \n",
       "36  9.440872e+09  4.946587e+09  4.624540e+09  3.653387e+09  7.147561e+09   \n",
       "37  9.354115e+09  5.333219e+09  5.014131e+09  3.961164e+09  7.706223e+09   \n",
       "38  9.268156e+09  5.202393e+09  4.886238e+09  3.860128e+09  7.517187e+09   \n",
       "\n",
       "          invent       acc_pay  other_curr_ass_lesscash  \\\n",
       "34  4.082625e+09  1.462533e+10             2.557619e+10   \n",
       "35  4.057287e+09  1.453457e+10             2.541746e+10   \n",
       "36  5.750432e+09  2.059998e+10             3.602441e+10   \n",
       "37  6.199893e+09  2.221010e+10             3.884012e+10   \n",
       "38  6.047807e+09  2.166528e+10             3.788736e+10   \n",
       "\n",
       "    tot_curr_liab_lessdebt           nwc  \n",
       "34            2.853841e+10 -2.962225e+09  \n",
       "35            2.836130e+10 -2.943840e+09  \n",
       "36            4.019674e+10 -4.172333e+09  \n",
       "37            4.333857e+10 -4.498448e+09  \n",
       "38            4.227546e+10 -4.388099e+09  "
      ]
     },
     "execution_count": 87,
     "metadata": {},
     "output_type": "execute_result"
    }
   ],
   "source": [
    "prediction = predict_curr_ass_liab(prediction, nwc_ratios)\n",
    "prediction.head()"
   ]
  },
  {
   "cell_type": "markdown",
   "metadata": {},
   "source": [
    "## 9. Change in NWC"
   ]
  },
  {
   "cell_type": "code",
   "execution_count": 88,
   "metadata": {},
   "outputs": [],
   "source": [
    "prediction = calc_change_nwc(data_filt, prediction)\n",
    "data_filt = calc_change_nwc(data_filt, data_filt)"
   ]
  },
  {
   "cell_type": "code",
   "execution_count": 89,
   "metadata": {},
   "outputs": [],
   "source": [
    "prediction = calc_unleveared_fcf(prediction)\n",
    "data_filt = calc_unleveared_fcf(data_filt)"
   ]
  },
  {
   "cell_type": "markdown",
   "metadata": {},
   "source": [
    "## 10. Calculate Weighted Average Cost of Capital (WACC)"
   ]
  },
  {
   "cell_type": "code",
   "execution_count": 90,
   "metadata": {},
   "outputs": [
    {
     "name": "stdout",
     "output_type": "stream",
     "text": [
      "Estimated WACC value: 0.06519669873844648\n"
     ]
    }
   ],
   "source": [
    "wacc = calculate_wacc(\n",
    "    df=data_filt,\n",
    "    share_price=share_price,\n",
    "    eff_tax_rate=eff_tax_rate,\n",
    "    us_bond_10_yr=us_bond_10_yr,\n",
    "    equity_risk_premium=equity_risk_premium,\n",
    "    beta=beta)\n",
    "\n",
    "print('Estimated WACC value:', wacc)"
   ]
  },
  {
   "cell_type": "markdown",
   "metadata": {},
   "source": [
    "## 11. Present value of FCF, Terminal Value & present value of TV"
   ]
  },
  {
   "cell_type": "code",
   "execution_count": 91,
   "metadata": {},
   "outputs": [
    {
     "data": {
      "text/html": [
       "<div>\n",
       "<style scoped>\n",
       "    .dataframe tbody tr th:only-of-type {\n",
       "        vertical-align: middle;\n",
       "    }\n",
       "\n",
       "    .dataframe tbody tr th {\n",
       "        vertical-align: top;\n",
       "    }\n",
       "\n",
       "    .dataframe thead th {\n",
       "        text-align: right;\n",
       "    }\n",
       "</style>\n",
       "<table border=\"1\" class=\"dataframe\">\n",
       "  <thead>\n",
       "    <tr style=\"text-align: right;\">\n",
       "      <th></th>\n",
       "      <th>rev</th>\n",
       "      <th>cost_sale</th>\n",
       "      <th>sale_gen_adm</th>\n",
       "      <th>depr_amort</th>\n",
       "      <th>capex</th>\n",
       "      <th>ppe_net</th>\n",
       "      <th>ebitda</th>\n",
       "      <th>ebit</th>\n",
       "      <th>nopat</th>\n",
       "      <th>acc_rec</th>\n",
       "      <th>invent</th>\n",
       "      <th>acc_pay</th>\n",
       "      <th>other_curr_ass_lesscash</th>\n",
       "      <th>tot_curr_liab_lessdebt</th>\n",
       "      <th>nwc</th>\n",
       "      <th>c_nwc</th>\n",
       "      <th>unlev_fcf</th>\n",
       "      <th>pres_val_fcf</th>\n",
       "    </tr>\n",
       "  </thead>\n",
       "  <tbody>\n",
       "    <tr>\n",
       "      <th>50</th>\n",
       "      <td>2.032866e+10</td>\n",
       "      <td>7.970129e+09</td>\n",
       "      <td>6.549772e+09</td>\n",
       "      <td>2.830006e+08</td>\n",
       "      <td>2.060555e+08</td>\n",
       "      <td>8.296227e+09</td>\n",
       "      <td>5.808757e+09</td>\n",
       "      <td>5.525756e+09</td>\n",
       "      <td>4.365347e+09</td>\n",
       "      <td>8.393351e+09</td>\n",
       "      <td>6.752709e+09</td>\n",
       "      <td>2.419047e+10</td>\n",
       "      <td>4.230331e+10</td>\n",
       "      <td>4.720287e+10</td>\n",
       "      <td>-4.899554e+09</td>\n",
       "      <td>1.193127e+08</td>\n",
       "      <td>4.322980e+09</td>\n",
       "      <td>1.962956e+09</td>\n",
       "    </tr>\n",
       "    <tr>\n",
       "      <th>51</th>\n",
       "      <td>2.032882e+10</td>\n",
       "      <td>7.970191e+09</td>\n",
       "      <td>6.549823e+09</td>\n",
       "      <td>2.804000e+08</td>\n",
       "      <td>2.041620e+08</td>\n",
       "      <td>8.219989e+09</td>\n",
       "      <td>5.808802e+09</td>\n",
       "      <td>5.528402e+09</td>\n",
       "      <td>4.367438e+09</td>\n",
       "      <td>8.393416e+09</td>\n",
       "      <td>6.752761e+09</td>\n",
       "      <td>2.419066e+10</td>\n",
       "      <td>4.230364e+10</td>\n",
       "      <td>4.720323e+10</td>\n",
       "      <td>-4.899592e+09</td>\n",
       "      <td>-3.808725e+04</td>\n",
       "      <td>4.443714e+09</td>\n",
       "      <td>1.986168e+09</td>\n",
       "    </tr>\n",
       "    <tr>\n",
       "      <th>52</th>\n",
       "      <td>2.021562e+10</td>\n",
       "      <td>7.925812e+09</td>\n",
       "      <td>6.513352e+09</td>\n",
       "      <td>2.778233e+08</td>\n",
       "      <td>2.022859e+08</td>\n",
       "      <td>8.144452e+09</td>\n",
       "      <td>5.776458e+09</td>\n",
       "      <td>5.498634e+09</td>\n",
       "      <td>4.343921e+09</td>\n",
       "      <td>8.346680e+09</td>\n",
       "      <td>6.715161e+09</td>\n",
       "      <td>2.405596e+10</td>\n",
       "      <td>4.206809e+10</td>\n",
       "      <td>4.694040e+10</td>\n",
       "      <td>-4.872310e+09</td>\n",
       "      <td>2.728176e+07</td>\n",
       "      <td>4.392177e+09</td>\n",
       "      <td>1.932379e+09</td>\n",
       "    </tr>\n",
       "    <tr>\n",
       "      <th>53</th>\n",
       "      <td>2.137831e+10</td>\n",
       "      <td>8.381658e+09</td>\n",
       "      <td>6.887962e+09</td>\n",
       "      <td>2.752702e+08</td>\n",
       "      <td>2.004270e+08</td>\n",
       "      <td>8.069609e+09</td>\n",
       "      <td>6.108686e+09</td>\n",
       "      <td>5.833416e+09</td>\n",
       "      <td>4.608398e+09</td>\n",
       "      <td>8.826733e+09</td>\n",
       "      <td>7.101378e+09</td>\n",
       "      <td>2.543952e+10</td>\n",
       "      <td>4.448760e+10</td>\n",
       "      <td>4.964014e+10</td>\n",
       "      <td>-5.152537e+09</td>\n",
       "      <td>-2.802270e+08</td>\n",
       "      <td>4.963469e+09</td>\n",
       "      <td>2.149514e+09</td>\n",
       "    </tr>\n",
       "    <tr>\n",
       "      <th>54</th>\n",
       "      <td>2.087875e+10</td>\n",
       "      <td>8.185800e+09</td>\n",
       "      <td>6.727008e+09</td>\n",
       "      <td>2.727406e+08</td>\n",
       "      <td>1.985851e+08</td>\n",
       "      <td>7.995453e+09</td>\n",
       "      <td>5.965941e+09</td>\n",
       "      <td>5.693201e+09</td>\n",
       "      <td>4.497629e+09</td>\n",
       "      <td>8.620475e+09</td>\n",
       "      <td>6.935436e+09</td>\n",
       "      <td>2.484507e+10</td>\n",
       "      <td>4.344804e+10</td>\n",
       "      <td>4.848017e+10</td>\n",
       "      <td>-5.032135e+09</td>\n",
       "      <td>1.204017e+08</td>\n",
       "      <td>4.451382e+09</td>\n",
       "      <td>1.897547e+09</td>\n",
       "    </tr>\n",
       "  </tbody>\n",
       "</table>\n",
       "</div>"
      ],
      "text/plain": [
       "             rev     cost_sale  sale_gen_adm    depr_amort         capex  \\\n",
       "50  2.032866e+10  7.970129e+09  6.549772e+09  2.830006e+08  2.060555e+08   \n",
       "51  2.032882e+10  7.970191e+09  6.549823e+09  2.804000e+08  2.041620e+08   \n",
       "52  2.021562e+10  7.925812e+09  6.513352e+09  2.778233e+08  2.022859e+08   \n",
       "53  2.137831e+10  8.381658e+09  6.887962e+09  2.752702e+08  2.004270e+08   \n",
       "54  2.087875e+10  8.185800e+09  6.727008e+09  2.727406e+08  1.985851e+08   \n",
       "\n",
       "         ppe_net        ebitda          ebit         nopat       acc_rec  \\\n",
       "50  8.296227e+09  5.808757e+09  5.525756e+09  4.365347e+09  8.393351e+09   \n",
       "51  8.219989e+09  5.808802e+09  5.528402e+09  4.367438e+09  8.393416e+09   \n",
       "52  8.144452e+09  5.776458e+09  5.498634e+09  4.343921e+09  8.346680e+09   \n",
       "53  8.069609e+09  6.108686e+09  5.833416e+09  4.608398e+09  8.826733e+09   \n",
       "54  7.995453e+09  5.965941e+09  5.693201e+09  4.497629e+09  8.620475e+09   \n",
       "\n",
       "          invent       acc_pay  other_curr_ass_lesscash  \\\n",
       "50  6.752709e+09  2.419047e+10             4.230331e+10   \n",
       "51  6.752761e+09  2.419066e+10             4.230364e+10   \n",
       "52  6.715161e+09  2.405596e+10             4.206809e+10   \n",
       "53  7.101378e+09  2.543952e+10             4.448760e+10   \n",
       "54  6.935436e+09  2.484507e+10             4.344804e+10   \n",
       "\n",
       "    tot_curr_liab_lessdebt           nwc         c_nwc     unlev_fcf  \\\n",
       "50            4.720287e+10 -4.899554e+09  1.193127e+08  4.322980e+09   \n",
       "51            4.720323e+10 -4.899592e+09 -3.808725e+04  4.443714e+09   \n",
       "52            4.694040e+10 -4.872310e+09  2.728176e+07  4.392177e+09   \n",
       "53            4.964014e+10 -5.152537e+09 -2.802270e+08  4.963469e+09   \n",
       "54            4.848017e+10 -5.032135e+09  1.204017e+08  4.451382e+09   \n",
       "\n",
       "    pres_val_fcf  \n",
       "50  1.962956e+09  \n",
       "51  1.986168e+09  \n",
       "52  1.932379e+09  \n",
       "53  2.149514e+09  \n",
       "54  1.897547e+09  "
      ]
     },
     "execution_count": 91,
     "metadata": {},
     "output_type": "execute_result"
    }
   ],
   "source": [
    "prediction = calculate_present_value_fcf(prediction, wacc=wacc, report=form)\n",
    "prediction.tail()"
   ]
  },
  {
   "cell_type": "markdown",
   "metadata": {},
   "source": [
    "## 12. Terminal Value and present value of TV\n",
    "\n",
    "I use the perpetuity growth model"
   ]
  },
  {
   "cell_type": "code",
   "execution_count": 92,
   "metadata": {},
   "outputs": [
    {
     "data": {
      "text/plain": [
       "98458225445.62045"
      ]
     },
     "execution_count": 92,
     "metadata": {},
     "output_type": "execute_result"
    }
   ],
   "source": [
    "tv, pres_value_tv = calculate_tv_prestv_enterp_val(prediction, industry_growth_rate, wacc)\n",
    "pres_value_tv"
   ]
  },
  {
   "cell_type": "code",
   "execution_count": 93,
   "metadata": {},
   "outputs": [
    {
     "name": "stdout",
     "output_type": "stream",
     "text": [
      "136375030094.86249 112142030094.86249\n"
     ]
    }
   ],
   "source": [
    "enterp_val, equity_value = calc_enterp_company_value(data_filt, prediction, pres_value_tv)"
   ]
  },
  {
   "cell_type": "code",
   "execution_count": 94,
   "metadata": {},
   "outputs": [
    {
     "name": "stdout",
     "output_type": "stream",
     "text": [
      "Current adjusted share price: 25.83322508520214\n"
     ]
    }
   ],
   "source": [
    "# adjusted with debt, cash, equity in minor interest\n",
    "fcst_share_price_adjusted = implied_share_price(equity_value, data_filt)\n",
    "print('Current adjusted share price:', fcst_share_price_adjusted)"
   ]
  },
  {
   "cell_type": "code",
   "execution_count": 95,
   "metadata": {},
   "outputs": [
    {
     "name": "stdout",
     "output_type": "stream",
     "text": [
      "Current share price (not adjusted): 31.415579381447245\n"
     ]
    }
   ],
   "source": [
    "fcst_share_price = implied_share_price(enterp_val, data_filt)\n",
    "print('Current share price (not adjusted):', fcst_share_price)"
   ]
  },
  {
   "cell_type": "code",
   "execution_count": 96,
   "metadata": {},
   "outputs": [],
   "source": [
    "#plot_hist_pred(data_filt, prediction)"
   ]
  }
 ],
 "metadata": {
  "kernelspec": {
   "display_name": ".venv",
   "language": "python",
   "name": "python3"
  },
  "language_info": {
   "codemirror_mode": {
    "name": "ipython",
    "version": 3
   },
   "file_extension": ".py",
   "mimetype": "text/x-python",
   "name": "python",
   "nbconvert_exporter": "python",
   "pygments_lexer": "ipython3",
   "version": "3.11.3"
  },
  "orig_nbformat": 4
 },
 "nbformat": 4,
 "nbformat_minor": 2
}
