{
 "cells": [
  {
   "cell_type": "code",
   "execution_count": null,
   "id": "19497aed",
   "metadata": {
    "execution": {
     "iopub.execute_input": "2024-04-12T15:00:04.375726Z",
     "iopub.status.busy": "2024-04-12T15:00:04.375210Z",
     "iopub.status.idle": "2024-04-12T15:00:05.109148Z",
     "shell.execute_reply": "2024-04-12T15:00:05.108881Z"
    },
    "papermill": {
     "duration": 0.760168,
     "end_time": "2024-04-12T15:00:05.110461",
     "exception": false,
     "start_time": "2024-04-12T15:00:04.350293",
     "status": "completed"
    },
    "tags": []
   },
   "outputs": [],
   "source": [
    "import datetime\n",
    "from valueinvesting import utils as utils"
   ]
  },
  {
   "cell_type": "code",
   "execution_count": null,
   "id": "406fcaeb",
   "metadata": {},
   "outputs": [],
   "source": [
    "stock_data = utils.get_country_stocks(country='norway')"
   ]
  },
  {
   "cell_type": "code",
   "execution_count": null,
   "id": "e5f2eda6",
   "metadata": {},
   "outputs": [],
   "source": [
    "result = utils.create_summary_value_table(input=stock_data)"
   ]
  },
  {
   "cell_type": "code",
   "execution_count": null,
   "id": "877d52bc",
   "metadata": {},
   "outputs": [],
   "source": [
    "export_path = f\"../data/output/countries/norway_{datetime.date.today().isocalendar().year}_week_{datetime.date.today().isocalendar().week}.csv\"\n",
    "# export csv file\n",
    "result.to_csv(\n",
    "   path_or_buf=export_path,\n",
    "   index=False,\n",
    "   mode='x' # deffend the generated csv from overwriting\n",
    ")"
   ]
  }
 ],
 "metadata": {
  "kernelspec": {
   "display_name": ".venv",
   "language": "python",
   "name": "python3"
  },
  "language_info": {
   "codemirror_mode": {
    "name": "ipython",
    "version": 3
   },
   "file_extension": ".py",
   "mimetype": "text/x-python",
   "name": "python",
   "nbconvert_exporter": "python",
   "pygments_lexer": "ipython3",
   "version": "3.11.3"
  },
  "papermill": {
   "default_parameters": {},
   "duration": 17.423892,
   "end_time": "2024-04-12T15:00:20.912344",
   "environment_variables": {},
   "exception": null,
   "input_path": "../notebooks/austevoll_national.ipynb",
   "output_path": "../notebooks/austevoll_national.ipynb",
   "parameters": {},
   "start_time": "2024-04-12T15:00:03.488452",
   "version": "2.5.0"
  }
 },
 "nbformat": 4,
 "nbformat_minor": 5
}
