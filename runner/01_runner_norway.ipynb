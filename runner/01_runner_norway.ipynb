{
 "cells": [
  {
   "cell_type": "code",
   "execution_count": 1,
   "id": "19497aed",
   "metadata": {
    "execution": {
     "iopub.execute_input": "2024-04-12T15:00:04.375726Z",
     "iopub.status.busy": "2024-04-12T15:00:04.375210Z",
     "iopub.status.idle": "2024-04-12T15:00:05.109148Z",
     "shell.execute_reply": "2024-04-12T15:00:05.108881Z"
    },
    "papermill": {
     "duration": 0.760168,
     "end_time": "2024-04-12T15:00:05.110461",
     "exception": false,
     "start_time": "2024-04-12T15:00:04.350293",
     "status": "completed"
    },
    "tags": []
   },
   "outputs": [],
   "source": [
    "import datetime\n",
    "from valueinvesting import utils as utils"
   ]
  },
  {
   "cell_type": "code",
   "execution_count": 2,
   "id": "406fcaeb",
   "metadata": {},
   "outputs": [],
   "source": [
    "stock_data = utils.get_country_stocks(country='norway')"
   ]
  },
  {
   "cell_type": "code",
   "execution_count": 3,
   "id": "e5f2eda6",
   "metadata": {},
   "outputs": [
    {
     "name": "stdout",
     "output_type": "stream",
     "text": [
      "AFG.OL has been finished successfuly!\n",
      "AKRBP.OL has been finished successfuly!\n",
      "ATEA.OL has been finished successfuly!\n",
      "AUSS.OL has been finished successfuly!\n",
      "BONHR.OL has been finished successfuly!\n",
      "BRG.OL has been finished successfuly!\n",
      "DNO.OL has been finished successfuly!\n",
      "EPR.OL has been finished successfuly!\n",
      "EQNR.OL has been finished successfuly!\n",
      "GSF.OL has been finished successfuly!\n",
      "KOG.OL has been finished successfuly!\n",
      "MOWI.OL has been finished successfuly!\n",
      "NHY.OL has been finished successfuly!\n",
      "NOD.OL has been finished successfuly!\n",
      "ORK.OL has been finished successfuly!\n",
      "SALM.OL has been finished successfuly!\n",
      "SCATC.OL has been finished successfuly!\n",
      "TGS.OL has been finished successfuly!\n",
      "VEI.OL has been finished successfuly!\n",
      "WAWI.OL has been finished successfuly!\n",
      "WWI.OL has been finished successfuly!\n",
      "YAR.OL has been finished successfuly!\n"
     ]
    }
   ],
   "source": [
    "result = utils.create_summary_value_table(input=stock_data)"
   ]
  },
  {
   "cell_type": "code",
   "execution_count": 4,
   "id": "877d52bc",
   "metadata": {},
   "outputs": [],
   "source": [
    "export_path = f\"../data/output/countries/norway_{datetime.date.today().isocalendar().year}_week_{datetime.date.today().isocalendar().week}.csv\"\n",
    "# export csv file\n",
    "result.to_csv(\n",
    "   path_or_buf=export_path,\n",
    "   index=False,\n",
    "   mode='x' # deffend the generated csv from overwriting\n",
    ")"
   ]
  }
 ],
 "metadata": {
  "kernelspec": {
   "display_name": "venv",
   "language": "python",
   "name": "python3"
  },
  "language_info": {
   "codemirror_mode": {
    "name": "ipython",
    "version": 3
   },
   "file_extension": ".py",
   "mimetype": "text/x-python",
   "name": "python",
   "nbconvert_exporter": "python",
   "pygments_lexer": "ipython3",
   "version": "3.11.3"
  },
  "papermill": {
   "default_parameters": {},
   "duration": 17.423892,
   "end_time": "2024-04-12T15:00:20.912344",
   "environment_variables": {},
   "exception": null,
   "input_path": "../notebooks/austevoll_national.ipynb",
   "output_path": "../notebooks/austevoll_national.ipynb",
   "parameters": {},
   "start_time": "2024-04-12T15:00:03.488452",
   "version": "2.5.0"
  }
 },
 "nbformat": 4,
 "nbformat_minor": 5
}
